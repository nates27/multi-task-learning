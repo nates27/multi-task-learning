{
  "metadata": {
    "kernelspec": {
      "language": "python",
      "display_name": "Python 3",
      "name": "python3"
    },
    "language_info": {
      "name": "python",
      "version": "3.7.12",
      "mimetype": "text/x-python",
      "codemirror_mode": {
        "name": "ipython",
        "version": 3
      },
      "pygments_lexer": "ipython3",
      "nbconvert_exporter": "python",
      "file_extension": ".py"
    },
    "colab": {
      "provenance": [],
      "gpuType": "T4",
      "include_colab_link": true
    },
    "accelerator": "GPU",
    "gpuClass": "standard"
  },
  "nbformat_minor": 0,
  "nbformat": 4,
  "cells": [
    {
      "cell_type": "markdown",
      "metadata": {
        "id": "view-in-github",
        "colab_type": "text"
      },
      "source": [
        "<a href=\"https://colab.research.google.com/github/nates27/multi-task-learning/blob/main/bt5151_gp_npk.ipynb\" target=\"_parent\"><img src=\"https://colab.research.google.com/assets/colab-badge.svg\" alt=\"Open In Colab\"/></a>"
      ]
    },
    {
      "cell_type": "code",
      "source": [
        "from google.colab import drive\n",
        "drive.mount('/content/drive')"
      ],
      "metadata": {
        "colab": {
          "base_uri": "https://localhost:8080/"
        },
        "id": "qaVLEcNhFTcC",
        "outputId": "dcbdcc69-f5e5-462d-9cef-e66a95922b26"
      },
      "execution_count": 1,
      "outputs": [
        {
          "output_type": "stream",
          "name": "stdout",
          "text": [
            "Drive already mounted at /content/drive; to attempt to forcibly remount, call drive.mount(\"/content/drive\", force_remount=True).\n"
          ]
        }
      ]
    },
    {
      "cell_type": "code",
      "source": [
        "pip install transformers"
      ],
      "metadata": {
        "colab": {
          "base_uri": "https://localhost:8080/"
        },
        "id": "w5d49lbEGAM3",
        "outputId": "b9250bb0-2d31-44b6-e222-a63df2437cc8"
      },
      "execution_count": 2,
      "outputs": [
        {
          "output_type": "stream",
          "name": "stdout",
          "text": [
            "Looking in indexes: https://pypi.org/simple, https://us-python.pkg.dev/colab-wheels/public/simple/\n",
            "Requirement already satisfied: transformers in /usr/local/lib/python3.9/dist-packages (4.27.4)\n",
            "Requirement already satisfied: pyyaml>=5.1 in /usr/local/lib/python3.9/dist-packages (from transformers) (6.0)\n",
            "Requirement already satisfied: requests in /usr/local/lib/python3.9/dist-packages (from transformers) (2.27.1)\n",
            "Requirement already satisfied: regex!=2019.12.17 in /usr/local/lib/python3.9/dist-packages (from transformers) (2022.10.31)\n",
            "Requirement already satisfied: tqdm>=4.27 in /usr/local/lib/python3.9/dist-packages (from transformers) (4.65.0)\n",
            "Requirement already satisfied: huggingface-hub<1.0,>=0.11.0 in /usr/local/lib/python3.9/dist-packages (from transformers) (0.13.4)\n",
            "Requirement already satisfied: tokenizers!=0.11.3,<0.14,>=0.11.1 in /usr/local/lib/python3.9/dist-packages (from transformers) (0.13.3)\n",
            "Requirement already satisfied: packaging>=20.0 in /usr/local/lib/python3.9/dist-packages (from transformers) (23.0)\n",
            "Requirement already satisfied: filelock in /usr/local/lib/python3.9/dist-packages (from transformers) (3.10.7)\n",
            "Requirement already satisfied: numpy>=1.17 in /usr/local/lib/python3.9/dist-packages (from transformers) (1.22.4)\n",
            "Requirement already satisfied: typing-extensions>=3.7.4.3 in /usr/local/lib/python3.9/dist-packages (from huggingface-hub<1.0,>=0.11.0->transformers) (4.5.0)\n",
            "Requirement already satisfied: idna<4,>=2.5 in /usr/local/lib/python3.9/dist-packages (from requests->transformers) (3.4)\n",
            "Requirement already satisfied: charset-normalizer~=2.0.0 in /usr/local/lib/python3.9/dist-packages (from requests->transformers) (2.0.12)\n",
            "Requirement already satisfied: urllib3<1.27,>=1.21.1 in /usr/local/lib/python3.9/dist-packages (from requests->transformers) (1.26.15)\n",
            "Requirement already satisfied: certifi>=2017.4.17 in /usr/local/lib/python3.9/dist-packages (from requests->transformers) (2022.12.7)\n"
          ]
        }
      ]
    },
    {
      "cell_type": "code",
      "source": [
        "pip install sentencepiece"
      ],
      "metadata": {
        "colab": {
          "base_uri": "https://localhost:8080/"
        },
        "id": "DMYyT65HLkrM",
        "outputId": "1c2c6da2-f8c0-4ff8-de07-6e641b66d16f"
      },
      "execution_count": 3,
      "outputs": [
        {
          "output_type": "stream",
          "name": "stdout",
          "text": [
            "Looking in indexes: https://pypi.org/simple, https://us-python.pkg.dev/colab-wheels/public/simple/\n",
            "Requirement already satisfied: sentencepiece in /usr/local/lib/python3.9/dist-packages (0.1.97)\n"
          ]
        }
      ]
    },
    {
      "cell_type": "code",
      "source": [
        "pip install evaluate"
      ],
      "metadata": {
        "colab": {
          "base_uri": "https://localhost:8080/"
        },
        "id": "cG9bsrB67WKM",
        "outputId": "f87e38a4-9bb7-441a-cb33-d9c3a3b3255a"
      },
      "execution_count": 4,
      "outputs": [
        {
          "output_type": "stream",
          "name": "stdout",
          "text": [
            "Looking in indexes: https://pypi.org/simple, https://us-python.pkg.dev/colab-wheels/public/simple/\n",
            "Requirement already satisfied: evaluate in /usr/local/lib/python3.9/dist-packages (0.4.0)\n",
            "Requirement already satisfied: huggingface-hub>=0.7.0 in /usr/local/lib/python3.9/dist-packages (from evaluate) (0.13.4)\n",
            "Requirement already satisfied: responses<0.19 in /usr/local/lib/python3.9/dist-packages (from evaluate) (0.18.0)\n",
            "Requirement already satisfied: xxhash in /usr/local/lib/python3.9/dist-packages (from evaluate) (3.2.0)\n",
            "Requirement already satisfied: requests>=2.19.0 in /usr/local/lib/python3.9/dist-packages (from evaluate) (2.27.1)\n",
            "Requirement already satisfied: tqdm>=4.62.1 in /usr/local/lib/python3.9/dist-packages (from evaluate) (4.65.0)\n",
            "Requirement already satisfied: pandas in /usr/local/lib/python3.9/dist-packages (from evaluate) (1.4.4)\n",
            "Requirement already satisfied: dill in /usr/local/lib/python3.9/dist-packages (from evaluate) (0.3.6)\n",
            "Requirement already satisfied: multiprocess in /usr/local/lib/python3.9/dist-packages (from evaluate) (0.70.14)\n",
            "Requirement already satisfied: fsspec[http]>=2021.05.0 in /usr/local/lib/python3.9/dist-packages (from evaluate) (2023.3.0)\n",
            "Requirement already satisfied: numpy>=1.17 in /usr/local/lib/python3.9/dist-packages (from evaluate) (1.22.4)\n",
            "Requirement already satisfied: datasets>=2.0.0 in /usr/local/lib/python3.9/dist-packages (from evaluate) (2.11.0)\n",
            "Requirement already satisfied: packaging in /usr/local/lib/python3.9/dist-packages (from evaluate) (23.0)\n",
            "Requirement already satisfied: pyarrow>=8.0.0 in /usr/local/lib/python3.9/dist-packages (from datasets>=2.0.0->evaluate) (9.0.0)\n",
            "Requirement already satisfied: aiohttp in /usr/local/lib/python3.9/dist-packages (from datasets>=2.0.0->evaluate) (3.8.4)\n",
            "Requirement already satisfied: pyyaml>=5.1 in /usr/local/lib/python3.9/dist-packages (from datasets>=2.0.0->evaluate) (6.0)\n",
            "Requirement already satisfied: typing-extensions>=3.7.4.3 in /usr/local/lib/python3.9/dist-packages (from huggingface-hub>=0.7.0->evaluate) (4.5.0)\n",
            "Requirement already satisfied: filelock in /usr/local/lib/python3.9/dist-packages (from huggingface-hub>=0.7.0->evaluate) (3.10.7)\n",
            "Requirement already satisfied: charset-normalizer~=2.0.0 in /usr/local/lib/python3.9/dist-packages (from requests>=2.19.0->evaluate) (2.0.12)\n",
            "Requirement already satisfied: certifi>=2017.4.17 in /usr/local/lib/python3.9/dist-packages (from requests>=2.19.0->evaluate) (2022.12.7)\n",
            "Requirement already satisfied: urllib3<1.27,>=1.21.1 in /usr/local/lib/python3.9/dist-packages (from requests>=2.19.0->evaluate) (1.26.15)\n",
            "Requirement already satisfied: idna<4,>=2.5 in /usr/local/lib/python3.9/dist-packages (from requests>=2.19.0->evaluate) (3.4)\n",
            "Requirement already satisfied: python-dateutil>=2.8.1 in /usr/local/lib/python3.9/dist-packages (from pandas->evaluate) (2.8.2)\n",
            "Requirement already satisfied: pytz>=2020.1 in /usr/local/lib/python3.9/dist-packages (from pandas->evaluate) (2022.7.1)\n",
            "Requirement already satisfied: async-timeout<5.0,>=4.0.0a3 in /usr/local/lib/python3.9/dist-packages (from aiohttp->datasets>=2.0.0->evaluate) (4.0.2)\n",
            "Requirement already satisfied: multidict<7.0,>=4.5 in /usr/local/lib/python3.9/dist-packages (from aiohttp->datasets>=2.0.0->evaluate) (6.0.4)\n",
            "Requirement already satisfied: aiosignal>=1.1.2 in /usr/local/lib/python3.9/dist-packages (from aiohttp->datasets>=2.0.0->evaluate) (1.3.1)\n",
            "Requirement already satisfied: frozenlist>=1.1.1 in /usr/local/lib/python3.9/dist-packages (from aiohttp->datasets>=2.0.0->evaluate) (1.3.3)\n",
            "Requirement already satisfied: yarl<2.0,>=1.0 in /usr/local/lib/python3.9/dist-packages (from aiohttp->datasets>=2.0.0->evaluate) (1.8.2)\n",
            "Requirement already satisfied: attrs>=17.3.0 in /usr/local/lib/python3.9/dist-packages (from aiohttp->datasets>=2.0.0->evaluate) (22.2.0)\n",
            "Requirement already satisfied: six>=1.5 in /usr/local/lib/python3.9/dist-packages (from python-dateutil>=2.8.1->pandas->evaluate) (1.16.0)\n"
          ]
        }
      ]
    },
    {
      "cell_type": "markdown",
      "source": [
        "# Imports and Classes #"
      ],
      "metadata": {
        "id": "msMc7AY-F6rh"
      }
    },
    {
      "cell_type": "code",
      "source": [
        "import numpy as np # linear algebra\n",
        "import pandas as pd # data processing, CSV file I/O (e.g. pd.read_csv)"
      ],
      "metadata": {
        "_uuid": "8f2839f25d086af736a60e9eeb907d3b93b6e0e5",
        "_cell_guid": "b1076dfc-b9ad-4769-8c92-a6c4dae69d19",
        "execution": {
          "iopub.status.busy": "2023-04-05T13:56:02.165309Z",
          "iopub.execute_input": "2023-04-05T13:56:02.165872Z",
          "iopub.status.idle": "2023-04-05T13:56:02.178171Z",
          "shell.execute_reply.started": "2023-04-05T13:56:02.165825Z",
          "shell.execute_reply": "2023-04-05T13:56:02.176753Z"
        },
        "trusted": true,
        "id": "dHK-we3FFKQS"
      },
      "execution_count": 5,
      "outputs": []
    },
    {
      "cell_type": "code",
      "source": [
        "import matplotlib.pyplot as plt\n",
        "import re\n",
        "from collections import OrderedDict\n",
        "import torch\n",
        "import transformers\n",
        "from transformers import AlbertTokenizer, AlbertModel, DistilBertTokenizer, DistilBertModel, RobertaTokenizer, RobertaModel\n",
        "from torch.utils.data import Dataset, DataLoader\n",
        "from torch import cuda\n",
        "from tqdm import tqdm\n",
        "from sklearn.metrics import classification_report, f1_score, accuracy_score, confusion_matrix, ConfusionMatrixDisplay\n",
        "from sklearn.model_selection import train_test_split\n",
        "device = 'cuda' if cuda.is_available() else 'cpu'"
      ],
      "metadata": {
        "execution": {
          "iopub.status.busy": "2023-04-05T13:56:02.180556Z",
          "iopub.execute_input": "2023-04-05T13:56:02.181744Z",
          "iopub.status.idle": "2023-04-05T13:56:02.193576Z",
          "shell.execute_reply.started": "2023-04-05T13:56:02.181687Z",
          "shell.execute_reply": "2023-04-05T13:56:02.191788Z"
        },
        "trusted": true,
        "id": "mo2sHhRlFKQX"
      },
      "execution_count": 6,
      "outputs": []
    },
    {
      "cell_type": "markdown",
      "source": [
        "### Neural Network ###"
      ],
      "metadata": {
        "id": "T5_o27jvcncD"
      }
    },
    {
      "cell_type": "code",
      "source": [
        "# class NetMultiTask(torch.nn.Module):\n",
        "#     def __init__(self):\n",
        "#         super(NetMultiTask, self).__init__()\n",
        "#         self.net = AlbertModel.from_pretrained(\"albert-base-v2\")\n",
        "        \n",
        "#         self.pre_classifier1 = torch.nn.Linear(768, 768)\n",
        "#         self.dropout1 = torch.nn.Dropout(0.2)\n",
        "#         self.classifier1 = torch.nn.Linear(768, 2)\n",
        "        \n",
        "#         self.pre_classifier2 = torch.nn.Linear(768, 768)\n",
        "#         self.dropout2 = torch.nn.Dropout(0.2)\n",
        "#         self.classifier2 = torch.nn.Linear(768, 3)\n",
        "\n",
        "#     def forward(self, input_ids, attention_mask, token_type_ids, task_id):\n",
        "#         output_1 = self.net(input_ids=input_ids, attention_mask=attention_mask, token_type_ids=token_type_ids)\n",
        "#         hidden_state = output_1[0]\n",
        "#         pooler = hidden_state[:, 0]\n",
        "#         if task_id == 1:\n",
        "#           pooler = self.pre_classifier1(pooler)\n",
        "#           pooler = torch.nn.ReLU()(pooler)\n",
        "#           pooler = self.dropout1(pooler)\n",
        "#           output = self.classifier1(pooler)\n",
        "#         elif task_id == 2:\n",
        "#           pooler = self.pre_classifier2(pooler)\n",
        "#           pooler = torch.nn.ReLU()(pooler)\n",
        "#           pooler = self.dropout2(pooler)\n",
        "#           output = self.classifier2(pooler)\n",
        "#         else:\n",
        "#             assert False, 'Bad Task ID passed'\n",
        "#         return output"
      ],
      "metadata": {
        "id": "S-ETSUhzcmO-"
      },
      "execution_count": 7,
      "outputs": []
    },
    {
      "cell_type": "code",
      "source": [
        "# class NetMultiTask(torch.nn.Module):\n",
        "#     def __init__(self):\n",
        "#         super(NetMultiTask, self).__init__()\n",
        "#         self.net = AlbertModel.from_pretrained(\"albert-large-v2\")\n",
        "        \n",
        "#         self.net.fc1 = torch.nn.Sequential(OrderedDict(\n",
        "#             [('linear1', torch.nn.Linear(1024,1024)),\n",
        "#             ('relu1', torch.nn.ReLU()),\n",
        "#             ('dropout1', torch.nn.Dropout(0.2)),\n",
        "#             ('final1', torch.nn.Linear(1024, 2))]))\n",
        "        \n",
        "#         self.net.fc2 = torch.nn.Sequential(OrderedDict(\n",
        "#             [('linear2', torch.nn.Linear(1024, 1024)),\n",
        "#             ('relu2', torch.nn.ReLU()),\n",
        "#             ('dropout2', torch.nn.Dropout(0.2)),\n",
        "#             ('final2', torch.nn.Linear(1024, 3))]))\n",
        "\n",
        "#     def forward(self, input_ids, attention_mask, token_type_ids, task_id):\n",
        "#         output_1 = self.net(input_ids=input_ids, attention_mask=attention_mask, token_type_ids=token_type_ids)\n",
        "#         hidden_state = output_1[0]\n",
        "#         pooler = hidden_state[:, 0]\n",
        "#         if task_id == 1:\n",
        "#             pooler =  self.net.fc1(pooler)\n",
        "#         elif task_id == 2:\n",
        "#             pooler = self.net.fc2(pooler)\n",
        "#         else:\n",
        "#             assert False, 'Bad Task ID passed'\n",
        "#         return pooler"
      ],
      "metadata": {
        "id": "St8REER4z-vs"
      },
      "execution_count": 8,
      "outputs": []
    },
    {
      "cell_type": "code",
      "source": [
        "# class NetMultiTask(torch.nn.Module):\n",
        "#     def __init__(self):\n",
        "#         super(NetMultiTask, self).__init__()\n",
        "#         self.net = RobertaModel.from_pretrained(\"roberta-base\")\n",
        "        \n",
        "#         self.pre_classifier1 = torch.nn.Linear(768, 768)\n",
        "#         self.dropout1 = torch.nn.Dropout(0.2)\n",
        "#         self.classifier1 = torch.nn.Linear(768, 2)\n",
        "        \n",
        "#         self.pre_classifier2 = torch.nn.Linear(768, 768)\n",
        "#         self.dropout2 = torch.nn.Dropout(0.2)\n",
        "#         self.classifier2 = torch.nn.Linear(768, 3)\n",
        "\n",
        "#     def forward(self, input_ids, attention_mask, token_type_ids, task_id):\n",
        "#         output_1 = self.net(input_ids=input_ids, attention_mask=attention_mask, token_type_ids=token_type_ids)\n",
        "#         hidden_state = output_1[0]\n",
        "#         pooler = hidden_state[:, 0]\n",
        "#         if task_id == 1:\n",
        "#           pooler = self.pre_classifier1(pooler)\n",
        "#           pooler = torch.nn.ReLU()(pooler)\n",
        "#           pooler = self.dropout1(pooler)\n",
        "#           output = self.classifier1(pooler)\n",
        "#         elif task_id == 2:\n",
        "#           pooler = self.pre_classifier2(pooler)\n",
        "#           pooler = torch.nn.ReLU()(pooler)\n",
        "#           pooler = self.dropout2(pooler)\n",
        "#           output = self.classifier2(pooler)\n",
        "#         else:\n",
        "#             assert False, 'Bad Task ID passed'\n",
        "#         return output"
      ],
      "metadata": {
        "id": "1dIjOKAnEecF"
      },
      "execution_count": 9,
      "outputs": []
    },
    {
      "cell_type": "markdown",
      "source": [
        "### Training and Inference Loops ###"
      ],
      "metadata": {
        "id": "GNvydYJac6cu"
      }
    },
    {
      "cell_type": "markdown",
      "source": [
        "#I. Data Preprocessing #"
      ],
      "metadata": {
        "id": "5wXwmlGVFKQZ"
      }
    },
    {
      "cell_type": "markdown",
      "source": [
        "### EDA ###"
      ],
      "metadata": {
        "id": "dvJZ11Z0Yox7"
      }
    },
    {
      "cell_type": "code",
      "source": [
        "def data_quality(df):\n",
        "  # find datatype of each column\n",
        "  data_types = pd.DataFrame(df.dtypes, columns=['Data Type'])\n",
        "\n",
        "  # count number of missing observations by column\n",
        "  missing_data_counts = pd.DataFrame(df.isnull().sum(), columns=['Missing Values'])\n",
        "\n",
        "  # count number of present observations by column\n",
        "  present_data_counts = pd.DataFrame(df.count(), columns=['Present Values'])\n",
        "\n",
        "  # count number of unique observations by column\n",
        "  unique_value_counts = pd.DataFrame(columns=['Unique Values'])\n",
        "  for v in list(df.columns.values):\n",
        "      unique_value_counts.loc[v] = [df[v].nunique()]\n",
        "\n",
        "  data_quality_report = pd.concat([present_data_counts, missing_data_counts, unique_value_counts], axis=1)\n",
        "  return data_quality_report"
      ],
      "metadata": {
        "execution": {
          "iopub.status.busy": "2023-04-05T13:56:02.646767Z",
          "iopub.execute_input": "2023-04-05T13:56:02.647240Z",
          "iopub.status.idle": "2023-04-05T13:56:02.655771Z",
          "shell.execute_reply.started": "2023-04-05T13:56:02.647205Z",
          "shell.execute_reply": "2023-04-05T13:56:02.654222Z"
        },
        "trusted": true,
        "id": "nQ788ipOFKQa"
      },
      "execution_count": 10,
      "outputs": []
    },
    {
      "cell_type": "code",
      "source": [
        "d_train_orig = pd.read_csv(\"/content/drive/MyDrive/BT5151/group_project/train.csv\")\n",
        "d_test_orig = pd.read_csv(\"/content/drive/MyDrive/BT5151/group_project/test.csv\")\n",
        "s_train_orig = pd.read_csv(\"/content/drive/MyDrive/BT5151/group_project/tweets.csv\")"
      ],
      "metadata": {
        "execution": {
          "iopub.status.busy": "2023-04-05T13:56:02.657464Z",
          "iopub.execute_input": "2023-04-05T13:56:02.657840Z",
          "iopub.status.idle": "2023-04-05T13:56:02.781962Z",
          "shell.execute_reply.started": "2023-04-05T13:56:02.657788Z",
          "shell.execute_reply": "2023-04-05T13:56:02.780612Z"
        },
        "trusted": true,
        "id": "n16bnOsfFKQb"
      },
      "execution_count": 11,
      "outputs": []
    },
    {
      "cell_type": "code",
      "source": [
        "d_train_orig.head()"
      ],
      "metadata": {
        "execution": {
          "iopub.status.busy": "2023-04-05T13:56:02.783539Z",
          "iopub.execute_input": "2023-04-05T13:56:02.783902Z",
          "iopub.status.idle": "2023-04-05T13:56:02.800610Z",
          "shell.execute_reply.started": "2023-04-05T13:56:02.783867Z",
          "shell.execute_reply": "2023-04-05T13:56:02.798542Z"
        },
        "trusted": true,
        "colab": {
          "base_uri": "https://localhost:8080/",
          "height": 206
        },
        "id": "wdc5rQR6FKQb",
        "outputId": "5661e5e9-920f-4f6e-9951-d6d2f7f2907d"
      },
      "execution_count": 12,
      "outputs": [
        {
          "output_type": "execute_result",
          "data": {
            "text/plain": [
              "   id keyword location                                               text  \\\n",
              "0   1     NaN      NaN  Our Deeds are the Reason of this #earthquake M...   \n",
              "1   4     NaN      NaN             Forest fire near La Ronge Sask. Canada   \n",
              "2   5     NaN      NaN  All residents asked to 'shelter in place' are ...   \n",
              "3   6     NaN      NaN  13,000 people receive #wildfires evacuation or...   \n",
              "4   7     NaN      NaN  Just got sent this photo from Ruby #Alaska as ...   \n",
              "\n",
              "   target  \n",
              "0       1  \n",
              "1       1  \n",
              "2       1  \n",
              "3       1  \n",
              "4       1  "
            ],
            "text/html": [
              "\n",
              "  <div id=\"df-40c3caaa-5732-4704-884d-a017d2c36244\">\n",
              "    <div class=\"colab-df-container\">\n",
              "      <div>\n",
              "<style scoped>\n",
              "    .dataframe tbody tr th:only-of-type {\n",
              "        vertical-align: middle;\n",
              "    }\n",
              "\n",
              "    .dataframe tbody tr th {\n",
              "        vertical-align: top;\n",
              "    }\n",
              "\n",
              "    .dataframe thead th {\n",
              "        text-align: right;\n",
              "    }\n",
              "</style>\n",
              "<table border=\"1\" class=\"dataframe\">\n",
              "  <thead>\n",
              "    <tr style=\"text-align: right;\">\n",
              "      <th></th>\n",
              "      <th>id</th>\n",
              "      <th>keyword</th>\n",
              "      <th>location</th>\n",
              "      <th>text</th>\n",
              "      <th>target</th>\n",
              "    </tr>\n",
              "  </thead>\n",
              "  <tbody>\n",
              "    <tr>\n",
              "      <th>0</th>\n",
              "      <td>1</td>\n",
              "      <td>NaN</td>\n",
              "      <td>NaN</td>\n",
              "      <td>Our Deeds are the Reason of this #earthquake M...</td>\n",
              "      <td>1</td>\n",
              "    </tr>\n",
              "    <tr>\n",
              "      <th>1</th>\n",
              "      <td>4</td>\n",
              "      <td>NaN</td>\n",
              "      <td>NaN</td>\n",
              "      <td>Forest fire near La Ronge Sask. Canada</td>\n",
              "      <td>1</td>\n",
              "    </tr>\n",
              "    <tr>\n",
              "      <th>2</th>\n",
              "      <td>5</td>\n",
              "      <td>NaN</td>\n",
              "      <td>NaN</td>\n",
              "      <td>All residents asked to 'shelter in place' are ...</td>\n",
              "      <td>1</td>\n",
              "    </tr>\n",
              "    <tr>\n",
              "      <th>3</th>\n",
              "      <td>6</td>\n",
              "      <td>NaN</td>\n",
              "      <td>NaN</td>\n",
              "      <td>13,000 people receive #wildfires evacuation or...</td>\n",
              "      <td>1</td>\n",
              "    </tr>\n",
              "    <tr>\n",
              "      <th>4</th>\n",
              "      <td>7</td>\n",
              "      <td>NaN</td>\n",
              "      <td>NaN</td>\n",
              "      <td>Just got sent this photo from Ruby #Alaska as ...</td>\n",
              "      <td>1</td>\n",
              "    </tr>\n",
              "  </tbody>\n",
              "</table>\n",
              "</div>\n",
              "      <button class=\"colab-df-convert\" onclick=\"convertToInteractive('df-40c3caaa-5732-4704-884d-a017d2c36244')\"\n",
              "              title=\"Convert this dataframe to an interactive table.\"\n",
              "              style=\"display:none;\">\n",
              "        \n",
              "  <svg xmlns=\"http://www.w3.org/2000/svg\" height=\"24px\"viewBox=\"0 0 24 24\"\n",
              "       width=\"24px\">\n",
              "    <path d=\"M0 0h24v24H0V0z\" fill=\"none\"/>\n",
              "    <path d=\"M18.56 5.44l.94 2.06.94-2.06 2.06-.94-2.06-.94-.94-2.06-.94 2.06-2.06.94zm-11 1L8.5 8.5l.94-2.06 2.06-.94-2.06-.94L8.5 2.5l-.94 2.06-2.06.94zm10 10l.94 2.06.94-2.06 2.06-.94-2.06-.94-.94-2.06-.94 2.06-2.06.94z\"/><path d=\"M17.41 7.96l-1.37-1.37c-.4-.4-.92-.59-1.43-.59-.52 0-1.04.2-1.43.59L10.3 9.45l-7.72 7.72c-.78.78-.78 2.05 0 2.83L4 21.41c.39.39.9.59 1.41.59.51 0 1.02-.2 1.41-.59l7.78-7.78 2.81-2.81c.8-.78.8-2.07 0-2.86zM5.41 20L4 18.59l7.72-7.72 1.47 1.35L5.41 20z\"/>\n",
              "  </svg>\n",
              "      </button>\n",
              "      \n",
              "  <style>\n",
              "    .colab-df-container {\n",
              "      display:flex;\n",
              "      flex-wrap:wrap;\n",
              "      gap: 12px;\n",
              "    }\n",
              "\n",
              "    .colab-df-convert {\n",
              "      background-color: #E8F0FE;\n",
              "      border: none;\n",
              "      border-radius: 50%;\n",
              "      cursor: pointer;\n",
              "      display: none;\n",
              "      fill: #1967D2;\n",
              "      height: 32px;\n",
              "      padding: 0 0 0 0;\n",
              "      width: 32px;\n",
              "    }\n",
              "\n",
              "    .colab-df-convert:hover {\n",
              "      background-color: #E2EBFA;\n",
              "      box-shadow: 0px 1px 2px rgba(60, 64, 67, 0.3), 0px 1px 3px 1px rgba(60, 64, 67, 0.15);\n",
              "      fill: #174EA6;\n",
              "    }\n",
              "\n",
              "    [theme=dark] .colab-df-convert {\n",
              "      background-color: #3B4455;\n",
              "      fill: #D2E3FC;\n",
              "    }\n",
              "\n",
              "    [theme=dark] .colab-df-convert:hover {\n",
              "      background-color: #434B5C;\n",
              "      box-shadow: 0px 1px 3px 1px rgba(0, 0, 0, 0.15);\n",
              "      filter: drop-shadow(0px 1px 2px rgba(0, 0, 0, 0.3));\n",
              "      fill: #FFFFFF;\n",
              "    }\n",
              "  </style>\n",
              "\n",
              "      <script>\n",
              "        const buttonEl =\n",
              "          document.querySelector('#df-40c3caaa-5732-4704-884d-a017d2c36244 button.colab-df-convert');\n",
              "        buttonEl.style.display =\n",
              "          google.colab.kernel.accessAllowed ? 'block' : 'none';\n",
              "\n",
              "        async function convertToInteractive(key) {\n",
              "          const element = document.querySelector('#df-40c3caaa-5732-4704-884d-a017d2c36244');\n",
              "          const dataTable =\n",
              "            await google.colab.kernel.invokeFunction('convertToInteractive',\n",
              "                                                     [key], {});\n",
              "          if (!dataTable) return;\n",
              "\n",
              "          const docLinkHtml = 'Like what you see? Visit the ' +\n",
              "            '<a target=\"_blank\" href=https://colab.research.google.com/notebooks/data_table.ipynb>data table notebook</a>'\n",
              "            + ' to learn more about interactive tables.';\n",
              "          element.innerHTML = '';\n",
              "          dataTable['output_type'] = 'display_data';\n",
              "          await google.colab.output.renderOutput(dataTable, element);\n",
              "          const docLink = document.createElement('div');\n",
              "          docLink.innerHTML = docLinkHtml;\n",
              "          element.appendChild(docLink);\n",
              "        }\n",
              "      </script>\n",
              "    </div>\n",
              "  </div>\n",
              "  "
            ]
          },
          "metadata": {},
          "execution_count": 12
        }
      ]
    },
    {
      "cell_type": "code",
      "source": [
        "d_test_orig.head()"
      ],
      "metadata": {
        "execution": {
          "iopub.status.busy": "2023-04-05T13:56:02.803021Z",
          "iopub.execute_input": "2023-04-05T13:56:02.803463Z",
          "iopub.status.idle": "2023-04-05T13:56:02.824729Z",
          "shell.execute_reply.started": "2023-04-05T13:56:02.803425Z",
          "shell.execute_reply": "2023-04-05T13:56:02.822362Z"
        },
        "trusted": true,
        "colab": {
          "base_uri": "https://localhost:8080/",
          "height": 206
        },
        "id": "Ux_qh-DZFKQc",
        "outputId": "b994c39b-556f-419b-b543-7db1cc800556"
      },
      "execution_count": 13,
      "outputs": [
        {
          "output_type": "execute_result",
          "data": {
            "text/plain": [
              "   id keyword location                                               text\n",
              "0   0     NaN      NaN                 Just happened a terrible car crash\n",
              "1   2     NaN      NaN  Heard about #earthquake is different cities, s...\n",
              "2   3     NaN      NaN  there is a forest fire at spot pond, geese are...\n",
              "3   9     NaN      NaN           Apocalypse lighting. #Spokane #wildfires\n",
              "4  11     NaN      NaN      Typhoon Soudelor kills 28 in China and Taiwan"
            ],
            "text/html": [
              "\n",
              "  <div id=\"df-4556e43a-3ee2-471d-9568-a49fc5d33e04\">\n",
              "    <div class=\"colab-df-container\">\n",
              "      <div>\n",
              "<style scoped>\n",
              "    .dataframe tbody tr th:only-of-type {\n",
              "        vertical-align: middle;\n",
              "    }\n",
              "\n",
              "    .dataframe tbody tr th {\n",
              "        vertical-align: top;\n",
              "    }\n",
              "\n",
              "    .dataframe thead th {\n",
              "        text-align: right;\n",
              "    }\n",
              "</style>\n",
              "<table border=\"1\" class=\"dataframe\">\n",
              "  <thead>\n",
              "    <tr style=\"text-align: right;\">\n",
              "      <th></th>\n",
              "      <th>id</th>\n",
              "      <th>keyword</th>\n",
              "      <th>location</th>\n",
              "      <th>text</th>\n",
              "    </tr>\n",
              "  </thead>\n",
              "  <tbody>\n",
              "    <tr>\n",
              "      <th>0</th>\n",
              "      <td>0</td>\n",
              "      <td>NaN</td>\n",
              "      <td>NaN</td>\n",
              "      <td>Just happened a terrible car crash</td>\n",
              "    </tr>\n",
              "    <tr>\n",
              "      <th>1</th>\n",
              "      <td>2</td>\n",
              "      <td>NaN</td>\n",
              "      <td>NaN</td>\n",
              "      <td>Heard about #earthquake is different cities, s...</td>\n",
              "    </tr>\n",
              "    <tr>\n",
              "      <th>2</th>\n",
              "      <td>3</td>\n",
              "      <td>NaN</td>\n",
              "      <td>NaN</td>\n",
              "      <td>there is a forest fire at spot pond, geese are...</td>\n",
              "    </tr>\n",
              "    <tr>\n",
              "      <th>3</th>\n",
              "      <td>9</td>\n",
              "      <td>NaN</td>\n",
              "      <td>NaN</td>\n",
              "      <td>Apocalypse lighting. #Spokane #wildfires</td>\n",
              "    </tr>\n",
              "    <tr>\n",
              "      <th>4</th>\n",
              "      <td>11</td>\n",
              "      <td>NaN</td>\n",
              "      <td>NaN</td>\n",
              "      <td>Typhoon Soudelor kills 28 in China and Taiwan</td>\n",
              "    </tr>\n",
              "  </tbody>\n",
              "</table>\n",
              "</div>\n",
              "      <button class=\"colab-df-convert\" onclick=\"convertToInteractive('df-4556e43a-3ee2-471d-9568-a49fc5d33e04')\"\n",
              "              title=\"Convert this dataframe to an interactive table.\"\n",
              "              style=\"display:none;\">\n",
              "        \n",
              "  <svg xmlns=\"http://www.w3.org/2000/svg\" height=\"24px\"viewBox=\"0 0 24 24\"\n",
              "       width=\"24px\">\n",
              "    <path d=\"M0 0h24v24H0V0z\" fill=\"none\"/>\n",
              "    <path d=\"M18.56 5.44l.94 2.06.94-2.06 2.06-.94-2.06-.94-.94-2.06-.94 2.06-2.06.94zm-11 1L8.5 8.5l.94-2.06 2.06-.94-2.06-.94L8.5 2.5l-.94 2.06-2.06.94zm10 10l.94 2.06.94-2.06 2.06-.94-2.06-.94-.94-2.06-.94 2.06-2.06.94z\"/><path d=\"M17.41 7.96l-1.37-1.37c-.4-.4-.92-.59-1.43-.59-.52 0-1.04.2-1.43.59L10.3 9.45l-7.72 7.72c-.78.78-.78 2.05 0 2.83L4 21.41c.39.39.9.59 1.41.59.51 0 1.02-.2 1.41-.59l7.78-7.78 2.81-2.81c.8-.78.8-2.07 0-2.86zM5.41 20L4 18.59l7.72-7.72 1.47 1.35L5.41 20z\"/>\n",
              "  </svg>\n",
              "      </button>\n",
              "      \n",
              "  <style>\n",
              "    .colab-df-container {\n",
              "      display:flex;\n",
              "      flex-wrap:wrap;\n",
              "      gap: 12px;\n",
              "    }\n",
              "\n",
              "    .colab-df-convert {\n",
              "      background-color: #E8F0FE;\n",
              "      border: none;\n",
              "      border-radius: 50%;\n",
              "      cursor: pointer;\n",
              "      display: none;\n",
              "      fill: #1967D2;\n",
              "      height: 32px;\n",
              "      padding: 0 0 0 0;\n",
              "      width: 32px;\n",
              "    }\n",
              "\n",
              "    .colab-df-convert:hover {\n",
              "      background-color: #E2EBFA;\n",
              "      box-shadow: 0px 1px 2px rgba(60, 64, 67, 0.3), 0px 1px 3px 1px rgba(60, 64, 67, 0.15);\n",
              "      fill: #174EA6;\n",
              "    }\n",
              "\n",
              "    [theme=dark] .colab-df-convert {\n",
              "      background-color: #3B4455;\n",
              "      fill: #D2E3FC;\n",
              "    }\n",
              "\n",
              "    [theme=dark] .colab-df-convert:hover {\n",
              "      background-color: #434B5C;\n",
              "      box-shadow: 0px 1px 3px 1px rgba(0, 0, 0, 0.15);\n",
              "      filter: drop-shadow(0px 1px 2px rgba(0, 0, 0, 0.3));\n",
              "      fill: #FFFFFF;\n",
              "    }\n",
              "  </style>\n",
              "\n",
              "      <script>\n",
              "        const buttonEl =\n",
              "          document.querySelector('#df-4556e43a-3ee2-471d-9568-a49fc5d33e04 button.colab-df-convert');\n",
              "        buttonEl.style.display =\n",
              "          google.colab.kernel.accessAllowed ? 'block' : 'none';\n",
              "\n",
              "        async function convertToInteractive(key) {\n",
              "          const element = document.querySelector('#df-4556e43a-3ee2-471d-9568-a49fc5d33e04');\n",
              "          const dataTable =\n",
              "            await google.colab.kernel.invokeFunction('convertToInteractive',\n",
              "                                                     [key], {});\n",
              "          if (!dataTable) return;\n",
              "\n",
              "          const docLinkHtml = 'Like what you see? Visit the ' +\n",
              "            '<a target=\"_blank\" href=https://colab.research.google.com/notebooks/data_table.ipynb>data table notebook</a>'\n",
              "            + ' to learn more about interactive tables.';\n",
              "          element.innerHTML = '';\n",
              "          dataTable['output_type'] = 'display_data';\n",
              "          await google.colab.output.renderOutput(dataTable, element);\n",
              "          const docLink = document.createElement('div');\n",
              "          docLink.innerHTML = docLinkHtml;\n",
              "          element.appendChild(docLink);\n",
              "        }\n",
              "      </script>\n",
              "    </div>\n",
              "  </div>\n",
              "  "
            ]
          },
          "metadata": {},
          "execution_count": 13
        }
      ]
    },
    {
      "cell_type": "code",
      "source": [
        "s_train_orig.head()"
      ],
      "metadata": {
        "execution": {
          "iopub.status.busy": "2023-04-05T13:56:02.826855Z",
          "iopub.execute_input": "2023-04-05T13:56:02.827491Z",
          "iopub.status.idle": "2023-04-05T13:56:02.844270Z",
          "shell.execute_reply.started": "2023-04-05T13:56:02.827447Z",
          "shell.execute_reply": "2023-04-05T13:56:02.842636Z"
        },
        "trusted": true,
        "colab": {
          "base_uri": "https://localhost:8080/",
          "height": 206
        },
        "id": "g1v669vZFKQc",
        "outputId": "8c92017f-e4e1-4c16-8ac0-c22774bc4357"
      },
      "execution_count": 14,
      "outputs": [
        {
          "output_type": "execute_result",
          "data": {
            "text/plain": [
              "       textID                                               text  \\\n",
              "0  cb774db0d1                I`d have responded, if I were going   \n",
              "1  549e992a42      Sooo SAD I will miss you here in San Diego!!!   \n",
              "2  088c60f138                          my boss is bullying me...   \n",
              "3  9642c003ef                     what interview! leave me alone   \n",
              "4  358bd9e861   Sons of ****, why couldn`t they put them on t...   \n",
              "\n",
              "                         selected_text sentiment  \n",
              "0  I`d have responded, if I were going   neutral  \n",
              "1                             Sooo SAD  negative  \n",
              "2                          bullying me  negative  \n",
              "3                       leave me alone  negative  \n",
              "4                        Sons of ****,  negative  "
            ],
            "text/html": [
              "\n",
              "  <div id=\"df-b2835025-5e58-4f57-ba29-071988fe6bfa\">\n",
              "    <div class=\"colab-df-container\">\n",
              "      <div>\n",
              "<style scoped>\n",
              "    .dataframe tbody tr th:only-of-type {\n",
              "        vertical-align: middle;\n",
              "    }\n",
              "\n",
              "    .dataframe tbody tr th {\n",
              "        vertical-align: top;\n",
              "    }\n",
              "\n",
              "    .dataframe thead th {\n",
              "        text-align: right;\n",
              "    }\n",
              "</style>\n",
              "<table border=\"1\" class=\"dataframe\">\n",
              "  <thead>\n",
              "    <tr style=\"text-align: right;\">\n",
              "      <th></th>\n",
              "      <th>textID</th>\n",
              "      <th>text</th>\n",
              "      <th>selected_text</th>\n",
              "      <th>sentiment</th>\n",
              "    </tr>\n",
              "  </thead>\n",
              "  <tbody>\n",
              "    <tr>\n",
              "      <th>0</th>\n",
              "      <td>cb774db0d1</td>\n",
              "      <td>I`d have responded, if I were going</td>\n",
              "      <td>I`d have responded, if I were going</td>\n",
              "      <td>neutral</td>\n",
              "    </tr>\n",
              "    <tr>\n",
              "      <th>1</th>\n",
              "      <td>549e992a42</td>\n",
              "      <td>Sooo SAD I will miss you here in San Diego!!!</td>\n",
              "      <td>Sooo SAD</td>\n",
              "      <td>negative</td>\n",
              "    </tr>\n",
              "    <tr>\n",
              "      <th>2</th>\n",
              "      <td>088c60f138</td>\n",
              "      <td>my boss is bullying me...</td>\n",
              "      <td>bullying me</td>\n",
              "      <td>negative</td>\n",
              "    </tr>\n",
              "    <tr>\n",
              "      <th>3</th>\n",
              "      <td>9642c003ef</td>\n",
              "      <td>what interview! leave me alone</td>\n",
              "      <td>leave me alone</td>\n",
              "      <td>negative</td>\n",
              "    </tr>\n",
              "    <tr>\n",
              "      <th>4</th>\n",
              "      <td>358bd9e861</td>\n",
              "      <td>Sons of ****, why couldn`t they put them on t...</td>\n",
              "      <td>Sons of ****,</td>\n",
              "      <td>negative</td>\n",
              "    </tr>\n",
              "  </tbody>\n",
              "</table>\n",
              "</div>\n",
              "      <button class=\"colab-df-convert\" onclick=\"convertToInteractive('df-b2835025-5e58-4f57-ba29-071988fe6bfa')\"\n",
              "              title=\"Convert this dataframe to an interactive table.\"\n",
              "              style=\"display:none;\">\n",
              "        \n",
              "  <svg xmlns=\"http://www.w3.org/2000/svg\" height=\"24px\"viewBox=\"0 0 24 24\"\n",
              "       width=\"24px\">\n",
              "    <path d=\"M0 0h24v24H0V0z\" fill=\"none\"/>\n",
              "    <path d=\"M18.56 5.44l.94 2.06.94-2.06 2.06-.94-2.06-.94-.94-2.06-.94 2.06-2.06.94zm-11 1L8.5 8.5l.94-2.06 2.06-.94-2.06-.94L8.5 2.5l-.94 2.06-2.06.94zm10 10l.94 2.06.94-2.06 2.06-.94-2.06-.94-.94-2.06-.94 2.06-2.06.94z\"/><path d=\"M17.41 7.96l-1.37-1.37c-.4-.4-.92-.59-1.43-.59-.52 0-1.04.2-1.43.59L10.3 9.45l-7.72 7.72c-.78.78-.78 2.05 0 2.83L4 21.41c.39.39.9.59 1.41.59.51 0 1.02-.2 1.41-.59l7.78-7.78 2.81-2.81c.8-.78.8-2.07 0-2.86zM5.41 20L4 18.59l7.72-7.72 1.47 1.35L5.41 20z\"/>\n",
              "  </svg>\n",
              "      </button>\n",
              "      \n",
              "  <style>\n",
              "    .colab-df-container {\n",
              "      display:flex;\n",
              "      flex-wrap:wrap;\n",
              "      gap: 12px;\n",
              "    }\n",
              "\n",
              "    .colab-df-convert {\n",
              "      background-color: #E8F0FE;\n",
              "      border: none;\n",
              "      border-radius: 50%;\n",
              "      cursor: pointer;\n",
              "      display: none;\n",
              "      fill: #1967D2;\n",
              "      height: 32px;\n",
              "      padding: 0 0 0 0;\n",
              "      width: 32px;\n",
              "    }\n",
              "\n",
              "    .colab-df-convert:hover {\n",
              "      background-color: #E2EBFA;\n",
              "      box-shadow: 0px 1px 2px rgba(60, 64, 67, 0.3), 0px 1px 3px 1px rgba(60, 64, 67, 0.15);\n",
              "      fill: #174EA6;\n",
              "    }\n",
              "\n",
              "    [theme=dark] .colab-df-convert {\n",
              "      background-color: #3B4455;\n",
              "      fill: #D2E3FC;\n",
              "    }\n",
              "\n",
              "    [theme=dark] .colab-df-convert:hover {\n",
              "      background-color: #434B5C;\n",
              "      box-shadow: 0px 1px 3px 1px rgba(0, 0, 0, 0.15);\n",
              "      filter: drop-shadow(0px 1px 2px rgba(0, 0, 0, 0.3));\n",
              "      fill: #FFFFFF;\n",
              "    }\n",
              "  </style>\n",
              "\n",
              "      <script>\n",
              "        const buttonEl =\n",
              "          document.querySelector('#df-b2835025-5e58-4f57-ba29-071988fe6bfa button.colab-df-convert');\n",
              "        buttonEl.style.display =\n",
              "          google.colab.kernel.accessAllowed ? 'block' : 'none';\n",
              "\n",
              "        async function convertToInteractive(key) {\n",
              "          const element = document.querySelector('#df-b2835025-5e58-4f57-ba29-071988fe6bfa');\n",
              "          const dataTable =\n",
              "            await google.colab.kernel.invokeFunction('convertToInteractive',\n",
              "                                                     [key], {});\n",
              "          if (!dataTable) return;\n",
              "\n",
              "          const docLinkHtml = 'Like what you see? Visit the ' +\n",
              "            '<a target=\"_blank\" href=https://colab.research.google.com/notebooks/data_table.ipynb>data table notebook</a>'\n",
              "            + ' to learn more about interactive tables.';\n",
              "          element.innerHTML = '';\n",
              "          dataTable['output_type'] = 'display_data';\n",
              "          await google.colab.output.renderOutput(dataTable, element);\n",
              "          const docLink = document.createElement('div');\n",
              "          docLink.innerHTML = docLinkHtml;\n",
              "          element.appendChild(docLink);\n",
              "        }\n",
              "      </script>\n",
              "    </div>\n",
              "  </div>\n",
              "  "
            ]
          },
          "metadata": {},
          "execution_count": 14
        }
      ]
    },
    {
      "cell_type": "code",
      "source": [
        "print(f\"d_train:{d_train_orig.shape}\\nd_test:{d_test_orig.shape}\\ns_test:{s_train_orig.shape}\")"
      ],
      "metadata": {
        "execution": {
          "iopub.status.busy": "2023-04-05T13:56:02.846125Z",
          "iopub.execute_input": "2023-04-05T13:56:02.846622Z",
          "iopub.status.idle": "2023-04-05T13:56:02.856735Z",
          "shell.execute_reply.started": "2023-04-05T13:56:02.846561Z",
          "shell.execute_reply": "2023-04-05T13:56:02.855258Z"
        },
        "trusted": true,
        "colab": {
          "base_uri": "https://localhost:8080/"
        },
        "id": "fak6bNeQFKQd",
        "outputId": "c1064fdb-86b5-4ae5-b42f-0c4dfbcd8c3e"
      },
      "execution_count": 15,
      "outputs": [
        {
          "output_type": "stream",
          "name": "stdout",
          "text": [
            "d_train:(7613, 5)\n",
            "d_test:(3263, 4)\n",
            "s_test:(27481, 4)\n"
          ]
        }
      ]
    },
    {
      "cell_type": "code",
      "source": [
        "total = d_train_orig.target.value_counts().sum()\n",
        "neg = d_train_orig.target.value_counts()[0]\n",
        "pos = d_train_orig.target.value_counts()[1]\n",
        "print(f\"Not Disaster: Count = {neg} Percent = {neg/total}\\n\"\n",
        "     f\"Disaster:  Count = {pos} Percent = {pos/total}\\n\")"
      ],
      "metadata": {
        "execution": {
          "iopub.status.busy": "2023-04-05T13:56:02.863151Z",
          "iopub.execute_input": "2023-04-05T13:56:02.863612Z",
          "iopub.status.idle": "2023-04-05T13:56:02.879904Z",
          "shell.execute_reply.started": "2023-04-05T13:56:02.863571Z",
          "shell.execute_reply": "2023-04-05T13:56:02.878303Z"
        },
        "trusted": true,
        "colab": {
          "base_uri": "https://localhost:8080/"
        },
        "id": "ZQqzoU-FFKQd",
        "outputId": "404348ed-7a43-4048-bf67-3374af6017e1"
      },
      "execution_count": 16,
      "outputs": [
        {
          "output_type": "stream",
          "name": "stdout",
          "text": [
            "Not Disaster: Count = 4342 Percent = 0.5703402075397347\n",
            "Disaster:  Count = 3271 Percent = 0.4296597924602653\n",
            "\n"
          ]
        }
      ]
    },
    {
      "cell_type": "code",
      "source": [
        "total = s_train_orig.sentiment.value_counts().sum()\n",
        "neu = s_train_orig.sentiment.value_counts()['neutral']\n",
        "neg = s_train_orig.sentiment.value_counts()['negative']\n",
        "pos = s_train_orig.sentiment.value_counts()['positive']\n",
        "print(f\"Neutral: Count = {neu} Percent = {neu/total}\\n\"\n",
        "    f\"Negative: Count = {neg} Percent = {neg/total}\\n\"\n",
        "     f\"Positve:  Count = {pos} Percent = {pos/total}\\n\")"
      ],
      "metadata": {
        "execution": {
          "iopub.status.busy": "2023-04-05T13:56:02.882315Z",
          "iopub.execute_input": "2023-04-05T13:56:02.882702Z",
          "iopub.status.idle": "2023-04-05T13:56:02.902673Z",
          "shell.execute_reply.started": "2023-04-05T13:56:02.882667Z",
          "shell.execute_reply": "2023-04-05T13:56:02.900764Z"
        },
        "trusted": true,
        "colab": {
          "base_uri": "https://localhost:8080/"
        },
        "id": "HpO54GOVFKQd",
        "outputId": "a66d457a-e9df-4b4a-9233-85a371940741"
      },
      "execution_count": 17,
      "outputs": [
        {
          "output_type": "stream",
          "name": "stdout",
          "text": [
            "Neutral: Count = 11118 Percent = 0.4045704304792402\n",
            "Negative: Count = 7781 Percent = 0.2831410792911466\n",
            "Positve:  Count = 8582 Percent = 0.3122884902296132\n",
            "\n"
          ]
        }
      ]
    },
    {
      "cell_type": "code",
      "source": [
        "d_train_orig.columns"
      ],
      "metadata": {
        "execution": {
          "iopub.status.busy": "2023-04-05T13:56:02.905126Z",
          "iopub.execute_input": "2023-04-05T13:56:02.906267Z",
          "iopub.status.idle": "2023-04-05T13:56:02.924660Z",
          "shell.execute_reply.started": "2023-04-05T13:56:02.906195Z",
          "shell.execute_reply": "2023-04-05T13:56:02.922958Z"
        },
        "trusted": true,
        "colab": {
          "base_uri": "https://localhost:8080/"
        },
        "id": "9P5AURz5FKQe",
        "outputId": "fb74db50-2f97-4d4f-ab65-471ecc803070"
      },
      "execution_count": 18,
      "outputs": [
        {
          "output_type": "execute_result",
          "data": {
            "text/plain": [
              "Index(['id', 'keyword', 'location', 'text', 'target'], dtype='object')"
            ]
          },
          "metadata": {},
          "execution_count": 18
        }
      ]
    },
    {
      "cell_type": "code",
      "source": [
        "s_train_orig.columns"
      ],
      "metadata": {
        "execution": {
          "iopub.status.busy": "2023-04-05T13:56:02.926975Z",
          "iopub.execute_input": "2023-04-05T13:56:02.927628Z",
          "iopub.status.idle": "2023-04-05T13:56:02.938334Z",
          "shell.execute_reply.started": "2023-04-05T13:56:02.927569Z",
          "shell.execute_reply": "2023-04-05T13:56:02.936777Z"
        },
        "trusted": true,
        "colab": {
          "base_uri": "https://localhost:8080/"
        },
        "id": "9Rbn9IVyFKQe",
        "outputId": "0387f0a0-866a-461d-930c-cb9bc3e718de"
      },
      "execution_count": 19,
      "outputs": [
        {
          "output_type": "execute_result",
          "data": {
            "text/plain": [
              "Index(['textID', 'text', 'selected_text', 'sentiment'], dtype='object')"
            ]
          },
          "metadata": {},
          "execution_count": 19
        }
      ]
    },
    {
      "cell_type": "code",
      "source": [
        "print(data_quality(d_train_orig))"
      ],
      "metadata": {
        "execution": {
          "iopub.status.busy": "2023-04-05T13:56:02.940363Z",
          "iopub.execute_input": "2023-04-05T13:56:02.940776Z",
          "iopub.status.idle": "2023-04-05T13:56:03.007714Z",
          "shell.execute_reply.started": "2023-04-05T13:56:02.940740Z",
          "shell.execute_reply": "2023-04-05T13:56:03.006285Z"
        },
        "trusted": true,
        "colab": {
          "base_uri": "https://localhost:8080/"
        },
        "id": "kJYNNXIOFKQe",
        "outputId": "7f5279ac-0365-47fe-e7da-a98873d848fe"
      },
      "execution_count": 20,
      "outputs": [
        {
          "output_type": "stream",
          "name": "stdout",
          "text": [
            "          Present Values  Missing Values  Unique Values\n",
            "id                  7613               0           7613\n",
            "keyword             7552              61            221\n",
            "location            5080            2533           3341\n",
            "text                7613               0           7503\n",
            "target              7613               0              2\n"
          ]
        }
      ]
    },
    {
      "cell_type": "code",
      "source": [
        "print(data_quality(s_train_orig))"
      ],
      "metadata": {
        "execution": {
          "iopub.status.busy": "2023-04-05T13:56:03.009897Z",
          "iopub.execute_input": "2023-04-05T13:56:03.010448Z",
          "iopub.status.idle": "2023-04-05T13:56:03.048313Z",
          "shell.execute_reply.started": "2023-04-05T13:56:03.010393Z",
          "shell.execute_reply": "2023-04-05T13:56:03.046825Z"
        },
        "trusted": true,
        "colab": {
          "base_uri": "https://localhost:8080/"
        },
        "id": "PhSbqCTGFKQe",
        "outputId": "fb116782-ee6e-42a8-c002-d25fac1723a7"
      },
      "execution_count": 21,
      "outputs": [
        {
          "output_type": "stream",
          "name": "stdout",
          "text": [
            "               Present Values  Missing Values  Unique Values\n",
            "textID                  27481               0          27481\n",
            "text                    27480               1          27480\n",
            "selected_text           27480               1          22463\n",
            "sentiment               27481               0              3\n"
          ]
        }
      ]
    },
    {
      "cell_type": "markdown",
      "source": [
        "### Data Preprocessing ###"
      ],
      "metadata": {
        "id": "SY1bjqnLFKQe"
      }
    },
    {
      "cell_type": "code",
      "source": [
        "# Helper function that will sentiment to numerical values\n",
        "def map_sentiment(x):\n",
        "    if x == \"negative\":\n",
        "        return 0\n",
        "    elif x ==\"neutral\":\n",
        "        return 1\n",
        "    elif x ==\"positive\":\n",
        "        return 2\n",
        "    else:\n",
        "        return None\n",
        "# Custom Dataset for D1 that will tokenize text and arrange output and labels in a dictionary\n",
        "class DisasterData(Dataset):\n",
        "    def __init__(self, dataframe, tokenizer, max_len):\n",
        "        self.tokenizer = tokenizer\n",
        "        self.data = dataframe\n",
        "        self.text = dataframe.text\n",
        "        self.targets = self.data.target\n",
        "        self.max_len = max_len\n",
        "\n",
        "    def __len__(self):\n",
        "        return len(self.text)\n",
        "\n",
        "    def __getitem__(self, index):\n",
        "        text = str(self.text[index])\n",
        "        text = \" \".join(text.split())\n",
        "\n",
        "        inputs = self.tokenizer.encode_plus(\n",
        "            text,\n",
        "            None,\n",
        "            add_special_tokens=True,\n",
        "            max_length=self.max_len,\n",
        "            truncation=True,\n",
        "            padding = 'max_length',\n",
        "            return_token_type_ids=True\n",
        "        )\n",
        "        ids = inputs['input_ids']\n",
        "        mask = inputs['attention_mask']\n",
        "        token_type_ids = inputs[\"token_type_ids\"]\n",
        "\n",
        "\n",
        "        return {\n",
        "            'ids': torch.tensor(ids, dtype=torch.long),\n",
        "            'mask': torch.tensor(mask, dtype=torch.long),\n",
        "            'token_type_ids': torch.tensor(token_type_ids, dtype=torch.long),\n",
        "            'targets': torch.tensor(self.targets[index], dtype=torch.long)\n",
        "        }\n",
        "\n",
        "# Custom Dataset for D2 that will tokenize text and arrange output and labels in a dictionary\n",
        "class SentimentData(Dataset):\n",
        "    def __init__(self, dataframe, tokenizer, max_len):\n",
        "        self.tokenizer = tokenizer\n",
        "        self.data = dataframe\n",
        "        self.text = dataframe.text\n",
        "        self.targets = self.data.target\n",
        "        self.max_len = max_len\n",
        "\n",
        "    def __len__(self):\n",
        "        return len(self.text)\n",
        "\n",
        "    def __getitem__(self, index):\n",
        "        text = str(self.text[index])\n",
        "        text = \" \".join(text.split())\n",
        "\n",
        "        inputs = self.tokenizer.encode_plus(\n",
        "            text,\n",
        "            None,\n",
        "            add_special_tokens=True,\n",
        "            max_length=self.max_len,\n",
        "            truncation=True,\n",
        "            padding = 'max_length',\n",
        "            return_token_type_ids=True\n",
        "        )\n",
        "        ids = inputs['input_ids']\n",
        "        mask = inputs['attention_mask']\n",
        "        token_type_ids = inputs[\"token_type_ids\"]\n",
        "\n",
        "\n",
        "        return {\n",
        "            'ids': torch.tensor(ids, dtype=torch.long),\n",
        "            'mask': torch.tensor(mask, dtype=torch.long),\n",
        "            'token_type_ids': torch.tensor(token_type_ids, dtype=torch.long),\n",
        "            'targets': torch.tensor(self.targets[index], dtype=torch.long)\n",
        "        }\n",
        " "
      ],
      "metadata": {
        "id": "3PwXQSSUcv0y"
      },
      "execution_count": 22,
      "outputs": []
    },
    {
      "cell_type": "code",
      "source": [
        "# Helper function to remove URLs. May or may not be used\n",
        "def cleaning_URLs(data):\n",
        "    return re.sub('((www.[^s]+)|(https?://[^s]+))',' ',data)"
      ],
      "metadata": {
        "id": "nDY8IqryWdin"
      },
      "execution_count": 23,
      "outputs": []
    },
    {
      "cell_type": "code",
      "source": [
        "# Creating copies of the dataset\n",
        "d_train = d_train_orig.copy()\n",
        "d_test = d_test_orig.copy()\n",
        "s_train = s_train_orig.copy()"
      ],
      "metadata": {
        "id": "GazgsoaZGK-h"
      },
      "execution_count": 24,
      "outputs": []
    },
    {
      "cell_type": "code",
      "source": [
        "# Remove null values\n",
        "s_train.drop(s_train[s_train[\"textID\"]==\"fdb77c3752\"].index, inplace=True)"
      ],
      "metadata": {
        "id": "Yrr_2Q0oYvAf"
      },
      "execution_count": 25,
      "outputs": []
    },
    {
      "cell_type": "code",
      "source": [
        "# Ignore removing URLs for now as tokenizer can probably handle URLs\n",
        "# d_train['text'] = d_train.apply(lambda x: cleaning_URLs(x['text']),axis=1)\n",
        "# #d_test['text'] = d_test.apply(lambda x: cleaning_URLs(x['text']),axis=1)\n",
        "# s_train['text'] = s_train.apply(lambda x: cleaning_URLs(x['text']),axis=1)"
      ],
      "metadata": {
        "id": "QassCZXzWz79"
      },
      "execution_count": 26,
      "outputs": []
    },
    {
      "cell_type": "code",
      "source": [
        "# Removing duplicate text\n",
        "d_train.drop_duplicates(subset=['text'], inplace=True)\n",
        "d_train.shape"
      ],
      "metadata": {
        "colab": {
          "base_uri": "https://localhost:8080/"
        },
        "id": "fp6UWD0iZiia",
        "outputId": "249a0cb6-3540-4b88-b777-2f225c7ed7ce"
      },
      "execution_count": 27,
      "outputs": [
        {
          "output_type": "execute_result",
          "data": {
            "text/plain": [
              "(7503, 5)"
            ]
          },
          "metadata": {},
          "execution_count": 27
        }
      ]
    },
    {
      "cell_type": "code",
      "source": [
        "# Removing duplicate text\n",
        "s_train.drop_duplicates(subset=['text'], inplace=True)\n",
        "s_train.shape"
      ],
      "metadata": {
        "colab": {
          "base_uri": "https://localhost:8080/"
        },
        "id": "xq-Jgho7alAH",
        "outputId": "84802c6a-c3ab-4e89-ec24-cc2d7552a390"
      },
      "execution_count": 28,
      "outputs": [
        {
          "output_type": "execute_result",
          "data": {
            "text/plain": [
              "(27480, 4)"
            ]
          },
          "metadata": {},
          "execution_count": 28
        }
      ]
    },
    {
      "cell_type": "code",
      "source": [
        "# Adding task id to the datasets, might be need later on\n",
        "d_train['id'] = 1\n",
        "s_train['id'] = 2\n",
        "d_train.reset_index(inplace=True)\n",
        "s_train.reset_index(inplace=True)\n",
        "s_train_text = s_train[['text','id','index']].copy()\n",
        "d_train_text = d_train[['text','id','index']].copy()"
      ],
      "metadata": {
        "execution": {
          "iopub.status.busy": "2023-04-05T13:56:03.049930Z",
          "iopub.execute_input": "2023-04-05T13:56:03.050401Z",
          "iopub.status.idle": "2023-04-05T13:56:03.072756Z",
          "shell.execute_reply.started": "2023-04-05T13:56:03.050352Z",
          "shell.execute_reply": "2023-04-05T13:56:03.071607Z"
        },
        "trusted": true,
        "id": "hdQaG_KTFKQf"
      },
      "execution_count": 29,
      "outputs": []
    },
    {
      "cell_type": "code",
      "source": [
        "# Mapping sentiment labels to numbers\n",
        "s_train['sentiment'] = s_train.apply(lambda x: map_sentiment(x.sentiment), axis=1)\n",
        "s_train.rename(columns={'sentiment':'target'}, inplace=True)\n",
        "# Creating copies of the data for passing in to custom dataset\n",
        "d_train_select =  d_train[['text','target']].copy()\n",
        "s_train_select = s_train[['text','target']].copy()"
      ],
      "metadata": {
        "execution": {
          "iopub.status.busy": "2023-04-05T13:56:03.074666Z",
          "iopub.execute_input": "2023-04-05T13:56:03.075028Z",
          "iopub.status.idle": "2023-04-05T13:56:03.492811Z",
          "shell.execute_reply.started": "2023-04-05T13:56:03.074994Z",
          "shell.execute_reply": "2023-04-05T13:56:03.491414Z"
        },
        "trusted": true,
        "id": "4h58AjlDFKQf"
      },
      "execution_count": 30,
      "outputs": []
    },
    {
      "cell_type": "code",
      "source": [
        "# Creating the corpus of text as instructed, but won't be used\n",
        "corpus = pd.concat([d_train_select[[\"text\"]], s_train_select[['text']]])"
      ],
      "metadata": {
        "id": "-ZU7aNsfas30"
      },
      "execution_count": 31,
      "outputs": []
    },
    {
      "cell_type": "code",
      "source": [
        "corpus.shape"
      ],
      "metadata": {
        "colab": {
          "base_uri": "https://localhost:8080/"
        },
        "id": "F1b1GlSxbM44",
        "outputId": "7d14b345-ae79-4893-fb80-728d139e299f"
      },
      "execution_count": 32,
      "outputs": [
        {
          "output_type": "execute_result",
          "data": {
            "text/plain": [
              "(34983, 1)"
            ]
          },
          "metadata": {},
          "execution_count": 32
        }
      ]
    },
    {
      "cell_type": "code",
      "source": [
        "# Pre-trained tokenizer to be used\n",
        "tokenizer = RobertaTokenizer.from_pretrained(\"roberta-base\", do_lower_case=True)\n",
        "\n",
        "# # Hyperparameters below for actual model used\n",
        "MAX_LEN = 512\n",
        "TRAIN_BATCH_SIZE = 8\n",
        "VALID_BATCH_SIZE = 32\n",
        "\n",
        "# Hyperparameters below for experimenting on freezing the pre-trained MLM models\n",
        "# MAX_LEN = 512\n",
        "# TRAIN_BATCH_SIZE = 32\n",
        "# VALID_BATCH_SIZE = 32"
      ],
      "metadata": {
        "execution": {
          "iopub.status.busy": "2023-04-05T13:56:03.495973Z",
          "iopub.execute_input": "2023-04-05T13:56:03.496516Z",
          "iopub.status.idle": "2023-04-05T13:56:03.502431Z",
          "shell.execute_reply.started": "2023-04-05T13:56:03.496466Z",
          "shell.execute_reply": "2023-04-05T13:56:03.501101Z"
        },
        "trusted": true,
        "id": "5C7L7NyQFKQf"
      },
      "execution_count": 33,
      "outputs": []
    },
    {
      "cell_type": "code",
      "source": [
        "# Create train-validate spilts\n",
        "d_train_data, d_val_data = train_test_split(d_train_select, test_size=0.2, stratify=d_train_select['target'],\n",
        "                                 random_state=2023)\n",
        "\n",
        "s_train_data, s_val_data= train_test_split(s_train_select, test_size=0.2, stratify=s_train_select['target'],\n",
        "                                 random_state=2023)\n",
        "\n",
        "# Dropping the index because it can mess up the loops\n",
        "d_train_data.reset_index(inplace=True,drop =True)\n",
        "d_val_data.reset_index(inplace=True, drop =True)\n",
        "s_train_data.reset_index(inplace=True, drop =True)\n",
        "s_val_data.reset_index(inplace=True,  drop =True)"
      ],
      "metadata": {
        "execution": {
          "iopub.status.busy": "2023-04-05T13:56:03.504282Z",
          "iopub.execute_input": "2023-04-05T13:56:03.505845Z",
          "iopub.status.idle": "2023-04-05T13:56:03.534774Z",
          "shell.execute_reply.started": "2023-04-05T13:56:03.505790Z",
          "shell.execute_reply": "2023-04-05T13:56:03.533477Z"
        },
        "trusted": true,
        "id": "CFp5aLW7FKQf"
      },
      "execution_count": 34,
      "outputs": []
    },
    {
      "cell_type": "code",
      "source": [
        "d_train_data.shape"
      ],
      "metadata": {
        "colab": {
          "base_uri": "https://localhost:8080/"
        },
        "id": "PBirAw0YN0jT",
        "outputId": "60c750b3-4dd1-4601-97b8-642bc01b7368"
      },
      "execution_count": 35,
      "outputs": [
        {
          "output_type": "execute_result",
          "data": {
            "text/plain": [
              "(6002, 2)"
            ]
          },
          "metadata": {},
          "execution_count": 35
        }
      ]
    },
    {
      "cell_type": "code",
      "source": [
        "s_train_data.head()"
      ],
      "metadata": {
        "execution": {
          "iopub.status.busy": "2023-04-05T13:56:03.536159Z",
          "iopub.execute_input": "2023-04-05T13:56:03.536496Z",
          "iopub.status.idle": "2023-04-05T13:56:03.548543Z",
          "shell.execute_reply.started": "2023-04-05T13:56:03.536462Z",
          "shell.execute_reply": "2023-04-05T13:56:03.546966Z"
        },
        "trusted": true,
        "colab": {
          "base_uri": "https://localhost:8080/",
          "height": 206
        },
        "id": "xEeAA6Z5FKQf",
        "outputId": "26aee2c3-a83c-438e-e36d-036bf0593816"
      },
      "execution_count": 36,
      "outputs": [
        {
          "output_type": "execute_result",
          "data": {
            "text/plain": [
              "                                                text  target\n",
              "0      Happy mother`s day nfty!!!!!!!!!!!!!!!!!!!!!!       2\n",
              "1                 not  you, me, just drank too much.       0\n",
              "2   Brilliant  Thanks! Not sure what brownie poin...       2\n",
              "3    Does anyone update the photowalkingutah goog...       1\n",
              "4               weee! internet is back here at home!       2"
            ],
            "text/html": [
              "\n",
              "  <div id=\"df-f233223a-0e96-4475-afe0-55c0d53f0d57\">\n",
              "    <div class=\"colab-df-container\">\n",
              "      <div>\n",
              "<style scoped>\n",
              "    .dataframe tbody tr th:only-of-type {\n",
              "        vertical-align: middle;\n",
              "    }\n",
              "\n",
              "    .dataframe tbody tr th {\n",
              "        vertical-align: top;\n",
              "    }\n",
              "\n",
              "    .dataframe thead th {\n",
              "        text-align: right;\n",
              "    }\n",
              "</style>\n",
              "<table border=\"1\" class=\"dataframe\">\n",
              "  <thead>\n",
              "    <tr style=\"text-align: right;\">\n",
              "      <th></th>\n",
              "      <th>text</th>\n",
              "      <th>target</th>\n",
              "    </tr>\n",
              "  </thead>\n",
              "  <tbody>\n",
              "    <tr>\n",
              "      <th>0</th>\n",
              "      <td>Happy mother`s day nfty!!!!!!!!!!!!!!!!!!!!!!</td>\n",
              "      <td>2</td>\n",
              "    </tr>\n",
              "    <tr>\n",
              "      <th>1</th>\n",
              "      <td>not  you, me, just drank too much.</td>\n",
              "      <td>0</td>\n",
              "    </tr>\n",
              "    <tr>\n",
              "      <th>2</th>\n",
              "      <td>Brilliant  Thanks! Not sure what brownie poin...</td>\n",
              "      <td>2</td>\n",
              "    </tr>\n",
              "    <tr>\n",
              "      <th>3</th>\n",
              "      <td>Does anyone update the photowalkingutah goog...</td>\n",
              "      <td>1</td>\n",
              "    </tr>\n",
              "    <tr>\n",
              "      <th>4</th>\n",
              "      <td>weee! internet is back here at home!</td>\n",
              "      <td>2</td>\n",
              "    </tr>\n",
              "  </tbody>\n",
              "</table>\n",
              "</div>\n",
              "      <button class=\"colab-df-convert\" onclick=\"convertToInteractive('df-f233223a-0e96-4475-afe0-55c0d53f0d57')\"\n",
              "              title=\"Convert this dataframe to an interactive table.\"\n",
              "              style=\"display:none;\">\n",
              "        \n",
              "  <svg xmlns=\"http://www.w3.org/2000/svg\" height=\"24px\"viewBox=\"0 0 24 24\"\n",
              "       width=\"24px\">\n",
              "    <path d=\"M0 0h24v24H0V0z\" fill=\"none\"/>\n",
              "    <path d=\"M18.56 5.44l.94 2.06.94-2.06 2.06-.94-2.06-.94-.94-2.06-.94 2.06-2.06.94zm-11 1L8.5 8.5l.94-2.06 2.06-.94-2.06-.94L8.5 2.5l-.94 2.06-2.06.94zm10 10l.94 2.06.94-2.06 2.06-.94-2.06-.94-.94-2.06-.94 2.06-2.06.94z\"/><path d=\"M17.41 7.96l-1.37-1.37c-.4-.4-.92-.59-1.43-.59-.52 0-1.04.2-1.43.59L10.3 9.45l-7.72 7.72c-.78.78-.78 2.05 0 2.83L4 21.41c.39.39.9.59 1.41.59.51 0 1.02-.2 1.41-.59l7.78-7.78 2.81-2.81c.8-.78.8-2.07 0-2.86zM5.41 20L4 18.59l7.72-7.72 1.47 1.35L5.41 20z\"/>\n",
              "  </svg>\n",
              "      </button>\n",
              "      \n",
              "  <style>\n",
              "    .colab-df-container {\n",
              "      display:flex;\n",
              "      flex-wrap:wrap;\n",
              "      gap: 12px;\n",
              "    }\n",
              "\n",
              "    .colab-df-convert {\n",
              "      background-color: #E8F0FE;\n",
              "      border: none;\n",
              "      border-radius: 50%;\n",
              "      cursor: pointer;\n",
              "      display: none;\n",
              "      fill: #1967D2;\n",
              "      height: 32px;\n",
              "      padding: 0 0 0 0;\n",
              "      width: 32px;\n",
              "    }\n",
              "\n",
              "    .colab-df-convert:hover {\n",
              "      background-color: #E2EBFA;\n",
              "      box-shadow: 0px 1px 2px rgba(60, 64, 67, 0.3), 0px 1px 3px 1px rgba(60, 64, 67, 0.15);\n",
              "      fill: #174EA6;\n",
              "    }\n",
              "\n",
              "    [theme=dark] .colab-df-convert {\n",
              "      background-color: #3B4455;\n",
              "      fill: #D2E3FC;\n",
              "    }\n",
              "\n",
              "    [theme=dark] .colab-df-convert:hover {\n",
              "      background-color: #434B5C;\n",
              "      box-shadow: 0px 1px 3px 1px rgba(0, 0, 0, 0.15);\n",
              "      filter: drop-shadow(0px 1px 2px rgba(0, 0, 0, 0.3));\n",
              "      fill: #FFFFFF;\n",
              "    }\n",
              "  </style>\n",
              "\n",
              "      <script>\n",
              "        const buttonEl =\n",
              "          document.querySelector('#df-f233223a-0e96-4475-afe0-55c0d53f0d57 button.colab-df-convert');\n",
              "        buttonEl.style.display =\n",
              "          google.colab.kernel.accessAllowed ? 'block' : 'none';\n",
              "\n",
              "        async function convertToInteractive(key) {\n",
              "          const element = document.querySelector('#df-f233223a-0e96-4475-afe0-55c0d53f0d57');\n",
              "          const dataTable =\n",
              "            await google.colab.kernel.invokeFunction('convertToInteractive',\n",
              "                                                     [key], {});\n",
              "          if (!dataTable) return;\n",
              "\n",
              "          const docLinkHtml = 'Like what you see? Visit the ' +\n",
              "            '<a target=\"_blank\" href=https://colab.research.google.com/notebooks/data_table.ipynb>data table notebook</a>'\n",
              "            + ' to learn more about interactive tables.';\n",
              "          element.innerHTML = '';\n",
              "          dataTable['output_type'] = 'display_data';\n",
              "          await google.colab.output.renderOutput(dataTable, element);\n",
              "          const docLink = document.createElement('div');\n",
              "          docLink.innerHTML = docLinkHtml;\n",
              "          element.appendChild(docLink);\n",
              "        }\n",
              "      </script>\n",
              "    </div>\n",
              "  </div>\n",
              "  "
            ]
          },
          "metadata": {},
          "execution_count": 36
        }
      ]
    },
    {
      "cell_type": "code",
      "source": [
        "# Create D1 and D2 training and validation Datasets. This will tokenize the datasets on the fly\n",
        "d1_train_set= DisasterData(d_train_data, tokenizer, MAX_LEN)\n",
        "d1_val_set = DisasterData(d_val_data, tokenizer, MAX_LEN)\n",
        "\n",
        "d2_train_set= SentimentData(s_train_data, tokenizer, MAX_LEN)\n",
        "d2_val_set = SentimentData(s_val_data, tokenizer, MAX_LEN)"
      ],
      "metadata": {
        "execution": {
          "iopub.status.busy": "2023-04-05T13:56:03.550480Z",
          "iopub.execute_input": "2023-04-05T13:56:03.550905Z",
          "iopub.status.idle": "2023-04-05T13:56:03.561432Z",
          "shell.execute_reply.started": "2023-04-05T13:56:03.550865Z",
          "shell.execute_reply": "2023-04-05T13:56:03.560097Z"
        },
        "trusted": true,
        "id": "_EJ8mUztFKQf"
      },
      "execution_count": 37,
      "outputs": []
    },
    {
      "cell_type": "code",
      "source": [
        "# Create D1 and D2 dataloaders\n",
        "train_params = {'batch_size': TRAIN_BATCH_SIZE,\n",
        "                'shuffle': True,\n",
        "                'num_workers': 0\n",
        "                }\n",
        "\n",
        "test_params = {'batch_size': VALID_BATCH_SIZE,\n",
        "                'shuffle': False,\n",
        "                'num_workers': 0\n",
        "                }\n",
        "\n",
        "d1_train_loader = DataLoader(d1_train_set, **train_params)\n",
        "d1_val_loader = DataLoader(d1_val_set, **test_params)\n",
        "\n",
        "d2_train_loader = DataLoader(d2_train_set, **train_params)\n",
        "d2_val_loader = DataLoader(d2_val_set, **test_params)"
      ],
      "metadata": {
        "execution": {
          "iopub.status.busy": "2023-04-05T13:56:03.562680Z",
          "iopub.execute_input": "2023-04-05T13:56:03.563005Z",
          "iopub.status.idle": "2023-04-05T13:56:03.573745Z",
          "shell.execute_reply.started": "2023-04-05T13:56:03.562975Z",
          "shell.execute_reply": "2023-04-05T13:56:03.572540Z"
        },
        "trusted": true,
        "id": "UZgNsDNYFKQf"
      },
      "execution_count": 38,
      "outputs": []
    },
    {
      "cell_type": "markdown",
      "source": [
        "# II. Model Training #"
      ],
      "metadata": {
        "id": "86f9Jv-LFKQg"
      }
    },
    {
      "cell_type": "markdown",
      "source": [
        "Question: Assume the model is deployed in a server within your news agency. Explain the inputs to the model and predictions that it is expected to output. Also explain how the predictions will be used by reporters."
      ],
      "metadata": {
        "id": "MKx2_cW9cr5x"
      }
    },
    {
      "cell_type": "markdown",
      "source": [
        "Answer:"
      ],
      "metadata": {
        "id": "ayaPHWXHc_Fo"
      }
    },
    {
      "cell_type": "markdown",
      "source": [
        "# III. Neural Network Multi Task Learing #"
      ],
      "metadata": {
        "id": "55P6W8zvdJTg"
      }
    },
    {
      "cell_type": "code",
      "source": [
        "# Final architecture to be used for Task 1 and Task 2\n",
        "class NetMultiTask(torch.nn.Module):\n",
        "    def __init__(self):\n",
        "        super(NetMultiTask, self).__init__()\n",
        "        self.net = RobertaModel.from_pretrained(\"roberta-base\")\n",
        "        \n",
        "        self.pre_classifier1 = torch.nn.Linear(768, 768)\n",
        "        self.dropout1 = torch.nn.Dropout(0.2)\n",
        "        self.classifier1 = torch.nn.Linear(768, 2)\n",
        "        \n",
        "        self.pre_classifier2 = torch.nn.Linear(768, 768)\n",
        "        self.dropout2 = torch.nn.Dropout(0.2)\n",
        "        self.classifier2 = torch.nn.Linear(768, 3)\n",
        "\n",
        "    def forward(self, input_ids, attention_mask, token_type_ids):\n",
        "        output_1 = self.net(input_ids=input_ids, attention_mask=attention_mask, token_type_ids=token_type_ids)\n",
        "        hidden_state = output_1[0]\n",
        "        pooler = hidden_state[:, 0]\n",
        "      \n",
        "        pooler1 = self.pre_classifier1(pooler)\n",
        "        pooler1 = torch.nn.ReLU()(pooler1)\n",
        "        pooler1 = self.dropout1(pooler1)\n",
        "        output1 = self.classifier1(pooler1)\n",
        "\n",
        "        pooler2 = self.pre_classifier2(pooler)\n",
        "        pooler2 = torch.nn.ReLU()(pooler2)\n",
        "        pooler2 = self.dropout2(pooler2)\n",
        "        output2 = self.classifier2(pooler2)\n",
        "        \n",
        "        return output1, output2"
      ],
      "metadata": {
        "id": "PopYuA22-7Ro"
      },
      "execution_count": 39,
      "outputs": []
    },
    {
      "cell_type": "markdown",
      "source": [
        "### Task 3.1 and Task 3.2 ###\n",
        "1. Train the model M only for T1 on Dtrain. Call the trained val 1\n",
        "model MD . Evaluate MD on D and report its 111\n",
        "performance metric (F1 score) for the first task, PerfT (MD |Dval). Also print the confusion matrix. ###\n",
        "\n",
        "2. Train the model M only for T2 on Dtrain . Call the trained\n",
        "model M . Evaluate the trained M2 on Dval and report D2 D2 2 val\n",
        "its performance metric (Accuracy) PerfT (MD |D Also print the confusion matrix."
      ],
      "metadata": {
        "id": "PTuJ_IH1gXyv"
      }
    },
    {
      "cell_type": "markdown",
      "source": [
        "#### Helper functions for the training and validation loops ####"
      ],
      "metadata": {
        "id": "lL3KXiaqdTNp"
      }
    },
    {
      "cell_type": "code",
      "source": [
        "def calcuate_accuracy(preds, targets):\n",
        "    n_correct = (preds==targets).sum().item()\n",
        "    return n_correct"
      ],
      "metadata": {
        "execution": {
          "iopub.status.busy": "2023-04-05T13:56:02.195329Z",
          "iopub.execute_input": "2023-04-05T13:56:02.195849Z",
          "iopub.status.idle": "2023-04-05T13:56:02.644063Z",
          "shell.execute_reply.started": "2023-04-05T13:56:02.195781Z",
          "shell.execute_reply": "2023-04-05T13:56:02.642940Z"
        },
        "trusted": true,
        "id": "ls13g2QrFKQX"
      },
      "execution_count": 40,
      "outputs": []
    },
    {
      "cell_type": "code",
      "source": [
        "def train(model, epoch, training_loader, mode):\n",
        "    tr_loss = 0\n",
        "    n_correct = 0\n",
        "    nb_tr_steps = 0\n",
        "    nb_tr_examples = 0\n",
        "    model.train()\n",
        "\n",
        "    \n",
        "    for _,data in enumerate(tqdm(training_loader, 0)):\n",
        "        ids = data['ids'].to(device, dtype = torch.long)\n",
        "        mask = data['mask'].to(device, dtype = torch.long)\n",
        "        token_type_ids = data['token_type_ids'].to(device, dtype = torch.long)\n",
        "        targets = data['targets'].to(device, dtype = torch.long)\n",
        "\n",
        "        output1, output2 = model(ids, mask, token_type_ids)\n",
        "\n",
        "        if mode == 1:\n",
        "            output = output1\n",
        "        elif mode == 2:\n",
        "            output = output2\n",
        "        else:\n",
        "            assert False, 'Bad Task ID passed'\n",
        "\n",
        "\n",
        "        loss = loss_function(output, targets)\n",
        "        tr_loss += loss.item()\n",
        "        big_val, big_idx = torch.max(output.data, dim=1)\n",
        "        n_correct += calcuate_accuracy(big_idx, targets)\n",
        "\n",
        "        nb_tr_steps += 1\n",
        "        nb_tr_examples+=targets.size(0)\n",
        "        \n",
        "        if _%5000==0:\n",
        "            loss_step = tr_loss/nb_tr_steps\n",
        "            accu_step = (n_correct*100)/nb_tr_examples \n",
        "            print(f\"Training Loss per 5000 steps: {loss_step}\")\n",
        "            print(f\"Training Accuracy per 5000 steps: {accu_step}\")\n",
        "\n",
        "        optimizer.zero_grad()\n",
        "        loss.backward()\n",
        "        # # When using GPU\n",
        "        optimizer.step()\n",
        "\n",
        "    print(f'The Total Accuracy for Epoch {epoch}: {(n_correct*100)/nb_tr_examples}')\n",
        "    epoch_loss = tr_loss/nb_tr_steps\n",
        "    epoch_accu = (n_correct*100)/nb_tr_examples\n",
        "    print(f\"Training Loss Epoch: {epoch_loss}\")\n",
        "    print(f\"Training Accuracy Epoch: {epoch_accu}\")\n",
        "    return\n",
        "\n",
        "def valid(model, testing_loader, mode):\n",
        "    model.eval()\n",
        "    #n_correct = 0; n_wrong = 0; total = 0; tr_loss=0; nb_tr_steps=0; nb_tr_examples=0\n",
        "    tr_loss=0\n",
        "    predicts = []\n",
        "\n",
        "    with torch.no_grad():\n",
        "        for _, data in enumerate(tqdm(testing_loader, 0)):\n",
        "            ids = data['ids'].to(device, dtype = torch.long)\n",
        "            mask = data['mask'].to(device, dtype = torch.long)\n",
        "            token_type_ids = data['token_type_ids'].to(device, dtype = torch.long)\n",
        "            targets = data['targets'].to(device, dtype = torch.long)\n",
        "\n",
        "            output1, output2 = model(ids, mask, token_type_ids)\n",
        "\n",
        "            if mode == 1:\n",
        "                output = output1\n",
        "            elif mode == 2:\n",
        "                output = output2\n",
        "            else:\n",
        "                assert False, 'Bad Task ID passed'\n",
        "\n",
        "            loss = loss_function(output, targets)\n",
        "            tr_loss += loss.item()\n",
        "            big_val, big_idx = torch.max(output.data, dim=1)\n",
        "            \n",
        "            for i in range(targets.size(0)):\n",
        "                predicts.append({\n",
        "                    \"predict\": big_idx[i].item(),\n",
        "                    \"target\": targets[i].item()\n",
        "                })\n",
        "    df = pd.DataFrame(predicts)\n",
        "    return df"
      ],
      "metadata": {
        "id": "aJBFApRfAAqV"
      },
      "execution_count": 41,
      "outputs": []
    },
    {
      "cell_type": "markdown",
      "source": [
        "#### Training code used ####"
      ],
      "metadata": {
        "id": "02IMtMT0f_LW"
      }
    },
    {
      "cell_type": "code",
      "source": [
        "# Specifying the learning rate for both tasks\n",
        "LEARNING_RATE = 1e-05"
      ],
      "metadata": {
        "execution": {
          "iopub.status.busy": "2023-04-05T13:56:38.651961Z",
          "iopub.execute_input": "2023-04-05T13:56:38.652397Z",
          "iopub.status.idle": "2023-04-05T13:56:38.658241Z",
          "shell.execute_reply.started": "2023-04-05T13:56:38.652359Z",
          "shell.execute_reply": "2023-04-05T13:56:38.656849Z"
        },
        "trusted": true,
        "id": "oNbFDjr6FKQg"
      },
      "execution_count": 42,
      "outputs": []
    },
    {
      "cell_type": "code",
      "source": [
        "## Train on first task. Commented out since training done outside of this notebook\n",
        "# net1 = NetMultiTask()\n",
        "# net1.to(device)\n",
        "# #for training only the classification layer\n",
        "\n",
        "# # for param in net1.net.parameters():\n",
        "# #     param.requires_grad = False\n",
        "\n",
        "# EPOCHS = 3\n",
        "# loss_function = torch.nn.CrossEntropyLoss()\n",
        "# optimizer = torch.optim.Adam(params = net1.parameters(), lr = LEARNING_RATE)\n",
        "# for epoch in range(EPOCHS):\n",
        "#     train(net1, epoch, d1_train_loader, mode = 1)\n",
        "\n",
        "# Getting validation predictions\n",
        "# predicts_d1  = valid(net1, d1_val_loader, mode = 1)\n"
      ],
      "metadata": {
        "execution": {
          "iopub.status.busy": "2023-04-05T13:56:38.899969Z",
          "iopub.execute_input": "2023-04-05T13:56:38.900404Z",
          "iopub.status.idle": "2023-04-05T14:14:55.538346Z",
          "shell.execute_reply.started": "2023-04-05T13:56:38.900367Z",
          "shell.execute_reply": "2023-04-05T14:14:55.535628Z"
        },
        "trusted": true,
        "id": "XR5hNjWbFKQg"
      },
      "execution_count": 43,
      "outputs": []
    },
    {
      "cell_type": "code",
      "source": [
        "## Train on first task. Commented out since training done outside of this notebook\n",
        "# net2 = NetMultiTask()\n",
        "# net2.to(device)\n",
        "\n",
        "# # for param in net2.net.parameters():\n",
        "# #     param.requires_grad = False\n",
        "\n",
        "# loss_function = torch.nn.CrossEntropyLoss()\n",
        "# optimizer = torch.optim.Adam(params = net2.parameters(), lr = LEARNING_RATE)\n",
        "# EPOCHS = 5\n",
        "# for epoch in range(EPOCHS):\n",
        "#     train(net2, epoch, d2_train_loader, mode = 2)\n",
        "\n",
        "# Getting validation predictions\n",
        "# predicts_d2  = valid(net2, d2_val_loader, mode = 2)"
      ],
      "metadata": {
        "execution": {
          "iopub.status.busy": "2023-04-05T14:14:55.539386Z",
          "iopub.status.idle": "2023-04-05T14:14:55.539936Z",
          "shell.execute_reply.started": "2023-04-05T14:14:55.539699Z",
          "shell.execute_reply": "2023-04-05T14:14:55.539734Z"
        },
        "trusted": true,
        "id": "udR3Dn00FKQg"
      },
      "execution_count": 44,
      "outputs": []
    },
    {
      "cell_type": "code",
      "source": [
        "# Code to save model so we can replicate the predictions\n",
        "# net1_bin = \"./net1.bin\"\n",
        "# net2_bin = \"./net2.bin\"\n",
        "\n",
        "# Saving models and validation predictions to local\n",
        "# predicts_d1.to_csv(\"./predicts_d1.csv\")\n",
        "# predicts_d2.to_csv(\"./predicts_d2.csv\")\n",
        "# torch.save(net1, net1_bin)\n",
        "# torch.save(net2, net2_bin)"
      ],
      "metadata": {
        "execution": {
          "iopub.status.busy": "2023-04-05T14:14:55.541840Z",
          "iopub.status.idle": "2023-04-05T14:14:55.542727Z",
          "shell.execute_reply.started": "2023-04-05T14:14:55.542395Z",
          "shell.execute_reply": "2023-04-05T14:14:55.542429Z"
        },
        "trusted": true,
        "id": "0dAqHB-LFKQg"
      },
      "execution_count": 45,
      "outputs": []
    },
    {
      "cell_type": "markdown",
      "source": [
        "#### Perfomance Metrics and Confusion Matrices ####"
      ],
      "metadata": {
        "id": "yRasxaAMgLtS"
      }
    },
    {
      "cell_type": "code",
      "source": [
        "# Loading the saved predictions for reporting metrics\n",
        "predicts_d1 = pd.read_csv(\"/content/drive/MyDrive/BT5151/group_project/predicts_d1_roberta_final.csv\", index_col=0)\n",
        "predicts_d2 = pd.read_csv(\"/content/drive/MyDrive/BT5151/group_project/predicts_d2_roberta_final.csv\", index_col=0)"
      ],
      "metadata": {
        "id": "SbZ_WYOPID72"
      },
      "execution_count": 46,
      "outputs": []
    },
    {
      "cell_type": "code",
      "source": [
        "print(classification_report(predicts_d1.target, predicts_d1.predict))\n",
        "print(f\"D1 F1: {f1_score(predicts_d1.target, predicts_d1.predict)}\\n\"\n",
        "      f\"D1 Accuracy: {accuracy_score(predicts_d1.target, predicts_d1.predict)}\\n\")"
      ],
      "metadata": {
        "execution": {
          "iopub.status.busy": "2023-04-05T14:14:55.545023Z",
          "iopub.status.idle": "2023-04-05T14:14:55.545706Z",
          "shell.execute_reply.started": "2023-04-05T14:14:55.545387Z",
          "shell.execute_reply": "2023-04-05T14:14:55.545420Z"
        },
        "trusted": true,
        "colab": {
          "base_uri": "https://localhost:8080/"
        },
        "id": "zii3W3YiFKQg",
        "outputId": "56ca43b0-998c-49c7-a5f6-7d566ed39ee6"
      },
      "execution_count": 47,
      "outputs": [
        {
          "output_type": "stream",
          "name": "stdout",
          "text": [
            "              precision    recall  f1-score   support\n",
            "\n",
            "           0       0.84      0.88      0.86       861\n",
            "           1       0.82      0.77      0.80       640\n",
            "\n",
            "    accuracy                           0.83      1501\n",
            "   macro avg       0.83      0.82      0.83      1501\n",
            "weighted avg       0.83      0.83      0.83      1501\n",
            "\n",
            "D1 F1: 0.7974172719935432\n",
            "D1 Accuracy: 0.832778147901399\n",
            "\n"
          ]
        }
      ]
    },
    {
      "cell_type": "code",
      "source": [
        "cm_d1 = confusion_matrix(predicts_d1.target, predicts_d1.predict)\n",
        "disp = ConfusionMatrixDisplay(confusion_matrix=cm_d1, display_labels=['not disaster', 'disaster'])\n",
        "disp.plot()\n",
        "plt.show()"
      ],
      "metadata": {
        "colab": {
          "base_uri": "https://localhost:8080/",
          "height": 449
        },
        "id": "sdVPl1rfFKQg",
        "outputId": "15a7c7ca-6a6d-4873-95b2-22a75047ce91"
      },
      "execution_count": 48,
      "outputs": [
        {
          "output_type": "display_data",
          "data": {
            "text/plain": [
              "<Figure size 640x480 with 2 Axes>"
            ],
            "image/png": "[encoded data removed]"
          },
          "metadata": {}
        }
      ]
    },
    {
      "cell_type": "code",
      "source": [
        "print(classification_report(predicts_d2.target, predicts_d2.predict))\n",
        "print(f\"D2 F1: {f1_score(predicts_d2.target, predicts_d2.predict, average='weighted')}\\n\"\n",
        "      f\"D2 Accuracy: {accuracy_score(predicts_d2.target, predicts_d2.predict)}\\n\")"
      ],
      "metadata": {
        "colab": {
          "base_uri": "https://localhost:8080/"
        },
        "id": "1Ngor95-doZW",
        "outputId": "cacf42a6-70ee-4073-ded2-cc281c47ab71"
      },
      "execution_count": 49,
      "outputs": [
        {
          "output_type": "stream",
          "name": "stdout",
          "text": [
            "              precision    recall  f1-score   support\n",
            "\n",
            "           0       0.83      0.75      0.79      1556\n",
            "           1       0.76      0.75      0.76      2223\n",
            "           2       0.80      0.88      0.84      1717\n",
            "\n",
            "    accuracy                           0.79      5496\n",
            "   macro avg       0.80      0.79      0.79      5496\n",
            "weighted avg       0.79      0.79      0.79      5496\n",
            "\n",
            "D2 F1: 0.7896766952626569\n",
            "D2 Accuracy: 0.7905749636098981\n",
            "\n"
          ]
        }
      ]
    },
    {
      "cell_type": "code",
      "source": [
        "cm_d2 = confusion_matrix(predicts_d2.target, predicts_d2.predict)\n",
        "disp = ConfusionMatrixDisplay(confusion_matrix=cm_d2, display_labels=['negative', 'neutral','positive'])\n",
        "disp.plot()\n",
        "plt.show()"
      ],
      "metadata": {
        "colab": {
          "base_uri": "https://localhost:8080/",
          "height": 449
        },
        "id": "wdfDXnO6Hxm-",
        "outputId": "7e632f1f-3dd4-47b7-bfd1-adce95add839"
      },
      "execution_count": 50,
      "outputs": [
        {
          "output_type": "display_data",
          "data": {
            "text/plain": [
              "<Figure size 640x480 with 2 Axes>"
            ],
            "image/png": "[encoded data removed]"
          },
          "metadata": {}
        }
      ]
    },
    {
      "cell_type": "markdown",
      "source": [
        "### Task 3.3 ###\n",
        "Estimate the sentiment labels for the tweets in D1"
      ],
      "metadata": {
        "id": "HwqpkPesHcgr"
      }
    },
    {
      "cell_type": "code",
      "source": [
        "model_path = \"/content/drive/MyDrive/BT5151/group_project/roberta_d2_final.bin\" \n",
        "model_d2 = torch.load(model_path, map_location=device)"
      ],
      "metadata": {
        "id": "iIjFHZs5QQ6l"
      },
      "execution_count": 51,
      "outputs": []
    },
    {
      "cell_type": "code",
      "source": [
        "data_quality(d_train_orig)"
      ],
      "metadata": {
        "id": "RwMokFd6RLO5",
        "colab": {
          "base_uri": "https://localhost:8080/",
          "height": 206
        },
        "outputId": "04fa0f02-efd9-4b53-a373-9fb928f590b8"
      },
      "execution_count": 52,
      "outputs": [
        {
          "output_type": "execute_result",
          "data": {
            "text/plain": [
              "          Present Values  Missing Values  Unique Values\n",
              "id                  7613               0           7613\n",
              "keyword             7552              61            221\n",
              "location            5080            2533           3341\n",
              "text                7613               0           7503\n",
              "target              7613               0              2"
            ],
            "text/html": [
              "\n",
              "  <div id=\"df-6cb395e7-d1e5-4fbc-ac4b-c8910ec37e9f\">\n",
              "    <div class=\"colab-df-container\">\n",
              "      <div>\n",
              "<style scoped>\n",
              "    .dataframe tbody tr th:only-of-type {\n",
              "        vertical-align: middle;\n",
              "    }\n",
              "\n",
              "    .dataframe tbody tr th {\n",
              "        vertical-align: top;\n",
              "    }\n",
              "\n",
              "    .dataframe thead th {\n",
              "        text-align: right;\n",
              "    }\n",
              "</style>\n",
              "<table border=\"1\" class=\"dataframe\">\n",
              "  <thead>\n",
              "    <tr style=\"text-align: right;\">\n",
              "      <th></th>\n",
              "      <th>Present Values</th>\n",
              "      <th>Missing Values</th>\n",
              "      <th>Unique Values</th>\n",
              "    </tr>\n",
              "  </thead>\n",
              "  <tbody>\n",
              "    <tr>\n",
              "      <th>id</th>\n",
              "      <td>7613</td>\n",
              "      <td>0</td>\n",
              "      <td>7613</td>\n",
              "    </tr>\n",
              "    <tr>\n",
              "      <th>keyword</th>\n",
              "      <td>7552</td>\n",
              "      <td>61</td>\n",
              "      <td>221</td>\n",
              "    </tr>\n",
              "    <tr>\n",
              "      <th>location</th>\n",
              "      <td>5080</td>\n",
              "      <td>2533</td>\n",
              "      <td>3341</td>\n",
              "    </tr>\n",
              "    <tr>\n",
              "      <th>text</th>\n",
              "      <td>7613</td>\n",
              "      <td>0</td>\n",
              "      <td>7503</td>\n",
              "    </tr>\n",
              "    <tr>\n",
              "      <th>target</th>\n",
              "      <td>7613</td>\n",
              "      <td>0</td>\n",
              "      <td>2</td>\n",
              "    </tr>\n",
              "  </tbody>\n",
              "</table>\n",
              "</div>\n",
              "      <button class=\"colab-df-convert\" onclick=\"convertToInteractive('df-6cb395e7-d1e5-4fbc-ac4b-c8910ec37e9f')\"\n",
              "              title=\"Convert this dataframe to an interactive table.\"\n",
              "              style=\"display:none;\">\n",
              "        \n",
              "  <svg xmlns=\"http://www.w3.org/2000/svg\" height=\"24px\"viewBox=\"0 0 24 24\"\n",
              "       width=\"24px\">\n",
              "    <path d=\"M0 0h24v24H0V0z\" fill=\"none\"/>\n",
              "    <path d=\"M18.56 5.44l.94 2.06.94-2.06 2.06-.94-2.06-.94-.94-2.06-.94 2.06-2.06.94zm-11 1L8.5 8.5l.94-2.06 2.06-.94-2.06-.94L8.5 2.5l-.94 2.06-2.06.94zm10 10l.94 2.06.94-2.06 2.06-.94-2.06-.94-.94-2.06-.94 2.06-2.06.94z\"/><path d=\"M17.41 7.96l-1.37-1.37c-.4-.4-.92-.59-1.43-.59-.52 0-1.04.2-1.43.59L10.3 9.45l-7.72 7.72c-.78.78-.78 2.05 0 2.83L4 21.41c.39.39.9.59 1.41.59.51 0 1.02-.2 1.41-.59l7.78-7.78 2.81-2.81c.8-.78.8-2.07 0-2.86zM5.41 20L4 18.59l7.72-7.72 1.47 1.35L5.41 20z\"/>\n",
              "  </svg>\n",
              "      </button>\n",
              "      \n",
              "  <style>\n",
              "    .colab-df-container {\n",
              "      display:flex;\n",
              "      flex-wrap:wrap;\n",
              "      gap: 12px;\n",
              "    }\n",
              "\n",
              "    .colab-df-convert {\n",
              "      background-color: #E8F0FE;\n",
              "      border: none;\n",
              "      border-radius: 50%;\n",
              "      cursor: pointer;\n",
              "      display: none;\n",
              "      fill: #1967D2;\n",
              "      height: 32px;\n",
              "      padding: 0 0 0 0;\n",
              "      width: 32px;\n",
              "    }\n",
              "\n",
              "    .colab-df-convert:hover {\n",
              "      background-color: #E2EBFA;\n",
              "      box-shadow: 0px 1px 2px rgba(60, 64, 67, 0.3), 0px 1px 3px 1px rgba(60, 64, 67, 0.15);\n",
              "      fill: #174EA6;\n",
              "    }\n",
              "\n",
              "    [theme=dark] .colab-df-convert {\n",
              "      background-color: #3B4455;\n",
              "      fill: #D2E3FC;\n",
              "    }\n",
              "\n",
              "    [theme=dark] .colab-df-convert:hover {\n",
              "      background-color: #434B5C;\n",
              "      box-shadow: 0px 1px 3px 1px rgba(0, 0, 0, 0.15);\n",
              "      filter: drop-shadow(0px 1px 2px rgba(0, 0, 0, 0.3));\n",
              "      fill: #FFFFFF;\n",
              "    }\n",
              "  </style>\n",
              "\n",
              "      <script>\n",
              "        const buttonEl =\n",
              "          document.querySelector('#df-6cb395e7-d1e5-4fbc-ac4b-c8910ec37e9f button.colab-df-convert');\n",
              "        buttonEl.style.display =\n",
              "          google.colab.kernel.accessAllowed ? 'block' : 'none';\n",
              "\n",
              "        async function convertToInteractive(key) {\n",
              "          const element = document.querySelector('#df-6cb395e7-d1e5-4fbc-ac4b-c8910ec37e9f');\n",
              "          const dataTable =\n",
              "            await google.colab.kernel.invokeFunction('convertToInteractive',\n",
              "                                                     [key], {});\n",
              "          if (!dataTable) return;\n",
              "\n",
              "          const docLinkHtml = 'Like what you see? Visit the ' +\n",
              "            '<a target=\"_blank\" href=https://colab.research.google.com/notebooks/data_table.ipynb>data table notebook</a>'\n",
              "            + ' to learn more about interactive tables.';\n",
              "          element.innerHTML = '';\n",
              "          dataTable['output_type'] = 'display_data';\n",
              "          await google.colab.output.renderOutput(dataTable, element);\n",
              "          const docLink = document.createElement('div');\n",
              "          docLink.innerHTML = docLinkHtml;\n",
              "          element.appendChild(docLink);\n",
              "        }\n",
              "      </script>\n",
              "    </div>\n",
              "  </div>\n",
              "  "
            ]
          },
          "metadata": {},
          "execution_count": 52
        }
      ]
    },
    {
      "cell_type": "code",
      "source": [
        "d1_train_infer = SentimentData(d_train_orig, tokenizer, MAX_LEN)"
      ],
      "metadata": {
        "id": "72WmaMPtRMrk"
      },
      "execution_count": 53,
      "outputs": []
    },
    {
      "cell_type": "code",
      "source": [
        "test_params = {'batch_size': VALID_BATCH_SIZE,\n",
        "                'shuffle': False,\n",
        "                'num_workers': 0\n",
        "                }\n",
        "d1_infer_loader = DataLoader(d1_train_infer, **test_params)"
      ],
      "metadata": {
        "id": "6t9nq_xDRmWJ"
      },
      "execution_count": 54,
      "outputs": []
    },
    {
      "cell_type": "code",
      "source": [
        "loss_function = torch.nn.CrossEntropyLoss()\n",
        "optimizer = torch.optim.Adam(params = model_d2.parameters(), lr = LEARNING_RATE)\n",
        "predicts_d1_infer = valid(model_d2, d1_infer_loader, mode=2)"
      ],
      "metadata": {
        "id": "OIdUb25lSBrl",
        "colab": {
          "base_uri": "https://localhost:8080/"
        },
        "outputId": "ffaa5d9e-18cc-4e95-9a72-1571ff9718df"
      },
      "execution_count": 55,
      "outputs": [
        {
          "output_type": "stream",
          "name": "stderr",
          "text": [
            "100%|██████████| 238/238 [04:03<00:00,  1.02s/it]\n"
          ]
        }
      ]
    },
    {
      "cell_type": "code",
      "source": [
        "predicts_d1_infer['predict'].value_counts()"
      ],
      "metadata": {
        "id": "BMdEWCsrSQzC",
        "colab": {
          "base_uri": "https://localhost:8080/"
        },
        "outputId": "54e2d07b-2e22-4fdb-ea3d-99e6d4376581"
      },
      "execution_count": 56,
      "outputs": [
        {
          "output_type": "execute_result",
          "data": {
            "text/plain": [
              "1    4146\n",
              "0    2430\n",
              "2    1037\n",
              "Name: predict, dtype: int64"
            ]
          },
          "metadata": {},
          "execution_count": 56
        }
      ]
    },
    {
      "cell_type": "code",
      "source": [
        "predicts_d1_infer.head()"
      ],
      "metadata": {
        "colab": {
          "base_uri": "https://localhost:8080/",
          "height": 206
        },
        "id": "pyA8RtcVtn97",
        "outputId": "80a7efef-04b8-4dd2-b200-3a972183238b"
      },
      "execution_count": 57,
      "outputs": [
        {
          "output_type": "execute_result",
          "data": {
            "text/plain": [
              "   predict  target\n",
              "0        0       1\n",
              "1        1       1\n",
              "2        1       1\n",
              "3        1       1\n",
              "4        1       1"
            ],
            "text/html": [
              "\n",
              "  <div id=\"df-ba5c0adb-ff2b-40d5-b49d-783ab46514eb\">\n",
              "    <div class=\"colab-df-container\">\n",
              "      <div>\n",
              "<style scoped>\n",
              "    .dataframe tbody tr th:only-of-type {\n",
              "        vertical-align: middle;\n",
              "    }\n",
              "\n",
              "    .dataframe tbody tr th {\n",
              "        vertical-align: top;\n",
              "    }\n",
              "\n",
              "    .dataframe thead th {\n",
              "        text-align: right;\n",
              "    }\n",
              "</style>\n",
              "<table border=\"1\" class=\"dataframe\">\n",
              "  <thead>\n",
              "    <tr style=\"text-align: right;\">\n",
              "      <th></th>\n",
              "      <th>predict</th>\n",
              "      <th>target</th>\n",
              "    </tr>\n",
              "  </thead>\n",
              "  <tbody>\n",
              "    <tr>\n",
              "      <th>0</th>\n",
              "      <td>0</td>\n",
              "      <td>1</td>\n",
              "    </tr>\n",
              "    <tr>\n",
              "      <th>1</th>\n",
              "      <td>1</td>\n",
              "      <td>1</td>\n",
              "    </tr>\n",
              "    <tr>\n",
              "      <th>2</th>\n",
              "      <td>1</td>\n",
              "      <td>1</td>\n",
              "    </tr>\n",
              "    <tr>\n",
              "      <th>3</th>\n",
              "      <td>1</td>\n",
              "      <td>1</td>\n",
              "    </tr>\n",
              "    <tr>\n",
              "      <th>4</th>\n",
              "      <td>1</td>\n",
              "      <td>1</td>\n",
              "    </tr>\n",
              "  </tbody>\n",
              "</table>\n",
              "</div>\n",
              "      <button class=\"colab-df-convert\" onclick=\"convertToInteractive('df-ba5c0adb-ff2b-40d5-b49d-783ab46514eb')\"\n",
              "              title=\"Convert this dataframe to an interactive table.\"\n",
              "              style=\"display:none;\">\n",
              "        \n",
              "  <svg xmlns=\"http://www.w3.org/2000/svg\" height=\"24px\"viewBox=\"0 0 24 24\"\n",
              "       width=\"24px\">\n",
              "    <path d=\"M0 0h24v24H0V0z\" fill=\"none\"/>\n",
              "    <path d=\"M18.56 5.44l.94 2.06.94-2.06 2.06-.94-2.06-.94-.94-2.06-.94 2.06-2.06.94zm-11 1L8.5 8.5l.94-2.06 2.06-.94-2.06-.94L8.5 2.5l-.94 2.06-2.06.94zm10 10l.94 2.06.94-2.06 2.06-.94-2.06-.94-.94-2.06-.94 2.06-2.06.94z\"/><path d=\"M17.41 7.96l-1.37-1.37c-.4-.4-.92-.59-1.43-.59-.52 0-1.04.2-1.43.59L10.3 9.45l-7.72 7.72c-.78.78-.78 2.05 0 2.83L4 21.41c.39.39.9.59 1.41.59.51 0 1.02-.2 1.41-.59l7.78-7.78 2.81-2.81c.8-.78.8-2.07 0-2.86zM5.41 20L4 18.59l7.72-7.72 1.47 1.35L5.41 20z\"/>\n",
              "  </svg>\n",
              "      </button>\n",
              "      \n",
              "  <style>\n",
              "    .colab-df-container {\n",
              "      display:flex;\n",
              "      flex-wrap:wrap;\n",
              "      gap: 12px;\n",
              "    }\n",
              "\n",
              "    .colab-df-convert {\n",
              "      background-color: #E8F0FE;\n",
              "      border: none;\n",
              "      border-radius: 50%;\n",
              "      cursor: pointer;\n",
              "      display: none;\n",
              "      fill: #1967D2;\n",
              "      height: 32px;\n",
              "      padding: 0 0 0 0;\n",
              "      width: 32px;\n",
              "    }\n",
              "\n",
              "    .colab-df-convert:hover {\n",
              "      background-color: #E2EBFA;\n",
              "      box-shadow: 0px 1px 2px rgba(60, 64, 67, 0.3), 0px 1px 3px 1px rgba(60, 64, 67, 0.15);\n",
              "      fill: #174EA6;\n",
              "    }\n",
              "\n",
              "    [theme=dark] .colab-df-convert {\n",
              "      background-color: #3B4455;\n",
              "      fill: #D2E3FC;\n",
              "    }\n",
              "\n",
              "    [theme=dark] .colab-df-convert:hover {\n",
              "      background-color: #434B5C;\n",
              "      box-shadow: 0px 1px 3px 1px rgba(0, 0, 0, 0.15);\n",
              "      filter: drop-shadow(0px 1px 2px rgba(0, 0, 0, 0.3));\n",
              "      fill: #FFFFFF;\n",
              "    }\n",
              "  </style>\n",
              "\n",
              "      <script>\n",
              "        const buttonEl =\n",
              "          document.querySelector('#df-ba5c0adb-ff2b-40d5-b49d-783ab46514eb button.colab-df-convert');\n",
              "        buttonEl.style.display =\n",
              "          google.colab.kernel.accessAllowed ? 'block' : 'none';\n",
              "\n",
              "        async function convertToInteractive(key) {\n",
              "          const element = document.querySelector('#df-ba5c0adb-ff2b-40d5-b49d-783ab46514eb');\n",
              "          const dataTable =\n",
              "            await google.colab.kernel.invokeFunction('convertToInteractive',\n",
              "                                                     [key], {});\n",
              "          if (!dataTable) return;\n",
              "\n",
              "          const docLinkHtml = 'Like what you see? Visit the ' +\n",
              "            '<a target=\"_blank\" href=https://colab.research.google.com/notebooks/data_table.ipynb>data table notebook</a>'\n",
              "            + ' to learn more about interactive tables.';\n",
              "          element.innerHTML = '';\n",
              "          dataTable['output_type'] = 'display_data';\n",
              "          await google.colab.output.renderOutput(dataTable, element);\n",
              "          const docLink = document.createElement('div');\n",
              "          docLink.innerHTML = docLinkHtml;\n",
              "          element.appendChild(docLink);\n",
              "        }\n",
              "      </script>\n",
              "    </div>\n",
              "  </div>\n",
              "  "
            ]
          },
          "metadata": {},
          "execution_count": 57
        }
      ]
    },
    {
      "cell_type": "code",
      "source": [
        "predicts_d1_infer.drop(columns='target', inplace=True)"
      ],
      "metadata": {
        "id": "B48tV4G5TNUN"
      },
      "execution_count": 58,
      "outputs": []
    },
    {
      "cell_type": "code",
      "source": [
        "d1_augment = d_train_orig.merge(predicts_d1_infer, left_index=True, right_index=True)\n",
        "d1_augment.rename({'predict': 'sentiment'}, axis =1, inplace=True)"
      ],
      "metadata": {
        "id": "0ItNr_DATq8y"
      },
      "execution_count": 59,
      "outputs": []
    },
    {
      "cell_type": "code",
      "source": [
        "d1_augment.head()"
      ],
      "metadata": {
        "id": "S3HymLXPUBo7",
        "colab": {
          "base_uri": "https://localhost:8080/",
          "height": 206
        },
        "outputId": "78460329-8511-447e-9363-bd5caee3c9c5"
      },
      "execution_count": 60,
      "outputs": [
        {
          "output_type": "execute_result",
          "data": {
            "text/plain": [
              "   id keyword location                                               text  \\\n",
              "0   1     NaN      NaN  Our Deeds are the Reason of this #earthquake M...   \n",
              "1   4     NaN      NaN             Forest fire near La Ronge Sask. Canada   \n",
              "2   5     NaN      NaN  All residents asked to 'shelter in place' are ...   \n",
              "3   6     NaN      NaN  13,000 people receive #wildfires evacuation or...   \n",
              "4   7     NaN      NaN  Just got sent this photo from Ruby #Alaska as ...   \n",
              "\n",
              "   target  sentiment  \n",
              "0       1          0  \n",
              "1       1          1  \n",
              "2       1          1  \n",
              "3       1          1  \n",
              "4       1          1  "
            ],
            "text/html": [
              "\n",
              "  <div id=\"df-6f6dd2c1-08b0-4b51-bc60-149b20303920\">\n",
              "    <div class=\"colab-df-container\">\n",
              "      <div>\n",
              "<style scoped>\n",
              "    .dataframe tbody tr th:only-of-type {\n",
              "        vertical-align: middle;\n",
              "    }\n",
              "\n",
              "    .dataframe tbody tr th {\n",
              "        vertical-align: top;\n",
              "    }\n",
              "\n",
              "    .dataframe thead th {\n",
              "        text-align: right;\n",
              "    }\n",
              "</style>\n",
              "<table border=\"1\" class=\"dataframe\">\n",
              "  <thead>\n",
              "    <tr style=\"text-align: right;\">\n",
              "      <th></th>\n",
              "      <th>id</th>\n",
              "      <th>keyword</th>\n",
              "      <th>location</th>\n",
              "      <th>text</th>\n",
              "      <th>target</th>\n",
              "      <th>sentiment</th>\n",
              "    </tr>\n",
              "  </thead>\n",
              "  <tbody>\n",
              "    <tr>\n",
              "      <th>0</th>\n",
              "      <td>1</td>\n",
              "      <td>NaN</td>\n",
              "      <td>NaN</td>\n",
              "      <td>Our Deeds are the Reason of this #earthquake M...</td>\n",
              "      <td>1</td>\n",
              "      <td>0</td>\n",
              "    </tr>\n",
              "    <tr>\n",
              "      <th>1</th>\n",
              "      <td>4</td>\n",
              "      <td>NaN</td>\n",
              "      <td>NaN</td>\n",
              "      <td>Forest fire near La Ronge Sask. Canada</td>\n",
              "      <td>1</td>\n",
              "      <td>1</td>\n",
              "    </tr>\n",
              "    <tr>\n",
              "      <th>2</th>\n",
              "      <td>5</td>\n",
              "      <td>NaN</td>\n",
              "      <td>NaN</td>\n",
              "      <td>All residents asked to 'shelter in place' are ...</td>\n",
              "      <td>1</td>\n",
              "      <td>1</td>\n",
              "    </tr>\n",
              "    <tr>\n",
              "      <th>3</th>\n",
              "      <td>6</td>\n",
              "      <td>NaN</td>\n",
              "      <td>NaN</td>\n",
              "      <td>13,000 people receive #wildfires evacuation or...</td>\n",
              "      <td>1</td>\n",
              "      <td>1</td>\n",
              "    </tr>\n",
              "    <tr>\n",
              "      <th>4</th>\n",
              "      <td>7</td>\n",
              "      <td>NaN</td>\n",
              "      <td>NaN</td>\n",
              "      <td>Just got sent this photo from Ruby #Alaska as ...</td>\n",
              "      <td>1</td>\n",
              "      <td>1</td>\n",
              "    </tr>\n",
              "  </tbody>\n",
              "</table>\n",
              "</div>\n",
              "      <button class=\"colab-df-convert\" onclick=\"convertToInteractive('df-6f6dd2c1-08b0-4b51-bc60-149b20303920')\"\n",
              "              title=\"Convert this dataframe to an interactive table.\"\n",
              "              style=\"display:none;\">\n",
              "        \n",
              "  <svg xmlns=\"http://www.w3.org/2000/svg\" height=\"24px\"viewBox=\"0 0 24 24\"\n",
              "       width=\"24px\">\n",
              "    <path d=\"M0 0h24v24H0V0z\" fill=\"none\"/>\n",
              "    <path d=\"M18.56 5.44l.94 2.06.94-2.06 2.06-.94-2.06-.94-.94-2.06-.94 2.06-2.06.94zm-11 1L8.5 8.5l.94-2.06 2.06-.94-2.06-.94L8.5 2.5l-.94 2.06-2.06.94zm10 10l.94 2.06.94-2.06 2.06-.94-2.06-.94-.94-2.06-.94 2.06-2.06.94z\"/><path d=\"M17.41 7.96l-1.37-1.37c-.4-.4-.92-.59-1.43-.59-.52 0-1.04.2-1.43.59L10.3 9.45l-7.72 7.72c-.78.78-.78 2.05 0 2.83L4 21.41c.39.39.9.59 1.41.59.51 0 1.02-.2 1.41-.59l7.78-7.78 2.81-2.81c.8-.78.8-2.07 0-2.86zM5.41 20L4 18.59l7.72-7.72 1.47 1.35L5.41 20z\"/>\n",
              "  </svg>\n",
              "      </button>\n",
              "      \n",
              "  <style>\n",
              "    .colab-df-container {\n",
              "      display:flex;\n",
              "      flex-wrap:wrap;\n",
              "      gap: 12px;\n",
              "    }\n",
              "\n",
              "    .colab-df-convert {\n",
              "      background-color: #E8F0FE;\n",
              "      border: none;\n",
              "      border-radius: 50%;\n",
              "      cursor: pointer;\n",
              "      display: none;\n",
              "      fill: #1967D2;\n",
              "      height: 32px;\n",
              "      padding: 0 0 0 0;\n",
              "      width: 32px;\n",
              "    }\n",
              "\n",
              "    .colab-df-convert:hover {\n",
              "      background-color: #E2EBFA;\n",
              "      box-shadow: 0px 1px 2px rgba(60, 64, 67, 0.3), 0px 1px 3px 1px rgba(60, 64, 67, 0.15);\n",
              "      fill: #174EA6;\n",
              "    }\n",
              "\n",
              "    [theme=dark] .colab-df-convert {\n",
              "      background-color: #3B4455;\n",
              "      fill: #D2E3FC;\n",
              "    }\n",
              "\n",
              "    [theme=dark] .colab-df-convert:hover {\n",
              "      background-color: #434B5C;\n",
              "      box-shadow: 0px 1px 3px 1px rgba(0, 0, 0, 0.15);\n",
              "      filter: drop-shadow(0px 1px 2px rgba(0, 0, 0, 0.3));\n",
              "      fill: #FFFFFF;\n",
              "    }\n",
              "  </style>\n",
              "\n",
              "      <script>\n",
              "        const buttonEl =\n",
              "          document.querySelector('#df-6f6dd2c1-08b0-4b51-bc60-149b20303920 button.colab-df-convert');\n",
              "        buttonEl.style.display =\n",
              "          google.colab.kernel.accessAllowed ? 'block' : 'none';\n",
              "\n",
              "        async function convertToInteractive(key) {\n",
              "          const element = document.querySelector('#df-6f6dd2c1-08b0-4b51-bc60-149b20303920');\n",
              "          const dataTable =\n",
              "            await google.colab.kernel.invokeFunction('convertToInteractive',\n",
              "                                                     [key], {});\n",
              "          if (!dataTable) return;\n",
              "\n",
              "          const docLinkHtml = 'Like what you see? Visit the ' +\n",
              "            '<a target=\"_blank\" href=https://colab.research.google.com/notebooks/data_table.ipynb>data table notebook</a>'\n",
              "            + ' to learn more about interactive tables.';\n",
              "          element.innerHTML = '';\n",
              "          dataTable['output_type'] = 'display_data';\n",
              "          await google.colab.output.renderOutput(dataTable, element);\n",
              "          const docLink = document.createElement('div');\n",
              "          docLink.innerHTML = docLinkHtml;\n",
              "          element.appendChild(docLink);\n",
              "        }\n",
              "      </script>\n",
              "    </div>\n",
              "  </div>\n",
              "  "
            ]
          },
          "metadata": {},
          "execution_count": 60
        }
      ]
    },
    {
      "cell_type": "code",
      "source": [
        "d1_augment['sentiment'].value_counts()"
      ],
      "metadata": {
        "id": "9ts3OwleUG65",
        "colab": {
          "base_uri": "https://localhost:8080/"
        },
        "outputId": "eef95ea0-c347-484b-bd58-13932c8f8c05"
      },
      "execution_count": 61,
      "outputs": [
        {
          "output_type": "execute_result",
          "data": {
            "text/plain": [
              "1    4146\n",
              "0    2430\n",
              "2    1037\n",
              "Name: sentiment, dtype: int64"
            ]
          },
          "metadata": {},
          "execution_count": 61
        }
      ]
    },
    {
      "cell_type": "code",
      "source": [
        "d1_augment.shape"
      ],
      "metadata": {
        "colab": {
          "base_uri": "https://localhost:8080/"
        },
        "id": "TwMTNq-LuK9R",
        "outputId": "d5cb2f36-bcbf-4c3d-8b1f-0a8fe3651683"
      },
      "execution_count": 62,
      "outputs": [
        {
          "output_type": "execute_result",
          "data": {
            "text/plain": [
              "(7613, 6)"
            ]
          },
          "metadata": {},
          "execution_count": 62
        }
      ]
    },
    {
      "cell_type": "code",
      "source": [
        "d_train_orig.shape"
      ],
      "metadata": {
        "colab": {
          "base_uri": "https://localhost:8080/"
        },
        "id": "nCaw6gcRuSc-",
        "outputId": "ebe9d3ee-c348-466e-e1d9-aac9927be15d"
      },
      "execution_count": 63,
      "outputs": [
        {
          "output_type": "execute_result",
          "data": {
            "text/plain": [
              "(7613, 5)"
            ]
          },
          "metadata": {},
          "execution_count": 63
        }
      ]
    },
    {
      "cell_type": "code",
      "source": [
        "data_quality(d1_augment)"
      ],
      "metadata": {
        "colab": {
          "base_uri": "https://localhost:8080/",
          "height": 238
        },
        "id": "B7pKSivIuZrd",
        "outputId": "ff020b1c-efdb-40dd-ab4d-8c3f3edb59a4"
      },
      "execution_count": 64,
      "outputs": [
        {
          "output_type": "execute_result",
          "data": {
            "text/plain": [
              "           Present Values  Missing Values  Unique Values\n",
              "id                   7613               0           7613\n",
              "keyword              7552              61            221\n",
              "location             5080            2533           3341\n",
              "text                 7613               0           7503\n",
              "target               7613               0              2\n",
              "sentiment            7613               0              3"
            ],
            "text/html": [
              "\n",
              "  <div id=\"df-8b9c363a-b8a1-40cb-a65b-679c49b15e8a\">\n",
              "    <div class=\"colab-df-container\">\n",
              "      <div>\n",
              "<style scoped>\n",
              "    .dataframe tbody tr th:only-of-type {\n",
              "        vertical-align: middle;\n",
              "    }\n",
              "\n",
              "    .dataframe tbody tr th {\n",
              "        vertical-align: top;\n",
              "    }\n",
              "\n",
              "    .dataframe thead th {\n",
              "        text-align: right;\n",
              "    }\n",
              "</style>\n",
              "<table border=\"1\" class=\"dataframe\">\n",
              "  <thead>\n",
              "    <tr style=\"text-align: right;\">\n",
              "      <th></th>\n",
              "      <th>Present Values</th>\n",
              "      <th>Missing Values</th>\n",
              "      <th>Unique Values</th>\n",
              "    </tr>\n",
              "  </thead>\n",
              "  <tbody>\n",
              "    <tr>\n",
              "      <th>id</th>\n",
              "      <td>7613</td>\n",
              "      <td>0</td>\n",
              "      <td>7613</td>\n",
              "    </tr>\n",
              "    <tr>\n",
              "      <th>keyword</th>\n",
              "      <td>7552</td>\n",
              "      <td>61</td>\n",
              "      <td>221</td>\n",
              "    </tr>\n",
              "    <tr>\n",
              "      <th>location</th>\n",
              "      <td>5080</td>\n",
              "      <td>2533</td>\n",
              "      <td>3341</td>\n",
              "    </tr>\n",
              "    <tr>\n",
              "      <th>text</th>\n",
              "      <td>7613</td>\n",
              "      <td>0</td>\n",
              "      <td>7503</td>\n",
              "    </tr>\n",
              "    <tr>\n",
              "      <th>target</th>\n",
              "      <td>7613</td>\n",
              "      <td>0</td>\n",
              "      <td>2</td>\n",
              "    </tr>\n",
              "    <tr>\n",
              "      <th>sentiment</th>\n",
              "      <td>7613</td>\n",
              "      <td>0</td>\n",
              "      <td>3</td>\n",
              "    </tr>\n",
              "  </tbody>\n",
              "</table>\n",
              "</div>\n",
              "      <button class=\"colab-df-convert\" onclick=\"convertToInteractive('df-8b9c363a-b8a1-40cb-a65b-679c49b15e8a')\"\n",
              "              title=\"Convert this dataframe to an interactive table.\"\n",
              "              style=\"display:none;\">\n",
              "        \n",
              "  <svg xmlns=\"http://www.w3.org/2000/svg\" height=\"24px\"viewBox=\"0 0 24 24\"\n",
              "       width=\"24px\">\n",
              "    <path d=\"M0 0h24v24H0V0z\" fill=\"none\"/>\n",
              "    <path d=\"M18.56 5.44l.94 2.06.94-2.06 2.06-.94-2.06-.94-.94-2.06-.94 2.06-2.06.94zm-11 1L8.5 8.5l.94-2.06 2.06-.94-2.06-.94L8.5 2.5l-.94 2.06-2.06.94zm10 10l.94 2.06.94-2.06 2.06-.94-2.06-.94-.94-2.06-.94 2.06-2.06.94z\"/><path d=\"M17.41 7.96l-1.37-1.37c-.4-.4-.92-.59-1.43-.59-.52 0-1.04.2-1.43.59L10.3 9.45l-7.72 7.72c-.78.78-.78 2.05 0 2.83L4 21.41c.39.39.9.59 1.41.59.51 0 1.02-.2 1.41-.59l7.78-7.78 2.81-2.81c.8-.78.8-2.07 0-2.86zM5.41 20L4 18.59l7.72-7.72 1.47 1.35L5.41 20z\"/>\n",
              "  </svg>\n",
              "      </button>\n",
              "      \n",
              "  <style>\n",
              "    .colab-df-container {\n",
              "      display:flex;\n",
              "      flex-wrap:wrap;\n",
              "      gap: 12px;\n",
              "    }\n",
              "\n",
              "    .colab-df-convert {\n",
              "      background-color: #E8F0FE;\n",
              "      border: none;\n",
              "      border-radius: 50%;\n",
              "      cursor: pointer;\n",
              "      display: none;\n",
              "      fill: #1967D2;\n",
              "      height: 32px;\n",
              "      padding: 0 0 0 0;\n",
              "      width: 32px;\n",
              "    }\n",
              "\n",
              "    .colab-df-convert:hover {\n",
              "      background-color: #E2EBFA;\n",
              "      box-shadow: 0px 1px 2px rgba(60, 64, 67, 0.3), 0px 1px 3px 1px rgba(60, 64, 67, 0.15);\n",
              "      fill: #174EA6;\n",
              "    }\n",
              "\n",
              "    [theme=dark] .colab-df-convert {\n",
              "      background-color: #3B4455;\n",
              "      fill: #D2E3FC;\n",
              "    }\n",
              "\n",
              "    [theme=dark] .colab-df-convert:hover {\n",
              "      background-color: #434B5C;\n",
              "      box-shadow: 0px 1px 3px 1px rgba(0, 0, 0, 0.15);\n",
              "      filter: drop-shadow(0px 1px 2px rgba(0, 0, 0, 0.3));\n",
              "      fill: #FFFFFF;\n",
              "    }\n",
              "  </style>\n",
              "\n",
              "      <script>\n",
              "        const buttonEl =\n",
              "          document.querySelector('#df-8b9c363a-b8a1-40cb-a65b-679c49b15e8a button.colab-df-convert');\n",
              "        buttonEl.style.display =\n",
              "          google.colab.kernel.accessAllowed ? 'block' : 'none';\n",
              "\n",
              "        async function convertToInteractive(key) {\n",
              "          const element = document.querySelector('#df-8b9c363a-b8a1-40cb-a65b-679c49b15e8a');\n",
              "          const dataTable =\n",
              "            await google.colab.kernel.invokeFunction('convertToInteractive',\n",
              "                                                     [key], {});\n",
              "          if (!dataTable) return;\n",
              "\n",
              "          const docLinkHtml = 'Like what you see? Visit the ' +\n",
              "            '<a target=\"_blank\" href=https://colab.research.google.com/notebooks/data_table.ipynb>data table notebook</a>'\n",
              "            + ' to learn more about interactive tables.';\n",
              "          element.innerHTML = '';\n",
              "          dataTable['output_type'] = 'display_data';\n",
              "          await google.colab.output.renderOutput(dataTable, element);\n",
              "          const docLink = document.createElement('div');\n",
              "          docLink.innerHTML = docLinkHtml;\n",
              "          element.appendChild(docLink);\n",
              "        }\n",
              "      </script>\n",
              "    </div>\n",
              "  </div>\n",
              "  "
            ]
          },
          "metadata": {},
          "execution_count": 64
        }
      ]
    },
    {
      "cell_type": "code",
      "source": [
        "# Saving d1_augment for future use\n",
        "#d1_augment.to_csv(\"/content/drive/MyDrive/BT5151/group_project/d1_augment.csv\")"
      ],
      "metadata": {
        "id": "WBiE2UPrrpoZ"
      },
      "execution_count": 65,
      "outputs": []
    },
    {
      "cell_type": "markdown",
      "source": [
        "Analysis: "
      ],
      "metadata": {
        "id": "F23Rm72zhCJ4"
      }
    },
    {
      "cell_type": "markdown",
      "source": [
        "#V. Further Exploration #"
      ],
      "metadata": {
        "id": "Jq7Lvgchynyo"
      }
    },
    {
      "cell_type": "markdown",
      "source": [
        "### Strategy 1 ####\n",
        "\n",
        "Fine-tune siebert sentiment classification model for disaster classification\n",
        "\n",
        "Explanation: "
      ],
      "metadata": {
        "id": "GJBiMhzj5W87"
      }
    },
    {
      "cell_type": "markdown",
      "source": [
        "Citation:<br>\n",
        "Hartmann, J., Heitmann, M., Siebert, C., & Schamp, C. (2023). More than a Feeling: Accuracy and Application of Sentiment Analysis. International Journal of Research in Marketing, 40(1), 75-87. https://doi.org/10.1016/j.ijresmar.2022.05.005"
      ],
      "metadata": {
        "id": "_m8krF9BhzFo"
      }
    },
    {
      "cell_type": "code",
      "source": [
        "from transformers import TrainingArguments, Trainer\n",
        "from transformers import AutoModelForSequenceClassification, AutoTokenizer\n",
        "import evaluate"
      ],
      "metadata": {
        "id": "4ToT-q1x75eL"
      },
      "execution_count": 66,
      "outputs": []
    },
    {
      "cell_type": "code",
      "source": [
        "# Using RoBERTa tokenizer since siebert is based on RoBERTa-large\n",
        "tokenizer = RobertaTokenizer.from_pretrained('roberta-large')"
      ],
      "metadata": {
        "id": "6fWp5AWCAgf2"
      },
      "execution_count": 67,
      "outputs": []
    },
    {
      "cell_type": "code",
      "source": [
        "# Creating train-test splits for training the model\n",
        "d_train_data, d_val_data, d_train_labels, d_val_labels = train_test_split(d_train_select['text'],d_train_select['target'], test_size=0.2, \n",
        "                                                                       stratify=d_train_select['target'], random_state=2023)"
      ],
      "metadata": {
        "id": "Ojw6JbzUMP4c"
      },
      "execution_count": 68,
      "outputs": []
    },
    {
      "cell_type": "code",
      "source": [
        "# Resetting indices as it might break some loopes\n",
        "d_train_data.reset_index(inplace=True, drop=True)\n",
        "d_val_data.reset_index(inplace=True, drop=True)\n",
        "d_train_labels.reset_index(inplace=True, drop=True)\n",
        "d_val_labels.reset_index(inplace=True, drop=True)"
      ],
      "metadata": {
        "id": "h4HOkaoyNdux"
      },
      "execution_count": 69,
      "outputs": []
    },
    {
      "cell_type": "code",
      "source": [
        "# Tokenizing the data\n",
        "train_encodings = tokenizer(d_train_data.tolist(), truncation=True, padding=\"max_length\", add_special_tokens=True, \n",
        "                            return_token_type_ids=True)\n",
        "val_encodings = tokenizer(d_val_data.tolist(), truncation=True, padding=\"max_length\", add_special_tokens=True, \n",
        "                            return_token_type_ids=True)"
      ],
      "metadata": {
        "id": "4uFD5kZhLfKf"
      },
      "execution_count": 70,
      "outputs": []
    },
    {
      "cell_type": "code",
      "source": [
        "# Creating custom Datasets classes for the data\n",
        "class HuggingData(Dataset):\n",
        "  def __init__(self, encodings, labels):\n",
        "    self.encodings = encodings\n",
        "    self.labels = labels\n",
        "\n",
        "  def __getitem__(self, idx):\n",
        "      item = {key: torch.tensor(val[idx]) for key, val in self.encodings.items()}\n",
        "      item['labels'] = torch.tensor(self.labels[idx])\n",
        "      return item\n",
        "\n",
        "  def __len__(self):\n",
        "      return len(self.labels)"
      ],
      "metadata": {
        "id": "UXM6-rriHy6A"
      },
      "execution_count": 71,
      "outputs": []
    },
    {
      "cell_type": "code",
      "source": [
        "# Creating the datasets\n",
        "dstrat1_train_set = HuggingData(train_encodings, d_train_labels)\n",
        "dstrat1_val_set = HuggingData(val_encodings, d_val_labels)"
      ],
      "metadata": {
        "id": "jx9btBAYIqCs"
      },
      "execution_count": 72,
      "outputs": []
    },
    {
      "cell_type": "code",
      "source": [
        "# Loading the siebert sentiment classification model\n",
        "model = AutoModelForSequenceClassification.from_pretrained(\"siebert/sentiment-roberta-large-english\")\n",
        "# Specifying the training arguments for training using HuggingFace Trainer API\n",
        "training_args = TrainingArguments(\n",
        "    output_dir=\"/content/drive/MyDrive/BT5151/group_project/strategy1/output\",\n",
        "    optim=\"adamw_torch\",\n",
        "    num_train_epochs=3,\n",
        "    learning_rate= 1e-5,\n",
        "    lr_scheduler_type = \"cosine\",\n",
        "    per_device_train_batch_size=16,\n",
        "    per_device_eval_batch_size=32,\n",
        "    save_strategy=\"no\",\n",
        "    warmup_steps= 10,\n",
        "    weight_decay = 0.01,\n",
        "    logging_dir=\"/content/drive/MyDrive/BT5151/group_project/strategy1/logs\",\n",
        "    logging_strategy=\"steps\",\n",
        "    logging_steps=100,\n",
        "    evaluation_strategy=\"steps\",\n",
        "    eval_steps=100\n",
        ")"
      ],
      "metadata": {
        "id": "bOCOukIDyqC6"
      },
      "execution_count": 73,
      "outputs": []
    },
    {
      "cell_type": "code",
      "source": [
        "# Specifying evaluation metrics\n",
        "metric = evaluate.load(\"accuracy\")\n",
        "def compute_metrics(eval_pred):\n",
        "    logits, labels = eval_pred\n",
        "    predictions = np.argmax(logits, axis=-1)\n",
        "    return metric.compute(predictions=predictions, references=labels)\n"
      ],
      "metadata": {
        "id": "hSedPLZ4WVWz"
      },
      "execution_count": 74,
      "outputs": []
    },
    {
      "cell_type": "code",
      "source": [
        "# Calling the trainer API and initiates training. Training was done outside of this notebook\n",
        "# trainer = Trainer(\n",
        "#     model=model,                         \n",
        "#     args=training_args,                \n",
        "#     train_dataset=dstrat1_train_set,\n",
        "#     eval_dataset=dstrat1_val_set,\n",
        "#     compute_metrics=compute_metrics\n",
        "# )\n",
        "\n",
        "# trainer.train()\n",
        "\n",
        "# Saving the model\n",
        "#trainer.save_model(\"/content/drive/MyDrive/BT5151/group_project/strategy1/models\")"
      ],
      "metadata": {
        "id": "mk4iUCTi6ai3"
      },
      "execution_count": 75,
      "outputs": []
    },
    {
      "cell_type": "markdown",
      "source": [
        "Inference on the trained on the siebert model"
      ],
      "metadata": {
        "id": "GVZbO5Gyi-l4"
      }
    },
    {
      "cell_type": "code",
      "source": [
        "from transformers import pipeline, AutoModel"
      ],
      "metadata": {
        "id": "V4y08dAvvAOC"
      },
      "execution_count": 76,
      "outputs": []
    },
    {
      "cell_type": "code",
      "source": [
        "# Creating a pipeline for inference on the fine-tuned siebert model\n",
        "tokenizer = RobertaTokenizer.from_pretrained('roberta-large')\n",
        "disaster = pipeline(\"text-classification\", model=\"/content/drive/MyDrive/BT5151/group_project/siebert_final_strat1\", tokenizer = tokenizer, device=\"cuda:0\",\n",
        "                    binary_output=True, function_to_apply=\"softmax\")"
      ],
      "metadata": {
        "id": "V3OT39evQ_Yw"
      },
      "execution_count": 77,
      "outputs": []
    },
    {
      "cell_type": "code",
      "source": [
        "# Creating an iterator for the D1 test data\n",
        "def data_iterator(df):\n",
        "    for i in range(df.shape[0]):\n",
        "        yield str(df.text[i])"
      ],
      "metadata": {
        "id": "aMlIWyRSu_P-"
      },
      "execution_count": 78,
      "outputs": []
    },
    {
      "cell_type": "code",
      "source": [
        "# Helper function to extract the outputs of the pipeline in a nice dataframe\n",
        "def get_predict(iterator, pipeline):\n",
        "    df = pd.DataFrame(columns = ['label', 'score'])\n",
        "    for idx, out in enumerate(tqdm(pipeline(iterator))):\n",
        "        df.loc[idx] = out\n",
        "    return df"
      ],
      "metadata": {
        "id": "1bT79HE3slI9"
      },
      "execution_count": 79,
      "outputs": []
    },
    {
      "cell_type": "code",
      "source": [
        "# Helper function to reformat pipeline outputs dataframe for Kaggle test submission format\n",
        "def clean_submit(preds):\n",
        "    df = preds.copy()\n",
        "    df.reset_index(inplace=True)\n",
        "    df.rename(columns = {'index':'id'}, inplace = True)\n",
        "    df.set_index(\"id\", inplace=True)\n",
        "    df['target'] = df.apply(lambda x: 1 if x['label'] == 'POSITIVE' else 0, axis = 1)\n",
        "    df.drop(columns=['score', 'label'], inplace=True)\n",
        "    return df"
      ],
      "metadata": {
        "id": "eHqI0y-KeT_D"
      },
      "execution_count": 80,
      "outputs": []
    },
    {
      "cell_type": "code",
      "source": [
        "# Getting predictions for the train for checking\n",
        "#preds_train = get_predict(data_iterator(d_train), disaster)\n",
        "\n",
        "# Getting predictions for the test data\n",
        "preds_test = get_predict(data_iterator(d_test_orig), disaster)\n",
        "\n",
        "# Reformatting predictions for Kaggle submission format\n",
        "#submit_train = clean_submit(preds_train)\n",
        "submit_test = clean_submit(preds_test)\n",
        "\n",
        "# Matching the predictions indices to the Kaggle sample submission indices\n",
        "submit_test.reset_index(inplace=True)\n",
        "test = d_test_orig[[\"id\"]].copy()\n",
        "merged = test.merge(submit_test, left_index=True, right_index=True, suffixes=(None, \"_s\"))\n",
        "merged.drop(labels=[\"id_s\"],axis=1,inplace=True)\n",
        "merged.set_index(\"id\",inplace=True)\n",
        "\n",
        "#submit_train.to_csv(\"submit_train.csv\")\n",
        "# Save predictions for submission to Kaggle\n",
        "#merged.to_csv(\"submit_test.csv\")"
      ],
      "metadata": {
        "colab": {
          "base_uri": "https://localhost:8080/"
        },
        "id": "dEPXoNPF0EMK",
        "outputId": "42db4a95-49c7-4e56-d585-721de3b8686a"
      },
      "execution_count": 81,
      "outputs": [
        {
          "output_type": "stream",
          "name": "stderr",
          "text": [
            "3263it [01:38, 33.01it/s]\n"
          ]
        }
      ]
    },
    {
      "cell_type": "code",
      "source": [
        "merged.shape"
      ],
      "metadata": {
        "id": "lNXiOPFtFklu",
        "colab": {
          "base_uri": "https://localhost:8080/"
        },
        "outputId": "d279ed79-b70b-40b8-a24d-66c4019627ef"
      },
      "execution_count": 82,
      "outputs": [
        {
          "output_type": "execute_result",
          "data": {
            "text/plain": [
              "(3263, 1)"
            ]
          },
          "metadata": {},
          "execution_count": 82
        }
      ]
    },
    {
      "cell_type": "code",
      "source": [],
      "metadata": {
        "id": "y6KMxdTOhfJe"
      },
      "execution_count": 82,
      "outputs": []
    }
  ]
}