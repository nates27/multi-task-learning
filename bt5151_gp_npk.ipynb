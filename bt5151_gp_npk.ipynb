{
  "metadata": {
    "kernelspec": {
      "language": "python",
      "display_name": "Python 3",
      "name": "python3"
    },
    "language_info": {
      "name": "python",
      "version": "3.7.12",
      "mimetype": "text/x-python",
      "codemirror_mode": {
        "name": "ipython",
        "version": 3
      },
      "pygments_lexer": "ipython3",
      "nbconvert_exporter": "python",
      "file_extension": ".py"
    },
    "colab": {
      "provenance": [],
      "gpuType": "T4",
      "include_colab_link": true
    },
    "gpuClass": "standard",
    "widgets": {
      "application/vnd.jupyter.widget-state+json": {
        "42656aff817a4fbf8a1f007925734aed": {
          "model_module": "@jupyter-widgets/controls",
          "model_name": "HBoxModel",
          "model_module_version": "1.5.0",
          "state": {
            "_dom_classes": [],
            "_model_module": "@jupyter-widgets/controls",
            "_model_module_version": "1.5.0",
            "_model_name": "HBoxModel",
            "_view_count": null,
            "_view_module": "@jupyter-widgets/controls",
            "_view_module_version": "1.5.0",
            "_view_name": "HBoxView",
            "box_style": "",
            "children": [
              "IPY_MODEL_c9372042e8f34bd1bf4a9eca2f561e92",
              "IPY_MODEL_75e9c02761db415ebcb2011da7e805a1",
              "IPY_MODEL_0fd508315e374bf3a9cb076da1356c38"
            ],
            "layout": "IPY_MODEL_f103718b63304d6e9e92ba58e3ef894a"
          }
        },
        "c9372042e8f34bd1bf4a9eca2f561e92": {
          "model_module": "@jupyter-widgets/controls",
          "model_name": "HTMLModel",
          "model_module_version": "1.5.0",
          "state": {
            "_dom_classes": [],
            "_model_module": "@jupyter-widgets/controls",
            "_model_module_version": "1.5.0",
            "_model_name": "HTMLModel",
            "_view_count": null,
            "_view_module": "@jupyter-widgets/controls",
            "_view_module_version": "1.5.0",
            "_view_name": "HTMLView",
            "description": "",
            "description_tooltip": null,
            "layout": "IPY_MODEL_6e02edfd18fb4af1826a399cc6bf66fc",
            "placeholder": "​",
            "style": "IPY_MODEL_1941de99a16f41e8ba8916cab7263557",
            "value": "Downloading (…)olve/main/vocab.json: 100%"
          }
        },
        "75e9c02761db415ebcb2011da7e805a1": {
          "model_module": "@jupyter-widgets/controls",
          "model_name": "FloatProgressModel",
          "model_module_version": "1.5.0",
          "state": {
            "_dom_classes": [],
            "_model_module": "@jupyter-widgets/controls",
            "_model_module_version": "1.5.0",
            "_model_name": "FloatProgressModel",
            "_view_count": null,
            "_view_module": "@jupyter-widgets/controls",
            "_view_module_version": "1.5.0",
            "_view_name": "ProgressView",
            "bar_style": "success",
            "description": "",
            "description_tooltip": null,
            "layout": "IPY_MODEL_6888e3c2137c4115b2f31bb4a504ea3b",
            "max": 898823,
            "min": 0,
            "orientation": "horizontal",
            "style": "IPY_MODEL_7bcbfd05547b4af5843941aa5d95bb14",
            "value": 898823
          }
        },
        "0fd508315e374bf3a9cb076da1356c38": {
          "model_module": "@jupyter-widgets/controls",
          "model_name": "HTMLModel",
          "model_module_version": "1.5.0",
          "state": {
            "_dom_classes": [],
            "_model_module": "@jupyter-widgets/controls",
            "_model_module_version": "1.5.0",
            "_model_name": "HTMLModel",
            "_view_count": null,
            "_view_module": "@jupyter-widgets/controls",
            "_view_module_version": "1.5.0",
            "_view_name": "HTMLView",
            "description": "",
            "description_tooltip": null,
            "layout": "IPY_MODEL_f05fe22c6a204d96a4b7bec78396fd2b",
            "placeholder": "​",
            "style": "IPY_MODEL_65d670ef642241b5846e105bc9c1e557",
            "value": " 899k/899k [00:00&lt;00:00, 25.5MB/s]"
          }
        },
        "f103718b63304d6e9e92ba58e3ef894a": {
          "model_module": "@jupyter-widgets/base",
          "model_name": "LayoutModel",
          "model_module_version": "1.2.0",
          "state": {
            "_model_module": "@jupyter-widgets/base",
            "_model_module_version": "1.2.0",
            "_model_name": "LayoutModel",
            "_view_count": null,
            "_view_module": "@jupyter-widgets/base",
            "_view_module_version": "1.2.0",
            "_view_name": "LayoutView",
            "align_content": null,
            "align_items": null,
            "align_self": null,
            "border": null,
            "bottom": null,
            "display": null,
            "flex": null,
            "flex_flow": null,
            "grid_area": null,
            "grid_auto_columns": null,
            "grid_auto_flow": null,
            "grid_auto_rows": null,
            "grid_column": null,
            "grid_gap": null,
            "grid_row": null,
            "grid_template_areas": null,
            "grid_template_columns": null,
            "grid_template_rows": null,
            "height": null,
            "justify_content": null,
            "justify_items": null,
            "left": null,
            "margin": null,
            "max_height": null,
            "max_width": null,
            "min_height": null,
            "min_width": null,
            "object_fit": null,
            "object_position": null,
            "order": null,
            "overflow": null,
            "overflow_x": null,
            "overflow_y": null,
            "padding": null,
            "right": null,
            "top": null,
            "visibility": null,
            "width": null
          }
        },
        "6e02edfd18fb4af1826a399cc6bf66fc": {
          "model_module": "@jupyter-widgets/base",
          "model_name": "LayoutModel",
          "model_module_version": "1.2.0",
          "state": {
            "_model_module": "@jupyter-widgets/base",
            "_model_module_version": "1.2.0",
            "_model_name": "LayoutModel",
            "_view_count": null,
            "_view_module": "@jupyter-widgets/base",
            "_view_module_version": "1.2.0",
            "_view_name": "LayoutView",
            "align_content": null,
            "align_items": null,
            "align_self": null,
            "border": null,
            "bottom": null,
            "display": null,
            "flex": null,
            "flex_flow": null,
            "grid_area": null,
            "grid_auto_columns": null,
            "grid_auto_flow": null,
            "grid_auto_rows": null,
            "grid_column": null,
            "grid_gap": null,
            "grid_row": null,
            "grid_template_areas": null,
            "grid_template_columns": null,
            "grid_template_rows": null,
            "height": null,
            "justify_content": null,
            "justify_items": null,
            "left": null,
            "margin": null,
            "max_height": null,
            "max_width": null,
            "min_height": null,
            "min_width": null,
            "object_fit": null,
            "object_position": null,
            "order": null,
            "overflow": null,
            "overflow_x": null,
            "overflow_y": null,
            "padding": null,
            "right": null,
            "top": null,
            "visibility": null,
            "width": null
          }
        },
        "1941de99a16f41e8ba8916cab7263557": {
          "model_module": "@jupyter-widgets/controls",
          "model_name": "DescriptionStyleModel",
          "model_module_version": "1.5.0",
          "state": {
            "_model_module": "@jupyter-widgets/controls",
            "_model_module_version": "1.5.0",
            "_model_name": "DescriptionStyleModel",
            "_view_count": null,
            "_view_module": "@jupyter-widgets/base",
            "_view_module_version": "1.2.0",
            "_view_name": "StyleView",
            "description_width": ""
          }
        },
        "6888e3c2137c4115b2f31bb4a504ea3b": {
          "model_module": "@jupyter-widgets/base",
          "model_name": "LayoutModel",
          "model_module_version": "1.2.0",
          "state": {
            "_model_module": "@jupyter-widgets/base",
            "_model_module_version": "1.2.0",
            "_model_name": "LayoutModel",
            "_view_count": null,
            "_view_module": "@jupyter-widgets/base",
            "_view_module_version": "1.2.0",
            "_view_name": "LayoutView",
            "align_content": null,
            "align_items": null,
            "align_self": null,
            "border": null,
            "bottom": null,
            "display": null,
            "flex": null,
            "flex_flow": null,
            "grid_area": null,
            "grid_auto_columns": null,
            "grid_auto_flow": null,
            "grid_auto_rows": null,
            "grid_column": null,
            "grid_gap": null,
            "grid_row": null,
            "grid_template_areas": null,
            "grid_template_columns": null,
            "grid_template_rows": null,
            "height": null,
            "justify_content": null,
            "justify_items": null,
            "left": null,
            "margin": null,
            "max_height": null,
            "max_width": null,
            "min_height": null,
            "min_width": null,
            "object_fit": null,
            "object_position": null,
            "order": null,
            "overflow": null,
            "overflow_x": null,
            "overflow_y": null,
            "padding": null,
            "right": null,
            "top": null,
            "visibility": null,
            "width": null
          }
        },
        "7bcbfd05547b4af5843941aa5d95bb14": {
          "model_module": "@jupyter-widgets/controls",
          "model_name": "ProgressStyleModel",
          "model_module_version": "1.5.0",
          "state": {
            "_model_module": "@jupyter-widgets/controls",
            "_model_module_version": "1.5.0",
            "_model_name": "ProgressStyleModel",
            "_view_count": null,
            "_view_module": "@jupyter-widgets/base",
            "_view_module_version": "1.2.0",
            "_view_name": "StyleView",
            "bar_color": null,
            "description_width": ""
          }
        },
        "f05fe22c6a204d96a4b7bec78396fd2b": {
          "model_module": "@jupyter-widgets/base",
          "model_name": "LayoutModel",
          "model_module_version": "1.2.0",
          "state": {
            "_model_module": "@jupyter-widgets/base",
            "_model_module_version": "1.2.0",
            "_model_name": "LayoutModel",
            "_view_count": null,
            "_view_module": "@jupyter-widgets/base",
            "_view_module_version": "1.2.0",
            "_view_name": "LayoutView",
            "align_content": null,
            "align_items": null,
            "align_self": null,
            "border": null,
            "bottom": null,
            "display": null,
            "flex": null,
            "flex_flow": null,
            "grid_area": null,
            "grid_auto_columns": null,
            "grid_auto_flow": null,
            "grid_auto_rows": null,
            "grid_column": null,
            "grid_gap": null,
            "grid_row": null,
            "grid_template_areas": null,
            "grid_template_columns": null,
            "grid_template_rows": null,
            "height": null,
            "justify_content": null,
            "justify_items": null,
            "left": null,
            "margin": null,
            "max_height": null,
            "max_width": null,
            "min_height": null,
            "min_width": null,
            "object_fit": null,
            "object_position": null,
            "order": null,
            "overflow": null,
            "overflow_x": null,
            "overflow_y": null,
            "padding": null,
            "right": null,
            "top": null,
            "visibility": null,
            "width": null
          }
        },
        "65d670ef642241b5846e105bc9c1e557": {
          "model_module": "@jupyter-widgets/controls",
          "model_name": "DescriptionStyleModel",
          "model_module_version": "1.5.0",
          "state": {
            "_model_module": "@jupyter-widgets/controls",
            "_model_module_version": "1.5.0",
            "_model_name": "DescriptionStyleModel",
            "_view_count": null,
            "_view_module": "@jupyter-widgets/base",
            "_view_module_version": "1.2.0",
            "_view_name": "StyleView",
            "description_width": ""
          }
        },
        "8faca751e8e74cb4be9ff428658bfb7d": {
          "model_module": "@jupyter-widgets/controls",
          "model_name": "HBoxModel",
          "model_module_version": "1.5.0",
          "state": {
            "_dom_classes": [],
            "_model_module": "@jupyter-widgets/controls",
            "_model_module_version": "1.5.0",
            "_model_name": "HBoxModel",
            "_view_count": null,
            "_view_module": "@jupyter-widgets/controls",
            "_view_module_version": "1.5.0",
            "_view_name": "HBoxView",
            "box_style": "",
            "children": [
              "IPY_MODEL_a416e75256974a64800fb78129947ac2",
              "IPY_MODEL_ca853b942ef34f1ca580253bbf6421e7",
              "IPY_MODEL_4eeb82c768114a908fcf5ee606253788"
            ],
            "layout": "IPY_MODEL_692bfa4efe824fc6b45632417b295dc4"
          }
        },
        "a416e75256974a64800fb78129947ac2": {
          "model_module": "@jupyter-widgets/controls",
          "model_name": "HTMLModel",
          "model_module_version": "1.5.0",
          "state": {
            "_dom_classes": [],
            "_model_module": "@jupyter-widgets/controls",
            "_model_module_version": "1.5.0",
            "_model_name": "HTMLModel",
            "_view_count": null,
            "_view_module": "@jupyter-widgets/controls",
            "_view_module_version": "1.5.0",
            "_view_name": "HTMLView",
            "description": "",
            "description_tooltip": null,
            "layout": "IPY_MODEL_37dc62861eaa4799b893d0ee1d90543e",
            "placeholder": "​",
            "style": "IPY_MODEL_588d8f8fd6f543bf905c6bee920b7a02",
            "value": "Downloading (…)olve/main/merges.txt: 100%"
          }
        },
        "ca853b942ef34f1ca580253bbf6421e7": {
          "model_module": "@jupyter-widgets/controls",
          "model_name": "FloatProgressModel",
          "model_module_version": "1.5.0",
          "state": {
            "_dom_classes": [],
            "_model_module": "@jupyter-widgets/controls",
            "_model_module_version": "1.5.0",
            "_model_name": "FloatProgressModel",
            "_view_count": null,
            "_view_module": "@jupyter-widgets/controls",
            "_view_module_version": "1.5.0",
            "_view_name": "ProgressView",
            "bar_style": "success",
            "description": "",
            "description_tooltip": null,
            "layout": "IPY_MODEL_797b37b2461b40199c7c736bc8c5d816",
            "max": 456318,
            "min": 0,
            "orientation": "horizontal",
            "style": "IPY_MODEL_bd7a8222fcb7469b8c6b63eb6da77fbd",
            "value": 456318
          }
        },
        "4eeb82c768114a908fcf5ee606253788": {
          "model_module": "@jupyter-widgets/controls",
          "model_name": "HTMLModel",
          "model_module_version": "1.5.0",
          "state": {
            "_dom_classes": [],
            "_model_module": "@jupyter-widgets/controls",
            "_model_module_version": "1.5.0",
            "_model_name": "HTMLModel",
            "_view_count": null,
            "_view_module": "@jupyter-widgets/controls",
            "_view_module_version": "1.5.0",
            "_view_name": "HTMLView",
            "description": "",
            "description_tooltip": null,
            "layout": "IPY_MODEL_73f61289f24d417f98c0855447861633",
            "placeholder": "​",
            "style": "IPY_MODEL_9a78363194a24c48a2d61a2e2e91fb51",
            "value": " 456k/456k [00:00&lt;00:00, 718kB/s]"
          }
        },
        "692bfa4efe824fc6b45632417b295dc4": {
          "model_module": "@jupyter-widgets/base",
          "model_name": "LayoutModel",
          "model_module_version": "1.2.0",
          "state": {
            "_model_module": "@jupyter-widgets/base",
            "_model_module_version": "1.2.0",
            "_model_name": "LayoutModel",
            "_view_count": null,
            "_view_module": "@jupyter-widgets/base",
            "_view_module_version": "1.2.0",
            "_view_name": "LayoutView",
            "align_content": null,
            "align_items": null,
            "align_self": null,
            "border": null,
            "bottom": null,
            "display": null,
            "flex": null,
            "flex_flow": null,
            "grid_area": null,
            "grid_auto_columns": null,
            "grid_auto_flow": null,
            "grid_auto_rows": null,
            "grid_column": null,
            "grid_gap": null,
            "grid_row": null,
            "grid_template_areas": null,
            "grid_template_columns": null,
            "grid_template_rows": null,
            "height": null,
            "justify_content": null,
            "justify_items": null,
            "left": null,
            "margin": null,
            "max_height": null,
            "max_width": null,
            "min_height": null,
            "min_width": null,
            "object_fit": null,
            "object_position": null,
            "order": null,
            "overflow": null,
            "overflow_x": null,
            "overflow_y": null,
            "padding": null,
            "right": null,
            "top": null,
            "visibility": null,
            "width": null
          }
        },
        "37dc62861eaa4799b893d0ee1d90543e": {
          "model_module": "@jupyter-widgets/base",
          "model_name": "LayoutModel",
          "model_module_version": "1.2.0",
          "state": {
            "_model_module": "@jupyter-widgets/base",
            "_model_module_version": "1.2.0",
            "_model_name": "LayoutModel",
            "_view_count": null,
            "_view_module": "@jupyter-widgets/base",
            "_view_module_version": "1.2.0",
            "_view_name": "LayoutView",
            "align_content": null,
            "align_items": null,
            "align_self": null,
            "border": null,
            "bottom": null,
            "display": null,
            "flex": null,
            "flex_flow": null,
            "grid_area": null,
            "grid_auto_columns": null,
            "grid_auto_flow": null,
            "grid_auto_rows": null,
            "grid_column": null,
            "grid_gap": null,
            "grid_row": null,
            "grid_template_areas": null,
            "grid_template_columns": null,
            "grid_template_rows": null,
            "height": null,
            "justify_content": null,
            "justify_items": null,
            "left": null,
            "margin": null,
            "max_height": null,
            "max_width": null,
            "min_height": null,
            "min_width": null,
            "object_fit": null,
            "object_position": null,
            "order": null,
            "overflow": null,
            "overflow_x": null,
            "overflow_y": null,
            "padding": null,
            "right": null,
            "top": null,
            "visibility": null,
            "width": null
          }
        },
        "588d8f8fd6f543bf905c6bee920b7a02": {
          "model_module": "@jupyter-widgets/controls",
          "model_name": "DescriptionStyleModel",
          "model_module_version": "1.5.0",
          "state": {
            "_model_module": "@jupyter-widgets/controls",
            "_model_module_version": "1.5.0",
            "_model_name": "DescriptionStyleModel",
            "_view_count": null,
            "_view_module": "@jupyter-widgets/base",
            "_view_module_version": "1.2.0",
            "_view_name": "StyleView",
            "description_width": ""
          }
        },
        "797b37b2461b40199c7c736bc8c5d816": {
          "model_module": "@jupyter-widgets/base",
          "model_name": "LayoutModel",
          "model_module_version": "1.2.0",
          "state": {
            "_model_module": "@jupyter-widgets/base",
            "_model_module_version": "1.2.0",
            "_model_name": "LayoutModel",
            "_view_count": null,
            "_view_module": "@jupyter-widgets/base",
            "_view_module_version": "1.2.0",
            "_view_name": "LayoutView",
            "align_content": null,
            "align_items": null,
            "align_self": null,
            "border": null,
            "bottom": null,
            "display": null,
            "flex": null,
            "flex_flow": null,
            "grid_area": null,
            "grid_auto_columns": null,
            "grid_auto_flow": null,
            "grid_auto_rows": null,
            "grid_column": null,
            "grid_gap": null,
            "grid_row": null,
            "grid_template_areas": null,
            "grid_template_columns": null,
            "grid_template_rows": null,
            "height": null,
            "justify_content": null,
            "justify_items": null,
            "left": null,
            "margin": null,
            "max_height": null,
            "max_width": null,
            "min_height": null,
            "min_width": null,
            "object_fit": null,
            "object_position": null,
            "order": null,
            "overflow": null,
            "overflow_x": null,
            "overflow_y": null,
            "padding": null,
            "right": null,
            "top": null,
            "visibility": null,
            "width": null
          }
        },
        "bd7a8222fcb7469b8c6b63eb6da77fbd": {
          "model_module": "@jupyter-widgets/controls",
          "model_name": "ProgressStyleModel",
          "model_module_version": "1.5.0",
          "state": {
            "_model_module": "@jupyter-widgets/controls",
            "_model_module_version": "1.5.0",
            "_model_name": "ProgressStyleModel",
            "_view_count": null,
            "_view_module": "@jupyter-widgets/base",
            "_view_module_version": "1.2.0",
            "_view_name": "StyleView",
            "bar_color": null,
            "description_width": ""
          }
        },
        "73f61289f24d417f98c0855447861633": {
          "model_module": "@jupyter-widgets/base",
          "model_name": "LayoutModel",
          "model_module_version": "1.2.0",
          "state": {
            "_model_module": "@jupyter-widgets/base",
            "_model_module_version": "1.2.0",
            "_model_name": "LayoutModel",
            "_view_count": null,
            "_view_module": "@jupyter-widgets/base",
            "_view_module_version": "1.2.0",
            "_view_name": "LayoutView",
            "align_content": null,
            "align_items": null,
            "align_self": null,
            "border": null,
            "bottom": null,
            "display": null,
            "flex": null,
            "flex_flow": null,
            "grid_area": null,
            "grid_auto_columns": null,
            "grid_auto_flow": null,
            "grid_auto_rows": null,
            "grid_column": null,
            "grid_gap": null,
            "grid_row": null,
            "grid_template_areas": null,
            "grid_template_columns": null,
            "grid_template_rows": null,
            "height": null,
            "justify_content": null,
            "justify_items": null,
            "left": null,
            "margin": null,
            "max_height": null,
            "max_width": null,
            "min_height": null,
            "min_width": null,
            "object_fit": null,
            "object_position": null,
            "order": null,
            "overflow": null,
            "overflow_x": null,
            "overflow_y": null,
            "padding": null,
            "right": null,
            "top": null,
            "visibility": null,
            "width": null
          }
        },
        "9a78363194a24c48a2d61a2e2e91fb51": {
          "model_module": "@jupyter-widgets/controls",
          "model_name": "DescriptionStyleModel",
          "model_module_version": "1.5.0",
          "state": {
            "_model_module": "@jupyter-widgets/controls",
            "_model_module_version": "1.5.0",
            "_model_name": "DescriptionStyleModel",
            "_view_count": null,
            "_view_module": "@jupyter-widgets/base",
            "_view_module_version": "1.2.0",
            "_view_name": "StyleView",
            "description_width": ""
          }
        },
        "8af3ab9d490643fc92ff9aa560143007": {
          "model_module": "@jupyter-widgets/controls",
          "model_name": "HBoxModel",
          "model_module_version": "1.5.0",
          "state": {
            "_dom_classes": [],
            "_model_module": "@jupyter-widgets/controls",
            "_model_module_version": "1.5.0",
            "_model_name": "HBoxModel",
            "_view_count": null,
            "_view_module": "@jupyter-widgets/controls",
            "_view_module_version": "1.5.0",
            "_view_name": "HBoxView",
            "box_style": "",
            "children": [
              "IPY_MODEL_c9589563e4b2405b8ee133d6f02f3504",
              "IPY_MODEL_3cff703916084edd9bb194ac6af9098d",
              "IPY_MODEL_ff3beb81820d4404b15869aa4406fab2"
            ],
            "layout": "IPY_MODEL_e76df4e9f56a4afdbab227e98d4c517f"
          }
        },
        "c9589563e4b2405b8ee133d6f02f3504": {
          "model_module": "@jupyter-widgets/controls",
          "model_name": "HTMLModel",
          "model_module_version": "1.5.0",
          "state": {
            "_dom_classes": [],
            "_model_module": "@jupyter-widgets/controls",
            "_model_module_version": "1.5.0",
            "_model_name": "HTMLModel",
            "_view_count": null,
            "_view_module": "@jupyter-widgets/controls",
            "_view_module_version": "1.5.0",
            "_view_name": "HTMLView",
            "description": "",
            "description_tooltip": null,
            "layout": "IPY_MODEL_decffb5089d84f0cab3b1bb99ed0eb61",
            "placeholder": "​",
            "style": "IPY_MODEL_19b9bbe59e2147b98dbed7b93f3417bc",
            "value": "Downloading (…)lve/main/config.json: 100%"
          }
        },
        "3cff703916084edd9bb194ac6af9098d": {
          "model_module": "@jupyter-widgets/controls",
          "model_name": "FloatProgressModel",
          "model_module_version": "1.5.0",
          "state": {
            "_dom_classes": [],
            "_model_module": "@jupyter-widgets/controls",
            "_model_module_version": "1.5.0",
            "_model_name": "FloatProgressModel",
            "_view_count": null,
            "_view_module": "@jupyter-widgets/controls",
            "_view_module_version": "1.5.0",
            "_view_name": "ProgressView",
            "bar_style": "success",
            "description": "",
            "description_tooltip": null,
            "layout": "IPY_MODEL_4011306f3f344e478a541ec037e985bc",
            "max": 481,
            "min": 0,
            "orientation": "horizontal",
            "style": "IPY_MODEL_c2ceca7f00b0409a9f387cb932b733f7",
            "value": 481
          }
        },
        "ff3beb81820d4404b15869aa4406fab2": {
          "model_module": "@jupyter-widgets/controls",
          "model_name": "HTMLModel",
          "model_module_version": "1.5.0",
          "state": {
            "_dom_classes": [],
            "_model_module": "@jupyter-widgets/controls",
            "_model_module_version": "1.5.0",
            "_model_name": "HTMLModel",
            "_view_count": null,
            "_view_module": "@jupyter-widgets/controls",
            "_view_module_version": "1.5.0",
            "_view_name": "HTMLView",
            "description": "",
            "description_tooltip": null,
            "layout": "IPY_MODEL_20600fedb4354c268388e9f63b49c967",
            "placeholder": "​",
            "style": "IPY_MODEL_c0ac439d87a44c809f996a5cc73504b8",
            "value": " 481/481 [00:00&lt;00:00, 23.3kB/s]"
          }
        },
        "e76df4e9f56a4afdbab227e98d4c517f": {
          "model_module": "@jupyter-widgets/base",
          "model_name": "LayoutModel",
          "model_module_version": "1.2.0",
          "state": {
            "_model_module": "@jupyter-widgets/base",
            "_model_module_version": "1.2.0",
            "_model_name": "LayoutModel",
            "_view_count": null,
            "_view_module": "@jupyter-widgets/base",
            "_view_module_version": "1.2.0",
            "_view_name": "LayoutView",
            "align_content": null,
            "align_items": null,
            "align_self": null,
            "border": null,
            "bottom": null,
            "display": null,
            "flex": null,
            "flex_flow": null,
            "grid_area": null,
            "grid_auto_columns": null,
            "grid_auto_flow": null,
            "grid_auto_rows": null,
            "grid_column": null,
            "grid_gap": null,
            "grid_row": null,
            "grid_template_areas": null,
            "grid_template_columns": null,
            "grid_template_rows": null,
            "height": null,
            "justify_content": null,
            "justify_items": null,
            "left": null,
            "margin": null,
            "max_height": null,
            "max_width": null,
            "min_height": null,
            "min_width": null,
            "object_fit": null,
            "object_position": null,
            "order": null,
            "overflow": null,
            "overflow_x": null,
            "overflow_y": null,
            "padding": null,
            "right": null,
            "top": null,
            "visibility": null,
            "width": null
          }
        },
        "decffb5089d84f0cab3b1bb99ed0eb61": {
          "model_module": "@jupyter-widgets/base",
          "model_name": "LayoutModel",
          "model_module_version": "1.2.0",
          "state": {
            "_model_module": "@jupyter-widgets/base",
            "_model_module_version": "1.2.0",
            "_model_name": "LayoutModel",
            "_view_count": null,
            "_view_module": "@jupyter-widgets/base",
            "_view_module_version": "1.2.0",
            "_view_name": "LayoutView",
            "align_content": null,
            "align_items": null,
            "align_self": null,
            "border": null,
            "bottom": null,
            "display": null,
            "flex": null,
            "flex_flow": null,
            "grid_area": null,
            "grid_auto_columns": null,
            "grid_auto_flow": null,
            "grid_auto_rows": null,
            "grid_column": null,
            "grid_gap": null,
            "grid_row": null,
            "grid_template_areas": null,
            "grid_template_columns": null,
            "grid_template_rows": null,
            "height": null,
            "justify_content": null,
            "justify_items": null,
            "left": null,
            "margin": null,
            "max_height": null,
            "max_width": null,
            "min_height": null,
            "min_width": null,
            "object_fit": null,
            "object_position": null,
            "order": null,
            "overflow": null,
            "overflow_x": null,
            "overflow_y": null,
            "padding": null,
            "right": null,
            "top": null,
            "visibility": null,
            "width": null
          }
        },
        "19b9bbe59e2147b98dbed7b93f3417bc": {
          "model_module": "@jupyter-widgets/controls",
          "model_name": "DescriptionStyleModel",
          "model_module_version": "1.5.0",
          "state": {
            "_model_module": "@jupyter-widgets/controls",
            "_model_module_version": "1.5.0",
            "_model_name": "DescriptionStyleModel",
            "_view_count": null,
            "_view_module": "@jupyter-widgets/base",
            "_view_module_version": "1.2.0",
            "_view_name": "StyleView",
            "description_width": ""
          }
        },
        "4011306f3f344e478a541ec037e985bc": {
          "model_module": "@jupyter-widgets/base",
          "model_name": "LayoutModel",
          "model_module_version": "1.2.0",
          "state": {
            "_model_module": "@jupyter-widgets/base",
            "_model_module_version": "1.2.0",
            "_model_name": "LayoutModel",
            "_view_count": null,
            "_view_module": "@jupyter-widgets/base",
            "_view_module_version": "1.2.0",
            "_view_name": "LayoutView",
            "align_content": null,
            "align_items": null,
            "align_self": null,
            "border": null,
            "bottom": null,
            "display": null,
            "flex": null,
            "flex_flow": null,
            "grid_area": null,
            "grid_auto_columns": null,
            "grid_auto_flow": null,
            "grid_auto_rows": null,
            "grid_column": null,
            "grid_gap": null,
            "grid_row": null,
            "grid_template_areas": null,
            "grid_template_columns": null,
            "grid_template_rows": null,
            "height": null,
            "justify_content": null,
            "justify_items": null,
            "left": null,
            "margin": null,
            "max_height": null,
            "max_width": null,
            "min_height": null,
            "min_width": null,
            "object_fit": null,
            "object_position": null,
            "order": null,
            "overflow": null,
            "overflow_x": null,
            "overflow_y": null,
            "padding": null,
            "right": null,
            "top": null,
            "visibility": null,
            "width": null
          }
        },
        "c2ceca7f00b0409a9f387cb932b733f7": {
          "model_module": "@jupyter-widgets/controls",
          "model_name": "ProgressStyleModel",
          "model_module_version": "1.5.0",
          "state": {
            "_model_module": "@jupyter-widgets/controls",
            "_model_module_version": "1.5.0",
            "_model_name": "ProgressStyleModel",
            "_view_count": null,
            "_view_module": "@jupyter-widgets/base",
            "_view_module_version": "1.2.0",
            "_view_name": "StyleView",
            "bar_color": null,
            "description_width": ""
          }
        },
        "20600fedb4354c268388e9f63b49c967": {
          "model_module": "@jupyter-widgets/base",
          "model_name": "LayoutModel",
          "model_module_version": "1.2.0",
          "state": {
            "_model_module": "@jupyter-widgets/base",
            "_model_module_version": "1.2.0",
            "_model_name": "LayoutModel",
            "_view_count": null,
            "_view_module": "@jupyter-widgets/base",
            "_view_module_version": "1.2.0",
            "_view_name": "LayoutView",
            "align_content": null,
            "align_items": null,
            "align_self": null,
            "border": null,
            "bottom": null,
            "display": null,
            "flex": null,
            "flex_flow": null,
            "grid_area": null,
            "grid_auto_columns": null,
            "grid_auto_flow": null,
            "grid_auto_rows": null,
            "grid_column": null,
            "grid_gap": null,
            "grid_row": null,
            "grid_template_areas": null,
            "grid_template_columns": null,
            "grid_template_rows": null,
            "height": null,
            "justify_content": null,
            "justify_items": null,
            "left": null,
            "margin": null,
            "max_height": null,
            "max_width": null,
            "min_height": null,
            "min_width": null,
            "object_fit": null,
            "object_position": null,
            "order": null,
            "overflow": null,
            "overflow_x": null,
            "overflow_y": null,
            "padding": null,
            "right": null,
            "top": null,
            "visibility": null,
            "width": null
          }
        },
        "c0ac439d87a44c809f996a5cc73504b8": {
          "model_module": "@jupyter-widgets/controls",
          "model_name": "DescriptionStyleModel",
          "model_module_version": "1.5.0",
          "state": {
            "_model_module": "@jupyter-widgets/controls",
            "_model_module_version": "1.5.0",
            "_model_name": "DescriptionStyleModel",
            "_view_count": null,
            "_view_module": "@jupyter-widgets/base",
            "_view_module_version": "1.2.0",
            "_view_name": "StyleView",
            "description_width": ""
          }
        },
        "96765f3da74c45208cbc135dff120b7b": {
          "model_module": "@jupyter-widgets/controls",
          "model_name": "HBoxModel",
          "model_module_version": "1.5.0",
          "state": {
            "_dom_classes": [],
            "_model_module": "@jupyter-widgets/controls",
            "_model_module_version": "1.5.0",
            "_model_name": "HBoxModel",
            "_view_count": null,
            "_view_module": "@jupyter-widgets/controls",
            "_view_module_version": "1.5.0",
            "_view_name": "HBoxView",
            "box_style": "",
            "children": [
              "IPY_MODEL_e9c08d768e9b432e917eb40def177803",
              "IPY_MODEL_4d78c6dc6163424490ea7ec02613113d",
              "IPY_MODEL_f9a2ddc5ff7b402d860045fe7e51a02c"
            ],
            "layout": "IPY_MODEL_b9ca7c7b83d34e33b2b4b6efde33f416"
          }
        },
        "e9c08d768e9b432e917eb40def177803": {
          "model_module": "@jupyter-widgets/controls",
          "model_name": "HTMLModel",
          "model_module_version": "1.5.0",
          "state": {
            "_dom_classes": [],
            "_model_module": "@jupyter-widgets/controls",
            "_model_module_version": "1.5.0",
            "_model_name": "HTMLModel",
            "_view_count": null,
            "_view_module": "@jupyter-widgets/controls",
            "_view_module_version": "1.5.0",
            "_view_name": "HTMLView",
            "description": "",
            "description_tooltip": null,
            "layout": "IPY_MODEL_dae60c2a4ae340efa2e4611b6aed6422",
            "placeholder": "​",
            "style": "IPY_MODEL_e5aff8b5b155409d8ffb67a19094f3b2",
            "value": "Downloading (…)olve/main/vocab.json: 100%"
          }
        },
        "4d78c6dc6163424490ea7ec02613113d": {
          "model_module": "@jupyter-widgets/controls",
          "model_name": "FloatProgressModel",
          "model_module_version": "1.5.0",
          "state": {
            "_dom_classes": [],
            "_model_module": "@jupyter-widgets/controls",
            "_model_module_version": "1.5.0",
            "_model_name": "FloatProgressModel",
            "_view_count": null,
            "_view_module": "@jupyter-widgets/controls",
            "_view_module_version": "1.5.0",
            "_view_name": "ProgressView",
            "bar_style": "success",
            "description": "",
            "description_tooltip": null,
            "layout": "IPY_MODEL_d619c537fcb2435e83921e7e73971a83",
            "max": 898823,
            "min": 0,
            "orientation": "horizontal",
            "style": "IPY_MODEL_6ca0504e91bc4f1fa40a1b5bfcc61d03",
            "value": 898823
          }
        },
        "f9a2ddc5ff7b402d860045fe7e51a02c": {
          "model_module": "@jupyter-widgets/controls",
          "model_name": "HTMLModel",
          "model_module_version": "1.5.0",
          "state": {
            "_dom_classes": [],
            "_model_module": "@jupyter-widgets/controls",
            "_model_module_version": "1.5.0",
            "_model_name": "HTMLModel",
            "_view_count": null,
            "_view_module": "@jupyter-widgets/controls",
            "_view_module_version": "1.5.0",
            "_view_name": "HTMLView",
            "description": "",
            "description_tooltip": null,
            "layout": "IPY_MODEL_2bf04209646548c5ab8480550d59d1a9",
            "placeholder": "​",
            "style": "IPY_MODEL_31be78dd44914a0598d3a8a9c702b5f6",
            "value": " 899k/899k [00:00&lt;00:00, 1.06MB/s]"
          }
        },
        "b9ca7c7b83d34e33b2b4b6efde33f416": {
          "model_module": "@jupyter-widgets/base",
          "model_name": "LayoutModel",
          "model_module_version": "1.2.0",
          "state": {
            "_model_module": "@jupyter-widgets/base",
            "_model_module_version": "1.2.0",
            "_model_name": "LayoutModel",
            "_view_count": null,
            "_view_module": "@jupyter-widgets/base",
            "_view_module_version": "1.2.0",
            "_view_name": "LayoutView",
            "align_content": null,
            "align_items": null,
            "align_self": null,
            "border": null,
            "bottom": null,
            "display": null,
            "flex": null,
            "flex_flow": null,
            "grid_area": null,
            "grid_auto_columns": null,
            "grid_auto_flow": null,
            "grid_auto_rows": null,
            "grid_column": null,
            "grid_gap": null,
            "grid_row": null,
            "grid_template_areas": null,
            "grid_template_columns": null,
            "grid_template_rows": null,
            "height": null,
            "justify_content": null,
            "justify_items": null,
            "left": null,
            "margin": null,
            "max_height": null,
            "max_width": null,
            "min_height": null,
            "min_width": null,
            "object_fit": null,
            "object_position": null,
            "order": null,
            "overflow": null,
            "overflow_x": null,
            "overflow_y": null,
            "padding": null,
            "right": null,
            "top": null,
            "visibility": null,
            "width": null
          }
        },
        "dae60c2a4ae340efa2e4611b6aed6422": {
          "model_module": "@jupyter-widgets/base",
          "model_name": "LayoutModel",
          "model_module_version": "1.2.0",
          "state": {
            "_model_module": "@jupyter-widgets/base",
            "_model_module_version": "1.2.0",
            "_model_name": "LayoutModel",
            "_view_count": null,
            "_view_module": "@jupyter-widgets/base",
            "_view_module_version": "1.2.0",
            "_view_name": "LayoutView",
            "align_content": null,
            "align_items": null,
            "align_self": null,
            "border": null,
            "bottom": null,
            "display": null,
            "flex": null,
            "flex_flow": null,
            "grid_area": null,
            "grid_auto_columns": null,
            "grid_auto_flow": null,
            "grid_auto_rows": null,
            "grid_column": null,
            "grid_gap": null,
            "grid_row": null,
            "grid_template_areas": null,
            "grid_template_columns": null,
            "grid_template_rows": null,
            "height": null,
            "justify_content": null,
            "justify_items": null,
            "left": null,
            "margin": null,
            "max_height": null,
            "max_width": null,
            "min_height": null,
            "min_width": null,
            "object_fit": null,
            "object_position": null,
            "order": null,
            "overflow": null,
            "overflow_x": null,
            "overflow_y": null,
            "padding": null,
            "right": null,
            "top": null,
            "visibility": null,
            "width": null
          }
        },
        "e5aff8b5b155409d8ffb67a19094f3b2": {
          "model_module": "@jupyter-widgets/controls",
          "model_name": "DescriptionStyleModel",
          "model_module_version": "1.5.0",
          "state": {
            "_model_module": "@jupyter-widgets/controls",
            "_model_module_version": "1.5.0",
            "_model_name": "DescriptionStyleModel",
            "_view_count": null,
            "_view_module": "@jupyter-widgets/base",
            "_view_module_version": "1.2.0",
            "_view_name": "StyleView",
            "description_width": ""
          }
        },
        "d619c537fcb2435e83921e7e73971a83": {
          "model_module": "@jupyter-widgets/base",
          "model_name": "LayoutModel",
          "model_module_version": "1.2.0",
          "state": {
            "_model_module": "@jupyter-widgets/base",
            "_model_module_version": "1.2.0",
            "_model_name": "LayoutModel",
            "_view_count": null,
            "_view_module": "@jupyter-widgets/base",
            "_view_module_version": "1.2.0",
            "_view_name": "LayoutView",
            "align_content": null,
            "align_items": null,
            "align_self": null,
            "border": null,
            "bottom": null,
            "display": null,
            "flex": null,
            "flex_flow": null,
            "grid_area": null,
            "grid_auto_columns": null,
            "grid_auto_flow": null,
            "grid_auto_rows": null,
            "grid_column": null,
            "grid_gap": null,
            "grid_row": null,
            "grid_template_areas": null,
            "grid_template_columns": null,
            "grid_template_rows": null,
            "height": null,
            "justify_content": null,
            "justify_items": null,
            "left": null,
            "margin": null,
            "max_height": null,
            "max_width": null,
            "min_height": null,
            "min_width": null,
            "object_fit": null,
            "object_position": null,
            "order": null,
            "overflow": null,
            "overflow_x": null,
            "overflow_y": null,
            "padding": null,
            "right": null,
            "top": null,
            "visibility": null,
            "width": null
          }
        },
        "6ca0504e91bc4f1fa40a1b5bfcc61d03": {
          "model_module": "@jupyter-widgets/controls",
          "model_name": "ProgressStyleModel",
          "model_module_version": "1.5.0",
          "state": {
            "_model_module": "@jupyter-widgets/controls",
            "_model_module_version": "1.5.0",
            "_model_name": "ProgressStyleModel",
            "_view_count": null,
            "_view_module": "@jupyter-widgets/base",
            "_view_module_version": "1.2.0",
            "_view_name": "StyleView",
            "bar_color": null,
            "description_width": ""
          }
        },
        "2bf04209646548c5ab8480550d59d1a9": {
          "model_module": "@jupyter-widgets/base",
          "model_name": "LayoutModel",
          "model_module_version": "1.2.0",
          "state": {
            "_model_module": "@jupyter-widgets/base",
            "_model_module_version": "1.2.0",
            "_model_name": "LayoutModel",
            "_view_count": null,
            "_view_module": "@jupyter-widgets/base",
            "_view_module_version": "1.2.0",
            "_view_name": "LayoutView",
            "align_content": null,
            "align_items": null,
            "align_self": null,
            "border": null,
            "bottom": null,
            "display": null,
            "flex": null,
            "flex_flow": null,
            "grid_area": null,
            "grid_auto_columns": null,
            "grid_auto_flow": null,
            "grid_auto_rows": null,
            "grid_column": null,
            "grid_gap": null,
            "grid_row": null,
            "grid_template_areas": null,
            "grid_template_columns": null,
            "grid_template_rows": null,
            "height": null,
            "justify_content": null,
            "justify_items": null,
            "left": null,
            "margin": null,
            "max_height": null,
            "max_width": null,
            "min_height": null,
            "min_width": null,
            "object_fit": null,
            "object_position": null,
            "order": null,
            "overflow": null,
            "overflow_x": null,
            "overflow_y": null,
            "padding": null,
            "right": null,
            "top": null,
            "visibility": null,
            "width": null
          }
        },
        "31be78dd44914a0598d3a8a9c702b5f6": {
          "model_module": "@jupyter-widgets/controls",
          "model_name": "DescriptionStyleModel",
          "model_module_version": "1.5.0",
          "state": {
            "_model_module": "@jupyter-widgets/controls",
            "_model_module_version": "1.5.0",
            "_model_name": "DescriptionStyleModel",
            "_view_count": null,
            "_view_module": "@jupyter-widgets/base",
            "_view_module_version": "1.2.0",
            "_view_name": "StyleView",
            "description_width": ""
          }
        },
        "9053cf339eb945e7aad0adc9dd1162ca": {
          "model_module": "@jupyter-widgets/controls",
          "model_name": "HBoxModel",
          "model_module_version": "1.5.0",
          "state": {
            "_dom_classes": [],
            "_model_module": "@jupyter-widgets/controls",
            "_model_module_version": "1.5.0",
            "_model_name": "HBoxModel",
            "_view_count": null,
            "_view_module": "@jupyter-widgets/controls",
            "_view_module_version": "1.5.0",
            "_view_name": "HBoxView",
            "box_style": "",
            "children": [
              "IPY_MODEL_1cfbf060d8a4402fa684aa3b1e5d3c6f",
              "IPY_MODEL_fe6b14ae8c6748129c7f175cfce2d1f5",
              "IPY_MODEL_30319d22b704405288ae402a4a96a1b0"
            ],
            "layout": "IPY_MODEL_41fd9275b89e41f4846bc51b09d85d4d"
          }
        },
        "1cfbf060d8a4402fa684aa3b1e5d3c6f": {
          "model_module": "@jupyter-widgets/controls",
          "model_name": "HTMLModel",
          "model_module_version": "1.5.0",
          "state": {
            "_dom_classes": [],
            "_model_module": "@jupyter-widgets/controls",
            "_model_module_version": "1.5.0",
            "_model_name": "HTMLModel",
            "_view_count": null,
            "_view_module": "@jupyter-widgets/controls",
            "_view_module_version": "1.5.0",
            "_view_name": "HTMLView",
            "description": "",
            "description_tooltip": null,
            "layout": "IPY_MODEL_239d00dfb58344c8aa8636ed14cd8525",
            "placeholder": "​",
            "style": "IPY_MODEL_88d5e87514d54ba3b4feb575d3815a62",
            "value": "Downloading (…)olve/main/merges.txt: 100%"
          }
        },
        "fe6b14ae8c6748129c7f175cfce2d1f5": {
          "model_module": "@jupyter-widgets/controls",
          "model_name": "FloatProgressModel",
          "model_module_version": "1.5.0",
          "state": {
            "_dom_classes": [],
            "_model_module": "@jupyter-widgets/controls",
            "_model_module_version": "1.5.0",
            "_model_name": "FloatProgressModel",
            "_view_count": null,
            "_view_module": "@jupyter-widgets/controls",
            "_view_module_version": "1.5.0",
            "_view_name": "ProgressView",
            "bar_style": "success",
            "description": "",
            "description_tooltip": null,
            "layout": "IPY_MODEL_67c9eeefdfa2458a9b74578deb819757",
            "max": 456318,
            "min": 0,
            "orientation": "horizontal",
            "style": "IPY_MODEL_574e7bb1c61149269ef329bc2fbcbaf8",
            "value": 456318
          }
        },
        "30319d22b704405288ae402a4a96a1b0": {
          "model_module": "@jupyter-widgets/controls",
          "model_name": "HTMLModel",
          "model_module_version": "1.5.0",
          "state": {
            "_dom_classes": [],
            "_model_module": "@jupyter-widgets/controls",
            "_model_module_version": "1.5.0",
            "_model_name": "HTMLModel",
            "_view_count": null,
            "_view_module": "@jupyter-widgets/controls",
            "_view_module_version": "1.5.0",
            "_view_name": "HTMLView",
            "description": "",
            "description_tooltip": null,
            "layout": "IPY_MODEL_7d6b2f47342949efb6bfdad3fb63c851",
            "placeholder": "​",
            "style": "IPY_MODEL_dfe3ee5c7d25483d8150af15e264cadc",
            "value": " 456k/456k [00:00&lt;00:00, 11.2MB/s]"
          }
        },
        "41fd9275b89e41f4846bc51b09d85d4d": {
          "model_module": "@jupyter-widgets/base",
          "model_name": "LayoutModel",
          "model_module_version": "1.2.0",
          "state": {
            "_model_module": "@jupyter-widgets/base",
            "_model_module_version": "1.2.0",
            "_model_name": "LayoutModel",
            "_view_count": null,
            "_view_module": "@jupyter-widgets/base",
            "_view_module_version": "1.2.0",
            "_view_name": "LayoutView",
            "align_content": null,
            "align_items": null,
            "align_self": null,
            "border": null,
            "bottom": null,
            "display": null,
            "flex": null,
            "flex_flow": null,
            "grid_area": null,
            "grid_auto_columns": null,
            "grid_auto_flow": null,
            "grid_auto_rows": null,
            "grid_column": null,
            "grid_gap": null,
            "grid_row": null,
            "grid_template_areas": null,
            "grid_template_columns": null,
            "grid_template_rows": null,
            "height": null,
            "justify_content": null,
            "justify_items": null,
            "left": null,
            "margin": null,
            "max_height": null,
            "max_width": null,
            "min_height": null,
            "min_width": null,
            "object_fit": null,
            "object_position": null,
            "order": null,
            "overflow": null,
            "overflow_x": null,
            "overflow_y": null,
            "padding": null,
            "right": null,
            "top": null,
            "visibility": null,
            "width": null
          }
        },
        "239d00dfb58344c8aa8636ed14cd8525": {
          "model_module": "@jupyter-widgets/base",
          "model_name": "LayoutModel",
          "model_module_version": "1.2.0",
          "state": {
            "_model_module": "@jupyter-widgets/base",
            "_model_module_version": "1.2.0",
            "_model_name": "LayoutModel",
            "_view_count": null,
            "_view_module": "@jupyter-widgets/base",
            "_view_module_version": "1.2.0",
            "_view_name": "LayoutView",
            "align_content": null,
            "align_items": null,
            "align_self": null,
            "border": null,
            "bottom": null,
            "display": null,
            "flex": null,
            "flex_flow": null,
            "grid_area": null,
            "grid_auto_columns": null,
            "grid_auto_flow": null,
            "grid_auto_rows": null,
            "grid_column": null,
            "grid_gap": null,
            "grid_row": null,
            "grid_template_areas": null,
            "grid_template_columns": null,
            "grid_template_rows": null,
            "height": null,
            "justify_content": null,
            "justify_items": null,
            "left": null,
            "margin": null,
            "max_height": null,
            "max_width": null,
            "min_height": null,
            "min_width": null,
            "object_fit": null,
            "object_position": null,
            "order": null,
            "overflow": null,
            "overflow_x": null,
            "overflow_y": null,
            "padding": null,
            "right": null,
            "top": null,
            "visibility": null,
            "width": null
          }
        },
        "88d5e87514d54ba3b4feb575d3815a62": {
          "model_module": "@jupyter-widgets/controls",
          "model_name": "DescriptionStyleModel",
          "model_module_version": "1.5.0",
          "state": {
            "_model_module": "@jupyter-widgets/controls",
            "_model_module_version": "1.5.0",
            "_model_name": "DescriptionStyleModel",
            "_view_count": null,
            "_view_module": "@jupyter-widgets/base",
            "_view_module_version": "1.2.0",
            "_view_name": "StyleView",
            "description_width": ""
          }
        },
        "67c9eeefdfa2458a9b74578deb819757": {
          "model_module": "@jupyter-widgets/base",
          "model_name": "LayoutModel",
          "model_module_version": "1.2.0",
          "state": {
            "_model_module": "@jupyter-widgets/base",
            "_model_module_version": "1.2.0",
            "_model_name": "LayoutModel",
            "_view_count": null,
            "_view_module": "@jupyter-widgets/base",
            "_view_module_version": "1.2.0",
            "_view_name": "LayoutView",
            "align_content": null,
            "align_items": null,
            "align_self": null,
            "border": null,
            "bottom": null,
            "display": null,
            "flex": null,
            "flex_flow": null,
            "grid_area": null,
            "grid_auto_columns": null,
            "grid_auto_flow": null,
            "grid_auto_rows": null,
            "grid_column": null,
            "grid_gap": null,
            "grid_row": null,
            "grid_template_areas": null,
            "grid_template_columns": null,
            "grid_template_rows": null,
            "height": null,
            "justify_content": null,
            "justify_items": null,
            "left": null,
            "margin": null,
            "max_height": null,
            "max_width": null,
            "min_height": null,
            "min_width": null,
            "object_fit": null,
            "object_position": null,
            "order": null,
            "overflow": null,
            "overflow_x": null,
            "overflow_y": null,
            "padding": null,
            "right": null,
            "top": null,
            "visibility": null,
            "width": null
          }
        },
        "574e7bb1c61149269ef329bc2fbcbaf8": {
          "model_module": "@jupyter-widgets/controls",
          "model_name": "ProgressStyleModel",
          "model_module_version": "1.5.0",
          "state": {
            "_model_module": "@jupyter-widgets/controls",
            "_model_module_version": "1.5.0",
            "_model_name": "ProgressStyleModel",
            "_view_count": null,
            "_view_module": "@jupyter-widgets/base",
            "_view_module_version": "1.2.0",
            "_view_name": "StyleView",
            "bar_color": null,
            "description_width": ""
          }
        },
        "7d6b2f47342949efb6bfdad3fb63c851": {
          "model_module": "@jupyter-widgets/base",
          "model_name": "LayoutModel",
          "model_module_version": "1.2.0",
          "state": {
            "_model_module": "@jupyter-widgets/base",
            "_model_module_version": "1.2.0",
            "_model_name": "LayoutModel",
            "_view_count": null,
            "_view_module": "@jupyter-widgets/base",
            "_view_module_version": "1.2.0",
            "_view_name": "LayoutView",
            "align_content": null,
            "align_items": null,
            "align_self": null,
            "border": null,
            "bottom": null,
            "display": null,
            "flex": null,
            "flex_flow": null,
            "grid_area": null,
            "grid_auto_columns": null,
            "grid_auto_flow": null,
            "grid_auto_rows": null,
            "grid_column": null,
            "grid_gap": null,
            "grid_row": null,
            "grid_template_areas": null,
            "grid_template_columns": null,
            "grid_template_rows": null,
            "height": null,
            "justify_content": null,
            "justify_items": null,
            "left": null,
            "margin": null,
            "max_height": null,
            "max_width": null,
            "min_height": null,
            "min_width": null,
            "object_fit": null,
            "object_position": null,
            "order": null,
            "overflow": null,
            "overflow_x": null,
            "overflow_y": null,
            "padding": null,
            "right": null,
            "top": null,
            "visibility": null,
            "width": null
          }
        },
        "dfe3ee5c7d25483d8150af15e264cadc": {
          "model_module": "@jupyter-widgets/controls",
          "model_name": "DescriptionStyleModel",
          "model_module_version": "1.5.0",
          "state": {
            "_model_module": "@jupyter-widgets/controls",
            "_model_module_version": "1.5.0",
            "_model_name": "DescriptionStyleModel",
            "_view_count": null,
            "_view_module": "@jupyter-widgets/base",
            "_view_module_version": "1.2.0",
            "_view_name": "StyleView",
            "description_width": ""
          }
        },
        "78f0beef99224580b6effbcd63be1dca": {
          "model_module": "@jupyter-widgets/controls",
          "model_name": "HBoxModel",
          "model_module_version": "1.5.0",
          "state": {
            "_dom_classes": [],
            "_model_module": "@jupyter-widgets/controls",
            "_model_module_version": "1.5.0",
            "_model_name": "HBoxModel",
            "_view_count": null,
            "_view_module": "@jupyter-widgets/controls",
            "_view_module_version": "1.5.0",
            "_view_name": "HBoxView",
            "box_style": "",
            "children": [
              "IPY_MODEL_83cc7338fa6942b786fa908b3c3f5079",
              "IPY_MODEL_907c33a7561e4ed3968fd7c4d70bef87",
              "IPY_MODEL_524e953a8c0345198a10f1ed35e9b637"
            ],
            "layout": "IPY_MODEL_935416ebb9594ad0bdf66d60c783d795"
          }
        },
        "83cc7338fa6942b786fa908b3c3f5079": {
          "model_module": "@jupyter-widgets/controls",
          "model_name": "HTMLModel",
          "model_module_version": "1.5.0",
          "state": {
            "_dom_classes": [],
            "_model_module": "@jupyter-widgets/controls",
            "_model_module_version": "1.5.0",
            "_model_name": "HTMLModel",
            "_view_count": null,
            "_view_module": "@jupyter-widgets/controls",
            "_view_module_version": "1.5.0",
            "_view_name": "HTMLView",
            "description": "",
            "description_tooltip": null,
            "layout": "IPY_MODEL_ecd95d3b77e04bfb93b283ede56c3dcd",
            "placeholder": "​",
            "style": "IPY_MODEL_efa957e4e2c641f2a9cf158db9ed97ee",
            "value": "Downloading (…)lve/main/config.json: 100%"
          }
        },
        "907c33a7561e4ed3968fd7c4d70bef87": {
          "model_module": "@jupyter-widgets/controls",
          "model_name": "FloatProgressModel",
          "model_module_version": "1.5.0",
          "state": {
            "_dom_classes": [],
            "_model_module": "@jupyter-widgets/controls",
            "_model_module_version": "1.5.0",
            "_model_name": "FloatProgressModel",
            "_view_count": null,
            "_view_module": "@jupyter-widgets/controls",
            "_view_module_version": "1.5.0",
            "_view_name": "ProgressView",
            "bar_style": "success",
            "description": "",
            "description_tooltip": null,
            "layout": "IPY_MODEL_68cb10a42a3944f898b189fa9da20fcf",
            "max": 482,
            "min": 0,
            "orientation": "horizontal",
            "style": "IPY_MODEL_7d4580e7e3ca4c88a49b3399be17edc1",
            "value": 482
          }
        },
        "524e953a8c0345198a10f1ed35e9b637": {
          "model_module": "@jupyter-widgets/controls",
          "model_name": "HTMLModel",
          "model_module_version": "1.5.0",
          "state": {
            "_dom_classes": [],
            "_model_module": "@jupyter-widgets/controls",
            "_model_module_version": "1.5.0",
            "_model_name": "HTMLModel",
            "_view_count": null,
            "_view_module": "@jupyter-widgets/controls",
            "_view_module_version": "1.5.0",
            "_view_name": "HTMLView",
            "description": "",
            "description_tooltip": null,
            "layout": "IPY_MODEL_0c6f0a46769147da9efa947369d519eb",
            "placeholder": "​",
            "style": "IPY_MODEL_ed51ee44c015491391df95c4b60d4662",
            "value": " 482/482 [00:00&lt;00:00, 25.5kB/s]"
          }
        },
        "935416ebb9594ad0bdf66d60c783d795": {
          "model_module": "@jupyter-widgets/base",
          "model_name": "LayoutModel",
          "model_module_version": "1.2.0",
          "state": {
            "_model_module": "@jupyter-widgets/base",
            "_model_module_version": "1.2.0",
            "_model_name": "LayoutModel",
            "_view_count": null,
            "_view_module": "@jupyter-widgets/base",
            "_view_module_version": "1.2.0",
            "_view_name": "LayoutView",
            "align_content": null,
            "align_items": null,
            "align_self": null,
            "border": null,
            "bottom": null,
            "display": null,
            "flex": null,
            "flex_flow": null,
            "grid_area": null,
            "grid_auto_columns": null,
            "grid_auto_flow": null,
            "grid_auto_rows": null,
            "grid_column": null,
            "grid_gap": null,
            "grid_row": null,
            "grid_template_areas": null,
            "grid_template_columns": null,
            "grid_template_rows": null,
            "height": null,
            "justify_content": null,
            "justify_items": null,
            "left": null,
            "margin": null,
            "max_height": null,
            "max_width": null,
            "min_height": null,
            "min_width": null,
            "object_fit": null,
            "object_position": null,
            "order": null,
            "overflow": null,
            "overflow_x": null,
            "overflow_y": null,
            "padding": null,
            "right": null,
            "top": null,
            "visibility": null,
            "width": null
          }
        },
        "ecd95d3b77e04bfb93b283ede56c3dcd": {
          "model_module": "@jupyter-widgets/base",
          "model_name": "LayoutModel",
          "model_module_version": "1.2.0",
          "state": {
            "_model_module": "@jupyter-widgets/base",
            "_model_module_version": "1.2.0",
            "_model_name": "LayoutModel",
            "_view_count": null,
            "_view_module": "@jupyter-widgets/base",
            "_view_module_version": "1.2.0",
            "_view_name": "LayoutView",
            "align_content": null,
            "align_items": null,
            "align_self": null,
            "border": null,
            "bottom": null,
            "display": null,
            "flex": null,
            "flex_flow": null,
            "grid_area": null,
            "grid_auto_columns": null,
            "grid_auto_flow": null,
            "grid_auto_rows": null,
            "grid_column": null,
            "grid_gap": null,
            "grid_row": null,
            "grid_template_areas": null,
            "grid_template_columns": null,
            "grid_template_rows": null,
            "height": null,
            "justify_content": null,
            "justify_items": null,
            "left": null,
            "margin": null,
            "max_height": null,
            "max_width": null,
            "min_height": null,
            "min_width": null,
            "object_fit": null,
            "object_position": null,
            "order": null,
            "overflow": null,
            "overflow_x": null,
            "overflow_y": null,
            "padding": null,
            "right": null,
            "top": null,
            "visibility": null,
            "width": null
          }
        },
        "efa957e4e2c641f2a9cf158db9ed97ee": {
          "model_module": "@jupyter-widgets/controls",
          "model_name": "DescriptionStyleModel",
          "model_module_version": "1.5.0",
          "state": {
            "_model_module": "@jupyter-widgets/controls",
            "_model_module_version": "1.5.0",
            "_model_name": "DescriptionStyleModel",
            "_view_count": null,
            "_view_module": "@jupyter-widgets/base",
            "_view_module_version": "1.2.0",
            "_view_name": "StyleView",
            "description_width": ""
          }
        },
        "68cb10a42a3944f898b189fa9da20fcf": {
          "model_module": "@jupyter-widgets/base",
          "model_name": "LayoutModel",
          "model_module_version": "1.2.0",
          "state": {
            "_model_module": "@jupyter-widgets/base",
            "_model_module_version": "1.2.0",
            "_model_name": "LayoutModel",
            "_view_count": null,
            "_view_module": "@jupyter-widgets/base",
            "_view_module_version": "1.2.0",
            "_view_name": "LayoutView",
            "align_content": null,
            "align_items": null,
            "align_self": null,
            "border": null,
            "bottom": null,
            "display": null,
            "flex": null,
            "flex_flow": null,
            "grid_area": null,
            "grid_auto_columns": null,
            "grid_auto_flow": null,
            "grid_auto_rows": null,
            "grid_column": null,
            "grid_gap": null,
            "grid_row": null,
            "grid_template_areas": null,
            "grid_template_columns": null,
            "grid_template_rows": null,
            "height": null,
            "justify_content": null,
            "justify_items": null,
            "left": null,
            "margin": null,
            "max_height": null,
            "max_width": null,
            "min_height": null,
            "min_width": null,
            "object_fit": null,
            "object_position": null,
            "order": null,
            "overflow": null,
            "overflow_x": null,
            "overflow_y": null,
            "padding": null,
            "right": null,
            "top": null,
            "visibility": null,
            "width": null
          }
        },
        "7d4580e7e3ca4c88a49b3399be17edc1": {
          "model_module": "@jupyter-widgets/controls",
          "model_name": "ProgressStyleModel",
          "model_module_version": "1.5.0",
          "state": {
            "_model_module": "@jupyter-widgets/controls",
            "_model_module_version": "1.5.0",
            "_model_name": "ProgressStyleModel",
            "_view_count": null,
            "_view_module": "@jupyter-widgets/base",
            "_view_module_version": "1.2.0",
            "_view_name": "StyleView",
            "bar_color": null,
            "description_width": ""
          }
        },
        "0c6f0a46769147da9efa947369d519eb": {
          "model_module": "@jupyter-widgets/base",
          "model_name": "LayoutModel",
          "model_module_version": "1.2.0",
          "state": {
            "_model_module": "@jupyter-widgets/base",
            "_model_module_version": "1.2.0",
            "_model_name": "LayoutModel",
            "_view_count": null,
            "_view_module": "@jupyter-widgets/base",
            "_view_module_version": "1.2.0",
            "_view_name": "LayoutView",
            "align_content": null,
            "align_items": null,
            "align_self": null,
            "border": null,
            "bottom": null,
            "display": null,
            "flex": null,
            "flex_flow": null,
            "grid_area": null,
            "grid_auto_columns": null,
            "grid_auto_flow": null,
            "grid_auto_rows": null,
            "grid_column": null,
            "grid_gap": null,
            "grid_row": null,
            "grid_template_areas": null,
            "grid_template_columns": null,
            "grid_template_rows": null,
            "height": null,
            "justify_content": null,
            "justify_items": null,
            "left": null,
            "margin": null,
            "max_height": null,
            "max_width": null,
            "min_height": null,
            "min_width": null,
            "object_fit": null,
            "object_position": null,
            "order": null,
            "overflow": null,
            "overflow_x": null,
            "overflow_y": null,
            "padding": null,
            "right": null,
            "top": null,
            "visibility": null,
            "width": null
          }
        },
        "ed51ee44c015491391df95c4b60d4662": {
          "model_module": "@jupyter-widgets/controls",
          "model_name": "DescriptionStyleModel",
          "model_module_version": "1.5.0",
          "state": {
            "_model_module": "@jupyter-widgets/controls",
            "_model_module_version": "1.5.0",
            "_model_name": "DescriptionStyleModel",
            "_view_count": null,
            "_view_module": "@jupyter-widgets/base",
            "_view_module_version": "1.2.0",
            "_view_name": "StyleView",
            "description_width": ""
          }
        },
        "cdf584a0f8ab41529fcb535eb3c22e84": {
          "model_module": "@jupyter-widgets/controls",
          "model_name": "HBoxModel",
          "model_module_version": "1.5.0",
          "state": {
            "_dom_classes": [],
            "_model_module": "@jupyter-widgets/controls",
            "_model_module_version": "1.5.0",
            "_model_name": "HBoxModel",
            "_view_count": null,
            "_view_module": "@jupyter-widgets/controls",
            "_view_module_version": "1.5.0",
            "_view_name": "HBoxView",
            "box_style": "",
            "children": [
              "IPY_MODEL_ba732701fa3f427f81cb64036c4bd4b4",
              "IPY_MODEL_166579ae84c7410aaf47ec699b2ea49f",
              "IPY_MODEL_ad3e5854bc1940f9bde6750466ab86d0"
            ],
            "layout": "IPY_MODEL_cf2c920207504cc3a60b74a029f41296"
          }
        },
        "ba732701fa3f427f81cb64036c4bd4b4": {
          "model_module": "@jupyter-widgets/controls",
          "model_name": "HTMLModel",
          "model_module_version": "1.5.0",
          "state": {
            "_dom_classes": [],
            "_model_module": "@jupyter-widgets/controls",
            "_model_module_version": "1.5.0",
            "_model_name": "HTMLModel",
            "_view_count": null,
            "_view_module": "@jupyter-widgets/controls",
            "_view_module_version": "1.5.0",
            "_view_name": "HTMLView",
            "description": "",
            "description_tooltip": null,
            "layout": "IPY_MODEL_19a97351ef934234a22da25a42f0b1b7",
            "placeholder": "​",
            "style": "IPY_MODEL_840b603080c84937b9e81a534c76c4f8",
            "value": "Downloading builder script: 100%"
          }
        },
        "166579ae84c7410aaf47ec699b2ea49f": {
          "model_module": "@jupyter-widgets/controls",
          "model_name": "FloatProgressModel",
          "model_module_version": "1.5.0",
          "state": {
            "_dom_classes": [],
            "_model_module": "@jupyter-widgets/controls",
            "_model_module_version": "1.5.0",
            "_model_name": "FloatProgressModel",
            "_view_count": null,
            "_view_module": "@jupyter-widgets/controls",
            "_view_module_version": "1.5.0",
            "_view_name": "ProgressView",
            "bar_style": "success",
            "description": "",
            "description_tooltip": null,
            "layout": "IPY_MODEL_619e98edbaac4924b1d28c03310571a9",
            "max": 4203,
            "min": 0,
            "orientation": "horizontal",
            "style": "IPY_MODEL_e04d2021b12448bc9d4e2605013a8fb0",
            "value": 4203
          }
        },
        "ad3e5854bc1940f9bde6750466ab86d0": {
          "model_module": "@jupyter-widgets/controls",
          "model_name": "HTMLModel",
          "model_module_version": "1.5.0",
          "state": {
            "_dom_classes": [],
            "_model_module": "@jupyter-widgets/controls",
            "_model_module_version": "1.5.0",
            "_model_name": "HTMLModel",
            "_view_count": null,
            "_view_module": "@jupyter-widgets/controls",
            "_view_module_version": "1.5.0",
            "_view_name": "HTMLView",
            "description": "",
            "description_tooltip": null,
            "layout": "IPY_MODEL_65e704a7c3d34a8dacc0540902a5b758",
            "placeholder": "​",
            "style": "IPY_MODEL_c8d634378e5d4477aee94672768a38f0",
            "value": " 4.20k/4.20k [00:00&lt;00:00, 136kB/s]"
          }
        },
        "cf2c920207504cc3a60b74a029f41296": {
          "model_module": "@jupyter-widgets/base",
          "model_name": "LayoutModel",
          "model_module_version": "1.2.0",
          "state": {
            "_model_module": "@jupyter-widgets/base",
            "_model_module_version": "1.2.0",
            "_model_name": "LayoutModel",
            "_view_count": null,
            "_view_module": "@jupyter-widgets/base",
            "_view_module_version": "1.2.0",
            "_view_name": "LayoutView",
            "align_content": null,
            "align_items": null,
            "align_self": null,
            "border": null,
            "bottom": null,
            "display": null,
            "flex": null,
            "flex_flow": null,
            "grid_area": null,
            "grid_auto_columns": null,
            "grid_auto_flow": null,
            "grid_auto_rows": null,
            "grid_column": null,
            "grid_gap": null,
            "grid_row": null,
            "grid_template_areas": null,
            "grid_template_columns": null,
            "grid_template_rows": null,
            "height": null,
            "justify_content": null,
            "justify_items": null,
            "left": null,
            "margin": null,
            "max_height": null,
            "max_width": null,
            "min_height": null,
            "min_width": null,
            "object_fit": null,
            "object_position": null,
            "order": null,
            "overflow": null,
            "overflow_x": null,
            "overflow_y": null,
            "padding": null,
            "right": null,
            "top": null,
            "visibility": null,
            "width": null
          }
        },
        "19a97351ef934234a22da25a42f0b1b7": {
          "model_module": "@jupyter-widgets/base",
          "model_name": "LayoutModel",
          "model_module_version": "1.2.0",
          "state": {
            "_model_module": "@jupyter-widgets/base",
            "_model_module_version": "1.2.0",
            "_model_name": "LayoutModel",
            "_view_count": null,
            "_view_module": "@jupyter-widgets/base",
            "_view_module_version": "1.2.0",
            "_view_name": "LayoutView",
            "align_content": null,
            "align_items": null,
            "align_self": null,
            "border": null,
            "bottom": null,
            "display": null,
            "flex": null,
            "flex_flow": null,
            "grid_area": null,
            "grid_auto_columns": null,
            "grid_auto_flow": null,
            "grid_auto_rows": null,
            "grid_column": null,
            "grid_gap": null,
            "grid_row": null,
            "grid_template_areas": null,
            "grid_template_columns": null,
            "grid_template_rows": null,
            "height": null,
            "justify_content": null,
            "justify_items": null,
            "left": null,
            "margin": null,
            "max_height": null,
            "max_width": null,
            "min_height": null,
            "min_width": null,
            "object_fit": null,
            "object_position": null,
            "order": null,
            "overflow": null,
            "overflow_x": null,
            "overflow_y": null,
            "padding": null,
            "right": null,
            "top": null,
            "visibility": null,
            "width": null
          }
        },
        "840b603080c84937b9e81a534c76c4f8": {
          "model_module": "@jupyter-widgets/controls",
          "model_name": "DescriptionStyleModel",
          "model_module_version": "1.5.0",
          "state": {
            "_model_module": "@jupyter-widgets/controls",
            "_model_module_version": "1.5.0",
            "_model_name": "DescriptionStyleModel",
            "_view_count": null,
            "_view_module": "@jupyter-widgets/base",
            "_view_module_version": "1.2.0",
            "_view_name": "StyleView",
            "description_width": ""
          }
        },
        "619e98edbaac4924b1d28c03310571a9": {
          "model_module": "@jupyter-widgets/base",
          "model_name": "LayoutModel",
          "model_module_version": "1.2.0",
          "state": {
            "_model_module": "@jupyter-widgets/base",
            "_model_module_version": "1.2.0",
            "_model_name": "LayoutModel",
            "_view_count": null,
            "_view_module": "@jupyter-widgets/base",
            "_view_module_version": "1.2.0",
            "_view_name": "LayoutView",
            "align_content": null,
            "align_items": null,
            "align_self": null,
            "border": null,
            "bottom": null,
            "display": null,
            "flex": null,
            "flex_flow": null,
            "grid_area": null,
            "grid_auto_columns": null,
            "grid_auto_flow": null,
            "grid_auto_rows": null,
            "grid_column": null,
            "grid_gap": null,
            "grid_row": null,
            "grid_template_areas": null,
            "grid_template_columns": null,
            "grid_template_rows": null,
            "height": null,
            "justify_content": null,
            "justify_items": null,
            "left": null,
            "margin": null,
            "max_height": null,
            "max_width": null,
            "min_height": null,
            "min_width": null,
            "object_fit": null,
            "object_position": null,
            "order": null,
            "overflow": null,
            "overflow_x": null,
            "overflow_y": null,
            "padding": null,
            "right": null,
            "top": null,
            "visibility": null,
            "width": null
          }
        },
        "e04d2021b12448bc9d4e2605013a8fb0": {
          "model_module": "@jupyter-widgets/controls",
          "model_name": "ProgressStyleModel",
          "model_module_version": "1.5.0",
          "state": {
            "_model_module": "@jupyter-widgets/controls",
            "_model_module_version": "1.5.0",
            "_model_name": "ProgressStyleModel",
            "_view_count": null,
            "_view_module": "@jupyter-widgets/base",
            "_view_module_version": "1.2.0",
            "_view_name": "StyleView",
            "bar_color": null,
            "description_width": ""
          }
        },
        "65e704a7c3d34a8dacc0540902a5b758": {
          "model_module": "@jupyter-widgets/base",
          "model_name": "LayoutModel",
          "model_module_version": "1.2.0",
          "state": {
            "_model_module": "@jupyter-widgets/base",
            "_model_module_version": "1.2.0",
            "_model_name": "LayoutModel",
            "_view_count": null,
            "_view_module": "@jupyter-widgets/base",
            "_view_module_version": "1.2.0",
            "_view_name": "LayoutView",
            "align_content": null,
            "align_items": null,
            "align_self": null,
            "border": null,
            "bottom": null,
            "display": null,
            "flex": null,
            "flex_flow": null,
            "grid_area": null,
            "grid_auto_columns": null,
            "grid_auto_flow": null,
            "grid_auto_rows": null,
            "grid_column": null,
            "grid_gap": null,
            "grid_row": null,
            "grid_template_areas": null,
            "grid_template_columns": null,
            "grid_template_rows": null,
            "height": null,
            "justify_content": null,
            "justify_items": null,
            "left": null,
            "margin": null,
            "max_height": null,
            "max_width": null,
            "min_height": null,
            "min_width": null,
            "object_fit": null,
            "object_position": null,
            "order": null,
            "overflow": null,
            "overflow_x": null,
            "overflow_y": null,
            "padding": null,
            "right": null,
            "top": null,
            "visibility": null,
            "width": null
          }
        },
        "c8d634378e5d4477aee94672768a38f0": {
          "model_module": "@jupyter-widgets/controls",
          "model_name": "DescriptionStyleModel",
          "model_module_version": "1.5.0",
          "state": {
            "_model_module": "@jupyter-widgets/controls",
            "_model_module_version": "1.5.0",
            "_model_name": "DescriptionStyleModel",
            "_view_count": null,
            "_view_module": "@jupyter-widgets/base",
            "_view_module_version": "1.2.0",
            "_view_name": "StyleView",
            "description_width": ""
          }
        }
      }
    }
  },
  "nbformat_minor": 0,
  "nbformat": 4,
  "cells": [
    {
      "cell_type": "markdown",
      "metadata": {
        "id": "view-in-github",
        "colab_type": "text"
      },
      "source": [
        "<a href=\"https://colab.research.google.com/github/nates27/multi-task-learning/blob/main/bt5151_gp_npk.ipynb\" target=\"_parent\"><img src=\"https://colab.research.google.com/assets/colab-badge.svg\" alt=\"Open In Colab\"/></a>"
      ]
    },
    {
      "cell_type": "code",
      "source": [
        "from google.colab import drive\n",
        "drive.mount('/content/drive')"
      ],
      "metadata": {
        "colab": {
          "base_uri": "https://localhost:8080/"
        },
        "id": "qaVLEcNhFTcC",
        "outputId": "4341434b-3ab8-419d-b1eb-266512ae5de3"
      },
      "execution_count": 1,
      "outputs": [
        {
          "output_type": "stream",
          "name": "stdout",
          "text": [
            "Mounted at /content/drive\n"
          ]
        }
      ]
    },
    {
      "cell_type": "code",
      "source": [
        "pip install transformers"
      ],
      "metadata": {
        "colab": {
          "base_uri": "https://localhost:8080/"
        },
        "id": "w5d49lbEGAM3",
        "outputId": "6b7c2ad0-e8ca-45d8-dfd0-b02f4c4e2a9b"
      },
      "execution_count": 2,
      "outputs": [
        {
          "output_type": "stream",
          "name": "stdout",
          "text": [
            "Looking in indexes: https://pypi.org/simple, https://us-python.pkg.dev/colab-wheels/public/simple/\n",
            "Collecting transformers\n",
            "  Downloading transformers-4.27.4-py3-none-any.whl (6.8 MB)\n",
            "\u001b[2K     \u001b[90m━━━━━━━━━━━━━━━━━━━━━━━━━━━━━━━━━━━━━━━━\u001b[0m \u001b[32m6.8/6.8 MB\u001b[0m \u001b[31m89.3 MB/s\u001b[0m eta \u001b[36m0:00:00\u001b[0m\n",
            "\u001b[?25hRequirement already satisfied: regex!=2019.12.17 in /usr/local/lib/python3.9/dist-packages (from transformers) (2022.10.31)\n",
            "Collecting huggingface-hub<1.0,>=0.11.0\n",
            "  Downloading huggingface_hub-0.13.4-py3-none-any.whl (200 kB)\n",
            "\u001b[2K     \u001b[90m━━━━━━━━━━━━━━━━━━━━━━━━━━━━━━━━━━━━━━\u001b[0m \u001b[32m200.1/200.1 KB\u001b[0m \u001b[31m26.4 MB/s\u001b[0m eta \u001b[36m0:00:00\u001b[0m\n",
            "\u001b[?25hRequirement already satisfied: tqdm>=4.27 in /usr/local/lib/python3.9/dist-packages (from transformers) (4.65.0)\n",
            "Requirement already satisfied: requests in /usr/local/lib/python3.9/dist-packages (from transformers) (2.27.1)\n",
            "Requirement already satisfied: packaging>=20.0 in /usr/local/lib/python3.9/dist-packages (from transformers) (23.0)\n",
            "Requirement already satisfied: numpy>=1.17 in /usr/local/lib/python3.9/dist-packages (from transformers) (1.22.4)\n",
            "Collecting tokenizers!=0.11.3,<0.14,>=0.11.1\n",
            "  Downloading tokenizers-0.13.3-cp39-cp39-manylinux_2_17_x86_64.manylinux2014_x86_64.whl (7.8 MB)\n",
            "\u001b[2K     \u001b[90m━━━━━━━━━━━━━━━━━━━━━━━━━━━━━━━━━━━━━━━━\u001b[0m \u001b[32m7.8/7.8 MB\u001b[0m \u001b[31m108.2 MB/s\u001b[0m eta \u001b[36m0:00:00\u001b[0m\n",
            "\u001b[?25hRequirement already satisfied: pyyaml>=5.1 in /usr/local/lib/python3.9/dist-packages (from transformers) (6.0)\n",
            "Requirement already satisfied: filelock in /usr/local/lib/python3.9/dist-packages (from transformers) (3.10.7)\n",
            "Requirement already satisfied: typing-extensions>=3.7.4.3 in /usr/local/lib/python3.9/dist-packages (from huggingface-hub<1.0,>=0.11.0->transformers) (4.5.0)\n",
            "Requirement already satisfied: urllib3<1.27,>=1.21.1 in /usr/local/lib/python3.9/dist-packages (from requests->transformers) (1.26.15)\n",
            "Requirement already satisfied: certifi>=2017.4.17 in /usr/local/lib/python3.9/dist-packages (from requests->transformers) (2022.12.7)\n",
            "Requirement already satisfied: idna<4,>=2.5 in /usr/local/lib/python3.9/dist-packages (from requests->transformers) (3.4)\n",
            "Requirement already satisfied: charset-normalizer~=2.0.0 in /usr/local/lib/python3.9/dist-packages (from requests->transformers) (2.0.12)\n",
            "Installing collected packages: tokenizers, huggingface-hub, transformers\n",
            "Successfully installed huggingface-hub-0.13.4 tokenizers-0.13.3 transformers-4.27.4\n"
          ]
        }
      ]
    },
    {
      "cell_type": "code",
      "source": [
        "pip install sentencepiece"
      ],
      "metadata": {
        "colab": {
          "base_uri": "https://localhost:8080/"
        },
        "id": "DMYyT65HLkrM",
        "outputId": "a5e6ae6b-94e1-4cef-bf2e-cd147675b7c7"
      },
      "execution_count": 3,
      "outputs": [
        {
          "output_type": "stream",
          "name": "stdout",
          "text": [
            "Looking in indexes: https://pypi.org/simple, https://us-python.pkg.dev/colab-wheels/public/simple/\n",
            "Collecting sentencepiece\n",
            "  Downloading sentencepiece-0.1.97-cp39-cp39-manylinux_2_17_x86_64.manylinux2014_x86_64.whl (1.3 MB)\n",
            "\u001b[2K     \u001b[90m━━━━━━━━━━━━━━━━━━━━━━━━━━━━━━━━━━━━━━━━\u001b[0m \u001b[32m1.3/1.3 MB\u001b[0m \u001b[31m45.4 MB/s\u001b[0m eta \u001b[36m0:00:00\u001b[0m\n",
            "\u001b[?25hInstalling collected packages: sentencepiece\n",
            "Successfully installed sentencepiece-0.1.97\n"
          ]
        }
      ]
    },
    {
      "cell_type": "code",
      "source": [
        "pip install evaluate"
      ],
      "metadata": {
        "colab": {
          "base_uri": "https://localhost:8080/"
        },
        "id": "cG9bsrB67WKM",
        "outputId": "10ed8353-485c-4c9a-a182-a9433e6a4d69"
      },
      "execution_count": 4,
      "outputs": [
        {
          "output_type": "stream",
          "name": "stdout",
          "text": [
            "Looking in indexes: https://pypi.org/simple, https://us-python.pkg.dev/colab-wheels/public/simple/\n",
            "Collecting evaluate\n",
            "  Downloading evaluate-0.4.0-py3-none-any.whl (81 kB)\n",
            "\u001b[2K     \u001b[90m━━━━━━━━━━━━━━━━━━━━━━━━━━━━━━━━━━━━━━━━\u001b[0m \u001b[32m81.4/81.4 KB\u001b[0m \u001b[31m9.8 MB/s\u001b[0m eta \u001b[36m0:00:00\u001b[0m\n",
            "\u001b[?25hRequirement already satisfied: packaging in /usr/local/lib/python3.9/dist-packages (from evaluate) (23.0)\n",
            "Requirement already satisfied: requests>=2.19.0 in /usr/local/lib/python3.9/dist-packages (from evaluate) (2.27.1)\n",
            "Requirement already satisfied: fsspec[http]>=2021.05.0 in /usr/local/lib/python3.9/dist-packages (from evaluate) (2023.3.0)\n",
            "Collecting responses<0.19\n",
            "  Downloading responses-0.18.0-py3-none-any.whl (38 kB)\n",
            "Collecting multiprocess\n",
            "  Downloading multiprocess-0.70.14-py39-none-any.whl (132 kB)\n",
            "\u001b[2K     \u001b[90m━━━━━━━━━━━━━━━━━━━━━━━━━━━━━━━━━━━━━━\u001b[0m \u001b[32m132.9/132.9 KB\u001b[0m \u001b[31m17.9 MB/s\u001b[0m eta \u001b[36m0:00:00\u001b[0m\n",
            "\u001b[?25hRequirement already satisfied: tqdm>=4.62.1 in /usr/local/lib/python3.9/dist-packages (from evaluate) (4.65.0)\n",
            "Collecting xxhash\n",
            "  Downloading xxhash-3.2.0-cp39-cp39-manylinux_2_17_x86_64.manylinux2014_x86_64.whl (212 kB)\n",
            "\u001b[2K     \u001b[90m━━━━━━━━━━━━━━━━━━━━━━━━━━━━━━━━━━━━━━\u001b[0m \u001b[32m212.2/212.2 KB\u001b[0m \u001b[31m27.2 MB/s\u001b[0m eta \u001b[36m0:00:00\u001b[0m\n",
            "\u001b[?25hCollecting datasets>=2.0.0\n",
            "  Downloading datasets-2.11.0-py3-none-any.whl (468 kB)\n",
            "\u001b[2K     \u001b[90m━━━━━━━━━━━━━━━━━━━━━━━━━━━━━━━━━━━━━━\u001b[0m \u001b[32m468.7/468.7 KB\u001b[0m \u001b[31m36.6 MB/s\u001b[0m eta \u001b[36m0:00:00\u001b[0m\n",
            "\u001b[?25hRequirement already satisfied: numpy>=1.17 in /usr/local/lib/python3.9/dist-packages (from evaluate) (1.22.4)\n",
            "Requirement already satisfied: pandas in /usr/local/lib/python3.9/dist-packages (from evaluate) (1.4.4)\n",
            "Collecting dill\n",
            "  Downloading dill-0.3.6-py3-none-any.whl (110 kB)\n",
            "\u001b[2K     \u001b[90m━━━━━━━━━━━━━━━━━━━━━━━━━━━━━━━━━━━━━━\u001b[0m \u001b[32m110.5/110.5 KB\u001b[0m \u001b[31m15.9 MB/s\u001b[0m eta \u001b[36m0:00:00\u001b[0m\n",
            "\u001b[?25hRequirement already satisfied: huggingface-hub>=0.7.0 in /usr/local/lib/python3.9/dist-packages (from evaluate) (0.13.4)\n",
            "Requirement already satisfied: pyyaml>=5.1 in /usr/local/lib/python3.9/dist-packages (from datasets>=2.0.0->evaluate) (6.0)\n",
            "Requirement already satisfied: pyarrow>=8.0.0 in /usr/local/lib/python3.9/dist-packages (from datasets>=2.0.0->evaluate) (9.0.0)\n",
            "Collecting aiohttp\n",
            "  Downloading aiohttp-3.8.4-cp39-cp39-manylinux_2_17_x86_64.manylinux2014_x86_64.whl (1.0 MB)\n",
            "\u001b[2K     \u001b[90m━━━━━━━━━━━━━━━━━━━━━━━━━━━━━━━━━━━━━━━━\u001b[0m \u001b[32m1.0/1.0 MB\u001b[0m \u001b[31m71.8 MB/s\u001b[0m eta \u001b[36m0:00:00\u001b[0m\n",
            "\u001b[?25hRequirement already satisfied: typing-extensions>=3.7.4.3 in /usr/local/lib/python3.9/dist-packages (from huggingface-hub>=0.7.0->evaluate) (4.5.0)\n",
            "Requirement already satisfied: filelock in /usr/local/lib/python3.9/dist-packages (from huggingface-hub>=0.7.0->evaluate) (3.10.7)\n",
            "Requirement already satisfied: urllib3<1.27,>=1.21.1 in /usr/local/lib/python3.9/dist-packages (from requests>=2.19.0->evaluate) (1.26.15)\n",
            "Requirement already satisfied: charset-normalizer~=2.0.0 in /usr/local/lib/python3.9/dist-packages (from requests>=2.19.0->evaluate) (2.0.12)\n",
            "Requirement already satisfied: certifi>=2017.4.17 in /usr/local/lib/python3.9/dist-packages (from requests>=2.19.0->evaluate) (2022.12.7)\n",
            "Requirement already satisfied: idna<4,>=2.5 in /usr/local/lib/python3.9/dist-packages (from requests>=2.19.0->evaluate) (3.4)\n",
            "Requirement already satisfied: pytz>=2020.1 in /usr/local/lib/python3.9/dist-packages (from pandas->evaluate) (2022.7.1)\n",
            "Requirement already satisfied: python-dateutil>=2.8.1 in /usr/local/lib/python3.9/dist-packages (from pandas->evaluate) (2.8.2)\n",
            "Collecting frozenlist>=1.1.1\n",
            "  Downloading frozenlist-1.3.3-cp39-cp39-manylinux_2_5_x86_64.manylinux1_x86_64.manylinux_2_17_x86_64.manylinux2014_x86_64.whl (158 kB)\n",
            "\u001b[2K     \u001b[90m━━━━━━━━━━━━━━━━━━━━━━━━━━━━━━━━━━━━━━\u001b[0m \u001b[32m158.8/158.8 KB\u001b[0m \u001b[31m19.9 MB/s\u001b[0m eta \u001b[36m0:00:00\u001b[0m\n",
            "\u001b[?25hRequirement already satisfied: attrs>=17.3.0 in /usr/local/lib/python3.9/dist-packages (from aiohttp->datasets>=2.0.0->evaluate) (22.2.0)\n",
            "Collecting aiosignal>=1.1.2\n",
            "  Downloading aiosignal-1.3.1-py3-none-any.whl (7.6 kB)\n",
            "Collecting yarl<2.0,>=1.0\n",
            "  Downloading yarl-1.8.2-cp39-cp39-manylinux_2_17_x86_64.manylinux2014_x86_64.whl (264 kB)\n",
            "\u001b[2K     \u001b[90m━━━━━━━━━━━━━━━━━━━━━━━━━━━━━━━━━━━━━━\u001b[0m \u001b[32m264.6/264.6 KB\u001b[0m \u001b[31m30.6 MB/s\u001b[0m eta \u001b[36m0:00:00\u001b[0m\n",
            "\u001b[?25hCollecting async-timeout<5.0,>=4.0.0a3\n",
            "  Downloading async_timeout-4.0.2-py3-none-any.whl (5.8 kB)\n",
            "Collecting multidict<7.0,>=4.5\n",
            "  Downloading multidict-6.0.4-cp39-cp39-manylinux_2_17_x86_64.manylinux2014_x86_64.whl (114 kB)\n",
            "\u001b[2K     \u001b[90m━━━━━━━━━━━━━━━━━━━━━━━━━━━━━━━━━━━━━━━\u001b[0m \u001b[32m114.2/114.2 KB\u001b[0m \u001b[31m9.8 MB/s\u001b[0m eta \u001b[36m0:00:00\u001b[0m\n",
            "\u001b[?25hRequirement already satisfied: six>=1.5 in /usr/local/lib/python3.9/dist-packages (from python-dateutil>=2.8.1->pandas->evaluate) (1.16.0)\n",
            "Installing collected packages: xxhash, multidict, frozenlist, dill, async-timeout, yarl, responses, multiprocess, aiosignal, aiohttp, datasets, evaluate\n",
            "Successfully installed aiohttp-3.8.4 aiosignal-1.3.1 async-timeout-4.0.2 datasets-2.11.0 dill-0.3.6 evaluate-0.4.0 frozenlist-1.3.3 multidict-6.0.4 multiprocess-0.70.14 responses-0.18.0 xxhash-3.2.0 yarl-1.8.2\n"
          ]
        }
      ]
    },
    {
      "cell_type": "markdown",
      "source": [
        "# Imports and Classes #"
      ],
      "metadata": {
        "id": "msMc7AY-F6rh"
      }
    },
    {
      "cell_type": "code",
      "source": [
        "import numpy as np # linear algebra\n",
        "import pandas as pd # data processing, CSV file I/O (e.g. pd.read_csv)"
      ],
      "metadata": {
        "_uuid": "8f2839f25d086af736a60e9eeb907d3b93b6e0e5",
        "_cell_guid": "b1076dfc-b9ad-4769-8c92-a6c4dae69d19",
        "execution": {
          "iopub.status.busy": "2023-04-05T13:56:02.165309Z",
          "iopub.execute_input": "2023-04-05T13:56:02.165872Z",
          "iopub.status.idle": "2023-04-05T13:56:02.178171Z",
          "shell.execute_reply.started": "2023-04-05T13:56:02.165825Z",
          "shell.execute_reply": "2023-04-05T13:56:02.176753Z"
        },
        "trusted": true,
        "id": "dHK-we3FFKQS"
      },
      "execution_count": 5,
      "outputs": []
    },
    {
      "cell_type": "code",
      "source": [
        "import matplotlib.pyplot as plt\n",
        "import re\n",
        "from collections import OrderedDict\n",
        "import torch\n",
        "import transformers\n",
        "from transformers import AlbertTokenizer, AlbertModel, DistilBertTokenizer, DistilBertModel, RobertaTokenizer, RobertaModel\n",
        "from torch.utils.data import Dataset, DataLoader\n",
        "from torch import cuda\n",
        "from tqdm import tqdm\n",
        "from sklearn.metrics import classification_report, f1_score, accuracy_score, confusion_matrix, ConfusionMatrixDisplay\n",
        "from sklearn.model_selection import train_test_split\n",
        "device = 'cuda' if cuda.is_available() else 'cpu'"
      ],
      "metadata": {
        "execution": {
          "iopub.status.busy": "2023-04-05T13:56:02.180556Z",
          "iopub.execute_input": "2023-04-05T13:56:02.181744Z",
          "iopub.status.idle": "2023-04-05T13:56:02.193576Z",
          "shell.execute_reply.started": "2023-04-05T13:56:02.181687Z",
          "shell.execute_reply": "2023-04-05T13:56:02.191788Z"
        },
        "trusted": true,
        "id": "mo2sHhRlFKQX"
      },
      "execution_count": 6,
      "outputs": []
    },
    {
      "cell_type": "markdown",
      "source": [
        "### Neural Network ###"
      ],
      "metadata": {
        "id": "T5_o27jvcncD"
      }
    },
    {
      "cell_type": "code",
      "source": [
        "# class NetMultiTask(torch.nn.Module):\n",
        "#     def __init__(self):\n",
        "#         super(NetMultiTask, self).__init__()\n",
        "#         self.net = AlbertModel.from_pretrained(\"albert-base-v2\")\n",
        "        \n",
        "#         self.pre_classifier1 = torch.nn.Linear(768, 768)\n",
        "#         self.dropout1 = torch.nn.Dropout(0.2)\n",
        "#         self.classifier1 = torch.nn.Linear(768, 2)\n",
        "        \n",
        "#         self.pre_classifier2 = torch.nn.Linear(768, 768)\n",
        "#         self.dropout2 = torch.nn.Dropout(0.2)\n",
        "#         self.classifier2 = torch.nn.Linear(768, 3)\n",
        "\n",
        "#     def forward(self, input_ids, attention_mask, token_type_ids, task_id):\n",
        "#         output_1 = self.net(input_ids=input_ids, attention_mask=attention_mask, token_type_ids=token_type_ids)\n",
        "#         hidden_state = output_1[0]\n",
        "#         pooler = hidden_state[:, 0]\n",
        "#         if task_id == 1:\n",
        "#           pooler = self.pre_classifier1(pooler)\n",
        "#           pooler = torch.nn.ReLU()(pooler)\n",
        "#           pooler = self.dropout1(pooler)\n",
        "#           output = self.classifier1(pooler)\n",
        "#         elif task_id == 2:\n",
        "#           pooler = self.pre_classifier2(pooler)\n",
        "#           pooler = torch.nn.ReLU()(pooler)\n",
        "#           pooler = self.dropout2(pooler)\n",
        "#           output = self.classifier2(pooler)\n",
        "#         else:\n",
        "#             assert False, 'Bad Task ID passed'\n",
        "#         return output"
      ],
      "metadata": {
        "id": "S-ETSUhzcmO-"
      },
      "execution_count": 7,
      "outputs": []
    },
    {
      "cell_type": "code",
      "source": [
        "# class NetMultiTask(torch.nn.Module):\n",
        "#     def __init__(self):\n",
        "#         super(NetMultiTask, self).__init__()\n",
        "#         self.net = AlbertModel.from_pretrained(\"albert-large-v2\")\n",
        "        \n",
        "#         self.net.fc1 = torch.nn.Sequential(OrderedDict(\n",
        "#             [('linear1', torch.nn.Linear(1024,1024)),\n",
        "#             ('relu1', torch.nn.ReLU()),\n",
        "#             ('dropout1', torch.nn.Dropout(0.2)),\n",
        "#             ('final1', torch.nn.Linear(1024, 2))]))\n",
        "        \n",
        "#         self.net.fc2 = torch.nn.Sequential(OrderedDict(\n",
        "#             [('linear2', torch.nn.Linear(1024, 1024)),\n",
        "#             ('relu2', torch.nn.ReLU()),\n",
        "#             ('dropout2', torch.nn.Dropout(0.2)),\n",
        "#             ('final2', torch.nn.Linear(1024, 3))]))\n",
        "\n",
        "#     def forward(self, input_ids, attention_mask, token_type_ids, task_id):\n",
        "#         output_1 = self.net(input_ids=input_ids, attention_mask=attention_mask, token_type_ids=token_type_ids)\n",
        "#         hidden_state = output_1[0]\n",
        "#         pooler = hidden_state[:, 0]\n",
        "#         if task_id == 1:\n",
        "#             pooler =  self.net.fc1(pooler)\n",
        "#         elif task_id == 2:\n",
        "#             pooler = self.net.fc2(pooler)\n",
        "#         else:\n",
        "#             assert False, 'Bad Task ID passed'\n",
        "#         return pooler"
      ],
      "metadata": {
        "id": "St8REER4z-vs"
      },
      "execution_count": 8,
      "outputs": []
    },
    {
      "cell_type": "code",
      "source": [
        "# class NetMultiTask(torch.nn.Module):\n",
        "#     def __init__(self):\n",
        "#         super(NetMultiTask, self).__init__()\n",
        "#         self.net = RobertaModel.from_pretrained(\"roberta-base\")\n",
        "        \n",
        "#         self.pre_classifier1 = torch.nn.Linear(768, 768)\n",
        "#         self.dropout1 = torch.nn.Dropout(0.2)\n",
        "#         self.classifier1 = torch.nn.Linear(768, 2)\n",
        "        \n",
        "#         self.pre_classifier2 = torch.nn.Linear(768, 768)\n",
        "#         self.dropout2 = torch.nn.Dropout(0.2)\n",
        "#         self.classifier2 = torch.nn.Linear(768, 3)\n",
        "\n",
        "#     def forward(self, input_ids, attention_mask, token_type_ids, task_id):\n",
        "#         output_1 = self.net(input_ids=input_ids, attention_mask=attention_mask, token_type_ids=token_type_ids)\n",
        "#         hidden_state = output_1[0]\n",
        "#         pooler = hidden_state[:, 0]\n",
        "#         if task_id == 1:\n",
        "#           pooler = self.pre_classifier1(pooler)\n",
        "#           pooler = torch.nn.ReLU()(pooler)\n",
        "#           pooler = self.dropout1(pooler)\n",
        "#           output = self.classifier1(pooler)\n",
        "#         elif task_id == 2:\n",
        "#           pooler = self.pre_classifier2(pooler)\n",
        "#           pooler = torch.nn.ReLU()(pooler)\n",
        "#           pooler = self.dropout2(pooler)\n",
        "#           output = self.classifier2(pooler)\n",
        "#         else:\n",
        "#             assert False, 'Bad Task ID passed'\n",
        "#         return output"
      ],
      "metadata": {
        "id": "1dIjOKAnEecF"
      },
      "execution_count": 9,
      "outputs": []
    },
    {
      "cell_type": "markdown",
      "source": [
        "### Training and Inference Loops ###"
      ],
      "metadata": {
        "id": "GNvydYJac6cu"
      }
    },
    {
      "cell_type": "markdown",
      "source": [
        "#I. Data Preprocessing #"
      ],
      "metadata": {
        "id": "5wXwmlGVFKQZ"
      }
    },
    {
      "cell_type": "markdown",
      "source": [
        "### EDA ###"
      ],
      "metadata": {
        "id": "dvJZ11Z0Yox7"
      }
    },
    {
      "cell_type": "code",
      "source": [
        "def data_quality(df):\n",
        "  # find datatype of each column\n",
        "  data_types = pd.DataFrame(df.dtypes, columns=['Data Type'])\n",
        "\n",
        "  # count number of missing observations by column\n",
        "  missing_data_counts = pd.DataFrame(df.isnull().sum(), columns=['Missing Values'])\n",
        "\n",
        "  # count number of present observations by column\n",
        "  present_data_counts = pd.DataFrame(df.count(), columns=['Present Values'])\n",
        "\n",
        "  # count number of unique observations by column\n",
        "  unique_value_counts = pd.DataFrame(columns=['Unique Values'])\n",
        "  for v in list(df.columns.values):\n",
        "      unique_value_counts.loc[v] = [df[v].nunique()]\n",
        "\n",
        "  data_quality_report = pd.concat([present_data_counts, missing_data_counts, unique_value_counts], axis=1)\n",
        "  return data_quality_report"
      ],
      "metadata": {
        "execution": {
          "iopub.status.busy": "2023-04-05T13:56:02.646767Z",
          "iopub.execute_input": "2023-04-05T13:56:02.647240Z",
          "iopub.status.idle": "2023-04-05T13:56:02.655771Z",
          "shell.execute_reply.started": "2023-04-05T13:56:02.647205Z",
          "shell.execute_reply": "2023-04-05T13:56:02.654222Z"
        },
        "trusted": true,
        "id": "nQ788ipOFKQa"
      },
      "execution_count": 10,
      "outputs": []
    },
    {
      "cell_type": "code",
      "source": [
        "d_train_orig = pd.read_csv(\"/content/drive/MyDrive/BT5151/group_project/train.csv\")\n",
        "d_test_orig = pd.read_csv(\"/content/drive/MyDrive/BT5151/group_project/test.csv\")\n",
        "s_train_orig = pd.read_csv(\"/content/drive/MyDrive/BT5151/group_project/tweets.csv\")"
      ],
      "metadata": {
        "execution": {
          "iopub.status.busy": "2023-04-05T13:56:02.657464Z",
          "iopub.execute_input": "2023-04-05T13:56:02.657840Z",
          "iopub.status.idle": "2023-04-05T13:56:02.781962Z",
          "shell.execute_reply.started": "2023-04-05T13:56:02.657788Z",
          "shell.execute_reply": "2023-04-05T13:56:02.780612Z"
        },
        "trusted": true,
        "id": "n16bnOsfFKQb"
      },
      "execution_count": 11,
      "outputs": []
    },
    {
      "cell_type": "code",
      "source": [
        "d_train_orig.head()"
      ],
      "metadata": {
        "execution": {
          "iopub.status.busy": "2023-04-05T13:56:02.783539Z",
          "iopub.execute_input": "2023-04-05T13:56:02.783902Z",
          "iopub.status.idle": "2023-04-05T13:56:02.800610Z",
          "shell.execute_reply.started": "2023-04-05T13:56:02.783867Z",
          "shell.execute_reply": "2023-04-05T13:56:02.798542Z"
        },
        "trusted": true,
        "colab": {
          "base_uri": "https://localhost:8080/",
          "height": 206
        },
        "id": "wdc5rQR6FKQb",
        "outputId": "0fd8b4eb-3cd4-42cc-cb63-1e3033390ad3"
      },
      "execution_count": 12,
      "outputs": [
        {
          "output_type": "execute_result",
          "data": {
            "text/plain": [
              "   id keyword location                                               text  \\\n",
              "0   1     NaN      NaN  Our Deeds are the Reason of this #earthquake M...   \n",
              "1   4     NaN      NaN             Forest fire near La Ronge Sask. Canada   \n",
              "2   5     NaN      NaN  All residents asked to 'shelter in place' are ...   \n",
              "3   6     NaN      NaN  13,000 people receive #wildfires evacuation or...   \n",
              "4   7     NaN      NaN  Just got sent this photo from Ruby #Alaska as ...   \n",
              "\n",
              "   target  \n",
              "0       1  \n",
              "1       1  \n",
              "2       1  \n",
              "3       1  \n",
              "4       1  "
            ],
            "text/html": [
              "\n",
              "  <div id=\"df-fdde56c7-d2e8-4c98-9aa3-cdad5c4855e3\">\n",
              "    <div class=\"colab-df-container\">\n",
              "      <div>\n",
              "<style scoped>\n",
              "    .dataframe tbody tr th:only-of-type {\n",
              "        vertical-align: middle;\n",
              "    }\n",
              "\n",
              "    .dataframe tbody tr th {\n",
              "        vertical-align: top;\n",
              "    }\n",
              "\n",
              "    .dataframe thead th {\n",
              "        text-align: right;\n",
              "    }\n",
              "</style>\n",
              "<table border=\"1\" class=\"dataframe\">\n",
              "  <thead>\n",
              "    <tr style=\"text-align: right;\">\n",
              "      <th></th>\n",
              "      <th>id</th>\n",
              "      <th>keyword</th>\n",
              "      <th>location</th>\n",
              "      <th>text</th>\n",
              "      <th>target</th>\n",
              "    </tr>\n",
              "  </thead>\n",
              "  <tbody>\n",
              "    <tr>\n",
              "      <th>0</th>\n",
              "      <td>1</td>\n",
              "      <td>NaN</td>\n",
              "      <td>NaN</td>\n",
              "      <td>Our Deeds are the Reason of this #earthquake M...</td>\n",
              "      <td>1</td>\n",
              "    </tr>\n",
              "    <tr>\n",
              "      <th>1</th>\n",
              "      <td>4</td>\n",
              "      <td>NaN</td>\n",
              "      <td>NaN</td>\n",
              "      <td>Forest fire near La Ronge Sask. Canada</td>\n",
              "      <td>1</td>\n",
              "    </tr>\n",
              "    <tr>\n",
              "      <th>2</th>\n",
              "      <td>5</td>\n",
              "      <td>NaN</td>\n",
              "      <td>NaN</td>\n",
              "      <td>All residents asked to 'shelter in place' are ...</td>\n",
              "      <td>1</td>\n",
              "    </tr>\n",
              "    <tr>\n",
              "      <th>3</th>\n",
              "      <td>6</td>\n",
              "      <td>NaN</td>\n",
              "      <td>NaN</td>\n",
              "      <td>13,000 people receive #wildfires evacuation or...</td>\n",
              "      <td>1</td>\n",
              "    </tr>\n",
              "    <tr>\n",
              "      <th>4</th>\n",
              "      <td>7</td>\n",
              "      <td>NaN</td>\n",
              "      <td>NaN</td>\n",
              "      <td>Just got sent this photo from Ruby #Alaska as ...</td>\n",
              "      <td>1</td>\n",
              "    </tr>\n",
              "  </tbody>\n",
              "</table>\n",
              "</div>\n",
              "      <button class=\"colab-df-convert\" onclick=\"convertToInteractive('df-fdde56c7-d2e8-4c98-9aa3-cdad5c4855e3')\"\n",
              "              title=\"Convert this dataframe to an interactive table.\"\n",
              "              style=\"display:none;\">\n",
              "        \n",
              "  <svg xmlns=\"http://www.w3.org/2000/svg\" height=\"24px\"viewBox=\"0 0 24 24\"\n",
              "       width=\"24px\">\n",
              "    <path d=\"M0 0h24v24H0V0z\" fill=\"none\"/>\n",
              "    <path d=\"M18.56 5.44l.94 2.06.94-2.06 2.06-.94-2.06-.94-.94-2.06-.94 2.06-2.06.94zm-11 1L8.5 8.5l.94-2.06 2.06-.94-2.06-.94L8.5 2.5l-.94 2.06-2.06.94zm10 10l.94 2.06.94-2.06 2.06-.94-2.06-.94-.94-2.06-.94 2.06-2.06.94z\"/><path d=\"M17.41 7.96l-1.37-1.37c-.4-.4-.92-.59-1.43-.59-.52 0-1.04.2-1.43.59L10.3 9.45l-7.72 7.72c-.78.78-.78 2.05 0 2.83L4 21.41c.39.39.9.59 1.41.59.51 0 1.02-.2 1.41-.59l7.78-7.78 2.81-2.81c.8-.78.8-2.07 0-2.86zM5.41 20L4 18.59l7.72-7.72 1.47 1.35L5.41 20z\"/>\n",
              "  </svg>\n",
              "      </button>\n",
              "      \n",
              "  <style>\n",
              "    .colab-df-container {\n",
              "      display:flex;\n",
              "      flex-wrap:wrap;\n",
              "      gap: 12px;\n",
              "    }\n",
              "\n",
              "    .colab-df-convert {\n",
              "      background-color: #E8F0FE;\n",
              "      border: none;\n",
              "      border-radius: 50%;\n",
              "      cursor: pointer;\n",
              "      display: none;\n",
              "      fill: #1967D2;\n",
              "      height: 32px;\n",
              "      padding: 0 0 0 0;\n",
              "      width: 32px;\n",
              "    }\n",
              "\n",
              "    .colab-df-convert:hover {\n",
              "      background-color: #E2EBFA;\n",
              "      box-shadow: 0px 1px 2px rgba(60, 64, 67, 0.3), 0px 1px 3px 1px rgba(60, 64, 67, 0.15);\n",
              "      fill: #174EA6;\n",
              "    }\n",
              "\n",
              "    [theme=dark] .colab-df-convert {\n",
              "      background-color: #3B4455;\n",
              "      fill: #D2E3FC;\n",
              "    }\n",
              "\n",
              "    [theme=dark] .colab-df-convert:hover {\n",
              "      background-color: #434B5C;\n",
              "      box-shadow: 0px 1px 3px 1px rgba(0, 0, 0, 0.15);\n",
              "      filter: drop-shadow(0px 1px 2px rgba(0, 0, 0, 0.3));\n",
              "      fill: #FFFFFF;\n",
              "    }\n",
              "  </style>\n",
              "\n",
              "      <script>\n",
              "        const buttonEl =\n",
              "          document.querySelector('#df-fdde56c7-d2e8-4c98-9aa3-cdad5c4855e3 button.colab-df-convert');\n",
              "        buttonEl.style.display =\n",
              "          google.colab.kernel.accessAllowed ? 'block' : 'none';\n",
              "\n",
              "        async function convertToInteractive(key) {\n",
              "          const element = document.querySelector('#df-fdde56c7-d2e8-4c98-9aa3-cdad5c4855e3');\n",
              "          const dataTable =\n",
              "            await google.colab.kernel.invokeFunction('convertToInteractive',\n",
              "                                                     [key], {});\n",
              "          if (!dataTable) return;\n",
              "\n",
              "          const docLinkHtml = 'Like what you see? Visit the ' +\n",
              "            '<a target=\"_blank\" href=https://colab.research.google.com/notebooks/data_table.ipynb>data table notebook</a>'\n",
              "            + ' to learn more about interactive tables.';\n",
              "          element.innerHTML = '';\n",
              "          dataTable['output_type'] = 'display_data';\n",
              "          await google.colab.output.renderOutput(dataTable, element);\n",
              "          const docLink = document.createElement('div');\n",
              "          docLink.innerHTML = docLinkHtml;\n",
              "          element.appendChild(docLink);\n",
              "        }\n",
              "      </script>\n",
              "    </div>\n",
              "  </div>\n",
              "  "
            ]
          },
          "metadata": {},
          "execution_count": 12
        }
      ]
    },
    {
      "cell_type": "code",
      "source": [
        "d_test_orig.head()"
      ],
      "metadata": {
        "execution": {
          "iopub.status.busy": "2023-04-05T13:56:02.803021Z",
          "iopub.execute_input": "2023-04-05T13:56:02.803463Z",
          "iopub.status.idle": "2023-04-05T13:56:02.824729Z",
          "shell.execute_reply.started": "2023-04-05T13:56:02.803425Z",
          "shell.execute_reply": "2023-04-05T13:56:02.822362Z"
        },
        "trusted": true,
        "colab": {
          "base_uri": "https://localhost:8080/",
          "height": 206
        },
        "id": "Ux_qh-DZFKQc",
        "outputId": "581bfbdc-b3ce-4333-8540-04c399a4237f"
      },
      "execution_count": 13,
      "outputs": [
        {
          "output_type": "execute_result",
          "data": {
            "text/plain": [
              "   id keyword location                                               text\n",
              "0   0     NaN      NaN                 Just happened a terrible car crash\n",
              "1   2     NaN      NaN  Heard about #earthquake is different cities, s...\n",
              "2   3     NaN      NaN  there is a forest fire at spot pond, geese are...\n",
              "3   9     NaN      NaN           Apocalypse lighting. #Spokane #wildfires\n",
              "4  11     NaN      NaN      Typhoon Soudelor kills 28 in China and Taiwan"
            ],
            "text/html": [
              "\n",
              "  <div id=\"df-f8374ea0-947b-4418-a108-7e28411bb9dc\">\n",
              "    <div class=\"colab-df-container\">\n",
              "      <div>\n",
              "<style scoped>\n",
              "    .dataframe tbody tr th:only-of-type {\n",
              "        vertical-align: middle;\n",
              "    }\n",
              "\n",
              "    .dataframe tbody tr th {\n",
              "        vertical-align: top;\n",
              "    }\n",
              "\n",
              "    .dataframe thead th {\n",
              "        text-align: right;\n",
              "    }\n",
              "</style>\n",
              "<table border=\"1\" class=\"dataframe\">\n",
              "  <thead>\n",
              "    <tr style=\"text-align: right;\">\n",
              "      <th></th>\n",
              "      <th>id</th>\n",
              "      <th>keyword</th>\n",
              "      <th>location</th>\n",
              "      <th>text</th>\n",
              "    </tr>\n",
              "  </thead>\n",
              "  <tbody>\n",
              "    <tr>\n",
              "      <th>0</th>\n",
              "      <td>0</td>\n",
              "      <td>NaN</td>\n",
              "      <td>NaN</td>\n",
              "      <td>Just happened a terrible car crash</td>\n",
              "    </tr>\n",
              "    <tr>\n",
              "      <th>1</th>\n",
              "      <td>2</td>\n",
              "      <td>NaN</td>\n",
              "      <td>NaN</td>\n",
              "      <td>Heard about #earthquake is different cities, s...</td>\n",
              "    </tr>\n",
              "    <tr>\n",
              "      <th>2</th>\n",
              "      <td>3</td>\n",
              "      <td>NaN</td>\n",
              "      <td>NaN</td>\n",
              "      <td>there is a forest fire at spot pond, geese are...</td>\n",
              "    </tr>\n",
              "    <tr>\n",
              "      <th>3</th>\n",
              "      <td>9</td>\n",
              "      <td>NaN</td>\n",
              "      <td>NaN</td>\n",
              "      <td>Apocalypse lighting. #Spokane #wildfires</td>\n",
              "    </tr>\n",
              "    <tr>\n",
              "      <th>4</th>\n",
              "      <td>11</td>\n",
              "      <td>NaN</td>\n",
              "      <td>NaN</td>\n",
              "      <td>Typhoon Soudelor kills 28 in China and Taiwan</td>\n",
              "    </tr>\n",
              "  </tbody>\n",
              "</table>\n",
              "</div>\n",
              "      <button class=\"colab-df-convert\" onclick=\"convertToInteractive('df-f8374ea0-947b-4418-a108-7e28411bb9dc')\"\n",
              "              title=\"Convert this dataframe to an interactive table.\"\n",
              "              style=\"display:none;\">\n",
              "        \n",
              "  <svg xmlns=\"http://www.w3.org/2000/svg\" height=\"24px\"viewBox=\"0 0 24 24\"\n",
              "       width=\"24px\">\n",
              "    <path d=\"M0 0h24v24H0V0z\" fill=\"none\"/>\n",
              "    <path d=\"M18.56 5.44l.94 2.06.94-2.06 2.06-.94-2.06-.94-.94-2.06-.94 2.06-2.06.94zm-11 1L8.5 8.5l.94-2.06 2.06-.94-2.06-.94L8.5 2.5l-.94 2.06-2.06.94zm10 10l.94 2.06.94-2.06 2.06-.94-2.06-.94-.94-2.06-.94 2.06-2.06.94z\"/><path d=\"M17.41 7.96l-1.37-1.37c-.4-.4-.92-.59-1.43-.59-.52 0-1.04.2-1.43.59L10.3 9.45l-7.72 7.72c-.78.78-.78 2.05 0 2.83L4 21.41c.39.39.9.59 1.41.59.51 0 1.02-.2 1.41-.59l7.78-7.78 2.81-2.81c.8-.78.8-2.07 0-2.86zM5.41 20L4 18.59l7.72-7.72 1.47 1.35L5.41 20z\"/>\n",
              "  </svg>\n",
              "      </button>\n",
              "      \n",
              "  <style>\n",
              "    .colab-df-container {\n",
              "      display:flex;\n",
              "      flex-wrap:wrap;\n",
              "      gap: 12px;\n",
              "    }\n",
              "\n",
              "    .colab-df-convert {\n",
              "      background-color: #E8F0FE;\n",
              "      border: none;\n",
              "      border-radius: 50%;\n",
              "      cursor: pointer;\n",
              "      display: none;\n",
              "      fill: #1967D2;\n",
              "      height: 32px;\n",
              "      padding: 0 0 0 0;\n",
              "      width: 32px;\n",
              "    }\n",
              "\n",
              "    .colab-df-convert:hover {\n",
              "      background-color: #E2EBFA;\n",
              "      box-shadow: 0px 1px 2px rgba(60, 64, 67, 0.3), 0px 1px 3px 1px rgba(60, 64, 67, 0.15);\n",
              "      fill: #174EA6;\n",
              "    }\n",
              "\n",
              "    [theme=dark] .colab-df-convert {\n",
              "      background-color: #3B4455;\n",
              "      fill: #D2E3FC;\n",
              "    }\n",
              "\n",
              "    [theme=dark] .colab-df-convert:hover {\n",
              "      background-color: #434B5C;\n",
              "      box-shadow: 0px 1px 3px 1px rgba(0, 0, 0, 0.15);\n",
              "      filter: drop-shadow(0px 1px 2px rgba(0, 0, 0, 0.3));\n",
              "      fill: #FFFFFF;\n",
              "    }\n",
              "  </style>\n",
              "\n",
              "      <script>\n",
              "        const buttonEl =\n",
              "          document.querySelector('#df-f8374ea0-947b-4418-a108-7e28411bb9dc button.colab-df-convert');\n",
              "        buttonEl.style.display =\n",
              "          google.colab.kernel.accessAllowed ? 'block' : 'none';\n",
              "\n",
              "        async function convertToInteractive(key) {\n",
              "          const element = document.querySelector('#df-f8374ea0-947b-4418-a108-7e28411bb9dc');\n",
              "          const dataTable =\n",
              "            await google.colab.kernel.invokeFunction('convertToInteractive',\n",
              "                                                     [key], {});\n",
              "          if (!dataTable) return;\n",
              "\n",
              "          const docLinkHtml = 'Like what you see? Visit the ' +\n",
              "            '<a target=\"_blank\" href=https://colab.research.google.com/notebooks/data_table.ipynb>data table notebook</a>'\n",
              "            + ' to learn more about interactive tables.';\n",
              "          element.innerHTML = '';\n",
              "          dataTable['output_type'] = 'display_data';\n",
              "          await google.colab.output.renderOutput(dataTable, element);\n",
              "          const docLink = document.createElement('div');\n",
              "          docLink.innerHTML = docLinkHtml;\n",
              "          element.appendChild(docLink);\n",
              "        }\n",
              "      </script>\n",
              "    </div>\n",
              "  </div>\n",
              "  "
            ]
          },
          "metadata": {},
          "execution_count": 13
        }
      ]
    },
    {
      "cell_type": "code",
      "source": [
        "s_train_orig.head()"
      ],
      "metadata": {
        "execution": {
          "iopub.status.busy": "2023-04-05T13:56:02.826855Z",
          "iopub.execute_input": "2023-04-05T13:56:02.827491Z",
          "iopub.status.idle": "2023-04-05T13:56:02.844270Z",
          "shell.execute_reply.started": "2023-04-05T13:56:02.827447Z",
          "shell.execute_reply": "2023-04-05T13:56:02.842636Z"
        },
        "trusted": true,
        "colab": {
          "base_uri": "https://localhost:8080/",
          "height": 206
        },
        "id": "g1v669vZFKQc",
        "outputId": "a8396709-2bba-4650-9c33-59f58e9d1447"
      },
      "execution_count": 14,
      "outputs": [
        {
          "output_type": "execute_result",
          "data": {
            "text/plain": [
              "       textID                                               text  \\\n",
              "0  cb774db0d1                I`d have responded, if I were going   \n",
              "1  549e992a42      Sooo SAD I will miss you here in San Diego!!!   \n",
              "2  088c60f138                          my boss is bullying me...   \n",
              "3  9642c003ef                     what interview! leave me alone   \n",
              "4  358bd9e861   Sons of ****, why couldn`t they put them on t...   \n",
              "\n",
              "                         selected_text sentiment  \n",
              "0  I`d have responded, if I were going   neutral  \n",
              "1                             Sooo SAD  negative  \n",
              "2                          bullying me  negative  \n",
              "3                       leave me alone  negative  \n",
              "4                        Sons of ****,  negative  "
            ],
            "text/html": [
              "\n",
              "  <div id=\"df-8ed13479-185c-48f3-9912-ffb9be2f6580\">\n",
              "    <div class=\"colab-df-container\">\n",
              "      <div>\n",
              "<style scoped>\n",
              "    .dataframe tbody tr th:only-of-type {\n",
              "        vertical-align: middle;\n",
              "    }\n",
              "\n",
              "    .dataframe tbody tr th {\n",
              "        vertical-align: top;\n",
              "    }\n",
              "\n",
              "    .dataframe thead th {\n",
              "        text-align: right;\n",
              "    }\n",
              "</style>\n",
              "<table border=\"1\" class=\"dataframe\">\n",
              "  <thead>\n",
              "    <tr style=\"text-align: right;\">\n",
              "      <th></th>\n",
              "      <th>textID</th>\n",
              "      <th>text</th>\n",
              "      <th>selected_text</th>\n",
              "      <th>sentiment</th>\n",
              "    </tr>\n",
              "  </thead>\n",
              "  <tbody>\n",
              "    <tr>\n",
              "      <th>0</th>\n",
              "      <td>cb774db0d1</td>\n",
              "      <td>I`d have responded, if I were going</td>\n",
              "      <td>I`d have responded, if I were going</td>\n",
              "      <td>neutral</td>\n",
              "    </tr>\n",
              "    <tr>\n",
              "      <th>1</th>\n",
              "      <td>549e992a42</td>\n",
              "      <td>Sooo SAD I will miss you here in San Diego!!!</td>\n",
              "      <td>Sooo SAD</td>\n",
              "      <td>negative</td>\n",
              "    </tr>\n",
              "    <tr>\n",
              "      <th>2</th>\n",
              "      <td>088c60f138</td>\n",
              "      <td>my boss is bullying me...</td>\n",
              "      <td>bullying me</td>\n",
              "      <td>negative</td>\n",
              "    </tr>\n",
              "    <tr>\n",
              "      <th>3</th>\n",
              "      <td>9642c003ef</td>\n",
              "      <td>what interview! leave me alone</td>\n",
              "      <td>leave me alone</td>\n",
              "      <td>negative</td>\n",
              "    </tr>\n",
              "    <tr>\n",
              "      <th>4</th>\n",
              "      <td>358bd9e861</td>\n",
              "      <td>Sons of ****, why couldn`t they put them on t...</td>\n",
              "      <td>Sons of ****,</td>\n",
              "      <td>negative</td>\n",
              "    </tr>\n",
              "  </tbody>\n",
              "</table>\n",
              "</div>\n",
              "      <button class=\"colab-df-convert\" onclick=\"convertToInteractive('df-8ed13479-185c-48f3-9912-ffb9be2f6580')\"\n",
              "              title=\"Convert this dataframe to an interactive table.\"\n",
              "              style=\"display:none;\">\n",
              "        \n",
              "  <svg xmlns=\"http://www.w3.org/2000/svg\" height=\"24px\"viewBox=\"0 0 24 24\"\n",
              "       width=\"24px\">\n",
              "    <path d=\"M0 0h24v24H0V0z\" fill=\"none\"/>\n",
              "    <path d=\"M18.56 5.44l.94 2.06.94-2.06 2.06-.94-2.06-.94-.94-2.06-.94 2.06-2.06.94zm-11 1L8.5 8.5l.94-2.06 2.06-.94-2.06-.94L8.5 2.5l-.94 2.06-2.06.94zm10 10l.94 2.06.94-2.06 2.06-.94-2.06-.94-.94-2.06-.94 2.06-2.06.94z\"/><path d=\"M17.41 7.96l-1.37-1.37c-.4-.4-.92-.59-1.43-.59-.52 0-1.04.2-1.43.59L10.3 9.45l-7.72 7.72c-.78.78-.78 2.05 0 2.83L4 21.41c.39.39.9.59 1.41.59.51 0 1.02-.2 1.41-.59l7.78-7.78 2.81-2.81c.8-.78.8-2.07 0-2.86zM5.41 20L4 18.59l7.72-7.72 1.47 1.35L5.41 20z\"/>\n",
              "  </svg>\n",
              "      </button>\n",
              "      \n",
              "  <style>\n",
              "    .colab-df-container {\n",
              "      display:flex;\n",
              "      flex-wrap:wrap;\n",
              "      gap: 12px;\n",
              "    }\n",
              "\n",
              "    .colab-df-convert {\n",
              "      background-color: #E8F0FE;\n",
              "      border: none;\n",
              "      border-radius: 50%;\n",
              "      cursor: pointer;\n",
              "      display: none;\n",
              "      fill: #1967D2;\n",
              "      height: 32px;\n",
              "      padding: 0 0 0 0;\n",
              "      width: 32px;\n",
              "    }\n",
              "\n",
              "    .colab-df-convert:hover {\n",
              "      background-color: #E2EBFA;\n",
              "      box-shadow: 0px 1px 2px rgba(60, 64, 67, 0.3), 0px 1px 3px 1px rgba(60, 64, 67, 0.15);\n",
              "      fill: #174EA6;\n",
              "    }\n",
              "\n",
              "    [theme=dark] .colab-df-convert {\n",
              "      background-color: #3B4455;\n",
              "      fill: #D2E3FC;\n",
              "    }\n",
              "\n",
              "    [theme=dark] .colab-df-convert:hover {\n",
              "      background-color: #434B5C;\n",
              "      box-shadow: 0px 1px 3px 1px rgba(0, 0, 0, 0.15);\n",
              "      filter: drop-shadow(0px 1px 2px rgba(0, 0, 0, 0.3));\n",
              "      fill: #FFFFFF;\n",
              "    }\n",
              "  </style>\n",
              "\n",
              "      <script>\n",
              "        const buttonEl =\n",
              "          document.querySelector('#df-8ed13479-185c-48f3-9912-ffb9be2f6580 button.colab-df-convert');\n",
              "        buttonEl.style.display =\n",
              "          google.colab.kernel.accessAllowed ? 'block' : 'none';\n",
              "\n",
              "        async function convertToInteractive(key) {\n",
              "          const element = document.querySelector('#df-8ed13479-185c-48f3-9912-ffb9be2f6580');\n",
              "          const dataTable =\n",
              "            await google.colab.kernel.invokeFunction('convertToInteractive',\n",
              "                                                     [key], {});\n",
              "          if (!dataTable) return;\n",
              "\n",
              "          const docLinkHtml = 'Like what you see? Visit the ' +\n",
              "            '<a target=\"_blank\" href=https://colab.research.google.com/notebooks/data_table.ipynb>data table notebook</a>'\n",
              "            + ' to learn more about interactive tables.';\n",
              "          element.innerHTML = '';\n",
              "          dataTable['output_type'] = 'display_data';\n",
              "          await google.colab.output.renderOutput(dataTable, element);\n",
              "          const docLink = document.createElement('div');\n",
              "          docLink.innerHTML = docLinkHtml;\n",
              "          element.appendChild(docLink);\n",
              "        }\n",
              "      </script>\n",
              "    </div>\n",
              "  </div>\n",
              "  "
            ]
          },
          "metadata": {},
          "execution_count": 14
        }
      ]
    },
    {
      "cell_type": "code",
      "source": [
        "print(f\"d_train:{d_train_orig.shape}\\nd_test:{d_test_orig.shape}\\ns_test:{s_train_orig.shape}\")"
      ],
      "metadata": {
        "execution": {
          "iopub.status.busy": "2023-04-05T13:56:02.846125Z",
          "iopub.execute_input": "2023-04-05T13:56:02.846622Z",
          "iopub.status.idle": "2023-04-05T13:56:02.856735Z",
          "shell.execute_reply.started": "2023-04-05T13:56:02.846561Z",
          "shell.execute_reply": "2023-04-05T13:56:02.855258Z"
        },
        "trusted": true,
        "colab": {
          "base_uri": "https://localhost:8080/"
        },
        "id": "fak6bNeQFKQd",
        "outputId": "2b0a0c2b-94b0-4da6-e709-b3f98d0431d9"
      },
      "execution_count": 15,
      "outputs": [
        {
          "output_type": "stream",
          "name": "stdout",
          "text": [
            "d_train:(7613, 5)\n",
            "d_test:(3263, 4)\n",
            "s_test:(27481, 4)\n"
          ]
        }
      ]
    },
    {
      "cell_type": "code",
      "source": [
        "total = d_train_orig.target.value_counts().sum()\n",
        "neg = d_train_orig.target.value_counts()[0]\n",
        "pos = d_train_orig.target.value_counts()[1]\n",
        "print(f\"Not Disaster: Count = {neg} Percent = {neg/total}\\n\"\n",
        "     f\"Disaster:  Count = {pos} Percent = {pos/total}\\n\")"
      ],
      "metadata": {
        "execution": {
          "iopub.status.busy": "2023-04-05T13:56:02.863151Z",
          "iopub.execute_input": "2023-04-05T13:56:02.863612Z",
          "iopub.status.idle": "2023-04-05T13:56:02.879904Z",
          "shell.execute_reply.started": "2023-04-05T13:56:02.863571Z",
          "shell.execute_reply": "2023-04-05T13:56:02.878303Z"
        },
        "trusted": true,
        "colab": {
          "base_uri": "https://localhost:8080/"
        },
        "id": "ZQqzoU-FFKQd",
        "outputId": "235227b6-7904-4e42-86bd-d25b0ae7193f"
      },
      "execution_count": 16,
      "outputs": [
        {
          "output_type": "stream",
          "name": "stdout",
          "text": [
            "Not Disaster: Count = 4342 Percent = 0.5703402075397347\n",
            "Disaster:  Count = 3271 Percent = 0.4296597924602653\n",
            "\n"
          ]
        }
      ]
    },
    {
      "cell_type": "code",
      "source": [
        "total = s_train_orig.sentiment.value_counts().sum()\n",
        "neu = s_train_orig.sentiment.value_counts()['neutral']\n",
        "neg = s_train_orig.sentiment.value_counts()['negative']\n",
        "pos = s_train_orig.sentiment.value_counts()['positive']\n",
        "print(f\"Neutral: Count = {neu} Percent = {neu/total}\\n\"\n",
        "    f\"Negative: Count = {neg} Percent = {neg/total}\\n\"\n",
        "     f\"Positve:  Count = {pos} Percent = {pos/total}\\n\")"
      ],
      "metadata": {
        "execution": {
          "iopub.status.busy": "2023-04-05T13:56:02.882315Z",
          "iopub.execute_input": "2023-04-05T13:56:02.882702Z",
          "iopub.status.idle": "2023-04-05T13:56:02.902673Z",
          "shell.execute_reply.started": "2023-04-05T13:56:02.882667Z",
          "shell.execute_reply": "2023-04-05T13:56:02.900764Z"
        },
        "trusted": true,
        "colab": {
          "base_uri": "https://localhost:8080/"
        },
        "id": "HpO54GOVFKQd",
        "outputId": "3599a732-9da1-40d3-9c47-473e98b529ac"
      },
      "execution_count": 17,
      "outputs": [
        {
          "output_type": "stream",
          "name": "stdout",
          "text": [
            "Neutral: Count = 11118 Percent = 0.4045704304792402\n",
            "Negative: Count = 7781 Percent = 0.2831410792911466\n",
            "Positve:  Count = 8582 Percent = 0.3122884902296132\n",
            "\n"
          ]
        }
      ]
    },
    {
      "cell_type": "code",
      "source": [
        "d_train_orig.columns"
      ],
      "metadata": {
        "execution": {
          "iopub.status.busy": "2023-04-05T13:56:02.905126Z",
          "iopub.execute_input": "2023-04-05T13:56:02.906267Z",
          "iopub.status.idle": "2023-04-05T13:56:02.924660Z",
          "shell.execute_reply.started": "2023-04-05T13:56:02.906195Z",
          "shell.execute_reply": "2023-04-05T13:56:02.922958Z"
        },
        "trusted": true,
        "colab": {
          "base_uri": "https://localhost:8080/"
        },
        "id": "9P5AURz5FKQe",
        "outputId": "2e0ad3c7-b8fe-42ae-a0b4-89360e8e3f53"
      },
      "execution_count": 18,
      "outputs": [
        {
          "output_type": "execute_result",
          "data": {
            "text/plain": [
              "Index(['id', 'keyword', 'location', 'text', 'target'], dtype='object')"
            ]
          },
          "metadata": {},
          "execution_count": 18
        }
      ]
    },
    {
      "cell_type": "code",
      "source": [
        "s_train_orig.columns"
      ],
      "metadata": {
        "execution": {
          "iopub.status.busy": "2023-04-05T13:56:02.926975Z",
          "iopub.execute_input": "2023-04-05T13:56:02.927628Z",
          "iopub.status.idle": "2023-04-05T13:56:02.938334Z",
          "shell.execute_reply.started": "2023-04-05T13:56:02.927569Z",
          "shell.execute_reply": "2023-04-05T13:56:02.936777Z"
        },
        "trusted": true,
        "colab": {
          "base_uri": "https://localhost:8080/"
        },
        "id": "9Rbn9IVyFKQe",
        "outputId": "219467cf-418e-475e-a073-b146568017fb"
      },
      "execution_count": 19,
      "outputs": [
        {
          "output_type": "execute_result",
          "data": {
            "text/plain": [
              "Index(['textID', 'text', 'selected_text', 'sentiment'], dtype='object')"
            ]
          },
          "metadata": {},
          "execution_count": 19
        }
      ]
    },
    {
      "cell_type": "code",
      "source": [
        "print(data_quality(d_train_orig))"
      ],
      "metadata": {
        "execution": {
          "iopub.status.busy": "2023-04-05T13:56:02.940363Z",
          "iopub.execute_input": "2023-04-05T13:56:02.940776Z",
          "iopub.status.idle": "2023-04-05T13:56:03.007714Z",
          "shell.execute_reply.started": "2023-04-05T13:56:02.940740Z",
          "shell.execute_reply": "2023-04-05T13:56:03.006285Z"
        },
        "trusted": true,
        "colab": {
          "base_uri": "https://localhost:8080/"
        },
        "id": "kJYNNXIOFKQe",
        "outputId": "a7c92537-8509-4c59-eea1-b57f89abfbe4"
      },
      "execution_count": 20,
      "outputs": [
        {
          "output_type": "stream",
          "name": "stdout",
          "text": [
            "          Present Values  Missing Values  Unique Values\n",
            "id                  7613               0           7613\n",
            "keyword             7552              61            221\n",
            "location            5080            2533           3341\n",
            "text                7613               0           7503\n",
            "target              7613               0              2\n"
          ]
        }
      ]
    },
    {
      "cell_type": "code",
      "source": [
        "print(data_quality(s_train_orig))"
      ],
      "metadata": {
        "execution": {
          "iopub.status.busy": "2023-04-05T13:56:03.009897Z",
          "iopub.execute_input": "2023-04-05T13:56:03.010448Z",
          "iopub.status.idle": "2023-04-05T13:56:03.048313Z",
          "shell.execute_reply.started": "2023-04-05T13:56:03.010393Z",
          "shell.execute_reply": "2023-04-05T13:56:03.046825Z"
        },
        "trusted": true,
        "colab": {
          "base_uri": "https://localhost:8080/"
        },
        "id": "PhSbqCTGFKQe",
        "outputId": "5b244036-9766-4898-ed58-c95ae09cacd2"
      },
      "execution_count": 21,
      "outputs": [
        {
          "output_type": "stream",
          "name": "stdout",
          "text": [
            "               Present Values  Missing Values  Unique Values\n",
            "textID                  27481               0          27481\n",
            "text                    27480               1          27480\n",
            "selected_text           27480               1          22463\n",
            "sentiment               27481               0              3\n"
          ]
        }
      ]
    },
    {
      "cell_type": "markdown",
      "source": [
        "### Data Preprocessing ###"
      ],
      "metadata": {
        "id": "SY1bjqnLFKQe"
      }
    },
    {
      "cell_type": "code",
      "source": [
        "# Helper function that will sentiment to numerical values\n",
        "def map_sentiment(x):\n",
        "    if x == \"negative\":\n",
        "        return 1\n",
        "    elif x ==\"neutral\":\n",
        "        return 0\n",
        "    elif x ==\"positive\":\n",
        "        return 2\n",
        "    else:\n",
        "        return None\n",
        "# Custom Dataset for D1 that will tokenize text and arrange output and labels in a dictionary\n",
        "class DisasterData(Dataset):\n",
        "    def __init__(self, dataframe, tokenizer, max_len):\n",
        "        self.tokenizer = tokenizer\n",
        "        self.data = dataframe\n",
        "        self.text = dataframe.text\n",
        "        self.targets = self.data.target\n",
        "        self.max_len = max_len\n",
        "\n",
        "    def __len__(self):\n",
        "        return len(self.text)\n",
        "\n",
        "    def __getitem__(self, index):\n",
        "        text = str(self.text[index])\n",
        "        text = \" \".join(text.split())\n",
        "\n",
        "        inputs = self.tokenizer.encode_plus(\n",
        "            text,\n",
        "            None,\n",
        "            add_special_tokens=True,\n",
        "            max_length=self.max_len,\n",
        "            truncation=True,\n",
        "            padding = 'max_length',\n",
        "            return_token_type_ids=True\n",
        "        )\n",
        "        ids = inputs['input_ids']\n",
        "        mask = inputs['attention_mask']\n",
        "        token_type_ids = inputs[\"token_type_ids\"]\n",
        "\n",
        "\n",
        "        return {\n",
        "            'ids': torch.tensor(ids, dtype=torch.long),\n",
        "            'mask': torch.tensor(mask, dtype=torch.long),\n",
        "            'token_type_ids': torch.tensor(token_type_ids, dtype=torch.long),\n",
        "            'targets': torch.tensor(self.targets[index], dtype=torch.long)\n",
        "        }\n",
        "\n",
        "# Custom Dataset for D2 that will tokenize text and arrange output and labels in a dictionary\n",
        "class SentimentData(Dataset):\n",
        "    def __init__(self, dataframe, tokenizer, max_len):\n",
        "        self.tokenizer = tokenizer\n",
        "        self.data = dataframe\n",
        "        self.text = dataframe.text\n",
        "        self.targets = self.data.target\n",
        "        self.max_len = max_len\n",
        "\n",
        "    def __len__(self):\n",
        "        return len(self.text)\n",
        "\n",
        "    def __getitem__(self, index):\n",
        "        text = str(self.text[index])\n",
        "        text = \" \".join(text.split())\n",
        "\n",
        "        inputs = self.tokenizer.encode_plus(\n",
        "            text,\n",
        "            None,\n",
        "            add_special_tokens=True,\n",
        "            max_length=self.max_len,\n",
        "            truncation=True,\n",
        "            padding = 'max_length',\n",
        "            return_token_type_ids=True\n",
        "        )\n",
        "        ids = inputs['input_ids']\n",
        "        mask = inputs['attention_mask']\n",
        "        token_type_ids = inputs[\"token_type_ids\"]\n",
        "\n",
        "\n",
        "        return {\n",
        "            'ids': torch.tensor(ids, dtype=torch.long),\n",
        "            'mask': torch.tensor(mask, dtype=torch.long),\n",
        "            'token_type_ids': torch.tensor(token_type_ids, dtype=torch.long),\n",
        "            'targets': torch.tensor(self.targets[index], dtype=torch.long)\n",
        "        }\n",
        " "
      ],
      "metadata": {
        "id": "3PwXQSSUcv0y"
      },
      "execution_count": 22,
      "outputs": []
    },
    {
      "cell_type": "code",
      "source": [
        "# Helper function to remove URLs. May or may not be used\n",
        "def cleaning_URLs(data):\n",
        "    return re.sub('((www.[^s]+)|(https?://[^s]+))',' ',data)"
      ],
      "metadata": {
        "id": "nDY8IqryWdin"
      },
      "execution_count": 23,
      "outputs": []
    },
    {
      "cell_type": "code",
      "source": [
        "# Creating copies of the dataset\n",
        "d_train = d_train_orig.copy()\n",
        "d_test = d_test_orig.copy()\n",
        "s_train = s_train_orig.copy()"
      ],
      "metadata": {
        "id": "GazgsoaZGK-h"
      },
      "execution_count": 24,
      "outputs": []
    },
    {
      "cell_type": "code",
      "source": [
        "# Remove null values\n",
        "s_train.drop(s_train[s_train[\"textID\"]==\"fdb77c3752\"].index, inplace=True)"
      ],
      "metadata": {
        "id": "Yrr_2Q0oYvAf"
      },
      "execution_count": 25,
      "outputs": []
    },
    {
      "cell_type": "code",
      "source": [
        "# Ignore removing URLs for now as tokenizer can probably handle URLs\n",
        "# d_train['text'] = d_train.apply(lambda x: cleaning_URLs(x['text']),axis=1)\n",
        "# #d_test['text'] = d_test.apply(lambda x: cleaning_URLs(x['text']),axis=1)\n",
        "# s_train['text'] = s_train.apply(lambda x: cleaning_URLs(x['text']),axis=1)"
      ],
      "metadata": {
        "id": "QassCZXzWz79"
      },
      "execution_count": 26,
      "outputs": []
    },
    {
      "cell_type": "code",
      "source": [
        "# Removing duplicate text\n",
        "# d_train.drop_duplicates(subset=['text'], inplace=True)\n",
        "# d_train.shape"
      ],
      "metadata": {
        "id": "fp6UWD0iZiia"
      },
      "execution_count": 27,
      "outputs": []
    },
    {
      "cell_type": "code",
      "source": [
        "# Removing duplicate text\n",
        "# s_train.drop_duplicates(subset=['text'], inplace=True)\n",
        "# s_train.shape"
      ],
      "metadata": {
        "id": "xq-Jgho7alAH"
      },
      "execution_count": 28,
      "outputs": []
    },
    {
      "cell_type": "code",
      "source": [
        "# Adding task id to the datasets, might be needed later on\n",
        "d_train['id'] = 1\n",
        "s_train['id'] = 2\n",
        "d_train.reset_index(inplace=True)\n",
        "s_train.reset_index(inplace=True)\n",
        "s_train_text = s_train[['text','id','index']].copy()\n",
        "d_train_text = d_train[['text','id','index']].copy()"
      ],
      "metadata": {
        "execution": {
          "iopub.status.busy": "2023-04-05T13:56:03.049930Z",
          "iopub.execute_input": "2023-04-05T13:56:03.050401Z",
          "iopub.status.idle": "2023-04-05T13:56:03.072756Z",
          "shell.execute_reply.started": "2023-04-05T13:56:03.050352Z",
          "shell.execute_reply": "2023-04-05T13:56:03.071607Z"
        },
        "trusted": true,
        "id": "hdQaG_KTFKQf"
      },
      "execution_count": 29,
      "outputs": []
    },
    {
      "cell_type": "code",
      "source": [
        "# Mapping sentiment labels to numbers\n",
        "s_train['sentiment'] = s_train.apply(lambda x: map_sentiment(x.sentiment), axis=1)\n",
        "s_train.rename(columns={'sentiment':'target'}, inplace=True)\n",
        "# Creating copies of the data for passing in to custom dataset\n",
        "d_train_select =  d_train[['text','target']].copy()\n",
        "s_train_select = s_train[['text','target']].copy()"
      ],
      "metadata": {
        "execution": {
          "iopub.status.busy": "2023-04-05T13:56:03.074666Z",
          "iopub.execute_input": "2023-04-05T13:56:03.075028Z",
          "iopub.status.idle": "2023-04-05T13:56:03.492811Z",
          "shell.execute_reply.started": "2023-04-05T13:56:03.074994Z",
          "shell.execute_reply": "2023-04-05T13:56:03.491414Z"
        },
        "trusted": true,
        "id": "4h58AjlDFKQf"
      },
      "execution_count": 30,
      "outputs": []
    },
    {
      "cell_type": "code",
      "source": [
        "# Creating the corpus of text as instructed, but won't be used\n",
        "corpus = pd.concat([d_train_select[[\"text\"]], s_train_select[['text']]])"
      ],
      "metadata": {
        "id": "-ZU7aNsfas30"
      },
      "execution_count": 31,
      "outputs": []
    },
    {
      "cell_type": "code",
      "source": [
        "corpus.shape"
      ],
      "metadata": {
        "colab": {
          "base_uri": "https://localhost:8080/"
        },
        "id": "F1b1GlSxbM44",
        "outputId": "cd2833c1-f05d-46c4-e898-64ccb9a6c046"
      },
      "execution_count": 32,
      "outputs": [
        {
          "output_type": "execute_result",
          "data": {
            "text/plain": [
              "(35093, 1)"
            ]
          },
          "metadata": {},
          "execution_count": 32
        }
      ]
    },
    {
      "cell_type": "code",
      "source": [
        "# Pre-trained tokenizer to be used\n",
        "tokenizer = RobertaTokenizer.from_pretrained(\"roberta-base\", do_lower_case=True)\n",
        "\n",
        "# # Hyperparameters below for actual model used\n",
        "MAX_LEN = 512\n",
        "TRAIN_BATCH_SIZE = 8\n",
        "VALID_BATCH_SIZE = 32\n",
        "\n",
        "# Hyperparameters below for experimenting on freezing the pre-trained MLM models\n",
        "# MAX_LEN = 512\n",
        "# TRAIN_BATCH_SIZE = 32\n",
        "# VALID_BATCH_SIZE = 32"
      ],
      "metadata": {
        "execution": {
          "iopub.status.busy": "2023-04-05T13:56:03.495973Z",
          "iopub.execute_input": "2023-04-05T13:56:03.496516Z",
          "iopub.status.idle": "2023-04-05T13:56:03.502431Z",
          "shell.execute_reply.started": "2023-04-05T13:56:03.496466Z",
          "shell.execute_reply": "2023-04-05T13:56:03.501101Z"
        },
        "trusted": true,
        "id": "5C7L7NyQFKQf",
        "colab": {
          "base_uri": "https://localhost:8080/",
          "height": 113,
          "referenced_widgets": [
            "42656aff817a4fbf8a1f007925734aed",
            "c9372042e8f34bd1bf4a9eca2f561e92",
            "75e9c02761db415ebcb2011da7e805a1",
            "0fd508315e374bf3a9cb076da1356c38",
            "f103718b63304d6e9e92ba58e3ef894a",
            "6e02edfd18fb4af1826a399cc6bf66fc",
            "1941de99a16f41e8ba8916cab7263557",
            "6888e3c2137c4115b2f31bb4a504ea3b",
            "7bcbfd05547b4af5843941aa5d95bb14",
            "f05fe22c6a204d96a4b7bec78396fd2b",
            "65d670ef642241b5846e105bc9c1e557",
            "8faca751e8e74cb4be9ff428658bfb7d",
            "a416e75256974a64800fb78129947ac2",
            "ca853b942ef34f1ca580253bbf6421e7",
            "4eeb82c768114a908fcf5ee606253788",
            "692bfa4efe824fc6b45632417b295dc4",
            "37dc62861eaa4799b893d0ee1d90543e",
            "588d8f8fd6f543bf905c6bee920b7a02",
            "797b37b2461b40199c7c736bc8c5d816",
            "bd7a8222fcb7469b8c6b63eb6da77fbd",
            "73f61289f24d417f98c0855447861633",
            "9a78363194a24c48a2d61a2e2e91fb51",
            "8af3ab9d490643fc92ff9aa560143007",
            "c9589563e4b2405b8ee133d6f02f3504",
            "3cff703916084edd9bb194ac6af9098d",
            "ff3beb81820d4404b15869aa4406fab2",
            "e76df4e9f56a4afdbab227e98d4c517f",
            "decffb5089d84f0cab3b1bb99ed0eb61",
            "19b9bbe59e2147b98dbed7b93f3417bc",
            "4011306f3f344e478a541ec037e985bc",
            "c2ceca7f00b0409a9f387cb932b733f7",
            "20600fedb4354c268388e9f63b49c967",
            "c0ac439d87a44c809f996a5cc73504b8"
          ]
        },
        "outputId": "cfd27bdc-0191-4ac5-d2c6-c84b9308adf2"
      },
      "execution_count": 33,
      "outputs": [
        {
          "output_type": "display_data",
          "data": {
            "text/plain": [
              "Downloading (…)olve/main/vocab.json:   0%|          | 0.00/899k [00:00<?, ?B/s]"
            ],
            "application/vnd.jupyter.widget-view+json": {
              "version_major": 2,
              "version_minor": 0,
              "model_id": "42656aff817a4fbf8a1f007925734aed"
            }
          },
          "metadata": {}
        },
        {
          "output_type": "display_data",
          "data": {
            "text/plain": [
              "Downloading (…)olve/main/merges.txt:   0%|          | 0.00/456k [00:00<?, ?B/s]"
            ],
            "application/vnd.jupyter.widget-view+json": {
              "version_major": 2,
              "version_minor": 0,
              "model_id": "8faca751e8e74cb4be9ff428658bfb7d"
            }
          },
          "metadata": {}
        },
        {
          "output_type": "display_data",
          "data": {
            "text/plain": [
              "Downloading (…)lve/main/config.json:   0%|          | 0.00/481 [00:00<?, ?B/s]"
            ],
            "application/vnd.jupyter.widget-view+json": {
              "version_major": 2,
              "version_minor": 0,
              "model_id": "8af3ab9d490643fc92ff9aa560143007"
            }
          },
          "metadata": {}
        }
      ]
    },
    {
      "cell_type": "code",
      "source": [
        "# Create train-validate spilts\n",
        "d_train_data, d_val_data = train_test_split(d_train_select, test_size=0.2, stratify=d_train_select['target'],\n",
        "                                 random_state=2023)\n",
        "\n",
        "s_train_data, s_val_data= train_test_split(s_train_select, test_size=0.2, stratify=s_train_select['target'],\n",
        "                                 random_state=2023)\n",
        "\n",
        "# Dropping the index because it can mess up the loops\n",
        "d_train_data.reset_index(inplace=True,drop =True)\n",
        "d_val_data.reset_index(inplace=True, drop =True)\n",
        "s_train_data.reset_index(inplace=True, drop =True)\n",
        "s_val_data.reset_index(inplace=True,  drop =True)"
      ],
      "metadata": {
        "execution": {
          "iopub.status.busy": "2023-04-05T13:56:03.504282Z",
          "iopub.execute_input": "2023-04-05T13:56:03.505845Z",
          "iopub.status.idle": "2023-04-05T13:56:03.534774Z",
          "shell.execute_reply.started": "2023-04-05T13:56:03.505790Z",
          "shell.execute_reply": "2023-04-05T13:56:03.533477Z"
        },
        "trusted": true,
        "id": "CFp5aLW7FKQf"
      },
      "execution_count": 34,
      "outputs": []
    },
    {
      "cell_type": "code",
      "source": [
        "d_train_data.shape"
      ],
      "metadata": {
        "colab": {
          "base_uri": "https://localhost:8080/"
        },
        "id": "PBirAw0YN0jT",
        "outputId": "6fcaf5a3-257c-45f7-8cbe-b55fb2a8f13a"
      },
      "execution_count": 35,
      "outputs": [
        {
          "output_type": "execute_result",
          "data": {
            "text/plain": [
              "(6090, 2)"
            ]
          },
          "metadata": {},
          "execution_count": 35
        }
      ]
    },
    {
      "cell_type": "code",
      "source": [
        "s_train_data.head()"
      ],
      "metadata": {
        "execution": {
          "iopub.status.busy": "2023-04-05T13:56:03.536159Z",
          "iopub.execute_input": "2023-04-05T13:56:03.536496Z",
          "iopub.status.idle": "2023-04-05T13:56:03.548543Z",
          "shell.execute_reply.started": "2023-04-05T13:56:03.536462Z",
          "shell.execute_reply": "2023-04-05T13:56:03.546966Z"
        },
        "trusted": true,
        "colab": {
          "base_uri": "https://localhost:8080/",
          "height": 206
        },
        "id": "xEeAA6Z5FKQf",
        "outputId": "25b97c3e-ada6-48be-d3ba-cec27fb242b7"
      },
      "execution_count": 36,
      "outputs": [
        {
          "output_type": "execute_result",
          "data": {
            "text/plain": [
              "                                                text  target\n",
              "0             June gloom seems to have arrived early       0\n",
              "1  Sad that our neighbors just cut down ALL the t...       1\n",
              "2   OHH  yeah i sometimes forget  your in the oth...       0\n",
              "3  Join the biggest and bestest group on facebook...       2\n",
              "4       i lost one of my best friends iï¿½m sooo sad       1"
            ],
            "text/html": [
              "\n",
              "  <div id=\"df-bd346f22-905d-4c85-985e-6985cea9607c\">\n",
              "    <div class=\"colab-df-container\">\n",
              "      <div>\n",
              "<style scoped>\n",
              "    .dataframe tbody tr th:only-of-type {\n",
              "        vertical-align: middle;\n",
              "    }\n",
              "\n",
              "    .dataframe tbody tr th {\n",
              "        vertical-align: top;\n",
              "    }\n",
              "\n",
              "    .dataframe thead th {\n",
              "        text-align: right;\n",
              "    }\n",
              "</style>\n",
              "<table border=\"1\" class=\"dataframe\">\n",
              "  <thead>\n",
              "    <tr style=\"text-align: right;\">\n",
              "      <th></th>\n",
              "      <th>text</th>\n",
              "      <th>target</th>\n",
              "    </tr>\n",
              "  </thead>\n",
              "  <tbody>\n",
              "    <tr>\n",
              "      <th>0</th>\n",
              "      <td>June gloom seems to have arrived early</td>\n",
              "      <td>0</td>\n",
              "    </tr>\n",
              "    <tr>\n",
              "      <th>1</th>\n",
              "      <td>Sad that our neighbors just cut down ALL the t...</td>\n",
              "      <td>1</td>\n",
              "    </tr>\n",
              "    <tr>\n",
              "      <th>2</th>\n",
              "      <td>OHH  yeah i sometimes forget  your in the oth...</td>\n",
              "      <td>0</td>\n",
              "    </tr>\n",
              "    <tr>\n",
              "      <th>3</th>\n",
              "      <td>Join the biggest and bestest group on facebook...</td>\n",
              "      <td>2</td>\n",
              "    </tr>\n",
              "    <tr>\n",
              "      <th>4</th>\n",
              "      <td>i lost one of my best friends iï¿½m sooo sad</td>\n",
              "      <td>1</td>\n",
              "    </tr>\n",
              "  </tbody>\n",
              "</table>\n",
              "</div>\n",
              "      <button class=\"colab-df-convert\" onclick=\"convertToInteractive('df-bd346f22-905d-4c85-985e-6985cea9607c')\"\n",
              "              title=\"Convert this dataframe to an interactive table.\"\n",
              "              style=\"display:none;\">\n",
              "        \n",
              "  <svg xmlns=\"http://www.w3.org/2000/svg\" height=\"24px\"viewBox=\"0 0 24 24\"\n",
              "       width=\"24px\">\n",
              "    <path d=\"M0 0h24v24H0V0z\" fill=\"none\"/>\n",
              "    <path d=\"M18.56 5.44l.94 2.06.94-2.06 2.06-.94-2.06-.94-.94-2.06-.94 2.06-2.06.94zm-11 1L8.5 8.5l.94-2.06 2.06-.94-2.06-.94L8.5 2.5l-.94 2.06-2.06.94zm10 10l.94 2.06.94-2.06 2.06-.94-2.06-.94-.94-2.06-.94 2.06-2.06.94z\"/><path d=\"M17.41 7.96l-1.37-1.37c-.4-.4-.92-.59-1.43-.59-.52 0-1.04.2-1.43.59L10.3 9.45l-7.72 7.72c-.78.78-.78 2.05 0 2.83L4 21.41c.39.39.9.59 1.41.59.51 0 1.02-.2 1.41-.59l7.78-7.78 2.81-2.81c.8-.78.8-2.07 0-2.86zM5.41 20L4 18.59l7.72-7.72 1.47 1.35L5.41 20z\"/>\n",
              "  </svg>\n",
              "      </button>\n",
              "      \n",
              "  <style>\n",
              "    .colab-df-container {\n",
              "      display:flex;\n",
              "      flex-wrap:wrap;\n",
              "      gap: 12px;\n",
              "    }\n",
              "\n",
              "    .colab-df-convert {\n",
              "      background-color: #E8F0FE;\n",
              "      border: none;\n",
              "      border-radius: 50%;\n",
              "      cursor: pointer;\n",
              "      display: none;\n",
              "      fill: #1967D2;\n",
              "      height: 32px;\n",
              "      padding: 0 0 0 0;\n",
              "      width: 32px;\n",
              "    }\n",
              "\n",
              "    .colab-df-convert:hover {\n",
              "      background-color: #E2EBFA;\n",
              "      box-shadow: 0px 1px 2px rgba(60, 64, 67, 0.3), 0px 1px 3px 1px rgba(60, 64, 67, 0.15);\n",
              "      fill: #174EA6;\n",
              "    }\n",
              "\n",
              "    [theme=dark] .colab-df-convert {\n",
              "      background-color: #3B4455;\n",
              "      fill: #D2E3FC;\n",
              "    }\n",
              "\n",
              "    [theme=dark] .colab-df-convert:hover {\n",
              "      background-color: #434B5C;\n",
              "      box-shadow: 0px 1px 3px 1px rgba(0, 0, 0, 0.15);\n",
              "      filter: drop-shadow(0px 1px 2px rgba(0, 0, 0, 0.3));\n",
              "      fill: #FFFFFF;\n",
              "    }\n",
              "  </style>\n",
              "\n",
              "      <script>\n",
              "        const buttonEl =\n",
              "          document.querySelector('#df-bd346f22-905d-4c85-985e-6985cea9607c button.colab-df-convert');\n",
              "        buttonEl.style.display =\n",
              "          google.colab.kernel.accessAllowed ? 'block' : 'none';\n",
              "\n",
              "        async function convertToInteractive(key) {\n",
              "          const element = document.querySelector('#df-bd346f22-905d-4c85-985e-6985cea9607c');\n",
              "          const dataTable =\n",
              "            await google.colab.kernel.invokeFunction('convertToInteractive',\n",
              "                                                     [key], {});\n",
              "          if (!dataTable) return;\n",
              "\n",
              "          const docLinkHtml = 'Like what you see? Visit the ' +\n",
              "            '<a target=\"_blank\" href=https://colab.research.google.com/notebooks/data_table.ipynb>data table notebook</a>'\n",
              "            + ' to learn more about interactive tables.';\n",
              "          element.innerHTML = '';\n",
              "          dataTable['output_type'] = 'display_data';\n",
              "          await google.colab.output.renderOutput(dataTable, element);\n",
              "          const docLink = document.createElement('div');\n",
              "          docLink.innerHTML = docLinkHtml;\n",
              "          element.appendChild(docLink);\n",
              "        }\n",
              "      </script>\n",
              "    </div>\n",
              "  </div>\n",
              "  "
            ]
          },
          "metadata": {},
          "execution_count": 36
        }
      ]
    },
    {
      "cell_type": "code",
      "source": [
        "# Create D1 and D2 training and validation Datasets. This will tokenize the datasets on the fly\n",
        "d1_train_set= DisasterData(d_train_data, tokenizer, MAX_LEN)\n",
        "d1_val_set = DisasterData(d_val_data, tokenizer, MAX_LEN)\n",
        "\n",
        "d2_train_set= SentimentData(s_train_data, tokenizer, MAX_LEN)\n",
        "d2_val_set = SentimentData(s_val_data, tokenizer, MAX_LEN)"
      ],
      "metadata": {
        "execution": {
          "iopub.status.busy": "2023-04-05T13:56:03.550480Z",
          "iopub.execute_input": "2023-04-05T13:56:03.550905Z",
          "iopub.status.idle": "2023-04-05T13:56:03.561432Z",
          "shell.execute_reply.started": "2023-04-05T13:56:03.550865Z",
          "shell.execute_reply": "2023-04-05T13:56:03.560097Z"
        },
        "trusted": true,
        "id": "_EJ8mUztFKQf"
      },
      "execution_count": 37,
      "outputs": []
    },
    {
      "cell_type": "code",
      "source": [
        "# Create D1 and D2 dataloaders\n",
        "train_params = {'batch_size': TRAIN_BATCH_SIZE,\n",
        "                'shuffle': True,\n",
        "                'num_workers': 0\n",
        "                }\n",
        "\n",
        "test_params = {'batch_size': VALID_BATCH_SIZE,\n",
        "                'shuffle': False,\n",
        "                'num_workers': 0\n",
        "                }\n",
        "\n",
        "d1_train_loader = DataLoader(d1_train_set, **train_params)\n",
        "d1_val_loader = DataLoader(d1_val_set, **test_params)\n",
        "\n",
        "d2_train_loader = DataLoader(d2_train_set, **train_params)\n",
        "d2_val_loader = DataLoader(d2_val_set, **test_params)"
      ],
      "metadata": {
        "execution": {
          "iopub.status.busy": "2023-04-05T13:56:03.562680Z",
          "iopub.execute_input": "2023-04-05T13:56:03.563005Z",
          "iopub.status.idle": "2023-04-05T13:56:03.573745Z",
          "shell.execute_reply.started": "2023-04-05T13:56:03.562975Z",
          "shell.execute_reply": "2023-04-05T13:56:03.572540Z"
        },
        "trusted": true,
        "id": "UZgNsDNYFKQf"
      },
      "execution_count": 38,
      "outputs": []
    },
    {
      "cell_type": "markdown",
      "source": [
        "# II. Model Training #"
      ],
      "metadata": {
        "id": "86f9Jv-LFKQg"
      }
    },
    {
      "cell_type": "code",
      "source": [
        "# Final architecture to be used for Task 1 and Task 2\n",
        "class NetMultiTask(torch.nn.Module):\n",
        "    def __init__(self):\n",
        "        super(NetMultiTask, self).__init__()\n",
        "        self.net = RobertaModel.from_pretrained(\"roberta-base\")\n",
        "        \n",
        "        self.pre_classifier1 = torch.nn.Linear(768, 768)\n",
        "        self.dropout1 = torch.nn.Dropout(0.2)\n",
        "        self.classifier1 = torch.nn.Linear(768, 2)\n",
        "        \n",
        "        self.pre_classifier2 = torch.nn.Linear(768, 768)\n",
        "        self.dropout2 = torch.nn.Dropout(0.2)\n",
        "        self.classifier2 = torch.nn.Linear(768, 3)\n",
        "\n",
        "    def forward(self, input_ids, attention_mask, token_type_ids):\n",
        "        output_1 = self.net(input_ids=input_ids, attention_mask=attention_mask, token_type_ids=token_type_ids)\n",
        "        hidden_state = output_1[0]\n",
        "        pooler = hidden_state[:, 0]\n",
        "      \n",
        "        pooler1 = self.pre_classifier1(pooler)\n",
        "        pooler1 = torch.nn.ReLU()(pooler1)\n",
        "        pooler1 = self.dropout1(pooler1)\n",
        "        output1 = self.classifier1(pooler1)\n",
        "\n",
        "        pooler2 = self.pre_classifier2(pooler)\n",
        "        pooler2 = torch.nn.ReLU()(pooler2)\n",
        "        pooler2 = self.dropout2(pooler2)\n",
        "        output2 = self.classifier2(pooler2)\n",
        "        \n",
        "        return output1, output2"
      ],
      "metadata": {
        "id": "PopYuA22-7Ro"
      },
      "execution_count": 39,
      "outputs": []
    },
    {
      "cell_type": "markdown",
      "source": [
        "Liu, Y., Ott, M., Goyal, N., Du, J., Joshi, M., Chen, D., Levy, O., Lewis, M., Zettlemoyer, L., & Stoyanov, V. (2019). RoBERTa: A robustly optimized BERT pretraining approach. CoRR, abs/1907.11692."
      ],
      "metadata": {
        "id": "E3D_Alka6aAQ"
      }
    },
    {
      "cell_type": "markdown",
      "source": [
        "**Question**: Assume the model is deployed in a server within your news agency. Explain the inputs to the model and predictions that it is expected to output. Also explain how the predictions will be used by reporters."
      ],
      "metadata": {
        "id": "MKx2_cW9cr5x"
      }
    },
    {
      "cell_type": "markdown",
      "source": [
        "**Answer**:<br>\n",
        "<p>We are using the RoBERTa architecture in thie model above where we use its embeddings on two classifiers in the same neural network. The raw inputs to the model can be any text, but in this project's context it will be tweets on which the model will be trained on. The text must first be passed to RoBERTa's pre-trained tokenizer which will convert the text to the tensors and attention masks needed for the RoBERTa model. The tensors and attentioin masks will then pass through RoBERTa's architecture and we will use its last hidden state as word embeddings. The word embeddings will then be passed to two separate dense layers with different heads. The first will head has two outputs and the second head as three outputs.</p>\n",
        "<p>The first head can be used by reporters to classify a tweet if it's pertaining to a disaster or not. These can be used by reporters for example as an early warning system where the system can get tweets through the Twitter API, pass it through the model, predict the tweets, and then notifiy reporters if there are large amounts of disaster tweets happening in real time. This will enable them to respond and report on disasters quickly.</p>\n",
        "<p>The second head can be used by reporters and the news agency to gauge sentiment on their news/opinion articles released on twitter and then track its engagement. This can be done by setting up a sentiment analysis system using this model. The system can work by pulling replies or retweets from the reporters' tweets using the Twitter API, passing them through the model to get sentiment predictions, and then analyzing sentiment classes of the reporters' tweets."
      ],
      "metadata": {
        "id": "ayaPHWXHc_Fo"
      }
    },
    {
      "cell_type": "markdown",
      "source": [
        "# III. Neural Network Multi Task Learing #"
      ],
      "metadata": {
        "id": "55P6W8zvdJTg"
      }
    },
    {
      "cell_type": "markdown",
      "source": [
        "### Task 3.1 and Task 3.2 ###\n",
        "1. Train the model M only for T1 on Dtrain. Call the trained val 1\n",
        "model MD . Evaluate MD on D and report its 111\n",
        "performance metric (F1 score) for the first task, PerfT (MD |Dval). Also print the confusion matrix. ###\n",
        "\n",
        "2. Train the model M only for T2 on Dtrain . Call the trained\n",
        "model M . Evaluate the trained M2 on Dval and report D2 D2 2 val\n",
        "its performance metric (Accuracy) PerfT (MD |D Also print the confusion matrix."
      ],
      "metadata": {
        "id": "PTuJ_IH1gXyv"
      }
    },
    {
      "cell_type": "markdown",
      "source": [
        "#### Helper functions for the training and validation loops ####"
      ],
      "metadata": {
        "id": "lL3KXiaqdTNp"
      }
    },
    {
      "cell_type": "code",
      "source": [
        "def calcuate_accuracy(preds, targets):\n",
        "    n_correct = (preds==targets).sum().item()\n",
        "    return n_correct"
      ],
      "metadata": {
        "execution": {
          "iopub.status.busy": "2023-04-05T13:56:02.195329Z",
          "iopub.execute_input": "2023-04-05T13:56:02.195849Z",
          "iopub.status.idle": "2023-04-05T13:56:02.644063Z",
          "shell.execute_reply.started": "2023-04-05T13:56:02.195781Z",
          "shell.execute_reply": "2023-04-05T13:56:02.642940Z"
        },
        "trusted": true,
        "id": "ls13g2QrFKQX"
      },
      "execution_count": 40,
      "outputs": []
    },
    {
      "cell_type": "code",
      "source": [
        "def train(model, epoch, training_loader, mode):\n",
        "    tr_loss = 0\n",
        "    n_correct = 0\n",
        "    nb_tr_steps = 0\n",
        "    nb_tr_examples = 0\n",
        "    model.train()\n",
        "\n",
        "    \n",
        "    for _,data in enumerate(tqdm(training_loader, 0)):\n",
        "        ids = data['ids'].to(device, dtype = torch.long)\n",
        "        mask = data['mask'].to(device, dtype = torch.long)\n",
        "        token_type_ids = data['token_type_ids'].to(device, dtype = torch.long)\n",
        "        targets = data['targets'].to(device, dtype = torch.long)\n",
        "\n",
        "        output1, output2 = model(ids, mask, token_type_ids)\n",
        "\n",
        "        if mode == 1:\n",
        "            output = output1\n",
        "        elif mode == 2:\n",
        "            output = output2\n",
        "        else:\n",
        "            assert False, 'Bad Task ID passed'\n",
        "\n",
        "\n",
        "        loss = loss_function(output, targets)\n",
        "        tr_loss += loss.item()\n",
        "        big_val, big_idx = torch.max(output.data, dim=1)\n",
        "        n_correct += calcuate_accuracy(big_idx, targets)\n",
        "\n",
        "        nb_tr_steps += 1\n",
        "        nb_tr_examples+=targets.size(0)\n",
        "        \n",
        "        if _%5000==0:\n",
        "            loss_step = tr_loss/nb_tr_steps\n",
        "            accu_step = (n_correct*100)/nb_tr_examples \n",
        "            print(f\"Training Loss per 5000 steps: {loss_step}\")\n",
        "            print(f\"Training Accuracy per 5000 steps: {accu_step}\")\n",
        "\n",
        "        optimizer.zero_grad()\n",
        "        loss.backward()\n",
        "        # # When using GPU\n",
        "        optimizer.step()\n",
        "\n",
        "    print(f'The Total Accuracy for Epoch {epoch}: {(n_correct*100)/nb_tr_examples}')\n",
        "    epoch_loss = tr_loss/nb_tr_steps\n",
        "    epoch_accu = (n_correct*100)/nb_tr_examples\n",
        "    print(f\"Training Loss Epoch: {epoch_loss}\")\n",
        "    print(f\"Training Accuracy Epoch: {epoch_accu}\")\n",
        "    return\n",
        "\n",
        "def valid(model, testing_loader, mode):\n",
        "    model.eval()\n",
        "    #n_correct = 0; n_wrong = 0; total = 0; tr_loss=0; nb_tr_steps=0; nb_tr_examples=0\n",
        "    tr_loss=0\n",
        "    predicts = []\n",
        "\n",
        "    with torch.no_grad():\n",
        "        for _, data in enumerate(tqdm(testing_loader, 0)):\n",
        "            ids = data['ids'].to(device, dtype = torch.long)\n",
        "            mask = data['mask'].to(device, dtype = torch.long)\n",
        "            token_type_ids = data['token_type_ids'].to(device, dtype = torch.long)\n",
        "            targets = data['targets'].to(device, dtype = torch.long)\n",
        "\n",
        "            output1, output2 = model(ids, mask, token_type_ids)\n",
        "\n",
        "            if mode == 1:\n",
        "                output = output1\n",
        "            elif mode == 2:\n",
        "                output = output2\n",
        "            else:\n",
        "                assert False, 'Bad Task ID passed'\n",
        "\n",
        "            loss = loss_function(output, targets)\n",
        "            tr_loss += loss.item()\n",
        "            big_val, big_idx = torch.max(output.data, dim=1)\n",
        "            \n",
        "            for i in range(targets.size(0)):\n",
        "                predicts.append({\n",
        "                    \"predict\": big_idx[i].item(),\n",
        "                    \"target\": targets[i].item()\n",
        "                })\n",
        "    df = pd.DataFrame(predicts)\n",
        "    return df"
      ],
      "metadata": {
        "id": "aJBFApRfAAqV"
      },
      "execution_count": 41,
      "outputs": []
    },
    {
      "cell_type": "markdown",
      "source": [
        "#### Training code used ####"
      ],
      "metadata": {
        "id": "02IMtMT0f_LW"
      }
    },
    {
      "cell_type": "code",
      "source": [
        "# Specifying the learning rate for both tasks\n",
        "LEARNING_RATE = 1e-05"
      ],
      "metadata": {
        "execution": {
          "iopub.status.busy": "2023-04-05T13:56:38.651961Z",
          "iopub.execute_input": "2023-04-05T13:56:38.652397Z",
          "iopub.status.idle": "2023-04-05T13:56:38.658241Z",
          "shell.execute_reply.started": "2023-04-05T13:56:38.652359Z",
          "shell.execute_reply": "2023-04-05T13:56:38.656849Z"
        },
        "trusted": true,
        "id": "oNbFDjr6FKQg"
      },
      "execution_count": 42,
      "outputs": []
    },
    {
      "cell_type": "code",
      "source": [
        "## Train on first task. Commented out since training done outside of this notebook\n",
        "# net1 = NetMultiTask()\n",
        "# net1.to(device)\n",
        "# #for training only the classification layer\n",
        "\n",
        "# # for param in net1.net.parameters():\n",
        "# #     param.requires_grad = False\n",
        "\n",
        "# EPOCHS = 3\n",
        "# loss_function = torch.nn.CrossEntropyLoss()\n",
        "# optimizer = torch.optim.Adam(params = net1.parameters(), lr = LEARNING_RATE)\n",
        "# for epoch in range(EPOCHS):\n",
        "#     train(net1, epoch, d1_train_loader, mode = 1)\n",
        "\n",
        "# Getting validation predictions\n",
        "# predicts_d1  = valid(net1, d1_val_loader, mode = 1)\n"
      ],
      "metadata": {
        "execution": {
          "iopub.status.busy": "2023-04-05T13:56:38.899969Z",
          "iopub.execute_input": "2023-04-05T13:56:38.900404Z",
          "iopub.status.idle": "2023-04-05T14:14:55.538346Z",
          "shell.execute_reply.started": "2023-04-05T13:56:38.900367Z",
          "shell.execute_reply": "2023-04-05T14:14:55.535628Z"
        },
        "trusted": true,
        "id": "XR5hNjWbFKQg"
      },
      "execution_count": 43,
      "outputs": []
    },
    {
      "cell_type": "code",
      "source": [
        "## Train on first task. Commented out since training done outside of this notebook\n",
        "# net2 = NetMultiTask()\n",
        "# net2.to(device)\n",
        "\n",
        "# # for param in net2.net.parameters():\n",
        "# #     param.requires_grad = False\n",
        "\n",
        "# loss_function = torch.nn.CrossEntropyLoss()\n",
        "# optimizer = torch.optim.Adam(params = net2.parameters(), lr = LEARNING_RATE)\n",
        "# EPOCHS = 5\n",
        "# for epoch in range(EPOCHS):\n",
        "#     train(net2, epoch, d2_train_loader, mode = 2)\n",
        "\n",
        "# Getting validation predictions\n",
        "# predicts_d2  = valid(net2, d2_val_loader, mode = 2)"
      ],
      "metadata": {
        "execution": {
          "iopub.status.busy": "2023-04-05T14:14:55.539386Z",
          "iopub.status.idle": "2023-04-05T14:14:55.539936Z",
          "shell.execute_reply.started": "2023-04-05T14:14:55.539699Z",
          "shell.execute_reply": "2023-04-05T14:14:55.539734Z"
        },
        "trusted": true,
        "id": "udR3Dn00FKQg"
      },
      "execution_count": 44,
      "outputs": []
    },
    {
      "cell_type": "code",
      "source": [
        "# Code to save model so we can replicate the predictions\n",
        "# net1_bin = \"./net1.bin\"\n",
        "# net2_bin = \"./net2.bin\"\n",
        "\n",
        "# Saving models and validation predictions to local\n",
        "# predicts_d1.to_csv(\"./predicts_d1.csv\")\n",
        "# predicts_d2.to_csv(\"./predicts_d2.csv\")\n",
        "# torch.save(net1, net1_bin)\n",
        "# torch.save(net2, net2_bin)"
      ],
      "metadata": {
        "execution": {
          "iopub.status.busy": "2023-04-05T14:14:55.541840Z",
          "iopub.status.idle": "2023-04-05T14:14:55.542727Z",
          "shell.execute_reply.started": "2023-04-05T14:14:55.542395Z",
          "shell.execute_reply": "2023-04-05T14:14:55.542429Z"
        },
        "trusted": true,
        "id": "0dAqHB-LFKQg"
      },
      "execution_count": 45,
      "outputs": []
    },
    {
      "cell_type": "markdown",
      "source": [
        "#### Perfomance Metrics and Confusion Matrices ####"
      ],
      "metadata": {
        "id": "yRasxaAMgLtS"
      }
    },
    {
      "cell_type": "code",
      "source": [
        "# Loading the saved predictions for reporting metrics\n",
        "predicts_d1 = pd.read_csv(\"/content/drive/MyDrive/BT5151/group_project/predicts_d1_roberta_final.csv\", index_col=0)\n",
        "predicts_d2 = pd.read_csv(\"/content/drive/MyDrive/BT5151/group_project/predicts_d2_roberta_final.csv\", index_col=0)"
      ],
      "metadata": {
        "id": "SbZ_WYOPID72"
      },
      "execution_count": 46,
      "outputs": []
    },
    {
      "cell_type": "code",
      "source": [
        "print(classification_report(predicts_d1.target, predicts_d1.predict))\n",
        "print(f\"D1 F1: {f1_score(predicts_d1.target, predicts_d1.predict)}\\n\"\n",
        "      f\"D1 Accuracy: {accuracy_score(predicts_d1.target, predicts_d1.predict)}\\n\")"
      ],
      "metadata": {
        "execution": {
          "iopub.status.busy": "2023-04-05T14:14:55.545023Z",
          "iopub.status.idle": "2023-04-05T14:14:55.545706Z",
          "shell.execute_reply.started": "2023-04-05T14:14:55.545387Z",
          "shell.execute_reply": "2023-04-05T14:14:55.545420Z"
        },
        "trusted": true,
        "colab": {
          "base_uri": "https://localhost:8080/"
        },
        "id": "zii3W3YiFKQg",
        "outputId": "a7671ab4-4083-475a-96ba-e48156793607"
      },
      "execution_count": 47,
      "outputs": [
        {
          "output_type": "stream",
          "name": "stdout",
          "text": [
            "              precision    recall  f1-score   support\n",
            "\n",
            "           0       0.86      0.86      0.86       869\n",
            "           1       0.81      0.81      0.81       654\n",
            "\n",
            "    accuracy                           0.84      1523\n",
            "   macro avg       0.83      0.83      0.83      1523\n",
            "weighted avg       0.84      0.84      0.84      1523\n",
            "\n",
            "D1 F1: 0.8091603053435114\n",
            "D1 Accuracy: 0.8358502954694682\n",
            "\n"
          ]
        }
      ]
    },
    {
      "cell_type": "code",
      "source": [
        "cm_d1 = confusion_matrix(predicts_d1.target, predicts_d1.predict)\n",
        "disp = ConfusionMatrixDisplay(confusion_matrix=cm_d1, display_labels=['not disaster', 'disaster'])\n",
        "disp.plot()\n",
        "plt.show()"
      ],
      "metadata": {
        "colab": {
          "base_uri": "https://localhost:8080/",
          "height": 449
        },
        "id": "sdVPl1rfFKQg",
        "outputId": "825078eb-6de5-40ee-b477-bebde9d503d9"
      },
      "execution_count": 48,
      "outputs": [
        {
          "output_type": "display_data",
          "data": {
            "text/plain": [
              "<Figure size 640x480 with 2 Axes>"
            ],
            "image/png": "[encoded data removed]"
          },
          "metadata": {}
        }
      ]
    },
    {
      "cell_type": "code",
      "source": [
        "print(classification_report(predicts_d2.target, predicts_d2.predict))\n",
        "print(f\"D2 F1: {f1_score(predicts_d2.target, predicts_d2.predict, average='weighted')}\\n\"\n",
        "      f\"D2 Accuracy: {accuracy_score(predicts_d2.target, predicts_d2.predict)}\\n\")"
      ],
      "metadata": {
        "colab": {
          "base_uri": "https://localhost:8080/"
        },
        "id": "1Ngor95-doZW",
        "outputId": "bb727712-6337-48f5-a26a-e753005ef7af"
      },
      "execution_count": 49,
      "outputs": [
        {
          "output_type": "stream",
          "name": "stdout",
          "text": [
            "              precision    recall  f1-score   support\n",
            "\n",
            "           0       0.75      0.73      0.74      2223\n",
            "           1       0.77      0.80      0.78      1556\n",
            "           2       0.83      0.83      0.83      1717\n",
            "\n",
            "    accuracy                           0.78      5496\n",
            "   macro avg       0.78      0.78      0.78      5496\n",
            "weighted avg       0.78      0.78      0.78      5496\n",
            "\n",
            "D2 F1: 0.7781284760442189\n",
            "D2 Accuracy: 0.7783842794759825\n",
            "\n"
          ]
        }
      ]
    },
    {
      "cell_type": "code",
      "source": [
        "cm_d2 = confusion_matrix(predicts_d2.target, predicts_d2.predict)\n",
        "disp = ConfusionMatrixDisplay(confusion_matrix=cm_d2, display_labels=['neutral', 'negative','positive'])\n",
        "disp.plot()\n",
        "plt.show()"
      ],
      "metadata": {
        "colab": {
          "base_uri": "https://localhost:8080/",
          "height": 450
        },
        "id": "wdfDXnO6Hxm-",
        "outputId": "f6851fa8-5626-4ea8-fb20-1278d20eba3c"
      },
      "execution_count": 50,
      "outputs": [
        {
          "output_type": "display_data",
          "data": {
            "text/plain": [
              "<Figure size 640x480 with 2 Axes>"
            ],
            "image/png": "[encoded data removed]"
          },
          "metadata": {}
        }
      ]
    },
    {
      "cell_type": "markdown",
      "source": [
        "### Task 3.3 ###\n",
        "Estimate the sentiment labels for the tweets in D1"
      ],
      "metadata": {
        "id": "HwqpkPesHcgr"
      }
    },
    {
      "cell_type": "code",
      "source": [
        "model_path = \"/content/drive/MyDrive/BT5151/group_project/roberta_d2_final.bin\" \n",
        "model_d2 = torch.load(model_path, map_location=device)"
      ],
      "metadata": {
        "id": "iIjFHZs5QQ6l"
      },
      "execution_count": 52,
      "outputs": []
    },
    {
      "cell_type": "code",
      "source": [
        "data_quality(d_val_data)"
      ],
      "metadata": {
        "id": "RwMokFd6RLO5",
        "colab": {
          "base_uri": "https://localhost:8080/",
          "height": 112
        },
        "outputId": "3da23944-4f7b-4c51-c7c8-d677b9a9c3da"
      },
      "execution_count": 55,
      "outputs": [
        {
          "output_type": "execute_result",
          "data": {
            "text/plain": [
              "        Present Values  Missing Values  Unique Values\n",
              "text              1523               0           1517\n",
              "target            1523               0              2"
            ],
            "text/html": [
              "\n",
              "  <div id=\"df-1eef479e-cde4-4293-8f09-860435607155\">\n",
              "    <div class=\"colab-df-container\">\n",
              "      <div>\n",
              "<style scoped>\n",
              "    .dataframe tbody tr th:only-of-type {\n",
              "        vertical-align: middle;\n",
              "    }\n",
              "\n",
              "    .dataframe tbody tr th {\n",
              "        vertical-align: top;\n",
              "    }\n",
              "\n",
              "    .dataframe thead th {\n",
              "        text-align: right;\n",
              "    }\n",
              "</style>\n",
              "<table border=\"1\" class=\"dataframe\">\n",
              "  <thead>\n",
              "    <tr style=\"text-align: right;\">\n",
              "      <th></th>\n",
              "      <th>Present Values</th>\n",
              "      <th>Missing Values</th>\n",
              "      <th>Unique Values</th>\n",
              "    </tr>\n",
              "  </thead>\n",
              "  <tbody>\n",
              "    <tr>\n",
              "      <th>text</th>\n",
              "      <td>1523</td>\n",
              "      <td>0</td>\n",
              "      <td>1517</td>\n",
              "    </tr>\n",
              "    <tr>\n",
              "      <th>target</th>\n",
              "      <td>1523</td>\n",
              "      <td>0</td>\n",
              "      <td>2</td>\n",
              "    </tr>\n",
              "  </tbody>\n",
              "</table>\n",
              "</div>\n",
              "      <button class=\"colab-df-convert\" onclick=\"convertToInteractive('df-1eef479e-cde4-4293-8f09-860435607155')\"\n",
              "              title=\"Convert this dataframe to an interactive table.\"\n",
              "              style=\"display:none;\">\n",
              "        \n",
              "  <svg xmlns=\"http://www.w3.org/2000/svg\" height=\"24px\"viewBox=\"0 0 24 24\"\n",
              "       width=\"24px\">\n",
              "    <path d=\"M0 0h24v24H0V0z\" fill=\"none\"/>\n",
              "    <path d=\"M18.56 5.44l.94 2.06.94-2.06 2.06-.94-2.06-.94-.94-2.06-.94 2.06-2.06.94zm-11 1L8.5 8.5l.94-2.06 2.06-.94-2.06-.94L8.5 2.5l-.94 2.06-2.06.94zm10 10l.94 2.06.94-2.06 2.06-.94-2.06-.94-.94-2.06-.94 2.06-2.06.94z\"/><path d=\"M17.41 7.96l-1.37-1.37c-.4-.4-.92-.59-1.43-.59-.52 0-1.04.2-1.43.59L10.3 9.45l-7.72 7.72c-.78.78-.78 2.05 0 2.83L4 21.41c.39.39.9.59 1.41.59.51 0 1.02-.2 1.41-.59l7.78-7.78 2.81-2.81c.8-.78.8-2.07 0-2.86zM5.41 20L4 18.59l7.72-7.72 1.47 1.35L5.41 20z\"/>\n",
              "  </svg>\n",
              "      </button>\n",
              "      \n",
              "  <style>\n",
              "    .colab-df-container {\n",
              "      display:flex;\n",
              "      flex-wrap:wrap;\n",
              "      gap: 12px;\n",
              "    }\n",
              "\n",
              "    .colab-df-convert {\n",
              "      background-color: #E8F0FE;\n",
              "      border: none;\n",
              "      border-radius: 50%;\n",
              "      cursor: pointer;\n",
              "      display: none;\n",
              "      fill: #1967D2;\n",
              "      height: 32px;\n",
              "      padding: 0 0 0 0;\n",
              "      width: 32px;\n",
              "    }\n",
              "\n",
              "    .colab-df-convert:hover {\n",
              "      background-color: #E2EBFA;\n",
              "      box-shadow: 0px 1px 2px rgba(60, 64, 67, 0.3), 0px 1px 3px 1px rgba(60, 64, 67, 0.15);\n",
              "      fill: #174EA6;\n",
              "    }\n",
              "\n",
              "    [theme=dark] .colab-df-convert {\n",
              "      background-color: #3B4455;\n",
              "      fill: #D2E3FC;\n",
              "    }\n",
              "\n",
              "    [theme=dark] .colab-df-convert:hover {\n",
              "      background-color: #434B5C;\n",
              "      box-shadow: 0px 1px 3px 1px rgba(0, 0, 0, 0.15);\n",
              "      filter: drop-shadow(0px 1px 2px rgba(0, 0, 0, 0.3));\n",
              "      fill: #FFFFFF;\n",
              "    }\n",
              "  </style>\n",
              "\n",
              "      <script>\n",
              "        const buttonEl =\n",
              "          document.querySelector('#df-1eef479e-cde4-4293-8f09-860435607155 button.colab-df-convert');\n",
              "        buttonEl.style.display =\n",
              "          google.colab.kernel.accessAllowed ? 'block' : 'none';\n",
              "\n",
              "        async function convertToInteractive(key) {\n",
              "          const element = document.querySelector('#df-1eef479e-cde4-4293-8f09-860435607155');\n",
              "          const dataTable =\n",
              "            await google.colab.kernel.invokeFunction('convertToInteractive',\n",
              "                                                     [key], {});\n",
              "          if (!dataTable) return;\n",
              "\n",
              "          const docLinkHtml = 'Like what you see? Visit the ' +\n",
              "            '<a target=\"_blank\" href=https://colab.research.google.com/notebooks/data_table.ipynb>data table notebook</a>'\n",
              "            + ' to learn more about interactive tables.';\n",
              "          element.innerHTML = '';\n",
              "          dataTable['output_type'] = 'display_data';\n",
              "          await google.colab.output.renderOutput(dataTable, element);\n",
              "          const docLink = document.createElement('div');\n",
              "          docLink.innerHTML = docLinkHtml;\n",
              "          element.appendChild(docLink);\n",
              "        }\n",
              "      </script>\n",
              "    </div>\n",
              "  </div>\n",
              "  "
            ]
          },
          "metadata": {},
          "execution_count": 55
        }
      ]
    },
    {
      "cell_type": "code",
      "source": [
        "d1_train_infer = SentimentData(d_train_data, tokenizer, MAX_LEN)\n",
        "d1_val_infer = SentimentData(d_val_data, tokenizer, MAX_LEN)"
      ],
      "metadata": {
        "id": "72WmaMPtRMrk"
      },
      "execution_count": 56,
      "outputs": []
    },
    {
      "cell_type": "code",
      "source": [
        "test_params = {'batch_size': VALID_BATCH_SIZE,\n",
        "                'shuffle': False,\n",
        "                'num_workers': 0\n",
        "                }\n",
        "d1_train_inferloader = DataLoader(d1_train_infer, **test_params)\n",
        "d1_val_inferloader = DataLoader(d1_val_infer, **test_params)"
      ],
      "metadata": {
        "id": "6t9nq_xDRmWJ"
      },
      "execution_count": 57,
      "outputs": []
    },
    {
      "cell_type": "code",
      "source": [
        "loss_function = torch.nn.CrossEntropyLoss()\n",
        "optimizer = torch.optim.Adam(params = model_d2.parameters(), lr = LEARNING_RATE)\n",
        "predicts_d1_train_infer = valid(model_d2, d1_train_inferloader, mode=2)\n",
        "predicts_d1_val_infer = valid(model_d2, d1_val_inferloader, mode=2)"
      ],
      "metadata": {
        "id": "OIdUb25lSBrl",
        "colab": {
          "base_uri": "https://localhost:8080/"
        },
        "outputId": "5ef4e856-50a8-4f3d-e599-9567f32aa46f"
      },
      "execution_count": 59,
      "outputs": [
        {
          "output_type": "stream",
          "name": "stderr",
          "text": [
            "100%|██████████| 191/191 [03:04<00:00,  1.04it/s]\n",
            "100%|██████████| 48/48 [00:47<00:00,  1.00it/s]\n"
          ]
        }
      ]
    },
    {
      "cell_type": "code",
      "source": [
        "print(f\"D1 Train Sentiment:\\n{predicts_d1_train_infer['predict'].value_counts()}\\n\"\n",
        "f\"D1 Val Sentiment:\\n{predicts_d1_val_infer['predict'].value_counts()}\")"
      ],
      "metadata": {
        "id": "BMdEWCsrSQzC",
        "colab": {
          "base_uri": "https://localhost:8080/"
        },
        "outputId": "dba6cd6f-6171-4737-8ca1-d14d2a1416a7"
      },
      "execution_count": 61,
      "outputs": [
        {
          "output_type": "stream",
          "name": "stdout",
          "text": [
            "D1 Train Sentiment:\n",
            "0    3146\n",
            "1    2318\n",
            "2     626\n",
            "Name: predict, dtype: int64\n",
            "D1 Val Sentiment:\n",
            "0    792\n",
            "1    580\n",
            "2    151\n",
            "Name: predict, dtype: int64\n"
          ]
        }
      ]
    },
    {
      "cell_type": "code",
      "source": [
        "predicts_d1_train_infer.drop(columns='target', inplace=True)\n",
        "predicts_d1_val_infer.drop(columns='target', inplace=True)"
      ],
      "metadata": {
        "id": "B48tV4G5TNUN"
      },
      "execution_count": 62,
      "outputs": []
    },
    {
      "cell_type": "code",
      "source": [
        "d1_train_augment = d_train_data.merge(predicts_d1_train_infer, left_index=True, right_index=True)\n",
        "d1_train_augment.rename({'predict': 'sentiment'}, axis =1, inplace=True)\n",
        "d1_val_augment = d_val_data.merge(predicts_d1_val_infer, left_index=True, right_index=True)\n",
        "d1_val_augment.rename({'predict': 'sentiment'}, axis =1, inplace=True)"
      ],
      "metadata": {
        "id": "0ItNr_DATq8y"
      },
      "execution_count": 63,
      "outputs": []
    },
    {
      "cell_type": "code",
      "source": [
        "print(f\"D1 Train Augmented: {d1_train_augment.shape}\\nD1 Val Augmented: {d1_val_augment.shape}\")"
      ],
      "metadata": {
        "id": "S3HymLXPUBo7",
        "colab": {
          "base_uri": "https://localhost:8080/"
        },
        "outputId": "8f87aa60-6f3a-4a39-df0e-f3aba5358656"
      },
      "execution_count": 67,
      "outputs": [
        {
          "output_type": "stream",
          "name": "stdout",
          "text": [
            "D1 Train Augmented: (6090, 3)\n",
            "D1 Val Augmented: (1523, 3)\n"
          ]
        }
      ]
    },
    {
      "cell_type": "code",
      "source": [
        "d1_train_augment.head()"
      ],
      "metadata": {
        "id": "9ts3OwleUG65",
        "colab": {
          "base_uri": "https://localhost:8080/",
          "height": 206
        },
        "outputId": "598c5130-695a-4836-bfe7-2575b8c17c20"
      },
      "execution_count": 68,
      "outputs": [
        {
          "output_type": "execute_result",
          "data": {
            "text/plain": [
              "                                                text  target  sentiment\n",
              "0  Ancient Mayan Tablet found via http://t.co/LmU...       0          0\n",
              "1  Incredulous at continued outcry of welfare bei...       1          1\n",
              "2  Hi yall this poem is called is the one about t...       0          2\n",
              "3  The Police Chief assured the crowd that this o...       1          0\n",
              "4  Learning from the Legacy of a Catastrophic Eru...       1          0"
            ],
            "text/html": [
              "\n",
              "  <div id=\"df-e1372382-b988-45c5-b341-1ec5061c7218\">\n",
              "    <div class=\"colab-df-container\">\n",
              "      <div>\n",
              "<style scoped>\n",
              "    .dataframe tbody tr th:only-of-type {\n",
              "        vertical-align: middle;\n",
              "    }\n",
              "\n",
              "    .dataframe tbody tr th {\n",
              "        vertical-align: top;\n",
              "    }\n",
              "\n",
              "    .dataframe thead th {\n",
              "        text-align: right;\n",
              "    }\n",
              "</style>\n",
              "<table border=\"1\" class=\"dataframe\">\n",
              "  <thead>\n",
              "    <tr style=\"text-align: right;\">\n",
              "      <th></th>\n",
              "      <th>text</th>\n",
              "      <th>target</th>\n",
              "      <th>sentiment</th>\n",
              "    </tr>\n",
              "  </thead>\n",
              "  <tbody>\n",
              "    <tr>\n",
              "      <th>0</th>\n",
              "      <td>Ancient Mayan Tablet found via http://t.co/LmU...</td>\n",
              "      <td>0</td>\n",
              "      <td>0</td>\n",
              "    </tr>\n",
              "    <tr>\n",
              "      <th>1</th>\n",
              "      <td>Incredulous at continued outcry of welfare bei...</td>\n",
              "      <td>1</td>\n",
              "      <td>1</td>\n",
              "    </tr>\n",
              "    <tr>\n",
              "      <th>2</th>\n",
              "      <td>Hi yall this poem is called is the one about t...</td>\n",
              "      <td>0</td>\n",
              "      <td>2</td>\n",
              "    </tr>\n",
              "    <tr>\n",
              "      <th>3</th>\n",
              "      <td>The Police Chief assured the crowd that this o...</td>\n",
              "      <td>1</td>\n",
              "      <td>0</td>\n",
              "    </tr>\n",
              "    <tr>\n",
              "      <th>4</th>\n",
              "      <td>Learning from the Legacy of a Catastrophic Eru...</td>\n",
              "      <td>1</td>\n",
              "      <td>0</td>\n",
              "    </tr>\n",
              "  </tbody>\n",
              "</table>\n",
              "</div>\n",
              "      <button class=\"colab-df-convert\" onclick=\"convertToInteractive('df-e1372382-b988-45c5-b341-1ec5061c7218')\"\n",
              "              title=\"Convert this dataframe to an interactive table.\"\n",
              "              style=\"display:none;\">\n",
              "        \n",
              "  <svg xmlns=\"http://www.w3.org/2000/svg\" height=\"24px\"viewBox=\"0 0 24 24\"\n",
              "       width=\"24px\">\n",
              "    <path d=\"M0 0h24v24H0V0z\" fill=\"none\"/>\n",
              "    <path d=\"M18.56 5.44l.94 2.06.94-2.06 2.06-.94-2.06-.94-.94-2.06-.94 2.06-2.06.94zm-11 1L8.5 8.5l.94-2.06 2.06-.94-2.06-.94L8.5 2.5l-.94 2.06-2.06.94zm10 10l.94 2.06.94-2.06 2.06-.94-2.06-.94-.94-2.06-.94 2.06-2.06.94z\"/><path d=\"M17.41 7.96l-1.37-1.37c-.4-.4-.92-.59-1.43-.59-.52 0-1.04.2-1.43.59L10.3 9.45l-7.72 7.72c-.78.78-.78 2.05 0 2.83L4 21.41c.39.39.9.59 1.41.59.51 0 1.02-.2 1.41-.59l7.78-7.78 2.81-2.81c.8-.78.8-2.07 0-2.86zM5.41 20L4 18.59l7.72-7.72 1.47 1.35L5.41 20z\"/>\n",
              "  </svg>\n",
              "      </button>\n",
              "      \n",
              "  <style>\n",
              "    .colab-df-container {\n",
              "      display:flex;\n",
              "      flex-wrap:wrap;\n",
              "      gap: 12px;\n",
              "    }\n",
              "\n",
              "    .colab-df-convert {\n",
              "      background-color: #E8F0FE;\n",
              "      border: none;\n",
              "      border-radius: 50%;\n",
              "      cursor: pointer;\n",
              "      display: none;\n",
              "      fill: #1967D2;\n",
              "      height: 32px;\n",
              "      padding: 0 0 0 0;\n",
              "      width: 32px;\n",
              "    }\n",
              "\n",
              "    .colab-df-convert:hover {\n",
              "      background-color: #E2EBFA;\n",
              "      box-shadow: 0px 1px 2px rgba(60, 64, 67, 0.3), 0px 1px 3px 1px rgba(60, 64, 67, 0.15);\n",
              "      fill: #174EA6;\n",
              "    }\n",
              "\n",
              "    [theme=dark] .colab-df-convert {\n",
              "      background-color: #3B4455;\n",
              "      fill: #D2E3FC;\n",
              "    }\n",
              "\n",
              "    [theme=dark] .colab-df-convert:hover {\n",
              "      background-color: #434B5C;\n",
              "      box-shadow: 0px 1px 3px 1px rgba(0, 0, 0, 0.15);\n",
              "      filter: drop-shadow(0px 1px 2px rgba(0, 0, 0, 0.3));\n",
              "      fill: #FFFFFF;\n",
              "    }\n",
              "  </style>\n",
              "\n",
              "      <script>\n",
              "        const buttonEl =\n",
              "          document.querySelector('#df-e1372382-b988-45c5-b341-1ec5061c7218 button.colab-df-convert');\n",
              "        buttonEl.style.display =\n",
              "          google.colab.kernel.accessAllowed ? 'block' : 'none';\n",
              "\n",
              "        async function convertToInteractive(key) {\n",
              "          const element = document.querySelector('#df-e1372382-b988-45c5-b341-1ec5061c7218');\n",
              "          const dataTable =\n",
              "            await google.colab.kernel.invokeFunction('convertToInteractive',\n",
              "                                                     [key], {});\n",
              "          if (!dataTable) return;\n",
              "\n",
              "          const docLinkHtml = 'Like what you see? Visit the ' +\n",
              "            '<a target=\"_blank\" href=https://colab.research.google.com/notebooks/data_table.ipynb>data table notebook</a>'\n",
              "            + ' to learn more about interactive tables.';\n",
              "          element.innerHTML = '';\n",
              "          dataTable['output_type'] = 'display_data';\n",
              "          await google.colab.output.renderOutput(dataTable, element);\n",
              "          const docLink = document.createElement('div');\n",
              "          docLink.innerHTML = docLinkHtml;\n",
              "          element.appendChild(docLink);\n",
              "        }\n",
              "      </script>\n",
              "    </div>\n",
              "  </div>\n",
              "  "
            ]
          },
          "metadata": {},
          "execution_count": 68
        }
      ]
    },
    {
      "cell_type": "code",
      "source": [
        "d1_val_augment.head()"
      ],
      "metadata": {
        "colab": {
          "base_uri": "https://localhost:8080/",
          "height": 206
        },
        "id": "TwMTNq-LuK9R",
        "outputId": "9d43c80f-4252-4470-a6d3-856520dbd94f"
      },
      "execution_count": 69,
      "outputs": [
        {
          "output_type": "execute_result",
          "data": {
            "text/plain": [
              "                                                text  target  sentiment\n",
              "0  @BobbyofHomewood @JOXRoundtable as in dropping...       0          0\n",
              "1  Wreckage 'conclusively confirmed' as from miss...       1          0\n",
              "2  ??One night and we're gonna come and crash the...       0          1\n",
              "3  Greedy bastards @Fullscreen way to ruin creati...       0          1\n",
              "4  Dakota Skye gets horny with some porn then get...       0          0"
            ],
            "text/html": [
              "\n",
              "  <div id=\"df-763deb0c-ae83-44e1-939b-6e4b7c8b9499\">\n",
              "    <div class=\"colab-df-container\">\n",
              "      <div>\n",
              "<style scoped>\n",
              "    .dataframe tbody tr th:only-of-type {\n",
              "        vertical-align: middle;\n",
              "    }\n",
              "\n",
              "    .dataframe tbody tr th {\n",
              "        vertical-align: top;\n",
              "    }\n",
              "\n",
              "    .dataframe thead th {\n",
              "        text-align: right;\n",
              "    }\n",
              "</style>\n",
              "<table border=\"1\" class=\"dataframe\">\n",
              "  <thead>\n",
              "    <tr style=\"text-align: right;\">\n",
              "      <th></th>\n",
              "      <th>text</th>\n",
              "      <th>target</th>\n",
              "      <th>sentiment</th>\n",
              "    </tr>\n",
              "  </thead>\n",
              "  <tbody>\n",
              "    <tr>\n",
              "      <th>0</th>\n",
              "      <td>@BobbyofHomewood @JOXRoundtable as in dropping...</td>\n",
              "      <td>0</td>\n",
              "      <td>0</td>\n",
              "    </tr>\n",
              "    <tr>\n",
              "      <th>1</th>\n",
              "      <td>Wreckage 'conclusively confirmed' as from miss...</td>\n",
              "      <td>1</td>\n",
              "      <td>0</td>\n",
              "    </tr>\n",
              "    <tr>\n",
              "      <th>2</th>\n",
              "      <td>??One night and we're gonna come and crash the...</td>\n",
              "      <td>0</td>\n",
              "      <td>1</td>\n",
              "    </tr>\n",
              "    <tr>\n",
              "      <th>3</th>\n",
              "      <td>Greedy bastards @Fullscreen way to ruin creati...</td>\n",
              "      <td>0</td>\n",
              "      <td>1</td>\n",
              "    </tr>\n",
              "    <tr>\n",
              "      <th>4</th>\n",
              "      <td>Dakota Skye gets horny with some porn then get...</td>\n",
              "      <td>0</td>\n",
              "      <td>0</td>\n",
              "    </tr>\n",
              "  </tbody>\n",
              "</table>\n",
              "</div>\n",
              "      <button class=\"colab-df-convert\" onclick=\"convertToInteractive('df-763deb0c-ae83-44e1-939b-6e4b7c8b9499')\"\n",
              "              title=\"Convert this dataframe to an interactive table.\"\n",
              "              style=\"display:none;\">\n",
              "        \n",
              "  <svg xmlns=\"http://www.w3.org/2000/svg\" height=\"24px\"viewBox=\"0 0 24 24\"\n",
              "       width=\"24px\">\n",
              "    <path d=\"M0 0h24v24H0V0z\" fill=\"none\"/>\n",
              "    <path d=\"M18.56 5.44l.94 2.06.94-2.06 2.06-.94-2.06-.94-.94-2.06-.94 2.06-2.06.94zm-11 1L8.5 8.5l.94-2.06 2.06-.94-2.06-.94L8.5 2.5l-.94 2.06-2.06.94zm10 10l.94 2.06.94-2.06 2.06-.94-2.06-.94-.94-2.06-.94 2.06-2.06.94z\"/><path d=\"M17.41 7.96l-1.37-1.37c-.4-.4-.92-.59-1.43-.59-.52 0-1.04.2-1.43.59L10.3 9.45l-7.72 7.72c-.78.78-.78 2.05 0 2.83L4 21.41c.39.39.9.59 1.41.59.51 0 1.02-.2 1.41-.59l7.78-7.78 2.81-2.81c.8-.78.8-2.07 0-2.86zM5.41 20L4 18.59l7.72-7.72 1.47 1.35L5.41 20z\"/>\n",
              "  </svg>\n",
              "      </button>\n",
              "      \n",
              "  <style>\n",
              "    .colab-df-container {\n",
              "      display:flex;\n",
              "      flex-wrap:wrap;\n",
              "      gap: 12px;\n",
              "    }\n",
              "\n",
              "    .colab-df-convert {\n",
              "      background-color: #E8F0FE;\n",
              "      border: none;\n",
              "      border-radius: 50%;\n",
              "      cursor: pointer;\n",
              "      display: none;\n",
              "      fill: #1967D2;\n",
              "      height: 32px;\n",
              "      padding: 0 0 0 0;\n",
              "      width: 32px;\n",
              "    }\n",
              "\n",
              "    .colab-df-convert:hover {\n",
              "      background-color: #E2EBFA;\n",
              "      box-shadow: 0px 1px 2px rgba(60, 64, 67, 0.3), 0px 1px 3px 1px rgba(60, 64, 67, 0.15);\n",
              "      fill: #174EA6;\n",
              "    }\n",
              "\n",
              "    [theme=dark] .colab-df-convert {\n",
              "      background-color: #3B4455;\n",
              "      fill: #D2E3FC;\n",
              "    }\n",
              "\n",
              "    [theme=dark] .colab-df-convert:hover {\n",
              "      background-color: #434B5C;\n",
              "      box-shadow: 0px 1px 3px 1px rgba(0, 0, 0, 0.15);\n",
              "      filter: drop-shadow(0px 1px 2px rgba(0, 0, 0, 0.3));\n",
              "      fill: #FFFFFF;\n",
              "    }\n",
              "  </style>\n",
              "\n",
              "      <script>\n",
              "        const buttonEl =\n",
              "          document.querySelector('#df-763deb0c-ae83-44e1-939b-6e4b7c8b9499 button.colab-df-convert');\n",
              "        buttonEl.style.display =\n",
              "          google.colab.kernel.accessAllowed ? 'block' : 'none';\n",
              "\n",
              "        async function convertToInteractive(key) {\n",
              "          const element = document.querySelector('#df-763deb0c-ae83-44e1-939b-6e4b7c8b9499');\n",
              "          const dataTable =\n",
              "            await google.colab.kernel.invokeFunction('convertToInteractive',\n",
              "                                                     [key], {});\n",
              "          if (!dataTable) return;\n",
              "\n",
              "          const docLinkHtml = 'Like what you see? Visit the ' +\n",
              "            '<a target=\"_blank\" href=https://colab.research.google.com/notebooks/data_table.ipynb>data table notebook</a>'\n",
              "            + ' to learn more about interactive tables.';\n",
              "          element.innerHTML = '';\n",
              "          dataTable['output_type'] = 'display_data';\n",
              "          await google.colab.output.renderOutput(dataTable, element);\n",
              "          const docLink = document.createElement('div');\n",
              "          docLink.innerHTML = docLinkHtml;\n",
              "          element.appendChild(docLink);\n",
              "        }\n",
              "      </script>\n",
              "    </div>\n",
              "  </div>\n",
              "  "
            ]
          },
          "metadata": {},
          "execution_count": 69
        }
      ]
    },
    {
      "cell_type": "code",
      "source": [
        "d1_augment = pd.concat([d1_train_augment, d1_val_augment], ignore_index= True)"
      ],
      "metadata": {
        "id": "nCaw6gcRuSc-"
      },
      "execution_count": 70,
      "outputs": []
    },
    {
      "cell_type": "code",
      "source": [
        "d1_augment.head()"
      ],
      "metadata": {
        "colab": {
          "base_uri": "https://localhost:8080/",
          "height": 206
        },
        "id": "0c99NkQMjHv1",
        "outputId": "1d13c82a-6473-428c-800e-df9417154f45"
      },
      "execution_count": 73,
      "outputs": [
        {
          "output_type": "execute_result",
          "data": {
            "text/plain": [
              "                                                text  target  sentiment\n",
              "0  Ancient Mayan Tablet found via http://t.co/LmU...       0          0\n",
              "1  Incredulous at continued outcry of welfare bei...       1          1\n",
              "2  Hi yall this poem is called is the one about t...       0          2\n",
              "3  The Police Chief assured the crowd that this o...       1          0\n",
              "4  Learning from the Legacy of a Catastrophic Eru...       1          0"
            ],
            "text/html": [
              "\n",
              "  <div id=\"df-46765bfb-b8b4-4eec-b34a-1b87d1a10648\">\n",
              "    <div class=\"colab-df-container\">\n",
              "      <div>\n",
              "<style scoped>\n",
              "    .dataframe tbody tr th:only-of-type {\n",
              "        vertical-align: middle;\n",
              "    }\n",
              "\n",
              "    .dataframe tbody tr th {\n",
              "        vertical-align: top;\n",
              "    }\n",
              "\n",
              "    .dataframe thead th {\n",
              "        text-align: right;\n",
              "    }\n",
              "</style>\n",
              "<table border=\"1\" class=\"dataframe\">\n",
              "  <thead>\n",
              "    <tr style=\"text-align: right;\">\n",
              "      <th></th>\n",
              "      <th>text</th>\n",
              "      <th>target</th>\n",
              "      <th>sentiment</th>\n",
              "    </tr>\n",
              "  </thead>\n",
              "  <tbody>\n",
              "    <tr>\n",
              "      <th>0</th>\n",
              "      <td>Ancient Mayan Tablet found via http://t.co/LmU...</td>\n",
              "      <td>0</td>\n",
              "      <td>0</td>\n",
              "    </tr>\n",
              "    <tr>\n",
              "      <th>1</th>\n",
              "      <td>Incredulous at continued outcry of welfare bei...</td>\n",
              "      <td>1</td>\n",
              "      <td>1</td>\n",
              "    </tr>\n",
              "    <tr>\n",
              "      <th>2</th>\n",
              "      <td>Hi yall this poem is called is the one about t...</td>\n",
              "      <td>0</td>\n",
              "      <td>2</td>\n",
              "    </tr>\n",
              "    <tr>\n",
              "      <th>3</th>\n",
              "      <td>The Police Chief assured the crowd that this o...</td>\n",
              "      <td>1</td>\n",
              "      <td>0</td>\n",
              "    </tr>\n",
              "    <tr>\n",
              "      <th>4</th>\n",
              "      <td>Learning from the Legacy of a Catastrophic Eru...</td>\n",
              "      <td>1</td>\n",
              "      <td>0</td>\n",
              "    </tr>\n",
              "  </tbody>\n",
              "</table>\n",
              "</div>\n",
              "      <button class=\"colab-df-convert\" onclick=\"convertToInteractive('df-46765bfb-b8b4-4eec-b34a-1b87d1a10648')\"\n",
              "              title=\"Convert this dataframe to an interactive table.\"\n",
              "              style=\"display:none;\">\n",
              "        \n",
              "  <svg xmlns=\"http://www.w3.org/2000/svg\" height=\"24px\"viewBox=\"0 0 24 24\"\n",
              "       width=\"24px\">\n",
              "    <path d=\"M0 0h24v24H0V0z\" fill=\"none\"/>\n",
              "    <path d=\"M18.56 5.44l.94 2.06.94-2.06 2.06-.94-2.06-.94-.94-2.06-.94 2.06-2.06.94zm-11 1L8.5 8.5l.94-2.06 2.06-.94-2.06-.94L8.5 2.5l-.94 2.06-2.06.94zm10 10l.94 2.06.94-2.06 2.06-.94-2.06-.94-.94-2.06-.94 2.06-2.06.94z\"/><path d=\"M17.41 7.96l-1.37-1.37c-.4-.4-.92-.59-1.43-.59-.52 0-1.04.2-1.43.59L10.3 9.45l-7.72 7.72c-.78.78-.78 2.05 0 2.83L4 21.41c.39.39.9.59 1.41.59.51 0 1.02-.2 1.41-.59l7.78-7.78 2.81-2.81c.8-.78.8-2.07 0-2.86zM5.41 20L4 18.59l7.72-7.72 1.47 1.35L5.41 20z\"/>\n",
              "  </svg>\n",
              "      </button>\n",
              "      \n",
              "  <style>\n",
              "    .colab-df-container {\n",
              "      display:flex;\n",
              "      flex-wrap:wrap;\n",
              "      gap: 12px;\n",
              "    }\n",
              "\n",
              "    .colab-df-convert {\n",
              "      background-color: #E8F0FE;\n",
              "      border: none;\n",
              "      border-radius: 50%;\n",
              "      cursor: pointer;\n",
              "      display: none;\n",
              "      fill: #1967D2;\n",
              "      height: 32px;\n",
              "      padding: 0 0 0 0;\n",
              "      width: 32px;\n",
              "    }\n",
              "\n",
              "    .colab-df-convert:hover {\n",
              "      background-color: #E2EBFA;\n",
              "      box-shadow: 0px 1px 2px rgba(60, 64, 67, 0.3), 0px 1px 3px 1px rgba(60, 64, 67, 0.15);\n",
              "      fill: #174EA6;\n",
              "    }\n",
              "\n",
              "    [theme=dark] .colab-df-convert {\n",
              "      background-color: #3B4455;\n",
              "      fill: #D2E3FC;\n",
              "    }\n",
              "\n",
              "    [theme=dark] .colab-df-convert:hover {\n",
              "      background-color: #434B5C;\n",
              "      box-shadow: 0px 1px 3px 1px rgba(0, 0, 0, 0.15);\n",
              "      filter: drop-shadow(0px 1px 2px rgba(0, 0, 0, 0.3));\n",
              "      fill: #FFFFFF;\n",
              "    }\n",
              "  </style>\n",
              "\n",
              "      <script>\n",
              "        const buttonEl =\n",
              "          document.querySelector('#df-46765bfb-b8b4-4eec-b34a-1b87d1a10648 button.colab-df-convert');\n",
              "        buttonEl.style.display =\n",
              "          google.colab.kernel.accessAllowed ? 'block' : 'none';\n",
              "\n",
              "        async function convertToInteractive(key) {\n",
              "          const element = document.querySelector('#df-46765bfb-b8b4-4eec-b34a-1b87d1a10648');\n",
              "          const dataTable =\n",
              "            await google.colab.kernel.invokeFunction('convertToInteractive',\n",
              "                                                     [key], {});\n",
              "          if (!dataTable) return;\n",
              "\n",
              "          const docLinkHtml = 'Like what you see? Visit the ' +\n",
              "            '<a target=\"_blank\" href=https://colab.research.google.com/notebooks/data_table.ipynb>data table notebook</a>'\n",
              "            + ' to learn more about interactive tables.';\n",
              "          element.innerHTML = '';\n",
              "          dataTable['output_type'] = 'display_data';\n",
              "          await google.colab.output.renderOutput(dataTable, element);\n",
              "          const docLink = document.createElement('div');\n",
              "          docLink.innerHTML = docLinkHtml;\n",
              "          element.appendChild(docLink);\n",
              "        }\n",
              "      </script>\n",
              "    </div>\n",
              "  </div>\n",
              "  "
            ]
          },
          "metadata": {},
          "execution_count": 73
        }
      ]
    },
    {
      "cell_type": "code",
      "source": [
        "d1_augment['sentiment'].value_counts()"
      ],
      "metadata": {
        "colab": {
          "base_uri": "https://localhost:8080/"
        },
        "id": "KmsJlWuki552",
        "outputId": "1b5d03c0-79f5-41f0-b839-b457cf74100a"
      },
      "execution_count": 74,
      "outputs": [
        {
          "output_type": "execute_result",
          "data": {
            "text/plain": [
              "0    3938\n",
              "1    2898\n",
              "2     777\n",
              "Name: sentiment, dtype: int64"
            ]
          },
          "metadata": {},
          "execution_count": 74
        }
      ]
    },
    {
      "cell_type": "code",
      "source": [
        "data_quality(d1_augment)"
      ],
      "metadata": {
        "colab": {
          "base_uri": "https://localhost:8080/",
          "height": 143
        },
        "id": "B7pKSivIuZrd",
        "outputId": "46edb22f-ad25-4eab-8496-348942283fe3"
      },
      "execution_count": 75,
      "outputs": [
        {
          "output_type": "execute_result",
          "data": {
            "text/plain": [
              "           Present Values  Missing Values  Unique Values\n",
              "text                 7613               0           7503\n",
              "target               7613               0              2\n",
              "sentiment            7613               0              3"
            ],
            "text/html": [
              "\n",
              "  <div id=\"df-e9e6bf41-1ef2-4540-85c0-abb2ee7e9e52\">\n",
              "    <div class=\"colab-df-container\">\n",
              "      <div>\n",
              "<style scoped>\n",
              "    .dataframe tbody tr th:only-of-type {\n",
              "        vertical-align: middle;\n",
              "    }\n",
              "\n",
              "    .dataframe tbody tr th {\n",
              "        vertical-align: top;\n",
              "    }\n",
              "\n",
              "    .dataframe thead th {\n",
              "        text-align: right;\n",
              "    }\n",
              "</style>\n",
              "<table border=\"1\" class=\"dataframe\">\n",
              "  <thead>\n",
              "    <tr style=\"text-align: right;\">\n",
              "      <th></th>\n",
              "      <th>Present Values</th>\n",
              "      <th>Missing Values</th>\n",
              "      <th>Unique Values</th>\n",
              "    </tr>\n",
              "  </thead>\n",
              "  <tbody>\n",
              "    <tr>\n",
              "      <th>text</th>\n",
              "      <td>7613</td>\n",
              "      <td>0</td>\n",
              "      <td>7503</td>\n",
              "    </tr>\n",
              "    <tr>\n",
              "      <th>target</th>\n",
              "      <td>7613</td>\n",
              "      <td>0</td>\n",
              "      <td>2</td>\n",
              "    </tr>\n",
              "    <tr>\n",
              "      <th>sentiment</th>\n",
              "      <td>7613</td>\n",
              "      <td>0</td>\n",
              "      <td>3</td>\n",
              "    </tr>\n",
              "  </tbody>\n",
              "</table>\n",
              "</div>\n",
              "      <button class=\"colab-df-convert\" onclick=\"convertToInteractive('df-e9e6bf41-1ef2-4540-85c0-abb2ee7e9e52')\"\n",
              "              title=\"Convert this dataframe to an interactive table.\"\n",
              "              style=\"display:none;\">\n",
              "        \n",
              "  <svg xmlns=\"http://www.w3.org/2000/svg\" height=\"24px\"viewBox=\"0 0 24 24\"\n",
              "       width=\"24px\">\n",
              "    <path d=\"M0 0h24v24H0V0z\" fill=\"none\"/>\n",
              "    <path d=\"M18.56 5.44l.94 2.06.94-2.06 2.06-.94-2.06-.94-.94-2.06-.94 2.06-2.06.94zm-11 1L8.5 8.5l.94-2.06 2.06-.94-2.06-.94L8.5 2.5l-.94 2.06-2.06.94zm10 10l.94 2.06.94-2.06 2.06-.94-2.06-.94-.94-2.06-.94 2.06-2.06.94z\"/><path d=\"M17.41 7.96l-1.37-1.37c-.4-.4-.92-.59-1.43-.59-.52 0-1.04.2-1.43.59L10.3 9.45l-7.72 7.72c-.78.78-.78 2.05 0 2.83L4 21.41c.39.39.9.59 1.41.59.51 0 1.02-.2 1.41-.59l7.78-7.78 2.81-2.81c.8-.78.8-2.07 0-2.86zM5.41 20L4 18.59l7.72-7.72 1.47 1.35L5.41 20z\"/>\n",
              "  </svg>\n",
              "      </button>\n",
              "      \n",
              "  <style>\n",
              "    .colab-df-container {\n",
              "      display:flex;\n",
              "      flex-wrap:wrap;\n",
              "      gap: 12px;\n",
              "    }\n",
              "\n",
              "    .colab-df-convert {\n",
              "      background-color: #E8F0FE;\n",
              "      border: none;\n",
              "      border-radius: 50%;\n",
              "      cursor: pointer;\n",
              "      display: none;\n",
              "      fill: #1967D2;\n",
              "      height: 32px;\n",
              "      padding: 0 0 0 0;\n",
              "      width: 32px;\n",
              "    }\n",
              "\n",
              "    .colab-df-convert:hover {\n",
              "      background-color: #E2EBFA;\n",
              "      box-shadow: 0px 1px 2px rgba(60, 64, 67, 0.3), 0px 1px 3px 1px rgba(60, 64, 67, 0.15);\n",
              "      fill: #174EA6;\n",
              "    }\n",
              "\n",
              "    [theme=dark] .colab-df-convert {\n",
              "      background-color: #3B4455;\n",
              "      fill: #D2E3FC;\n",
              "    }\n",
              "\n",
              "    [theme=dark] .colab-df-convert:hover {\n",
              "      background-color: #434B5C;\n",
              "      box-shadow: 0px 1px 3px 1px rgba(0, 0, 0, 0.15);\n",
              "      filter: drop-shadow(0px 1px 2px rgba(0, 0, 0, 0.3));\n",
              "      fill: #FFFFFF;\n",
              "    }\n",
              "  </style>\n",
              "\n",
              "      <script>\n",
              "        const buttonEl =\n",
              "          document.querySelector('#df-e9e6bf41-1ef2-4540-85c0-abb2ee7e9e52 button.colab-df-convert');\n",
              "        buttonEl.style.display =\n",
              "          google.colab.kernel.accessAllowed ? 'block' : 'none';\n",
              "\n",
              "        async function convertToInteractive(key) {\n",
              "          const element = document.querySelector('#df-e9e6bf41-1ef2-4540-85c0-abb2ee7e9e52');\n",
              "          const dataTable =\n",
              "            await google.colab.kernel.invokeFunction('convertToInteractive',\n",
              "                                                     [key], {});\n",
              "          if (!dataTable) return;\n",
              "\n",
              "          const docLinkHtml = 'Like what you see? Visit the ' +\n",
              "            '<a target=\"_blank\" href=https://colab.research.google.com/notebooks/data_table.ipynb>data table notebook</a>'\n",
              "            + ' to learn more about interactive tables.';\n",
              "          element.innerHTML = '';\n",
              "          dataTable['output_type'] = 'display_data';\n",
              "          await google.colab.output.renderOutput(dataTable, element);\n",
              "          const docLink = document.createElement('div');\n",
              "          docLink.innerHTML = docLinkHtml;\n",
              "          element.appendChild(docLink);\n",
              "        }\n",
              "      </script>\n",
              "    </div>\n",
              "  </div>\n",
              "  "
            ]
          },
          "metadata": {},
          "execution_count": 75
        }
      ]
    },
    {
      "cell_type": "code",
      "source": [
        "# # Saving d1_augment for future use\n",
        "# d1_train_augment.to_csv(\"/content/drive/MyDrive/BT5151/group_project/d1_train_augment.csv\")\n",
        "# d1_val_augment.to_csv(\"/content/drive/MyDrive/BT5151/group_project/d1_val_augment.csv\")\n",
        "# d1_augment.to_csv(\"/content/drive/MyDrive/BT5151/group_project/d1_augment.csv\")"
      ],
      "metadata": {
        "id": "WBiE2UPrrpoZ"
      },
      "execution_count": 76,
      "outputs": []
    },
    {
      "cell_type": "markdown",
      "source": [
        "Analysis: "
      ],
      "metadata": {
        "id": "F23Rm72zhCJ4"
      }
    },
    {
      "cell_type": "markdown",
      "source": [
        "### Task 3.4 ###"
      ],
      "metadata": {
        "id": "O8OcrUFdZn02"
      }
    },
    {
      "cell_type": "code",
      "source": [
        "d_train_concat = d_train_data.rename(columns={\"target\":\"sentiment\"}).copy()"
      ],
      "metadata": {
        "id": "IqiutCAD2prC"
      },
      "execution_count": 60,
      "outputs": []
    },
    {
      "cell_type": "code",
      "source": [
        "sd_train_data = pd.concat([d_train_concat, s_train_data],ignore_index=True)"
      ],
      "metadata": {
        "id": "ieA5CDdSZts3"
      },
      "execution_count": 61,
      "outputs": []
    },
    {
      "cell_type": "code",
      "source": [
        "data_quality(sd_train_data)"
      ],
      "metadata": {
        "colab": {
          "base_uri": "https://localhost:8080/",
          "height": 143
        },
        "id": "aWWMoEMR3VEH",
        "outputId": "86e57f8c-ab60-4ff4-efa4-04ac0a6e5ddc"
      },
      "execution_count": 64,
      "outputs": [
        {
          "output_type": "execute_result",
          "data": {
            "text/plain": [
              "           Present Values  Missing Values  Unique Values\n",
              "text                27986               0          27986\n",
              "sentiment            6002           21984              2\n",
              "target              21984            6002              3"
            ],
            "text/html": [
              "\n",
              "  <div id=\"df-c9806beb-eaf8-41e5-8201-e9e91f0eb177\">\n",
              "    <div class=\"colab-df-container\">\n",
              "      <div>\n",
              "<style scoped>\n",
              "    .dataframe tbody tr th:only-of-type {\n",
              "        vertical-align: middle;\n",
              "    }\n",
              "\n",
              "    .dataframe tbody tr th {\n",
              "        vertical-align: top;\n",
              "    }\n",
              "\n",
              "    .dataframe thead th {\n",
              "        text-align: right;\n",
              "    }\n",
              "</style>\n",
              "<table border=\"1\" class=\"dataframe\">\n",
              "  <thead>\n",
              "    <tr style=\"text-align: right;\">\n",
              "      <th></th>\n",
              "      <th>Present Values</th>\n",
              "      <th>Missing Values</th>\n",
              "      <th>Unique Values</th>\n",
              "    </tr>\n",
              "  </thead>\n",
              "  <tbody>\n",
              "    <tr>\n",
              "      <th>text</th>\n",
              "      <td>27986</td>\n",
              "      <td>0</td>\n",
              "      <td>27986</td>\n",
              "    </tr>\n",
              "    <tr>\n",
              "      <th>sentiment</th>\n",
              "      <td>6002</td>\n",
              "      <td>21984</td>\n",
              "      <td>2</td>\n",
              "    </tr>\n",
              "    <tr>\n",
              "      <th>target</th>\n",
              "      <td>21984</td>\n",
              "      <td>6002</td>\n",
              "      <td>3</td>\n",
              "    </tr>\n",
              "  </tbody>\n",
              "</table>\n",
              "</div>\n",
              "      <button class=\"colab-df-convert\" onclick=\"convertToInteractive('df-c9806beb-eaf8-41e5-8201-e9e91f0eb177')\"\n",
              "              title=\"Convert this dataframe to an interactive table.\"\n",
              "              style=\"display:none;\">\n",
              "        \n",
              "  <svg xmlns=\"http://www.w3.org/2000/svg\" height=\"24px\"viewBox=\"0 0 24 24\"\n",
              "       width=\"24px\">\n",
              "    <path d=\"M0 0h24v24H0V0z\" fill=\"none\"/>\n",
              "    <path d=\"M18.56 5.44l.94 2.06.94-2.06 2.06-.94-2.06-.94-.94-2.06-.94 2.06-2.06.94zm-11 1L8.5 8.5l.94-2.06 2.06-.94-2.06-.94L8.5 2.5l-.94 2.06-2.06.94zm10 10l.94 2.06.94-2.06 2.06-.94-2.06-.94-.94-2.06-.94 2.06-2.06.94z\"/><path d=\"M17.41 7.96l-1.37-1.37c-.4-.4-.92-.59-1.43-.59-.52 0-1.04.2-1.43.59L10.3 9.45l-7.72 7.72c-.78.78-.78 2.05 0 2.83L4 21.41c.39.39.9.59 1.41.59.51 0 1.02-.2 1.41-.59l7.78-7.78 2.81-2.81c.8-.78.8-2.07 0-2.86zM5.41 20L4 18.59l7.72-7.72 1.47 1.35L5.41 20z\"/>\n",
              "  </svg>\n",
              "      </button>\n",
              "      \n",
              "  <style>\n",
              "    .colab-df-container {\n",
              "      display:flex;\n",
              "      flex-wrap:wrap;\n",
              "      gap: 12px;\n",
              "    }\n",
              "\n",
              "    .colab-df-convert {\n",
              "      background-color: #E8F0FE;\n",
              "      border: none;\n",
              "      border-radius: 50%;\n",
              "      cursor: pointer;\n",
              "      display: none;\n",
              "      fill: #1967D2;\n",
              "      height: 32px;\n",
              "      padding: 0 0 0 0;\n",
              "      width: 32px;\n",
              "    }\n",
              "\n",
              "    .colab-df-convert:hover {\n",
              "      background-color: #E2EBFA;\n",
              "      box-shadow: 0px 1px 2px rgba(60, 64, 67, 0.3), 0px 1px 3px 1px rgba(60, 64, 67, 0.15);\n",
              "      fill: #174EA6;\n",
              "    }\n",
              "\n",
              "    [theme=dark] .colab-df-convert {\n",
              "      background-color: #3B4455;\n",
              "      fill: #D2E3FC;\n",
              "    }\n",
              "\n",
              "    [theme=dark] .colab-df-convert:hover {\n",
              "      background-color: #434B5C;\n",
              "      box-shadow: 0px 1px 3px 1px rgba(0, 0, 0, 0.15);\n",
              "      filter: drop-shadow(0px 1px 2px rgba(0, 0, 0, 0.3));\n",
              "      fill: #FFFFFF;\n",
              "    }\n",
              "  </style>\n",
              "\n",
              "      <script>\n",
              "        const buttonEl =\n",
              "          document.querySelector('#df-c9806beb-eaf8-41e5-8201-e9e91f0eb177 button.colab-df-convert');\n",
              "        buttonEl.style.display =\n",
              "          google.colab.kernel.accessAllowed ? 'block' : 'none';\n",
              "\n",
              "        async function convertToInteractive(key) {\n",
              "          const element = document.querySelector('#df-c9806beb-eaf8-41e5-8201-e9e91f0eb177');\n",
              "          const dataTable =\n",
              "            await google.colab.kernel.invokeFunction('convertToInteractive',\n",
              "                                                     [key], {});\n",
              "          if (!dataTable) return;\n",
              "\n",
              "          const docLinkHtml = 'Like what you see? Visit the ' +\n",
              "            '<a target=\"_blank\" href=https://colab.research.google.com/notebooks/data_table.ipynb>data table notebook</a>'\n",
              "            + ' to learn more about interactive tables.';\n",
              "          element.innerHTML = '';\n",
              "          dataTable['output_type'] = 'display_data';\n",
              "          await google.colab.output.renderOutput(dataTable, element);\n",
              "          const docLink = document.createElement('div');\n",
              "          docLink.innerHTML = docLinkHtml;\n",
              "          element.appendChild(docLink);\n",
              "        }\n",
              "      </script>\n",
              "    </div>\n",
              "  </div>\n",
              "  "
            ]
          },
          "metadata": {},
          "execution_count": 64
        }
      ]
    },
    {
      "cell_type": "code",
      "source": [
        "sd_train_data.shape"
      ],
      "metadata": {
        "colab": {
          "base_uri": "https://localhost:8080/"
        },
        "id": "mPnm2MbdbTom",
        "outputId": "a4bc9244-c096-422c-a31c-2b67a0fc5d86"
      },
      "execution_count": 65,
      "outputs": [
        {
          "output_type": "execute_result",
          "data": {
            "text/plain": [
              "(27986, 3)"
            ]
          },
          "metadata": {},
          "execution_count": 65
        }
      ]
    },
    {
      "cell_type": "code",
      "source": [
        "sd_train_data.columns"
      ],
      "metadata": {
        "colab": {
          "base_uri": "https://localhost:8080/"
        },
        "id": "2do18jeS6b87",
        "outputId": "e3a90fcf-e91e-461f-8610-49bfd45c59b6"
      },
      "execution_count": 68,
      "outputs": [
        {
          "output_type": "execute_result",
          "data": {
            "text/plain": [
              "Index(['text', 'sentiment', 'target'], dtype='object')"
            ]
          },
          "metadata": {},
          "execution_count": 68
        }
      ]
    },
    {
      "cell_type": "code",
      "source": [
        "class DataCombined(Dataset):\n",
        "    def __init__(self, dataframe, tokenizer, max_len):\n",
        "        self.tokenizer = tokenizer\n",
        "        self.data = dataframe\n",
        "        self.text = dataframe.text\n",
        "        self.target = self.data.target\n",
        "        self.sentiment = self.data.sentiment\n",
        "        self.max_len = max_len\n",
        "\n",
        "    def __len__(self):\n",
        "        return len(self.text)\n",
        "\n",
        "    def __getitem__(self, index):\n",
        "        text = str(self.text[index])\n",
        "        text = \" \".join(text.split())\n",
        "\n",
        "        inputs = self.tokenizer.encode_plus(\n",
        "            text,\n",
        "            None,\n",
        "            add_special_tokens=True,\n",
        "            max_length=self.max_len,\n",
        "            truncation=True,\n",
        "            padding = 'max_length',\n",
        "            return_token_type_ids=True\n",
        "        )\n",
        "        ids = inputs['input_ids']\n",
        "        mask = inputs['attention_mask']\n",
        "        token_type_ids = inputs[\"token_type_ids\"]\n",
        "\n",
        "\n",
        "        return {\n",
        "            'ids': torch.tensor(ids, dtype=torch.long),\n",
        "            'mask': torch.tensor(mask, dtype=torch.long),\n",
        "            'token_type_ids': torch.tensor(token_type_ids, dtype=torch.long),\n",
        "            'labels': ({'target': self.target[index]},{'sentiment': self.sentiment[index]})\n",
        "        }"
      ],
      "metadata": {
        "id": "RdoBaCmF6SRW"
      },
      "execution_count": 116,
      "outputs": []
    },
    {
      "cell_type": "code",
      "source": [
        "sd_train_dataset = DataCombined(sd_train_data, tokenizer=tokenizer, max_len=MAX_LEN)"
      ],
      "metadata": {
        "id": "ldlCN7hw6CCx"
      },
      "execution_count": 117,
      "outputs": []
    },
    {
      "cell_type": "code",
      "source": [
        "data = sd_train_dataset[1]"
      ],
      "metadata": {
        "id": "EmlADJqTHfk8"
      },
      "execution_count": 128,
      "outputs": []
    },
    {
      "cell_type": "code",
      "source": [
        "label2"
      ],
      "metadata": {
        "colab": {
          "base_uri": "https://localhost:8080/"
        },
        "id": "9w3iLa-JEVh8",
        "outputId": "9cb461af-b049-4af4-c5be-08f879749900"
      },
      "execution_count": 123,
      "outputs": [
        {
          "output_type": "execute_result",
          "data": {
            "text/plain": [
              "{'sentiment': 1.0}"
            ]
          },
          "metadata": {},
          "execution_count": 123
        }
      ]
    },
    {
      "cell_type": "code",
      "source": [
        "\n",
        "def train(model, epoch, training_loader, mode):\n",
        "    tr_loss = 0\n",
        "    n_correct = 0\n",
        "    nb_tr_steps = 0\n",
        "    nb_tr_examples = 0\n",
        "    model.train()\n",
        "\n",
        "    \n",
        "    for _,data in enumerate(tqdm(training_loader, 0)):\n",
        "        ids = data['ids'].to(device, dtype = torch.long)\n",
        "        mask = data['mask'].to(device, dtype = torch.long)\n",
        "        token_type_ids = data['token_type_ids'].to(device, dtype = torch.long)\n",
        "        targets = data['targets'].to(device, dtype = torch.long)\n",
        "\n",
        "        output1, output2 = model(ids, mask, token_type_ids)\n",
        "\n",
        "        if mode == 1:\n",
        "            output = output1\n",
        "        elif mode == 2:\n",
        "            output = output2\n",
        "        else:\n",
        "            assert False, 'Bad Task ID passed'\n",
        "\n",
        "\n",
        "        loss = loss_function(output, targets)\n",
        "        tr_loss += loss.item()\n",
        "        big_val, big_idx = torch.max(output.data, dim=1)\n",
        "        n_correct += calcuate_accuracy(big_idx, targets)\n",
        "\n",
        "        nb_tr_steps += 1\n",
        "        nb_tr_examples+=targets.size(0)\n",
        "        \n",
        "        if _%5000==0:\n",
        "            loss_step = tr_loss/nb_tr_steps\n",
        "            accu_step = (n_correct*100)/nb_tr_examples \n",
        "            print(f\"Training Loss per 5000 steps: {loss_step}\")\n",
        "            print(f\"Training Accuracy per 5000 steps: {accu_step}\")\n",
        "\n",
        "        optimizer.zero_grad()\n",
        "        loss.backward()\n",
        "        # # When using GPU\n",
        "        optimizer.step()\n",
        "\n",
        "    print(f'The Total Accuracy for Epoch {epoch}: {(n_correct*100)/nb_tr_examples}')\n",
        "    epoch_loss = tr_loss/nb_tr_steps\n",
        "    epoch_accu = (n_correct*100)/nb_tr_examples\n",
        "    print(f\"Training Loss Epoch: {epoch_loss}\")\n",
        "    print(f\"Training Accuracy Epoch: {epoch_accu}\")\n",
        "    return"
      ],
      "metadata": {
        "id": "BZR3kEux6AIw"
      },
      "execution_count": null,
      "outputs": []
    },
    {
      "cell_type": "markdown",
      "source": [
        "#V. Further Exploration #"
      ],
      "metadata": {
        "id": "Jq7Lvgchynyo"
      }
    },
    {
      "cell_type": "markdown",
      "source": [
        "### Strategy 1 ####\n",
        "\n",
        "Retrain and fine-tune the SiEBERT English-Language model for disaster classification\n",
        "<br>\n",
        "**Explanation:**\n",
        "<p>The SiEBERT model is a sentiment classification model which was trained on 15 text corpus to make it as robust as possible for classifying sentiment. It is also a derivative of the RoBERTa architecture which we used for the initial parts of this project. This model also has two outputs which is compatible with our task of a binary classification for disaster tweets. The strategy is to retrain and fine-tune this SiEBERT model to instead classify tweets that announces disasters using this project's dataset. Based on its performance report on different NLP benchmarks, this model has very good generalized performance so SieBERT's model architecture might yield higher accuracy also for disaster classification.</p>\n",
        "<br>\n",
        "Citation:<br>\n",
        "Hartmann, J., Heitmann, M., Siebert, C., & Schamp, C. (2023). More than a Feeling: Accuracy and Application of Sentiment Analysis. International Journal of Research in Marketing, 40(1), 75-87. https://doi.org/10.1016/j.ijresmar.2022.05.005"
      ],
      "metadata": {
        "id": "GJBiMhzj5W87"
      }
    },
    {
      "cell_type": "code",
      "source": [
        "from transformers import TrainingArguments, Trainer\n",
        "from transformers import AutoModelForSequenceClassification, AutoTokenizer\n",
        "import evaluate"
      ],
      "metadata": {
        "id": "4ToT-q1x75eL"
      },
      "execution_count": 77,
      "outputs": []
    },
    {
      "cell_type": "code",
      "source": [
        "# Using RoBERTa tokenizer since siebert is based on RoBERTa-large\n",
        "tokenizer = RobertaTokenizer.from_pretrained('roberta-large')"
      ],
      "metadata": {
        "id": "6fWp5AWCAgf2",
        "colab": {
          "base_uri": "https://localhost:8080/",
          "height": 113,
          "referenced_widgets": [
            "96765f3da74c45208cbc135dff120b7b",
            "e9c08d768e9b432e917eb40def177803",
            "4d78c6dc6163424490ea7ec02613113d",
            "f9a2ddc5ff7b402d860045fe7e51a02c",
            "b9ca7c7b83d34e33b2b4b6efde33f416",
            "dae60c2a4ae340efa2e4611b6aed6422",
            "e5aff8b5b155409d8ffb67a19094f3b2",
            "d619c537fcb2435e83921e7e73971a83",
            "6ca0504e91bc4f1fa40a1b5bfcc61d03",
            "2bf04209646548c5ab8480550d59d1a9",
            "31be78dd44914a0598d3a8a9c702b5f6",
            "9053cf339eb945e7aad0adc9dd1162ca",
            "1cfbf060d8a4402fa684aa3b1e5d3c6f",
            "fe6b14ae8c6748129c7f175cfce2d1f5",
            "30319d22b704405288ae402a4a96a1b0",
            "41fd9275b89e41f4846bc51b09d85d4d",
            "239d00dfb58344c8aa8636ed14cd8525",
            "88d5e87514d54ba3b4feb575d3815a62",
            "67c9eeefdfa2458a9b74578deb819757",
            "574e7bb1c61149269ef329bc2fbcbaf8",
            "7d6b2f47342949efb6bfdad3fb63c851",
            "dfe3ee5c7d25483d8150af15e264cadc",
            "78f0beef99224580b6effbcd63be1dca",
            "83cc7338fa6942b786fa908b3c3f5079",
            "907c33a7561e4ed3968fd7c4d70bef87",
            "524e953a8c0345198a10f1ed35e9b637",
            "935416ebb9594ad0bdf66d60c783d795",
            "ecd95d3b77e04bfb93b283ede56c3dcd",
            "efa957e4e2c641f2a9cf158db9ed97ee",
            "68cb10a42a3944f898b189fa9da20fcf",
            "7d4580e7e3ca4c88a49b3399be17edc1",
            "0c6f0a46769147da9efa947369d519eb",
            "ed51ee44c015491391df95c4b60d4662"
          ]
        },
        "outputId": "bf5917c2-f5b6-4daf-82cf-37bfeaaf5f7b"
      },
      "execution_count": 78,
      "outputs": [
        {
          "output_type": "display_data",
          "data": {
            "text/plain": [
              "Downloading (…)olve/main/vocab.json:   0%|          | 0.00/899k [00:00<?, ?B/s]"
            ],
            "application/vnd.jupyter.widget-view+json": {
              "version_major": 2,
              "version_minor": 0,
              "model_id": "96765f3da74c45208cbc135dff120b7b"
            }
          },
          "metadata": {}
        },
        {
          "output_type": "display_data",
          "data": {
            "text/plain": [
              "Downloading (…)olve/main/merges.txt:   0%|          | 0.00/456k [00:00<?, ?B/s]"
            ],
            "application/vnd.jupyter.widget-view+json": {
              "version_major": 2,
              "version_minor": 0,
              "model_id": "9053cf339eb945e7aad0adc9dd1162ca"
            }
          },
          "metadata": {}
        },
        {
          "output_type": "display_data",
          "data": {
            "text/plain": [
              "Downloading (…)lve/main/config.json:   0%|          | 0.00/482 [00:00<?, ?B/s]"
            ],
            "application/vnd.jupyter.widget-view+json": {
              "version_major": 2,
              "version_minor": 0,
              "model_id": "78f0beef99224580b6effbcd63be1dca"
            }
          },
          "metadata": {}
        }
      ]
    },
    {
      "cell_type": "code",
      "source": [
        "# Creating train-test splits for training the model\n",
        "d_train_data, d_val_data, d_train_labels, d_val_labels = train_test_split(d_train_select['text'],d_train_select['target'], test_size=0.2, \n",
        "                                                                       stratify=d_train_select['target'], random_state=2023)"
      ],
      "metadata": {
        "id": "Ojw6JbzUMP4c"
      },
      "execution_count": 79,
      "outputs": []
    },
    {
      "cell_type": "markdown",
      "source": [],
      "metadata": {
        "id": "NtlG9h17_1cW"
      }
    },
    {
      "cell_type": "code",
      "source": [
        "# Resetting indices as it might break some loopes\n",
        "d_train_data.reset_index(inplace=True, drop=True)\n",
        "d_val_data.reset_index(inplace=True, drop=True)\n",
        "d_train_labels.reset_index(inplace=True, drop=True)\n",
        "d_val_labels.reset_index(inplace=True, drop=True)"
      ],
      "metadata": {
        "id": "h4HOkaoyNdux"
      },
      "execution_count": 80,
      "outputs": []
    },
    {
      "cell_type": "code",
      "source": [
        "# Tokenizing the data\n",
        "train_encodings = tokenizer(d_train_data.tolist(), truncation=True, padding=\"max_length\", add_special_tokens=True, \n",
        "                            return_token_type_ids=True)\n",
        "val_encodings = tokenizer(d_val_data.tolist(), truncation=True, padding=\"max_length\", add_special_tokens=True, \n",
        "                            return_token_type_ids=True)"
      ],
      "metadata": {
        "id": "4uFD5kZhLfKf"
      },
      "execution_count": 81,
      "outputs": []
    },
    {
      "cell_type": "code",
      "source": [
        "# Creating custom Datasets classes for the data\n",
        "class HuggingData(Dataset):\n",
        "  def __init__(self, encodings, labels):\n",
        "    self.encodings = encodings\n",
        "    self.labels = labels\n",
        "\n",
        "  def __getitem__(self, idx):\n",
        "      item = {key: torch.tensor(val[idx]) for key, val in self.encodings.items()}\n",
        "      item['labels'] = torch.tensor(self.labels[idx])\n",
        "      return item\n",
        "\n",
        "  def __len__(self):\n",
        "      return len(self.labels)"
      ],
      "metadata": {
        "id": "UXM6-rriHy6A"
      },
      "execution_count": 82,
      "outputs": []
    },
    {
      "cell_type": "code",
      "source": [
        "# Creating the datasets\n",
        "dstrat1_train_set = HuggingData(train_encodings, d_train_labels)\n",
        "dstrat1_val_set = HuggingData(val_encodings, d_val_labels)"
      ],
      "metadata": {
        "id": "jx9btBAYIqCs"
      },
      "execution_count": 83,
      "outputs": []
    },
    {
      "cell_type": "code",
      "source": [
        "# Loading the siebert sentiment classification model\n",
        "model = AutoModelForSequenceClassification.from_pretrained(\"siebert/sentiment-roberta-large-english\")\n",
        "# Specifying the training arguments for training using HuggingFace Trainer API\n",
        "training_args = TrainingArguments(\n",
        "    output_dir=\"/content/drive/MyDrive/BT5151/group_project/strategy1/output\",\n",
        "    optim=\"adamw_torch\",\n",
        "    num_train_epochs=3,\n",
        "    learning_rate= 1e-5,\n",
        "    lr_scheduler_type = \"cosine\",\n",
        "    per_device_train_batch_size=16,\n",
        "    per_device_eval_batch_size=32,\n",
        "    save_strategy=\"no\",\n",
        "    warmup_steps= 10,\n",
        "    weight_decay = 0.01,\n",
        "    logging_dir=\"/content/drive/MyDrive/BT5151/group_project/strategy1/logs\",\n",
        "    logging_strategy=\"steps\",\n",
        "    logging_steps=100,\n",
        "    evaluation_strategy=\"steps\",\n",
        "    eval_steps=100\n",
        ")"
      ],
      "metadata": {
        "id": "bOCOukIDyqC6"
      },
      "execution_count": null,
      "outputs": []
    },
    {
      "cell_type": "code",
      "source": [
        "# Specifying evaluation metrics\n",
        "metric = evaluate.load(\"accuracy\")\n",
        "def compute_metrics(eval_pred):\n",
        "    logits, labels = eval_pred\n",
        "    predictions = np.argmax(logits, axis=-1)\n",
        "    return metric.compute(predictions=predictions, references=labels)"
      ],
      "metadata": {
        "id": "hSedPLZ4WVWz",
        "colab": {
          "base_uri": "https://localhost:8080/",
          "height": 49,
          "referenced_widgets": [
            "cdf584a0f8ab41529fcb535eb3c22e84",
            "ba732701fa3f427f81cb64036c4bd4b4",
            "166579ae84c7410aaf47ec699b2ea49f",
            "ad3e5854bc1940f9bde6750466ab86d0",
            "cf2c920207504cc3a60b74a029f41296",
            "19a97351ef934234a22da25a42f0b1b7",
            "840b603080c84937b9e81a534c76c4f8",
            "619e98edbaac4924b1d28c03310571a9",
            "e04d2021b12448bc9d4e2605013a8fb0",
            "65e704a7c3d34a8dacc0540902a5b758",
            "c8d634378e5d4477aee94672768a38f0"
          ]
        },
        "outputId": "4c419576-1d9e-486f-d7d8-f02ad731b95c"
      },
      "execution_count": 84,
      "outputs": [
        {
          "output_type": "display_data",
          "data": {
            "text/plain": [
              "Downloading builder script:   0%|          | 0.00/4.20k [00:00<?, ?B/s]"
            ],
            "application/vnd.jupyter.widget-view+json": {
              "version_major": 2,
              "version_minor": 0,
              "model_id": "cdf584a0f8ab41529fcb535eb3c22e84"
            }
          },
          "metadata": {}
        }
      ]
    },
    {
      "cell_type": "code",
      "source": [
        "# Calling the trainer API and initiates training. Training was done outside of this notebook\n",
        "# trainer = Trainer(\n",
        "#     model=model,                         \n",
        "#     args=training_args,                \n",
        "#     train_dataset=dstrat1_train_set,\n",
        "#     eval_dataset=dstrat1_val_set,\n",
        "#     compute_metrics=compute_metrics\n",
        "# )\n",
        "\n",
        "# trainer.train()\n",
        "\n",
        "# Saving the model\n",
        "#trainer.save_model(\"/content/drive/MyDrive/BT5151/group_project/strategy1/models\")"
      ],
      "metadata": {
        "id": "mk4iUCTi6ai3"
      },
      "execution_count": null,
      "outputs": []
    },
    {
      "cell_type": "markdown",
      "source": [
        "Inference on the trained on the siebert model"
      ],
      "metadata": {
        "id": "GVZbO5Gyi-l4"
      }
    },
    {
      "cell_type": "code",
      "source": [
        "from transformers import pipeline, AutoModel"
      ],
      "metadata": {
        "id": "V4y08dAvvAOC"
      },
      "execution_count": 85,
      "outputs": []
    },
    {
      "cell_type": "code",
      "source": [
        "# Creating a pipeline for inference on the fine-tuned siebert model\n",
        "tokenizer = RobertaTokenizer.from_pretrained('roberta-large')\n",
        "disaster = pipeline(\"text-classification\", model=\"/content/drive/MyDrive/BT5151/group_project/siebert_final_strat1\", tokenizer = tokenizer, device=\"cuda:0\",\n",
        "                    binary_output=True, function_to_apply=\"softmax\")"
      ],
      "metadata": {
        "id": "V3OT39evQ_Yw"
      },
      "execution_count": 86,
      "outputs": []
    },
    {
      "cell_type": "code",
      "source": [
        "# Creating an iterator for the D1 test data\n",
        "def data_iterator(df):\n",
        "    for i in range(df.shape[0]):\n",
        "        yield str(df.text[i])"
      ],
      "metadata": {
        "id": "aMlIWyRSu_P-"
      },
      "execution_count": 87,
      "outputs": []
    },
    {
      "cell_type": "code",
      "source": [
        "# Helper function to extract the outputs of the pipeline in a nice dataframe\n",
        "def get_predict(iterator, pipeline):\n",
        "    df = pd.DataFrame(columns = ['label', 'score'])\n",
        "    for idx, out in enumerate(tqdm(pipeline(iterator))):\n",
        "        df.loc[idx] = out\n",
        "    return df"
      ],
      "metadata": {
        "id": "1bT79HE3slI9"
      },
      "execution_count": 88,
      "outputs": []
    },
    {
      "cell_type": "code",
      "source": [
        "# Helper function to reformat pipeline outputs dataframe for Kaggle test submission format\n",
        "def clean_submit(preds):\n",
        "    df = preds.copy()\n",
        "    df.reset_index(inplace=True)\n",
        "    df.rename(columns = {'index':'id'}, inplace = True)\n",
        "    df.set_index(\"id\", inplace=True)\n",
        "    df['target'] = df.apply(lambda x: 1 if x['label'] == 'POSITIVE' else 0, axis = 1)\n",
        "    df.drop(columns=['score', 'label'], inplace=True)\n",
        "    return df"
      ],
      "metadata": {
        "id": "eHqI0y-KeT_D"
      },
      "execution_count": 89,
      "outputs": []
    },
    {
      "cell_type": "code",
      "source": [
        "# Getting predictions for the train for checking\n",
        "#preds_train = get_predict(data_iterator(d_train), disaster)\n",
        "\n",
        "# Getting predictions for the test data\n",
        "preds_test = get_predict(data_iterator(d_test_orig), disaster)\n",
        "\n",
        "# Reformatting predictions for Kaggle submission format\n",
        "#submit_train = clean_submit(preds_train)\n",
        "submit_test = clean_submit(preds_test)\n",
        "\n",
        "# Matching the predictions indices to the Kaggle sample submission indices\n",
        "submit_test.reset_index(inplace=True)\n",
        "test = d_test_orig[[\"id\"]].copy()\n",
        "merged = test.merge(submit_test, left_index=True, right_index=True, suffixes=(None, \"_s\"))\n",
        "merged.drop(labels=[\"id_s\"],axis=1,inplace=True)\n",
        "merged.set_index(\"id\",inplace=True)\n",
        "\n",
        "#submit_train.to_csv(\"submit_train.csv\")"
      ],
      "metadata": {
        "colab": {
          "base_uri": "https://localhost:8080/"
        },
        "id": "dEPXoNPF0EMK",
        "outputId": "1b54aece-31f9-45f4-c675-e86af2ed5c7a"
      },
      "execution_count": 90,
      "outputs": [
        {
          "output_type": "stream",
          "name": "stderr",
          "text": [
            "3263it [01:52, 29.11it/s]\n"
          ]
        }
      ]
    },
    {
      "cell_type": "code",
      "source": [
        "#Save predictions for submission to Kaggle\n",
        "#merged.to_csv(\"/content/drive/MyDrive/BT5151/group_project/submit_test.csv\")"
      ],
      "metadata": {
        "id": "r7ehPWfKkOBF"
      },
      "execution_count": 93,
      "outputs": []
    },
    {
      "cell_type": "code",
      "source": [
        "merged.shape"
      ],
      "metadata": {
        "id": "lNXiOPFtFklu",
        "colab": {
          "base_uri": "https://localhost:8080/"
        },
        "outputId": "974adc41-df2e-45c7-9bb3-c320d992aa8b"
      },
      "execution_count": 94,
      "outputs": [
        {
          "output_type": "execute_result",
          "data": {
            "text/plain": [
              "(3263, 1)"
            ]
          },
          "metadata": {},
          "execution_count": 94
        }
      ]
    },
    {
      "cell_type": "code",
      "source": [
        "merged.head()"
      ],
      "metadata": {
        "id": "5BH1ULnAkare"
      },
      "execution_count": null,
      "outputs": []
    },
    {
      "cell_type": "markdown",
      "source": [
        "Kaggle Submission Screenshot\n",
        "![Screenshot 2023-04-08 at 12.00.37 AM.png](data:image/png;base64,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)"
      ],
      "metadata": {
        "id": "u1FsMVXJcdYn"
      }
    },
    {
      "cell_type": "code",
      "source": [],
      "metadata": {
        "id": "QI0SdX_0dJEG"
      },
      "execution_count": null,
      "outputs": []
    }
  ]
}