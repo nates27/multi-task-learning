{
  "metadata": {
    "kernelspec": {
      "language": "python",
      "display_name": "Python 3",
      "name": "python3"
    },
    "language_info": {
      "name": "python",
      "version": "3.7.12",
      "mimetype": "text/x-python",
      "codemirror_mode": {
        "name": "ipython",
        "version": 3
      },
      "pygments_lexer": "ipython3",
      "nbconvert_exporter": "python",
      "file_extension": ".py"
    },
    "colab": {
      "provenance": [],
      "gpuType": "T4",
      "include_colab_link": true
    },
    "accelerator": "GPU",
    "gpuClass": "standard"
  },
  "nbformat_minor": 0,
  "nbformat": 4,
  "cells": [
    {
      "cell_type": "markdown",
      "metadata": {
        "id": "view-in-github",
        "colab_type": "text"
      },
      "source": [
        "<a href=\"https://colab.research.google.com/github/nates27/multi-task-learning/blob/main/bt5151_gp_npk.ipynb\" target=\"_parent\"><img src=\"https://colab.research.google.com/assets/colab-badge.svg\" alt=\"Open In Colab\"/></a>"
      ]
    },
    {
      "cell_type": "code",
      "source": [
        "from google.colab import drive\n",
        "drive.mount('/content/drive')"
      ],
      "metadata": {
        "colab": {
          "base_uri": "https://localhost:8080/"
        },
        "id": "qaVLEcNhFTcC",
        "outputId": "dcbdcc69-f5e5-462d-9cef-e66a95922b26"
      },
      "execution_count": 1,
      "outputs": [
        {
          "output_type": "stream",
          "name": "stdout",
          "text": [
            "Drive already mounted at /content/drive; to attempt to forcibly remount, call drive.mount(\"/content/drive\", force_remount=True).\n"
          ]
        }
      ]
    },
    {
      "cell_type": "code",
      "source": [
        "pip install transformers"
      ],
      "metadata": {
        "colab": {
          "base_uri": "https://localhost:8080/"
        },
        "id": "w5d49lbEGAM3",
        "outputId": "b9250bb0-2d31-44b6-e222-a63df2437cc8"
      },
      "execution_count": 2,
      "outputs": [
        {
          "output_type": "stream",
          "name": "stdout",
          "text": [
            "Looking in indexes: https://pypi.org/simple, https://us-python.pkg.dev/colab-wheels/public/simple/\n",
            "Requirement already satisfied: transformers in /usr/local/lib/python3.9/dist-packages (4.27.4)\n",
            "Requirement already satisfied: pyyaml>=5.1 in /usr/local/lib/python3.9/dist-packages (from transformers) (6.0)\n",
            "Requirement already satisfied: requests in /usr/local/lib/python3.9/dist-packages (from transformers) (2.27.1)\n",
            "Requirement already satisfied: regex!=2019.12.17 in /usr/local/lib/python3.9/dist-packages (from transformers) (2022.10.31)\n",
            "Requirement already satisfied: tqdm>=4.27 in /usr/local/lib/python3.9/dist-packages (from transformers) (4.65.0)\n",
            "Requirement already satisfied: huggingface-hub<1.0,>=0.11.0 in /usr/local/lib/python3.9/dist-packages (from transformers) (0.13.4)\n",
            "Requirement already satisfied: tokenizers!=0.11.3,<0.14,>=0.11.1 in /usr/local/lib/python3.9/dist-packages (from transformers) (0.13.3)\n",
            "Requirement already satisfied: packaging>=20.0 in /usr/local/lib/python3.9/dist-packages (from transformers) (23.0)\n",
            "Requirement already satisfied: filelock in /usr/local/lib/python3.9/dist-packages (from transformers) (3.10.7)\n",
            "Requirement already satisfied: numpy>=1.17 in /usr/local/lib/python3.9/dist-packages (from transformers) (1.22.4)\n",
            "Requirement already satisfied: typing-extensions>=3.7.4.3 in /usr/local/lib/python3.9/dist-packages (from huggingface-hub<1.0,>=0.11.0->transformers) (4.5.0)\n",
            "Requirement already satisfied: idna<4,>=2.5 in /usr/local/lib/python3.9/dist-packages (from requests->transformers) (3.4)\n",
            "Requirement already satisfied: charset-normalizer~=2.0.0 in /usr/local/lib/python3.9/dist-packages (from requests->transformers) (2.0.12)\n",
            "Requirement already satisfied: urllib3<1.27,>=1.21.1 in /usr/local/lib/python3.9/dist-packages (from requests->transformers) (1.26.15)\n",
            "Requirement already satisfied: certifi>=2017.4.17 in /usr/local/lib/python3.9/dist-packages (from requests->transformers) (2022.12.7)\n"
          ]
        }
      ]
    },
    {
      "cell_type": "code",
      "source": [
        "pip install sentencepiece"
      ],
      "metadata": {
        "colab": {
          "base_uri": "https://localhost:8080/"
        },
        "id": "DMYyT65HLkrM",
        "outputId": "1c2c6da2-f8c0-4ff8-de07-6e641b66d16f"
      },
      "execution_count": 3,
      "outputs": [
        {
          "output_type": "stream",
          "name": "stdout",
          "text": [
            "Looking in indexes: https://pypi.org/simple, https://us-python.pkg.dev/colab-wheels/public/simple/\n",
            "Requirement already satisfied: sentencepiece in /usr/local/lib/python3.9/dist-packages (0.1.97)\n"
          ]
        }
      ]
    },
    {
      "cell_type": "code",
      "source": [
        "pip install evaluate"
      ],
      "metadata": {
        "colab": {
          "base_uri": "https://localhost:8080/"
        },
        "id": "cG9bsrB67WKM",
        "outputId": "f87e38a4-9bb7-441a-cb33-d9c3a3b3255a"
      },
      "execution_count": 4,
      "outputs": [
        {
          "output_type": "stream",
          "name": "stdout",
          "text": [
            "Looking in indexes: https://pypi.org/simple, https://us-python.pkg.dev/colab-wheels/public/simple/\n",
            "Requirement already satisfied: evaluate in /usr/local/lib/python3.9/dist-packages (0.4.0)\n",
            "Requirement already satisfied: huggingface-hub>=0.7.0 in /usr/local/lib/python3.9/dist-packages (from evaluate) (0.13.4)\n",
            "Requirement already satisfied: responses<0.19 in /usr/local/lib/python3.9/dist-packages (from evaluate) (0.18.0)\n",
            "Requirement already satisfied: xxhash in /usr/local/lib/python3.9/dist-packages (from evaluate) (3.2.0)\n",
            "Requirement already satisfied: requests>=2.19.0 in /usr/local/lib/python3.9/dist-packages (from evaluate) (2.27.1)\n",
            "Requirement already satisfied: tqdm>=4.62.1 in /usr/local/lib/python3.9/dist-packages (from evaluate) (4.65.0)\n",
            "Requirement already satisfied: pandas in /usr/local/lib/python3.9/dist-packages (from evaluate) (1.4.4)\n",
            "Requirement already satisfied: dill in /usr/local/lib/python3.9/dist-packages (from evaluate) (0.3.6)\n",
            "Requirement already satisfied: multiprocess in /usr/local/lib/python3.9/dist-packages (from evaluate) (0.70.14)\n",
            "Requirement already satisfied: fsspec[http]>=2021.05.0 in /usr/local/lib/python3.9/dist-packages (from evaluate) (2023.3.0)\n",
            "Requirement already satisfied: numpy>=1.17 in /usr/local/lib/python3.9/dist-packages (from evaluate) (1.22.4)\n",
            "Requirement already satisfied: datasets>=2.0.0 in /usr/local/lib/python3.9/dist-packages (from evaluate) (2.11.0)\n",
            "Requirement already satisfied: packaging in /usr/local/lib/python3.9/dist-packages (from evaluate) (23.0)\n",
            "Requirement already satisfied: pyarrow>=8.0.0 in /usr/local/lib/python3.9/dist-packages (from datasets>=2.0.0->evaluate) (9.0.0)\n",
            "Requirement already satisfied: aiohttp in /usr/local/lib/python3.9/dist-packages (from datasets>=2.0.0->evaluate) (3.8.4)\n",
            "Requirement already satisfied: pyyaml>=5.1 in /usr/local/lib/python3.9/dist-packages (from datasets>=2.0.0->evaluate) (6.0)\n",
            "Requirement already satisfied: typing-extensions>=3.7.4.3 in /usr/local/lib/python3.9/dist-packages (from huggingface-hub>=0.7.0->evaluate) (4.5.0)\n",
            "Requirement already satisfied: filelock in /usr/local/lib/python3.9/dist-packages (from huggingface-hub>=0.7.0->evaluate) (3.10.7)\n",
            "Requirement already satisfied: charset-normalizer~=2.0.0 in /usr/local/lib/python3.9/dist-packages (from requests>=2.19.0->evaluate) (2.0.12)\n",
            "Requirement already satisfied: certifi>=2017.4.17 in /usr/local/lib/python3.9/dist-packages (from requests>=2.19.0->evaluate) (2022.12.7)\n",
            "Requirement already satisfied: urllib3<1.27,>=1.21.1 in /usr/local/lib/python3.9/dist-packages (from requests>=2.19.0->evaluate) (1.26.15)\n",
            "Requirement already satisfied: idna<4,>=2.5 in /usr/local/lib/python3.9/dist-packages (from requests>=2.19.0->evaluate) (3.4)\n",
            "Requirement already satisfied: python-dateutil>=2.8.1 in /usr/local/lib/python3.9/dist-packages (from pandas->evaluate) (2.8.2)\n",
            "Requirement already satisfied: pytz>=2020.1 in /usr/local/lib/python3.9/dist-packages (from pandas->evaluate) (2022.7.1)\n",
            "Requirement already satisfied: async-timeout<5.0,>=4.0.0a3 in /usr/local/lib/python3.9/dist-packages (from aiohttp->datasets>=2.0.0->evaluate) (4.0.2)\n",
            "Requirement already satisfied: multidict<7.0,>=4.5 in /usr/local/lib/python3.9/dist-packages (from aiohttp->datasets>=2.0.0->evaluate) (6.0.4)\n",
            "Requirement already satisfied: aiosignal>=1.1.2 in /usr/local/lib/python3.9/dist-packages (from aiohttp->datasets>=2.0.0->evaluate) (1.3.1)\n",
            "Requirement already satisfied: frozenlist>=1.1.1 in /usr/local/lib/python3.9/dist-packages (from aiohttp->datasets>=2.0.0->evaluate) (1.3.3)\n",
            "Requirement already satisfied: yarl<2.0,>=1.0 in /usr/local/lib/python3.9/dist-packages (from aiohttp->datasets>=2.0.0->evaluate) (1.8.2)\n",
            "Requirement already satisfied: attrs>=17.3.0 in /usr/local/lib/python3.9/dist-packages (from aiohttp->datasets>=2.0.0->evaluate) (22.2.0)\n",
            "Requirement already satisfied: six>=1.5 in /usr/local/lib/python3.9/dist-packages (from python-dateutil>=2.8.1->pandas->evaluate) (1.16.0)\n"
          ]
        }
      ]
    },
    {
      "cell_type": "markdown",
      "source": [
        "# Imports and Classes #"
      ],
      "metadata": {
        "id": "msMc7AY-F6rh"
      }
    },
    {
      "cell_type": "code",
      "source": [
        "import numpy as np # linear algebra\n",
        "import pandas as pd # data processing, CSV file I/O (e.g. pd.read_csv)"
      ],
      "metadata": {
        "_uuid": "8f2839f25d086af736a60e9eeb907d3b93b6e0e5",
        "_cell_guid": "b1076dfc-b9ad-4769-8c92-a6c4dae69d19",
        "execution": {
          "iopub.status.busy": "2023-04-05T13:56:02.165309Z",
          "iopub.execute_input": "2023-04-05T13:56:02.165872Z",
          "iopub.status.idle": "2023-04-05T13:56:02.178171Z",
          "shell.execute_reply.started": "2023-04-05T13:56:02.165825Z",
          "shell.execute_reply": "2023-04-05T13:56:02.176753Z"
        },
        "trusted": true,
        "id": "dHK-we3FFKQS"
      },
      "execution_count": 5,
      "outputs": []
    },
    {
      "cell_type": "code",
      "source": [
        "import matplotlib.pyplot as plt\n",
        "import re\n",
        "from collections import OrderedDict\n",
        "import torch\n",
        "import transformers\n",
        "from transformers import AlbertTokenizer, AlbertModel, DistilBertTokenizer, DistilBertModel, RobertaTokenizer, RobertaModel\n",
        "from torch.utils.data import Dataset, DataLoader\n",
        "from torch import cuda\n",
        "from tqdm import tqdm\n",
        "from sklearn.metrics import classification_report, f1_score, accuracy_score, confusion_matrix, ConfusionMatrixDisplay\n",
        "from sklearn.model_selection import train_test_split\n",
        "device = 'cuda' if cuda.is_available() else 'cpu'"
      ],
      "metadata": {
        "execution": {
          "iopub.status.busy": "2023-04-05T13:56:02.180556Z",
          "iopub.execute_input": "2023-04-05T13:56:02.181744Z",
          "iopub.status.idle": "2023-04-05T13:56:02.193576Z",
          "shell.execute_reply.started": "2023-04-05T13:56:02.181687Z",
          "shell.execute_reply": "2023-04-05T13:56:02.191788Z"
        },
        "trusted": true,
        "id": "mo2sHhRlFKQX"
      },
      "execution_count": 6,
      "outputs": []
    },
    {
      "cell_type": "markdown",
      "source": [
        "### Neural Network ###"
      ],
      "metadata": {
        "id": "T5_o27jvcncD"
      }
    },
    {
      "cell_type": "code",
      "source": [
        "# class NetMultiTask(torch.nn.Module):\n",
        "#     def __init__(self):\n",
        "#         super(NetMultiTask, self).__init__()\n",
        "#         self.net = AlbertModel.from_pretrained(\"albert-base-v2\")\n",
        "        \n",
        "#         self.pre_classifier1 = torch.nn.Linear(768, 768)\n",
        "#         self.dropout1 = torch.nn.Dropout(0.2)\n",
        "#         self.classifier1 = torch.nn.Linear(768, 2)\n",
        "        \n",
        "#         self.pre_classifier2 = torch.nn.Linear(768, 768)\n",
        "#         self.dropout2 = torch.nn.Dropout(0.2)\n",
        "#         self.classifier2 = torch.nn.Linear(768, 3)\n",
        "\n",
        "#     def forward(self, input_ids, attention_mask, token_type_ids, task_id):\n",
        "#         output_1 = self.net(input_ids=input_ids, attention_mask=attention_mask, token_type_ids=token_type_ids)\n",
        "#         hidden_state = output_1[0]\n",
        "#         pooler = hidden_state[:, 0]\n",
        "#         if task_id == 1:\n",
        "#           pooler = self.pre_classifier1(pooler)\n",
        "#           pooler = torch.nn.ReLU()(pooler)\n",
        "#           pooler = self.dropout1(pooler)\n",
        "#           output = self.classifier1(pooler)\n",
        "#         elif task_id == 2:\n",
        "#           pooler = self.pre_classifier2(pooler)\n",
        "#           pooler = torch.nn.ReLU()(pooler)\n",
        "#           pooler = self.dropout2(pooler)\n",
        "#           output = self.classifier2(pooler)\n",
        "#         else:\n",
        "#             assert False, 'Bad Task ID passed'\n",
        "#         return output"
      ],
      "metadata": {
        "id": "S-ETSUhzcmO-"
      },
      "execution_count": 7,
      "outputs": []
    },
    {
      "cell_type": "code",
      "source": [
        "# class NetMultiTask(torch.nn.Module):\n",
        "#     def __init__(self):\n",
        "#         super(NetMultiTask, self).__init__()\n",
        "#         self.net = AlbertModel.from_pretrained(\"albert-large-v2\")\n",
        "        \n",
        "#         self.net.fc1 = torch.nn.Sequential(OrderedDict(\n",
        "#             [('linear1', torch.nn.Linear(1024,1024)),\n",
        "#             ('relu1', torch.nn.ReLU()),\n",
        "#             ('dropout1', torch.nn.Dropout(0.2)),\n",
        "#             ('final1', torch.nn.Linear(1024, 2))]))\n",
        "        \n",
        "#         self.net.fc2 = torch.nn.Sequential(OrderedDict(\n",
        "#             [('linear2', torch.nn.Linear(1024, 1024)),\n",
        "#             ('relu2', torch.nn.ReLU()),\n",
        "#             ('dropout2', torch.nn.Dropout(0.2)),\n",
        "#             ('final2', torch.nn.Linear(1024, 3))]))\n",
        "\n",
        "#     def forward(self, input_ids, attention_mask, token_type_ids, task_id):\n",
        "#         output_1 = self.net(input_ids=input_ids, attention_mask=attention_mask, token_type_ids=token_type_ids)\n",
        "#         hidden_state = output_1[0]\n",
        "#         pooler = hidden_state[:, 0]\n",
        "#         if task_id == 1:\n",
        "#             pooler =  self.net.fc1(pooler)\n",
        "#         elif task_id == 2:\n",
        "#             pooler = self.net.fc2(pooler)\n",
        "#         else:\n",
        "#             assert False, 'Bad Task ID passed'\n",
        "#         return pooler"
      ],
      "metadata": {
        "id": "St8REER4z-vs"
      },
      "execution_count": 8,
      "outputs": []
    },
    {
      "cell_type": "code",
      "source": [
        "# class NetMultiTask(torch.nn.Module):\n",
        "#     def __init__(self):\n",
        "#         super(NetMultiTask, self).__init__()\n",
        "#         self.net = RobertaModel.from_pretrained(\"roberta-base\")\n",
        "        \n",
        "#         self.pre_classifier1 = torch.nn.Linear(768, 768)\n",
        "#         self.dropout1 = torch.nn.Dropout(0.2)\n",
        "#         self.classifier1 = torch.nn.Linear(768, 2)\n",
        "        \n",
        "#         self.pre_classifier2 = torch.nn.Linear(768, 768)\n",
        "#         self.dropout2 = torch.nn.Dropout(0.2)\n",
        "#         self.classifier2 = torch.nn.Linear(768, 3)\n",
        "\n",
        "#     def forward(self, input_ids, attention_mask, token_type_ids, task_id):\n",
        "#         output_1 = self.net(input_ids=input_ids, attention_mask=attention_mask, token_type_ids=token_type_ids)\n",
        "#         hidden_state = output_1[0]\n",
        "#         pooler = hidden_state[:, 0]\n",
        "#         if task_id == 1:\n",
        "#           pooler = self.pre_classifier1(pooler)\n",
        "#           pooler = torch.nn.ReLU()(pooler)\n",
        "#           pooler = self.dropout1(pooler)\n",
        "#           output = self.classifier1(pooler)\n",
        "#         elif task_id == 2:\n",
        "#           pooler = self.pre_classifier2(pooler)\n",
        "#           pooler = torch.nn.ReLU()(pooler)\n",
        "#           pooler = self.dropout2(pooler)\n",
        "#           output = self.classifier2(pooler)\n",
        "#         else:\n",
        "#             assert False, 'Bad Task ID passed'\n",
        "#         return output"
      ],
      "metadata": {
        "id": "1dIjOKAnEecF"
      },
      "execution_count": 9,
      "outputs": []
    },
    {
      "cell_type": "markdown",
      "source": [
        "### Training and Inference Loops ###"
      ],
      "metadata": {
        "id": "GNvydYJac6cu"
      }
    },
    {
      "cell_type": "markdown",
      "source": [
        "#I. Data Preprocessing #"
      ],
      "metadata": {
        "id": "5wXwmlGVFKQZ"
      }
    },
    {
      "cell_type": "markdown",
      "source": [
        "### EDA ###"
      ],
      "metadata": {
        "id": "dvJZ11Z0Yox7"
      }
    },
    {
      "cell_type": "code",
      "source": [
        "def data_quality(df):\n",
        "  # find datatype of each column\n",
        "  data_types = pd.DataFrame(df.dtypes, columns=['Data Type'])\n",
        "\n",
        "  # count number of missing observations by column\n",
        "  missing_data_counts = pd.DataFrame(df.isnull().sum(), columns=['Missing Values'])\n",
        "\n",
        "  # count number of present observations by column\n",
        "  present_data_counts = pd.DataFrame(df.count(), columns=['Present Values'])\n",
        "\n",
        "  # count number of unique observations by column\n",
        "  unique_value_counts = pd.DataFrame(columns=['Unique Values'])\n",
        "  for v in list(df.columns.values):\n",
        "      unique_value_counts.loc[v] = [df[v].nunique()]\n",
        "\n",
        "  data_quality_report = pd.concat([present_data_counts, missing_data_counts, unique_value_counts], axis=1)\n",
        "  return data_quality_report"
      ],
      "metadata": {
        "execution": {
          "iopub.status.busy": "2023-04-05T13:56:02.646767Z",
          "iopub.execute_input": "2023-04-05T13:56:02.647240Z",
          "iopub.status.idle": "2023-04-05T13:56:02.655771Z",
          "shell.execute_reply.started": "2023-04-05T13:56:02.647205Z",
          "shell.execute_reply": "2023-04-05T13:56:02.654222Z"
        },
        "trusted": true,
        "id": "nQ788ipOFKQa"
      },
      "execution_count": 10,
      "outputs": []
    },
    {
      "cell_type": "code",
      "source": [
        "d_train_orig = pd.read_csv(\"/content/drive/MyDrive/BT5151/group_project/train.csv\")\n",
        "d_test_orig = pd.read_csv(\"/content/drive/MyDrive/BT5151/group_project/test.csv\")\n",
        "s_train_orig = pd.read_csv(\"/content/drive/MyDrive/BT5151/group_project/tweets.csv\")"
      ],
      "metadata": {
        "execution": {
          "iopub.status.busy": "2023-04-05T13:56:02.657464Z",
          "iopub.execute_input": "2023-04-05T13:56:02.657840Z",
          "iopub.status.idle": "2023-04-05T13:56:02.781962Z",
          "shell.execute_reply.started": "2023-04-05T13:56:02.657788Z",
          "shell.execute_reply": "2023-04-05T13:56:02.780612Z"
        },
        "trusted": true,
        "id": "n16bnOsfFKQb"
      },
      "execution_count": 11,
      "outputs": []
    },
    {
      "cell_type": "code",
      "source": [
        "d_train_orig.head()"
      ],
      "metadata": {
        "execution": {
          "iopub.status.busy": "2023-04-05T13:56:02.783539Z",
          "iopub.execute_input": "2023-04-05T13:56:02.783902Z",
          "iopub.status.idle": "2023-04-05T13:56:02.800610Z",
          "shell.execute_reply.started": "2023-04-05T13:56:02.783867Z",
          "shell.execute_reply": "2023-04-05T13:56:02.798542Z"
        },
        "trusted": true,
        "colab": {
          "base_uri": "https://localhost:8080/",
          "height": 206
        },
        "id": "wdc5rQR6FKQb",
        "outputId": "5661e5e9-920f-4f6e-9951-d6d2f7f2907d"
      },
      "execution_count": 12,
      "outputs": [
        {
          "output_type": "execute_result",
          "data": {
            "text/plain": [
              "   id keyword location                                               text  \\\n",
              "0   1     NaN      NaN  Our Deeds are the Reason of this #earthquake M...   \n",
              "1   4     NaN      NaN             Forest fire near La Ronge Sask. Canada   \n",
              "2   5     NaN      NaN  All residents asked to 'shelter in place' are ...   \n",
              "3   6     NaN      NaN  13,000 people receive #wildfires evacuation or...   \n",
              "4   7     NaN      NaN  Just got sent this photo from Ruby #Alaska as ...   \n",
              "\n",
              "   target  \n",
              "0       1  \n",
              "1       1  \n",
              "2       1  \n",
              "3       1  \n",
              "4       1  "
            ],
            "text/html": [
              "\n",
              "  <div id=\"df-40c3caaa-5732-4704-884d-a017d2c36244\">\n",
              "    <div class=\"colab-df-container\">\n",
              "      <div>\n",
              "<style scoped>\n",
              "    .dataframe tbody tr th:only-of-type {\n",
              "        vertical-align: middle;\n",
              "    }\n",
              "\n",
              "    .dataframe tbody tr th {\n",
              "        vertical-align: top;\n",
              "    }\n",
              "\n",
              "    .dataframe thead th {\n",
              "        text-align: right;\n",
              "    }\n",
              "</style>\n",
              "<table border=\"1\" class=\"dataframe\">\n",
              "  <thead>\n",
              "    <tr style=\"text-align: right;\">\n",
              "      <th></th>\n",
              "      <th>id</th>\n",
              "      <th>keyword</th>\n",
              "      <th>location</th>\n",
              "      <th>text</th>\n",
              "      <th>target</th>\n",
              "    </tr>\n",
              "  </thead>\n",
              "  <tbody>\n",
              "    <tr>\n",
              "      <th>0</th>\n",
              "      <td>1</td>\n",
              "      <td>NaN</td>\n",
              "      <td>NaN</td>\n",
              "      <td>Our Deeds are the Reason of this #earthquake M...</td>\n",
              "      <td>1</td>\n",
              "    </tr>\n",
              "    <tr>\n",
              "      <th>1</th>\n",
              "      <td>4</td>\n",
              "      <td>NaN</td>\n",
              "      <td>NaN</td>\n",
              "      <td>Forest fire near La Ronge Sask. Canada</td>\n",
              "      <td>1</td>\n",
              "    </tr>\n",
              "    <tr>\n",
              "      <th>2</th>\n",
              "      <td>5</td>\n",
              "      <td>NaN</td>\n",
              "      <td>NaN</td>\n",
              "      <td>All residents asked to 'shelter in place' are ...</td>\n",
              "      <td>1</td>\n",
              "    </tr>\n",
              "    <tr>\n",
              "      <th>3</th>\n",
              "      <td>6</td>\n",
              "      <td>NaN</td>\n",
              "      <td>NaN</td>\n",
              "      <td>13,000 people receive #wildfires evacuation or...</td>\n",
              "      <td>1</td>\n",
              "    </tr>\n",
              "    <tr>\n",
              "      <th>4</th>\n",
              "      <td>7</td>\n",
              "      <td>NaN</td>\n",
              "      <td>NaN</td>\n",
              "      <td>Just got sent this photo from Ruby #Alaska as ...</td>\n",
              "      <td>1</td>\n",
              "    </tr>\n",
              "  </tbody>\n",
              "</table>\n",
              "</div>\n",
              "      <button class=\"colab-df-convert\" onclick=\"convertToInteractive('df-40c3caaa-5732-4704-884d-a017d2c36244')\"\n",
              "              title=\"Convert this dataframe to an interactive table.\"\n",
              "              style=\"display:none;\">\n",
              "        \n",
              "  <svg xmlns=\"http://www.w3.org/2000/svg\" height=\"24px\"viewBox=\"0 0 24 24\"\n",
              "       width=\"24px\">\n",
              "    <path d=\"M0 0h24v24H0V0z\" fill=\"none\"/>\n",
              "    <path d=\"M18.56 5.44l.94 2.06.94-2.06 2.06-.94-2.06-.94-.94-2.06-.94 2.06-2.06.94zm-11 1L8.5 8.5l.94-2.06 2.06-.94-2.06-.94L8.5 2.5l-.94 2.06-2.06.94zm10 10l.94 2.06.94-2.06 2.06-.94-2.06-.94-.94-2.06-.94 2.06-2.06.94z\"/><path d=\"M17.41 7.96l-1.37-1.37c-.4-.4-.92-.59-1.43-.59-.52 0-1.04.2-1.43.59L10.3 9.45l-7.72 7.72c-.78.78-.78 2.05 0 2.83L4 21.41c.39.39.9.59 1.41.59.51 0 1.02-.2 1.41-.59l7.78-7.78 2.81-2.81c.8-.78.8-2.07 0-2.86zM5.41 20L4 18.59l7.72-7.72 1.47 1.35L5.41 20z\"/>\n",
              "  </svg>\n",
              "      </button>\n",
              "      \n",
              "  <style>\n",
              "    .colab-df-container {\n",
              "      display:flex;\n",
              "      flex-wrap:wrap;\n",
              "      gap: 12px;\n",
              "    }\n",
              "\n",
              "    .colab-df-convert {\n",
              "      background-color: #E8F0FE;\n",
              "      border: none;\n",
              "      border-radius: 50%;\n",
              "      cursor: pointer;\n",
              "      display: none;\n",
              "      fill: #1967D2;\n",
              "      height: 32px;\n",
              "      padding: 0 0 0 0;\n",
              "      width: 32px;\n",
              "    }\n",
              "\n",
              "    .colab-df-convert:hover {\n",
              "      background-color: #E2EBFA;\n",
              "      box-shadow: 0px 1px 2px rgba(60, 64, 67, 0.3), 0px 1px 3px 1px rgba(60, 64, 67, 0.15);\n",
              "      fill: #174EA6;\n",
              "    }\n",
              "\n",
              "    [theme=dark] .colab-df-convert {\n",
              "      background-color: #3B4455;\n",
              "      fill: #D2E3FC;\n",
              "    }\n",
              "\n",
              "    [theme=dark] .colab-df-convert:hover {\n",
              "      background-color: #434B5C;\n",
              "      box-shadow: 0px 1px 3px 1px rgba(0, 0, 0, 0.15);\n",
              "      filter: drop-shadow(0px 1px 2px rgba(0, 0, 0, 0.3));\n",
              "      fill: #FFFFFF;\n",
              "    }\n",
              "  </style>\n",
              "\n",
              "      <script>\n",
              "        const buttonEl =\n",
              "          document.querySelector('#df-40c3caaa-5732-4704-884d-a017d2c36244 button.colab-df-convert');\n",
              "        buttonEl.style.display =\n",
              "          google.colab.kernel.accessAllowed ? 'block' : 'none';\n",
              "\n",
              "        async function convertToInteractive(key) {\n",
              "          const element = document.querySelector('#df-40c3caaa-5732-4704-884d-a017d2c36244');\n",
              "          const dataTable =\n",
              "            await google.colab.kernel.invokeFunction('convertToInteractive',\n",
              "                                                     [key], {});\n",
              "          if (!dataTable) return;\n",
              "\n",
              "          const docLinkHtml = 'Like what you see? Visit the ' +\n",
              "            '<a target=\"_blank\" href=https://colab.research.google.com/notebooks/data_table.ipynb>data table notebook</a>'\n",
              "            + ' to learn more about interactive tables.';\n",
              "          element.innerHTML = '';\n",
              "          dataTable['output_type'] = 'display_data';\n",
              "          await google.colab.output.renderOutput(dataTable, element);\n",
              "          const docLink = document.createElement('div');\n",
              "          docLink.innerHTML = docLinkHtml;\n",
              "          element.appendChild(docLink);\n",
              "        }\n",
              "      </script>\n",
              "    </div>\n",
              "  </div>\n",
              "  "
            ]
          },
          "metadata": {},
          "execution_count": 12
        }
      ]
    },
    {
      "cell_type": "code",
      "source": [
        "d_test_orig.head()"
      ],
      "metadata": {
        "execution": {
          "iopub.status.busy": "2023-04-05T13:56:02.803021Z",
          "iopub.execute_input": "2023-04-05T13:56:02.803463Z",
          "iopub.status.idle": "2023-04-05T13:56:02.824729Z",
          "shell.execute_reply.started": "2023-04-05T13:56:02.803425Z",
          "shell.execute_reply": "2023-04-05T13:56:02.822362Z"
        },
        "trusted": true,
        "colab": {
          "base_uri": "https://localhost:8080/",
          "height": 206
        },
        "id": "Ux_qh-DZFKQc",
        "outputId": "b994c39b-556f-419b-b543-7db1cc800556"
      },
      "execution_count": 13,
      "outputs": [
        {
          "output_type": "execute_result",
          "data": {
            "text/plain": [
              "   id keyword location                                               text\n",
              "0   0     NaN      NaN                 Just happened a terrible car crash\n",
              "1   2     NaN      NaN  Heard about #earthquake is different cities, s...\n",
              "2   3     NaN      NaN  there is a forest fire at spot pond, geese are...\n",
              "3   9     NaN      NaN           Apocalypse lighting. #Spokane #wildfires\n",
              "4  11     NaN      NaN      Typhoon Soudelor kills 28 in China and Taiwan"
            ],
            "text/html": [
              "\n",
              "  <div id=\"df-4556e43a-3ee2-471d-9568-a49fc5d33e04\">\n",
              "    <div class=\"colab-df-container\">\n",
              "      <div>\n",
              "<style scoped>\n",
              "    .dataframe tbody tr th:only-of-type {\n",
              "        vertical-align: middle;\n",
              "    }\n",
              "\n",
              "    .dataframe tbody tr th {\n",
              "        vertical-align: top;\n",
              "    }\n",
              "\n",
              "    .dataframe thead th {\n",
              "        text-align: right;\n",
              "    }\n",
              "</style>\n",
              "<table border=\"1\" class=\"dataframe\">\n",
              "  <thead>\n",
              "    <tr style=\"text-align: right;\">\n",
              "      <th></th>\n",
              "      <th>id</th>\n",
              "      <th>keyword</th>\n",
              "      <th>location</th>\n",
              "      <th>text</th>\n",
              "    </tr>\n",
              "  </thead>\n",
              "  <tbody>\n",
              "    <tr>\n",
              "      <th>0</th>\n",
              "      <td>0</td>\n",
              "      <td>NaN</td>\n",
              "      <td>NaN</td>\n",
              "      <td>Just happened a terrible car crash</td>\n",
              "    </tr>\n",
              "    <tr>\n",
              "      <th>1</th>\n",
              "      <td>2</td>\n",
              "      <td>NaN</td>\n",
              "      <td>NaN</td>\n",
              "      <td>Heard about #earthquake is different cities, s...</td>\n",
              "    </tr>\n",
              "    <tr>\n",
              "      <th>2</th>\n",
              "      <td>3</td>\n",
              "      <td>NaN</td>\n",
              "      <td>NaN</td>\n",
              "      <td>there is a forest fire at spot pond, geese are...</td>\n",
              "    </tr>\n",
              "    <tr>\n",
              "      <th>3</th>\n",
              "      <td>9</td>\n",
              "      <td>NaN</td>\n",
              "      <td>NaN</td>\n",
              "      <td>Apocalypse lighting. #Spokane #wildfires</td>\n",
              "    </tr>\n",
              "    <tr>\n",
              "      <th>4</th>\n",
              "      <td>11</td>\n",
              "      <td>NaN</td>\n",
              "      <td>NaN</td>\n",
              "      <td>Typhoon Soudelor kills 28 in China and Taiwan</td>\n",
              "    </tr>\n",
              "  </tbody>\n",
              "</table>\n",
              "</div>\n",
              "      <button class=\"colab-df-convert\" onclick=\"convertToInteractive('df-4556e43a-3ee2-471d-9568-a49fc5d33e04')\"\n",
              "              title=\"Convert this dataframe to an interactive table.\"\n",
              "              style=\"display:none;\">\n",
              "        \n",
              "  <svg xmlns=\"http://www.w3.org/2000/svg\" height=\"24px\"viewBox=\"0 0 24 24\"\n",
              "       width=\"24px\">\n",
              "    <path d=\"M0 0h24v24H0V0z\" fill=\"none\"/>\n",
              "    <path d=\"M18.56 5.44l.94 2.06.94-2.06 2.06-.94-2.06-.94-.94-2.06-.94 2.06-2.06.94zm-11 1L8.5 8.5l.94-2.06 2.06-.94-2.06-.94L8.5 2.5l-.94 2.06-2.06.94zm10 10l.94 2.06.94-2.06 2.06-.94-2.06-.94-.94-2.06-.94 2.06-2.06.94z\"/><path d=\"M17.41 7.96l-1.37-1.37c-.4-.4-.92-.59-1.43-.59-.52 0-1.04.2-1.43.59L10.3 9.45l-7.72 7.72c-.78.78-.78 2.05 0 2.83L4 21.41c.39.39.9.59 1.41.59.51 0 1.02-.2 1.41-.59l7.78-7.78 2.81-2.81c.8-.78.8-2.07 0-2.86zM5.41 20L4 18.59l7.72-7.72 1.47 1.35L5.41 20z\"/>\n",
              "  </svg>\n",
              "      </button>\n",
              "      \n",
              "  <style>\n",
              "    .colab-df-container {\n",
              "      display:flex;\n",
              "      flex-wrap:wrap;\n",
              "      gap: 12px;\n",
              "    }\n",
              "\n",
              "    .colab-df-convert {\n",
              "      background-color: #E8F0FE;\n",
              "      border: none;\n",
              "      border-radius: 50%;\n",
              "      cursor: pointer;\n",
              "      display: none;\n",
              "      fill: #1967D2;\n",
              "      height: 32px;\n",
              "      padding: 0 0 0 0;\n",
              "      width: 32px;\n",
              "    }\n",
              "\n",
              "    .colab-df-convert:hover {\n",
              "      background-color: #E2EBFA;\n",
              "      box-shadow: 0px 1px 2px rgba(60, 64, 67, 0.3), 0px 1px 3px 1px rgba(60, 64, 67, 0.15);\n",
              "      fill: #174EA6;\n",
              "    }\n",
              "\n",
              "    [theme=dark] .colab-df-convert {\n",
              "      background-color: #3B4455;\n",
              "      fill: #D2E3FC;\n",
              "    }\n",
              "\n",
              "    [theme=dark] .colab-df-convert:hover {\n",
              "      background-color: #434B5C;\n",
              "      box-shadow: 0px 1px 3px 1px rgba(0, 0, 0, 0.15);\n",
              "      filter: drop-shadow(0px 1px 2px rgba(0, 0, 0, 0.3));\n",
              "      fill: #FFFFFF;\n",
              "    }\n",
              "  </style>\n",
              "\n",
              "      <script>\n",
              "        const buttonEl =\n",
              "          document.querySelector('#df-4556e43a-3ee2-471d-9568-a49fc5d33e04 button.colab-df-convert');\n",
              "        buttonEl.style.display =\n",
              "          google.colab.kernel.accessAllowed ? 'block' : 'none';\n",
              "\n",
              "        async function convertToInteractive(key) {\n",
              "          const element = document.querySelector('#df-4556e43a-3ee2-471d-9568-a49fc5d33e04');\n",
              "          const dataTable =\n",
              "            await google.colab.kernel.invokeFunction('convertToInteractive',\n",
              "                                                     [key], {});\n",
              "          if (!dataTable) return;\n",
              "\n",
              "          const docLinkHtml = 'Like what you see? Visit the ' +\n",
              "            '<a target=\"_blank\" href=https://colab.research.google.com/notebooks/data_table.ipynb>data table notebook</a>'\n",
              "            + ' to learn more about interactive tables.';\n",
              "          element.innerHTML = '';\n",
              "          dataTable['output_type'] = 'display_data';\n",
              "          await google.colab.output.renderOutput(dataTable, element);\n",
              "          const docLink = document.createElement('div');\n",
              "          docLink.innerHTML = docLinkHtml;\n",
              "          element.appendChild(docLink);\n",
              "        }\n",
              "      </script>\n",
              "    </div>\n",
              "  </div>\n",
              "  "
            ]
          },
          "metadata": {},
          "execution_count": 13
        }
      ]
    },
    {
      "cell_type": "code",
      "source": [
        "s_train_orig.head()"
      ],
      "metadata": {
        "execution": {
          "iopub.status.busy": "2023-04-05T13:56:02.826855Z",
          "iopub.execute_input": "2023-04-05T13:56:02.827491Z",
          "iopub.status.idle": "2023-04-05T13:56:02.844270Z",
          "shell.execute_reply.started": "2023-04-05T13:56:02.827447Z",
          "shell.execute_reply": "2023-04-05T13:56:02.842636Z"
        },
        "trusted": true,
        "colab": {
          "base_uri": "https://localhost:8080/",
          "height": 206
        },
        "id": "g1v669vZFKQc",
        "outputId": "8c92017f-e4e1-4c16-8ac0-c22774bc4357"
      },
      "execution_count": 14,
      "outputs": [
        {
          "output_type": "execute_result",
          "data": {
            "text/plain": [
              "       textID                                               text  \\\n",
              "0  cb774db0d1                I`d have responded, if I were going   \n",
              "1  549e992a42      Sooo SAD I will miss you here in San Diego!!!   \n",
              "2  088c60f138                          my boss is bullying me...   \n",
              "3  9642c003ef                     what interview! leave me alone   \n",
              "4  358bd9e861   Sons of ****, why couldn`t they put them on t...   \n",
              "\n",
              "                         selected_text sentiment  \n",
              "0  I`d have responded, if I were going   neutral  \n",
              "1                             Sooo SAD  negative  \n",
              "2                          bullying me  negative  \n",
              "3                       leave me alone  negative  \n",
              "4                        Sons of ****,  negative  "
            ],
            "text/html": [
              "\n",
              "  <div id=\"df-b2835025-5e58-4f57-ba29-071988fe6bfa\">\n",
              "    <div class=\"colab-df-container\">\n",
              "      <div>\n",
              "<style scoped>\n",
              "    .dataframe tbody tr th:only-of-type {\n",
              "        vertical-align: middle;\n",
              "    }\n",
              "\n",
              "    .dataframe tbody tr th {\n",
              "        vertical-align: top;\n",
              "    }\n",
              "\n",
              "    .dataframe thead th {\n",
              "        text-align: right;\n",
              "    }\n",
              "</style>\n",
              "<table border=\"1\" class=\"dataframe\">\n",
              "  <thead>\n",
              "    <tr style=\"text-align: right;\">\n",
              "      <th></th>\n",
              "      <th>textID</th>\n",
              "      <th>text</th>\n",
              "      <th>selected_text</th>\n",
              "      <th>sentiment</th>\n",
              "    </tr>\n",
              "  </thead>\n",
              "  <tbody>\n",
              "    <tr>\n",
              "      <th>0</th>\n",
              "      <td>cb774db0d1</td>\n",
              "      <td>I`d have responded, if I were going</td>\n",
              "      <td>I`d have responded, if I were going</td>\n",
              "      <td>neutral</td>\n",
              "    </tr>\n",
              "    <tr>\n",
              "      <th>1</th>\n",
              "      <td>549e992a42</td>\n",
              "      <td>Sooo SAD I will miss you here in San Diego!!!</td>\n",
              "      <td>Sooo SAD</td>\n",
              "      <td>negative</td>\n",
              "    </tr>\n",
              "    <tr>\n",
              "      <th>2</th>\n",
              "      <td>088c60f138</td>\n",
              "      <td>my boss is bullying me...</td>\n",
              "      <td>bullying me</td>\n",
              "      <td>negative</td>\n",
              "    </tr>\n",
              "    <tr>\n",
              "      <th>3</th>\n",
              "      <td>9642c003ef</td>\n",
              "      <td>what interview! leave me alone</td>\n",
              "      <td>leave me alone</td>\n",
              "      <td>negative</td>\n",
              "    </tr>\n",
              "    <tr>\n",
              "      <th>4</th>\n",
              "      <td>358bd9e861</td>\n",
              "      <td>Sons of ****, why couldn`t they put them on t...</td>\n",
              "      <td>Sons of ****,</td>\n",
              "      <td>negative</td>\n",
              "    </tr>\n",
              "  </tbody>\n",
              "</table>\n",
              "</div>\n",
              "      <button class=\"colab-df-convert\" onclick=\"convertToInteractive('df-b2835025-5e58-4f57-ba29-071988fe6bfa')\"\n",
              "              title=\"Convert this dataframe to an interactive table.\"\n",
              "              style=\"display:none;\">\n",
              "        \n",
              "  <svg xmlns=\"http://www.w3.org/2000/svg\" height=\"24px\"viewBox=\"0 0 24 24\"\n",
              "       width=\"24px\">\n",
              "    <path d=\"M0 0h24v24H0V0z\" fill=\"none\"/>\n",
              "    <path d=\"M18.56 5.44l.94 2.06.94-2.06 2.06-.94-2.06-.94-.94-2.06-.94 2.06-2.06.94zm-11 1L8.5 8.5l.94-2.06 2.06-.94-2.06-.94L8.5 2.5l-.94 2.06-2.06.94zm10 10l.94 2.06.94-2.06 2.06-.94-2.06-.94-.94-2.06-.94 2.06-2.06.94z\"/><path d=\"M17.41 7.96l-1.37-1.37c-.4-.4-.92-.59-1.43-.59-.52 0-1.04.2-1.43.59L10.3 9.45l-7.72 7.72c-.78.78-.78 2.05 0 2.83L4 21.41c.39.39.9.59 1.41.59.51 0 1.02-.2 1.41-.59l7.78-7.78 2.81-2.81c.8-.78.8-2.07 0-2.86zM5.41 20L4 18.59l7.72-7.72 1.47 1.35L5.41 20z\"/>\n",
              "  </svg>\n",
              "      </button>\n",
              "      \n",
              "  <style>\n",
              "    .colab-df-container {\n",
              "      display:flex;\n",
              "      flex-wrap:wrap;\n",
              "      gap: 12px;\n",
              "    }\n",
              "\n",
              "    .colab-df-convert {\n",
              "      background-color: #E8F0FE;\n",
              "      border: none;\n",
              "      border-radius: 50%;\n",
              "      cursor: pointer;\n",
              "      display: none;\n",
              "      fill: #1967D2;\n",
              "      height: 32px;\n",
              "      padding: 0 0 0 0;\n",
              "      width: 32px;\n",
              "    }\n",
              "\n",
              "    .colab-df-convert:hover {\n",
              "      background-color: #E2EBFA;\n",
              "      box-shadow: 0px 1px 2px rgba(60, 64, 67, 0.3), 0px 1px 3px 1px rgba(60, 64, 67, 0.15);\n",
              "      fill: #174EA6;\n",
              "    }\n",
              "\n",
              "    [theme=dark] .colab-df-convert {\n",
              "      background-color: #3B4455;\n",
              "      fill: #D2E3FC;\n",
              "    }\n",
              "\n",
              "    [theme=dark] .colab-df-convert:hover {\n",
              "      background-color: #434B5C;\n",
              "      box-shadow: 0px 1px 3px 1px rgba(0, 0, 0, 0.15);\n",
              "      filter: drop-shadow(0px 1px 2px rgba(0, 0, 0, 0.3));\n",
              "      fill: #FFFFFF;\n",
              "    }\n",
              "  </style>\n",
              "\n",
              "      <script>\n",
              "        const buttonEl =\n",
              "          document.querySelector('#df-b2835025-5e58-4f57-ba29-071988fe6bfa button.colab-df-convert');\n",
              "        buttonEl.style.display =\n",
              "          google.colab.kernel.accessAllowed ? 'block' : 'none';\n",
              "\n",
              "        async function convertToInteractive(key) {\n",
              "          const element = document.querySelector('#df-b2835025-5e58-4f57-ba29-071988fe6bfa');\n",
              "          const dataTable =\n",
              "            await google.colab.kernel.invokeFunction('convertToInteractive',\n",
              "                                                     [key], {});\n",
              "          if (!dataTable) return;\n",
              "\n",
              "          const docLinkHtml = 'Like what you see? Visit the ' +\n",
              "            '<a target=\"_blank\" href=https://colab.research.google.com/notebooks/data_table.ipynb>data table notebook</a>'\n",
              "            + ' to learn more about interactive tables.';\n",
              "          element.innerHTML = '';\n",
              "          dataTable['output_type'] = 'display_data';\n",
              "          await google.colab.output.renderOutput(dataTable, element);\n",
              "          const docLink = document.createElement('div');\n",
              "          docLink.innerHTML = docLinkHtml;\n",
              "          element.appendChild(docLink);\n",
              "        }\n",
              "      </script>\n",
              "    </div>\n",
              "  </div>\n",
              "  "
            ]
          },
          "metadata": {},
          "execution_count": 14
        }
      ]
    },
    {
      "cell_type": "code",
      "source": [
        "print(f\"d_train:{d_train_orig.shape}\\nd_test:{d_test_orig.shape}\\ns_test:{s_train_orig.shape}\")"
      ],
      "metadata": {
        "execution": {
          "iopub.status.busy": "2023-04-05T13:56:02.846125Z",
          "iopub.execute_input": "2023-04-05T13:56:02.846622Z",
          "iopub.status.idle": "2023-04-05T13:56:02.856735Z",
          "shell.execute_reply.started": "2023-04-05T13:56:02.846561Z",
          "shell.execute_reply": "2023-04-05T13:56:02.855258Z"
        },
        "trusted": true,
        "colab": {
          "base_uri": "https://localhost:8080/"
        },
        "id": "fak6bNeQFKQd",
        "outputId": "c1064fdb-86b5-4ae5-b42f-0c4dfbcd8c3e"
      },
      "execution_count": 15,
      "outputs": [
        {
          "output_type": "stream",
          "name": "stdout",
          "text": [
            "d_train:(7613, 5)\n",
            "d_test:(3263, 4)\n",
            "s_test:(27481, 4)\n"
          ]
        }
      ]
    },
    {
      "cell_type": "code",
      "source": [
        "total = d_train_orig.target.value_counts().sum()\n",
        "neg = d_train_orig.target.value_counts()[0]\n",
        "pos = d_train_orig.target.value_counts()[1]\n",
        "print(f\"Not Disaster: Count = {neg} Percent = {neg/total}\\n\"\n",
        "     f\"Disaster:  Count = {pos} Percent = {pos/total}\\n\")"
      ],
      "metadata": {
        "execution": {
          "iopub.status.busy": "2023-04-05T13:56:02.863151Z",
          "iopub.execute_input": "2023-04-05T13:56:02.863612Z",
          "iopub.status.idle": "2023-04-05T13:56:02.879904Z",
          "shell.execute_reply.started": "2023-04-05T13:56:02.863571Z",
          "shell.execute_reply": "2023-04-05T13:56:02.878303Z"
        },
        "trusted": true,
        "colab": {
          "base_uri": "https://localhost:8080/"
        },
        "id": "ZQqzoU-FFKQd",
        "outputId": "404348ed-7a43-4048-bf67-3374af6017e1"
      },
      "execution_count": 16,
      "outputs": [
        {
          "output_type": "stream",
          "name": "stdout",
          "text": [
            "Not Disaster: Count = 4342 Percent = 0.5703402075397347\n",
            "Disaster:  Count = 3271 Percent = 0.4296597924602653\n",
            "\n"
          ]
        }
      ]
    },
    {
      "cell_type": "code",
      "source": [
        "total = s_train_orig.sentiment.value_counts().sum()\n",
        "neu = s_train_orig.sentiment.value_counts()['neutral']\n",
        "neg = s_train_orig.sentiment.value_counts()['negative']\n",
        "pos = s_train_orig.sentiment.value_counts()['positive']\n",
        "print(f\"Neutral: Count = {neu} Percent = {neu/total}\\n\"\n",
        "    f\"Negative: Count = {neg} Percent = {neg/total}\\n\"\n",
        "     f\"Positve:  Count = {pos} Percent = {pos/total}\\n\")"
      ],
      "metadata": {
        "execution": {
          "iopub.status.busy": "2023-04-05T13:56:02.882315Z",
          "iopub.execute_input": "2023-04-05T13:56:02.882702Z",
          "iopub.status.idle": "2023-04-05T13:56:02.902673Z",
          "shell.execute_reply.started": "2023-04-05T13:56:02.882667Z",
          "shell.execute_reply": "2023-04-05T13:56:02.900764Z"
        },
        "trusted": true,
        "colab": {
          "base_uri": "https://localhost:8080/"
        },
        "id": "HpO54GOVFKQd",
        "outputId": "a66d457a-e9df-4b4a-9233-85a371940741"
      },
      "execution_count": 17,
      "outputs": [
        {
          "output_type": "stream",
          "name": "stdout",
          "text": [
            "Neutral: Count = 11118 Percent = 0.4045704304792402\n",
            "Negative: Count = 7781 Percent = 0.2831410792911466\n",
            "Positve:  Count = 8582 Percent = 0.3122884902296132\n",
            "\n"
          ]
        }
      ]
    },
    {
      "cell_type": "code",
      "source": [
        "d_train_orig.columns"
      ],
      "metadata": {
        "execution": {
          "iopub.status.busy": "2023-04-05T13:56:02.905126Z",
          "iopub.execute_input": "2023-04-05T13:56:02.906267Z",
          "iopub.status.idle": "2023-04-05T13:56:02.924660Z",
          "shell.execute_reply.started": "2023-04-05T13:56:02.906195Z",
          "shell.execute_reply": "2023-04-05T13:56:02.922958Z"
        },
        "trusted": true,
        "colab": {
          "base_uri": "https://localhost:8080/"
        },
        "id": "9P5AURz5FKQe",
        "outputId": "fb74db50-2f97-4d4f-ab65-471ecc803070"
      },
      "execution_count": 18,
      "outputs": [
        {
          "output_type": "execute_result",
          "data": {
            "text/plain": [
              "Index(['id', 'keyword', 'location', 'text', 'target'], dtype='object')"
            ]
          },
          "metadata": {},
          "execution_count": 18
        }
      ]
    },
    {
      "cell_type": "code",
      "source": [
        "s_train_orig.columns"
      ],
      "metadata": {
        "execution": {
          "iopub.status.busy": "2023-04-05T13:56:02.926975Z",
          "iopub.execute_input": "2023-04-05T13:56:02.927628Z",
          "iopub.status.idle": "2023-04-05T13:56:02.938334Z",
          "shell.execute_reply.started": "2023-04-05T13:56:02.927569Z",
          "shell.execute_reply": "2023-04-05T13:56:02.936777Z"
        },
        "trusted": true,
        "colab": {
          "base_uri": "https://localhost:8080/"
        },
        "id": "9Rbn9IVyFKQe",
        "outputId": "0387f0a0-866a-461d-930c-cb9bc3e718de"
      },
      "execution_count": 19,
      "outputs": [
        {
          "output_type": "execute_result",
          "data": {
            "text/plain": [
              "Index(['textID', 'text', 'selected_text', 'sentiment'], dtype='object')"
            ]
          },
          "metadata": {},
          "execution_count": 19
        }
      ]
    },
    {
      "cell_type": "code",
      "source": [
        "print(data_quality(d_train_orig))"
      ],
      "metadata": {
        "execution": {
          "iopub.status.busy": "2023-04-05T13:56:02.940363Z",
          "iopub.execute_input": "2023-04-05T13:56:02.940776Z",
          "iopub.status.idle": "2023-04-05T13:56:03.007714Z",
          "shell.execute_reply.started": "2023-04-05T13:56:02.940740Z",
          "shell.execute_reply": "2023-04-05T13:56:03.006285Z"
        },
        "trusted": true,
        "colab": {
          "base_uri": "https://localhost:8080/"
        },
        "id": "kJYNNXIOFKQe",
        "outputId": "7f5279ac-0365-47fe-e7da-a98873d848fe"
      },
      "execution_count": 20,
      "outputs": [
        {
          "output_type": "stream",
          "name": "stdout",
          "text": [
            "          Present Values  Missing Values  Unique Values\n",
            "id                  7613               0           7613\n",
            "keyword             7552              61            221\n",
            "location            5080            2533           3341\n",
            "text                7613               0           7503\n",
            "target              7613               0              2\n"
          ]
        }
      ]
    },
    {
      "cell_type": "code",
      "source": [
        "print(data_quality(s_train_orig))"
      ],
      "metadata": {
        "execution": {
          "iopub.status.busy": "2023-04-05T13:56:03.009897Z",
          "iopub.execute_input": "2023-04-05T13:56:03.010448Z",
          "iopub.status.idle": "2023-04-05T13:56:03.048313Z",
          "shell.execute_reply.started": "2023-04-05T13:56:03.010393Z",
          "shell.execute_reply": "2023-04-05T13:56:03.046825Z"
        },
        "trusted": true,
        "colab": {
          "base_uri": "https://localhost:8080/"
        },
        "id": "PhSbqCTGFKQe",
        "outputId": "fb116782-ee6e-42a8-c002-d25fac1723a7"
      },
      "execution_count": 21,
      "outputs": [
        {
          "output_type": "stream",
          "name": "stdout",
          "text": [
            "               Present Values  Missing Values  Unique Values\n",
            "textID                  27481               0          27481\n",
            "text                    27480               1          27480\n",
            "selected_text           27480               1          22463\n",
            "sentiment               27481               0              3\n"
          ]
        }
      ]
    },
    {
      "cell_type": "markdown",
      "source": [
        "### Data Preprocessing ###"
      ],
      "metadata": {
        "id": "SY1bjqnLFKQe"
      }
    },
    {
      "cell_type": "code",
      "source": [
        "# Helper function that will sentiment to numerical values\n",
        "def map_sentiment(x):\n",
        "    if x == \"negative\":\n",
        "        return 0\n",
        "    elif x ==\"neutral\":\n",
        "        return 1\n",
        "    elif x ==\"positive\":\n",
        "        return 2\n",
        "    else:\n",
        "        return None\n",
        "# Custom Dataset for D1 that will tokenize text and arrange output and labels in a dictionary\n",
        "class DisasterData(Dataset):\n",
        "    def __init__(self, dataframe, tokenizer, max_len):\n",
        "        self.tokenizer = tokenizer\n",
        "        self.data = dataframe\n",
        "        self.text = dataframe.text\n",
        "        self.targets = self.data.target\n",
        "        self.max_len = max_len\n",
        "\n",
        "    def __len__(self):\n",
        "        return len(self.text)\n",
        "\n",
        "    def __getitem__(self, index):\n",
        "        text = str(self.text[index])\n",
        "        text = \" \".join(text.split())\n",
        "\n",
        "        inputs = self.tokenizer.encode_plus(\n",
        "            text,\n",
        "            None,\n",
        "            add_special_tokens=True,\n",
        "            max_length=self.max_len,\n",
        "            truncation=True,\n",
        "            padding = 'max_length',\n",
        "            return_token_type_ids=True\n",
        "        )\n",
        "        ids = inputs['input_ids']\n",
        "        mask = inputs['attention_mask']\n",
        "        token_type_ids = inputs[\"token_type_ids\"]\n",
        "\n",
        "\n",
        "        return {\n",
        "            'ids': torch.tensor(ids, dtype=torch.long),\n",
        "            'mask': torch.tensor(mask, dtype=torch.long),\n",
        "            'token_type_ids': torch.tensor(token_type_ids, dtype=torch.long),\n",
        "            'targets': torch.tensor(self.targets[index], dtype=torch.long)\n",
        "        }\n",
        "\n",
        "# Custom Dataset for D2 that will tokenize text and arrange output and labels in a dictionary\n",
        "class SentimentData(Dataset):\n",
        "    def __init__(self, dataframe, tokenizer, max_len):\n",
        "        self.tokenizer = tokenizer\n",
        "        self.data = dataframe\n",
        "        self.text = dataframe.text\n",
        "        self.targets = self.data.target\n",
        "        self.max_len = max_len\n",
        "\n",
        "    def __len__(self):\n",
        "        return len(self.text)\n",
        "\n",
        "    def __getitem__(self, index):\n",
        "        text = str(self.text[index])\n",
        "        text = \" \".join(text.split())\n",
        "\n",
        "        inputs = self.tokenizer.encode_plus(\n",
        "            text,\n",
        "            None,\n",
        "            add_special_tokens=True,\n",
        "            max_length=self.max_len,\n",
        "            truncation=True,\n",
        "            padding = 'max_length',\n",
        "            return_token_type_ids=True\n",
        "        )\n",
        "        ids = inputs['input_ids']\n",
        "        mask = inputs['attention_mask']\n",
        "        token_type_ids = inputs[\"token_type_ids\"]\n",
        "\n",
        "\n",
        "        return {\n",
        "            'ids': torch.tensor(ids, dtype=torch.long),\n",
        "            'mask': torch.tensor(mask, dtype=torch.long),\n",
        "            'token_type_ids': torch.tensor(token_type_ids, dtype=torch.long),\n",
        "            'targets': torch.tensor(self.targets[index], dtype=torch.long)\n",
        "        }\n",
        " "
      ],
      "metadata": {
        "id": "3PwXQSSUcv0y"
      },
      "execution_count": 22,
      "outputs": []
    },
    {
      "cell_type": "code",
      "source": [
        "# Helper function to remove URLs. May or may not be used\n",
        "def cleaning_URLs(data):\n",
        "    return re.sub('((www.[^s]+)|(https?://[^s]+))',' ',data)"
      ],
      "metadata": {
        "id": "nDY8IqryWdin"
      },
      "execution_count": 23,
      "outputs": []
    },
    {
      "cell_type": "code",
      "source": [
        "# Creating copies of the dataset\n",
        "d_train = d_train_orig.copy()\n",
        "d_test = d_test_orig.copy()\n",
        "s_train = s_train_orig.copy()"
      ],
      "metadata": {
        "id": "GazgsoaZGK-h"
      },
      "execution_count": 24,
      "outputs": []
    },
    {
      "cell_type": "code",
      "source": [
        "# Remove null values\n",
        "s_train.drop(s_train[s_train[\"textID\"]==\"fdb77c3752\"].index, inplace=True)"
      ],
      "metadata": {
        "id": "Yrr_2Q0oYvAf"
      },
      "execution_count": 25,
      "outputs": []
    },
    {
      "cell_type": "code",
      "source": [
        "# Ignore removing URLs for now as tokenizer can probably handle URLs\n",
        "# d_train['text'] = d_train.apply(lambda x: cleaning_URLs(x['text']),axis=1)\n",
        "# #d_test['text'] = d_test.apply(lambda x: cleaning_URLs(x['text']),axis=1)\n",
        "# s_train['text'] = s_train.apply(lambda x: cleaning_URLs(x['text']),axis=1)"
      ],
      "metadata": {
        "id": "QassCZXzWz79"
      },
      "execution_count": 26,
      "outputs": []
    },
    {
      "cell_type": "code",
      "source": [
        "# Removing duplicate text\n",
        "d_train.drop_duplicates(subset=['text'], inplace=True)\n",
        "d_train.shape"
      ],
      "metadata": {
        "colab": {
          "base_uri": "https://localhost:8080/"
        },
        "id": "fp6UWD0iZiia",
        "outputId": "249a0cb6-3540-4b88-b777-2f225c7ed7ce"
      },
      "execution_count": 27,
      "outputs": [
        {
          "output_type": "execute_result",
          "data": {
            "text/plain": [
              "(7503, 5)"
            ]
          },
          "metadata": {},
          "execution_count": 27
        }
      ]
    },
    {
      "cell_type": "code",
      "source": [
        "# Removing duplicate text\n",
        "s_train.drop_duplicates(subset=['text'], inplace=True)\n",
        "s_train.shape"
      ],
      "metadata": {
        "colab": {
          "base_uri": "https://localhost:8080/"
        },
        "id": "xq-Jgho7alAH",
        "outputId": "84802c6a-c3ab-4e89-ec24-cc2d7552a390"
      },
      "execution_count": 28,
      "outputs": [
        {
          "output_type": "execute_result",
          "data": {
            "text/plain": [
              "(27480, 4)"
            ]
          },
          "metadata": {},
          "execution_count": 28
        }
      ]
    },
    {
      "cell_type": "code",
      "source": [
        "# Adding task id to the datasets, might be need later on\n",
        "d_train['id'] = 1\n",
        "s_train['id'] = 2\n",
        "d_train.reset_index(inplace=True)\n",
        "s_train.reset_index(inplace=True)\n",
        "s_train_text = s_train[['text','id','index']].copy()\n",
        "d_train_text = d_train[['text','id','index']].copy()"
      ],
      "metadata": {
        "execution": {
          "iopub.status.busy": "2023-04-05T13:56:03.049930Z",
          "iopub.execute_input": "2023-04-05T13:56:03.050401Z",
          "iopub.status.idle": "2023-04-05T13:56:03.072756Z",
          "shell.execute_reply.started": "2023-04-05T13:56:03.050352Z",
          "shell.execute_reply": "2023-04-05T13:56:03.071607Z"
        },
        "trusted": true,
        "id": "hdQaG_KTFKQf"
      },
      "execution_count": 29,
      "outputs": []
    },
    {
      "cell_type": "code",
      "source": [
        "# Mapping sentiment labels to numbers\n",
        "s_train['sentiment'] = s_train.apply(lambda x: map_sentiment(x.sentiment), axis=1)\n",
        "s_train.rename(columns={'sentiment':'target'}, inplace=True)\n",
        "# Creating copies of the data for passing in to custom dataset\n",
        "d_train_select =  d_train[['text','target']].copy()\n",
        "s_train_select = s_train[['text','target']].copy()"
      ],
      "metadata": {
        "execution": {
          "iopub.status.busy": "2023-04-05T13:56:03.074666Z",
          "iopub.execute_input": "2023-04-05T13:56:03.075028Z",
          "iopub.status.idle": "2023-04-05T13:56:03.492811Z",
          "shell.execute_reply.started": "2023-04-05T13:56:03.074994Z",
          "shell.execute_reply": "2023-04-05T13:56:03.491414Z"
        },
        "trusted": true,
        "id": "4h58AjlDFKQf"
      },
      "execution_count": 30,
      "outputs": []
    },
    {
      "cell_type": "code",
      "source": [
        "# Creating the corpus of text as instructed, but won't be used\n",
        "corpus = pd.concat([d_train_select[[\"text\"]], s_train_select[['text']]])"
      ],
      "metadata": {
        "id": "-ZU7aNsfas30"
      },
      "execution_count": 31,
      "outputs": []
    },
    {
      "cell_type": "code",
      "source": [
        "corpus.shape"
      ],
      "metadata": {
        "colab": {
          "base_uri": "https://localhost:8080/"
        },
        "id": "F1b1GlSxbM44",
        "outputId": "7d14b345-ae79-4893-fb80-728d139e299f"
      },
      "execution_count": 32,
      "outputs": [
        {
          "output_type": "execute_result",
          "data": {
            "text/plain": [
              "(34983, 1)"
            ]
          },
          "metadata": {},
          "execution_count": 32
        }
      ]
    },
    {
      "cell_type": "code",
      "source": [
        "# Pre-trained tokenizer to be used\n",
        "tokenizer = RobertaTokenizer.from_pretrained(\"roberta-base\", do_lower_case=True)\n",
        "\n",
        "# # Hyperparameters below for actual model used\n",
        "MAX_LEN = 512\n",
        "TRAIN_BATCH_SIZE = 8\n",
        "VALID_BATCH_SIZE = 32\n",
        "\n",
        "# Hyperparameters below for experimenting on freezing the pre-trained MLM models\n",
        "# MAX_LEN = 512\n",
        "# TRAIN_BATCH_SIZE = 32\n",
        "# VALID_BATCH_SIZE = 32"
      ],
      "metadata": {
        "execution": {
          "iopub.status.busy": "2023-04-05T13:56:03.495973Z",
          "iopub.execute_input": "2023-04-05T13:56:03.496516Z",
          "iopub.status.idle": "2023-04-05T13:56:03.502431Z",
          "shell.execute_reply.started": "2023-04-05T13:56:03.496466Z",
          "shell.execute_reply": "2023-04-05T13:56:03.501101Z"
        },
        "trusted": true,
        "id": "5C7L7NyQFKQf"
      },
      "execution_count": 33,
      "outputs": []
    },
    {
      "cell_type": "code",
      "source": [
        "# Create train-validate spilts\n",
        "d_train_data, d_val_data = train_test_split(d_train_select, test_size=0.2, stratify=d_train_select['target'],\n",
        "                                 random_state=2023)\n",
        "\n",
        "s_train_data, s_val_data= train_test_split(s_train_select, test_size=0.2, stratify=s_train_select['target'],\n",
        "                                 random_state=2023)\n",
        "\n",
        "# Dropping the index because it can mess up the loops\n",
        "d_train_data.reset_index(inplace=True,drop =True)\n",
        "d_val_data.reset_index(inplace=True, drop =True)\n",
        "s_train_data.reset_index(inplace=True, drop =True)\n",
        "s_val_data.reset_index(inplace=True,  drop =True)"
      ],
      "metadata": {
        "execution": {
          "iopub.status.busy": "2023-04-05T13:56:03.504282Z",
          "iopub.execute_input": "2023-04-05T13:56:03.505845Z",
          "iopub.status.idle": "2023-04-05T13:56:03.534774Z",
          "shell.execute_reply.started": "2023-04-05T13:56:03.505790Z",
          "shell.execute_reply": "2023-04-05T13:56:03.533477Z"
        },
        "trusted": true,
        "id": "CFp5aLW7FKQf"
      },
      "execution_count": 34,
      "outputs": []
    },
    {
      "cell_type": "code",
      "source": [
        "d_train_data.shape"
      ],
      "metadata": {
        "colab": {
          "base_uri": "https://localhost:8080/"
        },
        "id": "PBirAw0YN0jT",
        "outputId": "60c750b3-4dd1-4601-97b8-642bc01b7368"
      },
      "execution_count": 35,
      "outputs": [
        {
          "output_type": "execute_result",
          "data": {
            "text/plain": [
              "(6002, 2)"
            ]
          },
          "metadata": {},
          "execution_count": 35
        }
      ]
    },
    {
      "cell_type": "code",
      "source": [
        "s_train_data.head()"
      ],
      "metadata": {
        "execution": {
          "iopub.status.busy": "2023-04-05T13:56:03.536159Z",
          "iopub.execute_input": "2023-04-05T13:56:03.536496Z",
          "iopub.status.idle": "2023-04-05T13:56:03.548543Z",
          "shell.execute_reply.started": "2023-04-05T13:56:03.536462Z",
          "shell.execute_reply": "2023-04-05T13:56:03.546966Z"
        },
        "trusted": true,
        "colab": {
          "base_uri": "https://localhost:8080/",
          "height": 206
        },
        "id": "xEeAA6Z5FKQf",
        "outputId": "26aee2c3-a83c-438e-e36d-036bf0593816"
      },
      "execution_count": 36,
      "outputs": [
        {
          "output_type": "execute_result",
          "data": {
            "text/plain": [
              "                                                text  target\n",
              "0      Happy mother`s day nfty!!!!!!!!!!!!!!!!!!!!!!       2\n",
              "1                 not  you, me, just drank too much.       0\n",
              "2   Brilliant  Thanks! Not sure what brownie poin...       2\n",
              "3    Does anyone update the photowalkingutah goog...       1\n",
              "4               weee! internet is back here at home!       2"
            ],
            "text/html": [
              "\n",
              "  <div id=\"df-f233223a-0e96-4475-afe0-55c0d53f0d57\">\n",
              "    <div class=\"colab-df-container\">\n",
              "      <div>\n",
              "<style scoped>\n",
              "    .dataframe tbody tr th:only-of-type {\n",
              "        vertical-align: middle;\n",
              "    }\n",
              "\n",
              "    .dataframe tbody tr th {\n",
              "        vertical-align: top;\n",
              "    }\n",
              "\n",
              "    .dataframe thead th {\n",
              "        text-align: right;\n",
              "    }\n",
              "</style>\n",
              "<table border=\"1\" class=\"dataframe\">\n",
              "  <thead>\n",
              "    <tr style=\"text-align: right;\">\n",
              "      <th></th>\n",
              "      <th>text</th>\n",
              "      <th>target</th>\n",
              "    </tr>\n",
              "  </thead>\n",
              "  <tbody>\n",
              "    <tr>\n",
              "      <th>0</th>\n",
              "      <td>Happy mother`s day nfty!!!!!!!!!!!!!!!!!!!!!!</td>\n",
              "      <td>2</td>\n",
              "    </tr>\n",
              "    <tr>\n",
              "      <th>1</th>\n",
              "      <td>not  you, me, just drank too much.</td>\n",
              "      <td>0</td>\n",
              "    </tr>\n",
              "    <tr>\n",
              "      <th>2</th>\n",
              "      <td>Brilliant  Thanks! Not sure what brownie poin...</td>\n",
              "      <td>2</td>\n",
              "    </tr>\n",
              "    <tr>\n",
              "      <th>3</th>\n",
              "      <td>Does anyone update the photowalkingutah goog...</td>\n",
              "      <td>1</td>\n",
              "    </tr>\n",
              "    <tr>\n",
              "      <th>4</th>\n",
              "      <td>weee! internet is back here at home!</td>\n",
              "      <td>2</td>\n",
              "    </tr>\n",
              "  </tbody>\n",
              "</table>\n",
              "</div>\n",
              "      <button class=\"colab-df-convert\" onclick=\"convertToInteractive('df-f233223a-0e96-4475-afe0-55c0d53f0d57')\"\n",
              "              title=\"Convert this dataframe to an interactive table.\"\n",
              "              style=\"display:none;\">\n",
              "        \n",
              "  <svg xmlns=\"http://www.w3.org/2000/svg\" height=\"24px\"viewBox=\"0 0 24 24\"\n",
              "       width=\"24px\">\n",
              "    <path d=\"M0 0h24v24H0V0z\" fill=\"none\"/>\n",
              "    <path d=\"M18.56 5.44l.94 2.06.94-2.06 2.06-.94-2.06-.94-.94-2.06-.94 2.06-2.06.94zm-11 1L8.5 8.5l.94-2.06 2.06-.94-2.06-.94L8.5 2.5l-.94 2.06-2.06.94zm10 10l.94 2.06.94-2.06 2.06-.94-2.06-.94-.94-2.06-.94 2.06-2.06.94z\"/><path d=\"M17.41 7.96l-1.37-1.37c-.4-.4-.92-.59-1.43-.59-.52 0-1.04.2-1.43.59L10.3 9.45l-7.72 7.72c-.78.78-.78 2.05 0 2.83L4 21.41c.39.39.9.59 1.41.59.51 0 1.02-.2 1.41-.59l7.78-7.78 2.81-2.81c.8-.78.8-2.07 0-2.86zM5.41 20L4 18.59l7.72-7.72 1.47 1.35L5.41 20z\"/>\n",
              "  </svg>\n",
              "      </button>\n",
              "      \n",
              "  <style>\n",
              "    .colab-df-container {\n",
              "      display:flex;\n",
              "      flex-wrap:wrap;\n",
              "      gap: 12px;\n",
              "    }\n",
              "\n",
              "    .colab-df-convert {\n",
              "      background-color: #E8F0FE;\n",
              "      border: none;\n",
              "      border-radius: 50%;\n",
              "      cursor: pointer;\n",
              "      display: none;\n",
              "      fill: #1967D2;\n",
              "      height: 32px;\n",
              "      padding: 0 0 0 0;\n",
              "      width: 32px;\n",
              "    }\n",
              "\n",
              "    .colab-df-convert:hover {\n",
              "      background-color: #E2EBFA;\n",
              "      box-shadow: 0px 1px 2px rgba(60, 64, 67, 0.3), 0px 1px 3px 1px rgba(60, 64, 67, 0.15);\n",
              "      fill: #174EA6;\n",
              "    }\n",
              "\n",
              "    [theme=dark] .colab-df-convert {\n",
              "      background-color: #3B4455;\n",
              "      fill: #D2E3FC;\n",
              "    }\n",
              "\n",
              "    [theme=dark] .colab-df-convert:hover {\n",
              "      background-color: #434B5C;\n",
              "      box-shadow: 0px 1px 3px 1px rgba(0, 0, 0, 0.15);\n",
              "      filter: drop-shadow(0px 1px 2px rgba(0, 0, 0, 0.3));\n",
              "      fill: #FFFFFF;\n",
              "    }\n",
              "  </style>\n",
              "\n",
              "      <script>\n",
              "        const buttonEl =\n",
              "          document.querySelector('#df-f233223a-0e96-4475-afe0-55c0d53f0d57 button.colab-df-convert');\n",
              "        buttonEl.style.display =\n",
              "          google.colab.kernel.accessAllowed ? 'block' : 'none';\n",
              "\n",
              "        async function convertToInteractive(key) {\n",
              "          const element = document.querySelector('#df-f233223a-0e96-4475-afe0-55c0d53f0d57');\n",
              "          const dataTable =\n",
              "            await google.colab.kernel.invokeFunction('convertToInteractive',\n",
              "                                                     [key], {});\n",
              "          if (!dataTable) return;\n",
              "\n",
              "          const docLinkHtml = 'Like what you see? Visit the ' +\n",
              "            '<a target=\"_blank\" href=https://colab.research.google.com/notebooks/data_table.ipynb>data table notebook</a>'\n",
              "            + ' to learn more about interactive tables.';\n",
              "          element.innerHTML = '';\n",
              "          dataTable['output_type'] = 'display_data';\n",
              "          await google.colab.output.renderOutput(dataTable, element);\n",
              "          const docLink = document.createElement('div');\n",
              "          docLink.innerHTML = docLinkHtml;\n",
              "          element.appendChild(docLink);\n",
              "        }\n",
              "      </script>\n",
              "    </div>\n",
              "  </div>\n",
              "  "
            ]
          },
          "metadata": {},
          "execution_count": 36
        }
      ]
    },
    {
      "cell_type": "code",
      "source": [
        "# Create D1 and D2 training and validation Datasets. This will tokenize the datasets on the fly\n",
        "d1_train_set= DisasterData(d_train_data, tokenizer, MAX_LEN)\n",
        "d1_val_set = DisasterData(d_val_data, tokenizer, MAX_LEN)\n",
        "\n",
        "d2_train_set= SentimentData(s_train_data, tokenizer, MAX_LEN)\n",
        "d2_val_set = SentimentData(s_val_data, tokenizer, MAX_LEN)"
      ],
      "metadata": {
        "execution": {
          "iopub.status.busy": "2023-04-05T13:56:03.550480Z",
          "iopub.execute_input": "2023-04-05T13:56:03.550905Z",
          "iopub.status.idle": "2023-04-05T13:56:03.561432Z",
          "shell.execute_reply.started": "2023-04-05T13:56:03.550865Z",
          "shell.execute_reply": "2023-04-05T13:56:03.560097Z"
        },
        "trusted": true,
        "id": "_EJ8mUztFKQf"
      },
      "execution_count": 37,
      "outputs": []
    },
    {
      "cell_type": "code",
      "source": [
        "# Create D1 and D2 dataloaders\n",
        "train_params = {'batch_size': TRAIN_BATCH_SIZE,\n",
        "                'shuffle': True,\n",
        "                'num_workers': 0\n",
        "                }\n",
        "\n",
        "test_params = {'batch_size': VALID_BATCH_SIZE,\n",
        "                'shuffle': False,\n",
        "                'num_workers': 0\n",
        "                }\n",
        "\n",
        "d1_train_loader = DataLoader(d1_train_set, **train_params)\n",
        "d1_val_loader = DataLoader(d1_val_set, **test_params)\n",
        "\n",
        "d2_train_loader = DataLoader(d2_train_set, **train_params)\n",
        "d2_val_loader = DataLoader(d2_val_set, **test_params)"
      ],
      "metadata": {
        "execution": {
          "iopub.status.busy": "2023-04-05T13:56:03.562680Z",
          "iopub.execute_input": "2023-04-05T13:56:03.563005Z",
          "iopub.status.idle": "2023-04-05T13:56:03.573745Z",
          "shell.execute_reply.started": "2023-04-05T13:56:03.562975Z",
          "shell.execute_reply": "2023-04-05T13:56:03.572540Z"
        },
        "trusted": true,
        "id": "UZgNsDNYFKQf"
      },
      "execution_count": 38,
      "outputs": []
    },
    {
      "cell_type": "markdown",
      "source": [
        "# II. Model Training #"
      ],
      "metadata": {
        "id": "86f9Jv-LFKQg"
      }
    },
    {
      "cell_type": "code",
      "source": [
        "# Final architecture to be used for Task 1 and Task 2\n",
        "class NetMultiTask(torch.nn.Module):\n",
        "    def __init__(self):\n",
        "        super(NetMultiTask, self).__init__()\n",
        "        self.net = RobertaModel.from_pretrained(\"roberta-base\")\n",
        "        \n",
        "        self.pre_classifier1 = torch.nn.Linear(768, 768)\n",
        "        self.dropout1 = torch.nn.Dropout(0.2)\n",
        "        self.classifier1 = torch.nn.Linear(768, 2)\n",
        "        \n",
        "        self.pre_classifier2 = torch.nn.Linear(768, 768)\n",
        "        self.dropout2 = torch.nn.Dropout(0.2)\n",
        "        self.classifier2 = torch.nn.Linear(768, 3)\n",
        "\n",
        "    def forward(self, input_ids, attention_mask, token_type_ids):\n",
        "        output_1 = self.net(input_ids=input_ids, attention_mask=attention_mask, token_type_ids=token_type_ids)\n",
        "        hidden_state = output_1[0]\n",
        "        pooler = hidden_state[:, 0]\n",
        "      \n",
        "        pooler1 = self.pre_classifier1(pooler)\n",
        "        pooler1 = torch.nn.ReLU()(pooler1)\n",
        "        pooler1 = self.dropout1(pooler1)\n",
        "        output1 = self.classifier1(pooler1)\n",
        "\n",
        "        pooler2 = self.pre_classifier2(pooler)\n",
        "        pooler2 = torch.nn.ReLU()(pooler2)\n",
        "        pooler2 = self.dropout2(pooler2)\n",
        "        output2 = self.classifier2(pooler2)\n",
        "        \n",
        "        return output1, output2"
      ],
      "metadata": {
        "id": "PopYuA22-7Ro"
      },
      "execution_count": 39,
      "outputs": []
    },
    {
      "cell_type": "markdown",
      "source": [
        "Liu, Y., Ott, M., Goyal, N., Du, J., Joshi, M., Chen, D., Levy, O., Lewis, M., Zettlemoyer, L., & Stoyanov, V. (2019). RoBERTa: A robustly optimized BERT pretraining approach. CoRR, abs/1907.11692."
      ],
      "metadata": {
        "id": "E3D_Alka6aAQ"
      }
    },
    {
      "cell_type": "markdown",
      "source": [
        "**Question**: Assume the model is deployed in a server within your news agency. Explain the inputs to the model and predictions that it is expected to output. Also explain how the predictions will be used by reporters."
      ],
      "metadata": {
        "id": "MKx2_cW9cr5x"
      }
    },
    {
      "cell_type": "markdown",
      "source": [
        "**Answer**:<br>\n",
        "<p>We are using the RoBERTa architecture in thie model above where we use its embeddings on two classifiers in the same neural network. The raw inputs to the model can be any text, but in this project's context it will be tweets on which the model will be trained on. The text must first be passed to RoBERTa's pre-trained tokenizer which will convert the text to the tensors and attention masks needed for the RoBERTa model. The tensors and attentioin masks will then pass through RoBERTa's architecture and we will use its last hidden state as word embeddings. The word embeddings will then be passed to two separate dense layers with different heads. The first will head has two outputs and the second head as three outputs.</p>\n",
        "<p>The first head can be used by reporters to classify a tweet if it's pertaining to a disaster or not. These can be used by reporters for example as an early warning system where the system can get tweets through the Twitter API, pass it through the model, predict the tweets, and then notifiy reporters if there are large amounts of disaster tweets happening in real time. This will enable them to respond and report on disasters quickly.</p>\n",
        "<p>The second head can be used by reporters and the news agency to gauge sentiment on their news/opinion articles released on twitter and then track its engagement. This can be done by setting up a sentiment analysis system using this model. The system can work by pulling replies or retweets from the reporters' tweets using the Twitter API, passing them through the model to get sentiment predictions, and then analyzing sentiment classes of the reporters' tweets."
      ],
      "metadata": {
        "id": "ayaPHWXHc_Fo"
      }
    },
    {
      "cell_type": "markdown",
      "source": [
        "# III. Neural Network Multi Task Learing #"
      ],
      "metadata": {
        "id": "55P6W8zvdJTg"
      }
    },
    {
      "cell_type": "markdown",
      "source": [
        "### Task 3.1 and Task 3.2 ###\n",
        "1. Train the model M only for T1 on Dtrain. Call the trained val 1\n",
        "model MD . Evaluate MD on D and report its 111\n",
        "performance metric (F1 score) for the first task, PerfT (MD |Dval). Also print the confusion matrix. ###\n",
        "\n",
        "2. Train the model M only for T2 on Dtrain . Call the trained\n",
        "model M . Evaluate the trained M2 on Dval and report D2 D2 2 val\n",
        "its performance metric (Accuracy) PerfT (MD |D Also print the confusion matrix."
      ],
      "metadata": {
        "id": "PTuJ_IH1gXyv"
      }
    },
    {
      "cell_type": "markdown",
      "source": [
        "#### Helper functions for the training and validation loops ####"
      ],
      "metadata": {
        "id": "lL3KXiaqdTNp"
      }
    },
    {
      "cell_type": "code",
      "source": [
        "def calcuate_accuracy(preds, targets):\n",
        "    n_correct = (preds==targets).sum().item()\n",
        "    return n_correct"
      ],
      "metadata": {
        "execution": {
          "iopub.status.busy": "2023-04-05T13:56:02.195329Z",
          "iopub.execute_input": "2023-04-05T13:56:02.195849Z",
          "iopub.status.idle": "2023-04-05T13:56:02.644063Z",
          "shell.execute_reply.started": "2023-04-05T13:56:02.195781Z",
          "shell.execute_reply": "2023-04-05T13:56:02.642940Z"
        },
        "trusted": true,
        "id": "ls13g2QrFKQX"
      },
      "execution_count": 40,
      "outputs": []
    },
    {
      "cell_type": "code",
      "source": [
        "def train(model, epoch, training_loader, mode):\n",
        "    tr_loss = 0\n",
        "    n_correct = 0\n",
        "    nb_tr_steps = 0\n",
        "    nb_tr_examples = 0\n",
        "    model.train()\n",
        "\n",
        "    \n",
        "    for _,data in enumerate(tqdm(training_loader, 0)):\n",
        "        ids = data['ids'].to(device, dtype = torch.long)\n",
        "        mask = data['mask'].to(device, dtype = torch.long)\n",
        "        token_type_ids = data['token_type_ids'].to(device, dtype = torch.long)\n",
        "        targets = data['targets'].to(device, dtype = torch.long)\n",
        "\n",
        "        output1, output2 = model(ids, mask, token_type_ids)\n",
        "\n",
        "        if mode == 1:\n",
        "            output = output1\n",
        "        elif mode == 2:\n",
        "            output = output2\n",
        "        else:\n",
        "            assert False, 'Bad Task ID passed'\n",
        "\n",
        "\n",
        "        loss = loss_function(output, targets)\n",
        "        tr_loss += loss.item()\n",
        "        big_val, big_idx = torch.max(output.data, dim=1)\n",
        "        n_correct += calcuate_accuracy(big_idx, targets)\n",
        "\n",
        "        nb_tr_steps += 1\n",
        "        nb_tr_examples+=targets.size(0)\n",
        "        \n",
        "        if _%5000==0:\n",
        "            loss_step = tr_loss/nb_tr_steps\n",
        "            accu_step = (n_correct*100)/nb_tr_examples \n",
        "            print(f\"Training Loss per 5000 steps: {loss_step}\")\n",
        "            print(f\"Training Accuracy per 5000 steps: {accu_step}\")\n",
        "\n",
        "        optimizer.zero_grad()\n",
        "        loss.backward()\n",
        "        # # When using GPU\n",
        "        optimizer.step()\n",
        "\n",
        "    print(f'The Total Accuracy for Epoch {epoch}: {(n_correct*100)/nb_tr_examples}')\n",
        "    epoch_loss = tr_loss/nb_tr_steps\n",
        "    epoch_accu = (n_correct*100)/nb_tr_examples\n",
        "    print(f\"Training Loss Epoch: {epoch_loss}\")\n",
        "    print(f\"Training Accuracy Epoch: {epoch_accu}\")\n",
        "    return\n",
        "\n",
        "def valid(model, testing_loader, mode):\n",
        "    model.eval()\n",
        "    #n_correct = 0; n_wrong = 0; total = 0; tr_loss=0; nb_tr_steps=0; nb_tr_examples=0\n",
        "    tr_loss=0\n",
        "    predicts = []\n",
        "\n",
        "    with torch.no_grad():\n",
        "        for _, data in enumerate(tqdm(testing_loader, 0)):\n",
        "            ids = data['ids'].to(device, dtype = torch.long)\n",
        "            mask = data['mask'].to(device, dtype = torch.long)\n",
        "            token_type_ids = data['token_type_ids'].to(device, dtype = torch.long)\n",
        "            targets = data['targets'].to(device, dtype = torch.long)\n",
        "\n",
        "            output1, output2 = model(ids, mask, token_type_ids)\n",
        "\n",
        "            if mode == 1:\n",
        "                output = output1\n",
        "            elif mode == 2:\n",
        "                output = output2\n",
        "            else:\n",
        "                assert False, 'Bad Task ID passed'\n",
        "\n",
        "            loss = loss_function(output, targets)\n",
        "            tr_loss += loss.item()\n",
        "            big_val, big_idx = torch.max(output.data, dim=1)\n",
        "            \n",
        "            for i in range(targets.size(0)):\n",
        "                predicts.append({\n",
        "                    \"predict\": big_idx[i].item(),\n",
        "                    \"target\": targets[i].item()\n",
        "                })\n",
        "    df = pd.DataFrame(predicts)\n",
        "    return df"
      ],
      "metadata": {
        "id": "aJBFApRfAAqV"
      },
      "execution_count": 41,
      "outputs": []
    },
    {
      "cell_type": "markdown",
      "source": [
        "#### Training code used ####"
      ],
      "metadata": {
        "id": "02IMtMT0f_LW"
      }
    },
    {
      "cell_type": "code",
      "source": [
        "# Specifying the learning rate for both tasks\n",
        "LEARNING_RATE = 1e-05"
      ],
      "metadata": {
        "execution": {
          "iopub.status.busy": "2023-04-05T13:56:38.651961Z",
          "iopub.execute_input": "2023-04-05T13:56:38.652397Z",
          "iopub.status.idle": "2023-04-05T13:56:38.658241Z",
          "shell.execute_reply.started": "2023-04-05T13:56:38.652359Z",
          "shell.execute_reply": "2023-04-05T13:56:38.656849Z"
        },
        "trusted": true,
        "id": "oNbFDjr6FKQg"
      },
      "execution_count": 42,
      "outputs": []
    },
    {
      "cell_type": "code",
      "source": [
        "## Train on first task. Commented out since training done outside of this notebook\n",
        "# net1 = NetMultiTask()\n",
        "# net1.to(device)\n",
        "# #for training only the classification layer\n",
        "\n",
        "# # for param in net1.net.parameters():\n",
        "# #     param.requires_grad = False\n",
        "\n",
        "# EPOCHS = 3\n",
        "# loss_function = torch.nn.CrossEntropyLoss()\n",
        "# optimizer = torch.optim.Adam(params = net1.parameters(), lr = LEARNING_RATE)\n",
        "# for epoch in range(EPOCHS):\n",
        "#     train(net1, epoch, d1_train_loader, mode = 1)\n",
        "\n",
        "# Getting validation predictions\n",
        "# predicts_d1  = valid(net1, d1_val_loader, mode = 1)\n"
      ],
      "metadata": {
        "execution": {
          "iopub.status.busy": "2023-04-05T13:56:38.899969Z",
          "iopub.execute_input": "2023-04-05T13:56:38.900404Z",
          "iopub.status.idle": "2023-04-05T14:14:55.538346Z",
          "shell.execute_reply.started": "2023-04-05T13:56:38.900367Z",
          "shell.execute_reply": "2023-04-05T14:14:55.535628Z"
        },
        "trusted": true,
        "id": "XR5hNjWbFKQg"
      },
      "execution_count": 43,
      "outputs": []
    },
    {
      "cell_type": "code",
      "source": [
        "## Train on first task. Commented out since training done outside of this notebook\n",
        "# net2 = NetMultiTask()\n",
        "# net2.to(device)\n",
        "\n",
        "# # for param in net2.net.parameters():\n",
        "# #     param.requires_grad = False\n",
        "\n",
        "# loss_function = torch.nn.CrossEntropyLoss()\n",
        "# optimizer = torch.optim.Adam(params = net2.parameters(), lr = LEARNING_RATE)\n",
        "# EPOCHS = 5\n",
        "# for epoch in range(EPOCHS):\n",
        "#     train(net2, epoch, d2_train_loader, mode = 2)\n",
        "\n",
        "# Getting validation predictions\n",
        "# predicts_d2  = valid(net2, d2_val_loader, mode = 2)"
      ],
      "metadata": {
        "execution": {
          "iopub.status.busy": "2023-04-05T14:14:55.539386Z",
          "iopub.status.idle": "2023-04-05T14:14:55.539936Z",
          "shell.execute_reply.started": "2023-04-05T14:14:55.539699Z",
          "shell.execute_reply": "2023-04-05T14:14:55.539734Z"
        },
        "trusted": true,
        "id": "udR3Dn00FKQg"
      },
      "execution_count": 44,
      "outputs": []
    },
    {
      "cell_type": "code",
      "source": [
        "# Code to save model so we can replicate the predictions\n",
        "# net1_bin = \"./net1.bin\"\n",
        "# net2_bin = \"./net2.bin\"\n",
        "\n",
        "# Saving models and validation predictions to local\n",
        "# predicts_d1.to_csv(\"./predicts_d1.csv\")\n",
        "# predicts_d2.to_csv(\"./predicts_d2.csv\")\n",
        "# torch.save(net1, net1_bin)\n",
        "# torch.save(net2, net2_bin)"
      ],
      "metadata": {
        "execution": {
          "iopub.status.busy": "2023-04-05T14:14:55.541840Z",
          "iopub.status.idle": "2023-04-05T14:14:55.542727Z",
          "shell.execute_reply.started": "2023-04-05T14:14:55.542395Z",
          "shell.execute_reply": "2023-04-05T14:14:55.542429Z"
        },
        "trusted": true,
        "id": "0dAqHB-LFKQg"
      },
      "execution_count": 45,
      "outputs": []
    },
    {
      "cell_type": "markdown",
      "source": [
        "#### Perfomance Metrics and Confusion Matrices ####"
      ],
      "metadata": {
        "id": "yRasxaAMgLtS"
      }
    },
    {
      "cell_type": "code",
      "source": [
        "# Loading the saved predictions for reporting metrics\n",
        "predicts_d1 = pd.read_csv(\"/content/drive/MyDrive/BT5151/group_project/predicts_d1_roberta_final.csv\", index_col=0)\n",
        "predicts_d2 = pd.read_csv(\"/content/drive/MyDrive/BT5151/group_project/predicts_d2_roberta_final.csv\", index_col=0)"
      ],
      "metadata": {
        "id": "SbZ_WYOPID72"
      },
      "execution_count": 46,
      "outputs": []
    },
    {
      "cell_type": "code",
      "source": [
        "print(classification_report(predicts_d1.target, predicts_d1.predict))\n",
        "print(f\"D1 F1: {f1_score(predicts_d1.target, predicts_d1.predict)}\\n\"\n",
        "      f\"D1 Accuracy: {accuracy_score(predicts_d1.target, predicts_d1.predict)}\\n\")"
      ],
      "metadata": {
        "execution": {
          "iopub.status.busy": "2023-04-05T14:14:55.545023Z",
          "iopub.status.idle": "2023-04-05T14:14:55.545706Z",
          "shell.execute_reply.started": "2023-04-05T14:14:55.545387Z",
          "shell.execute_reply": "2023-04-05T14:14:55.545420Z"
        },
        "trusted": true,
        "colab": {
          "base_uri": "https://localhost:8080/"
        },
        "id": "zii3W3YiFKQg",
        "outputId": "56ca43b0-998c-49c7-a5f6-7d566ed39ee6"
      },
      "execution_count": 47,
      "outputs": [
        {
          "output_type": "stream",
          "name": "stdout",
          "text": [
            "              precision    recall  f1-score   support\n",
            "\n",
            "           0       0.84      0.88      0.86       861\n",
            "           1       0.82      0.77      0.80       640\n",
            "\n",
            "    accuracy                           0.83      1501\n",
            "   macro avg       0.83      0.82      0.83      1501\n",
            "weighted avg       0.83      0.83      0.83      1501\n",
            "\n",
            "D1 F1: 0.7974172719935432\n",
            "D1 Accuracy: 0.832778147901399\n",
            "\n"
          ]
        }
      ]
    },
    {
      "cell_type": "code",
      "source": [
        "cm_d1 = confusion_matrix(predicts_d1.target, predicts_d1.predict)\n",
        "disp = ConfusionMatrixDisplay(confusion_matrix=cm_d1, display_labels=['not disaster', 'disaster'])\n",
        "disp.plot()\n",
        "plt.show()"
      ],
      "metadata": {
        "colab": {
          "base_uri": "https://localhost:8080/",
          "height": 449
        },
        "id": "sdVPl1rfFKQg",
        "outputId": "15a7c7ca-6a6d-4873-95b2-22a75047ce91"
      },
      "execution_count": 48,
      "outputs": [
        {
          "output_type": "display_data",
          "data": {
            "text/plain": [
              "<Figure size 640x480 with 2 Axes>"
            ],
            "image/png": "[encoded data removed]"
          },
          "metadata": {}
        }
      ]
    },
    {
      "cell_type": "code",
      "source": [
        "print(classification_report(predicts_d2.target, predicts_d2.predict))\n",
        "print(f\"D2 F1: {f1_score(predicts_d2.target, predicts_d2.predict, average='weighted')}\\n\"\n",
        "      f\"D2 Accuracy: {accuracy_score(predicts_d2.target, predicts_d2.predict)}\\n\")"
      ],
      "metadata": {
        "colab": {
          "base_uri": "https://localhost:8080/"
        },
        "id": "1Ngor95-doZW",
        "outputId": "cacf42a6-70ee-4073-ded2-cc281c47ab71"
      },
      "execution_count": 49,
      "outputs": [
        {
          "output_type": "stream",
          "name": "stdout",
          "text": [
            "              precision    recall  f1-score   support\n",
            "\n",
            "           0       0.83      0.75      0.79      1556\n",
            "           1       0.76      0.75      0.76      2223\n",
            "           2       0.80      0.88      0.84      1717\n",
            "\n",
            "    accuracy                           0.79      5496\n",
            "   macro avg       0.80      0.79      0.79      5496\n",
            "weighted avg       0.79      0.79      0.79      5496\n",
            "\n",
            "D2 F1: 0.7896766952626569\n",
            "D2 Accuracy: 0.7905749636098981\n",
            "\n"
          ]
        }
      ]
    },
    {
      "cell_type": "code",
      "source": [
        "cm_d2 = confusion_matrix(predicts_d2.target, predicts_d2.predict)\n",
        "disp = ConfusionMatrixDisplay(confusion_matrix=cm_d2, display_labels=['negative', 'neutral','positive'])\n",
        "disp.plot()\n",
        "plt.show()"
      ],
      "metadata": {
        "colab": {
          "base_uri": "https://localhost:8080/",
          "height": 449
        },
        "id": "wdfDXnO6Hxm-",
        "outputId": "7e632f1f-3dd4-47b7-bfd1-adce95add839"
      },
      "execution_count": 50,
      "outputs": [
        {
          "output_type": "display_data",
          "data": {
            "text/plain": [
              "<Figure size 640x480 with 2 Axes>"
            ],
            "image/png": "[encoded data removed]"
          },
          "metadata": {}
        }
      ]
    },
    {
      "cell_type": "markdown",
      "source": [
        "### Task 3.3 ###\n",
        "Estimate the sentiment labels for the tweets in D1"
      ],
      "metadata": {
        "id": "HwqpkPesHcgr"
      }
    },
    {
      "cell_type": "code",
      "source": [
        "model_path = \"/content/drive/MyDrive/BT5151/group_project/roberta_d2_final.bin\" \n",
        "model_d2 = torch.load(model_path, map_location=device)"
      ],
      "metadata": {
        "id": "iIjFHZs5QQ6l"
      },
      "execution_count": 51,
      "outputs": []
    },
    {
      "cell_type": "code",
      "source": [
        "data_quality(d_train_orig)"
      ],
      "metadata": {
        "id": "RwMokFd6RLO5",
        "colab": {
          "base_uri": "https://localhost:8080/",
          "height": 206
        },
        "outputId": "04fa0f02-efd9-4b53-a373-9fb928f590b8"
      },
      "execution_count": 52,
      "outputs": [
        {
          "output_type": "execute_result",
          "data": {
            "text/plain": [
              "          Present Values  Missing Values  Unique Values\n",
              "id                  7613               0           7613\n",
              "keyword             7552              61            221\n",
              "location            5080            2533           3341\n",
              "text                7613               0           7503\n",
              "target              7613               0              2"
            ],
            "text/html": [
              "\n",
              "  <div id=\"df-6cb395e7-d1e5-4fbc-ac4b-c8910ec37e9f\">\n",
              "    <div class=\"colab-df-container\">\n",
              "      <div>\n",
              "<style scoped>\n",
              "    .dataframe tbody tr th:only-of-type {\n",
              "        vertical-align: middle;\n",
              "    }\n",
              "\n",
              "    .dataframe tbody tr th {\n",
              "        vertical-align: top;\n",
              "    }\n",
              "\n",
              "    .dataframe thead th {\n",
              "        text-align: right;\n",
              "    }\n",
              "</style>\n",
              "<table border=\"1\" class=\"dataframe\">\n",
              "  <thead>\n",
              "    <tr style=\"text-align: right;\">\n",
              "      <th></th>\n",
              "      <th>Present Values</th>\n",
              "      <th>Missing Values</th>\n",
              "      <th>Unique Values</th>\n",
              "    </tr>\n",
              "  </thead>\n",
              "  <tbody>\n",
              "    <tr>\n",
              "      <th>id</th>\n",
              "      <td>7613</td>\n",
              "      <td>0</td>\n",
              "      <td>7613</td>\n",
              "    </tr>\n",
              "    <tr>\n",
              "      <th>keyword</th>\n",
              "      <td>7552</td>\n",
              "      <td>61</td>\n",
              "      <td>221</td>\n",
              "    </tr>\n",
              "    <tr>\n",
              "      <th>location</th>\n",
              "      <td>5080</td>\n",
              "      <td>2533</td>\n",
              "      <td>3341</td>\n",
              "    </tr>\n",
              "    <tr>\n",
              "      <th>text</th>\n",
              "      <td>7613</td>\n",
              "      <td>0</td>\n",
              "      <td>7503</td>\n",
              "    </tr>\n",
              "    <tr>\n",
              "      <th>target</th>\n",
              "      <td>7613</td>\n",
              "      <td>0</td>\n",
              "      <td>2</td>\n",
              "    </tr>\n",
              "  </tbody>\n",
              "</table>\n",
              "</div>\n",
              "      <button class=\"colab-df-convert\" onclick=\"convertToInteractive('df-6cb395e7-d1e5-4fbc-ac4b-c8910ec37e9f')\"\n",
              "              title=\"Convert this dataframe to an interactive table.\"\n",
              "              style=\"display:none;\">\n",
              "        \n",
              "  <svg xmlns=\"http://www.w3.org/2000/svg\" height=\"24px\"viewBox=\"0 0 24 24\"\n",
              "       width=\"24px\">\n",
              "    <path d=\"M0 0h24v24H0V0z\" fill=\"none\"/>\n",
              "    <path d=\"M18.56 5.44l.94 2.06.94-2.06 2.06-.94-2.06-.94-.94-2.06-.94 2.06-2.06.94zm-11 1L8.5 8.5l.94-2.06 2.06-.94-2.06-.94L8.5 2.5l-.94 2.06-2.06.94zm10 10l.94 2.06.94-2.06 2.06-.94-2.06-.94-.94-2.06-.94 2.06-2.06.94z\"/><path d=\"M17.41 7.96l-1.37-1.37c-.4-.4-.92-.59-1.43-.59-.52 0-1.04.2-1.43.59L10.3 9.45l-7.72 7.72c-.78.78-.78 2.05 0 2.83L4 21.41c.39.39.9.59 1.41.59.51 0 1.02-.2 1.41-.59l7.78-7.78 2.81-2.81c.8-.78.8-2.07 0-2.86zM5.41 20L4 18.59l7.72-7.72 1.47 1.35L5.41 20z\"/>\n",
              "  </svg>\n",
              "      </button>\n",
              "      \n",
              "  <style>\n",
              "    .colab-df-container {\n",
              "      display:flex;\n",
              "      flex-wrap:wrap;\n",
              "      gap: 12px;\n",
              "    }\n",
              "\n",
              "    .colab-df-convert {\n",
              "      background-color: #E8F0FE;\n",
              "      border: none;\n",
              "      border-radius: 50%;\n",
              "      cursor: pointer;\n",
              "      display: none;\n",
              "      fill: #1967D2;\n",
              "      height: 32px;\n",
              "      padding: 0 0 0 0;\n",
              "      width: 32px;\n",
              "    }\n",
              "\n",
              "    .colab-df-convert:hover {\n",
              "      background-color: #E2EBFA;\n",
              "      box-shadow: 0px 1px 2px rgba(60, 64, 67, 0.3), 0px 1px 3px 1px rgba(60, 64, 67, 0.15);\n",
              "      fill: #174EA6;\n",
              "    }\n",
              "\n",
              "    [theme=dark] .colab-df-convert {\n",
              "      background-color: #3B4455;\n",
              "      fill: #D2E3FC;\n",
              "    }\n",
              "\n",
              "    [theme=dark] .colab-df-convert:hover {\n",
              "      background-color: #434B5C;\n",
              "      box-shadow: 0px 1px 3px 1px rgba(0, 0, 0, 0.15);\n",
              "      filter: drop-shadow(0px 1px 2px rgba(0, 0, 0, 0.3));\n",
              "      fill: #FFFFFF;\n",
              "    }\n",
              "  </style>\n",
              "\n",
              "      <script>\n",
              "        const buttonEl =\n",
              "          document.querySelector('#df-6cb395e7-d1e5-4fbc-ac4b-c8910ec37e9f button.colab-df-convert');\n",
              "        buttonEl.style.display =\n",
              "          google.colab.kernel.accessAllowed ? 'block' : 'none';\n",
              "\n",
              "        async function convertToInteractive(key) {\n",
              "          const element = document.querySelector('#df-6cb395e7-d1e5-4fbc-ac4b-c8910ec37e9f');\n",
              "          const dataTable =\n",
              "            await google.colab.kernel.invokeFunction('convertToInteractive',\n",
              "                                                     [key], {});\n",
              "          if (!dataTable) return;\n",
              "\n",
              "          const docLinkHtml = 'Like what you see? Visit the ' +\n",
              "            '<a target=\"_blank\" href=https://colab.research.google.com/notebooks/data_table.ipynb>data table notebook</a>'\n",
              "            + ' to learn more about interactive tables.';\n",
              "          element.innerHTML = '';\n",
              "          dataTable['output_type'] = 'display_data';\n",
              "          await google.colab.output.renderOutput(dataTable, element);\n",
              "          const docLink = document.createElement('div');\n",
              "          docLink.innerHTML = docLinkHtml;\n",
              "          element.appendChild(docLink);\n",
              "        }\n",
              "      </script>\n",
              "    </div>\n",
              "  </div>\n",
              "  "
            ]
          },
          "metadata": {},
          "execution_count": 52
        }
      ]
    },
    {
      "cell_type": "code",
      "source": [
        "d1_train_infer = SentimentData(d_train_orig, tokenizer, MAX_LEN)"
      ],
      "metadata": {
        "id": "72WmaMPtRMrk"
      },
      "execution_count": 53,
      "outputs": []
    },
    {
      "cell_type": "code",
      "source": [
        "test_params = {'batch_size': VALID_BATCH_SIZE,\n",
        "                'shuffle': False,\n",
        "                'num_workers': 0\n",
        "                }\n",
        "d1_infer_loader = DataLoader(d1_train_infer, **test_params)"
      ],
      "metadata": {
        "id": "6t9nq_xDRmWJ"
      },
      "execution_count": 54,
      "outputs": []
    },
    {
      "cell_type": "code",
      "source": [
        "loss_function = torch.nn.CrossEntropyLoss()\n",
        "optimizer = torch.optim.Adam(params = model_d2.parameters(), lr = LEARNING_RATE)\n",
        "predicts_d1_infer = valid(model_d2, d1_infer_loader, mode=2)"
      ],
      "metadata": {
        "id": "OIdUb25lSBrl",
        "colab": {
          "base_uri": "https://localhost:8080/"
        },
        "outputId": "ffaa5d9e-18cc-4e95-9a72-1571ff9718df"
      },
      "execution_count": 55,
      "outputs": [
        {
          "output_type": "stream",
          "name": "stderr",
          "text": [
            "100%|██████████| 238/238 [04:03<00:00,  1.02s/it]\n"
          ]
        }
      ]
    },
    {
      "cell_type": "code",
      "source": [
        "predicts_d1_infer['predict'].value_counts()"
      ],
      "metadata": {
        "id": "BMdEWCsrSQzC",
        "colab": {
          "base_uri": "https://localhost:8080/"
        },
        "outputId": "54e2d07b-2e22-4fdb-ea3d-99e6d4376581"
      },
      "execution_count": 56,
      "outputs": [
        {
          "output_type": "execute_result",
          "data": {
            "text/plain": [
              "1    4146\n",
              "0    2430\n",
              "2    1037\n",
              "Name: predict, dtype: int64"
            ]
          },
          "metadata": {},
          "execution_count": 56
        }
      ]
    },
    {
      "cell_type": "code",
      "source": [
        "predicts_d1_infer.head()"
      ],
      "metadata": {
        "colab": {
          "base_uri": "https://localhost:8080/",
          "height": 206
        },
        "id": "pyA8RtcVtn97",
        "outputId": "80a7efef-04b8-4dd2-b200-3a972183238b"
      },
      "execution_count": 57,
      "outputs": [
        {
          "output_type": "execute_result",
          "data": {
            "text/plain": [
              "   predict  target\n",
              "0        0       1\n",
              "1        1       1\n",
              "2        1       1\n",
              "3        1       1\n",
              "4        1       1"
            ],
            "text/html": [
              "\n",
              "  <div id=\"df-ba5c0adb-ff2b-40d5-b49d-783ab46514eb\">\n",
              "    <div class=\"colab-df-container\">\n",
              "      <div>\n",
              "<style scoped>\n",
              "    .dataframe tbody tr th:only-of-type {\n",
              "        vertical-align: middle;\n",
              "    }\n",
              "\n",
              "    .dataframe tbody tr th {\n",
              "        vertical-align: top;\n",
              "    }\n",
              "\n",
              "    .dataframe thead th {\n",
              "        text-align: right;\n",
              "    }\n",
              "</style>\n",
              "<table border=\"1\" class=\"dataframe\">\n",
              "  <thead>\n",
              "    <tr style=\"text-align: right;\">\n",
              "      <th></th>\n",
              "      <th>predict</th>\n",
              "      <th>target</th>\n",
              "    </tr>\n",
              "  </thead>\n",
              "  <tbody>\n",
              "    <tr>\n",
              "      <th>0</th>\n",
              "      <td>0</td>\n",
              "      <td>1</td>\n",
              "    </tr>\n",
              "    <tr>\n",
              "      <th>1</th>\n",
              "      <td>1</td>\n",
              "      <td>1</td>\n",
              "    </tr>\n",
              "    <tr>\n",
              "      <th>2</th>\n",
              "      <td>1</td>\n",
              "      <td>1</td>\n",
              "    </tr>\n",
              "    <tr>\n",
              "      <th>3</th>\n",
              "      <td>1</td>\n",
              "      <td>1</td>\n",
              "    </tr>\n",
              "    <tr>\n",
              "      <th>4</th>\n",
              "      <td>1</td>\n",
              "      <td>1</td>\n",
              "    </tr>\n",
              "  </tbody>\n",
              "</table>\n",
              "</div>\n",
              "      <button class=\"colab-df-convert\" onclick=\"convertToInteractive('df-ba5c0adb-ff2b-40d5-b49d-783ab46514eb')\"\n",
              "              title=\"Convert this dataframe to an interactive table.\"\n",
              "              style=\"display:none;\">\n",
              "        \n",
              "  <svg xmlns=\"http://www.w3.org/2000/svg\" height=\"24px\"viewBox=\"0 0 24 24\"\n",
              "       width=\"24px\">\n",
              "    <path d=\"M0 0h24v24H0V0z\" fill=\"none\"/>\n",
              "    <path d=\"M18.56 5.44l.94 2.06.94-2.06 2.06-.94-2.06-.94-.94-2.06-.94 2.06-2.06.94zm-11 1L8.5 8.5l.94-2.06 2.06-.94-2.06-.94L8.5 2.5l-.94 2.06-2.06.94zm10 10l.94 2.06.94-2.06 2.06-.94-2.06-.94-.94-2.06-.94 2.06-2.06.94z\"/><path d=\"M17.41 7.96l-1.37-1.37c-.4-.4-.92-.59-1.43-.59-.52 0-1.04.2-1.43.59L10.3 9.45l-7.72 7.72c-.78.78-.78 2.05 0 2.83L4 21.41c.39.39.9.59 1.41.59.51 0 1.02-.2 1.41-.59l7.78-7.78 2.81-2.81c.8-.78.8-2.07 0-2.86zM5.41 20L4 18.59l7.72-7.72 1.47 1.35L5.41 20z\"/>\n",
              "  </svg>\n",
              "      </button>\n",
              "      \n",
              "  <style>\n",
              "    .colab-df-container {\n",
              "      display:flex;\n",
              "      flex-wrap:wrap;\n",
              "      gap: 12px;\n",
              "    }\n",
              "\n",
              "    .colab-df-convert {\n",
              "      background-color: #E8F0FE;\n",
              "      border: none;\n",
              "      border-radius: 50%;\n",
              "      cursor: pointer;\n",
              "      display: none;\n",
              "      fill: #1967D2;\n",
              "      height: 32px;\n",
              "      padding: 0 0 0 0;\n",
              "      width: 32px;\n",
              "    }\n",
              "\n",
              "    .colab-df-convert:hover {\n",
              "      background-color: #E2EBFA;\n",
              "      box-shadow: 0px 1px 2px rgba(60, 64, 67, 0.3), 0px 1px 3px 1px rgba(60, 64, 67, 0.15);\n",
              "      fill: #174EA6;\n",
              "    }\n",
              "\n",
              "    [theme=dark] .colab-df-convert {\n",
              "      background-color: #3B4455;\n",
              "      fill: #D2E3FC;\n",
              "    }\n",
              "\n",
              "    [theme=dark] .colab-df-convert:hover {\n",
              "      background-color: #434B5C;\n",
              "      box-shadow: 0px 1px 3px 1px rgba(0, 0, 0, 0.15);\n",
              "      filter: drop-shadow(0px 1px 2px rgba(0, 0, 0, 0.3));\n",
              "      fill: #FFFFFF;\n",
              "    }\n",
              "  </style>\n",
              "\n",
              "      <script>\n",
              "        const buttonEl =\n",
              "          document.querySelector('#df-ba5c0adb-ff2b-40d5-b49d-783ab46514eb button.colab-df-convert');\n",
              "        buttonEl.style.display =\n",
              "          google.colab.kernel.accessAllowed ? 'block' : 'none';\n",
              "\n",
              "        async function convertToInteractive(key) {\n",
              "          const element = document.querySelector('#df-ba5c0adb-ff2b-40d5-b49d-783ab46514eb');\n",
              "          const dataTable =\n",
              "            await google.colab.kernel.invokeFunction('convertToInteractive',\n",
              "                                                     [key], {});\n",
              "          if (!dataTable) return;\n",
              "\n",
              "          const docLinkHtml = 'Like what you see? Visit the ' +\n",
              "            '<a target=\"_blank\" href=https://colab.research.google.com/notebooks/data_table.ipynb>data table notebook</a>'\n",
              "            + ' to learn more about interactive tables.';\n",
              "          element.innerHTML = '';\n",
              "          dataTable['output_type'] = 'display_data';\n",
              "          await google.colab.output.renderOutput(dataTable, element);\n",
              "          const docLink = document.createElement('div');\n",
              "          docLink.innerHTML = docLinkHtml;\n",
              "          element.appendChild(docLink);\n",
              "        }\n",
              "      </script>\n",
              "    </div>\n",
              "  </div>\n",
              "  "
            ]
          },
          "metadata": {},
          "execution_count": 57
        }
      ]
    },
    {
      "cell_type": "code",
      "source": [
        "predicts_d1_infer.drop(columns='target', inplace=True)"
      ],
      "metadata": {
        "id": "B48tV4G5TNUN"
      },
      "execution_count": 58,
      "outputs": []
    },
    {
      "cell_type": "code",
      "source": [
        "d1_augment = d_train_orig.merge(predicts_d1_infer, left_index=True, right_index=True)\n",
        "d1_augment.rename({'predict': 'sentiment'}, axis =1, inplace=True)"
      ],
      "metadata": {
        "id": "0ItNr_DATq8y"
      },
      "execution_count": 59,
      "outputs": []
    },
    {
      "cell_type": "code",
      "source": [
        "d1_augment.head()"
      ],
      "metadata": {
        "id": "S3HymLXPUBo7",
        "colab": {
          "base_uri": "https://localhost:8080/",
          "height": 206
        },
        "outputId": "78460329-8511-447e-9363-bd5caee3c9c5"
      },
      "execution_count": 60,
      "outputs": [
        {
          "output_type": "execute_result",
          "data": {
            "text/plain": [
              "   id keyword location                                               text  \\\n",
              "0   1     NaN      NaN  Our Deeds are the Reason of this #earthquake M...   \n",
              "1   4     NaN      NaN             Forest fire near La Ronge Sask. Canada   \n",
              "2   5     NaN      NaN  All residents asked to 'shelter in place' are ...   \n",
              "3   6     NaN      NaN  13,000 people receive #wildfires evacuation or...   \n",
              "4   7     NaN      NaN  Just got sent this photo from Ruby #Alaska as ...   \n",
              "\n",
              "   target  sentiment  \n",
              "0       1          0  \n",
              "1       1          1  \n",
              "2       1          1  \n",
              "3       1          1  \n",
              "4       1          1  "
            ],
            "text/html": [
              "\n",
              "  <div id=\"df-6f6dd2c1-08b0-4b51-bc60-149b20303920\">\n",
              "    <div class=\"colab-df-container\">\n",
              "      <div>\n",
              "<style scoped>\n",
              "    .dataframe tbody tr th:only-of-type {\n",
              "        vertical-align: middle;\n",
              "    }\n",
              "\n",
              "    .dataframe tbody tr th {\n",
              "        vertical-align: top;\n",
              "    }\n",
              "\n",
              "    .dataframe thead th {\n",
              "        text-align: right;\n",
              "    }\n",
              "</style>\n",
              "<table border=\"1\" class=\"dataframe\">\n",
              "  <thead>\n",
              "    <tr style=\"text-align: right;\">\n",
              "      <th></th>\n",
              "      <th>id</th>\n",
              "      <th>keyword</th>\n",
              "      <th>location</th>\n",
              "      <th>text</th>\n",
              "      <th>target</th>\n",
              "      <th>sentiment</th>\n",
              "    </tr>\n",
              "  </thead>\n",
              "  <tbody>\n",
              "    <tr>\n",
              "      <th>0</th>\n",
              "      <td>1</td>\n",
              "      <td>NaN</td>\n",
              "      <td>NaN</td>\n",
              "      <td>Our Deeds are the Reason of this #earthquake M...</td>\n",
              "      <td>1</td>\n",
              "      <td>0</td>\n",
              "    </tr>\n",
              "    <tr>\n",
              "      <th>1</th>\n",
              "      <td>4</td>\n",
              "      <td>NaN</td>\n",
              "      <td>NaN</td>\n",
              "      <td>Forest fire near La Ronge Sask. Canada</td>\n",
              "      <td>1</td>\n",
              "      <td>1</td>\n",
              "    </tr>\n",
              "    <tr>\n",
              "      <th>2</th>\n",
              "      <td>5</td>\n",
              "      <td>NaN</td>\n",
              "      <td>NaN</td>\n",
              "      <td>All residents asked to 'shelter in place' are ...</td>\n",
              "      <td>1</td>\n",
              "      <td>1</td>\n",
              "    </tr>\n",
              "    <tr>\n",
              "      <th>3</th>\n",
              "      <td>6</td>\n",
              "      <td>NaN</td>\n",
              "      <td>NaN</td>\n",
              "      <td>13,000 people receive #wildfires evacuation or...</td>\n",
              "      <td>1</td>\n",
              "      <td>1</td>\n",
              "    </tr>\n",
              "    <tr>\n",
              "      <th>4</th>\n",
              "      <td>7</td>\n",
              "      <td>NaN</td>\n",
              "      <td>NaN</td>\n",
              "      <td>Just got sent this photo from Ruby #Alaska as ...</td>\n",
              "      <td>1</td>\n",
              "      <td>1</td>\n",
              "    </tr>\n",
              "  </tbody>\n",
              "</table>\n",
              "</div>\n",
              "      <button class=\"colab-df-convert\" onclick=\"convertToInteractive('df-6f6dd2c1-08b0-4b51-bc60-149b20303920')\"\n",
              "              title=\"Convert this dataframe to an interactive table.\"\n",
              "              style=\"display:none;\">\n",
              "        \n",
              "  <svg xmlns=\"http://www.w3.org/2000/svg\" height=\"24px\"viewBox=\"0 0 24 24\"\n",
              "       width=\"24px\">\n",
              "    <path d=\"M0 0h24v24H0V0z\" fill=\"none\"/>\n",
              "    <path d=\"M18.56 5.44l.94 2.06.94-2.06 2.06-.94-2.06-.94-.94-2.06-.94 2.06-2.06.94zm-11 1L8.5 8.5l.94-2.06 2.06-.94-2.06-.94L8.5 2.5l-.94 2.06-2.06.94zm10 10l.94 2.06.94-2.06 2.06-.94-2.06-.94-.94-2.06-.94 2.06-2.06.94z\"/><path d=\"M17.41 7.96l-1.37-1.37c-.4-.4-.92-.59-1.43-.59-.52 0-1.04.2-1.43.59L10.3 9.45l-7.72 7.72c-.78.78-.78 2.05 0 2.83L4 21.41c.39.39.9.59 1.41.59.51 0 1.02-.2 1.41-.59l7.78-7.78 2.81-2.81c.8-.78.8-2.07 0-2.86zM5.41 20L4 18.59l7.72-7.72 1.47 1.35L5.41 20z\"/>\n",
              "  </svg>\n",
              "      </button>\n",
              "      \n",
              "  <style>\n",
              "    .colab-df-container {\n",
              "      display:flex;\n",
              "      flex-wrap:wrap;\n",
              "      gap: 12px;\n",
              "    }\n",
              "\n",
              "    .colab-df-convert {\n",
              "      background-color: #E8F0FE;\n",
              "      border: none;\n",
              "      border-radius: 50%;\n",
              "      cursor: pointer;\n",
              "      display: none;\n",
              "      fill: #1967D2;\n",
              "      height: 32px;\n",
              "      padding: 0 0 0 0;\n",
              "      width: 32px;\n",
              "    }\n",
              "\n",
              "    .colab-df-convert:hover {\n",
              "      background-color: #E2EBFA;\n",
              "      box-shadow: 0px 1px 2px rgba(60, 64, 67, 0.3), 0px 1px 3px 1px rgba(60, 64, 67, 0.15);\n",
              "      fill: #174EA6;\n",
              "    }\n",
              "\n",
              "    [theme=dark] .colab-df-convert {\n",
              "      background-color: #3B4455;\n",
              "      fill: #D2E3FC;\n",
              "    }\n",
              "\n",
              "    [theme=dark] .colab-df-convert:hover {\n",
              "      background-color: #434B5C;\n",
              "      box-shadow: 0px 1px 3px 1px rgba(0, 0, 0, 0.15);\n",
              "      filter: drop-shadow(0px 1px 2px rgba(0, 0, 0, 0.3));\n",
              "      fill: #FFFFFF;\n",
              "    }\n",
              "  </style>\n",
              "\n",
              "      <script>\n",
              "        const buttonEl =\n",
              "          document.querySelector('#df-6f6dd2c1-08b0-4b51-bc60-149b20303920 button.colab-df-convert');\n",
              "        buttonEl.style.display =\n",
              "          google.colab.kernel.accessAllowed ? 'block' : 'none';\n",
              "\n",
              "        async function convertToInteractive(key) {\n",
              "          const element = document.querySelector('#df-6f6dd2c1-08b0-4b51-bc60-149b20303920');\n",
              "          const dataTable =\n",
              "            await google.colab.kernel.invokeFunction('convertToInteractive',\n",
              "                                                     [key], {});\n",
              "          if (!dataTable) return;\n",
              "\n",
              "          const docLinkHtml = 'Like what you see? Visit the ' +\n",
              "            '<a target=\"_blank\" href=https://colab.research.google.com/notebooks/data_table.ipynb>data table notebook</a>'\n",
              "            + ' to learn more about interactive tables.';\n",
              "          element.innerHTML = '';\n",
              "          dataTable['output_type'] = 'display_data';\n",
              "          await google.colab.output.renderOutput(dataTable, element);\n",
              "          const docLink = document.createElement('div');\n",
              "          docLink.innerHTML = docLinkHtml;\n",
              "          element.appendChild(docLink);\n",
              "        }\n",
              "      </script>\n",
              "    </div>\n",
              "  </div>\n",
              "  "
            ]
          },
          "metadata": {},
          "execution_count": 60
        }
      ]
    },
    {
      "cell_type": "code",
      "source": [
        "d1_augment['sentiment'].value_counts()"
      ],
      "metadata": {
        "id": "9ts3OwleUG65",
        "colab": {
          "base_uri": "https://localhost:8080/"
        },
        "outputId": "eef95ea0-c347-484b-bd58-13932c8f8c05"
      },
      "execution_count": 61,
      "outputs": [
        {
          "output_type": "execute_result",
          "data": {
            "text/plain": [
              "1    4146\n",
              "0    2430\n",
              "2    1037\n",
              "Name: sentiment, dtype: int64"
            ]
          },
          "metadata": {},
          "execution_count": 61
        }
      ]
    },
    {
      "cell_type": "code",
      "source": [
        "d1_augment.shape"
      ],
      "metadata": {
        "colab": {
          "base_uri": "https://localhost:8080/"
        },
        "id": "TwMTNq-LuK9R",
        "outputId": "d5cb2f36-bcbf-4c3d-8b1f-0a8fe3651683"
      },
      "execution_count": 62,
      "outputs": [
        {
          "output_type": "execute_result",
          "data": {
            "text/plain": [
              "(7613, 6)"
            ]
          },
          "metadata": {},
          "execution_count": 62
        }
      ]
    },
    {
      "cell_type": "code",
      "source": [
        "d_train_orig.shape"
      ],
      "metadata": {
        "colab": {
          "base_uri": "https://localhost:8080/"
        },
        "id": "nCaw6gcRuSc-",
        "outputId": "ebe9d3ee-c348-466e-e1d9-aac9927be15d"
      },
      "execution_count": 63,
      "outputs": [
        {
          "output_type": "execute_result",
          "data": {
            "text/plain": [
              "(7613, 5)"
            ]
          },
          "metadata": {},
          "execution_count": 63
        }
      ]
    },
    {
      "cell_type": "code",
      "source": [
        "data_quality(d1_augment)"
      ],
      "metadata": {
        "colab": {
          "base_uri": "https://localhost:8080/",
          "height": 238
        },
        "id": "B7pKSivIuZrd",
        "outputId": "ff020b1c-efdb-40dd-ab4d-8c3f3edb59a4"
      },
      "execution_count": 64,
      "outputs": [
        {
          "output_type": "execute_result",
          "data": {
            "text/plain": [
              "           Present Values  Missing Values  Unique Values\n",
              "id                   7613               0           7613\n",
              "keyword              7552              61            221\n",
              "location             5080            2533           3341\n",
              "text                 7613               0           7503\n",
              "target               7613               0              2\n",
              "sentiment            7613               0              3"
            ],
            "text/html": [
              "\n",
              "  <div id=\"df-8b9c363a-b8a1-40cb-a65b-679c49b15e8a\">\n",
              "    <div class=\"colab-df-container\">\n",
              "      <div>\n",
              "<style scoped>\n",
              "    .dataframe tbody tr th:only-of-type {\n",
              "        vertical-align: middle;\n",
              "    }\n",
              "\n",
              "    .dataframe tbody tr th {\n",
              "        vertical-align: top;\n",
              "    }\n",
              "\n",
              "    .dataframe thead th {\n",
              "        text-align: right;\n",
              "    }\n",
              "</style>\n",
              "<table border=\"1\" class=\"dataframe\">\n",
              "  <thead>\n",
              "    <tr style=\"text-align: right;\">\n",
              "      <th></th>\n",
              "      <th>Present Values</th>\n",
              "      <th>Missing Values</th>\n",
              "      <th>Unique Values</th>\n",
              "    </tr>\n",
              "  </thead>\n",
              "  <tbody>\n",
              "    <tr>\n",
              "      <th>id</th>\n",
              "      <td>7613</td>\n",
              "      <td>0</td>\n",
              "      <td>7613</td>\n",
              "    </tr>\n",
              "    <tr>\n",
              "      <th>keyword</th>\n",
              "      <td>7552</td>\n",
              "      <td>61</td>\n",
              "      <td>221</td>\n",
              "    </tr>\n",
              "    <tr>\n",
              "      <th>location</th>\n",
              "      <td>5080</td>\n",
              "      <td>2533</td>\n",
              "      <td>3341</td>\n",
              "    </tr>\n",
              "    <tr>\n",
              "      <th>text</th>\n",
              "      <td>7613</td>\n",
              "      <td>0</td>\n",
              "      <td>7503</td>\n",
              "    </tr>\n",
              "    <tr>\n",
              "      <th>target</th>\n",
              "      <td>7613</td>\n",
              "      <td>0</td>\n",
              "      <td>2</td>\n",
              "    </tr>\n",
              "    <tr>\n",
              "      <th>sentiment</th>\n",
              "      <td>7613</td>\n",
              "      <td>0</td>\n",
              "      <td>3</td>\n",
              "    </tr>\n",
              "  </tbody>\n",
              "</table>\n",
              "</div>\n",
              "      <button class=\"colab-df-convert\" onclick=\"convertToInteractive('df-8b9c363a-b8a1-40cb-a65b-679c49b15e8a')\"\n",
              "              title=\"Convert this dataframe to an interactive table.\"\n",
              "              style=\"display:none;\">\n",
              "        \n",
              "  <svg xmlns=\"http://www.w3.org/2000/svg\" height=\"24px\"viewBox=\"0 0 24 24\"\n",
              "       width=\"24px\">\n",
              "    <path d=\"M0 0h24v24H0V0z\" fill=\"none\"/>\n",
              "    <path d=\"M18.56 5.44l.94 2.06.94-2.06 2.06-.94-2.06-.94-.94-2.06-.94 2.06-2.06.94zm-11 1L8.5 8.5l.94-2.06 2.06-.94-2.06-.94L8.5 2.5l-.94 2.06-2.06.94zm10 10l.94 2.06.94-2.06 2.06-.94-2.06-.94-.94-2.06-.94 2.06-2.06.94z\"/><path d=\"M17.41 7.96l-1.37-1.37c-.4-.4-.92-.59-1.43-.59-.52 0-1.04.2-1.43.59L10.3 9.45l-7.72 7.72c-.78.78-.78 2.05 0 2.83L4 21.41c.39.39.9.59 1.41.59.51 0 1.02-.2 1.41-.59l7.78-7.78 2.81-2.81c.8-.78.8-2.07 0-2.86zM5.41 20L4 18.59l7.72-7.72 1.47 1.35L5.41 20z\"/>\n",
              "  </svg>\n",
              "      </button>\n",
              "      \n",
              "  <style>\n",
              "    .colab-df-container {\n",
              "      display:flex;\n",
              "      flex-wrap:wrap;\n",
              "      gap: 12px;\n",
              "    }\n",
              "\n",
              "    .colab-df-convert {\n",
              "      background-color: #E8F0FE;\n",
              "      border: none;\n",
              "      border-radius: 50%;\n",
              "      cursor: pointer;\n",
              "      display: none;\n",
              "      fill: #1967D2;\n",
              "      height: 32px;\n",
              "      padding: 0 0 0 0;\n",
              "      width: 32px;\n",
              "    }\n",
              "\n",
              "    .colab-df-convert:hover {\n",
              "      background-color: #E2EBFA;\n",
              "      box-shadow: 0px 1px 2px rgba(60, 64, 67, 0.3), 0px 1px 3px 1px rgba(60, 64, 67, 0.15);\n",
              "      fill: #174EA6;\n",
              "    }\n",
              "\n",
              "    [theme=dark] .colab-df-convert {\n",
              "      background-color: #3B4455;\n",
              "      fill: #D2E3FC;\n",
              "    }\n",
              "\n",
              "    [theme=dark] .colab-df-convert:hover {\n",
              "      background-color: #434B5C;\n",
              "      box-shadow: 0px 1px 3px 1px rgba(0, 0, 0, 0.15);\n",
              "      filter: drop-shadow(0px 1px 2px rgba(0, 0, 0, 0.3));\n",
              "      fill: #FFFFFF;\n",
              "    }\n",
              "  </style>\n",
              "\n",
              "      <script>\n",
              "        const buttonEl =\n",
              "          document.querySelector('#df-8b9c363a-b8a1-40cb-a65b-679c49b15e8a button.colab-df-convert');\n",
              "        buttonEl.style.display =\n",
              "          google.colab.kernel.accessAllowed ? 'block' : 'none';\n",
              "\n",
              "        async function convertToInteractive(key) {\n",
              "          const element = document.querySelector('#df-8b9c363a-b8a1-40cb-a65b-679c49b15e8a');\n",
              "          const dataTable =\n",
              "            await google.colab.kernel.invokeFunction('convertToInteractive',\n",
              "                                                     [key], {});\n",
              "          if (!dataTable) return;\n",
              "\n",
              "          const docLinkHtml = 'Like what you see? Visit the ' +\n",
              "            '<a target=\"_blank\" href=https://colab.research.google.com/notebooks/data_table.ipynb>data table notebook</a>'\n",
              "            + ' to learn more about interactive tables.';\n",
              "          element.innerHTML = '';\n",
              "          dataTable['output_type'] = 'display_data';\n",
              "          await google.colab.output.renderOutput(dataTable, element);\n",
              "          const docLink = document.createElement('div');\n",
              "          docLink.innerHTML = docLinkHtml;\n",
              "          element.appendChild(docLink);\n",
              "        }\n",
              "      </script>\n",
              "    </div>\n",
              "  </div>\n",
              "  "
            ]
          },
          "metadata": {},
          "execution_count": 64
        }
      ]
    },
    {
      "cell_type": "code",
      "source": [
        "# Saving d1_augment for future use\n",
        "#d1_augment.to_csv(\"/content/drive/MyDrive/BT5151/group_project/d1_augment.csv\")"
      ],
      "metadata": {
        "id": "WBiE2UPrrpoZ"
      },
      "execution_count": 65,
      "outputs": []
    },
    {
      "cell_type": "markdown",
      "source": [
        "Analysis: "
      ],
      "metadata": {
        "id": "F23Rm72zhCJ4"
      }
    },
    {
      "cell_type": "markdown",
      "source": [
        "#V. Further Exploration #"
      ],
      "metadata": {
        "id": "Jq7Lvgchynyo"
      }
    },
    {
      "cell_type": "markdown",
      "source": [
        "### Strategy 1 ####\n",
        "\n",
        "Retrain and fine-tune the SiEBERT English-Language model for disaster classification\n",
        "<br>\n",
        "<br>\n",
        "Explanation:\n",
        "<p>The SiEBERT model is a sentiment classification model which was trained on 15 text corpus to make it as robust as possible for classifying sentiment. It is also a derivative of the RoBERTa architecture which we used for the initial parts of this project. This model also has two outputs which is compatible with our task of a binary classification for disaster tweets. The strategy is to retrain and fine-tune this SiEBERT model to instead classify tweets that announces disasters using this project's dataset. Based on its performance report on different NLP benchmarks, this model has very good generalized performance so SieBERT's model architecture might yield higher accuracy also for disaster classification.</p>\n",
        "<br>\n",
        "Citation:<br>\n",
        "Hartmann, J., Heitmann, M., Siebert, C., & Schamp, C. (2023). More than a Feeling: Accuracy and Application of Sentiment Analysis. International Journal of Research in Marketing, 40(1), 75-87. https://doi.org/10.1016/j.ijresmar.2022.05.005"
      ],
      "metadata": {
        "id": "GJBiMhzj5W87"
      }
    },
    {
      "cell_type": "code",
      "source": [
        "from transformers import TrainingArguments, Trainer\n",
        "from transformers import AutoModelForSequenceClassification, AutoTokenizer\n",
        "import evaluate"
      ],
      "metadata": {
        "id": "4ToT-q1x75eL"
      },
      "execution_count": 66,
      "outputs": []
    },
    {
      "cell_type": "code",
      "source": [
        "# Using RoBERTa tokenizer since siebert is based on RoBERTa-large\n",
        "tokenizer = RobertaTokenizer.from_pretrained('roberta-large')"
      ],
      "metadata": {
        "id": "6fWp5AWCAgf2"
      },
      "execution_count": 67,
      "outputs": []
    },
    {
      "cell_type": "code",
      "source": [
        "# Creating train-test splits for training the model\n",
        "d_train_data, d_val_data, d_train_labels, d_val_labels = train_test_split(d_train_select['text'],d_train_select['target'], test_size=0.2, \n",
        "                                                                       stratify=d_train_select['target'], random_state=2023)"
      ],
      "metadata": {
        "id": "Ojw6JbzUMP4c"
      },
      "execution_count": 68,
      "outputs": []
    },
    {
      "cell_type": "markdown",
      "source": [],
      "metadata": {
        "id": "NtlG9h17_1cW"
      }
    },
    {
      "cell_type": "code",
      "source": [
        "# Resetting indices as it might break some loopes\n",
        "d_train_data.reset_index(inplace=True, drop=True)\n",
        "d_val_data.reset_index(inplace=True, drop=True)\n",
        "d_train_labels.reset_index(inplace=True, drop=True)\n",
        "d_val_labels.reset_index(inplace=True, drop=True)"
      ],
      "metadata": {
        "id": "h4HOkaoyNdux"
      },
      "execution_count": 69,
      "outputs": []
    },
    {
      "cell_type": "code",
      "source": [
        "# Tokenizing the data\n",
        "train_encodings = tokenizer(d_train_data.tolist(), truncation=True, padding=\"max_length\", add_special_tokens=True, \n",
        "                            return_token_type_ids=True)\n",
        "val_encodings = tokenizer(d_val_data.tolist(), truncation=True, padding=\"max_length\", add_special_tokens=True, \n",
        "                            return_token_type_ids=True)"
      ],
      "metadata": {
        "id": "4uFD5kZhLfKf"
      },
      "execution_count": 70,
      "outputs": []
    },
    {
      "cell_type": "code",
      "source": [
        "# Creating custom Datasets classes for the data\n",
        "class HuggingData(Dataset):\n",
        "  def __init__(self, encodings, labels):\n",
        "    self.encodings = encodings\n",
        "    self.labels = labels\n",
        "\n",
        "  def __getitem__(self, idx):\n",
        "      item = {key: torch.tensor(val[idx]) for key, val in self.encodings.items()}\n",
        "      item['labels'] = torch.tensor(self.labels[idx])\n",
        "      return item\n",
        "\n",
        "  def __len__(self):\n",
        "      return len(self.labels)"
      ],
      "metadata": {
        "id": "UXM6-rriHy6A"
      },
      "execution_count": 71,
      "outputs": []
    },
    {
      "cell_type": "code",
      "source": [
        "# Creating the datasets\n",
        "dstrat1_train_set = HuggingData(train_encodings, d_train_labels)\n",
        "dstrat1_val_set = HuggingData(val_encodings, d_val_labels)"
      ],
      "metadata": {
        "id": "jx9btBAYIqCs"
      },
      "execution_count": 72,
      "outputs": []
    },
    {
      "cell_type": "code",
      "source": [
        "# Loading the siebert sentiment classification model\n",
        "model = AutoModelForSequenceClassification.from_pretrained(\"siebert/sentiment-roberta-large-english\")\n",
        "# Specifying the training arguments for training using HuggingFace Trainer API\n",
        "training_args = TrainingArguments(\n",
        "    output_dir=\"/content/drive/MyDrive/BT5151/group_project/strategy1/output\",\n",
        "    optim=\"adamw_torch\",\n",
        "    num_train_epochs=3,\n",
        "    learning_rate= 1e-5,\n",
        "    lr_scheduler_type = \"cosine\",\n",
        "    per_device_train_batch_size=16,\n",
        "    per_device_eval_batch_size=32,\n",
        "    save_strategy=\"no\",\n",
        "    warmup_steps= 10,\n",
        "    weight_decay = 0.01,\n",
        "    logging_dir=\"/content/drive/MyDrive/BT5151/group_project/strategy1/logs\",\n",
        "    logging_strategy=\"steps\",\n",
        "    logging_steps=100,\n",
        "    evaluation_strategy=\"steps\",\n",
        "    eval_steps=100\n",
        ")"
      ],
      "metadata": {
        "id": "bOCOukIDyqC6"
      },
      "execution_count": 73,
      "outputs": []
    },
    {
      "cell_type": "code",
      "source": [
        "# Specifying evaluation metrics\n",
        "metric = evaluate.load(\"accuracy\")\n",
        "def compute_metrics(eval_pred):\n",
        "    logits, labels = eval_pred\n",
        "    predictions = np.argmax(logits, axis=-1)\n",
        "    return metric.compute(predictions=predictions, references=labels)\n"
      ],
      "metadata": {
        "id": "hSedPLZ4WVWz"
      },
      "execution_count": 74,
      "outputs": []
    },
    {
      "cell_type": "code",
      "source": [
        "# Calling the trainer API and initiates training. Training was done outside of this notebook\n",
        "# trainer = Trainer(\n",
        "#     model=model,                         \n",
        "#     args=training_args,                \n",
        "#     train_dataset=dstrat1_train_set,\n",
        "#     eval_dataset=dstrat1_val_set,\n",
        "#     compute_metrics=compute_metrics\n",
        "# )\n",
        "\n",
        "# trainer.train()\n",
        "\n",
        "# Saving the model\n",
        "#trainer.save_model(\"/content/drive/MyDrive/BT5151/group_project/strategy1/models\")"
      ],
      "metadata": {
        "id": "mk4iUCTi6ai3"
      },
      "execution_count": 75,
      "outputs": []
    },
    {
      "cell_type": "markdown",
      "source": [
        "Inference on the trained on the siebert model"
      ],
      "metadata": {
        "id": "GVZbO5Gyi-l4"
      }
    },
    {
      "cell_type": "code",
      "source": [
        "from transformers import pipeline, AutoModel"
      ],
      "metadata": {
        "id": "V4y08dAvvAOC"
      },
      "execution_count": 76,
      "outputs": []
    },
    {
      "cell_type": "code",
      "source": [
        "# Creating a pipeline for inference on the fine-tuned siebert model\n",
        "tokenizer = RobertaTokenizer.from_pretrained('roberta-large')\n",
        "disaster = pipeline(\"text-classification\", model=\"/content/drive/MyDrive/BT5151/group_project/siebert_final_strat1\", tokenizer = tokenizer, device=\"cuda:0\",\n",
        "                    binary_output=True, function_to_apply=\"softmax\")"
      ],
      "metadata": {
        "id": "V3OT39evQ_Yw"
      },
      "execution_count": 77,
      "outputs": []
    },
    {
      "cell_type": "code",
      "source": [
        "# Creating an iterator for the D1 test data\n",
        "def data_iterator(df):\n",
        "    for i in range(df.shape[0]):\n",
        "        yield str(df.text[i])"
      ],
      "metadata": {
        "id": "aMlIWyRSu_P-"
      },
      "execution_count": 78,
      "outputs": []
    },
    {
      "cell_type": "code",
      "source": [
        "# Helper function to extract the outputs of the pipeline in a nice dataframe\n",
        "def get_predict(iterator, pipeline):\n",
        "    df = pd.DataFrame(columns = ['label', 'score'])\n",
        "    for idx, out in enumerate(tqdm(pipeline(iterator))):\n",
        "        df.loc[idx] = out\n",
        "    return df"
      ],
      "metadata": {
        "id": "1bT79HE3slI9"
      },
      "execution_count": 79,
      "outputs": []
    },
    {
      "cell_type": "code",
      "source": [
        "# Helper function to reformat pipeline outputs dataframe for Kaggle test submission format\n",
        "def clean_submit(preds):\n",
        "    df = preds.copy()\n",
        "    df.reset_index(inplace=True)\n",
        "    df.rename(columns = {'index':'id'}, inplace = True)\n",
        "    df.set_index(\"id\", inplace=True)\n",
        "    df['target'] = df.apply(lambda x: 1 if x['label'] == 'POSITIVE' else 0, axis = 1)\n",
        "    df.drop(columns=['score', 'label'], inplace=True)\n",
        "    return df"
      ],
      "metadata": {
        "id": "eHqI0y-KeT_D"
      },
      "execution_count": 80,
      "outputs": []
    },
    {
      "cell_type": "code",
      "source": [
        "# Getting predictions for the train for checking\n",
        "#preds_train = get_predict(data_iterator(d_train), disaster)\n",
        "\n",
        "# Getting predictions for the test data\n",
        "preds_test = get_predict(data_iterator(d_test_orig), disaster)\n",
        "\n",
        "# Reformatting predictions for Kaggle submission format\n",
        "#submit_train = clean_submit(preds_train)\n",
        "submit_test = clean_submit(preds_test)\n",
        "\n",
        "# Matching the predictions indices to the Kaggle sample submission indices\n",
        "submit_test.reset_index(inplace=True)\n",
        "test = d_test_orig[[\"id\"]].copy()\n",
        "merged = test.merge(submit_test, left_index=True, right_index=True, suffixes=(None, \"_s\"))\n",
        "merged.drop(labels=[\"id_s\"],axis=1,inplace=True)\n",
        "merged.set_index(\"id\",inplace=True)\n",
        "\n",
        "#submit_train.to_csv(\"submit_train.csv\")\n",
        "# Save predictions for submission to Kaggle\n",
        "#merged.to_csv(\"submit_test.csv\")"
      ],
      "metadata": {
        "colab": {
          "base_uri": "https://localhost:8080/"
        },
        "id": "dEPXoNPF0EMK",
        "outputId": "42db4a95-49c7-4e56-d585-721de3b8686a"
      },
      "execution_count": 81,
      "outputs": [
        {
          "output_type": "stream",
          "name": "stderr",
          "text": [
            "3263it [01:38, 33.01it/s]\n"
          ]
        }
      ]
    },
    {
      "cell_type": "code",
      "source": [
        "merged.shape"
      ],
      "metadata": {
        "id": "lNXiOPFtFklu",
        "colab": {
          "base_uri": "https://localhost:8080/"
        },
        "outputId": "d279ed79-b70b-40b8-a24d-66c4019627ef"
      },
      "execution_count": 82,
      "outputs": [
        {
          "output_type": "execute_result",
          "data": {
            "text/plain": [
              "(3263, 1)"
            ]
          },
          "metadata": {},
          "execution_count": 82
        }
      ]
    },
    {
      "cell_type": "markdown",
      "source": [
        "![Screenshot 2023-04-07 at 5.19.48 PM.png](data:image/png;base64,iVBORw0KGgoAAAANSUhEUgAACOQAAAHeCAYAAAAxAka3AAAMPWlDQ1BJQ0MgUHJvZmlsZQAASImVVwdYU8kWnluSkEBooUsJvQkiNYCUEFrovdkISYBQYgwEFXtZVHDtogI2dFVEwQqIBUUUC4ti74sFFWVdLNiVNymg677yvZNv7v3zz5n/nDl3bhkA1E5wRKI8VB2AfGGhOC4kgJ6SmkYnPQU4QOBPF2hzuAUiZkxMBIA2dP67vbsOPaFdcZBq/bP/v5oGj1/ABQCJgTiDV8DNh/ggAHgVVyQuBIAo5c2nFIqkGDagJYYJQrxIirPkuEqKM+R4r8wnIY4FcRsASiocjjgLANVLkKcXcbOghmo/xE5CnkAIgBodYt/8/Ek8iNMhtoE+Ioil+oyMH3Sy/qaZMazJ4WQNY/lcZKYUKCgQ5XGm/Z/l+N+WnycZimEFm0q2ODROOmdYt5u5k8KlWAXiPmFGVDTEmhB/EPBk/hCjlGxJaKLcHzXkFrBgzYAOxE48TmA4xIYQBwvzoiIUfEamIJgNMVwh6FRBITsBYj2IF/ELguIVPpvFk+IUsdCGTDGLqeDPcsSyuNJY9yW5iUyF/utsPluhj6kWZyckQ0yB2KJIkBQFsSrEjgW58eEKnzHF2ayoIR+xJE6avwXEcXxhSIBcHyvKFAfHKfxL8wuG5ottzhawoxR4f2F2Qqi8PlgblyPLH84Fu8QXMhOHdPgFKRFDc+HxA4Pkc8ee8YWJ8QqdD6LCgDj5WJwiyotR+ONm/LwQKW8GsWtBUbxiLJ5UCBekXB/PFBXGJMjzxItzOGEx8nzw5SACsEAgoAMJbBlgEsgBgs6+xj74T94TDDhADLIAHzgomKERybIeITzGg2LwJ0R8UDA8LkDWywdFkP86zMqPDiBT1lskG5ELnkCcD8JBHvwvkY0SDkdLAo8hI/hHdA5sXJhvHmzS/n/PD7HfGSZkIhSMZCgiXW3IkxhEDCSGEoOJtrgB7ot74xHw6A+bM87APYfm8d2f8ITQRXhIuEboJtyaKJgn/inLSNAN9YMVtcj4sRa4FdR0wwNwH6gOlXEd3AA44K4wDhP3g5HdIMtS5C2tCv0n7b/N4IerofAjO5FRsi7Zn2zz80hVO1W3YRVprX+sjzzXjOF6s4Z7fo7P+qH6PHgO/9kTW4QdwNqxk9g57CjWCOhYC9aEdWDHpHh4dT2Wra6haHGyfHKhjuAf8YaurLSSBU61Tr1OX+R9hfyp0mc0YE0STRMLsrIL6Uz4RuDT2UKu40i6s5OzCwDS94v88fUmVvbeQHQ6vnPz/wDAp2VwcPDIdy6sBYB9HvD2P/yds2HAV4cyAGcPcyXiIjmHSw8E+JRQg3eaPjAG5sAGzscZuANv4A+CQBiIBgkgFUyA2WfDdS4GU8AMMBeUgDKwHKwBFWAT2Ap2gj1gP2gER8FJcAZcAJfANXAHrp4e8AL0g3fgM4IgJISK0BB9xASxROwRZ4SB+CJBSAQSh6Qi6UgWIkQkyAxkPlKGrEQqkC1IDbIPOYycRM4hXcgt5AHSi7xGPqEYqoJqoUaoFToKZaBMNBxNQMejWehktBhdgC5F16HV6G60AT2JXkCvod3oC3QAA5gypoOZYg4YA2Nh0VgalomJsVlYKVaOVWN1WDO8zlewbqwP+4gTcRpOxx3gCg7FE3EuPhmfhS/BK/CdeAPehl/BH+D9+DcClWBIsCd4EdiEFEIWYQqhhFBO2E44RDgN76UewjsikahDtCZ6wHsxlZhDnE5cQtxArCeeIHYRHxEHSCSSPsme5EOKJnFIhaQS0nrSblIL6TKph/RBSVnJRMlZKVgpTUmoNE+pXGmX0nGly0pPlT6T1cmWZC9yNJlHnkZeRt5GbiZfJPeQP1M0KNYUH0oCJYcyl7KOUkc5TblLeaOsrGym7KkcqyxQnqO8Tnmv8lnlB8ofVTRV7FRYKuNUJCpLVXaonFC5pfKGSqVaUf2padRC6lJqDfUU9T71gypN1VGVrcpTna1aqdqgeln1pRpZzVKNqTZBrVitXO2A2kW1PnWyupU6S52jPku9Uv2w+g31AQ2axmiNaI18jSUauzTOaTzTJGlaaQZp8jQXaG7VPKX5iIbRzGksGpc2n7aNdprWo0XUstZia+VolWnt0erU6tfW1HbVTtKeql2pfUy7WwfTsdJh6+TpLNPZr3Nd55OukS5Tl6+7WLdO97Lue70Rev56fL1SvXq9a3qf9On6Qfq5+iv0G/XvGeAGdgaxBlMMNhqcNugboTXCewR3ROmI/SNuG6KGdoZxhtMNtxp2GA4YGRuFGImM1hudMuoz1jH2N84xXm183LjXhGbiayIwWW3SYvKcrk1n0vPo6+ht9H5TQ9NQU4npFtNO089m1maJZvPM6s3umVPMGeaZ5qvNW837LUwsIi1mWNRa3LYkWzIssy3XWrZbvreytkq2WmjVaPXMWs+abV1sXWt914Zq42cz2aba5qot0ZZhm2u7wfaSHWrnZpdtV2l30R61d7cX2G+w7xpJGOk5UjiyeuQNBxUHpkORQ63DA0cdxwjHeY6Nji9HWYxKG7ViVPuob05uTnlO25zujNYcHTZ63ujm0a+d7Zy5zpXOV12oLsEus12aXF652rvyXTe63nSjuUW6LXRrdfvq7uEudq9z7/Ww8Ej3qPK4wdBixDCWMM56EjwDPGd7HvX86OXuVei13+svbwfvXO9d3s/GWI/hj9k25pGPmQ/HZ4tPty/dN913s2+3n6kfx6/a76G/uT/Pf7v/U6YtM4e5m/kywClAHHAo4D3LizWTdSIQCwwJLA3sDNIMSgyqCLofbBacFVwb3B/iFjI95EQoITQ8dEXoDbYRm8uuYfeHeYTNDGsLVwmPD68IfxhhFyGOaI5EI8MiV0XejbKMEkY1RoNodvSq6Hsx1jGTY47EEmNjYitjn8SNjpsR1x5Pi58Yvyv+XUJAwrKEO4k2iZLE1iS1pHFJNUnvkwOTVyZ3p4xKmZlyIdUgVZDalEZKS0rbnjYwNmjsmrE949zGlYy7Pt56/NTx5yYYTMibcGyi2kTOxAPphPTk9F3pXzjRnGrOQAY7oyqjn8viruW+4PnzVvN6+T78lfynmT6ZKzOfZflkrcrqzfbLLs/uE7AEFYJXOaE5m3Le50bn7sgdzEvOq89Xyk/PPyzUFOYK2yYZT5o6qUtkLyoRdU/2mrxmcr84XLy9ACkYX9BUqAU/5DskNpJfJA+KfIsqiz5MSZpyYKrGVOHUjml20xZPe1ocXPzbdHw6d3rrDNMZc2c8mMmcuWUWMitjVuts89kLZvfMCZmzcy5lbu7c3+c5zVs57+385PnNC4wWzFnw6JeQX2pLVEvEJTcWei/ctAhfJFjUudhl8frF30p5pefLnMrKy74s4S45/+voX9f9Org0c2nnMvdlG5cTlwuXX1/ht2LnSo2VxSsfrYpc1bCavrp09ds1E9ecK3ct37SWslaytntdxLqm9Rbrl6//UpFdca0yoLK+yrBqcdX7DbwNlzf6b6zbZLSpbNOnzYLNN7eEbGmotqou30rcWrT1ybakbe2/MX6r2W6wvWz71x3CHd0743a21XjU1Owy3LWsFq2V1PbuHrf70p7APU11DnVb6nXqy/aCvZK9z/el77u+P3x/6wHGgbqDlgerDtEOlTYgDdMa+huzG7ubUpu6Docdbm32bj50xPHIjqOmRyuPaR9bdpxyfMHxwZbiloETohN9J7NOPmqd2HrnVMqpq22xbZ2nw0+fPRN85lQ7s73lrM/Zo+e8zh0+zzjfeMH9QkOHW8eh391+P9Tp3tlw0eNi0yXPS81dY7qOX/a7fPJK4JUzV9lXL1yLutZ1PfH6zRvjbnTf5N18divv1qvbRbc/35lzl3C39J76vfL7hver/7D9o77bvfvYg8AHHQ/jH955xH304nHB4y89C55Qn5Q/NXla88z52dHe4N5Lz8c+73khevG5r+RPjT+rXtq8PPiX/18d/Sn9Pa/ErwZfL3mj/2bHW9e3rQMxA/ff5b/7/L70g/6HnR8ZH9s/JX96+nnKF9KXdV9tvzZ/C/92dzB/cFDEEXNknwIYbGhmJgCvdwBATQWABvdnlLHy/Z/MEPmeVYbAf8LyPaLM3AGog9/vsX3w6+YGAHu3we0X1FcbB0AMFYAET4C6uAy3ob2abF8pNSLcB2wO+pqRnwH+jcn3nD/k/fMZSFVdwc/nfwF9Ynwx8VUUwQAAAIplWElmTU0AKgAAAAgABAEaAAUAAAABAAAAPgEbAAUAAAABAAAARgEoAAMAAAABAAIAAIdpAAQAAAABAAAATgAAAAAAAACQAAAAAQAAAJAAAAABAAOShgAHAAAAEgAAAHigAgAEAAAAAQAACOSgAwAEAAAAAQAAAd4AAAAAQVNDSUkAAABTY3JlZW5zaG90LwN0OQAAAAlwSFlzAAAWJQAAFiUBSVIk8AAAAddpVFh0WE1MOmNvbS5hZG9iZS54bXAAAAAAADx4OnhtcG1ldGEgeG1sbnM6eD0iYWRvYmU6bnM6bWV0YS8iIHg6eG1wdGs9IlhNUCBDb3JlIDYuMC4wIj4KICAgPHJkZjpSREYgeG1sbnM6cmRmPSJodHRwOi8vd3d3LnczLm9yZy8xOTk5LzAyLzIyLXJkZi1zeW50YXgtbnMjIj4KICAgICAgPHJkZjpEZXNjcmlwdGlvbiByZGY6YWJvdXQ9IiIKICAgICAgICAgICAgeG1sbnM6ZXhpZj0iaHR0cDovL25zLmFkb2JlLmNvbS9leGlmLzEuMC8iPgogICAgICAgICA8ZXhpZjpQaXhlbFlEaW1lbnNpb24+NDc4PC9leGlmOlBpeGVsWURpbWVuc2lvbj4KICAgICAgICAgPGV4aWY6UGl4ZWxYRGltZW5zaW9uPjIyNzY8L2V4aWY6UGl4ZWxYRGltZW5zaW9uPgogICAgICAgICA8ZXhpZjpVc2VyQ29tbWVudD5TY3JlZW5zaG90PC9leGlmOlVzZXJDb21tZW50PgogICAgICA8L3JkZjpEZXNjcmlwdGlvbj4KICAgPC9yZGY6UkRGPgo8L3g6eG1wbWV0YT4KwpdUeAAAABxpRE9UAAAAAgAAAAAAAADvAAAAKAAAAO8AAADvAACDasYkRdwAAEAASURBVHgB7N0HmBRF2sDxVxQFERWUYIIDRfEMZ/zUO/XMooIoOUhSMiaCGFAyiokcFEGQIEpWBEVRMYE5gJwBPUFFggoIAub5+m2u2ure7gm9szjL/vt5YDpVddWva3p2ut+p2i3hTMKEAAIIIIAAAggggAACCCCAAAIIIIAAAggggAACCCCAAAIIIIAAAggggAACWRHYjYCcrDiSCQIIIIAAAggggAACCCCAAAIIIIAAAggggAACCCCAAAIIIIAAAggggAACrgABOTQEBBBAAAEEEEAAAQQQQAABBBBAAAEEEEAAAQQQQAABBBBAAAEEEEAAAQSyKEBAThYxyQoBBBBAAAEEEEAAAQQQQAABBBBAAAEEEEAAAQQQQAABBBBAAAEEEEAAAQJyaAMIIIAAAggggAACCCCAAAIIIIAAAggggAACCCCAAAIIIIAAAggggAACCGRRgICcLGKSFQIIIIAAAggggAACCCCAAAIIIIAAAggggAACCCCAAAIIIIAAAggggAACBOTQBhBAAAEEEEAAAQQQQAABBBBAAAEEEEAAAQQQQAABBBBAAAEEEEAAAQQQyKIAATlZxCQrBBBAAAEEEEAAAQQQQAABBBBAAAEEEEAAAQQQQAABBBBAAAEEEEAAAQQIyKENIIAAAggggAACCCCAAAIIIIAAAggggAACCCCAAAIIIIAAAggggAACCCCQRQECcrKISVYIIIAAAggggAACCCCAAAIIIIAAAggggAACCCCAAAIIIIAAAggggAACCBCQQxtAAAEEEEAAAQQQQAABBBBAAAEEEEAAAQQQQAABBBBAAAEEEEAAAQQQQCCLAgTkZBGTrBBAAAEEEEAAAQQQQAABBBBAAAEEEEAAAQQQQAABBBBAAAEEEEAAAQQQICCHNoAAAggggAACCCCAAAIIIIAAAggggAACCCCAAAIIIIAAAggggAACCCCAQBYFCMjJIiZZIYAAAggggAACCCCAAAIIIIAAAggggAACCCCAAAIIIIAAAggggAACCCBAQA5tAAEEEEAAAQQQQAABBBBAAAEEEEAAAQQQQAABBBBAAAEEEEAAAQQQQACBLAoQkJNFTLJCAAEEEEAAAQQQQAABBBBAAAEEEEAAAQQQQAABBBBAAAEEEEAAAQQQQICAHNoAAggggAACCCCAAAIIIIAAAggggAACCCCAAAIIIIAAAggggAACCCCAAAJZFCAgJ4uYZIUAAggggAACCCCAAAIIIIAAAggggAACCCCAAAIIIIAAAggggAACCCCAAAE5tAEEEEAAAQQQQAABBBBAAAEEEEAAAQQQQAABBBBAAAEEEEAAAQQQQAABBLIoQEBOFjHJCgEEEEAAAQQQQAABBBBAAAEEEEAAAQQQQAABBBBAAAEEEEAAAQQQQAABAnJoAwgggAACCCCAAAIIIIAAAggggAACCCCAAAIIIIAAAggggAACCCCAAAIIZFGAgJwsYpIVAggggAACCCCAAAIIIIAAAggggAACCCCAAAIIIIAAAggggAACCCCAAAIE5NAGEEAAAQQQQAABBBBAAAEEEEAAAQQQQAABBBBAAAEEEEAAAQQQQAABBBDIogABOVnEJCsEEEAAAQQQQAABBBBAAAEEEEAAAQQQQAABBBBAAAEEEEAAAQQQQAABBAjIoQ0ggAACCCCAAAIIIIAAAggggAACCCCAAAIIIIAAAggggAACCCCAAAIIIJBFAQJysohJVggggAACCCCAAAIIIIAAAggggAACCCCAAAIIIIAAAggggAACCCCAAAIIEJBDG0AAAQQQQAABBBBAAAEEEEAAAQQQQAABBBBAAAEEEEAAAQQQQAABBBBAIIsCBORkEZOsEEAAAQQQQAABBBBAAAEEEEAAAQQQQAABBBBAAAEEEEAAAQQQQAABBBAgIIc2gAACCCCAAAIIIIAAAggggAACCCCAAAIIIIAAAggggAACCCCAAAIIIIBAFgUIyMkiJlkhgAACCCCAAAIIIIAAAggggAACCCCAAAIIIIAAAggggAACCCCAAAIIIEBADm0AAQQQQAABBBBAAAEEEEAAAQQQQAABBBBAAAEEEEAAAQQQQAABBBBAAIEsChCQk0VMskIAAQQQQAABBBBAAAEEEEAAAQQQQAABBBBAAAEEEEAAAQQQQAABBBBAgIAc2gACCCCAAAIIIIAAAggggAACCCCAAAIIIIAAAggggAACCCCAAAIIIIAAAlkUICAni5hkhQACCCCAAAIIIIAAAggggAACCCCAAAIIIIAAAggggAACCCCAAAIIIIAAATm0AQQQQAABBBBAAAEEEEAAAQQQQAABBBBAAAEEEEAAAQQQQAABBBBAAAEEsihAQE4WMckKAQQQQAABBBBAAAEEEEAAAQQQQAABBBBAAAEEEEAAAQQQQAABBBBAAAECcmgDCCCAAAIIIIAAAggggAACCCCAAAIIIIAAAggggAACCCCAAAIIIIAAAghkUYCAnCxikhUCCCCAAAIIIIAAAggggAACCCCAAAIIIIAAAggggAACCCCAAAIIIIAAAgTkFPI28PXXq+XQQw8p5LWg+EVZYN269VK2bBkpXrx4UWag7oVUYPPmzZJIJGS//fYrpDXI7WL/8MMPsnTpMvli5UrZt3RpOfnkk+Wwww7N7UJTOgQQQAABBBBAAAEEEEAAAQQQQAABBBBAAAEEEEAAAQQcAQJy8tEM3nrrbZk796mMczj11FOkVq2abrrZs+fIe++9L8cc83dp2LBBRnk1bdpcFi9ZIqeffppMfXRyRmkz2dnUs0SJEnLbbbdkkvQv2fejjz6WqVMfc4996603S8mSJXdaObQ9qFe1I6tJs6ua7rTj5sKBRowcJeud4Jp//uufUuPii9Iq0vDhI2XQ4CFSqlQpWfTiQjnwwAPTSlcYdhp49z2ybes2ueyyS+W00/7vLyvy+vXfyogRI93jd+rUUSpUKP+XlSWbB47T3rJ5fM3rtdcWy1XNWrjZTnxkvJx11pkZHSI/1/+MDpTmzlHX+qj1aWYbe7dXXnlVOnS8VrZu3erl0bVrZ7nWacfZmHLNPxt1Kqx5PP30M7JkyetS8aCK0rFD+8JaDcqNAAIIIIAAAggggAACCCCAAAIIIIAAAggggAACCPgECMjxcWS28Pjj0+SWW3tklsjZu0WL5tK71x1uuvYdOsmCBc+6D+1HDB+adl4bN26Uk07+8yH/m28slnLlyqWdPpMdJ06cJL1693WDJj5c9n4mSf+SfZ9//gVp3aade+ylH7wrpZ1eFXbWdOONXeSJJ+fK+eefJ2MfenBnHTYnjnPJpbXk448/lvbt28rN3W9Kq0wmje48evTItAN50sr8L96pStVqbgkG9O8nTZo0+stKs3z5f6Rmrdru8RcsmC9HVttRrvwU6I8//pBFi15yszj55JP+kt5hTNvJpL3lp85haYcMHSZDhw53N7Vs2Vx69dxxXdcVGzZskPff/0CKFSvmBursvvvuebKIe/3Pk1GWVkRd66PWZ+mwodmo38mnnOZtO+CAA+Snn36SWbOmp9WGC6O/VjadcnsoO2lmZ5TpzjsHykNjx8mxxx4jc5+ck5Wa7YxyZ6WgZIIAAggggAACCCCAAAIIIIAAAggggAACCCCAAAK7rAABOfk4te+8+65MnzYjTw4LnYCQ77//3g1gqen0jhGcTj/jdLmi9uXu6vw8kNWHwZMnPyqNnJ51unXrEjxM1pb/ioex+Sk8ATn50YufNk6AhAaj9e7Tz+0haviwITu1N6P4NU0v5a4ckPPLL7/IUdWPcSH0vNWseVl6KFncK057y+Lh3aw+++xz6dylqzt//333yJFHHukdQnv7aNK0mbu8ZPGrUrFiBW+bmcnP9d/kkc3XqGt91PpsHjuY11NPzZPrrr/RXT140H1y+eW13OCm4H5Ry4XRX+uSTrmj6lxQ63dGmQoiIGdnlLugzMkXAQQQQAABBBBAAAEEEEAAAQQQQAABBBBAAAEEdg0BAnIK4Dx26XqT6FAY1aodIc8ueDrpEXLtgWxYYf+Kh7Fh5Uh3HQE56Upld79cCJDIbo3ylxsBOfnzS5U619tbOsEAuXb9j7rWR61PdY7ys33YsBEyeMiOXuNWfPqR7LHHHhllVxj9tYLplDsjiCzsvDPKREBOFk4UWSCAAAIIIIAAAggggAACCCCAAAIIIIAAAggggEDOCRCQUwCnJL8BOToczMqVq6Rs2bKy//77RZbw999/l99++010KJRkDys3btwk69evk/LlK0iZMvtH5he1Id2HsVqeNWvWyvbt26VSpcNkr732isrStz6RSMi3337nDNXxvVPfMs7QWwe6dfLtFLGwadMPsm7dWqf3iYresDmZBOT88IOmX+cet3z55EN+/fzzz24p9txzT9ltt91E6/vppyucc/CrHHfcce62sCGrdL8vvlgpe+9dUipUqJB23dTlu+++c3tbKlv2ADnwwAPS7iHCnItt27Y66Q5021IEoduGdH9tQ2ZYnVWrVjnnY6NUr35Unl5rtM19880a0bwrV67sbY8TIKF11N5WdErWXrRNffXVV8453t91MOWMqlOq9cZWhzSpVKmSV4d00qXbVtMNyDFtsFy58knfn3qOUr3fTRu1z2W6Q1al22b0GPrvHyec7HLde8/dUqvWjh5y7OMGLU099T2e6r1mp81We9Pr6q+//upmHdbW7O3FixcPfa+F+Zp15rpg8nlt8RK55po27vEWvbjQvUbpdUP3M1NYQE6613+TRzqvar927Vqnne/t9tRjl8FOH3Wtj1pvp001r+1Ly7B161b3OrjffuGfbXqO1EB7gHvggTGiQ1W99uqO4dH0GGHnzj72X+Uft32bsmdSbpNGX+1r2cEHH5zREI2prqtxy2SXLzivee64hm5w22KZMmXcXdINyNEy698ZOlWoUN7tidBdsP6LW261TPf6bh2OWQQQQAABBBBAAAEEEEAAAQQQQAABBBBAAAEEEEAgUoCAnEia+BviBuT0uO0W6T/gLnnppZfdh5ZagipVqkizq5pKq1Yt8hTIBH9c5gyLNWL4jp4EzE760Oq++wfJ/PnPuA9BzXrN7+bu3eTiiy8yq1K+pnoYq8NzDRs+UnQ/ezrxxBOkR49b5eSTTrJXe/Pr1q2XsWPHydhxD3vrdEYfwLZs2Vw6tG/nBYj4dnAW1Ejr9+GHy71NWrc+vXu6AR6t27Rz1y/94N3QB5Q6VNKQocPl448/9tKXKlXKde7Qvr0bPONtcGY+++xzufCiGu6qV19ZJGMeGiczZ85yz5Om+3DZ++42c07OP/88ufeegXLrbbeLHstMuu/VV7eUazt19D2YN9v1VR9cjx37sDzk2KitmdRF20G7tm0iA7A0+GL4iJG+Y2r6Y489xvW89NJLTHbe67HHneDWY+SIYaIBTg+OGSNffvmVu/3p+XOdoJzq7vyWLVvch+QPPzzBS6szdevWkb59ekvdeg1cz/bt2zpt7CbfPlELjz32uGtkG9r7Tpo8RSZNmiwrVnzmrdZ9O3RoJ+3btY1sH97OgRm1HTduvHP+xvpstY6NGzd032saNBGc4rTVVAE5YW1QA8tq1LhIut/ULU+QkGlbYe93Le+2bdvlmGOPd4s+evRIqfG/93iqgJxM2owGiJ36f2cEebzliY+Ml7POOtNb1pmweuo51LYc9l4zibPd3qZNnyE333yrm/2Sxa+4ATLmWPpqbx941wBp6AwFaE+rvvxSzjnnfHeV2W5fFxY8M88dsuoZ5/3eoUMnO6lv/j/Ll3rn1g7IyfT678s0ZEE/A6Y7ddZrs30d0V2bNm0snW+8wb3W2kmjrvVR6+20UfNRnw/VnB7krr/u2jzDnbVoebW8/PIrodlFXSfsnXe2f9z2bZdZ5zMpt+4fdS3Ta0j3m7pKbWdYzGLFiumueaZ0r6uZlinPgawVGuwyYcJEGTlqtK89nnLyyc5n+T0yxRl+Uz/z9LNq7pNzrJTiBmi98MKLMnTYcN9nvu6kn7U33nC9m84kyrTcca7v5li8IoAAAggggAACCCCAAAIIIIAAAggggAACCCCAAALJBAjISaYTc1ucgJwzz/yX0xvK974AEfvwtznBOm1aX2OvEvthrh2Q8+2330rzFldH5qWZzJo5XTRgJp0p2cNYfejbqPFVsnTp0sisbrv1ZmnTprVvuz7cvuyyy73AI9/G/y00btxIBvTv6/ZGY29/4403nWM2tVf55hvUr+c+XNeVYQE58+c/LZ2uvd6Xxl7QB5pPzZ3je1htBzVoMFMwyCYYkHPqqae45/OLL76ws/bmtYx3332Xt2zP9OzZW/SBadSkaQcOvDOPy9PPLJCOHa+NSuauHzzoPrniitq+fUzgSLBeupMJyNGHvxrktGjRnz1V2JnoQ9Xvnd5mtL6ZBOREtS3t4aBLl27yxJNz7cP45jXYq/U1V/vWpVro1btvnsAxO03ty2u5tiVKlPBWx22rxnVA/37SpEkjLz+dSdUGNUBo7EMPyCGHHOKli3q/mx3iBORk2mY0uOKUU083h8zzGgzISVXPsPeaZloQ7U17fTrn3AvcMmuvPvXq1fGVX68JWl6dLqlxsYwaNcK3ferUx+S2Hne46xa/9rIcdNBBYl8XFiyYL0dWq+ZeG/RcRU3LP/zACfjb291szmmc639U/rpee53SADk7YDG4vwY+PDplki9gMer9GLU+mGdwedu2bdK4SbOknw/333eP1KlzpZe0bbsO8txzC71leyadgBy9Nu8s/7jt266Tmc+k3Jom1bVMA1XGPDjaF5ST6XU10zKZuoS9jhr9gNx77/1hm9xebvQ9oMcLC8jp3aefPPLIxNC0ulLbxcwZj8tRRx3l7pNJueNe3yMLwwYEEEAAAQQQQAABBBBAAAEEEEAAAQQQQAABBBBAwBZwfrXMlGWBzl26Jf5W5YiE06NKypzbte/o7qv76z+n947EypUrEz/++GPCGXopcfIpp3nb169f78vPpHUeJPvWjxnzkJfG+cW5m58z7EvC6Q0mUbNWbXfb2f8+N+EMHeJLF7XgPAhz0xxz7D98u2ieTk8Q3rGGDRuRWLpsWcLpRSPxzDML3PqbeumxzeQ8LE5cXruOl+7OuwYm3nrrLbfOL764KNG8RStv2wcffGCSua9qo+XQfE8/48zExEmTE05vLolPPvkk8eCDf9bbHHfz5s2+9O+++56Xd716DRPz5s13y+s8uE44Dwu9bTfc0NmXTrebPPX1yjr1Ek4wg3vs1atXe/tqOnu/jp2uSzhBLAknkME9n+ac6T5a3uD0wANjvPRq++yzz7nl07ag59nkPXTocF9SNTAu+ur0YuOaOMNOJWbNmp3Q823S6nmzJ7NeX7W9OT2FJJweadx24wRGuLv27dffS9/tpu6JV199za2Tlu+qZi28bZrHwLvvsbNPOh/Vtt57730vz1tu7ZHQdqDlXrt2XaJrt+7eto8++ihp/vZGfW+Zuup50LambVXrcPXVrb1tjz0+zUuWn7ZqjjVlylQvP515+513vGPVuKRmYvbsOW693nr77UTvPn29bTd27upLZ9pO8P1udtq6dZuXVtummey2+8mnn5rVbtuN02Z++umnxKZNm7xjaXtxAi/cf3bbivte0wIWVHs797wL3XIHDZ1hkrz3jzlvus6e2rRt76bVa6iZwmydoAfX4vkXXvSMnEA1z8ik1VdzTs0xM7n+2/kE5/v1G+AdW8ut1w9nSCX3fdSzVx9vm34+2FPU+zFqvZ02OK9t4ZrWbb1judd5p43re3j69Jm+zwC9nphJ02l7umvg3W5avSaZ9uUEgJrdIl93ln9+2ndY4TMpt17fTZvR66H6OUNTJhYvXuJrU04Qme9QmV5XMymT70CBBb0emfLWb9AoMXfuUwkncDjx5ptvJW6/vae3Tfex31+ajRNc423Xv6n088wZsiqxatWXCaenM2+bXsPNlG6583N9N8fiFQEEEEAAAQQQQAABBBBAAAEEEEAAAQQQQAABBBBIJiDJNrItnkDcgJzZc57Ic8AlS173Hjg5w3j4tpuHucGHyxosog+29EFdcNKHoRoMc/fd97rBCMHtYctRD2OffHKuVzZ9wBqc9KGZBs1oWVq2usbbrA+GneGm3OCP4cNHeuvNjAbdmId3jz7qD2awg1KCwTqa3hkCyUureQQDckxgij7YC27T9M5wT156feBqJvvBuwbyaPBD2GQH5Oh+doCC7q8P+c350fLpQ1Qzff31196xmzRplietPmRUR2Pz+ef/NUkTn332ecIZjscNKnht8WJvvZnR82PSffrpCrPafTXrNThD7YOTBnGYfbTNaTnsSYPHjKvul42AHG0fmpc+jA8ezzzod4YDS+h5SWdKZatBJiZYQ4NkzJSftmrMggE5xkrrpu+R4KTn0aTVgCEzRb3fzfZMA3Ly02Z+/vlnr4z6cD1sMvXM9L1WkO3t/kGD3XJrW7ffm3aQlLHXdWbS9mHW29cs+7pgBztpOg2OMGnCzrPuY86p7pfp9V/TR00aqKiBDRrcaNdT99cgO217eszrrr/Rl0XUtT5qvS9xYEHrY+ofDCDUXfXaZ8qhr8FJ02h6bUdxpoL2j9u+U9UlVbk1ANS4anBk8PqonzH254QdxBT3upqqTMnqpOUzgX/694BeU4OT/bkZDMjRv3s02EbT6t8vwckEaOoxglOqcufn+h48FssIIIAAAggggAACCCCAAAIIIIAAAggggAACCCCAQJgAATlhKvlcFzcgJ/jg1BTDPMwaOWq0WeW+moe5wYAc0/uMPsDSX4Dnd4p6GGt6sbB/mR48lum1JuxhWXBfe9kE8vS4/Q57tRfgowFFUZP+At88sLSDbjS4wax//31/zzsmL32YafaZPPlRs9oN/DDrw4KPzI72g0XtZSZs0kAak5c+MDST3YvAN998Y1b7XtetW++lDXuAH3w4axJrfuaYGkhlT2a9PtwNm+wH69rjTtikQUAmn2wE5Oj5NfnZgUdhx05nnW2rPTOETXocDS7RHhmiHMPSRbVVU/4pVg85emyzXo8TNmnvM1oO/afzZop6v5vtmQbkmHRRdU3WZlIF5OTnvVaQ7c3u1cQOuDHBH9qji+mhyw4isdu3HQSWzYCcTK//5vwle406txrMpu0wGOwSda2PWp/s2Ka3Jw3Iiqqb9txj3g8aNGdP5pwEy2jvk2w+VTCGpjXvKS1DVBnDPn/z076TlVm3pSq39j5nzKI+3+12rr3HmSnudTVVmUz+Ya92MKT2ShY2bdmyxatTMCDH7B/Vlp1hDb20wc/N/JTbHDfq+m6284oAAggggAACCCCAAAIIIIAAAggggAACCCCAAAIIJBMgICeZTsxtcQJyGjVuGnk0E2CjDzjtyTxMDAbkmF/B60M77Xlg1OgH3OGLzPBDdh7pzEc9jDXl0t5cXn/9jdB/Q4YM8x6WRQVC6MN9HdJq4cLnE49MnJSwg1rsYXs0GMQ8iHzeGQ4matKAELOfHZCjv7Q363WIj6gym14bbG/7wXuyYZLsskc9QNRym4e8Y8c97FXDPCy1e2jxNlozpocdDYiKmrTeGnQ0f/7TCR0GS3vrMXW3h2TS9Ga92odN/fvf6e4T9aBU0+jxTD7ZCMixz5Xmq8PsaACF9lQSZzK22gtOfqZ026oew3hMsQJy9IG0WR/1fogqX9T73ewfNyDHpM+kzaQKyLHPX6bvtYJsbxp0Yd57em0yk7mW6bky1ztdZyZzTdFrg/2+tq8L+ekhJ87135Qt1avWeeWqVQk9J/re79W7r2cQDJQ0dU93fbJjG1M9n1HTVmfYRPN+0EATe9qZATmZ+uenfdt1DJtPFURiD60Y9RlmX2fs4evscmdyXU1VprB6mHXPPbfQO8dhveOY/fTzRcuU7HNG99Wg1DfeeNMd6k97vDI9FWnaYPBmpuXO5Ppuys0rAggggAACCCCAAAIIIIAAAggggAACCCCAAAIIIJBMYDfdKExZFejS9SaZPXuOVKt2hDy74Omkebfv0EmcnjLksssulRHDh4buW6dufXnvvfelZcvm0qvnHd4+UWmdh5zSuk07cR7WefvqTKlSpaSmc5z6DerJySed5NuWbGHixEniPMR103+47H13V+eX+XJU9WOSJcuzbdbM6XLiiSe4653gIJnlGE2fPkPeeuvtPPuaFVdcUVsGD7rPXXSG75ImTZu584sWPS+VK1Uyu/leZ82aLc4wFu66pR+8K6VLl3bnnR6G5L77Bvn2TbZw9tlnySMTHnZ3Wb78P+I8KHTnFyyYL0dWqxaa9MYbu4jzi305/vjj5Yk5M0P30ZVNmzaXxUuWiF2/xk2ucs/ZlVdeIYPuvzcy7W097pCpUx/Lc4xNm36QR6dOlRkzZskXX3wRmX7gwDulYYP63vYqVXfUZUD/ftKkSSNvvZlp0LCxe47q1asj995zt1md5/WUU0+X77//Xtq3bys3d78pz/awFWFty+x3550D5aGx48yi93reuedI3bp1pEaNi6VYsWLe+mQz6dqG5RGnrWo+Ya4jRowS5yGyHHDAAfL2W6+HHS5yXdT73STYtm27HHPs8e7i6NEjpcbFF7nzydpu3DZjv/+HDxsiNWteZorhvubnvVaQ7U0LZ94/xx57jMx9co5s2LBBnEAbt9x6Xfn1l1/F6dXFXX73nTelTJkyct75F7nvqRYtmkvvXn9eg5PZ2terJYtflYoVK7h52v+lOqe6b9T1384nbP611xbL1Mcel3nz5odtdtfpZ4K5puuKqPdj1PqojJ3ABql+9LHu5nvuGSj169WN2lXO+OdZsnbtWunUsYN069bF22/YsBEyeMhQqVTpMHlp0Qve+nRnCtI/P+07VflTldt8dqTKx2y/5ebu0q5dG7Moca6rqcrkZR4yY85jqmveTd1vdj+7zPvSzsoJtJHJU6Y4fy/MFP37Jmp6fuGzUrVqFW9zOuWOe333DsIMAggggAACCCCAAAIIIIAAAggggAACCCCAAAIIIJBEgICcJDhxN/3VATlabn3IpIE+GvTiDAuSpyrXXddJunS+Mc/6sBVhD2Pth/+aRoOPUk364P6oo44SZ1gocXoRyvOgWINYDj+8qhxd/Sjn4duj8uWXX/kCVjSARR9G6rToxYVSuXLl0ENqQIo+3NPJDsjRh7v6cFCndMp7+mmnSd++vd39kz14d3f433+ZBuTUvryWDBmyI0iofv1G4vQCIw3q15O7777LztY337Nnb5k0eYrYDy6dXgNEg07sQBx9AKr1VNNjjzlGnGFq3HwyDcgx5dIgmPvu3XkBOVrYd959V6ZPmyELnTaswT72dOaZ/5KxDz0oe+21l706dN7UIVWwUzBx3Laq+YQF5AwZOkycnj9yIiAnP20mVUBOft5r5lwVRHvT8/LCCy+KMzSVzspbby6RN998S5xexnyBHyZIZNTI4fKPfxwv/zrz3+7+Ex8ZL2eddaY7r/8luy6kEwxQUAE5Dz88Qfr1H+CVU2eqV68uVf5WWaodWU0++uhjcXou8QVZ6j5h1/pk63Vb2LR9+3b5+zE7gsM0uFDfd1HTv885z73WBwP5TCBHLgbk5Kd9RzmY9anajXl/6P7pfI61bdNGNJjSnjK9rqYqk513cF6vd3rdSxWQ0+2mm2XmzFm+zzXNSwN2NUjPnrRNVK1aVY44/HB3tdPTnPuaaUBOfq7vdnmYRwABBBBAAAEEEEAAAQQQQAABBBBAAAEEEEAAAQQiBZJ1n8O2eAJxhqwKDjtlH9kMUWQPoaTbUw1hY/LQIUt0aBV7qAsd3kGHAEpnihrGxOlFwh1iQoeNyGR69bXXvCEsdLirpcuWJbSM9tSy1TXuPvaQVU5AhpfOCTKyd/fN3zXwbm8/e8iqZ599zluvQ6VkMqmfmum/4NA0dj6ZDlk15qGxXvIBA+5y8081ZIcZfuqOO3p5aZ0HxF75dHinr7762tumMzrMjil/1JBVOlxP2NSv3wA3bbKhtDZt2uTln40hq8LKsXLlysTESZMTp59xpnes0aMfDNs1zzpTB22zmUxx26oew3jbrnYb/O677zIpivd+79ChU2g69THHtIepiWq7+WkzqYassuuZ6XvNnKuCaG8KZw/t5fRmleje/RbXTd9/ZtL3kFrecmuPxOPTpnuuwSHTomw1n3SGy0nnGh51/TdlDb7a9dPhfPRauW3bNt9uY8Y85NYp3aGpoj4DfJkGFvT8qWGy64GWy7RZpycfXw47c8iqTD9/89O+fZUMWUjVbsz7Q9tFNqZ0rqupypSsHE5gsHeO9XMiaooassp83mk70WEVN2705+H0Hujln+mQVfm5vkfVg/UIIIAAAggggAACCCCAAAIIIIAAAggggAACCCCAgC0g9gLz2RHIhYAcp4eC0MrYD68eeGBM6D7BlVEPY50eV9wHYVc1axFM4i1roI0Gg9iTedCqD9i2bNlib3Lnnd59EvqgWLfbATm60Rlaxl2f7CGv/QDPDshZvXq19+DurbffznNcsyIYHKTrkz14N+n01Q7I+fTTFfYmb14fGpqH0PpA0Exz5z7lrXeG0TGrfa924IszfIe3rX6DRm5arXvYpEFE5piZBuQ4Q4B5aTds2BiWfcJ+sJns3AQTR7Ut3U/PQ9i50If4pn00b9EqmGXosgZemPpH1WHNmrWJl19+xf1njpuftmqOZwfk2G0wKqhM62fKoUFoZjJBIlFBRXpezTHTCcjJT5uxA3KedGyDk13PTN9rBdneTDnbtG3vWun1xVxT1NxMz7/wortdt2kAlLp27HSd2ey9Jrsu+IMY1nhp7JmCCMhxejPx2sFrixfbh/PmNQBF61SQATm3397TPcbltesk9JoeNtlGGhhiT+a9p0FFcSY77zVrsuufn/adqi6pym1fy/R9GDWZa1hwe5zraqoyBY9hL69a9aXXHl98cZG9yZvXz2lz7bIDUu2ArSFDhnn72zNTnEBSkzZ5QE7eNmDamKbP9G8RuwzMI4AAAggggAACCCCAAAIIIIAAAggggAACCCCAAAJRAgTkRMnkY/1fGZCjQSAmIGX+08/kqYUd0KG/Nk9nigqasAMAZs+eE5qVBhHoQ23tacIZHsLdRwOBzMPgYLCO7qDlNg/YggE5+lDcbNOedYKT3ZuF7mcH5Oi+5uG7PvQLbtPtzjBZbv4arGA/oE/24F3TmckOyNHzEHwoqsvm/Gj57IALu4cTfVAfNtn5f/zxx94uGpii+en2sKlX776eW6YBOR999JGXNqx3Fu2R49zzLvT2yW9AjjMcUsIZUsjNT8sdNpneFMLKE7a/HQR19dWt85wXTWMMtS6mXeanrZp2qg+M7cm0QX21z7/ZxxxT02uQkJmmTZ/hGb/11ltmtfu6fv36hOmxStOlE5Bj6hunzWg7NvUbPmKkryxmwdQz0/daQbY3Uzbb0tRDH/6b6ccff/TqZ7aHXeOSXRf0HJm0zrBYJmvfa0EE5Lz77nvecVes+Mx3PF3Q64wJaCvIgBwNGDT1nzDhkTzlUGMNttF9tBzmPWd2NMEScQNyCto/bvs29Yt6TVVu+1qmQbFBN81XextSV21fJtApP9fVVGWKqouu1/KZ9qa9m4V97pq/mbTMdkCOHfg3depjeQ6j71kN+DLtLBiQk6rc5lob1v70YMn+FtHtn3zySUKvV0wIIIAAAggggAACCCCAAAIIIIAAAggggAACCCCAQJQAATlRMvlYbx4uRfVkYWednweyYWk1OMI8/NLXRYtecoZo2er+0wATHSLKPLwKDmtkl8uejwrI0V547OCScePGJ/SBmD6A0+F47r77Xu9YXbt197LUQBpTBg3Y0d5bNI0GH9i/dtd9ggE5+gDMpNUHtfqQXHs80R4LJk2e4m0z+wQf/j333EJvHw26efXV1xL6YFiDhbRnCTuw5LPPPvfKnOzBu7eTM2MHzGgZtC3o0GA61M0bb7zp2z5o8BA7qTtvm+nDVn2Qr2k1D9NDiubbt19/X1q1N3VWB7XUXin0gbwdjKP7ZBqQowcyw/poei2H9rSk5dIeOEzwjDl+fgNy9HgmWETzfPTRqYl169a7QTR6XB2qyxwrLEhC04dN9pBt3W7q7ppqYIla2fWzA9Xy01ZNGYMBOdpLhNmm7x/tjUXftz/88EPi4YcneNv0/W1PdhvU97bmq8EXjz32uG8YL807nYCc/LQZLZd572tggl5btHx2z1xx32uat30+stneNG+d1q5d5zmrlwZpBSft+cucJ30NC56yz0lwKLutznXXpNfr7vvvf5D4z3/8D+/DruHBcmQ6ZJW2afMZ0KhxU7edazCGti9teyaQRMum+9lT1LU+ar2dNjiv1wfTC5MeS4eXUyNt6wsXPu97j9vt1eST34CcgvbPT/s2dQx7Tafc9rCMPW6/w21b+hmmaTUQypx//YzU82CmuNfVdMpkjhH2avd6pe8rbYcaTKPvhzvvGui9T7Sd2AE5mpf5fNF2q72K6We6BuroZ4G2b/Me09dgQE6qcufn+q5BZubYdm91YfVnHQIIIIAAAggggAACCCCAAAIIIIAAAggggAACCBRdgd206sKUVYEuXW8SJ1BAqlU7Qp5d8HTSvNt36CQLFjwrl112qYwYPjR03zp164vz8ElatmwuvXre4e0Tldb5Jbnc1uPP/bwE1kz79m3l5u43WWuiZydOnCROUIeUKlVKPlz2vm9H5yGvXFmnvnzxxRe+9fZCxYoV5Yk5s6R8+XLuaidQRJo3byWLlyyxd/PN67Gch2lyxRW1ZfCg+3zbXnhxkVxzTRvfOnuhRYvm4jxAdlct/eBdKV26tL1ZnAAGcYJdfOuCC927d5MO7dt5q5cv/484Dwrd5QUL5suR1ap52+yZG2/sIs6QInL++efJihUrxOlxx97szV966SUyfNgQKVasmLdOZ5zAJHGCl2TOnCd86+2FS2pcLMOdtrL77rt7q9esWSN16jaQtWvXeuvsmUqVDvPKMnDgndKwQX1vc5WqO+oyoH8/adKkkbfennEe6EvTps3FCQyyV3vzxx9/vOxZvLi7PRtta9myZeL0fODlHzbzzzPOkDFjRrvtMmx7cJ3aXn9DZ3F6jwhu8pbPO/ccx3aY7L13SXddftpqMteJkyZLr159vOMGZ/R8TXxkvFSuXNm36c47B8pDY8f51pmFvn17S8+evd3F0aNHSo2LL3Lno9puftqMZuwEBMntd/R0j2H+mzzpEfnXv/5pFmO91zRxQbU3r2DOTO0r6srSpUvdVf369ZGrmjaxN8v48Y+IE/jmrjv11FNk2uNTfdt1IcrW7HjtdTfkaW96DdXrm05R13CTXl+jrv/2PsH5YcNGyOAh4Z8nuu8BBxwgToBRnmt61LU+an3wuMHldD4feve6Q/SaHZxMHfS98NKiF4Kb01ouaP84nyXpFDxVudP5nNDjTJkyUfQ6aab8XFdTlckcI+r17nvuFadHmtDN+n645JKLZcaMWXLsscfI3CfnePu98sqr4gQSecvBGdOWdf3zC5+VqlWr+HZJVu78XN9bt2knToCQe6xkf7/5CsMCAggggAACCCCAAAIIIIAAAggggAACCCCAAAIIFD2BohuLVHA1v/nmW91fTgd/6R12RNNDgvakEjWZHhIGDLjLt0uytDrUgj2Ejfklt67T4SwymUzvCPoL9bDJebDv9gRjjmFe9Vf6/foNcH+1H0ynPTbYPZ2YNNpDjfYGY+qmPZmETXPnPuUNd2LSavmc4KaEPUyF9sYQNukv2s1wKSa9vta4pGbi9dffyJPkQ6f3D7Nf8Ff49s6mhxzt3UZ7dQn+gl/z0HpHlUvz0l//ay8zppcDc1x91TZgD61jH1uPZ/eAZNJp7x96jszyzJmz7GTeeh3uK9mkPYSY3p9MXvqqw0Zp7xvm2PcPGpwsG9+2ZG1LzbXs9rF0Xoc9cYINQoed8mUesqB2du8SJm/NU3ss0t5FglPctmryjnLVnn/0uGY/fdVzrm1o48ZNwWK4y9rrkfrabVd7nNBzqj1hmLy0BxIzJWu7cduMyVt757F7XNFeUIJTpu81k74g2pvJW1+1rMbLDOtjb9fh/8z2seMetjd588lsdSdtO8EeqvT6ZiZznYtz/Td5RL3qED/Ba4gu63BdUe+7TNdHHdte/8033/h6BjOm2vadoC57V9/8yFGjXX9t63GnneEft30nq1Oqcmta/ZzQXr+C51h9tVcZHX4xbIp7XU2nTGHHM+v02qrX7WB59TNXe3IbMXKUe771753gpD2B2dc804b0Wq7vJ7O8ctWqYNKU70GtV5y/RZ53ejYzddEef5gQQAABBBBAAAEEEEAAAQQQQAABBBBAAAEEEEAAgTABesjZhWOwnBMu69d/6/aaUmz3YnLE4YdLyZI7ev4oiGpvdXq0Wf3NN7L1x61SsWIF519F2W233ZIeSn+hrj3JbNnyoxx22GFSoUL5lGlMhpr269WrZcP3G9x0Bx98sNmU1qv2MrBu3TpxhtdyeqrZ3f1lfUH4bNiwwanjZ7LvvvuK9vZgesdIVUjngat8/fVqtyeLsmXLyqGHHiIlSpRIlUy2bdvummr9tLeA/fbbL2WaTHbQXi+0XDpp/gVhZpdn06YfxAkokm3bt8nhVQ+X/ffPf32c4BX55ps1smHD924vNOXK7ei9yT5ucD4/bTWYl1nWPJ0hs2TturVS7sADnfZRKe327wTTyD77lEq7PZljhr3mt81oz0za3ipUqODruckcKz/vtZ3d3kyZs/lqrlWl9t5bDnTO886a9DNA36tOUIxoG69cuVLo+dkZ5XGGGpLVq78Rfe9pryaHHHLwTitLQfvnp30ns0+n3M5QVe75dYZudK/16Z7juNfVdMqUrE56/r/86ivZ7nxOaQ9gmVzP9bP0v//9r/OZs3fGnz2pyq3bM/1bxBmiT4d9dXpU2ztZldmGAAIIIIAAAggggAACCCCAAAIIIIAAAggggAACRViAgJwifPKpOgIIIIAAAggggAACCCCAAAIIIIAAAggggAACCCCAAAIIIIAAAggggED2BQjIyb4pOSKAAAIIIIAAAggggAACCCCAAAIIIIAAAggggAACCCCAAAIIIIAAAggUYQECcorwyafqCCCAAAIIIIAAAggggAACCCCAAAIIIIAAAggggAACCCCAAAIIIIAAAtkXICAn+6bkiAACCCCAAAIIIIAAAggggAACCCCAAAIIIIAAAggggAACCCCAAAIIIFCEBQjIKcInn6ojgAACCCCAAAIIIIAAAggggAACCCCAAAIIIIAAAggggAACCCCAAAIIZF+AgJzsm5IjAggggAACCCCAAAIIIIAAAggggAACCCCAAAIIIIAAAggggAACCCCAQBEWICCnCJ98qo4AAggggAACCCCAAAIIIIAAAggggAACCCCAAAIIIIAAAggggAACCCCQfQECcrJvSo4IIIAAAggggAACCCCAAAIIIIAAAggggAACCCCAAAIIIIAAAggggAACRViAgJwifPKpOgIIIIAAAggggAACCCCAAAIIIIAAAggggAACCCCAAAIIIIAAAggggED2BQjIyb4pOSKAAAIIIIAAAggggAACCCCAAAIIIIAAAggggAACCCCAAAIIIIAAAggUYQECcorwyafqCCCAAAIIIIAAAggggAACCCCAAAIIIIAAAggggAACCCCAAAIIIIAAAtkXICAn+6bkiAACCCCAAAIIIIAAAggggAACCCCAAAIIIIAAAggggAACCCCAAAIIIFCEBQjIKcInn6ojgAACCCCAAAIIIIAAAggggAACCCCAAAIIIIAAAggggAACCCCAAAIIZF+AgJzsm5IjAggggAACCCCAAAIIIIAAAggggAACCCCAAAIIIIAAAggggAACCCCAQBEWICCnCJ98qo4AAggggAACCCCAAAIIIIAAAggggAACCCCAAAIIIIAAAggggAACCCCQfQECcrJvSo4IIIAAAggggAACCCCAAAIIIIAAAggggAACCCCAAAIIIIAAAggggAACRViAgJwifPKpOgIIIIAAAggggAACCCCAAAIIIIAAAggggAACCCCAAAIIIIAAAggggED2BQjIyb4pOSKAAAIIIIAAAggggAACCCCAAAIIIIAAAggggAACCCCAAAIIIIAAAggUYQECcorwyafqCCCAAAIIIIAAAggggAACCCCAAAIIIIAAAggggAACCCCAAAIIIIAAAtkXICAn+6bkiAACCCCAAAIIIIAAAggggAACCCCAAAIIIIAAAggggAACCCCAAAIIIFCEBQjIKcInn6ojgAACCCCAAAIIIIAAAggggAACCCCAAAIIIIAAAggggAACCCCAAAIIZF+AgJzsm5IjAggggAACCCCAAAIIIIAAAggggAACCCCAAAIIIIAAAggggAACCCCAQBEWICCnCJ98qo4AAggggAACCCCAAAIIIIAAAggggAACCCCAAAIIIIAAAggggAACCCCQfQECcrJvSo4IIIAAAggggAACCCCAAAIIIIAAAggggAACCCCAAAIIIIAAAggggAACRViAgJwifPKpOgIIIIAAAggggAACCCCAAAIIIIAAAggggAACCCCAAAIIIIAAAggggED2BQjIyb4pOSKAAAIIIIAAAggggAACCCCAAAIIIIAAAggggAACCCCAAAIIIIAAAggUYQECcorwyafqCCCAAAIIIIAAAggggAACCCCAAAIIIIAAAggggAACCCCAAAIIIIAAAtkXICAn+6bkiAACCCCAAAIIIIAAAggggAACCCCAAAIIIIAAAggggAACCCCAAAIIIFCEBQjIKcInn6ojgAACCCCAAAIIIIAAAggggAACCCCAAAIIIIAAAggggAACCCCAAAIIZF+AgJzsm5IjAggggAACCCCAAAIIIIAAAggggAACCCCAAAIIIIAAAggggAACCCCAQBEWICCnCJ98qo4AAggggAACCCCAAAIIIIAAAggggAACCCCAAAIIIIAAAggggAACCCCQfQECcrJvSo4IIIAAAggggAACCCCAAAIIIIAAAggggAACCCCAAAIIIIAAAggggAACRViAgJwifPKpOgIIIIAAAggggAACCCCAAAIIIIAAAggggAACCCCAAAIIIIAAAggggED2BQjIyb4pOSKAAAIIIIAAAggggAACCCCAAAIIIIAAAggggAACCCCAAAIIIIAAAggUYQECcorwyafqCCCAAAIIIIAAAggggAACCCCAAAIIIIAAAggggAACCCCAAAIIIIAAAtkXICAn+6bkiAACCCCAAAIIIIAAAggggAACCCCAAAIIIIAAAggggAACCCCAAAIIIFCEBQjIKcInn6ojgAACCCCAAAIIIIAAAggggAACCCCAAAIIIIAAAggggAACCCCAAAIIZF+AgJzsm5IjAggggAACCCCAAAIIIIAAAggggAACCCCAAAIIIIAAAggggAACCCCAQBEWICCnCJ98qo4AAggggAACCCCAAAIIIIAAAggggAACCCCAAAIIIIAAAggggAACCCCQfQECcrJvSo4IIIAAAggggAACCCCAAAIIIIAAAggggAACCCCAAAIIIIAAAggggAACRViAgJwifPKpOgIIIIAAAggggAACCCCAAAIIIIAAAggggAACCCCAAAIIIIAAAggggED2BQjIyb4pOSKAAAIIIIAAAggggAACCCCAAAIIIIAAAggggAACCCCAAAIIIIAAAggUYQECcorwyafqCCCAAAIIIIAAAggggAACCCCAAAIIIIAAAggggAACCCCAAAIIIIAAAtkXICAn+6bkiAACCCCAAAIIIIAAAggggAACCCCAAAIIIIAAAggggAACCCCAAAIIIFCEBQjIKcInn6ojgAACCCCAAAIIIIAAAggggAACCCCAAAIIIIAAAggggAACCCCAAAIIZF+AgJzsm5IjAggggAACCCCAAAIIIIAAAggggAACCCCAAAIIIIAAAggggAACCCCAQBEWICCnCJ98qo4AAggggAACCCCAAAIIIIAAAggggAACCCCAAAIIIIAAAggggAACCCCQfQECcrJvSo4IIIAAAggggAACCCCAAAIIIIAAAggggAACCCCAAAIIIIAAAggggAACRViAgJwifPKpOgIIIIAAAggggAACCCCAAAIIIIAAAggggAACCCCAAAIIIIAAAggggED2BQjIyb4pOSKAAAIIIIAAAggggAACCCCAAAIIIIAAAggggAACCCCAAAIIIIAAAggUYQECcorwyafqCCCAAAIIIIAAAggggAACCCCAAAIIIIAAAggggAACCCCAAAIIIIAAAtkXICAn+6Zejr/88qts3bZdtm//SX759Vf57bffJZFIeNuZQQABBBBAAAEEEEAAAQQQQAABBBBAAAEEEEAAAQQQQAABBBBAAAEEEBDZbbfdZI89dpc9ixeXkiVLSKm9S8qeexYvtDQE5BTAqdvmBOBs2rRZfv7lF9mn1N5uQ9lrzz3dhqMNiAkBBBBAAAEEEEAAAQQQQAABBBBAAAEEEEAAAQQQQAABBBBAAAEEEEDgTwHt4EQ7OtFYC+345Met20RjLfbff1/Z2wnQKWwTATlZPGPaONZ/u0G2//STlC2zn+xbep8s5k5WCCCAAAIIIIAAAggggAACCCCAAAIIIIAAAggggAACCCCAAAIIIIBA0RHYvOVH2bDxBylZooSUL1fW7UWnsNSegJwsnSkdnmrNum+dqKySUu7AMlnKlWwQQAABBBBAAAEEEEAAAQQQQAABBBBAAAEEEEAAAQQQQAABBBBAAIGiLfDtdxtl2/btclCFcoVmGCsCcrLQZjUYZ/WadW6vOPvtWzoLOZIFAggggAACCCCAAAIIIIAAAggggAACCCCAAAIIIIAAAggggAACCCCAgBH4YfMWd9SiyocdXCiCcgjIMWcu5qsOU/Xl12tk//1KC8E4MRFJhgACCCCAAAIIIIAAAggggAACCCCAAAIIIIAAAggggAACCCCAAAIIpBDQoJxNP2yRSocelPPDVxGQk+Jkptq8bv33UqxYMYapSgXFdgQQQAABBBBAAAEEEEAAAQQQQAABBBBAAAEEEEAAAQQQQAABBBBAIJ8COnzVH3/8IRXKH5DPnAo2OQE5+fDdtv0npzuk7+VvlQ7JRy4kRQABBBBAAAEEEEAAAQQQQAABBBBAAAEEEEAAAQQQQAABBBBAAAEEEEhXYOWXq6V8uQNk75Il0k2y0/cjICcf5N+sWS/77LO37Ft6n3zkQlIEEEAAAQQQQAABBBBAAAEEEEAAAQQQQAABBBBAAAEEEEAAAQQQQACBdAU2b/lRfvxxmxx8UPl0k+z0/QjIiUn+yy+/yuo166RK5UNj5kAyBBBAAAEEEEAAAQQQQAABBBBAAAEEEEAAAQQQQAABBBBAAAEEEEAAgTgCX6z6Wg45qILsuWfxOMkLPA0BOTGJN27aLL/99puUO7BszBxIhgACCCCAAAIIIIAAAggggAACCCCAAAIIIIAAAggggAACCCCAAAIIIBBH4NvvNsgee+whZfbfN07yAk9DQE5MYh2uat9995F9Su0dMweSIYAAAggggAACCCCAAAIIIIAAAggggAACCCCAAAIIIIAAAggggAACCMQR+HHrNtm8+cecHbaKgJw4Z9VJs/LL1W7XR8WL7xEzB5IhgAACCCCAAAIIIIAAAggggAACCCCAAAIIIIAAAggggAACCCCAAAIIxBH49dffZPWadfK3SofESV7gaQjIiUn82X+/lMOrHCa77bZbzBxIhgACCCCAAAIIIIAAAggggAACCCCAAAIIIIAAAggggAACCCCAAAIIIBDrotxRAABAAElEQVRHIJFIyOdffCVHVK0UJ3mBpyEgJybxis9XSbXDK8dMTTIEEEAAAQQQQAABBBBAAAEEEEAAAQQQQAABBBBAAAEEEEAAAQQQQACB/AjkcuwGATkxz2wun9SYVSIZAggggAACCCCAAAIIIIAAAggggAACCCCAAAIIIIAAAggggAACCCBQaARyOXaDgJyYzSiXT2rMKpEMAQQQQAABBBBAAAEEEEAAAQQQQAABBBBAAAEEEEAAAQQQQAABBBAoNAK5HLtBQE7MZpTLJzVmlUiGAAIIIIAAAggggAACCCCAAAIIIIAAAggggAACCCCAAAIIIIAAAggUGoFcjt0gICdmM8rlkxqzSiRDAAEEEEAAAQQQQAABBBBAAAEEEEAAAQQQQAABBBBAAAEEEEAAAQQKjUAux24QkBOzGeXySY1ZJZIhgAACCCCAAAIIIIAAAggggAACCCCAAAIIIIAAAggggAACCCCAAAKFRiCXYzcIyInZjHL5pMasEskQQAABBBBAAAEEEEAAAQQQQAABBBBAAAEEEEAAAQQQQAABBBBAAIFCI5DLsRsE5MRsRrl8UmNWiWQIIIAAAggggAACCCCAAAIIIIAAAggggAACCCCAAAIIIIAAAggggEChEcjl2A0CcmI2o1w+qTGrRDIEEEAAAQQQQAABBBBAAAEEEEAAAQQQQAABBBBAAAEEEEAAAQQQQKDQCORy7AYBOTGbUS6f1JhVIhkCCCCAAAIIIIAAAggggAACCCCAAAIIIIAAAggggAACCCCAAAIIIFBoBHI5doOAnJjNKJdPaswqkQwBBBBAAAEEEEAAAQQQQAABBBBAAAEEEEAAAQQQQAABBBBAAAEEECg0Arkcu0FATsxmlMsnNWaVSIYAAggggAACCCCAAAIIIIAAAggggAACCCCAAAIIIIAAAggggAACCBQagVyO3SAgJ2YzyuWTGrNKJEMAAQQQQAABBBBAAAEEEEAAAQQQQAABBBBAAAEEEEAAAQQQQAABBAqNQC7HbhCQE7MZ5fJJjVklkiGAAAIIIIAAAggggAACCCCAAAIIIIAAAggggAACCCCAAAIIIIAAAoVGIJdjNwjIidmMcvmkxqwSyRBAAAEEEEAAAQQQQAABBBBAAAEEEEAAAQQQQAABBBBAAAEEEEAAgUIjkMuxGwTkxGxGuXxSY1aJZAgggAACCCCAAAIIIIAAAggggAACCCCAAAIIIIAAAggggAACCCCAQKERyOXYDQJyYjajXD6pMatEMgQQQAABBBBAAAEEEEAAAQQQQAABBBBAAAEEEEAAAQQQQAABBBBAoNAI5HLsBgE5MZtRLp/UmFUiGQIIIIAAAggggAACCCCAAAIIIIAAAggggAACCCCAAAIIIIAAAgggUGgEcjl2g4CcmM0ol09qzCqRDAEEEEAAAQQQQAABBBBAAAEEEEAAAQQQQAABBBBAAAEEEEAAAQQQKDQCuRy7QUBOzGaUyyc1ZpVIhgACCCCAAAIIIIAAAggggAACCCCAAAIIIIAAAggggEChENiyZYssfP4FWbtunVx04QVyeNWqhaLcFBIBBBAIE+CaFqaS3rpcjt0gICe9c5hnr1w+qXkKW8RWLPtwuSxc+Lxb64MPOVga1q/nCQwfOVp++/VXd7lx44ZSsUIFbxszu7bAAw8+JNu3b49VyZqXXSrVqh0RKy2JEEAAAQQQQCD7Al9/vVqmz5jpy7j0vqWl9dWtfOvCFlas+Eyemjfft6lM2TLSsnkz37pcW1i5apXMnv2EV6wKFStIk0YNvWVmEEAAAQQQQAABBBBAIDsC+p3h0xUr5NNPV8hHn3wixffYQ44+urocWa2aVK9+lFQ67LDsHIhcEPgLBH797TcZMWJURkc+4YR/yLnn/DujNDtr5zt69ZGXXn7FO9xTT8ySfffd11tmBoFkAsF7LfuX2V9atWieLAnbEJClyz6U551AQDPp3waX1LjYLObrlWtafL5cjt0gICfmec3lkxqzSrtMsnHjJ8gjEye79dEL4K033+TOb9iwQa6o28Cr5xOzZ0iZ/ff3lpnZtQXOPveC2BUc0K+PnHXmv2KnJyECCCCAAAIIZFfg7XfelS7duufJdMwDo6T6UUfmWW+v6H/nQHn2uYX2Kjns0ENlyqQJvnW5thCs8zF/P1pGjxyea8WkPAgggAACCCCAAAIIFFqBX50fco5wftA5+4knk9bh+ms7Sr26dZLuw0YEclXgp59/lotqXJZR8RrUryvXduyQUZpkO7/+xpvyxx9/uLsUK1ZM/u/UU0RfM53+SCTknPMu9CXr37e3nH3Wmb51LCAQJRC815Lr94dWf/ONrFr1pVedQw89hCBRT2PnzcyaPUeGDBvhHbDGxRfJbbfkvU/p7ZDmDNe0NKEidsvl2A0CciJOWqrVuXxSU5V9V99+e8/e8vIrr7rV7Ni+rTRquCMI54OlS+W6G7q46/fee295Zl7yL1a7ulNRqx8BOUXtjFNfBBBAAIFdWSB4w8TUtVbNS+Wmrjv+3jPr7NeNGzdK7Tr17VXufK7fcNFCButMQE6e08gKBBBAAAEEEEAAAQRiC+h3hdtu7ynL//NRWnlcdkkN6da1s+y+++5p7c9OCOSKQC4E5ATv1U97bErs0QxGjBot06bv6EFXn/vMmTlNSpQokSvclCPHBYL3WnL9/lAwECTVfbAc5y+0xQueh2wF5CgI17T4zSKXYzcIyIl5XnP5pMas0i6TrFGTZvLNmjVufe6+a4Cccfpp7vyTT82T++4f7M6f6HSxOHTw/btMnalIaoGmzVrm2enHH3+UjZs2+dbrH1zBqfON18spJ58UXM0yAggggAACCPxFAsEbJnYx5j05W0qXLm2v8uanPjZNRj84xls2M7l+w0XLGawzATnm7PGKAAIIIIAAAggggED+BfS+sd4/tid9uP93p2fKdWvXyVdff21vcuf79LojZ4fxyVNYViDwP4GwgJyDDzooaXBZjRoXSbOmTbJmmM2AnITTS84yZ/iY777/Xk477f+klPO+ZUIgXYHgvZZcvz8UDAQhICfdM53d/YLnIZsBOVzT4p+rXI7dICAn5nnN5ZMas0qFOpn+Efmb06Xo9p9+krr1G3l1eXD0CHcIAl0xdPhIWfDsc+62C84/T7o4QRY67bPPPu4r/xU9gecWPi/9BtzlVVyDtzSIK51Jg3n0j/ySJUtK+XLlZLfddksnmbvP9u3bZc2atVJ639JStkyZyC872k2ufviaac899zSzsm79eimx116y3377eevsmbXr1rmLFcqXz6hsdh7MI4AAAgggkKsCwRsmdjk733CdXHlFbXuVO6/dYddv1FS+/fbbPNtS3XBJ93Nfj/Hbb795+euvZc0vZn/55RdZ69zI1+6Ew7ri1u3a9XDFChXcvy+8TP43E6yzHZDzq3PM1atXS8WKFd2/D4Jpo5bj1kvLv8cee7jZ6t8cW7dudbtILl68eJ5DadnWOMHyuztpDjzwQNnL+fuFCQEEEEAAAQQQQACBXBL4/fff5dwLLvYVSe8fd7+pq/f3td6Lu+HGrt4PQXXnM//1T7mzf19fOrOg9/Q2b94s33+/QQ4sd6DsG/GjAbO//arl2eD02KPp9d5fmf33975X2PvpfPA7SLp/q2v5Nv3wg2zcsFHKli0r++8ffo8xeDyWC79AWEDOrBmPy4EHHJBW5fQ7rxluShPs4XwPLPa/e+N6P1u/1x56yCHed0Y7U5P2gosvtVfL5EfGO99nK8huzvfG4s53TW2fmpeZ9N67+b65ZcsW97u17q8/xgneQ7fLY9Kb15+d50jfffed/O58d9cgJPO91mxP9sp322Q6hXdb8F5LqvtDyWrqtRHnXlA55/6H/TwnWTodpmi98xnzk/N8U9OVKlUqz+66jz4DnT5zljw4Zqy3XT+rbunezV1O1va9BMxkRSDTgJyt27bJ9999L+I8RtRrrQb8Rk1R17Q818X/XS9NPuvXfyvFdnfuvaV5LTfpdqXXXI7dICAnZkvL5ZMas0qFOlmvPv3kxUUvZVwHhq7KmGyXSpBpQI5+4M1/+hl5fNoMWblqlc9Cx7nt4AyRdnjVqr71ZkG/KIwZ+7C89dbbvi/uuv3cc/4tDerXE32wZk92b0+6/tmnn5JZc56QefOe9n6Vc9yxx0jDBvXdcXH1C8XYcePllVdf846hbbxd29ZS+/Ja3hcj+xjMI4AAAgggUBgFgjdM7DrozZPJE8fnCUjVMeq733Kbvas3H3bDJc7n/gsvLpLefft7+TZv1lQuPP98eWjcw96QqvrZrJ/913Zs795k0bpMnzFTlrz+hpfulFNOlq6db5BDDj7YWxess/7dcPfAO+X+QUN8fwef7vwiUG/IXHThBV5aeyYb9apz5RVyzr/PlhEjR8unK1a42Y8aMVSOPeYYd15vIj0ycbK8tnhJnr+Z/la5sjRt0sgtowlWssvHPAIIIIAAAggggAACO1tAH2LVa9jYd9gxD4yS6kcd6Vv38iuvyp0D7/HWHV61iowcPtRb1hn9Id7j02fI7NlP+Hrm1of/xx13rDRp1FCqVPmbs2feSQMZpk59PE9PPbrnFbVrSZPGjfIM6xP8DpLqb/VtzkNBvbepZdR5M5nvKe3atCY4x6Dsoq/5DcgZNGSozHlirqdz/70DnWCZPWXqY4/7vtfqd9PW17SSI6tV8/ZtdU1b+fy///WWgzPmB7PfOkEz9g+v9Tv7kMH3yb33DRL9bq+TtlX9bhm8hx723n3v/Q9kyqNT5U3n3rw96b38Vi2bu/fW7fVmnu+2RmLXfQ3eawm7P5Ss9hpAqdfT5557Pk/b1vs2+tzn32efleeHWXpvZu68+fK087wpOFSiBmHWq1dHrnCe6ZgeoBcveV1uue32ZEWRMaNHSvXqRyXdh43ZEUg3IEefJ06fMStP29DrYoP6dUPv3UVd04LXRW1fw4YOlnH/eyZoevLTNnz+eedKS+faZoIls1Pr3M8ll2M3CMiJ2X5y+aTGrFKhTha8QKVbGQ1mCH5pSjct+xV+gUwDcsaNn+A+XEpW8w7t2krjRg18u3y4fLn0uL2X70u4b4f/LQS7uQ226xuuu9bp6WlEWFKZOGGc86Vnmjz9zILQ7R2dYKFGDf3lCt2RlQgggAACCBQCgeANk2CRhw0ZJCf843jf6lt73OEGiPhW/m8h7IZLnM/94M3wunWukDfffNsLpLWPfUmNi6Whc2Om5TVt7NXevN6AmTJpgtebY7DOeuNQb/wEg4RNBrfefJPoMYJTNuqlX+zfffc93982JiBn1aov5eZbe3jBwcHjm2Ut283Or7iK2s0BU39eEUAAAQQQQAABBHJHQHt8vKSmv5dNfdCvD/wzmbTXy1uc7x1vv/1OZDINfOnft7eccvJJvn3Wrl0r7Tpc6/sb27eDs1DO6aX7gVHD3R4UzLbgd5Bkf6vnp3zmeLwWfoFsB+Rcf21HGfvwBF+Al1HS9j7mgZFuj6q6rnnLayK/w+r2ZAE5lStXkldfW6y7uVO6ATnJfpxj8jr7rDOld8/bfT3m8N3W6Ozar8F7LWH3h6IEtAe0nr37yLIPl0ft4q7Xe0P6bMdMGrjZo2fvpJ8Vuq/+oGnk8CFuUI7+CLvHHb1MFqGvBOSEshTIynQCch4e/4hMmDgp6fHbtr5GrmrqDwgOPhc0QYZhATka2DP7iSdDj1GvzpVy/XWdQrftqitzOXaDgJyYrS6XT2rMKhXaZNoN3PkX1ohVfv1lQZcbb4iVlkSFXyCTgJxp02fKiFGj06r06JHDvd5utPvOZi2uDn0QF5bZzGlT3S/Xui34wRu2v1mnX27sX7WY9fbrvCdnexHV9nrmEUAAAQQQKGwCwRsmwc9BvQnd644eXrX05naDxld5y8GZ4A2XuJ/7wZvhweMEl4PlDm5v1aK5+2s9XR+sc3DfsOWhg+6TE088wdtUkPUyATn3Dx4qTzz5568l9eBaz72coTc3btrklUVn7uhxq1x4wfm+dSwggAACCCCAAAIIIPBXCITdh9OeBi65+CIn2P8fUvlvlZMGk2uwfG+nt8yXXn4lreKPHzfG62lbH+p2uu6GlEHtmrF+d9EfmJohptL5DqJ/qx9dvbpoL/Pay0+qSX8coL2Omp4ZUu3P9sIlEBaQo+c7apgTHS6qZMmSXiWDPeR4GyJmtBcHvV+uU6qAHDMMXPDBc1jW6QTkaKCEvrfSmYI/aOW7bTpqhX+f4L2W4P2hZDXM5L2ggZga+KXT8y+8KH36DciTtQZdBodZr1XzUrmpaxd3VIRUATnjxjwg1aodkSdfVmRfIFVAzuPTpsvI0Q+mdeDON14vV9a+3Ns3+PdIVECOlyDJjPZgduoppyTZY9falMuxGwTkxGxruXxSY1apUCfT4YASTg1uu72nLF26zK2LdvfVvNmOBy/Lln0otzq/TjDTU05ggk46hmOJvfYyq3ktYgLpBuSsWPGZXNO2vU+n8w3XuUMt/P77HzJz9mxfzzkaufzI+LHuUBn6Jfd2J9rZTPpH1T0DB0iVKlVk1cpV0uHa632BNHYvOcEPXs3j6lYt3DF45z41T7SrzeCk0db6BfuZZ5/LE2FtBwoF07GMAAIIIIBAYRII3jDRrrD170G7m9/ZM6bJAQeUdasV/FWK/tp1yqOPeVW2b7jk53M/7Ga43sRv7PRS98UXK2WaMzRVMIBWf82iQeLfff+9PPb4dN92HRLzvnsGuuUM1tkUXv8mOfLII92/gUc/OMasdl/V5R5nWCudsl0vzVN7udFhqrZt2+rcWDpLKlQoL5fWusJXh9tvu8UNutGbuI89Pk1GPfBnGc3NVs2LCQEEEEAAAQQQQACBv1Ig1XAgGmR+/nnnuH/3nur8nR7s6XHmrDl5erY2Q7VqTxsTHpnk6xlE7/G1bN7MrbLe07Z7/tBjde/WRY4//jj54IOleR7c2j9ACPsOopkG/1Zf8vrrMmTYnz1v6zH69ekp/zj+eNHgh6HONjMUkKavX6+uXNepg84y7WICYQE5qar48osLvV3CghB0JILazvA6a9euk5mzZuf5McZzz8yTvZznMPojDQ1eq1OvoZefzmjQWMWKFWVvJ/BH22ZUQI4O7/zP009zerIpLpUqHSonnXhinh+1mofXv/76q9S6oq7v+6kGNzS7qqkT0La/LHaGWNYgOnua8fhUKV++nOiPbPlua8vsuvPBey32/aFktQ5rowPv7C/6+fDDDz9Iv/53+p7f6HCCN16/o5ccDY58cdFLXvb63tFtOqz3UudZ5rXX3+ht0/eD/tD6N6djgi0//ugOea4jJZhJ3xO33dLdXYwKqjP78po9gWQBOTq0e+u2/s9PHVbejKwxcdIU3/nXUukIGPpcUafgc0FzTQtrc7q//j2h7VYDvey/Jcw287eGLu/qUy7HbhCQE7P15fJJjVmlXSJZ02YtvZ5IBvTrI2ed+S+3XjpO38B77nPnGaZqlzjVWalEugE5Dzz4kDzqjIFrJvvX6madBny95vwRbybT082mTT84v275xvkjbLNs3rxZqh1xhFR1xpc2U/CPr+bNmkrrq1u5m4MfvHZXuZudh441L7/SZOO+6h9uXTvviPjXh5KXBbZrTwH6hZ0JAQQQQACBwi4QvGGigSfnOZ9xd951t1c182s57U2xVu063k04vZkxxOk5pm37jt6+9g2X/Hzuh90Mnztnpuy3337usR58aKwvEEhXmht+Oj9m7DiZPGWqzrrTwQcdJI89uqN722CddYfgsFTBgBet6zPzdnRdm+16hf1dEfb3h3b7fe45/3YDlfWmpv5iWH9duc8+paRMmTJyyMEH76gs/yOAAAIIIIAAAggg8BcL6FDwQ4eP9L47RBVHA2U0YKbSYYd5u7S6pq18/t//ess1nJ51zENSXak/rLuhc1dvuz540wdweu/w8ivreut1psetN8vFF13orZv71Hy59/5B3rLOzJ87xx3eNuw7SNjf6vpw8FPnIaGZBt9/r5x80olmUX7++WepXae+V3f7u4i3EzO7hEC2A3K0rUx4+CEpUaKE6/Pxx59I2w7+YVJ0qLW/H32053f2uRd48zoz7bEpUrFCBW9d2INn/SFL5xuud79bejs6M8F76Obh9ZLX33CHUzb76vtWh7e2g+mmOz+aGT7yz17xzXuH77ZGbdd/Dd5rse8PJau9vo++/PJLN/hm8+Ytsu++pX09kcx5Yq5o8JqZ7J6igp8XGgDZvm1rKV68uLv7O84Q4XpN3qdUKSnl3Dup6vy4W3/kpFMwEMT0oONu5L+dJhA8D/ZnvvaMoz3kmEnb1MNjH3SDEnXdTz/9JC2vbuPrFa9F86vkmlYt3SRR17Sw66L+LVLzskvddPqfDiGv1z4z2T/UM+t25ddcjt0gICdmy8vlkxqzSoU+mY6Be8HFf154Jk14WHRcUZ3018ImapRhqgr9qc5aBdINyLn2hs5ez0t6cP3j/YR/HO8rx3vvve8bK3TIoHvdCH17J/1DfpXzR9pXX30t69avl48++tj34aj7NmnUUNq3a+MmC37wBr8o39jlJnn3vfe8Q+gv4PUD1kzdut8ib771tlkU/YW6RuIyIYAAAgggUNgFgjdM9POvb++ectElNb2qaa9006ZOdrv17dm7r7e+aeNG7udhi6tbe+vsGy75+dwP3gwPBoIHf+mkveOMHfPnzb8Ply+XjtfuCK7VwmkdNMhXp2Cddd2iF57z3UzUL/W2ge5jAn6yWS/twv6J2TM0+zxT7Svr5fk1pPrqr8SOdLpOrn7UUb7g5DwZsAIBBBBAAAEEEEAAgb9QQHuuXOD0PL1gwXO+Hm2CRdLg90cnTZCyZctK8L607muGdLXT6UOyP/743V21114l5JSTT3Lv7ek9Pnta9PyzUqxYMW+V9vRx/kWXeMs6Y/IPfgcJ+1s9rHx6D3KP4nv48pw7d57vb/lnnV5N6F3eR7RLLGQ7ICfYm1IikZB6DZv4ht65a0A/+dc/z/D84gTkPDrpETn00EO8PMxM8B66CciZMHGSaG+59qQ/hrWnb75ZIwuff8Fb1aqlM2y0M3S0Tny39Vh26ZngvRb7/lC6Fdfgma++/lq0NzR97rPSGRlBR06we0i27//cdfe9ogGg9qSfKWc5HQzoPZMjj6zmjIJwlNMTlP8arfsHA0EIyLEVd9588DzYATk6TJ4Ol2emTh3aScMG9c2i+/rIxMkybvwEb53dQ3bUNS0sIEfvzennvpl05Az7x4qHV60qOkRmUZlyOXaDgJyYrTCXT2rMKhXaZDrcgEb3f7j8P74/8s5wui40Udl2929aUf2Vrv4i13QRV2grT8HzJZBuQE7dBo19bSudg3a58QZ3+And9+NPPpWJkybn6S4uLJ9kATnmy4RJF4x2NV/EzfY7evXxjVtNQI6R4RUBBBBAoLALBG+YmF98DB0+wukee45XvbvvGuAOk2QP8zh54nj5/bffJSogJz+f+8Gb4XrDUW88min4S0HtWnjQvX/26qO/qNVfSpkpWUBO1JfqYPnVQP8uDq43x0j2av6eCdZL89N8wya9mdm3/45hssK26zr9BaXe6NRAYfMrr6h9WY8AAggggAACCCCAwF8lsH79t85DtQ/dH9Q9+9yfQ/aY8ug9Zh1+fu26ddKgkf9Bv91Tptk/7DV4fzLq7/zgA7r+fXs7w2edKen8rR5WvrCyBNdNGPcQwfRBlF1gOSwgp2P7tlK6dOnQ2mlwmA6BZqbgkFXXduwgDer7e3kK/pA0GwE59rBZpiz6GnxvmHvo2quU9i6VyWTe05qG77aZyBXefYP3lzIJyNEATu3lWIMzUk12QM7XX6+WJs1aJE2iATr169WRpk0a+wIjg4EgBOQkZSywjcHzYAfkBO+/3TWgrxOQ+E9fWYKf3Xa7i7qmhQXkBK+LwR8CRv1N4SvMLrSQy7EbBOTEbGi5fFJjVqnQJrOHqcqkEnYXcZmkY99dRyD4hTfq4VLwAzQdgQ7t2rpjQmowjj0kRqq0BOSkEmI7AggggAACeXuLMQE5n33+uVzdup1HpF9o9VdKZjrxhH/I0MH3yxdfrMxqQI753A9+of4rAnKCv+LLT0BOuvUyvuZ18ZLXZeSoB3z2Zpv9qr0C6t8+TAgggAACCCCAAAII/JUCv//+u+hQt2Yq7vRKsPvuu5tF91V7vr773vvdXg/MBn1g+vRTT8jateukYZOrzGr3Nd2AHA306X/nQC9t1MOz4AO6fn16yb/PPitPQE7wO4hmvGbN2jzl8w6YZGb0yOGi99CZdi2BsICcWTMelwMPOCCtihaWgBx9v86b/3RadTI7mXsLZpnvtkZi132NG5CzefNm6dDp+pT3PYycHZCj67Q3naEjRsrbb79jdgl91Tap93XMj5mCgSAE5ISyFfjK4HlIHpDj7yFMCxe8f0hATnZOWS7HbhCQE/Mc5/JJjVmlQpksrLvNdCtS+/Ja0rXzn0MCpJuO/XYdgXQDcjp0uk6W/+cjr+I6luxJ1hjL3gZrpmTJkm7k8m239/T1jKMfrE2bNHK6HKwuhxxysEybPlPGjB3npSQgx6NgBgEEEEAAgUiB4A0T+6aZjlWvPdGETfrrVf3FW7KAnPx87ge/UAdvhmezhxytX7Ar++3bt8vFl9byVX36449KhfLlnRtF8f+eSVUv3wGthS+//Mr5G+o/bm+Wb775duiNqhcXLsjzsMPKglkEEEAAAQQQQAABBApc4MExY2XK1Me842hvH9rrR3AK/gBAt2sgwz777CMX1bjMt3uwJ2vd+Mabb8lvVuDPP884Xd559z3p0q27L23w7/xMhqwKfgfRjMMCMHR4371KlPAdN7hQ2qlX2JApwf1YLlwCYe1hVwzI0eFgdFgYM+nzoKtbJe+VZA8nEC+spyC+2xrFXe81eH/JDoxIVtsZM2fJsBGjvF00QLNFs6vkhBOOl0qHHSb/dX4IpkMXmSkYkGPWb9iwwR3e6NNPV8gHy5bJ0qXLzCbv9YFRw+XvR+8IjgwGghCQ4zFldeall1+RjRs3eXmedOIJUqnSYd5ycMipK2rXEu1lWqd0hqyaOGmKjH14vJef3YN2MADX9PpFDzkeV+RMLsduEJATedqSb8jlk5q85LvWVh2bcf7Tz7iVGjx0uK9ynW+4zl1+/4OlYg9ZpcNUaTSpBkRUd8ZhZCq6AukG5AweMkxmP/GkB9WsaRNp0/pqb1lnPly+XFY5D530i2qpUqXc7lx17MYal13uGys0OKZjrz79fO2TgBwfKwsIIIAAAgiECgRvmNgBOToOt47HHZz05siTztjKe+65Z9KAnPx87qcKXMl2QM5NXbuI3nwxkz5E0IcJZjK/2NW/fQuyXuZ42hW+BjvpOOnbtm2XsmXLON3ynmE2ywJnLOsBd/05RJdumPbYFKlYoYK3DzMIIIAAAggggAACCOxsgeADTv07evzYMXLQQRV9RXl82nQZOfpB37pnn5nn/iivectrZOWqVd42+9fyulJ7Q2jW8s/7iX+rXFkmThgn+jD2iroNvHQ6Exx2Xnv50N4+7Gnek7PdwIFU30FMmuADvvvvHSinnnKK2ey+6j30n3/5xbm/WcoNMtL75/r9iWnXEsjFgJxHJz0ihx56iAedzoNns3OwbZuH19qe9d67mY479hgZPnSw6BBcZlq7dq286fRQovf093Ha/UEVD3LLwXdbI7TrvwbvL6UbkNOn3wB5/oUXPSAzjKBZoc+T9D6MmUxAzlbnfsmHHy7fcd/E+VHV706QZs2al0kx576NThr8dVWLViaZ+3pHj1vlwgvOd+eDn1cXX3Sh9Lj1Zt/+LORfIDjkXcMG9aVThz975O5+y23y+htvegeyz9HwkaNl+oyZ3jZtU+PHjfE+T/Ua3LJVa/lmzRpvH/0Rf7s2rd3lqGtaOtdFhqxaJdUOr+y55tIMATkxzwYBOTHhCjCZ/aWnb++ecs6/z3aPZt/41wCcMaNHFmApyLowCaQbkKNRydfe0NlXtW5dO8sF550r+gX9vffel1udnnD04ZOZHnl4rFSp8jcJDhsxdNB9cqITTavTK6++Jj3u6OXOm/8IyDESvCKAAAIIIBAtELxhYgfkhPUSozk1bex8uW2748ttsh5y8vO5n+pmeLYDcrReN1x3rRx99FGiQegPPPiQrvKm/zv1FLnvnh3d3xdkvcwB9WaE3pSwpxHDhsjxxx0rfyQS8oTekLKC6DV4efas6d6NJzsd8wgggAACCCCAAAII7CyBsAeges+vfr06ooEz+vDsnXfelYXPv+Arkj281NTHpsnoB8f4tl/VtLH7EHXr1q1y18B7fT1GtmrRXFq1bO7uH3ywp8e++aaucpzzd7T+HX/PfYN89x3PPutM0Ye/OqX6DuLu5Pw3cbLza/xxf/4aX49x14B+okEKGsD/5FPzfA+P9W/1GdOmSvHixU0WvO4iAmEBOS2bN3N+ZLp3ZA2rVq3iBXBlY8iqug0ay7fffusdTx92n+/caz/ggLJS7sADJZ0HzyZx1MPrsHsD2kuO1lWPs3r1aunT/05fD7vdutwol9eq6T5o57utEd61X4P3l/Ta2KpFs8hKH3TQQeJeg52hBnXIQTNp70vatnTSz5TOTs9ndhs3ATlbnOEPL7v8SpPMfe3Usb3Uq3Ol23vwJ59+Km3adfRttwPWgsMc6rW6t9MbtAZPMsSgjy1fCxpspUFX9nT9tR3dTh50KLvJU6bam/6fvTsP0qSs7wD+zLU3AoIci0KVSMqYxEShKh5JNBaKrEEqmlK5PIqIGMsyigQQ7yTGE1DxivECDxRSBBAxYiVVrmgSjUQ0fyEYlGBcll3Y2oudmd30r2eed/t9952Zd5t5d/qd+TQ19N1vP5+nd97pfr/v86TrvvqVdMQRjymXRW8b0Up1dYjg1BkvfUnaU/z3pS9fs8/fE5/9h0+lJxx/fLnLTL/Tevm9KJAjkFO97hbFtEBOs6oxmvp8znOf3zqpz3/m02ULJbHgU58umhwtfsHF8IJ1p5Y3M+WM/y15gV4DOQEV336Jb8H0MkRXGNElRgzxLfAIhVWH+OMrbgh+ee+91cXltEDOPiQWECBAgACBfQQ6H5hUAzmx8RUfuTLFt4aqwxev+lzZbHAsmy2QE+vrvu/P9TC8H4GcON+ZhiuLb/89+cm/01rdr3LlFxgv/iY/7fQXtX1YEOviAVF807YaXo7lZ7zsJem1rzkvJg0ECBAgQIAAAQIEFlTggx+6vAyl7M9JVL8UGt1KXXLp29J//OCHPR3iM3//yXTCCU8ot/31hg3pvOID2M0P7u0eY6aDrC0+DL7yo1ekww87rNxkrnuQfJydO3emN190SdfuUPI21XF0vRFdcBgWn0C3QM5cpYwgywVvnOqOZT4COdGqbbRu2zm84uVnp3Nf9cp5CeTEsbt9ITaWR+ii8/407lujy+cINri3DaWlMXQ+X5qr1H/wzGek9/zNu8ueO977/g+2bR4toaxcubLstrttRTGTAzmx/G3veFeKLpE6h7gGO98HqsHP2P5/77svnXHWVJizc/9//sZN5et3Lje//wLdwi8zHSWeu8Xzt+rw+auuTp/93Beqi2acPv81r07xuWAeBHKyxP6Pm5zd0ELO/tdnuUeTK7VmkQZ6t1/8smjG7eV7m3G7tWgqdPny5WWZ4kbotu99v5yOvn+jD2ADgRDYn0DOnuJb3VcU3+iudl3VTTFaYXp3EcY56qipJm1v/68fpze88YJum5bL4ls21eZsBXJmpLKCAAECBAi0BDofmHQGcu6882fp3PPOb23/lN/73fThyz/Ump8rkFP3fX+uh+HzGciJb7I++OBDXQO+UdCL/+rNad2pewPrsaxf5Ypj56GzjHl55zjq7C0XX5QOOeTgzlXmCRAgQIAAAQIECBxwgfhb+ZqvXrtPKzcznUh8GS++lFcdIvRywYUXpZ8U3ZHMNrzv7/42Pf1pv9+2STzfPu/81+0TEqhuFB/WfvLjV7Z1pTXXPUh1/+gq5Y0XXNjWIkh1fZ6Ob/JfWLQOrruqLLK4xk0I5Pzghz8s/q1cvA/sSSedmC77wPvmLZATL9CtpYvOF45/W+94+6XpqU95SmuVe9sWxaKe6Hy+NFdhcyDngQc2pfNe+7q2VnCq+3Z+7lMN5Dz00EPp9W94U9vnQtV983QEMP/6Xe9ohTfz8te9/g1d32c+9tEPl62e5e2MH5nA9//t39NFl1w660GiZeqoowhidQ5XfvwT6WvX/mPn4rb5c846M736z/d2ZxkrBXLaiPZrpsnZDYGc/arKvRs3uVL3nuXSmar+ARdvUtd8+epW4c8655WtDyre/973pHj4byAQAp2BnGpzr92EoquFa6+9Ll3/Tze29e8Y20b6+ZRTnlsmWUdHR9t2jz/e3/Pe9+/zB9ZfnH9eOq4I5FTf1KtvwNVu2OKAuf/bfPDYL/4oyEN0xxaBoDx09mP6zre/NT3nj5+dVxsTIECAAIGBFfjPH91ePkjOBegM5MTyv3zThUVLOD8vN7mgaHY63ufz0BnmjvfxL139+by6HNd53//O+u+mt779na3jPPMZTy+bgc8LOh/oxUP4eBifhwjpxvt/Hqp/13aGfOOm/9K3XJw+UDRf/93bvpd3KVujOffcV6UXFn2Qdxv6Ua7O14mmv+OhQ7cgczyEOuV5J6cXv/hFuqrqhDNPgAABAgQIECCw4AI/uv32dMONX08/+9ldrWfK+aTib9lo1Sa6ojpm7dq8uG0c3ZFcdfWX0k03f6MtXBMtcpx04lPTWWe+LP3mE5/Ytk+eueeeX6T4Vn0ECDqHCMm84pyz02Mfe0zbqrnuQdo2Lma2FOf3hau+mG7+xi1t5xfbRfnOOfvM9Kw/+sPO3cwvIoFdReulJ5+ybr9KVG0h56Mf+0S69rq9HzJ3+xJ03I/Hv6U8RPdocX9cHaJrlfcVLYxUW5GPYMwN119XthJy+p/+WXXz9J1/3ds9UHXFXM/QY9v4wvaXv3LNPiGGeL1nPP1pKVqoOPjgfb8s4t62Kr04pzuftcxVymrvCJs3b07R2lN0310d4nnMWWeekV565tmtxfG5TXx+k4d4r7jxppuLZydT13teHuN4FvS04nlRBDVWF+8dnUP8G45/hzfceFPbqksvuah43vLctmVmHpnA3Xf/vOyF5cd3/KTtPTO+JHfSiSems4v3zLGOzwPzK8bzt+uvv6H8fXnfr36VF5fjeA4ZjUfE79bOYabfadF60ly/F3VZpcuqzutp4OcFcga+ChWAQG2BeCPdtGlT2rxpc4rwzdFrj04rpltkmu2g0U1VvPHGttGCzsjIyGybW0eAAAECBAg0QKDu+/6BPPV4GBPN6Y6NjqXDDz8sDQ8Pz/nyB6Jck5OT5YPUjfdvTCtWrkiPPeaY8m+nOU/OBgQIECBAgAABAgQaIBAtidxbdDkfLcVEAGd/nuVNFN25bnzggbRly5byg/4jjzii5xLF624ourHavn1HWrN6dTr8MYf39Oyx5xcoNizPr7iHiIDOqpWrylZ39qd8+/NatiUwm0A8M49u2+I67PV+drbjzbYurve4P4171aOOOjIddNBBs23eWufetkVhootA/D69775fpcndk8Xv0t4+K8qHidbZ4n0i3i/iOjv2cY9LK1asyKtnHcdznXiv2PXwrvLfTgQ/Df0T2LDh/uI9c0s67thj09jYWM8vFPUUnyXGZ4oxHHbYo9Ohhx6ahoaGej6GDXsTaHJ2Qws5vdXhPls1uVL3OVkLCBAgQIAAAQIECBAgQIAAAQIECBAgQIAAAQIECBAgQIAAAQKLTKDJ2Q2BnJoXW5MrtWaR7EaAAAECBAgQIECAAAECBAgQIECAAAECBAgQIECAAAECBAgQGBiBJmc3BHJqXkZNrtSaRbIbAQIECBAgQIAAAQIECBAgQIAAAQIECBAgQIAAAQIECBAgQGBgBJqc3RDIqXkZNblSaxbJbgQIECBAgAABAgQIECBAgAABAgQIECBAgAABAgQIECBAgACBgRFocnZDIKfmZdTkSq1ZJLsRIECAAAECBAgQIECAAAECBAgQIECAAAECBAgQIECAAAECBAZGoMnZDYGcmpdRkyu1ZpHsRoAAAQIECBAgQIAAAQIECBAgQIAAAQIECBAgQIAAAQIECBAYGIEmZzcEcmpeRk2u1JpFshsBAgQIECBAgAABAgQIECBAgAABAgQIECBAgAABAgQIECBAYGAEmpzdEMipeRk1uVJrFsluBAgQIECAAAECBAgQIECAAAECBAgQIECAAAECBAgQIECAAIGBEWhydkMgp+Zl1ORKrVkkuxEgQIAAAQIECBAgQIAAAQIECBAgQIAAAQIECBAgQIAAAQIEBkagydkNgZyal1GTK7VmkexGgAABAgQIECBAgAABAgQIECBAgAABAgQIECBAgAABAgQIEBgYgSZnNwRyal5GTa7UmkWyGwECBAgQIECAAAECBAgQIECAAAECBAgQIECAAAECBAgQIEBgYASanN0QyKl5GTW5UmsWyW4ECBAgQIAAAQIECBAgQIAAAQIECBAgQIAAAQIECBAgQIAAgYERaHJ2QyCn5mXU5EqtWSS7ESBAgAABAgQIECBAgAABAgQIECBAgAABAgQIECBAgAABAgQGRqDJ2Q2BnJqXUZMrtWaR7EaAAAECBAgQIECAAAECBAgQIECAAAECBAgQIECAAAECBAgQGBiBJmc3BHJqXkZNrtSaRbIbAQIECBAgQIAAAQIECBAgQIAAAQIECBAgQIAAAQIECBAgQGBgBJqc3RDIqXkZNblSaxbJbgQIECBAgAABAgQIECBAgAABAgQIECBAgAABAgQIECBAgACBgRFocnZDIKfmZdTkSq1ZJLsRIECAAAECBAgQIECAAAECBAgQIECAAAECBAgQIECAAAECBAZGoMnZDYGcmpdRkyu1ZpHsRoAAAQIECBAgQIAAAQIECBAgQIAAAQIECBAgQIAAAQIECBAYGIEmZzcEcmpeRk2u1JpFshsBAgQIECBAgAABAgQIECBAgAABAgQIECBAgAABAgQIECBAYGAEmpzdEMipeRk1uVJrFsluBAgQIECAAAECBAgQIECAAAECBAgQIECAAAECBAgQIECAAIGBEWhydkMgp+Zl1ORKrVkkuxEgQIAAAQIECBAgQIAAAQIECBAgQIAAAQIECBAgQIAAAQIEBkagydkNgZyal1GTK7VmkexGgAABAgQIECBAgAABAgQIECBAgAABAgQIECBAgAABAgQIEBgYgSZnNwRyal5GTa7UmkWyGwECBAgQIECAAAECBAgQIECAAAECBAgQIECAAAECBAgQIEBgYASanN0QyKl5GTW5UmsWyW4ECBAgQIAAAQIECBAgQIAAAQIECBAgQIAAAQIECBAgQIAAgYERaHJ2QyCn5mXU5EqtWSS7ESBAgAABAgQIECBAgAABAgQIECBAgAABAgQIECBAgAABAgQGRqDJ2Q2BnJqXUZMrtWaR7EaAAAECBAgQIECAAAECBAgQIECAAAECBAgQIECAAAECBAgQGBiBJmc3BHJqXkZNrtSaRbIbAQIECBAgQIAAAQIECBAgQIAAAQIECBAgQIAAAQIECBAgQGBgBJqc3RDIqXkZNblSaxbJbgQIECBAgAABAgQIECBAgAABAgQIECBAgAABAgQIECBAgACBgRFocnZDIKfmZdTkSq1ZJLsRIECAAAECBAgQIECAAAECBAgQIECAAAECBAgQIECAAAECBAZGoMnZDYGcmpdRkyu1ZpHsRoAAAQIECBAgQIAAAQIECBAgQIAAAQIECBAgQIAAAQIECBAYGIEmZzcEcmpeRk2u1JpFshsBAgQIECBAgAABAgQIECBAgAABAgQIECBAgAABAgQIECBAYGAEmpzdEMipeRk1uVJrFsluBAgQIECAAAECBAgQIECAAAECBAgQIECAAAECBAgQIECAAIGBEWhydkMgp+Zl1ORKrVkkuxEgQIAAAQIECBAgQIAAAQIECBAgQIAAAQIECBAgQIAAAQIEBkagydkNgZyal1FUqoEAAQIECBAgQIAAAQIECBAgQIAAAQIECBAgQIAAAQIECBAgQGDhBE44/riFe/FZXlkgZxac2VYJ5MymYx0BAgQIECBAgAABAgQIECBAgAABAgQIECBAgAABAgQIECBAoP8CAjn9N/YKBAgQIECAAAECBAgQIECAAAECBAgQIECAAAECBAgQIECAAAECBBZcQAs5C14FToAAAQIECBAgQIAAAQIECBAgQIAAAQIECBAgQIAAAQIECBAgQGAxCQjkLKbaVBYCBAgQIECAAAECBAgQIECAAAECBAgQIECAAAECBAgQIECAAIEFFxDIWfAqcAIECBAgQIAAAQIECBAgQIAAAQIECBAgQIAAAQIECBAgQIAAAQKLSUAgZzHVprIQIECAAAECBAgQIECAAAECBAgQIECAAAECBAgQIECAAAECBAgsuIBAzoJXgRMgQIAAAQIECBAgQIAAAQIECBAgQIAAAQIECBAgQIAAAQIECBBYTAICOYupNpWFAAECBAgQIECAAAECBAgQIECAAAECBAgQIECAAAECBAgQIEBgwQUEcha8CpwAAQIECBAgQIAAAQIECBAgQIAAAQIECBAgQIAAAQIECBAgQIDAYhIQyFlMtaksBAgQIECAAAECBAgQIECAAAECBAgQIECAAAECBAgQIECAAAECCy4gkLPgVeAECBAgQIAAAQIECBAgQIAAAQIECBAgQIAAAQIECBAgQIAAAQIEFpOAQM481uaePXvm8WgORYAAAQIECBAgQIAAAQIECBAgQIAAAQIECBAgQIAAAQIECBBY/AJDQ0OLrpACOXNUqZDNHEBWEyBAgAABAgQIECBAgAABAgQIECBAgAABAgQIECBAgAABAgQOkMCghHcEcjouCAGcDhCzBAgQIECAAAECBAgQIECAAAECBAgQIECAAAECBAgQIECAAIGGCjQ1oCOQM33B9BrE6XW7hl6HTosAAQIECBAgQIAAAQIECBAgQIAAAQIECBAgQIAAAQIECBAgMDACvQZuet3uQBV8yQdyZgvYzLYuV9CePGFMgAABAgQIECBAgAABAgQIECBAgAABAgQIECBAgAABAgQIECDwiASGeth7tvDNbOt6OPS8bbKkAzndAjedy8rAzR6xm3m74hyIAAECBAgQIECAAAECBAgQIECAAAECBAgQIECAAAECBAgQIFBHYGgodQZ2ugVwui2r83KPZJ8lGcjpDN0EYHVZdbpzXRW7LaYjtFOlMU2AAAECBAgQIECAAAECBAgQIECAAAECBAgQIECAAAECBAgQ6F2gCNvkYe9UXjI17gzaVOer03mvbsvyun6Pl1wgZ7awTV5XbRWnOh2V0QrhCOD0+9p0fAIECBAgQIAAAQIECBAgQIAAAQIECBAgQIAAAQIECBAgQGCpCkwHdNrCOdUWcirT1eBNdTroOucPFOeSCuTkwE3GzfM5dNM5ju06t8n7luuqM6YJECBAgAABAgQIECBAgAABAgQIECBAgAABAgQIECBAgAABAgQesUBbCCeO1i18k5d1jsvN24+wEKGcJRPIycGaXOt5vjruDOS01sVORYs4vbSO09omv5AxAQIECBAgQIAAAQIECBAgQIAAAQIECBAgQIAAAQIECBAgQIBAV4H26EzHJkXYJoby/zl4E/OxPM9Pj3PopnNcHiDvk2cOwHhJBnJaQZvpbqdivvwJ8Dw9HcDZs3v3VBAnbzu9zUx1I5Azk4zlBAgQIECAAAECBAgQIECAAAECBAgQIECAAAECBAgQIECAAIF2gbkCOa31OXgzPFwGdCJ4Uw3mtOaLw3cL5eRl7a/ev7klEcjJAZxgzNNdAzg5jBPbRRCnmN89Pd60aVM65JBD2sI5uVqEcLKEMQECBAgQIECAAAECBAgQIECAAAECBAgQIECAAAECBAgQIECgnkArfJN3z63gFPPDEcQp5vN4qCOY0wrk5OBOMY6hGsSpTpcr+/i/RR/IyQGcMMzT1XFMd/5ECCd+7rnnnnTrt/8lrV+/Pt11191py5Ytrar41q3fTiccf1xr3gQBAgQIECBAgAABAgQIECBAgAABAgQIECBAgAABAgQIECBAgMD8C0RDKRPj42l8YiKN79pVhnIimHPf/21MjzvmyDJ0kwM5eRxnkQM4eVxdFtP9HJZcIKdszaZLCCdCObuLn8nJIowzOZFuvOnr6Wtfuzb99Kf/3dVfIKcri4UECBAgQIAAAQIECBAgQIAAAQIECBAgQIAAAQIECBAgQIAAgb4JRAMr27ZtKxta2bDxwXTM2iPScLSK0+WnWNjq3iqfUDWck5f1Y7yoAzm5JZyAy9OdreHk+Qjj7J6cLAI5k+mWW76ZLrv8inT//RtnNBfImZHGCgIECBAgQIAAAQIECBAgQIAAAQIECBAgQIAAAQIECBAgQIBAXwWil6Nf3785HX3kYWl4ZGTGUE4O4ORxnFR1ul8nuaQCOWX4ppDMIZw9RWoqpieLcYRxdo1PpDvuuCNddtnlM7aMkytCICdLGBMgQIAAAQIECBAgQIAAAQIECBAgQIAAAQIECBAgQIAAAQIEDqxANLhy9//cmx596KPSsrHRMpQzUnRjFWGboTyutJBTDeFUp/t11os2kBNBmzzk6VYQp1gX09GMUYwjkBN9jT1c9DN29VVfTB/7+CfyrjOOBXJmpLGCAAECBAgQIECAAAECBAgQIECAAAECBAgQIECAAAECBAgQINB3gTvvuic96qCVafmyZWl0bCzlQM5wNZAz3ZVVnEw1iFOd7seJLplAThnGKQRboZxoFSeCORHGmZgoW8d5eOeOdMlb3prWr//unNYCOXMS2YAAAQIECBAgQIAAAQIECBAgQIAAAQIECBAgQIAAAQIECBAg0DeBCOSsWjGalq9YWbaSMzo6WraOM9yAVnKWViBnumWcttZxiiaMpgI542nH9u3phae/KEU/Y3MNAjlzCVlPgAABAgQIECBAgAABAgQIECBAgAABAgQIECBAgAABAgQIEOifQARylo2mtHLVqiKQM5YikDMyMlK2hNOtlZxqqzjV6X6c4aIP5ET4JoZWyzjFfHRVlVvHiT7FJoqfnTsfTtu3b0snn3xKT84COT0x2YgAAQIECBAgQIAAAQIECBAgQIAAAQIECBAgQIAAAQIECBAg0BeBCOQMD02mVatWpxUrlqfRIoxTBnKKLquilZzOUE6cRA7i5HFfTixepwiqTCVW+vUKC3DcapHKIE6cQwRxip/ooiqWlaGcYnqy+BkfH58K5Gzbmp53yrqezlggpycmGxEgQIAAAQIECBAgQIAAAQIECBAgQIAAAQIECBAgQIAAAQIE+iIQgZy0e1datXpNGcgZK1rJGYkwzvRPhG6GpsM5RRInDRVnUQ3iVKfn+wSXRiAngjiVnwjmRCAnwjnRQs5UIGdn2rpte3r+8wVy5vsiczwCBAgQIECAAAECBAgQIECAAAECBAgQIECAAAECBAgQIECAwHwLRCBn9+SutGb1qiKQsyKVgZzosiqHciKE0+Unn4dATpbocbxPCzkdYZwI4rRayIlAzsRE2rFzZ9q2dWs69dQ/6elVtJDTE5ONCBAgQIAAAQIECBAgQIAAAQIECBAgQIAAAQIECBAgQIAAAQJ9EYhAzuTEzrR6zZq0MgI5o6Nll1WtFnKmW8fpDOXkkxHIyRI9jmcN5EQYJwI606Gc3ELOjh3RQs7WtG7daT29ikBOT0w2IkCAAAECBAgQIECAAAECBAgQIECAAAECBAgQIECAAAECBAj0RSACORPjNMQD8AAAAx5JREFUO4oWcopAzsq9LeREICd3VVVOd7SSk09GICdL9DjOgZzqOKZbQZzpLquilZxqIGebQE6PwjYjQIAAAQIECBAgQIAAAQIECBAgQIAAAQIECBAgQIAAAQIECCysQA7krO4SyClbyYkgTkcrOXHGOYiTx/0oxVARVNnTjwMv5DFzkarjmG4FcqpdVhXT47t2FV1WPZwEchay1rw2AQIECBAgQIAAAQIECBAgQIAAAQIECBAgQIAAAQIECBAgQKB3gbZAzorlaWzZsjQSAZzKj0BO756zbplDOLFRno5xGcgpwjd5HK3jtLWQs3NnEcjZpsuqWXWtJECAAAECBAgQILD4BHbv3pMmd08WrWdO3SOUQf7pe4hb7r8tfXPjbemE1ceWBS++S1F8dSKl045+VnrSox5f3NQVMwYCBAgQIECAAAECBAgQIECAAAECBAgQWBCBvYGc1WnlivYuq3IoJ1rBqXZbFSdabRmnOj2fhVh0LeTkEE4g5ekYt4I4MV1tIWdyMu0aHy9ayNmZtm/dmta94IU9+X7r1m+nE44/rqdtbUSAAAECBAgQIECAQLMEJot7gomJiTQ+MVkG9Wc6uxzImWl9BHXiZu30tc9OTzr48TNtZjkBAgQIECBAgAABAgQIECBAgAABAgQI9EGgDOTs2p5WrVlTBnKWjY2lkZGRVgs5uXUcgZx5wM8hnDhUni7DODmIk8fToZyJIpAzLpAzD/IOQYAAAQIECBAgQKD5AuMRwhmfSHEf0MswVyCneozfWH1cOm3ts9JvH3J8dbFpAgQIECBAgAABAgQIECBAgAABAgQIEOiTQGcgZ6wI5Ix2CeTkYE5uDSeP47Sq0/N5mou+hZw9oVWEcMpm5yOEUwnkxLdiJwVy5vN6ciwCBAgQIECAAAECjRSYKFrCeXh8V9kt1WwnGDdew8XPUNEVVfx384b16c6tvyh3KdraTHdum5qe7RjRak60mPNbgjmzMVlHgAABAgQIECBAgAABAgQIECBAgACBRyzQLZATLeSMDA9PdVMV4/KZ79S4SN8UT37bQzj9CuT8PwAAAP//kV+tKwAAQABJREFU7N0FYFV1/8fx77rH6O6QllQBA8FGQbEeRbExH+wOym59bMUOMDDwr4KAKAooLal0b4MxWG938f99zzzXc+/uCrY7tr1/z7Pd0/G6k+2e8znfX0CBaVKDmvN0dNg6OfOar8P5+dZrvnnV4Tz9yssTl8slmVlZkp6WJsOGDS+TxswfZ0nH9q3LtCwLIYAAAggggAACCCCAQNUI6GeCrOwcceXm+jyAgIAACQ4KkuDgIAkKDJRA81VaW3tgk+SZ7U7f9bP8nb612MWHNTpOzm01VHQfNAQQQAABBBBAAAEEEEAAAQQQQAABBBBAAIGKF1i/cau4cjIkKjpaIsLDJSQkRILMNV+93hvwzzXfQHON1hrWa7U6bA7Ded3WOVyRRxhgLlDXjkCOhnDMqWowRwM59heBnIr8cWJbCCCAAAIIIIAAAggcPgIawtEwjq+PPBrCCQkJlpDg4EM+4FX7NxYbzukY1UqGNxss3ePaH/J+2AACCCCAAAIIIIAAAggggAACCCCAAAIIIICAp0BxgRx9+NL9pSEc82U9kEkgxxOwPGPOi+067K6QQyCnPIwsiwACCCCAAAIIIIBAtRbIznFJdk5OkXPQIE5oaIhVFafIzEOcsNoEc74ppmrOmY2Pt6rlHOIuWB0BBBBAAAEEEEAAAQQQQAABBBBAAAEEEEDAIUAgx4FR2YMEcipbmO0jgAACCCCAAAIIIHB4C2hVnBzTLa2z6dMP4WGhFVIRx7ldX8PTts+W6fG/FJk1rPFxcl6rk4pMZwICCCCAAAIIIIAAAggggAACCCCAAAIIIIDAwQkQyDk4t4Nai0DOQbGxEgIIIIAAAggggAACNUIgMztbXK5cj3MJNt1SRZgwTmX1A+yxs39G1qZslq92/CR/p2/1mE0ox4ODEQQQQAABBBBAAAEEEEAAAQQQQAABBBBA4JAECOQcEl/5ViaQUz4vlkYAAQQQQAABBBBAoKYI+KqME2a6pwoLDT3oU8w3Xd/u25csexOTJDo6Sho2biBhYWHW9lymCk9ISEiJ2/5i2yz5NmGexzKEcjw4GEEAAQQQQAABBBBAAAEEEEAAAQQQQAABBA5agEDOQdOVf0UCOeU3Yw0EEEAAAQQQQAABBKq7QE6OS7JycjxOQ7uoCi0lMOOxgo8R/XyhgZzE3UkSFBRoAjn1Ja5uHXGZ/a1d87eEh4fKEV06+Vjz30lfmC6svvXqwurMxsfLua2G/rsQQwgggAACCCCAAAIIIIAAAggggAACCCCAAALlFiCQU26yg1+BQM7B27EmAggggAACCCCAAALVUSA3L08yMrM8Dr0iwji6Qf18kZqSJju27paMjAwJDBKpExcrBw6kSmR4lKRlpEq/o3p77NvXiK9Qzh0dR0u3uPa+FmcaAggggAACCCCAAAIIIIAAAggggAACCCCAQBkECOSUAamiFiGQU1GSbAcBBBBAAAEEEEAAgcNfoMAcYnpGpmjXUnYLNd1UhR9CN1X2dvQ115Uru3bGS1ZGjmRlZZn95ElUVLRkZ2dLZka65Ba4ZMCgY5yrFDv8uem+6v+8uq96u/8ECSh2DWYggAACCCCAAAIIIIAAAggggAACCCCAAAIIlCRAIKcknQqeRyCngkHZHAIIIIAAAggggAACh7FAVnaO5Lhc7iMMDg4ylWvC3eOHOrAvKVl270yU8LBwyTOhn0wT/gkJDpFg0xVWdlaGZOaky1HH9C/zbh5b87b8nb7VvfywxsfJea1Oco8zgAACCCCAAAIIIIAAAggggAACCCCAAAIIIFB2AQI5Zbc65CUJ5BwyIRtAAAEEEEAAAQQQQKBaCOTl5Ut6Zqb7WAMCAiQqMkICzWtFNP1ssWH9FgnIDxTdZG5untWFVYAUjgcEiuzZmyDHDDpKAgPNSBlavtnmVYvHeyz5Vp9xEhRUtvU9VmQEAQQQQAABBBBAAAEEEEAAAQQQQAABBBCo5QIEcvz4A0Agx4/Y7AoBBBBAAAEEEEAAgSoUyDBdSGlIxm7hYWESGhJsjx7yq362WLt6vdmmqbhjhpOTkyUpaa80bdLMdFsVJXkFuZKYEC+9+vWUmJiYMu/vi+2z5dv4X9zLn9HoWDm/9cnucQYQQAABBBBAAAEEEEAAAQQQQAABBBBAAAEEyiZAIKdsThWyFIGcCmFkIwgggAACCCCAAAIIHNYCeXl5pjpOlvsYg4KCJCri4LqqynXlmrDNfhPuyZV69etJWFiotV39bJEQv0f2JuwzoZww2bZ1q6xcuVyO6NJVGjZsYFXLyczMkH7H9LECOu6DKcPAo6brqvWOrqvu7Dhausa1L8OaLIIAAggggAACCCCAAAIIIIAAAggggAACCCBgCxDIsSX88Eogxw/I7AIBBBBAAAEEEEAAgSoWyMzKFpcJ0NgtMjxcgoOD7NEyv+rnh6S9SZIYn2S6pQqQ2LhoadykkdlWYaWd9PQM+XXufImJjpEws48cl0tc5itA8iXP7L9R04bStXvXMu/PXnDa9jkyPf5ne1SGNTpOzmt9knucAQQQQAABBBBAAAEEEEAAAQQQQAABBBBAAIHSBQjklG5UYUsQyKkwSjaEAAIIIIAAAggggMBhKaB/86eaoIzdDqU6Tn5+vuxJ3CvxuxIl24R8DqTsl569ekjdenFWKGfjhs2ydsVfIkH5ZjzQBHPqmO6pYkUr9KSlpcigwQPd4R37eMr6esWicR6Lvt1vvBUK8pjICAIIIIAAAggggAACCCCAAAIIIIAAAggggECxAgRyiqWp+BkEciretLpuMTU1Vd6a/LYk70uWgMBAmTD+oep6Khw3An4T+Gb6t7J40WL3/k499RQZNGige5wBBBBAAAEEDgcBrVKTlZ3jPpSIsDAJCSmsaOOeWI6BzMxMWbt6rWxav1VycvKlbv1Yad26pdRrUE/WrForKckp0qBxfUlMiJfMjHSJiS0M5dStV1d69OouGgg6mDZt+2xTJecX96pnNjlezm051D3OAAIIIIAAAggggAACtVlAQ/DTzbWqOT/NlfXrN0iE6aK2U8eOct55I6Vfv34HTbPIXPtatHixLFm8RHbtjpe+fXtLn9695YQTjpf69euXuF09pp/M8az4809ZumSZpKWnS/9+faWv+Tru2EESHR1d4vo6Mz4+QX6ZN08WLVokK1b8KZ07dzbn01dOOP448zmkdYnrp6WlyYcffiyLlyyRbdu2SePGjaWLWf/SSy+Rli1blLiur5nr1q2TSy69XLKysmTMNVfL2LE3+VqMaQjUSoEDBw78+9/70uUSHRUlRx99lPk3o48cc8zRB30toFZi1vKT/uuvv+T33/+Q3/9YJJs2bZZevY6Uo/r3k2PN742GDRsW0UlOTpbnX/ifFJiHyG688Qbzb32jIsswAQEEPAUI5Hh6VOoYgZxK5a02G//551/k9jvukqSkJPcxb9603j3MQO0TSElJkcXmQ7bd6sTVkb59+tijvP4j8OCD4+TDjz52ezzwwH1y1ZVXuMcZQAABBBBA4HAQyMjMklxzIdxusdFR9mC5XjXA7crJtarSJMQnyvatuyX1QJqY/qgkrm6MRMfESHJykoSFhkm4ufivXVVlZ2VKZFSk6b4qQjoe0V5iY2PKtU/vhbVKzmkNBlmTzzKBnEizHxoCCCCAAAIIIIAAArVdIDl5v4y+7HJZtWq1T4oLzj9PHn304XLdENfqmE89/Yy89tobPrepYZyPP3pfOnXq5HO+3iAde/Ot8uuvv/mcr8GaDz94t8RQj57Pfy4aJekmyOOrvfP2WzJ48Am+ZsnKlSvloosvLXbdxx97RC688AKf6/qaqOGikedeIH+acJG2tm3bypzZM30tyjQEap3A2rXr5MqrrjEBunif537OOWfLU08+Xq5/g3xuiIk1XmDatC+t+5W+TrS43zurV6+RM88aYa0yY8Z3VhjV1/pMQwCBfwUI5PxrUelDBHIqnfiw3oGGLh599HGZ+ulnRY6TQE4Rklo1wfkHjJ54kyZNZMH8ebXKoCwnSyCnLEosgwACCCBQlQL6976zu6qQ4GCJCA8r9yHpdjb8vUlyXXmSmqLBnDxJOZAqGRmZJuyTK42bNpBGjRrJ3j17JDQkVLKzs0wQJ8qqjpNlKuoUFORLeGSodOnWudz7dq6QabrJcuXmuifFmLBPQIBJBNEQQAABBBBAAAEEEKilArnm7+Nzz7vQHRTp17evDBl6ogQFBslHH39sKsNst2TGjLla7r3n7jIrjRs/Ud5//wNr+Y4dO8hpp50qDRo0sIIun38+zZoeZf7m//qradK+fTuP7WqY/5RTz3DfnNeqBgMHDpDQ0FBT6WaxzJhRGGTRUMv0b74U3Y53W7ZsuQnAnO/ez8knnyQ9uneX3bt3W5Xe7eUnT35Thpw42B61Xrdv3yGnn3GmO4xzujl2rdCRmLhHXn7lVfeyb77xmpx00lD3eEkD7733voyfMMm9CIEcNwUDtVxg+fIVcs7I89wK5547Unr26C4HDqTIrNlz3P82aSjn2Weeci/HAALeAlOmTJV773vAmtyqVUvr907z5s1ljQnc2Pcx9ffFV19+IR06tHev7ryfRSDHzcIAAiUKEMgpkadiZxLIqVjP6rQ1Ldc5+MST3FVxBg4YII2bNJYvv/zKOg0COdXp3az4Y3X+AaNbJ5Dj25hAjm8XpiKAAAIIHD4CWhlHK+TYLdx0VxVaSndVOTk5sjd+r1X9JiYuRho3aySBpkvTRQuXSF5uvuzatdOEYILFlZ1nLvIHSp64pF79OImJipYkUyHHZG+si/+xdepIo8ZNTLdVmZKWdkBS01Kkb/8+0qBhA/twyv2a48o13W9lu9fTCjnBB9kFlnsjDCCAAAIIIIAAAgggUI0FNBxz512FQZsLLzhfHjOVX+zQunY3q1VdtKslbT/N+VHatGljDZf0Ldv8zd25S3drEQ27vPTSi6YLrAj3Kr/9Nt903XSZNX7brbfIf/97o3ueDnz19Tdy6623W9MeM5V5/vOfCz3mv//BhzJu3ARr2ltvvi5Dhw7xmK8jI84+17qRrxURpk752CP0s3HjJjnp5FOtdfqbbkw+nfqJx/rqYYeGnnn6SRk58hz3/K1bt1rXxXWC3vCdPWumBJsHF0pqu3btkkHHelbiIZBTkhjzapOABig0SKFBiQ/ef1d69+7lPn0NDN5hemf4+pvp1rSlSxZJ3bpx7vkMIOAUGDDwOCvI2b17N1NB7T2pY64r2U1DmpeOvtwKWt5w/XVy552Fv2N0vvN+FoEcW4xXBEoWIJBTsk+FziWQU6Gc1Wpje8zTy0cdPdA65kcfmWSV53z55Vfl2eeet6YRyKlWb2eFHqx+4F61erXpX/rfD8r6x/SSxb9b+9EPqEHF3PjSqksJCYnmj+9Iadq0qfvDf1kOMCMjQ7Zv327+yIoz/YA2KHYf+ke8loi1W0hIiHWTUMe1n9rU1DRp0aK5Pdvjdf/+A7Jv3z7rw3ZpH7Q9VixmpLRAjpb21e46nE33qzc19Wan3XRcz8Nu+qRPoHmKqbi+TvX81cFu+n7Y56Pvnz75pBcUwsxNVxoCCCCAQO0WyM4x3UY5fudER0a4f2/6ktHfIxtXbZJtq3dIngnc5OXlS2zjaOk3tI/kuHKs6jgxptspnZ4Qn2B+n7mkVZuWJuQTIjnZORJkwj6bN2w1XVVlm78DAqVObJz53ZwiB1KSTTAnw1S3yZPjh/ju89vX8XhP09+taSbgY7cw84RtWOi/v0Pt6bwigAACCCCAAAIIIFBbBIYMPUU2b95sdaH048zvi1xTW7BgoVw86lKL49JLRsnEieNLpZm/YIGMGjXaWm7aF5953GC3V776mmtltql+oTdOp39T+JCnPe8q03XNnJ/m+pyny+h9iR49e1s3Vi+/fLSMe+hBe1XrVbubGj5ipDX8zdfTpEePHh7zdeTpp591V7uZ9eMMd2BHu8zRm7raRo26SB6eNNEadn578cWX5LnnX7AmvWzCRmeccbpzdpFh+1w1HDRs2BlW5SACOUWYmFALBfQad5++R1n/LV977TVyz913FVFwBuheffVlOe3UU4oswwQEtm7bJoMHF1Ys+8h0h6hFBLybXblNuzz8/rvCkJcuU1wgR+9X7dmz1wRRWxf53ei9bcYRqG0CBHL8+I4TyPEj9mG2Kw0u3HbbHdYHMC35pu1//3uZQM5h9j75+3D056JX734l7vb++++Vq6+60r2M/jvy6Wefy+TJb8v69Rvc03Xg+OOPM6Vw7xL9A8lX0/1pX9Tz5v3qLp9rL6cfhHU/zkS9zvMOwbz/3jtWuOX1N960St7qMvqBeKQpgXnTTTfoqOhTN1988aW7PKZOGz36UrnLpKh9lcTV+WVp3sfywAP3yVVXXmGtqi533X2P+2kce3t6EUPDSgMGHmtPss5Rn/R55tnnZObMWdZFFJ2p53HWWcPk5rH/9bh5+u23/yf/HXuLe/0Rw8+S++67V+6+516ZO/dn93R9uui8887lQ45bhAEEEECg9gk4u3jSp2S1i6fimv7u2r0tXn6a9pO4AlzSvG0zSd5xQPLSTXdTsWEy5MLBUqfuv08n+dqObmN/8gHZvTPRdGmVYoVwsrOyZF/yXhMMcklUhFk/qECO7N1NOnRsf1AXRLQLLt2PtoPtgsvXsTMNAQQQQAABBBBAAIHqJrBz50459rjB1mFrd1TaLZWvZgdKyloF+wfTpdT11xdWvZn/2y/WtSzv7U6YOEneffd9n5W19RphignmN2zQ0HpozHtdHT9r+NmyatVq0a6o3nj9VY9F7rnnPqt7Eu1+67PPpnjMs0e0+s+atWut0XbmGlrdunWtYWd1nuLCRNr17vEnnGhVj9fqPVrFp7j2/fc/yA03/teardV8lq9YYSoGvWJdt5szu7DrreLWZToCNV1AP5svX75C8k2p3HZt2/msfqO9NWgAT9v4cQ/KZZcVhv1qug3nVz6B33//Qx5+5FFrpSmffOTzvs0nn0yR++4vDHBuWL/OfU3JO5Dzxx+LZOrUT63fMfZRaLW3SZMmSLNmzexJvCJQqwUI5Pjx7bcvZOsuddi6rG1e9clTHc//Z1jH9UurMmi1h0xzUT3d/BIdNmx4mY525o+zpGP71mValoWqToBATtXZHy571uoxffsdXeLheAdytKqS/uyU1HxdEFiydKlce+0N7m7Tilvf+ykV7xCMpu4ff+JJn6trSdr8/AJ32V7vhQYPPkHeefst78llHvc+Fmcg57XX3pAnnvTsE1f7yNW+cuNNRQHvQE73bt3kgw8/8rlv7yeFvAM5+sfkmrXr3P1ye29EL2roxQ0aAggggEDtE0g3F6m1mo027V4qylTIKa5phZulvy2TFQtWyKDTB0r3Pt1lT+Ie+fHTWZKRlCmN2zSWE0YcJ7FxscVtwpquVdwS4vdI0h5TmW7vHvOkXIqplhMg7Tu3l4y0LNmxdZeEh4dK/Yb1pE271lK3Xl1rfokbdcxMNxfP88xnE21BQeacHKXzHYsxiAACCCCAAAIIIIBAjReYPv1bGXvzrdZ5/jx3TrHhl/ff/0C0soC24gI21sx/vjkf2nvxhefMA2NnOmdb9wpOOvk066EyfThNr4mVpzmvQV533Ri5+647PVa3uy153HS/deGFF1j3KhISEmSHCSB1aN9B4uKKf1DggQcfko8++sQKCum52t13eezAjFxnAkczTPBIq0yrna+mDkNPOtW6fqkPD+p1Sn2gjkCOLy2mIeBbQCtpaShQ2+TJb4pey6YhcDACdoWcjh07yMwZ37s34Qzk6O+kyW+/457nHNB/7z+dOqXYngmcyzKMQE0XIJDjx3eYQI4fsavBrgjkVIM3qZIP0flhuLhdOVPs+ofNww8XppaLW96e7nwiRcN9J59yursSjL1Mca8L5s+zPkTrfO8QTHHrlHX6hx++J4MGDizr4h7LeR+LHcjRD/P6od7Zbr75v3LLzWOtSd6BHOdyxQ1rJaDjjiusquMdyCluHef04sr7OpdhGAEEEECg5gk4q8kEBwdJZHh4sSeZZrp9/PHLH2X/3mQZPPxEaduhrbXsxr82yswpMyUgP1DaHdlWjj/9eAmPKH47ulJaWroJ3uw0oZwk05VVlnUBvUGThtLjyO5WF5NbN22TtNR0iYyOlPZmP9oNVnEXyr0POMM8HJBrur7SpuuUVPXHe13GEUAAAQQQQAABBBCoSQLOB8Kc1QK8z3HWrNlyzZjrrMmffz5V+vbp471IkfFRo0aLdl2l1aUnv/WGHH30UdYyWpnm/gceki+/LOymqriuRYps8J8J2lX7lVeNkXXr1llTnN1N6QR9MLh9hyOsebrt1JRUefSxxz2qa/fs2VOGDz9Trrzi8iKfIy67/Er55Zd5VuXu995929qOr2+PPPKYvDW5cP7GDX95VKe2l7ev/anB7FkzrZu4BHJsHV4RKF1AK5VcabqwS09Pt67v//LzHAkxXV7TECivwK5du2TQsSdYq2nvBxPGP+TehDOQoxO1utptt91iujvsLsnJ++Xll1+xqq7pPK3QpPe4aAjUdgECOX78CSCQ40fsarArAjnV4E2q5EPUD7zap+bq1avlqqvHeOxt4YLfrPF65il2/aPZ+48cnTlhwjjR7pM0cPPue+97VM7R1PKMH76zPiQ7y97qelou952335ROnTrJhg0bZOS5F1h/pOs8bc4qOfYH4cI5hd91n6edfprMNX1TT/30M+csa1irw5x55jD5448/rCdknAtohR3t3/ZgmvexaCDn6KOOskruOrenx/fcc8+4LxAUF8i59ZabTbnbNjLddEn1o6ks5mw6b+zYm6xJvgI5emHg/vvusboH0y7A7H6w7W2cffYIee7Zp+1RXhFAAAEEaolAignG2C00JFjCw8Ls0SKvKftT5Jsp34gr0yVDzh4qrdu2spbRvw9mTJspG5ZukPCoMOl/0lHSo193d2ngIhsyE/Ri27rVf1mBnKDAIOvittbj7NS1ozRv0Vyys7NliwnlaGBHK+W0bd9Gwko4Nuc+ssy6Oa5c96TY6Cj3MAMIIIAAAggggAACCNQmAa3OrKGc+vXry+JFC4s9ded1vLJWqNi6dav856JL3BWZdR/Nmzf36BL+xhuulzvuuK3Y/doztML2pk2bZc2ate4H9PRa1vhxD5nu1kfai1mvSUlJ0q//MdbwBeefJ59+9rnHfOeIdnev1bydze4KS6tUa7Xq4pqzatCK5UskNtazEujiJUvk/PP/Y63+yMOT5OKLC4cJ5BQnynQERLQ7uIfGjTcP6aTJ4sVL3NXxtTLJ/158XjRMR0OgvAJ6v0mDXRq21Kb3qho3buTejPN3XPfu3eSTjz+U6Oho93y9F37xqEtl4cLfrZ/Br7/6wj2PAQRqqwCBHD++8wRy/IhdDXZFIKcavEl+OkTnHzC6S1/9S2s3Ua+//qb7iJwVYOyJdv/U9rhd6UYr8Wzbtl32JSfLgf37pWvXLnLEEYVPvuiyN940Vr777t+SgzfddIPcflth+V3vEEzv3r3ks0+nuG8Kjjj7XI8LA95lZ73njxp1kTw8qbBkr32cZX31PpYrr7xcvv56uvuDhm5H09hahcd5k9FXIMcuwWvv+yrzB+YcEzCym7N7LV+BnDffeE1OOmmovbg89dQz8sqrr7nHvR3cMxhAAAEEEKjRAp6BnBATyAkt9nwz0jNk7vdzZcfGHTJkxBDp0LmDe9n4nfEy7Y1pkp+bLw1bNpLjhh0rzVr67ndbwza7du6WPQl7JSszS/JMeCbZVN0pyC6QvJA86Tugj7Rt19ZUyEmTzRu3SKZZplWbltKkaWOfT6W6D+KfgSzTtVaO6UbXbgRybAleEUAAAQQQQAABBGqbgN09k3f3Hd4OzpCLry6ovJfX8ZycHJk27Uu5974HfM2WgQMGyKOPTpLWrVv7nO+ceMqpp8v69Ruck+T222+VSy8ZJXXqeHY/pZVzTj/jLI9lx4y5Wi44/3zRBwW14sYrr77uvv6n27npxhvcy58weIh13fGqK0vuSstZ4dq7Gy8999NOP9MKD+m1vSlTPnJfeySQ46ZmAIEiAsVV4NcHbk899RT3f0dFVmQCAiUITJg4Sd59931rCWcPDvYqzvtZDz5wv+h9Gu82ZcpU9++zv/9aQ6UmbyDGa50AgRw/vuUEcvyIXQ12RSCnGrxJfjpE5x8wuktfgZwLLrxIFi1a7D6i/v37uUvX2hMXLvhd9GkSu/kqYat9MW/YuFE2b9oiWnZwxYoVHkEUXVcr2GglG23eIRjvINDLr7wqTz/9rLWsfvPuh9pZylfnX3jB+fL442XrdkuXdzbvY3HOs4eXLP7dXCyoZ49ar74COfoUkz5pZDe94HH7HYXnrNM6d+4s33833ZrtHcjx9RRUQkKiHDNgkL0563Xln8s8kuEeMxlBAAEEEKiRAuUJ5LhMyGXZgmUy/8ff5IRhg6XX0b3c1d3y8/Lli3e/kISNCRIUGiTterSXo4ccJXF14zzcNIyzfesOkYIA001VgKmEkyMJu3bKtlXbJEKixGX+F9IwWAYNGSAtWraQLZu3yt7EfRISHGwCPk2lUeOGHtvzNUIgx5cK0xBAAAEEEEAAAQRqo8Ckhx+Rt99+t9QKOdpN1MBBx1tEr736snVjvCQvrZI55trrZfbsOdZieu3p2EEDpVGjRrLcXLtzXhP87LMp1gNpJW1Pj3Gn+VywYcNGWbJkqbsytl5z1G7aNVBkt99//8NU5hllj4r3Q2w6Y//+A3LBhf+xQj56bIv+WOD+7GKHf0qrkDN9+rcy9ubCBwC9r8u99NIrosEbbTNmfCedOna0hvUbgRw3BQMIFBHQLu2ef+FF0Qd+Vq9ZI8uWLXcvc+yxg+SVl/8nMTEx7mkMIFCawOS335GHHy68f6MV1Z584nH3v/f2us77WVM++ajIfSpdbu7cn+WKK6+2VtHfGQ0aNLBX5xWBWilAIMePbzuBHD9iV4NdEcipBm+Snw7R+QeM7tJXIGfAwOPcJWvLeliTJk2QS0ZdbC2+cuVK+Z/5cOvdNZOvbZUUyNFuovSJF7tp38/aB7Td7rrrDrn+umvtUXn/gw9l3LgJ7vHKDORo6d0/Vywt8rS/r0DO5k3r3cekA4sXL5bzL7jIPa2kQI4+kaRhJ2fTf9/bte/knCRl7SPcYyVGEEAAAQSqtYBnIKfkLqv0d8eW9Vvk20++lc49O8uxpx4rEZER7vNfvXy1zPp0lgQFBElQcJB06N1Bjj7xaImtU1jaXdffuGGTBEqw9dRbXl6B6IX8deYiXMLq3RIdWse6aJITlC2tjmwuHU33VUkmjJO874CEh4eLy5Uj7Tq1sf7ucO/UxwBdVvlAYRICCCCAAAIIIIBArRR48cWX3N2Wr12z0vq72hfEqlWr3V2sa1cexxxztK/F3NOcN0C126iHH57oUU1gxYo/ZdQlo61gjQZiZs+aUaTSjXtjPgac1+e0e5GvvvzCXTlDrxkOH1HYjZVWp/n000+K3HzVTc6Z85NcdfUYa+uzZ82UdqYKpzb7IUJdV8NCxbV33nlPJk562JrtrJawadNmGXrSKdZ07wcBdSKBHIuGbwiUSUAf2tFKXp9/Ps1a3lc3c2XaEAvVSoGvvv5Gbr31duvc9R7Iu+9O9vhdZKM472d5hyjtZX77bb5ccull1iiBHFuF19osQCDHj+++XjS3mw5bY+ZVL5zreP4/wzquX9pPnz45m5mVJemmD8hhw4bbq5f4OvPHWdKxfemlK0vcCDMrXYBATqUTV5sdOP+A0YOuqEDOvffcLVpi1vnBuiwo1TWQo+c2ceJ4q/yu8zwJ5Dg1GEYAAQQQqEyBVPNUmv03f7AJ0USa4EtJbd/efTL769mSuDtRTr/gdBOQaedePDM9Uz6b/JmkJKRKQb5+VsiXpu2byHFnHCdNmjWRvWbd/UkpEhFhwjXZLsk13VsFBAbIGnNBPX7dbgkPjJSQoDApCMqVyBYR0r5re3MBP8PqYz4qKlIyUjOsoE/v/keW+MRchvkskpubZx1XQECAxJh1aQgggAACCCCAAAII1EaBDz/62Komrec+96dZxXYf5awM8MP333p0He/L7azhZ4uGeHr27GnCMp/7DMQ4b26+8fqrcvLJJ/naVLHTnFWsv5z2ufTqdaS17JYtW+TEISdbw7fecrOMHXuTz20kJ++XPn37W/OeeOIx06XVedbwjTeNle+++77UqkFPPPmU6DHoA3WrVhZW8dB7IBo0Wrjwd+t66KwffygScnr6mWet9bR7+Dmzf7T2GRQU5PMYmYgAAoUCl11+pfzyyzxrZMP6de4AHj4IFCfg/L2lVdQ++3RKscFP5/0sAjnFiTIdAU8BAjmeHpU6Zl+c150QyKlU6mqxcQI51eJt8stBOv+A0R36CuSMPPd8j5KT2v/0wIEDSjy+yMhIc5Muwip566yM07ZtW7n++mvlyJ49rAsH+hTOU089495WdQ7k6Ek4n9LR8YoO5Pjqsio+Pl60ipGz0WWVU4NhBBBAoHYIpJty0XmmuyltQYGBEuWoeONLIM8EXZYuWCrzvpsn7bq0l+NOO1bqNaxnXYDPzc2V5QtXyPzv5kuA9T+zBROIKQgskKh6UdK4bTPp3KWLmagB/3+D/xvW/i1bV22SfLPtUBPIyQ/Mk7qt65tATgdTHWe/7EtKlrr16kieufideiBVevTuZm4QeFZ5cx5reoY5J7OstqAgc07mbwsaAggggAACCCCAAAK1UWD58hVyzsjCIMrkyW/KkBMH+2SYMHGSqSxQWF15/d9rJdh0GVtc0y5nunbrac2+7dZb5L//vdHnovrgbqcjulrztDq1VqkuT1u3bp2cfsZZ1irPPfeMnD2i8OFf53ad1wS9t+3srv3ZZ54S7aJK25tvviWPPvaENbx82eJib+AOGXqKbN682TJTO22bNv1bHceaUMZvJdmXcRMshkCNFnBWxfp13lxp3rx5jT5fTu7QBLSrM73/pE3vTWkVtcaNGxW7Uef9LAI5xTIxAwEPAQI5HhyVO0Igp3J9q9vWCeRUt3es8o7X+QeM7sVX4OOhh8bLBx9+5D6IG2+4Xu644zb3uA4sWbpUNm7cJLGxseZJ92jpfMQR1ra69+jl7ital/Pup9l+kkXnaXN++H7wwXGiT//Y7XDrsmrB/Hly0smneZyfPk007YtP3cn/ig7kqMUrr7wkp592qs0i9lM+9gR9aufnuYX9ftvTeEUAAQQQqPkCmVnZ4jJBGm1lrSaza/su+Wn6XEnelSydeh0hvQYeKQ2a1Le6YEzcvUd+mPq9HIg/YFW/Mbkcq2VmZ8lxwwdL/YYNTNDfRHJMICfQVMfR+auXrpTd67dLniuvsBvHoACp36ah6RbrCIkzQZyIiEj5a916STBh0vDwSOl3VC9p0rRJ4YZ9fHdW/QkxNxIiwsN8LMUkBBBAAAEEEEAAAQRqvoAzvKLXn76c9lmRrtM1WN+rdz/rWtXgwSfIO2+/VSJMTk6OHNG5m7XMNVdfJffdd4/P5VNSUuTIXn2tec5KNtu37zDdgoy2pt9x+21y1lln+lx/wYKFcvGoS615r7z8Pzn99NPcy1108SVWlRpnF+7umf8MaBUcvYaobe7c2dK6VStr2Hkj97rrxsjdd91pTXd+W7t2nZwxrDAMZFf01vl6HfOkk/+9vuZcp6Rh7+tyJS3LPARqkoD+d6jXobW9/947xVbpcnav9/vC+dKoUcOaxMC5VKDA+vUbrKBpenq6dS/pC3Nfxf73vbjdOO9nEcgpTonpCHgKEMjx9KjUMQI5lcpb7TZOIKfavWWVdsD6wfn4E0702P5zzz5t/UHdufMRVpWbRYsWW30yOxd69JFJMnz4WVapV/1Qfc2Y6zyCKTN++D/p1KmT9Ot/jCQlJblX/fijD2TAgGOs8Zkzf5Rrr7vBPU8Hqksg5/777xXtB/fLL7+S2273/LCvYSUNLWmrjECOltfVCwhdu3aRefN+dfcfbu3QfBth3pfnn3/WHuUVAQQQQKCWCGTnuCTbXFC3W7SpkBNoKuWU1PSi/h8//yFrFqyTsKBwadSqkbTr0VZadWphrbv89+WyaPYiKXAVVsHR75muTBk2aoSEhoVItgnnaJdVGgBy5bpk9aKVkrYnxa6pI/lBBVLXbLNDl3bmydsjJLZOrKSkpEqgWT44JFjCwsKsdX0do5aQTzMVcuwWFhoqYaEh9iivCCCAAAIIIIAAAgjUOoFx4yfK++9/YJ23s9KMDfHkk0/Lq6+9bo16B1/y8vJk+YoV0qJ5C4/qAzfccJN8/8MMqzLB119N83nz3FmJ5puvp0mPHj2sfejf7IOOPcFc/4qX7t27yadTP7GuJdrHo6/6meO/Y2+RGTNmWpN/mvOjtGnTxhrWbz///ItcfsVV1rgzMGMvoNs+Z+T51j68HyTUczr9jDNFb+pq8+7KK8t0gXvFlVdbgR+dP/+3X6Rp06Y6aKqL5snKlaus4eK+PfLIY7J4yRJrtna1pa1169ZSt26cNcw3BGqTwNatW2XwiYXd1V16ySiZMGFckc/ziYl75PwLLpRt27ZbAYtFfywoskxtMuNcixfYtWuXDB8x0rp3pPc79CFnvZ9UWiOQU5oQ8xEoKkAgp6hJpU0hkFNptNVywwRyquXbVmkH7R2asXf04QfvyaBBA63RRx99XN58a7I9q8TXM844XV5+6UVrGQ2raGjF2fQDenp6hlUq1jldh6tLIMdZrWfMtdeLs1suPY9vp38t3bp1rZRAjm6/pGbvu6RlmIcAAgggUPMEcs0F5YzMLPeJhZuwS6gJvZTWEnYnyoIfFkhmYraEBIdJYFiAtOzcTDr17WhdpJ7/4wLZumaLFOQVhnJcAXlyxkVnmQvr2bJ//z5xmSCQftZINt1RJWyKl/zsPCuQk1+QLwGRwdKgZRNp27Gl9O3fu8Ry+d7HmePKlazsbPfkyIhwCQ4Kco8zgAACCCCAAAIIIIBAbRPQG5gagNGmNzDHjXtQTjj+eElMTJSvv/5G3pr8tjWvY8cO8v1337orOOtE5/UrZ5frX5n1br31dms9Dbw89NAD0tV0T6uhk02mW6dvvpnurmCt3Yn89uvPHsH/p59+Vl5+5VVrfe2q/r5775YuXTpby6xd95e8+spr7lCLVtB58YXnrGWd3y67/Er55Zd51iR9AO7U006RRg0byeLFi+Wll191X0N8eNJEGTXqIueqVphIQ0XadP+TJo63usX9e/1606XVZFNR52dr3mWXjZbxxqs87Zlnn5OXXnrF2u6c2YWBovKsz7II1DSBEWefK3/++ad1WkOHDhGtrNW+fTs5cCDFBNxWysMmxGY/nKsP9F500X9qGgHnUwECycnJcu55F7r/bb/n7rukb78+xW65fbt25ndSXWs+gZximZiBQLECBHKKpan4GQRyKt60Om+RQE51fvcq/tiff+FFeeGF/xXZ8J133i43XH+dNV3/DRk3boJH11VFVjATtGSuhnFatCjsG3bhwt9FS88W1/QCgf0Uiy5THQM5mvwfMvRkjwpBel7ffP2luVF5QAYMPNbj9DdvWu8xrhcXzr/g34sJzhK93377f9ZTRPYKvXv3sp4wsD/Y2NPt19dfe0VOOeVke5RXBBBAAIFaJKC/q7WLJ7uVtYsnfap1/er1subXvyQ33YRpAgIlwOReGrdvKN0HdZUMs835M+ZL/OZ4q4uqXBPIOWHEYMk0JYVzcrKtaelpabJjwzbJTsmWQAmSvPw8yTfBnkYtmkmd+rHSp39PadGyfP3GO7vg0nOKiYrkyTr7zeUVAQQQQAABBBBAoNYKzPlprlx11TXFnr+GaqZ98Zlol+Z202owHTp2tkflkYcnycUX/3ujXKvuaPWdkpper5r81uvSrFkzj8UyMzNNpYxJMvXTzzyme49ceMH5MmnSBAkJKVr1csuWLaKhHK2qUVzT7qi0WypfzVkZyNf8Y4452uq+Kzw83NfsYqcRyCmWhhm1VGD37t1y3fU3uUM5xTF4/xtT3HJMr50Cb7zxljz2+BNlPnlnV4EEcsrMxoIIuAUI5LgpKn+AQE7lG1enPRDIqU7vln+O9YMPP7JCOc6gxwXnnydPPPGY+wD0ht3kt9+RD82y3h+Q9QmUkSPPluuuHVPk6XdNzd9x590ewRvdqD4x075DB4+LCNrVk3b5pG3Sw4/I22+/aw3rN2dVGh3Xp360dKzd7G6k7PFPPpki993/75Mvl4y62OoLe+myZfYiZXo9qn9/efyJJ0s8lunTv5WxN9/qsT3tU1uf2tEKRM52KIEcffJAn/S559773U8O6bb1Isvtpq/u4cX01e3cP8MIIIAAAjVXQCvkaKUcu8VGR9mDJb7mmmo0yxeskK3Ldpja7WJVvAkMDpRWPVvIkYN6SNKeJPl15q+ye8NuyclzyZEn9DJPvAZIXm6uJMYnSuL2BBPmMV1Xmf+5zPygmHBp3rqVhIaHSsfObaTHkd09ns4t8WD+mZmSlu5eTCvjaIUcGgIIIIAAAggggAACCIgsW7bcupmp3cw723nnjRS9HuUdmtFlXnzxJavbcw3sfP3VF9K8uWdg/rf58+W99z6QpUuXuStc6Hpa6XrAMcfILbeMlcjISJ3ks02b9qVMmfqpeB/TwAEDRKtpe1e28d6IBnueeeY5axvpJvxvN63KM/a/N5ZYaUPvfWiFoCdMl13axZWz3X7brXLllVeYY49wTi7TMIGcMjGxUC0TyDFdZb/08ivykwkHrlq12n32WrXr2GMHyejRl4j+d09DoDiB119/07rfUtx87+mvvvqynHbqKdZkZyDHWe3Nuc5vv82XSy69zJq0bOliiYur45zNMAK1ToBAjh/fcgI5fsRmVwhUY4F9+/bJ3qQkaWA+nNerV8/nmWgwZ8+evbJ3717zVEuwtGzZskj/0L5WzMjIMEGebdayLVq0KPeNOV/bLO80Z1+3ZV3Xu2/rsq5XEct5V8jRQM5bb75ubVovVKhnXFxdadiwgUe54IrYN9tAAAEEEKh+Ajkul+nmKcd94BGm2yr9XV2WlmvCNb/NXCh71iZZlWgKpEBiG0VLr5N6SqMmDUXnr/lzrSz8ZYG069Reckx3Un+v/lvS9qRIaGiIRMVGSesj2kqGK0fCQsMlKytHOnRpI3369ip3ZRuXCQhlOrqrCg8LNd1vFX2StiznxTIIIIAAAggggAACCNRUgdTUVNltAiiBpsply5YtJMz8/V9S00rOMTHRpV6Ti49PkJSUA+YBsFZS3qoyWo1nx44dpvvbfGltQvpB5ex2Vu9jaNdc+tBgo0aNrK/AwMCSTstj3p49e8w1yyRznjHStGmTcu/fY2OMIIBAiQLZ5nP79u07zPV+81COV8ivxBWZiQACCCDgNwECOX6jLnzK1d6d/lFboCPmVW+s63j+P8M6rl/6h7PLXNDPzMoSLUE/bNhwe/USX2f+OEs6tm9d4jLMRAABBKpKoCYFcqrKkP0igAACCBy+Avp3vbPbKr34HVWOyjJ5uXny248mlLPehHLMacY2ipEjT+whDRs3sE46JSVV/jIhHO2uKj+gQBo3bmQFZaJjoyWuXl0TzAmVJYuXSYFLZFfCThlxzlkHhZVuKv3o5xG70V2VLcErAggggAACCCCAAAIIIIAAAggggAACCCBQNgECOWVzqpCl9OK83Qjk2BK8IoBAbRPQp2SGjxhZrtOeOuVjj363y7XyIS5cUoWcQ9w0qyOAAAII1FCBzKxscZlqNnaLDA833UkG2aOlvmo4f+O6TZIcnyx1G9eVdp3bWk+VaoWc9X9tNE/fhkpWZrrpkqqpNGhQ32N7+jlj+ZIVIvmB4irIlqOO7u8xvywjuSYUlGEeCrBbSHCwRISX/KSvvSyvCCCAAAIIIIAAAggggAACCCCAAAIIIIAAAoUCBHL8+JNAIMeP2OwKAQQQqCABAjkVBMlmEEAAgVokoJVltMKM3cpbJcdez/s1MWGPJO3ZLwX5IiFhgdKhU7siXVFpafilf6yQmOhoCQ4NlP7H9PPeTKnj3tVxtMJPecvcl7oTFkAAAQQQQAABBBBAAAEEEEAAAQQQQAABBGq4AIEcP77BBHL8iM2uEEAAgQoS+O677+XGm8a6tzZ06BB5683X3eMMIIAAAggg4EtAK8xopRm7hYeFma6lgu3Rcr+mpqbJ9q07rMo3mVkZ0qVbJ4mMivTYjnZ3u2TRUtm6aadER0VLaHiI9OprurtqVNjdlcfCxYzkuHIly/RBbzet7KMVfmgIIIAAAggggAACCCCAAAIIIIAAAggggAAC5RMgkFM+r0NamkDOIfGxMgIIIFAlAlnmhmpCYqJ73xHhEdKoUUP3OAMIIIAAAgj4EsjLyzdVcjLdswICAiQqMsJ0NxXgnlaega1btsv+fSmSmpoqcfVipHuPbkVWT0xIlG1bdpqv7ZKRkSURYRFSp16sdO7eQZo3b1akmo73BvJNd1fpGZni/NwSFRFhquMEei/KOAIIIIAAAggggAACCCCAAAIIIIAAAggggEApAgRySgGqyNnOC9s6XKAbN6/5+fnWRW+9AK7D9peWutenXDPNzeD0tDQZNmx4mQ5n5o+zpGP71mValoUQQAABBBBAAAEEEECgcgSysnMkx/w9b7eDrTaTk5NjquPsksz0LNm9e6c0bFJfevXuZW/W/ZqcnCyr/1wru3btFld2rgQFhElgcICEhAZJRGSYREZGSkxstLRq3ULq1a9XJKDjXdUnNCREwsNC3dtnAAEEEEAAAQQQQAABBBBAAAEEEEAAAQQQQKDsAgRyym51yEsSyDlkQjaAAAIIIIAAAggggEC1EdAAvlac0cC93UJDTcgltOwhF11327btcmBfqgnHREpiwi5J2pckJww5XurWq2tv1v2q4R2RAMnLy5WfZs+TA0lpEmK6nYqKjpKw8DDJy3dJj15dpUnTJu51dCDLrJeT8294KDAw0Kroc3D1fDw2zQgCCCCAAAIIIIAAAggggAACCCCAAAIIIFArBQjk+PFtJ5DjR2x2hQACCCCAAAIIIIDAYSCQa6peZmRmeRyJVp3R6jOlNf38cGD/Adm1PV6Cg0MlwIRk9iQmyM6d26XvUX2kXft2JW4iNzdPVq9cKzu375LAwACJjI6Unkd2k7i6cR7raRUfrebjbJER4RIcFOScxDACCCCAAAIIIIAAAggggAACCCCAAAIIIIBAOQQI5JQD61AXJZBzqIKsjwACCCCAAAIIIIBA9RPQyjNagcbZyhLKyc7Klh3bdkquK180XKOd3mrFnJDgEElLTzGhnN4maBPo3KzPYftzSEBA0Xo3vsI4WsFHK/nQEEAAAQQQQAABBBBAAAEEEEAAAQQQQAABBA5egEDOwduVe037QriuqMNawt4MWBfVdTz/n2G9yK5feeZpWpd5WjUzK0vS09Jk2LDhukapbeaPs6Rj+9alLscCCCCAAAIIIIAAAggg4B8BrUCj4RdnCzOhl7ASuq9KT0uXv9ZuKKxUE1AgIWEhJpiTK3k5uRIeFSFHdO4kvkI2zn2UNJxtQkLZjm6qdFmt3KNhIRoCCCCAAAIIIIAAAggggAACCCCAAAIIIIDAoQkQyDk0v3KtTSCnXFwsjAACCCCAAAIIIIBAjRLIzM42gftcj3MKDg6WCBOA8RWsMXl9yczIkMzMTImIiJCIyAgruK/jkZGRZaqO47Gzf0b0c0mmCQhpuMfZQkL0WMKckxhGAAEEEEAAAQQQQAABBBBAAAEEEEAAAQQQOEgBAjkHCXcwqxHIORg11kEAAQQQQAABBBBAoOYI+KqUo2EcrUoTYsI5ld1cJoSjx+D8bKL7pDJOZcuzfQQQQAABBBBAAAEEEEAAAQQQQAABBBCobQIEcvz4jjsveuswXVb5EZ9dIYAAAggggAACCCBwmAhoN1HaXZR3Cw4KklDTjZW+VnTLNd3h5pj96qt3026ztPssGgIIIIAAAggggAACCCCAAAIIIIAAAggggEDFCRDIqTjLUrdEIKdUIhZAAAEEEEAAAQQQQKBWCBRXqUZPXgM52n1URVTM0f1oN1m+gjj+rMxTK95UThIBBBBAAAEEEEAAAQQQQAABBBBAAAEEEHAIEMhxYFT2IIGcyhZm+wgggAACCCCAAAIIVB8B/Xyg3UdpaMZX08CMhnOCg4MkKDBQAs1XaS0/P1/yzFdubp4VwnF+BnGuq2Ef7SZL90FDAAEEEEAAAQQQQAABBBBAAAEEEEAAAQQQqHgBAjkVb1rsFp0Xw3WYLquKpWIGAggggAACCCCAAAK1RkDDM9muHMnLyy/xnDU8E2i+AgLNl/mf/l8/VOgni4L8AsnXzxjmq6QWFBQoYSGhVsinpOWYhwACCCCAAAIIIIAAAggggAACCCCAAAIIIHBoAgRyDs2vXGs7L44TyCkXHQsjgAACCCCAAAIIIFDjBUrqXupQT74iu8E61GNhfQQQQAABBBBAAAEEEEAAAQQQQAABBBBAoDYIEMjx47tMIMeP2OwKAQQQQAABBBBAAIFqKlDY5VSu6coqT7QLqoNt2sVViOnuKth0T6VdXtEQQAABBBBAAAEEEEAAAQQQQAABBBBAAAEE/CdAIMd/1h7l46mQ40d4doUAAggggAACCCCAQDUVyDddUeXl51ndWWk4x+6Wyhn2166s7O6sNISj3VIFBQZJoOnaioYAAggggAACCCCAAAIIIIAAAggggAACCCBQNQIEcvzo7rxoTiDHj/DsCgEEEEAAAQQQQAABBBBAAAEEEEAAAQQQQAABBBBAAAEEEEAAAQQQ8KMAgRw/YhPI8SM2u0IAAQQQQAABBBBAAAEEEEAAAQQQQAABBBBAAAEEEEAAAQQQQAABBKpIgECOH+EJ5PgRm10hgAACCCCAAAIIIIAAAggggAACCCCAAAIIIIAAAggggAACCCCAAAJVJEAgx4/wBHL8iM2uEEAAAQQQQAABBBBAAAEEEEAAAQQQQAABBBBAAAEEEEAAAQQQQACBKhIgkONHeAI5fsRmVwgggAACCCCAAAIIIIAAAggggAACCCCAAAIIIIAAAggggAACCCCAQBUJEMjxIzyBHD9isysEEEAAAQQQQAABBBBAAAEEEEAAAQQQQAABBBBAAAEEEEAAAQQQQKCKBAjk+BGeQI4fsdkVAggggAACCCCAAAIIIIAAAggggAACCCCAAAIIIIAAAggggAACCCBQRQIEcvwITyDHj9jsCgEEEEAAAQQQQAABBBBAAAEEEEAAAQQQQAABBBBAAAEEEEAAAQQQqCIBAjl+hCeQ40dsdoUAAggggAACCCCAAAIIIIAAAggggAACCCCAAAIIIIAAAggggAACCFSRAIEcP8ITyPEjNrtCAAEEEEAAAQQQQAABBBBAAAEEEEAAAQQQQAABBBBAAAEEEEAAAQSqSIBAjh/hCeT4EZtdIYAAAggggAACCCCAAAIIIIAAAggggAACCCCAAAIIIIAAAggggAACVSRAIMeP8ARy/IjNrhBAAAEEEEAAAQQQQAABBBBAAAEEEEAAAQQQQAABBBBAAAEEEEAAgSoSIJDjR3gCOX7EZlcIIIAAAggggAACCCCAAAIIIIAAAggggAACCCCAAAIIIIAAAggggEAVCRDI8SM8gRw/YrMrBBBAAAEEEEAAAQQQQAABBBBAAAEEEEAAAQQQQAABBBBAAAEEEECgigQI5PgR3l+BnM2b1vvxrERS0tL9uj92hgACCCCAAAIIIIAAAggggAACCCCAAAIIIIAAAggggAACCCCAAAIIlFcgNjqqvKsc0vJr1q6VqOhoiQgPl5CQEAkKCpLAwMB/vwl9sdsAAEAASURBVAICJMB86TQzIAFmbzpuN+ewPa0iXgNMgKWgIjZ0uGzDeTo6bJ2cec3Pzxcdz/9nWMf1Ky8vT1wul2RmZUl6WpoMGza8TKdCIKdMTCyEAAIIIIAAAggggAACCCCAAAIIIIAAAggggAACCCCAAAIIIIAAArVIgEBO4ZtNIKeaBHJq0X+bnCoCCCCAAAIIIIAAAggggAACCCCAAAIIIIAAAggggAACCCCAAAIIIFAmASrklInp0BeqqRVyDl2GLSCAAAIIIIAAAggggAACCCCAAAIIIIAAAggggAACCCCAAAIIIIAAAjVLgECOn95PAjl+gmY3CCCAAAIIIIAAAggggAACCCCAAAIIIIAAAggggAACCCCAAAIIIIBAFQsQyPHTG0Agx0/Q7AYBBBBAAAEEEEAAAQQQQAABBBBAAAEEEEAAAQQQQAABBBBAAAEEEKhiAQI5fnoDCOT4CZrdIIAAAggggAACCCCAAAIIIIAAAggggAACCCCAAAIIIIAAAggggAACVSxAIMdPbwCBHD9BsxsEEEAAAQQQQAABBBBAAAEEEEAAAQQQQAABBBBAAAEEEEAAAQQQQKCKBQjk+OkNIJDjJ2h2gwACCCCAAAIIIIAAAggggAACCCCAAAIIIIAAAggggAACCCCAAAIIVLEAgRw/vQEEcvwEzW4QQAABBBBAAAEEEEAAAQQQQAABBBBAAAEEEEAAAQQQQAABBBBAAIEqFiCQ46c3gECOn6DZDQIIIIAAAggggAACCCCAAAIIIIAAAggggAACCCCAAAIIIIAAAgggUMUCBHL89AYQyPETNLtBAAEEEEAAAQQQQAABBBBAAAEEEEAAAQQQQAABBBBAAAEEEEAAAQSqWIBAjp/eAAI5foJmNwgggAACCCCAAAIIIIAAAggggAACCCCAAAIIIIAAAggggAACCCCAQBULEMjx0xtAIMdP0OwGAQQQQAABBBBAAAEEEEAAAQQQQAABBBBAAAEEEEAAAQQQQAABBBCoYgECOX56Awjk+Ama3SCAAAIIIIAAAggggAACCCCAAAIIIIAAAggggAACCCCAAAIIIIAAAlUsQCDHT28AgRw/QbMbBBBAAAEEEEAAAQQQQAABBBBAAAEEEEAAAQQQQAABBBBAAAEEEECgigUI5PjpDSCQ4ydodoMAAggggAACCCCAAAIIIIAAAggggAACCCCAAAIIIIAAAggggAACCFSxAIEcP70BBHL8BM1uEEAAAQQQQAABBBBAAAEEEEAAAQQQQAABBBBAAAEEEEAAAQQQQACBKhYgkOOnN4BAjp+g2Q0CCCCAAAIIIIAAAggggAACCCCAAAIIIIAAAggggAACCCCAAAIIIFDFAgRy/PQGEMjxEzS7QQABBBBAAAEEEEAAAQQQQAABBBBAAAEEEEAAAQQQQAABBBBAAAEEqliAQI6f3gACOX6CZjcIIIAAAggggAACCCCAAAIIIIAAAggggAACCCCAAAIIIIAAAggggEAVCxDI8dMbQCDHT9DsBgEEEEAAAQQQQAABBBBAAAEEEEAAAQQQQAABBBBAAAEEEEAAAQQQqGIBAjl+egMI5PgJmt0ggAACCCCAAAIIIIAAAggggAACCCCAAAIIIIAAAggggAACCCCAAAJVLEAgx09vAIEcP0GzGwQQQAABBBBAAAEEEEAAAQQQQAABBBBAAAEEEEAAAQQQQAABBBBAoIoFCOT46Q0gkOMnaHaDAAIIIIAAAggggAACCCCAAAIIIIAAAggggAACCCCAAAIIIIAAAghUsQCBHD+9AQRy/ATNbhBAAAEEEEAAAQQQQAABBBBAAAEEEEAAAQQQQAABBBBAAAEEEEAAgSoWIJDjpzeAQI6foNkNAggggAACCCCAAAIIIIAAAggggAACCCCAAAIIIIAAAggggAACCCBQxQIEcvz0BhDI8RM0u0EAAQQQQAABBBBAAAEEEEAAAQQQQAABBBBAAAEEEEAAAQQQQAABBKpYgECOn94AAjl+gmY3CCCAAAIIIIAAAggggAACCCCAAAIIIIAAAggggAACCCCAAAIIIIBAFQsQyPHTG0Agx0/Q7AYBBBBAAAEEEEAAAQQQQAABBBBAAAEEEEAAAQQQQAABBBBAAAEEEKhiAQI5fnoDCOT4CZrdIIAAAggggAACCCCAAAIIIIAAAggggAACCCCAAAIIIIAAAggggAACVSxAIMdPbwCBHD9BsxsEEEAAAQQQQAABBBBAAAEEEEAAAQQQQAABBBBAAAEEEEAAAQQQQKCKBQjk+OkNIJDjJ2h2gwACCCCAAAIIIIAAAggggAACCCCAAAIIIIAAAggggAACCCCAAAIIVLEAgRw/vQEEcvwEzW4QQAABBBBAAAEEEEAAAQQQQAABBBBAAAEEEEAAAQQQQAABBBBAAIEqFiCQ46c3gECOn6DZDQIIIIAAAggggAACCCCAAAIIIIAAAggggAACCCCAwGEroPfMDqSkSmpamqSnZ0pmZqZk5+SIy5UreXl54ryndtieBAdWrQUCAgIkKChIQkKCJSw0VCIiIiQqKkJioqOlTmyM6HwaAgggUBECBHIqQrEM23D+8aDDBbqOec3Pz7f+sMj/Z1jH9Uv/4HC5XJKZlSXp5g+SYcOGl2EvIps3rS/TciyEAAIIIIAAAggggAACCCCAAAIIIIAAAggggAACCCCAgD8EsrNzZE9SkiQlJUvy/gMSExMtsSb8EBUVacIQ4RIeFmaFIzQkQRjCH+9I7d6H3qstvBebK1nZ2SYUZu7HpmdIirknm5qaJnXj6kj9+nWlYf36EhYWWruxOHsEEDgkAQI5h8RX9pUJ5JTdiiURQAABBBBAAAEEEEAAAQQQQAABBBBAAAEEEEAAAQSqv8DepH2yOz7RCuE0alDfCjnUqxtnVSep/mfHGdREAQ3q7Eveb4XHEvcmWeGcpk0aSYP69Wri6XJOCCBQyQIEcioZ2N48gRxbglcEEEAAAQQQQAABBBBAAAEEEEAAAQQQQAABBBBAAIGaLJCQuFe279xlVbtp1qSxNGnckMo3NfkNr6Hnpvd34xP2yK74BKvHk5bNm0njRg1q6NlyWgggUBkCBHIqQ9XHNgnk+EBhEgIIIIAAAggggAACCCCAAAIIIIAAAggggAACCCCAQI0R2H8gRTZv2SYF5oxatWhGVZEa885yIlrtadsOEzIzFG3btJK4OrGgIIAAAqUKEMgplahiFiCQUzGObKVyBZ57/gVJ3pcsoaGhctddd1ivJe1x69atMnnyO9YiXbp0losu+k9Jix+281atWi2ffvqZz+OLNP3Xdu/WTXr06C6tWrWqMQn+F198Sfbu3evznL0nDh9+pvTr1897crUcz8zMlMcee8I69gEDjpHTTz+tWp4HB40AAggggAACCCCAAAIIIIAAAggggAACCBxuAhs2bZGExD3Srk1r0S5+aAjURAHtgm3Tlq2mUk5D6dCuTU08Rc4JAQQqUIBATgVilrSpmhzI+WZ2gsjMVDmzR7gENgyWPe2iJKJ5pERHBpVEUu55BQc2iSStlIBGvUWiWogEBJZ7G6xQssAbb7wljz1eGFa45+675NprrylxhSuuvFrmzv3ZWmbaF59J7969Slz+cJ05deqncs+995d6eN27d5P333tH6tatW+qylb3Axo2bRANReiwH4969Ry9JT08v02E+/tgjcuGFF5Rp2dIWOtTjLm37pc1PTk6WPn2Psha77LLRMn7cg6WtwnwEEEAAAQQQQAABBBBAAAEEEEAAAQQQQACBEgRS09Llr/UbzX2hSOnQvo0EBweXsDSzEKj+Arm5ubJh4xZJy8iQIzq2l5joqOp/UpwBAghUigCBnEphLbrRmhzIWXz/Mum30iXZPWPl66A4+b+kcKlnuk9s10nkuC4iPVuZoE798KIo5ZySv/ptCdzxvRSEmX5Gmw8WaXK0CeY0EwkMKeeWWLw4AZfLJcPOHC7r12+wFlkwf540adLE5+KzZs2Wa8ZcZ80bNeoieXjSRJ/LVYeJzkDO2WePkDBTIchu+w8ckLVr18q2bdutSW3btpXPPv1E6tevby9SJa9a4UYrGrVq1VJ+njun3MdgB3I6duwgfXqbkFsJ7Zxzzpajjy4MsZSwWJlmHepxl2knJSx0wLyfvXoXVvu56sor5IEH7ithaWYhgAACCCCAAAIIIIAAAggggAACCCCAAAIIlCSQkLhX1v61Xjp1aCfNmjYuaVHmIVDjBHbtTpC/N2ySLkd0NBVzzM1RGgIIIOAlQCDHC6SyRmtyIEdeWy+Zr2yXia1jZWqDRhITWk8iMyLlqLwMGX1kkvQ9wlSyMZ2FxjeOkICu0dI4rvzhnIKsJMlfcL8EZe2WgoIQCYiJlrygFhLY6xYJiPTfL7h9KS6Z8fte6do6TLq3qyNBwRVbBaiyfv7Ks91FixbLBRdeZK1y1llnyosvPFdkde32Z8jQUyQ+Pl6ioqLk13k/S1xcnSLLVZcJzkDOsqWLi5xLfn6+fPjRxzJu3ATrlCZMGCejL72kSk/vUIMtdiDnmquvkvvuu8dv53Kox32oB5qamio9j+xjbcbf536ox876CCCAAAIIIIAAAggggAACCCCAAAIIIIDA4SSwfecu2b5jl3Tt3Eni6sQeTofGsSDgN4H9B1Jkzbq/pWWLZtKyuSkkQEMAAQQcAgRyHBiVOVijAznrUuTNsQvkgdhYCY2IkbCQKBkTUCDXt82XmG5RkpYdKtMWB8isHUGSXz9LOnXNlu7dQqX/EdHSsG6IhIeHlUrv2v6LFPzxsClzGGSyPQGmt6pgyQhpJsEdzhLJ2i+SmyI5WSkSmJ8t+WZ+fmCk5EikhEbWlYKIphJWp6kER5n+SkOiJSQkWAICSt2lzwW++XWvvP59hkSF5crATgFyYp860qVtnISG1Kzus+6++1759LPPLYNPPv5QjjnGVCNyNDtUoZOefeYp0QoqvpoGd3bvjrdmNW3aRCIiInwtZk3Ly8sTLfEXFBRUbDnL7Oxsa1ktd6nL2c2eHmoq2wSYN1e39fff6832XNKjRw97sWJfSwvk2CtedvmV8ssv8+T0006VV155yZ5c5FX/e9+7d6/s27dPmjVrJjExMUWWKW5CcvJ+SUxMkEaNGpvuqOKKLGY7Pf/Ci/Laa29YlXp++7Ww27DAwEDz8122ilGHEsjx9taD1K6gUlJSTMWeVtZ74H3g5Tlu7+17v58akNJqTtrCwor/98Pep3O5jIxM6da9p7XuddeNkbvvutMa5hsCCCCAAAIIIIAAAggggAACCCCAAAIIIIBA2QW2bt8pCYl7pEfXzubaf/kfxC77nlgSgcNfIDMzS1auWWeq5DSU1i2bH/4HzBEigIDfBAjk+Im6JgdysjJz5cZHF8r3a3KlIDhSrjJhmQdjAySsQagsC4iQ53bFyV/J4RKbFyAxEiQZEigH8vbLSR12yVUt86RV67oSaII7+e1iJDC86B9tJtsgKX/NkIQf7pao8GCJMDfgA4NCJSg8SaJCEyUwzKRrgs1Cms+wkzb5ZrzATHcFSG5moGQVxElmUBvJj+omwXW7S1Dj3hJUt53p0zGyzD8BGVm5Mu6d7TJ/Xb5k5bgkOiJUGkRmyPgrWkmP9jUr+a1BkuNPGCLp6emiXRp993/T3SGZ7dt3mHknWm79+/eTqVM+LhLAWL16jbzw4v/kxx9nefgOOXGw3HLLWJ8hmVtuuU2+/ma6DBt2hrz0vxc81tMRZ5Di1VdfltNOPcVaZsOGjXLyKadZw7/OmytvvDlZvvhimnXsWr1n1crl1rySvpU1kPPQQ+Plgw8/Eu22as7smUU2qQGQyZPfMcfwliQlJbnna7dfd915u4wYMVw0NOPdNLj09DPPynff/WBVHbLn637uvusOOfWfc9XpEyZOknfffd9exOO1Z8+e8vVXX3hMK27kYAM5Tu+FC36T6d9+a7y/lHXr1lm7UvOThg6RiRPHS6wJ6dmtrMft3H5x7+eXX34lt91eGKTR89Xz9tVuvGmsMf3equK0fNli62c4KytLunQtDGndeMP1cscdt/lalWkIIIAAAggggAACCCCAAAIIIIAAAggggAACxQhoZZzd8YlyZPcuJT40WczqTEagRgrow8YrVq2Vpk0aUSmnRr7DnBQCBydAIOfg3Mq9Vk0O5Ghg5n/T/pYHP9wkY7LDZGJAuETEhcrU4FB5NihO9gdFSb2AEAlLN+GY5ADpEJojF3dzyYl9g0w1D5H0hUny0eZs+b1tuvQ7MlCO6dlSeh3RVAry86QgcZkUbPnevP4kOZlrJMPsbH+aCe24QqRtzzQJrpMrpiyOCeSY8E2gORBTHcfqH8tMEg3l5JnXXDMt14QgrGlm+ZQAOZDawEzuLhn1hkhg65OlWZvO7iyPWcNnm/5rgjw/ba8cyAg01TlyJDw0RFo3ypWXb+lsKv2E+lynOk/UCjlaKUfb+HEPymWXjbaGx1x7vTtoM3PG91Zgx5rxz7eNGzfJiLNHWoEY53Tn8PffTZfOnTs7J8l1198oM2bMLHcgR8M/Z541wtqWBld0G3ar6EDOCYOHyLZt24s9xnHjJ8r7739g777I61ATVHnj9Vc9Qjl79uyR0Zdd6Q60FFnJTJj2xWfSu3cva9akhx+Rt99+19diVjClsgM5Tm/t8unNtyb7PJZ+ffvKe++9I5GRhVWRynrczu0X935qYKxvv8KqTWPGXC333nN3kWPQaj1H9uprTdefXf0Z1qZVmDp26mIN33zzf+WWm8daw3xDAAEEEEAAAQQQQAABBBBAAAEEEEAAAQQQKF0gIXGvbNy8RXr37E5lnNK5WKKWCWilnGV/rpL2bduYajkNatnZc7oIIOBLgECOL5VKmFaTAznK9fOqvfLkvb/JW/vrSFPTLdH7MUEy3tyILwgIltiwSFM5J9p0LRUiZwdlyNV9cqRVx0DJzw+UhVtC5Os/w2TxrjBJy3dJZvAeCYxKluv6r5T/tPtJ4tJMhZWwVJE6JlATbhI1EXmSZ6rhuCRUwuuY7nzCGpowThPzVc8Ecky3QCYMZIVyTNdVUpBu7r7vM0GcRDMpWQoOpEn22iaSvaG11OlkqqZE7ZDsxFBxZTWW+LhzJKrT+dKgbQ+rSytfPwLf/Lxdnv54oySlB5uusOqYDFCuXDOsvowZ3srX4tV+mnYLdOGFF8viJUusc/nj9/myZs1aufyKq6xxX9VFNFwyfMRIq8pL/fr1RQMbGkLRqjCz58yR119/06oco/O+nf6VaOUYu1VEIEe3pcGVMWOukW5du5purQKtLqPsfRT3WlqFHK18M278BPnoo0+sTTz33DNytql242zvvPOeTJz0sDXp3HNHyjlnj5Bu3brJ2rVr5T0T0rGDQo89+rD85z8Xuld901TTefSxJ6zx+++/V04+aai0aNFCNmzYIHfcebesWrXadAPVUr7/7lsTbom0uuPKycmxKhCpp1rO++Una311LqkLJ/dOzcDBVshxBmZ0ewMHDJBbbx0rXbp0sbone+yxx2XOT3N1lkwY/5CMHn2pNayGZTlu7+0X937aPy96/r8v/M2jCzPd4VdffS233naHte+vvvxCjjyysIqOHkeHjoVhsFtvuVnGjr3JWoZvCCCAAAIIIIAAAggggAACCCCAAAIIIIAAAiULpKaly5Jlf0qvnt0krk5syQszF4FaKrD/QIos/3O19O3d0/TUEVVLFThtBBCwBQjk2BKV/FrTAzm792bIntHzpefuSPmjcYBc0iRGUqVA4kxBGldwhAm5RMrVQS65sZ2pLNM2VBIzguWjpeHy0+YwEVMlJzIkQFJdURIZlShntX9VTmn5jjSpt0ckNtjMNEGccFPqJsr8cRfV2ox3N8GcPqaLqk4mhNPUfJlgjmgQx2zI6rdK30ytluMyXzmSfyBeshctkIx5KyVrbZS4UqIlZtB6qXf2NxKQZoI7aeYYTHYnMbmxpDW8UKJ6XiGNW7XXjRRpW3YdkNmLdst3C/ZIRnaAvHpXH2nTtOzdXhXZ4GE+QbshOv2Ms6yjHDH8LFm2fLlVIUaDNLNnzXRXP7FP4977HpApU6Zaox9/9IEMGHCMPct6XbJ0qZx3XmEY5WwTWHnu2afd8+2ARXm7rHIGOLyrsrg3XsqAM5Bz+eWjJSK8sKpLgfk50i66Fi783d0Fla8Qx65du2TQsSdYeznvvJHy5BOPe3TjpVVZrhlzncyd+7O1zNo1KyX8n+7ZRp57vixbtlw0xPP0U4XBHPtwExISRSsSDRo4QK666gorfGPPe/HFl+S551+wwjo/z51jTy7zqx3I6d69m5x//nnFrhcbEyP6XtnN6a3rTp3yicfPgXYJdeKQk61Q1jnnnC3PPvOUvar1WtpxO7df0vup3aGpjTbtNu2oo/pbw/a3K6682vJu66N7sbbtOlqLaXdVGiyjIYAAAggggAACCCCAAAIIIIAAAggggAACCJQusNiEcZo1aSzNmjYufWGWQKAWC+zanSC74hOknwnl0BBAoHYLEMjx0/tf0wM5VvdQty6XPT/vl8tNZmZhTKzUNTmaHBOQiTX9Uo0Lzpdz65jsTN0QmZ0fJa/viJVNe4Olbm6BRASa7qyiwqRf0+lydtvH5IgWC0wQx4RkwoNEos1GYtuYr+NNGOdkk7npUhjAKdDwjXZPZeYXmC8rgGNerKZhHJ1nWmCoZK7bKXtv/1CCUnNNEZ0AKcgzKaGQcKl3a7qEdftTZJeplpOSYw7WhH/SAmXv/rayr9nV0vCo0VK3roZ9irbklEw5kOaSNs1qfgL88SeetCrbOBUmv/WGDBlyonOSNTxk6CmyefNmqyqKVkfx1R57/Al54423rOo4C+bPcy9SEYGcp558wgR+Rrq3WdYBZyCnpHU0YHLTjTdIu3ZtPRbT6jd6/Nr+/muNCaDpz6dn09CNhm+0zfjh/6RTJxMoM23E2efKn3/+aXn88vMcn+taC3p9Ky3Y4rV4kVE7kFNkhtcE70CLMzDj7MrMuZr9M+O9ri5T2nE7t1/S+6nVdvr0PcrqGu3SS0bJxInj3YeQlJQk/foXhsG0Oyvt1srZ7EDO3XfdKdddN8Y5i2EEEEAAAQQQQAABBBBAAAEEEEAAAQQQQAABHwIbNm2RXFeudD6ig4+5TEIAAW+BdX9tkOCQYOnQro33LMYRQKAWCRDI8dObXeMDOeo49f/Zuw7wKoouetNDQui9ozQF6RawgGIFsYKoICoI2BULAoogNiyIKNKRokhXFH8QC4JU6V2k995CSU/2v2eSWedt9iUvDRJy75fN7s5OPTs7M2/mzL37acDINTSoaDCFs/moGCbjhAX602f86J5gNlEVEkBjgwvSsPiiFJ0YQoWZR5N0NoyKxJ6ndtU/pwdrD6RCpc8wCSc4WStO4SpEJe/n+9vZJBWzfCwm6FisKQckHCUg3eBgc1bqgCPuISDl8MG3SRzkyMAfyZq5nkKKRZCVkESJZ+PJ/4pKVPT9phQYwYScQ5OITjA55yx7ZtNasScCaI//nRR2fX+qcFmyeRsVbT78d/78eWrWvIWtIeaOO26n4cO+SoXE2bNnqW69hsp91MjhdCubXnKThQsXUcfHn1SPVq5YZmt9yQ5CzpzZs6hWrYy/L5OQ07LlXR4aXyJZteCSJUsV8UOX5/sZ05RpLH3/6aef0VdDh6nbyZMmamePc3R0NEFrC2QY43cn4wgZ+NkgGjJkqLqG+aXOnZ+kFrfcTNWqVVOmvtQDl3/pEVtcgng4aUIO0oRJLG9So3p1GjDgA/uxSZhx00wDjxO++Zb69n1Hhdm1c5sdFhfp5duMP7332e+dd2n8+AkUHh5Oa9espMBAJtWxQEsTtDVBliz+i8qWZU1ahmhCTu/ePZVZNeORXAoCgoAgIAgIAoKAICAICAKCgCAgCAgCgoAgIAgIAoKAICAIOBCACZ5N//xL1zZuYM/DOrzIrSAgCDgQgPWEv1euodpX1BQTbw5s5FYQyE8ICCHnAr3t/EDIObUjku7vs5B2n2cWTCCbhgpkzThxSdTVCqFYJuOMCAqmwUERFMTu4YHBFJdUgkqd3kNdyvajNtd8S4ElmVhTgMMWZlU6pVoS25RiTTbVmVHDGm0smJ9KId744czkHEW+cZJxOLySFEIOyDusgSf63/10/LmJFMaEmyjWqHM2KJEK3FSZKrx4GwWVLUWUeIjo1O9MzJlKdHwXm7BiDSfR/rTrRG1KbPQ+Vbv6tpR48+dp4sRJ9FafZI03pnYXE43ly1dQu4cfVU5/zvuNqlSpYj62r03zThPGj6Ubb7xBPcsOQs7cubMJBJKMiknIWbN6JRUpwnXQEHy/ixYttolEIIBAu08Em3OCtG/fkZYsZc1OPkrPN3pQt25dlG8Qnp7q0k2ZxTKDI427W7Wktg+1oUYNk4lO5vP0iC2mX7drTcjp8lRnAjHFVzEJM97wNutLVgg53uLXeV27dh3d/0Cyua1xY8dQs2Y3qUcPtXuEVqxYSTfccD19M2Gc9m6fNSGnz1tvUqdOT9juciEICAKCgCAgCAgCgoAgIAgIAoKAICAICAKCgCAgCAgCgoAgkBqBNes2UpnSpahsGV5PEREEBAGfETh0+CgdPnKUGtSr43MY8SgICAKXFgJCyLlA7zM/EHISEpOoY7+/afmqI3QmIIReiitAPeODyQoLoA8KMCEnOJTCAwIphAk50QGlqVrCRupT8Vm6vu4aouKsFacAk2dKMPGgfFc2V8UdE0xRWWxKShNxPEg4BiFHEXRAxNEHyDgQTcrhs38gHRo4m07MWEVh99Shoq3rUKGaZSggkMk+CZyGH2vW8A8hij9ItH8CE3N+IYpkElBMIB0/UoSOVOpFNe94jpnfSDf/yaxZP9OLL3VXBXfTOIIHi5csoQ4dHld+Fsyf51XryhEeeFzX5Hrlb8yYUXTLzc3VdW4m5KgM8r8FC/6iJ57srG6//WY8XX99U3Xdtu3DtHLVKnVdvXr66jq7duniYVorMTGRYPbq+x9m0h9/zFPxmP9eeOE5eqX7y6ZTuppmPDy73FwKhBy0q81vbkF79+5TeMLE1aFDh6jp9cnEnMGDB9E9re9OVXpddphV69jxsVTPxUEQEAQEAUFAEBAEBAFBQBAQBAQBQUAQEAQEAUFAEBAEBAFBIBmBI0eP04FDh6mhEAqkSggCmUJgNRPaypctQ6VLlchUeAkkCAgCeRsBIeRcoPeXHwg5gPLzqduo/7hNdGusH42OKkKFAoJoJCsb6RsRTKFMegllYsz5gFJUI3AzfVipC11dbztrxGEyDD+nsvcSlX6ItesUYY01MRwbCDUgwOBgso0fzlojToqbfc+PbEIOrjUZB9dM7OFgsafOUlzkWQqvVJL8ETyJiTjQvqNMYOHMafhzPpgcQSeYFLFnPJ+PKhNWpw6H0MFKfanGHS9SENt7zG/iCyHn9OlIatCwsYJm7NejqXnzZq4wQZMMNMpAli1dTKWZVQ/RhJy77ryDhg4dotzMf3v27GHyxa3KyTT55IvGFjMet+v0NOToMCDO1KvfSJmvAkEGRBnIe+99QGO+HqvMWMGcVVYEaWzZ8i/NmfOLbQYL8U2fPsVDU45oyElGedjwEfTxx5+qm82b1rO5qqnU/9331P2mjes9zI8lhyACgSryTCS98Pxz1NqFsKP9yVkQEAQEAUFAEBAEBAFBQBAQBAQBQUAQEAQEAUFAEBAEBIH8jsDKNeupSqUKVKJ4sfwOhZRfEMgUAsdPnKTde/dT4wZ1MxVeAgkCgkDeRkAIORfo/eUXQs5fm0/SE68voG+PFKCmQYVoTUA8PcKmqM6GhFA4E2ui/IrT5QHb6P0qL9MNDf9hMg4zYyLCiCqyZpXitzMhhskzlEKOsck2LiQcm5wDrTh4DsE1DoiDkJNCylGPE5mIYzHpRhFxkB784j4lDJyoANGZDUQ7hrIJq71EUUF06kgY7a/Uh65o+WK+s5HqCyEHqDVrfovSVvL0013pjR6vwymVaCJJ8eLFaeWKZfbzvv3604QJ3xA0zPw6d47tri+mTJ1GPXv2VrcXi5CDxLV2lddee4Wee/YZlZ+fWIPQSykahP7dsomCg5nY5SIg2wQEgA3mKTExMRQaGurpyHemSSbTzBU8ahwrVapI0EiUUdHlyMsmq1Dm/fsP0I03NVfFHz7sKxry1VDauHETtXuoLQ0Y8IFyl3+CgCAgCAgCgoAgIAgIAoKAICAICAKCgCAgCAgCgoAgIAgIAhlHAESCPfsOUKP6V2U8sIQQBAQBG4FVazdQ5YrlhdhmIyIXgkD+QUAIORfoXecXQs6Js7E05bm/6OmFFp1kns2zVYj+DAulIhRI0f5FqQLtoU8ue45ubLCTqBgTEwoVZzJOR6Ki1zGXhrXi+IMUA8KCJtakaKNRZqk0MQdn+MFZE3K0f302CTmabAOmjb7Gcyb+sMmbZGKOcQZZJxH3XIDz+4h2jyE6vJmvg+j00VDaW6U/1W39Ej/PP+IrIee119+gGTO+V8D8OHMG1a3ryfbdsmUL3dWytXresuVd9NWQL2wQp02fQT169FT306ZOosaNk7XtwOHYsWPUvkNH2rZtu3p+sQg5kydPoV6930qVx507d1GLW5lQxvLIIw/T++/1Jz8/XReVM82ePYeee/5FuuOO26lXzx5UuXJlVZ7eHB/MXUErELQDmRIZGUn1GyTj8M47fanjYx3sx18NHUaffvqZuk+LBGQHcFxcLEJOevnOjMYjaFyC5iWQuXQdmTxpIl177TWOUiffHj58mA4cPEj169VzJUi5BhJHQUAQEAQEAUFAEBAEBAFBQBAQBAQBQUAQEAQEAUFAEBAE8hkCGzZtUQSCsmWSNd3ns+JLcQWBbEPg0OGjBILbVbVrZVucEpEgIAjkDQSEkHOB3lN+IeQkJibRqX6rqfhX+2hgzRj6tFIRKhgfSjH+hSnMiqbPKj5Pd1+9lqgEE20KsWmqyo/zmUkbIOOAYxOgyTYgM+DQ5BxNxoEbX9sEnZR75RfXphgkG6UNh+8tk5SDa+0H1yn38MPloAQ+LNZaEn2MSTljmZSzha+D6PDhInSm6QSqcY0necJM+VK79pWQs2/ffrr/gTZ04sQJKlOmDHXv/hI1u+kmJj340/z5f9GXQ4YoDTrh4eH086yZVKVKFRsqk4iB57179aQrrqhFW7dupc8Hf8m4H7b95iQhZ8yYUVSoUISd1qmTpygy8gz9OX++ItXgAbT7LF60gEJY85OWAR99TCNGjFK37ds/Qm3btKHata+kuLg4DvcL9XunvzJ1BY020ACEsFFR0XTNtU2UO8oMgtLVVycTcFatWk3Dh49URBNEuvCv+VShQnmdHC1esoQ6dHhc3Xfu9CS1afMAFShQQBF9bE9pXGhCTqtWLemJJzqm4ZOoVMlShHxDzPc0d+5sqlG9eqqwEydOorf6vK3cd+3c5vE8vXz7Er9HhHzzww8z6ZVX/9PIhLqH9+Pvj3bDU7Zu28akqJbK0UkK8/Qpd4KAICAICAKCgCAgCAgCgoAgIAgIAoKAICAICAKCgCAgCORfBGJj4+jvlWvoxqbXpNqAmn9RkZILAplDAOvEC5csp2sbN+D1IXcrC5mLWUIJAoJAbkdACDkX6A3lF0IO4Ez8cR/98/yf9GzdJNoeWJQKBEZQTGIYvVBsIL3WdDoFlmMyTjh3NpUfYc04V6eQcZhME8CHWkDHIjrINXykIt7oZ/qcoinHD8QahIHgjHs+cFL/TM04+poJNyYJR/kDCYePJA4ILTmKlMOki3MH2XzVaDZfdYQoJpC2HbuKwu6bROWr1kACl7z4SsgBEDAX1Pqe+9LE5PsZ06hBg/qp/HzwwQAaNZo1ErlI//796O23+6knOUnIcUnawwlaWMaP+5rKli3r4Z6UlESvvtaDZs780cPdeTNx4gRq2qSJ7Txp0mTq/WYf+97tws0EGMxc3XBjc0V+0mGAKbD1RTQhxxe/Zvq+EGbSIuSkl29f4nfm+dy5c3RV3Qa2c/eXX6IXX3zevjcvzLzBfeeOrfJj0gRIrgUBQUAQEAQEAUFAEBAEBAFBQBAQBAQBQUAQEAQEAUFAEGAE9h88ROfOnqdaNasJHoJAjiCwavVq+vnn/1HtK2tTq1Z3qU3HOZJQLol0y7/bqWBEOFUo57m+lEuyJ9kQBASBHEJACDk5BKwz2vxEyKGtp2hgj3n0aVICBScEU0xoSWodOIUGXTeUIqozgaYAE2YqsHaZEs2ZOxNHbM0qWTOOP7uDlOMHkg0ExBoQbzT5xnGtTAJpN+0fZy1g4+AA8YbPtnmqlHvlbl6n+E9iwg44O0ywSCbl8A005USypo9dU4hOnmXzVQG0LqYVVe0w3kObCoe6JGXOL3Pp2WeTCQ5/L1tCpUqVTLOcMMH00YBPlCkm0yNMWMFc03XXXWs629cgtXw++Av68ceflCYdPLjhhuvp/vvu5cFYS6p1RR3ld/SoEdSixS3q2iRw/PH7r3TZZVWVe0b+TZkylXr2etNrEGjEgYYYpPlYh/b8zgu5+oU2nC++GELjxk9QWm9MTwjb9+0+VLFiBdNZXQPfQYM+t80taQ8g/7z80osETS5ucvToMXq9xxv0118L7cfbtv5DgYH4qNKWjBByXnjhOXql+8sqQl/w1qQXaP3ZuGFtqoyklW9f4k8VITt0f+U1mww1/8/fvWoKQtptH2qn6tdTnTvRm2/2cotO3AQBQUAQEAQEAUFAEBAEBAFBQBAQBAQBQUAQEAQEAUFAEMjXCKzbsJnKlS1NJUsUzxM4QIt91PmoTOW1XbuHlMb7TAXOp4EiIyNp4MBBdumLFS+m1jNsh3QutmzZQne1bG37eu7ZZ+i1116x7y/Fi2PHT9DBQ0eo3lVXXorFkzIJAoKAFwSEkOMFmOx2zleEnJh46tp/Kc1cd5JJLcFUIWA7jb6yLzVsdIbNUzHJphRrsijHJmNAvglgEgzMVOEAIUfxa9S/ZD6OKxmH/dnu5rV+a3BLIdekOmsCDp6DdYNzipsi7PC9JuLoMzTlwIRVImvKObaCaM8vTM5JojNHA+ifSh9R47YvkF/SHo4nmDVtwNQRzqwBSOWRT/lYQH44duwYxcfHK40ypUv7bmf2yJGjVLBgOIHUkdcE5T148CCdZHNXhQsXZnJIJTbbpYlm7qVBGwG8YJrLn7+Hapdf7jMbHFpnjhw5QsWKFaOIiP/MbbmnlHtcszPfXbs9Q7/99js1btSIpk2bnGYhQfzCj4WiRYum6U8eCgKCgCAgCAgCgoAgIAgIAoKAICAICAKCgCAgCAgCgoAgkB8RwHz1gkXLlLmq9Oa2cws+VS+rnumsjBg+lG6//bZMh8+NAefPX8DLXVj/4tUqtk5x4403pLtOoctx5swZWrlylb6lwkUKU6OGDe17XBw+fISaNL3BdsOm5gXz59n36V2MHTue+r/7nu0NG5R/nTvHvr8ULxITE5XZqmY3XCea+y/FFyxlEgS8ICCEHC/AZLdzviLkMHiDJm+hAeN2UFxSLPUr9xG90GQ5+ZdhrR1FWbNKhXuJQoswCYcJMYEpRBybkMNkGnWtSTkphBuLzziU6DP84No8QLAxBff6SCHeqMfspsxcpZy19hxlqorzBVNVuNamq0DIieeACex24FfW1biJteT40d5TdSj+vrepYuX5lMgkDH+/YjyyKUVBQffwAKeKSkn+CQKCQM4iYGrV+eijD+mhtm1yNkGJXRAQBAQBQUAQEAQEAUFAEBAEBAFBQBAQBAQBQUAQEAQEgUsYgdORZ2jHrj3UqP5VeaaUQsjxfFVOPBYtnE/ly5f39OTlzpxzh5cyZcrQ0iX/aeqHW1YJOdiUfV2T6xGVkrfe6k2dOz2pby/Z86q1G+jyqpWpSGF3SwyXbMGlYIJAPkZACDkX6OXnN0LOsk3H6e431lFjv1n03Y1DqFhVBjo8iKjirawlpxqTVpjdAjKO0pLD50DWHqLJOX5MiEni5/EJlMREGD//QPILZo0zwWw2CppnEpmAY4Fc4yTkuL1MJtCYhBxwd6CJxy+BKC6KrPhYshISOQ0/8kMeAjiPxOck9hPPafCzZO04HA9IOon8LIY1/ez4iejEaYo77EeHajeikneUokArjosRQrFxgRQc3IuZxle7ZUjcBAFBIBsQiI2NpV27dlF0dAy93bcfbdy4iWBa7K8Ff1JYWIFsSEGiEAQEAUFAEBAEBAFBQBAQBAQBQUAQEAQEAUFAEBAEBAFBIH8isO/AQYqJjqXq1armGQBuaXF7qrxC08uJEyc83KtWTV2md/v3o+uvb+rhL6/f5HZCDvA9deoULVjwF1WrVo3q1Kmd1yH3Kf/btu+i0AIhVLF8OZ/8iydBQBDI+wgIIecCvcP8RsiJirbo4Ven0lN+vemea3YSFWTtOCUrE5VtzsQbJrswryWZkMOkmmC+8U+k+DNn6fiB47Rv23E6vO8MnT4ZTTExiRTE/gsVK0BVryxFNRpVpYLlynBgJuYo4biUhpyU21QnEHIgKcQcJvvEnThG21fvou0bDtPJY1EUH8tpBPlToSIhVLpCIapUrTiVqliCQoqAncrpxKdozAEhBxpyErksR9eylhxW13c0kRKvq02JjWuwvzgm9oRQYkIBCgp+lQk59VXK8k8QEASyH4F5f86nzp27eEQ8aNBAuu/eezzc5EYQEAQEAUFAEBAEBAFBQBAQBAQBQUAQEAQEAUFAEBAEBAFBIGMIbNm6gwpFFKRyZUtnLGAu8z3zx5+oe/dX7VzdcnNzGjNmlH2vL+Li4shcxwsJCdGP1Nn5PCgoSJmB0p5giighgTeCp0hgYKCreSj4O3r0KJ09e5YqVKiYoc2lvoZFPuC31hV1dHbU+fff5nKa5VW+kX9vgs2wGzdtojZt2tlewsPDadXKv9W9Llt6GnLwHGtz0K7jJk7MYFbLW75geuvQoUMUFRXN8ZWmiIgItyjzhNvBQ0fozNlzVKvG5Xkiv5JJQUAQyDoCQsjJOoY+xWB25LhWNBE+oxPBfVLKNe5xoCOKZxNI0TExdP7cOWrVyrdF5l07t/mUn5z2BM0z8z5uS40DZlHhSkxqieDOvdx1fC7PZBwmuMAsFTTSBPtR3JlI+mf5blq95CBt33qaTh6P5bIzRikcGoAFy1HBIX5U86pidE+n+lSt6ZVcBA6vgAQpB6LPuFYPcMHC14q3k0RHNu+iWWNX0erFhyk6irXv4DH/g9IcSECQHxUpGkRVLougBteUo7pNq1BYCTZDlcAeQMxJ5LgwpoqOItq7kKzDxyjuxoZkXXkVhao0LeblJFFA4Ls8qKmq4pR/goAgkP0IDPjoYxoxIvmHEwb0b/d5k+66687sT0hiFAQEAUFAEBAEBAFBQBAQBAQBQUAQEAQEAUFAEBAEBAFBIJ8hsGbdRqpSuSIVLVI4T5fcF0IOSB6169T1KOeypYupdOlSyg1rdnXrNaTz58/bfgYPHkT3tL7bvn/u+Rdp9uw59n3PN3pQt27/bSjds3cvDRs6nKZMnWb7wUWlShWpXbuHqMtTnb2SUTIa9q6WrWnLli0e6Zg33khJ8BMZGUn1GzQ2vae6fvPNXvRU506uJqvm/fEbDRo0mGbP+UVpuEdglPHOO++gHq+/5kFS+vnn/9ELL75sx9+ixS00etQI+x5rp5MnT6Fp02fQmjW8Sd4QaMt/8snHqUP7R6lw4bxVR0+djqTde/ZRg3qehCmjeHIpCAgClxgCQsi5QC80vxFyzm6YRZGTH6LylRLIrwiTWUpUZA05rDGGCS9KMw7IOH7xtGfjfprzw3ZaueIEJcYThTJvJ4T5O6GhfhQSEkiBrD0H1Jo41mJz6lQCHdxnUaNbylCPMa3YghV7ZJNWnkQcjl8JQuHAPZ/BuAm0aEzP3+inMTupdFnOUokgCgkNYK02HA2bp4qLTWCNPEnE5F+K5bwg9BW1C1PL+6tQ7asrc/iwZFKOIuZw/o/vYC056ymyaAk6El6BYorVpxKl/Sg4MJyKl3iX/PwKcgwigoAgkBMIgLR47NhxtYOgUCFosxIRBAQBQUAQEAQEAUFAEBAEBAFBQBAQBAQBQUAQEAQEAUFAEMgOBJatWE316lxJBQqEZkd0Fy0OXwg5yNy99z1I69evt/M5YvhQuv3229T91m3b6I47WtrPcNG+/SP03rv9bbfGV1/nYRrrx5kzqG7dZJLP/v0H6L77H/R4bgdMuahevRqN/Xo0lS9f3uNRZsLefsddtG3bdo94zJu0CDknT56kRo2vNb2nuk6LkHN3q1Y0dNjwVGHg0KbNA/TRgA9tzUJpEXKioqKo29PP0qJFi13j0o7AbdrUyXmKlBMdHUPrNm6m665uqIshZ0FAELjEERBCzgV6wfmLkGPRvrGPUpFDUymiLJt3KsRH6av4zGziAKa5BAeyFqB4WjVvO00cv5OOHo6n4sUD2FxUOJW7vASVr1WGipcvQhHFC1BIGKsFZDV18dGJdPrIOTp64ByVvjyCGjYrzlauWGONpQk4eJHmNeg0KWQc9YiJO0GBtHnlGdqx9hQVLxVKxcsVopDwQPZlUWx0PJ0/FU0nDp6mQ9uO8nGMDu09S8eOxlN4QT964KHK1OLeWkwQ4vywBhxluopZ03RoDVlHT9Pp4wG05coP6doHu1FC/HkKDgZz2swPMiEiCAgCgoAgIAgIAoKAICAICAKCgCAgCAgCgoAgIAgIAoKAICAICAKCQO5GYOGS5dTkmoYE80R5WXwl5Hw++AsaPPhLu6hduz5FvXq+oe6hpaVX77fsZ7iA1pcF8+cpt71791Gz5rfYz2Head3aVUobzPHjx+nBNg8R/KQnzZs3U6Qc7S+zYdMj5Nx22600csQwnYzH2RdCTr++fejxxzum0pDjEZGXm6FffWlruk+LkDNr1s/04kvdU8UCbfmHDx/2cH/44Xb04Qfvebjl5huYFFu6fDXd2PSa3JxNyZsgIAhkIwJCyMlGMNOKKj8RcqKP7qRTX99OpcP3UEBhVj9TtChrx6nFRBzWaAMNOeHBdHDHSer32jK2AhVEjW4sTfVvrkqV65ahUkzKCQlj7TNJINvwAQGvBWps/Fl9Ds4Wq6+JgWpATbqBJ4hJgNHPcIbgzEdIAY6HD8Sv0oD9KXYHsccPWnv8KSHOouNHY2jfpmO0fv5OWr3gEJ0+EUU93q5H9W6oSBTF6cdx+DgOenwXWUf2kV9UIm2w7qTq3aazdp+8zRjnUokIAoKAICAICAKCgCAgCAgCgoAgIAgIAoKAICAICAKCgCAgCAgCgkA+RWD+wqXU7Ibr2BKAue6S98DwlZCzfPkKavfwo3YBod0GWm4g3V95jWbO/NF+pi+WLllEZcqUJid5pFWrljTky8HK29PPPEdz5/6qgyitOR8NeJ8uv/xy2rRpMz3z7PMeBJPhw75ibTy3ZynsiRMnKCEhka5rcr2dLi6mT59CFcpXoIIFwwmkITeBeS5opt+0aRN1fqqrhxeY8YIUK1ZUmdc6fPgINWl6g4cf3Lz00gtUjcv3C5f7f/+b7fEcprl69+6p3NIi5Dz/wkseYaGR6J1+fRXJaeXKldT2oUfseE0ClO2Yiy+wXrxg0TJqfmOTXJxLyZogIAhkJwJCyMlONNOIKz8Rck4v/478fn+SCha1KCCCSS4lKhAVLscmnxggNkFFoYF0LDKJFi2LpNrXlqLKVxRhM1VMcIGtKGUOikkyaozH/wKYgAPxZ9KMIuWAWAPyDEeGgaB6DDccEBUw+VK58T2sWsGdOzlK4rhxttgxCW78SLnDDQffs0YeaNMBgSiBgunQrnO08q+DVKdaGFWvymQbRchJ0ZJzLpKSDm4j/6g42nWyNPm1mUNVarE2IBFBQBAQBAQBQUAQEAQEAUFAEBAEBAFBQBAQBAQBQUAQEAQEAUFAEBAE8iACf/61hG6+qWkezLlnln0l5MTFxVHNWrU9Am/auJ7CwgqQ0xyV9vTVkC+oZcu7qN8779L48RO0M3388QBq2+ZBOnXqFDVs5KkFZe2alR7mlTZs3Ej33HO/HVabwspKWB1Z1cuq60t1XrRwfiqTWB4ejBuQhe5ufa/tAs00S5cstO9x4UbI+eD9d+mRRx62/b3y6uv0ww8z7fvGjRrRtGmT1X1ahJy7WramLVu22OE6dXqC3ujxOi/b8cZ/lsVLllBsTCxFRETwUZBq1qyZp8hjl8r3Zb8guRAEBIE0ERBCTprwZN/D/ELISYiPp+MzX6GS+4ZRUrg/BRYKIb+SlYnCIpiQwwSYQCbkgGQDU1QlwpiAwwQZtpeoCDL+/BwHnoNs48fsmACc+T2AjKOY2GDM4B7u+lmyU7J7ynWKt2TCDdzYAW4g3agI+ZyIa5YkPoO0w8xf5Qf3eIYz0gjlvIbwcZpNVJ3hA6ay4lMIOdFxlHiEteScOUuRJ/zocJPRVPvWjipa+ScICAKCgCAgCAgCgoAgIAgIAoKAICAICAKCgCAgCAgCgoAgIAgIAoJAXkMgv2nIwft5qks3+uOPefarmjL5OyrNGnCaN29hu5kXHTs+xlpb3iYneeSvBX9SxYoVaOnSZfRo+8fMIPT888963CeyJpthw0fYbpqwkpWwOrKLQchZsXwplShRQmeBfv31N+r29H9lNok9aRFyXu/xBmv0+d6OBxfQhHP77bdRvbpXUe06tal+vXp50qSaaMjxeK1yIwjkCwSEkHOBXnN+IeREnztJx755gMpGL6Ik1o4TXDic/IqxhpwQmKtiUg0IOSDmaDINrkG64UcUyP/4sSLlgJijCDkg4rCbOuAJ7nxSzBncpjyHkxIm0ShhT7iEX6X5xnTna9yCgMN/SnBOTLkBESeBr5l3o57DPSElDMLhGQ6QcmITKfHEQYo/eYqCYixaUfhZavz4wDw5CFA4yD9BQBAQBAQBQUAQEAQEAUFAEBAEBAFBQBAQBAQBQUAQEAQEAUFAEMjXCCxcspyaXNMwz691+KohBy97wjffUt++79jvHRpZYJIKJqsgIIQ8+eTjNGTIUHVftWpVZdaqbr2G6h7/KlWqSAvmz1P3zrRtT2lcII2NG9ZSVsLq6C8GIWfXzm06eXX+558t1LJVa9vNV0LO7t276eZbbrPDuV0Aq06dnqBnnu5GBQoUcPOSK90SEhJo6fLVdGNTT+1JuTKzkilBQBDIFgSEkJMtMKYfSX4h5Jw/sJHOjG9BBUNPUFDhID4iKKBwSTb/FJRCuGECDXg1MAulznwNQo7WhKO06OA+xY82WcVOiqijCDm4YWYMThCQezwErBnDDeapcA9nCM5OM1VaKw5IOIqMw57gB/dKW05KGEXSgXsKIYdNbCVEnqQ4tskZGp1IS6NvoquenUGFihThACKCgCAgCAgCgoAgIAgIAoKAICAICAKCgCAgCAgCgoAgIAgIAoKAICAI5C0Elq1YTfXqXMlEh9C8lXFHbp3Elltubk5jxoxy+Eq+3b59B912+532M/gtzaaaJk1KNrF07z2tqUOHR6ntQ4/YfgZ99qlN2IHjE090pL5v91HPZ8780eOZHSidC5BashJWR5+XCTkoA97HO/3fpUWLFusiuZ6bN29GX/M79Uu1Vujq/aI7RrPVkHUbN9N1V/9H5LromZIMCAKCQI4iIIScHIX3v8jzCyEn7t85dOLbu6lAMT8KLRREgUUKU2AEk1OCAlNIOEyMAREHHaPSgsPXipDDZ2WuCvfswSbm4JoPaMvBc4izU01xTn6o/7N/D1KOduez1piTyPGCrANNOfEg2fChNeNoEg6INyDhIDqQdhSRJ+VakXISKP7sWYo7eZICo+Np0/EqVOapOVSuSnX2JCIICAKjxdehAABAAElEQVSCgCAgCAgCgoAgIAgIAoKAICAICAKCgCAgCAgCgoAgIAgIAoJA3kJgzbqNVKVyRSrKazx5WTJCyME63tXXNKETvAEbAg0sERERdPjwYXX/yccf0b33tqYaNa9U9/hXtWpV2rVrl30/ZvRIuuWWm9X94sVLqMNjj9vPoD3n+xnT7HtvF8WLF6eshNXx5nVCji7HsWPHaOWq1bRp4yZavmIFrVixUj+yzz98P53q169n3+fmi1OnI2n3nn3UoF6d3JxNyZsgIAhkIwJCyMlGMNOKKr8Qcs79PYrOzupKBUoGUUhEIGvIKUSBYQWZVJNCyAGZRh2MlibkaCKOPoOAA0JOsD7zNe75Twn8WXyAIOMh2gPcce14rtNThBx+DNINyDYwPYUjLoWYw6dks1T8HFHgXhNxdFicmZBjsWq5hKgoijt9mqyz8bT/WBhZD86kKxrfzIFEBAFBQBAQBAQBQUAQEAQEAUFAEBAEBAFBQBAQBAQBQUAQEAQEAUFAEMhbCGzZuoMKRRSkcmVL562MO3KbEUIOgvbq/RZNnjzFEUvy7aKF86l8+fLUtdsz9Ntvv7v6Wb9utSLx4OHhw0eoSdMbPPytXrWCihb9z8JCXFwcTZ/+PRVkrAsWLEjFixWjevXqZimsTtBJyPlz3m9UpUoV/TjN86ZNm+nu1vfafkASWrlimX2PC7fyZYfJqnPnztEqJuCcP3+ezvGREJ9ADz/8EBve4DVDlh07dtKtt92hrvW/QYMG0n333qNvc/X54KEjdObsOapV4/JcnU/JnCAgCGQfAkLIyT4s04wpvxByTvyvN8UuG0AFSgRSSKFA1o4TTkEhBckPhBw/7iw1IUehxaQW8Gbgpsg4fAbxJgREHHa3Eik2OoHOnIvnTjeRYmKYPcN+wzne4mVCKbxUKGvTYY8gzaQl0K6TkEjnjsXQycMxFHUuQSUbViCAGc6BFBEWwHlEgmwnK55PIOawfxUvCDuakIN8moQc1qyTlBBH8THRFH+GBwVn4ujsSX86eP0YurZlh7RyJM8EAUFAEBAEBAFBQBAQBAQBQUAQEAQEAUFAEBAEBAFBQBAQBAQBQUAQyJUI7DtwkGKiY6l6taq5Mn++ZiqjhJzZs+fQc8+/mCr6qlWr0rw/flXuEydOorf6vJ3KT+NGjWjatGTzVvph+/YdacnSpfqW6tatSzBzVbVqFTrL1hfef/9Dmjptuv28VauWNOTLweo+K2ERQZOmN9rafXDf5anO1Lp1KypZshSVKZM20Wrfvv10U7ObEcwW5Lty5cpUq1ZNNmVWIMcIOZGRkVS/QWM7XVy8+WYvevKJxykgIIA2bNxI99xzv8fzjJCNPAJehJtt23dRaIEQqli+3EVIXZIUBASBi4GAEHIuEOr5hZBzdOrTFLdhJIWBkBMRREHhoRQYEkb+AcGMNAg5yQxWRWzR2MMJZBeQcYL8KDEunvbsPk8b/o2mHbtj6fjpRIqKtigB5qRYgoL8qQTH3/y2QnTtbSWZ9MNxK1IOhzfZOXDjuONOx9CSX47TogVn6MTxRIpn81RILpjTCg/zp5LFA6hmlRC6olYYVagYRn7coVMch03gCJSZKr5WYsTPjywrgZISYykhJpbizkdT3Jl4io+0aFudT+nGh17SgeQsCAgCgoAgIAgIAoKAICAICAKCgCAgCAgCgoAgIAgIAoKAICAICAKCQJ5B4HTkGdqxaw81qn9VnsmzW0YzSsiBuarGV1+XKqrOnZ6kt97qrdx37txFLW69PZWf1157hZ579hkP9927d1Obtg/bZrA8HrrczJk9iwkvtdSTrIRFBK/3eENp33Em88ILz9Er3V92Oqe6Bw7afJf58NtvxtP11zfNMUIO0nr22edpzi9zzWTVNTT1OPMEvIBbXpFVazfQ5VUrUxG2MCIiCAgC+QMBIeRcoPecHwg5FpNhjnzTnuK3TlaEnFAQcgowISc4lFXJMWnGj4kuMDUFAVkGBwQabEDKYUJO5PFYmrvwFP29OYYizycx+caPQjhoSLAfM1+Vb2K+Dp0+naTun3imDDVpzUxeaLKB9hrovlG8Gb4G68bfonlTD9F3Y4+qZ0UK+XOcyUknMuEmluOKZfJNEpuvKl4ogG6qX4CaNy1CYSD5QFuObRZLx50SP2fesuIpKSkumZATFUsxrCEn6SzRlur9qVmHXhxYRBAQBAQBQeDIkaNUrFhRbnu58b0IcubMGW6vLSpcOG/bu74I0EmSgoAg4AMCF7uN8yGLykteyaev5fHVn/QBviIl/vICAtglun79BtrFE/qFIiKoEe++rVixQl7IuuQxCwhIO5YF8CSojUBsbCxt3LSJtvzzLwXzJFvNGtXV7nzbg1wIAvkIAcwPHGCtHxUqlM9HpZaiCgKZQwDfy4JFy+jGptcorSSZi+Xih8ooIQc5bn3PfbRx4yaPzI/9ejQ1b97MdnNqn8GD72dMowYN6tt+9MXWrVvpgQcfUiaYtJvbuc9bb1KnTk94PMpK2IULF1HHx5/0iA83N9xwPX0zYVwqd6fD54O/oMGDv3Q60+uvv0rPPvN0jhJyTp06Re0efpS2bdueKn3ToVKlijT0qyFUu/aVpnOuvU5MTKSFS5ZTsxuu4yVMXm8UEQQEgXyBgBByLtBrzg+EHLbfRAfGtqHEXT9RgeJBFBoRSMGsdi0oKIQV4wRz58JmoZK4gwG3RR38D2f0OQF+rL0mhsb9fII27o2jksX8qWgEUWiIn7Jm5cceVd/E/pOY1HM+KonZ2Yl0/R3FqVPvKsyqYe05yQp0OLIUYZKPxSSfr/rspHVLTtNllwVQWGhyfPChssCJJ3K4qBiLTp2x6MRpi264MpQe4XjDC/HicYL2yZlEBpBXPiwm+hA05DAhJz4uhmLPx1HMWfZ8Lok2V+5NN3d6BwHznAz6fDCdOnmKgoODqUeP19Q5rULs2bOHxowZq7xccUUteuSRh9PyLs8EAUEgBxH44oshdPz4cbrjjtvVDoUcTMrnqL/88iv6bNDnbB4wnOb/+TtrNyvhc9js8Lh48RLq8NjjKqoJ48fSjTfekB3RShwXGYGoqGgaMOAjlYv27R+hmjVrZjhHULv7zTff0j9bttCRI0eoUqVKBLXCHTo8qux1ZzhCDnDy5ElasOAvWr16Da1dt07V90aNGtLVjRvTtddek26U6FMXLlpM6zjsxo2bWQVwJbrm6qtVWF8mFaKiomjBXwtp5cqVtHz5Cjv9Jk2uo0YNG6abPsLBZvnWbdsoOjqGqlevRrfc3JxVGd+dqYk3tEkYVzzWoT21a/dQrp0YwQTP5zy5ZLEp0ueee5ZKly6VLlbaQ3a3cWvWrKUffphJoaGh1Lt3T51Mls/Znc8sZ+gCRSB9wAUCWpK5IAhgIv0Z3iF6/vx5O71XX+1Oz3O7JXLpIiDt2KX7bi9kyfbs3UtdunTzWMxq2qQJTZw4IUPZyO6xIhLfuXMXLVq8mFavWk2YoMbu9saNGxHyV63a5enmb9Xq1bRi+Uo19t6zZy/VvaoOazRoTNc3bULlymXcBMQvc3+lZ555jq677lpq/+gjdPfdrdLMw4oVK2kFj6FXrVxFBw8dZqJkA2rYoAE1a3YTYfd+eoK2/bffflfebrvt1hz5vXr48BFa9vfftHHDRv6dsZ43OcZTjRrV2PxMdTb10TpdcyXplSGvPU/iMX+btu0I424sqmNxPTsEi/ZTp05jDfEB1K9vnwxHOXTYcDrMdagU/xaRvj3D8EmAHEZg3YbNVK5saSpZIv12LYezkunonYQczJ0OH/ZVmvEN/GwQDRky1MPPxg1r1RyndoTJKpiu0oL5z3VrV3mdQ/n333/pC54rhUksUxAO80e9evawNeOYz3GdlbDow3u80Zt27dplR4t+auWKZfZ9WhfffDtRkXJMrTQPtW1DH330odJU49QmtGvnNo/oQKi5/Y67bDcQaBbMn6fu53Lf+zT3vVpatLiFRo8aoW8JmxK+mzRZrUGZ6cMD4mnevDm9zlqJChYsaIfJ7RfHjp/gccMRqndV3iAQ5XY8JX+CQF5BQAg5F+hN5RdCzv6vH6TE3bOSCTnhbLYqLJgCg1hDjh8TciiFkAPijDr4H/NalIT606KVkTRq9nGqWCaAioQzAYdJL/ghExwaxFp2AsgfJq3Yf3xcEp1n4gux9p1WnSrRlbWZOBPNZBinMIObwoNozQrWuvPNXgpKjKOwgv6cH84HR5TEJrDiY9jMVFwiXycyMYdJQWd4Qe2URd3blqYra4QTxSCjLCDj+OPgaxB9/OCuCTmxFBuVTMhJAiGnSm9qkUcJOSNHjqYPUxY5e77Rg7p164LSe5UnOz1F8+cvUM+9sb+9BpYHOYLAjh07CYu6RYsWdWXj50iil2ikWFxfu3Yda/jyVxNjsE+bm6XOVfXVIg1Up3bu9GSuyOpdLVvTFiY8QIbxD907+QfvhRRzF8cTT3Skvm9nfGLsQuZX0vINgdOnI6lBw2Q70s7dSb7EMGXKVOrZ601Xr5gEmfTdN3TVVRlTx4zJBew4Onz4sGu8sNHdkydW0J64yaxZP9OLL3V3e6Tc3n/vXXr0Ue+k11OnTtMTT3ZmzQnrXeOAGuLnn3+WhzM8lnEIdub07v2Wh71y00udOrVpwvhx3K8UMZ3TvP7jj3n0FC/8aLkY379OO73zpk2b6e7W9ypvc+fOphrVq6cXxH6e3W3chAnfUN9+/dUEHyb6skuyO5/Zla+cjkf6gJxGOP/Ej8U7/ZsHE+UXWusexqSNGl9rA47J85iYGPr++2kZarPsCOQizyAg7VieeVW5OqPmOAAZxeLV0926+ryhKifGisgHTFDAFIU3+WrIF9Sy5X+Ld6Y/5OmTTwfSiBGjTGf7GmN6mNKoX7+e7ZbeBcbx0HSgJa3fj+gXkP7w4SO1d48z2unvmPBUo0YND3d9A81XH3wwgKYwgUMLyNj4zZCdggXf555/Mc0oYbLkmae7UYECBdL0l5seZqVfBkGpSdP/NuqsXbMyW/p18zemcyHaF+ywUI3flFWrVqV5f/zqSxDxIwhcMAT2HzxE586ep1o1q12wNC/1hLDRDP3O+ajzTHQqqTYGuc3XuOGQtbBRSkNYwYLhVKpUKa/EIbd04YbfJcfZnFcJ7ueKFSvmzVuOuGN99fTp02pTXQKv5V122WUUFpZ3+i4TlC3/bqeCEeFUoVxZ01muBQFB4BJHQAg5F+gF5wtCDpNcDox/lGK3TKHwEsEUWpAJOaGByRpyFCEniPySeCEKZqDYRJQ6+KRYNiEBtO+cP333+zGKZ1W6FSqGUYVqRahi9SIUUSqEglnbTkAw68kJ9FfBElitTTiTawr5s72pc9H/vUW9zqTiTXGOKECRCcEUE2XxIINNX8GZzVUlMbEnlrXanDkcQ3u3naZ920/T/n1RVLRIGLVvUYKKBzDJh0k7SiUO4uWw6mBijuWXyEeyyap4tnkVy4SgmHMJlHg2kbbWfIdufqw3UslzEs87ZVrdfY+9c2rpkoW8W6aMazl+//0P6tL1afUMGgree7e/qz9xvLAIaI0EJtP8wubg0klt6dJl9Gj7x1SBli5ZlOt3juVGQg52OfR7512lGePLLz6/4JN827fvoO6vvKre4cBPP/Y6IXrp1Nr8UZKsEHLMvgsT9dD+Au0zG9gEyNRp0xWAcJ8z+2efzYDAnvfdre+ztRa0afOAIvRg586cOb/Yfaq3vnICa+rp2/cdO+127drSZVUvo7379tJPP/1sk3yw8wg7kJwCzVgPtXvU3ukErTbYGRzPNj4nTZ5ih3/66a70Ro/XncEVEReEXAj6Dix8lC1blub+8istWbpUudetW5dmTJ9CgYEgNact586do+Y33+phz/tSJeRkdxuXU4Sc7M5n2jUg9zyVPiD3vIu8npO4uDiqWau2KgbGM+lpTMju8v788//ohRdfVtEO+uxTpdHAG8Ezu9OW+C4uAtKOXVz8L4XUTfJBx46PUe9eb1BISEiGioZNW9k5VkTiJlEEY++2bR+kapdXU+NZaDHQO+C/GDxIjdedGcZOeoxvICAwtGp1Fy9mlqbNm/+hSbyLXsvs/80iaHP2Rcw44T8tQg4I1Bi3QaBV8s4771DaKTds2KA0TsId5fpx5vd0+eWX4dYWEDxfe/0Nu4z6QXYScjAH3eftvh5aG67m3wd1UzYdbNu+nf5izZpaoI1gxPChGV6Y1eEv9Dmr/fJHH39C06bNoI6PdaAXX/ROCstIubJKyNHEOdSnX+d6as7ISD7EryCQEwjE8trH3yvXKLNVvpJGciIfEqcgcCkggD4a5qqubdyAx2TBl0KRpAyCgCDgIwJCyPERqKx6yx+EHKJDU7rR+dWjKLxkMBUIY0JOARBygnlHOGvIsVIIOYmMpiLkMNkFfBeQZ0B4YSLMcf8QguWn4qWDmXDD5JlA9szkF8WiCWYyTwgfQXyAVcNMWIpFZCwI7yaKmMMPQzkAdqUj3XhONI7PrBmHEtnNYpJPQgCdg3aco7FUlPvBIvFM8jkT81/eED+TgZIJOQiSTMhJZK078fEJKYSceIo7k0S7631Czdq95JabPOEGlbsPtXtE5RULlZgAcUp0dDTd0uJ2tciHSYZFCxdQkSKFnd7k/iIgIISc7ANdCDnZh6XEJAhkJwKZJeQkJCRQi1tvp71796kJ8unTJnuoAja11IBU88nHH/mU7eG8MxaTuhCnaTT0l1hEhcYYyOZN6z2IaRgfNr3+JtWfgvQycsQwD5NJx44do/YdOipSD1T4z5k9S8Vj/vvkk4EEFecQJ/EF6be6+16brLN+3WqKiGCboCkCMtHNt9ym7hD/lMkTqVChQuoeeXv77X707cTv1D3wAC7pyXvvfUBjvh7r4c2ZL4+HF/kmKxpysjvrOUXIye58SnyCQH5DIKsLf1nFS4/vEc+2rf/4RI7MapoSXhAQBC4NBMzftD/OnEEYb2ZEcmKsiPQff6KTIoRgA9jUKZM8iPD79x/g8e9jaswO01GTvvvWI8t4fuNNzZVbu4fa0jvv9PUgGcEU0QMPtlXPoXHGFzOgv/76G3V72tMEoDdCTixvIqx1RR0VP4jwQ1iTj6ldxjQ1By2V0ECj5euvx9G7772vb+mdfm8r7YhwyE5CjpPwNGnSt3RVneQ868Rhpvb113vaGjahZRfadvOCXOx+2Q2jrBJyWt9zH5st3qR+n7r95nNLU9wEgQuJwIZNW1grSjEqW8Z3E88XMn+SliCQVxA4dPgoaxk6SVfV9o0wnFfKJfkUBASB9BEQQk76GGWLj/xCyDn6Uy+KXPiR0pBTwNaQw9ptmGiTTMhhYgxIOJoYA205EJhQAMmmYBBRGB/wxCarFAFHEXH4Oc44Atkj/EL49j82DvsHcQYMHybZJAuu2ZEXlRTxh9XKQjuOTciJ5XtFzuFzIvxxuKh4ovN8gOuDcBCYq9KEnAArhZATR4mJCRSXwCaromMoMTKezpwgOn7rN3Rtyw7J4fLo/zfe6GVrCsDkByZBTDEnhT8b+Andf/995mP7GguBh9gGMqRs2TIekxS2p5QLqBzGYinMAnnbgY+JDwiem+aDtHtwMBO/uC4hrq1bt3F88T6ZHXFLG+ofDx06xLutqriaGDl79iwvoB5RE0ehoaHIVrqSETyckcEcydGjR1idZGlXsyG6DFBrjsVhqEhevGiBigY7aIOC8F2lLxnFEuniHaNs0KyQkd12Gg+wwcuXL59+5lJ86HAB3BZU4HBmXXBGgjqFPJp1BuExiVelSmVXXKD+GNqiFi9ZSp07d1FRzv/zd6UtCvUL9Syjgj4A9Sma2wp8C2FhYa5R6PeYme/ATUMO6vE+1rJRokQJpUrU204W5A+TWmb5kJddu3ZThQrlya2OA6NdvJhfmlWcejPdoONFYdOqG+nVbzew8B737dvHaRfh8hX3Wg+cddotLuQTWkawE7NYseIqvrR2nrvFeerUKYLq8UqVKikc3dLJiJuv5TPj1OWAClnkw5wYNv05r3W4zJYfdSWtNlfHj3yVK1fOgxDizIvzHjgcZPXIiKNq1SrqPWeWkGNOTLvttkUa7R5+lEBMhaSlJU55SPnXtu3DtHLVKmrevBnBhJZTsFP2nnuTiSxOE1swMXXvfQ+qIGPGjCJM6jvFnNxd/vcSKlmypO0FJktgq/v8+fPU5603qVOnJ+xn+mLhwkXKnBbuBwz4gLBwoQWEG9gCh6DPwPsxBd8mFjwQf1XefZye+vR169bTffcnl+fVV7vTwIHJpN7sIuToNtJbv6afowxubY5u3/Ec/SLi8UbIwfd87Nhx1Vd462dQZ9B2QtzSUw/4H/KFvhJtB/oeb/F5I+RgvIExZ0b6Sp02zr7mMzPtjpmO81qXO4rVcOt+yOlH32emv9Zh0zq7tdfw7+a+Z+9eKlyosCvJHBjCJGiBAmEepDln2m7xon85yX1EOdY8lZZdezcMkObJk6d4caama5seGRmpVHaHhYUrTX5uY2iz3qdXT5EHiDd/Or0iRYrymPS/tsiJA+7dsMgOjM208F4Uvj70L7p9MMdYcNu9e496p97eDcqBo179RippkBNbt26lrs3xpZmv9K7xrfnyGwljLbw/t/E90vD2nnT6OfHu06prOl03rPUzfdb1w4mhds/O33Wo1xjTpqeaX7eV5ngY7+rff7eqdqFKlSo6+/ZZt3Pwl9ZvIV0uZ3ntiPjCfF+6/Hiuw5puZjhc628hs2M5Z3z6HZpYOP3gPif6jT179qrfbmXKlPb5d5dum0qWLOX6W9kt73DT4Xyp11lpo31pM73l0enu67vW79DtNy3i1OMgZ/zO++weKyL+qKgoql2nnkqqV883qGvXp5zJKnI3SN4Qp0mh0WO+pvff/1A9W71quTLXrW6Mfy+//Ar9+NMsn8avmNsBQR3fzx1sYvno0aMEUo83Qg40SLZv31Gl5s10O0y3gpAP06+zfppp5wzaY8ePn0A33HA9ffjB+6rvrl7jCvU8uwg5aDOgrVKb0v3h++leTXfhdxXIS7t27VJ5WLXybw8TJBey3uv2NL1xI8qHIyv9sv4+zDGB/ZKMC1/7awQxf7Npk1X4Xg8cOKjmJqGBNK1+G+8B9c5ZZ4zsyKUgcFERAIFgz74D1Kh+xsx7X9RMS+KCQC5EYNXaDVS5YnlFcMuF2ZMsCQKCQA4ikFsJOZhQuKSEJ1csffDA30rAkZBg8SS+xT8krOiYGOt8VJR19tw5K/LMGYsnba0jR49au/futTZt3mxVqVrNp+Nig3Zy0XDrn+5+1r73Q6xjX4RbZ0cWtmLHFrcSJpSxksZXsKyxVSxrTFXLGsHH0MqW9WUly/qiomUN4fNwvh/FzydcZlmTq1nWD7Usa/aVlvVHbctaeJVlLa9nWWsaWNYGPjY3tqx/cFxtWVv4nNYBf/C/uVFy2DX1Letvjgtx/lGH0+D4f6iZnOb4y5PzgLwgT1/wgTwir8jzmCpW0tjKXJbyVsK40lbcuDArZngh6/xHNawdn95g/fFWY2vTykVWXheeiLB4gkTVudtuv9PiyWC7SKxZwK6LbR96WNVr+2HKBe/qsNicle1P199OnZ6yePHR6V3dv/RSd+Wf7Vu7Pj9/PsqOj22N237YxrLtvn//fuvtvu/YeUcZfBGddp8+fS3k/dFHH7PjRBxMULL4h7iKitXaWrywaj9H2V7u/qoFzLxJZvBAXDxRZfV/9z3ruiY3eKTHk0XWLwYG8Nvvnf4efjTmOCO/vkhGsOTFD4W1mQ6u73+gjcUL02kmt3nzP1bnp7p65Bc48440a9++/V7DuoVDmqgzBw4ccA2n6/H//jfb+vPP+dbDj7T3SBfv+p9//vEIi/rlLJd5j/fiqyBfKJfOh46nw2OPp0oXceq6mNHvAGF1GjxBqerx3a3v9SjHTc1utr7//gd4TSWs1lv5hR+2x6sw1fEhz0882dnavWePCrd69Rqr4+NPesSNOubEEZ51vIjLKRmp32ZYNu9joV3SWOKM+Id8NVT1q6Zfs07/+++/5iN1jX6YCWxWo8bXesSHe8Rntn06sBknL5Jbo0aPse686247PPKC98gT/DpIhs4ZKZ+OGOUYMWJUqnIgX+MnfOPaTiNsVsufXpvrLV9o01AXMR7yJjt27FTfjvM9433x4rSNN75rX6VnrzdVOLwj3aY7w67fsMGO+4eZPzofu96jTUY+33yrj+tztJe6HLww4OGHiS6qzUS76Vbf4Bll1OHRn5jyww8z7Wf4dr0JT+6qdPR3rP3p/gXfuDcZM2asnQbeuTdB/vW3gDaBCS12OLPf9hbeF/fur7ym4kRb5Sb6OfDavn1HKi8zZnxv50k/B6Ya33+3brWYoGQ520+MX9z6mbTaOCTura/E+GnxkiWp8scLNCovqKP4jYC+HWXV+UPbhHqG3w4ZkfTymZl2J630gSn6Pp1vfQau6I/dBGWGv4z0127xmG5me232Aab7oUOHLNYy5THWQv3VbQtrqVJtus4f8oj34FanzXjRP7AZPI94ERb9v7exsE4DGEycOMnj3Tv7WIwD9fem8cUZ9ePIkaMmDKq91X7WrVvn8cy8efa5F+z652yf3dJDfj8d+JmFMbpTTCyyE2OdTmb6Fz3GwnifNT6kGp+51U+8f42d25nNfegs+XTGt5GR30jO8ZaZB+CfnqCv1WF8fffOvsjt3SNOt7qm86Oxzuh41qw36Y0xdFrOs04b7xnvD+23xgBn4DZ48JepxoyIR7eVaHfxHZlh8X2Y4q19d/stxAQTOw8YN3oTtMU6r/qbNzEx2zEdR1bHcm5xIm5828gLxjhukt39xrJlf1tt2rSzy69xwNiNCd1uWVBubvUTYxv0n2n9ZnMLhzTTqtdZbaPTajO9FtB4kNF3PWzYiFR4alxx1nXMSML1MjvHijoBs239yTE21n7M3+TOMRgTGtW41jku1mFxHvDRx3b5TXe3a8whaWzQZ+E7xj3qkZuYeTt48KCbF3t+BviZgt+YaGswPwxBm6vTHjlqtOk109f4/afj9DbuMiP/Y96ftn+ENeVC1PuMjBvNuqPLaJ597Zf1mMdbP5XR/hqYTZ48xcYR3yvqoMZP5/HV13pYqGNuottAX+fv3OIQN0EgpxFYsXqddey49/nvnE5f4hcE8joC+H7wHYkIAoJA/kQAXA9wPsD9AAcEXBBwQsANAUcE872YD8ZYEhwSzM1pXon+/ZATyPkh0hwkIl3wqM3i4FoVjs8MIshHxD/F1DXucTDQSkMDvwQ6f+4c20O+x6c8axa+T55zwNO5zT/TntH3UsEiARQWEUwhMFsVzBpPAgJZeQ1MVvE5ibXQQPsMtORAQw6XXWmgCYAWGj7Yv60NJ4SvYaYqGO4pZ/iBxholfMaln75PcYYj4lUHnuOazzgStFYcvonj61gcnCFcw4wVztCio/KXEhbmrqCVhw/Ln9+ZXwJnIZLio2rRsdX30uKz1em3GuXpTLEAuqlqDepUiLVo3FiM/FGmPCq8iEDQlAPp17cPPf54R3Xdtdsz9Ntvv6tr2DWuzvaNTeFFVN7t/4DaTW+6m9dQvwrTGKZoe92tWrWkIV8ONh+p6yjW9FG7TrJ6ZXOnvbmzHbuZ5qbYEUcgmNPauGFtqricDjrt2267lZhskMqWN/w/+OADdN2119LrPd5wBlf3sMc9ZfJ3qTRjZBYPnmhgjQadaMuWLa7pwdHcjQW1x1B/7CZQSw311OmJr1jyQjY9/EgHW7WxW7ywTd+lS+qdbjt37mJNEfd7rR94ZyNHDqOmTZp4RJteOHiePGkiXXvtNR7hql5WXd137PiYbePdwwPfIM2fZ81krQVV1CPUIdQJb7Jp4zqvGm7MMKtWr+bvppPXskKL0R+/z/XQLqPrYka/A6SrNeTce09rtRvQzIt5PfDTj+mBB+43nRQ2ffv1V1qArryiFs37c77Hc9zgW3+3/zvEZCrXMgHHvxbM89hR503bQ0brN9JH3/jKK6+lWbY33+xFT3XuBO9KzDo9d+5sqlE9uT7o5+aOT+1mnh9q20ZpFDE1C5lxQgU6L6yYQezrxo0a8e7HsVxXCthuaV1kpnw6Prw7YO1NUCegGcWp6Sir5U+vzU0vXy1a3KJMNDm1ER09eoxatmrt2hajjNDwMmXqNFVcp8YZbxjAvVnzW5Tqe7zXjz5K3lXr5l+3G+3bP0LvvdvfzYuHG8xVMVFI7Yyf98dvqbSfzJnzC/GkrwqzcsUypcHMI4J0bj74YIBdz5w7hHv1fot48pfwjj///DMVE3a67uJdrtBIUrFiBa+x82SwMpcFD2lpuzPrvJtmIZ3AyJGj6cMByWa+fp71o9qR7NZva/+ZOU+f/r3dD0NzWeXKle1oMHbGTtnzrM0HAvMFHR/rYD/HxYsvdSeYJoMWgwXz56lnZvk6d3oylbktHQHCTJ0y2UM7irc2DmF86SudbZYZ3908HtL1XOdBn/HtYawETQu+iBmvOS7KSrvjLV1epKJnn33e22PlPuizT+m+++718KO/u4z01x4RuNyY79bsA0z3xzq0t7VEOaOAlsh3+r/ndSw2ceIEj/GKGe/TT3dV7YIzTtyjv/zpxx/ossuqejzWGDjbVngyx84///w/ZQrPI7BxgzH21Cnf2drIoMGtYaPk8RG0EEAbgVOgEUrvNMeYH2N/LaZ2Me1mnmFuBOMojGu0mFhkJ8Y6/sz0L3qMBXx5IVr1Bzo+8zx82FdKQwLcoC0BWsi8idNMoTd/cM/MbwLzd5czbtQj83t2Psc9NNMxgUw9ysy7z2hd03nQWGd0PGvWG+d34Et5kb6ZNjTUwUylm6CtgakYU3RbibqMNh+aCrS0bHkXfcVmaSC+tO/O30K+mCLR2hFMjXQmJmY7pvOV1bGcW5yIe+Bng9gMz9BU2kVyot+AaUwmUOkipTpjvDhq5PBUv7PTa5vQFo4eNTyVdrnM1mtf2+j08uXWZqYqtItDRt/12LHjiTf3uMSU7GT2K948ZfdY0UxHfxPextu6ncdvUMw7ZUQwx9qS51Axl5KethF859q8Vf/+/Qh9lv4WvWnIgWal+g0aqyy5jY3xndx6251qPI6xZVpmoHiynbJbQ44e76Ld3LB+Tapvx4kl8vsTj495tp8qVa5EjRo2tL3kdL3P6Lgxu/pls69wzj9mpr8GYKaGHGgR540TNo7mBer0D6y1CO/HlEce7UBMTiTMI0xj08oigkBuRODI0eN0gDW/NqznaQIvN+ZV8iQI5EYEVq/bSOVZc37pUiVyY/YkT4KAIJDDCIiGHP6ldiGEf+DYTCawmi5VDTkxhzZZG98oYe14K9A69GmYdXpoYStqTDErflxJK3FcOStpLGubGVM5WQsNNM4Mq8IH3w/n8yi+H8vacb5l7ThTa1jWzCtYew1rsPn9KtZmA602DS1rNWu5WQ9NN6zxZmPKsYnP+tCac6AxB9fwt46PtY2sJD5wtlbx8TcfiBMacubw8QOnhTSR9tecB+QFedJ5G8730N7DeU8aW5HzWcjaM/E264OBi6yWbf6y6nT+2+rSfIb1/uUjrcfa/mx9122JFTOTd5EbmmUuRD3LzjRQT/UODezmYLW91vz5C+wdH9hN7BT40TuosHsYmgywq49/0FrY7QM3xIWzc1eI3kntbYeKNw052Lmid5vgjN1M2LEETT7OnVTO/Op7nbaOhxfr1I7K33//wwMDPMfuWexsxs5/VkFsYZe7DufcjZMVPEaOHGXHi52U2MkLZiRPKtk797F7kxceVTHwDLsAeTHUxhj3ONikiS5qmmdfsEQ6zzzznJ03Nl9mQaMEdolip6GpuQR5NQVahPROf+wUGjduvKobqCNDhw23dw+hfiAdLdgVqcPh2UTeNQ4tD9htau5Cgh/nTkj9bnBGWLxTaNfAzvWPPvrELgfqgBa014jH3CnGi9vKzRm/DuN2hsYJnS7qFMoPlit23eudUi+8+LJHUF0XM/odIBIdpy7zxx9/aq1du06VFVohzJ30K1au9EhXa2XQYb/88iv1/UAbDnZxaXeckc6vv/5msWpvC8+hQUo/x25aU3S8CGNKRus3wkLDh04Hu2Wx0xv1BO/SzKO529Os09B8YQraJx0f6jTKhHqM7xr462fYRW2KGSf8QMvSihUrrHPMZkZdNndTo/y+SmbKh7jHjPlPewnqD+oXyoHymHmZPGWqR1ayq/ze2lwmCNoY4v0sWrTYYvNH1pIlSz00Z2CHqCn4xrAr0MR/w4aNqs9gcoLdFujnWouFGYfbNfo0HQY7htMS/a1AM4Evsnz5Cjtu7Mw32wk8098m+tSMCPJs7nCFNjan6Hbm88+/sDaz9jFTwxvKi3bx3XffV9+rMyy08mhM0tJsZmok8oYd2mQdF3aDQrz12858ZOQe/apOB32BKeib9TOcUf9NQXuh3wX6Si3ObxrvCfUUbRzGEmYbx4tDOpg6e2vjkJZuz5EXYIL2Eu0VvkWzr8QYSYuOT5cDbR3qP7DE2RyXzZ7ziw6W7lnH62yLM9vueEsQeGmMcUY7AO0LqEPQ1KH7cpTP7OcRny4zzr72197yod3Nd2v2AaY70kObj74DYy30f2ZecI0xLPpwjAUwXtHP0f6Z4owX5YAWCXwfSB+azDQ+wAJtoik6XpwRFhp20K8gX2gPIGZ7gzEp2kWtKcDUBtCBNfFgV40WPXZDvE7s4cfUtoWxgxbUW50v1D/stEcfg7Lit4B+hrbPFCcW2YUx0shs/2J+k8g3tGHtY82M0C5mas/CM4030sM4Gn50WfFe0M7jcMMSYZyS2d8EiB/puI3vmRTiTMb1Xpc7o+8+s3UNmdBpZnQ866w33sYYrgVNcdRp6/eFuokxCL5h59jIqQlCt5U67GuvJ49fDh06pH4bIgm8E/09wZ+vv4XM/nz79tQa3NB+6nRNLRkmJmY7hrxkx1jOGSfihXjTkJPd/Qa+L11utDF4V6jz+K1tfuvffefZ55tjGIzb0Iahj8VvHGg10XE6x05Zqdc6Tpy9tdGZbTOTUff+PzPvGu0YsPT2m9Zs57ylbOKc1bGiM40vh/zX32JeQLenOJvfC8a4GRGU2dSY6PwNZMaFflKPyfD7Q+cBbQ/eszcNOYhDj7nRr0PDkxZn+m4aEbVfnHNCQ47+LYOxQFYlJ+t9ZseN2dEv677C2U9ltr8GzubcFHDDOA3aUaFxDd+P7svxDBqjdX3T70jXKcwxiggCuRmB1Ws3WAcPHcnNWZS8CQK5EgF8N/h+RAQBQSD/IpBbNeTQpfZK8gshJyHqlLXji1utrT39rX0DCljHv4iwzo0qymarSjAhp7SVNK48k1kq8Uwqk1tGg+QC8gsfo/kYy+aiJjAhZhITY6azuaqfrrSsuUzGmccLuYuYPANCziom16y/hkk2fOCMYwObrcKx6WorfmVDa+v4qtbKz8pa28dUsk7+UN1KmMcmqZZy+OUcdmVjK4nJOElLGyQTchD3L5zGj5wW0vyOTVeNr87547wgTyDmqDzyWZFxOO9MLoocV8XqNfJ3q33rhdb9j/1h3fTaXOumJ5dbfZpOtzq3/J91fZffrCmvrbYOrYrM01UZixP6BzgmM/VCCkg3burptTkQhMFillPMCR3n5Ji3H8Q6Dm8Le+YkJSbx3PKl4/B21mkj34sWL/bwZmKA505171hM0RiNHvO1R9is4KEngbCQ7RRMNmLCCIQSLIqYAvIA8oN3lVHxBUuolNblhfkup2BRSJOynCZQoAJch8Vkq1PMxSCQIrSY4UyyhX6OSS4dLxa7TNHumCjDQppTUA/hB5OqTkEd1uFRroyIaarFDSdMjMJ8Fibc0T9o0XXROTGkn3v7DvBcL/Ihz3pBXIfDGeq0tR9M0pliLkAM+nyw+Ugt6OlwiNupah/51/UVE0um6HgR3hTtPyP1Wy8M4F2ZmCFeTGYhbdYWohYJdVpmnTYXHGAGQb9bTHw5J8MQvyY6wJ+5YG7GiUk2Z5uDBTL9DWAy2FfJTPnSKwcmK7U5JfOdpxfO1/J7a3MPHDhg44vFLOf7wsSzia+5qDhx4iQ7LCbnneJsk30l5MCEmH7nWExNS/R3iPfrq/BOcjt+pIOwqKs6TbwHsw56ixf1C+0SyEDmd4d6isVEp+hFBPTROi23s9u7Qjuk/bq1j2Za2p9b24L3q82qmOODtNorM+6MXuv2w9nemEQJnV98A1rMMcjffy/XzqrN0P7x3kDEMQXl0+YOnSrkvbVxZl/pbFMRN9oUneYHHw6wk9Px4RnaM+e3A2KLrhduxGg7IseFjtfZFmem3XFE7XGLRWYQmJCO2wIU+kNd7q1bt3mE1e4I61Yf0+qvPSIybsz22vz+THd8W2iTTNFmDJAnJ7EL/kB41fk1FzTNePHcDQPWnGCH/WzQ52aytjswAAnHTXT/Aj/H2ByPUzAO0nkzFyFZu6XtbtZ/HV63yU7zNHrsj7YGYxunmAuqWIjWYmKRnRhnpX/RbTvwcTPhAbw0ds46CEK1fgaSdUYlK78JkFZWxvcgoei8Z+TdZ7auIb8a64yOZ81649ZvIe70RKeNMruN8fAu0dZrTMxxnG4r8QxkVjcx23e3Mb6330L4zabTBPHPKSZZ3fzdYWJitmPZNZYz4zTzpPsHZ5ug3TMyHjfjdV5jQ4vGxa3dAxkDBKi5c3/1CKrbJuTDxEt7Msm05u/lrNRrnc+02midr4y2mTrfbuesvGvEl5XftNk1VnQrF4grevyoscUYD/jqe/TB2PSQnuC7xDhBjxF1eBBqnL/zzLjMsaM5z6DjSYuQg/qq6xPSQ100NxXAzZexWnYTclBeXX6MV7IqOq6cqPdZGTdmtV/WfYWzn8pKf20ScoCXmzkzkzxtznnhPenvAX2XiCCQmxE4dTrSWrR0earfULk5z5I3QeBiI4D+Ht8Nvh8RQUAQyL8ICCHnAr17TKjrAxO3l6qGHCsp0To441Vr6+tk7XovxDo8qKB1ekQR1pJTnLXklLKSxpflgzXMMKHF+ppJLiDh4BjHJJgJfHzHZJypTIz5gQkys+pY1q9MlpnPZJpFjZiQA0INE2/W8LGWiThreQEdx7qUY8N1Vuyqa6zpb1e1nr4m1OpSJ9Dq2STAGv1IuLW0X2nrxEQm2Mzn+JYwIQfxLWRSzp+8SDy3bnJaSHMqa8qZyHlAXsZBWw7nDRpzkNdxlZlQVIGfRVg7P29hPdF9nTW+0ixrxKOvWF8/25gXF3tbzbrNtu5/+HerwXPLrLveWml98r/UE9cXqMplWzLmLg79Y9z5w1Enphd+YYPbm2DhCfFg8sIUbz+ItR9vC3vmJKXbpKgOn9ZZp41JFDfRO4wwweYm+rlzwiYreOjJHOBk7nB2S990y8qEvS9Ystpr9f7cFqh0PvRiECYhTNF4eJvgRhsJLTtY6DAXQvSCs7lb1IwX13ohyTmhoutsl65PO4Oo+z+MBWkQnUzJyuSlSchxI52Y6ZjXui46y6H9ePsO8FxPXqIee6sz2EmvMTFJEOYChNtk+Pvvf2iHO8S7hJ2inzsn7XW8zrqQmfptajQyCTLOvJj3Zp02FxygRUvj4DZRhjiwk037+WHmj3a0ZpxuhBF41O2mEw87EpeLzJTPLIfbwiySAVb4prCQoRf3zXBZKb+3NhffscbOW100dxBDg4YWPQmKOmIudOvnOGNxRsfvKyEH5dRhsDiZluh2zlub7xYWGrs0aUOnY56BlXPR3y0evCczHK5Rj8yFbjOc0y/aQmi3AAFp6dJllknUweSurgOIw1xUhCaytES3wyBIOgXfh86HqSkurfbKGUdG7nUfgzRNwo3WWPfV0GF2ftCOa9H1Bu2R+S7Mb3rMmLHau8cZmpx0Gc067a2Nw3gA/jE+8LYQBM1a+DZNjWU6PoSF9jk30e80I7uedbzOtjgz7Y5bnpxuZj0zn5nfIeqfKRrfzPTXZjzmtfluzT7AdHdrx6BNT+fHjXxhPjfbXjNeLAZ7E61dA9+rKTpNEBndBGlpP26EEoRBfdN9LNpTLVi40uOEPn36amd1NokCw4ePtJ+Z7qbWHNsDX5gLid9++539yMQiOzHOSv+ix1jAwe27NLXgOPHN6sKfHgNn5jcSQM3K+N7Xd2+S2rNS15BfjXVGx7Pp1RvEnZ7otPGtQAOSm5jkXrN/1W0lwrqNhxGXHiNk5rcQ2jfE7TY+1L8nsSBriomJ2Y5l11jOjNNMVxNvnHnN7n4D4zjdrqVHmNb5M+unk6ij/eB7RvuNA9cQM5zzG9fhvLWheK7z6a2NzkqbqdN3O2flXSO+rPymza6xolu54IaxEH67amzNM9zdSIRucWF+wQyLa5BrMT73Jphv0GGcxBlfCDloW83xoY5LnzHu9taOmHky+9G05jvMMGldY05D58H8DWuGgdZFaCFyO0AcNkXHlZP1PjPjxqz2y7qvcPZTWemvTUIOrt0E+dZELvTtpqBfAd7OfsD0I9eCQG5BYNuOXdY/Wzw3WOSWvEk+BIHciAC+F3w3IoKAIJC/ERBCzgV6//iBoY9LmZDDXCPr9Opp1saXA60dffyt/Z+EW8e/KmydHV2MteSw2arxrCVnQnkmtVRiTTRMchnPhBeQX76tmaydZgqTcaYzMeZHJs7M5uNXJuPMZ+LMYtaO8zcTcVYxYWJ1yrGGzzg0MWcNtOU0sc5vvtnasri5Nfeba6wvX7nc6nJNQeuRy8l688ZA6/fXilvnZ3BaHGcS4p3H8SKN2UzKQZrTWZsO8gBNOd8wMWc8k3LGMSGH85o0oSIf5ZiwE2HtevEe64X71lpdnlhr/e+FetbmjmT99mRla8ywOdbket9btz212GrQ9VfryREHLlANy7lksCPJnCTBD1c3MQkI2IXrTcxdcOZuNW8/iHU83hb2zElKc1eTDufLWaftrWyYTMEPY+y6chO9CGgucGQVDz0JinSBP3ZvYdHa2wK1zldWJux9wVIv8gATqGZ2O/SiJ/KOiU+IiQcmFX0VaCpAPDiGfDXUNT3kAZoS4Mc5aazDuu1ERR7MCXmU35SsTF4iHj2RhzxgJy4WpLyRH3S6ui46J4b0c2/fAZ7rhTZv9Rh+trP2Ao3JejbvosVcgNBu5lnvgHcu5mo/3uqdjtcZLjP122w7UAYsakHjhbkgr/Ojz2adNhcc9GICFj/SEv0OsfiixYzT2ySxqWZdh0vvnJny6XI46316aelwWS2/tzbXNGPi1kbAzVyAMdsEvSDlpolFl8sM6yshx1wkSW/BR2vlAgnFFzE1r6BuYlf/e+99oPoMs//EJGt6bTjM0yAsJr01CUZ/s05MzAl8+IFGJmf8WFgy1fabZDZzYdskQbqVWe/4Nr8F+AORR7c9zj4yrfbKLQ1f3fAta0y0BhJTAxKe67bU3BmsNSI4SZLmN4266SZmndP9Gvx5a+N0X+kk6rrFbbrp+FA+kzRk+tHfb0a+ex2vsy3OTLtj5iW9a/T9IHJgcQdED3wb+t2Z2lsQj3bPTH/tLR/muzX7ANMd105ZzqbmdH7Mb0b7M8cHJpnXjNdZPh0WZ5A5ET/eh7kIpdNEH+ImZj2EtiRvovtYZxumFyyRrlm/zAVFaKDRYtYPaDb01p7rds6s7yYW2YlxVvoX3S6APOlN7HfgMDmZlYU/cwycmd9IyKu3cZa3cjjdYW5P1zlv794co2a1rmmsMzqeNeuNtzGGs2zOe522s70z/eG70+/aJJJ5ayvNsLp9z+hvIcRhkm7N7wJ9v86Pk6xoYmK2Y7ovyOpYzozTLKduR5x9jdkuIM++jMfNeJ3X0P6ny44zSEvY/KNJNE7/uDfrp9knu/k13cxwmWlDdT69tdEmNhltM818Oq+z8q4Rl9lnuWkTcqZn3mfHWNGMz7wG+URjiu8V42SMdfG7Hvf6mUkUNcOb16gzGD+D8KrJDjq8+TtDh0EboOd4MMaFth5T9G9As18zn2O8recfkA76QRCmsUlFzw3p9E3itRmHvjbH89lByDHJpd7iGz3maxtfnU99xljNFO1+Iep9RsaNWemXUT7dV5j9VFb7a5OQY7bxJp641uR6p7ZPTdpMi/DpjEvuBYGLicCK1eusAwcPX8wsSNqCQJ5AAN8JvhcRQUAQEASEkHOB6oAm4+CMH2+XrIYcxjMpcp+1pX8da3OvQtbe9wOtI4MjlJac818Xt+ImMCnnmzJW0rfl+ahsJbHWmqSJTMiZxASYqUzEmcGEmJlMjPmZCTK/MFHmj0aWtYA14yxmMs7fTL5ZwcdKPkDMUeScJkzQuY4PfWb39Xy99SbL2tPCsg7dZR3edLv13ZuXWU9d5W89doUfa8wpZEXN4LQ47qTfmZDzGx9IaxanOZO18ihSDj/nPCVNrMb5ZDLOt5WspG/Kcd5LWwlMyPn38Zutzq2XW7Xf2W193uMpa0l7sua93daa9vc5q+e9f1h3dV1iNer6s/Xak39doBqWs8lgolL/EDc1GZipYmFa+9nFu428ialqHpNWWtx+EOtnOHtb2PM2SWmGTe86vbT1ZI1zsVHHqyddTEJOVvEAEcpN2wImp7DrGgvAbpKVCfv0sDQnPfS7Tu+sd52aeLgtbrmVBW4reNdcemk4n5u7nvWziWwGx01Qn7Uf56RJViYvkdZWNsfhnBBEWpj0wyQ3bKY7Jb266O07QDx64tJcgHbGb074mYuF6S1AZDchJ7P1W2vi0e9MnzFphZ2uTjKCtzqtv630TErBZAzSwOKLFm9x6uc4m22m6Z7edUbL52s5nOn6Gi6z5ddtpn4/6Z31RDsmw7XfGTO+d2bbvt+9Z4/tD4srvgi0mui43UwImXHoyVC07ekJiCB6MRrfoG7zdDh8c1rrD9KHSYqMyCHWSKWJJAjvXMzVZcIZJhTdxDStaH730KCjwzvNNTrj0f7Qx5jSo0dPFQfKbpJs4Set9sqMIzPXmiCkSUraJAveBcbammCgFyqxYKfLMHvOLx5J+vJNY2FNhzcX/9zaTpAEtV9oJcuIuMXnDK/NozkXSZ3+zPu04s1ou2PG63aN+gYtRcifxsHtbNZFxKP9ZKa/dssH3Ly9W2/uOp7sIOR4I3chDbM+wRSJlvQwAFkJflDP05IfDfOipqkPEHF1GvPnL7Cj0ONYp9YlEKG1f1/O5o7unMI4s/0LCpveGAt+9FgK34wp5hjYTWuS6dd5bY6BM/MbCfFlZXyP8GvWrLXfpS/vPqt1LT2svfUP6dUblCU90WljrJOW6AV3U5NUWm0l4jLrgS/fBPyY4wL0D7qOmeN1/X7hH9iY4g2TnB7LeSPkIG/Z3W+YpvxMXDH+xjtxmpL0tX6aOOLa13De2lCdN2/9VFbaTGdezfusvGvEk5XftNkxVjTLoq/NNgnjXGgmNQVjLU1+c35Hpj9v15hD0N8awpvkWYT5/vsf7DbRbQys2wdvhByT0IKxsKk9EfGDjKzTR5+dFsHM/H3ujUCDOH0VjIN1XX3hxZddg0FzDvA1Dx3GGyEnp+p9ZseNZnuc0X4ZoOi+wiTkZLW/Ngk5TpKX+SJ0W4E6YorOk5OoY/qRa0EgNyFw5uw568+/logJntz0UiQvuQ4BmKjCd4LvRUQQEAQEASHkXKA6kJ8IObExsdbXw6dYPd4a9//2zgNOk6LM/8/kjbDLAkuOIiqIKIgBA2JElKAip5yoqKRTDP87z1Mk3al4HxVF75AkSSQKYgBBQeAInhhOcl7S7sICG9id3Zmd0P/n1zPPUNP7vu+8887MO7sz39rtqX67q6uqv1Vd3V3166eyv5ywVbboOy3Zs/89K1vmVnJWnbdh1nXBxlnPT12U87Mtst6Ltsl6L3YrNJe6IOdyny7qShfj/MpfSq52NBb80QAAQABJREFUgcy1LpS53oU4N/lyq3c8/68LbbT8SYuLcO5Ilj/7err8ya3l/MmP0baH98qW/3737Nv7TcmOfm1DdvTuzdnjP3YR0HUuyLnWF/ez69xazjUuyFHayoPy4nnqvXh7z6OEQ5u7GGdTFxTNzTrOWT+790vbZB860qemOvxv2b+946Lsgv2+lB3/zYuz93/7oezVn7s1O+DEv2fHHHdd9vNXXFinGja2yaSmitOvJ9NU1ZERL/GVTAOnJnQ1XVC4ePlMX4hjn/x6dNyWSzs6/4cjyBkpD52zhCUSGaRfXwVj+RqUK7ro0NVg5XBduQ7fiCctA6WvL6+HWu6///788JTHcAQ56aCVOiyGSk+dSmuLIEcnrsF6fU2WWgVIy1DTXqSu1utAcUSnX9rBn8at9VSUoAHrcEMNQIy2IEfp1lK/dZzEaBKlhQgi5anBxNRiTrk6HeWhDtRKTiI7xa+O4nDl4oz98msV5OjY4ZxfnMdQwiLFm7o4bqzOP+Kvtp2I6UxSQU5sS/Md6zL/HuVerSBHx8Y1UrSQEvGGHwIYmbofyqXT3lXKSzApWqwYKn7tV9sbeS9OcRPXwVDiIaUrZmldUfscHCvxTr8WveCnLz7XyDpNHK/2RNd0uqj9i/3qKNe+omiumvMvFSamvwxRSlyrIYyV4DHS1nNHOrim80ldNdd0ei8aSpCT1uN1QZAjFsNpd1J2xXWxLgpxVEc1mCjLUyGUUtlMZkFOakUhFedGnS036CUxocKIaSWnZ8eIqzgIGOUTU0/ouT7CFqe2+N4p3x/YN9Tzl/bH9ae8DXVd1Sp6irZUea4mT2nbNtQzlvIdbe1oCnLSZ+Ba3pGUr5E83+t49UWEkLFU2auNTN1I69pQrNN3itR6xVD1Js1jufVIeyhBTgz2p9PLDfU8nOa72joY70KR37BWJNF+3BOjbFJxUIQvxySuhbF6lqskyFHeRuu+EecpsbXSjDYq2iX5YpVO/VNt/Yy4w6/2uHJtaOSpXBs9kjYz8ljKH0lZK76RCHJG+qxY6ny0TYLq4Fm8T8Ux6fNnuSmvI2wpX3U00kgF8bLKFG29LJWkz66xHu8Cxx573MD+NI3Yr3ZE7Wsplz47Vpoud7QFOcpLXEe6dqp18U6hNjR1wXAs6v1InhvHQpAz0vt1Kshpb29PMQ5aL9e3ondP8S6WwaCD+QGBtYzA0888m936xzvc0tiqtSxnZAcC409A14WuD10nOAhAAAIigCCnTvVgMghyurqz7JEFXdkJP12c7XbMk9mrPvd09h/HfzdbcHJztugHU7LFp8/Olp+7YdbhgpzuCzd2oYuLci5xUc5l27gAxgUyV/hUUVe5hZpfSxwjkYxbxrnBxTg3urjmFu94vs3FNbe7GEdLiHMGBDq+7Y50eaP3Eu3plnPcv+lV2R0nzc1Oeldj9m9vtezMj8/IVl3uaf3Gl9+5JZw/uFWeG335vf++1qep+rULhH7t01Rd5VNUXbmJC3M29Cms1vcR1pkuypmZtZ8+LXv8BMtOPuaD2Z6fvzU7eL/fZEe/7arsXUfcln3w47/L/vXga7IzfvA/2bFfuym7bJez61TDxjaZagQ56Rf4lQYl0wE8vYCHi85TmRku5dIB2LHquB1NQc5IeRQZqHNIHbKpqX69rKujKXUj6bAv1+Gbxh+DuqXEQGm44rqmNYnOHJm+rtalx6lTa7gu0izXgTSWFnKKeVUnvr4yDBPFyps6A9Ov12u9DpRWdCzKukc596Bb7Qkm+nIv3FADEOU6jeL4cvVuqHjj+Grrd4QPX+3C+Rf8dJAlotNOOz12lx0QjC97U6HNwEHJSnSAD2eQUYePRJCTJJ8PPlQ6v5h+RNflcNxYn3/kS1+XDtdFGyPBRTlXrQimeLzELKr/lcpdX+jGNVLNV6pR93VMpS8hZQUo4i0KQor5LPVb90YdX+xYlwhN2yudk+KLjvl04C4dAPjWyd8ulWy+TffcyHvabkikGtur9YfKZ9lMFHbI+kikKQsj4qLfqcgxzlkig5i2K7XgEVFWc+9LB1WGEuQo3qjHxSm+Is1yfjVt5mhbyCnmZah2tRg+/R2DnSoLTWPy5JMvWn9ROL0PRblNdEFOKnpNGWn97LPPyTnovp0O5AWbcs8sqt8RplI7ElOHlhJna1Ay4lCb9ZOfnDvwuzh4FJanFL64r3hOxd9DXVe1CnJGcn+JZ6xyz/s6h3iW0rWYupEM/I3GO0Hca0qVaZrPSuua/rZ82Q+2yjLSuhasx/O9TmVZzkkIEyz0nBWumjY42vfhvgtFGqllEL3H3XXX3QN5kXWGoit3LY3Ws1y5qcEkXhYj3UuHciO5b5SKWxb3ZM0unsOVj/T+nbZNRet8peKLbSOt11FnyrXRab6G22ZGHkv5IylrxXfbbbcP1LHhTlk10mfFUuejbWGZbSjhnMpd3CV8Ga7T+2W06anYTc8fUZbD8dWWy6XC61NP/VHZbKUfwmjasXIuZVzNu0e5eNLtqeApFf6mYdJ1Pa8Fi+Kza2wfi3o/kufGkdyXde5xn0qfCUZ6v04FOWq7yzlZLhLX4tRUeh/TPaYWAVq5tNgOgXoQeOKp+dn//vlvgz6Oq0e6pAGBtZmAPhbVdaHrAwcBCEAgCCDICRJj7E8GQc4dD6zM3nfsk9kexzyV7fLp+7JXfvre7M1fmpede+Jh2fz/bM6e/q/1siVuJWeFW8npuHCjrPtit5Rz6aZZ7+VbuBhnW58uysUwv3KBzNWarsqt4/zehTh/cBHOTb7c7MstLri5pd+/zddvc7GNltv7lz+6H4us59yya/bcJTtmlx0xJztmj+bsi3vOzn565Cuyx854a/bE6W/OHj39Ldkj570je+CCfbJfnPjV7AdHnZb96pufz5Zd5Ome7h3kZ7qlnNNeli3/yU7Zkz/bNXvygl2yJ855ZXbX93fI/veoudkf9l8/O+nt+2X7vO/MbI9Drsje8A8XZ0fs9N3sX99zavbZb1yfveOYP2YXn/DrMa5Z9Ym+GkGOchJf98UUEqVyFx3Kxa97NXCjl1K9gJZyacfJuiDI0TmMhIeOX7Wq9BcGaUduTPWi8HLBt5YO+3Idvn0x9/2NKWw0CFzOqfMrHWCKcDFgWmmgXYOs+nI8taITx2kKjHJOaZZyQ3UgVS/IWVgq+iG3lRugTwfEUlFVrdeBMhIdjrq2imazI6PpdZTmbagBiLEQ5NRSv1XOpcpa5xLnn3bYl6vTstYRdUOir1JOX2tGmPQL+3JxpnHUKsgZ7vmlVj8WL16SZmFgXR3vuqa0BLuxPv80X+osLeciP+l+CUbEvdIXp2nnbSUBaBqv1k8//cWB6HLHyaJVlHs6zUQxrvidCm3KlYHCpmJKifPCaZBF7bXES6V4RLgYuCgOjGkgIPIbAwVxTPgSv0aY4lRgIVLS/uJ0AXF8dFgrTNq2pOLCiH8ov5j/SGO4vgYv4pqPAXqlnU5roU5tbVM+I2xq4SfSrOaaHq4gJ+6VEiCVuh8qbQ2C6rpM69lQbbGOG21BznDbHeWhnIt6qkHUUu6BBx8cqIsTXZCTWt0osohrqvgsFddPuUEvtecRplwbpvoW5RCWUNL0F/o0eBGHBNKqo/qdivUi/Pz58wfC3vHnP8fmNfxSbddQ11WtgpyR3F+Cezr4VjyZaCsqCXL0XjRcN9J3gpE830de0wHXtOxL1dWR1rVan2eHqjdxLpX8KGfV63ID0ffee99A3U6fw6tpg6N9L16/aZ50TZRr+7U9BKMa+I6Bc73vhMWcNK5yTEbyLJeKj0tZ7lAew1pGqfv2aN434lzLvRdowDrarGhr0rbp+utviCgG+Xo3iOdfWUSRG2m9jnyUa6PTfA23zRyU+cKPkZS1orptBIIcHT+SZ0UdX8pFnDG1aKkw2haWrHRfS52em9WuFsUjaZh2t1ASZaY2KVwqmoj91fiLFi3Ko0iFIHqOL+dSS5Fqw8u5sRDk/P3vfx84d/WvVRLxKl+ysBsM9OFD6mL7WNT7eF6p5bkxLYda7stxryg+E4zkfp3WrZ/9rPSU6cp39G/pnRYHgYlC4LEnnsrFB1jKmSglynmMhICuA4lxdF3gIAABCKQEEOSkNMZwXZ0asaijpVuLd9RoYEMP5KtcNdnunQbLV6zIlrkp/cVLlmTP+AvfY088kZsxipegofwxPIUho35m8ersoOPvz3b6zLzsNUc97NM5+VQIH5+XHXr4d7MH/2Nq9tQpU7NFP56VLfmJi3Iu2DDrvGjjrOuSuVnP5XN9migX5VzllnJ+7aKca9xazbUuyvm9i3L+8DoX5LjQRsv/aHEhzv/0i3LCl1Dn1v5FAp1bX5/N/9nO2RlH7Z4d/Ia9s1dt/d7sXbv9W3b0gb/JTjrij9m/H/7H7Guf8OWwP2df/vjfsiMOuD371AeeyA7bvyP7x8Oezc4/9+/Z4i9enXUffkW2+P/9Jrv84ruzU38/Lzvtmoez7//2kewr5/41+9xB52UXbvDP2cVTj8hOmnlMtvtbfphtsd9Z2Uv2PT172ccvdwtBt2RvO+bK7J77nhyS27oQoFpBTnxJp3qqToCi0+BT1OHiVCCXXnb5wD7N+Z06dX7E14g6fl0R5NTK40G3YhJfBOrrwKJLhQIaPE5dzEctTmpbhuPKdfimcaSCjiuv/EW6a2BdHV7qxNWXaOpgCpdaUyjVSalByagfMhUeLo7TIEnR7LvCKA115qmOnO1fnacu4ivXgVRJkKN6GMdr4Gg4TuUWne2lBgNSCx+6LsLVeh3o+BhEUp5LTVulTugIUxS+DTUAMZqCnFrqt+6VMXWbTP2XcjGomH6NXa5Opxa31BlXyqVig7TelYszjWO4gpxaz0/CtaijGrCIgYo0L/FlqeqjnkPkxvr803xp4CrSTfMV0wGIv/ITTl+qxzkV2zeFSa9ZhSs3KB3xpX46NYt4pO2TwmkqkRiA0jVSHBhT2un1qmPS+5qsD5RyuodFx6vqceok9orz1YBLKZe2jemUUworay1xvKxjFeuA6lY6mJWy1vFXX33NwPHp18PaJ5e2VelghvZpcFcC0XJLKmKRaEbhNAg6Wi6s3sT5a3rJ1KVm5yNM0WKLwldzTafnIubhyrWd6b2yKJzVsRIORXucci0XX6Qnf7QEObW2O2leiuvR3qj9LOViqhaVx0QX5OgcZRWv6FKLUxLqpS7qablnFoWNNkptigb7ik4DQBFPKQGawkc5pc/WpfKqsJGe7rGlBvT0jKP0NKimwe9wQ11XtQpyRnJ/KTf4FnmWH9elrsXUqW0NrnomGq6r9Z0g0hkNQY7iiml407KXGL6Ui7Kvpa7V+jw7VL0plc/itihnlZfOt9R9MZ4ZFSa1VFlNG5y278N9F4q8hphX9S04lxuwL8dkJM9yykekK2FR8TktFSengpyxuG/onqa86F2u+FymfIa4VqzSsoz8yw/BjcKHC8YqY70DhYvjaqnX0QZU00YPt82M/JXyR1rWt41QkDOSZ0WVmURvqWVknWNax1JRXHr+6fPvWWf/JN2VSXAa5VHqXVuB0w9g1CaFk4C93LNrbI+41VbGtrR+ppYrywna0/TvvPPOSH4NX/FGeqUs5JR6/1gjkhIbJDSJeHXfT/OfBtdHTxFO10V6nSlc7BuLeh/PI7U8Nyqfkbda7stxrygKckZyv04FOWqz0rYnmMtaUuT72muvi8253+4iMt2T0/vSoAD8gMBaTkCWQDQ9z5Kla76jrOVZJ3sQGDUCqv+6DrCMM2pIiQgCE4oAgpw6FWeIceRPVEGOUN4zb3n25s/dne18xFPZSz/5cHbgoT/Krj160+yB45qyh092Uc6pM7NFZ8zKlp47J1txoVvKucRFOZfNzXp/7qKcqzZzQY6Lcq726auufblPJ+UWaq7f1Zfd+4Q5N7ro5iafhupmF93ki/+W5RwJcyTU0Tafzqr9+t2yT7xtz2zWegdlW272iewtu/8w++QBd2VHf+Sp7IiDH88+8+HHssMPfiJfP/xDT2QHv/PO7GP7/j37zH5PZh/52JPZ4ecvzo49faF/rTYv+9J/L8yO/8/Hs5sPujm77UM3Z9/45rzs4+c8n+33rUeyIz5xU3bsAb/MDjnyumyfL/4h++f3XZJ993VnZ0e+68LsDZ/4WXbJNX+rU+0a+2SqFeSoMyTt5Lrk0svyzhcNXmnQMb420cvpvHnzBmU87WzUfr3wqxNGL7XqGIiXVvnriiCnVh6yniAGOlf5N954Uz5VgF7QNdgRnenaXxxcTAcgNQCqweLiAOwg8MmPtAz0FXspp68XQyyk9M92AYwGR9S2yWR42sGgzozUaVqRqB/yr7jiykwD1TLjqEHf2KdzTsVEjz3++AAPhdFAvjq+1JY+/PAjA0IN5Se1ZKK0tU1LuQ6kdHBf55868Y7jxVxTtVQ7mKyOxThWg1TqyFOnkc5Xg+5Rp+WnneBpGQznOlC+o85EuhJniY86dPQldHxhqP3poJmOHWoAYjQFObXW7+iwU/414Kg6IKZi+/WvHz/AOx0cSXkW63RaVyUa0eCg6qLKTgPkwbH45WWlOMVSbriCHB1Ty/npuNTyijqnlX9xUQdgWJvRuRTFLWN5/spXDKAo7a8d+/X8+lFHsK4rXadRX3VfEPdwqq/pQOGZZ52dt2EaeNa1H0K3KJ/hCHKURioIkDhG17QGCSSii3uU4i6KIc8997yBOpG2M7p+0+NUl9SRqvue2kbdP6NtU7xFCzWpwFL79aW8Ou1luenOu+7K0gEl7S/VBmmaNu3TonPSlAwSH8mPL5C1r9jhLB6qKylvifl079J9Q4P5Ea98xTkcp2s9jk/v2xGHuOsLZy2lvtCPcOX8dIBI6aiupE73q0hffrmvsKu5pocryNE9TNMwRPoqI7XH4q37ctoep2U6VFus8xstQY7iqrXd0bGlnJ4J4pxVf9QO6V790EMPD7r2FGYyCHJ07euepMHihW6ZRveGaPu0T88EqQt25Z5ZFFbPSxFOdUzXjtpV1a908E/XVWoJL00nfa5XXKUG4CL87373+4H09Dyja0HttNpziXjSNll5CDfUdVWrIEfx13p/KTf4FnmWH+VTFORoXzz/quz0HKVzVDtTjav1nSDiHi1Bjp69o/5E2esaLeVGUtfS8hfT8Xivi/OUBSC9U+pZ4zYXJuijkNhXFNJW0warzKMuKJ7hvAsF5/mJ9anIS7n3tZTlaD3LKh9xPSh9CXo1rbTqtZ7ZIk/yU0GOjhvt+0b6DKPn73ivlJ9OqVe05KTnv8inykP1Vc8del5Mj9N5pm4k9TrSq9RG19pmpnkstV7rc7viUr2PvJcSCJRKL902kmdF1a1IW2UaTu/3sV2+7l99z79L8mnc9EyX7p9X6DtSXY39amP0bqhnDfVH6DlcIvPYr3tcufth5Kfo6x6q4084sfSHIJoONeLXPUHW2yJ93d+OPfa4gf1Kv1w7q3QrCXLKvX8U81vqt1gob5FPPe+rb03vF3p/lsgpFe0rbKl2KI4fi3o/kudGnXO0xbXcl6MNLL4fjeR+nQpyxE3P+7LipbZJ/U5xL9c+9S+lIimtR3nJT/vDSpUv2yCwthJ4+plnsz/cfFs2f8GLYti1Na/kCwKjTUD1XvVf1wEOAhCAQCkCa6sgp0GZtQnk0tPRen5y7vtAjul3b/+6fmvxFzbzB3JzyznWvmKF7bvvflXRmPfoQ1WFG8tAN/xlsX31zMfsna+da0fv8hdbfuk/WmfDSmue3mxtWqY2WeuURmtpabLmlgZraW60pqYGa2w0a2hssIamFrPGZl9a+3zTjiZf90V+Qx7Q+iD6mTQ0+B8Rdd93dzY12+e+02DnXNVhM6dsbNtsuadNaZvlezPr0dLjoT14o29p9EQ7V79gU5o2tRktc+2F9Vbbou3Mejwfq5sabfaK1fapa++0lyxZolzYXzbZ1C54z05+pMfkafV43ps7e+2jN99lr17wjHVvONVa9tzaNvvcXvbaN+5gjXne/MB13LmAwI75/Bfzs7jt1ptt0003LXtG3mlo79/vgLL7teOKn19mr371rmuE+eY3TzbvfFljuzacdNIJdtxxJ+T7Tjvtv+w9735Xvn7PPfeaf4GWr1977dX20h12yNeH8+fIo/7J/OsUv87eaz/64Q/WOPSQQw61226/3Q44YH875XvfWWP/hw/+iN1xx5/tY/94SJ7PNECtPC666GL76te+nka1xvqRRx5u//rlfxm03Tub7U1v3st88Gdgu1iL+VCuWpbe0WkHfuAg846xslFusskmdtUvrrCNN95oUBjvaLP9D/jgoG3FH2effabt/ba9Bm2uhuNee73Vzj7rjPy6joO33a6vPnzjP/7dPvrRf4jNA/6DDz5o737PvvnvX//qKttpp1cM7NPKZz/3eXMRwKBtd9/1fzZ9+vRB20r9+MIXvmTeOVdq18C2tC7HxlquAx278yt3tfb2djvkkI+Yd5hFdGv4J554vB36sX8ctP388y8wFyrk56XzKzoX99h3v3tK2f2nnvojc5PLttVWW9pNN94wcHi5eGup33fddZd5p9ZA3KVW3viGN9gZZ5w2UD6V6rTutS4as1/84qpSUeXb9nnPu+2H3iY0NXmD3+8qxRlhxP/Yrx+X/6z2vlzL+SkBnYfa52I9jbzI1/X0wx+eatOmTR3YPJbnr0SqiV/hLrzwfFO5pe6pp+bbe/bZN6/P6fZY//jHDzUfNMt/nvOTs0zXfrVObeQnD/u0eWd92UOOOvII+/KX/3nQ/k9/5gjzDtV8W/Fe8fTTT5sPOJjaqUru68d+zQ477BNrBNH946ijPzuo3S4GUptz3nk/sd1e85riLtM56XgXb66xLza8/e1722n//SN/9vJnrILzjmf7wAcPqph+qXa5EM0aP1euXGU77bxLvr1UW/eXv/7VvCM9319L/G6tw161624D6f72ml/bjjvuOPBbK4cfcZT54Fi+7Ytf+Lwdc8xnB+3Xj2qu6Vtvvc3cikB+7B1/ut023HDDfL1cG6edS5cu8/vdgSa+5dwXPn+Mff7znxvYXSm+CPS9U77v1/N/2bbbbms3XH9dbK7ol4u31nanXGILFy70uvRh0zVRyukeETxOPvmbdvCHDxoINtL79UBEyUq5si23PQ7VNalnO7nrf3+dbbfdtrEr912IYh895GP5+h9vv9Xmzt04X0/j3X+/91d8Brj6N7+yl7/8ZYPiHYpBBB7qHirOV15xuW2wwQZxyCA/vTa1Q3VQdbGc8wEmc7Fhud35drWZajvDpSxKPZ/Xyljx13p/Gep5X3HHs9SJJxxnhx7aV8baLpfe2/u2mP30gvNszz3fGD8r+tU8y5Z7Ryr3nFUxwRI7XUxlr9zl1QN7yrWLEWAkda2W59mh6k3kq5If5fz617/OfIC87L3twAMPsO9+5z+9K8H7EPpdubYy9oc/knehiONjh37CXOCW/9x9t93ssssujl2D/EpMqrkWSj3LKoHHH3/c9n3f/iWftV72spfZHnu81sSjeK8Z7fuG7pUfPvgf8rIadOLJD71XXnD+ufaSl2yfbDVzq4p2/PEnDtqW/lBbeP5559jWW2+dbrZa63W1bXQtbeagDJb4MZKyTu9Zt992i22yydwSKVTeVMuzovo0X7LDi/e54vu4C1fssE99pmQdjNzo+fesM083Xc9F58Lfgf6h4r74vcsuu9gZp582cJ+O7UP5ei520Yp94hOH2vHHle6TifaiUly6ls4+63TbbLPNygZzwZPt8NKX5/u/+tWv2Gc+/amBsJXePwYCVVjRc9lhnzrc3NprhVDmdWITu/SSi2zLLbdYI9xY1vuRPDcqoyO5L8e9ovhep3hrvV9fcsml5mIwmzNnjr3udXuYfzyg6NZwapuu+sWVNmvW+gP70n4pbfzlL6+0V+6888B+ViCwLhFYvqLdHnjoEZsxbZq9ZPttrLnZx3hwEJjABHQvf/iRx2zFypW24w7b28wZQ48ZTGAcnBoEIFCBwL333WfTZ8ywqVOm5H30GnOSRmFg8f4J9VHot3QP6q1I+yzS9QrJDH+Xi1QmlPMX6NwKgnx9HTERp6yKAtM5PvD4C/4Vmn9t170ym3f2R7O/f64xu/PfWrL7/31K9uh3p2fz/2v97NmzNsiWnidLORvllnI6feqqnivcUs4vfPmlW8v5zdY+fdX2WfZbn8bqt6/IsuvcYs51PpXV717t01m51Zx82cM/FXULObHc4JZybn1T9vyt78zO+c5bs4Pfs0f2+q1fm+2+9ZuyN273tuyAnd+efXS3fbIDX/2+bN+d3p+96+X7ZXvt+O7stS/5bLbLtidm797tyOyzB+3ny4HZUR/+YPb/Dtg/O2e3PbOfvuYN2YW7vz773t57Z4d/9KDsiH/4cPaZD34wO+Hk07JfXv3H7M6L/pQ98Ku/ZgvueSpbtXxloJgwviwFxJcx5Uzypier6Yjia5U4Tr6+EClnEl/H69rQl9+ptQEfAMstCuirxohLX/2H85flge3pV1exvxo/vo4pTgUSx4aFAVmbKOXCYo2sdJRytfIQ99RyQZy/tslSRDmnMkq/XtRx6dc35Y4bDkvvPMmK04UoHX2hJss87f61djmnOhBfncU5ydeX17IcUM7J8kdqcSCO1RdE+ipO9afoIoysNZVyqYWc4lenCi/T7KlFDcWnfFTj9DWhTEDHl06RF/mVzrWW60D5ia+69YWevgTW13hpmtqvL0ZLufgiWHkt5U4//cw8rnL7Y6o0XbupqxRvLfVbdTT9ki/OT+eqOdjFPHVD1Wl9eSaLJMEu4pP/jW98q+TXlEPFqfTDQo7iHY4b7vlF3PrqM7UYEOchLj54vwaXOG6szj+NXxZ8SvGVJRfv3I+ga/h33XV3yfuIylntWZyjrDUM1+krRRc0DMQRcYmXrFnoOaborvcvr+M8SlnliTJIp8FQvDpG51q0SlWMX9ZiZOEovf/peP3W9kqsFJfyrK8yi+2N0v/mt04e0oqDvtZPzf8HE7VVak9qcUNZyFFbFekUpzKoNr241+m8S5VbOn1PuekCqrmmVc8ir5rqIFylNk5hVG7plAERh+7jspZWdEPFp/BhIaecxZ9inPpdKd5a251S6WibnkHiuSjOV77abj07xLaitajYXuv9ulR+ypVtue0Rh+p85Edf8RfdHcmUlmndTePV80U6JUfEp3K7za0VlHIRphyD9BhNv1G8z+t4Wf8Yqr1QPKn1gGqen1NLl5FP+TofWSMoupRFqfhrZRzp6P413PvLUM/7ijvaeR/ki6QG+cV2VtY9huNqfSeIKUWKz1nDSTvCxlSwKr9S1hAiXPi11rVanmeHqjeRp0p+lLPaXrU5pd5JZfWilHWjSm1lMU3FXeu7kOJKLWwULYalaQ3FpJZnuYhfccd9VPVBbYreZ2UR7wc/+GHeDpa61+i44TyPR3rlfFnyKFrmUX50PWoqm/S+W4xD9/liW1jNcbXUa+VJSzVt9HDbzOJ5lfpda1mr3Ym812IhJ/JSy7Ni1CM9p8labtHpfqXrqNTzr7YP1UbpXqK6GG13nKeex/WON1zLOJG/6KsoZyEnwsk6sawAFZ+/lb7eJdsr9IlEHOl7jSzipG6o9480bLl1MXAR2iCLdsFJ3NR3U6leRNixqve1PjfG+dZ6X07vFRFX6tdyv1ZexEttkvqR1J4Gv/BVX8vV62hXVf90veMgsK4TeOiRedktt/8pW7DwmXX9VMg/BMoSUP1WPVd9x0EAAhAYigAWcoavFarpCC+IgeO0nv/qt4qj3xPJQs7AifavdD17j9136oGWrXjEWmY0W8s0t5Aztdmt5DS5CkyWchpcLd3kFgjcwI1bynHDNG4Mx7Vf+lott5TjOxpcTR2WcXLft/V6ArlETGoxrbuvFbFuc3/WFOtqbLGbr59vv73iCVuyeLXN8e17bTvFXrH1VFvVY7ayo8c6O3ptwbJWW97VanOnrbDNfMn6BGjW7ZZyujyPbsfIejzahu4ea+726D3tJVu8w970r5dY6/TZvkMZwBUJLFr0rPm0Hbm1J1nViS+Ii+FK/fYXc5vhiuJqLJGUOn5t3FYLD7UPOk5fmzf6xfGS7be3qVNftHJR6TxlNeGZZ57Jv5CeOXNmpaA17/NOJpu/YIFb8mrPv7bT11XVKjWDhxJ/6Ut3yFWh1WTEp3KxBQsW+qXea1tssaXNnj2rmsNGFMYHFeyp+fNtun/hEZYRqo1QSnnld9Gzi2zW+rP8S9NtBllcqRTPSK8Dff3qg4W20UYb5V+8lbKOUSn9sd5Xa/3W17Q+EGIrV6207bfbftDXZbXk2Tu8TFZZZFlKFgW22GJzm+JK5fFytZ6frnnVtcWLn8+/Bla5V+PG+vy9o9nztcDztcTWX399z9tWw7oGFi16xstjam6lIrVWVM25VQqj69o7oG358uV+Xc/Jr+1K7ZcP3nm7k7mloWmVojXxfPyJJ/yrmBkVLcqVi0SWX8Rr7txNamrflrhVPx/gsFneNm7qbXJrq1scrNIp7z4Voj+X9ubHjtW9Q9mRlRdZe9FXpH++449V5nDdDKYynT9/gXV3d3k93m6tfLaptd0pVyKywvLQQw/l1kxkYUbX/kR3pSxZqJ257777raOzwzbzZ2E9D1dqZ4bDKNqwp59e6M+G0/J711hydtFb/lzpg+f+tU5T3iZX+0w6nPMaTtiR3F+Gk04xrJ7LxWPu3LlV38/SOOIZWPkf7jtSGk8t62E5rJJVlmK8I61rI32eLean0u9SVg/0PurCsPx5cautthryPl4p/uK+kbwLFeMaye+RPMupHvoUerb55psPKwujfd/Qc1bfc+xiz8tmFa2KpBkdqJ/PPG0buQU7lXE17ezAcWPUho5VmzmSsk651bo+3GdF1ZOZM2cM2VbK8pTe79Qm1nIvUzuzdOmSvPzH496kd+4XXliWpz+a75HVvn9UU55qr3SN6Zlk4402zt9/RvPdSnmotd6P9LlxuPflsD5UykJOynKk92uVn76EbvLnJlkg0ntPJRf9EdW0YZXiYR8E1hYCS5e9YPMeeyIfB9tqi81swzmlLXiuLfklHxColsBzzy+2J55akA9JbrvNVt7fv161hxIOAhCYxATWVgs5TFnlnbfqGFkXp6wqdT0tv+sKe/icT1tz0zJrmtZizT5lVZuLclraXJDT2j99lcQ4vmhmqiYXwvRbZfLOFCl0pJDRInGOL/qd5Sqc/u2SOMVvX5coxztJrdXDbjjT7vvLUrvwp4/asy/02kyfZuoLB8y2zbdstp7ebutY1WtLFqyyVct7fCIqnz5ruk/n4Ol3ulhnZXtmq12w093da12rXZTjfovHu3T6jvam4y61TbaTCdFIu9SZsw0CEIAABCAAAQhAoEjArRfkptwPOeQj9h//flJxN78hsM4RKCXIWedOggxPaAJpHf32t79lHz7oQxPufEsJcibcSXJCEIAABCBQMwGJhnZ51Wvy6dI+ddgn7dhjv1pzXBwIAQhUR+CZRc/Zk/6BisRmm/nUiZvM3agq8Wx1sRMKAvUhoA/0nn7mWVvgIlytb+kC8rkb901nXp8ckAoEILCuE0CQU6cSVCMdTuv5L/f1IqDfE9lCTn7eWbctuu5btuDXJ7mFnMwapriFnKkuxJGVHBfNSJTT3OJ+vyinoSHrF+fEPGnS3bjgZkCU44KcXIDT7/drcfK0Yl3he510l6f91Go77+rnbcFzXdY2pdW+8KE5NndDL4dGXzytThfbdHX6ugeXIKjbzeGsau+x5Uu6bflSF+a80G2dK3utqavXFq+eYTt98Vx7xV4H9gl/lF6elzx1/kAAAhCAAAQgAAEIDEHgrXvtnVvyOevM0+3tb997iNDshsDaTyAVO1x77dX20h12WPszTQ4nPAFZs5g3b56tWtVhxx1/gt199z35F/o33/QHtxRTndXNdQkSgpx1qbTIKwQgAIH6Enj00Xl22eWX249/fEae8Cnf+44dcMD+9c0EqUFgEhOQVZGFTy+yJW49bWO3UjxnzmzbwC37jra1rkmMmFMfZQKyqLh4yVK3qL7EFj33vM2etb5bk3Yrc1h7GmXSRAeByUEAQU6dynlyC3IkP3LVStcL9tgFR9ny/7vEGqb5NFUuypGlnGYX5bRKlONTQzXn01e5pRxXTEsY05hbynFRjh8ufY2M4sj3vx6lVrRovX9VK9Lo9PRaj1u+Wb64y82DrrSb7+mw5zrNtthyuu31+jm26xZu9can9sg8DQlyNPuVz85gbgDHLRP5vv6lw0U4K1/osvalbiFnWZc9t7TF5hzwdXvzJ/UFhRLFQQACEIAABCAAAQgMh4CmJdj11bvnh9x7z51VT8U4nDQIC4F6E0CQU2/ipFcNgRv+cKN96lOfGRT0lFO+awfsv9+gbRPlB4KciVKSnAcEIACB0Sew7XYviqW32mpL+8WVP/cpgmePfkLECAEIVCTQ2bnanvUp4yVykDhHUxuu51N+T58+zfsGptiUtjYfJ2rOhTpM4VYRJTtHgYDGbSW86fKP+jv8YwZ9yNDevtJeWLHCp7hfkYtwJB7byKcdbGurfkr4UcgaUUAAAhOMAIKcOhUoghyBbrBs1fM278Kjbdn//dxaZ/rUVC7KadKUVW0uzsmnrnJRTnPf1FVN/b4EOI0S6Eho4750OB6T+4MFMfopzk88ttr++JdV9tjCbnu+vcF63SLONtvNsD1etZ69fJtWm5l1WJffVHsb3TqRHyMjOj1uqainO3PLOC7KcVVO92oX4EiUs8pvxj51Ve/KHpv/bJPNesdXbLePfMXz0mzWuTg/H+td7bNotVnDBjt6vgbnqU7Vi2QgAAEIQAACEIDAOkOgvb3dLr30cps7d2N773v3WWfyTUYhUIlAKsi57tprbIcdXlIpOPsgUBcCJ3/7P+3008/M09pkk03suK9/zfbZ5z11SXs8EglBzvvf/z479QenjEcWSBMCEIAABNZSAiHIectb3mwnnXi8bb311mtpTskWBCYPAY3lLHthuS138UN7+yoXQ6zymQxW5+IIiSTSMbXJQ4UzrScBjTHKSpNEYG2trfkHY9OnT7WZLhJbf72Za4xB1jNvpAUBCEwsAghy6lSe6cOD1mUzRvMjTY4pq/Kz7SftUpqVi+zxS75oy/52iU9f5UKbtiZrbmu0xlyQ4+uavkpiHF+am3y7rOS4zkWCHN0gJbyRQEfaF//f/0cCnb4ft97da396uMHWn9Vq2281xV62ZattMDOztu5OF9a4GMfVrr0el8tx8nLodUVOtyzqdEuM4+ure3ILOT0uyul2MU5DZ489u7TJZr79q7bzB77s+ZpiXfOutZ4n/2BNPZ2Wdbdb1rq+tb3h62at6/WfJx4EIAABCEAAAhCAAAQgMFkIrPaO44VPP52f7habb47p9clS8Gv5eWog49lnn8unp1pvvYn/rrpo0bO2qmOVrTdzJlYP1vK6SfYgAAEI1JuA7hFzfJoRpsepN3nSgwAEIAABCEAAAhBAkFOnOjC5BTkB2YU5LkKyhkbLOp63xy/+gj1/x8XWOrXXWqbLUo5EOG4pxwU6TU0uxsmnr3JBjq9LlNPkS58YR1H026KRKMc3ymKOXKOrdrK2KdY4tTUP29DRZb0rOq1ndbf1SADl4WUVR9nIf7sYp6dfjNMjyzguyOmRIKfTBTpdbi7HLeQ8t3KmzXjbP9urPvAvnm6fWbqee8+1rrvPtxZXzXqq1jttY2ve42vWMOtF86d5hvgDAQhAAAIQgAAEIAABCEAAAhCAAAQgAAEIQAACEIAABCAAAQhAAAIQgMCkI4Agp05FPikFOa566Zn/rDXOdtNubuatz/UJZ3KzNt0r7Jkbf2RPXXOKtfQ856IcF+K4dZymFhfh+CJLOU3NvjT51FZhKSdEOf1+n6EcqXJeLEjflc9DlfW68MYXiXAUIGuQRSItEuR43rQuAU6PfIlxXIQjqzi+mPxVvfZc24629YEn2jZ7HOhRyKyO72tssmz+DdZ96/HWYh1mbjGnt3WWNe70GbNt93sxI6xBAAIQgAAEIAABCEAAAhCAAAQgAAEIQAACEIAABCAAAQhAAAIQgAAEIDApCSDIqVOxT0ZBTsef77VVV9xgbS/b3qYe9HZrcKs1LoXpIy4TNRK4ZD224oFr7eGLvmzZ4vutzXU7TW4hp1HWclpcoOOCnMb+6atkNUeWcTRdlWti+izjSIsjVY67Pt2N/nrceTKym+P/XHij5LSpV+Kb/LcLcVyMI0GOtuXWcbp6rdeXzKepWra80Xq22ttedsi3bYOtXuUHuxBHLk/L4132kC3/7T/59FvPWWfWZl2N02327ofZtJ0/2heOvxCAAAQgAAEIQAACEIAABCAAAQhAAAIQgAAEIAABCEAAAhCAAAQgAAEITFoCCHLqVPSTSZCT+RRQK2/6i71w0dXW+PQSa5u1nrXu/QabeuBbfEqn6U48V8u4536/wKX7+Qfsid9+z5b89efW2rvERTkuyNHUVW4pp8kFOY25pZw+QY5EObKak09bFYIcjyeftiqPr099k0mio1UX02Q+T1Xm1m1y6ziyjJNbxekT4kiY0+NCnMbOLuvoyOyFlm1s1p6fth3eebi1ztjII/Cpq/rz2VddFNdqW3zvb62zY6Wf3xY2Zf1NbersLTyfbXWqUSQDAQhAAAIQgAAEIAABCEAAAhCAAAQgAAEIQAACEIAABCAAAQhAAAIQgMDaSgBBTp1KZtIIclzxstSt4qw4/zfW3d7udBustbnF1pszy7r33NVm/dOHEuKpMEfWcrqs/dFbbeEN/22L//47a+haalPWa7KWKf1TV7kwpyGfukqzRjXmBnZkHUeGdqS9CUs5eQK5JqdfmNM/RVU+fZXnL8vFOJZbxenp6vF0ui1bZfb46s2t5eXvtd0P+rytt/lOHo0fLwWPxDiDBDnJKbAKAQhAAAIQgAAEIAABCEAAAhCAAAQgAAEIQAACEIAABCAAAQhAAAIQgAAECgQQ5BSAjNXPSSPIcas3C87/pT196oU2e+Z6Zs0uqHG1zPJZ02yLf/mkzXzdKxPE/YIcbYkprLS6coEtvuf7tvC2i+2FexdaY0+PTZvZYC1Tffoqn7YqX9xijuX/+63muGZGopzUKUo5CXC0rjLIp6jqdlFOt2ttXIzT22m2oGtDu7lnP7vOPmrHH7qR7fuWnXVUnxinUWqfcIUEYjM+BCAAAQhAAAIQgAAEIAABCEAAAhCAAAQgAAEIQAACEIAABCAAAQhAAAIQSAggyElgjOXqpBHkOMTe7h577Cc/t6UX/NrmNLbY4hmtttWxR9icN+xaBnG/cqbXLdW03+RWcK43a73XejuetyUPrbAld3bZske6rXvZM9aatfdNV9WU+fRQrsFxgU6TrOWEViZ8RZmLcCTI6ZuqyqP3qarMOlf7lFOt69vzzdvaFUv2sT/ZPvZEw47WmU21Hx64wD6173Z+kFvGkcMyTh8H/kIAAhCAAAQgAAEIQAACEIAABCAAAQhAAAIQgAAEIAABCEAAAhCAAAQgUDUBBDlVoxpZwMkkyMlJuTWa+b/4vS245Brb+uiP2MZvee3QAH3KqlXPn2pTZ/3SrMPnkHKhjbW22LKlc2xqz9HWsWyqvfDwjdb+1F224ql7rXPxArOudtfMZG4cp9dyYzaJIKc3N3LTYKt73LLO1FnWNmcrm7HFTjZzq1fb7Jfuac+sarGvXN5gKzs6bb3mDre802aHvXOOveP123tepeiJyIbOOiEgAAEIQAACEIAABCAAAQhAAAIQgAAEIAABCEAAAhCAAAQgAAEIQAACEIBAEECQEyTG2J90gpx+nh2Ll9mUDdavmm73qidt+dIv2+yNn7T2Jb22YukrbL3Zh9jUOW/xOJp86bGsq8N1OM9b15InbPWSJ61z2QLrXLHMejqW+zRUHR7Gp7FqnWaNbdOtbeZsa5u1pbXN3spaZm/p016tbw0tUxTCw2W2fPly92UIx6fC8qWtrdWamlvzbfyBAAQgAAEIQAACEIAABCAAAQhAAAIQgAAEIAABCEAAAhCAAAQgAAEIQAACtRBAkFMLtRqOmayCnBpQWfuKW2zJMz+2Kc2vsw02OdSFNf2CnphGSmKagTmqhpnCQByygOMWeGqNZ5jJEhwCEIAABCAAAQhAAAIQgAAEIAABCEAAAhCAAAQgAAEIQAACEIAABCAAgclDAEFOncoaQc7wQK/uXGytbRsUDpKIJnE+LZZpkQthTfixPXyFyee00ko4pqQKEvgQgAAEIAABCEAAAhCAAAQgAAEIQAACEIAABCAAAQhAAAIQgAAEIAABCIweAQQ5o8eyYkwIciriqWFnQZxTdQyIcKpGRUAIQAACEIAABCAAAQhAAAIQgAAEIAABCEAAAhCAAAQgAAEIQAACEIAABGoigCCnJmzDPwhBzvCZcQQEIAABCEAAAhCAAAQgAAEIQAACEIAABCAAAQhAAAIQgAAEIAABCEAAAhBYFwkgyKlTqSHIqRNokoEABCAAAQhAAAIQgAAEIAABCEAAAhCAAAQgAAEIQAACEIAABCAAAQhAAALjTABBTp0KAEFOnUCTDAQgAAEIQAACEIAABCAAAQhAAAIQgAAEIAABCEAAAhCAAAQgAAEIQAACEBhnAghy6lQACHLqBJpkIAABCEAAAhCAAAQgAAEIQAACEIAABCAAAQhAAAIQgAAEIAABCEAAAhCAwDgTQJBTpwJAkFMn0CQDAQhAAAIQgAAEIAABCEAAAhCAAAQgAAEIQAACEIAABCAAAQhAAAIQgAAExpkAgpw6FQCCnDqBJhkIQAACEIAABCAAAQhAAAIQgAAEIAABCEAAAhCAAAQgAAEIQAACEIAABCAwzgQQ5NSpABDk1Ak0yUAAAhCAAAQgAAEIQAACEIAABCAAAQhAAAIQgAAEIAABCEAAAhCAAAQgAIFxJoAgp04FgCCnTqBJBgIQgAAEIAABCEAAAhCAAAQgAAEIQAACEIAABCAAAQhAAAIQgAAEIAABCIwzAQQ5dSoABDl1Ak0yEIAABCAAAQhAAAIQgAAEIAABCEAAAhCAAAQgAAEIQAACEIAABCAAAQhAYJwJIMipUwEgyKkTaJKBAAQgAAEIQAACEIAABCAAAQhAAAIQgAAEIAABCEAAAhCAAAQgAAEIQAAC40wAQU6dCgBBTp1AkwwEIAABCEAAAhCAAAQgAAEIQAACEIAABCAAAQhAAAIQgAAEIAABCEAAAhAYZwIIcupUAAhy6gSaZCAAAQhAAAIQgAAEIAABCEAAAhCAAAQgAAEIQAACEIAABCAAAQhAAAIQgMA4E0CQU6cCQJBTJ9AkAwEIQAACEIAABCAAAQhAAAIQgAAEIAABCEAAAhCAAAQgAAEIQAACEIAABMaZAIKcOhUAgpw6gSYZCEAAAhCAAAQgAAEIQAACEIAABCAAAQhAAAIQgAAEIAABCEAAAhCAAAQgMM4EEOTUqQAQ5NQJNMlAAAIQgAAEIAABCEAAAhCAAAQgAAEIQAACEIAABCAAAQhAAAIQgAAEIACBcSaAIKdOBYAgp06gSQYCEIAABCAAAQhAAAIQgAAEIAABCEAAAhCAAAQgAAEIQAACEIAABCAAAQiMMwEEOXUqAAQ5dQJNMhCAAAQgAAEIQAACEIAABCAAAQhAAAIQgAAEIAABCEAAAhCAAAQgAAEIQGCcCSDIqVMBIMipE2iSgQAEIAABCEAAAhCAAAQgAAEIQAACEIAABCAAAQhAAAIQgAAEIAABCEAAAuNMAEFOnQoAQU6dQJMMBCAAAQhAAAIQgAAEIAABCEAAAhCAAAQgAAEIQAACEIAABCAAAQhAAAIQGGcCCHLqVAAIcuoEmmQgAAEIQAACEIAABCAAAQhAAAIQgAAEIAABCEAAAhCAAAQgAAEIQAACEIDAOBNAkFOnAkCQUyfQJAMBCEAAAhCAAAQgAAEIQAACEIAABCAAAQhAAAIQgAAEIAABCEAAAhCAAATGmQCCnDoVAIKcOoEmGQhAAAIQgAAEIAABCEAAAhCAAAQgAAEIQAACEIAABCAAAQhAAAIQgAAEIDDOBBDk1KkAEOTUCTTJQAACEIAABCAAAQhAAAIQgAAEIAABCEAAAhCAAAQgAAEIQAACEIAABCAAgXEmgCCnTgWAIKdOoEkGAhCAAAQgAAEIQAACEIAABCAAAQhAAAIQgAAEIAABCEAAAhCAAAQgAAEIjDMBBDl1KgAEOXUCTTIQgAAEIAABCEAAAhCAAAQgAAEIQAACEIAABCAAAQhAAAIQgAAEIAABCEBgnAkgyKlTASDIqRNokoEABCAAAQhAAAIQgAAEIAABCEAAAhCAAAQgAAEIQAACEIAABCAAAQhAAALjTABBTp0KAEFOnUCTDAQgAAEIQAACEIAABCAAAQhAAAIQgAAEIAABCEAAAhCAAAQgAAEIQAACEBhnAghy6lQACHLqBJpkIAABCEAAAhCAAAQgAAEIQAACEIAABCAAAQhAAAIQgAAEIAABCEAAAhCAwDgTQJBTpwJAkFMn0CQDAQhAAAIQgAAEIAABCEAAAhCAAAQgAAEIQAACEIAABCAAAQhAAAIQgAAExpkAgpw6FQCCnDqBJhkIQAACEIAABCAAAQhAAAIQgAAEIAABCEAAAhCAAAQgAAEIQAACEIAABCAwzgQQ5NSpABDk1Ak0yUAAAhCAAAQgAAEIQAACEIAABCAAAQhAAAIQgAAEIAABCEAAAhCAAAQgAIFxJoAgp04FUFaQk2WW9fZar/u97mu9R0tPj3V1ddmqjg5rX7HC9t13v6pyOu/Rh6oKRyAIQAACEIAABCAAAQhAAAIQgAAEIAABCEAAAhCAAAQgAAEIQAACEIAABCAAgbEhUEqQ09TYaA2+NGppaOhbd9+07tlo0Hq/S9dj22j4DS5gyUYjorUljvR0tJ6fnEQ4Wu8X5OR+CUHOShfkvBdBztpSlOQDAhCAAAQgAAEIQAACEIAABCAAAQhAAAIQgAAEIAABCEAAAhCAAAQgAAEIVCRw33332bQZM2zqlCnW0tJiTU1NJkGOxDi5KAdBTkV+Ve8sCnJ0oLaVEuTIUk53YiEHQU7VmAkIAQhAAAIQgAAEIAABCEAAAhCAAAQgAAEIQAACEIAABCAAAQhAAAIQgAAExp1AUZDT7IKc3DJOCUFOWMMJX5lP10fzZCa8hRzByi3lSJRTsJCj35qyanX/lFUIckazahEXBCAAAQhAAAIQgAAEIAABCEAAAhCAAAQgAAEIQAACEIAABCAAAQhAAAIQGFsCqSCntd9CTlGQk1vLkaWc/qmqwlfO0vXRzOmkE+Tk1nIkzOlfJMjpckFOR0eHrWhvt/e+9/1V8Z336ENVhSMQBCAAAQhAAAIQgAAEIAABCEAAAhCAAAQgAAEIQAACEIAABCAAAQhAAAIQgMDYELjv/vttxvTpNiWZsioEOSHECT/EN+ErR+n6aOZwwglyBCemrUr9XIjjVnKyRIyTW8jx312rV1tHZ6ctWbLUjjryaFuwcOGQjBHkDImIABCAAAQgAAEIQAACEIAABCAAAQhAAAIQgAAEIAABCEAAAhCAAAQgAAEIQGDMCEj38cCDD9mMGS7IaWuzltZWa/KpqgYJcvS73zpOiG+K/lhkcHIKcmL6Ki+YAQs5LshpX9FuJxx/gv3vn+4YkjWCnCEREQACEIAABCAAAQhAAAIQgAAEIAABCEAAAhCAAAQgAAEIQAACEIAABCAAAQiMGYEVK1bYU/MX2PQQ5BSmrMqFOAhyRo9/WMZRjFpPl3yqqsRSjgQ53d3duYWclT5l1WWXX2FnnnnWkGKJzvEAAAlkSURBVJlBkDMkIgJAAAIQgAAEIAABCEAAAhCAAAQgAAEIQAACEIAABCAAAQhAAAIQgAAEIACBMSMwf8ECk9Zjmqascgs5zc3N1tTUlFvIaegX4qTTVckyTljHUabS9dHO5IS2kCNYqRhH672JGCefskqCHF9W+7RVK1eusvvvu89O+f6p9sgjj1RkjSCnIh52QgACEIAABCAAAQhAAAIQgAAEIAABCEAAAhCAAAQgAAEIQAACEIAABCAAgTEjIJ3Hgz5d1dRp02zatKnW6tNVNbsYJwQ5uRCnYB0HQc4Ii0PCm3BFQU6IciTGyXyRLws5XV1dtqqjw9rbV9pNN95kF118iT355JMRzRo+gpw1kLABAhCAAAQgAAEIQAACEIAABCAAAQhAAAIQgAAEIAABCEAAAhCAAAQgAAEI1IXAQw89bF2u95g+fZpNnTLFWny6KlnIGRDilBHjpFZx0vXRzvTksJAjaol1nFyU0y/GkcUcTVslQY7UU6tWdeTmjP7nllvsyiuvKmspB0HOaFdF4oMABCAAAQhAAAIQgAAEIAABCEAAAhCAAAQgAAEIQAACEIAABCAAAQhAAAKVCUjb8ei8x2x1Z2c+VdXUqVNy6zgS5OTWcXxaKolyBqaq6hfm+PxU1uBRpyKcdL1yqsPfOyEFOcIQVnJSX+sDYhyt94tyetyXKKfbRTkdXmAdq1bZShfmPOzTVt13771291332JNPPWULFy4cIIwgZwAFKxCAAAQgAAEIQAACEIAABCAAAQhAAAIQgAAEIAABCEAAAhCAAAQgAAEIQGDMCEjTsWLFCnt+8WJ77vnnrbWl1aa5EGfK1Kk2pa3NmvvFOE0hxOkX4QyIciTG8UWu6I9Vpie8IEfgQoiT+vmUVbKak4py3JTRai0S5fj0VRLndPoi6zldXd15WI8t/99XIC7qGauSIV4IQAACEIAABCAAAQhAAAIQgAAEIAABCEAAAhCAAAQgAAEIQAACEIAABCAwyQj0y2b6zjr/0WfxpqWlOZ+Wqs0FOBLhTPFpqlrdb/Vpqpq09ItxQoQTvgQ46RI4Q5gTv0fbn1yCHKc3IMqRECexkqP1XlnJ6Z++qmt13xRWq7tWW77uopws6/WlrwgGpDgocka7ThIfBCAAAQhAAAIQgAAEIAABCEAAAhCAAAQgAAEIQAACEIAABCAAAQhAAAKTlUCfIsenlwqLNrJq0+hWcVqspbUlt47T2tqar2uaquamJmvU4sKbXITTbx2nwf0BIY6zjPXAiiAnSAzTl/AmXKwPiHEkxJEAx0U5ua/f/QKdEOXI3FGXW8vpdss43bnfZR7aXMXjf1+MO9LAhwAEIAABCEAAAhCAAAQgAAEIQAACEIAABCAAAQhAAAIQgAAEIAABCEAAAhAYPQK5KKfRhTYuztG0VM1uCadZlnJkEcdFOKkYRwIciXIktCllHUe5SkU46fro5fjFmCashRydYghxYj0X5PRvz9dLCHJygY6LcSTWkSgn931dlnP8Ry7FGZDjJKIfpYGDAAQgAAEIQAACEIAABCAAAQhAAAIQgAAEIAABCEAAAhCAAAQgAAEIQAACEBghARfVyOlvvuZiG4lvYloqiXEkupFlnFyAIyFOIsgZb+s4ed5dgDKgL9GGieTSU4t1+aWWmL5K+/Lpq0KsI98XbfMDX7SNo9/uJiy8iVQROBcIQAACEIAABCAAAQhAAAIQgAAEIAABCEAAAhCAAAQgAAEIQAACEIAABNYJAn1SHM9qIsrRem79RqIbX8IKTljEGSTGkTinsOjEU4s46fpYQZnQFnIELYQ4sZ4LaCSsKbHkohxt7xfjKKws5AwIcbSvLyL9RYyTU+APBCAAAQhAAAIQgAAEIAABCEAAAhCAAAQgAAEIQAACEIAABCAAAQhAAAIQGD0CqSgnX5fARtFLmCNBTr7aZxUnF+cUBDghyFH4CBu5q4cYJ8+qC1MmtJGX9PRiPfW1XnERpf4w+ar+yPVjm9Dw+s6UvxCAAAQgAAEIQAACEIAABCAAAQhAAAIQgAAEIAABCEAAAhCAAAQgAAEIQKAuBHLhjVJyMU3u5X/7LdwkApsQ3ZTz82Mjjn4/3dYf7Zh5E95CjsiFACddz0U4fRvWFOQUtg86rn+fvHCIcoIEPgQgAAEIQAACEIAABCAAAQhAAAIQgAAEIAABCEAAAhCAAAQgAAEIQAACEKiNwIAYJw7vF+DoZ1i2CQFOav0mtuVhEtFOelxxXb/H0k0KQY4AlhPlxL6SAp2+nWtOU1XBqBDiHEHDQQACEIAABCAAAQhAAAIQgAAEIAABCEAAAhCAAAQgAAEIQAACEIAABCAAgaEJrCHCSQ9JBDkhwAk/RDhr/Pbjc2FO4ivK2Kb1erhJKcgR2BDopH4uptH0VH0BXgwTv+XLIcjp48BfCEAAAhCAAAQgAAEIQAACEIAABCAAAQhAAAIQgAAEIAABCEAAAhCAAAQgMAICQwlyFHUeJhHnpJZwUkFOHtbDpX7+w/8gyAkSY+CH+Caijt8DAhztSAQ5fT/7bN5EmDg235f+YB0CEIAABCAAAQhAAAIQgAAEIAABCEAAAhCAAAQgAAEIQAACEIAABCAAAQhAYMQE1hDpFMU4SiG2Ff181+AY6i3GybPnopQ+xYl+TQJXPN30d6yn4pt0XXgGYE0ubJOgZnCKEIAABCAAAQhAAAIQgAAEIAABCEAAAhCAAAQgAAEIQAACEIAABCAAAQisNQTC0k2aoRDfaFuyngpu0vW+YIPFOWl0Y7k+aaasSiGG8KbctuL+4u84bkCcow0IdAILPgQgAAEIQAACEIAABCAAAQhAAAIQgAAEIAABCEAAAhCAAAQgAAEIQAACEBgegX4Bjg4qJ6GpJLYp7svjSeIcXmZGHnpSCnICWymhTXFb0UJOHIsPAQhAAAIQgAAEIAABCEAAAhCAAAQgAAEIQAACEIAABCAAAQhAAAIQgAAEIFBHAolVnEh1bRPiDOTLBSiDDL3EjsniVzr9SvuCz6SGFxDwIQABCEAAAhCAAAQgAAEIQAACEIAABCAAAQhAAAIQgAAEIAABCEAAAhCAwCgQKGcdJ426lAgn9lfaF2Hq4U9qCzkp4GrENwpfbbg0btYhAAEIQAACEIAABCAAAQhAAAIQgAAEIAABCEAAAhCAAAQgAAEIQAACEIAABIZPoFqBTbXhhp+D2o74/4mYSq4sN4fvAAAAAElFTkSuQmCC)"
      ],
      "metadata": {
        "id": "17165leeBTPj"
      }
    },
    {
      "cell_type": "code",
      "source": [],
      "metadata": {
        "id": "y6KMxdTOhfJe"
      },
      "execution_count": 82,
      "outputs": []
    }
  ]
}