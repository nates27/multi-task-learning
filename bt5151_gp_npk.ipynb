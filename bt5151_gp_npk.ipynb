{
  "metadata": {
    "kernelspec": {
      "language": "python",
      "display_name": "Python 3",
      "name": "python3"
    },
    "language_info": {
      "name": "python",
      "version": "3.7.12",
      "mimetype": "text/x-python",
      "codemirror_mode": {
        "name": "ipython",
        "version": 3
      },
      "pygments_lexer": "ipython3",
      "nbconvert_exporter": "python",
      "file_extension": ".py"
    },
    "colab": {
      "provenance": [],
      "gpuType": "T4",
      "include_colab_link": true
    },
    "gpuClass": "standard",
    "widgets": {
      "application/vnd.jupyter.widget-state+json": {
        "f41161f6275b4193b55efe0f7ad7f6d5": {
          "model_module": "@jupyter-widgets/controls",
          "model_name": "HBoxModel",
          "model_module_version": "1.5.0",
          "state": {
            "_dom_classes": [],
            "_model_module": "@jupyter-widgets/controls",
            "_model_module_version": "1.5.0",
            "_model_name": "HBoxModel",
            "_view_count": null,
            "_view_module": "@jupyter-widgets/controls",
            "_view_module_version": "1.5.0",
            "_view_name": "HBoxView",
            "box_style": "",
            "children": [
              "IPY_MODEL_d88aa9bc161a41b3a4382ad2cae4fdc3",
              "IPY_MODEL_903e7019d88a42f1b931c7c3969b41e6",
              "IPY_MODEL_ac38929b60cb4ebeb8bdd86df114df33"
            ],
            "layout": "IPY_MODEL_153ae3c915434f60bdfdd7e37a6a928b"
          }
        },
        "d88aa9bc161a41b3a4382ad2cae4fdc3": {
          "model_module": "@jupyter-widgets/controls",
          "model_name": "HTMLModel",
          "model_module_version": "1.5.0",
          "state": {
            "_dom_classes": [],
            "_model_module": "@jupyter-widgets/controls",
            "_model_module_version": "1.5.0",
            "_model_name": "HTMLModel",
            "_view_count": null,
            "_view_module": "@jupyter-widgets/controls",
            "_view_module_version": "1.5.0",
            "_view_name": "HTMLView",
            "description": "",
            "description_tooltip": null,
            "layout": "IPY_MODEL_bd0f94ddd7024aa5bd3b14d8dcef3af5",
            "placeholder": "​",
            "style": "IPY_MODEL_55cb1424835b406ba5787d9ce0616845",
            "value": "Downloading (…)olve/main/vocab.json: 100%"
          }
        },
        "903e7019d88a42f1b931c7c3969b41e6": {
          "model_module": "@jupyter-widgets/controls",
          "model_name": "FloatProgressModel",
          "model_module_version": "1.5.0",
          "state": {
            "_dom_classes": [],
            "_model_module": "@jupyter-widgets/controls",
            "_model_module_version": "1.5.0",
            "_model_name": "FloatProgressModel",
            "_view_count": null,
            "_view_module": "@jupyter-widgets/controls",
            "_view_module_version": "1.5.0",
            "_view_name": "ProgressView",
            "bar_style": "success",
            "description": "",
            "description_tooltip": null,
            "layout": "IPY_MODEL_cd035bee9342478180fcfa2416de103c",
            "max": 898823,
            "min": 0,
            "orientation": "horizontal",
            "style": "IPY_MODEL_2a5b31bcdc984b5d909fac6ddad1f23b",
            "value": 898823
          }
        },
        "ac38929b60cb4ebeb8bdd86df114df33": {
          "model_module": "@jupyter-widgets/controls",
          "model_name": "HTMLModel",
          "model_module_version": "1.5.0",
          "state": {
            "_dom_classes": [],
            "_model_module": "@jupyter-widgets/controls",
            "_model_module_version": "1.5.0",
            "_model_name": "HTMLModel",
            "_view_count": null,
            "_view_module": "@jupyter-widgets/controls",
            "_view_module_version": "1.5.0",
            "_view_name": "HTMLView",
            "description": "",
            "description_tooltip": null,
            "layout": "IPY_MODEL_9cc6b009e9794d3899243d91663144de",
            "placeholder": "​",
            "style": "IPY_MODEL_a2b7c0f476484d5da3531a8403166ca2",
            "value": " 899k/899k [00:00&lt;00:00, 2.13MB/s]"
          }
        },
        "153ae3c915434f60bdfdd7e37a6a928b": {
          "model_module": "@jupyter-widgets/base",
          "model_name": "LayoutModel",
          "model_module_version": "1.2.0",
          "state": {
            "_model_module": "@jupyter-widgets/base",
            "_model_module_version": "1.2.0",
            "_model_name": "LayoutModel",
            "_view_count": null,
            "_view_module": "@jupyter-widgets/base",
            "_view_module_version": "1.2.0",
            "_view_name": "LayoutView",
            "align_content": null,
            "align_items": null,
            "align_self": null,
            "border": null,
            "bottom": null,
            "display": null,
            "flex": null,
            "flex_flow": null,
            "grid_area": null,
            "grid_auto_columns": null,
            "grid_auto_flow": null,
            "grid_auto_rows": null,
            "grid_column": null,
            "grid_gap": null,
            "grid_row": null,
            "grid_template_areas": null,
            "grid_template_columns": null,
            "grid_template_rows": null,
            "height": null,
            "justify_content": null,
            "justify_items": null,
            "left": null,
            "margin": null,
            "max_height": null,
            "max_width": null,
            "min_height": null,
            "min_width": null,
            "object_fit": null,
            "object_position": null,
            "order": null,
            "overflow": null,
            "overflow_x": null,
            "overflow_y": null,
            "padding": null,
            "right": null,
            "top": null,
            "visibility": null,
            "width": null
          }
        },
        "bd0f94ddd7024aa5bd3b14d8dcef3af5": {
          "model_module": "@jupyter-widgets/base",
          "model_name": "LayoutModel",
          "model_module_version": "1.2.0",
          "state": {
            "_model_module": "@jupyter-widgets/base",
            "_model_module_version": "1.2.0",
            "_model_name": "LayoutModel",
            "_view_count": null,
            "_view_module": "@jupyter-widgets/base",
            "_view_module_version": "1.2.0",
            "_view_name": "LayoutView",
            "align_content": null,
            "align_items": null,
            "align_self": null,
            "border": null,
            "bottom": null,
            "display": null,
            "flex": null,
            "flex_flow": null,
            "grid_area": null,
            "grid_auto_columns": null,
            "grid_auto_flow": null,
            "grid_auto_rows": null,
            "grid_column": null,
            "grid_gap": null,
            "grid_row": null,
            "grid_template_areas": null,
            "grid_template_columns": null,
            "grid_template_rows": null,
            "height": null,
            "justify_content": null,
            "justify_items": null,
            "left": null,
            "margin": null,
            "max_height": null,
            "max_width": null,
            "min_height": null,
            "min_width": null,
            "object_fit": null,
            "object_position": null,
            "order": null,
            "overflow": null,
            "overflow_x": null,
            "overflow_y": null,
            "padding": null,
            "right": null,
            "top": null,
            "visibility": null,
            "width": null
          }
        },
        "55cb1424835b406ba5787d9ce0616845": {
          "model_module": "@jupyter-widgets/controls",
          "model_name": "DescriptionStyleModel",
          "model_module_version": "1.5.0",
          "state": {
            "_model_module": "@jupyter-widgets/controls",
            "_model_module_version": "1.5.0",
            "_model_name": "DescriptionStyleModel",
            "_view_count": null,
            "_view_module": "@jupyter-widgets/base",
            "_view_module_version": "1.2.0",
            "_view_name": "StyleView",
            "description_width": ""
          }
        },
        "cd035bee9342478180fcfa2416de103c": {
          "model_module": "@jupyter-widgets/base",
          "model_name": "LayoutModel",
          "model_module_version": "1.2.0",
          "state": {
            "_model_module": "@jupyter-widgets/base",
            "_model_module_version": "1.2.0",
            "_model_name": "LayoutModel",
            "_view_count": null,
            "_view_module": "@jupyter-widgets/base",
            "_view_module_version": "1.2.0",
            "_view_name": "LayoutView",
            "align_content": null,
            "align_items": null,
            "align_self": null,
            "border": null,
            "bottom": null,
            "display": null,
            "flex": null,
            "flex_flow": null,
            "grid_area": null,
            "grid_auto_columns": null,
            "grid_auto_flow": null,
            "grid_auto_rows": null,
            "grid_column": null,
            "grid_gap": null,
            "grid_row": null,
            "grid_template_areas": null,
            "grid_template_columns": null,
            "grid_template_rows": null,
            "height": null,
            "justify_content": null,
            "justify_items": null,
            "left": null,
            "margin": null,
            "max_height": null,
            "max_width": null,
            "min_height": null,
            "min_width": null,
            "object_fit": null,
            "object_position": null,
            "order": null,
            "overflow": null,
            "overflow_x": null,
            "overflow_y": null,
            "padding": null,
            "right": null,
            "top": null,
            "visibility": null,
            "width": null
          }
        },
        "2a5b31bcdc984b5d909fac6ddad1f23b": {
          "model_module": "@jupyter-widgets/controls",
          "model_name": "ProgressStyleModel",
          "model_module_version": "1.5.0",
          "state": {
            "_model_module": "@jupyter-widgets/controls",
            "_model_module_version": "1.5.0",
            "_model_name": "ProgressStyleModel",
            "_view_count": null,
            "_view_module": "@jupyter-widgets/base",
            "_view_module_version": "1.2.0",
            "_view_name": "StyleView",
            "bar_color": null,
            "description_width": ""
          }
        },
        "9cc6b009e9794d3899243d91663144de": {
          "model_module": "@jupyter-widgets/base",
          "model_name": "LayoutModel",
          "model_module_version": "1.2.0",
          "state": {
            "_model_module": "@jupyter-widgets/base",
            "_model_module_version": "1.2.0",
            "_model_name": "LayoutModel",
            "_view_count": null,
            "_view_module": "@jupyter-widgets/base",
            "_view_module_version": "1.2.0",
            "_view_name": "LayoutView",
            "align_content": null,
            "align_items": null,
            "align_self": null,
            "border": null,
            "bottom": null,
            "display": null,
            "flex": null,
            "flex_flow": null,
            "grid_area": null,
            "grid_auto_columns": null,
            "grid_auto_flow": null,
            "grid_auto_rows": null,
            "grid_column": null,
            "grid_gap": null,
            "grid_row": null,
            "grid_template_areas": null,
            "grid_template_columns": null,
            "grid_template_rows": null,
            "height": null,
            "justify_content": null,
            "justify_items": null,
            "left": null,
            "margin": null,
            "max_height": null,
            "max_width": null,
            "min_height": null,
            "min_width": null,
            "object_fit": null,
            "object_position": null,
            "order": null,
            "overflow": null,
            "overflow_x": null,
            "overflow_y": null,
            "padding": null,
            "right": null,
            "top": null,
            "visibility": null,
            "width": null
          }
        },
        "a2b7c0f476484d5da3531a8403166ca2": {
          "model_module": "@jupyter-widgets/controls",
          "model_name": "DescriptionStyleModel",
          "model_module_version": "1.5.0",
          "state": {
            "_model_module": "@jupyter-widgets/controls",
            "_model_module_version": "1.5.0",
            "_model_name": "DescriptionStyleModel",
            "_view_count": null,
            "_view_module": "@jupyter-widgets/base",
            "_view_module_version": "1.2.0",
            "_view_name": "StyleView",
            "description_width": ""
          }
        },
        "2bde258499bf4bd394a1328a5a53f142": {
          "model_module": "@jupyter-widgets/controls",
          "model_name": "HBoxModel",
          "model_module_version": "1.5.0",
          "state": {
            "_dom_classes": [],
            "_model_module": "@jupyter-widgets/controls",
            "_model_module_version": "1.5.0",
            "_model_name": "HBoxModel",
            "_view_count": null,
            "_view_module": "@jupyter-widgets/controls",
            "_view_module_version": "1.5.0",
            "_view_name": "HBoxView",
            "box_style": "",
            "children": [
              "IPY_MODEL_0e161f906488479fb66b34ee89fe344d",
              "IPY_MODEL_370c51189408403f9915d7c56596bd08",
              "IPY_MODEL_e137bd2c43574c159d59a3417b34b5f0"
            ],
            "layout": "IPY_MODEL_3d3c919a778948b68ba4d062914fa094"
          }
        },
        "0e161f906488479fb66b34ee89fe344d": {
          "model_module": "@jupyter-widgets/controls",
          "model_name": "HTMLModel",
          "model_module_version": "1.5.0",
          "state": {
            "_dom_classes": [],
            "_model_module": "@jupyter-widgets/controls",
            "_model_module_version": "1.5.0",
            "_model_name": "HTMLModel",
            "_view_count": null,
            "_view_module": "@jupyter-widgets/controls",
            "_view_module_version": "1.5.0",
            "_view_name": "HTMLView",
            "description": "",
            "description_tooltip": null,
            "layout": "IPY_MODEL_fa4113c9711d4be78f99c2f3d4c44b4f",
            "placeholder": "​",
            "style": "IPY_MODEL_1dc94fbec6244a8c9966acc7679fe480",
            "value": "Downloading (…)olve/main/merges.txt: 100%"
          }
        },
        "370c51189408403f9915d7c56596bd08": {
          "model_module": "@jupyter-widgets/controls",
          "model_name": "FloatProgressModel",
          "model_module_version": "1.5.0",
          "state": {
            "_dom_classes": [],
            "_model_module": "@jupyter-widgets/controls",
            "_model_module_version": "1.5.0",
            "_model_name": "FloatProgressModel",
            "_view_count": null,
            "_view_module": "@jupyter-widgets/controls",
            "_view_module_version": "1.5.0",
            "_view_name": "ProgressView",
            "bar_style": "success",
            "description": "",
            "description_tooltip": null,
            "layout": "IPY_MODEL_7912cb9a302943aab4ad2021ba9ba022",
            "max": 456318,
            "min": 0,
            "orientation": "horizontal",
            "style": "IPY_MODEL_a2150d9913cc426ea1c96cc86c6ceb9f",
            "value": 456318
          }
        },
        "e137bd2c43574c159d59a3417b34b5f0": {
          "model_module": "@jupyter-widgets/controls",
          "model_name": "HTMLModel",
          "model_module_version": "1.5.0",
          "state": {
            "_dom_classes": [],
            "_model_module": "@jupyter-widgets/controls",
            "_model_module_version": "1.5.0",
            "_model_name": "HTMLModel",
            "_view_count": null,
            "_view_module": "@jupyter-widgets/controls",
            "_view_module_version": "1.5.0",
            "_view_name": "HTMLView",
            "description": "",
            "description_tooltip": null,
            "layout": "IPY_MODEL_53cfc299516844bbbf86cae84273d702",
            "placeholder": "​",
            "style": "IPY_MODEL_da2ce1900a334819a9cd52d66d114e8e",
            "value": " 456k/456k [00:00&lt;00:00, 726kB/s]"
          }
        },
        "3d3c919a778948b68ba4d062914fa094": {
          "model_module": "@jupyter-widgets/base",
          "model_name": "LayoutModel",
          "model_module_version": "1.2.0",
          "state": {
            "_model_module": "@jupyter-widgets/base",
            "_model_module_version": "1.2.0",
            "_model_name": "LayoutModel",
            "_view_count": null,
            "_view_module": "@jupyter-widgets/base",
            "_view_module_version": "1.2.0",
            "_view_name": "LayoutView",
            "align_content": null,
            "align_items": null,
            "align_self": null,
            "border": null,
            "bottom": null,
            "display": null,
            "flex": null,
            "flex_flow": null,
            "grid_area": null,
            "grid_auto_columns": null,
            "grid_auto_flow": null,
            "grid_auto_rows": null,
            "grid_column": null,
            "grid_gap": null,
            "grid_row": null,
            "grid_template_areas": null,
            "grid_template_columns": null,
            "grid_template_rows": null,
            "height": null,
            "justify_content": null,
            "justify_items": null,
            "left": null,
            "margin": null,
            "max_height": null,
            "max_width": null,
            "min_height": null,
            "min_width": null,
            "object_fit": null,
            "object_position": null,
            "order": null,
            "overflow": null,
            "overflow_x": null,
            "overflow_y": null,
            "padding": null,
            "right": null,
            "top": null,
            "visibility": null,
            "width": null
          }
        },
        "fa4113c9711d4be78f99c2f3d4c44b4f": {
          "model_module": "@jupyter-widgets/base",
          "model_name": "LayoutModel",
          "model_module_version": "1.2.0",
          "state": {
            "_model_module": "@jupyter-widgets/base",
            "_model_module_version": "1.2.0",
            "_model_name": "LayoutModel",
            "_view_count": null,
            "_view_module": "@jupyter-widgets/base",
            "_view_module_version": "1.2.0",
            "_view_name": "LayoutView",
            "align_content": null,
            "align_items": null,
            "align_self": null,
            "border": null,
            "bottom": null,
            "display": null,
            "flex": null,
            "flex_flow": null,
            "grid_area": null,
            "grid_auto_columns": null,
            "grid_auto_flow": null,
            "grid_auto_rows": null,
            "grid_column": null,
            "grid_gap": null,
            "grid_row": null,
            "grid_template_areas": null,
            "grid_template_columns": null,
            "grid_template_rows": null,
            "height": null,
            "justify_content": null,
            "justify_items": null,
            "left": null,
            "margin": null,
            "max_height": null,
            "max_width": null,
            "min_height": null,
            "min_width": null,
            "object_fit": null,
            "object_position": null,
            "order": null,
            "overflow": null,
            "overflow_x": null,
            "overflow_y": null,
            "padding": null,
            "right": null,
            "top": null,
            "visibility": null,
            "width": null
          }
        },
        "1dc94fbec6244a8c9966acc7679fe480": {
          "model_module": "@jupyter-widgets/controls",
          "model_name": "DescriptionStyleModel",
          "model_module_version": "1.5.0",
          "state": {
            "_model_module": "@jupyter-widgets/controls",
            "_model_module_version": "1.5.0",
            "_model_name": "DescriptionStyleModel",
            "_view_count": null,
            "_view_module": "@jupyter-widgets/base",
            "_view_module_version": "1.2.0",
            "_view_name": "StyleView",
            "description_width": ""
          }
        },
        "7912cb9a302943aab4ad2021ba9ba022": {
          "model_module": "@jupyter-widgets/base",
          "model_name": "LayoutModel",
          "model_module_version": "1.2.0",
          "state": {
            "_model_module": "@jupyter-widgets/base",
            "_model_module_version": "1.2.0",
            "_model_name": "LayoutModel",
            "_view_count": null,
            "_view_module": "@jupyter-widgets/base",
            "_view_module_version": "1.2.0",
            "_view_name": "LayoutView",
            "align_content": null,
            "align_items": null,
            "align_self": null,
            "border": null,
            "bottom": null,
            "display": null,
            "flex": null,
            "flex_flow": null,
            "grid_area": null,
            "grid_auto_columns": null,
            "grid_auto_flow": null,
            "grid_auto_rows": null,
            "grid_column": null,
            "grid_gap": null,
            "grid_row": null,
            "grid_template_areas": null,
            "grid_template_columns": null,
            "grid_template_rows": null,
            "height": null,
            "justify_content": null,
            "justify_items": null,
            "left": null,
            "margin": null,
            "max_height": null,
            "max_width": null,
            "min_height": null,
            "min_width": null,
            "object_fit": null,
            "object_position": null,
            "order": null,
            "overflow": null,
            "overflow_x": null,
            "overflow_y": null,
            "padding": null,
            "right": null,
            "top": null,
            "visibility": null,
            "width": null
          }
        },
        "a2150d9913cc426ea1c96cc86c6ceb9f": {
          "model_module": "@jupyter-widgets/controls",
          "model_name": "ProgressStyleModel",
          "model_module_version": "1.5.0",
          "state": {
            "_model_module": "@jupyter-widgets/controls",
            "_model_module_version": "1.5.0",
            "_model_name": "ProgressStyleModel",
            "_view_count": null,
            "_view_module": "@jupyter-widgets/base",
            "_view_module_version": "1.2.0",
            "_view_name": "StyleView",
            "bar_color": null,
            "description_width": ""
          }
        },
        "53cfc299516844bbbf86cae84273d702": {
          "model_module": "@jupyter-widgets/base",
          "model_name": "LayoutModel",
          "model_module_version": "1.2.0",
          "state": {
            "_model_module": "@jupyter-widgets/base",
            "_model_module_version": "1.2.0",
            "_model_name": "LayoutModel",
            "_view_count": null,
            "_view_module": "@jupyter-widgets/base",
            "_view_module_version": "1.2.0",
            "_view_name": "LayoutView",
            "align_content": null,
            "align_items": null,
            "align_self": null,
            "border": null,
            "bottom": null,
            "display": null,
            "flex": null,
            "flex_flow": null,
            "grid_area": null,
            "grid_auto_columns": null,
            "grid_auto_flow": null,
            "grid_auto_rows": null,
            "grid_column": null,
            "grid_gap": null,
            "grid_row": null,
            "grid_template_areas": null,
            "grid_template_columns": null,
            "grid_template_rows": null,
            "height": null,
            "justify_content": null,
            "justify_items": null,
            "left": null,
            "margin": null,
            "max_height": null,
            "max_width": null,
            "min_height": null,
            "min_width": null,
            "object_fit": null,
            "object_position": null,
            "order": null,
            "overflow": null,
            "overflow_x": null,
            "overflow_y": null,
            "padding": null,
            "right": null,
            "top": null,
            "visibility": null,
            "width": null
          }
        },
        "da2ce1900a334819a9cd52d66d114e8e": {
          "model_module": "@jupyter-widgets/controls",
          "model_name": "DescriptionStyleModel",
          "model_module_version": "1.5.0",
          "state": {
            "_model_module": "@jupyter-widgets/controls",
            "_model_module_version": "1.5.0",
            "_model_name": "DescriptionStyleModel",
            "_view_count": null,
            "_view_module": "@jupyter-widgets/base",
            "_view_module_version": "1.2.0",
            "_view_name": "StyleView",
            "description_width": ""
          }
        },
        "aacc144823684a71abd42cd593b18602": {
          "model_module": "@jupyter-widgets/controls",
          "model_name": "HBoxModel",
          "model_module_version": "1.5.0",
          "state": {
            "_dom_classes": [],
            "_model_module": "@jupyter-widgets/controls",
            "_model_module_version": "1.5.0",
            "_model_name": "HBoxModel",
            "_view_count": null,
            "_view_module": "@jupyter-widgets/controls",
            "_view_module_version": "1.5.0",
            "_view_name": "HBoxView",
            "box_style": "",
            "children": [
              "IPY_MODEL_4247bb95e3b846b2a38269d1b98b2908",
              "IPY_MODEL_b9bb193c01e84641a50530aa6869d413",
              "IPY_MODEL_ff8f31a09d8249caaba5058f182c3f04"
            ],
            "layout": "IPY_MODEL_56ac9f3e481545378233a99ee5e9bfef"
          }
        },
        "4247bb95e3b846b2a38269d1b98b2908": {
          "model_module": "@jupyter-widgets/controls",
          "model_name": "HTMLModel",
          "model_module_version": "1.5.0",
          "state": {
            "_dom_classes": [],
            "_model_module": "@jupyter-widgets/controls",
            "_model_module_version": "1.5.0",
            "_model_name": "HTMLModel",
            "_view_count": null,
            "_view_module": "@jupyter-widgets/controls",
            "_view_module_version": "1.5.0",
            "_view_name": "HTMLView",
            "description": "",
            "description_tooltip": null,
            "layout": "IPY_MODEL_c13d91b8566f4897b90affb53f6474ae",
            "placeholder": "​",
            "style": "IPY_MODEL_5a2c6fc38a404a3cbc2dad73ebb7db03",
            "value": "Downloading (…)lve/main/config.json: 100%"
          }
        },
        "b9bb193c01e84641a50530aa6869d413": {
          "model_module": "@jupyter-widgets/controls",
          "model_name": "FloatProgressModel",
          "model_module_version": "1.5.0",
          "state": {
            "_dom_classes": [],
            "_model_module": "@jupyter-widgets/controls",
            "_model_module_version": "1.5.0",
            "_model_name": "FloatProgressModel",
            "_view_count": null,
            "_view_module": "@jupyter-widgets/controls",
            "_view_module_version": "1.5.0",
            "_view_name": "ProgressView",
            "bar_style": "success",
            "description": "",
            "description_tooltip": null,
            "layout": "IPY_MODEL_984d8f14c3d644dab5fd4f84bd8372f3",
            "max": 481,
            "min": 0,
            "orientation": "horizontal",
            "style": "IPY_MODEL_04a9699fde594519965b3b6c502fc047",
            "value": 481
          }
        },
        "ff8f31a09d8249caaba5058f182c3f04": {
          "model_module": "@jupyter-widgets/controls",
          "model_name": "HTMLModel",
          "model_module_version": "1.5.0",
          "state": {
            "_dom_classes": [],
            "_model_module": "@jupyter-widgets/controls",
            "_model_module_version": "1.5.0",
            "_model_name": "HTMLModel",
            "_view_count": null,
            "_view_module": "@jupyter-widgets/controls",
            "_view_module_version": "1.5.0",
            "_view_name": "HTMLView",
            "description": "",
            "description_tooltip": null,
            "layout": "IPY_MODEL_b9761a9f005c49088a611e69d4781e75",
            "placeholder": "​",
            "style": "IPY_MODEL_42fb0c043cce496ca6bd397845fd4b09",
            "value": " 481/481 [00:00&lt;00:00, 26.5kB/s]"
          }
        },
        "56ac9f3e481545378233a99ee5e9bfef": {
          "model_module": "@jupyter-widgets/base",
          "model_name": "LayoutModel",
          "model_module_version": "1.2.0",
          "state": {
            "_model_module": "@jupyter-widgets/base",
            "_model_module_version": "1.2.0",
            "_model_name": "LayoutModel",
            "_view_count": null,
            "_view_module": "@jupyter-widgets/base",
            "_view_module_version": "1.2.0",
            "_view_name": "LayoutView",
            "align_content": null,
            "align_items": null,
            "align_self": null,
            "border": null,
            "bottom": null,
            "display": null,
            "flex": null,
            "flex_flow": null,
            "grid_area": null,
            "grid_auto_columns": null,
            "grid_auto_flow": null,
            "grid_auto_rows": null,
            "grid_column": null,
            "grid_gap": null,
            "grid_row": null,
            "grid_template_areas": null,
            "grid_template_columns": null,
            "grid_template_rows": null,
            "height": null,
            "justify_content": null,
            "justify_items": null,
            "left": null,
            "margin": null,
            "max_height": null,
            "max_width": null,
            "min_height": null,
            "min_width": null,
            "object_fit": null,
            "object_position": null,
            "order": null,
            "overflow": null,
            "overflow_x": null,
            "overflow_y": null,
            "padding": null,
            "right": null,
            "top": null,
            "visibility": null,
            "width": null
          }
        },
        "c13d91b8566f4897b90affb53f6474ae": {
          "model_module": "@jupyter-widgets/base",
          "model_name": "LayoutModel",
          "model_module_version": "1.2.0",
          "state": {
            "_model_module": "@jupyter-widgets/base",
            "_model_module_version": "1.2.0",
            "_model_name": "LayoutModel",
            "_view_count": null,
            "_view_module": "@jupyter-widgets/base",
            "_view_module_version": "1.2.0",
            "_view_name": "LayoutView",
            "align_content": null,
            "align_items": null,
            "align_self": null,
            "border": null,
            "bottom": null,
            "display": null,
            "flex": null,
            "flex_flow": null,
            "grid_area": null,
            "grid_auto_columns": null,
            "grid_auto_flow": null,
            "grid_auto_rows": null,
            "grid_column": null,
            "grid_gap": null,
            "grid_row": null,
            "grid_template_areas": null,
            "grid_template_columns": null,
            "grid_template_rows": null,
            "height": null,
            "justify_content": null,
            "justify_items": null,
            "left": null,
            "margin": null,
            "max_height": null,
            "max_width": null,
            "min_height": null,
            "min_width": null,
            "object_fit": null,
            "object_position": null,
            "order": null,
            "overflow": null,
            "overflow_x": null,
            "overflow_y": null,
            "padding": null,
            "right": null,
            "top": null,
            "visibility": null,
            "width": null
          }
        },
        "5a2c6fc38a404a3cbc2dad73ebb7db03": {
          "model_module": "@jupyter-widgets/controls",
          "model_name": "DescriptionStyleModel",
          "model_module_version": "1.5.0",
          "state": {
            "_model_module": "@jupyter-widgets/controls",
            "_model_module_version": "1.5.0",
            "_model_name": "DescriptionStyleModel",
            "_view_count": null,
            "_view_module": "@jupyter-widgets/base",
            "_view_module_version": "1.2.0",
            "_view_name": "StyleView",
            "description_width": ""
          }
        },
        "984d8f14c3d644dab5fd4f84bd8372f3": {
          "model_module": "@jupyter-widgets/base",
          "model_name": "LayoutModel",
          "model_module_version": "1.2.0",
          "state": {
            "_model_module": "@jupyter-widgets/base",
            "_model_module_version": "1.2.0",
            "_model_name": "LayoutModel",
            "_view_count": null,
            "_view_module": "@jupyter-widgets/base",
            "_view_module_version": "1.2.0",
            "_view_name": "LayoutView",
            "align_content": null,
            "align_items": null,
            "align_self": null,
            "border": null,
            "bottom": null,
            "display": null,
            "flex": null,
            "flex_flow": null,
            "grid_area": null,
            "grid_auto_columns": null,
            "grid_auto_flow": null,
            "grid_auto_rows": null,
            "grid_column": null,
            "grid_gap": null,
            "grid_row": null,
            "grid_template_areas": null,
            "grid_template_columns": null,
            "grid_template_rows": null,
            "height": null,
            "justify_content": null,
            "justify_items": null,
            "left": null,
            "margin": null,
            "max_height": null,
            "max_width": null,
            "min_height": null,
            "min_width": null,
            "object_fit": null,
            "object_position": null,
            "order": null,
            "overflow": null,
            "overflow_x": null,
            "overflow_y": null,
            "padding": null,
            "right": null,
            "top": null,
            "visibility": null,
            "width": null
          }
        },
        "04a9699fde594519965b3b6c502fc047": {
          "model_module": "@jupyter-widgets/controls",
          "model_name": "ProgressStyleModel",
          "model_module_version": "1.5.0",
          "state": {
            "_model_module": "@jupyter-widgets/controls",
            "_model_module_version": "1.5.0",
            "_model_name": "ProgressStyleModel",
            "_view_count": null,
            "_view_module": "@jupyter-widgets/base",
            "_view_module_version": "1.2.0",
            "_view_name": "StyleView",
            "bar_color": null,
            "description_width": ""
          }
        },
        "b9761a9f005c49088a611e69d4781e75": {
          "model_module": "@jupyter-widgets/base",
          "model_name": "LayoutModel",
          "model_module_version": "1.2.0",
          "state": {
            "_model_module": "@jupyter-widgets/base",
            "_model_module_version": "1.2.0",
            "_model_name": "LayoutModel",
            "_view_count": null,
            "_view_module": "@jupyter-widgets/base",
            "_view_module_version": "1.2.0",
            "_view_name": "LayoutView",
            "align_content": null,
            "align_items": null,
            "align_self": null,
            "border": null,
            "bottom": null,
            "display": null,
            "flex": null,
            "flex_flow": null,
            "grid_area": null,
            "grid_auto_columns": null,
            "grid_auto_flow": null,
            "grid_auto_rows": null,
            "grid_column": null,
            "grid_gap": null,
            "grid_row": null,
            "grid_template_areas": null,
            "grid_template_columns": null,
            "grid_template_rows": null,
            "height": null,
            "justify_content": null,
            "justify_items": null,
            "left": null,
            "margin": null,
            "max_height": null,
            "max_width": null,
            "min_height": null,
            "min_width": null,
            "object_fit": null,
            "object_position": null,
            "order": null,
            "overflow": null,
            "overflow_x": null,
            "overflow_y": null,
            "padding": null,
            "right": null,
            "top": null,
            "visibility": null,
            "width": null
          }
        },
        "42fb0c043cce496ca6bd397845fd4b09": {
          "model_module": "@jupyter-widgets/controls",
          "model_name": "DescriptionStyleModel",
          "model_module_version": "1.5.0",
          "state": {
            "_model_module": "@jupyter-widgets/controls",
            "_model_module_version": "1.5.0",
            "_model_name": "DescriptionStyleModel",
            "_view_count": null,
            "_view_module": "@jupyter-widgets/base",
            "_view_module_version": "1.2.0",
            "_view_name": "StyleView",
            "description_width": ""
          }
        },
        "bc1234e0e56a4c8a9d1b76203591eb97": {
          "model_module": "@jupyter-widgets/controls",
          "model_name": "HBoxModel",
          "model_module_version": "1.5.0",
          "state": {
            "_dom_classes": [],
            "_model_module": "@jupyter-widgets/controls",
            "_model_module_version": "1.5.0",
            "_model_name": "HBoxModel",
            "_view_count": null,
            "_view_module": "@jupyter-widgets/controls",
            "_view_module_version": "1.5.0",
            "_view_name": "HBoxView",
            "box_style": "",
            "children": [
              "IPY_MODEL_2b346b6ad60c4400932053fa53edf13c",
              "IPY_MODEL_8352302606684e6a876783d109923533",
              "IPY_MODEL_9cc5d23397aa42cabf9b6d775a85daf7"
            ],
            "layout": "IPY_MODEL_77c8a39eba1345bd995039f2860a6cfc"
          }
        },
        "2b346b6ad60c4400932053fa53edf13c": {
          "model_module": "@jupyter-widgets/controls",
          "model_name": "HTMLModel",
          "model_module_version": "1.5.0",
          "state": {
            "_dom_classes": [],
            "_model_module": "@jupyter-widgets/controls",
            "_model_module_version": "1.5.0",
            "_model_name": "HTMLModel",
            "_view_count": null,
            "_view_module": "@jupyter-widgets/controls",
            "_view_module_version": "1.5.0",
            "_view_name": "HTMLView",
            "description": "",
            "description_tooltip": null,
            "layout": "IPY_MODEL_1ffb92e689ad4182be512a3b178aedf8",
            "placeholder": "​",
            "style": "IPY_MODEL_7571cfc35098410aa5abaac5d1a2eb8e",
            "value": "Downloading (…)olve/main/vocab.json: 100%"
          }
        },
        "8352302606684e6a876783d109923533": {
          "model_module": "@jupyter-widgets/controls",
          "model_name": "FloatProgressModel",
          "model_module_version": "1.5.0",
          "state": {
            "_dom_classes": [],
            "_model_module": "@jupyter-widgets/controls",
            "_model_module_version": "1.5.0",
            "_model_name": "FloatProgressModel",
            "_view_count": null,
            "_view_module": "@jupyter-widgets/controls",
            "_view_module_version": "1.5.0",
            "_view_name": "ProgressView",
            "bar_style": "success",
            "description": "",
            "description_tooltip": null,
            "layout": "IPY_MODEL_1b75f835d51a4d56899b869a17d323d7",
            "max": 898823,
            "min": 0,
            "orientation": "horizontal",
            "style": "IPY_MODEL_8916ff31aaef41ec9752fde2f4835609",
            "value": 898823
          }
        },
        "9cc5d23397aa42cabf9b6d775a85daf7": {
          "model_module": "@jupyter-widgets/controls",
          "model_name": "HTMLModel",
          "model_module_version": "1.5.0",
          "state": {
            "_dom_classes": [],
            "_model_module": "@jupyter-widgets/controls",
            "_model_module_version": "1.5.0",
            "_model_name": "HTMLModel",
            "_view_count": null,
            "_view_module": "@jupyter-widgets/controls",
            "_view_module_version": "1.5.0",
            "_view_name": "HTMLView",
            "description": "",
            "description_tooltip": null,
            "layout": "IPY_MODEL_d2cba86518a146af8f9f34e8d6f1988e",
            "placeholder": "​",
            "style": "IPY_MODEL_2bfdc0757e3449a8a17dcc6a35255e52",
            "value": " 899k/899k [00:00&lt;00:00, 11.3MB/s]"
          }
        },
        "77c8a39eba1345bd995039f2860a6cfc": {
          "model_module": "@jupyter-widgets/base",
          "model_name": "LayoutModel",
          "model_module_version": "1.2.0",
          "state": {
            "_model_module": "@jupyter-widgets/base",
            "_model_module_version": "1.2.0",
            "_model_name": "LayoutModel",
            "_view_count": null,
            "_view_module": "@jupyter-widgets/base",
            "_view_module_version": "1.2.0",
            "_view_name": "LayoutView",
            "align_content": null,
            "align_items": null,
            "align_self": null,
            "border": null,
            "bottom": null,
            "display": null,
            "flex": null,
            "flex_flow": null,
            "grid_area": null,
            "grid_auto_columns": null,
            "grid_auto_flow": null,
            "grid_auto_rows": null,
            "grid_column": null,
            "grid_gap": null,
            "grid_row": null,
            "grid_template_areas": null,
            "grid_template_columns": null,
            "grid_template_rows": null,
            "height": null,
            "justify_content": null,
            "justify_items": null,
            "left": null,
            "margin": null,
            "max_height": null,
            "max_width": null,
            "min_height": null,
            "min_width": null,
            "object_fit": null,
            "object_position": null,
            "order": null,
            "overflow": null,
            "overflow_x": null,
            "overflow_y": null,
            "padding": null,
            "right": null,
            "top": null,
            "visibility": null,
            "width": null
          }
        },
        "1ffb92e689ad4182be512a3b178aedf8": {
          "model_module": "@jupyter-widgets/base",
          "model_name": "LayoutModel",
          "model_module_version": "1.2.0",
          "state": {
            "_model_module": "@jupyter-widgets/base",
            "_model_module_version": "1.2.0",
            "_model_name": "LayoutModel",
            "_view_count": null,
            "_view_module": "@jupyter-widgets/base",
            "_view_module_version": "1.2.0",
            "_view_name": "LayoutView",
            "align_content": null,
            "align_items": null,
            "align_self": null,
            "border": null,
            "bottom": null,
            "display": null,
            "flex": null,
            "flex_flow": null,
            "grid_area": null,
            "grid_auto_columns": null,
            "grid_auto_flow": null,
            "grid_auto_rows": null,
            "grid_column": null,
            "grid_gap": null,
            "grid_row": null,
            "grid_template_areas": null,
            "grid_template_columns": null,
            "grid_template_rows": null,
            "height": null,
            "justify_content": null,
            "justify_items": null,
            "left": null,
            "margin": null,
            "max_height": null,
            "max_width": null,
            "min_height": null,
            "min_width": null,
            "object_fit": null,
            "object_position": null,
            "order": null,
            "overflow": null,
            "overflow_x": null,
            "overflow_y": null,
            "padding": null,
            "right": null,
            "top": null,
            "visibility": null,
            "width": null
          }
        },
        "7571cfc35098410aa5abaac5d1a2eb8e": {
          "model_module": "@jupyter-widgets/controls",
          "model_name": "DescriptionStyleModel",
          "model_module_version": "1.5.0",
          "state": {
            "_model_module": "@jupyter-widgets/controls",
            "_model_module_version": "1.5.0",
            "_model_name": "DescriptionStyleModel",
            "_view_count": null,
            "_view_module": "@jupyter-widgets/base",
            "_view_module_version": "1.2.0",
            "_view_name": "StyleView",
            "description_width": ""
          }
        },
        "1b75f835d51a4d56899b869a17d323d7": {
          "model_module": "@jupyter-widgets/base",
          "model_name": "LayoutModel",
          "model_module_version": "1.2.0",
          "state": {
            "_model_module": "@jupyter-widgets/base",
            "_model_module_version": "1.2.0",
            "_model_name": "LayoutModel",
            "_view_count": null,
            "_view_module": "@jupyter-widgets/base",
            "_view_module_version": "1.2.0",
            "_view_name": "LayoutView",
            "align_content": null,
            "align_items": null,
            "align_self": null,
            "border": null,
            "bottom": null,
            "display": null,
            "flex": null,
            "flex_flow": null,
            "grid_area": null,
            "grid_auto_columns": null,
            "grid_auto_flow": null,
            "grid_auto_rows": null,
            "grid_column": null,
            "grid_gap": null,
            "grid_row": null,
            "grid_template_areas": null,
            "grid_template_columns": null,
            "grid_template_rows": null,
            "height": null,
            "justify_content": null,
            "justify_items": null,
            "left": null,
            "margin": null,
            "max_height": null,
            "max_width": null,
            "min_height": null,
            "min_width": null,
            "object_fit": null,
            "object_position": null,
            "order": null,
            "overflow": null,
            "overflow_x": null,
            "overflow_y": null,
            "padding": null,
            "right": null,
            "top": null,
            "visibility": null,
            "width": null
          }
        },
        "8916ff31aaef41ec9752fde2f4835609": {
          "model_module": "@jupyter-widgets/controls",
          "model_name": "ProgressStyleModel",
          "model_module_version": "1.5.0",
          "state": {
            "_model_module": "@jupyter-widgets/controls",
            "_model_module_version": "1.5.0",
            "_model_name": "ProgressStyleModel",
            "_view_count": null,
            "_view_module": "@jupyter-widgets/base",
            "_view_module_version": "1.2.0",
            "_view_name": "StyleView",
            "bar_color": null,
            "description_width": ""
          }
        },
        "d2cba86518a146af8f9f34e8d6f1988e": {
          "model_module": "@jupyter-widgets/base",
          "model_name": "LayoutModel",
          "model_module_version": "1.2.0",
          "state": {
            "_model_module": "@jupyter-widgets/base",
            "_model_module_version": "1.2.0",
            "_model_name": "LayoutModel",
            "_view_count": null,
            "_view_module": "@jupyter-widgets/base",
            "_view_module_version": "1.2.0",
            "_view_name": "LayoutView",
            "align_content": null,
            "align_items": null,
            "align_self": null,
            "border": null,
            "bottom": null,
            "display": null,
            "flex": null,
            "flex_flow": null,
            "grid_area": null,
            "grid_auto_columns": null,
            "grid_auto_flow": null,
            "grid_auto_rows": null,
            "grid_column": null,
            "grid_gap": null,
            "grid_row": null,
            "grid_template_areas": null,
            "grid_template_columns": null,
            "grid_template_rows": null,
            "height": null,
            "justify_content": null,
            "justify_items": null,
            "left": null,
            "margin": null,
            "max_height": null,
            "max_width": null,
            "min_height": null,
            "min_width": null,
            "object_fit": null,
            "object_position": null,
            "order": null,
            "overflow": null,
            "overflow_x": null,
            "overflow_y": null,
            "padding": null,
            "right": null,
            "top": null,
            "visibility": null,
            "width": null
          }
        },
        "2bfdc0757e3449a8a17dcc6a35255e52": {
          "model_module": "@jupyter-widgets/controls",
          "model_name": "DescriptionStyleModel",
          "model_module_version": "1.5.0",
          "state": {
            "_model_module": "@jupyter-widgets/controls",
            "_model_module_version": "1.5.0",
            "_model_name": "DescriptionStyleModel",
            "_view_count": null,
            "_view_module": "@jupyter-widgets/base",
            "_view_module_version": "1.2.0",
            "_view_name": "StyleView",
            "description_width": ""
          }
        },
        "f5039c92dcd9449097ae796dbe2a0982": {
          "model_module": "@jupyter-widgets/controls",
          "model_name": "HBoxModel",
          "model_module_version": "1.5.0",
          "state": {
            "_dom_classes": [],
            "_model_module": "@jupyter-widgets/controls",
            "_model_module_version": "1.5.0",
            "_model_name": "HBoxModel",
            "_view_count": null,
            "_view_module": "@jupyter-widgets/controls",
            "_view_module_version": "1.5.0",
            "_view_name": "HBoxView",
            "box_style": "",
            "children": [
              "IPY_MODEL_670c9d7564ce40d1b8266d3e6d9615b9",
              "IPY_MODEL_791e10120df14b77ac5a72de5a3009fe",
              "IPY_MODEL_d7749d420234485f99322cd797d671c1"
            ],
            "layout": "IPY_MODEL_8b48ebad246a43b583e0593146e54e83"
          }
        },
        "670c9d7564ce40d1b8266d3e6d9615b9": {
          "model_module": "@jupyter-widgets/controls",
          "model_name": "HTMLModel",
          "model_module_version": "1.5.0",
          "state": {
            "_dom_classes": [],
            "_model_module": "@jupyter-widgets/controls",
            "_model_module_version": "1.5.0",
            "_model_name": "HTMLModel",
            "_view_count": null,
            "_view_module": "@jupyter-widgets/controls",
            "_view_module_version": "1.5.0",
            "_view_name": "HTMLView",
            "description": "",
            "description_tooltip": null,
            "layout": "IPY_MODEL_069d4425b24d43b59c99caac53de5550",
            "placeholder": "​",
            "style": "IPY_MODEL_7c81c2597d8640609ab705074b2c67f8",
            "value": "Downloading (…)olve/main/merges.txt: 100%"
          }
        },
        "791e10120df14b77ac5a72de5a3009fe": {
          "model_module": "@jupyter-widgets/controls",
          "model_name": "FloatProgressModel",
          "model_module_version": "1.5.0",
          "state": {
            "_dom_classes": [],
            "_model_module": "@jupyter-widgets/controls",
            "_model_module_version": "1.5.0",
            "_model_name": "FloatProgressModel",
            "_view_count": null,
            "_view_module": "@jupyter-widgets/controls",
            "_view_module_version": "1.5.0",
            "_view_name": "ProgressView",
            "bar_style": "success",
            "description": "",
            "description_tooltip": null,
            "layout": "IPY_MODEL_6f13e01d8d8343a0bee78165a73a917a",
            "max": 456318,
            "min": 0,
            "orientation": "horizontal",
            "style": "IPY_MODEL_739811d7eaff47369a467c89e374306e",
            "value": 456318
          }
        },
        "d7749d420234485f99322cd797d671c1": {
          "model_module": "@jupyter-widgets/controls",
          "model_name": "HTMLModel",
          "model_module_version": "1.5.0",
          "state": {
            "_dom_classes": [],
            "_model_module": "@jupyter-widgets/controls",
            "_model_module_version": "1.5.0",
            "_model_name": "HTMLModel",
            "_view_count": null,
            "_view_module": "@jupyter-widgets/controls",
            "_view_module_version": "1.5.0",
            "_view_name": "HTMLView",
            "description": "",
            "description_tooltip": null,
            "layout": "IPY_MODEL_e952febe136d4384a27852cf798f45d6",
            "placeholder": "​",
            "style": "IPY_MODEL_731f8b0ccd1d4b1f8bef1fcc92a4c717",
            "value": " 456k/456k [00:00&lt;00:00, 669kB/s]"
          }
        },
        "8b48ebad246a43b583e0593146e54e83": {
          "model_module": "@jupyter-widgets/base",
          "model_name": "LayoutModel",
          "model_module_version": "1.2.0",
          "state": {
            "_model_module": "@jupyter-widgets/base",
            "_model_module_version": "1.2.0",
            "_model_name": "LayoutModel",
            "_view_count": null,
            "_view_module": "@jupyter-widgets/base",
            "_view_module_version": "1.2.0",
            "_view_name": "LayoutView",
            "align_content": null,
            "align_items": null,
            "align_self": null,
            "border": null,
            "bottom": null,
            "display": null,
            "flex": null,
            "flex_flow": null,
            "grid_area": null,
            "grid_auto_columns": null,
            "grid_auto_flow": null,
            "grid_auto_rows": null,
            "grid_column": null,
            "grid_gap": null,
            "grid_row": null,
            "grid_template_areas": null,
            "grid_template_columns": null,
            "grid_template_rows": null,
            "height": null,
            "justify_content": null,
            "justify_items": null,
            "left": null,
            "margin": null,
            "max_height": null,
            "max_width": null,
            "min_height": null,
            "min_width": null,
            "object_fit": null,
            "object_position": null,
            "order": null,
            "overflow": null,
            "overflow_x": null,
            "overflow_y": null,
            "padding": null,
            "right": null,
            "top": null,
            "visibility": null,
            "width": null
          }
        },
        "069d4425b24d43b59c99caac53de5550": {
          "model_module": "@jupyter-widgets/base",
          "model_name": "LayoutModel",
          "model_module_version": "1.2.0",
          "state": {
            "_model_module": "@jupyter-widgets/base",
            "_model_module_version": "1.2.0",
            "_model_name": "LayoutModel",
            "_view_count": null,
            "_view_module": "@jupyter-widgets/base",
            "_view_module_version": "1.2.0",
            "_view_name": "LayoutView",
            "align_content": null,
            "align_items": null,
            "align_self": null,
            "border": null,
            "bottom": null,
            "display": null,
            "flex": null,
            "flex_flow": null,
            "grid_area": null,
            "grid_auto_columns": null,
            "grid_auto_flow": null,
            "grid_auto_rows": null,
            "grid_column": null,
            "grid_gap": null,
            "grid_row": null,
            "grid_template_areas": null,
            "grid_template_columns": null,
            "grid_template_rows": null,
            "height": null,
            "justify_content": null,
            "justify_items": null,
            "left": null,
            "margin": null,
            "max_height": null,
            "max_width": null,
            "min_height": null,
            "min_width": null,
            "object_fit": null,
            "object_position": null,
            "order": null,
            "overflow": null,
            "overflow_x": null,
            "overflow_y": null,
            "padding": null,
            "right": null,
            "top": null,
            "visibility": null,
            "width": null
          }
        },
        "7c81c2597d8640609ab705074b2c67f8": {
          "model_module": "@jupyter-widgets/controls",
          "model_name": "DescriptionStyleModel",
          "model_module_version": "1.5.0",
          "state": {
            "_model_module": "@jupyter-widgets/controls",
            "_model_module_version": "1.5.0",
            "_model_name": "DescriptionStyleModel",
            "_view_count": null,
            "_view_module": "@jupyter-widgets/base",
            "_view_module_version": "1.2.0",
            "_view_name": "StyleView",
            "description_width": ""
          }
        },
        "6f13e01d8d8343a0bee78165a73a917a": {
          "model_module": "@jupyter-widgets/base",
          "model_name": "LayoutModel",
          "model_module_version": "1.2.0",
          "state": {
            "_model_module": "@jupyter-widgets/base",
            "_model_module_version": "1.2.0",
            "_model_name": "LayoutModel",
            "_view_count": null,
            "_view_module": "@jupyter-widgets/base",
            "_view_module_version": "1.2.0",
            "_view_name": "LayoutView",
            "align_content": null,
            "align_items": null,
            "align_self": null,
            "border": null,
            "bottom": null,
            "display": null,
            "flex": null,
            "flex_flow": null,
            "grid_area": null,
            "grid_auto_columns": null,
            "grid_auto_flow": null,
            "grid_auto_rows": null,
            "grid_column": null,
            "grid_gap": null,
            "grid_row": null,
            "grid_template_areas": null,
            "grid_template_columns": null,
            "grid_template_rows": null,
            "height": null,
            "justify_content": null,
            "justify_items": null,
            "left": null,
            "margin": null,
            "max_height": null,
            "max_width": null,
            "min_height": null,
            "min_width": null,
            "object_fit": null,
            "object_position": null,
            "order": null,
            "overflow": null,
            "overflow_x": null,
            "overflow_y": null,
            "padding": null,
            "right": null,
            "top": null,
            "visibility": null,
            "width": null
          }
        },
        "739811d7eaff47369a467c89e374306e": {
          "model_module": "@jupyter-widgets/controls",
          "model_name": "ProgressStyleModel",
          "model_module_version": "1.5.0",
          "state": {
            "_model_module": "@jupyter-widgets/controls",
            "_model_module_version": "1.5.0",
            "_model_name": "ProgressStyleModel",
            "_view_count": null,
            "_view_module": "@jupyter-widgets/base",
            "_view_module_version": "1.2.0",
            "_view_name": "StyleView",
            "bar_color": null,
            "description_width": ""
          }
        },
        "e952febe136d4384a27852cf798f45d6": {
          "model_module": "@jupyter-widgets/base",
          "model_name": "LayoutModel",
          "model_module_version": "1.2.0",
          "state": {
            "_model_module": "@jupyter-widgets/base",
            "_model_module_version": "1.2.0",
            "_model_name": "LayoutModel",
            "_view_count": null,
            "_view_module": "@jupyter-widgets/base",
            "_view_module_version": "1.2.0",
            "_view_name": "LayoutView",
            "align_content": null,
            "align_items": null,
            "align_self": null,
            "border": null,
            "bottom": null,
            "display": null,
            "flex": null,
            "flex_flow": null,
            "grid_area": null,
            "grid_auto_columns": null,
            "grid_auto_flow": null,
            "grid_auto_rows": null,
            "grid_column": null,
            "grid_gap": null,
            "grid_row": null,
            "grid_template_areas": null,
            "grid_template_columns": null,
            "grid_template_rows": null,
            "height": null,
            "justify_content": null,
            "justify_items": null,
            "left": null,
            "margin": null,
            "max_height": null,
            "max_width": null,
            "min_height": null,
            "min_width": null,
            "object_fit": null,
            "object_position": null,
            "order": null,
            "overflow": null,
            "overflow_x": null,
            "overflow_y": null,
            "padding": null,
            "right": null,
            "top": null,
            "visibility": null,
            "width": null
          }
        },
        "731f8b0ccd1d4b1f8bef1fcc92a4c717": {
          "model_module": "@jupyter-widgets/controls",
          "model_name": "DescriptionStyleModel",
          "model_module_version": "1.5.0",
          "state": {
            "_model_module": "@jupyter-widgets/controls",
            "_model_module_version": "1.5.0",
            "_model_name": "DescriptionStyleModel",
            "_view_count": null,
            "_view_module": "@jupyter-widgets/base",
            "_view_module_version": "1.2.0",
            "_view_name": "StyleView",
            "description_width": ""
          }
        },
        "8d487ae849fb4f32bb0e6c2109d2bc82": {
          "model_module": "@jupyter-widgets/controls",
          "model_name": "HBoxModel",
          "model_module_version": "1.5.0",
          "state": {
            "_dom_classes": [],
            "_model_module": "@jupyter-widgets/controls",
            "_model_module_version": "1.5.0",
            "_model_name": "HBoxModel",
            "_view_count": null,
            "_view_module": "@jupyter-widgets/controls",
            "_view_module_version": "1.5.0",
            "_view_name": "HBoxView",
            "box_style": "",
            "children": [
              "IPY_MODEL_8889841493b74cdca6e4321a5b3df0b2",
              "IPY_MODEL_0e52519a5f3a4f21a93882dd1ce91668",
              "IPY_MODEL_92975a9bfe9b46fb9a08426f45fedf3c"
            ],
            "layout": "IPY_MODEL_013aa9f424c04ad4a138b1bd168d30b4"
          }
        },
        "8889841493b74cdca6e4321a5b3df0b2": {
          "model_module": "@jupyter-widgets/controls",
          "model_name": "HTMLModel",
          "model_module_version": "1.5.0",
          "state": {
            "_dom_classes": [],
            "_model_module": "@jupyter-widgets/controls",
            "_model_module_version": "1.5.0",
            "_model_name": "HTMLModel",
            "_view_count": null,
            "_view_module": "@jupyter-widgets/controls",
            "_view_module_version": "1.5.0",
            "_view_name": "HTMLView",
            "description": "",
            "description_tooltip": null,
            "layout": "IPY_MODEL_0de6b4370c8e4b64a96573252da412f6",
            "placeholder": "​",
            "style": "IPY_MODEL_5d0dc85db87a4d9baf39018e0f7cef70",
            "value": "Downloading (…)lve/main/config.json: 100%"
          }
        },
        "0e52519a5f3a4f21a93882dd1ce91668": {
          "model_module": "@jupyter-widgets/controls",
          "model_name": "FloatProgressModel",
          "model_module_version": "1.5.0",
          "state": {
            "_dom_classes": [],
            "_model_module": "@jupyter-widgets/controls",
            "_model_module_version": "1.5.0",
            "_model_name": "FloatProgressModel",
            "_view_count": null,
            "_view_module": "@jupyter-widgets/controls",
            "_view_module_version": "1.5.0",
            "_view_name": "ProgressView",
            "bar_style": "success",
            "description": "",
            "description_tooltip": null,
            "layout": "IPY_MODEL_68e4621e1e204eab8014d301040e5d6d",
            "max": 482,
            "min": 0,
            "orientation": "horizontal",
            "style": "IPY_MODEL_3eafa8d85e94455e8376bde48423d370",
            "value": 482
          }
        },
        "92975a9bfe9b46fb9a08426f45fedf3c": {
          "model_module": "@jupyter-widgets/controls",
          "model_name": "HTMLModel",
          "model_module_version": "1.5.0",
          "state": {
            "_dom_classes": [],
            "_model_module": "@jupyter-widgets/controls",
            "_model_module_version": "1.5.0",
            "_model_name": "HTMLModel",
            "_view_count": null,
            "_view_module": "@jupyter-widgets/controls",
            "_view_module_version": "1.5.0",
            "_view_name": "HTMLView",
            "description": "",
            "description_tooltip": null,
            "layout": "IPY_MODEL_0ea99d98b7f145cc851c84a5df151c0c",
            "placeholder": "​",
            "style": "IPY_MODEL_9bb191b1174249f08221d87d47f2b8cd",
            "value": " 482/482 [00:00&lt;00:00, 10.8kB/s]"
          }
        },
        "013aa9f424c04ad4a138b1bd168d30b4": {
          "model_module": "@jupyter-widgets/base",
          "model_name": "LayoutModel",
          "model_module_version": "1.2.0",
          "state": {
            "_model_module": "@jupyter-widgets/base",
            "_model_module_version": "1.2.0",
            "_model_name": "LayoutModel",
            "_view_count": null,
            "_view_module": "@jupyter-widgets/base",
            "_view_module_version": "1.2.0",
            "_view_name": "LayoutView",
            "align_content": null,
            "align_items": null,
            "align_self": null,
            "border": null,
            "bottom": null,
            "display": null,
            "flex": null,
            "flex_flow": null,
            "grid_area": null,
            "grid_auto_columns": null,
            "grid_auto_flow": null,
            "grid_auto_rows": null,
            "grid_column": null,
            "grid_gap": null,
            "grid_row": null,
            "grid_template_areas": null,
            "grid_template_columns": null,
            "grid_template_rows": null,
            "height": null,
            "justify_content": null,
            "justify_items": null,
            "left": null,
            "margin": null,
            "max_height": null,
            "max_width": null,
            "min_height": null,
            "min_width": null,
            "object_fit": null,
            "object_position": null,
            "order": null,
            "overflow": null,
            "overflow_x": null,
            "overflow_y": null,
            "padding": null,
            "right": null,
            "top": null,
            "visibility": null,
            "width": null
          }
        },
        "0de6b4370c8e4b64a96573252da412f6": {
          "model_module": "@jupyter-widgets/base",
          "model_name": "LayoutModel",
          "model_module_version": "1.2.0",
          "state": {
            "_model_module": "@jupyter-widgets/base",
            "_model_module_version": "1.2.0",
            "_model_name": "LayoutModel",
            "_view_count": null,
            "_view_module": "@jupyter-widgets/base",
            "_view_module_version": "1.2.0",
            "_view_name": "LayoutView",
            "align_content": null,
            "align_items": null,
            "align_self": null,
            "border": null,
            "bottom": null,
            "display": null,
            "flex": null,
            "flex_flow": null,
            "grid_area": null,
            "grid_auto_columns": null,
            "grid_auto_flow": null,
            "grid_auto_rows": null,
            "grid_column": null,
            "grid_gap": null,
            "grid_row": null,
            "grid_template_areas": null,
            "grid_template_columns": null,
            "grid_template_rows": null,
            "height": null,
            "justify_content": null,
            "justify_items": null,
            "left": null,
            "margin": null,
            "max_height": null,
            "max_width": null,
            "min_height": null,
            "min_width": null,
            "object_fit": null,
            "object_position": null,
            "order": null,
            "overflow": null,
            "overflow_x": null,
            "overflow_y": null,
            "padding": null,
            "right": null,
            "top": null,
            "visibility": null,
            "width": null
          }
        },
        "5d0dc85db87a4d9baf39018e0f7cef70": {
          "model_module": "@jupyter-widgets/controls",
          "model_name": "DescriptionStyleModel",
          "model_module_version": "1.5.0",
          "state": {
            "_model_module": "@jupyter-widgets/controls",
            "_model_module_version": "1.5.0",
            "_model_name": "DescriptionStyleModel",
            "_view_count": null,
            "_view_module": "@jupyter-widgets/base",
            "_view_module_version": "1.2.0",
            "_view_name": "StyleView",
            "description_width": ""
          }
        },
        "68e4621e1e204eab8014d301040e5d6d": {
          "model_module": "@jupyter-widgets/base",
          "model_name": "LayoutModel",
          "model_module_version": "1.2.0",
          "state": {
            "_model_module": "@jupyter-widgets/base",
            "_model_module_version": "1.2.0",
            "_model_name": "LayoutModel",
            "_view_count": null,
            "_view_module": "@jupyter-widgets/base",
            "_view_module_version": "1.2.0",
            "_view_name": "LayoutView",
            "align_content": null,
            "align_items": null,
            "align_self": null,
            "border": null,
            "bottom": null,
            "display": null,
            "flex": null,
            "flex_flow": null,
            "grid_area": null,
            "grid_auto_columns": null,
            "grid_auto_flow": null,
            "grid_auto_rows": null,
            "grid_column": null,
            "grid_gap": null,
            "grid_row": null,
            "grid_template_areas": null,
            "grid_template_columns": null,
            "grid_template_rows": null,
            "height": null,
            "justify_content": null,
            "justify_items": null,
            "left": null,
            "margin": null,
            "max_height": null,
            "max_width": null,
            "min_height": null,
            "min_width": null,
            "object_fit": null,
            "object_position": null,
            "order": null,
            "overflow": null,
            "overflow_x": null,
            "overflow_y": null,
            "padding": null,
            "right": null,
            "top": null,
            "visibility": null,
            "width": null
          }
        },
        "3eafa8d85e94455e8376bde48423d370": {
          "model_module": "@jupyter-widgets/controls",
          "model_name": "ProgressStyleModel",
          "model_module_version": "1.5.0",
          "state": {
            "_model_module": "@jupyter-widgets/controls",
            "_model_module_version": "1.5.0",
            "_model_name": "ProgressStyleModel",
            "_view_count": null,
            "_view_module": "@jupyter-widgets/base",
            "_view_module_version": "1.2.0",
            "_view_name": "StyleView",
            "bar_color": null,
            "description_width": ""
          }
        },
        "0ea99d98b7f145cc851c84a5df151c0c": {
          "model_module": "@jupyter-widgets/base",
          "model_name": "LayoutModel",
          "model_module_version": "1.2.0",
          "state": {
            "_model_module": "@jupyter-widgets/base",
            "_model_module_version": "1.2.0",
            "_model_name": "LayoutModel",
            "_view_count": null,
            "_view_module": "@jupyter-widgets/base",
            "_view_module_version": "1.2.0",
            "_view_name": "LayoutView",
            "align_content": null,
            "align_items": null,
            "align_self": null,
            "border": null,
            "bottom": null,
            "display": null,
            "flex": null,
            "flex_flow": null,
            "grid_area": null,
            "grid_auto_columns": null,
            "grid_auto_flow": null,
            "grid_auto_rows": null,
            "grid_column": null,
            "grid_gap": null,
            "grid_row": null,
            "grid_template_areas": null,
            "grid_template_columns": null,
            "grid_template_rows": null,
            "height": null,
            "justify_content": null,
            "justify_items": null,
            "left": null,
            "margin": null,
            "max_height": null,
            "max_width": null,
            "min_height": null,
            "min_width": null,
            "object_fit": null,
            "object_position": null,
            "order": null,
            "overflow": null,
            "overflow_x": null,
            "overflow_y": null,
            "padding": null,
            "right": null,
            "top": null,
            "visibility": null,
            "width": null
          }
        },
        "9bb191b1174249f08221d87d47f2b8cd": {
          "model_module": "@jupyter-widgets/controls",
          "model_name": "DescriptionStyleModel",
          "model_module_version": "1.5.0",
          "state": {
            "_model_module": "@jupyter-widgets/controls",
            "_model_module_version": "1.5.0",
            "_model_name": "DescriptionStyleModel",
            "_view_count": null,
            "_view_module": "@jupyter-widgets/base",
            "_view_module_version": "1.2.0",
            "_view_name": "StyleView",
            "description_width": ""
          }
        },
        "a32993d9580740f89ef52792ccde2f80": {
          "model_module": "@jupyter-widgets/controls",
          "model_name": "HBoxModel",
          "model_module_version": "1.5.0",
          "state": {
            "_dom_classes": [],
            "_model_module": "@jupyter-widgets/controls",
            "_model_module_version": "1.5.0",
            "_model_name": "HBoxModel",
            "_view_count": null,
            "_view_module": "@jupyter-widgets/controls",
            "_view_module_version": "1.5.0",
            "_view_name": "HBoxView",
            "box_style": "",
            "children": [
              "IPY_MODEL_64c5e03553b94190bdf1a5ea8c75d678",
              "IPY_MODEL_ce9b49321ace4b9e90544de892908ad2",
              "IPY_MODEL_c33e93c7591f44d5a4488f7cf7e9aba5"
            ],
            "layout": "IPY_MODEL_84438c7ecd6d474d8e2895294841a432"
          }
        },
        "64c5e03553b94190bdf1a5ea8c75d678": {
          "model_module": "@jupyter-widgets/controls",
          "model_name": "HTMLModel",
          "model_module_version": "1.5.0",
          "state": {
            "_dom_classes": [],
            "_model_module": "@jupyter-widgets/controls",
            "_model_module_version": "1.5.0",
            "_model_name": "HTMLModel",
            "_view_count": null,
            "_view_module": "@jupyter-widgets/controls",
            "_view_module_version": "1.5.0",
            "_view_name": "HTMLView",
            "description": "",
            "description_tooltip": null,
            "layout": "IPY_MODEL_06ff10c966d9450ba8ca58efee27dff1",
            "placeholder": "​",
            "style": "IPY_MODEL_dbb2cb38307440eab83eada4917afbd2",
            "value": "Downloading (…)lve/main/config.json: 100%"
          }
        },
        "ce9b49321ace4b9e90544de892908ad2": {
          "model_module": "@jupyter-widgets/controls",
          "model_name": "FloatProgressModel",
          "model_module_version": "1.5.0",
          "state": {
            "_dom_classes": [],
            "_model_module": "@jupyter-widgets/controls",
            "_model_module_version": "1.5.0",
            "_model_name": "FloatProgressModel",
            "_view_count": null,
            "_view_module": "@jupyter-widgets/controls",
            "_view_module_version": "1.5.0",
            "_view_name": "ProgressView",
            "bar_style": "success",
            "description": "",
            "description_tooltip": null,
            "layout": "IPY_MODEL_e2d14388b78e4a7f81150ed1529dd98d",
            "max": 687,
            "min": 0,
            "orientation": "horizontal",
            "style": "IPY_MODEL_5917ab1321a44dda9622e3988ca95adc",
            "value": 687
          }
        },
        "c33e93c7591f44d5a4488f7cf7e9aba5": {
          "model_module": "@jupyter-widgets/controls",
          "model_name": "HTMLModel",
          "model_module_version": "1.5.0",
          "state": {
            "_dom_classes": [],
            "_model_module": "@jupyter-widgets/controls",
            "_model_module_version": "1.5.0",
            "_model_name": "HTMLModel",
            "_view_count": null,
            "_view_module": "@jupyter-widgets/controls",
            "_view_module_version": "1.5.0",
            "_view_name": "HTMLView",
            "description": "",
            "description_tooltip": null,
            "layout": "IPY_MODEL_b04a392f0c69497b97040df8bd693f23",
            "placeholder": "​",
            "style": "IPY_MODEL_c725082867d34f2485cf514a6cd9ca0f",
            "value": " 687/687 [00:00&lt;00:00, 10.3kB/s]"
          }
        },
        "84438c7ecd6d474d8e2895294841a432": {
          "model_module": "@jupyter-widgets/base",
          "model_name": "LayoutModel",
          "model_module_version": "1.2.0",
          "state": {
            "_model_module": "@jupyter-widgets/base",
            "_model_module_version": "1.2.0",
            "_model_name": "LayoutModel",
            "_view_count": null,
            "_view_module": "@jupyter-widgets/base",
            "_view_module_version": "1.2.0",
            "_view_name": "LayoutView",
            "align_content": null,
            "align_items": null,
            "align_self": null,
            "border": null,
            "bottom": null,
            "display": null,
            "flex": null,
            "flex_flow": null,
            "grid_area": null,
            "grid_auto_columns": null,
            "grid_auto_flow": null,
            "grid_auto_rows": null,
            "grid_column": null,
            "grid_gap": null,
            "grid_row": null,
            "grid_template_areas": null,
            "grid_template_columns": null,
            "grid_template_rows": null,
            "height": null,
            "justify_content": null,
            "justify_items": null,
            "left": null,
            "margin": null,
            "max_height": null,
            "max_width": null,
            "min_height": null,
            "min_width": null,
            "object_fit": null,
            "object_position": null,
            "order": null,
            "overflow": null,
            "overflow_x": null,
            "overflow_y": null,
            "padding": null,
            "right": null,
            "top": null,
            "visibility": null,
            "width": null
          }
        },
        "06ff10c966d9450ba8ca58efee27dff1": {
          "model_module": "@jupyter-widgets/base",
          "model_name": "LayoutModel",
          "model_module_version": "1.2.0",
          "state": {
            "_model_module": "@jupyter-widgets/base",
            "_model_module_version": "1.2.0",
            "_model_name": "LayoutModel",
            "_view_count": null,
            "_view_module": "@jupyter-widgets/base",
            "_view_module_version": "1.2.0",
            "_view_name": "LayoutView",
            "align_content": null,
            "align_items": null,
            "align_self": null,
            "border": null,
            "bottom": null,
            "display": null,
            "flex": null,
            "flex_flow": null,
            "grid_area": null,
            "grid_auto_columns": null,
            "grid_auto_flow": null,
            "grid_auto_rows": null,
            "grid_column": null,
            "grid_gap": null,
            "grid_row": null,
            "grid_template_areas": null,
            "grid_template_columns": null,
            "grid_template_rows": null,
            "height": null,
            "justify_content": null,
            "justify_items": null,
            "left": null,
            "margin": null,
            "max_height": null,
            "max_width": null,
            "min_height": null,
            "min_width": null,
            "object_fit": null,
            "object_position": null,
            "order": null,
            "overflow": null,
            "overflow_x": null,
            "overflow_y": null,
            "padding": null,
            "right": null,
            "top": null,
            "visibility": null,
            "width": null
          }
        },
        "dbb2cb38307440eab83eada4917afbd2": {
          "model_module": "@jupyter-widgets/controls",
          "model_name": "DescriptionStyleModel",
          "model_module_version": "1.5.0",
          "state": {
            "_model_module": "@jupyter-widgets/controls",
            "_model_module_version": "1.5.0",
            "_model_name": "DescriptionStyleModel",
            "_view_count": null,
            "_view_module": "@jupyter-widgets/base",
            "_view_module_version": "1.2.0",
            "_view_name": "StyleView",
            "description_width": ""
          }
        },
        "e2d14388b78e4a7f81150ed1529dd98d": {
          "model_module": "@jupyter-widgets/base",
          "model_name": "LayoutModel",
          "model_module_version": "1.2.0",
          "state": {
            "_model_module": "@jupyter-widgets/base",
            "_model_module_version": "1.2.0",
            "_model_name": "LayoutModel",
            "_view_count": null,
            "_view_module": "@jupyter-widgets/base",
            "_view_module_version": "1.2.0",
            "_view_name": "LayoutView",
            "align_content": null,
            "align_items": null,
            "align_self": null,
            "border": null,
            "bottom": null,
            "display": null,
            "flex": null,
            "flex_flow": null,
            "grid_area": null,
            "grid_auto_columns": null,
            "grid_auto_flow": null,
            "grid_auto_rows": null,
            "grid_column": null,
            "grid_gap": null,
            "grid_row": null,
            "grid_template_areas": null,
            "grid_template_columns": null,
            "grid_template_rows": null,
            "height": null,
            "justify_content": null,
            "justify_items": null,
            "left": null,
            "margin": null,
            "max_height": null,
            "max_width": null,
            "min_height": null,
            "min_width": null,
            "object_fit": null,
            "object_position": null,
            "order": null,
            "overflow": null,
            "overflow_x": null,
            "overflow_y": null,
            "padding": null,
            "right": null,
            "top": null,
            "visibility": null,
            "width": null
          }
        },
        "5917ab1321a44dda9622e3988ca95adc": {
          "model_module": "@jupyter-widgets/controls",
          "model_name": "ProgressStyleModel",
          "model_module_version": "1.5.0",
          "state": {
            "_model_module": "@jupyter-widgets/controls",
            "_model_module_version": "1.5.0",
            "_model_name": "ProgressStyleModel",
            "_view_count": null,
            "_view_module": "@jupyter-widgets/base",
            "_view_module_version": "1.2.0",
            "_view_name": "StyleView",
            "bar_color": null,
            "description_width": ""
          }
        },
        "b04a392f0c69497b97040df8bd693f23": {
          "model_module": "@jupyter-widgets/base",
          "model_name": "LayoutModel",
          "model_module_version": "1.2.0",
          "state": {
            "_model_module": "@jupyter-widgets/base",
            "_model_module_version": "1.2.0",
            "_model_name": "LayoutModel",
            "_view_count": null,
            "_view_module": "@jupyter-widgets/base",
            "_view_module_version": "1.2.0",
            "_view_name": "LayoutView",
            "align_content": null,
            "align_items": null,
            "align_self": null,
            "border": null,
            "bottom": null,
            "display": null,
            "flex": null,
            "flex_flow": null,
            "grid_area": null,
            "grid_auto_columns": null,
            "grid_auto_flow": null,
            "grid_auto_rows": null,
            "grid_column": null,
            "grid_gap": null,
            "grid_row": null,
            "grid_template_areas": null,
            "grid_template_columns": null,
            "grid_template_rows": null,
            "height": null,
            "justify_content": null,
            "justify_items": null,
            "left": null,
            "margin": null,
            "max_height": null,
            "max_width": null,
            "min_height": null,
            "min_width": null,
            "object_fit": null,
            "object_position": null,
            "order": null,
            "overflow": null,
            "overflow_x": null,
            "overflow_y": null,
            "padding": null,
            "right": null,
            "top": null,
            "visibility": null,
            "width": null
          }
        },
        "c725082867d34f2485cf514a6cd9ca0f": {
          "model_module": "@jupyter-widgets/controls",
          "model_name": "DescriptionStyleModel",
          "model_module_version": "1.5.0",
          "state": {
            "_model_module": "@jupyter-widgets/controls",
            "_model_module_version": "1.5.0",
            "_model_name": "DescriptionStyleModel",
            "_view_count": null,
            "_view_module": "@jupyter-widgets/base",
            "_view_module_version": "1.2.0",
            "_view_name": "StyleView",
            "description_width": ""
          }
        },
        "0ff2e58a68ee4f6c88ff879cc42d93cd": {
          "model_module": "@jupyter-widgets/controls",
          "model_name": "HBoxModel",
          "model_module_version": "1.5.0",
          "state": {
            "_dom_classes": [],
            "_model_module": "@jupyter-widgets/controls",
            "_model_module_version": "1.5.0",
            "_model_name": "HBoxModel",
            "_view_count": null,
            "_view_module": "@jupyter-widgets/controls",
            "_view_module_version": "1.5.0",
            "_view_name": "HBoxView",
            "box_style": "",
            "children": [
              "IPY_MODEL_ef11df7346f643a891e845d6635b5128",
              "IPY_MODEL_7cd5cd90bd8c44aeb30c7249b80d7ceb",
              "IPY_MODEL_387bf1951a684530ae6ce43e63fd0141"
            ],
            "layout": "IPY_MODEL_562dc4b857764245a446c425aa6be478"
          }
        },
        "ef11df7346f643a891e845d6635b5128": {
          "model_module": "@jupyter-widgets/controls",
          "model_name": "HTMLModel",
          "model_module_version": "1.5.0",
          "state": {
            "_dom_classes": [],
            "_model_module": "@jupyter-widgets/controls",
            "_model_module_version": "1.5.0",
            "_model_name": "HTMLModel",
            "_view_count": null,
            "_view_module": "@jupyter-widgets/controls",
            "_view_module_version": "1.5.0",
            "_view_name": "HTMLView",
            "description": "",
            "description_tooltip": null,
            "layout": "IPY_MODEL_597fec788d8e449890df3c4382b76f48",
            "placeholder": "​",
            "style": "IPY_MODEL_1c388b26c1bd4465a06529fcab0ce1ce",
            "value": "Downloading pytorch_model.bin: 100%"
          }
        },
        "7cd5cd90bd8c44aeb30c7249b80d7ceb": {
          "model_module": "@jupyter-widgets/controls",
          "model_name": "FloatProgressModel",
          "model_module_version": "1.5.0",
          "state": {
            "_dom_classes": [],
            "_model_module": "@jupyter-widgets/controls",
            "_model_module_version": "1.5.0",
            "_model_name": "FloatProgressModel",
            "_view_count": null,
            "_view_module": "@jupyter-widgets/controls",
            "_view_module_version": "1.5.0",
            "_view_name": "ProgressView",
            "bar_style": "success",
            "description": "",
            "description_tooltip": null,
            "layout": "IPY_MODEL_d5212d37e3c94c62a0f845ca84296f6e",
            "max": 1421616707,
            "min": 0,
            "orientation": "horizontal",
            "style": "IPY_MODEL_69846a58f2f349b19d73b2bad5dbcfb1",
            "value": 1421616707
          }
        },
        "387bf1951a684530ae6ce43e63fd0141": {
          "model_module": "@jupyter-widgets/controls",
          "model_name": "HTMLModel",
          "model_module_version": "1.5.0",
          "state": {
            "_dom_classes": [],
            "_model_module": "@jupyter-widgets/controls",
            "_model_module_version": "1.5.0",
            "_model_name": "HTMLModel",
            "_view_count": null,
            "_view_module": "@jupyter-widgets/controls",
            "_view_module_version": "1.5.0",
            "_view_name": "HTMLView",
            "description": "",
            "description_tooltip": null,
            "layout": "IPY_MODEL_53057a5c0fbb40f586b971deb9b58631",
            "placeholder": "​",
            "style": "IPY_MODEL_e190a1d8004140cb888d469460dd4ce4",
            "value": " 1.42G/1.42G [01:21&lt;00:00, 15.7MB/s]"
          }
        },
        "562dc4b857764245a446c425aa6be478": {
          "model_module": "@jupyter-widgets/base",
          "model_name": "LayoutModel",
          "model_module_version": "1.2.0",
          "state": {
            "_model_module": "@jupyter-widgets/base",
            "_model_module_version": "1.2.0",
            "_model_name": "LayoutModel",
            "_view_count": null,
            "_view_module": "@jupyter-widgets/base",
            "_view_module_version": "1.2.0",
            "_view_name": "LayoutView",
            "align_content": null,
            "align_items": null,
            "align_self": null,
            "border": null,
            "bottom": null,
            "display": null,
            "flex": null,
            "flex_flow": null,
            "grid_area": null,
            "grid_auto_columns": null,
            "grid_auto_flow": null,
            "grid_auto_rows": null,
            "grid_column": null,
            "grid_gap": null,
            "grid_row": null,
            "grid_template_areas": null,
            "grid_template_columns": null,
            "grid_template_rows": null,
            "height": null,
            "justify_content": null,
            "justify_items": null,
            "left": null,
            "margin": null,
            "max_height": null,
            "max_width": null,
            "min_height": null,
            "min_width": null,
            "object_fit": null,
            "object_position": null,
            "order": null,
            "overflow": null,
            "overflow_x": null,
            "overflow_y": null,
            "padding": null,
            "right": null,
            "top": null,
            "visibility": null,
            "width": null
          }
        },
        "597fec788d8e449890df3c4382b76f48": {
          "model_module": "@jupyter-widgets/base",
          "model_name": "LayoutModel",
          "model_module_version": "1.2.0",
          "state": {
            "_model_module": "@jupyter-widgets/base",
            "_model_module_version": "1.2.0",
            "_model_name": "LayoutModel",
            "_view_count": null,
            "_view_module": "@jupyter-widgets/base",
            "_view_module_version": "1.2.0",
            "_view_name": "LayoutView",
            "align_content": null,
            "align_items": null,
            "align_self": null,
            "border": null,
            "bottom": null,
            "display": null,
            "flex": null,
            "flex_flow": null,
            "grid_area": null,
            "grid_auto_columns": null,
            "grid_auto_flow": null,
            "grid_auto_rows": null,
            "grid_column": null,
            "grid_gap": null,
            "grid_row": null,
            "grid_template_areas": null,
            "grid_template_columns": null,
            "grid_template_rows": null,
            "height": null,
            "justify_content": null,
            "justify_items": null,
            "left": null,
            "margin": null,
            "max_height": null,
            "max_width": null,
            "min_height": null,
            "min_width": null,
            "object_fit": null,
            "object_position": null,
            "order": null,
            "overflow": null,
            "overflow_x": null,
            "overflow_y": null,
            "padding": null,
            "right": null,
            "top": null,
            "visibility": null,
            "width": null
          }
        },
        "1c388b26c1bd4465a06529fcab0ce1ce": {
          "model_module": "@jupyter-widgets/controls",
          "model_name": "DescriptionStyleModel",
          "model_module_version": "1.5.0",
          "state": {
            "_model_module": "@jupyter-widgets/controls",
            "_model_module_version": "1.5.0",
            "_model_name": "DescriptionStyleModel",
            "_view_count": null,
            "_view_module": "@jupyter-widgets/base",
            "_view_module_version": "1.2.0",
            "_view_name": "StyleView",
            "description_width": ""
          }
        },
        "d5212d37e3c94c62a0f845ca84296f6e": {
          "model_module": "@jupyter-widgets/base",
          "model_name": "LayoutModel",
          "model_module_version": "1.2.0",
          "state": {
            "_model_module": "@jupyter-widgets/base",
            "_model_module_version": "1.2.0",
            "_model_name": "LayoutModel",
            "_view_count": null,
            "_view_module": "@jupyter-widgets/base",
            "_view_module_version": "1.2.0",
            "_view_name": "LayoutView",
            "align_content": null,
            "align_items": null,
            "align_self": null,
            "border": null,
            "bottom": null,
            "display": null,
            "flex": null,
            "flex_flow": null,
            "grid_area": null,
            "grid_auto_columns": null,
            "grid_auto_flow": null,
            "grid_auto_rows": null,
            "grid_column": null,
            "grid_gap": null,
            "grid_row": null,
            "grid_template_areas": null,
            "grid_template_columns": null,
            "grid_template_rows": null,
            "height": null,
            "justify_content": null,
            "justify_items": null,
            "left": null,
            "margin": null,
            "max_height": null,
            "max_width": null,
            "min_height": null,
            "min_width": null,
            "object_fit": null,
            "object_position": null,
            "order": null,
            "overflow": null,
            "overflow_x": null,
            "overflow_y": null,
            "padding": null,
            "right": null,
            "top": null,
            "visibility": null,
            "width": null
          }
        },
        "69846a58f2f349b19d73b2bad5dbcfb1": {
          "model_module": "@jupyter-widgets/controls",
          "model_name": "ProgressStyleModel",
          "model_module_version": "1.5.0",
          "state": {
            "_model_module": "@jupyter-widgets/controls",
            "_model_module_version": "1.5.0",
            "_model_name": "ProgressStyleModel",
            "_view_count": null,
            "_view_module": "@jupyter-widgets/base",
            "_view_module_version": "1.2.0",
            "_view_name": "StyleView",
            "bar_color": null,
            "description_width": ""
          }
        },
        "53057a5c0fbb40f586b971deb9b58631": {
          "model_module": "@jupyter-widgets/base",
          "model_name": "LayoutModel",
          "model_module_version": "1.2.0",
          "state": {
            "_model_module": "@jupyter-widgets/base",
            "_model_module_version": "1.2.0",
            "_model_name": "LayoutModel",
            "_view_count": null,
            "_view_module": "@jupyter-widgets/base",
            "_view_module_version": "1.2.0",
            "_view_name": "LayoutView",
            "align_content": null,
            "align_items": null,
            "align_self": null,
            "border": null,
            "bottom": null,
            "display": null,
            "flex": null,
            "flex_flow": null,
            "grid_area": null,
            "grid_auto_columns": null,
            "grid_auto_flow": null,
            "grid_auto_rows": null,
            "grid_column": null,
            "grid_gap": null,
            "grid_row": null,
            "grid_template_areas": null,
            "grid_template_columns": null,
            "grid_template_rows": null,
            "height": null,
            "justify_content": null,
            "justify_items": null,
            "left": null,
            "margin": null,
            "max_height": null,
            "max_width": null,
            "min_height": null,
            "min_width": null,
            "object_fit": null,
            "object_position": null,
            "order": null,
            "overflow": null,
            "overflow_x": null,
            "overflow_y": null,
            "padding": null,
            "right": null,
            "top": null,
            "visibility": null,
            "width": null
          }
        },
        "e190a1d8004140cb888d469460dd4ce4": {
          "model_module": "@jupyter-widgets/controls",
          "model_name": "DescriptionStyleModel",
          "model_module_version": "1.5.0",
          "state": {
            "_model_module": "@jupyter-widgets/controls",
            "_model_module_version": "1.5.0",
            "_model_name": "DescriptionStyleModel",
            "_view_count": null,
            "_view_module": "@jupyter-widgets/base",
            "_view_module_version": "1.2.0",
            "_view_name": "StyleView",
            "description_width": ""
          }
        },
        "befb5fbccd4c4857ac8203be8f52dbb6": {
          "model_module": "@jupyter-widgets/controls",
          "model_name": "HBoxModel",
          "model_module_version": "1.5.0",
          "state": {
            "_dom_classes": [],
            "_model_module": "@jupyter-widgets/controls",
            "_model_module_version": "1.5.0",
            "_model_name": "HBoxModel",
            "_view_count": null,
            "_view_module": "@jupyter-widgets/controls",
            "_view_module_version": "1.5.0",
            "_view_name": "HBoxView",
            "box_style": "",
            "children": [
              "IPY_MODEL_6993a426362d409782771af930ace696",
              "IPY_MODEL_71a21ac874d04e228da13f49ecf952d2",
              "IPY_MODEL_f7f3495c6e5048de843dad57af6f1b18"
            ],
            "layout": "IPY_MODEL_3d68b5dc845c4f5c8fdedd8b5bd89b2b"
          }
        },
        "6993a426362d409782771af930ace696": {
          "model_module": "@jupyter-widgets/controls",
          "model_name": "HTMLModel",
          "model_module_version": "1.5.0",
          "state": {
            "_dom_classes": [],
            "_model_module": "@jupyter-widgets/controls",
            "_model_module_version": "1.5.0",
            "_model_name": "HTMLModel",
            "_view_count": null,
            "_view_module": "@jupyter-widgets/controls",
            "_view_module_version": "1.5.0",
            "_view_name": "HTMLView",
            "description": "",
            "description_tooltip": null,
            "layout": "IPY_MODEL_9ea3d688e6c7445999874bc1ea42f632",
            "placeholder": "​",
            "style": "IPY_MODEL_362be651012b4177bfe4f4afa8415e89",
            "value": "Downloading builder script: 100%"
          }
        },
        "71a21ac874d04e228da13f49ecf952d2": {
          "model_module": "@jupyter-widgets/controls",
          "model_name": "FloatProgressModel",
          "model_module_version": "1.5.0",
          "state": {
            "_dom_classes": [],
            "_model_module": "@jupyter-widgets/controls",
            "_model_module_version": "1.5.0",
            "_model_name": "FloatProgressModel",
            "_view_count": null,
            "_view_module": "@jupyter-widgets/controls",
            "_view_module_version": "1.5.0",
            "_view_name": "ProgressView",
            "bar_style": "success",
            "description": "",
            "description_tooltip": null,
            "layout": "IPY_MODEL_4f892905f1174816a10fbfc79f484080",
            "max": 4203,
            "min": 0,
            "orientation": "horizontal",
            "style": "IPY_MODEL_d46ad2f56d7f4b0fa7af80591e98ce74",
            "value": 4203
          }
        },
        "f7f3495c6e5048de843dad57af6f1b18": {
          "model_module": "@jupyter-widgets/controls",
          "model_name": "HTMLModel",
          "model_module_version": "1.5.0",
          "state": {
            "_dom_classes": [],
            "_model_module": "@jupyter-widgets/controls",
            "_model_module_version": "1.5.0",
            "_model_name": "HTMLModel",
            "_view_count": null,
            "_view_module": "@jupyter-widgets/controls",
            "_view_module_version": "1.5.0",
            "_view_name": "HTMLView",
            "description": "",
            "description_tooltip": null,
            "layout": "IPY_MODEL_c91109a36e1f46c9b424a5e1b4eb66dd",
            "placeholder": "​",
            "style": "IPY_MODEL_29204b1c8dde425c91b43b78c9c0d97f",
            "value": " 4.20k/4.20k [00:00&lt;00:00, 221kB/s]"
          }
        },
        "3d68b5dc845c4f5c8fdedd8b5bd89b2b": {
          "model_module": "@jupyter-widgets/base",
          "model_name": "LayoutModel",
          "model_module_version": "1.2.0",
          "state": {
            "_model_module": "@jupyter-widgets/base",
            "_model_module_version": "1.2.0",
            "_model_name": "LayoutModel",
            "_view_count": null,
            "_view_module": "@jupyter-widgets/base",
            "_view_module_version": "1.2.0",
            "_view_name": "LayoutView",
            "align_content": null,
            "align_items": null,
            "align_self": null,
            "border": null,
            "bottom": null,
            "display": null,
            "flex": null,
            "flex_flow": null,
            "grid_area": null,
            "grid_auto_columns": null,
            "grid_auto_flow": null,
            "grid_auto_rows": null,
            "grid_column": null,
            "grid_gap": null,
            "grid_row": null,
            "grid_template_areas": null,
            "grid_template_columns": null,
            "grid_template_rows": null,
            "height": null,
            "justify_content": null,
            "justify_items": null,
            "left": null,
            "margin": null,
            "max_height": null,
            "max_width": null,
            "min_height": null,
            "min_width": null,
            "object_fit": null,
            "object_position": null,
            "order": null,
            "overflow": null,
            "overflow_x": null,
            "overflow_y": null,
            "padding": null,
            "right": null,
            "top": null,
            "visibility": null,
            "width": null
          }
        },
        "9ea3d688e6c7445999874bc1ea42f632": {
          "model_module": "@jupyter-widgets/base",
          "model_name": "LayoutModel",
          "model_module_version": "1.2.0",
          "state": {
            "_model_module": "@jupyter-widgets/base",
            "_model_module_version": "1.2.0",
            "_model_name": "LayoutModel",
            "_view_count": null,
            "_view_module": "@jupyter-widgets/base",
            "_view_module_version": "1.2.0",
            "_view_name": "LayoutView",
            "align_content": null,
            "align_items": null,
            "align_self": null,
            "border": null,
            "bottom": null,
            "display": null,
            "flex": null,
            "flex_flow": null,
            "grid_area": null,
            "grid_auto_columns": null,
            "grid_auto_flow": null,
            "grid_auto_rows": null,
            "grid_column": null,
            "grid_gap": null,
            "grid_row": null,
            "grid_template_areas": null,
            "grid_template_columns": null,
            "grid_template_rows": null,
            "height": null,
            "justify_content": null,
            "justify_items": null,
            "left": null,
            "margin": null,
            "max_height": null,
            "max_width": null,
            "min_height": null,
            "min_width": null,
            "object_fit": null,
            "object_position": null,
            "order": null,
            "overflow": null,
            "overflow_x": null,
            "overflow_y": null,
            "padding": null,
            "right": null,
            "top": null,
            "visibility": null,
            "width": null
          }
        },
        "362be651012b4177bfe4f4afa8415e89": {
          "model_module": "@jupyter-widgets/controls",
          "model_name": "DescriptionStyleModel",
          "model_module_version": "1.5.0",
          "state": {
            "_model_module": "@jupyter-widgets/controls",
            "_model_module_version": "1.5.0",
            "_model_name": "DescriptionStyleModel",
            "_view_count": null,
            "_view_module": "@jupyter-widgets/base",
            "_view_module_version": "1.2.0",
            "_view_name": "StyleView",
            "description_width": ""
          }
        },
        "4f892905f1174816a10fbfc79f484080": {
          "model_module": "@jupyter-widgets/base",
          "model_name": "LayoutModel",
          "model_module_version": "1.2.0",
          "state": {
            "_model_module": "@jupyter-widgets/base",
            "_model_module_version": "1.2.0",
            "_model_name": "LayoutModel",
            "_view_count": null,
            "_view_module": "@jupyter-widgets/base",
            "_view_module_version": "1.2.0",
            "_view_name": "LayoutView",
            "align_content": null,
            "align_items": null,
            "align_self": null,
            "border": null,
            "bottom": null,
            "display": null,
            "flex": null,
            "flex_flow": null,
            "grid_area": null,
            "grid_auto_columns": null,
            "grid_auto_flow": null,
            "grid_auto_rows": null,
            "grid_column": null,
            "grid_gap": null,
            "grid_row": null,
            "grid_template_areas": null,
            "grid_template_columns": null,
            "grid_template_rows": null,
            "height": null,
            "justify_content": null,
            "justify_items": null,
            "left": null,
            "margin": null,
            "max_height": null,
            "max_width": null,
            "min_height": null,
            "min_width": null,
            "object_fit": null,
            "object_position": null,
            "order": null,
            "overflow": null,
            "overflow_x": null,
            "overflow_y": null,
            "padding": null,
            "right": null,
            "top": null,
            "visibility": null,
            "width": null
          }
        },
        "d46ad2f56d7f4b0fa7af80591e98ce74": {
          "model_module": "@jupyter-widgets/controls",
          "model_name": "ProgressStyleModel",
          "model_module_version": "1.5.0",
          "state": {
            "_model_module": "@jupyter-widgets/controls",
            "_model_module_version": "1.5.0",
            "_model_name": "ProgressStyleModel",
            "_view_count": null,
            "_view_module": "@jupyter-widgets/base",
            "_view_module_version": "1.2.0",
            "_view_name": "StyleView",
            "bar_color": null,
            "description_width": ""
          }
        },
        "c91109a36e1f46c9b424a5e1b4eb66dd": {
          "model_module": "@jupyter-widgets/base",
          "model_name": "LayoutModel",
          "model_module_version": "1.2.0",
          "state": {
            "_model_module": "@jupyter-widgets/base",
            "_model_module_version": "1.2.0",
            "_model_name": "LayoutModel",
            "_view_count": null,
            "_view_module": "@jupyter-widgets/base",
            "_view_module_version": "1.2.0",
            "_view_name": "LayoutView",
            "align_content": null,
            "align_items": null,
            "align_self": null,
            "border": null,
            "bottom": null,
            "display": null,
            "flex": null,
            "flex_flow": null,
            "grid_area": null,
            "grid_auto_columns": null,
            "grid_auto_flow": null,
            "grid_auto_rows": null,
            "grid_column": null,
            "grid_gap": null,
            "grid_row": null,
            "grid_template_areas": null,
            "grid_template_columns": null,
            "grid_template_rows": null,
            "height": null,
            "justify_content": null,
            "justify_items": null,
            "left": null,
            "margin": null,
            "max_height": null,
            "max_width": null,
            "min_height": null,
            "min_width": null,
            "object_fit": null,
            "object_position": null,
            "order": null,
            "overflow": null,
            "overflow_x": null,
            "overflow_y": null,
            "padding": null,
            "right": null,
            "top": null,
            "visibility": null,
            "width": null
          }
        },
        "29204b1c8dde425c91b43b78c9c0d97f": {
          "model_module": "@jupyter-widgets/controls",
          "model_name": "DescriptionStyleModel",
          "model_module_version": "1.5.0",
          "state": {
            "_model_module": "@jupyter-widgets/controls",
            "_model_module_version": "1.5.0",
            "_model_name": "DescriptionStyleModel",
            "_view_count": null,
            "_view_module": "@jupyter-widgets/base",
            "_view_module_version": "1.2.0",
            "_view_name": "StyleView",
            "description_width": ""
          }
        },
        "8fa7ba90647546c498bc7870191fa012": {
          "model_module": "@jupyter-widgets/controls",
          "model_name": "HBoxModel",
          "model_module_version": "1.5.0",
          "state": {
            "_dom_classes": [],
            "_model_module": "@jupyter-widgets/controls",
            "_model_module_version": "1.5.0",
            "_model_name": "HBoxModel",
            "_view_count": null,
            "_view_module": "@jupyter-widgets/controls",
            "_view_module_version": "1.5.0",
            "_view_name": "HBoxView",
            "box_style": "",
            "children": [
              "IPY_MODEL_06f7ddbc54b54c7d8113382f47679cd5",
              "IPY_MODEL_1b1022d687464ccd9ef6f8b57fd0e82c",
              "IPY_MODEL_751cd8b68d444b719c086c32684b3d29"
            ],
            "layout": "IPY_MODEL_9ef7b7ff61954672b621709f7a7a6abc"
          }
        },
        "06f7ddbc54b54c7d8113382f47679cd5": {
          "model_module": "@jupyter-widgets/controls",
          "model_name": "HTMLModel",
          "model_module_version": "1.5.0",
          "state": {
            "_dom_classes": [],
            "_model_module": "@jupyter-widgets/controls",
            "_model_module_version": "1.5.0",
            "_model_name": "HTMLModel",
            "_view_count": null,
            "_view_module": "@jupyter-widgets/controls",
            "_view_module_version": "1.5.0",
            "_view_name": "HTMLView",
            "description": "",
            "description_tooltip": null,
            "layout": "IPY_MODEL_e60df30bfebe4fcfb43fb57244db58b9",
            "placeholder": "​",
            "style": "IPY_MODEL_c5a2efd665264871aa256b90a2e47d3e",
            "value": "Downloading pytorch_model.bin: 100%"
          }
        },
        "1b1022d687464ccd9ef6f8b57fd0e82c": {
          "model_module": "@jupyter-widgets/controls",
          "model_name": "FloatProgressModel",
          "model_module_version": "1.5.0",
          "state": {
            "_dom_classes": [],
            "_model_module": "@jupyter-widgets/controls",
            "_model_module_version": "1.5.0",
            "_model_name": "FloatProgressModel",
            "_view_count": null,
            "_view_module": "@jupyter-widgets/controls",
            "_view_module_version": "1.5.0",
            "_view_name": "ProgressView",
            "bar_style": "success",
            "description": "",
            "description_tooltip": null,
            "layout": "IPY_MODEL_b795eea718be4318a14d54edb08552a8",
            "max": 501200538,
            "min": 0,
            "orientation": "horizontal",
            "style": "IPY_MODEL_9789b88ba71c4206b47348803d8d045b",
            "value": 501200538
          }
        },
        "751cd8b68d444b719c086c32684b3d29": {
          "model_module": "@jupyter-widgets/controls",
          "model_name": "HTMLModel",
          "model_module_version": "1.5.0",
          "state": {
            "_dom_classes": [],
            "_model_module": "@jupyter-widgets/controls",
            "_model_module_version": "1.5.0",
            "_model_name": "HTMLModel",
            "_view_count": null,
            "_view_module": "@jupyter-widgets/controls",
            "_view_module_version": "1.5.0",
            "_view_name": "HTMLView",
            "description": "",
            "description_tooltip": null,
            "layout": "IPY_MODEL_75a4795e3c79438896a10ec4405e544b",
            "placeholder": "​",
            "style": "IPY_MODEL_c9117d5d2d034fae9af3f1a9559a1d8c",
            "value": " 501M/501M [00:05&lt;00:00, 88.3MB/s]"
          }
        },
        "9ef7b7ff61954672b621709f7a7a6abc": {
          "model_module": "@jupyter-widgets/base",
          "model_name": "LayoutModel",
          "model_module_version": "1.2.0",
          "state": {
            "_model_module": "@jupyter-widgets/base",
            "_model_module_version": "1.2.0",
            "_model_name": "LayoutModel",
            "_view_count": null,
            "_view_module": "@jupyter-widgets/base",
            "_view_module_version": "1.2.0",
            "_view_name": "LayoutView",
            "align_content": null,
            "align_items": null,
            "align_self": null,
            "border": null,
            "bottom": null,
            "display": null,
            "flex": null,
            "flex_flow": null,
            "grid_area": null,
            "grid_auto_columns": null,
            "grid_auto_flow": null,
            "grid_auto_rows": null,
            "grid_column": null,
            "grid_gap": null,
            "grid_row": null,
            "grid_template_areas": null,
            "grid_template_columns": null,
            "grid_template_rows": null,
            "height": null,
            "justify_content": null,
            "justify_items": null,
            "left": null,
            "margin": null,
            "max_height": null,
            "max_width": null,
            "min_height": null,
            "min_width": null,
            "object_fit": null,
            "object_position": null,
            "order": null,
            "overflow": null,
            "overflow_x": null,
            "overflow_y": null,
            "padding": null,
            "right": null,
            "top": null,
            "visibility": null,
            "width": null
          }
        },
        "e60df30bfebe4fcfb43fb57244db58b9": {
          "model_module": "@jupyter-widgets/base",
          "model_name": "LayoutModel",
          "model_module_version": "1.2.0",
          "state": {
            "_model_module": "@jupyter-widgets/base",
            "_model_module_version": "1.2.0",
            "_model_name": "LayoutModel",
            "_view_count": null,
            "_view_module": "@jupyter-widgets/base",
            "_view_module_version": "1.2.0",
            "_view_name": "LayoutView",
            "align_content": null,
            "align_items": null,
            "align_self": null,
            "border": null,
            "bottom": null,
            "display": null,
            "flex": null,
            "flex_flow": null,
            "grid_area": null,
            "grid_auto_columns": null,
            "grid_auto_flow": null,
            "grid_auto_rows": null,
            "grid_column": null,
            "grid_gap": null,
            "grid_row": null,
            "grid_template_areas": null,
            "grid_template_columns": null,
            "grid_template_rows": null,
            "height": null,
            "justify_content": null,
            "justify_items": null,
            "left": null,
            "margin": null,
            "max_height": null,
            "max_width": null,
            "min_height": null,
            "min_width": null,
            "object_fit": null,
            "object_position": null,
            "order": null,
            "overflow": null,
            "overflow_x": null,
            "overflow_y": null,
            "padding": null,
            "right": null,
            "top": null,
            "visibility": null,
            "width": null
          }
        },
        "c5a2efd665264871aa256b90a2e47d3e": {
          "model_module": "@jupyter-widgets/controls",
          "model_name": "DescriptionStyleModel",
          "model_module_version": "1.5.0",
          "state": {
            "_model_module": "@jupyter-widgets/controls",
            "_model_module_version": "1.5.0",
            "_model_name": "DescriptionStyleModel",
            "_view_count": null,
            "_view_module": "@jupyter-widgets/base",
            "_view_module_version": "1.2.0",
            "_view_name": "StyleView",
            "description_width": ""
          }
        },
        "b795eea718be4318a14d54edb08552a8": {
          "model_module": "@jupyter-widgets/base",
          "model_name": "LayoutModel",
          "model_module_version": "1.2.0",
          "state": {
            "_model_module": "@jupyter-widgets/base",
            "_model_module_version": "1.2.0",
            "_model_name": "LayoutModel",
            "_view_count": null,
            "_view_module": "@jupyter-widgets/base",
            "_view_module_version": "1.2.0",
            "_view_name": "LayoutView",
            "align_content": null,
            "align_items": null,
            "align_self": null,
            "border": null,
            "bottom": null,
            "display": null,
            "flex": null,
            "flex_flow": null,
            "grid_area": null,
            "grid_auto_columns": null,
            "grid_auto_flow": null,
            "grid_auto_rows": null,
            "grid_column": null,
            "grid_gap": null,
            "grid_row": null,
            "grid_template_areas": null,
            "grid_template_columns": null,
            "grid_template_rows": null,
            "height": null,
            "justify_content": null,
            "justify_items": null,
            "left": null,
            "margin": null,
            "max_height": null,
            "max_width": null,
            "min_height": null,
            "min_width": null,
            "object_fit": null,
            "object_position": null,
            "order": null,
            "overflow": null,
            "overflow_x": null,
            "overflow_y": null,
            "padding": null,
            "right": null,
            "top": null,
            "visibility": null,
            "width": null
          }
        },
        "9789b88ba71c4206b47348803d8d045b": {
          "model_module": "@jupyter-widgets/controls",
          "model_name": "ProgressStyleModel",
          "model_module_version": "1.5.0",
          "state": {
            "_model_module": "@jupyter-widgets/controls",
            "_model_module_version": "1.5.0",
            "_model_name": "ProgressStyleModel",
            "_view_count": null,
            "_view_module": "@jupyter-widgets/base",
            "_view_module_version": "1.2.0",
            "_view_name": "StyleView",
            "bar_color": null,
            "description_width": ""
          }
        },
        "75a4795e3c79438896a10ec4405e544b": {
          "model_module": "@jupyter-widgets/base",
          "model_name": "LayoutModel",
          "model_module_version": "1.2.0",
          "state": {
            "_model_module": "@jupyter-widgets/base",
            "_model_module_version": "1.2.0",
            "_model_name": "LayoutModel",
            "_view_count": null,
            "_view_module": "@jupyter-widgets/base",
            "_view_module_version": "1.2.0",
            "_view_name": "LayoutView",
            "align_content": null,
            "align_items": null,
            "align_self": null,
            "border": null,
            "bottom": null,
            "display": null,
            "flex": null,
            "flex_flow": null,
            "grid_area": null,
            "grid_auto_columns": null,
            "grid_auto_flow": null,
            "grid_auto_rows": null,
            "grid_column": null,
            "grid_gap": null,
            "grid_row": null,
            "grid_template_areas": null,
            "grid_template_columns": null,
            "grid_template_rows": null,
            "height": null,
            "justify_content": null,
            "justify_items": null,
            "left": null,
            "margin": null,
            "max_height": null,
            "max_width": null,
            "min_height": null,
            "min_width": null,
            "object_fit": null,
            "object_position": null,
            "order": null,
            "overflow": null,
            "overflow_x": null,
            "overflow_y": null,
            "padding": null,
            "right": null,
            "top": null,
            "visibility": null,
            "width": null
          }
        },
        "c9117d5d2d034fae9af3f1a9559a1d8c": {
          "model_module": "@jupyter-widgets/controls",
          "model_name": "DescriptionStyleModel",
          "model_module_version": "1.5.0",
          "state": {
            "_model_module": "@jupyter-widgets/controls",
            "_model_module_version": "1.5.0",
            "_model_name": "DescriptionStyleModel",
            "_view_count": null,
            "_view_module": "@jupyter-widgets/base",
            "_view_module_version": "1.2.0",
            "_view_name": "StyleView",
            "description_width": ""
          }
        }
      }
    },
    "accelerator": "GPU"
  },
  "nbformat_minor": 0,
  "nbformat": 4,
  "cells": [
    {
      "cell_type": "markdown",
      "metadata": {
        "id": "view-in-github",
        "colab_type": "text"
      },
      "source": [
        "<a href=\"https://colab.research.google.com/github/nates27/multi-task-learning/blob/main/bt5151_gp_npk.ipynb\" target=\"_parent\"><img src=\"https://colab.research.google.com/assets/colab-badge.svg\" alt=\"Open In Colab\"/></a>"
      ]
    },
    {
      "cell_type": "code",
      "source": [
        "from google.colab import drive\n",
        "drive.mount('/content/drive')"
      ],
      "metadata": {
        "colab": {
          "base_uri": "https://localhost:8080/"
        },
        "id": "qaVLEcNhFTcC",
        "outputId": "5862d90e-f18b-4803-b23c-d48677b51b94"
      },
      "execution_count": 1,
      "outputs": [
        {
          "output_type": "stream",
          "name": "stdout",
          "text": [
            "Mounted at /content/drive\n"
          ]
        }
      ]
    },
    {
      "cell_type": "code",
      "source": [
        "pip install transformers"
      ],
      "metadata": {
        "colab": {
          "base_uri": "https://localhost:8080/"
        },
        "id": "w5d49lbEGAM3",
        "outputId": "6d8386f4-f98c-4468-a800-4f8d811151fa"
      },
      "execution_count": 2,
      "outputs": [
        {
          "output_type": "stream",
          "name": "stdout",
          "text": [
            "Looking in indexes: https://pypi.org/simple, https://us-python.pkg.dev/colab-wheels/public/simple/\n",
            "Collecting transformers\n",
            "  Downloading transformers-4.27.4-py3-none-any.whl (6.8 MB)\n",
            "\u001b[2K     \u001b[90m━━━━━━━━━━━━━━━━━━━━━━━━━━━━━━━━━━━━━━━━\u001b[0m \u001b[32m6.8/6.8 MB\u001b[0m \u001b[31m100.4 MB/s\u001b[0m eta \u001b[36m0:00:00\u001b[0m\n",
            "\u001b[?25hRequirement already satisfied: requests in /usr/local/lib/python3.9/dist-packages (from transformers) (2.27.1)\n",
            "Requirement already satisfied: filelock in /usr/local/lib/python3.9/dist-packages (from transformers) (3.11.0)\n",
            "Requirement already satisfied: tqdm>=4.27 in /usr/local/lib/python3.9/dist-packages (from transformers) (4.65.0)\n",
            "Requirement already satisfied: pyyaml>=5.1 in /usr/local/lib/python3.9/dist-packages (from transformers) (6.0)\n",
            "Requirement already satisfied: packaging>=20.0 in /usr/local/lib/python3.9/dist-packages (from transformers) (23.0)\n",
            "Collecting huggingface-hub<1.0,>=0.11.0\n",
            "  Downloading huggingface_hub-0.13.4-py3-none-any.whl (200 kB)\n",
            "\u001b[2K     \u001b[90m━━━━━━━━━━━━━━━━━━━━━━━━━━━━━━━━━━━━━━\u001b[0m \u001b[32m200.1/200.1 kB\u001b[0m \u001b[31m24.3 MB/s\u001b[0m eta \u001b[36m0:00:00\u001b[0m\n",
            "\u001b[?25hRequirement already satisfied: regex!=2019.12.17 in /usr/local/lib/python3.9/dist-packages (from transformers) (2022.10.31)\n",
            "Collecting tokenizers!=0.11.3,<0.14,>=0.11.1\n",
            "  Downloading tokenizers-0.13.3-cp39-cp39-manylinux_2_17_x86_64.manylinux2014_x86_64.whl (7.8 MB)\n",
            "\u001b[2K     \u001b[90m━━━━━━━━━━━━━━━━━━━━━━━━━━━━━━━━━━━━━━━━\u001b[0m \u001b[32m7.8/7.8 MB\u001b[0m \u001b[31m98.9 MB/s\u001b[0m eta \u001b[36m0:00:00\u001b[0m\n",
            "\u001b[?25hRequirement already satisfied: numpy>=1.17 in /usr/local/lib/python3.9/dist-packages (from transformers) (1.22.4)\n",
            "Requirement already satisfied: typing-extensions>=3.7.4.3 in /usr/local/lib/python3.9/dist-packages (from huggingface-hub<1.0,>=0.11.0->transformers) (4.5.0)\n",
            "Requirement already satisfied: certifi>=2017.4.17 in /usr/local/lib/python3.9/dist-packages (from requests->transformers) (2022.12.7)\n",
            "Requirement already satisfied: charset-normalizer~=2.0.0 in /usr/local/lib/python3.9/dist-packages (from requests->transformers) (2.0.12)\n",
            "Requirement already satisfied: urllib3<1.27,>=1.21.1 in /usr/local/lib/python3.9/dist-packages (from requests->transformers) (1.26.15)\n",
            "Requirement already satisfied: idna<4,>=2.5 in /usr/local/lib/python3.9/dist-packages (from requests->transformers) (3.4)\n",
            "Installing collected packages: tokenizers, huggingface-hub, transformers\n",
            "Successfully installed huggingface-hub-0.13.4 tokenizers-0.13.3 transformers-4.27.4\n"
          ]
        }
      ]
    },
    {
      "cell_type": "code",
      "source": [
        "pip install wandb"
      ],
      "metadata": {
        "colab": {
          "base_uri": "https://localhost:8080/"
        },
        "id": "DMYyT65HLkrM",
        "outputId": "13034acd-9780-4bec-d36b-d39db7c6f4a4"
      },
      "execution_count": 3,
      "outputs": [
        {
          "output_type": "stream",
          "name": "stdout",
          "text": [
            "Looking in indexes: https://pypi.org/simple, https://us-python.pkg.dev/colab-wheels/public/simple/\n",
            "Collecting wandb\n",
            "  Downloading wandb-0.14.2-py3-none-any.whl (2.0 MB)\n",
            "\u001b[2K     \u001b[90m━━━━━━━━━━━━━━━━━━━━━━━━━━━━━━━━━━━━━━━━\u001b[0m \u001b[32m2.0/2.0 MB\u001b[0m \u001b[31m51.8 MB/s\u001b[0m eta \u001b[36m0:00:00\u001b[0m\n",
            "\u001b[?25hRequirement already satisfied: Click!=8.0.0,>=7.0 in /usr/local/lib/python3.9/dist-packages (from wandb) (8.1.3)\n",
            "Collecting sentry-sdk>=1.0.0\n",
            "  Downloading sentry_sdk-1.19.1-py2.py3-none-any.whl (199 kB)\n",
            "\u001b[2K     \u001b[90m━━━━━━━━━━━━━━━━━━━━━━━━━━━━━━━━━━━━━━\u001b[0m \u001b[32m199.2/199.2 kB\u001b[0m \u001b[31m26.6 MB/s\u001b[0m eta \u001b[36m0:00:00\u001b[0m\n",
            "\u001b[?25hCollecting docker-pycreds>=0.4.0\n",
            "  Downloading docker_pycreds-0.4.0-py2.py3-none-any.whl (9.0 kB)\n",
            "Requirement already satisfied: appdirs>=1.4.3 in /usr/local/lib/python3.9/dist-packages (from wandb) (1.4.4)\n",
            "Requirement already satisfied: PyYAML in /usr/local/lib/python3.9/dist-packages (from wandb) (6.0)\n",
            "Requirement already satisfied: typing-extensions in /usr/local/lib/python3.9/dist-packages (from wandb) (4.5.0)\n",
            "Requirement already satisfied: setuptools in /usr/local/lib/python3.9/dist-packages (from wandb) (67.6.1)\n",
            "Requirement already satisfied: psutil>=5.0.0 in /usr/local/lib/python3.9/dist-packages (from wandb) (5.9.4)\n",
            "Collecting pathtools\n",
            "  Downloading pathtools-0.1.2.tar.gz (11 kB)\n",
            "  Preparing metadata (setup.py) ... \u001b[?25l\u001b[?25hdone\n",
            "Collecting GitPython!=3.1.29,>=1.0.0\n",
            "  Downloading GitPython-3.1.31-py3-none-any.whl (184 kB)\n",
            "\u001b[2K     \u001b[90m━━━━━━━━━━━━━━━━━━━━━━━━━━━━━━━━━━━━━━\u001b[0m \u001b[32m184.3/184.3 kB\u001b[0m \u001b[31m21.7 MB/s\u001b[0m eta \u001b[36m0:00:00\u001b[0m\n",
            "\u001b[?25hCollecting setproctitle\n",
            "  Downloading setproctitle-1.3.2-cp39-cp39-manylinux_2_5_x86_64.manylinux1_x86_64.manylinux_2_17_x86_64.manylinux2014_x86_64.whl (30 kB)\n",
            "Requirement already satisfied: protobuf!=4.21.0,<5,>=3.15.0 in /usr/local/lib/python3.9/dist-packages (from wandb) (3.20.3)\n",
            "Requirement already satisfied: requests<3,>=2.0.0 in /usr/local/lib/python3.9/dist-packages (from wandb) (2.27.1)\n",
            "Requirement already satisfied: six>=1.4.0 in /usr/local/lib/python3.9/dist-packages (from docker-pycreds>=0.4.0->wandb) (1.16.0)\n",
            "Collecting gitdb<5,>=4.0.1\n",
            "  Downloading gitdb-4.0.10-py3-none-any.whl (62 kB)\n",
            "\u001b[2K     \u001b[90m━━━━━━━━━━━━━━━━━━━━━━━━━━━━━━━━━━━━━━━━\u001b[0m \u001b[32m62.7/62.7 kB\u001b[0m \u001b[31m8.5 MB/s\u001b[0m eta \u001b[36m0:00:00\u001b[0m\n",
            "\u001b[?25hRequirement already satisfied: urllib3<1.27,>=1.21.1 in /usr/local/lib/python3.9/dist-packages (from requests<3,>=2.0.0->wandb) (1.26.15)\n",
            "Requirement already satisfied: idna<4,>=2.5 in /usr/local/lib/python3.9/dist-packages (from requests<3,>=2.0.0->wandb) (3.4)\n",
            "Requirement already satisfied: charset-normalizer~=2.0.0 in /usr/local/lib/python3.9/dist-packages (from requests<3,>=2.0.0->wandb) (2.0.12)\n",
            "Requirement already satisfied: certifi>=2017.4.17 in /usr/local/lib/python3.9/dist-packages (from requests<3,>=2.0.0->wandb) (2022.12.7)\n",
            "Collecting smmap<6,>=3.0.1\n",
            "  Downloading smmap-5.0.0-py3-none-any.whl (24 kB)\n",
            "Building wheels for collected packages: pathtools\n",
            "  Building wheel for pathtools (setup.py) ... \u001b[?25l\u001b[?25hdone\n",
            "  Created wheel for pathtools: filename=pathtools-0.1.2-py3-none-any.whl size=8807 sha256=c49144c365375f63ff3fcaa86635a2494b7bbb0ba652d023392080f21020fb5e\n",
            "  Stored in directory: /root/.cache/pip/wheels/b7/0a/67/ada2a22079218c75a88361c0782855cc72aebc4d18d0289d05\n",
            "Successfully built pathtools\n",
            "Installing collected packages: pathtools, smmap, setproctitle, sentry-sdk, docker-pycreds, gitdb, GitPython, wandb\n",
            "Successfully installed GitPython-3.1.31 docker-pycreds-0.4.0 gitdb-4.0.10 pathtools-0.1.2 sentry-sdk-1.19.1 setproctitle-1.3.2 smmap-5.0.0 wandb-0.14.2\n"
          ]
        }
      ]
    },
    {
      "cell_type": "code",
      "source": [
        "pip install evaluate"
      ],
      "metadata": {
        "colab": {
          "base_uri": "https://localhost:8080/"
        },
        "id": "cG9bsrB67WKM",
        "outputId": "334a7068-6d89-4fa2-d96f-8af05a96aadd"
      },
      "execution_count": 4,
      "outputs": [
        {
          "output_type": "stream",
          "name": "stdout",
          "text": [
            "Looking in indexes: https://pypi.org/simple, https://us-python.pkg.dev/colab-wheels/public/simple/\n",
            "Collecting evaluate\n",
            "  Downloading evaluate-0.4.0-py3-none-any.whl (81 kB)\n",
            "\u001b[2K     \u001b[90m━━━━━━━━━━━━━━━━━━━━━━━━━━━━━━━━━━━━━━━━\u001b[0m \u001b[32m81.4/81.4 kB\u001b[0m \u001b[31m8.4 MB/s\u001b[0m eta \u001b[36m0:00:00\u001b[0m\n",
            "\u001b[?25hCollecting multiprocess\n",
            "  Downloading multiprocess-0.70.14-py39-none-any.whl (132 kB)\n",
            "\u001b[2K     \u001b[90m━━━━━━━━━━━━━━━━━━━━━━━━━━━━━━━━━━━━━━\u001b[0m \u001b[32m132.9/132.9 kB\u001b[0m \u001b[31m19.8 MB/s\u001b[0m eta \u001b[36m0:00:00\u001b[0m\n",
            "\u001b[?25hCollecting responses<0.19\n",
            "  Downloading responses-0.18.0-py3-none-any.whl (38 kB)\n",
            "Collecting datasets>=2.0.0\n",
            "  Downloading datasets-2.11.0-py3-none-any.whl (468 kB)\n",
            "\u001b[2K     \u001b[90m━━━━━━━━━━━━━━━━━━━━━━━━━━━━━━━━━━━━━━\u001b[0m \u001b[32m468.7/468.7 kB\u001b[0m \u001b[31m49.0 MB/s\u001b[0m eta \u001b[36m0:00:00\u001b[0m\n",
            "\u001b[?25hRequirement already satisfied: packaging in /usr/local/lib/python3.9/dist-packages (from evaluate) (23.0)\n",
            "Collecting dill\n",
            "  Downloading dill-0.3.6-py3-none-any.whl (110 kB)\n",
            "\u001b[2K     \u001b[90m━━━━━━━━━━━━━━━━━━━━━━━━━━━━━━━━━━━━━━━\u001b[0m \u001b[32m110.5/110.5 kB\u001b[0m \u001b[31m6.6 MB/s\u001b[0m eta \u001b[36m0:00:00\u001b[0m\n",
            "\u001b[?25hCollecting xxhash\n",
            "  Downloading xxhash-3.2.0-cp39-cp39-manylinux_2_17_x86_64.manylinux2014_x86_64.whl (212 kB)\n",
            "\u001b[2K     \u001b[90m━━━━━━━━━━━━━━━━━━━━━━━━━━━━━━━━━━━━━━\u001b[0m \u001b[32m212.2/212.2 kB\u001b[0m \u001b[31m24.1 MB/s\u001b[0m eta \u001b[36m0:00:00\u001b[0m\n",
            "\u001b[?25hRequirement already satisfied: requests>=2.19.0 in /usr/local/lib/python3.9/dist-packages (from evaluate) (2.27.1)\n",
            "Requirement already satisfied: pandas in /usr/local/lib/python3.9/dist-packages (from evaluate) (1.5.3)\n",
            "Requirement already satisfied: fsspec[http]>=2021.05.0 in /usr/local/lib/python3.9/dist-packages (from evaluate) (2023.3.0)\n",
            "Requirement already satisfied: huggingface-hub>=0.7.0 in /usr/local/lib/python3.9/dist-packages (from evaluate) (0.13.4)\n",
            "Requirement already satisfied: tqdm>=4.62.1 in /usr/local/lib/python3.9/dist-packages (from evaluate) (4.65.0)\n",
            "Requirement already satisfied: numpy>=1.17 in /usr/local/lib/python3.9/dist-packages (from evaluate) (1.22.4)\n",
            "Requirement already satisfied: pyarrow>=8.0.0 in /usr/local/lib/python3.9/dist-packages (from datasets>=2.0.0->evaluate) (9.0.0)\n",
            "Requirement already satisfied: pyyaml>=5.1 in /usr/local/lib/python3.9/dist-packages (from datasets>=2.0.0->evaluate) (6.0)\n",
            "Collecting aiohttp\n",
            "  Downloading aiohttp-3.8.4-cp39-cp39-manylinux_2_17_x86_64.manylinux2014_x86_64.whl (1.0 MB)\n",
            "\u001b[2K     \u001b[90m━━━━━━━━━━━━━━━━━━━━━━━━━━━━━━━━━━━━━━━━\u001b[0m \u001b[32m1.0/1.0 MB\u001b[0m \u001b[31m64.9 MB/s\u001b[0m eta \u001b[36m0:00:00\u001b[0m\n",
            "\u001b[?25hRequirement already satisfied: filelock in /usr/local/lib/python3.9/dist-packages (from huggingface-hub>=0.7.0->evaluate) (3.11.0)\n",
            "Requirement already satisfied: typing-extensions>=3.7.4.3 in /usr/local/lib/python3.9/dist-packages (from huggingface-hub>=0.7.0->evaluate) (4.5.0)\n",
            "Requirement already satisfied: certifi>=2017.4.17 in /usr/local/lib/python3.9/dist-packages (from requests>=2.19.0->evaluate) (2022.12.7)\n",
            "Requirement already satisfied: urllib3<1.27,>=1.21.1 in /usr/local/lib/python3.9/dist-packages (from requests>=2.19.0->evaluate) (1.26.15)\n",
            "Requirement already satisfied: idna<4,>=2.5 in /usr/local/lib/python3.9/dist-packages (from requests>=2.19.0->evaluate) (3.4)\n",
            "Requirement already satisfied: charset-normalizer~=2.0.0 in /usr/local/lib/python3.9/dist-packages (from requests>=2.19.0->evaluate) (2.0.12)\n",
            "Requirement already satisfied: pytz>=2020.1 in /usr/local/lib/python3.9/dist-packages (from pandas->evaluate) (2022.7.1)\n",
            "Requirement already satisfied: python-dateutil>=2.8.1 in /usr/local/lib/python3.9/dist-packages (from pandas->evaluate) (2.8.2)\n",
            "Collecting async-timeout<5.0,>=4.0.0a3\n",
            "  Downloading async_timeout-4.0.2-py3-none-any.whl (5.8 kB)\n",
            "Collecting aiosignal>=1.1.2\n",
            "  Downloading aiosignal-1.3.1-py3-none-any.whl (7.6 kB)\n",
            "Collecting frozenlist>=1.1.1\n",
            "  Downloading frozenlist-1.3.3-cp39-cp39-manylinux_2_5_x86_64.manylinux1_x86_64.manylinux_2_17_x86_64.manylinux2014_x86_64.whl (158 kB)\n",
            "\u001b[2K     \u001b[90m━━━━━━━━━━━━━━━━━━━━━━━━━━━━━━━━━━━━━━\u001b[0m \u001b[32m158.8/158.8 kB\u001b[0m \u001b[31m24.2 MB/s\u001b[0m eta \u001b[36m0:00:00\u001b[0m\n",
            "\u001b[?25hRequirement already satisfied: attrs>=17.3.0 in /usr/local/lib/python3.9/dist-packages (from aiohttp->datasets>=2.0.0->evaluate) (22.2.0)\n",
            "Collecting multidict<7.0,>=4.5\n",
            "  Downloading multidict-6.0.4-cp39-cp39-manylinux_2_17_x86_64.manylinux2014_x86_64.whl (114 kB)\n",
            "\u001b[2K     \u001b[90m━━━━━━━━━━━━━━━━━━━━━━━━━━━━━━━━━━━━━━\u001b[0m \u001b[32m114.2/114.2 kB\u001b[0m \u001b[31m16.2 MB/s\u001b[0m eta \u001b[36m0:00:00\u001b[0m\n",
            "\u001b[?25hCollecting yarl<2.0,>=1.0\n",
            "  Downloading yarl-1.8.2-cp39-cp39-manylinux_2_17_x86_64.manylinux2014_x86_64.whl (264 kB)\n",
            "\u001b[2K     \u001b[90m━━━━━━━━━━━━━━━━━━━━━━━━━━━━━━━━━━━━━━\u001b[0m \u001b[32m264.6/264.6 kB\u001b[0m \u001b[31m29.4 MB/s\u001b[0m eta \u001b[36m0:00:00\u001b[0m\n",
            "\u001b[?25hRequirement already satisfied: six>=1.5 in /usr/local/lib/python3.9/dist-packages (from python-dateutil>=2.8.1->pandas->evaluate) (1.16.0)\n",
            "Installing collected packages: xxhash, multidict, frozenlist, dill, async-timeout, yarl, responses, multiprocess, aiosignal, aiohttp, datasets, evaluate\n",
            "Successfully installed aiohttp-3.8.4 aiosignal-1.3.1 async-timeout-4.0.2 datasets-2.11.0 dill-0.3.6 evaluate-0.4.0 frozenlist-1.3.3 multidict-6.0.4 multiprocess-0.70.14 responses-0.18.0 xxhash-3.2.0 yarl-1.8.2\n"
          ]
        }
      ]
    },
    {
      "cell_type": "code",
      "source": [
        "!pip install ax-platform"
      ],
      "metadata": {
        "id": "FxZ4fGWF2nt-",
        "colab": {
          "base_uri": "https://localhost:8080/"
        },
        "outputId": "0cba1486-6ee1-44b3-8b79-fcf703f126d3"
      },
      "execution_count": 5,
      "outputs": [
        {
          "output_type": "stream",
          "name": "stdout",
          "text": [
            "Looking in indexes: https://pypi.org/simple, https://us-python.pkg.dev/colab-wheels/public/simple/\n",
            "Collecting ax-platform\n",
            "  Downloading ax_platform-0.3.1-py3-none-any.whl (1.2 MB)\n",
            "\u001b[2K     \u001b[90m━━━━━━━━━━━━━━━━━━━━━━━━━━━━━━━━━━━━━━━━\u001b[0m \u001b[32m1.2/1.2 MB\u001b[0m \u001b[31m63.8 MB/s\u001b[0m eta \u001b[36m0:00:00\u001b[0m\n",
            "\u001b[?25hRequirement already satisfied: plotly>=5.12.0 in /usr/local/lib/python3.9/dist-packages (from ax-platform) (5.13.1)\n",
            "Requirement already satisfied: scipy in /usr/local/lib/python3.9/dist-packages (from ax-platform) (1.10.1)\n",
            "Requirement already satisfied: ipywidgets in /usr/local/lib/python3.9/dist-packages (from ax-platform) (7.7.1)\n",
            "Requirement already satisfied: jinja2 in /usr/local/lib/python3.9/dist-packages (from ax-platform) (3.1.2)\n",
            "Requirement already satisfied: pandas in /usr/local/lib/python3.9/dist-packages (from ax-platform) (1.5.3)\n",
            "Collecting botorch==0.8.3\n",
            "  Downloading botorch-0.8.3-py3-none-any.whl (521 kB)\n",
            "\u001b[2K     \u001b[90m━━━━━━━━━━━━━━━━━━━━━━━━━━━━━━━━━━━━━━\u001b[0m \u001b[32m521.8/521.8 kB\u001b[0m \u001b[31m50.7 MB/s\u001b[0m eta \u001b[36m0:00:00\u001b[0m\n",
            "\u001b[?25hCollecting typeguard==2.13.3\n",
            "  Downloading typeguard-2.13.3-py3-none-any.whl (17 kB)\n",
            "Requirement already satisfied: scikit-learn in /usr/local/lib/python3.9/dist-packages (from ax-platform) (1.2.2)\n",
            "Collecting pyro-ppl>=1.8.4\n",
            "  Downloading pyro_ppl-1.8.4-py3-none-any.whl (730 kB)\n",
            "\u001b[2K     \u001b[90m━━━━━━━━━━━━━━━━━━━━━━━━━━━━━━━━━━━━━━\u001b[0m \u001b[32m730.7/730.7 kB\u001b[0m \u001b[31m58.4 MB/s\u001b[0m eta \u001b[36m0:00:00\u001b[0m\n",
            "\u001b[?25hRequirement already satisfied: torch>=1.12 in /usr/local/lib/python3.9/dist-packages (from botorch==0.8.3->ax-platform) (2.0.0+cu118)\n",
            "Requirement already satisfied: multipledispatch in /usr/local/lib/python3.9/dist-packages (from botorch==0.8.3->ax-platform) (0.6.0)\n",
            "Collecting linear-operator==0.3.0\n",
            "  Downloading linear_operator-0.3.0-py3-none-any.whl (155 kB)\n",
            "\u001b[2K     \u001b[90m━━━━━━━━━━━━━━━━━━━━━━━━━━━━━━━━━━━━━━\u001b[0m \u001b[32m155.6/155.6 kB\u001b[0m \u001b[31m20.9 MB/s\u001b[0m eta \u001b[36m0:00:00\u001b[0m\n",
            "\u001b[?25hCollecting gpytorch==1.9.1\n",
            "  Downloading gpytorch-1.9.1-py3-none-any.whl (250 kB)\n",
            "\u001b[2K     \u001b[90m━━━━━━━━━━━━━━━━━━━━━━━━━━━━━━━━━━━━━━\u001b[0m \u001b[32m250.9/250.9 kB\u001b[0m \u001b[31m36.2 MB/s\u001b[0m eta \u001b[36m0:00:00\u001b[0m\n",
            "\u001b[?25hRequirement already satisfied: tenacity>=6.2.0 in /usr/local/lib/python3.9/dist-packages (from plotly>=5.12.0->ax-platform) (8.2.2)\n",
            "Requirement already satisfied: traitlets>=4.3.1 in /usr/local/lib/python3.9/dist-packages (from ipywidgets->ax-platform) (5.7.1)\n",
            "Requirement already satisfied: widgetsnbextension~=3.6.0 in /usr/local/lib/python3.9/dist-packages (from ipywidgets->ax-platform) (3.6.4)\n",
            "Requirement already satisfied: ipython>=4.0.0 in /usr/local/lib/python3.9/dist-packages (from ipywidgets->ax-platform) (7.34.0)\n",
            "Requirement already satisfied: ipython-genutils~=0.2.0 in /usr/local/lib/python3.9/dist-packages (from ipywidgets->ax-platform) (0.2.0)\n",
            "Requirement already satisfied: ipykernel>=4.5.1 in /usr/local/lib/python3.9/dist-packages (from ipywidgets->ax-platform) (5.5.6)\n",
            "Requirement already satisfied: jupyterlab-widgets>=1.0.0 in /usr/local/lib/python3.9/dist-packages (from ipywidgets->ax-platform) (3.0.7)\n",
            "Requirement already satisfied: MarkupSafe>=2.0 in /usr/local/lib/python3.9/dist-packages (from jinja2->ax-platform) (2.1.2)\n",
            "Requirement already satisfied: numpy>=1.20.3 in /usr/local/lib/python3.9/dist-packages (from pandas->ax-platform) (1.22.4)\n",
            "Requirement already satisfied: pytz>=2020.1 in /usr/local/lib/python3.9/dist-packages (from pandas->ax-platform) (2022.7.1)\n",
            "Requirement already satisfied: python-dateutil>=2.8.1 in /usr/local/lib/python3.9/dist-packages (from pandas->ax-platform) (2.8.2)\n",
            "Requirement already satisfied: threadpoolctl>=2.0.0 in /usr/local/lib/python3.9/dist-packages (from scikit-learn->ax-platform) (3.1.0)\n",
            "Requirement already satisfied: joblib>=1.1.1 in /usr/local/lib/python3.9/dist-packages (from scikit-learn->ax-platform) (1.2.0)\n",
            "Requirement already satisfied: tornado>=4.2 in /usr/local/lib/python3.9/dist-packages (from ipykernel>=4.5.1->ipywidgets->ax-platform) (6.2)\n",
            "Requirement already satisfied: jupyter-client in /usr/local/lib/python3.9/dist-packages (from ipykernel>=4.5.1->ipywidgets->ax-platform) (6.1.12)\n",
            "Requirement already satisfied: backcall in /usr/local/lib/python3.9/dist-packages (from ipython>=4.0.0->ipywidgets->ax-platform) (0.2.0)\n",
            "Requirement already satisfied: decorator in /usr/local/lib/python3.9/dist-packages (from ipython>=4.0.0->ipywidgets->ax-platform) (4.4.2)\n",
            "Requirement already satisfied: pygments in /usr/local/lib/python3.9/dist-packages (from ipython>=4.0.0->ipywidgets->ax-platform) (2.14.0)\n",
            "Requirement already satisfied: setuptools>=18.5 in /usr/local/lib/python3.9/dist-packages (from ipython>=4.0.0->ipywidgets->ax-platform) (67.6.1)\n",
            "Requirement already satisfied: matplotlib-inline in /usr/local/lib/python3.9/dist-packages (from ipython>=4.0.0->ipywidgets->ax-platform) (0.1.6)\n",
            "Requirement already satisfied: pickleshare in /usr/local/lib/python3.9/dist-packages (from ipython>=4.0.0->ipywidgets->ax-platform) (0.7.5)\n",
            "Collecting jedi>=0.16\n",
            "  Downloading jedi-0.18.2-py2.py3-none-any.whl (1.6 MB)\n",
            "\u001b[2K     \u001b[90m━━━━━━━━━━━━━━━━━━━━━━━━━━━━━━━━━━━━━━━━\u001b[0m \u001b[32m1.6/1.6 MB\u001b[0m \u001b[31m79.6 MB/s\u001b[0m eta \u001b[36m0:00:00\u001b[0m\n",
            "\u001b[?25hRequirement already satisfied: prompt-toolkit!=3.0.0,!=3.0.1,<3.1.0,>=2.0.0 in /usr/local/lib/python3.9/dist-packages (from ipython>=4.0.0->ipywidgets->ax-platform) (3.0.38)\n",
            "Requirement already satisfied: pexpect>4.3 in /usr/local/lib/python3.9/dist-packages (from ipython>=4.0.0->ipywidgets->ax-platform) (4.8.0)\n",
            "Requirement already satisfied: tqdm>=4.36 in /usr/local/lib/python3.9/dist-packages (from pyro-ppl>=1.8.4->botorch==0.8.3->ax-platform) (4.65.0)\n",
            "Collecting pyro-api>=0.1.1\n",
            "  Downloading pyro_api-0.1.2-py3-none-any.whl (11 kB)\n",
            "Requirement already satisfied: opt-einsum>=2.3.2 in /usr/local/lib/python3.9/dist-packages (from pyro-ppl>=1.8.4->botorch==0.8.3->ax-platform) (3.3.0)\n",
            "Requirement already satisfied: six>=1.5 in /usr/local/lib/python3.9/dist-packages (from python-dateutil>=2.8.1->pandas->ax-platform) (1.16.0)\n",
            "Requirement already satisfied: typing-extensions in /usr/local/lib/python3.9/dist-packages (from torch>=1.12->botorch==0.8.3->ax-platform) (4.5.0)\n",
            "Requirement already satisfied: networkx in /usr/local/lib/python3.9/dist-packages (from torch>=1.12->botorch==0.8.3->ax-platform) (3.1)\n",
            "Requirement already satisfied: triton==2.0.0 in /usr/local/lib/python3.9/dist-packages (from torch>=1.12->botorch==0.8.3->ax-platform) (2.0.0)\n",
            "Requirement already satisfied: filelock in /usr/local/lib/python3.9/dist-packages (from torch>=1.12->botorch==0.8.3->ax-platform) (3.11.0)\n",
            "Requirement already satisfied: sympy in /usr/local/lib/python3.9/dist-packages (from torch>=1.12->botorch==0.8.3->ax-platform) (1.11.1)\n",
            "Requirement already satisfied: cmake in /usr/local/lib/python3.9/dist-packages (from triton==2.0.0->torch>=1.12->botorch==0.8.3->ax-platform) (3.25.2)\n",
            "Requirement already satisfied: lit in /usr/local/lib/python3.9/dist-packages (from triton==2.0.0->torch>=1.12->botorch==0.8.3->ax-platform) (16.0.1)\n",
            "Requirement already satisfied: notebook>=4.4.1 in /usr/local/lib/python3.9/dist-packages (from widgetsnbextension~=3.6.0->ipywidgets->ax-platform) (6.4.8)\n",
            "Requirement already satisfied: parso<0.9.0,>=0.8.0 in /usr/local/lib/python3.9/dist-packages (from jedi>=0.16->ipython>=4.0.0->ipywidgets->ax-platform) (0.8.3)\n",
            "Requirement already satisfied: argon2-cffi in /usr/local/lib/python3.9/dist-packages (from notebook>=4.4.1->widgetsnbextension~=3.6.0->ipywidgets->ax-platform) (21.3.0)\n",
            "Requirement already satisfied: nest-asyncio>=1.5 in /usr/local/lib/python3.9/dist-packages (from notebook>=4.4.1->widgetsnbextension~=3.6.0->ipywidgets->ax-platform) (1.5.6)\n",
            "Requirement already satisfied: pyzmq>=17 in /usr/local/lib/python3.9/dist-packages (from notebook>=4.4.1->widgetsnbextension~=3.6.0->ipywidgets->ax-platform) (23.2.1)\n",
            "Requirement already satisfied: jupyter-core>=4.6.1 in /usr/local/lib/python3.9/dist-packages (from notebook>=4.4.1->widgetsnbextension~=3.6.0->ipywidgets->ax-platform) (5.3.0)\n",
            "Requirement already satisfied: terminado>=0.8.3 in /usr/local/lib/python3.9/dist-packages (from notebook>=4.4.1->widgetsnbextension~=3.6.0->ipywidgets->ax-platform) (0.17.1)\n",
            "Requirement already satisfied: prometheus-client in /usr/local/lib/python3.9/dist-packages (from notebook>=4.4.1->widgetsnbextension~=3.6.0->ipywidgets->ax-platform) (0.16.0)\n",
            "Requirement already satisfied: nbconvert in /usr/local/lib/python3.9/dist-packages (from notebook>=4.4.1->widgetsnbextension~=3.6.0->ipywidgets->ax-platform) (6.5.4)\n",
            "Requirement already satisfied: nbformat in /usr/local/lib/python3.9/dist-packages (from notebook>=4.4.1->widgetsnbextension~=3.6.0->ipywidgets->ax-platform) (5.8.0)\n",
            "Requirement already satisfied: Send2Trash>=1.8.0 in /usr/local/lib/python3.9/dist-packages (from notebook>=4.4.1->widgetsnbextension~=3.6.0->ipywidgets->ax-platform) (1.8.0)\n",
            "Requirement already satisfied: ptyprocess>=0.5 in /usr/local/lib/python3.9/dist-packages (from pexpect>4.3->ipython>=4.0.0->ipywidgets->ax-platform) (0.7.0)\n",
            "Requirement already satisfied: wcwidth in /usr/local/lib/python3.9/dist-packages (from prompt-toolkit!=3.0.0,!=3.0.1,<3.1.0,>=2.0.0->ipython>=4.0.0->ipywidgets->ax-platform) (0.2.6)\n",
            "Requirement already satisfied: mpmath>=0.19 in /usr/local/lib/python3.9/dist-packages (from sympy->torch>=1.12->botorch==0.8.3->ax-platform) (1.3.0)\n",
            "Requirement already satisfied: platformdirs>=2.5 in /usr/local/lib/python3.9/dist-packages (from jupyter-core>=4.6.1->notebook>=4.4.1->widgetsnbextension~=3.6.0->ipywidgets->ax-platform) (3.2.0)\n",
            "Requirement already satisfied: argon2-cffi-bindings in /usr/local/lib/python3.9/dist-packages (from argon2-cffi->notebook>=4.4.1->widgetsnbextension~=3.6.0->ipywidgets->ax-platform) (21.2.0)\n",
            "Requirement already satisfied: entrypoints>=0.2.2 in /usr/local/lib/python3.9/dist-packages (from nbconvert->notebook>=4.4.1->widgetsnbextension~=3.6.0->ipywidgets->ax-platform) (0.4)\n",
            "Requirement already satisfied: lxml in /usr/local/lib/python3.9/dist-packages (from nbconvert->notebook>=4.4.1->widgetsnbextension~=3.6.0->ipywidgets->ax-platform) (4.9.2)\n",
            "Requirement already satisfied: defusedxml in /usr/local/lib/python3.9/dist-packages (from nbconvert->notebook>=4.4.1->widgetsnbextension~=3.6.0->ipywidgets->ax-platform) (0.7.1)\n",
            "Requirement already satisfied: mistune<2,>=0.8.1 in /usr/local/lib/python3.9/dist-packages (from nbconvert->notebook>=4.4.1->widgetsnbextension~=3.6.0->ipywidgets->ax-platform) (0.8.4)\n",
            "Requirement already satisfied: nbclient>=0.5.0 in /usr/local/lib/python3.9/dist-packages (from nbconvert->notebook>=4.4.1->widgetsnbextension~=3.6.0->ipywidgets->ax-platform) (0.7.3)\n",
            "Requirement already satisfied: tinycss2 in /usr/local/lib/python3.9/dist-packages (from nbconvert->notebook>=4.4.1->widgetsnbextension~=3.6.0->ipywidgets->ax-platform) (1.2.1)\n",
            "Requirement already satisfied: jupyterlab-pygments in /usr/local/lib/python3.9/dist-packages (from nbconvert->notebook>=4.4.1->widgetsnbextension~=3.6.0->ipywidgets->ax-platform) (0.2.2)\n",
            "Requirement already satisfied: packaging in /usr/local/lib/python3.9/dist-packages (from nbconvert->notebook>=4.4.1->widgetsnbextension~=3.6.0->ipywidgets->ax-platform) (23.0)\n",
            "Requirement already satisfied: beautifulsoup4 in /usr/local/lib/python3.9/dist-packages (from nbconvert->notebook>=4.4.1->widgetsnbextension~=3.6.0->ipywidgets->ax-platform) (4.11.2)\n",
            "Requirement already satisfied: pandocfilters>=1.4.1 in /usr/local/lib/python3.9/dist-packages (from nbconvert->notebook>=4.4.1->widgetsnbextension~=3.6.0->ipywidgets->ax-platform) (1.5.0)\n",
            "Requirement already satisfied: bleach in /usr/local/lib/python3.9/dist-packages (from nbconvert->notebook>=4.4.1->widgetsnbextension~=3.6.0->ipywidgets->ax-platform) (6.0.0)\n",
            "Requirement already satisfied: jsonschema>=2.6 in /usr/local/lib/python3.9/dist-packages (from nbformat->notebook>=4.4.1->widgetsnbextension~=3.6.0->ipywidgets->ax-platform) (4.3.3)\n",
            "Requirement already satisfied: fastjsonschema in /usr/local/lib/python3.9/dist-packages (from nbformat->notebook>=4.4.1->widgetsnbextension~=3.6.0->ipywidgets->ax-platform) (2.16.3)\n",
            "Requirement already satisfied: attrs>=17.4.0 in /usr/local/lib/python3.9/dist-packages (from jsonschema>=2.6->nbformat->notebook>=4.4.1->widgetsnbextension~=3.6.0->ipywidgets->ax-platform) (22.2.0)\n",
            "Requirement already satisfied: pyrsistent!=0.17.0,!=0.17.1,!=0.17.2,>=0.14.0 in /usr/local/lib/python3.9/dist-packages (from jsonschema>=2.6->nbformat->notebook>=4.4.1->widgetsnbextension~=3.6.0->ipywidgets->ax-platform) (0.19.3)\n",
            "Requirement already satisfied: cffi>=1.0.1 in /usr/local/lib/python3.9/dist-packages (from argon2-cffi-bindings->argon2-cffi->notebook>=4.4.1->widgetsnbextension~=3.6.0->ipywidgets->ax-platform) (1.15.1)\n",
            "Requirement already satisfied: soupsieve>1.2 in /usr/local/lib/python3.9/dist-packages (from beautifulsoup4->nbconvert->notebook>=4.4.1->widgetsnbextension~=3.6.0->ipywidgets->ax-platform) (2.4)\n",
            "Requirement already satisfied: webencodings in /usr/local/lib/python3.9/dist-packages (from bleach->nbconvert->notebook>=4.4.1->widgetsnbextension~=3.6.0->ipywidgets->ax-platform) (0.5.1)\n",
            "Requirement already satisfied: pycparser in /usr/local/lib/python3.9/dist-packages (from cffi>=1.0.1->argon2-cffi-bindings->argon2-cffi->notebook>=4.4.1->widgetsnbextension~=3.6.0->ipywidgets->ax-platform) (2.21)\n",
            "Installing collected packages: pyro-api, typeguard, jedi, linear-operator, pyro-ppl, gpytorch, botorch, ax-platform\n",
            "Successfully installed ax-platform-0.3.1 botorch-0.8.3 gpytorch-1.9.1 jedi-0.18.2 linear-operator-0.3.0 pyro-api-0.1.2 pyro-ppl-1.8.4 typeguard-2.13.3\n"
          ]
        }
      ]
    },
    {
      "cell_type": "markdown",
      "source": [
        "# Imports and Classes #"
      ],
      "metadata": {
        "id": "msMc7AY-F6rh"
      }
    },
    {
      "cell_type": "code",
      "source": [
        "import numpy as np # linear algebra\n",
        "import pandas as pd # data processing, CSV file I/O (e.g. pd.read_csv)"
      ],
      "metadata": {
        "_uuid": "8f2839f25d086af736a60e9eeb907d3b93b6e0e5",
        "_cell_guid": "b1076dfc-b9ad-4769-8c92-a6c4dae69d19",
        "execution": {
          "iopub.status.busy": "2023-04-05T13:56:02.165309Z",
          "iopub.execute_input": "2023-04-05T13:56:02.165872Z",
          "iopub.status.idle": "2023-04-05T13:56:02.178171Z",
          "shell.execute_reply.started": "2023-04-05T13:56:02.165825Z",
          "shell.execute_reply": "2023-04-05T13:56:02.176753Z"
        },
        "trusted": true,
        "id": "dHK-we3FFKQS"
      },
      "execution_count": 6,
      "outputs": []
    },
    {
      "cell_type": "code",
      "source": [
        "import matplotlib.pyplot as plt\n",
        "import re\n",
        "from collections import OrderedDict\n",
        "import torch\n",
        "import transformers\n",
        "from transformers import AlbertTokenizer, AlbertModel, DistilBertTokenizer, DistilBertModel, RobertaTokenizer, RobertaModel\n",
        "from torch.utils.data import Dataset, DataLoader\n",
        "from torch import cuda\n",
        "from tqdm import tqdm\n",
        "from sklearn.metrics import classification_report, f1_score, accuracy_score, confusion_matrix, ConfusionMatrixDisplay\n",
        "from sklearn.model_selection import train_test_split\n",
        "device = 'cuda' if cuda.is_available() else 'cpu'\n",
        "import wandb"
      ],
      "metadata": {
        "execution": {
          "iopub.status.busy": "2023-04-05T13:56:02.180556Z",
          "iopub.execute_input": "2023-04-05T13:56:02.181744Z",
          "iopub.status.idle": "2023-04-05T13:56:02.193576Z",
          "shell.execute_reply.started": "2023-04-05T13:56:02.181687Z",
          "shell.execute_reply": "2023-04-05T13:56:02.191788Z"
        },
        "trusted": true,
        "id": "mo2sHhRlFKQX"
      },
      "execution_count": 7,
      "outputs": []
    },
    {
      "cell_type": "markdown",
      "source": [
        "### Training and Inference Loops ###"
      ],
      "metadata": {
        "id": "GNvydYJac6cu"
      }
    },
    {
      "cell_type": "markdown",
      "source": [
        "#I. Data Preprocessing #"
      ],
      "metadata": {
        "id": "5wXwmlGVFKQZ"
      }
    },
    {
      "cell_type": "markdown",
      "source": [
        "### EDA ###"
      ],
      "metadata": {
        "id": "dvJZ11Z0Yox7"
      }
    },
    {
      "cell_type": "code",
      "source": [
        "def data_quality(df):\n",
        "  # find datatype of each column\n",
        "  data_types = pd.DataFrame(df.dtypes, columns=['Data Type'])\n",
        "\n",
        "  # count number of missing observations by column\n",
        "  missing_data_counts = pd.DataFrame(df.isnull().sum(), columns=['Missing Values'])\n",
        "\n",
        "  # count number of present observations by column\n",
        "  present_data_counts = pd.DataFrame(df.count(), columns=['Present Values'])\n",
        "\n",
        "  # count number of unique observations by column\n",
        "  unique_value_counts = pd.DataFrame(columns=['Unique Values'])\n",
        "  for v in list(df.columns.values):\n",
        "      unique_value_counts.loc[v] = [df[v].nunique()]\n",
        "\n",
        "  data_quality_report = pd.concat([present_data_counts, missing_data_counts, unique_value_counts], axis=1)\n",
        "  return data_quality_report"
      ],
      "metadata": {
        "execution": {
          "iopub.status.busy": "2023-04-05T13:56:02.646767Z",
          "iopub.execute_input": "2023-04-05T13:56:02.647240Z",
          "iopub.status.idle": "2023-04-05T13:56:02.655771Z",
          "shell.execute_reply.started": "2023-04-05T13:56:02.647205Z",
          "shell.execute_reply": "2023-04-05T13:56:02.654222Z"
        },
        "trusted": true,
        "id": "nQ788ipOFKQa"
      },
      "execution_count": 8,
      "outputs": []
    },
    {
      "cell_type": "code",
      "source": [
        "d_train_orig = pd.read_csv(\"/content/drive/MyDrive/BT5151/group_project/train.csv\")\n",
        "d_test_orig = pd.read_csv(\"/content/drive/MyDrive/BT5151/group_project/test.csv\")\n",
        "s_train_orig = pd.read_csv(\"/content/drive/MyDrive/BT5151/group_project/tweets.csv\")"
      ],
      "metadata": {
        "execution": {
          "iopub.status.busy": "2023-04-05T13:56:02.657464Z",
          "iopub.execute_input": "2023-04-05T13:56:02.657840Z",
          "iopub.status.idle": "2023-04-05T13:56:02.781962Z",
          "shell.execute_reply.started": "2023-04-05T13:56:02.657788Z",
          "shell.execute_reply": "2023-04-05T13:56:02.780612Z"
        },
        "trusted": true,
        "id": "n16bnOsfFKQb"
      },
      "execution_count": 9,
      "outputs": []
    },
    {
      "cell_type": "code",
      "source": [
        "d_train_orig.head()"
      ],
      "metadata": {
        "execution": {
          "iopub.status.busy": "2023-04-05T13:56:02.783539Z",
          "iopub.execute_input": "2023-04-05T13:56:02.783902Z",
          "iopub.status.idle": "2023-04-05T13:56:02.800610Z",
          "shell.execute_reply.started": "2023-04-05T13:56:02.783867Z",
          "shell.execute_reply": "2023-04-05T13:56:02.798542Z"
        },
        "trusted": true,
        "colab": {
          "base_uri": "https://localhost:8080/",
          "height": 206
        },
        "id": "wdc5rQR6FKQb",
        "outputId": "a908836e-b260-46bc-eb73-682385fa8649"
      },
      "execution_count": 10,
      "outputs": [
        {
          "output_type": "execute_result",
          "data": {
            "text/plain": [
              "   id keyword location                                               text  \\\n",
              "0   1     NaN      NaN  Our Deeds are the Reason of this #earthquake M...   \n",
              "1   4     NaN      NaN             Forest fire near La Ronge Sask. Canada   \n",
              "2   5     NaN      NaN  All residents asked to 'shelter in place' are ...   \n",
              "3   6     NaN      NaN  13,000 people receive #wildfires evacuation or...   \n",
              "4   7     NaN      NaN  Just got sent this photo from Ruby #Alaska as ...   \n",
              "\n",
              "   target  \n",
              "0       1  \n",
              "1       1  \n",
              "2       1  \n",
              "3       1  \n",
              "4       1  "
            ],
            "text/html": [
              "\n",
              "  <div id=\"df-3a61ecba-876f-4be5-8265-7899d45a1f91\">\n",
              "    <div class=\"colab-df-container\">\n",
              "      <div>\n",
              "<style scoped>\n",
              "    .dataframe tbody tr th:only-of-type {\n",
              "        vertical-align: middle;\n",
              "    }\n",
              "\n",
              "    .dataframe tbody tr th {\n",
              "        vertical-align: top;\n",
              "    }\n",
              "\n",
              "    .dataframe thead th {\n",
              "        text-align: right;\n",
              "    }\n",
              "</style>\n",
              "<table border=\"1\" class=\"dataframe\">\n",
              "  <thead>\n",
              "    <tr style=\"text-align: right;\">\n",
              "      <th></th>\n",
              "      <th>id</th>\n",
              "      <th>keyword</th>\n",
              "      <th>location</th>\n",
              "      <th>text</th>\n",
              "      <th>target</th>\n",
              "    </tr>\n",
              "  </thead>\n",
              "  <tbody>\n",
              "    <tr>\n",
              "      <th>0</th>\n",
              "      <td>1</td>\n",
              "      <td>NaN</td>\n",
              "      <td>NaN</td>\n",
              "      <td>Our Deeds are the Reason of this #earthquake M...</td>\n",
              "      <td>1</td>\n",
              "    </tr>\n",
              "    <tr>\n",
              "      <th>1</th>\n",
              "      <td>4</td>\n",
              "      <td>NaN</td>\n",
              "      <td>NaN</td>\n",
              "      <td>Forest fire near La Ronge Sask. Canada</td>\n",
              "      <td>1</td>\n",
              "    </tr>\n",
              "    <tr>\n",
              "      <th>2</th>\n",
              "      <td>5</td>\n",
              "      <td>NaN</td>\n",
              "      <td>NaN</td>\n",
              "      <td>All residents asked to 'shelter in place' are ...</td>\n",
              "      <td>1</td>\n",
              "    </tr>\n",
              "    <tr>\n",
              "      <th>3</th>\n",
              "      <td>6</td>\n",
              "      <td>NaN</td>\n",
              "      <td>NaN</td>\n",
              "      <td>13,000 people receive #wildfires evacuation or...</td>\n",
              "      <td>1</td>\n",
              "    </tr>\n",
              "    <tr>\n",
              "      <th>4</th>\n",
              "      <td>7</td>\n",
              "      <td>NaN</td>\n",
              "      <td>NaN</td>\n",
              "      <td>Just got sent this photo from Ruby #Alaska as ...</td>\n",
              "      <td>1</td>\n",
              "    </tr>\n",
              "  </tbody>\n",
              "</table>\n",
              "</div>\n",
              "      <button class=\"colab-df-convert\" onclick=\"convertToInteractive('df-3a61ecba-876f-4be5-8265-7899d45a1f91')\"\n",
              "              title=\"Convert this dataframe to an interactive table.\"\n",
              "              style=\"display:none;\">\n",
              "        \n",
              "  <svg xmlns=\"http://www.w3.org/2000/svg\" height=\"24px\"viewBox=\"0 0 24 24\"\n",
              "       width=\"24px\">\n",
              "    <path d=\"M0 0h24v24H0V0z\" fill=\"none\"/>\n",
              "    <path d=\"M18.56 5.44l.94 2.06.94-2.06 2.06-.94-2.06-.94-.94-2.06-.94 2.06-2.06.94zm-11 1L8.5 8.5l.94-2.06 2.06-.94-2.06-.94L8.5 2.5l-.94 2.06-2.06.94zm10 10l.94 2.06.94-2.06 2.06-.94-2.06-.94-.94-2.06-.94 2.06-2.06.94z\"/><path d=\"M17.41 7.96l-1.37-1.37c-.4-.4-.92-.59-1.43-.59-.52 0-1.04.2-1.43.59L10.3 9.45l-7.72 7.72c-.78.78-.78 2.05 0 2.83L4 21.41c.39.39.9.59 1.41.59.51 0 1.02-.2 1.41-.59l7.78-7.78 2.81-2.81c.8-.78.8-2.07 0-2.86zM5.41 20L4 18.59l7.72-7.72 1.47 1.35L5.41 20z\"/>\n",
              "  </svg>\n",
              "      </button>\n",
              "      \n",
              "  <style>\n",
              "    .colab-df-container {\n",
              "      display:flex;\n",
              "      flex-wrap:wrap;\n",
              "      gap: 12px;\n",
              "    }\n",
              "\n",
              "    .colab-df-convert {\n",
              "      background-color: #E8F0FE;\n",
              "      border: none;\n",
              "      border-radius: 50%;\n",
              "      cursor: pointer;\n",
              "      display: none;\n",
              "      fill: #1967D2;\n",
              "      height: 32px;\n",
              "      padding: 0 0 0 0;\n",
              "      width: 32px;\n",
              "    }\n",
              "\n",
              "    .colab-df-convert:hover {\n",
              "      background-color: #E2EBFA;\n",
              "      box-shadow: 0px 1px 2px rgba(60, 64, 67, 0.3), 0px 1px 3px 1px rgba(60, 64, 67, 0.15);\n",
              "      fill: #174EA6;\n",
              "    }\n",
              "\n",
              "    [theme=dark] .colab-df-convert {\n",
              "      background-color: #3B4455;\n",
              "      fill: #D2E3FC;\n",
              "    }\n",
              "\n",
              "    [theme=dark] .colab-df-convert:hover {\n",
              "      background-color: #434B5C;\n",
              "      box-shadow: 0px 1px 3px 1px rgba(0, 0, 0, 0.15);\n",
              "      filter: drop-shadow(0px 1px 2px rgba(0, 0, 0, 0.3));\n",
              "      fill: #FFFFFF;\n",
              "    }\n",
              "  </style>\n",
              "\n",
              "      <script>\n",
              "        const buttonEl =\n",
              "          document.querySelector('#df-3a61ecba-876f-4be5-8265-7899d45a1f91 button.colab-df-convert');\n",
              "        buttonEl.style.display =\n",
              "          google.colab.kernel.accessAllowed ? 'block' : 'none';\n",
              "\n",
              "        async function convertToInteractive(key) {\n",
              "          const element = document.querySelector('#df-3a61ecba-876f-4be5-8265-7899d45a1f91');\n",
              "          const dataTable =\n",
              "            await google.colab.kernel.invokeFunction('convertToInteractive',\n",
              "                                                     [key], {});\n",
              "          if (!dataTable) return;\n",
              "\n",
              "          const docLinkHtml = 'Like what you see? Visit the ' +\n",
              "            '<a target=\"_blank\" href=https://colab.research.google.com/notebooks/data_table.ipynb>data table notebook</a>'\n",
              "            + ' to learn more about interactive tables.';\n",
              "          element.innerHTML = '';\n",
              "          dataTable['output_type'] = 'display_data';\n",
              "          await google.colab.output.renderOutput(dataTable, element);\n",
              "          const docLink = document.createElement('div');\n",
              "          docLink.innerHTML = docLinkHtml;\n",
              "          element.appendChild(docLink);\n",
              "        }\n",
              "      </script>\n",
              "    </div>\n",
              "  </div>\n",
              "  "
            ]
          },
          "metadata": {},
          "execution_count": 10
        }
      ]
    },
    {
      "cell_type": "code",
      "source": [
        "d_test_orig.head()"
      ],
      "metadata": {
        "execution": {
          "iopub.status.busy": "2023-04-05T13:56:02.803021Z",
          "iopub.execute_input": "2023-04-05T13:56:02.803463Z",
          "iopub.status.idle": "2023-04-05T13:56:02.824729Z",
          "shell.execute_reply.started": "2023-04-05T13:56:02.803425Z",
          "shell.execute_reply": "2023-04-05T13:56:02.822362Z"
        },
        "trusted": true,
        "colab": {
          "base_uri": "https://localhost:8080/",
          "height": 206
        },
        "id": "Ux_qh-DZFKQc",
        "outputId": "1ada10f8-ed73-4545-bf2d-b5b7fc595cb0"
      },
      "execution_count": 11,
      "outputs": [
        {
          "output_type": "execute_result",
          "data": {
            "text/plain": [
              "   id keyword location                                               text\n",
              "0   0     NaN      NaN                 Just happened a terrible car crash\n",
              "1   2     NaN      NaN  Heard about #earthquake is different cities, s...\n",
              "2   3     NaN      NaN  there is a forest fire at spot pond, geese are...\n",
              "3   9     NaN      NaN           Apocalypse lighting. #Spokane #wildfires\n",
              "4  11     NaN      NaN      Typhoon Soudelor kills 28 in China and Taiwan"
            ],
            "text/html": [
              "\n",
              "  <div id=\"df-13133ec3-fb81-4e20-939a-ee45c25b5e84\">\n",
              "    <div class=\"colab-df-container\">\n",
              "      <div>\n",
              "<style scoped>\n",
              "    .dataframe tbody tr th:only-of-type {\n",
              "        vertical-align: middle;\n",
              "    }\n",
              "\n",
              "    .dataframe tbody tr th {\n",
              "        vertical-align: top;\n",
              "    }\n",
              "\n",
              "    .dataframe thead th {\n",
              "        text-align: right;\n",
              "    }\n",
              "</style>\n",
              "<table border=\"1\" class=\"dataframe\">\n",
              "  <thead>\n",
              "    <tr style=\"text-align: right;\">\n",
              "      <th></th>\n",
              "      <th>id</th>\n",
              "      <th>keyword</th>\n",
              "      <th>location</th>\n",
              "      <th>text</th>\n",
              "    </tr>\n",
              "  </thead>\n",
              "  <tbody>\n",
              "    <tr>\n",
              "      <th>0</th>\n",
              "      <td>0</td>\n",
              "      <td>NaN</td>\n",
              "      <td>NaN</td>\n",
              "      <td>Just happened a terrible car crash</td>\n",
              "    </tr>\n",
              "    <tr>\n",
              "      <th>1</th>\n",
              "      <td>2</td>\n",
              "      <td>NaN</td>\n",
              "      <td>NaN</td>\n",
              "      <td>Heard about #earthquake is different cities, s...</td>\n",
              "    </tr>\n",
              "    <tr>\n",
              "      <th>2</th>\n",
              "      <td>3</td>\n",
              "      <td>NaN</td>\n",
              "      <td>NaN</td>\n",
              "      <td>there is a forest fire at spot pond, geese are...</td>\n",
              "    </tr>\n",
              "    <tr>\n",
              "      <th>3</th>\n",
              "      <td>9</td>\n",
              "      <td>NaN</td>\n",
              "      <td>NaN</td>\n",
              "      <td>Apocalypse lighting. #Spokane #wildfires</td>\n",
              "    </tr>\n",
              "    <tr>\n",
              "      <th>4</th>\n",
              "      <td>11</td>\n",
              "      <td>NaN</td>\n",
              "      <td>NaN</td>\n",
              "      <td>Typhoon Soudelor kills 28 in China and Taiwan</td>\n",
              "    </tr>\n",
              "  </tbody>\n",
              "</table>\n",
              "</div>\n",
              "      <button class=\"colab-df-convert\" onclick=\"convertToInteractive('df-13133ec3-fb81-4e20-939a-ee45c25b5e84')\"\n",
              "              title=\"Convert this dataframe to an interactive table.\"\n",
              "              style=\"display:none;\">\n",
              "        \n",
              "  <svg xmlns=\"http://www.w3.org/2000/svg\" height=\"24px\"viewBox=\"0 0 24 24\"\n",
              "       width=\"24px\">\n",
              "    <path d=\"M0 0h24v24H0V0z\" fill=\"none\"/>\n",
              "    <path d=\"M18.56 5.44l.94 2.06.94-2.06 2.06-.94-2.06-.94-.94-2.06-.94 2.06-2.06.94zm-11 1L8.5 8.5l.94-2.06 2.06-.94-2.06-.94L8.5 2.5l-.94 2.06-2.06.94zm10 10l.94 2.06.94-2.06 2.06-.94-2.06-.94-.94-2.06-.94 2.06-2.06.94z\"/><path d=\"M17.41 7.96l-1.37-1.37c-.4-.4-.92-.59-1.43-.59-.52 0-1.04.2-1.43.59L10.3 9.45l-7.72 7.72c-.78.78-.78 2.05 0 2.83L4 21.41c.39.39.9.59 1.41.59.51 0 1.02-.2 1.41-.59l7.78-7.78 2.81-2.81c.8-.78.8-2.07 0-2.86zM5.41 20L4 18.59l7.72-7.72 1.47 1.35L5.41 20z\"/>\n",
              "  </svg>\n",
              "      </button>\n",
              "      \n",
              "  <style>\n",
              "    .colab-df-container {\n",
              "      display:flex;\n",
              "      flex-wrap:wrap;\n",
              "      gap: 12px;\n",
              "    }\n",
              "\n",
              "    .colab-df-convert {\n",
              "      background-color: #E8F0FE;\n",
              "      border: none;\n",
              "      border-radius: 50%;\n",
              "      cursor: pointer;\n",
              "      display: none;\n",
              "      fill: #1967D2;\n",
              "      height: 32px;\n",
              "      padding: 0 0 0 0;\n",
              "      width: 32px;\n",
              "    }\n",
              "\n",
              "    .colab-df-convert:hover {\n",
              "      background-color: #E2EBFA;\n",
              "      box-shadow: 0px 1px 2px rgba(60, 64, 67, 0.3), 0px 1px 3px 1px rgba(60, 64, 67, 0.15);\n",
              "      fill: #174EA6;\n",
              "    }\n",
              "\n",
              "    [theme=dark] .colab-df-convert {\n",
              "      background-color: #3B4455;\n",
              "      fill: #D2E3FC;\n",
              "    }\n",
              "\n",
              "    [theme=dark] .colab-df-convert:hover {\n",
              "      background-color: #434B5C;\n",
              "      box-shadow: 0px 1px 3px 1px rgba(0, 0, 0, 0.15);\n",
              "      filter: drop-shadow(0px 1px 2px rgba(0, 0, 0, 0.3));\n",
              "      fill: #FFFFFF;\n",
              "    }\n",
              "  </style>\n",
              "\n",
              "      <script>\n",
              "        const buttonEl =\n",
              "          document.querySelector('#df-13133ec3-fb81-4e20-939a-ee45c25b5e84 button.colab-df-convert');\n",
              "        buttonEl.style.display =\n",
              "          google.colab.kernel.accessAllowed ? 'block' : 'none';\n",
              "\n",
              "        async function convertToInteractive(key) {\n",
              "          const element = document.querySelector('#df-13133ec3-fb81-4e20-939a-ee45c25b5e84');\n",
              "          const dataTable =\n",
              "            await google.colab.kernel.invokeFunction('convertToInteractive',\n",
              "                                                     [key], {});\n",
              "          if (!dataTable) return;\n",
              "\n",
              "          const docLinkHtml = 'Like what you see? Visit the ' +\n",
              "            '<a target=\"_blank\" href=https://colab.research.google.com/notebooks/data_table.ipynb>data table notebook</a>'\n",
              "            + ' to learn more about interactive tables.';\n",
              "          element.innerHTML = '';\n",
              "          dataTable['output_type'] = 'display_data';\n",
              "          await google.colab.output.renderOutput(dataTable, element);\n",
              "          const docLink = document.createElement('div');\n",
              "          docLink.innerHTML = docLinkHtml;\n",
              "          element.appendChild(docLink);\n",
              "        }\n",
              "      </script>\n",
              "    </div>\n",
              "  </div>\n",
              "  "
            ]
          },
          "metadata": {},
          "execution_count": 11
        }
      ]
    },
    {
      "cell_type": "code",
      "source": [
        "s_train_orig.head()"
      ],
      "metadata": {
        "execution": {
          "iopub.status.busy": "2023-04-05T13:56:02.826855Z",
          "iopub.execute_input": "2023-04-05T13:56:02.827491Z",
          "iopub.status.idle": "2023-04-05T13:56:02.844270Z",
          "shell.execute_reply.started": "2023-04-05T13:56:02.827447Z",
          "shell.execute_reply": "2023-04-05T13:56:02.842636Z"
        },
        "trusted": true,
        "colab": {
          "base_uri": "https://localhost:8080/",
          "height": 206
        },
        "id": "g1v669vZFKQc",
        "outputId": "4a320584-ea0c-48ae-d2f7-90f2f68e9eeb"
      },
      "execution_count": 12,
      "outputs": [
        {
          "output_type": "execute_result",
          "data": {
            "text/plain": [
              "       textID                                               text  \\\n",
              "0  cb774db0d1                I`d have responded, if I were going   \n",
              "1  549e992a42      Sooo SAD I will miss you here in San Diego!!!   \n",
              "2  088c60f138                          my boss is bullying me...   \n",
              "3  9642c003ef                     what interview! leave me alone   \n",
              "4  358bd9e861   Sons of ****, why couldn`t they put them on t...   \n",
              "\n",
              "                         selected_text sentiment  \n",
              "0  I`d have responded, if I were going   neutral  \n",
              "1                             Sooo SAD  negative  \n",
              "2                          bullying me  negative  \n",
              "3                       leave me alone  negative  \n",
              "4                        Sons of ****,  negative  "
            ],
            "text/html": [
              "\n",
              "  <div id=\"df-0b2a2e3f-fe0b-4422-bc46-d07b6c1c7cc4\">\n",
              "    <div class=\"colab-df-container\">\n",
              "      <div>\n",
              "<style scoped>\n",
              "    .dataframe tbody tr th:only-of-type {\n",
              "        vertical-align: middle;\n",
              "    }\n",
              "\n",
              "    .dataframe tbody tr th {\n",
              "        vertical-align: top;\n",
              "    }\n",
              "\n",
              "    .dataframe thead th {\n",
              "        text-align: right;\n",
              "    }\n",
              "</style>\n",
              "<table border=\"1\" class=\"dataframe\">\n",
              "  <thead>\n",
              "    <tr style=\"text-align: right;\">\n",
              "      <th></th>\n",
              "      <th>textID</th>\n",
              "      <th>text</th>\n",
              "      <th>selected_text</th>\n",
              "      <th>sentiment</th>\n",
              "    </tr>\n",
              "  </thead>\n",
              "  <tbody>\n",
              "    <tr>\n",
              "      <th>0</th>\n",
              "      <td>cb774db0d1</td>\n",
              "      <td>I`d have responded, if I were going</td>\n",
              "      <td>I`d have responded, if I were going</td>\n",
              "      <td>neutral</td>\n",
              "    </tr>\n",
              "    <tr>\n",
              "      <th>1</th>\n",
              "      <td>549e992a42</td>\n",
              "      <td>Sooo SAD I will miss you here in San Diego!!!</td>\n",
              "      <td>Sooo SAD</td>\n",
              "      <td>negative</td>\n",
              "    </tr>\n",
              "    <tr>\n",
              "      <th>2</th>\n",
              "      <td>088c60f138</td>\n",
              "      <td>my boss is bullying me...</td>\n",
              "      <td>bullying me</td>\n",
              "      <td>negative</td>\n",
              "    </tr>\n",
              "    <tr>\n",
              "      <th>3</th>\n",
              "      <td>9642c003ef</td>\n",
              "      <td>what interview! leave me alone</td>\n",
              "      <td>leave me alone</td>\n",
              "      <td>negative</td>\n",
              "    </tr>\n",
              "    <tr>\n",
              "      <th>4</th>\n",
              "      <td>358bd9e861</td>\n",
              "      <td>Sons of ****, why couldn`t they put them on t...</td>\n",
              "      <td>Sons of ****,</td>\n",
              "      <td>negative</td>\n",
              "    </tr>\n",
              "  </tbody>\n",
              "</table>\n",
              "</div>\n",
              "      <button class=\"colab-df-convert\" onclick=\"convertToInteractive('df-0b2a2e3f-fe0b-4422-bc46-d07b6c1c7cc4')\"\n",
              "              title=\"Convert this dataframe to an interactive table.\"\n",
              "              style=\"display:none;\">\n",
              "        \n",
              "  <svg xmlns=\"http://www.w3.org/2000/svg\" height=\"24px\"viewBox=\"0 0 24 24\"\n",
              "       width=\"24px\">\n",
              "    <path d=\"M0 0h24v24H0V0z\" fill=\"none\"/>\n",
              "    <path d=\"M18.56 5.44l.94 2.06.94-2.06 2.06-.94-2.06-.94-.94-2.06-.94 2.06-2.06.94zm-11 1L8.5 8.5l.94-2.06 2.06-.94-2.06-.94L8.5 2.5l-.94 2.06-2.06.94zm10 10l.94 2.06.94-2.06 2.06-.94-2.06-.94-.94-2.06-.94 2.06-2.06.94z\"/><path d=\"M17.41 7.96l-1.37-1.37c-.4-.4-.92-.59-1.43-.59-.52 0-1.04.2-1.43.59L10.3 9.45l-7.72 7.72c-.78.78-.78 2.05 0 2.83L4 21.41c.39.39.9.59 1.41.59.51 0 1.02-.2 1.41-.59l7.78-7.78 2.81-2.81c.8-.78.8-2.07 0-2.86zM5.41 20L4 18.59l7.72-7.72 1.47 1.35L5.41 20z\"/>\n",
              "  </svg>\n",
              "      </button>\n",
              "      \n",
              "  <style>\n",
              "    .colab-df-container {\n",
              "      display:flex;\n",
              "      flex-wrap:wrap;\n",
              "      gap: 12px;\n",
              "    }\n",
              "\n",
              "    .colab-df-convert {\n",
              "      background-color: #E8F0FE;\n",
              "      border: none;\n",
              "      border-radius: 50%;\n",
              "      cursor: pointer;\n",
              "      display: none;\n",
              "      fill: #1967D2;\n",
              "      height: 32px;\n",
              "      padding: 0 0 0 0;\n",
              "      width: 32px;\n",
              "    }\n",
              "\n",
              "    .colab-df-convert:hover {\n",
              "      background-color: #E2EBFA;\n",
              "      box-shadow: 0px 1px 2px rgba(60, 64, 67, 0.3), 0px 1px 3px 1px rgba(60, 64, 67, 0.15);\n",
              "      fill: #174EA6;\n",
              "    }\n",
              "\n",
              "    [theme=dark] .colab-df-convert {\n",
              "      background-color: #3B4455;\n",
              "      fill: #D2E3FC;\n",
              "    }\n",
              "\n",
              "    [theme=dark] .colab-df-convert:hover {\n",
              "      background-color: #434B5C;\n",
              "      box-shadow: 0px 1px 3px 1px rgba(0, 0, 0, 0.15);\n",
              "      filter: drop-shadow(0px 1px 2px rgba(0, 0, 0, 0.3));\n",
              "      fill: #FFFFFF;\n",
              "    }\n",
              "  </style>\n",
              "\n",
              "      <script>\n",
              "        const buttonEl =\n",
              "          document.querySelector('#df-0b2a2e3f-fe0b-4422-bc46-d07b6c1c7cc4 button.colab-df-convert');\n",
              "        buttonEl.style.display =\n",
              "          google.colab.kernel.accessAllowed ? 'block' : 'none';\n",
              "\n",
              "        async function convertToInteractive(key) {\n",
              "          const element = document.querySelector('#df-0b2a2e3f-fe0b-4422-bc46-d07b6c1c7cc4');\n",
              "          const dataTable =\n",
              "            await google.colab.kernel.invokeFunction('convertToInteractive',\n",
              "                                                     [key], {});\n",
              "          if (!dataTable) return;\n",
              "\n",
              "          const docLinkHtml = 'Like what you see? Visit the ' +\n",
              "            '<a target=\"_blank\" href=https://colab.research.google.com/notebooks/data_table.ipynb>data table notebook</a>'\n",
              "            + ' to learn more about interactive tables.';\n",
              "          element.innerHTML = '';\n",
              "          dataTable['output_type'] = 'display_data';\n",
              "          await google.colab.output.renderOutput(dataTable, element);\n",
              "          const docLink = document.createElement('div');\n",
              "          docLink.innerHTML = docLinkHtml;\n",
              "          element.appendChild(docLink);\n",
              "        }\n",
              "      </script>\n",
              "    </div>\n",
              "  </div>\n",
              "  "
            ]
          },
          "metadata": {},
          "execution_count": 12
        }
      ]
    },
    {
      "cell_type": "code",
      "source": [
        "print(f\"d_train:{d_train_orig.shape}\\nd_test:{d_test_orig.shape}\\ns_test:{s_train_orig.shape}\")"
      ],
      "metadata": {
        "execution": {
          "iopub.status.busy": "2023-04-05T13:56:02.846125Z",
          "iopub.execute_input": "2023-04-05T13:56:02.846622Z",
          "iopub.status.idle": "2023-04-05T13:56:02.856735Z",
          "shell.execute_reply.started": "2023-04-05T13:56:02.846561Z",
          "shell.execute_reply": "2023-04-05T13:56:02.855258Z"
        },
        "trusted": true,
        "colab": {
          "base_uri": "https://localhost:8080/"
        },
        "id": "fak6bNeQFKQd",
        "outputId": "c7f3c0fb-08ee-4ace-d434-68f10c0e1579"
      },
      "execution_count": 13,
      "outputs": [
        {
          "output_type": "stream",
          "name": "stdout",
          "text": [
            "d_train:(7613, 5)\n",
            "d_test:(3263, 4)\n",
            "s_test:(27481, 4)\n"
          ]
        }
      ]
    },
    {
      "cell_type": "code",
      "source": [
        "total = d_train_orig.target.value_counts().sum()\n",
        "neg = d_train_orig.target.value_counts()[0]\n",
        "pos = d_train_orig.target.value_counts()[1]\n",
        "print(f\"Not Disaster: Count = {neg} Percent = {neg/total}\\n\"\n",
        "     f\"Disaster:  Count = {pos} Percent = {pos/total}\\n\")"
      ],
      "metadata": {
        "execution": {
          "iopub.status.busy": "2023-04-05T13:56:02.863151Z",
          "iopub.execute_input": "2023-04-05T13:56:02.863612Z",
          "iopub.status.idle": "2023-04-05T13:56:02.879904Z",
          "shell.execute_reply.started": "2023-04-05T13:56:02.863571Z",
          "shell.execute_reply": "2023-04-05T13:56:02.878303Z"
        },
        "trusted": true,
        "colab": {
          "base_uri": "https://localhost:8080/"
        },
        "id": "ZQqzoU-FFKQd",
        "outputId": "b397c9ea-b88a-4c4a-b471-397e72a3c0f3"
      },
      "execution_count": 14,
      "outputs": [
        {
          "output_type": "stream",
          "name": "stdout",
          "text": [
            "Not Disaster: Count = 4342 Percent = 0.5703402075397347\n",
            "Disaster:  Count = 3271 Percent = 0.4296597924602653\n",
            "\n"
          ]
        }
      ]
    },
    {
      "cell_type": "code",
      "source": [
        "total = s_train_orig.sentiment.value_counts().sum()\n",
        "neu = s_train_orig.sentiment.value_counts()['neutral']\n",
        "neg = s_train_orig.sentiment.value_counts()['negative']\n",
        "pos = s_train_orig.sentiment.value_counts()['positive']\n",
        "print(f\"Neutral: Count = {neu} Percent = {neu/total}\\n\"\n",
        "    f\"Negative: Count = {neg} Percent = {neg/total}\\n\"\n",
        "     f\"Positve:  Count = {pos} Percent = {pos/total}\\n\")"
      ],
      "metadata": {
        "execution": {
          "iopub.status.busy": "2023-04-05T13:56:02.882315Z",
          "iopub.execute_input": "2023-04-05T13:56:02.882702Z",
          "iopub.status.idle": "2023-04-05T13:56:02.902673Z",
          "shell.execute_reply.started": "2023-04-05T13:56:02.882667Z",
          "shell.execute_reply": "2023-04-05T13:56:02.900764Z"
        },
        "trusted": true,
        "colab": {
          "base_uri": "https://localhost:8080/"
        },
        "id": "HpO54GOVFKQd",
        "outputId": "9ce291c6-7e9b-4d69-87fa-45071da810b4"
      },
      "execution_count": 15,
      "outputs": [
        {
          "output_type": "stream",
          "name": "stdout",
          "text": [
            "Neutral: Count = 11118 Percent = 0.4045704304792402\n",
            "Negative: Count = 7781 Percent = 0.2831410792911466\n",
            "Positve:  Count = 8582 Percent = 0.3122884902296132\n",
            "\n"
          ]
        }
      ]
    },
    {
      "cell_type": "code",
      "source": [
        "d_train_orig.columns"
      ],
      "metadata": {
        "execution": {
          "iopub.status.busy": "2023-04-05T13:56:02.905126Z",
          "iopub.execute_input": "2023-04-05T13:56:02.906267Z",
          "iopub.status.idle": "2023-04-05T13:56:02.924660Z",
          "shell.execute_reply.started": "2023-04-05T13:56:02.906195Z",
          "shell.execute_reply": "2023-04-05T13:56:02.922958Z"
        },
        "trusted": true,
        "colab": {
          "base_uri": "https://localhost:8080/"
        },
        "id": "9P5AURz5FKQe",
        "outputId": "76665b16-2aba-47d0-8565-db357a55d31a"
      },
      "execution_count": 16,
      "outputs": [
        {
          "output_type": "execute_result",
          "data": {
            "text/plain": [
              "Index(['id', 'keyword', 'location', 'text', 'target'], dtype='object')"
            ]
          },
          "metadata": {},
          "execution_count": 16
        }
      ]
    },
    {
      "cell_type": "code",
      "source": [
        "s_train_orig.columns"
      ],
      "metadata": {
        "execution": {
          "iopub.status.busy": "2023-04-05T13:56:02.926975Z",
          "iopub.execute_input": "2023-04-05T13:56:02.927628Z",
          "iopub.status.idle": "2023-04-05T13:56:02.938334Z",
          "shell.execute_reply.started": "2023-04-05T13:56:02.927569Z",
          "shell.execute_reply": "2023-04-05T13:56:02.936777Z"
        },
        "trusted": true,
        "colab": {
          "base_uri": "https://localhost:8080/"
        },
        "id": "9Rbn9IVyFKQe",
        "outputId": "19b8a592-f81e-4db8-83ff-98d42b20a011"
      },
      "execution_count": 17,
      "outputs": [
        {
          "output_type": "execute_result",
          "data": {
            "text/plain": [
              "Index(['textID', 'text', 'selected_text', 'sentiment'], dtype='object')"
            ]
          },
          "metadata": {},
          "execution_count": 17
        }
      ]
    },
    {
      "cell_type": "code",
      "source": [
        "print(data_quality(d_train_orig))"
      ],
      "metadata": {
        "execution": {
          "iopub.status.busy": "2023-04-05T13:56:02.940363Z",
          "iopub.execute_input": "2023-04-05T13:56:02.940776Z",
          "iopub.status.idle": "2023-04-05T13:56:03.007714Z",
          "shell.execute_reply.started": "2023-04-05T13:56:02.940740Z",
          "shell.execute_reply": "2023-04-05T13:56:03.006285Z"
        },
        "trusted": true,
        "colab": {
          "base_uri": "https://localhost:8080/"
        },
        "id": "kJYNNXIOFKQe",
        "outputId": "2259cf3b-ca76-4355-e395-2745adf8ded6"
      },
      "execution_count": 18,
      "outputs": [
        {
          "output_type": "stream",
          "name": "stdout",
          "text": [
            "          Present Values  Missing Values  Unique Values\n",
            "id                  7613               0           7613\n",
            "keyword             7552              61            221\n",
            "location            5080            2533           3341\n",
            "text                7613               0           7503\n",
            "target              7613               0              2\n"
          ]
        }
      ]
    },
    {
      "cell_type": "code",
      "source": [
        "print(data_quality(s_train_orig))"
      ],
      "metadata": {
        "execution": {
          "iopub.status.busy": "2023-04-05T13:56:03.009897Z",
          "iopub.execute_input": "2023-04-05T13:56:03.010448Z",
          "iopub.status.idle": "2023-04-05T13:56:03.048313Z",
          "shell.execute_reply.started": "2023-04-05T13:56:03.010393Z",
          "shell.execute_reply": "2023-04-05T13:56:03.046825Z"
        },
        "trusted": true,
        "colab": {
          "base_uri": "https://localhost:8080/"
        },
        "id": "PhSbqCTGFKQe",
        "outputId": "7d6900bd-c42c-46c8-a0f8-f839cc7edef4"
      },
      "execution_count": 19,
      "outputs": [
        {
          "output_type": "stream",
          "name": "stdout",
          "text": [
            "               Present Values  Missing Values  Unique Values\n",
            "textID                  27481               0          27481\n",
            "text                    27480               1          27480\n",
            "selected_text           27480               1          22463\n",
            "sentiment               27481               0              3\n"
          ]
        }
      ]
    },
    {
      "cell_type": "markdown",
      "source": [
        "### Data Preprocessing ###"
      ],
      "metadata": {
        "id": "SY1bjqnLFKQe"
      }
    },
    {
      "cell_type": "code",
      "source": [
        "# Helper function that will map sentiment to numerical values\n",
        "def map_sentiment(x):\n",
        "    if x == \"negative\":\n",
        "        return 1\n",
        "    elif x ==\"neutral\":\n",
        "        return 0\n",
        "    elif x ==\"positive\":\n",
        "        return 2\n",
        "    else:\n",
        "        return None\n",
        "\n",
        "# Custom Dataset for D1 that will tokenize text and arrange output and labels in a dictionary\n",
        "class DisasterData(Dataset):\n",
        "    def __init__(self, dataframe, tokenizer, max_len):\n",
        "        self.tokenizer = tokenizer\n",
        "        self.data = dataframe\n",
        "        self.text = dataframe.text\n",
        "        self.targets = self.data.target\n",
        "        self.max_len = max_len\n",
        "\n",
        "    def __len__(self):\n",
        "        return len(self.text)\n",
        "\n",
        "    def __getitem__(self, index):\n",
        "        text = str(self.text[index])\n",
        "        text = \" \".join(text.split())\n",
        "\n",
        "        inputs = self.tokenizer.encode_plus(\n",
        "            text,\n",
        "            None,\n",
        "            add_special_tokens=True,\n",
        "            max_length=self.max_len,\n",
        "            truncation=True,\n",
        "            padding = 'max_length',\n",
        "            return_token_type_ids=True\n",
        "        )\n",
        "        ids = inputs['input_ids']\n",
        "        mask = inputs['attention_mask']\n",
        "        token_type_ids = inputs[\"token_type_ids\"]\n",
        "\n",
        "\n",
        "        return {\n",
        "            'ids': torch.tensor(ids, dtype=torch.long),\n",
        "            'mask': torch.tensor(mask, dtype=torch.long),\n",
        "            'token_type_ids': torch.tensor(token_type_ids, dtype=torch.long),\n",
        "            'targets': torch.tensor(self.targets[index], dtype=torch.long)\n",
        "        }\n",
        "\n",
        "# Custom Dataset for D2 that will tokenize text and arrange output and labels in a dictionary\n",
        "class SentimentData(Dataset):\n",
        "    def __init__(self, dataframe, tokenizer, max_len):\n",
        "        self.tokenizer = tokenizer\n",
        "        self.data = dataframe\n",
        "        self.text = dataframe.text\n",
        "        self.targets = self.data.target\n",
        "        self.max_len = max_len\n",
        "\n",
        "    def __len__(self):\n",
        "        return len(self.text)\n",
        "\n",
        "    def __getitem__(self, index):\n",
        "        text = str(self.text[index])\n",
        "        text = \" \".join(text.split())\n",
        "\n",
        "        inputs = self.tokenizer.encode_plus(\n",
        "            text,\n",
        "            None,\n",
        "            add_special_tokens=True,\n",
        "            max_length=self.max_len,\n",
        "            truncation=True,\n",
        "            padding = 'max_length',\n",
        "            return_token_type_ids=True\n",
        "        )\n",
        "        ids = inputs['input_ids']\n",
        "        mask = inputs['attention_mask']\n",
        "        token_type_ids = inputs[\"token_type_ids\"]\n",
        "\n",
        "\n",
        "        return {\n",
        "            'ids': torch.tensor(ids, dtype=torch.long),\n",
        "            'mask': torch.tensor(mask, dtype=torch.long),\n",
        "            'token_type_ids': torch.tensor(token_type_ids, dtype=torch.long),\n",
        "            'targets': torch.tensor(self.targets[index], dtype=torch.long)\n",
        "        }\n",
        " "
      ],
      "metadata": {
        "id": "3PwXQSSUcv0y"
      },
      "execution_count": 20,
      "outputs": []
    },
    {
      "cell_type": "code",
      "source": [
        "# Helper function to remove URLs. May or may not be used\n",
        "def cleaning_URLs(data):\n",
        "    return re.sub('((www.[^s]+)|(https?://[^s]+))',' ',data)"
      ],
      "metadata": {
        "id": "nDY8IqryWdin"
      },
      "execution_count": 21,
      "outputs": []
    },
    {
      "cell_type": "code",
      "source": [
        "# Creating copies of the dataset\n",
        "d_train = d_train_orig.copy()\n",
        "d_test = d_test_orig.copy()\n",
        "s_train = s_train_orig.copy()"
      ],
      "metadata": {
        "id": "GazgsoaZGK-h"
      },
      "execution_count": 22,
      "outputs": []
    },
    {
      "cell_type": "code",
      "source": [
        "# Remove null values\n",
        "s_train.drop(s_train[s_train[\"textID\"]==\"fdb77c3752\"].index, inplace=True)"
      ],
      "metadata": {
        "id": "Yrr_2Q0oYvAf"
      },
      "execution_count": 23,
      "outputs": []
    },
    {
      "cell_type": "code",
      "source": [
        "# Ignore removing URLs for now as tokenizer can probably handle URLs\n",
        "# d_train['text'] = d_train.apply(lambda x: cleaning_URLs(x['text']),axis=1)\n",
        "# #d_test['text'] = d_test.apply(lambda x: cleaning_URLs(x['text']),axis=1)\n",
        "# s_train['text'] = s_train.apply(lambda x: cleaning_URLs(x['text']),axis=1)"
      ],
      "metadata": {
        "id": "QassCZXzWz79"
      },
      "execution_count": 24,
      "outputs": []
    },
    {
      "cell_type": "code",
      "source": [
        "# Removing duplicate text, skipped for now as dropping them will have an impact in later tasks\n",
        "# d_train.drop_duplicates(subset=['text'], inplace=True)\n",
        "# d_train.shape"
      ],
      "metadata": {
        "id": "fp6UWD0iZiia"
      },
      "execution_count": 25,
      "outputs": []
    },
    {
      "cell_type": "code",
      "source": [
        "# Removing duplicate text\n",
        "# s_train.drop_duplicates(subset=['text'], inplace=True)\n",
        "# s_train.shape"
      ],
      "metadata": {
        "id": "xq-Jgho7alAH"
      },
      "execution_count": 26,
      "outputs": []
    },
    {
      "cell_type": "code",
      "source": [
        "# Adding task id to the datasets, might be needed later on\n",
        "d_train['id'] = 1\n",
        "s_train['id'] = 2\n",
        "d_train.reset_index(inplace=True)\n",
        "s_train.reset_index(inplace=True)\n",
        "s_train_text = s_train[['text','id','index']].copy()\n",
        "d_train_text = d_train[['text','id','index']].copy()"
      ],
      "metadata": {
        "execution": {
          "iopub.status.busy": "2023-04-05T13:56:03.049930Z",
          "iopub.execute_input": "2023-04-05T13:56:03.050401Z",
          "iopub.status.idle": "2023-04-05T13:56:03.072756Z",
          "shell.execute_reply.started": "2023-04-05T13:56:03.050352Z",
          "shell.execute_reply": "2023-04-05T13:56:03.071607Z"
        },
        "trusted": true,
        "id": "hdQaG_KTFKQf"
      },
      "execution_count": 27,
      "outputs": []
    },
    {
      "cell_type": "code",
      "source": [
        "# Mapping sentiment labels to numbers\n",
        "s_train['sentiment'] = s_train.apply(lambda x: map_sentiment(x.sentiment), axis=1)\n",
        "s_train.rename(columns={'sentiment':'target'}, inplace=True)\n",
        "# Creating copies of the data for passing in to custom dataset\n",
        "d_train_select =  d_train[['text','target']].copy()\n",
        "s_train_select = s_train[['text','target']].copy()"
      ],
      "metadata": {
        "execution": {
          "iopub.status.busy": "2023-04-05T13:56:03.074666Z",
          "iopub.execute_input": "2023-04-05T13:56:03.075028Z",
          "iopub.status.idle": "2023-04-05T13:56:03.492811Z",
          "shell.execute_reply.started": "2023-04-05T13:56:03.074994Z",
          "shell.execute_reply": "2023-04-05T13:56:03.491414Z"
        },
        "trusted": true,
        "id": "4h58AjlDFKQf"
      },
      "execution_count": 28,
      "outputs": []
    },
    {
      "cell_type": "code",
      "source": [
        "# Creating the corpus of text as instructed, but won't be used\n",
        "corpus = pd.concat([d_train_select[[\"text\"]], s_train_select[['text']]])"
      ],
      "metadata": {
        "id": "-ZU7aNsfas30"
      },
      "execution_count": 29,
      "outputs": []
    },
    {
      "cell_type": "code",
      "source": [
        "corpus.shape"
      ],
      "metadata": {
        "colab": {
          "base_uri": "https://localhost:8080/"
        },
        "id": "F1b1GlSxbM44",
        "outputId": "bc6b1e9c-5fdc-404a-bb1f-6765b6c9366b"
      },
      "execution_count": 30,
      "outputs": [
        {
          "output_type": "execute_result",
          "data": {
            "text/plain": [
              "(35093, 1)"
            ]
          },
          "metadata": {},
          "execution_count": 30
        }
      ]
    },
    {
      "cell_type": "code",
      "source": [
        "# Pre-trained tokenizer to be used\n",
        "tokenizer = RobertaTokenizer.from_pretrained(\"roberta-base\", do_lower_case=True)\n",
        "\n",
        "# # Hyperparameters below for actual model used\n",
        "MAX_LEN = 512\n",
        "TRAIN_BATCH_SIZE = 8\n",
        "VALID_BATCH_SIZE = 32\n",
        "\n",
        "# Hyperparameters below for experimenting on freezing the pre-trained MLM models\n",
        "# MAX_LEN = 512\n",
        "# TRAIN_BATCH_SIZE = 32\n",
        "# VALID_BATCH_SIZE = 32"
      ],
      "metadata": {
        "execution": {
          "iopub.status.busy": "2023-04-05T13:56:03.495973Z",
          "iopub.execute_input": "2023-04-05T13:56:03.496516Z",
          "iopub.status.idle": "2023-04-05T13:56:03.502431Z",
          "shell.execute_reply.started": "2023-04-05T13:56:03.496466Z",
          "shell.execute_reply": "2023-04-05T13:56:03.501101Z"
        },
        "trusted": true,
        "id": "5C7L7NyQFKQf",
        "colab": {
          "base_uri": "https://localhost:8080/",
          "height": 113,
          "referenced_widgets": [
            "f41161f6275b4193b55efe0f7ad7f6d5",
            "d88aa9bc161a41b3a4382ad2cae4fdc3",
            "903e7019d88a42f1b931c7c3969b41e6",
            "ac38929b60cb4ebeb8bdd86df114df33",
            "153ae3c915434f60bdfdd7e37a6a928b",
            "bd0f94ddd7024aa5bd3b14d8dcef3af5",
            "55cb1424835b406ba5787d9ce0616845",
            "cd035bee9342478180fcfa2416de103c",
            "2a5b31bcdc984b5d909fac6ddad1f23b",
            "9cc6b009e9794d3899243d91663144de",
            "a2b7c0f476484d5da3531a8403166ca2",
            "2bde258499bf4bd394a1328a5a53f142",
            "0e161f906488479fb66b34ee89fe344d",
            "370c51189408403f9915d7c56596bd08",
            "e137bd2c43574c159d59a3417b34b5f0",
            "3d3c919a778948b68ba4d062914fa094",
            "fa4113c9711d4be78f99c2f3d4c44b4f",
            "1dc94fbec6244a8c9966acc7679fe480",
            "7912cb9a302943aab4ad2021ba9ba022",
            "a2150d9913cc426ea1c96cc86c6ceb9f",
            "53cfc299516844bbbf86cae84273d702",
            "da2ce1900a334819a9cd52d66d114e8e",
            "aacc144823684a71abd42cd593b18602",
            "4247bb95e3b846b2a38269d1b98b2908",
            "b9bb193c01e84641a50530aa6869d413",
            "ff8f31a09d8249caaba5058f182c3f04",
            "56ac9f3e481545378233a99ee5e9bfef",
            "c13d91b8566f4897b90affb53f6474ae",
            "5a2c6fc38a404a3cbc2dad73ebb7db03",
            "984d8f14c3d644dab5fd4f84bd8372f3",
            "04a9699fde594519965b3b6c502fc047",
            "b9761a9f005c49088a611e69d4781e75",
            "42fb0c043cce496ca6bd397845fd4b09"
          ]
        },
        "outputId": "925ee233-6397-46ff-99aa-9ce8c9bea3f8"
      },
      "execution_count": 31,
      "outputs": [
        {
          "output_type": "display_data",
          "data": {
            "text/plain": [
              "Downloading (…)olve/main/vocab.json:   0%|          | 0.00/899k [00:00<?, ?B/s]"
            ],
            "application/vnd.jupyter.widget-view+json": {
              "version_major": 2,
              "version_minor": 0,
              "model_id": "f41161f6275b4193b55efe0f7ad7f6d5"
            }
          },
          "metadata": {}
        },
        {
          "output_type": "display_data",
          "data": {
            "text/plain": [
              "Downloading (…)olve/main/merges.txt:   0%|          | 0.00/456k [00:00<?, ?B/s]"
            ],
            "application/vnd.jupyter.widget-view+json": {
              "version_major": 2,
              "version_minor": 0,
              "model_id": "2bde258499bf4bd394a1328a5a53f142"
            }
          },
          "metadata": {}
        },
        {
          "output_type": "display_data",
          "data": {
            "text/plain": [
              "Downloading (…)lve/main/config.json:   0%|          | 0.00/481 [00:00<?, ?B/s]"
            ],
            "application/vnd.jupyter.widget-view+json": {
              "version_major": 2,
              "version_minor": 0,
              "model_id": "aacc144823684a71abd42cd593b18602"
            }
          },
          "metadata": {}
        }
      ]
    },
    {
      "cell_type": "code",
      "source": [
        "# Create train-validate spilts\n",
        "d_train_data, d_val_data = train_test_split(d_train_select, test_size=0.2, stratify=d_train_select['target'],\n",
        "                                 random_state=2023)\n",
        "\n",
        "s_train_data, s_val_data= train_test_split(s_train_select, test_size=0.2, stratify=s_train_select['target'],\n",
        "                                 random_state=2023)\n",
        "\n",
        "# Dropping the index because it can mess up the loops\n",
        "d_train_data.reset_index(inplace=True,drop =True)\n",
        "d_val_data.reset_index(inplace=True, drop =True)\n",
        "s_train_data.reset_index(inplace=True, drop =True)\n",
        "s_val_data.reset_index(inplace=True,  drop =True)"
      ],
      "metadata": {
        "execution": {
          "iopub.status.busy": "2023-04-05T13:56:03.504282Z",
          "iopub.execute_input": "2023-04-05T13:56:03.505845Z",
          "iopub.status.idle": "2023-04-05T13:56:03.534774Z",
          "shell.execute_reply.started": "2023-04-05T13:56:03.505790Z",
          "shell.execute_reply": "2023-04-05T13:56:03.533477Z"
        },
        "trusted": true,
        "id": "CFp5aLW7FKQf"
      },
      "execution_count": 32,
      "outputs": []
    },
    {
      "cell_type": "code",
      "source": [
        "d_train_data.shape"
      ],
      "metadata": {
        "colab": {
          "base_uri": "https://localhost:8080/"
        },
        "id": "PBirAw0YN0jT",
        "outputId": "db63c7ca-24f8-427b-85f7-c7ba005f9a3e"
      },
      "execution_count": 33,
      "outputs": [
        {
          "output_type": "execute_result",
          "data": {
            "text/plain": [
              "(6090, 2)"
            ]
          },
          "metadata": {},
          "execution_count": 33
        }
      ]
    },
    {
      "cell_type": "code",
      "source": [
        "s_train_data.head()"
      ],
      "metadata": {
        "execution": {
          "iopub.status.busy": "2023-04-05T13:56:03.536159Z",
          "iopub.execute_input": "2023-04-05T13:56:03.536496Z",
          "iopub.status.idle": "2023-04-05T13:56:03.548543Z",
          "shell.execute_reply.started": "2023-04-05T13:56:03.536462Z",
          "shell.execute_reply": "2023-04-05T13:56:03.546966Z"
        },
        "trusted": true,
        "colab": {
          "base_uri": "https://localhost:8080/",
          "height": 206
        },
        "id": "xEeAA6Z5FKQf",
        "outputId": "58249cbe-5988-4358-be99-258b66e4f1d8"
      },
      "execution_count": 34,
      "outputs": [
        {
          "output_type": "execute_result",
          "data": {
            "text/plain": [
              "                                                text  target\n",
              "0             June gloom seems to have arrived early       0\n",
              "1  Sad that our neighbors just cut down ALL the t...       1\n",
              "2   OHH  yeah i sometimes forget  your in the oth...       0\n",
              "3  Join the biggest and bestest group on facebook...       2\n",
              "4       i lost one of my best friends iï¿½m sooo sad       1"
            ],
            "text/html": [
              "\n",
              "  <div id=\"df-88c3bd68-4f2f-423f-8d33-68d799858197\">\n",
              "    <div class=\"colab-df-container\">\n",
              "      <div>\n",
              "<style scoped>\n",
              "    .dataframe tbody tr th:only-of-type {\n",
              "        vertical-align: middle;\n",
              "    }\n",
              "\n",
              "    .dataframe tbody tr th {\n",
              "        vertical-align: top;\n",
              "    }\n",
              "\n",
              "    .dataframe thead th {\n",
              "        text-align: right;\n",
              "    }\n",
              "</style>\n",
              "<table border=\"1\" class=\"dataframe\">\n",
              "  <thead>\n",
              "    <tr style=\"text-align: right;\">\n",
              "      <th></th>\n",
              "      <th>text</th>\n",
              "      <th>target</th>\n",
              "    </tr>\n",
              "  </thead>\n",
              "  <tbody>\n",
              "    <tr>\n",
              "      <th>0</th>\n",
              "      <td>June gloom seems to have arrived early</td>\n",
              "      <td>0</td>\n",
              "    </tr>\n",
              "    <tr>\n",
              "      <th>1</th>\n",
              "      <td>Sad that our neighbors just cut down ALL the t...</td>\n",
              "      <td>1</td>\n",
              "    </tr>\n",
              "    <tr>\n",
              "      <th>2</th>\n",
              "      <td>OHH  yeah i sometimes forget  your in the oth...</td>\n",
              "      <td>0</td>\n",
              "    </tr>\n",
              "    <tr>\n",
              "      <th>3</th>\n",
              "      <td>Join the biggest and bestest group on facebook...</td>\n",
              "      <td>2</td>\n",
              "    </tr>\n",
              "    <tr>\n",
              "      <th>4</th>\n",
              "      <td>i lost one of my best friends iï¿½m sooo sad</td>\n",
              "      <td>1</td>\n",
              "    </tr>\n",
              "  </tbody>\n",
              "</table>\n",
              "</div>\n",
              "      <button class=\"colab-df-convert\" onclick=\"convertToInteractive('df-88c3bd68-4f2f-423f-8d33-68d799858197')\"\n",
              "              title=\"Convert this dataframe to an interactive table.\"\n",
              "              style=\"display:none;\">\n",
              "        \n",
              "  <svg xmlns=\"http://www.w3.org/2000/svg\" height=\"24px\"viewBox=\"0 0 24 24\"\n",
              "       width=\"24px\">\n",
              "    <path d=\"M0 0h24v24H0V0z\" fill=\"none\"/>\n",
              "    <path d=\"M18.56 5.44l.94 2.06.94-2.06 2.06-.94-2.06-.94-.94-2.06-.94 2.06-2.06.94zm-11 1L8.5 8.5l.94-2.06 2.06-.94-2.06-.94L8.5 2.5l-.94 2.06-2.06.94zm10 10l.94 2.06.94-2.06 2.06-.94-2.06-.94-.94-2.06-.94 2.06-2.06.94z\"/><path d=\"M17.41 7.96l-1.37-1.37c-.4-.4-.92-.59-1.43-.59-.52 0-1.04.2-1.43.59L10.3 9.45l-7.72 7.72c-.78.78-.78 2.05 0 2.83L4 21.41c.39.39.9.59 1.41.59.51 0 1.02-.2 1.41-.59l7.78-7.78 2.81-2.81c.8-.78.8-2.07 0-2.86zM5.41 20L4 18.59l7.72-7.72 1.47 1.35L5.41 20z\"/>\n",
              "  </svg>\n",
              "      </button>\n",
              "      \n",
              "  <style>\n",
              "    .colab-df-container {\n",
              "      display:flex;\n",
              "      flex-wrap:wrap;\n",
              "      gap: 12px;\n",
              "    }\n",
              "\n",
              "    .colab-df-convert {\n",
              "      background-color: #E8F0FE;\n",
              "      border: none;\n",
              "      border-radius: 50%;\n",
              "      cursor: pointer;\n",
              "      display: none;\n",
              "      fill: #1967D2;\n",
              "      height: 32px;\n",
              "      padding: 0 0 0 0;\n",
              "      width: 32px;\n",
              "    }\n",
              "\n",
              "    .colab-df-convert:hover {\n",
              "      background-color: #E2EBFA;\n",
              "      box-shadow: 0px 1px 2px rgba(60, 64, 67, 0.3), 0px 1px 3px 1px rgba(60, 64, 67, 0.15);\n",
              "      fill: #174EA6;\n",
              "    }\n",
              "\n",
              "    [theme=dark] .colab-df-convert {\n",
              "      background-color: #3B4455;\n",
              "      fill: #D2E3FC;\n",
              "    }\n",
              "\n",
              "    [theme=dark] .colab-df-convert:hover {\n",
              "      background-color: #434B5C;\n",
              "      box-shadow: 0px 1px 3px 1px rgba(0, 0, 0, 0.15);\n",
              "      filter: drop-shadow(0px 1px 2px rgba(0, 0, 0, 0.3));\n",
              "      fill: #FFFFFF;\n",
              "    }\n",
              "  </style>\n",
              "\n",
              "      <script>\n",
              "        const buttonEl =\n",
              "          document.querySelector('#df-88c3bd68-4f2f-423f-8d33-68d799858197 button.colab-df-convert');\n",
              "        buttonEl.style.display =\n",
              "          google.colab.kernel.accessAllowed ? 'block' : 'none';\n",
              "\n",
              "        async function convertToInteractive(key) {\n",
              "          const element = document.querySelector('#df-88c3bd68-4f2f-423f-8d33-68d799858197');\n",
              "          const dataTable =\n",
              "            await google.colab.kernel.invokeFunction('convertToInteractive',\n",
              "                                                     [key], {});\n",
              "          if (!dataTable) return;\n",
              "\n",
              "          const docLinkHtml = 'Like what you see? Visit the ' +\n",
              "            '<a target=\"_blank\" href=https://colab.research.google.com/notebooks/data_table.ipynb>data table notebook</a>'\n",
              "            + ' to learn more about interactive tables.';\n",
              "          element.innerHTML = '';\n",
              "          dataTable['output_type'] = 'display_data';\n",
              "          await google.colab.output.renderOutput(dataTable, element);\n",
              "          const docLink = document.createElement('div');\n",
              "          docLink.innerHTML = docLinkHtml;\n",
              "          element.appendChild(docLink);\n",
              "        }\n",
              "      </script>\n",
              "    </div>\n",
              "  </div>\n",
              "  "
            ]
          },
          "metadata": {},
          "execution_count": 34
        }
      ]
    },
    {
      "cell_type": "code",
      "source": [
        "# Create D1 and D2 training and validation Datasets. This will tokenize the datasets on the fly\n",
        "d1_train_set= DisasterData(d_train_data, tokenizer, MAX_LEN)\n",
        "d1_val_set = DisasterData(d_val_data, tokenizer, MAX_LEN)\n",
        "\n",
        "d2_train_set= SentimentData(s_train_data, tokenizer, MAX_LEN)\n",
        "d2_val_set = SentimentData(s_val_data, tokenizer, MAX_LEN)"
      ],
      "metadata": {
        "execution": {
          "iopub.status.busy": "2023-04-05T13:56:03.550480Z",
          "iopub.execute_input": "2023-04-05T13:56:03.550905Z",
          "iopub.status.idle": "2023-04-05T13:56:03.561432Z",
          "shell.execute_reply.started": "2023-04-05T13:56:03.550865Z",
          "shell.execute_reply": "2023-04-05T13:56:03.560097Z"
        },
        "trusted": true,
        "id": "_EJ8mUztFKQf"
      },
      "execution_count": 35,
      "outputs": []
    },
    {
      "cell_type": "code",
      "source": [
        "# Create D1 and D2 dataloaders\n",
        "train_params = {'batch_size': TRAIN_BATCH_SIZE,\n",
        "                'shuffle': True,\n",
        "                'num_workers': 0\n",
        "                }\n",
        "\n",
        "test_params = {'batch_size': VALID_BATCH_SIZE,\n",
        "                'shuffle': False,\n",
        "                'num_workers': 0\n",
        "                }\n",
        "\n",
        "d1_train_loader = DataLoader(d1_train_set, **train_params)\n",
        "d1_val_loader = DataLoader(d1_val_set, **test_params)\n",
        "\n",
        "d2_train_loader = DataLoader(d2_train_set, **train_params)\n",
        "d2_val_loader = DataLoader(d2_val_set, **test_params)"
      ],
      "metadata": {
        "execution": {
          "iopub.status.busy": "2023-04-05T13:56:03.562680Z",
          "iopub.execute_input": "2023-04-05T13:56:03.563005Z",
          "iopub.status.idle": "2023-04-05T13:56:03.573745Z",
          "shell.execute_reply.started": "2023-04-05T13:56:03.562975Z",
          "shell.execute_reply": "2023-04-05T13:56:03.572540Z"
        },
        "trusted": true,
        "id": "UZgNsDNYFKQf"
      },
      "execution_count": 36,
      "outputs": []
    },
    {
      "cell_type": "markdown",
      "source": [
        "# II. Model Training #"
      ],
      "metadata": {
        "id": "86f9Jv-LFKQg"
      }
    },
    {
      "cell_type": "code",
      "source": [
        "# Final architecture to be used for Task 1 and Task 2\n",
        "class NetMultiTask(torch.nn.Module):\n",
        "    def __init__(self):\n",
        "        super(NetMultiTask, self).__init__()\n",
        "        self.net = RobertaModel.from_pretrained(\"roberta-base\")\n",
        "        \n",
        "        self.pre_classifier1 = torch.nn.Linear(768, 768)\n",
        "        self.dropout1 = torch.nn.Dropout(0.2)\n",
        "        self.classifier1 = torch.nn.Linear(768, 2)\n",
        "        \n",
        "        self.pre_classifier2 = torch.nn.Linear(768, 768)\n",
        "        self.dropout2 = torch.nn.Dropout(0.2)\n",
        "        self.classifier2 = torch.nn.Linear(768, 3)\n",
        "\n",
        "    def forward(self, input_ids, attention_mask, token_type_ids):\n",
        "        output_1 = self.net(input_ids=input_ids, attention_mask=attention_mask, token_type_ids=token_type_ids)\n",
        "        hidden_state = output_1[0]\n",
        "        pooler = hidden_state[:, 0]\n",
        "      \n",
        "        pooler1 = self.pre_classifier1(pooler)\n",
        "        pooler1 = torch.nn.ReLU()(pooler1)\n",
        "        pooler1 = self.dropout1(pooler1)\n",
        "        output1 = self.classifier1(pooler1)\n",
        "\n",
        "        pooler2 = self.pre_classifier2(pooler)\n",
        "        pooler2 = torch.nn.ReLU()(pooler2)\n",
        "        pooler2 = self.dropout2(pooler2)\n",
        "        output2 = self.classifier2(pooler2)\n",
        "        \n",
        "        return output1, output2"
      ],
      "metadata": {
        "id": "PopYuA22-7Ro"
      },
      "execution_count": 37,
      "outputs": []
    },
    {
      "cell_type": "markdown",
      "source": [
        "Liu, Y., Ott, M., Goyal, N., Du, J., Joshi, M., Chen, D., Levy, O., Lewis, M., Zettlemoyer, L., & Stoyanov, V. (2019). RoBERTa: A robustly optimized BERT pretraining approach. CoRR, abs/1907.11692."
      ],
      "metadata": {
        "id": "E3D_Alka6aAQ"
      }
    },
    {
      "cell_type": "markdown",
      "source": [
        "**Question**: Assume the model is deployed in a server within your news agency. Explain the inputs to the model and predictions that it is expected to output. Also explain how the predictions will be used by reporters."
      ],
      "metadata": {
        "id": "MKx2_cW9cr5x"
      }
    },
    {
      "cell_type": "markdown",
      "source": [
        "**Answer**:<br>\n",
        "<p>We are using the RoBERTa architecture in thie model above where we use its embeddings on two classifiers in the same neural network. The raw inputs to the model can be any text, but in this project's context it will be tweets on which the model will be trained on. The text must first be passed to RoBERTa's pre-trained tokenizer which will convert the text to the tensors and attention masks needed for the RoBERTa model. The tensors and attentioin masks will then pass through RoBERTa's architecture and we will use its last hidden state as word embeddings. The word embeddings will then be passed to two separate dense layers with different heads. The first will head has two outputs and the second head as three outputs.</p>\n",
        "<p>The first head can be used by reporters to classify a tweet if it's pertaining to a disaster or not. These can be used by reporters for example as an early warning system where the system can get tweets through the Twitter API, pass it through the model, predict the tweets, and then notifiy reporters if there are large amounts of disaster tweets happening in real time. This will enable them to respond and report on disasters quickly.</p>\n",
        "<p>The second head can be used by reporters and the news agency to gauge sentiment on their news/opinion articles released on twitter and then track its engagement. This can be done by setting up a sentiment analysis system using this model. The system can work by pulling replies or retweets from the reporters' tweets using the Twitter API, passing them through the model to get sentiment predictions, and then analyzing sentiment classes of the reporters' tweets."
      ],
      "metadata": {
        "id": "ayaPHWXHc_Fo"
      }
    },
    {
      "cell_type": "markdown",
      "source": [
        "# III. Neural Network Multi Task Learing #"
      ],
      "metadata": {
        "id": "55P6W8zvdJTg"
      }
    },
    {
      "cell_type": "markdown",
      "source": [
        "### Task 3.1 and Task 3.2 ###\n",
        "1. Train the model M only for T1 on Dtrain. Call the trained val 1\n",
        "model MD . Evaluate MD on D and report its 111\n",
        "performance metric (F1 score) for the first task, PerfT (MD |Dval). Also print the confusion matrix. ###\n",
        "\n",
        "2. Train the model M only for T2 on Dtrain . Call the trained\n",
        "model M . Evaluate the trained M2 on Dval and report D2 D2 2 val\n",
        "its performance metric (Accuracy) PerfT (MD |D Also print the confusion matrix."
      ],
      "metadata": {
        "id": "PTuJ_IH1gXyv"
      }
    },
    {
      "cell_type": "markdown",
      "source": [
        "#### Helper functions for the training and validation loops ####"
      ],
      "metadata": {
        "id": "lL3KXiaqdTNp"
      }
    },
    {
      "cell_type": "code",
      "source": [
        "def calcuate_accuracy(preds, targets):\n",
        "    n_correct = (preds==targets).sum().item()\n",
        "    return n_correct"
      ],
      "metadata": {
        "execution": {
          "iopub.status.busy": "2023-04-05T13:56:02.195329Z",
          "iopub.execute_input": "2023-04-05T13:56:02.195849Z",
          "iopub.status.idle": "2023-04-05T13:56:02.644063Z",
          "shell.execute_reply.started": "2023-04-05T13:56:02.195781Z",
          "shell.execute_reply": "2023-04-05T13:56:02.642940Z"
        },
        "trusted": true,
        "id": "ls13g2QrFKQX"
      },
      "execution_count": 38,
      "outputs": []
    },
    {
      "cell_type": "code",
      "source": [
        "def train(model, epoch, training_loader, mode):\n",
        "    tr_loss = 0\n",
        "    n_correct = 0\n",
        "    nb_tr_steps = 0\n",
        "    nb_tr_examples = 0\n",
        "    model.train()\n",
        "\n",
        "    \n",
        "    for _,data in enumerate(tqdm(training_loader, 0)):\n",
        "        ids = data['ids'].to(device, dtype = torch.long)\n",
        "        mask = data['mask'].to(device, dtype = torch.long)\n",
        "        token_type_ids = data['token_type_ids'].to(device, dtype = torch.long)\n",
        "        targets = data['targets'].to(device, dtype = torch.long)\n",
        "\n",
        "        output1, output2 = model(ids, mask, token_type_ids)\n",
        "\n",
        "        if mode == 1:\n",
        "            output = output1\n",
        "        elif mode == 2:\n",
        "            output = output2\n",
        "        else:\n",
        "            assert False, 'Bad Task ID passed'\n",
        "\n",
        "\n",
        "        loss = loss_function(output, targets)\n",
        "        tr_loss += loss.item()\n",
        "        big_val, big_idx = torch.max(output.data, dim=1)\n",
        "        n_correct += calcuate_accuracy(big_idx, targets)\n",
        "\n",
        "        nb_tr_steps += 1\n",
        "        nb_tr_examples+=targets.size(0)\n",
        "        \n",
        "        if _%5000==0:\n",
        "            loss_step = tr_loss/nb_tr_steps\n",
        "            accu_step = (n_correct*100)/nb_tr_examples \n",
        "            print(f\"Training Loss per 5000 steps: {loss_step}\")\n",
        "            print(f\"Training Accuracy per 5000 steps: {accu_step}\")\n",
        "\n",
        "        optimizer.zero_grad()\n",
        "        loss.backward()\n",
        "        # # When using GPU\n",
        "        optimizer.step()\n",
        "\n",
        "    print(f'The Total Accuracy for Epoch {epoch}: {(n_correct*100)/nb_tr_examples}')\n",
        "    epoch_loss = tr_loss/nb_tr_steps\n",
        "    epoch_accu = (n_correct*100)/nb_tr_examples\n",
        "    print(f\"Training Loss Epoch: {epoch_loss}\")\n",
        "    print(f\"Training Accuracy Epoch: {epoch_accu}\")\n",
        "    return\n",
        "\n",
        "def valid(model, testing_loader, mode):\n",
        "    model.eval()\n",
        "    #n_correct = 0; n_wrong = 0; total = 0; tr_loss=0; nb_tr_steps=0; nb_tr_examples=0\n",
        "    tr_loss=0\n",
        "    predicts = []\n",
        "\n",
        "    with torch.no_grad():\n",
        "        for _, data in enumerate(tqdm(testing_loader, 0)):\n",
        "            ids = data['ids'].to(device, dtype = torch.long)\n",
        "            mask = data['mask'].to(device, dtype = torch.long)\n",
        "            token_type_ids = data['token_type_ids'].to(device, dtype = torch.long)\n",
        "            targets = data['targets'].to(device, dtype = torch.long)\n",
        "\n",
        "            output1, output2 = model(ids, mask, token_type_ids)\n",
        "\n",
        "            if mode == 1:\n",
        "                output = output1\n",
        "            elif mode == 2:\n",
        "                output = output2\n",
        "            else:\n",
        "                assert False, 'Bad Task ID passed'\n",
        "\n",
        "            loss = loss_function(output, targets)\n",
        "            tr_loss += loss.item()\n",
        "            big_val, big_idx = torch.max(output.data, dim=1)\n",
        "            \n",
        "            for i in range(targets.size(0)):\n",
        "                predicts.append({\n",
        "                    \"predict\": big_idx[i].item(),\n",
        "                    \"target\": targets[i].item()\n",
        "                })\n",
        "    df = pd.DataFrame(predicts)\n",
        "    return df"
      ],
      "metadata": {
        "id": "aJBFApRfAAqV"
      },
      "execution_count": 39,
      "outputs": []
    },
    {
      "cell_type": "markdown",
      "source": [
        "#### Training code used ####\n",
        "\n",
        "Please refer to `learn_multitask.py` for working code"
      ],
      "metadata": {
        "id": "02IMtMT0f_LW"
      }
    },
    {
      "cell_type": "code",
      "source": [
        "# Specifying the learning rate for both tasks\n",
        "LEARNING_RATE = 1e-05"
      ],
      "metadata": {
        "execution": {
          "iopub.status.busy": "2023-04-05T13:56:38.651961Z",
          "iopub.execute_input": "2023-04-05T13:56:38.652397Z",
          "iopub.status.idle": "2023-04-05T13:56:38.658241Z",
          "shell.execute_reply.started": "2023-04-05T13:56:38.652359Z",
          "shell.execute_reply": "2023-04-05T13:56:38.656849Z"
        },
        "trusted": true,
        "id": "oNbFDjr6FKQg"
      },
      "execution_count": 40,
      "outputs": []
    },
    {
      "cell_type": "markdown",
      "source": [
        "#### Perfomance Metrics and Confusion Matrices ####"
      ],
      "metadata": {
        "id": "yRasxaAMgLtS"
      }
    },
    {
      "cell_type": "code",
      "source": [
        "# Loading the saved predictions for reporting metrics\n",
        "predicts_d1 = pd.read_csv(\"/content/drive/MyDrive/BT5151/group_project/predicts_d1_roberta_final.csv\", index_col=0)\n",
        "predicts_d2 = pd.read_csv(\"/content/drive/MyDrive/BT5151/group_project/predicts_d2_roberta_final.csv\", index_col=0)"
      ],
      "metadata": {
        "id": "SbZ_WYOPID72"
      },
      "execution_count": 41,
      "outputs": []
    },
    {
      "cell_type": "code",
      "source": [
        "print(classification_report(predicts_d1.target, predicts_d1.predict))\n",
        "print(f\"D1 F1: {f1_score(predicts_d1.target, predicts_d1.predict)}\\n\"\n",
        "      f\"D1 Accuracy: {accuracy_score(predicts_d1.target, predicts_d1.predict)}\\n\")"
      ],
      "metadata": {
        "execution": {
          "iopub.status.busy": "2023-04-05T14:14:55.545023Z",
          "iopub.status.idle": "2023-04-05T14:14:55.545706Z",
          "shell.execute_reply.started": "2023-04-05T14:14:55.545387Z",
          "shell.execute_reply": "2023-04-05T14:14:55.545420Z"
        },
        "trusted": true,
        "colab": {
          "base_uri": "https://localhost:8080/"
        },
        "id": "zii3W3YiFKQg",
        "outputId": "6dbc0118-386a-49f3-e17d-c3a5ab31971f"
      },
      "execution_count": 42,
      "outputs": [
        {
          "output_type": "stream",
          "name": "stdout",
          "text": [
            "              precision    recall  f1-score   support\n",
            "\n",
            "           0       0.86      0.86      0.86       869\n",
            "           1       0.81      0.81      0.81       654\n",
            "\n",
            "    accuracy                           0.84      1523\n",
            "   macro avg       0.83      0.83      0.83      1523\n",
            "weighted avg       0.84      0.84      0.84      1523\n",
            "\n",
            "D1 F1: 0.8091603053435114\n",
            "D1 Accuracy: 0.8358502954694682\n",
            "\n"
          ]
        }
      ]
    },
    {
      "cell_type": "code",
      "source": [
        "cm_d1 = confusion_matrix(predicts_d1.target, predicts_d1.predict)\n",
        "disp = ConfusionMatrixDisplay(confusion_matrix=cm_d1, display_labels=['not disaster', 'disaster'])\n",
        "disp.plot()\n",
        "plt.show()"
      ],
      "metadata": {
        "colab": {
          "base_uri": "https://localhost:8080/",
          "height": 449
        },
        "id": "sdVPl1rfFKQg",
        "outputId": "5cef4b26-e427-40aa-9626-6b8950df6f83"
      },
      "execution_count": 43,
      "outputs": [
        {
          "output_type": "display_data",
          "data": {
            "text/plain": [
              "<Figure size 640x480 with 2 Axes>"
            ],
            "image/png": "[encoded data removed]"
          },
          "metadata": {}
        }
      ]
    },
    {
      "cell_type": "code",
      "source": [
        "print(classification_report(predicts_d2.target, predicts_d2.predict))\n",
        "print(f\"D2 F1: {f1_score(predicts_d2.target, predicts_d2.predict, average='weighted')}\\n\"\n",
        "      f\"D2 Accuracy: {accuracy_score(predicts_d2.target, predicts_d2.predict)}\\n\")"
      ],
      "metadata": {
        "colab": {
          "base_uri": "https://localhost:8080/"
        },
        "id": "1Ngor95-doZW",
        "outputId": "6e77ef69-ddfd-4b25-ff67-8af9c49353b1"
      },
      "execution_count": 44,
      "outputs": [
        {
          "output_type": "stream",
          "name": "stdout",
          "text": [
            "              precision    recall  f1-score   support\n",
            "\n",
            "           0       0.75      0.73      0.74      2223\n",
            "           1       0.77      0.80      0.78      1556\n",
            "           2       0.83      0.83      0.83      1717\n",
            "\n",
            "    accuracy                           0.78      5496\n",
            "   macro avg       0.78      0.78      0.78      5496\n",
            "weighted avg       0.78      0.78      0.78      5496\n",
            "\n",
            "D2 F1: 0.7781284760442189\n",
            "D2 Accuracy: 0.7783842794759825\n",
            "\n"
          ]
        }
      ]
    },
    {
      "cell_type": "code",
      "source": [
        "cm_d2 = confusion_matrix(predicts_d2.target, predicts_d2.predict)\n",
        "disp = ConfusionMatrixDisplay(confusion_matrix=cm_d2, display_labels=['neutral', 'negative','positive'])\n",
        "disp.plot()\n",
        "plt.show()"
      ],
      "metadata": {
        "colab": {
          "base_uri": "https://localhost:8080/",
          "height": 450
        },
        "id": "wdfDXnO6Hxm-",
        "outputId": "e8f68e5c-fbbd-464b-a313-ba0b52567f1f"
      },
      "execution_count": 45,
      "outputs": [
        {
          "output_type": "display_data",
          "data": {
            "text/plain": [
              "<Figure size 640x480 with 2 Axes>"
            ],
            "image/png": "[encoded data removed]"
          },
          "metadata": {}
        }
      ]
    },
    {
      "cell_type": "markdown",
      "source": [
        "### Task 3.3 ###\n",
        "Estimate the sentiment labels for the tweets in D1"
      ],
      "metadata": {
        "id": "HwqpkPesHcgr"
      }
    },
    {
      "cell_type": "code",
      "source": [
        "# model_path = \"/content/drive/MyDrive/BT5151/group_project/roberta_d2_final.bin\" \n",
        "# model_d2 = torch.load(model_path, map_location=device)"
      ],
      "metadata": {
        "id": "iIjFHZs5QQ6l"
      },
      "execution_count": 46,
      "outputs": []
    },
    {
      "cell_type": "code",
      "source": [
        "# data_quality(d_val_data)"
      ],
      "metadata": {
        "id": "RwMokFd6RLO5"
      },
      "execution_count": 47,
      "outputs": []
    },
    {
      "cell_type": "code",
      "source": [
        "#d1_train_infer = SentimentData(d_train_data, tokenizer, MAX_LEN)\n",
        "# d1_val_infer = SentimentData(d_val_data, tokenizer, MAX_LEN)"
      ],
      "metadata": {
        "id": "72WmaMPtRMrk"
      },
      "execution_count": 48,
      "outputs": []
    },
    {
      "cell_type": "code",
      "source": [
        "# test_params = {'batch_size': VALID_BATCH_SIZE,\n",
        "#                 'shuffle': False,\n",
        "#                 'num_workers': 0\n",
        "#                 }\n",
        "# d1_train_inferloader = DataLoader(d1_train_infer, **test_params)\n",
        "# d1_val_inferloader = DataLoader(d1_val_infer, **test_params)"
      ],
      "metadata": {
        "id": "6t9nq_xDRmWJ"
      },
      "execution_count": 49,
      "outputs": []
    },
    {
      "cell_type": "code",
      "source": [
        "# loss_function = torch.nn.CrossEntropyLoss()\n",
        "# optimizer = torch.optim.Adam(params = model_d2.parameters(), lr = LEARNING_RATE)\n",
        "# predicts_d1_train_infer = valid(model_d2, d1_train_inferloader, mode=2)\n",
        "# predicts_d1_val_infer = valid(model_d2, d1_val_inferloader, mode=2)"
      ],
      "metadata": {
        "id": "OIdUb25lSBrl"
      },
      "execution_count": 50,
      "outputs": []
    },
    {
      "cell_type": "code",
      "source": [
        "# print(f\"D1 Train Sentiment:\\n{predicts_d1_train_infer['predict'].value_counts()}\\n\"\n",
        "# f\"D1 Val Sentiment:\\n{predicts_d1_val_infer['predict'].value_counts()}\")"
      ],
      "metadata": {
        "id": "BMdEWCsrSQzC"
      },
      "execution_count": 51,
      "outputs": []
    },
    {
      "cell_type": "code",
      "source": [
        "# predicts_d1_train_infer.drop(columns='target', inplace=True)\n",
        "# predicts_d1_val_infer.drop(columns='target', inplace=True)"
      ],
      "metadata": {
        "id": "B48tV4G5TNUN"
      },
      "execution_count": 52,
      "outputs": []
    },
    {
      "cell_type": "code",
      "source": [
        "# d1_train_augment = d_train_data.merge(predicts_d1_train_infer, left_index=True, right_index=True)\n",
        "# d1_train_augment.rename({'predict': 'sentiment'}, axis =1, inplace=True)\n",
        "# d1_val_augment = d_val_data.merge(predicts_d1_val_infer, left_index=True, right_index=True)\n",
        "# d1_val_augment.rename({'predict': 'sentiment'}, axis =1, inplace=True)"
      ],
      "metadata": {
        "id": "0ItNr_DATq8y"
      },
      "execution_count": 53,
      "outputs": []
    },
    {
      "cell_type": "code",
      "source": [
        "# print(f\"D1 Train Augmented: {d1_train_augment.shape}\\nD1 Val Augmented: {d1_val_augment.shape}\")"
      ],
      "metadata": {
        "id": "S3HymLXPUBo7"
      },
      "execution_count": 54,
      "outputs": []
    },
    {
      "cell_type": "code",
      "source": [
        "# d1_train_augment.head()"
      ],
      "metadata": {
        "id": "9ts3OwleUG65"
      },
      "execution_count": 55,
      "outputs": []
    },
    {
      "cell_type": "code",
      "source": [
        "# d1_val_augment.head()"
      ],
      "metadata": {
        "id": "TwMTNq-LuK9R"
      },
      "execution_count": 56,
      "outputs": []
    },
    {
      "cell_type": "code",
      "source": [
        "# d1_augment = pd.concat([d1_train_augment, d1_val_augment], ignore_index= True)"
      ],
      "metadata": {
        "id": "nCaw6gcRuSc-"
      },
      "execution_count": 57,
      "outputs": []
    },
    {
      "cell_type": "code",
      "source": [
        "# d1_augment.head()"
      ],
      "metadata": {
        "id": "0c99NkQMjHv1"
      },
      "execution_count": 58,
      "outputs": []
    },
    {
      "cell_type": "code",
      "source": [
        "# d1_augment['sentiment'].value_counts()"
      ],
      "metadata": {
        "id": "KmsJlWuki552"
      },
      "execution_count": 59,
      "outputs": []
    },
    {
      "cell_type": "code",
      "source": [
        "# data_quality(d1_augment)"
      ],
      "metadata": {
        "id": "B7pKSivIuZrd"
      },
      "execution_count": 60,
      "outputs": []
    },
    {
      "cell_type": "code",
      "source": [
        "# # Saving d1_augment for future use\n",
        "# d1_train_augment.to_csv(\"/content/drive/MyDrive/BT5151/group_project/d1_train_augment.csv\")\n",
        "# d1_val_augment.to_csv(\"/content/drive/MyDrive/BT5151/group_project/d1_val_augment.csv\")\n",
        "# d1_augment.to_csv(\"/content/drive/MyDrive/BT5151/group_project/d1_augment.csv\")"
      ],
      "metadata": {
        "id": "WBiE2UPrrpoZ"
      },
      "execution_count": 61,
      "outputs": []
    },
    {
      "cell_type": "markdown",
      "source": [
        "Analysis: "
      ],
      "metadata": {
        "id": "F23Rm72zhCJ4"
      }
    },
    {
      "cell_type": "markdown",
      "source": [
        "### Task 3.4 ###"
      ],
      "metadata": {
        "id": "O8OcrUFdZn02"
      }
    },
    {
      "cell_type": "code",
      "source": [
        "# Setting the sentiment \"target\" column back to \"sentiment\"\n",
        "s_train_concat = s_train_data.rename(columns={\"target\":\"sentiment\"}).copy()\n",
        "s_val_concat = s_val_data.rename(columns={\"target\":\"sentiment\"}).copy()"
      ],
      "metadata": {
        "id": "IqiutCAD2prC"
      },
      "execution_count": 62,
      "outputs": []
    },
    {
      "cell_type": "code",
      "source": [
        "s_train_concat.head()"
      ],
      "metadata": {
        "colab": {
          "base_uri": "https://localhost:8080/",
          "height": 206
        },
        "id": "cAcuz3IfgjIy",
        "outputId": "41bd8ee3-a869-4902-cde8-a4b18e305dca"
      },
      "execution_count": 63,
      "outputs": [
        {
          "output_type": "execute_result",
          "data": {
            "text/plain": [
              "                                                text  sentiment\n",
              "0             June gloom seems to have arrived early          0\n",
              "1  Sad that our neighbors just cut down ALL the t...          1\n",
              "2   OHH  yeah i sometimes forget  your in the oth...          0\n",
              "3  Join the biggest and bestest group on facebook...          2\n",
              "4       i lost one of my best friends iï¿½m sooo sad          1"
            ],
            "text/html": [
              "\n",
              "  <div id=\"df-3748ffec-93f2-4f7a-9380-28132190455d\">\n",
              "    <div class=\"colab-df-container\">\n",
              "      <div>\n",
              "<style scoped>\n",
              "    .dataframe tbody tr th:only-of-type {\n",
              "        vertical-align: middle;\n",
              "    }\n",
              "\n",
              "    .dataframe tbody tr th {\n",
              "        vertical-align: top;\n",
              "    }\n",
              "\n",
              "    .dataframe thead th {\n",
              "        text-align: right;\n",
              "    }\n",
              "</style>\n",
              "<table border=\"1\" class=\"dataframe\">\n",
              "  <thead>\n",
              "    <tr style=\"text-align: right;\">\n",
              "      <th></th>\n",
              "      <th>text</th>\n",
              "      <th>sentiment</th>\n",
              "    </tr>\n",
              "  </thead>\n",
              "  <tbody>\n",
              "    <tr>\n",
              "      <th>0</th>\n",
              "      <td>June gloom seems to have arrived early</td>\n",
              "      <td>0</td>\n",
              "    </tr>\n",
              "    <tr>\n",
              "      <th>1</th>\n",
              "      <td>Sad that our neighbors just cut down ALL the t...</td>\n",
              "      <td>1</td>\n",
              "    </tr>\n",
              "    <tr>\n",
              "      <th>2</th>\n",
              "      <td>OHH  yeah i sometimes forget  your in the oth...</td>\n",
              "      <td>0</td>\n",
              "    </tr>\n",
              "    <tr>\n",
              "      <th>3</th>\n",
              "      <td>Join the biggest and bestest group on facebook...</td>\n",
              "      <td>2</td>\n",
              "    </tr>\n",
              "    <tr>\n",
              "      <th>4</th>\n",
              "      <td>i lost one of my best friends iï¿½m sooo sad</td>\n",
              "      <td>1</td>\n",
              "    </tr>\n",
              "  </tbody>\n",
              "</table>\n",
              "</div>\n",
              "      <button class=\"colab-df-convert\" onclick=\"convertToInteractive('df-3748ffec-93f2-4f7a-9380-28132190455d')\"\n",
              "              title=\"Convert this dataframe to an interactive table.\"\n",
              "              style=\"display:none;\">\n",
              "        \n",
              "  <svg xmlns=\"http://www.w3.org/2000/svg\" height=\"24px\"viewBox=\"0 0 24 24\"\n",
              "       width=\"24px\">\n",
              "    <path d=\"M0 0h24v24H0V0z\" fill=\"none\"/>\n",
              "    <path d=\"M18.56 5.44l.94 2.06.94-2.06 2.06-.94-2.06-.94-.94-2.06-.94 2.06-2.06.94zm-11 1L8.5 8.5l.94-2.06 2.06-.94-2.06-.94L8.5 2.5l-.94 2.06-2.06.94zm10 10l.94 2.06.94-2.06 2.06-.94-2.06-.94-.94-2.06-.94 2.06-2.06.94z\"/><path d=\"M17.41 7.96l-1.37-1.37c-.4-.4-.92-.59-1.43-.59-.52 0-1.04.2-1.43.59L10.3 9.45l-7.72 7.72c-.78.78-.78 2.05 0 2.83L4 21.41c.39.39.9.59 1.41.59.51 0 1.02-.2 1.41-.59l7.78-7.78 2.81-2.81c.8-.78.8-2.07 0-2.86zM5.41 20L4 18.59l7.72-7.72 1.47 1.35L5.41 20z\"/>\n",
              "  </svg>\n",
              "      </button>\n",
              "      \n",
              "  <style>\n",
              "    .colab-df-container {\n",
              "      display:flex;\n",
              "      flex-wrap:wrap;\n",
              "      gap: 12px;\n",
              "    }\n",
              "\n",
              "    .colab-df-convert {\n",
              "      background-color: #E8F0FE;\n",
              "      border: none;\n",
              "      border-radius: 50%;\n",
              "      cursor: pointer;\n",
              "      display: none;\n",
              "      fill: #1967D2;\n",
              "      height: 32px;\n",
              "      padding: 0 0 0 0;\n",
              "      width: 32px;\n",
              "    }\n",
              "\n",
              "    .colab-df-convert:hover {\n",
              "      background-color: #E2EBFA;\n",
              "      box-shadow: 0px 1px 2px rgba(60, 64, 67, 0.3), 0px 1px 3px 1px rgba(60, 64, 67, 0.15);\n",
              "      fill: #174EA6;\n",
              "    }\n",
              "\n",
              "    [theme=dark] .colab-df-convert {\n",
              "      background-color: #3B4455;\n",
              "      fill: #D2E3FC;\n",
              "    }\n",
              "\n",
              "    [theme=dark] .colab-df-convert:hover {\n",
              "      background-color: #434B5C;\n",
              "      box-shadow: 0px 1px 3px 1px rgba(0, 0, 0, 0.15);\n",
              "      filter: drop-shadow(0px 1px 2px rgba(0, 0, 0, 0.3));\n",
              "      fill: #FFFFFF;\n",
              "    }\n",
              "  </style>\n",
              "\n",
              "      <script>\n",
              "        const buttonEl =\n",
              "          document.querySelector('#df-3748ffec-93f2-4f7a-9380-28132190455d button.colab-df-convert');\n",
              "        buttonEl.style.display =\n",
              "          google.colab.kernel.accessAllowed ? 'block' : 'none';\n",
              "\n",
              "        async function convertToInteractive(key) {\n",
              "          const element = document.querySelector('#df-3748ffec-93f2-4f7a-9380-28132190455d');\n",
              "          const dataTable =\n",
              "            await google.colab.kernel.invokeFunction('convertToInteractive',\n",
              "                                                     [key], {});\n",
              "          if (!dataTable) return;\n",
              "\n",
              "          const docLinkHtml = 'Like what you see? Visit the ' +\n",
              "            '<a target=\"_blank\" href=https://colab.research.google.com/notebooks/data_table.ipynb>data table notebook</a>'\n",
              "            + ' to learn more about interactive tables.';\n",
              "          element.innerHTML = '';\n",
              "          dataTable['output_type'] = 'display_data';\n",
              "          await google.colab.output.renderOutput(dataTable, element);\n",
              "          const docLink = document.createElement('div');\n",
              "          docLink.innerHTML = docLinkHtml;\n",
              "          element.appendChild(docLink);\n",
              "        }\n",
              "      </script>\n",
              "    </div>\n",
              "  </div>\n",
              "  "
            ]
          },
          "metadata": {},
          "execution_count": 63
        }
      ]
    },
    {
      "cell_type": "code",
      "source": [
        "# Concatenating the datasets to creat D_12\n",
        "sd_train_data = pd.concat([d_train_data, s_train_concat], ignore_index=True)\n",
        "sd_val_data = pd.concat([d_val_data, s_val_concat], ignore_index=True)"
      ],
      "metadata": {
        "id": "ieA5CDdSZts3"
      },
      "execution_count": 64,
      "outputs": []
    },
    {
      "cell_type": "code",
      "source": [
        "sd_train_data.head()"
      ],
      "metadata": {
        "colab": {
          "base_uri": "https://localhost:8080/",
          "height": 206
        },
        "id": "H2X1gehJgdDs",
        "outputId": "27d84da4-e7c3-4702-c830-8809fbe40d98"
      },
      "execution_count": 65,
      "outputs": [
        {
          "output_type": "execute_result",
          "data": {
            "text/plain": [
              "                                                text  target  sentiment\n",
              "0  Ancient Mayan Tablet found via http://t.co/LmU...     0.0        NaN\n",
              "1  Incredulous at continued outcry of welfare bei...     1.0        NaN\n",
              "2  Hi yall this poem is called is the one about t...     0.0        NaN\n",
              "3  The Police Chief assured the crowd that this o...     1.0        NaN\n",
              "4  Learning from the Legacy of a Catastrophic Eru...     1.0        NaN"
            ],
            "text/html": [
              "\n",
              "  <div id=\"df-d9fd48df-1404-401a-ab03-f569a297c957\">\n",
              "    <div class=\"colab-df-container\">\n",
              "      <div>\n",
              "<style scoped>\n",
              "    .dataframe tbody tr th:only-of-type {\n",
              "        vertical-align: middle;\n",
              "    }\n",
              "\n",
              "    .dataframe tbody tr th {\n",
              "        vertical-align: top;\n",
              "    }\n",
              "\n",
              "    .dataframe thead th {\n",
              "        text-align: right;\n",
              "    }\n",
              "</style>\n",
              "<table border=\"1\" class=\"dataframe\">\n",
              "  <thead>\n",
              "    <tr style=\"text-align: right;\">\n",
              "      <th></th>\n",
              "      <th>text</th>\n",
              "      <th>target</th>\n",
              "      <th>sentiment</th>\n",
              "    </tr>\n",
              "  </thead>\n",
              "  <tbody>\n",
              "    <tr>\n",
              "      <th>0</th>\n",
              "      <td>Ancient Mayan Tablet found via http://t.co/LmU...</td>\n",
              "      <td>0.0</td>\n",
              "      <td>NaN</td>\n",
              "    </tr>\n",
              "    <tr>\n",
              "      <th>1</th>\n",
              "      <td>Incredulous at continued outcry of welfare bei...</td>\n",
              "      <td>1.0</td>\n",
              "      <td>NaN</td>\n",
              "    </tr>\n",
              "    <tr>\n",
              "      <th>2</th>\n",
              "      <td>Hi yall this poem is called is the one about t...</td>\n",
              "      <td>0.0</td>\n",
              "      <td>NaN</td>\n",
              "    </tr>\n",
              "    <tr>\n",
              "      <th>3</th>\n",
              "      <td>The Police Chief assured the crowd that this o...</td>\n",
              "      <td>1.0</td>\n",
              "      <td>NaN</td>\n",
              "    </tr>\n",
              "    <tr>\n",
              "      <th>4</th>\n",
              "      <td>Learning from the Legacy of a Catastrophic Eru...</td>\n",
              "      <td>1.0</td>\n",
              "      <td>NaN</td>\n",
              "    </tr>\n",
              "  </tbody>\n",
              "</table>\n",
              "</div>\n",
              "      <button class=\"colab-df-convert\" onclick=\"convertToInteractive('df-d9fd48df-1404-401a-ab03-f569a297c957')\"\n",
              "              title=\"Convert this dataframe to an interactive table.\"\n",
              "              style=\"display:none;\">\n",
              "        \n",
              "  <svg xmlns=\"http://www.w3.org/2000/svg\" height=\"24px\"viewBox=\"0 0 24 24\"\n",
              "       width=\"24px\">\n",
              "    <path d=\"M0 0h24v24H0V0z\" fill=\"none\"/>\n",
              "    <path d=\"M18.56 5.44l.94 2.06.94-2.06 2.06-.94-2.06-.94-.94-2.06-.94 2.06-2.06.94zm-11 1L8.5 8.5l.94-2.06 2.06-.94-2.06-.94L8.5 2.5l-.94 2.06-2.06.94zm10 10l.94 2.06.94-2.06 2.06-.94-2.06-.94-.94-2.06-.94 2.06-2.06.94z\"/><path d=\"M17.41 7.96l-1.37-1.37c-.4-.4-.92-.59-1.43-.59-.52 0-1.04.2-1.43.59L10.3 9.45l-7.72 7.72c-.78.78-.78 2.05 0 2.83L4 21.41c.39.39.9.59 1.41.59.51 0 1.02-.2 1.41-.59l7.78-7.78 2.81-2.81c.8-.78.8-2.07 0-2.86zM5.41 20L4 18.59l7.72-7.72 1.47 1.35L5.41 20z\"/>\n",
              "  </svg>\n",
              "      </button>\n",
              "      \n",
              "  <style>\n",
              "    .colab-df-container {\n",
              "      display:flex;\n",
              "      flex-wrap:wrap;\n",
              "      gap: 12px;\n",
              "    }\n",
              "\n",
              "    .colab-df-convert {\n",
              "      background-color: #E8F0FE;\n",
              "      border: none;\n",
              "      border-radius: 50%;\n",
              "      cursor: pointer;\n",
              "      display: none;\n",
              "      fill: #1967D2;\n",
              "      height: 32px;\n",
              "      padding: 0 0 0 0;\n",
              "      width: 32px;\n",
              "    }\n",
              "\n",
              "    .colab-df-convert:hover {\n",
              "      background-color: #E2EBFA;\n",
              "      box-shadow: 0px 1px 2px rgba(60, 64, 67, 0.3), 0px 1px 3px 1px rgba(60, 64, 67, 0.15);\n",
              "      fill: #174EA6;\n",
              "    }\n",
              "\n",
              "    [theme=dark] .colab-df-convert {\n",
              "      background-color: #3B4455;\n",
              "      fill: #D2E3FC;\n",
              "    }\n",
              "\n",
              "    [theme=dark] .colab-df-convert:hover {\n",
              "      background-color: #434B5C;\n",
              "      box-shadow: 0px 1px 3px 1px rgba(0, 0, 0, 0.15);\n",
              "      filter: drop-shadow(0px 1px 2px rgba(0, 0, 0, 0.3));\n",
              "      fill: #FFFFFF;\n",
              "    }\n",
              "  </style>\n",
              "\n",
              "      <script>\n",
              "        const buttonEl =\n",
              "          document.querySelector('#df-d9fd48df-1404-401a-ab03-f569a297c957 button.colab-df-convert');\n",
              "        buttonEl.style.display =\n",
              "          google.colab.kernel.accessAllowed ? 'block' : 'none';\n",
              "\n",
              "        async function convertToInteractive(key) {\n",
              "          const element = document.querySelector('#df-d9fd48df-1404-401a-ab03-f569a297c957');\n",
              "          const dataTable =\n",
              "            await google.colab.kernel.invokeFunction('convertToInteractive',\n",
              "                                                     [key], {});\n",
              "          if (!dataTable) return;\n",
              "\n",
              "          const docLinkHtml = 'Like what you see? Visit the ' +\n",
              "            '<a target=\"_blank\" href=https://colab.research.google.com/notebooks/data_table.ipynb>data table notebook</a>'\n",
              "            + ' to learn more about interactive tables.';\n",
              "          element.innerHTML = '';\n",
              "          dataTable['output_type'] = 'display_data';\n",
              "          await google.colab.output.renderOutput(dataTable, element);\n",
              "          const docLink = document.createElement('div');\n",
              "          docLink.innerHTML = docLinkHtml;\n",
              "          element.appendChild(docLink);\n",
              "        }\n",
              "      </script>\n",
              "    </div>\n",
              "  </div>\n",
              "  "
            ]
          },
          "metadata": {},
          "execution_count": 65
        }
      ]
    },
    {
      "cell_type": "code",
      "source": [
        "# Checking quality\n",
        "data_quality(sd_train_data)"
      ],
      "metadata": {
        "colab": {
          "base_uri": "https://localhost:8080/",
          "height": 143
        },
        "id": "aWWMoEMR3VEH",
        "outputId": "26937572-7701-4545-959f-e3deb29f53d5"
      },
      "execution_count": 66,
      "outputs": [
        {
          "output_type": "execute_result",
          "data": {
            "text/plain": [
              "           Present Values  Missing Values  Unique Values\n",
              "text                28074               0          27996\n",
              "target               6090           21984              2\n",
              "sentiment           21984            6090              3"
            ],
            "text/html": [
              "\n",
              "  <div id=\"df-39d68197-c0f1-4b47-9377-bc093b581731\">\n",
              "    <div class=\"colab-df-container\">\n",
              "      <div>\n",
              "<style scoped>\n",
              "    .dataframe tbody tr th:only-of-type {\n",
              "        vertical-align: middle;\n",
              "    }\n",
              "\n",
              "    .dataframe tbody tr th {\n",
              "        vertical-align: top;\n",
              "    }\n",
              "\n",
              "    .dataframe thead th {\n",
              "        text-align: right;\n",
              "    }\n",
              "</style>\n",
              "<table border=\"1\" class=\"dataframe\">\n",
              "  <thead>\n",
              "    <tr style=\"text-align: right;\">\n",
              "      <th></th>\n",
              "      <th>Present Values</th>\n",
              "      <th>Missing Values</th>\n",
              "      <th>Unique Values</th>\n",
              "    </tr>\n",
              "  </thead>\n",
              "  <tbody>\n",
              "    <tr>\n",
              "      <th>text</th>\n",
              "      <td>28074</td>\n",
              "      <td>0</td>\n",
              "      <td>27996</td>\n",
              "    </tr>\n",
              "    <tr>\n",
              "      <th>target</th>\n",
              "      <td>6090</td>\n",
              "      <td>21984</td>\n",
              "      <td>2</td>\n",
              "    </tr>\n",
              "    <tr>\n",
              "      <th>sentiment</th>\n",
              "      <td>21984</td>\n",
              "      <td>6090</td>\n",
              "      <td>3</td>\n",
              "    </tr>\n",
              "  </tbody>\n",
              "</table>\n",
              "</div>\n",
              "      <button class=\"colab-df-convert\" onclick=\"convertToInteractive('df-39d68197-c0f1-4b47-9377-bc093b581731')\"\n",
              "              title=\"Convert this dataframe to an interactive table.\"\n",
              "              style=\"display:none;\">\n",
              "        \n",
              "  <svg xmlns=\"http://www.w3.org/2000/svg\" height=\"24px\"viewBox=\"0 0 24 24\"\n",
              "       width=\"24px\">\n",
              "    <path d=\"M0 0h24v24H0V0z\" fill=\"none\"/>\n",
              "    <path d=\"M18.56 5.44l.94 2.06.94-2.06 2.06-.94-2.06-.94-.94-2.06-.94 2.06-2.06.94zm-11 1L8.5 8.5l.94-2.06 2.06-.94-2.06-.94L8.5 2.5l-.94 2.06-2.06.94zm10 10l.94 2.06.94-2.06 2.06-.94-2.06-.94-.94-2.06-.94 2.06-2.06.94z\"/><path d=\"M17.41 7.96l-1.37-1.37c-.4-.4-.92-.59-1.43-.59-.52 0-1.04.2-1.43.59L10.3 9.45l-7.72 7.72c-.78.78-.78 2.05 0 2.83L4 21.41c.39.39.9.59 1.41.59.51 0 1.02-.2 1.41-.59l7.78-7.78 2.81-2.81c.8-.78.8-2.07 0-2.86zM5.41 20L4 18.59l7.72-7.72 1.47 1.35L5.41 20z\"/>\n",
              "  </svg>\n",
              "      </button>\n",
              "      \n",
              "  <style>\n",
              "    .colab-df-container {\n",
              "      display:flex;\n",
              "      flex-wrap:wrap;\n",
              "      gap: 12px;\n",
              "    }\n",
              "\n",
              "    .colab-df-convert {\n",
              "      background-color: #E8F0FE;\n",
              "      border: none;\n",
              "      border-radius: 50%;\n",
              "      cursor: pointer;\n",
              "      display: none;\n",
              "      fill: #1967D2;\n",
              "      height: 32px;\n",
              "      padding: 0 0 0 0;\n",
              "      width: 32px;\n",
              "    }\n",
              "\n",
              "    .colab-df-convert:hover {\n",
              "      background-color: #E2EBFA;\n",
              "      box-shadow: 0px 1px 2px rgba(60, 64, 67, 0.3), 0px 1px 3px 1px rgba(60, 64, 67, 0.15);\n",
              "      fill: #174EA6;\n",
              "    }\n",
              "\n",
              "    [theme=dark] .colab-df-convert {\n",
              "      background-color: #3B4455;\n",
              "      fill: #D2E3FC;\n",
              "    }\n",
              "\n",
              "    [theme=dark] .colab-df-convert:hover {\n",
              "      background-color: #434B5C;\n",
              "      box-shadow: 0px 1px 3px 1px rgba(0, 0, 0, 0.15);\n",
              "      filter: drop-shadow(0px 1px 2px rgba(0, 0, 0, 0.3));\n",
              "      fill: #FFFFFF;\n",
              "    }\n",
              "  </style>\n",
              "\n",
              "      <script>\n",
              "        const buttonEl =\n",
              "          document.querySelector('#df-39d68197-c0f1-4b47-9377-bc093b581731 button.colab-df-convert');\n",
              "        buttonEl.style.display =\n",
              "          google.colab.kernel.accessAllowed ? 'block' : 'none';\n",
              "\n",
              "        async function convertToInteractive(key) {\n",
              "          const element = document.querySelector('#df-39d68197-c0f1-4b47-9377-bc093b581731');\n",
              "          const dataTable =\n",
              "            await google.colab.kernel.invokeFunction('convertToInteractive',\n",
              "                                                     [key], {});\n",
              "          if (!dataTable) return;\n",
              "\n",
              "          const docLinkHtml = 'Like what you see? Visit the ' +\n",
              "            '<a target=\"_blank\" href=https://colab.research.google.com/notebooks/data_table.ipynb>data table notebook</a>'\n",
              "            + ' to learn more about interactive tables.';\n",
              "          element.innerHTML = '';\n",
              "          dataTable['output_type'] = 'display_data';\n",
              "          await google.colab.output.renderOutput(dataTable, element);\n",
              "          const docLink = document.createElement('div');\n",
              "          docLink.innerHTML = docLinkHtml;\n",
              "          element.appendChild(docLink);\n",
              "        }\n",
              "      </script>\n",
              "    </div>\n",
              "  </div>\n",
              "  "
            ]
          },
          "metadata": {},
          "execution_count": 66
        }
      ]
    },
    {
      "cell_type": "code",
      "source": [
        "sd_train_data.shape"
      ],
      "metadata": {
        "colab": {
          "base_uri": "https://localhost:8080/"
        },
        "id": "mPnm2MbdbTom",
        "outputId": "0748ac5d-c64e-41f3-f980-aebad871d145"
      },
      "execution_count": 67,
      "outputs": [
        {
          "output_type": "execute_result",
          "data": {
            "text/plain": [
              "(28074, 3)"
            ]
          },
          "metadata": {},
          "execution_count": 67
        }
      ]
    },
    {
      "cell_type": "code",
      "source": [
        "sd_train_data.columns"
      ],
      "metadata": {
        "colab": {
          "base_uri": "https://localhost:8080/"
        },
        "id": "2do18jeS6b87",
        "outputId": "7662b532-277d-4e37-b12d-e70b53261757"
      },
      "execution_count": 68,
      "outputs": [
        {
          "output_type": "execute_result",
          "data": {
            "text/plain": [
              "Index(['text', 'target', 'sentiment'], dtype='object')"
            ]
          },
          "metadata": {},
          "execution_count": 68
        }
      ]
    },
    {
      "cell_type": "code",
      "source": [
        "# Custom Dataset class for D_12\n",
        "class DataCombined(Dataset):\n",
        "    def __init__(self, dataframe, tokenizer, max_len):\n",
        "        self.tokenizer = tokenizer\n",
        "        self.data = dataframe\n",
        "        self.text = dataframe.text\n",
        "        self.target = self.data.target\n",
        "        self.sentiment = self.data.sentiment\n",
        "        self.max_len = max_len\n",
        "\n",
        "    def __len__(self):\n",
        "        return len(self.text)\n",
        "\n",
        "    def __getitem__(self, index):\n",
        "        text = str(self.text[index])\n",
        "        text = \" \".join(text.split())\n",
        "\n",
        "        inputs = self.tokenizer.encode_plus(\n",
        "            text,\n",
        "            None,\n",
        "            add_special_tokens=True,\n",
        "            max_length=self.max_len,\n",
        "            truncation=True,\n",
        "            padding = 'max_length',\n",
        "            return_token_type_ids=True\n",
        "        )\n",
        "        ids = inputs['input_ids']\n",
        "        mask = inputs['attention_mask']\n",
        "        token_type_ids = inputs[\"token_type_ids\"]\n",
        "\n",
        "\n",
        "        return {\n",
        "            'ids': torch.tensor(ids, dtype=torch.long),\n",
        "            'mask': torch.tensor(mask, dtype=torch.long),\n",
        "            'token_type_ids': torch.tensor(token_type_ids, dtype=torch.long),\n",
        "            'labels': (self.target[index], self.sentiment[index]) #output labels in a tuple for indexing later during training loop\n",
        "        }"
      ],
      "metadata": {
        "id": "RdoBaCmF6SRW"
      },
      "execution_count": 69,
      "outputs": []
    },
    {
      "cell_type": "markdown",
      "source": [
        "### Task 3.5 ###\n",
        " Model Training pipeline"
      ],
      "metadata": {
        "id": "CfYKDTSOT6RU"
      }
    },
    {
      "cell_type": "code",
      "source": [
        "# Hyperparameters for training\n",
        "MAX_LEN = 512\n",
        "TRAIN_BATCH_SIZE = 32\n",
        "VALID_BATCH_SIZE = 32\n",
        "LEARNING_RATE = 1e-05\n",
        "\n",
        "train_params = {'batch_size': TRAIN_BATCH_SIZE,\n",
        "                'shuffle': True,\n",
        "                'num_workers': 0\n",
        "                }\n",
        "\n",
        "test_params = {'batch_size': VALID_BATCH_SIZE,\n",
        "                'shuffle': False,\n",
        "                'num_workers': 0\n",
        "                }\n",
        "\n",
        "# Creating the datasets\n",
        "sd_train_dataset = DataCombined(sd_train_data, tokenizer=tokenizer, max_len=MAX_LEN)\n",
        "sd_val_dataset = DataCombined(sd_val_data, tokenizer=tokenizer, max_len=MAX_LEN)\n",
        "# Loading the datasets in the dataloaders\n",
        "sd_train_loader = DataLoader(sd_train_dataset, **train_params)\n",
        "sd_val_loader = DataLoader(sd_val_dataset, **test_params)"
      ],
      "metadata": {
        "id": "ldlCN7hw6CCx"
      },
      "execution_count": 70,
      "outputs": []
    },
    {
      "cell_type": "markdown",
      "source": [
        "**Preserving the AHA moment XD**"
      ],
      "metadata": {
        "id": "TjOvQigFVy56"
      }
    },
    {
      "cell_type": "code",
      "source": [
        "#sd_sample = next(iter(sd_train_loader))"
      ],
      "metadata": {
        "id": "WQ1SMdJ8qmy6"
      },
      "execution_count": 71,
      "outputs": []
    },
    {
      "cell_type": "code",
      "source": [
        "#sd_sample['ids'][sd_sample['labels'][1]==0]"
      ],
      "metadata": {
        "id": "zlVKPVlO4Jk-"
      },
      "execution_count": 72,
      "outputs": []
    },
    {
      "cell_type": "code",
      "source": [
        "#sd_sample['ids'].size()\n",
        "#sd_sample['ids'][~np.isnan(sd_sample['labels'][0].numpy()) == True]"
      ],
      "metadata": {
        "id": "u8YOSHNzvNx6"
      },
      "execution_count": 73,
      "outputs": []
    },
    {
      "cell_type": "code",
      "source": [
        "#sd_sample[\"labels\"][0][~np.isnan(sd_sample['labels'][0].numpy()) == True].long()"
      ],
      "metadata": {
        "id": "7-iNQZfE0EfH"
      },
      "execution_count": 74,
      "outputs": []
    },
    {
      "cell_type": "code",
      "source": [
        "#sd_sample[\"labels\"][1][~np.isnan(sd_sample['labels'][1].numpy()) == True].long()"
      ],
      "metadata": {
        "id": "W78Cj3jwwfI9"
      },
      "execution_count": 75,
      "outputs": []
    },
    {
      "cell_type": "code",
      "source": [
        "# idx1 = ~np.isnan(sd_sample['labels'][0].numpy())\n",
        "# idx2 = ~np.isnan(sd_sample['labels'][1].numpy())"
      ],
      "metadata": {
        "id": "R7ZhwOa7qpmE"
      },
      "execution_count": 76,
      "outputs": []
    },
    {
      "cell_type": "code",
      "source": [
        "# idx1"
      ],
      "metadata": {
        "id": "q-OM4R5puC_X"
      },
      "execution_count": 77,
      "outputs": []
    },
    {
      "cell_type": "code",
      "source": [
        "# idx2"
      ],
      "metadata": {
        "id": "Sf5saNbgt3ci"
      },
      "execution_count": 78,
      "outputs": []
    },
    {
      "cell_type": "code",
      "source": [
        "# Now we know what to do, let's do the functions!\n",
        "\n",
        "def null_tensor(tensor):\n",
        "    if torch.isnan(tensor) == True:\n",
        "        return torch.tensor(0)\n",
        "    else:\n",
        "        return tensor\n",
        "\n",
        "def calcuate_accuracy(preds, targets):\n",
        "    n_correct = (preds==targets).sum().item()\n",
        "    return n_correct\n",
        "\n",
        "def train_hydra(model, epoch, training_loader, testing_loader, lambda1, lambda2):\n",
        "    d1_tr_loss = 0\n",
        "    d1_n_correct = 0\n",
        "    d1_nb_tr_steps = 0\n",
        "    d1_nb_tr_examples = 0\n",
        "    d2_tr_loss = 0\n",
        "    d2_n_correct = 0\n",
        "    d2_nb_tr_steps = 0\n",
        "    d2_nb_tr_examples = 0\n",
        "    total_tr_loss = 0\n",
        "    \n",
        "    d1_val_loss = 0\n",
        "    d1_val_n_correct = 0\n",
        "    d1_nb_val_steps = 0\n",
        "    d1_nb_val_examples = 0\n",
        "    \n",
        "    d2_val_loss = 0\n",
        "    d2_val_n_correct = 0\n",
        "    d2_nb_val_steps = 0\n",
        "    d2_nb_val_examples = 0\n",
        "    total_val_loss = 0\n",
        "\n",
        "    model.train()\n",
        "    for loop, data in enumerate(tqdm(training_loader, 0)):\n",
        "        d1_ids = data['ids'][~np.isnan(data['labels'][0].numpy()) == True].to(device, dtype = torch.long)\n",
        "        d1_mask = data['mask'][~np.isnan(data['labels'][0].numpy()) == True].to(device, dtype = torch.long)\n",
        "        d1_token_type_ids = data['token_type_ids'][~np.isnan(data['labels'][0].numpy()) == True].to(device, dtype = torch.long)\n",
        "        d1_targets = data['labels'][0][~np.isnan(data['labels'][0].numpy()) == True].long().to(device, dtype = torch.long)\n",
        "\n",
        "        d2_ids = data['ids'][~np.isnan(data['labels'][1].numpy()) == True].to(device, dtype = torch.long)\n",
        "        d2_mask = data['mask'][~np.isnan(data['labels'][1].numpy()) == True].to(device, dtype = torch.long)\n",
        "        d2_token_type_ids = data['token_type_ids'][~np.isnan(data['labels'][1].numpy()) == True].to(device, dtype = torch.long)\n",
        "        d2_sentiment = data['labels'][1][~np.isnan(data['labels'][1].numpy()) == True].long().to(device, dtype = torch.long)\n",
        "\n",
        "\n",
        "        output1, _ = model(d1_ids, d1_mask, d1_token_type_ids)\n",
        "        _, output2 = model(d2_ids, d2_mask, d2_token_type_ids)\n",
        "\n",
        "        loss1 = loss_function(output1, d1_targets)\n",
        "        loss1 = null_tensor(loss1)\n",
        "        d1_tr_loss += check_null(lambda1*loss1.item())\n",
        "\n",
        "        loss2 = loss_function(output2, d2_sentiment)\n",
        "        loss2 = null_tensor(loss2)\n",
        "        d2_tr_loss += check_null(lambda2*loss2.item())\n",
        "\n",
        "        total_loss = (lambda1*loss1) + (lambda2*loss2)\n",
        "        total_tr_loss += total_loss.item()\n",
        "        \n",
        "\n",
        "        big_val_d1, big_idx_d1 = torch.max(output1.data, dim=1)\n",
        "        d1_n_correct += calcuate_accuracy(big_idx_d1, d1_targets)\n",
        "\n",
        "        big_val_d2, big_idx_d2 = torch.max(output2.data, dim=1)\n",
        "        d2_n_correct += calcuate_accuracy(big_idx_d2, d2_sentiment)\n",
        "\n",
        "        d1_nb_tr_steps += 1\n",
        "        d1_nb_tr_examples += d1_targets.size(0)\n",
        "\n",
        "        d2_nb_tr_steps += 1\n",
        "        d2_nb_tr_examples += d2_sentiment.size(0)\n",
        "        \n",
        "\n",
        "        d1_loss_step = d1_tr_loss/d1_nb_tr_steps\n",
        "        d1_accu_step = (d1_n_correct*100)/d1_nb_tr_examples\n",
        "\n",
        "\n",
        "        d2_loss_step = d2_tr_loss/d2_nb_tr_steps\n",
        "        d2_accu_step = (d2_n_correct*100)/d2_nb_tr_examples\n",
        "\n",
        "        tr_loss_step = d1_loss_step + d2_loss_step\n",
        "        \n",
        "        optimizer.zero_grad()\n",
        "        total_loss.backward()\n",
        "        # # When using GPU\n",
        "        optimizer.step()\n",
        "\n",
        "        train_metrics = {\"d1_train_loss\": d1_loss_step,\n",
        "            \"d1_train_accuracy\": d1_accu_step,\n",
        "            \"d2_train_loss\": d2_loss_step,\n",
        "            \"d2_train_accuracy\": d2_accu_step,\n",
        "            \"total_train_loss\": tr_loss_step}\n",
        "        \n",
        "        wandb.log({**train_metrics})\n",
        "\n",
        "    model.eval()\n",
        "    with torch.no_grad():\n",
        "        for _, data in enumerate(tqdm(testing_loader, 0)):\n",
        "            d1_ids_val = data['ids'][~np.isnan(data['labels'][0].numpy()) == True].to(device, dtype = torch.long)\n",
        "            d1_mask_val = data['mask'][~np.isnan(data['labels'][0].numpy()) == True].to(device, dtype = torch.long)\n",
        "            d1_token_type_ids_val = data['token_type_ids'][~np.isnan(data['labels'][0].numpy()) == True].to(device, dtype = torch.long)\n",
        "            d1_targets_val = data['labels'][0][~np.isnan(data['labels'][0].numpy()) == True].long().to(device, dtype = torch.long)\n",
        "\n",
        "            d2_ids_val = data['ids'][~np.isnan(data['labels'][1].numpy()) == True].to(device, dtype = torch.long)\n",
        "            d2_mask_val = data['mask'][~np.isnan(data['labels'][1].numpy()) == True].to(device, dtype = torch.long)\n",
        "            d2_token_type_ids_val = data['token_type_ids'][~np.isnan(data['labels'][1].numpy()) == True].to(device, dtype = torch.long)\n",
        "            d2_sentiment_val = data['labels'][1][~np.isnan(data['labels'][1].numpy()) == True].long().to(device, dtype = torch.long)\n",
        "\n",
        "            output1_val, _ = model(d1_ids_val, d1_mask_val, d1_token_type_ids_val)\n",
        "            _, output2_val = model(d2_ids_val, d2_mask_val, d2_token_type_ids_val)\n",
        "\n",
        "            loss1_val = loss_function(output1_val, d1_targets_val)\n",
        "            loss1_val = null_tensor(loss1_val)\n",
        "            d1_val_loss += check_null(lambda1*loss1_val.item())\n",
        "\n",
        "            loss2_val = loss_function(output2_val, d2_sentiment_val)\n",
        "            loss2_val = null_tensor(loss2_val)\n",
        "            d2_val_loss += check_null(lambda2*loss2_val.item())\n",
        "            \n",
        "            total_loss_val = (lambda1*loss1_val) + (lambda2*loss2_val)\n",
        "            total_val_loss += total_loss_val.item()\n",
        "            \n",
        "            big_val_d1, big_idx_d1_val = torch.max(output1_val.data, dim=1)\n",
        "            d1_val_n_correct += calcuate_accuracy(big_idx_d1_val, d1_targets_val)\n",
        "\n",
        "            big_val_d2, big_idx_d2_val = torch.max(output2_val.data, dim=1)\n",
        "            d2_val_n_correct += calcuate_accuracy(big_idx_d2_val, d2_sentiment_val)\n",
        "\n",
        "            d1_nb_val_steps += 1\n",
        "            d1_nb_val_examples += d1_targets_val.size(0)\n",
        "\n",
        "            d2_nb_val_steps += 1\n",
        "            d2_nb_val_examples += d2_sentiment_val.size(0)\n",
        "            \n",
        "            try:\n",
        "                d1_loss_step_val = d1_val_loss/d1_nb_val_steps\n",
        "            except ZeroDivisionError:\n",
        "                d1_loss_step_val = 0\n",
        "            try:\n",
        "                d1_accu_step_val = (d1_val_n_correct*100)/d1_nb_val_examples\n",
        "            except ZeroDivisionError:\n",
        "                d1_accu_step_val = 0\n",
        "\n",
        "\n",
        "            try:\n",
        "                d2_loss_step_val = d2_val_loss/d2_nb_val_steps\n",
        "            except ZeroDivisionError:\n",
        "                d2_loss_step_val = 0\n",
        "            \n",
        "            try:\n",
        "                d2_accu_step_val = (d2_val_n_correct*100)/d2_nb_val_examples\n",
        "            except ZeroDivisionError:\n",
        "                d2_accu_step_val = 0\n",
        "\n",
        "            tr_loss_step_val = d1_loss_step_val + d2_loss_step_val\n",
        "\n",
        "            test_metrics = {\"d1_test_loss\": d1_loss_step_val,\n",
        "            \"d1_test_accuracy\": d1_accu_step_val,\n",
        "            \"d2_test_loss\": d2_loss_step_val,\n",
        "            \"d2_test_accuracy\": d2_accu_step_val,\n",
        "            \"total_test_loss\": tr_loss_step_val}\n",
        "            \n",
        "    wandb.log({**test_metrics})\n",
        "    # print(f\"D1 Training Loss per 500 steps: {d1_loss_step}\")\n",
        "    # print(f\"D1 Training Accuracy per 500 steps: {d1_accu_step}\\n\")\n",
        "\n",
        "    # print(f\"D2 Training Loss per 500 steps: {d2_loss_step}\")\n",
        "    # print(f\"D2 Training Accuracy per 500 steps: {d2_accu_step}\\n\")\n",
        "\n",
        "    # print(f\"Total Training Loss per 500 steps: {tr_loss_step}\\n\")\n",
        "\n",
        "    print(f'Total D1 Accuracy for Epoch {epoch}: {(d1_n_correct*100)/d1_nb_tr_examples}')\n",
        "    print(f'Total D2 Accuracy for Epoch {epoch}: {(d2_n_correct*100)/d2_nb_tr_examples}')\n",
        "    \n",
        "    return\n",
        "\n",
        "def valid_hydra(model, testing_loader):\n",
        "    model.eval()\n",
        "    d1_predicts = []\n",
        "    d2_predicts = []\n",
        "\n",
        "    with torch.no_grad():\n",
        "        for _, data in enumerate(tqdm(testing_loader, 0)):\n",
        "            d1_ids = data['ids'][~np.isnan(data['labels'][0].numpy()) == True].to(device, dtype = torch.long)\n",
        "            d1_mask = data['mask'][~np.isnan(data['labels'][0].numpy()) == True].to(device, dtype = torch.long)\n",
        "            d1_token_type_ids = data['token_type_ids'][~np.isnan(data['labels'][0].numpy()) == True].to(device, dtype = torch.long)\n",
        "            d1_targets = data['labels'][0][~np.isnan(data['labels'][0].numpy()) == True].long().to(device, dtype = torch.long)\n",
        "\n",
        "            d2_ids = data['ids'][~np.isnan(data['labels'][1].numpy()) == True].to(device, dtype = torch.long)\n",
        "            d2_mask = data['mask'][~np.isnan(data['labels'][1].numpy()) == True].to(device, dtype = torch.long)\n",
        "            d2_token_type_ids = data['token_type_ids'][~np.isnan(data['labels'][1].numpy()) == True].to(device, dtype = torch.long)\n",
        "            d2_sentiment = data['labels'][1][~np.isnan(data['labels'][1].numpy()) == True].long().to(device, dtype = torch.long)\n",
        "\n",
        "            output1, _ = model(d1_ids, d1_mask, d1_token_type_ids)\n",
        "            _, output2 = model(d2_ids, d2_mask, d2_token_type_ids)\n",
        "            \n",
        "            big_val_d1, big_idx_d1 = torch.max(output1.data, dim=1)\n",
        "            big_val_d2, big_idx_d2 = torch.max(output2.data, dim=1)\n",
        "            \n",
        "            for i in range(d1_targets.size(0)):\n",
        "                d1_predicts.append({\n",
        "                    \"predict\": big_idx_d1[i].item(),\n",
        "                    \"target\": d1_targets[i].item()\n",
        "                })\n",
        "\n",
        "            for i in range(d2_sentiment.size(0)):\n",
        "                d2_predicts.append({\n",
        "                    \"predict\": big_idx_d2[i].item(),\n",
        "                    \"target\": d2_sentiment[i].item()\n",
        "                })\n",
        "\n",
        "    d1_df = pd.DataFrame(d1_predicts)\n",
        "    d2_df = pd.DataFrame(d2_predicts)\n",
        "\n",
        "    return d1_df, d2_df"
      ],
      "metadata": {
        "id": "BZR3kEux6AIw"
      },
      "execution_count": 79,
      "outputs": []
    },
    {
      "cell_type": "markdown",
      "source": [
        "Please see `multitask_hydra.py` for working code"
      ],
      "metadata": {
        "id": "AaoKnPpRGFsN"
      }
    },
    {
      "cell_type": "code",
      "source": [],
      "metadata": {
        "id": "W-vmjajZHWRF"
      },
      "execution_count": 79,
      "outputs": []
    },
    {
      "cell_type": "markdown",
      "source": [
        "### Task 3.6 ###\n",
        "Lambda hyperparameter tuning using Ax"
      ],
      "metadata": {
        "id": "O2WAt0XOMrpL"
      }
    },
    {
      "cell_type": "code",
      "source": [
        "# pip install ax-platform"
      ],
      "metadata": {
        "id": "9dUuhXkiSpip"
      },
      "execution_count": 80,
      "outputs": []
    },
    {
      "cell_type": "code",
      "source": [
        "from ax import optimize"
      ],
      "metadata": {
        "id": "1XBbpCeeWUdR"
      },
      "execution_count": 81,
      "outputs": []
    },
    {
      "cell_type": "code",
      "source": [
        "# Evaluation function for hyperparameter tuning\n",
        "def valid_t1(model, testing_loader):\n",
        "    d1_val_n_correct = 0\n",
        "    d1_nb_val_examples = 0\n",
        "    \n",
        "    d1_predicts = []\n",
        "    model.eval()\n",
        "    with torch.no_grad():\n",
        "        for _, data in enumerate(tqdm(testing_loader, 0)):\n",
        "            d1_ids_val = data['ids'][~np.isnan(data['labels'][0].numpy()) == True].to(device, dtype = torch.long)\n",
        "            d1_mask_val = data['mask'][~np.isnan(data['labels'][0].numpy()) == True].to(device, dtype = torch.long)\n",
        "            #d1_token_type_ids_val = data['token_type_ids'][~np.isnan(data['labels'][0].numpy()) == True].to(device, dtype = torch.long)\n",
        "            d1_targets_val = data['labels'][0][~np.isnan(data['labels'][0].numpy()) == True].long().to(device, dtype = torch.long)\n",
        "\n",
        "            output1_val, _ = model(d1_ids_val, d1_mask_val)\n",
        "\n",
        "            big_val_d1, big_idx_d1_val = torch.max(output1_val.data, dim=1)\n",
        "            d1_val_n_correct += calcuate_accuracy(big_idx_d1_val, d1_targets_val)\n",
        "            d1_nb_val_examples += d1_targets_val.size(0)\n",
        "\n",
        "            for i in range(d1_targets_val.size(0)):\n",
        "                d1_predicts.append({\n",
        "                \"predict\": big_idx_d1_val[i].item(),\n",
        "                \"target\": d1_targets_val[i].item()\n",
        "            })\n",
        "    d1_df = pd.DataFrame(d1_predicts)\n",
        "    d1_f1 = f1_score(d1_df.target, d1_df.predict,  average='weighted')\n",
        "    d1_accuracy = accuracy_score(d1_df.target, d1_df.predict)\n",
        "    print(f\"f1_Score: {d1_f1}\")\n",
        "    print(f\"accuracy_Score: {d1_accuracy}\")\n",
        "    return d1_f1"
      ],
      "metadata": {
        "id": "1QCpr4iQMxLm"
      },
      "execution_count": 82,
      "outputs": []
    },
    {
      "cell_type": "markdown",
      "source": [
        "Plase see `multitask_hydra_bo.py` for working code"
      ],
      "metadata": {
        "id": "EJ9NI5svGj-2"
      }
    },
    {
      "cell_type": "markdown",
      "source": [
        "\n",
        "\n",
        "**Best Lambda Values**\n",
        "\n",
        " $\\lambda_{1} =  0.6899408753961325$\n",
        "\n",
        "$\\lambda_{2}  = 0.4041465884074569$\n",
        "\n",
        "$F1 = 0.846455693470444$"
      ],
      "metadata": {
        "id": "aSaTTRpJ7qMc"
      }
    },
    {
      "cell_type": "markdown",
      "source": [
        "#V. Further Exploration #"
      ],
      "metadata": {
        "id": "Jq7Lvgchynyo"
      }
    },
    {
      "cell_type": "markdown",
      "source": [
        "### Strategy 1 ####\n",
        "\n",
        "Retrain and fine-tune the SiEBERT English-Language model for disaster classification\n",
        "<br>\n",
        "\n",
        "**Explanation:**\n",
        "<p>The SiEBERT model is a sentiment classification model which was trained on 15 text corpus to make it as robust as possible for classifying sentiment. It is also a derivative of the RoBERTa architecture which we used for the initial parts of this project. This model also has two outputs which is compatible with our task of a binary classification for disaster tweets. The strategy is to retrain and fine-tune this SiEBERT model to instead classify tweets that announces disasters using this project's dataset. Based on its performance report on different NLP benchmarks, this model has very good generalized performance so SieBERT's model architecture might yield higher accuracy also for disaster classification.</p>\n",
        "<br>\n",
        "Citation:<br>\n",
        "Hartmann, J., Heitmann, M., Siebert, C., & Schamp, C. (2023). More than a Feeling: Accuracy and Application of Sentiment Analysis. International Journal of Research in Marketing, 40(1), 75-87. https://doi.org/10.1016/j.ijresmar.2022.05.005"
      ],
      "metadata": {
        "id": "GJBiMhzj5W87"
      }
    },
    {
      "cell_type": "code",
      "source": [
        "from transformers import TrainingArguments, Trainer\n",
        "from transformers import AutoModelForSequenceClassification, AutoTokenizer\n",
        "import evaluate"
      ],
      "metadata": {
        "id": "4ToT-q1x75eL"
      },
      "execution_count": 83,
      "outputs": []
    },
    {
      "cell_type": "code",
      "source": [
        "# Using RoBERTa tokenizer since siebert is based on RoBERTa-large\n",
        "tokenizer = RobertaTokenizer.from_pretrained('roberta-large')"
      ],
      "metadata": {
        "id": "6fWp5AWCAgf2",
        "colab": {
          "base_uri": "https://localhost:8080/",
          "height": 113,
          "referenced_widgets": [
            "bc1234e0e56a4c8a9d1b76203591eb97",
            "2b346b6ad60c4400932053fa53edf13c",
            "8352302606684e6a876783d109923533",
            "9cc5d23397aa42cabf9b6d775a85daf7",
            "77c8a39eba1345bd995039f2860a6cfc",
            "1ffb92e689ad4182be512a3b178aedf8",
            "7571cfc35098410aa5abaac5d1a2eb8e",
            "1b75f835d51a4d56899b869a17d323d7",
            "8916ff31aaef41ec9752fde2f4835609",
            "d2cba86518a146af8f9f34e8d6f1988e",
            "2bfdc0757e3449a8a17dcc6a35255e52",
            "f5039c92dcd9449097ae796dbe2a0982",
            "670c9d7564ce40d1b8266d3e6d9615b9",
            "791e10120df14b77ac5a72de5a3009fe",
            "d7749d420234485f99322cd797d671c1",
            "8b48ebad246a43b583e0593146e54e83",
            "069d4425b24d43b59c99caac53de5550",
            "7c81c2597d8640609ab705074b2c67f8",
            "6f13e01d8d8343a0bee78165a73a917a",
            "739811d7eaff47369a467c89e374306e",
            "e952febe136d4384a27852cf798f45d6",
            "731f8b0ccd1d4b1f8bef1fcc92a4c717",
            "8d487ae849fb4f32bb0e6c2109d2bc82",
            "8889841493b74cdca6e4321a5b3df0b2",
            "0e52519a5f3a4f21a93882dd1ce91668",
            "92975a9bfe9b46fb9a08426f45fedf3c",
            "013aa9f424c04ad4a138b1bd168d30b4",
            "0de6b4370c8e4b64a96573252da412f6",
            "5d0dc85db87a4d9baf39018e0f7cef70",
            "68e4621e1e204eab8014d301040e5d6d",
            "3eafa8d85e94455e8376bde48423d370",
            "0ea99d98b7f145cc851c84a5df151c0c",
            "9bb191b1174249f08221d87d47f2b8cd"
          ]
        },
        "outputId": "12f69daf-9c6b-419b-da53-844008644bdb"
      },
      "execution_count": 84,
      "outputs": [
        {
          "output_type": "display_data",
          "data": {
            "text/plain": [
              "Downloading (…)olve/main/vocab.json:   0%|          | 0.00/899k [00:00<?, ?B/s]"
            ],
            "application/vnd.jupyter.widget-view+json": {
              "version_major": 2,
              "version_minor": 0,
              "model_id": "bc1234e0e56a4c8a9d1b76203591eb97"
            }
          },
          "metadata": {}
        },
        {
          "output_type": "display_data",
          "data": {
            "text/plain": [
              "Downloading (…)olve/main/merges.txt:   0%|          | 0.00/456k [00:00<?, ?B/s]"
            ],
            "application/vnd.jupyter.widget-view+json": {
              "version_major": 2,
              "version_minor": 0,
              "model_id": "f5039c92dcd9449097ae796dbe2a0982"
            }
          },
          "metadata": {}
        },
        {
          "output_type": "display_data",
          "data": {
            "text/plain": [
              "Downloading (…)lve/main/config.json:   0%|          | 0.00/482 [00:00<?, ?B/s]"
            ],
            "application/vnd.jupyter.widget-view+json": {
              "version_major": 2,
              "version_minor": 0,
              "model_id": "8d487ae849fb4f32bb0e6c2109d2bc82"
            }
          },
          "metadata": {}
        }
      ]
    },
    {
      "cell_type": "code",
      "source": [
        "# Creating train-test splits for training the model\n",
        "d_train_data, d_val_data, d_train_labels, d_val_labels = train_test_split(d_train_select['text'],d_train_select['target'], test_size=0.2, \n",
        "                                                                       stratify=d_train_select['target'], random_state=2023)"
      ],
      "metadata": {
        "id": "Ojw6JbzUMP4c"
      },
      "execution_count": 85,
      "outputs": []
    },
    {
      "cell_type": "markdown",
      "source": [],
      "metadata": {
        "id": "NtlG9h17_1cW"
      }
    },
    {
      "cell_type": "code",
      "source": [
        "# Resetting indices as it might break some loopes\n",
        "d_train_data.reset_index(inplace=True, drop=True)\n",
        "d_val_data.reset_index(inplace=True, drop=True)\n",
        "d_train_labels.reset_index(inplace=True, drop=True)\n",
        "d_val_labels.reset_index(inplace=True, drop=True)"
      ],
      "metadata": {
        "id": "h4HOkaoyNdux"
      },
      "execution_count": 86,
      "outputs": []
    },
    {
      "cell_type": "code",
      "source": [
        "# Tokenizing the data\n",
        "train_encodings = tokenizer(d_train_data.tolist(), truncation=True, padding=\"max_length\", add_special_tokens=True, \n",
        "                            return_token_type_ids=True)\n",
        "val_encodings = tokenizer(d_val_data.tolist(), truncation=True, padding=\"max_length\", add_special_tokens=True, \n",
        "                            return_token_type_ids=True)"
      ],
      "metadata": {
        "id": "4uFD5kZhLfKf"
      },
      "execution_count": 87,
      "outputs": []
    },
    {
      "cell_type": "code",
      "source": [
        "# Creating custom Datasets classes for the data\n",
        "class HuggingData(Dataset):\n",
        "  def __init__(self, encodings, labels):\n",
        "    self.encodings = encodings\n",
        "    self.labels = labels\n",
        "\n",
        "  def __getitem__(self, idx):\n",
        "      item = {key: torch.tensor(val[idx]) for key, val in self.encodings.items()}\n",
        "      item['labels'] = torch.tensor(self.labels[idx])\n",
        "      return item\n",
        "\n",
        "  def __len__(self):\n",
        "      return len(self.labels)"
      ],
      "metadata": {
        "id": "UXM6-rriHy6A"
      },
      "execution_count": 88,
      "outputs": []
    },
    {
      "cell_type": "code",
      "source": [
        "# Creating the datasets\n",
        "dstrat1_train_set = HuggingData(train_encodings, d_train_labels)\n",
        "dstrat1_val_set = HuggingData(val_encodings, d_val_labels)"
      ],
      "metadata": {
        "id": "jx9btBAYIqCs"
      },
      "execution_count": 89,
      "outputs": []
    },
    {
      "cell_type": "code",
      "source": [
        "# Loading the siebert sentiment classification model\n",
        "model = AutoModelForSequenceClassification.from_pretrained(\"siebert/sentiment-roberta-large-english\")\n",
        "# Specifying the training arguments for training using HuggingFace Trainer API\n",
        "training_args = TrainingArguments(\n",
        "    output_dir=\"/content/drive/MyDrive/BT5151/group_project/strategy1/output\",\n",
        "    optim=\"adamw_torch\",\n",
        "    num_train_epochs=3,\n",
        "    learning_rate= 1e-5,\n",
        "    lr_scheduler_type = \"cosine\",\n",
        "    per_device_train_batch_size=16,\n",
        "    per_device_eval_batch_size=32,\n",
        "    save_strategy=\"no\",\n",
        "    warmup_steps= 10,\n",
        "    weight_decay = 0.01,\n",
        "    logging_dir=\"/content/drive/MyDrive/BT5151/group_project/strategy1/logs\",\n",
        "    logging_strategy=\"steps\",\n",
        "    logging_steps=100,\n",
        "    evaluation_strategy=\"steps\",\n",
        "    eval_steps=100\n",
        ")"
      ],
      "metadata": {
        "id": "bOCOukIDyqC6",
        "colab": {
          "base_uri": "https://localhost:8080/",
          "height": 81,
          "referenced_widgets": [
            "a32993d9580740f89ef52792ccde2f80",
            "64c5e03553b94190bdf1a5ea8c75d678",
            "ce9b49321ace4b9e90544de892908ad2",
            "c33e93c7591f44d5a4488f7cf7e9aba5",
            "84438c7ecd6d474d8e2895294841a432",
            "06ff10c966d9450ba8ca58efee27dff1",
            "dbb2cb38307440eab83eada4917afbd2",
            "e2d14388b78e4a7f81150ed1529dd98d",
            "5917ab1321a44dda9622e3988ca95adc",
            "b04a392f0c69497b97040df8bd693f23",
            "c725082867d34f2485cf514a6cd9ca0f",
            "0ff2e58a68ee4f6c88ff879cc42d93cd",
            "ef11df7346f643a891e845d6635b5128",
            "7cd5cd90bd8c44aeb30c7249b80d7ceb",
            "387bf1951a684530ae6ce43e63fd0141",
            "562dc4b857764245a446c425aa6be478",
            "597fec788d8e449890df3c4382b76f48",
            "1c388b26c1bd4465a06529fcab0ce1ce",
            "d5212d37e3c94c62a0f845ca84296f6e",
            "69846a58f2f349b19d73b2bad5dbcfb1",
            "53057a5c0fbb40f586b971deb9b58631",
            "e190a1d8004140cb888d469460dd4ce4"
          ]
        },
        "outputId": "1aa423c9-077c-4f1c-ba28-8d3abee7c5b2"
      },
      "execution_count": 90,
      "outputs": [
        {
          "output_type": "display_data",
          "data": {
            "text/plain": [
              "Downloading (…)lve/main/config.json:   0%|          | 0.00/687 [00:00<?, ?B/s]"
            ],
            "application/vnd.jupyter.widget-view+json": {
              "version_major": 2,
              "version_minor": 0,
              "model_id": "a32993d9580740f89ef52792ccde2f80"
            }
          },
          "metadata": {}
        },
        {
          "output_type": "display_data",
          "data": {
            "text/plain": [
              "Downloading pytorch_model.bin:   0%|          | 0.00/1.42G [00:00<?, ?B/s]"
            ],
            "application/vnd.jupyter.widget-view+json": {
              "version_major": 2,
              "version_minor": 0,
              "model_id": "0ff2e58a68ee4f6c88ff879cc42d93cd"
            }
          },
          "metadata": {}
        }
      ]
    },
    {
      "cell_type": "code",
      "source": [
        "# Specifying evaluation metrics\n",
        "metric = evaluate.load(\"accuracy\")\n",
        "def compute_metrics(eval_pred):\n",
        "    logits, labels = eval_pred\n",
        "    predictions = np.argmax(logits, axis=-1)\n",
        "    return metric.compute(predictions=predictions, references=labels)"
      ],
      "metadata": {
        "id": "hSedPLZ4WVWz",
        "colab": {
          "base_uri": "https://localhost:8080/",
          "height": 49,
          "referenced_widgets": [
            "befb5fbccd4c4857ac8203be8f52dbb6",
            "6993a426362d409782771af930ace696",
            "71a21ac874d04e228da13f49ecf952d2",
            "f7f3495c6e5048de843dad57af6f1b18",
            "3d68b5dc845c4f5c8fdedd8b5bd89b2b",
            "9ea3d688e6c7445999874bc1ea42f632",
            "362be651012b4177bfe4f4afa8415e89",
            "4f892905f1174816a10fbfc79f484080",
            "d46ad2f56d7f4b0fa7af80591e98ce74",
            "c91109a36e1f46c9b424a5e1b4eb66dd",
            "29204b1c8dde425c91b43b78c9c0d97f"
          ]
        },
        "outputId": "b1c1bbdc-6e7d-401e-df8e-735f7e2ab0a1"
      },
      "execution_count": 91,
      "outputs": [
        {
          "output_type": "display_data",
          "data": {
            "text/plain": [
              "Downloading builder script:   0%|          | 0.00/4.20k [00:00<?, ?B/s]"
            ],
            "application/vnd.jupyter.widget-view+json": {
              "version_major": 2,
              "version_minor": 0,
              "model_id": "befb5fbccd4c4857ac8203be8f52dbb6"
            }
          },
          "metadata": {}
        }
      ]
    },
    {
      "cell_type": "code",
      "source": [
        "# Calling the trainer API and initiates training. Training was done outside of this notebook\n",
        "# trainer = Trainer(\n",
        "#     model=model,                         \n",
        "#     args=training_args,                \n",
        "#     train_dataset=dstrat1_train_set,\n",
        "#     eval_dataset=dstrat1_val_set,\n",
        "#     compute_metrics=compute_metrics\n",
        "# )\n",
        "\n",
        "# trainer.train()\n",
        "\n",
        "# Saving the model\n",
        "#trainer.save_model(\"/content/drive/MyDrive/BT5151/group_project/strategy1/models\")"
      ],
      "metadata": {
        "id": "mk4iUCTi6ai3"
      },
      "execution_count": 92,
      "outputs": []
    },
    {
      "cell_type": "markdown",
      "source": [
        "Inference on the trained siebert model"
      ],
      "metadata": {
        "id": "GVZbO5Gyi-l4"
      }
    },
    {
      "cell_type": "code",
      "source": [
        "from transformers import pipeline, AutoModel"
      ],
      "metadata": {
        "id": "V4y08dAvvAOC"
      },
      "execution_count": 93,
      "outputs": []
    },
    {
      "cell_type": "code",
      "source": [
        "# Creating a pipeline for inference on the fine-tuned siebert model\n",
        "tokenizer = RobertaTokenizer.from_pretrained('roberta-large')\n",
        "disaster = pipeline(\"text-classification\", model=\"/content/drive/MyDrive/BT5151/group_project/siebert_final_strat1\", tokenizer = tokenizer, device=\"cuda:0\",\n",
        "                    binary_output=True, function_to_apply=\"softmax\")"
      ],
      "metadata": {
        "id": "V3OT39evQ_Yw"
      },
      "execution_count": 94,
      "outputs": []
    },
    {
      "cell_type": "code",
      "source": [
        "# Creating an iterator for the D1 test data\n",
        "def data_iterator(df):\n",
        "    for i in range(df.shape[0]):\n",
        "        yield str(df.text[i])"
      ],
      "metadata": {
        "id": "aMlIWyRSu_P-"
      },
      "execution_count": 95,
      "outputs": []
    },
    {
      "cell_type": "code",
      "source": [
        "# Helper function to extract the outputs of the pipeline in a nice dataframe\n",
        "def get_predict(iterator, pipeline):\n",
        "    df = pd.DataFrame(columns = ['label', 'score'])\n",
        "    for idx, out in enumerate(tqdm(pipeline(iterator))):\n",
        "        df.loc[idx] = out\n",
        "    return df"
      ],
      "metadata": {
        "id": "1bT79HE3slI9"
      },
      "execution_count": 96,
      "outputs": []
    },
    {
      "cell_type": "code",
      "source": [
        "# Helper function to reformat pipeline outputs dataframe for Kaggle test submission format\n",
        "def clean_submit(preds):\n",
        "    df = preds.copy()\n",
        "    df.reset_index(inplace=True)\n",
        "    df.rename(columns = {'index':'id'}, inplace = True)\n",
        "    df.set_index(\"id\", inplace=True)\n",
        "    df['target'] = df.apply(lambda x: 1 if x['label'] == 'POSITIVE' else 0, axis = 1)\n",
        "    df.drop(columns=['score', 'label'], inplace=True)\n",
        "    return df"
      ],
      "metadata": {
        "id": "eHqI0y-KeT_D"
      },
      "execution_count": 97,
      "outputs": []
    },
    {
      "cell_type": "code",
      "source": [
        "# Getting predictions for the train for checking\n",
        "#preds_train = get_predict(data_iterator(d_train), disaster)\n",
        "\n",
        "# Getting predictions for the test data\n",
        "preds_test = get_predict(data_iterator(d_test_orig), disaster)\n",
        "\n",
        "# Reformatting predictions for Kaggle submission format\n",
        "#submit_train = clean_submit(preds_train)\n",
        "submit_test = clean_submit(preds_test)\n",
        "\n",
        "# Matching the predictions indices to the Kaggle sample submission indices\n",
        "submit_test.reset_index(inplace=True)\n",
        "test = d_test_orig[[\"id\"]].copy()\n",
        "merged = test.merge(submit_test, left_index=True, right_index=True, suffixes=(None, \"_s\"))\n",
        "merged.drop(labels=[\"id_s\"],axis=1,inplace=True)\n",
        "merged.set_index(\"id\",inplace=True)\n",
        "\n",
        "#submit_train.to_csv(\"submit_train.csv\")"
      ],
      "metadata": {
        "id": "dEPXoNPF0EMK",
        "colab": {
          "base_uri": "https://localhost:8080/"
        },
        "outputId": "bec0ecad-29c2-417a-e3f1-6799ed7a4173"
      },
      "execution_count": 98,
      "outputs": [
        {
          "output_type": "stream",
          "name": "stderr",
          "text": [
            "3263it [01:19, 41.24it/s]\n"
          ]
        }
      ]
    },
    {
      "cell_type": "code",
      "source": [
        "#Save predictions for submission to Kaggle\n",
        "merged.to_csv(\"/content/drive/MyDrive/BT5151/group_project/strat1_test.csv\")"
      ],
      "metadata": {
        "id": "r7ehPWfKkOBF"
      },
      "execution_count": 99,
      "outputs": []
    },
    {
      "cell_type": "code",
      "source": [
        "merged.shape"
      ],
      "metadata": {
        "id": "lNXiOPFtFklu",
        "colab": {
          "base_uri": "https://localhost:8080/"
        },
        "outputId": "88cb29d4-d992-48a0-ffbf-18f90b5fda82"
      },
      "execution_count": 100,
      "outputs": [
        {
          "output_type": "execute_result",
          "data": {
            "text/plain": [
              "(3263, 1)"
            ]
          },
          "metadata": {},
          "execution_count": 100
        }
      ]
    },
    {
      "cell_type": "code",
      "source": [
        "#merged.head()"
      ],
      "metadata": {
        "id": "5BH1ULnAkare"
      },
      "execution_count": 101,
      "outputs": []
    },
    {
      "cell_type": "markdown",
      "source": [
        "Kaggle Submission Screenshot\n",
        "![Screenshot 2023-04-08 at 12.00.37 AM.png](data:image/png;base64,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)"
      ],
      "metadata": {
        "id": "u1FsMVXJcdYn"
      }
    },
    {
      "cell_type": "markdown",
      "source": [
        "### Strategy 2 ###\n",
        "RoBERTa embedding to LightGBM model: Extract meaning feature from pre-trained transformer-based RoBERTa model and use those features to train a machine learning model like LightGBM for disaster classification - \"Knowledge Distillation\" approach\n",
        "\n",
        "**Explanation:**\n",
        "\n",
        "The approach utilized in this case involves knowledge distillation, which aims to transfer the knowledge of a large, fully trained neural network to a smaller one for more practical deployment. The advantage of knowledge distillation lies in its ability to reduce computational requirements and model size while maintaining high accuracy in classification tasks. Specifically, the strategy used here involves leveraging the pre-trained RoBERTa model to obtain word embeddings, which are then fed into a machine learning LightGBM model known for its performance in classification tasks. By combining these techniques, the approach effectively classifies text data while minimizing memory usage and overfitting, ultimately leading to improved efficiency and performance in real-world applications."
      ],
      "metadata": {
        "id": "JIYbsQA_yLSI"
      }
    },
    {
      "cell_type": "code",
      "source": [
        "import os\n",
        "import tempfile\n",
        "\n",
        "count = 0\n",
        "chunk_size = 1000  # process data in chunks of 1000 samples\n",
        "tempdir = tempfile.TemporaryDirectory()"
      ],
      "metadata": {
        "id": "QogshfylIirI"
      },
      "execution_count": 102,
      "outputs": []
    },
    {
      "cell_type": "code",
      "source": [
        "# Create train-validate spilts\n",
        "d_train_data, d_val_data = train_test_split(d_train_select, test_size=0.2, stratify=d_train_select['target'],\n",
        "                                 random_state=2023)\n",
        "\n",
        "s_train_data, s_val_data= train_test_split(s_train_select, test_size=0.2, stratify=s_train_select['target'],\n",
        "                                 random_state=2023)\n",
        "\n",
        "# Dropping the index because it can mess up the loops\n",
        "d_train_data.reset_index(inplace=True,drop =True)\n",
        "d_val_data.reset_index(inplace=True, drop =True)\n",
        "s_train_data.reset_index(inplace=True, drop =True)\n",
        "s_val_data.reset_index(inplace=True,  drop =True)"
      ],
      "metadata": {
        "id": "x1vmnG-YPoxi"
      },
      "execution_count": 103,
      "outputs": []
    },
    {
      "cell_type": "code",
      "source": [
        "train_params = {'batch_size': TRAIN_BATCH_SIZE,\n",
        "                'shuffle': False,\n",
        "                'num_workers': 0\n",
        "                }\n",
        "\n",
        "test_params = {'batch_size': VALID_BATCH_SIZE,\n",
        "                'shuffle': False,\n",
        "                'num_workers': 0\n",
        "                }\n",
        "d1_train_set= DisasterData(d_train_data, tokenizer, MAX_LEN)\n",
        "d1_val_set = DisasterData(d_val_data, tokenizer, MAX_LEN)\n",
        "d1_train_embed = DataLoader(d1_train_set, **train_params)\n",
        "d1_val_embed = DataLoader(d1_val_set, **test_params)"
      ],
      "metadata": {
        "id": "bxTkrkkOH8-Z"
      },
      "execution_count": 104,
      "outputs": []
    },
    {
      "cell_type": "code",
      "source": [
        "model_embed = AutoModel.from_pretrained(\"roberta-base\").to(device)"
      ],
      "metadata": {
        "id": "O8wsDCR35L1i",
        "colab": {
          "base_uri": "https://localhost:8080/",
          "height": 121,
          "referenced_widgets": [
            "8fa7ba90647546c498bc7870191fa012",
            "06f7ddbc54b54c7d8113382f47679cd5",
            "1b1022d687464ccd9ef6f8b57fd0e82c",
            "751cd8b68d444b719c086c32684b3d29",
            "9ef7b7ff61954672b621709f7a7a6abc",
            "e60df30bfebe4fcfb43fb57244db58b9",
            "c5a2efd665264871aa256b90a2e47d3e",
            "b795eea718be4318a14d54edb08552a8",
            "9789b88ba71c4206b47348803d8d045b",
            "75a4795e3c79438896a10ec4405e544b",
            "c9117d5d2d034fae9af3f1a9559a1d8c"
          ]
        },
        "outputId": "b085ab4e-9d6b-4a01-adaf-938126e171ea"
      },
      "execution_count": 105,
      "outputs": [
        {
          "output_type": "display_data",
          "data": {
            "text/plain": [
              "Downloading pytorch_model.bin:   0%|          | 0.00/501M [00:00<?, ?B/s]"
            ],
            "application/vnd.jupyter.widget-view+json": {
              "version_major": 2,
              "version_minor": 0,
              "model_id": "8fa7ba90647546c498bc7870191fa012"
            }
          },
          "metadata": {}
        },
        {
          "output_type": "stream",
          "name": "stderr",
          "text": [
            "Some weights of the model checkpoint at roberta-base were not used when initializing RobertaModel: ['lm_head.dense.weight', 'lm_head.layer_norm.bias', 'lm_head.layer_norm.weight', 'lm_head.bias', 'lm_head.decoder.weight', 'lm_head.dense.bias']\n",
            "- This IS expected if you are initializing RobertaModel from the checkpoint of a model trained on another task or with another architecture (e.g. initializing a BertForSequenceClassification model from a BertForPreTraining model).\n",
            "- This IS NOT expected if you are initializing RobertaModel from the checkpoint of a model that you expect to be exactly identical (initializing a BertForSequenceClassification model from a BertForSequenceClassification model).\n"
          ]
        }
      ]
    },
    {
      "cell_type": "code",
      "source": [
        "model_path = \"/content/drive/MyDrive/BT5151/group_project/net_hydra_optim/hydra_optim.bin\" \n",
        "model_predict = torch.load(model_path, map_location=device)"
      ],
      "metadata": {
        "id": "p9Mg0Bel-AVr"
      },
      "execution_count": 106,
      "outputs": []
    },
    {
      "cell_type": "code",
      "source": [
        "def get_embed(data_loader, model):\n",
        "  count = 0\n",
        "  chunk_size = 1000  # process data in chunks of 1000 samples\n",
        "  tempdir = tempfile.TemporaryDirectory()\n",
        "\n",
        "  with torch.no_grad():\n",
        "      for i, batch in enumerate(tqdm(data_loader)):\n",
        "          input_ids = batch['ids'].to(device)\n",
        "          attention_mask = batch['mask'].to(device)\n",
        "          label = batch['targets']\n",
        "          output = model(input_ids, attention_mask=attention_mask)\n",
        "          hidden_states = output.last_hidden_state.cpu().detach().numpy()[:, 0, :]\n",
        "          labels = label.cpu().detach().numpy()\n",
        "          np.save(os.path.join(tempdir.name, f'batch_{i}_hs.npy'), hidden_states)\n",
        "          np.save(os.path.join(tempdir.name, f'batch_{i}_labels.npy'), labels)\n",
        "          count += 1\n",
        "          if count % chunk_size == 0:\n",
        "              print('Processed', count, 'samples')\n",
        "              # clear variables from memory to minimize RAM usage\n",
        "              del hidden_states, labels\n",
        "              torch.cuda.empty_cache()\n",
        "\n",
        "  hidden_states = np.concatenate([np.load(os.path.join(tempdir.name, f'batch_{i}_hs.npy')) for i in range(count)], axis=0)\n",
        "  labels = np.concatenate([np.load(os.path.join(tempdir.name, f'batch_{i}_labels.npy')) for i in range(count)], axis=0)\n",
        "\n",
        "  # cleanup temporary directory\n",
        "  tempdir.cleanup()\n",
        "  return hidden_states, labels"
      ],
      "metadata": {
        "id": "dgIQvp205jgp"
      },
      "execution_count": 107,
      "outputs": []
    },
    {
      "cell_type": "code",
      "source": [
        "train_hs, train_labels = get_embed(d1_train_embed, model_embed)\n",
        "val_hs, val_labels = get_embed(d1_val_embed, model_embed)"
      ],
      "metadata": {
        "colab": {
          "base_uri": "https://localhost:8080/"
        },
        "id": "s6VSEe-CHZje",
        "outputId": "8f219ac4-5b73-4229-f8d3-57e1fc941f15"
      },
      "execution_count": 108,
      "outputs": [
        {
          "output_type": "stream",
          "name": "stderr",
          "text": [
            "100%|██████████| 191/191 [03:06<00:00,  1.02it/s]\n",
            "100%|██████████| 48/48 [00:46<00:00,  1.03it/s]\n"
          ]
        }
      ]
    },
    {
      "cell_type": "code",
      "source": [
        "def predict_hydra(model, testing_loader):\n",
        "    model.eval()\n",
        "    d2_predicts = []\n",
        "\n",
        "    with torch.no_grad():\n",
        "        for _, data in enumerate(tqdm(testing_loader, 0)):\n",
        "            d1_ids = data['ids'].to(device, dtype = torch.long)\n",
        "            d1_mask = data['mask'].to(device, dtype = torch.long)\n",
        "            d1_token_type_ids = data['token_type_ids'].to(device, dtype = torch.long)\n",
        "            d1_targets = data['targets'].to(device, dtype = torch.long)\n",
        "\n",
        "            _, output2 = model(d1_ids, d1_mask, d1_token_type_ids)\n",
        "            \n",
        "            big_val_d2, big_idx_d2 = torch.max(output2.data, dim=1)\n",
        "            \n",
        "            for i in range(d1_targets.size(0)):\n",
        "                d2_predicts.append({\n",
        "                    \"predict\": big_idx_d2[i].item(),\n",
        "                })\n",
        "\n",
        "    d2_df = pd.DataFrame(d2_predicts)\n",
        "\n",
        "    return d2_df"
      ],
      "metadata": {
        "id": "SGnduaagDFJf"
      },
      "execution_count": 198,
      "outputs": []
    },
    {
      "cell_type": "code",
      "source": [
        "train_t2_predict = predict_hydra(model_predict, d1_train_embed)\n",
        "val_t2_predict = predict_hydra(model_predict, d1_val_embed)"
      ],
      "metadata": {
        "colab": {
          "base_uri": "https://localhost:8080/"
        },
        "id": "0RQyAqry-eWP",
        "outputId": "8e5a3436-f17f-4962-fac3-288425064b0d"
      },
      "execution_count": 150,
      "outputs": [
        {
          "output_type": "stream",
          "name": "stderr",
          "text": [
            "100%|██████████| 191/191 [02:55<00:00,  1.09it/s]\n",
            "100%|██████████| 48/48 [00:45<00:00,  1.07it/s]\n"
          ]
        }
      ]
    },
    {
      "cell_type": "code",
      "source": [
        "train_t2_predict"
      ],
      "metadata": {
        "colab": {
          "base_uri": "https://localhost:8080/",
          "height": 423
        },
        "id": "V-jjyew4UtTA",
        "outputId": "81fee23f-1e5c-40a0-a18a-7c1a7420b62d"
      },
      "execution_count": 153,
      "outputs": [
        {
          "output_type": "execute_result",
          "data": {
            "text/plain": [
              "      predict\n",
              "0           0\n",
              "1           1\n",
              "2           0\n",
              "3           1\n",
              "4           1\n",
              "...       ...\n",
              "6085        0\n",
              "6086        0\n",
              "6087        1\n",
              "6088        1\n",
              "6089        2\n",
              "\n",
              "[6090 rows x 1 columns]"
            ],
            "text/html": [
              "\n",
              "  <div id=\"df-8fe0928f-93a6-42d8-abbb-3927f321412e\">\n",
              "    <div class=\"colab-df-container\">\n",
              "      <div>\n",
              "<style scoped>\n",
              "    .dataframe tbody tr th:only-of-type {\n",
              "        vertical-align: middle;\n",
              "    }\n",
              "\n",
              "    .dataframe tbody tr th {\n",
              "        vertical-align: top;\n",
              "    }\n",
              "\n",
              "    .dataframe thead th {\n",
              "        text-align: right;\n",
              "    }\n",
              "</style>\n",
              "<table border=\"1\" class=\"dataframe\">\n",
              "  <thead>\n",
              "    <tr style=\"text-align: right;\">\n",
              "      <th></th>\n",
              "      <th>predict</th>\n",
              "    </tr>\n",
              "  </thead>\n",
              "  <tbody>\n",
              "    <tr>\n",
              "      <th>0</th>\n",
              "      <td>0</td>\n",
              "    </tr>\n",
              "    <tr>\n",
              "      <th>1</th>\n",
              "      <td>1</td>\n",
              "    </tr>\n",
              "    <tr>\n",
              "      <th>2</th>\n",
              "      <td>0</td>\n",
              "    </tr>\n",
              "    <tr>\n",
              "      <th>3</th>\n",
              "      <td>1</td>\n",
              "    </tr>\n",
              "    <tr>\n",
              "      <th>4</th>\n",
              "      <td>1</td>\n",
              "    </tr>\n",
              "    <tr>\n",
              "      <th>...</th>\n",
              "      <td>...</td>\n",
              "    </tr>\n",
              "    <tr>\n",
              "      <th>6085</th>\n",
              "      <td>0</td>\n",
              "    </tr>\n",
              "    <tr>\n",
              "      <th>6086</th>\n",
              "      <td>0</td>\n",
              "    </tr>\n",
              "    <tr>\n",
              "      <th>6087</th>\n",
              "      <td>1</td>\n",
              "    </tr>\n",
              "    <tr>\n",
              "      <th>6088</th>\n",
              "      <td>1</td>\n",
              "    </tr>\n",
              "    <tr>\n",
              "      <th>6089</th>\n",
              "      <td>2</td>\n",
              "    </tr>\n",
              "  </tbody>\n",
              "</table>\n",
              "<p>6090 rows × 1 columns</p>\n",
              "</div>\n",
              "      <button class=\"colab-df-convert\" onclick=\"convertToInteractive('df-8fe0928f-93a6-42d8-abbb-3927f321412e')\"\n",
              "              title=\"Convert this dataframe to an interactive table.\"\n",
              "              style=\"display:none;\">\n",
              "        \n",
              "  <svg xmlns=\"http://www.w3.org/2000/svg\" height=\"24px\"viewBox=\"0 0 24 24\"\n",
              "       width=\"24px\">\n",
              "    <path d=\"M0 0h24v24H0V0z\" fill=\"none\"/>\n",
              "    <path d=\"M18.56 5.44l.94 2.06.94-2.06 2.06-.94-2.06-.94-.94-2.06-.94 2.06-2.06.94zm-11 1L8.5 8.5l.94-2.06 2.06-.94-2.06-.94L8.5 2.5l-.94 2.06-2.06.94zm10 10l.94 2.06.94-2.06 2.06-.94-2.06-.94-.94-2.06-.94 2.06-2.06.94z\"/><path d=\"M17.41 7.96l-1.37-1.37c-.4-.4-.92-.59-1.43-.59-.52 0-1.04.2-1.43.59L10.3 9.45l-7.72 7.72c-.78.78-.78 2.05 0 2.83L4 21.41c.39.39.9.59 1.41.59.51 0 1.02-.2 1.41-.59l7.78-7.78 2.81-2.81c.8-.78.8-2.07 0-2.86zM5.41 20L4 18.59l7.72-7.72 1.47 1.35L5.41 20z\"/>\n",
              "  </svg>\n",
              "      </button>\n",
              "      \n",
              "  <style>\n",
              "    .colab-df-container {\n",
              "      display:flex;\n",
              "      flex-wrap:wrap;\n",
              "      gap: 12px;\n",
              "    }\n",
              "\n",
              "    .colab-df-convert {\n",
              "      background-color: #E8F0FE;\n",
              "      border: none;\n",
              "      border-radius: 50%;\n",
              "      cursor: pointer;\n",
              "      display: none;\n",
              "      fill: #1967D2;\n",
              "      height: 32px;\n",
              "      padding: 0 0 0 0;\n",
              "      width: 32px;\n",
              "    }\n",
              "\n",
              "    .colab-df-convert:hover {\n",
              "      background-color: #E2EBFA;\n",
              "      box-shadow: 0px 1px 2px rgba(60, 64, 67, 0.3), 0px 1px 3px 1px rgba(60, 64, 67, 0.15);\n",
              "      fill: #174EA6;\n",
              "    }\n",
              "\n",
              "    [theme=dark] .colab-df-convert {\n",
              "      background-color: #3B4455;\n",
              "      fill: #D2E3FC;\n",
              "    }\n",
              "\n",
              "    [theme=dark] .colab-df-convert:hover {\n",
              "      background-color: #434B5C;\n",
              "      box-shadow: 0px 1px 3px 1px rgba(0, 0, 0, 0.15);\n",
              "      filter: drop-shadow(0px 1px 2px rgba(0, 0, 0, 0.3));\n",
              "      fill: #FFFFFF;\n",
              "    }\n",
              "  </style>\n",
              "\n",
              "      <script>\n",
              "        const buttonEl =\n",
              "          document.querySelector('#df-8fe0928f-93a6-42d8-abbb-3927f321412e button.colab-df-convert');\n",
              "        buttonEl.style.display =\n",
              "          google.colab.kernel.accessAllowed ? 'block' : 'none';\n",
              "\n",
              "        async function convertToInteractive(key) {\n",
              "          const element = document.querySelector('#df-8fe0928f-93a6-42d8-abbb-3927f321412e');\n",
              "          const dataTable =\n",
              "            await google.colab.kernel.invokeFunction('convertToInteractive',\n",
              "                                                     [key], {});\n",
              "          if (!dataTable) return;\n",
              "\n",
              "          const docLinkHtml = 'Like what you see? Visit the ' +\n",
              "            '<a target=\"_blank\" href=https://colab.research.google.com/notebooks/data_table.ipynb>data table notebook</a>'\n",
              "            + ' to learn more about interactive tables.';\n",
              "          element.innerHTML = '';\n",
              "          dataTable['output_type'] = 'display_data';\n",
              "          await google.colab.output.renderOutput(dataTable, element);\n",
              "          const docLink = document.createElement('div');\n",
              "          docLink.innerHTML = docLinkHtml;\n",
              "          element.appendChild(docLink);\n",
              "        }\n",
              "      </script>\n",
              "    </div>\n",
              "  </div>\n",
              "  "
            ]
          },
          "metadata": {},
          "execution_count": 153
        }
      ]
    },
    {
      "cell_type": "code",
      "source": [
        "train_embed = pd.DataFrame(train_hs)\n",
        "train_labels_df = pd.DataFrame(train_labels, columns=['disaster'])\n",
        "val_embed = pd.DataFrame(val_hs)\n",
        "val_labels_df = pd.DataFrame(val_labels, columns=['disaster'])"
      ],
      "metadata": {
        "id": "Es71ShmCN11K"
      },
      "execution_count": 167,
      "outputs": []
    },
    {
      "cell_type": "code",
      "source": [
        "# train_join = train_embed.merge(train_labels_df, left_index=True, right_index=True, suffixes=(None, \"_y\"))\n",
        "# #train_join.drop(labels=['0_y'], axis=1, inplace=True)\n",
        "\n",
        "# val_join = val_embed.merge(val_labels_df, left_index=True, right_index=True, suffixes=(None, \"_y\"))\n",
        "# #val_join.drop(labels=['0_y'], axis=1, inplace=True)"
      ],
      "metadata": {
        "id": "u568cBlHTD_Q"
      },
      "execution_count": 168,
      "outputs": []
    },
    {
      "cell_type": "code",
      "source": [
        "train_final = train_embed.merge(train_t2_predict, left_index=True, right_index=True, suffixes=(None, \"_y\"))\n",
        "#train_final.drop(labels=['0_y'], axis=1, inplace=True)"
      ],
      "metadata": {
        "id": "qf7ieLt0UcgB"
      },
      "execution_count": 182,
      "outputs": []
    },
    {
      "cell_type": "code",
      "source": [
        "val_final = val_embed.merge(val_t2_predict, left_index=True, right_index=True, suffixes=(None, \"_y\"))\n"
      ],
      "metadata": {
        "id": "3TuSmK_mU68e"
      },
      "execution_count": 183,
      "outputs": []
    },
    {
      "cell_type": "code",
      "source": [
        "# train_final.to_csv(\"/content/drive/MyDrive/BT5151/group_project/train_strat2.csv\")\n",
        "# val_final.to_csv(\"/content/drive/MyDrive/BT5151/group_project/val_strat2.csv\")"
      ],
      "metadata": {
        "id": "qJaWKpXxTjBr"
      },
      "execution_count": 179,
      "outputs": []
    },
    {
      "cell_type": "code",
      "source": [
        "train_dummy = pd.get_dummies(pd.get_dummies(train_final, columns=[\"predict\"]))\n",
        "val_dummy = pd.get_dummies(pd.get_dummies(val_final, columns=[\"predict\"]))"
      ],
      "metadata": {
        "id": "kO-k1lmXOMe4"
      },
      "execution_count": 187,
      "outputs": []
    },
    {
      "cell_type": "code",
      "source": [
        "val_dummy.columns"
      ],
      "metadata": {
        "colab": {
          "base_uri": "https://localhost:8080/"
        },
        "id": "z4YXlajRYQab",
        "outputId": "b2ede14b-8cbf-415e-eb0c-b56f50b0dd67"
      },
      "execution_count": 181,
      "outputs": [
        {
          "output_type": "execute_result",
          "data": {
            "text/plain": [
              "Index([          0,           1,           2,           3,           4,\n",
              "                 5,           6,           7,           8,           9,\n",
              "       ...\n",
              "               762,         763,         764,         765,         766,\n",
              "               767,  'disaster', 'predict_0', 'predict_1', 'predict_2'],\n",
              "      dtype='object', length=772)"
            ]
          },
          "metadata": {},
          "execution_count": 181
        }
      ]
    },
    {
      "cell_type": "code",
      "source": [
        "from sklearn.ensemble import RandomForestClassifier\n",
        "from sklearn.metrics import accuracy_score\n",
        "from xgboost import XGBClassifier\n",
        "from lightgbm import LGBMClassifier, Booster"
      ],
      "metadata": {
        "id": "5vehKcrX0_a5"
      },
      "execution_count": 188,
      "outputs": []
    },
    {
      "cell_type": "code",
      "source": [
        "lr_model =  LGBMClassifier()\n",
        "lr_model.fit(train_dummy, train_labels)"
      ],
      "metadata": {
        "colab": {
          "base_uri": "https://localhost:8080/",
          "height": 74
        },
        "id": "32emNlIOG3Su",
        "outputId": "55fe10bd-7c59-4d1f-b814-1d6bae674d1a"
      },
      "execution_count": 189,
      "outputs": [
        {
          "output_type": "execute_result",
          "data": {
            "text/plain": [
              "LGBMClassifier()"
            ],
            "text/html": [
              "<style>#sk-container-id-1 {color: black;background-color: white;}#sk-container-id-1 pre{padding: 0;}#sk-container-id-1 div.sk-toggleable {background-color: white;}#sk-container-id-1 label.sk-toggleable__label {cursor: pointer;display: block;width: 100%;margin-bottom: 0;padding: 0.3em;box-sizing: border-box;text-align: center;}#sk-container-id-1 label.sk-toggleable__label-arrow:before {content: \"▸\";float: left;margin-right: 0.25em;color: #696969;}#sk-container-id-1 label.sk-toggleable__label-arrow:hover:before {color: black;}#sk-container-id-1 div.sk-estimator:hover label.sk-toggleable__label-arrow:before {color: black;}#sk-container-id-1 div.sk-toggleable__content {max-height: 0;max-width: 0;overflow: hidden;text-align: left;background-color: #f0f8ff;}#sk-container-id-1 div.sk-toggleable__content pre {margin: 0.2em;color: black;border-radius: 0.25em;background-color: #f0f8ff;}#sk-container-id-1 input.sk-toggleable__control:checked~div.sk-toggleable__content {max-height: 200px;max-width: 100%;overflow: auto;}#sk-container-id-1 input.sk-toggleable__control:checked~label.sk-toggleable__label-arrow:before {content: \"▾\";}#sk-container-id-1 div.sk-estimator input.sk-toggleable__control:checked~label.sk-toggleable__label {background-color: #d4ebff;}#sk-container-id-1 div.sk-label input.sk-toggleable__control:checked~label.sk-toggleable__label {background-color: #d4ebff;}#sk-container-id-1 input.sk-hidden--visually {border: 0;clip: rect(1px 1px 1px 1px);clip: rect(1px, 1px, 1px, 1px);height: 1px;margin: -1px;overflow: hidden;padding: 0;position: absolute;width: 1px;}#sk-container-id-1 div.sk-estimator {font-family: monospace;background-color: #f0f8ff;border: 1px dotted black;border-radius: 0.25em;box-sizing: border-box;margin-bottom: 0.5em;}#sk-container-id-1 div.sk-estimator:hover {background-color: #d4ebff;}#sk-container-id-1 div.sk-parallel-item::after {content: \"\";width: 100%;border-bottom: 1px solid gray;flex-grow: 1;}#sk-container-id-1 div.sk-label:hover label.sk-toggleable__label {background-color: #d4ebff;}#sk-container-id-1 div.sk-serial::before {content: \"\";position: absolute;border-left: 1px solid gray;box-sizing: border-box;top: 0;bottom: 0;left: 50%;z-index: 0;}#sk-container-id-1 div.sk-serial {display: flex;flex-direction: column;align-items: center;background-color: white;padding-right: 0.2em;padding-left: 0.2em;position: relative;}#sk-container-id-1 div.sk-item {position: relative;z-index: 1;}#sk-container-id-1 div.sk-parallel {display: flex;align-items: stretch;justify-content: center;background-color: white;position: relative;}#sk-container-id-1 div.sk-item::before, #sk-container-id-1 div.sk-parallel-item::before {content: \"\";position: absolute;border-left: 1px solid gray;box-sizing: border-box;top: 0;bottom: 0;left: 50%;z-index: -1;}#sk-container-id-1 div.sk-parallel-item {display: flex;flex-direction: column;z-index: 1;position: relative;background-color: white;}#sk-container-id-1 div.sk-parallel-item:first-child::after {align-self: flex-end;width: 50%;}#sk-container-id-1 div.sk-parallel-item:last-child::after {align-self: flex-start;width: 50%;}#sk-container-id-1 div.sk-parallel-item:only-child::after {width: 0;}#sk-container-id-1 div.sk-dashed-wrapped {border: 1px dashed gray;margin: 0 0.4em 0.5em 0.4em;box-sizing: border-box;padding-bottom: 0.4em;background-color: white;}#sk-container-id-1 div.sk-label label {font-family: monospace;font-weight: bold;display: inline-block;line-height: 1.2em;}#sk-container-id-1 div.sk-label-container {text-align: center;}#sk-container-id-1 div.sk-container {/* jupyter's `normalize.less` sets `[hidden] { display: none; }` but bootstrap.min.css set `[hidden] { display: none !important; }` so we also need the `!important` here to be able to override the default hidden behavior on the sphinx rendered scikit-learn.org. See: https://github.com/scikit-learn/scikit-learn/issues/21755 */display: inline-block !important;position: relative;}#sk-container-id-1 div.sk-text-repr-fallback {display: none;}</style><div id=\"sk-container-id-1\" class=\"sk-top-container\"><div class=\"sk-text-repr-fallback\"><pre>LGBMClassifier()</pre><b>In a Jupyter environment, please rerun this cell to show the HTML representation or trust the notebook. <br />On GitHub, the HTML representation is unable to render, please try loading this page with nbviewer.org.</b></div><div class=\"sk-container\" hidden><div class=\"sk-item\"><div class=\"sk-estimator sk-toggleable\"><input class=\"sk-toggleable__control sk-hidden--visually\" id=\"sk-estimator-id-1\" type=\"checkbox\" checked><label for=\"sk-estimator-id-1\" class=\"sk-toggleable__label sk-toggleable__label-arrow\">LGBMClassifier</label><div class=\"sk-toggleable__content\"><pre>LGBMClassifier()</pre></div></div></div></div></div>"
            ]
          },
          "metadata": {},
          "execution_count": 189
        }
      ]
    },
    {
      "cell_type": "code",
      "source": [
        "preds_train = lr_model.predict(train_dummy)\n",
        "preds_val = lr_model.predict(val_dummy)"
      ],
      "metadata": {
        "id": "o65PUPwR9VKT"
      },
      "execution_count": 190,
      "outputs": []
    },
    {
      "cell_type": "code",
      "source": [
        "accuracy_score(d_train_data['target'], preds_train)"
      ],
      "metadata": {
        "colab": {
          "base_uri": "https://localhost:8080/"
        },
        "id": "clX1fYBLHorJ",
        "outputId": "368acc2f-1e66-4e70-c182-0c8fd4eb7ae1"
      },
      "execution_count": 191,
      "outputs": [
        {
          "output_type": "execute_result",
          "data": {
            "text/plain": [
              "0.9952380952380953"
            ]
          },
          "metadata": {},
          "execution_count": 191
        }
      ]
    },
    {
      "cell_type": "code",
      "source": [
        "accuracy_score(d_val_data['target'], preds_val)"
      ],
      "metadata": {
        "colab": {
          "base_uri": "https://localhost:8080/"
        },
        "id": "PRVazbwZKOda",
        "outputId": "9e4a00aa-92fa-4729-8bd2-d9345f542b16"
      },
      "execution_count": 192,
      "outputs": [
        {
          "output_type": "execute_result",
          "data": {
            "text/plain": [
              "0.824688115561392"
            ]
          },
          "metadata": {},
          "execution_count": 192
        }
      ]
    },
    {
      "cell_type": "code",
      "source": [
        "class TestData(Dataset):\n",
        "    def __init__(self, dataframe, tokenizer, max_len):\n",
        "        self.tokenizer = tokenizer\n",
        "        self.data = dataframe\n",
        "        self.text = dataframe.text\n",
        "        self.max_len = max_len\n",
        "\n",
        "    def __len__(self):\n",
        "        return len(self.text)\n",
        "\n",
        "    def __getitem__(self, index):\n",
        "        text = str(self.text[index])\n",
        "        text = \" \".join(text.split())\n",
        "\n",
        "        inputs = self.tokenizer.encode_plus(\n",
        "            text,\n",
        "            None,\n",
        "            add_special_tokens=True,\n",
        "            max_length=self.max_len,\n",
        "            truncation=True,\n",
        "            padding = 'max_length',\n",
        "            return_token_type_ids=True\n",
        "        )\n",
        "        ids = inputs['input_ids']\n",
        "        mask = inputs['attention_mask']\n",
        "        token_type_ids = inputs['token_type_ids']\n",
        "\n",
        "        return {\n",
        "            'ids': torch.tensor(ids, dtype=torch.long),\n",
        "            'mask': torch.tensor(mask, dtype=torch.long),\n",
        "            \"token_type_ids\": torch.tensor(token_type_ids, dtype=torch.long),\n",
        "        }\n",
        "    "
      ],
      "metadata": {
        "id": "6KT800HsKcBK"
      },
      "execution_count": 209,
      "outputs": []
    },
    {
      "cell_type": "code",
      "source": [
        "d1_test_select =  d_test[['text']].copy()\n",
        "d1_test_set = TestData(d1_test_select, tokenizer=tokenizer, max_len=MAX_LEN)\n",
        "d1_test_embed = DataLoader(d1_test_set, **test_params)"
      ],
      "metadata": {
        "id": "1_gDJlKOJMGW"
      },
      "execution_count": 210,
      "outputs": []
    },
    {
      "cell_type": "code",
      "source": [
        "def test_embed(data_loader, model):\n",
        "  count = 0\n",
        "  chunk_size = 1000  # process data in chunks of 1000 samples\n",
        "  tempdir = tempfile.TemporaryDirectory()\n",
        "\n",
        "  with torch.no_grad():\n",
        "      for i, batch in enumerate(tqdm(data_loader)):\n",
        "          input_ids = batch['ids'].to(device)\n",
        "          attention_mask = batch['mask'].to(device)\n",
        "          token_type_ids = batch['token_type_ids'].to(device)\n",
        "          output = model(input_ids, attention_mask=attention_mask, token_type_ids=token_type_ids)\n",
        "          hidden_states = output.last_hidden_state.cpu().detach().numpy()[:, 0, :]\n",
        "          np.save(os.path.join(tempdir.name, f'batch_{i}_hs.npy'), hidden_states)\n",
        "          count += 1\n",
        "          if count % chunk_size == 0:\n",
        "              print('Processed', count, 'samples')\n",
        "              # clear variables from memory to minimize RAM usage\n",
        "              del hidden_states\n",
        "              torch.cuda.empty_cache()\n",
        "\n",
        "  hidden_states = np.concatenate([np.load(os.path.join(tempdir.name, f'batch_{i}_hs.npy')) for i in range(count)], axis=0)\n",
        "\n",
        "  # cleanup temporary directory\n",
        "  tempdir.cleanup()\n",
        "  return hidden_states\n",
        "\n",
        "def predict_hydra_test(model, testing_loader):\n",
        "  model.eval()\n",
        "  d2_predicts = []\n",
        "\n",
        "  with torch.no_grad():\n",
        "      for _, data in enumerate(tqdm(testing_loader, 0)):\n",
        "          d1_ids = data['ids'].to(device, dtype = torch.long)\n",
        "          d1_mask = data['mask'].to(device, dtype = torch.long)\n",
        "          d1_token_type_ids = data['token_type_ids'].to(device, dtype = torch.long)\n",
        "\n",
        "          _, output2 = model(d1_ids, d1_mask, d1_token_type_ids)\n",
        "          \n",
        "          big_val_d2, big_idx_d2 = torch.max(output2.data, dim=1)\n",
        "          \n",
        "          for i in range(d1_ids.size(0)):\n",
        "              d2_predicts.append({\n",
        "                  \"predict\": big_idx_d2[i].item(),\n",
        "              })\n",
        "\n",
        "  d2_df = pd.DataFrame(d2_predicts)\n",
        "\n",
        "  return d2_df"
      ],
      "metadata": {
        "id": "nGSvR2XdI2Gu"
      },
      "execution_count": 211,
      "outputs": []
    },
    {
      "cell_type": "code",
      "source": [
        "test_hs = test_embed(d1_test_embed, model_embed)"
      ],
      "metadata": {
        "colab": {
          "base_uri": "https://localhost:8080/"
        },
        "id": "KESkc4O3JJpi",
        "outputId": "29096249-b878-45e4-9a1d-e6bc58d7dca0"
      },
      "execution_count": 212,
      "outputs": [
        {
          "output_type": "stream",
          "name": "stderr",
          "text": [
            "100%|██████████| 102/102 [01:32<00:00,  1.11it/s]\n"
          ]
        }
      ]
    },
    {
      "cell_type": "code",
      "source": [
        "test_t2_predict = predict_hydra_test(model_predict, d1_test_embed)"
      ],
      "metadata": {
        "colab": {
          "base_uri": "https://localhost:8080/"
        },
        "id": "G7jLWuZLZjYW",
        "outputId": "f48a40eb-5ef4-48d7-debb-d2fa358e5be0"
      },
      "execution_count": 213,
      "outputs": [
        {
          "output_type": "stream",
          "name": "stderr",
          "text": [
            "100%|██████████| 102/102 [01:35<00:00,  1.06it/s]\n"
          ]
        }
      ]
    },
    {
      "cell_type": "code",
      "source": [
        "test_embed = pd.DataFrame(test_hs)\n",
        "test_final = test_embed.merge(test_t2_predict, left_index=True, right_index=True, suffixes=(None, \"_y\"))\n",
        "test_dummy = pd.get_dummies(pd.get_dummies(test_final, columns=[\"predict\"]))"
      ],
      "metadata": {
        "id": "4zx-254heA5M"
      },
      "execution_count": 216,
      "outputs": []
    },
    {
      "cell_type": "code",
      "source": [
        "test_dummy.head()"
      ],
      "metadata": {
        "colab": {
          "base_uri": "https://localhost:8080/",
          "height": 299
        },
        "id": "6C8Dx789eU1A",
        "outputId": "d4308d7d-6146-4a47-902b-5dad1ff719d5"
      },
      "execution_count": 217,
      "outputs": [
        {
          "output_type": "execute_result",
          "data": {
            "text/plain": [
              "          0         1         2         3         4         5         6  \\\n",
              "0 -0.067277  0.064045 -0.033173 -0.111211  0.065364 -0.077322 -0.034924   \n",
              "1 -0.092448  0.081711  0.023413 -0.127079  0.083917 -0.047716  0.012487   \n",
              "2 -0.076121  0.057278 -0.004603 -0.133214  0.095727 -0.118897 -0.030438   \n",
              "3 -0.057225  0.104941  0.018109 -0.131439  0.034999 -0.101398 -0.027976   \n",
              "4 -0.036157  0.073315 -0.010222 -0.115423  0.029333 -0.114131 -0.051055   \n",
              "\n",
              "          7         8         9  ...       761       762       763       764  \\\n",
              "0  0.013256  0.052691 -0.073024  ... -0.066913  0.004809  0.123612  0.077959   \n",
              "1 -0.029307  0.052603 -0.108945  ... -0.079580  0.024306  0.105774  0.053831   \n",
              "2  0.067059  0.067372 -0.044591  ... -0.112548  0.040393  0.127375  0.074934   \n",
              "3 -0.004108  0.067663 -0.085326  ... -0.073679  0.027149  0.120939  0.081143   \n",
              "4 -0.004583  0.094787 -0.057387  ... -0.090771  0.026351  0.142421  0.096038   \n",
              "\n",
              "        765       766       767  predict_0  predict_1  predict_2  \n",
              "0 -0.067794 -0.064513 -0.010653          0          1          0  \n",
              "1 -0.076260 -0.050434 -0.043774          0          1          0  \n",
              "2 -0.102894 -0.090753 -0.013252          0          1          0  \n",
              "3 -0.075973 -0.037080 -0.014002          0          1          0  \n",
              "4 -0.054122 -0.093459 -0.019333          0          1          0  \n",
              "\n",
              "[5 rows x 771 columns]"
            ],
            "text/html": [
              "\n",
              "  <div id=\"df-b71ef5f5-131a-4ed0-a68d-47971f359b52\">\n",
              "    <div class=\"colab-df-container\">\n",
              "      <div>\n",
              "<style scoped>\n",
              "    .dataframe tbody tr th:only-of-type {\n",
              "        vertical-align: middle;\n",
              "    }\n",
              "\n",
              "    .dataframe tbody tr th {\n",
              "        vertical-align: top;\n",
              "    }\n",
              "\n",
              "    .dataframe thead th {\n",
              "        text-align: right;\n",
              "    }\n",
              "</style>\n",
              "<table border=\"1\" class=\"dataframe\">\n",
              "  <thead>\n",
              "    <tr style=\"text-align: right;\">\n",
              "      <th></th>\n",
              "      <th>0</th>\n",
              "      <th>1</th>\n",
              "      <th>2</th>\n",
              "      <th>3</th>\n",
              "      <th>4</th>\n",
              "      <th>5</th>\n",
              "      <th>6</th>\n",
              "      <th>7</th>\n",
              "      <th>8</th>\n",
              "      <th>9</th>\n",
              "      <th>...</th>\n",
              "      <th>761</th>\n",
              "      <th>762</th>\n",
              "      <th>763</th>\n",
              "      <th>764</th>\n",
              "      <th>765</th>\n",
              "      <th>766</th>\n",
              "      <th>767</th>\n",
              "      <th>predict_0</th>\n",
              "      <th>predict_1</th>\n",
              "      <th>predict_2</th>\n",
              "    </tr>\n",
              "  </thead>\n",
              "  <tbody>\n",
              "    <tr>\n",
              "      <th>0</th>\n",
              "      <td>-0.067277</td>\n",
              "      <td>0.064045</td>\n",
              "      <td>-0.033173</td>\n",
              "      <td>-0.111211</td>\n",
              "      <td>0.065364</td>\n",
              "      <td>-0.077322</td>\n",
              "      <td>-0.034924</td>\n",
              "      <td>0.013256</td>\n",
              "      <td>0.052691</td>\n",
              "      <td>-0.073024</td>\n",
              "      <td>...</td>\n",
              "      <td>-0.066913</td>\n",
              "      <td>0.004809</td>\n",
              "      <td>0.123612</td>\n",
              "      <td>0.077959</td>\n",
              "      <td>-0.067794</td>\n",
              "      <td>-0.064513</td>\n",
              "      <td>-0.010653</td>\n",
              "      <td>0</td>\n",
              "      <td>1</td>\n",
              "      <td>0</td>\n",
              "    </tr>\n",
              "    <tr>\n",
              "      <th>1</th>\n",
              "      <td>-0.092448</td>\n",
              "      <td>0.081711</td>\n",
              "      <td>0.023413</td>\n",
              "      <td>-0.127079</td>\n",
              "      <td>0.083917</td>\n",
              "      <td>-0.047716</td>\n",
              "      <td>0.012487</td>\n",
              "      <td>-0.029307</td>\n",
              "      <td>0.052603</td>\n",
              "      <td>-0.108945</td>\n",
              "      <td>...</td>\n",
              "      <td>-0.079580</td>\n",
              "      <td>0.024306</td>\n",
              "      <td>0.105774</td>\n",
              "      <td>0.053831</td>\n",
              "      <td>-0.076260</td>\n",
              "      <td>-0.050434</td>\n",
              "      <td>-0.043774</td>\n",
              "      <td>0</td>\n",
              "      <td>1</td>\n",
              "      <td>0</td>\n",
              "    </tr>\n",
              "    <tr>\n",
              "      <th>2</th>\n",
              "      <td>-0.076121</td>\n",
              "      <td>0.057278</td>\n",
              "      <td>-0.004603</td>\n",
              "      <td>-0.133214</td>\n",
              "      <td>0.095727</td>\n",
              "      <td>-0.118897</td>\n",
              "      <td>-0.030438</td>\n",
              "      <td>0.067059</td>\n",
              "      <td>0.067372</td>\n",
              "      <td>-0.044591</td>\n",
              "      <td>...</td>\n",
              "      <td>-0.112548</td>\n",
              "      <td>0.040393</td>\n",
              "      <td>0.127375</td>\n",
              "      <td>0.074934</td>\n",
              "      <td>-0.102894</td>\n",
              "      <td>-0.090753</td>\n",
              "      <td>-0.013252</td>\n",
              "      <td>0</td>\n",
              "      <td>1</td>\n",
              "      <td>0</td>\n",
              "    </tr>\n",
              "    <tr>\n",
              "      <th>3</th>\n",
              "      <td>-0.057225</td>\n",
              "      <td>0.104941</td>\n",
              "      <td>0.018109</td>\n",
              "      <td>-0.131439</td>\n",
              "      <td>0.034999</td>\n",
              "      <td>-0.101398</td>\n",
              "      <td>-0.027976</td>\n",
              "      <td>-0.004108</td>\n",
              "      <td>0.067663</td>\n",
              "      <td>-0.085326</td>\n",
              "      <td>...</td>\n",
              "      <td>-0.073679</td>\n",
              "      <td>0.027149</td>\n",
              "      <td>0.120939</td>\n",
              "      <td>0.081143</td>\n",
              "      <td>-0.075973</td>\n",
              "      <td>-0.037080</td>\n",
              "      <td>-0.014002</td>\n",
              "      <td>0</td>\n",
              "      <td>1</td>\n",
              "      <td>0</td>\n",
              "    </tr>\n",
              "    <tr>\n",
              "      <th>4</th>\n",
              "      <td>-0.036157</td>\n",
              "      <td>0.073315</td>\n",
              "      <td>-0.010222</td>\n",
              "      <td>-0.115423</td>\n",
              "      <td>0.029333</td>\n",
              "      <td>-0.114131</td>\n",
              "      <td>-0.051055</td>\n",
              "      <td>-0.004583</td>\n",
              "      <td>0.094787</td>\n",
              "      <td>-0.057387</td>\n",
              "      <td>...</td>\n",
              "      <td>-0.090771</td>\n",
              "      <td>0.026351</td>\n",
              "      <td>0.142421</td>\n",
              "      <td>0.096038</td>\n",
              "      <td>-0.054122</td>\n",
              "      <td>-0.093459</td>\n",
              "      <td>-0.019333</td>\n",
              "      <td>0</td>\n",
              "      <td>1</td>\n",
              "      <td>0</td>\n",
              "    </tr>\n",
              "  </tbody>\n",
              "</table>\n",
              "<p>5 rows × 771 columns</p>\n",
              "</div>\n",
              "      <button class=\"colab-df-convert\" onclick=\"convertToInteractive('df-b71ef5f5-131a-4ed0-a68d-47971f359b52')\"\n",
              "              title=\"Convert this dataframe to an interactive table.\"\n",
              "              style=\"display:none;\">\n",
              "        \n",
              "  <svg xmlns=\"http://www.w3.org/2000/svg\" height=\"24px\"viewBox=\"0 0 24 24\"\n",
              "       width=\"24px\">\n",
              "    <path d=\"M0 0h24v24H0V0z\" fill=\"none\"/>\n",
              "    <path d=\"M18.56 5.44l.94 2.06.94-2.06 2.06-.94-2.06-.94-.94-2.06-.94 2.06-2.06.94zm-11 1L8.5 8.5l.94-2.06 2.06-.94-2.06-.94L8.5 2.5l-.94 2.06-2.06.94zm10 10l.94 2.06.94-2.06 2.06-.94-2.06-.94-.94-2.06-.94 2.06-2.06.94z\"/><path d=\"M17.41 7.96l-1.37-1.37c-.4-.4-.92-.59-1.43-.59-.52 0-1.04.2-1.43.59L10.3 9.45l-7.72 7.72c-.78.78-.78 2.05 0 2.83L4 21.41c.39.39.9.59 1.41.59.51 0 1.02-.2 1.41-.59l7.78-7.78 2.81-2.81c.8-.78.8-2.07 0-2.86zM5.41 20L4 18.59l7.72-7.72 1.47 1.35L5.41 20z\"/>\n",
              "  </svg>\n",
              "      </button>\n",
              "      \n",
              "  <style>\n",
              "    .colab-df-container {\n",
              "      display:flex;\n",
              "      flex-wrap:wrap;\n",
              "      gap: 12px;\n",
              "    }\n",
              "\n",
              "    .colab-df-convert {\n",
              "      background-color: #E8F0FE;\n",
              "      border: none;\n",
              "      border-radius: 50%;\n",
              "      cursor: pointer;\n",
              "      display: none;\n",
              "      fill: #1967D2;\n",
              "      height: 32px;\n",
              "      padding: 0 0 0 0;\n",
              "      width: 32px;\n",
              "    }\n",
              "\n",
              "    .colab-df-convert:hover {\n",
              "      background-color: #E2EBFA;\n",
              "      box-shadow: 0px 1px 2px rgba(60, 64, 67, 0.3), 0px 1px 3px 1px rgba(60, 64, 67, 0.15);\n",
              "      fill: #174EA6;\n",
              "    }\n",
              "\n",
              "    [theme=dark] .colab-df-convert {\n",
              "      background-color: #3B4455;\n",
              "      fill: #D2E3FC;\n",
              "    }\n",
              "\n",
              "    [theme=dark] .colab-df-convert:hover {\n",
              "      background-color: #434B5C;\n",
              "      box-shadow: 0px 1px 3px 1px rgba(0, 0, 0, 0.15);\n",
              "      filter: drop-shadow(0px 1px 2px rgba(0, 0, 0, 0.3));\n",
              "      fill: #FFFFFF;\n",
              "    }\n",
              "  </style>\n",
              "\n",
              "      <script>\n",
              "        const buttonEl =\n",
              "          document.querySelector('#df-b71ef5f5-131a-4ed0-a68d-47971f359b52 button.colab-df-convert');\n",
              "        buttonEl.style.display =\n",
              "          google.colab.kernel.accessAllowed ? 'block' : 'none';\n",
              "\n",
              "        async function convertToInteractive(key) {\n",
              "          const element = document.querySelector('#df-b71ef5f5-131a-4ed0-a68d-47971f359b52');\n",
              "          const dataTable =\n",
              "            await google.colab.kernel.invokeFunction('convertToInteractive',\n",
              "                                                     [key], {});\n",
              "          if (!dataTable) return;\n",
              "\n",
              "          const docLinkHtml = 'Like what you see? Visit the ' +\n",
              "            '<a target=\"_blank\" href=https://colab.research.google.com/notebooks/data_table.ipynb>data table notebook</a>'\n",
              "            + ' to learn more about interactive tables.';\n",
              "          element.innerHTML = '';\n",
              "          dataTable['output_type'] = 'display_data';\n",
              "          await google.colab.output.renderOutput(dataTable, element);\n",
              "          const docLink = document.createElement('div');\n",
              "          docLink.innerHTML = docLinkHtml;\n",
              "          element.appendChild(docLink);\n",
              "        }\n",
              "      </script>\n",
              "    </div>\n",
              "  </div>\n",
              "  "
            ]
          },
          "metadata": {},
          "execution_count": 217
        }
      ]
    },
    {
      "cell_type": "code",
      "source": [
        "preds_test = lr_model.predict(test_dummy)"
      ],
      "metadata": {
        "id": "tBkGMNYZJESh"
      },
      "execution_count": 218,
      "outputs": []
    },
    {
      "cell_type": "code",
      "source": [
        "strat2_df = pd.DataFrame(preds_test,columns =[\"target\"])"
      ],
      "metadata": {
        "id": "PJ9jDFFROgam"
      },
      "execution_count": 219,
      "outputs": []
    },
    {
      "cell_type": "code",
      "source": [
        "strat2_df['target'].value_counts()"
      ],
      "metadata": {
        "colab": {
          "base_uri": "https://localhost:8080/"
        },
        "id": "PP8ox-bVPiLv",
        "outputId": "510c5d06-5c39-492b-a325-2fc9db6bdfe4"
      },
      "execution_count": 220,
      "outputs": [
        {
          "output_type": "execute_result",
          "data": {
            "text/plain": [
              "0    2078\n",
              "1    1185\n",
              "Name: target, dtype: int64"
            ]
          },
          "metadata": {},
          "execution_count": 220
        }
      ]
    },
    {
      "cell_type": "code",
      "source": [
        " # Matching the predictions indices to the Kaggle sample submission indices\n",
        "strat2_df.reset_index(inplace=True)\n",
        "test = d_test_orig[[\"id\"]].copy()\n",
        "strat2 = test.merge(strat2_df, left_index=True, right_index=True)\n",
        "strat2.drop(labels=[\"index\"],axis=1,inplace=True)\n",
        "strat2.set_index(\"id\",inplace=True)\n",
        "\n",
        "strat2.to_csv(\"/content/drive/MyDrive/BT5151/group_project/strat2_test.csv\")"
      ],
      "metadata": {
        "id": "tzFtdcjsOSTs"
      },
      "execution_count": 221,
      "outputs": []
    },
    {
      "cell_type": "code",
      "source": [
        "strat2.head()"
      ],
      "metadata": {
        "colab": {
          "base_uri": "https://localhost:8080/",
          "height": 237
        },
        "id": "LqjN3vPlPKjC",
        "outputId": "14636589-22d6-4950-fa34-cfb9df91a8a8"
      },
      "execution_count": 222,
      "outputs": [
        {
          "output_type": "execute_result",
          "data": {
            "text/plain": [
              "    target\n",
              "id        \n",
              "0        1\n",
              "2        1\n",
              "3        1\n",
              "9        1\n",
              "11       1"
            ],
            "text/html": [
              "\n",
              "  <div id=\"df-f16623f6-6e59-4533-aabe-46c0dea4d534\">\n",
              "    <div class=\"colab-df-container\">\n",
              "      <div>\n",
              "<style scoped>\n",
              "    .dataframe tbody tr th:only-of-type {\n",
              "        vertical-align: middle;\n",
              "    }\n",
              "\n",
              "    .dataframe tbody tr th {\n",
              "        vertical-align: top;\n",
              "    }\n",
              "\n",
              "    .dataframe thead th {\n",
              "        text-align: right;\n",
              "    }\n",
              "</style>\n",
              "<table border=\"1\" class=\"dataframe\">\n",
              "  <thead>\n",
              "    <tr style=\"text-align: right;\">\n",
              "      <th></th>\n",
              "      <th>target</th>\n",
              "    </tr>\n",
              "    <tr>\n",
              "      <th>id</th>\n",
              "      <th></th>\n",
              "    </tr>\n",
              "  </thead>\n",
              "  <tbody>\n",
              "    <tr>\n",
              "      <th>0</th>\n",
              "      <td>1</td>\n",
              "    </tr>\n",
              "    <tr>\n",
              "      <th>2</th>\n",
              "      <td>1</td>\n",
              "    </tr>\n",
              "    <tr>\n",
              "      <th>3</th>\n",
              "      <td>1</td>\n",
              "    </tr>\n",
              "    <tr>\n",
              "      <th>9</th>\n",
              "      <td>1</td>\n",
              "    </tr>\n",
              "    <tr>\n",
              "      <th>11</th>\n",
              "      <td>1</td>\n",
              "    </tr>\n",
              "  </tbody>\n",
              "</table>\n",
              "</div>\n",
              "      <button class=\"colab-df-convert\" onclick=\"convertToInteractive('df-f16623f6-6e59-4533-aabe-46c0dea4d534')\"\n",
              "              title=\"Convert this dataframe to an interactive table.\"\n",
              "              style=\"display:none;\">\n",
              "        \n",
              "  <svg xmlns=\"http://www.w3.org/2000/svg\" height=\"24px\"viewBox=\"0 0 24 24\"\n",
              "       width=\"24px\">\n",
              "    <path d=\"M0 0h24v24H0V0z\" fill=\"none\"/>\n",
              "    <path d=\"M18.56 5.44l.94 2.06.94-2.06 2.06-.94-2.06-.94-.94-2.06-.94 2.06-2.06.94zm-11 1L8.5 8.5l.94-2.06 2.06-.94-2.06-.94L8.5 2.5l-.94 2.06-2.06.94zm10 10l.94 2.06.94-2.06 2.06-.94-2.06-.94-.94-2.06-.94 2.06-2.06.94z\"/><path d=\"M17.41 7.96l-1.37-1.37c-.4-.4-.92-.59-1.43-.59-.52 0-1.04.2-1.43.59L10.3 9.45l-7.72 7.72c-.78.78-.78 2.05 0 2.83L4 21.41c.39.39.9.59 1.41.59.51 0 1.02-.2 1.41-.59l7.78-7.78 2.81-2.81c.8-.78.8-2.07 0-2.86zM5.41 20L4 18.59l7.72-7.72 1.47 1.35L5.41 20z\"/>\n",
              "  </svg>\n",
              "      </button>\n",
              "      \n",
              "  <style>\n",
              "    .colab-df-container {\n",
              "      display:flex;\n",
              "      flex-wrap:wrap;\n",
              "      gap: 12px;\n",
              "    }\n",
              "\n",
              "    .colab-df-convert {\n",
              "      background-color: #E8F0FE;\n",
              "      border: none;\n",
              "      border-radius: 50%;\n",
              "      cursor: pointer;\n",
              "      display: none;\n",
              "      fill: #1967D2;\n",
              "      height: 32px;\n",
              "      padding: 0 0 0 0;\n",
              "      width: 32px;\n",
              "    }\n",
              "\n",
              "    .colab-df-convert:hover {\n",
              "      background-color: #E2EBFA;\n",
              "      box-shadow: 0px 1px 2px rgba(60, 64, 67, 0.3), 0px 1px 3px 1px rgba(60, 64, 67, 0.15);\n",
              "      fill: #174EA6;\n",
              "    }\n",
              "\n",
              "    [theme=dark] .colab-df-convert {\n",
              "      background-color: #3B4455;\n",
              "      fill: #D2E3FC;\n",
              "    }\n",
              "\n",
              "    [theme=dark] .colab-df-convert:hover {\n",
              "      background-color: #434B5C;\n",
              "      box-shadow: 0px 1px 3px 1px rgba(0, 0, 0, 0.15);\n",
              "      filter: drop-shadow(0px 1px 2px rgba(0, 0, 0, 0.3));\n",
              "      fill: #FFFFFF;\n",
              "    }\n",
              "  </style>\n",
              "\n",
              "      <script>\n",
              "        const buttonEl =\n",
              "          document.querySelector('#df-f16623f6-6e59-4533-aabe-46c0dea4d534 button.colab-df-convert');\n",
              "        buttonEl.style.display =\n",
              "          google.colab.kernel.accessAllowed ? 'block' : 'none';\n",
              "\n",
              "        async function convertToInteractive(key) {\n",
              "          const element = document.querySelector('#df-f16623f6-6e59-4533-aabe-46c0dea4d534');\n",
              "          const dataTable =\n",
              "            await google.colab.kernel.invokeFunction('convertToInteractive',\n",
              "                                                     [key], {});\n",
              "          if (!dataTable) return;\n",
              "\n",
              "          const docLinkHtml = 'Like what you see? Visit the ' +\n",
              "            '<a target=\"_blank\" href=https://colab.research.google.com/notebooks/data_table.ipynb>data table notebook</a>'\n",
              "            + ' to learn more about interactive tables.';\n",
              "          element.innerHTML = '';\n",
              "          dataTable['output_type'] = 'display_data';\n",
              "          await google.colab.output.renderOutput(dataTable, element);\n",
              "          const docLink = document.createElement('div');\n",
              "          docLink.innerHTML = docLinkHtml;\n",
              "          element.appendChild(docLink);\n",
              "        }\n",
              "      </script>\n",
              "    </div>\n",
              "  </div>\n",
              "  "
            ]
          },
          "metadata": {},
          "execution_count": 222
        }
      ]
    },
    {
      "cell_type": "markdown",
      "source": [
        "![start2.png](data:image/png;base64,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)"
      ],
      "metadata": {
        "id": "hR5MzEwKvoVe"
      }
    },
    {
      "cell_type": "code",
      "source": [],
      "metadata": {
        "id": "9ycAWkKRQC4O"
      },
      "execution_count": null,
      "outputs": []
    }
  ]
}