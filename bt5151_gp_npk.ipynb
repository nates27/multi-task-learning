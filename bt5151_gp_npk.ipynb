{
  "metadata": {
    "kernelspec": {
      "language": "python",
      "display_name": "Python 3",
      "name": "python3"
    },
    "language_info": {
      "name": "python",
      "version": "3.7.12",
      "mimetype": "text/x-python",
      "codemirror_mode": {
        "name": "ipython",
        "version": 3
      },
      "pygments_lexer": "ipython3",
      "nbconvert_exporter": "python",
      "file_extension": ".py"
    },
    "colab": {
      "provenance": [],
      "gpuType": "T4",
      "include_colab_link": true
    },
    "gpuClass": "standard",
    "widgets": {
      "application/vnd.jupyter.widget-state+json": {
        "bc1234e0e56a4c8a9d1b76203591eb97": {
          "model_module": "@jupyter-widgets/controls",
          "model_name": "HBoxModel",
          "model_module_version": "1.5.0",
          "state": {
            "_dom_classes": [],
            "_model_module": "@jupyter-widgets/controls",
            "_model_module_version": "1.5.0",
            "_model_name": "HBoxModel",
            "_view_count": null,
            "_view_module": "@jupyter-widgets/controls",
            "_view_module_version": "1.5.0",
            "_view_name": "HBoxView",
            "box_style": "",
            "children": [
              "IPY_MODEL_2b346b6ad60c4400932053fa53edf13c",
              "IPY_MODEL_8352302606684e6a876783d109923533",
              "IPY_MODEL_9cc5d23397aa42cabf9b6d775a85daf7"
            ],
            "layout": "IPY_MODEL_77c8a39eba1345bd995039f2860a6cfc"
          }
        },
        "2b346b6ad60c4400932053fa53edf13c": {
          "model_module": "@jupyter-widgets/controls",
          "model_name": "HTMLModel",
          "model_module_version": "1.5.0",
          "state": {
            "_dom_classes": [],
            "_model_module": "@jupyter-widgets/controls",
            "_model_module_version": "1.5.0",
            "_model_name": "HTMLModel",
            "_view_count": null,
            "_view_module": "@jupyter-widgets/controls",
            "_view_module_version": "1.5.0",
            "_view_name": "HTMLView",
            "description": "",
            "description_tooltip": null,
            "layout": "IPY_MODEL_1ffb92e689ad4182be512a3b178aedf8",
            "placeholder": "​",
            "style": "IPY_MODEL_7571cfc35098410aa5abaac5d1a2eb8e",
            "value": "Downloading (…)olve/main/vocab.json: 100%"
          }
        },
        "8352302606684e6a876783d109923533": {
          "model_module": "@jupyter-widgets/controls",
          "model_name": "FloatProgressModel",
          "model_module_version": "1.5.0",
          "state": {
            "_dom_classes": [],
            "_model_module": "@jupyter-widgets/controls",
            "_model_module_version": "1.5.0",
            "_model_name": "FloatProgressModel",
            "_view_count": null,
            "_view_module": "@jupyter-widgets/controls",
            "_view_module_version": "1.5.0",
            "_view_name": "ProgressView",
            "bar_style": "success",
            "description": "",
            "description_tooltip": null,
            "layout": "IPY_MODEL_1b75f835d51a4d56899b869a17d323d7",
            "max": 898823,
            "min": 0,
            "orientation": "horizontal",
            "style": "IPY_MODEL_8916ff31aaef41ec9752fde2f4835609",
            "value": 898823
          }
        },
        "9cc5d23397aa42cabf9b6d775a85daf7": {
          "model_module": "@jupyter-widgets/controls",
          "model_name": "HTMLModel",
          "model_module_version": "1.5.0",
          "state": {
            "_dom_classes": [],
            "_model_module": "@jupyter-widgets/controls",
            "_model_module_version": "1.5.0",
            "_model_name": "HTMLModel",
            "_view_count": null,
            "_view_module": "@jupyter-widgets/controls",
            "_view_module_version": "1.5.0",
            "_view_name": "HTMLView",
            "description": "",
            "description_tooltip": null,
            "layout": "IPY_MODEL_d2cba86518a146af8f9f34e8d6f1988e",
            "placeholder": "​",
            "style": "IPY_MODEL_2bfdc0757e3449a8a17dcc6a35255e52",
            "value": " 899k/899k [00:00&lt;00:00, 11.3MB/s]"
          }
        },
        "77c8a39eba1345bd995039f2860a6cfc": {
          "model_module": "@jupyter-widgets/base",
          "model_name": "LayoutModel",
          "model_module_version": "1.2.0",
          "state": {
            "_model_module": "@jupyter-widgets/base",
            "_model_module_version": "1.2.0",
            "_model_name": "LayoutModel",
            "_view_count": null,
            "_view_module": "@jupyter-widgets/base",
            "_view_module_version": "1.2.0",
            "_view_name": "LayoutView",
            "align_content": null,
            "align_items": null,
            "align_self": null,
            "border": null,
            "bottom": null,
            "display": null,
            "flex": null,
            "flex_flow": null,
            "grid_area": null,
            "grid_auto_columns": null,
            "grid_auto_flow": null,
            "grid_auto_rows": null,
            "grid_column": null,
            "grid_gap": null,
            "grid_row": null,
            "grid_template_areas": null,
            "grid_template_columns": null,
            "grid_template_rows": null,
            "height": null,
            "justify_content": null,
            "justify_items": null,
            "left": null,
            "margin": null,
            "max_height": null,
            "max_width": null,
            "min_height": null,
            "min_width": null,
            "object_fit": null,
            "object_position": null,
            "order": null,
            "overflow": null,
            "overflow_x": null,
            "overflow_y": null,
            "padding": null,
            "right": null,
            "top": null,
            "visibility": null,
            "width": null
          }
        },
        "1ffb92e689ad4182be512a3b178aedf8": {
          "model_module": "@jupyter-widgets/base",
          "model_name": "LayoutModel",
          "model_module_version": "1.2.0",
          "state": {
            "_model_module": "@jupyter-widgets/base",
            "_model_module_version": "1.2.0",
            "_model_name": "LayoutModel",
            "_view_count": null,
            "_view_module": "@jupyter-widgets/base",
            "_view_module_version": "1.2.0",
            "_view_name": "LayoutView",
            "align_content": null,
            "align_items": null,
            "align_self": null,
            "border": null,
            "bottom": null,
            "display": null,
            "flex": null,
            "flex_flow": null,
            "grid_area": null,
            "grid_auto_columns": null,
            "grid_auto_flow": null,
            "grid_auto_rows": null,
            "grid_column": null,
            "grid_gap": null,
            "grid_row": null,
            "grid_template_areas": null,
            "grid_template_columns": null,
            "grid_template_rows": null,
            "height": null,
            "justify_content": null,
            "justify_items": null,
            "left": null,
            "margin": null,
            "max_height": null,
            "max_width": null,
            "min_height": null,
            "min_width": null,
            "object_fit": null,
            "object_position": null,
            "order": null,
            "overflow": null,
            "overflow_x": null,
            "overflow_y": null,
            "padding": null,
            "right": null,
            "top": null,
            "visibility": null,
            "width": null
          }
        },
        "7571cfc35098410aa5abaac5d1a2eb8e": {
          "model_module": "@jupyter-widgets/controls",
          "model_name": "DescriptionStyleModel",
          "model_module_version": "1.5.0",
          "state": {
            "_model_module": "@jupyter-widgets/controls",
            "_model_module_version": "1.5.0",
            "_model_name": "DescriptionStyleModel",
            "_view_count": null,
            "_view_module": "@jupyter-widgets/base",
            "_view_module_version": "1.2.0",
            "_view_name": "StyleView",
            "description_width": ""
          }
        },
        "1b75f835d51a4d56899b869a17d323d7": {
          "model_module": "@jupyter-widgets/base",
          "model_name": "LayoutModel",
          "model_module_version": "1.2.0",
          "state": {
            "_model_module": "@jupyter-widgets/base",
            "_model_module_version": "1.2.0",
            "_model_name": "LayoutModel",
            "_view_count": null,
            "_view_module": "@jupyter-widgets/base",
            "_view_module_version": "1.2.0",
            "_view_name": "LayoutView",
            "align_content": null,
            "align_items": null,
            "align_self": null,
            "border": null,
            "bottom": null,
            "display": null,
            "flex": null,
            "flex_flow": null,
            "grid_area": null,
            "grid_auto_columns": null,
            "grid_auto_flow": null,
            "grid_auto_rows": null,
            "grid_column": null,
            "grid_gap": null,
            "grid_row": null,
            "grid_template_areas": null,
            "grid_template_columns": null,
            "grid_template_rows": null,
            "height": null,
            "justify_content": null,
            "justify_items": null,
            "left": null,
            "margin": null,
            "max_height": null,
            "max_width": null,
            "min_height": null,
            "min_width": null,
            "object_fit": null,
            "object_position": null,
            "order": null,
            "overflow": null,
            "overflow_x": null,
            "overflow_y": null,
            "padding": null,
            "right": null,
            "top": null,
            "visibility": null,
            "width": null
          }
        },
        "8916ff31aaef41ec9752fde2f4835609": {
          "model_module": "@jupyter-widgets/controls",
          "model_name": "ProgressStyleModel",
          "model_module_version": "1.5.0",
          "state": {
            "_model_module": "@jupyter-widgets/controls",
            "_model_module_version": "1.5.0",
            "_model_name": "ProgressStyleModel",
            "_view_count": null,
            "_view_module": "@jupyter-widgets/base",
            "_view_module_version": "1.2.0",
            "_view_name": "StyleView",
            "bar_color": null,
            "description_width": ""
          }
        },
        "d2cba86518a146af8f9f34e8d6f1988e": {
          "model_module": "@jupyter-widgets/base",
          "model_name": "LayoutModel",
          "model_module_version": "1.2.0",
          "state": {
            "_model_module": "@jupyter-widgets/base",
            "_model_module_version": "1.2.0",
            "_model_name": "LayoutModel",
            "_view_count": null,
            "_view_module": "@jupyter-widgets/base",
            "_view_module_version": "1.2.0",
            "_view_name": "LayoutView",
            "align_content": null,
            "align_items": null,
            "align_self": null,
            "border": null,
            "bottom": null,
            "display": null,
            "flex": null,
            "flex_flow": null,
            "grid_area": null,
            "grid_auto_columns": null,
            "grid_auto_flow": null,
            "grid_auto_rows": null,
            "grid_column": null,
            "grid_gap": null,
            "grid_row": null,
            "grid_template_areas": null,
            "grid_template_columns": null,
            "grid_template_rows": null,
            "height": null,
            "justify_content": null,
            "justify_items": null,
            "left": null,
            "margin": null,
            "max_height": null,
            "max_width": null,
            "min_height": null,
            "min_width": null,
            "object_fit": null,
            "object_position": null,
            "order": null,
            "overflow": null,
            "overflow_x": null,
            "overflow_y": null,
            "padding": null,
            "right": null,
            "top": null,
            "visibility": null,
            "width": null
          }
        },
        "2bfdc0757e3449a8a17dcc6a35255e52": {
          "model_module": "@jupyter-widgets/controls",
          "model_name": "DescriptionStyleModel",
          "model_module_version": "1.5.0",
          "state": {
            "_model_module": "@jupyter-widgets/controls",
            "_model_module_version": "1.5.0",
            "_model_name": "DescriptionStyleModel",
            "_view_count": null,
            "_view_module": "@jupyter-widgets/base",
            "_view_module_version": "1.2.0",
            "_view_name": "StyleView",
            "description_width": ""
          }
        },
        "f5039c92dcd9449097ae796dbe2a0982": {
          "model_module": "@jupyter-widgets/controls",
          "model_name": "HBoxModel",
          "model_module_version": "1.5.0",
          "state": {
            "_dom_classes": [],
            "_model_module": "@jupyter-widgets/controls",
            "_model_module_version": "1.5.0",
            "_model_name": "HBoxModel",
            "_view_count": null,
            "_view_module": "@jupyter-widgets/controls",
            "_view_module_version": "1.5.0",
            "_view_name": "HBoxView",
            "box_style": "",
            "children": [
              "IPY_MODEL_670c9d7564ce40d1b8266d3e6d9615b9",
              "IPY_MODEL_791e10120df14b77ac5a72de5a3009fe",
              "IPY_MODEL_d7749d420234485f99322cd797d671c1"
            ],
            "layout": "IPY_MODEL_8b48ebad246a43b583e0593146e54e83"
          }
        },
        "670c9d7564ce40d1b8266d3e6d9615b9": {
          "model_module": "@jupyter-widgets/controls",
          "model_name": "HTMLModel",
          "model_module_version": "1.5.0",
          "state": {
            "_dom_classes": [],
            "_model_module": "@jupyter-widgets/controls",
            "_model_module_version": "1.5.0",
            "_model_name": "HTMLModel",
            "_view_count": null,
            "_view_module": "@jupyter-widgets/controls",
            "_view_module_version": "1.5.0",
            "_view_name": "HTMLView",
            "description": "",
            "description_tooltip": null,
            "layout": "IPY_MODEL_069d4425b24d43b59c99caac53de5550",
            "placeholder": "​",
            "style": "IPY_MODEL_7c81c2597d8640609ab705074b2c67f8",
            "value": "Downloading (…)olve/main/merges.txt: 100%"
          }
        },
        "791e10120df14b77ac5a72de5a3009fe": {
          "model_module": "@jupyter-widgets/controls",
          "model_name": "FloatProgressModel",
          "model_module_version": "1.5.0",
          "state": {
            "_dom_classes": [],
            "_model_module": "@jupyter-widgets/controls",
            "_model_module_version": "1.5.0",
            "_model_name": "FloatProgressModel",
            "_view_count": null,
            "_view_module": "@jupyter-widgets/controls",
            "_view_module_version": "1.5.0",
            "_view_name": "ProgressView",
            "bar_style": "success",
            "description": "",
            "description_tooltip": null,
            "layout": "IPY_MODEL_6f13e01d8d8343a0bee78165a73a917a",
            "max": 456318,
            "min": 0,
            "orientation": "horizontal",
            "style": "IPY_MODEL_739811d7eaff47369a467c89e374306e",
            "value": 456318
          }
        },
        "d7749d420234485f99322cd797d671c1": {
          "model_module": "@jupyter-widgets/controls",
          "model_name": "HTMLModel",
          "model_module_version": "1.5.0",
          "state": {
            "_dom_classes": [],
            "_model_module": "@jupyter-widgets/controls",
            "_model_module_version": "1.5.0",
            "_model_name": "HTMLModel",
            "_view_count": null,
            "_view_module": "@jupyter-widgets/controls",
            "_view_module_version": "1.5.0",
            "_view_name": "HTMLView",
            "description": "",
            "description_tooltip": null,
            "layout": "IPY_MODEL_e952febe136d4384a27852cf798f45d6",
            "placeholder": "​",
            "style": "IPY_MODEL_731f8b0ccd1d4b1f8bef1fcc92a4c717",
            "value": " 456k/456k [00:00&lt;00:00, 669kB/s]"
          }
        },
        "8b48ebad246a43b583e0593146e54e83": {
          "model_module": "@jupyter-widgets/base",
          "model_name": "LayoutModel",
          "model_module_version": "1.2.0",
          "state": {
            "_model_module": "@jupyter-widgets/base",
            "_model_module_version": "1.2.0",
            "_model_name": "LayoutModel",
            "_view_count": null,
            "_view_module": "@jupyter-widgets/base",
            "_view_module_version": "1.2.0",
            "_view_name": "LayoutView",
            "align_content": null,
            "align_items": null,
            "align_self": null,
            "border": null,
            "bottom": null,
            "display": null,
            "flex": null,
            "flex_flow": null,
            "grid_area": null,
            "grid_auto_columns": null,
            "grid_auto_flow": null,
            "grid_auto_rows": null,
            "grid_column": null,
            "grid_gap": null,
            "grid_row": null,
            "grid_template_areas": null,
            "grid_template_columns": null,
            "grid_template_rows": null,
            "height": null,
            "justify_content": null,
            "justify_items": null,
            "left": null,
            "margin": null,
            "max_height": null,
            "max_width": null,
            "min_height": null,
            "min_width": null,
            "object_fit": null,
            "object_position": null,
            "order": null,
            "overflow": null,
            "overflow_x": null,
            "overflow_y": null,
            "padding": null,
            "right": null,
            "top": null,
            "visibility": null,
            "width": null
          }
        },
        "069d4425b24d43b59c99caac53de5550": {
          "model_module": "@jupyter-widgets/base",
          "model_name": "LayoutModel",
          "model_module_version": "1.2.0",
          "state": {
            "_model_module": "@jupyter-widgets/base",
            "_model_module_version": "1.2.0",
            "_model_name": "LayoutModel",
            "_view_count": null,
            "_view_module": "@jupyter-widgets/base",
            "_view_module_version": "1.2.0",
            "_view_name": "LayoutView",
            "align_content": null,
            "align_items": null,
            "align_self": null,
            "border": null,
            "bottom": null,
            "display": null,
            "flex": null,
            "flex_flow": null,
            "grid_area": null,
            "grid_auto_columns": null,
            "grid_auto_flow": null,
            "grid_auto_rows": null,
            "grid_column": null,
            "grid_gap": null,
            "grid_row": null,
            "grid_template_areas": null,
            "grid_template_columns": null,
            "grid_template_rows": null,
            "height": null,
            "justify_content": null,
            "justify_items": null,
            "left": null,
            "margin": null,
            "max_height": null,
            "max_width": null,
            "min_height": null,
            "min_width": null,
            "object_fit": null,
            "object_position": null,
            "order": null,
            "overflow": null,
            "overflow_x": null,
            "overflow_y": null,
            "padding": null,
            "right": null,
            "top": null,
            "visibility": null,
            "width": null
          }
        },
        "7c81c2597d8640609ab705074b2c67f8": {
          "model_module": "@jupyter-widgets/controls",
          "model_name": "DescriptionStyleModel",
          "model_module_version": "1.5.0",
          "state": {
            "_model_module": "@jupyter-widgets/controls",
            "_model_module_version": "1.5.0",
            "_model_name": "DescriptionStyleModel",
            "_view_count": null,
            "_view_module": "@jupyter-widgets/base",
            "_view_module_version": "1.2.0",
            "_view_name": "StyleView",
            "description_width": ""
          }
        },
        "6f13e01d8d8343a0bee78165a73a917a": {
          "model_module": "@jupyter-widgets/base",
          "model_name": "LayoutModel",
          "model_module_version": "1.2.0",
          "state": {
            "_model_module": "@jupyter-widgets/base",
            "_model_module_version": "1.2.0",
            "_model_name": "LayoutModel",
            "_view_count": null,
            "_view_module": "@jupyter-widgets/base",
            "_view_module_version": "1.2.0",
            "_view_name": "LayoutView",
            "align_content": null,
            "align_items": null,
            "align_self": null,
            "border": null,
            "bottom": null,
            "display": null,
            "flex": null,
            "flex_flow": null,
            "grid_area": null,
            "grid_auto_columns": null,
            "grid_auto_flow": null,
            "grid_auto_rows": null,
            "grid_column": null,
            "grid_gap": null,
            "grid_row": null,
            "grid_template_areas": null,
            "grid_template_columns": null,
            "grid_template_rows": null,
            "height": null,
            "justify_content": null,
            "justify_items": null,
            "left": null,
            "margin": null,
            "max_height": null,
            "max_width": null,
            "min_height": null,
            "min_width": null,
            "object_fit": null,
            "object_position": null,
            "order": null,
            "overflow": null,
            "overflow_x": null,
            "overflow_y": null,
            "padding": null,
            "right": null,
            "top": null,
            "visibility": null,
            "width": null
          }
        },
        "739811d7eaff47369a467c89e374306e": {
          "model_module": "@jupyter-widgets/controls",
          "model_name": "ProgressStyleModel",
          "model_module_version": "1.5.0",
          "state": {
            "_model_module": "@jupyter-widgets/controls",
            "_model_module_version": "1.5.0",
            "_model_name": "ProgressStyleModel",
            "_view_count": null,
            "_view_module": "@jupyter-widgets/base",
            "_view_module_version": "1.2.0",
            "_view_name": "StyleView",
            "bar_color": null,
            "description_width": ""
          }
        },
        "e952febe136d4384a27852cf798f45d6": {
          "model_module": "@jupyter-widgets/base",
          "model_name": "LayoutModel",
          "model_module_version": "1.2.0",
          "state": {
            "_model_module": "@jupyter-widgets/base",
            "_model_module_version": "1.2.0",
            "_model_name": "LayoutModel",
            "_view_count": null,
            "_view_module": "@jupyter-widgets/base",
            "_view_module_version": "1.2.0",
            "_view_name": "LayoutView",
            "align_content": null,
            "align_items": null,
            "align_self": null,
            "border": null,
            "bottom": null,
            "display": null,
            "flex": null,
            "flex_flow": null,
            "grid_area": null,
            "grid_auto_columns": null,
            "grid_auto_flow": null,
            "grid_auto_rows": null,
            "grid_column": null,
            "grid_gap": null,
            "grid_row": null,
            "grid_template_areas": null,
            "grid_template_columns": null,
            "grid_template_rows": null,
            "height": null,
            "justify_content": null,
            "justify_items": null,
            "left": null,
            "margin": null,
            "max_height": null,
            "max_width": null,
            "min_height": null,
            "min_width": null,
            "object_fit": null,
            "object_position": null,
            "order": null,
            "overflow": null,
            "overflow_x": null,
            "overflow_y": null,
            "padding": null,
            "right": null,
            "top": null,
            "visibility": null,
            "width": null
          }
        },
        "731f8b0ccd1d4b1f8bef1fcc92a4c717": {
          "model_module": "@jupyter-widgets/controls",
          "model_name": "DescriptionStyleModel",
          "model_module_version": "1.5.0",
          "state": {
            "_model_module": "@jupyter-widgets/controls",
            "_model_module_version": "1.5.0",
            "_model_name": "DescriptionStyleModel",
            "_view_count": null,
            "_view_module": "@jupyter-widgets/base",
            "_view_module_version": "1.2.0",
            "_view_name": "StyleView",
            "description_width": ""
          }
        },
        "8d487ae849fb4f32bb0e6c2109d2bc82": {
          "model_module": "@jupyter-widgets/controls",
          "model_name": "HBoxModel",
          "model_module_version": "1.5.0",
          "state": {
            "_dom_classes": [],
            "_model_module": "@jupyter-widgets/controls",
            "_model_module_version": "1.5.0",
            "_model_name": "HBoxModel",
            "_view_count": null,
            "_view_module": "@jupyter-widgets/controls",
            "_view_module_version": "1.5.0",
            "_view_name": "HBoxView",
            "box_style": "",
            "children": [
              "IPY_MODEL_8889841493b74cdca6e4321a5b3df0b2",
              "IPY_MODEL_0e52519a5f3a4f21a93882dd1ce91668",
              "IPY_MODEL_92975a9bfe9b46fb9a08426f45fedf3c"
            ],
            "layout": "IPY_MODEL_013aa9f424c04ad4a138b1bd168d30b4"
          }
        },
        "8889841493b74cdca6e4321a5b3df0b2": {
          "model_module": "@jupyter-widgets/controls",
          "model_name": "HTMLModel",
          "model_module_version": "1.5.0",
          "state": {
            "_dom_classes": [],
            "_model_module": "@jupyter-widgets/controls",
            "_model_module_version": "1.5.0",
            "_model_name": "HTMLModel",
            "_view_count": null,
            "_view_module": "@jupyter-widgets/controls",
            "_view_module_version": "1.5.0",
            "_view_name": "HTMLView",
            "description": "",
            "description_tooltip": null,
            "layout": "IPY_MODEL_0de6b4370c8e4b64a96573252da412f6",
            "placeholder": "​",
            "style": "IPY_MODEL_5d0dc85db87a4d9baf39018e0f7cef70",
            "value": "Downloading (…)lve/main/config.json: 100%"
          }
        },
        "0e52519a5f3a4f21a93882dd1ce91668": {
          "model_module": "@jupyter-widgets/controls",
          "model_name": "FloatProgressModel",
          "model_module_version": "1.5.0",
          "state": {
            "_dom_classes": [],
            "_model_module": "@jupyter-widgets/controls",
            "_model_module_version": "1.5.0",
            "_model_name": "FloatProgressModel",
            "_view_count": null,
            "_view_module": "@jupyter-widgets/controls",
            "_view_module_version": "1.5.0",
            "_view_name": "ProgressView",
            "bar_style": "success",
            "description": "",
            "description_tooltip": null,
            "layout": "IPY_MODEL_68e4621e1e204eab8014d301040e5d6d",
            "max": 482,
            "min": 0,
            "orientation": "horizontal",
            "style": "IPY_MODEL_3eafa8d85e94455e8376bde48423d370",
            "value": 482
          }
        },
        "92975a9bfe9b46fb9a08426f45fedf3c": {
          "model_module": "@jupyter-widgets/controls",
          "model_name": "HTMLModel",
          "model_module_version": "1.5.0",
          "state": {
            "_dom_classes": [],
            "_model_module": "@jupyter-widgets/controls",
            "_model_module_version": "1.5.0",
            "_model_name": "HTMLModel",
            "_view_count": null,
            "_view_module": "@jupyter-widgets/controls",
            "_view_module_version": "1.5.0",
            "_view_name": "HTMLView",
            "description": "",
            "description_tooltip": null,
            "layout": "IPY_MODEL_0ea99d98b7f145cc851c84a5df151c0c",
            "placeholder": "​",
            "style": "IPY_MODEL_9bb191b1174249f08221d87d47f2b8cd",
            "value": " 482/482 [00:00&lt;00:00, 10.8kB/s]"
          }
        },
        "013aa9f424c04ad4a138b1bd168d30b4": {
          "model_module": "@jupyter-widgets/base",
          "model_name": "LayoutModel",
          "model_module_version": "1.2.0",
          "state": {
            "_model_module": "@jupyter-widgets/base",
            "_model_module_version": "1.2.0",
            "_model_name": "LayoutModel",
            "_view_count": null,
            "_view_module": "@jupyter-widgets/base",
            "_view_module_version": "1.2.0",
            "_view_name": "LayoutView",
            "align_content": null,
            "align_items": null,
            "align_self": null,
            "border": null,
            "bottom": null,
            "display": null,
            "flex": null,
            "flex_flow": null,
            "grid_area": null,
            "grid_auto_columns": null,
            "grid_auto_flow": null,
            "grid_auto_rows": null,
            "grid_column": null,
            "grid_gap": null,
            "grid_row": null,
            "grid_template_areas": null,
            "grid_template_columns": null,
            "grid_template_rows": null,
            "height": null,
            "justify_content": null,
            "justify_items": null,
            "left": null,
            "margin": null,
            "max_height": null,
            "max_width": null,
            "min_height": null,
            "min_width": null,
            "object_fit": null,
            "object_position": null,
            "order": null,
            "overflow": null,
            "overflow_x": null,
            "overflow_y": null,
            "padding": null,
            "right": null,
            "top": null,
            "visibility": null,
            "width": null
          }
        },
        "0de6b4370c8e4b64a96573252da412f6": {
          "model_module": "@jupyter-widgets/base",
          "model_name": "LayoutModel",
          "model_module_version": "1.2.0",
          "state": {
            "_model_module": "@jupyter-widgets/base",
            "_model_module_version": "1.2.0",
            "_model_name": "LayoutModel",
            "_view_count": null,
            "_view_module": "@jupyter-widgets/base",
            "_view_module_version": "1.2.0",
            "_view_name": "LayoutView",
            "align_content": null,
            "align_items": null,
            "align_self": null,
            "border": null,
            "bottom": null,
            "display": null,
            "flex": null,
            "flex_flow": null,
            "grid_area": null,
            "grid_auto_columns": null,
            "grid_auto_flow": null,
            "grid_auto_rows": null,
            "grid_column": null,
            "grid_gap": null,
            "grid_row": null,
            "grid_template_areas": null,
            "grid_template_columns": null,
            "grid_template_rows": null,
            "height": null,
            "justify_content": null,
            "justify_items": null,
            "left": null,
            "margin": null,
            "max_height": null,
            "max_width": null,
            "min_height": null,
            "min_width": null,
            "object_fit": null,
            "object_position": null,
            "order": null,
            "overflow": null,
            "overflow_x": null,
            "overflow_y": null,
            "padding": null,
            "right": null,
            "top": null,
            "visibility": null,
            "width": null
          }
        },
        "5d0dc85db87a4d9baf39018e0f7cef70": {
          "model_module": "@jupyter-widgets/controls",
          "model_name": "DescriptionStyleModel",
          "model_module_version": "1.5.0",
          "state": {
            "_model_module": "@jupyter-widgets/controls",
            "_model_module_version": "1.5.0",
            "_model_name": "DescriptionStyleModel",
            "_view_count": null,
            "_view_module": "@jupyter-widgets/base",
            "_view_module_version": "1.2.0",
            "_view_name": "StyleView",
            "description_width": ""
          }
        },
        "68e4621e1e204eab8014d301040e5d6d": {
          "model_module": "@jupyter-widgets/base",
          "model_name": "LayoutModel",
          "model_module_version": "1.2.0",
          "state": {
            "_model_module": "@jupyter-widgets/base",
            "_model_module_version": "1.2.0",
            "_model_name": "LayoutModel",
            "_view_count": null,
            "_view_module": "@jupyter-widgets/base",
            "_view_module_version": "1.2.0",
            "_view_name": "LayoutView",
            "align_content": null,
            "align_items": null,
            "align_self": null,
            "border": null,
            "bottom": null,
            "display": null,
            "flex": null,
            "flex_flow": null,
            "grid_area": null,
            "grid_auto_columns": null,
            "grid_auto_flow": null,
            "grid_auto_rows": null,
            "grid_column": null,
            "grid_gap": null,
            "grid_row": null,
            "grid_template_areas": null,
            "grid_template_columns": null,
            "grid_template_rows": null,
            "height": null,
            "justify_content": null,
            "justify_items": null,
            "left": null,
            "margin": null,
            "max_height": null,
            "max_width": null,
            "min_height": null,
            "min_width": null,
            "object_fit": null,
            "object_position": null,
            "order": null,
            "overflow": null,
            "overflow_x": null,
            "overflow_y": null,
            "padding": null,
            "right": null,
            "top": null,
            "visibility": null,
            "width": null
          }
        },
        "3eafa8d85e94455e8376bde48423d370": {
          "model_module": "@jupyter-widgets/controls",
          "model_name": "ProgressStyleModel",
          "model_module_version": "1.5.0",
          "state": {
            "_model_module": "@jupyter-widgets/controls",
            "_model_module_version": "1.5.0",
            "_model_name": "ProgressStyleModel",
            "_view_count": null,
            "_view_module": "@jupyter-widgets/base",
            "_view_module_version": "1.2.0",
            "_view_name": "StyleView",
            "bar_color": null,
            "description_width": ""
          }
        },
        "0ea99d98b7f145cc851c84a5df151c0c": {
          "model_module": "@jupyter-widgets/base",
          "model_name": "LayoutModel",
          "model_module_version": "1.2.0",
          "state": {
            "_model_module": "@jupyter-widgets/base",
            "_model_module_version": "1.2.0",
            "_model_name": "LayoutModel",
            "_view_count": null,
            "_view_module": "@jupyter-widgets/base",
            "_view_module_version": "1.2.0",
            "_view_name": "LayoutView",
            "align_content": null,
            "align_items": null,
            "align_self": null,
            "border": null,
            "bottom": null,
            "display": null,
            "flex": null,
            "flex_flow": null,
            "grid_area": null,
            "grid_auto_columns": null,
            "grid_auto_flow": null,
            "grid_auto_rows": null,
            "grid_column": null,
            "grid_gap": null,
            "grid_row": null,
            "grid_template_areas": null,
            "grid_template_columns": null,
            "grid_template_rows": null,
            "height": null,
            "justify_content": null,
            "justify_items": null,
            "left": null,
            "margin": null,
            "max_height": null,
            "max_width": null,
            "min_height": null,
            "min_width": null,
            "object_fit": null,
            "object_position": null,
            "order": null,
            "overflow": null,
            "overflow_x": null,
            "overflow_y": null,
            "padding": null,
            "right": null,
            "top": null,
            "visibility": null,
            "width": null
          }
        },
        "9bb191b1174249f08221d87d47f2b8cd": {
          "model_module": "@jupyter-widgets/controls",
          "model_name": "DescriptionStyleModel",
          "model_module_version": "1.5.0",
          "state": {
            "_model_module": "@jupyter-widgets/controls",
            "_model_module_version": "1.5.0",
            "_model_name": "DescriptionStyleModel",
            "_view_count": null,
            "_view_module": "@jupyter-widgets/base",
            "_view_module_version": "1.2.0",
            "_view_name": "StyleView",
            "description_width": ""
          }
        },
        "a32993d9580740f89ef52792ccde2f80": {
          "model_module": "@jupyter-widgets/controls",
          "model_name": "HBoxModel",
          "model_module_version": "1.5.0",
          "state": {
            "_dom_classes": [],
            "_model_module": "@jupyter-widgets/controls",
            "_model_module_version": "1.5.0",
            "_model_name": "HBoxModel",
            "_view_count": null,
            "_view_module": "@jupyter-widgets/controls",
            "_view_module_version": "1.5.0",
            "_view_name": "HBoxView",
            "box_style": "",
            "children": [
              "IPY_MODEL_64c5e03553b94190bdf1a5ea8c75d678",
              "IPY_MODEL_ce9b49321ace4b9e90544de892908ad2",
              "IPY_MODEL_c33e93c7591f44d5a4488f7cf7e9aba5"
            ],
            "layout": "IPY_MODEL_84438c7ecd6d474d8e2895294841a432"
          }
        },
        "64c5e03553b94190bdf1a5ea8c75d678": {
          "model_module": "@jupyter-widgets/controls",
          "model_name": "HTMLModel",
          "model_module_version": "1.5.0",
          "state": {
            "_dom_classes": [],
            "_model_module": "@jupyter-widgets/controls",
            "_model_module_version": "1.5.0",
            "_model_name": "HTMLModel",
            "_view_count": null,
            "_view_module": "@jupyter-widgets/controls",
            "_view_module_version": "1.5.0",
            "_view_name": "HTMLView",
            "description": "",
            "description_tooltip": null,
            "layout": "IPY_MODEL_06ff10c966d9450ba8ca58efee27dff1",
            "placeholder": "​",
            "style": "IPY_MODEL_dbb2cb38307440eab83eada4917afbd2",
            "value": "Downloading (…)lve/main/config.json: 100%"
          }
        },
        "ce9b49321ace4b9e90544de892908ad2": {
          "model_module": "@jupyter-widgets/controls",
          "model_name": "FloatProgressModel",
          "model_module_version": "1.5.0",
          "state": {
            "_dom_classes": [],
            "_model_module": "@jupyter-widgets/controls",
            "_model_module_version": "1.5.0",
            "_model_name": "FloatProgressModel",
            "_view_count": null,
            "_view_module": "@jupyter-widgets/controls",
            "_view_module_version": "1.5.0",
            "_view_name": "ProgressView",
            "bar_style": "success",
            "description": "",
            "description_tooltip": null,
            "layout": "IPY_MODEL_e2d14388b78e4a7f81150ed1529dd98d",
            "max": 687,
            "min": 0,
            "orientation": "horizontal",
            "style": "IPY_MODEL_5917ab1321a44dda9622e3988ca95adc",
            "value": 687
          }
        },
        "c33e93c7591f44d5a4488f7cf7e9aba5": {
          "model_module": "@jupyter-widgets/controls",
          "model_name": "HTMLModel",
          "model_module_version": "1.5.0",
          "state": {
            "_dom_classes": [],
            "_model_module": "@jupyter-widgets/controls",
            "_model_module_version": "1.5.0",
            "_model_name": "HTMLModel",
            "_view_count": null,
            "_view_module": "@jupyter-widgets/controls",
            "_view_module_version": "1.5.0",
            "_view_name": "HTMLView",
            "description": "",
            "description_tooltip": null,
            "layout": "IPY_MODEL_b04a392f0c69497b97040df8bd693f23",
            "placeholder": "​",
            "style": "IPY_MODEL_c725082867d34f2485cf514a6cd9ca0f",
            "value": " 687/687 [00:00&lt;00:00, 10.3kB/s]"
          }
        },
        "84438c7ecd6d474d8e2895294841a432": {
          "model_module": "@jupyter-widgets/base",
          "model_name": "LayoutModel",
          "model_module_version": "1.2.0",
          "state": {
            "_model_module": "@jupyter-widgets/base",
            "_model_module_version": "1.2.0",
            "_model_name": "LayoutModel",
            "_view_count": null,
            "_view_module": "@jupyter-widgets/base",
            "_view_module_version": "1.2.0",
            "_view_name": "LayoutView",
            "align_content": null,
            "align_items": null,
            "align_self": null,
            "border": null,
            "bottom": null,
            "display": null,
            "flex": null,
            "flex_flow": null,
            "grid_area": null,
            "grid_auto_columns": null,
            "grid_auto_flow": null,
            "grid_auto_rows": null,
            "grid_column": null,
            "grid_gap": null,
            "grid_row": null,
            "grid_template_areas": null,
            "grid_template_columns": null,
            "grid_template_rows": null,
            "height": null,
            "justify_content": null,
            "justify_items": null,
            "left": null,
            "margin": null,
            "max_height": null,
            "max_width": null,
            "min_height": null,
            "min_width": null,
            "object_fit": null,
            "object_position": null,
            "order": null,
            "overflow": null,
            "overflow_x": null,
            "overflow_y": null,
            "padding": null,
            "right": null,
            "top": null,
            "visibility": null,
            "width": null
          }
        },
        "06ff10c966d9450ba8ca58efee27dff1": {
          "model_module": "@jupyter-widgets/base",
          "model_name": "LayoutModel",
          "model_module_version": "1.2.0",
          "state": {
            "_model_module": "@jupyter-widgets/base",
            "_model_module_version": "1.2.0",
            "_model_name": "LayoutModel",
            "_view_count": null,
            "_view_module": "@jupyter-widgets/base",
            "_view_module_version": "1.2.0",
            "_view_name": "LayoutView",
            "align_content": null,
            "align_items": null,
            "align_self": null,
            "border": null,
            "bottom": null,
            "display": null,
            "flex": null,
            "flex_flow": null,
            "grid_area": null,
            "grid_auto_columns": null,
            "grid_auto_flow": null,
            "grid_auto_rows": null,
            "grid_column": null,
            "grid_gap": null,
            "grid_row": null,
            "grid_template_areas": null,
            "grid_template_columns": null,
            "grid_template_rows": null,
            "height": null,
            "justify_content": null,
            "justify_items": null,
            "left": null,
            "margin": null,
            "max_height": null,
            "max_width": null,
            "min_height": null,
            "min_width": null,
            "object_fit": null,
            "object_position": null,
            "order": null,
            "overflow": null,
            "overflow_x": null,
            "overflow_y": null,
            "padding": null,
            "right": null,
            "top": null,
            "visibility": null,
            "width": null
          }
        },
        "dbb2cb38307440eab83eada4917afbd2": {
          "model_module": "@jupyter-widgets/controls",
          "model_name": "DescriptionStyleModel",
          "model_module_version": "1.5.0",
          "state": {
            "_model_module": "@jupyter-widgets/controls",
            "_model_module_version": "1.5.0",
            "_model_name": "DescriptionStyleModel",
            "_view_count": null,
            "_view_module": "@jupyter-widgets/base",
            "_view_module_version": "1.2.0",
            "_view_name": "StyleView",
            "description_width": ""
          }
        },
        "e2d14388b78e4a7f81150ed1529dd98d": {
          "model_module": "@jupyter-widgets/base",
          "model_name": "LayoutModel",
          "model_module_version": "1.2.0",
          "state": {
            "_model_module": "@jupyter-widgets/base",
            "_model_module_version": "1.2.0",
            "_model_name": "LayoutModel",
            "_view_count": null,
            "_view_module": "@jupyter-widgets/base",
            "_view_module_version": "1.2.0",
            "_view_name": "LayoutView",
            "align_content": null,
            "align_items": null,
            "align_self": null,
            "border": null,
            "bottom": null,
            "display": null,
            "flex": null,
            "flex_flow": null,
            "grid_area": null,
            "grid_auto_columns": null,
            "grid_auto_flow": null,
            "grid_auto_rows": null,
            "grid_column": null,
            "grid_gap": null,
            "grid_row": null,
            "grid_template_areas": null,
            "grid_template_columns": null,
            "grid_template_rows": null,
            "height": null,
            "justify_content": null,
            "justify_items": null,
            "left": null,
            "margin": null,
            "max_height": null,
            "max_width": null,
            "min_height": null,
            "min_width": null,
            "object_fit": null,
            "object_position": null,
            "order": null,
            "overflow": null,
            "overflow_x": null,
            "overflow_y": null,
            "padding": null,
            "right": null,
            "top": null,
            "visibility": null,
            "width": null
          }
        },
        "5917ab1321a44dda9622e3988ca95adc": {
          "model_module": "@jupyter-widgets/controls",
          "model_name": "ProgressStyleModel",
          "model_module_version": "1.5.0",
          "state": {
            "_model_module": "@jupyter-widgets/controls",
            "_model_module_version": "1.5.0",
            "_model_name": "ProgressStyleModel",
            "_view_count": null,
            "_view_module": "@jupyter-widgets/base",
            "_view_module_version": "1.2.0",
            "_view_name": "StyleView",
            "bar_color": null,
            "description_width": ""
          }
        },
        "b04a392f0c69497b97040df8bd693f23": {
          "model_module": "@jupyter-widgets/base",
          "model_name": "LayoutModel",
          "model_module_version": "1.2.0",
          "state": {
            "_model_module": "@jupyter-widgets/base",
            "_model_module_version": "1.2.0",
            "_model_name": "LayoutModel",
            "_view_count": null,
            "_view_module": "@jupyter-widgets/base",
            "_view_module_version": "1.2.0",
            "_view_name": "LayoutView",
            "align_content": null,
            "align_items": null,
            "align_self": null,
            "border": null,
            "bottom": null,
            "display": null,
            "flex": null,
            "flex_flow": null,
            "grid_area": null,
            "grid_auto_columns": null,
            "grid_auto_flow": null,
            "grid_auto_rows": null,
            "grid_column": null,
            "grid_gap": null,
            "grid_row": null,
            "grid_template_areas": null,
            "grid_template_columns": null,
            "grid_template_rows": null,
            "height": null,
            "justify_content": null,
            "justify_items": null,
            "left": null,
            "margin": null,
            "max_height": null,
            "max_width": null,
            "min_height": null,
            "min_width": null,
            "object_fit": null,
            "object_position": null,
            "order": null,
            "overflow": null,
            "overflow_x": null,
            "overflow_y": null,
            "padding": null,
            "right": null,
            "top": null,
            "visibility": null,
            "width": null
          }
        },
        "c725082867d34f2485cf514a6cd9ca0f": {
          "model_module": "@jupyter-widgets/controls",
          "model_name": "DescriptionStyleModel",
          "model_module_version": "1.5.0",
          "state": {
            "_model_module": "@jupyter-widgets/controls",
            "_model_module_version": "1.5.0",
            "_model_name": "DescriptionStyleModel",
            "_view_count": null,
            "_view_module": "@jupyter-widgets/base",
            "_view_module_version": "1.2.0",
            "_view_name": "StyleView",
            "description_width": ""
          }
        },
        "0ff2e58a68ee4f6c88ff879cc42d93cd": {
          "model_module": "@jupyter-widgets/controls",
          "model_name": "HBoxModel",
          "model_module_version": "1.5.0",
          "state": {
            "_dom_classes": [],
            "_model_module": "@jupyter-widgets/controls",
            "_model_module_version": "1.5.0",
            "_model_name": "HBoxModel",
            "_view_count": null,
            "_view_module": "@jupyter-widgets/controls",
            "_view_module_version": "1.5.0",
            "_view_name": "HBoxView",
            "box_style": "",
            "children": [
              "IPY_MODEL_ef11df7346f643a891e845d6635b5128",
              "IPY_MODEL_7cd5cd90bd8c44aeb30c7249b80d7ceb",
              "IPY_MODEL_387bf1951a684530ae6ce43e63fd0141"
            ],
            "layout": "IPY_MODEL_562dc4b857764245a446c425aa6be478"
          }
        },
        "ef11df7346f643a891e845d6635b5128": {
          "model_module": "@jupyter-widgets/controls",
          "model_name": "HTMLModel",
          "model_module_version": "1.5.0",
          "state": {
            "_dom_classes": [],
            "_model_module": "@jupyter-widgets/controls",
            "_model_module_version": "1.5.0",
            "_model_name": "HTMLModel",
            "_view_count": null,
            "_view_module": "@jupyter-widgets/controls",
            "_view_module_version": "1.5.0",
            "_view_name": "HTMLView",
            "description": "",
            "description_tooltip": null,
            "layout": "IPY_MODEL_597fec788d8e449890df3c4382b76f48",
            "placeholder": "​",
            "style": "IPY_MODEL_1c388b26c1bd4465a06529fcab0ce1ce",
            "value": "Downloading pytorch_model.bin: 100%"
          }
        },
        "7cd5cd90bd8c44aeb30c7249b80d7ceb": {
          "model_module": "@jupyter-widgets/controls",
          "model_name": "FloatProgressModel",
          "model_module_version": "1.5.0",
          "state": {
            "_dom_classes": [],
            "_model_module": "@jupyter-widgets/controls",
            "_model_module_version": "1.5.0",
            "_model_name": "FloatProgressModel",
            "_view_count": null,
            "_view_module": "@jupyter-widgets/controls",
            "_view_module_version": "1.5.0",
            "_view_name": "ProgressView",
            "bar_style": "success",
            "description": "",
            "description_tooltip": null,
            "layout": "IPY_MODEL_d5212d37e3c94c62a0f845ca84296f6e",
            "max": 1421616707,
            "min": 0,
            "orientation": "horizontal",
            "style": "IPY_MODEL_69846a58f2f349b19d73b2bad5dbcfb1",
            "value": 1421616707
          }
        },
        "387bf1951a684530ae6ce43e63fd0141": {
          "model_module": "@jupyter-widgets/controls",
          "model_name": "HTMLModel",
          "model_module_version": "1.5.0",
          "state": {
            "_dom_classes": [],
            "_model_module": "@jupyter-widgets/controls",
            "_model_module_version": "1.5.0",
            "_model_name": "HTMLModel",
            "_view_count": null,
            "_view_module": "@jupyter-widgets/controls",
            "_view_module_version": "1.5.0",
            "_view_name": "HTMLView",
            "description": "",
            "description_tooltip": null,
            "layout": "IPY_MODEL_53057a5c0fbb40f586b971deb9b58631",
            "placeholder": "​",
            "style": "IPY_MODEL_e190a1d8004140cb888d469460dd4ce4",
            "value": " 1.42G/1.42G [01:21&lt;00:00, 15.7MB/s]"
          }
        },
        "562dc4b857764245a446c425aa6be478": {
          "model_module": "@jupyter-widgets/base",
          "model_name": "LayoutModel",
          "model_module_version": "1.2.0",
          "state": {
            "_model_module": "@jupyter-widgets/base",
            "_model_module_version": "1.2.0",
            "_model_name": "LayoutModel",
            "_view_count": null,
            "_view_module": "@jupyter-widgets/base",
            "_view_module_version": "1.2.0",
            "_view_name": "LayoutView",
            "align_content": null,
            "align_items": null,
            "align_self": null,
            "border": null,
            "bottom": null,
            "display": null,
            "flex": null,
            "flex_flow": null,
            "grid_area": null,
            "grid_auto_columns": null,
            "grid_auto_flow": null,
            "grid_auto_rows": null,
            "grid_column": null,
            "grid_gap": null,
            "grid_row": null,
            "grid_template_areas": null,
            "grid_template_columns": null,
            "grid_template_rows": null,
            "height": null,
            "justify_content": null,
            "justify_items": null,
            "left": null,
            "margin": null,
            "max_height": null,
            "max_width": null,
            "min_height": null,
            "min_width": null,
            "object_fit": null,
            "object_position": null,
            "order": null,
            "overflow": null,
            "overflow_x": null,
            "overflow_y": null,
            "padding": null,
            "right": null,
            "top": null,
            "visibility": null,
            "width": null
          }
        },
        "597fec788d8e449890df3c4382b76f48": {
          "model_module": "@jupyter-widgets/base",
          "model_name": "LayoutModel",
          "model_module_version": "1.2.0",
          "state": {
            "_model_module": "@jupyter-widgets/base",
            "_model_module_version": "1.2.0",
            "_model_name": "LayoutModel",
            "_view_count": null,
            "_view_module": "@jupyter-widgets/base",
            "_view_module_version": "1.2.0",
            "_view_name": "LayoutView",
            "align_content": null,
            "align_items": null,
            "align_self": null,
            "border": null,
            "bottom": null,
            "display": null,
            "flex": null,
            "flex_flow": null,
            "grid_area": null,
            "grid_auto_columns": null,
            "grid_auto_flow": null,
            "grid_auto_rows": null,
            "grid_column": null,
            "grid_gap": null,
            "grid_row": null,
            "grid_template_areas": null,
            "grid_template_columns": null,
            "grid_template_rows": null,
            "height": null,
            "justify_content": null,
            "justify_items": null,
            "left": null,
            "margin": null,
            "max_height": null,
            "max_width": null,
            "min_height": null,
            "min_width": null,
            "object_fit": null,
            "object_position": null,
            "order": null,
            "overflow": null,
            "overflow_x": null,
            "overflow_y": null,
            "padding": null,
            "right": null,
            "top": null,
            "visibility": null,
            "width": null
          }
        },
        "1c388b26c1bd4465a06529fcab0ce1ce": {
          "model_module": "@jupyter-widgets/controls",
          "model_name": "DescriptionStyleModel",
          "model_module_version": "1.5.0",
          "state": {
            "_model_module": "@jupyter-widgets/controls",
            "_model_module_version": "1.5.0",
            "_model_name": "DescriptionStyleModel",
            "_view_count": null,
            "_view_module": "@jupyter-widgets/base",
            "_view_module_version": "1.2.0",
            "_view_name": "StyleView",
            "description_width": ""
          }
        },
        "d5212d37e3c94c62a0f845ca84296f6e": {
          "model_module": "@jupyter-widgets/base",
          "model_name": "LayoutModel",
          "model_module_version": "1.2.0",
          "state": {
            "_model_module": "@jupyter-widgets/base",
            "_model_module_version": "1.2.0",
            "_model_name": "LayoutModel",
            "_view_count": null,
            "_view_module": "@jupyter-widgets/base",
            "_view_module_version": "1.2.0",
            "_view_name": "LayoutView",
            "align_content": null,
            "align_items": null,
            "align_self": null,
            "border": null,
            "bottom": null,
            "display": null,
            "flex": null,
            "flex_flow": null,
            "grid_area": null,
            "grid_auto_columns": null,
            "grid_auto_flow": null,
            "grid_auto_rows": null,
            "grid_column": null,
            "grid_gap": null,
            "grid_row": null,
            "grid_template_areas": null,
            "grid_template_columns": null,
            "grid_template_rows": null,
            "height": null,
            "justify_content": null,
            "justify_items": null,
            "left": null,
            "margin": null,
            "max_height": null,
            "max_width": null,
            "min_height": null,
            "min_width": null,
            "object_fit": null,
            "object_position": null,
            "order": null,
            "overflow": null,
            "overflow_x": null,
            "overflow_y": null,
            "padding": null,
            "right": null,
            "top": null,
            "visibility": null,
            "width": null
          }
        },
        "69846a58f2f349b19d73b2bad5dbcfb1": {
          "model_module": "@jupyter-widgets/controls",
          "model_name": "ProgressStyleModel",
          "model_module_version": "1.5.0",
          "state": {
            "_model_module": "@jupyter-widgets/controls",
            "_model_module_version": "1.5.0",
            "_model_name": "ProgressStyleModel",
            "_view_count": null,
            "_view_module": "@jupyter-widgets/base",
            "_view_module_version": "1.2.0",
            "_view_name": "StyleView",
            "bar_color": null,
            "description_width": ""
          }
        },
        "53057a5c0fbb40f586b971deb9b58631": {
          "model_module": "@jupyter-widgets/base",
          "model_name": "LayoutModel",
          "model_module_version": "1.2.0",
          "state": {
            "_model_module": "@jupyter-widgets/base",
            "_model_module_version": "1.2.0",
            "_model_name": "LayoutModel",
            "_view_count": null,
            "_view_module": "@jupyter-widgets/base",
            "_view_module_version": "1.2.0",
            "_view_name": "LayoutView",
            "align_content": null,
            "align_items": null,
            "align_self": null,
            "border": null,
            "bottom": null,
            "display": null,
            "flex": null,
            "flex_flow": null,
            "grid_area": null,
            "grid_auto_columns": null,
            "grid_auto_flow": null,
            "grid_auto_rows": null,
            "grid_column": null,
            "grid_gap": null,
            "grid_row": null,
            "grid_template_areas": null,
            "grid_template_columns": null,
            "grid_template_rows": null,
            "height": null,
            "justify_content": null,
            "justify_items": null,
            "left": null,
            "margin": null,
            "max_height": null,
            "max_width": null,
            "min_height": null,
            "min_width": null,
            "object_fit": null,
            "object_position": null,
            "order": null,
            "overflow": null,
            "overflow_x": null,
            "overflow_y": null,
            "padding": null,
            "right": null,
            "top": null,
            "visibility": null,
            "width": null
          }
        },
        "e190a1d8004140cb888d469460dd4ce4": {
          "model_module": "@jupyter-widgets/controls",
          "model_name": "DescriptionStyleModel",
          "model_module_version": "1.5.0",
          "state": {
            "_model_module": "@jupyter-widgets/controls",
            "_model_module_version": "1.5.0",
            "_model_name": "DescriptionStyleModel",
            "_view_count": null,
            "_view_module": "@jupyter-widgets/base",
            "_view_module_version": "1.2.0",
            "_view_name": "StyleView",
            "description_width": ""
          }
        },
        "befb5fbccd4c4857ac8203be8f52dbb6": {
          "model_module": "@jupyter-widgets/controls",
          "model_name": "HBoxModel",
          "model_module_version": "1.5.0",
          "state": {
            "_dom_classes": [],
            "_model_module": "@jupyter-widgets/controls",
            "_model_module_version": "1.5.0",
            "_model_name": "HBoxModel",
            "_view_count": null,
            "_view_module": "@jupyter-widgets/controls",
            "_view_module_version": "1.5.0",
            "_view_name": "HBoxView",
            "box_style": "",
            "children": [
              "IPY_MODEL_6993a426362d409782771af930ace696",
              "IPY_MODEL_71a21ac874d04e228da13f49ecf952d2",
              "IPY_MODEL_f7f3495c6e5048de843dad57af6f1b18"
            ],
            "layout": "IPY_MODEL_3d68b5dc845c4f5c8fdedd8b5bd89b2b"
          }
        },
        "6993a426362d409782771af930ace696": {
          "model_module": "@jupyter-widgets/controls",
          "model_name": "HTMLModel",
          "model_module_version": "1.5.0",
          "state": {
            "_dom_classes": [],
            "_model_module": "@jupyter-widgets/controls",
            "_model_module_version": "1.5.0",
            "_model_name": "HTMLModel",
            "_view_count": null,
            "_view_module": "@jupyter-widgets/controls",
            "_view_module_version": "1.5.0",
            "_view_name": "HTMLView",
            "description": "",
            "description_tooltip": null,
            "layout": "IPY_MODEL_9ea3d688e6c7445999874bc1ea42f632",
            "placeholder": "​",
            "style": "IPY_MODEL_362be651012b4177bfe4f4afa8415e89",
            "value": "Downloading builder script: 100%"
          }
        },
        "71a21ac874d04e228da13f49ecf952d2": {
          "model_module": "@jupyter-widgets/controls",
          "model_name": "FloatProgressModel",
          "model_module_version": "1.5.0",
          "state": {
            "_dom_classes": [],
            "_model_module": "@jupyter-widgets/controls",
            "_model_module_version": "1.5.0",
            "_model_name": "FloatProgressModel",
            "_view_count": null,
            "_view_module": "@jupyter-widgets/controls",
            "_view_module_version": "1.5.0",
            "_view_name": "ProgressView",
            "bar_style": "success",
            "description": "",
            "description_tooltip": null,
            "layout": "IPY_MODEL_4f892905f1174816a10fbfc79f484080",
            "max": 4203,
            "min": 0,
            "orientation": "horizontal",
            "style": "IPY_MODEL_d46ad2f56d7f4b0fa7af80591e98ce74",
            "value": 4203
          }
        },
        "f7f3495c6e5048de843dad57af6f1b18": {
          "model_module": "@jupyter-widgets/controls",
          "model_name": "HTMLModel",
          "model_module_version": "1.5.0",
          "state": {
            "_dom_classes": [],
            "_model_module": "@jupyter-widgets/controls",
            "_model_module_version": "1.5.0",
            "_model_name": "HTMLModel",
            "_view_count": null,
            "_view_module": "@jupyter-widgets/controls",
            "_view_module_version": "1.5.0",
            "_view_name": "HTMLView",
            "description": "",
            "description_tooltip": null,
            "layout": "IPY_MODEL_c91109a36e1f46c9b424a5e1b4eb66dd",
            "placeholder": "​",
            "style": "IPY_MODEL_29204b1c8dde425c91b43b78c9c0d97f",
            "value": " 4.20k/4.20k [00:00&lt;00:00, 221kB/s]"
          }
        },
        "3d68b5dc845c4f5c8fdedd8b5bd89b2b": {
          "model_module": "@jupyter-widgets/base",
          "model_name": "LayoutModel",
          "model_module_version": "1.2.0",
          "state": {
            "_model_module": "@jupyter-widgets/base",
            "_model_module_version": "1.2.0",
            "_model_name": "LayoutModel",
            "_view_count": null,
            "_view_module": "@jupyter-widgets/base",
            "_view_module_version": "1.2.0",
            "_view_name": "LayoutView",
            "align_content": null,
            "align_items": null,
            "align_self": null,
            "border": null,
            "bottom": null,
            "display": null,
            "flex": null,
            "flex_flow": null,
            "grid_area": null,
            "grid_auto_columns": null,
            "grid_auto_flow": null,
            "grid_auto_rows": null,
            "grid_column": null,
            "grid_gap": null,
            "grid_row": null,
            "grid_template_areas": null,
            "grid_template_columns": null,
            "grid_template_rows": null,
            "height": null,
            "justify_content": null,
            "justify_items": null,
            "left": null,
            "margin": null,
            "max_height": null,
            "max_width": null,
            "min_height": null,
            "min_width": null,
            "object_fit": null,
            "object_position": null,
            "order": null,
            "overflow": null,
            "overflow_x": null,
            "overflow_y": null,
            "padding": null,
            "right": null,
            "top": null,
            "visibility": null,
            "width": null
          }
        },
        "9ea3d688e6c7445999874bc1ea42f632": {
          "model_module": "@jupyter-widgets/base",
          "model_name": "LayoutModel",
          "model_module_version": "1.2.0",
          "state": {
            "_model_module": "@jupyter-widgets/base",
            "_model_module_version": "1.2.0",
            "_model_name": "LayoutModel",
            "_view_count": null,
            "_view_module": "@jupyter-widgets/base",
            "_view_module_version": "1.2.0",
            "_view_name": "LayoutView",
            "align_content": null,
            "align_items": null,
            "align_self": null,
            "border": null,
            "bottom": null,
            "display": null,
            "flex": null,
            "flex_flow": null,
            "grid_area": null,
            "grid_auto_columns": null,
            "grid_auto_flow": null,
            "grid_auto_rows": null,
            "grid_column": null,
            "grid_gap": null,
            "grid_row": null,
            "grid_template_areas": null,
            "grid_template_columns": null,
            "grid_template_rows": null,
            "height": null,
            "justify_content": null,
            "justify_items": null,
            "left": null,
            "margin": null,
            "max_height": null,
            "max_width": null,
            "min_height": null,
            "min_width": null,
            "object_fit": null,
            "object_position": null,
            "order": null,
            "overflow": null,
            "overflow_x": null,
            "overflow_y": null,
            "padding": null,
            "right": null,
            "top": null,
            "visibility": null,
            "width": null
          }
        },
        "362be651012b4177bfe4f4afa8415e89": {
          "model_module": "@jupyter-widgets/controls",
          "model_name": "DescriptionStyleModel",
          "model_module_version": "1.5.0",
          "state": {
            "_model_module": "@jupyter-widgets/controls",
            "_model_module_version": "1.5.0",
            "_model_name": "DescriptionStyleModel",
            "_view_count": null,
            "_view_module": "@jupyter-widgets/base",
            "_view_module_version": "1.2.0",
            "_view_name": "StyleView",
            "description_width": ""
          }
        },
        "4f892905f1174816a10fbfc79f484080": {
          "model_module": "@jupyter-widgets/base",
          "model_name": "LayoutModel",
          "model_module_version": "1.2.0",
          "state": {
            "_model_module": "@jupyter-widgets/base",
            "_model_module_version": "1.2.0",
            "_model_name": "LayoutModel",
            "_view_count": null,
            "_view_module": "@jupyter-widgets/base",
            "_view_module_version": "1.2.0",
            "_view_name": "LayoutView",
            "align_content": null,
            "align_items": null,
            "align_self": null,
            "border": null,
            "bottom": null,
            "display": null,
            "flex": null,
            "flex_flow": null,
            "grid_area": null,
            "grid_auto_columns": null,
            "grid_auto_flow": null,
            "grid_auto_rows": null,
            "grid_column": null,
            "grid_gap": null,
            "grid_row": null,
            "grid_template_areas": null,
            "grid_template_columns": null,
            "grid_template_rows": null,
            "height": null,
            "justify_content": null,
            "justify_items": null,
            "left": null,
            "margin": null,
            "max_height": null,
            "max_width": null,
            "min_height": null,
            "min_width": null,
            "object_fit": null,
            "object_position": null,
            "order": null,
            "overflow": null,
            "overflow_x": null,
            "overflow_y": null,
            "padding": null,
            "right": null,
            "top": null,
            "visibility": null,
            "width": null
          }
        },
        "d46ad2f56d7f4b0fa7af80591e98ce74": {
          "model_module": "@jupyter-widgets/controls",
          "model_name": "ProgressStyleModel",
          "model_module_version": "1.5.0",
          "state": {
            "_model_module": "@jupyter-widgets/controls",
            "_model_module_version": "1.5.0",
            "_model_name": "ProgressStyleModel",
            "_view_count": null,
            "_view_module": "@jupyter-widgets/base",
            "_view_module_version": "1.2.0",
            "_view_name": "StyleView",
            "bar_color": null,
            "description_width": ""
          }
        },
        "c91109a36e1f46c9b424a5e1b4eb66dd": {
          "model_module": "@jupyter-widgets/base",
          "model_name": "LayoutModel",
          "model_module_version": "1.2.0",
          "state": {
            "_model_module": "@jupyter-widgets/base",
            "_model_module_version": "1.2.0",
            "_model_name": "LayoutModel",
            "_view_count": null,
            "_view_module": "@jupyter-widgets/base",
            "_view_module_version": "1.2.0",
            "_view_name": "LayoutView",
            "align_content": null,
            "align_items": null,
            "align_self": null,
            "border": null,
            "bottom": null,
            "display": null,
            "flex": null,
            "flex_flow": null,
            "grid_area": null,
            "grid_auto_columns": null,
            "grid_auto_flow": null,
            "grid_auto_rows": null,
            "grid_column": null,
            "grid_gap": null,
            "grid_row": null,
            "grid_template_areas": null,
            "grid_template_columns": null,
            "grid_template_rows": null,
            "height": null,
            "justify_content": null,
            "justify_items": null,
            "left": null,
            "margin": null,
            "max_height": null,
            "max_width": null,
            "min_height": null,
            "min_width": null,
            "object_fit": null,
            "object_position": null,
            "order": null,
            "overflow": null,
            "overflow_x": null,
            "overflow_y": null,
            "padding": null,
            "right": null,
            "top": null,
            "visibility": null,
            "width": null
          }
        },
        "29204b1c8dde425c91b43b78c9c0d97f": {
          "model_module": "@jupyter-widgets/controls",
          "model_name": "DescriptionStyleModel",
          "model_module_version": "1.5.0",
          "state": {
            "_model_module": "@jupyter-widgets/controls",
            "_model_module_version": "1.5.0",
            "_model_name": "DescriptionStyleModel",
            "_view_count": null,
            "_view_module": "@jupyter-widgets/base",
            "_view_module_version": "1.2.0",
            "_view_name": "StyleView",
            "description_width": ""
          }
        },
        "22e3316426f444f2875bc4bf71128d29": {
          "model_module": "@jupyter-widgets/controls",
          "model_name": "HBoxModel",
          "model_module_version": "1.5.0",
          "state": {
            "_dom_classes": [],
            "_model_module": "@jupyter-widgets/controls",
            "_model_module_version": "1.5.0",
            "_model_name": "HBoxModel",
            "_view_count": null,
            "_view_module": "@jupyter-widgets/controls",
            "_view_module_version": "1.5.0",
            "_view_name": "HBoxView",
            "box_style": "",
            "children": [
              "IPY_MODEL_27c0a6006afa448082c941812566fe0e",
              "IPY_MODEL_6809247d2f8a479b811fe84cf9d93e40",
              "IPY_MODEL_d4c2002b268d4c8e9b3079f3f27b16b4"
            ],
            "layout": "IPY_MODEL_ff8be4a5cc364de9aaa48b606eabba85"
          }
        },
        "27c0a6006afa448082c941812566fe0e": {
          "model_module": "@jupyter-widgets/controls",
          "model_name": "HTMLModel",
          "model_module_version": "1.5.0",
          "state": {
            "_dom_classes": [],
            "_model_module": "@jupyter-widgets/controls",
            "_model_module_version": "1.5.0",
            "_model_name": "HTMLModel",
            "_view_count": null,
            "_view_module": "@jupyter-widgets/controls",
            "_view_module_version": "1.5.0",
            "_view_name": "HTMLView",
            "description": "",
            "description_tooltip": null,
            "layout": "IPY_MODEL_1b22131d2a904b45aef4c07c1724eba2",
            "placeholder": "​",
            "style": "IPY_MODEL_6752bba1a1b747b09395649678cef54a",
            "value": "Downloading (…)olve/main/vocab.json: 100%"
          }
        },
        "6809247d2f8a479b811fe84cf9d93e40": {
          "model_module": "@jupyter-widgets/controls",
          "model_name": "FloatProgressModel",
          "model_module_version": "1.5.0",
          "state": {
            "_dom_classes": [],
            "_model_module": "@jupyter-widgets/controls",
            "_model_module_version": "1.5.0",
            "_model_name": "FloatProgressModel",
            "_view_count": null,
            "_view_module": "@jupyter-widgets/controls",
            "_view_module_version": "1.5.0",
            "_view_name": "ProgressView",
            "bar_style": "success",
            "description": "",
            "description_tooltip": null,
            "layout": "IPY_MODEL_74f347d059764461865965bca823c53b",
            "max": 898823,
            "min": 0,
            "orientation": "horizontal",
            "style": "IPY_MODEL_3482f6b18bc241d7ba7b80d6ac64122e",
            "value": 898823
          }
        },
        "d4c2002b268d4c8e9b3079f3f27b16b4": {
          "model_module": "@jupyter-widgets/controls",
          "model_name": "HTMLModel",
          "model_module_version": "1.5.0",
          "state": {
            "_dom_classes": [],
            "_model_module": "@jupyter-widgets/controls",
            "_model_module_version": "1.5.0",
            "_model_name": "HTMLModel",
            "_view_count": null,
            "_view_module": "@jupyter-widgets/controls",
            "_view_module_version": "1.5.0",
            "_view_name": "HTMLView",
            "description": "",
            "description_tooltip": null,
            "layout": "IPY_MODEL_a754d34a728a440dbde4eec29ec14272",
            "placeholder": "​",
            "style": "IPY_MODEL_9e4b17ab46a6476d8cb9da63b53be802",
            "value": " 899k/899k [00:00&lt;00:00, 11.1MB/s]"
          }
        },
        "ff8be4a5cc364de9aaa48b606eabba85": {
          "model_module": "@jupyter-widgets/base",
          "model_name": "LayoutModel",
          "model_module_version": "1.2.0",
          "state": {
            "_model_module": "@jupyter-widgets/base",
            "_model_module_version": "1.2.0",
            "_model_name": "LayoutModel",
            "_view_count": null,
            "_view_module": "@jupyter-widgets/base",
            "_view_module_version": "1.2.0",
            "_view_name": "LayoutView",
            "align_content": null,
            "align_items": null,
            "align_self": null,
            "border": null,
            "bottom": null,
            "display": null,
            "flex": null,
            "flex_flow": null,
            "grid_area": null,
            "grid_auto_columns": null,
            "grid_auto_flow": null,
            "grid_auto_rows": null,
            "grid_column": null,
            "grid_gap": null,
            "grid_row": null,
            "grid_template_areas": null,
            "grid_template_columns": null,
            "grid_template_rows": null,
            "height": null,
            "justify_content": null,
            "justify_items": null,
            "left": null,
            "margin": null,
            "max_height": null,
            "max_width": null,
            "min_height": null,
            "min_width": null,
            "object_fit": null,
            "object_position": null,
            "order": null,
            "overflow": null,
            "overflow_x": null,
            "overflow_y": null,
            "padding": null,
            "right": null,
            "top": null,
            "visibility": null,
            "width": null
          }
        },
        "1b22131d2a904b45aef4c07c1724eba2": {
          "model_module": "@jupyter-widgets/base",
          "model_name": "LayoutModel",
          "model_module_version": "1.2.0",
          "state": {
            "_model_module": "@jupyter-widgets/base",
            "_model_module_version": "1.2.0",
            "_model_name": "LayoutModel",
            "_view_count": null,
            "_view_module": "@jupyter-widgets/base",
            "_view_module_version": "1.2.0",
            "_view_name": "LayoutView",
            "align_content": null,
            "align_items": null,
            "align_self": null,
            "border": null,
            "bottom": null,
            "display": null,
            "flex": null,
            "flex_flow": null,
            "grid_area": null,
            "grid_auto_columns": null,
            "grid_auto_flow": null,
            "grid_auto_rows": null,
            "grid_column": null,
            "grid_gap": null,
            "grid_row": null,
            "grid_template_areas": null,
            "grid_template_columns": null,
            "grid_template_rows": null,
            "height": null,
            "justify_content": null,
            "justify_items": null,
            "left": null,
            "margin": null,
            "max_height": null,
            "max_width": null,
            "min_height": null,
            "min_width": null,
            "object_fit": null,
            "object_position": null,
            "order": null,
            "overflow": null,
            "overflow_x": null,
            "overflow_y": null,
            "padding": null,
            "right": null,
            "top": null,
            "visibility": null,
            "width": null
          }
        },
        "6752bba1a1b747b09395649678cef54a": {
          "model_module": "@jupyter-widgets/controls",
          "model_name": "DescriptionStyleModel",
          "model_module_version": "1.5.0",
          "state": {
            "_model_module": "@jupyter-widgets/controls",
            "_model_module_version": "1.5.0",
            "_model_name": "DescriptionStyleModel",
            "_view_count": null,
            "_view_module": "@jupyter-widgets/base",
            "_view_module_version": "1.2.0",
            "_view_name": "StyleView",
            "description_width": ""
          }
        },
        "74f347d059764461865965bca823c53b": {
          "model_module": "@jupyter-widgets/base",
          "model_name": "LayoutModel",
          "model_module_version": "1.2.0",
          "state": {
            "_model_module": "@jupyter-widgets/base",
            "_model_module_version": "1.2.0",
            "_model_name": "LayoutModel",
            "_view_count": null,
            "_view_module": "@jupyter-widgets/base",
            "_view_module_version": "1.2.0",
            "_view_name": "LayoutView",
            "align_content": null,
            "align_items": null,
            "align_self": null,
            "border": null,
            "bottom": null,
            "display": null,
            "flex": null,
            "flex_flow": null,
            "grid_area": null,
            "grid_auto_columns": null,
            "grid_auto_flow": null,
            "grid_auto_rows": null,
            "grid_column": null,
            "grid_gap": null,
            "grid_row": null,
            "grid_template_areas": null,
            "grid_template_columns": null,
            "grid_template_rows": null,
            "height": null,
            "justify_content": null,
            "justify_items": null,
            "left": null,
            "margin": null,
            "max_height": null,
            "max_width": null,
            "min_height": null,
            "min_width": null,
            "object_fit": null,
            "object_position": null,
            "order": null,
            "overflow": null,
            "overflow_x": null,
            "overflow_y": null,
            "padding": null,
            "right": null,
            "top": null,
            "visibility": null,
            "width": null
          }
        },
        "3482f6b18bc241d7ba7b80d6ac64122e": {
          "model_module": "@jupyter-widgets/controls",
          "model_name": "ProgressStyleModel",
          "model_module_version": "1.5.0",
          "state": {
            "_model_module": "@jupyter-widgets/controls",
            "_model_module_version": "1.5.0",
            "_model_name": "ProgressStyleModel",
            "_view_count": null,
            "_view_module": "@jupyter-widgets/base",
            "_view_module_version": "1.2.0",
            "_view_name": "StyleView",
            "bar_color": null,
            "description_width": ""
          }
        },
        "a754d34a728a440dbde4eec29ec14272": {
          "model_module": "@jupyter-widgets/base",
          "model_name": "LayoutModel",
          "model_module_version": "1.2.0",
          "state": {
            "_model_module": "@jupyter-widgets/base",
            "_model_module_version": "1.2.0",
            "_model_name": "LayoutModel",
            "_view_count": null,
            "_view_module": "@jupyter-widgets/base",
            "_view_module_version": "1.2.0",
            "_view_name": "LayoutView",
            "align_content": null,
            "align_items": null,
            "align_self": null,
            "border": null,
            "bottom": null,
            "display": null,
            "flex": null,
            "flex_flow": null,
            "grid_area": null,
            "grid_auto_columns": null,
            "grid_auto_flow": null,
            "grid_auto_rows": null,
            "grid_column": null,
            "grid_gap": null,
            "grid_row": null,
            "grid_template_areas": null,
            "grid_template_columns": null,
            "grid_template_rows": null,
            "height": null,
            "justify_content": null,
            "justify_items": null,
            "left": null,
            "margin": null,
            "max_height": null,
            "max_width": null,
            "min_height": null,
            "min_width": null,
            "object_fit": null,
            "object_position": null,
            "order": null,
            "overflow": null,
            "overflow_x": null,
            "overflow_y": null,
            "padding": null,
            "right": null,
            "top": null,
            "visibility": null,
            "width": null
          }
        },
        "9e4b17ab46a6476d8cb9da63b53be802": {
          "model_module": "@jupyter-widgets/controls",
          "model_name": "DescriptionStyleModel",
          "model_module_version": "1.5.0",
          "state": {
            "_model_module": "@jupyter-widgets/controls",
            "_model_module_version": "1.5.0",
            "_model_name": "DescriptionStyleModel",
            "_view_count": null,
            "_view_module": "@jupyter-widgets/base",
            "_view_module_version": "1.2.0",
            "_view_name": "StyleView",
            "description_width": ""
          }
        },
        "75ac38b36b2145438f6983a22c1474ac": {
          "model_module": "@jupyter-widgets/controls",
          "model_name": "HBoxModel",
          "model_module_version": "1.5.0",
          "state": {
            "_dom_classes": [],
            "_model_module": "@jupyter-widgets/controls",
            "_model_module_version": "1.5.0",
            "_model_name": "HBoxModel",
            "_view_count": null,
            "_view_module": "@jupyter-widgets/controls",
            "_view_module_version": "1.5.0",
            "_view_name": "HBoxView",
            "box_style": "",
            "children": [
              "IPY_MODEL_8cefc87d0a4b4529a0b0d91707107fd3",
              "IPY_MODEL_42f26f0294b1411ea8ca1cdbedc1f646",
              "IPY_MODEL_214cd3df58f54441a8eec01ce3ae7d12"
            ],
            "layout": "IPY_MODEL_c24f8e13cb9342e6b9a88d3f6bdb965f"
          }
        },
        "8cefc87d0a4b4529a0b0d91707107fd3": {
          "model_module": "@jupyter-widgets/controls",
          "model_name": "HTMLModel",
          "model_module_version": "1.5.0",
          "state": {
            "_dom_classes": [],
            "_model_module": "@jupyter-widgets/controls",
            "_model_module_version": "1.5.0",
            "_model_name": "HTMLModel",
            "_view_count": null,
            "_view_module": "@jupyter-widgets/controls",
            "_view_module_version": "1.5.0",
            "_view_name": "HTMLView",
            "description": "",
            "description_tooltip": null,
            "layout": "IPY_MODEL_a8d55cdef7a04d75a699450e223d0b10",
            "placeholder": "​",
            "style": "IPY_MODEL_cfe45ddba81f4f3f9d2bb9497eb9b3a2",
            "value": "Downloading (…)olve/main/merges.txt: 100%"
          }
        },
        "42f26f0294b1411ea8ca1cdbedc1f646": {
          "model_module": "@jupyter-widgets/controls",
          "model_name": "FloatProgressModel",
          "model_module_version": "1.5.0",
          "state": {
            "_dom_classes": [],
            "_model_module": "@jupyter-widgets/controls",
            "_model_module_version": "1.5.0",
            "_model_name": "FloatProgressModel",
            "_view_count": null,
            "_view_module": "@jupyter-widgets/controls",
            "_view_module_version": "1.5.0",
            "_view_name": "ProgressView",
            "bar_style": "success",
            "description": "",
            "description_tooltip": null,
            "layout": "IPY_MODEL_1fa56c7a212741b29492d896f6a980e3",
            "max": 456318,
            "min": 0,
            "orientation": "horizontal",
            "style": "IPY_MODEL_97705c2fb65f4095b67fb4cde42d49b2",
            "value": 456318
          }
        },
        "214cd3df58f54441a8eec01ce3ae7d12": {
          "model_module": "@jupyter-widgets/controls",
          "model_name": "HTMLModel",
          "model_module_version": "1.5.0",
          "state": {
            "_dom_classes": [],
            "_model_module": "@jupyter-widgets/controls",
            "_model_module_version": "1.5.0",
            "_model_name": "HTMLModel",
            "_view_count": null,
            "_view_module": "@jupyter-widgets/controls",
            "_view_module_version": "1.5.0",
            "_view_name": "HTMLView",
            "description": "",
            "description_tooltip": null,
            "layout": "IPY_MODEL_016e5c61f0e24ddbb503f43630931b70",
            "placeholder": "​",
            "style": "IPY_MODEL_6919df1fb4b04b5bb0cf738cb814fc6b",
            "value": " 456k/456k [00:00&lt;00:00, 7.08MB/s]"
          }
        },
        "c24f8e13cb9342e6b9a88d3f6bdb965f": {
          "model_module": "@jupyter-widgets/base",
          "model_name": "LayoutModel",
          "model_module_version": "1.2.0",
          "state": {
            "_model_module": "@jupyter-widgets/base",
            "_model_module_version": "1.2.0",
            "_model_name": "LayoutModel",
            "_view_count": null,
            "_view_module": "@jupyter-widgets/base",
            "_view_module_version": "1.2.0",
            "_view_name": "LayoutView",
            "align_content": null,
            "align_items": null,
            "align_self": null,
            "border": null,
            "bottom": null,
            "display": null,
            "flex": null,
            "flex_flow": null,
            "grid_area": null,
            "grid_auto_columns": null,
            "grid_auto_flow": null,
            "grid_auto_rows": null,
            "grid_column": null,
            "grid_gap": null,
            "grid_row": null,
            "grid_template_areas": null,
            "grid_template_columns": null,
            "grid_template_rows": null,
            "height": null,
            "justify_content": null,
            "justify_items": null,
            "left": null,
            "margin": null,
            "max_height": null,
            "max_width": null,
            "min_height": null,
            "min_width": null,
            "object_fit": null,
            "object_position": null,
            "order": null,
            "overflow": null,
            "overflow_x": null,
            "overflow_y": null,
            "padding": null,
            "right": null,
            "top": null,
            "visibility": null,
            "width": null
          }
        },
        "a8d55cdef7a04d75a699450e223d0b10": {
          "model_module": "@jupyter-widgets/base",
          "model_name": "LayoutModel",
          "model_module_version": "1.2.0",
          "state": {
            "_model_module": "@jupyter-widgets/base",
            "_model_module_version": "1.2.0",
            "_model_name": "LayoutModel",
            "_view_count": null,
            "_view_module": "@jupyter-widgets/base",
            "_view_module_version": "1.2.0",
            "_view_name": "LayoutView",
            "align_content": null,
            "align_items": null,
            "align_self": null,
            "border": null,
            "bottom": null,
            "display": null,
            "flex": null,
            "flex_flow": null,
            "grid_area": null,
            "grid_auto_columns": null,
            "grid_auto_flow": null,
            "grid_auto_rows": null,
            "grid_column": null,
            "grid_gap": null,
            "grid_row": null,
            "grid_template_areas": null,
            "grid_template_columns": null,
            "grid_template_rows": null,
            "height": null,
            "justify_content": null,
            "justify_items": null,
            "left": null,
            "margin": null,
            "max_height": null,
            "max_width": null,
            "min_height": null,
            "min_width": null,
            "object_fit": null,
            "object_position": null,
            "order": null,
            "overflow": null,
            "overflow_x": null,
            "overflow_y": null,
            "padding": null,
            "right": null,
            "top": null,
            "visibility": null,
            "width": null
          }
        },
        "cfe45ddba81f4f3f9d2bb9497eb9b3a2": {
          "model_module": "@jupyter-widgets/controls",
          "model_name": "DescriptionStyleModel",
          "model_module_version": "1.5.0",
          "state": {
            "_model_module": "@jupyter-widgets/controls",
            "_model_module_version": "1.5.0",
            "_model_name": "DescriptionStyleModel",
            "_view_count": null,
            "_view_module": "@jupyter-widgets/base",
            "_view_module_version": "1.2.0",
            "_view_name": "StyleView",
            "description_width": ""
          }
        },
        "1fa56c7a212741b29492d896f6a980e3": {
          "model_module": "@jupyter-widgets/base",
          "model_name": "LayoutModel",
          "model_module_version": "1.2.0",
          "state": {
            "_model_module": "@jupyter-widgets/base",
            "_model_module_version": "1.2.0",
            "_model_name": "LayoutModel",
            "_view_count": null,
            "_view_module": "@jupyter-widgets/base",
            "_view_module_version": "1.2.0",
            "_view_name": "LayoutView",
            "align_content": null,
            "align_items": null,
            "align_self": null,
            "border": null,
            "bottom": null,
            "display": null,
            "flex": null,
            "flex_flow": null,
            "grid_area": null,
            "grid_auto_columns": null,
            "grid_auto_flow": null,
            "grid_auto_rows": null,
            "grid_column": null,
            "grid_gap": null,
            "grid_row": null,
            "grid_template_areas": null,
            "grid_template_columns": null,
            "grid_template_rows": null,
            "height": null,
            "justify_content": null,
            "justify_items": null,
            "left": null,
            "margin": null,
            "max_height": null,
            "max_width": null,
            "min_height": null,
            "min_width": null,
            "object_fit": null,
            "object_position": null,
            "order": null,
            "overflow": null,
            "overflow_x": null,
            "overflow_y": null,
            "padding": null,
            "right": null,
            "top": null,
            "visibility": null,
            "width": null
          }
        },
        "97705c2fb65f4095b67fb4cde42d49b2": {
          "model_module": "@jupyter-widgets/controls",
          "model_name": "ProgressStyleModel",
          "model_module_version": "1.5.0",
          "state": {
            "_model_module": "@jupyter-widgets/controls",
            "_model_module_version": "1.5.0",
            "_model_name": "ProgressStyleModel",
            "_view_count": null,
            "_view_module": "@jupyter-widgets/base",
            "_view_module_version": "1.2.0",
            "_view_name": "StyleView",
            "bar_color": null,
            "description_width": ""
          }
        },
        "016e5c61f0e24ddbb503f43630931b70": {
          "model_module": "@jupyter-widgets/base",
          "model_name": "LayoutModel",
          "model_module_version": "1.2.0",
          "state": {
            "_model_module": "@jupyter-widgets/base",
            "_model_module_version": "1.2.0",
            "_model_name": "LayoutModel",
            "_view_count": null,
            "_view_module": "@jupyter-widgets/base",
            "_view_module_version": "1.2.0",
            "_view_name": "LayoutView",
            "align_content": null,
            "align_items": null,
            "align_self": null,
            "border": null,
            "bottom": null,
            "display": null,
            "flex": null,
            "flex_flow": null,
            "grid_area": null,
            "grid_auto_columns": null,
            "grid_auto_flow": null,
            "grid_auto_rows": null,
            "grid_column": null,
            "grid_gap": null,
            "grid_row": null,
            "grid_template_areas": null,
            "grid_template_columns": null,
            "grid_template_rows": null,
            "height": null,
            "justify_content": null,
            "justify_items": null,
            "left": null,
            "margin": null,
            "max_height": null,
            "max_width": null,
            "min_height": null,
            "min_width": null,
            "object_fit": null,
            "object_position": null,
            "order": null,
            "overflow": null,
            "overflow_x": null,
            "overflow_y": null,
            "padding": null,
            "right": null,
            "top": null,
            "visibility": null,
            "width": null
          }
        },
        "6919df1fb4b04b5bb0cf738cb814fc6b": {
          "model_module": "@jupyter-widgets/controls",
          "model_name": "DescriptionStyleModel",
          "model_module_version": "1.5.0",
          "state": {
            "_model_module": "@jupyter-widgets/controls",
            "_model_module_version": "1.5.0",
            "_model_name": "DescriptionStyleModel",
            "_view_count": null,
            "_view_module": "@jupyter-widgets/base",
            "_view_module_version": "1.2.0",
            "_view_name": "StyleView",
            "description_width": ""
          }
        },
        "9ed3eb75385b438783d81d263537c26f": {
          "model_module": "@jupyter-widgets/controls",
          "model_name": "HBoxModel",
          "model_module_version": "1.5.0",
          "state": {
            "_dom_classes": [],
            "_model_module": "@jupyter-widgets/controls",
            "_model_module_version": "1.5.0",
            "_model_name": "HBoxModel",
            "_view_count": null,
            "_view_module": "@jupyter-widgets/controls",
            "_view_module_version": "1.5.0",
            "_view_name": "HBoxView",
            "box_style": "",
            "children": [
              "IPY_MODEL_61e4f62c48a845d99d14260038a9f6b3",
              "IPY_MODEL_674d1d02fad94858afabf57adbfce15e",
              "IPY_MODEL_ec69788c10b5408bb673b8ecc3d94e3b"
            ],
            "layout": "IPY_MODEL_097af9e3f4f94ad389cb09ba68260dc2"
          }
        },
        "61e4f62c48a845d99d14260038a9f6b3": {
          "model_module": "@jupyter-widgets/controls",
          "model_name": "HTMLModel",
          "model_module_version": "1.5.0",
          "state": {
            "_dom_classes": [],
            "_model_module": "@jupyter-widgets/controls",
            "_model_module_version": "1.5.0",
            "_model_name": "HTMLModel",
            "_view_count": null,
            "_view_module": "@jupyter-widgets/controls",
            "_view_module_version": "1.5.0",
            "_view_name": "HTMLView",
            "description": "",
            "description_tooltip": null,
            "layout": "IPY_MODEL_8ddc649935124b1881f8a56d4cef44a7",
            "placeholder": "​",
            "style": "IPY_MODEL_010786f9d6a34f248b35759cd45b300c",
            "value": "Downloading (…)lve/main/config.json: 100%"
          }
        },
        "674d1d02fad94858afabf57adbfce15e": {
          "model_module": "@jupyter-widgets/controls",
          "model_name": "FloatProgressModel",
          "model_module_version": "1.5.0",
          "state": {
            "_dom_classes": [],
            "_model_module": "@jupyter-widgets/controls",
            "_model_module_version": "1.5.0",
            "_model_name": "FloatProgressModel",
            "_view_count": null,
            "_view_module": "@jupyter-widgets/controls",
            "_view_module_version": "1.5.0",
            "_view_name": "ProgressView",
            "bar_style": "success",
            "description": "",
            "description_tooltip": null,
            "layout": "IPY_MODEL_dfd7508514a246f3847b5e22a7d04a2e",
            "max": 481,
            "min": 0,
            "orientation": "horizontal",
            "style": "IPY_MODEL_a19ab702126249baafaaae5baae44237",
            "value": 481
          }
        },
        "ec69788c10b5408bb673b8ecc3d94e3b": {
          "model_module": "@jupyter-widgets/controls",
          "model_name": "HTMLModel",
          "model_module_version": "1.5.0",
          "state": {
            "_dom_classes": [],
            "_model_module": "@jupyter-widgets/controls",
            "_model_module_version": "1.5.0",
            "_model_name": "HTMLModel",
            "_view_count": null,
            "_view_module": "@jupyter-widgets/controls",
            "_view_module_version": "1.5.0",
            "_view_name": "HTMLView",
            "description": "",
            "description_tooltip": null,
            "layout": "IPY_MODEL_b4747646ee12463a83247eb15c5a202b",
            "placeholder": "​",
            "style": "IPY_MODEL_0cb917d3cdc54d009ce53b6c2b65b85d",
            "value": " 481/481 [00:00&lt;00:00, 9.79kB/s]"
          }
        },
        "097af9e3f4f94ad389cb09ba68260dc2": {
          "model_module": "@jupyter-widgets/base",
          "model_name": "LayoutModel",
          "model_module_version": "1.2.0",
          "state": {
            "_model_module": "@jupyter-widgets/base",
            "_model_module_version": "1.2.0",
            "_model_name": "LayoutModel",
            "_view_count": null,
            "_view_module": "@jupyter-widgets/base",
            "_view_module_version": "1.2.0",
            "_view_name": "LayoutView",
            "align_content": null,
            "align_items": null,
            "align_self": null,
            "border": null,
            "bottom": null,
            "display": null,
            "flex": null,
            "flex_flow": null,
            "grid_area": null,
            "grid_auto_columns": null,
            "grid_auto_flow": null,
            "grid_auto_rows": null,
            "grid_column": null,
            "grid_gap": null,
            "grid_row": null,
            "grid_template_areas": null,
            "grid_template_columns": null,
            "grid_template_rows": null,
            "height": null,
            "justify_content": null,
            "justify_items": null,
            "left": null,
            "margin": null,
            "max_height": null,
            "max_width": null,
            "min_height": null,
            "min_width": null,
            "object_fit": null,
            "object_position": null,
            "order": null,
            "overflow": null,
            "overflow_x": null,
            "overflow_y": null,
            "padding": null,
            "right": null,
            "top": null,
            "visibility": null,
            "width": null
          }
        },
        "8ddc649935124b1881f8a56d4cef44a7": {
          "model_module": "@jupyter-widgets/base",
          "model_name": "LayoutModel",
          "model_module_version": "1.2.0",
          "state": {
            "_model_module": "@jupyter-widgets/base",
            "_model_module_version": "1.2.0",
            "_model_name": "LayoutModel",
            "_view_count": null,
            "_view_module": "@jupyter-widgets/base",
            "_view_module_version": "1.2.0",
            "_view_name": "LayoutView",
            "align_content": null,
            "align_items": null,
            "align_self": null,
            "border": null,
            "bottom": null,
            "display": null,
            "flex": null,
            "flex_flow": null,
            "grid_area": null,
            "grid_auto_columns": null,
            "grid_auto_flow": null,
            "grid_auto_rows": null,
            "grid_column": null,
            "grid_gap": null,
            "grid_row": null,
            "grid_template_areas": null,
            "grid_template_columns": null,
            "grid_template_rows": null,
            "height": null,
            "justify_content": null,
            "justify_items": null,
            "left": null,
            "margin": null,
            "max_height": null,
            "max_width": null,
            "min_height": null,
            "min_width": null,
            "object_fit": null,
            "object_position": null,
            "order": null,
            "overflow": null,
            "overflow_x": null,
            "overflow_y": null,
            "padding": null,
            "right": null,
            "top": null,
            "visibility": null,
            "width": null
          }
        },
        "010786f9d6a34f248b35759cd45b300c": {
          "model_module": "@jupyter-widgets/controls",
          "model_name": "DescriptionStyleModel",
          "model_module_version": "1.5.0",
          "state": {
            "_model_module": "@jupyter-widgets/controls",
            "_model_module_version": "1.5.0",
            "_model_name": "DescriptionStyleModel",
            "_view_count": null,
            "_view_module": "@jupyter-widgets/base",
            "_view_module_version": "1.2.0",
            "_view_name": "StyleView",
            "description_width": ""
          }
        },
        "dfd7508514a246f3847b5e22a7d04a2e": {
          "model_module": "@jupyter-widgets/base",
          "model_name": "LayoutModel",
          "model_module_version": "1.2.0",
          "state": {
            "_model_module": "@jupyter-widgets/base",
            "_model_module_version": "1.2.0",
            "_model_name": "LayoutModel",
            "_view_count": null,
            "_view_module": "@jupyter-widgets/base",
            "_view_module_version": "1.2.0",
            "_view_name": "LayoutView",
            "align_content": null,
            "align_items": null,
            "align_self": null,
            "border": null,
            "bottom": null,
            "display": null,
            "flex": null,
            "flex_flow": null,
            "grid_area": null,
            "grid_auto_columns": null,
            "grid_auto_flow": null,
            "grid_auto_rows": null,
            "grid_column": null,
            "grid_gap": null,
            "grid_row": null,
            "grid_template_areas": null,
            "grid_template_columns": null,
            "grid_template_rows": null,
            "height": null,
            "justify_content": null,
            "justify_items": null,
            "left": null,
            "margin": null,
            "max_height": null,
            "max_width": null,
            "min_height": null,
            "min_width": null,
            "object_fit": null,
            "object_position": null,
            "order": null,
            "overflow": null,
            "overflow_x": null,
            "overflow_y": null,
            "padding": null,
            "right": null,
            "top": null,
            "visibility": null,
            "width": null
          }
        },
        "a19ab702126249baafaaae5baae44237": {
          "model_module": "@jupyter-widgets/controls",
          "model_name": "ProgressStyleModel",
          "model_module_version": "1.5.0",
          "state": {
            "_model_module": "@jupyter-widgets/controls",
            "_model_module_version": "1.5.0",
            "_model_name": "ProgressStyleModel",
            "_view_count": null,
            "_view_module": "@jupyter-widgets/base",
            "_view_module_version": "1.2.0",
            "_view_name": "StyleView",
            "bar_color": null,
            "description_width": ""
          }
        },
        "b4747646ee12463a83247eb15c5a202b": {
          "model_module": "@jupyter-widgets/base",
          "model_name": "LayoutModel",
          "model_module_version": "1.2.0",
          "state": {
            "_model_module": "@jupyter-widgets/base",
            "_model_module_version": "1.2.0",
            "_model_name": "LayoutModel",
            "_view_count": null,
            "_view_module": "@jupyter-widgets/base",
            "_view_module_version": "1.2.0",
            "_view_name": "LayoutView",
            "align_content": null,
            "align_items": null,
            "align_self": null,
            "border": null,
            "bottom": null,
            "display": null,
            "flex": null,
            "flex_flow": null,
            "grid_area": null,
            "grid_auto_columns": null,
            "grid_auto_flow": null,
            "grid_auto_rows": null,
            "grid_column": null,
            "grid_gap": null,
            "grid_row": null,
            "grid_template_areas": null,
            "grid_template_columns": null,
            "grid_template_rows": null,
            "height": null,
            "justify_content": null,
            "justify_items": null,
            "left": null,
            "margin": null,
            "max_height": null,
            "max_width": null,
            "min_height": null,
            "min_width": null,
            "object_fit": null,
            "object_position": null,
            "order": null,
            "overflow": null,
            "overflow_x": null,
            "overflow_y": null,
            "padding": null,
            "right": null,
            "top": null,
            "visibility": null,
            "width": null
          }
        },
        "0cb917d3cdc54d009ce53b6c2b65b85d": {
          "model_module": "@jupyter-widgets/controls",
          "model_name": "DescriptionStyleModel",
          "model_module_version": "1.5.0",
          "state": {
            "_model_module": "@jupyter-widgets/controls",
            "_model_module_version": "1.5.0",
            "_model_name": "DescriptionStyleModel",
            "_view_count": null,
            "_view_module": "@jupyter-widgets/base",
            "_view_module_version": "1.2.0",
            "_view_name": "StyleView",
            "description_width": ""
          }
        },
        "d6d15a46ec3845739fbd654b58085888": {
          "model_module": "@jupyter-widgets/controls",
          "model_name": "HBoxModel",
          "model_module_version": "1.5.0",
          "state": {
            "_dom_classes": [],
            "_model_module": "@jupyter-widgets/controls",
            "_model_module_version": "1.5.0",
            "_model_name": "HBoxModel",
            "_view_count": null,
            "_view_module": "@jupyter-widgets/controls",
            "_view_module_version": "1.5.0",
            "_view_name": "HBoxView",
            "box_style": "",
            "children": [
              "IPY_MODEL_cc0b26ad56384e6c8082066dd6a45d6e",
              "IPY_MODEL_6c7700332fc747a4a4a369536591b8bc",
              "IPY_MODEL_2673f80f210248e18fb3268a51d719c2"
            ],
            "layout": "IPY_MODEL_1f783b7b46fa4923a3c1f52ecffa756b"
          }
        },
        "cc0b26ad56384e6c8082066dd6a45d6e": {
          "model_module": "@jupyter-widgets/controls",
          "model_name": "HTMLModel",
          "model_module_version": "1.5.0",
          "state": {
            "_dom_classes": [],
            "_model_module": "@jupyter-widgets/controls",
            "_model_module_version": "1.5.0",
            "_model_name": "HTMLModel",
            "_view_count": null,
            "_view_module": "@jupyter-widgets/controls",
            "_view_module_version": "1.5.0",
            "_view_name": "HTMLView",
            "description": "",
            "description_tooltip": null,
            "layout": "IPY_MODEL_2de442e35acd43e2ad93599ad264059f",
            "placeholder": "​",
            "style": "IPY_MODEL_0f6050b576a84b899339a634a12b8d94",
            "value": "Downloading pytorch_model.bin: 100%"
          }
        },
        "6c7700332fc747a4a4a369536591b8bc": {
          "model_module": "@jupyter-widgets/controls",
          "model_name": "FloatProgressModel",
          "model_module_version": "1.5.0",
          "state": {
            "_dom_classes": [],
            "_model_module": "@jupyter-widgets/controls",
            "_model_module_version": "1.5.0",
            "_model_name": "FloatProgressModel",
            "_view_count": null,
            "_view_module": "@jupyter-widgets/controls",
            "_view_module_version": "1.5.0",
            "_view_name": "ProgressView",
            "bar_style": "success",
            "description": "",
            "description_tooltip": null,
            "layout": "IPY_MODEL_25e62881bf8742fd8802115ccd78dbdf",
            "max": 501200538,
            "min": 0,
            "orientation": "horizontal",
            "style": "IPY_MODEL_48bd9d12affe4be2addabbb1927e6644",
            "value": 501200538
          }
        },
        "2673f80f210248e18fb3268a51d719c2": {
          "model_module": "@jupyter-widgets/controls",
          "model_name": "HTMLModel",
          "model_module_version": "1.5.0",
          "state": {
            "_dom_classes": [],
            "_model_module": "@jupyter-widgets/controls",
            "_model_module_version": "1.5.0",
            "_model_name": "HTMLModel",
            "_view_count": null,
            "_view_module": "@jupyter-widgets/controls",
            "_view_module_version": "1.5.0",
            "_view_name": "HTMLView",
            "description": "",
            "description_tooltip": null,
            "layout": "IPY_MODEL_5650d2daa34e4f4f9d561d09da95d629",
            "placeholder": "​",
            "style": "IPY_MODEL_94cd6aca73fd46fd9f7d6d11ca92433c",
            "value": " 501M/501M [00:08&lt;00:00, 73.3MB/s]"
          }
        },
        "1f783b7b46fa4923a3c1f52ecffa756b": {
          "model_module": "@jupyter-widgets/base",
          "model_name": "LayoutModel",
          "model_module_version": "1.2.0",
          "state": {
            "_model_module": "@jupyter-widgets/base",
            "_model_module_version": "1.2.0",
            "_model_name": "LayoutModel",
            "_view_count": null,
            "_view_module": "@jupyter-widgets/base",
            "_view_module_version": "1.2.0",
            "_view_name": "LayoutView",
            "align_content": null,
            "align_items": null,
            "align_self": null,
            "border": null,
            "bottom": null,
            "display": null,
            "flex": null,
            "flex_flow": null,
            "grid_area": null,
            "grid_auto_columns": null,
            "grid_auto_flow": null,
            "grid_auto_rows": null,
            "grid_column": null,
            "grid_gap": null,
            "grid_row": null,
            "grid_template_areas": null,
            "grid_template_columns": null,
            "grid_template_rows": null,
            "height": null,
            "justify_content": null,
            "justify_items": null,
            "left": null,
            "margin": null,
            "max_height": null,
            "max_width": null,
            "min_height": null,
            "min_width": null,
            "object_fit": null,
            "object_position": null,
            "order": null,
            "overflow": null,
            "overflow_x": null,
            "overflow_y": null,
            "padding": null,
            "right": null,
            "top": null,
            "visibility": null,
            "width": null
          }
        },
        "2de442e35acd43e2ad93599ad264059f": {
          "model_module": "@jupyter-widgets/base",
          "model_name": "LayoutModel",
          "model_module_version": "1.2.0",
          "state": {
            "_model_module": "@jupyter-widgets/base",
            "_model_module_version": "1.2.0",
            "_model_name": "LayoutModel",
            "_view_count": null,
            "_view_module": "@jupyter-widgets/base",
            "_view_module_version": "1.2.0",
            "_view_name": "LayoutView",
            "align_content": null,
            "align_items": null,
            "align_self": null,
            "border": null,
            "bottom": null,
            "display": null,
            "flex": null,
            "flex_flow": null,
            "grid_area": null,
            "grid_auto_columns": null,
            "grid_auto_flow": null,
            "grid_auto_rows": null,
            "grid_column": null,
            "grid_gap": null,
            "grid_row": null,
            "grid_template_areas": null,
            "grid_template_columns": null,
            "grid_template_rows": null,
            "height": null,
            "justify_content": null,
            "justify_items": null,
            "left": null,
            "margin": null,
            "max_height": null,
            "max_width": null,
            "min_height": null,
            "min_width": null,
            "object_fit": null,
            "object_position": null,
            "order": null,
            "overflow": null,
            "overflow_x": null,
            "overflow_y": null,
            "padding": null,
            "right": null,
            "top": null,
            "visibility": null,
            "width": null
          }
        },
        "0f6050b576a84b899339a634a12b8d94": {
          "model_module": "@jupyter-widgets/controls",
          "model_name": "DescriptionStyleModel",
          "model_module_version": "1.5.0",
          "state": {
            "_model_module": "@jupyter-widgets/controls",
            "_model_module_version": "1.5.0",
            "_model_name": "DescriptionStyleModel",
            "_view_count": null,
            "_view_module": "@jupyter-widgets/base",
            "_view_module_version": "1.2.0",
            "_view_name": "StyleView",
            "description_width": ""
          }
        },
        "25e62881bf8742fd8802115ccd78dbdf": {
          "model_module": "@jupyter-widgets/base",
          "model_name": "LayoutModel",
          "model_module_version": "1.2.0",
          "state": {
            "_model_module": "@jupyter-widgets/base",
            "_model_module_version": "1.2.0",
            "_model_name": "LayoutModel",
            "_view_count": null,
            "_view_module": "@jupyter-widgets/base",
            "_view_module_version": "1.2.0",
            "_view_name": "LayoutView",
            "align_content": null,
            "align_items": null,
            "align_self": null,
            "border": null,
            "bottom": null,
            "display": null,
            "flex": null,
            "flex_flow": null,
            "grid_area": null,
            "grid_auto_columns": null,
            "grid_auto_flow": null,
            "grid_auto_rows": null,
            "grid_column": null,
            "grid_gap": null,
            "grid_row": null,
            "grid_template_areas": null,
            "grid_template_columns": null,
            "grid_template_rows": null,
            "height": null,
            "justify_content": null,
            "justify_items": null,
            "left": null,
            "margin": null,
            "max_height": null,
            "max_width": null,
            "min_height": null,
            "min_width": null,
            "object_fit": null,
            "object_position": null,
            "order": null,
            "overflow": null,
            "overflow_x": null,
            "overflow_y": null,
            "padding": null,
            "right": null,
            "top": null,
            "visibility": null,
            "width": null
          }
        },
        "48bd9d12affe4be2addabbb1927e6644": {
          "model_module": "@jupyter-widgets/controls",
          "model_name": "ProgressStyleModel",
          "model_module_version": "1.5.0",
          "state": {
            "_model_module": "@jupyter-widgets/controls",
            "_model_module_version": "1.5.0",
            "_model_name": "ProgressStyleModel",
            "_view_count": null,
            "_view_module": "@jupyter-widgets/base",
            "_view_module_version": "1.2.0",
            "_view_name": "StyleView",
            "bar_color": null,
            "description_width": ""
          }
        },
        "5650d2daa34e4f4f9d561d09da95d629": {
          "model_module": "@jupyter-widgets/base",
          "model_name": "LayoutModel",
          "model_module_version": "1.2.0",
          "state": {
            "_model_module": "@jupyter-widgets/base",
            "_model_module_version": "1.2.0",
            "_model_name": "LayoutModel",
            "_view_count": null,
            "_view_module": "@jupyter-widgets/base",
            "_view_module_version": "1.2.0",
            "_view_name": "LayoutView",
            "align_content": null,
            "align_items": null,
            "align_self": null,
            "border": null,
            "bottom": null,
            "display": null,
            "flex": null,
            "flex_flow": null,
            "grid_area": null,
            "grid_auto_columns": null,
            "grid_auto_flow": null,
            "grid_auto_rows": null,
            "grid_column": null,
            "grid_gap": null,
            "grid_row": null,
            "grid_template_areas": null,
            "grid_template_columns": null,
            "grid_template_rows": null,
            "height": null,
            "justify_content": null,
            "justify_items": null,
            "left": null,
            "margin": null,
            "max_height": null,
            "max_width": null,
            "min_height": null,
            "min_width": null,
            "object_fit": null,
            "object_position": null,
            "order": null,
            "overflow": null,
            "overflow_x": null,
            "overflow_y": null,
            "padding": null,
            "right": null,
            "top": null,
            "visibility": null,
            "width": null
          }
        },
        "94cd6aca73fd46fd9f7d6d11ca92433c": {
          "model_module": "@jupyter-widgets/controls",
          "model_name": "DescriptionStyleModel",
          "model_module_version": "1.5.0",
          "state": {
            "_model_module": "@jupyter-widgets/controls",
            "_model_module_version": "1.5.0",
            "_model_name": "DescriptionStyleModel",
            "_view_count": null,
            "_view_module": "@jupyter-widgets/base",
            "_view_module_version": "1.2.0",
            "_view_name": "StyleView",
            "description_width": ""
          }
        }
      }
    },
    "accelerator": "GPU"
  },
  "nbformat_minor": 0,
  "nbformat": 4,
  "cells": [
    {
      "cell_type": "markdown",
      "metadata": {
        "id": "view-in-github",
        "colab_type": "text"
      },
      "source": [
        "<a href=\"https://colab.research.google.com/github/nates27/multi-task-learning/blob/main/bt5151_gp_npk.ipynb\" target=\"_parent\"><img src=\"https://colab.research.google.com/assets/colab-badge.svg\" alt=\"Open In Colab\"/></a>"
      ]
    },
    {
      "cell_type": "markdown",
      "source": [
        "# General Notes #\n",
        "Model training of the neural network models was mostly done on the SoC Compute Cluster. The model files were saved and loaded in the notebooks for inference.\n",
        "\n",
        "For code-checking, the python scripts deployed on the cluster were included in the submission. There are checkpoints in this notebook where the grader needs to refer to the specific python scripts. This will be indicated in markdown cells in certain sections of this notebook."
      ],
      "metadata": {
        "id": "QJZhPUKBu4nf"
      }
    },
    {
      "cell_type": "code",
      "source": [
        "from google.colab import drive\n",
        "drive.mount('/content/drive')"
      ],
      "metadata": {
        "colab": {
          "base_uri": "https://localhost:8080/"
        },
        "id": "qaVLEcNhFTcC",
        "outputId": "2903105a-8e23-4dc4-bbf0-aab78306e58f"
      },
      "execution_count": 6,
      "outputs": [
        {
          "output_type": "stream",
          "name": "stdout",
          "text": [
            "Mounted at /content/drive\n"
          ]
        }
      ]
    },
    {
      "cell_type": "code",
      "source": [
        "pip install transformers"
      ],
      "metadata": {
        "colab": {
          "base_uri": "https://localhost:8080/"
        },
        "id": "w5d49lbEGAM3",
        "outputId": "e397f582-5271-4c11-d101-35cb7ac057de"
      },
      "execution_count": 7,
      "outputs": [
        {
          "output_type": "stream",
          "name": "stdout",
          "text": [
            "Looking in indexes: https://pypi.org/simple, https://us-python.pkg.dev/colab-wheels/public/simple/\n",
            "Collecting transformers\n",
            "  Downloading transformers-4.28.1-py3-none-any.whl (7.0 MB)\n",
            "\u001b[2K     \u001b[90m━━━━━━━━━━━━━━━━━━━━━━━━━━━━━━━━━━━━━━━━\u001b[0m \u001b[32m7.0/7.0 MB\u001b[0m \u001b[31m59.5 MB/s\u001b[0m eta \u001b[36m0:00:00\u001b[0m\n",
            "\u001b[?25hRequirement already satisfied: pyyaml>=5.1 in /usr/local/lib/python3.9/dist-packages (from transformers) (6.0)\n",
            "Requirement already satisfied: numpy>=1.17 in /usr/local/lib/python3.9/dist-packages (from transformers) (1.22.4)\n",
            "Requirement already satisfied: packaging>=20.0 in /usr/local/lib/python3.9/dist-packages (from transformers) (23.0)\n",
            "Requirement already satisfied: tqdm>=4.27 in /usr/local/lib/python3.9/dist-packages (from transformers) (4.65.0)\n",
            "Requirement already satisfied: regex!=2019.12.17 in /usr/local/lib/python3.9/dist-packages (from transformers) (2022.10.31)\n",
            "Requirement already satisfied: requests in /usr/local/lib/python3.9/dist-packages (from transformers) (2.27.1)\n",
            "Collecting huggingface-hub<1.0,>=0.11.0\n",
            "  Downloading huggingface_hub-0.13.4-py3-none-any.whl (200 kB)\n",
            "\u001b[2K     \u001b[90m━━━━━━━━━━━━━━━━━━━━━━━━━━━━━━━━━━━━━━\u001b[0m \u001b[32m200.1/200.1 kB\u001b[0m \u001b[31m26.2 MB/s\u001b[0m eta \u001b[36m0:00:00\u001b[0m\n",
            "\u001b[?25hRequirement already satisfied: filelock in /usr/local/lib/python3.9/dist-packages (from transformers) (3.11.0)\n",
            "Collecting tokenizers!=0.11.3,<0.14,>=0.11.1\n",
            "  Downloading tokenizers-0.13.3-cp39-cp39-manylinux_2_17_x86_64.manylinux2014_x86_64.whl (7.8 MB)\n",
            "\u001b[2K     \u001b[90m━━━━━━━━━━━━━━━━━━━━━━━━━━━━━━━━━━━━━━━━\u001b[0m \u001b[32m7.8/7.8 MB\u001b[0m \u001b[31m79.8 MB/s\u001b[0m eta \u001b[36m0:00:00\u001b[0m\n",
            "\u001b[?25hRequirement already satisfied: typing-extensions>=3.7.4.3 in /usr/local/lib/python3.9/dist-packages (from huggingface-hub<1.0,>=0.11.0->transformers) (4.5.0)\n",
            "Requirement already satisfied: urllib3<1.27,>=1.21.1 in /usr/local/lib/python3.9/dist-packages (from requests->transformers) (1.26.15)\n",
            "Requirement already satisfied: idna<4,>=2.5 in /usr/local/lib/python3.9/dist-packages (from requests->transformers) (3.4)\n",
            "Requirement already satisfied: charset-normalizer~=2.0.0 in /usr/local/lib/python3.9/dist-packages (from requests->transformers) (2.0.12)\n",
            "Requirement already satisfied: certifi>=2017.4.17 in /usr/local/lib/python3.9/dist-packages (from requests->transformers) (2022.12.7)\n",
            "Installing collected packages: tokenizers, huggingface-hub, transformers\n",
            "Successfully installed huggingface-hub-0.13.4 tokenizers-0.13.3 transformers-4.28.1\n"
          ]
        }
      ]
    },
    {
      "cell_type": "code",
      "source": [
        "pip install wandb"
      ],
      "metadata": {
        "colab": {
          "base_uri": "https://localhost:8080/"
        },
        "id": "DMYyT65HLkrM",
        "outputId": "c3aceb7e-75d1-4981-fc4c-781f3852bd83"
      },
      "execution_count": 8,
      "outputs": [
        {
          "output_type": "stream",
          "name": "stdout",
          "text": [
            "Looking in indexes: https://pypi.org/simple, https://us-python.pkg.dev/colab-wheels/public/simple/\n",
            "Collecting wandb\n",
            "  Downloading wandb-0.14.2-py3-none-any.whl (2.0 MB)\n",
            "\u001b[2K     \u001b[90m━━━━━━━━━━━━━━━━━━━━━━━━━━━━━━━━━━━━━━━━\u001b[0m \u001b[32m2.0/2.0 MB\u001b[0m \u001b[31m24.9 MB/s\u001b[0m eta \u001b[36m0:00:00\u001b[0m\n",
            "\u001b[?25hCollecting docker-pycreds>=0.4.0\n",
            "  Downloading docker_pycreds-0.4.0-py2.py3-none-any.whl (9.0 kB)\n",
            "Requirement already satisfied: typing-extensions in /usr/local/lib/python3.9/dist-packages (from wandb) (4.5.0)\n",
            "Requirement already satisfied: appdirs>=1.4.3 in /usr/local/lib/python3.9/dist-packages (from wandb) (1.4.4)\n",
            "Collecting pathtools\n",
            "  Downloading pathtools-0.1.2.tar.gz (11 kB)\n",
            "  Preparing metadata (setup.py) ... \u001b[?25l\u001b[?25hdone\n",
            "Collecting GitPython!=3.1.29,>=1.0.0\n",
            "  Downloading GitPython-3.1.31-py3-none-any.whl (184 kB)\n",
            "\u001b[2K     \u001b[90m━━━━━━━━━━━━━━━━━━━━━━━━━━━━━━━━━━━━━━\u001b[0m \u001b[32m184.3/184.3 kB\u001b[0m \u001b[31m23.0 MB/s\u001b[0m eta \u001b[36m0:00:00\u001b[0m\n",
            "\u001b[?25hCollecting setproctitle\n",
            "  Downloading setproctitle-1.3.2-cp39-cp39-manylinux_2_5_x86_64.manylinux1_x86_64.manylinux_2_17_x86_64.manylinux2014_x86_64.whl (30 kB)\n",
            "Requirement already satisfied: protobuf!=4.21.0,<5,>=3.15.0 in /usr/local/lib/python3.9/dist-packages (from wandb) (3.20.3)\n",
            "Requirement already satisfied: psutil>=5.0.0 in /usr/local/lib/python3.9/dist-packages (from wandb) (5.9.4)\n",
            "Requirement already satisfied: setuptools in /usr/local/lib/python3.9/dist-packages (from wandb) (67.6.1)\n",
            "Requirement already satisfied: requests<3,>=2.0.0 in /usr/local/lib/python3.9/dist-packages (from wandb) (2.27.1)\n",
            "Requirement already satisfied: Click!=8.0.0,>=7.0 in /usr/local/lib/python3.9/dist-packages (from wandb) (8.1.3)\n",
            "Collecting sentry-sdk>=1.0.0\n",
            "  Downloading sentry_sdk-1.19.1-py2.py3-none-any.whl (199 kB)\n",
            "\u001b[2K     \u001b[90m━━━━━━━━━━━━━━━━━━━━━━━━━━━━━━━━━━━━━━\u001b[0m \u001b[32m199.2/199.2 kB\u001b[0m \u001b[31m20.8 MB/s\u001b[0m eta \u001b[36m0:00:00\u001b[0m\n",
            "\u001b[?25hRequirement already satisfied: PyYAML in /usr/local/lib/python3.9/dist-packages (from wandb) (6.0)\n",
            "Requirement already satisfied: six>=1.4.0 in /usr/local/lib/python3.9/dist-packages (from docker-pycreds>=0.4.0->wandb) (1.16.0)\n",
            "Collecting gitdb<5,>=4.0.1\n",
            "  Downloading gitdb-4.0.10-py3-none-any.whl (62 kB)\n",
            "\u001b[2K     \u001b[90m━━━━━━━━━━━━━━━━━━━━━━━━━━━━━━━━━━━━━━━━\u001b[0m \u001b[32m62.7/62.7 kB\u001b[0m \u001b[31m8.2 MB/s\u001b[0m eta \u001b[36m0:00:00\u001b[0m\n",
            "\u001b[?25hRequirement already satisfied: urllib3<1.27,>=1.21.1 in /usr/local/lib/python3.9/dist-packages (from requests<3,>=2.0.0->wandb) (1.26.15)\n",
            "Requirement already satisfied: certifi>=2017.4.17 in /usr/local/lib/python3.9/dist-packages (from requests<3,>=2.0.0->wandb) (2022.12.7)\n",
            "Requirement already satisfied: charset-normalizer~=2.0.0 in /usr/local/lib/python3.9/dist-packages (from requests<3,>=2.0.0->wandb) (2.0.12)\n",
            "Requirement already satisfied: idna<4,>=2.5 in /usr/local/lib/python3.9/dist-packages (from requests<3,>=2.0.0->wandb) (3.4)\n",
            "Collecting smmap<6,>=3.0.1\n",
            "  Downloading smmap-5.0.0-py3-none-any.whl (24 kB)\n",
            "Building wheels for collected packages: pathtools\n",
            "  Building wheel for pathtools (setup.py) ... \u001b[?25l\u001b[?25hdone\n",
            "  Created wheel for pathtools: filename=pathtools-0.1.2-py3-none-any.whl size=8807 sha256=bed5f584e90cc55e8c8ee2ac1c96ab2b92b51f583d0b45ce2c833d131b4468f8\n",
            "  Stored in directory: /root/.cache/pip/wheels/b7/0a/67/ada2a22079218c75a88361c0782855cc72aebc4d18d0289d05\n",
            "Successfully built pathtools\n",
            "Installing collected packages: pathtools, smmap, setproctitle, sentry-sdk, docker-pycreds, gitdb, GitPython, wandb\n",
            "Successfully installed GitPython-3.1.31 docker-pycreds-0.4.0 gitdb-4.0.10 pathtools-0.1.2 sentry-sdk-1.19.1 setproctitle-1.3.2 smmap-5.0.0 wandb-0.14.2\n"
          ]
        }
      ]
    },
    {
      "cell_type": "code",
      "source": [
        "pip install evaluate"
      ],
      "metadata": {
        "colab": {
          "base_uri": "https://localhost:8080/"
        },
        "id": "cG9bsrB67WKM",
        "outputId": "25d3384e-6a0f-49c6-b664-9a37c697eaa1"
      },
      "execution_count": 9,
      "outputs": [
        {
          "output_type": "stream",
          "name": "stdout",
          "text": [
            "Looking in indexes: https://pypi.org/simple, https://us-python.pkg.dev/colab-wheels/public/simple/\n",
            "Collecting evaluate\n",
            "  Downloading evaluate-0.4.0-py3-none-any.whl (81 kB)\n",
            "\u001b[2K     \u001b[90m━━━━━━━━━━━━━━━━━━━━━━━━━━━━━━━━━━━━━━━━\u001b[0m \u001b[32m81.4/81.4 kB\u001b[0m \u001b[31m3.6 MB/s\u001b[0m eta \u001b[36m0:00:00\u001b[0m\n",
            "\u001b[?25hRequirement already satisfied: huggingface-hub>=0.7.0 in /usr/local/lib/python3.9/dist-packages (from evaluate) (0.13.4)\n",
            "Requirement already satisfied: requests>=2.19.0 in /usr/local/lib/python3.9/dist-packages (from evaluate) (2.27.1)\n",
            "Collecting dill\n",
            "  Downloading dill-0.3.6-py3-none-any.whl (110 kB)\n",
            "\u001b[2K     \u001b[90m━━━━━━━━━━━━━━━━━━━━━━━━━━━━━━━━━━━━━━━\u001b[0m \u001b[32m110.5/110.5 kB\u001b[0m \u001b[31m7.0 MB/s\u001b[0m eta \u001b[36m0:00:00\u001b[0m\n",
            "\u001b[?25hRequirement already satisfied: fsspec[http]>=2021.05.0 in /usr/local/lib/python3.9/dist-packages (from evaluate) (2023.4.0)\n",
            "Collecting responses<0.19\n",
            "  Downloading responses-0.18.0-py3-none-any.whl (38 kB)\n",
            "Requirement already satisfied: tqdm>=4.62.1 in /usr/local/lib/python3.9/dist-packages (from evaluate) (4.65.0)\n",
            "Requirement already satisfied: pandas in /usr/local/lib/python3.9/dist-packages (from evaluate) (1.5.3)\n",
            "Collecting datasets>=2.0.0\n",
            "  Downloading datasets-2.11.0-py3-none-any.whl (468 kB)\n",
            "\u001b[2K     \u001b[90m━━━━━━━━━━━━━━━━━━━━━━━━━━━━━━━━━━━━━━\u001b[0m \u001b[32m468.7/468.7 kB\u001b[0m \u001b[31m21.5 MB/s\u001b[0m eta \u001b[36m0:00:00\u001b[0m\n",
            "\u001b[?25hCollecting xxhash\n",
            "  Downloading xxhash-3.2.0-cp39-cp39-manylinux_2_17_x86_64.manylinux2014_x86_64.whl (212 kB)\n",
            "\u001b[2K     \u001b[90m━━━━━━━━━━━━━━━━━━━━━━━━━━━━━━━━━━━━━━\u001b[0m \u001b[32m212.2/212.2 kB\u001b[0m \u001b[31m25.2 MB/s\u001b[0m eta \u001b[36m0:00:00\u001b[0m\n",
            "\u001b[?25hCollecting multiprocess\n",
            "  Downloading multiprocess-0.70.14-py39-none-any.whl (132 kB)\n",
            "\u001b[2K     \u001b[90m━━━━━━━━━━━━━━━━━━━━━━━━━━━━━━━━━━━━━━\u001b[0m \u001b[32m132.9/132.9 kB\u001b[0m \u001b[31m18.1 MB/s\u001b[0m eta \u001b[36m0:00:00\u001b[0m\n",
            "\u001b[?25hRequirement already satisfied: packaging in /usr/local/lib/python3.9/dist-packages (from evaluate) (23.0)\n",
            "Requirement already satisfied: numpy>=1.17 in /usr/local/lib/python3.9/dist-packages (from evaluate) (1.22.4)\n",
            "Collecting aiohttp\n",
            "  Downloading aiohttp-3.8.4-cp39-cp39-manylinux_2_17_x86_64.manylinux2014_x86_64.whl (1.0 MB)\n",
            "\u001b[2K     \u001b[90m━━━━━━━━━━━━━━━━━━━━━━━━━━━━━━━━━━━━━━━━\u001b[0m \u001b[32m1.0/1.0 MB\u001b[0m \u001b[31m41.6 MB/s\u001b[0m eta \u001b[36m0:00:00\u001b[0m\n",
            "\u001b[?25hRequirement already satisfied: pyarrow>=8.0.0 in /usr/local/lib/python3.9/dist-packages (from datasets>=2.0.0->evaluate) (9.0.0)\n",
            "Requirement already satisfied: pyyaml>=5.1 in /usr/local/lib/python3.9/dist-packages (from datasets>=2.0.0->evaluate) (6.0)\n",
            "Requirement already satisfied: typing-extensions>=3.7.4.3 in /usr/local/lib/python3.9/dist-packages (from huggingface-hub>=0.7.0->evaluate) (4.5.0)\n",
            "Requirement already satisfied: filelock in /usr/local/lib/python3.9/dist-packages (from huggingface-hub>=0.7.0->evaluate) (3.11.0)\n",
            "Requirement already satisfied: urllib3<1.27,>=1.21.1 in /usr/local/lib/python3.9/dist-packages (from requests>=2.19.0->evaluate) (1.26.15)\n",
            "Requirement already satisfied: charset-normalizer~=2.0.0 in /usr/local/lib/python3.9/dist-packages (from requests>=2.19.0->evaluate) (2.0.12)\n",
            "Requirement already satisfied: idna<4,>=2.5 in /usr/local/lib/python3.9/dist-packages (from requests>=2.19.0->evaluate) (3.4)\n",
            "Requirement already satisfied: certifi>=2017.4.17 in /usr/local/lib/python3.9/dist-packages (from requests>=2.19.0->evaluate) (2022.12.7)\n",
            "Requirement already satisfied: pytz>=2020.1 in /usr/local/lib/python3.9/dist-packages (from pandas->evaluate) (2022.7.1)\n",
            "Requirement already satisfied: python-dateutil>=2.8.1 in /usr/local/lib/python3.9/dist-packages (from pandas->evaluate) (2.8.2)\n",
            "Collecting yarl<2.0,>=1.0\n",
            "  Downloading yarl-1.8.2-cp39-cp39-manylinux_2_17_x86_64.manylinux2014_x86_64.whl (264 kB)\n",
            "\u001b[2K     \u001b[90m━━━━━━━━━━━━━━━━━━━━━━━━━━━━━━━━━━━━━━\u001b[0m \u001b[32m264.6/264.6 kB\u001b[0m \u001b[31m24.5 MB/s\u001b[0m eta \u001b[36m0:00:00\u001b[0m\n",
            "\u001b[?25hRequirement already satisfied: attrs>=17.3.0 in /usr/local/lib/python3.9/dist-packages (from aiohttp->datasets>=2.0.0->evaluate) (22.2.0)\n",
            "Collecting aiosignal>=1.1.2\n",
            "  Downloading aiosignal-1.3.1-py3-none-any.whl (7.6 kB)\n",
            "Collecting async-timeout<5.0,>=4.0.0a3\n",
            "  Downloading async_timeout-4.0.2-py3-none-any.whl (5.8 kB)\n",
            "Collecting frozenlist>=1.1.1\n",
            "  Downloading frozenlist-1.3.3-cp39-cp39-manylinux_2_5_x86_64.manylinux1_x86_64.manylinux_2_17_x86_64.manylinux2014_x86_64.whl (158 kB)\n",
            "\u001b[2K     \u001b[90m━━━━━━━━━━━━━━━━━━━━━━━━━━━━━━━━━━━━━━\u001b[0m \u001b[32m158.8/158.8 kB\u001b[0m \u001b[31m19.0 MB/s\u001b[0m eta \u001b[36m0:00:00\u001b[0m\n",
            "\u001b[?25hCollecting multidict<7.0,>=4.5\n",
            "  Downloading multidict-6.0.4-cp39-cp39-manylinux_2_17_x86_64.manylinux2014_x86_64.whl (114 kB)\n",
            "\u001b[2K     \u001b[90m━━━━━━━━━━━━━━━━━━━━━━━━━━━━━━━━━━━━━━\u001b[0m \u001b[32m114.2/114.2 kB\u001b[0m \u001b[31m11.1 MB/s\u001b[0m eta \u001b[36m0:00:00\u001b[0m\n",
            "\u001b[?25hRequirement already satisfied: six>=1.5 in /usr/local/lib/python3.9/dist-packages (from python-dateutil>=2.8.1->pandas->evaluate) (1.16.0)\n",
            "Installing collected packages: xxhash, multidict, frozenlist, dill, async-timeout, yarl, responses, multiprocess, aiosignal, aiohttp, datasets, evaluate\n",
            "Successfully installed aiohttp-3.8.4 aiosignal-1.3.1 async-timeout-4.0.2 datasets-2.11.0 dill-0.3.6 evaluate-0.4.0 frozenlist-1.3.3 multidict-6.0.4 multiprocess-0.70.14 responses-0.18.0 xxhash-3.2.0 yarl-1.8.2\n"
          ]
        }
      ]
    },
    {
      "cell_type": "code",
      "source": [
        "!pip install ax-platform"
      ],
      "metadata": {
        "id": "FxZ4fGWF2nt-",
        "colab": {
          "base_uri": "https://localhost:8080/"
        },
        "outputId": "88e0706b-3648-47b4-83ef-0e5c5f3a1736"
      },
      "execution_count": 10,
      "outputs": [
        {
          "output_type": "stream",
          "name": "stdout",
          "text": [
            "Looking in indexes: https://pypi.org/simple, https://us-python.pkg.dev/colab-wheels/public/simple/\n",
            "Collecting ax-platform\n",
            "  Downloading ax_platform-0.3.1-py3-none-any.whl (1.2 MB)\n",
            "\u001b[2K     \u001b[90m━━━━━━━━━━━━━━━━━━━━━━━━━━━━━━━━━━━━━━━━\u001b[0m \u001b[32m1.2/1.2 MB\u001b[0m \u001b[31m16.4 MB/s\u001b[0m eta \u001b[36m0:00:00\u001b[0m\n",
            "\u001b[?25hCollecting typeguard==2.13.3\n",
            "  Downloading typeguard-2.13.3-py3-none-any.whl (17 kB)\n",
            "Requirement already satisfied: plotly>=5.12.0 in /usr/local/lib/python3.9/dist-packages (from ax-platform) (5.13.1)\n",
            "Requirement already satisfied: ipywidgets in /usr/local/lib/python3.9/dist-packages (from ax-platform) (7.7.1)\n",
            "Requirement already satisfied: jinja2 in /usr/local/lib/python3.9/dist-packages (from ax-platform) (3.1.2)\n",
            "Requirement already satisfied: pandas in /usr/local/lib/python3.9/dist-packages (from ax-platform) (1.5.3)\n",
            "Requirement already satisfied: scikit-learn in /usr/local/lib/python3.9/dist-packages (from ax-platform) (1.2.2)\n",
            "Requirement already satisfied: scipy in /usr/local/lib/python3.9/dist-packages (from ax-platform) (1.10.1)\n",
            "Collecting botorch==0.8.3\n",
            "  Downloading botorch-0.8.3-py3-none-any.whl (521 kB)\n",
            "\u001b[2K     \u001b[90m━━━━━━━━━━━━━━━━━━━━━━━━━━━━━━━━━━━━━━\u001b[0m \u001b[32m521.8/521.8 kB\u001b[0m \u001b[31m49.4 MB/s\u001b[0m eta \u001b[36m0:00:00\u001b[0m\n",
            "\u001b[?25hCollecting linear-operator==0.3.0\n",
            "  Downloading linear_operator-0.3.0-py3-none-any.whl (155 kB)\n",
            "\u001b[2K     \u001b[90m━━━━━━━━━━━━━━━━━━━━━━━━━━━━━━━━━━━━━━\u001b[0m \u001b[32m155.6/155.6 kB\u001b[0m \u001b[31m22.1 MB/s\u001b[0m eta \u001b[36m0:00:00\u001b[0m\n",
            "\u001b[?25hCollecting gpytorch==1.9.1\n",
            "  Downloading gpytorch-1.9.1-py3-none-any.whl (250 kB)\n",
            "\u001b[2K     \u001b[90m━━━━━━━━━━━━━━━━━━━━━━━━━━━━━━━━━━━━━━\u001b[0m \u001b[32m250.9/250.9 kB\u001b[0m \u001b[31m30.2 MB/s\u001b[0m eta \u001b[36m0:00:00\u001b[0m\n",
            "\u001b[?25hRequirement already satisfied: torch>=1.12 in /usr/local/lib/python3.9/dist-packages (from botorch==0.8.3->ax-platform) (2.0.0+cu118)\n",
            "Requirement already satisfied: multipledispatch in /usr/local/lib/python3.9/dist-packages (from botorch==0.8.3->ax-platform) (0.6.0)\n",
            "Collecting pyro-ppl>=1.8.4\n",
            "  Downloading pyro_ppl-1.8.4-py3-none-any.whl (730 kB)\n",
            "\u001b[2K     \u001b[90m━━━━━━━━━━━━━━━━━━━━━━━━━━━━━━━━━━━━━━\u001b[0m \u001b[32m730.7/730.7 kB\u001b[0m \u001b[31m54.9 MB/s\u001b[0m eta \u001b[36m0:00:00\u001b[0m\n",
            "\u001b[?25hRequirement already satisfied: tenacity>=6.2.0 in /usr/local/lib/python3.9/dist-packages (from plotly>=5.12.0->ax-platform) (8.2.2)\n",
            "Requirement already satisfied: traitlets>=4.3.1 in /usr/local/lib/python3.9/dist-packages (from ipywidgets->ax-platform) (5.7.1)\n",
            "Requirement already satisfied: jupyterlab-widgets>=1.0.0 in /usr/local/lib/python3.9/dist-packages (from ipywidgets->ax-platform) (3.0.7)\n",
            "Requirement already satisfied: ipykernel>=4.5.1 in /usr/local/lib/python3.9/dist-packages (from ipywidgets->ax-platform) (5.5.6)\n",
            "Requirement already satisfied: ipython-genutils~=0.2.0 in /usr/local/lib/python3.9/dist-packages (from ipywidgets->ax-platform) (0.2.0)\n",
            "Requirement already satisfied: ipython>=4.0.0 in /usr/local/lib/python3.9/dist-packages (from ipywidgets->ax-platform) (7.34.0)\n",
            "Requirement already satisfied: widgetsnbextension~=3.6.0 in /usr/local/lib/python3.9/dist-packages (from ipywidgets->ax-platform) (3.6.4)\n",
            "Requirement already satisfied: MarkupSafe>=2.0 in /usr/local/lib/python3.9/dist-packages (from jinja2->ax-platform) (2.1.2)\n",
            "Requirement already satisfied: python-dateutil>=2.8.1 in /usr/local/lib/python3.9/dist-packages (from pandas->ax-platform) (2.8.2)\n",
            "Requirement already satisfied: pytz>=2020.1 in /usr/local/lib/python3.9/dist-packages (from pandas->ax-platform) (2022.7.1)\n",
            "Requirement already satisfied: numpy>=1.20.3 in /usr/local/lib/python3.9/dist-packages (from pandas->ax-platform) (1.22.4)\n",
            "Requirement already satisfied: joblib>=1.1.1 in /usr/local/lib/python3.9/dist-packages (from scikit-learn->ax-platform) (1.2.0)\n",
            "Requirement already satisfied: threadpoolctl>=2.0.0 in /usr/local/lib/python3.9/dist-packages (from scikit-learn->ax-platform) (3.1.0)\n",
            "Requirement already satisfied: jupyter-client in /usr/local/lib/python3.9/dist-packages (from ipykernel>=4.5.1->ipywidgets->ax-platform) (6.1.12)\n",
            "Requirement already satisfied: tornado>=4.2 in /usr/local/lib/python3.9/dist-packages (from ipykernel>=4.5.1->ipywidgets->ax-platform) (6.2)\n",
            "Requirement already satisfied: pexpect>4.3 in /usr/local/lib/python3.9/dist-packages (from ipython>=4.0.0->ipywidgets->ax-platform) (4.8.0)\n",
            "Requirement already satisfied: pickleshare in /usr/local/lib/python3.9/dist-packages (from ipython>=4.0.0->ipywidgets->ax-platform) (0.7.5)\n",
            "Requirement already satisfied: setuptools>=18.5 in /usr/local/lib/python3.9/dist-packages (from ipython>=4.0.0->ipywidgets->ax-platform) (67.6.1)\n",
            "Requirement already satisfied: decorator in /usr/local/lib/python3.9/dist-packages (from ipython>=4.0.0->ipywidgets->ax-platform) (4.4.2)\n",
            "Collecting jedi>=0.16\n",
            "  Downloading jedi-0.18.2-py2.py3-none-any.whl (1.6 MB)\n",
            "\u001b[2K     \u001b[90m━━━━━━━━━━━━━━━━━━━━━━━━━━━━━━━━━━━━━━━━\u001b[0m \u001b[32m1.6/1.6 MB\u001b[0m \u001b[31m79.3 MB/s\u001b[0m eta \u001b[36m0:00:00\u001b[0m\n",
            "\u001b[?25hRequirement already satisfied: backcall in /usr/local/lib/python3.9/dist-packages (from ipython>=4.0.0->ipywidgets->ax-platform) (0.2.0)\n",
            "Requirement already satisfied: prompt-toolkit!=3.0.0,!=3.0.1,<3.1.0,>=2.0.0 in /usr/local/lib/python3.9/dist-packages (from ipython>=4.0.0->ipywidgets->ax-platform) (3.0.38)\n",
            "Requirement already satisfied: pygments in /usr/local/lib/python3.9/dist-packages (from ipython>=4.0.0->ipywidgets->ax-platform) (2.14.0)\n",
            "Requirement already satisfied: matplotlib-inline in /usr/local/lib/python3.9/dist-packages (from ipython>=4.0.0->ipywidgets->ax-platform) (0.1.6)\n",
            "Collecting pyro-api>=0.1.1\n",
            "  Downloading pyro_api-0.1.2-py3-none-any.whl (11 kB)\n",
            "Requirement already satisfied: opt-einsum>=2.3.2 in /usr/local/lib/python3.9/dist-packages (from pyro-ppl>=1.8.4->botorch==0.8.3->ax-platform) (3.3.0)\n",
            "Requirement already satisfied: tqdm>=4.36 in /usr/local/lib/python3.9/dist-packages (from pyro-ppl>=1.8.4->botorch==0.8.3->ax-platform) (4.65.0)\n",
            "Requirement already satisfied: six>=1.5 in /usr/local/lib/python3.9/dist-packages (from python-dateutil>=2.8.1->pandas->ax-platform) (1.16.0)\n",
            "Requirement already satisfied: filelock in /usr/local/lib/python3.9/dist-packages (from torch>=1.12->botorch==0.8.3->ax-platform) (3.11.0)\n",
            "Requirement already satisfied: typing-extensions in /usr/local/lib/python3.9/dist-packages (from torch>=1.12->botorch==0.8.3->ax-platform) (4.5.0)\n",
            "Requirement already satisfied: triton==2.0.0 in /usr/local/lib/python3.9/dist-packages (from torch>=1.12->botorch==0.8.3->ax-platform) (2.0.0)\n",
            "Requirement already satisfied: networkx in /usr/local/lib/python3.9/dist-packages (from torch>=1.12->botorch==0.8.3->ax-platform) (3.1)\n",
            "Requirement already satisfied: sympy in /usr/local/lib/python3.9/dist-packages (from torch>=1.12->botorch==0.8.3->ax-platform) (1.11.1)\n",
            "Requirement already satisfied: lit in /usr/local/lib/python3.9/dist-packages (from triton==2.0.0->torch>=1.12->botorch==0.8.3->ax-platform) (16.0.1)\n",
            "Requirement already satisfied: cmake in /usr/local/lib/python3.9/dist-packages (from triton==2.0.0->torch>=1.12->botorch==0.8.3->ax-platform) (3.25.2)\n",
            "Requirement already satisfied: notebook>=4.4.1 in /usr/local/lib/python3.9/dist-packages (from widgetsnbextension~=3.6.0->ipywidgets->ax-platform) (6.4.8)\n",
            "Requirement already satisfied: parso<0.9.0,>=0.8.0 in /usr/local/lib/python3.9/dist-packages (from jedi>=0.16->ipython>=4.0.0->ipywidgets->ax-platform) (0.8.3)\n",
            "Requirement already satisfied: terminado>=0.8.3 in /usr/local/lib/python3.9/dist-packages (from notebook>=4.4.1->widgetsnbextension~=3.6.0->ipywidgets->ax-platform) (0.17.1)\n",
            "Requirement already satisfied: jupyter-core>=4.6.1 in /usr/local/lib/python3.9/dist-packages (from notebook>=4.4.1->widgetsnbextension~=3.6.0->ipywidgets->ax-platform) (5.3.0)\n",
            "Requirement already satisfied: pyzmq>=17 in /usr/local/lib/python3.9/dist-packages (from notebook>=4.4.1->widgetsnbextension~=3.6.0->ipywidgets->ax-platform) (23.2.1)\n",
            "Requirement already satisfied: nest-asyncio>=1.5 in /usr/local/lib/python3.9/dist-packages (from notebook>=4.4.1->widgetsnbextension~=3.6.0->ipywidgets->ax-platform) (1.5.6)\n",
            "Requirement already satisfied: Send2Trash>=1.8.0 in /usr/local/lib/python3.9/dist-packages (from notebook>=4.4.1->widgetsnbextension~=3.6.0->ipywidgets->ax-platform) (1.8.0)\n",
            "Requirement already satisfied: argon2-cffi in /usr/local/lib/python3.9/dist-packages (from notebook>=4.4.1->widgetsnbextension~=3.6.0->ipywidgets->ax-platform) (21.3.0)\n",
            "Requirement already satisfied: nbformat in /usr/local/lib/python3.9/dist-packages (from notebook>=4.4.1->widgetsnbextension~=3.6.0->ipywidgets->ax-platform) (5.8.0)\n",
            "Requirement already satisfied: nbconvert in /usr/local/lib/python3.9/dist-packages (from notebook>=4.4.1->widgetsnbextension~=3.6.0->ipywidgets->ax-platform) (6.5.4)\n",
            "Requirement already satisfied: prometheus-client in /usr/local/lib/python3.9/dist-packages (from notebook>=4.4.1->widgetsnbextension~=3.6.0->ipywidgets->ax-platform) (0.16.0)\n",
            "Requirement already satisfied: ptyprocess>=0.5 in /usr/local/lib/python3.9/dist-packages (from pexpect>4.3->ipython>=4.0.0->ipywidgets->ax-platform) (0.7.0)\n",
            "Requirement already satisfied: wcwidth in /usr/local/lib/python3.9/dist-packages (from prompt-toolkit!=3.0.0,!=3.0.1,<3.1.0,>=2.0.0->ipython>=4.0.0->ipywidgets->ax-platform) (0.2.6)\n",
            "Requirement already satisfied: mpmath>=0.19 in /usr/local/lib/python3.9/dist-packages (from sympy->torch>=1.12->botorch==0.8.3->ax-platform) (1.3.0)\n",
            "Requirement already satisfied: platformdirs>=2.5 in /usr/local/lib/python3.9/dist-packages (from jupyter-core>=4.6.1->notebook>=4.4.1->widgetsnbextension~=3.6.0->ipywidgets->ax-platform) (3.2.0)\n",
            "Requirement already satisfied: argon2-cffi-bindings in /usr/local/lib/python3.9/dist-packages (from argon2-cffi->notebook>=4.4.1->widgetsnbextension~=3.6.0->ipywidgets->ax-platform) (21.2.0)\n",
            "Requirement already satisfied: beautifulsoup4 in /usr/local/lib/python3.9/dist-packages (from nbconvert->notebook>=4.4.1->widgetsnbextension~=3.6.0->ipywidgets->ax-platform) (4.11.2)\n",
            "Requirement already satisfied: mistune<2,>=0.8.1 in /usr/local/lib/python3.9/dist-packages (from nbconvert->notebook>=4.4.1->widgetsnbextension~=3.6.0->ipywidgets->ax-platform) (0.8.4)\n",
            "Requirement already satisfied: nbclient>=0.5.0 in /usr/local/lib/python3.9/dist-packages (from nbconvert->notebook>=4.4.1->widgetsnbextension~=3.6.0->ipywidgets->ax-platform) (0.7.3)\n",
            "Requirement already satisfied: bleach in /usr/local/lib/python3.9/dist-packages (from nbconvert->notebook>=4.4.1->widgetsnbextension~=3.6.0->ipywidgets->ax-platform) (6.0.0)\n",
            "Requirement already satisfied: packaging in /usr/local/lib/python3.9/dist-packages (from nbconvert->notebook>=4.4.1->widgetsnbextension~=3.6.0->ipywidgets->ax-platform) (23.0)\n",
            "Requirement already satisfied: tinycss2 in /usr/local/lib/python3.9/dist-packages (from nbconvert->notebook>=4.4.1->widgetsnbextension~=3.6.0->ipywidgets->ax-platform) (1.2.1)\n",
            "Requirement already satisfied: defusedxml in /usr/local/lib/python3.9/dist-packages (from nbconvert->notebook>=4.4.1->widgetsnbextension~=3.6.0->ipywidgets->ax-platform) (0.7.1)\n",
            "Requirement already satisfied: entrypoints>=0.2.2 in /usr/local/lib/python3.9/dist-packages (from nbconvert->notebook>=4.4.1->widgetsnbextension~=3.6.0->ipywidgets->ax-platform) (0.4)\n",
            "Requirement already satisfied: jupyterlab-pygments in /usr/local/lib/python3.9/dist-packages (from nbconvert->notebook>=4.4.1->widgetsnbextension~=3.6.0->ipywidgets->ax-platform) (0.2.2)\n",
            "Requirement already satisfied: pandocfilters>=1.4.1 in /usr/local/lib/python3.9/dist-packages (from nbconvert->notebook>=4.4.1->widgetsnbextension~=3.6.0->ipywidgets->ax-platform) (1.5.0)\n",
            "Requirement already satisfied: lxml in /usr/local/lib/python3.9/dist-packages (from nbconvert->notebook>=4.4.1->widgetsnbextension~=3.6.0->ipywidgets->ax-platform) (4.9.2)\n",
            "Requirement already satisfied: jsonschema>=2.6 in /usr/local/lib/python3.9/dist-packages (from nbformat->notebook>=4.4.1->widgetsnbextension~=3.6.0->ipywidgets->ax-platform) (4.3.3)\n",
            "Requirement already satisfied: fastjsonschema in /usr/local/lib/python3.9/dist-packages (from nbformat->notebook>=4.4.1->widgetsnbextension~=3.6.0->ipywidgets->ax-platform) (2.16.3)\n",
            "Requirement already satisfied: pyrsistent!=0.17.0,!=0.17.1,!=0.17.2,>=0.14.0 in /usr/local/lib/python3.9/dist-packages (from jsonschema>=2.6->nbformat->notebook>=4.4.1->widgetsnbextension~=3.6.0->ipywidgets->ax-platform) (0.19.3)\n",
            "Requirement already satisfied: attrs>=17.4.0 in /usr/local/lib/python3.9/dist-packages (from jsonschema>=2.6->nbformat->notebook>=4.4.1->widgetsnbextension~=3.6.0->ipywidgets->ax-platform) (22.2.0)\n",
            "Requirement already satisfied: cffi>=1.0.1 in /usr/local/lib/python3.9/dist-packages (from argon2-cffi-bindings->argon2-cffi->notebook>=4.4.1->widgetsnbextension~=3.6.0->ipywidgets->ax-platform) (1.15.1)\n",
            "Requirement already satisfied: soupsieve>1.2 in /usr/local/lib/python3.9/dist-packages (from beautifulsoup4->nbconvert->notebook>=4.4.1->widgetsnbextension~=3.6.0->ipywidgets->ax-platform) (2.4)\n",
            "Requirement already satisfied: webencodings in /usr/local/lib/python3.9/dist-packages (from bleach->nbconvert->notebook>=4.4.1->widgetsnbextension~=3.6.0->ipywidgets->ax-platform) (0.5.1)\n",
            "Requirement already satisfied: pycparser in /usr/local/lib/python3.9/dist-packages (from cffi>=1.0.1->argon2-cffi-bindings->argon2-cffi->notebook>=4.4.1->widgetsnbextension~=3.6.0->ipywidgets->ax-platform) (2.21)\n",
            "Installing collected packages: pyro-api, typeguard, jedi, linear-operator, pyro-ppl, gpytorch, botorch, ax-platform\n",
            "Successfully installed ax-platform-0.3.1 botorch-0.8.3 gpytorch-1.9.1 jedi-0.18.2 linear-operator-0.3.0 pyro-api-0.1.2 pyro-ppl-1.8.4 typeguard-2.13.3\n"
          ]
        }
      ]
    },
    {
      "cell_type": "markdown",
      "source": [
        "# Imports and Classes #"
      ],
      "metadata": {
        "id": "msMc7AY-F6rh"
      }
    },
    {
      "cell_type": "code",
      "source": [
        "import numpy as np # linear algebra\n",
        "import pandas as pd # data processing, CSV file I/O (e.g. pd.read_csv)"
      ],
      "metadata": {
        "_uuid": "8f2839f25d086af736a60e9eeb907d3b93b6e0e5",
        "_cell_guid": "b1076dfc-b9ad-4769-8c92-a6c4dae69d19",
        "execution": {
          "iopub.status.busy": "2023-04-05T13:56:02.165309Z",
          "iopub.execute_input": "2023-04-05T13:56:02.165872Z",
          "iopub.status.idle": "2023-04-05T13:56:02.178171Z",
          "shell.execute_reply.started": "2023-04-05T13:56:02.165825Z",
          "shell.execute_reply": "2023-04-05T13:56:02.176753Z"
        },
        "trusted": true,
        "id": "dHK-we3FFKQS"
      },
      "execution_count": 11,
      "outputs": []
    },
    {
      "cell_type": "code",
      "source": [
        "import matplotlib.pyplot as plt\n",
        "import re\n",
        "from collections import OrderedDict\n",
        "import torch\n",
        "import transformers\n",
        "from transformers import AlbertTokenizer, AlbertModel, DistilBertTokenizer, DistilBertModel, RobertaTokenizer, RobertaModel\n",
        "from torch.utils.data import Dataset, DataLoader\n",
        "from torch import cuda\n",
        "from tqdm import tqdm\n",
        "from sklearn.metrics import classification_report, f1_score, accuracy_score, confusion_matrix, ConfusionMatrixDisplay\n",
        "from sklearn.model_selection import train_test_split\n",
        "device = 'cuda' if cuda.is_available() else 'cpu'\n",
        "import wandb"
      ],
      "metadata": {
        "execution": {
          "iopub.status.busy": "2023-04-05T13:56:02.180556Z",
          "iopub.execute_input": "2023-04-05T13:56:02.181744Z",
          "iopub.status.idle": "2023-04-05T13:56:02.193576Z",
          "shell.execute_reply.started": "2023-04-05T13:56:02.181687Z",
          "shell.execute_reply": "2023-04-05T13:56:02.191788Z"
        },
        "trusted": true,
        "id": "mo2sHhRlFKQX"
      },
      "execution_count": 12,
      "outputs": []
    },
    {
      "cell_type": "markdown",
      "source": [
        "### Training and Inference Loops ###"
      ],
      "metadata": {
        "id": "GNvydYJac6cu"
      }
    },
    {
      "cell_type": "markdown",
      "source": [
        "#I. Data Preprocessing #"
      ],
      "metadata": {
        "id": "5wXwmlGVFKQZ"
      }
    },
    {
      "cell_type": "markdown",
      "source": [
        "### EDA ###"
      ],
      "metadata": {
        "id": "dvJZ11Z0Yox7"
      }
    },
    {
      "cell_type": "code",
      "source": [
        "def data_quality(df):\n",
        "  # find datatype of each column\n",
        "  data_types = pd.DataFrame(df.dtypes, columns=['Data Type'])\n",
        "\n",
        "  # count number of missing observations by column\n",
        "  missing_data_counts = pd.DataFrame(df.isnull().sum(), columns=['Missing Values'])\n",
        "\n",
        "  # count number of present observations by column\n",
        "  present_data_counts = pd.DataFrame(df.count(), columns=['Present Values'])\n",
        "\n",
        "  # count number of unique observations by column\n",
        "  unique_value_counts = pd.DataFrame(columns=['Unique Values'])\n",
        "  for v in list(df.columns.values):\n",
        "      unique_value_counts.loc[v] = [df[v].nunique()]\n",
        "\n",
        "  data_quality_report = pd.concat([present_data_counts, missing_data_counts, unique_value_counts], axis=1)\n",
        "  return data_quality_report"
      ],
      "metadata": {
        "execution": {
          "iopub.status.busy": "2023-04-05T13:56:02.646767Z",
          "iopub.execute_input": "2023-04-05T13:56:02.647240Z",
          "iopub.status.idle": "2023-04-05T13:56:02.655771Z",
          "shell.execute_reply.started": "2023-04-05T13:56:02.647205Z",
          "shell.execute_reply": "2023-04-05T13:56:02.654222Z"
        },
        "trusted": true,
        "id": "nQ788ipOFKQa"
      },
      "execution_count": 13,
      "outputs": []
    },
    {
      "cell_type": "code",
      "source": [
        "d_train_orig = pd.read_csv(\"/content/drive/MyDrive/BT5151/group_project/train.csv\")\n",
        "d_test_orig = pd.read_csv(\"/content/drive/MyDrive/BT5151/group_project/test.csv\")\n",
        "s_train_orig = pd.read_csv(\"/content/drive/MyDrive/BT5151/group_project/tweets.csv\")"
      ],
      "metadata": {
        "execution": {
          "iopub.status.busy": "2023-04-05T13:56:02.657464Z",
          "iopub.execute_input": "2023-04-05T13:56:02.657840Z",
          "iopub.status.idle": "2023-04-05T13:56:02.781962Z",
          "shell.execute_reply.started": "2023-04-05T13:56:02.657788Z",
          "shell.execute_reply": "2023-04-05T13:56:02.780612Z"
        },
        "trusted": true,
        "id": "n16bnOsfFKQb"
      },
      "execution_count": 14,
      "outputs": []
    },
    {
      "cell_type": "code",
      "source": [
        "d_train_orig.head()"
      ],
      "metadata": {
        "execution": {
          "iopub.status.busy": "2023-04-05T13:56:02.783539Z",
          "iopub.execute_input": "2023-04-05T13:56:02.783902Z",
          "iopub.status.idle": "2023-04-05T13:56:02.800610Z",
          "shell.execute_reply.started": "2023-04-05T13:56:02.783867Z",
          "shell.execute_reply": "2023-04-05T13:56:02.798542Z"
        },
        "trusted": true,
        "colab": {
          "base_uri": "https://localhost:8080/",
          "height": 206
        },
        "id": "wdc5rQR6FKQb",
        "outputId": "e46b3ceb-8f07-4f6a-941a-b640e436ceca"
      },
      "execution_count": 15,
      "outputs": [
        {
          "output_type": "execute_result",
          "data": {
            "text/plain": [
              "   id keyword location                                               text  \\\n",
              "0   1     NaN      NaN  Our Deeds are the Reason of this #earthquake M...   \n",
              "1   4     NaN      NaN             Forest fire near La Ronge Sask. Canada   \n",
              "2   5     NaN      NaN  All residents asked to 'shelter in place' are ...   \n",
              "3   6     NaN      NaN  13,000 people receive #wildfires evacuation or...   \n",
              "4   7     NaN      NaN  Just got sent this photo from Ruby #Alaska as ...   \n",
              "\n",
              "   target  \n",
              "0       1  \n",
              "1       1  \n",
              "2       1  \n",
              "3       1  \n",
              "4       1  "
            ],
            "text/html": [
              "\n",
              "  <div id=\"df-cee1be51-deeb-4517-9063-49f99d29a258\">\n",
              "    <div class=\"colab-df-container\">\n",
              "      <div>\n",
              "<style scoped>\n",
              "    .dataframe tbody tr th:only-of-type {\n",
              "        vertical-align: middle;\n",
              "    }\n",
              "\n",
              "    .dataframe tbody tr th {\n",
              "        vertical-align: top;\n",
              "    }\n",
              "\n",
              "    .dataframe thead th {\n",
              "        text-align: right;\n",
              "    }\n",
              "</style>\n",
              "<table border=\"1\" class=\"dataframe\">\n",
              "  <thead>\n",
              "    <tr style=\"text-align: right;\">\n",
              "      <th></th>\n",
              "      <th>id</th>\n",
              "      <th>keyword</th>\n",
              "      <th>location</th>\n",
              "      <th>text</th>\n",
              "      <th>target</th>\n",
              "    </tr>\n",
              "  </thead>\n",
              "  <tbody>\n",
              "    <tr>\n",
              "      <th>0</th>\n",
              "      <td>1</td>\n",
              "      <td>NaN</td>\n",
              "      <td>NaN</td>\n",
              "      <td>Our Deeds are the Reason of this #earthquake M...</td>\n",
              "      <td>1</td>\n",
              "    </tr>\n",
              "    <tr>\n",
              "      <th>1</th>\n",
              "      <td>4</td>\n",
              "      <td>NaN</td>\n",
              "      <td>NaN</td>\n",
              "      <td>Forest fire near La Ronge Sask. Canada</td>\n",
              "      <td>1</td>\n",
              "    </tr>\n",
              "    <tr>\n",
              "      <th>2</th>\n",
              "      <td>5</td>\n",
              "      <td>NaN</td>\n",
              "      <td>NaN</td>\n",
              "      <td>All residents asked to 'shelter in place' are ...</td>\n",
              "      <td>1</td>\n",
              "    </tr>\n",
              "    <tr>\n",
              "      <th>3</th>\n",
              "      <td>6</td>\n",
              "      <td>NaN</td>\n",
              "      <td>NaN</td>\n",
              "      <td>13,000 people receive #wildfires evacuation or...</td>\n",
              "      <td>1</td>\n",
              "    </tr>\n",
              "    <tr>\n",
              "      <th>4</th>\n",
              "      <td>7</td>\n",
              "      <td>NaN</td>\n",
              "      <td>NaN</td>\n",
              "      <td>Just got sent this photo from Ruby #Alaska as ...</td>\n",
              "      <td>1</td>\n",
              "    </tr>\n",
              "  </tbody>\n",
              "</table>\n",
              "</div>\n",
              "      <button class=\"colab-df-convert\" onclick=\"convertToInteractive('df-cee1be51-deeb-4517-9063-49f99d29a258')\"\n",
              "              title=\"Convert this dataframe to an interactive table.\"\n",
              "              style=\"display:none;\">\n",
              "        \n",
              "  <svg xmlns=\"http://www.w3.org/2000/svg\" height=\"24px\"viewBox=\"0 0 24 24\"\n",
              "       width=\"24px\">\n",
              "    <path d=\"M0 0h24v24H0V0z\" fill=\"none\"/>\n",
              "    <path d=\"M18.56 5.44l.94 2.06.94-2.06 2.06-.94-2.06-.94-.94-2.06-.94 2.06-2.06.94zm-11 1L8.5 8.5l.94-2.06 2.06-.94-2.06-.94L8.5 2.5l-.94 2.06-2.06.94zm10 10l.94 2.06.94-2.06 2.06-.94-2.06-.94-.94-2.06-.94 2.06-2.06.94z\"/><path d=\"M17.41 7.96l-1.37-1.37c-.4-.4-.92-.59-1.43-.59-.52 0-1.04.2-1.43.59L10.3 9.45l-7.72 7.72c-.78.78-.78 2.05 0 2.83L4 21.41c.39.39.9.59 1.41.59.51 0 1.02-.2 1.41-.59l7.78-7.78 2.81-2.81c.8-.78.8-2.07 0-2.86zM5.41 20L4 18.59l7.72-7.72 1.47 1.35L5.41 20z\"/>\n",
              "  </svg>\n",
              "      </button>\n",
              "      \n",
              "  <style>\n",
              "    .colab-df-container {\n",
              "      display:flex;\n",
              "      flex-wrap:wrap;\n",
              "      gap: 12px;\n",
              "    }\n",
              "\n",
              "    .colab-df-convert {\n",
              "      background-color: #E8F0FE;\n",
              "      border: none;\n",
              "      border-radius: 50%;\n",
              "      cursor: pointer;\n",
              "      display: none;\n",
              "      fill: #1967D2;\n",
              "      height: 32px;\n",
              "      padding: 0 0 0 0;\n",
              "      width: 32px;\n",
              "    }\n",
              "\n",
              "    .colab-df-convert:hover {\n",
              "      background-color: #E2EBFA;\n",
              "      box-shadow: 0px 1px 2px rgba(60, 64, 67, 0.3), 0px 1px 3px 1px rgba(60, 64, 67, 0.15);\n",
              "      fill: #174EA6;\n",
              "    }\n",
              "\n",
              "    [theme=dark] .colab-df-convert {\n",
              "      background-color: #3B4455;\n",
              "      fill: #D2E3FC;\n",
              "    }\n",
              "\n",
              "    [theme=dark] .colab-df-convert:hover {\n",
              "      background-color: #434B5C;\n",
              "      box-shadow: 0px 1px 3px 1px rgba(0, 0, 0, 0.15);\n",
              "      filter: drop-shadow(0px 1px 2px rgba(0, 0, 0, 0.3));\n",
              "      fill: #FFFFFF;\n",
              "    }\n",
              "  </style>\n",
              "\n",
              "      <script>\n",
              "        const buttonEl =\n",
              "          document.querySelector('#df-cee1be51-deeb-4517-9063-49f99d29a258 button.colab-df-convert');\n",
              "        buttonEl.style.display =\n",
              "          google.colab.kernel.accessAllowed ? 'block' : 'none';\n",
              "\n",
              "        async function convertToInteractive(key) {\n",
              "          const element = document.querySelector('#df-cee1be51-deeb-4517-9063-49f99d29a258');\n",
              "          const dataTable =\n",
              "            await google.colab.kernel.invokeFunction('convertToInteractive',\n",
              "                                                     [key], {});\n",
              "          if (!dataTable) return;\n",
              "\n",
              "          const docLinkHtml = 'Like what you see? Visit the ' +\n",
              "            '<a target=\"_blank\" href=https://colab.research.google.com/notebooks/data_table.ipynb>data table notebook</a>'\n",
              "            + ' to learn more about interactive tables.';\n",
              "          element.innerHTML = '';\n",
              "          dataTable['output_type'] = 'display_data';\n",
              "          await google.colab.output.renderOutput(dataTable, element);\n",
              "          const docLink = document.createElement('div');\n",
              "          docLink.innerHTML = docLinkHtml;\n",
              "          element.appendChild(docLink);\n",
              "        }\n",
              "      </script>\n",
              "    </div>\n",
              "  </div>\n",
              "  "
            ]
          },
          "metadata": {},
          "execution_count": 15
        }
      ]
    },
    {
      "cell_type": "code",
      "source": [
        "d_test_orig.head()"
      ],
      "metadata": {
        "execution": {
          "iopub.status.busy": "2023-04-05T13:56:02.803021Z",
          "iopub.execute_input": "2023-04-05T13:56:02.803463Z",
          "iopub.status.idle": "2023-04-05T13:56:02.824729Z",
          "shell.execute_reply.started": "2023-04-05T13:56:02.803425Z",
          "shell.execute_reply": "2023-04-05T13:56:02.822362Z"
        },
        "trusted": true,
        "colab": {
          "base_uri": "https://localhost:8080/",
          "height": 206
        },
        "id": "Ux_qh-DZFKQc",
        "outputId": "2ff0cbf7-5fc2-4013-db25-433ad4d4a7c4"
      },
      "execution_count": 16,
      "outputs": [
        {
          "output_type": "execute_result",
          "data": {
            "text/plain": [
              "   id keyword location                                               text\n",
              "0   0     NaN      NaN                 Just happened a terrible car crash\n",
              "1   2     NaN      NaN  Heard about #earthquake is different cities, s...\n",
              "2   3     NaN      NaN  there is a forest fire at spot pond, geese are...\n",
              "3   9     NaN      NaN           Apocalypse lighting. #Spokane #wildfires\n",
              "4  11     NaN      NaN      Typhoon Soudelor kills 28 in China and Taiwan"
            ],
            "text/html": [
              "\n",
              "  <div id=\"df-de3b72a8-881c-497e-91ab-a70248bc5714\">\n",
              "    <div class=\"colab-df-container\">\n",
              "      <div>\n",
              "<style scoped>\n",
              "    .dataframe tbody tr th:only-of-type {\n",
              "        vertical-align: middle;\n",
              "    }\n",
              "\n",
              "    .dataframe tbody tr th {\n",
              "        vertical-align: top;\n",
              "    }\n",
              "\n",
              "    .dataframe thead th {\n",
              "        text-align: right;\n",
              "    }\n",
              "</style>\n",
              "<table border=\"1\" class=\"dataframe\">\n",
              "  <thead>\n",
              "    <tr style=\"text-align: right;\">\n",
              "      <th></th>\n",
              "      <th>id</th>\n",
              "      <th>keyword</th>\n",
              "      <th>location</th>\n",
              "      <th>text</th>\n",
              "    </tr>\n",
              "  </thead>\n",
              "  <tbody>\n",
              "    <tr>\n",
              "      <th>0</th>\n",
              "      <td>0</td>\n",
              "      <td>NaN</td>\n",
              "      <td>NaN</td>\n",
              "      <td>Just happened a terrible car crash</td>\n",
              "    </tr>\n",
              "    <tr>\n",
              "      <th>1</th>\n",
              "      <td>2</td>\n",
              "      <td>NaN</td>\n",
              "      <td>NaN</td>\n",
              "      <td>Heard about #earthquake is different cities, s...</td>\n",
              "    </tr>\n",
              "    <tr>\n",
              "      <th>2</th>\n",
              "      <td>3</td>\n",
              "      <td>NaN</td>\n",
              "      <td>NaN</td>\n",
              "      <td>there is a forest fire at spot pond, geese are...</td>\n",
              "    </tr>\n",
              "    <tr>\n",
              "      <th>3</th>\n",
              "      <td>9</td>\n",
              "      <td>NaN</td>\n",
              "      <td>NaN</td>\n",
              "      <td>Apocalypse lighting. #Spokane #wildfires</td>\n",
              "    </tr>\n",
              "    <tr>\n",
              "      <th>4</th>\n",
              "      <td>11</td>\n",
              "      <td>NaN</td>\n",
              "      <td>NaN</td>\n",
              "      <td>Typhoon Soudelor kills 28 in China and Taiwan</td>\n",
              "    </tr>\n",
              "  </tbody>\n",
              "</table>\n",
              "</div>\n",
              "      <button class=\"colab-df-convert\" onclick=\"convertToInteractive('df-de3b72a8-881c-497e-91ab-a70248bc5714')\"\n",
              "              title=\"Convert this dataframe to an interactive table.\"\n",
              "              style=\"display:none;\">\n",
              "        \n",
              "  <svg xmlns=\"http://www.w3.org/2000/svg\" height=\"24px\"viewBox=\"0 0 24 24\"\n",
              "       width=\"24px\">\n",
              "    <path d=\"M0 0h24v24H0V0z\" fill=\"none\"/>\n",
              "    <path d=\"M18.56 5.44l.94 2.06.94-2.06 2.06-.94-2.06-.94-.94-2.06-.94 2.06-2.06.94zm-11 1L8.5 8.5l.94-2.06 2.06-.94-2.06-.94L8.5 2.5l-.94 2.06-2.06.94zm10 10l.94 2.06.94-2.06 2.06-.94-2.06-.94-.94-2.06-.94 2.06-2.06.94z\"/><path d=\"M17.41 7.96l-1.37-1.37c-.4-.4-.92-.59-1.43-.59-.52 0-1.04.2-1.43.59L10.3 9.45l-7.72 7.72c-.78.78-.78 2.05 0 2.83L4 21.41c.39.39.9.59 1.41.59.51 0 1.02-.2 1.41-.59l7.78-7.78 2.81-2.81c.8-.78.8-2.07 0-2.86zM5.41 20L4 18.59l7.72-7.72 1.47 1.35L5.41 20z\"/>\n",
              "  </svg>\n",
              "      </button>\n",
              "      \n",
              "  <style>\n",
              "    .colab-df-container {\n",
              "      display:flex;\n",
              "      flex-wrap:wrap;\n",
              "      gap: 12px;\n",
              "    }\n",
              "\n",
              "    .colab-df-convert {\n",
              "      background-color: #E8F0FE;\n",
              "      border: none;\n",
              "      border-radius: 50%;\n",
              "      cursor: pointer;\n",
              "      display: none;\n",
              "      fill: #1967D2;\n",
              "      height: 32px;\n",
              "      padding: 0 0 0 0;\n",
              "      width: 32px;\n",
              "    }\n",
              "\n",
              "    .colab-df-convert:hover {\n",
              "      background-color: #E2EBFA;\n",
              "      box-shadow: 0px 1px 2px rgba(60, 64, 67, 0.3), 0px 1px 3px 1px rgba(60, 64, 67, 0.15);\n",
              "      fill: #174EA6;\n",
              "    }\n",
              "\n",
              "    [theme=dark] .colab-df-convert {\n",
              "      background-color: #3B4455;\n",
              "      fill: #D2E3FC;\n",
              "    }\n",
              "\n",
              "    [theme=dark] .colab-df-convert:hover {\n",
              "      background-color: #434B5C;\n",
              "      box-shadow: 0px 1px 3px 1px rgba(0, 0, 0, 0.15);\n",
              "      filter: drop-shadow(0px 1px 2px rgba(0, 0, 0, 0.3));\n",
              "      fill: #FFFFFF;\n",
              "    }\n",
              "  </style>\n",
              "\n",
              "      <script>\n",
              "        const buttonEl =\n",
              "          document.querySelector('#df-de3b72a8-881c-497e-91ab-a70248bc5714 button.colab-df-convert');\n",
              "        buttonEl.style.display =\n",
              "          google.colab.kernel.accessAllowed ? 'block' : 'none';\n",
              "\n",
              "        async function convertToInteractive(key) {\n",
              "          const element = document.querySelector('#df-de3b72a8-881c-497e-91ab-a70248bc5714');\n",
              "          const dataTable =\n",
              "            await google.colab.kernel.invokeFunction('convertToInteractive',\n",
              "                                                     [key], {});\n",
              "          if (!dataTable) return;\n",
              "\n",
              "          const docLinkHtml = 'Like what you see? Visit the ' +\n",
              "            '<a target=\"_blank\" href=https://colab.research.google.com/notebooks/data_table.ipynb>data table notebook</a>'\n",
              "            + ' to learn more about interactive tables.';\n",
              "          element.innerHTML = '';\n",
              "          dataTable['output_type'] = 'display_data';\n",
              "          await google.colab.output.renderOutput(dataTable, element);\n",
              "          const docLink = document.createElement('div');\n",
              "          docLink.innerHTML = docLinkHtml;\n",
              "          element.appendChild(docLink);\n",
              "        }\n",
              "      </script>\n",
              "    </div>\n",
              "  </div>\n",
              "  "
            ]
          },
          "metadata": {},
          "execution_count": 16
        }
      ]
    },
    {
      "cell_type": "code",
      "source": [
        "s_train_orig.head()"
      ],
      "metadata": {
        "execution": {
          "iopub.status.busy": "2023-04-05T13:56:02.826855Z",
          "iopub.execute_input": "2023-04-05T13:56:02.827491Z",
          "iopub.status.idle": "2023-04-05T13:56:02.844270Z",
          "shell.execute_reply.started": "2023-04-05T13:56:02.827447Z",
          "shell.execute_reply": "2023-04-05T13:56:02.842636Z"
        },
        "trusted": true,
        "colab": {
          "base_uri": "https://localhost:8080/",
          "height": 206
        },
        "id": "g1v669vZFKQc",
        "outputId": "0510877f-a8f1-4c76-92b6-863c615602f6"
      },
      "execution_count": 17,
      "outputs": [
        {
          "output_type": "execute_result",
          "data": {
            "text/plain": [
              "       textID                                               text  \\\n",
              "0  cb774db0d1                I`d have responded, if I were going   \n",
              "1  549e992a42      Sooo SAD I will miss you here in San Diego!!!   \n",
              "2  088c60f138                          my boss is bullying me...   \n",
              "3  9642c003ef                     what interview! leave me alone   \n",
              "4  358bd9e861   Sons of ****, why couldn`t they put them on t...   \n",
              "\n",
              "                         selected_text sentiment  \n",
              "0  I`d have responded, if I were going   neutral  \n",
              "1                             Sooo SAD  negative  \n",
              "2                          bullying me  negative  \n",
              "3                       leave me alone  negative  \n",
              "4                        Sons of ****,  negative  "
            ],
            "text/html": [
              "\n",
              "  <div id=\"df-cc4350e2-47e2-4b6a-987d-f7b6eae8033e\">\n",
              "    <div class=\"colab-df-container\">\n",
              "      <div>\n",
              "<style scoped>\n",
              "    .dataframe tbody tr th:only-of-type {\n",
              "        vertical-align: middle;\n",
              "    }\n",
              "\n",
              "    .dataframe tbody tr th {\n",
              "        vertical-align: top;\n",
              "    }\n",
              "\n",
              "    .dataframe thead th {\n",
              "        text-align: right;\n",
              "    }\n",
              "</style>\n",
              "<table border=\"1\" class=\"dataframe\">\n",
              "  <thead>\n",
              "    <tr style=\"text-align: right;\">\n",
              "      <th></th>\n",
              "      <th>textID</th>\n",
              "      <th>text</th>\n",
              "      <th>selected_text</th>\n",
              "      <th>sentiment</th>\n",
              "    </tr>\n",
              "  </thead>\n",
              "  <tbody>\n",
              "    <tr>\n",
              "      <th>0</th>\n",
              "      <td>cb774db0d1</td>\n",
              "      <td>I`d have responded, if I were going</td>\n",
              "      <td>I`d have responded, if I were going</td>\n",
              "      <td>neutral</td>\n",
              "    </tr>\n",
              "    <tr>\n",
              "      <th>1</th>\n",
              "      <td>549e992a42</td>\n",
              "      <td>Sooo SAD I will miss you here in San Diego!!!</td>\n",
              "      <td>Sooo SAD</td>\n",
              "      <td>negative</td>\n",
              "    </tr>\n",
              "    <tr>\n",
              "      <th>2</th>\n",
              "      <td>088c60f138</td>\n",
              "      <td>my boss is bullying me...</td>\n",
              "      <td>bullying me</td>\n",
              "      <td>negative</td>\n",
              "    </tr>\n",
              "    <tr>\n",
              "      <th>3</th>\n",
              "      <td>9642c003ef</td>\n",
              "      <td>what interview! leave me alone</td>\n",
              "      <td>leave me alone</td>\n",
              "      <td>negative</td>\n",
              "    </tr>\n",
              "    <tr>\n",
              "      <th>4</th>\n",
              "      <td>358bd9e861</td>\n",
              "      <td>Sons of ****, why couldn`t they put them on t...</td>\n",
              "      <td>Sons of ****,</td>\n",
              "      <td>negative</td>\n",
              "    </tr>\n",
              "  </tbody>\n",
              "</table>\n",
              "</div>\n",
              "      <button class=\"colab-df-convert\" onclick=\"convertToInteractive('df-cc4350e2-47e2-4b6a-987d-f7b6eae8033e')\"\n",
              "              title=\"Convert this dataframe to an interactive table.\"\n",
              "              style=\"display:none;\">\n",
              "        \n",
              "  <svg xmlns=\"http://www.w3.org/2000/svg\" height=\"24px\"viewBox=\"0 0 24 24\"\n",
              "       width=\"24px\">\n",
              "    <path d=\"M0 0h24v24H0V0z\" fill=\"none\"/>\n",
              "    <path d=\"M18.56 5.44l.94 2.06.94-2.06 2.06-.94-2.06-.94-.94-2.06-.94 2.06-2.06.94zm-11 1L8.5 8.5l.94-2.06 2.06-.94-2.06-.94L8.5 2.5l-.94 2.06-2.06.94zm10 10l.94 2.06.94-2.06 2.06-.94-2.06-.94-.94-2.06-.94 2.06-2.06.94z\"/><path d=\"M17.41 7.96l-1.37-1.37c-.4-.4-.92-.59-1.43-.59-.52 0-1.04.2-1.43.59L10.3 9.45l-7.72 7.72c-.78.78-.78 2.05 0 2.83L4 21.41c.39.39.9.59 1.41.59.51 0 1.02-.2 1.41-.59l7.78-7.78 2.81-2.81c.8-.78.8-2.07 0-2.86zM5.41 20L4 18.59l7.72-7.72 1.47 1.35L5.41 20z\"/>\n",
              "  </svg>\n",
              "      </button>\n",
              "      \n",
              "  <style>\n",
              "    .colab-df-container {\n",
              "      display:flex;\n",
              "      flex-wrap:wrap;\n",
              "      gap: 12px;\n",
              "    }\n",
              "\n",
              "    .colab-df-convert {\n",
              "      background-color: #E8F0FE;\n",
              "      border: none;\n",
              "      border-radius: 50%;\n",
              "      cursor: pointer;\n",
              "      display: none;\n",
              "      fill: #1967D2;\n",
              "      height: 32px;\n",
              "      padding: 0 0 0 0;\n",
              "      width: 32px;\n",
              "    }\n",
              "\n",
              "    .colab-df-convert:hover {\n",
              "      background-color: #E2EBFA;\n",
              "      box-shadow: 0px 1px 2px rgba(60, 64, 67, 0.3), 0px 1px 3px 1px rgba(60, 64, 67, 0.15);\n",
              "      fill: #174EA6;\n",
              "    }\n",
              "\n",
              "    [theme=dark] .colab-df-convert {\n",
              "      background-color: #3B4455;\n",
              "      fill: #D2E3FC;\n",
              "    }\n",
              "\n",
              "    [theme=dark] .colab-df-convert:hover {\n",
              "      background-color: #434B5C;\n",
              "      box-shadow: 0px 1px 3px 1px rgba(0, 0, 0, 0.15);\n",
              "      filter: drop-shadow(0px 1px 2px rgba(0, 0, 0, 0.3));\n",
              "      fill: #FFFFFF;\n",
              "    }\n",
              "  </style>\n",
              "\n",
              "      <script>\n",
              "        const buttonEl =\n",
              "          document.querySelector('#df-cc4350e2-47e2-4b6a-987d-f7b6eae8033e button.colab-df-convert');\n",
              "        buttonEl.style.display =\n",
              "          google.colab.kernel.accessAllowed ? 'block' : 'none';\n",
              "\n",
              "        async function convertToInteractive(key) {\n",
              "          const element = document.querySelector('#df-cc4350e2-47e2-4b6a-987d-f7b6eae8033e');\n",
              "          const dataTable =\n",
              "            await google.colab.kernel.invokeFunction('convertToInteractive',\n",
              "                                                     [key], {});\n",
              "          if (!dataTable) return;\n",
              "\n",
              "          const docLinkHtml = 'Like what you see? Visit the ' +\n",
              "            '<a target=\"_blank\" href=https://colab.research.google.com/notebooks/data_table.ipynb>data table notebook</a>'\n",
              "            + ' to learn more about interactive tables.';\n",
              "          element.innerHTML = '';\n",
              "          dataTable['output_type'] = 'display_data';\n",
              "          await google.colab.output.renderOutput(dataTable, element);\n",
              "          const docLink = document.createElement('div');\n",
              "          docLink.innerHTML = docLinkHtml;\n",
              "          element.appendChild(docLink);\n",
              "        }\n",
              "      </script>\n",
              "    </div>\n",
              "  </div>\n",
              "  "
            ]
          },
          "metadata": {},
          "execution_count": 17
        }
      ]
    },
    {
      "cell_type": "code",
      "source": [
        "print(f\"d_train:{d_train_orig.shape}\\nd_test:{d_test_orig.shape}\\ns_test:{s_train_orig.shape}\")"
      ],
      "metadata": {
        "execution": {
          "iopub.status.busy": "2023-04-05T13:56:02.846125Z",
          "iopub.execute_input": "2023-04-05T13:56:02.846622Z",
          "iopub.status.idle": "2023-04-05T13:56:02.856735Z",
          "shell.execute_reply.started": "2023-04-05T13:56:02.846561Z",
          "shell.execute_reply": "2023-04-05T13:56:02.855258Z"
        },
        "trusted": true,
        "colab": {
          "base_uri": "https://localhost:8080/"
        },
        "id": "fak6bNeQFKQd",
        "outputId": "a50f5853-6734-4a22-c2cb-99bc20ba8bbd"
      },
      "execution_count": 18,
      "outputs": [
        {
          "output_type": "stream",
          "name": "stdout",
          "text": [
            "d_train:(7613, 5)\n",
            "d_test:(3263, 4)\n",
            "s_test:(27481, 4)\n"
          ]
        }
      ]
    },
    {
      "cell_type": "code",
      "source": [
        "total = d_train_orig.target.value_counts().sum()\n",
        "neg = d_train_orig.target.value_counts()[0]\n",
        "pos = d_train_orig.target.value_counts()[1]\n",
        "print(f\"Not Disaster: Count = {neg} Percent = {neg/total}\\n\"\n",
        "     f\"Disaster:  Count = {pos} Percent = {pos/total}\\n\")"
      ],
      "metadata": {
        "execution": {
          "iopub.status.busy": "2023-04-05T13:56:02.863151Z",
          "iopub.execute_input": "2023-04-05T13:56:02.863612Z",
          "iopub.status.idle": "2023-04-05T13:56:02.879904Z",
          "shell.execute_reply.started": "2023-04-05T13:56:02.863571Z",
          "shell.execute_reply": "2023-04-05T13:56:02.878303Z"
        },
        "trusted": true,
        "colab": {
          "base_uri": "https://localhost:8080/"
        },
        "id": "ZQqzoU-FFKQd",
        "outputId": "b12b1bfd-8147-420a-cc11-8d439af72c4e"
      },
      "execution_count": 19,
      "outputs": [
        {
          "output_type": "stream",
          "name": "stdout",
          "text": [
            "Not Disaster: Count = 4342 Percent = 0.5703402075397347\n",
            "Disaster:  Count = 3271 Percent = 0.4296597924602653\n",
            "\n"
          ]
        }
      ]
    },
    {
      "cell_type": "code",
      "source": [
        "total = s_train_orig.sentiment.value_counts().sum()\n",
        "neu = s_train_orig.sentiment.value_counts()['neutral']\n",
        "neg = s_train_orig.sentiment.value_counts()['negative']\n",
        "pos = s_train_orig.sentiment.value_counts()['positive']\n",
        "print(f\"Neutral: Count = {neu} Percent = {neu/total}\\n\"\n",
        "    f\"Negative: Count = {neg} Percent = {neg/total}\\n\"\n",
        "     f\"Positve:  Count = {pos} Percent = {pos/total}\\n\")"
      ],
      "metadata": {
        "execution": {
          "iopub.status.busy": "2023-04-05T13:56:02.882315Z",
          "iopub.execute_input": "2023-04-05T13:56:02.882702Z",
          "iopub.status.idle": "2023-04-05T13:56:02.902673Z",
          "shell.execute_reply.started": "2023-04-05T13:56:02.882667Z",
          "shell.execute_reply": "2023-04-05T13:56:02.900764Z"
        },
        "trusted": true,
        "colab": {
          "base_uri": "https://localhost:8080/"
        },
        "id": "HpO54GOVFKQd",
        "outputId": "4ff41839-1890-42c8-8854-397d85d9dbdc"
      },
      "execution_count": 20,
      "outputs": [
        {
          "output_type": "stream",
          "name": "stdout",
          "text": [
            "Neutral: Count = 11118 Percent = 0.4045704304792402\n",
            "Negative: Count = 7781 Percent = 0.2831410792911466\n",
            "Positve:  Count = 8582 Percent = 0.3122884902296132\n",
            "\n"
          ]
        }
      ]
    },
    {
      "cell_type": "code",
      "source": [
        "d_train_orig.columns"
      ],
      "metadata": {
        "execution": {
          "iopub.status.busy": "2023-04-05T13:56:02.905126Z",
          "iopub.execute_input": "2023-04-05T13:56:02.906267Z",
          "iopub.status.idle": "2023-04-05T13:56:02.924660Z",
          "shell.execute_reply.started": "2023-04-05T13:56:02.906195Z",
          "shell.execute_reply": "2023-04-05T13:56:02.922958Z"
        },
        "trusted": true,
        "colab": {
          "base_uri": "https://localhost:8080/"
        },
        "id": "9P5AURz5FKQe",
        "outputId": "b15a99cc-965a-460e-e9dd-3ee5a218b93b"
      },
      "execution_count": 21,
      "outputs": [
        {
          "output_type": "execute_result",
          "data": {
            "text/plain": [
              "Index(['id', 'keyword', 'location', 'text', 'target'], dtype='object')"
            ]
          },
          "metadata": {},
          "execution_count": 21
        }
      ]
    },
    {
      "cell_type": "code",
      "source": [
        "s_train_orig.columns"
      ],
      "metadata": {
        "execution": {
          "iopub.status.busy": "2023-04-05T13:56:02.926975Z",
          "iopub.execute_input": "2023-04-05T13:56:02.927628Z",
          "iopub.status.idle": "2023-04-05T13:56:02.938334Z",
          "shell.execute_reply.started": "2023-04-05T13:56:02.927569Z",
          "shell.execute_reply": "2023-04-05T13:56:02.936777Z"
        },
        "trusted": true,
        "colab": {
          "base_uri": "https://localhost:8080/"
        },
        "id": "9Rbn9IVyFKQe",
        "outputId": "c31eddf7-4abe-44e2-e6fe-19581f83ce59"
      },
      "execution_count": 22,
      "outputs": [
        {
          "output_type": "execute_result",
          "data": {
            "text/plain": [
              "Index(['textID', 'text', 'selected_text', 'sentiment'], dtype='object')"
            ]
          },
          "metadata": {},
          "execution_count": 22
        }
      ]
    },
    {
      "cell_type": "code",
      "source": [
        "print(data_quality(d_train_orig))"
      ],
      "metadata": {
        "execution": {
          "iopub.status.busy": "2023-04-05T13:56:02.940363Z",
          "iopub.execute_input": "2023-04-05T13:56:02.940776Z",
          "iopub.status.idle": "2023-04-05T13:56:03.007714Z",
          "shell.execute_reply.started": "2023-04-05T13:56:02.940740Z",
          "shell.execute_reply": "2023-04-05T13:56:03.006285Z"
        },
        "trusted": true,
        "colab": {
          "base_uri": "https://localhost:8080/"
        },
        "id": "kJYNNXIOFKQe",
        "outputId": "ab774824-0bfd-478c-f58c-82e4a60d64eb"
      },
      "execution_count": 23,
      "outputs": [
        {
          "output_type": "stream",
          "name": "stdout",
          "text": [
            "          Present Values  Missing Values  Unique Values\n",
            "id                  7613               0           7613\n",
            "keyword             7552              61            221\n",
            "location            5080            2533           3341\n",
            "text                7613               0           7503\n",
            "target              7613               0              2\n"
          ]
        }
      ]
    },
    {
      "cell_type": "code",
      "source": [
        "print(data_quality(s_train_orig))"
      ],
      "metadata": {
        "execution": {
          "iopub.status.busy": "2023-04-05T13:56:03.009897Z",
          "iopub.execute_input": "2023-04-05T13:56:03.010448Z",
          "iopub.status.idle": "2023-04-05T13:56:03.048313Z",
          "shell.execute_reply.started": "2023-04-05T13:56:03.010393Z",
          "shell.execute_reply": "2023-04-05T13:56:03.046825Z"
        },
        "trusted": true,
        "colab": {
          "base_uri": "https://localhost:8080/"
        },
        "id": "PhSbqCTGFKQe",
        "outputId": "a4b1dc98-d86f-4919-f1a7-58fdff35a083"
      },
      "execution_count": 24,
      "outputs": [
        {
          "output_type": "stream",
          "name": "stdout",
          "text": [
            "               Present Values  Missing Values  Unique Values\n",
            "textID                  27481               0          27481\n",
            "text                    27480               1          27480\n",
            "selected_text           27480               1          22463\n",
            "sentiment               27481               0              3\n"
          ]
        }
      ]
    },
    {
      "cell_type": "markdown",
      "source": [
        "### Data Preprocessing ###"
      ],
      "metadata": {
        "id": "SY1bjqnLFKQe"
      }
    },
    {
      "cell_type": "code",
      "source": [
        "# Helper function that will map sentiment to numerical values\n",
        "def map_sentiment(x):\n",
        "    if x == \"negative\":\n",
        "        return 1\n",
        "    elif x ==\"neutral\":\n",
        "        return 0\n",
        "    elif x ==\"positive\":\n",
        "        return 2\n",
        "    else:\n",
        "        return None\n",
        "\n",
        "# Custom Dataset for D1 that will tokenize text and arrange output and labels in a dictionary\n",
        "class DisasterData(Dataset):\n",
        "    def __init__(self, dataframe, tokenizer, max_len):\n",
        "        self.tokenizer = tokenizer\n",
        "        self.data = dataframe\n",
        "        self.text = dataframe.text\n",
        "        self.targets = self.data.target\n",
        "        self.max_len = max_len\n",
        "\n",
        "    def __len__(self):\n",
        "        return len(self.text)\n",
        "\n",
        "    def __getitem__(self, index):\n",
        "        text = str(self.text[index])\n",
        "        text = \" \".join(text.split())\n",
        "\n",
        "        inputs = self.tokenizer.encode_plus(\n",
        "            text,\n",
        "            None,\n",
        "            add_special_tokens=True,\n",
        "            max_length=self.max_len,\n",
        "            truncation=True,\n",
        "            padding = 'max_length',\n",
        "            return_token_type_ids=True\n",
        "        )\n",
        "        ids = inputs['input_ids']\n",
        "        mask = inputs['attention_mask']\n",
        "        token_type_ids = inputs[\"token_type_ids\"]\n",
        "\n",
        "\n",
        "        return {\n",
        "            'ids': torch.tensor(ids, dtype=torch.long),\n",
        "            'mask': torch.tensor(mask, dtype=torch.long),\n",
        "            'token_type_ids': torch.tensor(token_type_ids, dtype=torch.long),\n",
        "            'targets': torch.tensor(self.targets[index], dtype=torch.long)\n",
        "        }\n",
        "\n",
        "# Custom Dataset for D2 that will tokenize text and arrange output and labels in a dictionary\n",
        "class SentimentData(Dataset):\n",
        "    def __init__(self, dataframe, tokenizer, max_len):\n",
        "        self.tokenizer = tokenizer\n",
        "        self.data = dataframe\n",
        "        self.text = dataframe.text\n",
        "        self.targets = self.data.target\n",
        "        self.max_len = max_len\n",
        "\n",
        "    def __len__(self):\n",
        "        return len(self.text)\n",
        "\n",
        "    def __getitem__(self, index):\n",
        "        text = str(self.text[index])\n",
        "        text = \" \".join(text.split())\n",
        "\n",
        "        inputs = self.tokenizer.encode_plus(\n",
        "            text,\n",
        "            None,\n",
        "            add_special_tokens=True,\n",
        "            max_length=self.max_len,\n",
        "            truncation=True,\n",
        "            padding = 'max_length',\n",
        "            return_token_type_ids=True\n",
        "        )\n",
        "        ids = inputs['input_ids']\n",
        "        mask = inputs['attention_mask']\n",
        "        token_type_ids = inputs[\"token_type_ids\"]\n",
        "\n",
        "\n",
        "        return {\n",
        "            'ids': torch.tensor(ids, dtype=torch.long),\n",
        "            'mask': torch.tensor(mask, dtype=torch.long),\n",
        "            'token_type_ids': torch.tensor(token_type_ids, dtype=torch.long),\n",
        "            'targets': torch.tensor(self.targets[index], dtype=torch.long)\n",
        "        }\n",
        " "
      ],
      "metadata": {
        "id": "3PwXQSSUcv0y"
      },
      "execution_count": 25,
      "outputs": []
    },
    {
      "cell_type": "code",
      "source": [
        "# Helper function to remove URLs. May or may not be used\n",
        "def cleaning_URLs(data):\n",
        "    return re.sub('((www.[^s]+)|(https?://[^s]+))',' ',data)"
      ],
      "metadata": {
        "id": "nDY8IqryWdin"
      },
      "execution_count": 26,
      "outputs": []
    },
    {
      "cell_type": "code",
      "source": [
        "# Creating copies of the dataset\n",
        "d_train = d_train_orig.copy()\n",
        "d_test = d_test_orig.copy()\n",
        "s_train = s_train_orig.copy()"
      ],
      "metadata": {
        "id": "GazgsoaZGK-h"
      },
      "execution_count": 27,
      "outputs": []
    },
    {
      "cell_type": "code",
      "source": [
        "# Remove null values\n",
        "s_train.drop(s_train[s_train[\"textID\"]==\"fdb77c3752\"].index, inplace=True)"
      ],
      "metadata": {
        "id": "Yrr_2Q0oYvAf"
      },
      "execution_count": 28,
      "outputs": []
    },
    {
      "cell_type": "code",
      "source": [
        "# Ignore removing URLs for now as tokenizer can probably handle URLs\n",
        "# d_train['text'] = d_train.apply(lambda x: cleaning_URLs(x['text']),axis=1)\n",
        "# #d_test['text'] = d_test.apply(lambda x: cleaning_URLs(x['text']),axis=1)\n",
        "# s_train['text'] = s_train.apply(lambda x: cleaning_URLs(x['text']),axis=1)"
      ],
      "metadata": {
        "id": "QassCZXzWz79"
      },
      "execution_count": 29,
      "outputs": []
    },
    {
      "cell_type": "code",
      "source": [
        "# Removing duplicate text, skipped for now as dropping them will have an impact in later tasks\n",
        "# d_train.drop_duplicates(subset=['text'], inplace=True)\n",
        "# d_train.shape"
      ],
      "metadata": {
        "id": "fp6UWD0iZiia"
      },
      "execution_count": 30,
      "outputs": []
    },
    {
      "cell_type": "code",
      "source": [
        "# Removing duplicate text\n",
        "# s_train.drop_duplicates(subset=['text'], inplace=True)\n",
        "# s_train.shape"
      ],
      "metadata": {
        "id": "xq-Jgho7alAH"
      },
      "execution_count": 31,
      "outputs": []
    },
    {
      "cell_type": "code",
      "source": [
        "# Adding task id to the datasets, might be needed later on\n",
        "d_train['id'] = 1\n",
        "s_train['id'] = 2\n",
        "d_train.reset_index(inplace=True)\n",
        "s_train.reset_index(inplace=True)\n",
        "s_train_text = s_train[['text','id','index']].copy()\n",
        "d_train_text = d_train[['text','id','index']].copy()"
      ],
      "metadata": {
        "execution": {
          "iopub.status.busy": "2023-04-05T13:56:03.049930Z",
          "iopub.execute_input": "2023-04-05T13:56:03.050401Z",
          "iopub.status.idle": "2023-04-05T13:56:03.072756Z",
          "shell.execute_reply.started": "2023-04-05T13:56:03.050352Z",
          "shell.execute_reply": "2023-04-05T13:56:03.071607Z"
        },
        "trusted": true,
        "id": "hdQaG_KTFKQf"
      },
      "execution_count": 32,
      "outputs": []
    },
    {
      "cell_type": "code",
      "source": [
        "# Mapping sentiment labels to numbers\n",
        "s_train['sentiment'] = s_train.apply(lambda x: map_sentiment(x.sentiment), axis=1)\n",
        "s_train.rename(columns={'sentiment':'target'}, inplace=True)\n",
        "# Creating copies of the data for passing in to custom dataset\n",
        "d_train_select =  d_train[['text','target']].copy()\n",
        "s_train_select = s_train[['text','target']].copy()"
      ],
      "metadata": {
        "execution": {
          "iopub.status.busy": "2023-04-05T13:56:03.074666Z",
          "iopub.execute_input": "2023-04-05T13:56:03.075028Z",
          "iopub.status.idle": "2023-04-05T13:56:03.492811Z",
          "shell.execute_reply.started": "2023-04-05T13:56:03.074994Z",
          "shell.execute_reply": "2023-04-05T13:56:03.491414Z"
        },
        "trusted": true,
        "id": "4h58AjlDFKQf"
      },
      "execution_count": 33,
      "outputs": []
    },
    {
      "cell_type": "code",
      "source": [
        "# Creating the corpus of text as instructed, but won't be used\n",
        "corpus = pd.concat([d_train_select[[\"text\"]], s_train_select[['text']]])"
      ],
      "metadata": {
        "id": "-ZU7aNsfas30"
      },
      "execution_count": 34,
      "outputs": []
    },
    {
      "cell_type": "code",
      "source": [
        "corpus.shape"
      ],
      "metadata": {
        "colab": {
          "base_uri": "https://localhost:8080/"
        },
        "id": "F1b1GlSxbM44",
        "outputId": "f1827a6e-da94-4ee4-840f-19a8636ecd5f"
      },
      "execution_count": 35,
      "outputs": [
        {
          "output_type": "execute_result",
          "data": {
            "text/plain": [
              "(35093, 1)"
            ]
          },
          "metadata": {},
          "execution_count": 35
        }
      ]
    },
    {
      "cell_type": "code",
      "source": [
        "# Pre-trained tokenizer to be used\n",
        "tokenizer = RobertaTokenizer.from_pretrained(\"roberta-base\", do_lower_case=True)\n",
        "\n",
        "# # Hyperparameters below for actual model used\n",
        "MAX_LEN = 512\n",
        "TRAIN_BATCH_SIZE = 8\n",
        "VALID_BATCH_SIZE = 32\n",
        "\n",
        "# Hyperparameters below for experimenting on freezing the pre-trained MLM models\n",
        "# MAX_LEN = 512\n",
        "# TRAIN_BATCH_SIZE = 32\n",
        "# VALID_BATCH_SIZE = 32"
      ],
      "metadata": {
        "execution": {
          "iopub.status.busy": "2023-04-05T13:56:03.495973Z",
          "iopub.execute_input": "2023-04-05T13:56:03.496516Z",
          "iopub.status.idle": "2023-04-05T13:56:03.502431Z",
          "shell.execute_reply.started": "2023-04-05T13:56:03.496466Z",
          "shell.execute_reply": "2023-04-05T13:56:03.501101Z"
        },
        "trusted": true,
        "id": "5C7L7NyQFKQf",
        "colab": {
          "base_uri": "https://localhost:8080/",
          "height": 113,
          "referenced_widgets": [
            "22e3316426f444f2875bc4bf71128d29",
            "27c0a6006afa448082c941812566fe0e",
            "6809247d2f8a479b811fe84cf9d93e40",
            "d4c2002b268d4c8e9b3079f3f27b16b4",
            "ff8be4a5cc364de9aaa48b606eabba85",
            "1b22131d2a904b45aef4c07c1724eba2",
            "6752bba1a1b747b09395649678cef54a",
            "74f347d059764461865965bca823c53b",
            "3482f6b18bc241d7ba7b80d6ac64122e",
            "a754d34a728a440dbde4eec29ec14272",
            "9e4b17ab46a6476d8cb9da63b53be802",
            "75ac38b36b2145438f6983a22c1474ac",
            "8cefc87d0a4b4529a0b0d91707107fd3",
            "42f26f0294b1411ea8ca1cdbedc1f646",
            "214cd3df58f54441a8eec01ce3ae7d12",
            "c24f8e13cb9342e6b9a88d3f6bdb965f",
            "a8d55cdef7a04d75a699450e223d0b10",
            "cfe45ddba81f4f3f9d2bb9497eb9b3a2",
            "1fa56c7a212741b29492d896f6a980e3",
            "97705c2fb65f4095b67fb4cde42d49b2",
            "016e5c61f0e24ddbb503f43630931b70",
            "6919df1fb4b04b5bb0cf738cb814fc6b",
            "9ed3eb75385b438783d81d263537c26f",
            "61e4f62c48a845d99d14260038a9f6b3",
            "674d1d02fad94858afabf57adbfce15e",
            "ec69788c10b5408bb673b8ecc3d94e3b",
            "097af9e3f4f94ad389cb09ba68260dc2",
            "8ddc649935124b1881f8a56d4cef44a7",
            "010786f9d6a34f248b35759cd45b300c",
            "dfd7508514a246f3847b5e22a7d04a2e",
            "a19ab702126249baafaaae5baae44237",
            "b4747646ee12463a83247eb15c5a202b",
            "0cb917d3cdc54d009ce53b6c2b65b85d"
          ]
        },
        "outputId": "32e0bdd4-9be0-4840-be7b-347db7deb037"
      },
      "execution_count": 36,
      "outputs": [
        {
          "output_type": "display_data",
          "data": {
            "text/plain": [
              "Downloading (…)olve/main/vocab.json:   0%|          | 0.00/899k [00:00<?, ?B/s]"
            ],
            "application/vnd.jupyter.widget-view+json": {
              "version_major": 2,
              "version_minor": 0,
              "model_id": "22e3316426f444f2875bc4bf71128d29"
            }
          },
          "metadata": {}
        },
        {
          "output_type": "display_data",
          "data": {
            "text/plain": [
              "Downloading (…)olve/main/merges.txt:   0%|          | 0.00/456k [00:00<?, ?B/s]"
            ],
            "application/vnd.jupyter.widget-view+json": {
              "version_major": 2,
              "version_minor": 0,
              "model_id": "75ac38b36b2145438f6983a22c1474ac"
            }
          },
          "metadata": {}
        },
        {
          "output_type": "display_data",
          "data": {
            "text/plain": [
              "Downloading (…)lve/main/config.json:   0%|          | 0.00/481 [00:00<?, ?B/s]"
            ],
            "application/vnd.jupyter.widget-view+json": {
              "version_major": 2,
              "version_minor": 0,
              "model_id": "9ed3eb75385b438783d81d263537c26f"
            }
          },
          "metadata": {}
        }
      ]
    },
    {
      "cell_type": "code",
      "source": [
        "# Create train-validate spilts\n",
        "d_train_data, d_val_data = train_test_split(d_train_select, test_size=0.2, stratify=d_train_select['target'],\n",
        "                                 random_state=2023)\n",
        "\n",
        "s_train_data, s_val_data= train_test_split(s_train_select, test_size=0.2, stratify=s_train_select['target'],\n",
        "                                 random_state=2023)\n",
        "\n",
        "# Dropping the index because it can mess up the loops\n",
        "d_train_data.reset_index(inplace=True,drop =True)\n",
        "d_val_data.reset_index(inplace=True, drop =True)\n",
        "s_train_data.reset_index(inplace=True, drop =True)\n",
        "s_val_data.reset_index(inplace=True,  drop =True)"
      ],
      "metadata": {
        "execution": {
          "iopub.status.busy": "2023-04-05T13:56:03.504282Z",
          "iopub.execute_input": "2023-04-05T13:56:03.505845Z",
          "iopub.status.idle": "2023-04-05T13:56:03.534774Z",
          "shell.execute_reply.started": "2023-04-05T13:56:03.505790Z",
          "shell.execute_reply": "2023-04-05T13:56:03.533477Z"
        },
        "trusted": true,
        "id": "CFp5aLW7FKQf"
      },
      "execution_count": 37,
      "outputs": []
    },
    {
      "cell_type": "code",
      "source": [
        "d_train_data.shape"
      ],
      "metadata": {
        "colab": {
          "base_uri": "https://localhost:8080/"
        },
        "id": "PBirAw0YN0jT",
        "outputId": "2f0d7ff4-46d7-45c1-f0f6-ad6511f9cd5a"
      },
      "execution_count": 38,
      "outputs": [
        {
          "output_type": "execute_result",
          "data": {
            "text/plain": [
              "(6090, 2)"
            ]
          },
          "metadata": {},
          "execution_count": 38
        }
      ]
    },
    {
      "cell_type": "code",
      "source": [
        "s_train_data.head()"
      ],
      "metadata": {
        "execution": {
          "iopub.status.busy": "2023-04-05T13:56:03.536159Z",
          "iopub.execute_input": "2023-04-05T13:56:03.536496Z",
          "iopub.status.idle": "2023-04-05T13:56:03.548543Z",
          "shell.execute_reply.started": "2023-04-05T13:56:03.536462Z",
          "shell.execute_reply": "2023-04-05T13:56:03.546966Z"
        },
        "trusted": true,
        "colab": {
          "base_uri": "https://localhost:8080/",
          "height": 206
        },
        "id": "xEeAA6Z5FKQf",
        "outputId": "58fb1bfa-cdb3-4579-87d6-247dd647dac9"
      },
      "execution_count": 39,
      "outputs": [
        {
          "output_type": "execute_result",
          "data": {
            "text/plain": [
              "                                                text  target\n",
              "0             June gloom seems to have arrived early       0\n",
              "1  Sad that our neighbors just cut down ALL the t...       1\n",
              "2   OHH  yeah i sometimes forget  your in the oth...       0\n",
              "3  Join the biggest and bestest group on facebook...       2\n",
              "4       i lost one of my best friends iï¿½m sooo sad       1"
            ],
            "text/html": [
              "\n",
              "  <div id=\"df-2d4d4d0b-ba1a-4138-a386-72646f009880\">\n",
              "    <div class=\"colab-df-container\">\n",
              "      <div>\n",
              "<style scoped>\n",
              "    .dataframe tbody tr th:only-of-type {\n",
              "        vertical-align: middle;\n",
              "    }\n",
              "\n",
              "    .dataframe tbody tr th {\n",
              "        vertical-align: top;\n",
              "    }\n",
              "\n",
              "    .dataframe thead th {\n",
              "        text-align: right;\n",
              "    }\n",
              "</style>\n",
              "<table border=\"1\" class=\"dataframe\">\n",
              "  <thead>\n",
              "    <tr style=\"text-align: right;\">\n",
              "      <th></th>\n",
              "      <th>text</th>\n",
              "      <th>target</th>\n",
              "    </tr>\n",
              "  </thead>\n",
              "  <tbody>\n",
              "    <tr>\n",
              "      <th>0</th>\n",
              "      <td>June gloom seems to have arrived early</td>\n",
              "      <td>0</td>\n",
              "    </tr>\n",
              "    <tr>\n",
              "      <th>1</th>\n",
              "      <td>Sad that our neighbors just cut down ALL the t...</td>\n",
              "      <td>1</td>\n",
              "    </tr>\n",
              "    <tr>\n",
              "      <th>2</th>\n",
              "      <td>OHH  yeah i sometimes forget  your in the oth...</td>\n",
              "      <td>0</td>\n",
              "    </tr>\n",
              "    <tr>\n",
              "      <th>3</th>\n",
              "      <td>Join the biggest and bestest group on facebook...</td>\n",
              "      <td>2</td>\n",
              "    </tr>\n",
              "    <tr>\n",
              "      <th>4</th>\n",
              "      <td>i lost one of my best friends iï¿½m sooo sad</td>\n",
              "      <td>1</td>\n",
              "    </tr>\n",
              "  </tbody>\n",
              "</table>\n",
              "</div>\n",
              "      <button class=\"colab-df-convert\" onclick=\"convertToInteractive('df-2d4d4d0b-ba1a-4138-a386-72646f009880')\"\n",
              "              title=\"Convert this dataframe to an interactive table.\"\n",
              "              style=\"display:none;\">\n",
              "        \n",
              "  <svg xmlns=\"http://www.w3.org/2000/svg\" height=\"24px\"viewBox=\"0 0 24 24\"\n",
              "       width=\"24px\">\n",
              "    <path d=\"M0 0h24v24H0V0z\" fill=\"none\"/>\n",
              "    <path d=\"M18.56 5.44l.94 2.06.94-2.06 2.06-.94-2.06-.94-.94-2.06-.94 2.06-2.06.94zm-11 1L8.5 8.5l.94-2.06 2.06-.94-2.06-.94L8.5 2.5l-.94 2.06-2.06.94zm10 10l.94 2.06.94-2.06 2.06-.94-2.06-.94-.94-2.06-.94 2.06-2.06.94z\"/><path d=\"M17.41 7.96l-1.37-1.37c-.4-.4-.92-.59-1.43-.59-.52 0-1.04.2-1.43.59L10.3 9.45l-7.72 7.72c-.78.78-.78 2.05 0 2.83L4 21.41c.39.39.9.59 1.41.59.51 0 1.02-.2 1.41-.59l7.78-7.78 2.81-2.81c.8-.78.8-2.07 0-2.86zM5.41 20L4 18.59l7.72-7.72 1.47 1.35L5.41 20z\"/>\n",
              "  </svg>\n",
              "      </button>\n",
              "      \n",
              "  <style>\n",
              "    .colab-df-container {\n",
              "      display:flex;\n",
              "      flex-wrap:wrap;\n",
              "      gap: 12px;\n",
              "    }\n",
              "\n",
              "    .colab-df-convert {\n",
              "      background-color: #E8F0FE;\n",
              "      border: none;\n",
              "      border-radius: 50%;\n",
              "      cursor: pointer;\n",
              "      display: none;\n",
              "      fill: #1967D2;\n",
              "      height: 32px;\n",
              "      padding: 0 0 0 0;\n",
              "      width: 32px;\n",
              "    }\n",
              "\n",
              "    .colab-df-convert:hover {\n",
              "      background-color: #E2EBFA;\n",
              "      box-shadow: 0px 1px 2px rgba(60, 64, 67, 0.3), 0px 1px 3px 1px rgba(60, 64, 67, 0.15);\n",
              "      fill: #174EA6;\n",
              "    }\n",
              "\n",
              "    [theme=dark] .colab-df-convert {\n",
              "      background-color: #3B4455;\n",
              "      fill: #D2E3FC;\n",
              "    }\n",
              "\n",
              "    [theme=dark] .colab-df-convert:hover {\n",
              "      background-color: #434B5C;\n",
              "      box-shadow: 0px 1px 3px 1px rgba(0, 0, 0, 0.15);\n",
              "      filter: drop-shadow(0px 1px 2px rgba(0, 0, 0, 0.3));\n",
              "      fill: #FFFFFF;\n",
              "    }\n",
              "  </style>\n",
              "\n",
              "      <script>\n",
              "        const buttonEl =\n",
              "          document.querySelector('#df-2d4d4d0b-ba1a-4138-a386-72646f009880 button.colab-df-convert');\n",
              "        buttonEl.style.display =\n",
              "          google.colab.kernel.accessAllowed ? 'block' : 'none';\n",
              "\n",
              "        async function convertToInteractive(key) {\n",
              "          const element = document.querySelector('#df-2d4d4d0b-ba1a-4138-a386-72646f009880');\n",
              "          const dataTable =\n",
              "            await google.colab.kernel.invokeFunction('convertToInteractive',\n",
              "                                                     [key], {});\n",
              "          if (!dataTable) return;\n",
              "\n",
              "          const docLinkHtml = 'Like what you see? Visit the ' +\n",
              "            '<a target=\"_blank\" href=https://colab.research.google.com/notebooks/data_table.ipynb>data table notebook</a>'\n",
              "            + ' to learn more about interactive tables.';\n",
              "          element.innerHTML = '';\n",
              "          dataTable['output_type'] = 'display_data';\n",
              "          await google.colab.output.renderOutput(dataTable, element);\n",
              "          const docLink = document.createElement('div');\n",
              "          docLink.innerHTML = docLinkHtml;\n",
              "          element.appendChild(docLink);\n",
              "        }\n",
              "      </script>\n",
              "    </div>\n",
              "  </div>\n",
              "  "
            ]
          },
          "metadata": {},
          "execution_count": 39
        }
      ]
    },
    {
      "cell_type": "code",
      "source": [
        "# Create D1 and D2 training and validation Datasets. This will tokenize the datasets on the fly\n",
        "d1_train_set= DisasterData(d_train_data, tokenizer, MAX_LEN)\n",
        "d1_val_set = DisasterData(d_val_data, tokenizer, MAX_LEN)\n",
        "\n",
        "d2_train_set= SentimentData(s_train_data, tokenizer, MAX_LEN)\n",
        "d2_val_set = SentimentData(s_val_data, tokenizer, MAX_LEN)"
      ],
      "metadata": {
        "execution": {
          "iopub.status.busy": "2023-04-05T13:56:03.550480Z",
          "iopub.execute_input": "2023-04-05T13:56:03.550905Z",
          "iopub.status.idle": "2023-04-05T13:56:03.561432Z",
          "shell.execute_reply.started": "2023-04-05T13:56:03.550865Z",
          "shell.execute_reply": "2023-04-05T13:56:03.560097Z"
        },
        "trusted": true,
        "id": "_EJ8mUztFKQf"
      },
      "execution_count": 40,
      "outputs": []
    },
    {
      "cell_type": "code",
      "source": [
        "# Create D1 and D2 dataloaders\n",
        "train_params = {'batch_size': TRAIN_BATCH_SIZE,\n",
        "                'shuffle': True,\n",
        "                'num_workers': 0\n",
        "                }\n",
        "\n",
        "test_params = {'batch_size': VALID_BATCH_SIZE,\n",
        "                'shuffle': False,\n",
        "                'num_workers': 0\n",
        "                }\n",
        "\n",
        "d1_train_loader = DataLoader(d1_train_set, **train_params)\n",
        "d1_val_loader = DataLoader(d1_val_set, **test_params)\n",
        "\n",
        "d2_train_loader = DataLoader(d2_train_set, **train_params)\n",
        "d2_val_loader = DataLoader(d2_val_set, **test_params)"
      ],
      "metadata": {
        "execution": {
          "iopub.status.busy": "2023-04-05T13:56:03.562680Z",
          "iopub.execute_input": "2023-04-05T13:56:03.563005Z",
          "iopub.status.idle": "2023-04-05T13:56:03.573745Z",
          "shell.execute_reply.started": "2023-04-05T13:56:03.562975Z",
          "shell.execute_reply": "2023-04-05T13:56:03.572540Z"
        },
        "trusted": true,
        "id": "UZgNsDNYFKQf"
      },
      "execution_count": 41,
      "outputs": []
    },
    {
      "cell_type": "markdown",
      "source": [
        "# II. Model Training #"
      ],
      "metadata": {
        "id": "86f9Jv-LFKQg"
      }
    },
    {
      "cell_type": "code",
      "source": [
        "# Final architecture to be used for Task 1 and Task 2\n",
        "class NetMultiTask(torch.nn.Module):\n",
        "    def __init__(self):\n",
        "        super(NetMultiTask, self).__init__()\n",
        "        self.net = RobertaModel.from_pretrained(\"roberta-base\")\n",
        "        \n",
        "        self.pre_classifier1 = torch.nn.Linear(768, 768)\n",
        "        self.dropout1 = torch.nn.Dropout(0.2)\n",
        "        self.classifier1 = torch.nn.Linear(768, 2)\n",
        "        \n",
        "        self.pre_classifier2 = torch.nn.Linear(768, 768)\n",
        "        self.dropout2 = torch.nn.Dropout(0.2)\n",
        "        self.classifier2 = torch.nn.Linear(768, 3)\n",
        "\n",
        "    def forward(self, input_ids, attention_mask, token_type_ids):\n",
        "        output_1 = self.net(input_ids=input_ids, attention_mask=attention_mask, token_type_ids=token_type_ids)\n",
        "        hidden_state = output_1[0]\n",
        "        pooler = hidden_state[:, 0]\n",
        "      \n",
        "        pooler1 = self.pre_classifier1(pooler)\n",
        "        pooler1 = torch.nn.ReLU()(pooler1)\n",
        "        pooler1 = self.dropout1(pooler1)\n",
        "        output1 = self.classifier1(pooler1)\n",
        "\n",
        "        pooler2 = self.pre_classifier2(pooler)\n",
        "        pooler2 = torch.nn.ReLU()(pooler2)\n",
        "        pooler2 = self.dropout2(pooler2)\n",
        "        output2 = self.classifier2(pooler2)\n",
        "        \n",
        "        return output1, output2"
      ],
      "metadata": {
        "id": "PopYuA22-7Ro"
      },
      "execution_count": 42,
      "outputs": []
    },
    {
      "cell_type": "markdown",
      "source": [
        "Liu, Y., Ott, M., Goyal, N., Du, J., Joshi, M., Chen, D., Levy, O., Lewis, M., Zettlemoyer, L., & Stoyanov, V. (2019). RoBERTa: A robustly optimized BERT pretraining approach. CoRR, abs/1907.11692."
      ],
      "metadata": {
        "id": "E3D_Alka6aAQ"
      }
    },
    {
      "cell_type": "markdown",
      "source": [
        "**Question**: Assume the model is deployed in a server within your news agency. Explain the inputs to the model and predictions that it is expected to output. Also explain how the predictions will be used by reporters."
      ],
      "metadata": {
        "id": "MKx2_cW9cr5x"
      }
    },
    {
      "cell_type": "markdown",
      "source": [
        "**Answer**:<br>\n",
        "<p>We are using the RoBERTa architecture in thie model above where we use its embeddings on two classifiers in the same neural network. The raw inputs to the model can be any text, but in this project's context it will be tweets on which the model will be trained on. The text must first be passed to RoBERTa's pre-trained tokenizer which will convert the text to the tensors and attention masks needed for the RoBERTa model. The tensors and attentioin masks will then pass through RoBERTa's architecture and we will use its last hidden state as word embeddings. The word embeddings will then be passed to two separate dense layers with different heads. The first will head has two outputs and the second head as three outputs.</p>\n",
        "<p>The first head can be used by reporters to classify a tweet if it's pertaining to a disaster or not. These can be used by reporters for example as an early warning system where the system can get tweets through the Twitter API, pass it through the model, predict the tweets, and then notifiy reporters if there are large amounts of disaster tweets happening in real time. This will enable them to respond and report on disasters quickly.</p>\n",
        "<p>The second head can be used by reporters and the news agency to gauge sentiment on their news/opinion articles released on twitter and then track its engagement. This can be done by setting up a sentiment analysis system using this model. The system can work by pulling replies or retweets from the reporters' tweets using the Twitter API, passing them through the model to get sentiment predictions, and then analyzing sentiment classes of the reporters' tweets."
      ],
      "metadata": {
        "id": "ayaPHWXHc_Fo"
      }
    },
    {
      "cell_type": "markdown",
      "source": [
        "# III. Neural Network Multi Task Learing #"
      ],
      "metadata": {
        "id": "55P6W8zvdJTg"
      }
    },
    {
      "cell_type": "markdown",
      "source": [
        "### Task 3.1 and Task 3.2 ###\n",
        "1. Train the model M only for T1 on Dtrain. Call the trained val 1\n",
        "model MD . Evaluate MD on D and report its 111\n",
        "performance metric (F1 score) for the first task, PerfT (MD |Dval). Also print the confusion matrix. ###\n",
        "\n",
        "2. Train the model M only for T2 on Dtrain . Call the trained\n",
        "model M . Evaluate the trained M2 on Dval and report D2 D2 2 val\n",
        "its performance metric (Accuracy) PerfT (MD |D Also print the confusion matrix."
      ],
      "metadata": {
        "id": "PTuJ_IH1gXyv"
      }
    },
    {
      "cell_type": "markdown",
      "source": [
        "#### Helper functions for the training and validation loops ####"
      ],
      "metadata": {
        "id": "lL3KXiaqdTNp"
      }
    },
    {
      "cell_type": "code",
      "source": [
        "def calcuate_accuracy(preds, targets):\n",
        "    n_correct = (preds==targets).sum().item()\n",
        "    return n_correct"
      ],
      "metadata": {
        "execution": {
          "iopub.status.busy": "2023-04-05T13:56:02.195329Z",
          "iopub.execute_input": "2023-04-05T13:56:02.195849Z",
          "iopub.status.idle": "2023-04-05T13:56:02.644063Z",
          "shell.execute_reply.started": "2023-04-05T13:56:02.195781Z",
          "shell.execute_reply": "2023-04-05T13:56:02.642940Z"
        },
        "trusted": true,
        "id": "ls13g2QrFKQX"
      },
      "execution_count": 43,
      "outputs": []
    },
    {
      "cell_type": "code",
      "source": [
        "def train(model, epoch, training_loader, mode):\n",
        "    tr_loss = 0\n",
        "    n_correct = 0\n",
        "    nb_tr_steps = 0\n",
        "    nb_tr_examples = 0\n",
        "    model.train()\n",
        "\n",
        "    \n",
        "    for _,data in enumerate(tqdm(training_loader, 0)):\n",
        "        ids = data['ids'].to(device, dtype = torch.long)\n",
        "        mask = data['mask'].to(device, dtype = torch.long)\n",
        "        token_type_ids = data['token_type_ids'].to(device, dtype = torch.long)\n",
        "        targets = data['targets'].to(device, dtype = torch.long)\n",
        "\n",
        "        output1, output2 = model(ids, mask, token_type_ids)\n",
        "\n",
        "        if mode == 1:\n",
        "            output = output1\n",
        "        elif mode == 2:\n",
        "            output = output2\n",
        "        else:\n",
        "            assert False, 'Bad Task ID passed'\n",
        "\n",
        "\n",
        "        loss = loss_function(output, targets)\n",
        "        tr_loss += loss.item()\n",
        "        big_val, big_idx = torch.max(output.data, dim=1)\n",
        "        n_correct += calcuate_accuracy(big_idx, targets)\n",
        "\n",
        "        nb_tr_steps += 1\n",
        "        nb_tr_examples+=targets.size(0)\n",
        "        \n",
        "        if _%5000==0:\n",
        "            loss_step = tr_loss/nb_tr_steps\n",
        "            accu_step = (n_correct*100)/nb_tr_examples \n",
        "            print(f\"Training Loss per 5000 steps: {loss_step}\")\n",
        "            print(f\"Training Accuracy per 5000 steps: {accu_step}\")\n",
        "\n",
        "        optimizer.zero_grad()\n",
        "        loss.backward()\n",
        "        # # When using GPU\n",
        "        optimizer.step()\n",
        "\n",
        "    print(f'The Total Accuracy for Epoch {epoch}: {(n_correct*100)/nb_tr_examples}')\n",
        "    epoch_loss = tr_loss/nb_tr_steps\n",
        "    epoch_accu = (n_correct*100)/nb_tr_examples\n",
        "    print(f\"Training Loss Epoch: {epoch_loss}\")\n",
        "    print(f\"Training Accuracy Epoch: {epoch_accu}\")\n",
        "    return\n",
        "\n",
        "def valid(model, testing_loader, mode):\n",
        "    model.eval()\n",
        "    #n_correct = 0; n_wrong = 0; total = 0; tr_loss=0; nb_tr_steps=0; nb_tr_examples=0\n",
        "    tr_loss=0\n",
        "    predicts = []\n",
        "\n",
        "    with torch.no_grad():\n",
        "        for _, data in enumerate(tqdm(testing_loader, 0)):\n",
        "            ids = data['ids'].to(device, dtype = torch.long)\n",
        "            mask = data['mask'].to(device, dtype = torch.long)\n",
        "            token_type_ids = data['token_type_ids'].to(device, dtype = torch.long)\n",
        "            targets = data['targets'].to(device, dtype = torch.long)\n",
        "\n",
        "            output1, output2 = model(ids, mask, token_type_ids)\n",
        "\n",
        "            if mode == 1:\n",
        "                output = output1\n",
        "            elif mode == 2:\n",
        "                output = output2\n",
        "            else:\n",
        "                assert False, 'Bad Task ID passed'\n",
        "\n",
        "            loss = loss_function(output, targets)\n",
        "            tr_loss += loss.item()\n",
        "            big_val, big_idx = torch.max(output.data, dim=1)\n",
        "            \n",
        "            for i in range(targets.size(0)):\n",
        "                predicts.append({\n",
        "                    \"predict\": big_idx[i].item(),\n",
        "                    \"target\": targets[i].item()\n",
        "                })\n",
        "    df = pd.DataFrame(predicts)\n",
        "    return df"
      ],
      "metadata": {
        "id": "aJBFApRfAAqV"
      },
      "execution_count": 44,
      "outputs": []
    },
    {
      "cell_type": "markdown",
      "source": [
        "#### Training code used ####\n",
        "\n",
        "Please refer to `learn_multitask.py` for working code on Task 3.1 and Task 3.2"
      ],
      "metadata": {
        "id": "02IMtMT0f_LW"
      }
    },
    {
      "cell_type": "code",
      "source": [
        "# Specifying the learning rate for both tasks\n",
        "LEARNING_RATE = 1e-05"
      ],
      "metadata": {
        "execution": {
          "iopub.status.busy": "2023-04-05T13:56:38.651961Z",
          "iopub.execute_input": "2023-04-05T13:56:38.652397Z",
          "iopub.status.idle": "2023-04-05T13:56:38.658241Z",
          "shell.execute_reply.started": "2023-04-05T13:56:38.652359Z",
          "shell.execute_reply": "2023-04-05T13:56:38.656849Z"
        },
        "trusted": true,
        "id": "oNbFDjr6FKQg"
      },
      "execution_count": 45,
      "outputs": []
    },
    {
      "cell_type": "markdown",
      "source": [
        "#### Perfomance Metrics and Confusion Matrices ####"
      ],
      "metadata": {
        "id": "yRasxaAMgLtS"
      }
    },
    {
      "cell_type": "code",
      "source": [
        "# Loading the saved predictions for reporting metrics\n",
        "predicts_d1 = pd.read_csv(\"/content/drive/MyDrive/BT5151/group_project/predicts_d1_roberta_final.csv\", index_col=0)\n",
        "predicts_d2 = pd.read_csv(\"/content/drive/MyDrive/BT5151/group_project/predicts_d2_roberta_final.csv\", index_col=0)"
      ],
      "metadata": {
        "id": "SbZ_WYOPID72"
      },
      "execution_count": 46,
      "outputs": []
    },
    {
      "cell_type": "code",
      "source": [
        "print(classification_report(predicts_d1.target, predicts_d1.predict))\n",
        "print(f\"D1 F1: {f1_score(predicts_d1.target, predicts_d1.predict)}\\n\"\n",
        "      f\"D1 Accuracy: {accuracy_score(predicts_d1.target, predicts_d1.predict)}\\n\")"
      ],
      "metadata": {
        "execution": {
          "iopub.status.busy": "2023-04-05T14:14:55.545023Z",
          "iopub.status.idle": "2023-04-05T14:14:55.545706Z",
          "shell.execute_reply.started": "2023-04-05T14:14:55.545387Z",
          "shell.execute_reply": "2023-04-05T14:14:55.545420Z"
        },
        "trusted": true,
        "colab": {
          "base_uri": "https://localhost:8080/"
        },
        "id": "zii3W3YiFKQg",
        "outputId": "364cf2d6-7771-4f11-eb96-6a0da9b26461"
      },
      "execution_count": 47,
      "outputs": [
        {
          "output_type": "stream",
          "name": "stdout",
          "text": [
            "              precision    recall  f1-score   support\n",
            "\n",
            "           0       0.86      0.86      0.86       869\n",
            "           1       0.81      0.81      0.81       654\n",
            "\n",
            "    accuracy                           0.84      1523\n",
            "   macro avg       0.83      0.83      0.83      1523\n",
            "weighted avg       0.84      0.84      0.84      1523\n",
            "\n",
            "D1 F1: 0.8091603053435114\n",
            "D1 Accuracy: 0.8358502954694682\n",
            "\n"
          ]
        }
      ]
    },
    {
      "cell_type": "code",
      "source": [
        "cm_d1 = confusion_matrix(predicts_d1.target, predicts_d1.predict)\n",
        "disp = ConfusionMatrixDisplay(confusion_matrix=cm_d1, display_labels=['not disaster', 'disaster'])\n",
        "disp.plot()\n",
        "plt.show()"
      ],
      "metadata": {
        "colab": {
          "base_uri": "https://localhost:8080/",
          "height": 449
        },
        "id": "sdVPl1rfFKQg",
        "outputId": "58fdfa2f-3c41-419d-8f58-6394088de377"
      },
      "execution_count": 48,
      "outputs": [
        {
          "output_type": "display_data",
          "data": {
            "text/plain": [
              "<Figure size 640x480 with 2 Axes>"
            ],
            "image/png": "[encoded data removed]"
          },
          "metadata": {}
        }
      ]
    },
    {
      "cell_type": "code",
      "source": [
        "print(classification_report(predicts_d2.target, predicts_d2.predict))\n",
        "print(f\"D2 F1: {f1_score(predicts_d2.target, predicts_d2.predict, average='weighted')}\\n\"\n",
        "      f\"D2 Accuracy: {accuracy_score(predicts_d2.target, predicts_d2.predict)}\\n\")"
      ],
      "metadata": {
        "colab": {
          "base_uri": "https://localhost:8080/"
        },
        "id": "1Ngor95-doZW",
        "outputId": "8ba08c0e-007c-4d62-df03-f9997987ae7a"
      },
      "execution_count": 49,
      "outputs": [
        {
          "output_type": "stream",
          "name": "stdout",
          "text": [
            "              precision    recall  f1-score   support\n",
            "\n",
            "           0       0.75      0.73      0.74      2223\n",
            "           1       0.77      0.80      0.78      1556\n",
            "           2       0.83      0.83      0.83      1717\n",
            "\n",
            "    accuracy                           0.78      5496\n",
            "   macro avg       0.78      0.78      0.78      5496\n",
            "weighted avg       0.78      0.78      0.78      5496\n",
            "\n",
            "D2 F1: 0.7781284760442189\n",
            "D2 Accuracy: 0.7783842794759825\n",
            "\n"
          ]
        }
      ]
    },
    {
      "cell_type": "code",
      "source": [
        "cm_d2 = confusion_matrix(predicts_d2.target, predicts_d2.predict)\n",
        "disp = ConfusionMatrixDisplay(confusion_matrix=cm_d2, display_labels=['neutral', 'negative','positive'])\n",
        "disp.plot()\n",
        "plt.show()"
      ],
      "metadata": {
        "colab": {
          "base_uri": "https://localhost:8080/",
          "height": 450
        },
        "id": "wdfDXnO6Hxm-",
        "outputId": "37b7a0b9-e1a8-4de2-c3d0-3af4a4a3e266"
      },
      "execution_count": 50,
      "outputs": [
        {
          "output_type": "display_data",
          "data": {
            "text/plain": [
              "<Figure size 640x480 with 2 Axes>"
            ],
            "image/png": "[encoded data removed]"
          },
          "metadata": {}
        }
      ]
    },
    {
      "cell_type": "markdown",
      "source": [
        "### Task 3.3 ###\n",
        "Estimate the sentiment labels for the tweets in D1"
      ],
      "metadata": {
        "id": "HwqpkPesHcgr"
      }
    },
    {
      "cell_type": "code",
      "source": [
        "model_path = \"/content/drive/MyDrive/BT5151/group_project/roberta_d2_final.bin\" \n",
        "model_d2 = torch.load(model_path, map_location=device)"
      ],
      "metadata": {
        "id": "iIjFHZs5QQ6l"
      },
      "execution_count": 51,
      "outputs": []
    },
    {
      "cell_type": "code",
      "source": [
        "data_quality(d_val_data)"
      ],
      "metadata": {
        "id": "RwMokFd6RLO5",
        "colab": {
          "base_uri": "https://localhost:8080/",
          "height": 112
        },
        "outputId": "968faf05-ea9b-46cf-e2c6-1a42bf2a3071"
      },
      "execution_count": 52,
      "outputs": [
        {
          "output_type": "execute_result",
          "data": {
            "text/plain": [
              "        Present Values  Missing Values  Unique Values\n",
              "text              1523               0           1517\n",
              "target            1523               0              2"
            ],
            "text/html": [
              "\n",
              "  <div id=\"df-cc6639a1-6a00-4869-81a9-414edf60cdb3\">\n",
              "    <div class=\"colab-df-container\">\n",
              "      <div>\n",
              "<style scoped>\n",
              "    .dataframe tbody tr th:only-of-type {\n",
              "        vertical-align: middle;\n",
              "    }\n",
              "\n",
              "    .dataframe tbody tr th {\n",
              "        vertical-align: top;\n",
              "    }\n",
              "\n",
              "    .dataframe thead th {\n",
              "        text-align: right;\n",
              "    }\n",
              "</style>\n",
              "<table border=\"1\" class=\"dataframe\">\n",
              "  <thead>\n",
              "    <tr style=\"text-align: right;\">\n",
              "      <th></th>\n",
              "      <th>Present Values</th>\n",
              "      <th>Missing Values</th>\n",
              "      <th>Unique Values</th>\n",
              "    </tr>\n",
              "  </thead>\n",
              "  <tbody>\n",
              "    <tr>\n",
              "      <th>text</th>\n",
              "      <td>1523</td>\n",
              "      <td>0</td>\n",
              "      <td>1517</td>\n",
              "    </tr>\n",
              "    <tr>\n",
              "      <th>target</th>\n",
              "      <td>1523</td>\n",
              "      <td>0</td>\n",
              "      <td>2</td>\n",
              "    </tr>\n",
              "  </tbody>\n",
              "</table>\n",
              "</div>\n",
              "      <button class=\"colab-df-convert\" onclick=\"convertToInteractive('df-cc6639a1-6a00-4869-81a9-414edf60cdb3')\"\n",
              "              title=\"Convert this dataframe to an interactive table.\"\n",
              "              style=\"display:none;\">\n",
              "        \n",
              "  <svg xmlns=\"http://www.w3.org/2000/svg\" height=\"24px\"viewBox=\"0 0 24 24\"\n",
              "       width=\"24px\">\n",
              "    <path d=\"M0 0h24v24H0V0z\" fill=\"none\"/>\n",
              "    <path d=\"M18.56 5.44l.94 2.06.94-2.06 2.06-.94-2.06-.94-.94-2.06-.94 2.06-2.06.94zm-11 1L8.5 8.5l.94-2.06 2.06-.94-2.06-.94L8.5 2.5l-.94 2.06-2.06.94zm10 10l.94 2.06.94-2.06 2.06-.94-2.06-.94-.94-2.06-.94 2.06-2.06.94z\"/><path d=\"M17.41 7.96l-1.37-1.37c-.4-.4-.92-.59-1.43-.59-.52 0-1.04.2-1.43.59L10.3 9.45l-7.72 7.72c-.78.78-.78 2.05 0 2.83L4 21.41c.39.39.9.59 1.41.59.51 0 1.02-.2 1.41-.59l7.78-7.78 2.81-2.81c.8-.78.8-2.07 0-2.86zM5.41 20L4 18.59l7.72-7.72 1.47 1.35L5.41 20z\"/>\n",
              "  </svg>\n",
              "      </button>\n",
              "      \n",
              "  <style>\n",
              "    .colab-df-container {\n",
              "      display:flex;\n",
              "      flex-wrap:wrap;\n",
              "      gap: 12px;\n",
              "    }\n",
              "\n",
              "    .colab-df-convert {\n",
              "      background-color: #E8F0FE;\n",
              "      border: none;\n",
              "      border-radius: 50%;\n",
              "      cursor: pointer;\n",
              "      display: none;\n",
              "      fill: #1967D2;\n",
              "      height: 32px;\n",
              "      padding: 0 0 0 0;\n",
              "      width: 32px;\n",
              "    }\n",
              "\n",
              "    .colab-df-convert:hover {\n",
              "      background-color: #E2EBFA;\n",
              "      box-shadow: 0px 1px 2px rgba(60, 64, 67, 0.3), 0px 1px 3px 1px rgba(60, 64, 67, 0.15);\n",
              "      fill: #174EA6;\n",
              "    }\n",
              "\n",
              "    [theme=dark] .colab-df-convert {\n",
              "      background-color: #3B4455;\n",
              "      fill: #D2E3FC;\n",
              "    }\n",
              "\n",
              "    [theme=dark] .colab-df-convert:hover {\n",
              "      background-color: #434B5C;\n",
              "      box-shadow: 0px 1px 3px 1px rgba(0, 0, 0, 0.15);\n",
              "      filter: drop-shadow(0px 1px 2px rgba(0, 0, 0, 0.3));\n",
              "      fill: #FFFFFF;\n",
              "    }\n",
              "  </style>\n",
              "\n",
              "      <script>\n",
              "        const buttonEl =\n",
              "          document.querySelector('#df-cc6639a1-6a00-4869-81a9-414edf60cdb3 button.colab-df-convert');\n",
              "        buttonEl.style.display =\n",
              "          google.colab.kernel.accessAllowed ? 'block' : 'none';\n",
              "\n",
              "        async function convertToInteractive(key) {\n",
              "          const element = document.querySelector('#df-cc6639a1-6a00-4869-81a9-414edf60cdb3');\n",
              "          const dataTable =\n",
              "            await google.colab.kernel.invokeFunction('convertToInteractive',\n",
              "                                                     [key], {});\n",
              "          if (!dataTable) return;\n",
              "\n",
              "          const docLinkHtml = 'Like what you see? Visit the ' +\n",
              "            '<a target=\"_blank\" href=https://colab.research.google.com/notebooks/data_table.ipynb>data table notebook</a>'\n",
              "            + ' to learn more about interactive tables.';\n",
              "          element.innerHTML = '';\n",
              "          dataTable['output_type'] = 'display_data';\n",
              "          await google.colab.output.renderOutput(dataTable, element);\n",
              "          const docLink = document.createElement('div');\n",
              "          docLink.innerHTML = docLinkHtml;\n",
              "          element.appendChild(docLink);\n",
              "        }\n",
              "      </script>\n",
              "    </div>\n",
              "  </div>\n",
              "  "
            ]
          },
          "metadata": {},
          "execution_count": 52
        }
      ]
    },
    {
      "cell_type": "code",
      "source": [
        "d1_train_infer = SentimentData(d_train_data, tokenizer, MAX_LEN)\n",
        "d1_val_infer = SentimentData(d_val_data, tokenizer, MAX_LEN)"
      ],
      "metadata": {
        "id": "72WmaMPtRMrk"
      },
      "execution_count": 53,
      "outputs": []
    },
    {
      "cell_type": "code",
      "source": [
        "test_params = {'batch_size': VALID_BATCH_SIZE,\n",
        "                'shuffle': False,\n",
        "                'num_workers': 0\n",
        "                }\n",
        "d1_train_inferloader = DataLoader(d1_train_infer, **test_params)\n",
        "d1_val_inferloader = DataLoader(d1_val_infer, **test_params)"
      ],
      "metadata": {
        "id": "6t9nq_xDRmWJ"
      },
      "execution_count": 54,
      "outputs": []
    },
    {
      "cell_type": "code",
      "source": [
        "loss_function = torch.nn.CrossEntropyLoss()\n",
        "optimizer = torch.optim.Adam(params = model_d2.parameters(), lr = LEARNING_RATE)\n",
        "predicts_d1_train_infer = valid(model_d2, d1_train_inferloader, mode=2)\n",
        "predicts_d1_val_infer = valid(model_d2, d1_val_inferloader, mode=2)"
      ],
      "metadata": {
        "id": "OIdUb25lSBrl",
        "colab": {
          "base_uri": "https://localhost:8080/"
        },
        "outputId": "d7f1a3a9-4d1a-4995-d652-17f178cf3d49"
      },
      "execution_count": 55,
      "outputs": [
        {
          "output_type": "stream",
          "name": "stderr",
          "text": [
            "100%|██████████| 191/191 [03:06<00:00,  1.02it/s]\n",
            "100%|██████████| 48/48 [00:47<00:00,  1.02it/s]\n"
          ]
        }
      ]
    },
    {
      "cell_type": "code",
      "source": [
        "print(f\"D1 Train Sentiment:\\n{predicts_d1_train_infer['predict'].value_counts()}\\n\"\n",
        "f\"D1 Val Sentiment:\\n{predicts_d1_val_infer['predict'].value_counts()}\")"
      ],
      "metadata": {
        "id": "BMdEWCsrSQzC",
        "colab": {
          "base_uri": "https://localhost:8080/"
        },
        "outputId": "c4411cf7-d619-425b-e1cc-4fc80bb9fd00"
      },
      "execution_count": 56,
      "outputs": [
        {
          "output_type": "stream",
          "name": "stdout",
          "text": [
            "D1 Train Sentiment:\n",
            "0    3146\n",
            "1    2318\n",
            "2     626\n",
            "Name: predict, dtype: int64\n",
            "D1 Val Sentiment:\n",
            "0    792\n",
            "1    580\n",
            "2    151\n",
            "Name: predict, dtype: int64\n"
          ]
        }
      ]
    },
    {
      "cell_type": "code",
      "source": [
        "predicts_d1_train_infer.drop(columns='target', inplace=True)\n",
        "predicts_d1_val_infer.drop(columns='target', inplace=True)"
      ],
      "metadata": {
        "id": "B48tV4G5TNUN"
      },
      "execution_count": 57,
      "outputs": []
    },
    {
      "cell_type": "code",
      "source": [
        "d1_train_augment = d_train_data.merge(predicts_d1_train_infer, left_index=True, right_index=True)\n",
        "d1_train_augment.rename({'predict': 'sentiment'}, axis =1, inplace=True)\n",
        "d1_val_augment = d_val_data.merge(predicts_d1_val_infer, left_index=True, right_index=True)\n",
        "d1_val_augment.rename({'predict': 'sentiment'}, axis =1, inplace=True)"
      ],
      "metadata": {
        "id": "0ItNr_DATq8y"
      },
      "execution_count": 58,
      "outputs": []
    },
    {
      "cell_type": "code",
      "source": [
        "print(f\"D1 Train Augmented: {d1_train_augment.shape}\\nD1 Val Augmented: {d1_val_augment.shape}\")"
      ],
      "metadata": {
        "id": "S3HymLXPUBo7",
        "colab": {
          "base_uri": "https://localhost:8080/"
        },
        "outputId": "0d65cd3c-21cf-4968-b123-4e0704b7768b"
      },
      "execution_count": 59,
      "outputs": [
        {
          "output_type": "stream",
          "name": "stdout",
          "text": [
            "D1 Train Augmented: (6090, 3)\n",
            "D1 Val Augmented: (1523, 3)\n"
          ]
        }
      ]
    },
    {
      "cell_type": "code",
      "source": [
        "d1_train_augment.head()"
      ],
      "metadata": {
        "id": "9ts3OwleUG65",
        "colab": {
          "base_uri": "https://localhost:8080/",
          "height": 206
        },
        "outputId": "5305f048-68ea-4609-9b01-be358af0632d"
      },
      "execution_count": 60,
      "outputs": [
        {
          "output_type": "execute_result",
          "data": {
            "text/plain": [
              "                                                text  target  sentiment\n",
              "0  Ancient Mayan Tablet found via http://t.co/LmU...       0          0\n",
              "1  Incredulous at continued outcry of welfare bei...       1          1\n",
              "2  Hi yall this poem is called is the one about t...       0          2\n",
              "3  The Police Chief assured the crowd that this o...       1          0\n",
              "4  Learning from the Legacy of a Catastrophic Eru...       1          0"
            ],
            "text/html": [
              "\n",
              "  <div id=\"df-757a5408-f298-4f61-b150-3783f2a4d6bc\">\n",
              "    <div class=\"colab-df-container\">\n",
              "      <div>\n",
              "<style scoped>\n",
              "    .dataframe tbody tr th:only-of-type {\n",
              "        vertical-align: middle;\n",
              "    }\n",
              "\n",
              "    .dataframe tbody tr th {\n",
              "        vertical-align: top;\n",
              "    }\n",
              "\n",
              "    .dataframe thead th {\n",
              "        text-align: right;\n",
              "    }\n",
              "</style>\n",
              "<table border=\"1\" class=\"dataframe\">\n",
              "  <thead>\n",
              "    <tr style=\"text-align: right;\">\n",
              "      <th></th>\n",
              "      <th>text</th>\n",
              "      <th>target</th>\n",
              "      <th>sentiment</th>\n",
              "    </tr>\n",
              "  </thead>\n",
              "  <tbody>\n",
              "    <tr>\n",
              "      <th>0</th>\n",
              "      <td>Ancient Mayan Tablet found via http://t.co/LmU...</td>\n",
              "      <td>0</td>\n",
              "      <td>0</td>\n",
              "    </tr>\n",
              "    <tr>\n",
              "      <th>1</th>\n",
              "      <td>Incredulous at continued outcry of welfare bei...</td>\n",
              "      <td>1</td>\n",
              "      <td>1</td>\n",
              "    </tr>\n",
              "    <tr>\n",
              "      <th>2</th>\n",
              "      <td>Hi yall this poem is called is the one about t...</td>\n",
              "      <td>0</td>\n",
              "      <td>2</td>\n",
              "    </tr>\n",
              "    <tr>\n",
              "      <th>3</th>\n",
              "      <td>The Police Chief assured the crowd that this o...</td>\n",
              "      <td>1</td>\n",
              "      <td>0</td>\n",
              "    </tr>\n",
              "    <tr>\n",
              "      <th>4</th>\n",
              "      <td>Learning from the Legacy of a Catastrophic Eru...</td>\n",
              "      <td>1</td>\n",
              "      <td>0</td>\n",
              "    </tr>\n",
              "  </tbody>\n",
              "</table>\n",
              "</div>\n",
              "      <button class=\"colab-df-convert\" onclick=\"convertToInteractive('df-757a5408-f298-4f61-b150-3783f2a4d6bc')\"\n",
              "              title=\"Convert this dataframe to an interactive table.\"\n",
              "              style=\"display:none;\">\n",
              "        \n",
              "  <svg xmlns=\"http://www.w3.org/2000/svg\" height=\"24px\"viewBox=\"0 0 24 24\"\n",
              "       width=\"24px\">\n",
              "    <path d=\"M0 0h24v24H0V0z\" fill=\"none\"/>\n",
              "    <path d=\"M18.56 5.44l.94 2.06.94-2.06 2.06-.94-2.06-.94-.94-2.06-.94 2.06-2.06.94zm-11 1L8.5 8.5l.94-2.06 2.06-.94-2.06-.94L8.5 2.5l-.94 2.06-2.06.94zm10 10l.94 2.06.94-2.06 2.06-.94-2.06-.94-.94-2.06-.94 2.06-2.06.94z\"/><path d=\"M17.41 7.96l-1.37-1.37c-.4-.4-.92-.59-1.43-.59-.52 0-1.04.2-1.43.59L10.3 9.45l-7.72 7.72c-.78.78-.78 2.05 0 2.83L4 21.41c.39.39.9.59 1.41.59.51 0 1.02-.2 1.41-.59l7.78-7.78 2.81-2.81c.8-.78.8-2.07 0-2.86zM5.41 20L4 18.59l7.72-7.72 1.47 1.35L5.41 20z\"/>\n",
              "  </svg>\n",
              "      </button>\n",
              "      \n",
              "  <style>\n",
              "    .colab-df-container {\n",
              "      display:flex;\n",
              "      flex-wrap:wrap;\n",
              "      gap: 12px;\n",
              "    }\n",
              "\n",
              "    .colab-df-convert {\n",
              "      background-color: #E8F0FE;\n",
              "      border: none;\n",
              "      border-radius: 50%;\n",
              "      cursor: pointer;\n",
              "      display: none;\n",
              "      fill: #1967D2;\n",
              "      height: 32px;\n",
              "      padding: 0 0 0 0;\n",
              "      width: 32px;\n",
              "    }\n",
              "\n",
              "    .colab-df-convert:hover {\n",
              "      background-color: #E2EBFA;\n",
              "      box-shadow: 0px 1px 2px rgba(60, 64, 67, 0.3), 0px 1px 3px 1px rgba(60, 64, 67, 0.15);\n",
              "      fill: #174EA6;\n",
              "    }\n",
              "\n",
              "    [theme=dark] .colab-df-convert {\n",
              "      background-color: #3B4455;\n",
              "      fill: #D2E3FC;\n",
              "    }\n",
              "\n",
              "    [theme=dark] .colab-df-convert:hover {\n",
              "      background-color: #434B5C;\n",
              "      box-shadow: 0px 1px 3px 1px rgba(0, 0, 0, 0.15);\n",
              "      filter: drop-shadow(0px 1px 2px rgba(0, 0, 0, 0.3));\n",
              "      fill: #FFFFFF;\n",
              "    }\n",
              "  </style>\n",
              "\n",
              "      <script>\n",
              "        const buttonEl =\n",
              "          document.querySelector('#df-757a5408-f298-4f61-b150-3783f2a4d6bc button.colab-df-convert');\n",
              "        buttonEl.style.display =\n",
              "          google.colab.kernel.accessAllowed ? 'block' : 'none';\n",
              "\n",
              "        async function convertToInteractive(key) {\n",
              "          const element = document.querySelector('#df-757a5408-f298-4f61-b150-3783f2a4d6bc');\n",
              "          const dataTable =\n",
              "            await google.colab.kernel.invokeFunction('convertToInteractive',\n",
              "                                                     [key], {});\n",
              "          if (!dataTable) return;\n",
              "\n",
              "          const docLinkHtml = 'Like what you see? Visit the ' +\n",
              "            '<a target=\"_blank\" href=https://colab.research.google.com/notebooks/data_table.ipynb>data table notebook</a>'\n",
              "            + ' to learn more about interactive tables.';\n",
              "          element.innerHTML = '';\n",
              "          dataTable['output_type'] = 'display_data';\n",
              "          await google.colab.output.renderOutput(dataTable, element);\n",
              "          const docLink = document.createElement('div');\n",
              "          docLink.innerHTML = docLinkHtml;\n",
              "          element.appendChild(docLink);\n",
              "        }\n",
              "      </script>\n",
              "    </div>\n",
              "  </div>\n",
              "  "
            ]
          },
          "metadata": {},
          "execution_count": 60
        }
      ]
    },
    {
      "cell_type": "code",
      "source": [
        "d1_val_augment.head()"
      ],
      "metadata": {
        "id": "TwMTNq-LuK9R",
        "colab": {
          "base_uri": "https://localhost:8080/",
          "height": 206
        },
        "outputId": "3e14d8af-e7f6-455e-a89d-4441fbdb088e"
      },
      "execution_count": 61,
      "outputs": [
        {
          "output_type": "execute_result",
          "data": {
            "text/plain": [
              "                                                text  target  sentiment\n",
              "0  @BobbyofHomewood @JOXRoundtable as in dropping...       0          0\n",
              "1  Wreckage 'conclusively confirmed' as from miss...       1          0\n",
              "2  ??One night and we're gonna come and crash the...       0          1\n",
              "3  Greedy bastards @Fullscreen way to ruin creati...       0          1\n",
              "4  Dakota Skye gets horny with some porn then get...       0          0"
            ],
            "text/html": [
              "\n",
              "  <div id=\"df-328b1946-11e9-40f9-b0c5-fdd0fd2e8d1c\">\n",
              "    <div class=\"colab-df-container\">\n",
              "      <div>\n",
              "<style scoped>\n",
              "    .dataframe tbody tr th:only-of-type {\n",
              "        vertical-align: middle;\n",
              "    }\n",
              "\n",
              "    .dataframe tbody tr th {\n",
              "        vertical-align: top;\n",
              "    }\n",
              "\n",
              "    .dataframe thead th {\n",
              "        text-align: right;\n",
              "    }\n",
              "</style>\n",
              "<table border=\"1\" class=\"dataframe\">\n",
              "  <thead>\n",
              "    <tr style=\"text-align: right;\">\n",
              "      <th></th>\n",
              "      <th>text</th>\n",
              "      <th>target</th>\n",
              "      <th>sentiment</th>\n",
              "    </tr>\n",
              "  </thead>\n",
              "  <tbody>\n",
              "    <tr>\n",
              "      <th>0</th>\n",
              "      <td>@BobbyofHomewood @JOXRoundtable as in dropping...</td>\n",
              "      <td>0</td>\n",
              "      <td>0</td>\n",
              "    </tr>\n",
              "    <tr>\n",
              "      <th>1</th>\n",
              "      <td>Wreckage 'conclusively confirmed' as from miss...</td>\n",
              "      <td>1</td>\n",
              "      <td>0</td>\n",
              "    </tr>\n",
              "    <tr>\n",
              "      <th>2</th>\n",
              "      <td>??One night and we're gonna come and crash the...</td>\n",
              "      <td>0</td>\n",
              "      <td>1</td>\n",
              "    </tr>\n",
              "    <tr>\n",
              "      <th>3</th>\n",
              "      <td>Greedy bastards @Fullscreen way to ruin creati...</td>\n",
              "      <td>0</td>\n",
              "      <td>1</td>\n",
              "    </tr>\n",
              "    <tr>\n",
              "      <th>4</th>\n",
              "      <td>Dakota Skye gets horny with some porn then get...</td>\n",
              "      <td>0</td>\n",
              "      <td>0</td>\n",
              "    </tr>\n",
              "  </tbody>\n",
              "</table>\n",
              "</div>\n",
              "      <button class=\"colab-df-convert\" onclick=\"convertToInteractive('df-328b1946-11e9-40f9-b0c5-fdd0fd2e8d1c')\"\n",
              "              title=\"Convert this dataframe to an interactive table.\"\n",
              "              style=\"display:none;\">\n",
              "        \n",
              "  <svg xmlns=\"http://www.w3.org/2000/svg\" height=\"24px\"viewBox=\"0 0 24 24\"\n",
              "       width=\"24px\">\n",
              "    <path d=\"M0 0h24v24H0V0z\" fill=\"none\"/>\n",
              "    <path d=\"M18.56 5.44l.94 2.06.94-2.06 2.06-.94-2.06-.94-.94-2.06-.94 2.06-2.06.94zm-11 1L8.5 8.5l.94-2.06 2.06-.94-2.06-.94L8.5 2.5l-.94 2.06-2.06.94zm10 10l.94 2.06.94-2.06 2.06-.94-2.06-.94-.94-2.06-.94 2.06-2.06.94z\"/><path d=\"M17.41 7.96l-1.37-1.37c-.4-.4-.92-.59-1.43-.59-.52 0-1.04.2-1.43.59L10.3 9.45l-7.72 7.72c-.78.78-.78 2.05 0 2.83L4 21.41c.39.39.9.59 1.41.59.51 0 1.02-.2 1.41-.59l7.78-7.78 2.81-2.81c.8-.78.8-2.07 0-2.86zM5.41 20L4 18.59l7.72-7.72 1.47 1.35L5.41 20z\"/>\n",
              "  </svg>\n",
              "      </button>\n",
              "      \n",
              "  <style>\n",
              "    .colab-df-container {\n",
              "      display:flex;\n",
              "      flex-wrap:wrap;\n",
              "      gap: 12px;\n",
              "    }\n",
              "\n",
              "    .colab-df-convert {\n",
              "      background-color: #E8F0FE;\n",
              "      border: none;\n",
              "      border-radius: 50%;\n",
              "      cursor: pointer;\n",
              "      display: none;\n",
              "      fill: #1967D2;\n",
              "      height: 32px;\n",
              "      padding: 0 0 0 0;\n",
              "      width: 32px;\n",
              "    }\n",
              "\n",
              "    .colab-df-convert:hover {\n",
              "      background-color: #E2EBFA;\n",
              "      box-shadow: 0px 1px 2px rgba(60, 64, 67, 0.3), 0px 1px 3px 1px rgba(60, 64, 67, 0.15);\n",
              "      fill: #174EA6;\n",
              "    }\n",
              "\n",
              "    [theme=dark] .colab-df-convert {\n",
              "      background-color: #3B4455;\n",
              "      fill: #D2E3FC;\n",
              "    }\n",
              "\n",
              "    [theme=dark] .colab-df-convert:hover {\n",
              "      background-color: #434B5C;\n",
              "      box-shadow: 0px 1px 3px 1px rgba(0, 0, 0, 0.15);\n",
              "      filter: drop-shadow(0px 1px 2px rgba(0, 0, 0, 0.3));\n",
              "      fill: #FFFFFF;\n",
              "    }\n",
              "  </style>\n",
              "\n",
              "      <script>\n",
              "        const buttonEl =\n",
              "          document.querySelector('#df-328b1946-11e9-40f9-b0c5-fdd0fd2e8d1c button.colab-df-convert');\n",
              "        buttonEl.style.display =\n",
              "          google.colab.kernel.accessAllowed ? 'block' : 'none';\n",
              "\n",
              "        async function convertToInteractive(key) {\n",
              "          const element = document.querySelector('#df-328b1946-11e9-40f9-b0c5-fdd0fd2e8d1c');\n",
              "          const dataTable =\n",
              "            await google.colab.kernel.invokeFunction('convertToInteractive',\n",
              "                                                     [key], {});\n",
              "          if (!dataTable) return;\n",
              "\n",
              "          const docLinkHtml = 'Like what you see? Visit the ' +\n",
              "            '<a target=\"_blank\" href=https://colab.research.google.com/notebooks/data_table.ipynb>data table notebook</a>'\n",
              "            + ' to learn more about interactive tables.';\n",
              "          element.innerHTML = '';\n",
              "          dataTable['output_type'] = 'display_data';\n",
              "          await google.colab.output.renderOutput(dataTable, element);\n",
              "          const docLink = document.createElement('div');\n",
              "          docLink.innerHTML = docLinkHtml;\n",
              "          element.appendChild(docLink);\n",
              "        }\n",
              "      </script>\n",
              "    </div>\n",
              "  </div>\n",
              "  "
            ]
          },
          "metadata": {},
          "execution_count": 61
        }
      ]
    },
    {
      "cell_type": "code",
      "source": [
        "d1_augment = pd.concat([d1_train_augment, d1_val_augment], ignore_index= True)"
      ],
      "metadata": {
        "id": "nCaw6gcRuSc-"
      },
      "execution_count": 62,
      "outputs": []
    },
    {
      "cell_type": "code",
      "source": [
        "d1_augment.head()"
      ],
      "metadata": {
        "id": "0c99NkQMjHv1",
        "colab": {
          "base_uri": "https://localhost:8080/",
          "height": 206
        },
        "outputId": "030c2b46-3824-4d67-a497-f768e5696dfc"
      },
      "execution_count": 63,
      "outputs": [
        {
          "output_type": "execute_result",
          "data": {
            "text/plain": [
              "                                                text  target  sentiment\n",
              "0  Ancient Mayan Tablet found via http://t.co/LmU...       0          0\n",
              "1  Incredulous at continued outcry of welfare bei...       1          1\n",
              "2  Hi yall this poem is called is the one about t...       0          2\n",
              "3  The Police Chief assured the crowd that this o...       1          0\n",
              "4  Learning from the Legacy of a Catastrophic Eru...       1          0"
            ],
            "text/html": [
              "\n",
              "  <div id=\"df-e45120ed-c813-47f2-b6d8-dc660aeabf30\">\n",
              "    <div class=\"colab-df-container\">\n",
              "      <div>\n",
              "<style scoped>\n",
              "    .dataframe tbody tr th:only-of-type {\n",
              "        vertical-align: middle;\n",
              "    }\n",
              "\n",
              "    .dataframe tbody tr th {\n",
              "        vertical-align: top;\n",
              "    }\n",
              "\n",
              "    .dataframe thead th {\n",
              "        text-align: right;\n",
              "    }\n",
              "</style>\n",
              "<table border=\"1\" class=\"dataframe\">\n",
              "  <thead>\n",
              "    <tr style=\"text-align: right;\">\n",
              "      <th></th>\n",
              "      <th>text</th>\n",
              "      <th>target</th>\n",
              "      <th>sentiment</th>\n",
              "    </tr>\n",
              "  </thead>\n",
              "  <tbody>\n",
              "    <tr>\n",
              "      <th>0</th>\n",
              "      <td>Ancient Mayan Tablet found via http://t.co/LmU...</td>\n",
              "      <td>0</td>\n",
              "      <td>0</td>\n",
              "    </tr>\n",
              "    <tr>\n",
              "      <th>1</th>\n",
              "      <td>Incredulous at continued outcry of welfare bei...</td>\n",
              "      <td>1</td>\n",
              "      <td>1</td>\n",
              "    </tr>\n",
              "    <tr>\n",
              "      <th>2</th>\n",
              "      <td>Hi yall this poem is called is the one about t...</td>\n",
              "      <td>0</td>\n",
              "      <td>2</td>\n",
              "    </tr>\n",
              "    <tr>\n",
              "      <th>3</th>\n",
              "      <td>The Police Chief assured the crowd that this o...</td>\n",
              "      <td>1</td>\n",
              "      <td>0</td>\n",
              "    </tr>\n",
              "    <tr>\n",
              "      <th>4</th>\n",
              "      <td>Learning from the Legacy of a Catastrophic Eru...</td>\n",
              "      <td>1</td>\n",
              "      <td>0</td>\n",
              "    </tr>\n",
              "  </tbody>\n",
              "</table>\n",
              "</div>\n",
              "      <button class=\"colab-df-convert\" onclick=\"convertToInteractive('df-e45120ed-c813-47f2-b6d8-dc660aeabf30')\"\n",
              "              title=\"Convert this dataframe to an interactive table.\"\n",
              "              style=\"display:none;\">\n",
              "        \n",
              "  <svg xmlns=\"http://www.w3.org/2000/svg\" height=\"24px\"viewBox=\"0 0 24 24\"\n",
              "       width=\"24px\">\n",
              "    <path d=\"M0 0h24v24H0V0z\" fill=\"none\"/>\n",
              "    <path d=\"M18.56 5.44l.94 2.06.94-2.06 2.06-.94-2.06-.94-.94-2.06-.94 2.06-2.06.94zm-11 1L8.5 8.5l.94-2.06 2.06-.94-2.06-.94L8.5 2.5l-.94 2.06-2.06.94zm10 10l.94 2.06.94-2.06 2.06-.94-2.06-.94-.94-2.06-.94 2.06-2.06.94z\"/><path d=\"M17.41 7.96l-1.37-1.37c-.4-.4-.92-.59-1.43-.59-.52 0-1.04.2-1.43.59L10.3 9.45l-7.72 7.72c-.78.78-.78 2.05 0 2.83L4 21.41c.39.39.9.59 1.41.59.51 0 1.02-.2 1.41-.59l7.78-7.78 2.81-2.81c.8-.78.8-2.07 0-2.86zM5.41 20L4 18.59l7.72-7.72 1.47 1.35L5.41 20z\"/>\n",
              "  </svg>\n",
              "      </button>\n",
              "      \n",
              "  <style>\n",
              "    .colab-df-container {\n",
              "      display:flex;\n",
              "      flex-wrap:wrap;\n",
              "      gap: 12px;\n",
              "    }\n",
              "\n",
              "    .colab-df-convert {\n",
              "      background-color: #E8F0FE;\n",
              "      border: none;\n",
              "      border-radius: 50%;\n",
              "      cursor: pointer;\n",
              "      display: none;\n",
              "      fill: #1967D2;\n",
              "      height: 32px;\n",
              "      padding: 0 0 0 0;\n",
              "      width: 32px;\n",
              "    }\n",
              "\n",
              "    .colab-df-convert:hover {\n",
              "      background-color: #E2EBFA;\n",
              "      box-shadow: 0px 1px 2px rgba(60, 64, 67, 0.3), 0px 1px 3px 1px rgba(60, 64, 67, 0.15);\n",
              "      fill: #174EA6;\n",
              "    }\n",
              "\n",
              "    [theme=dark] .colab-df-convert {\n",
              "      background-color: #3B4455;\n",
              "      fill: #D2E3FC;\n",
              "    }\n",
              "\n",
              "    [theme=dark] .colab-df-convert:hover {\n",
              "      background-color: #434B5C;\n",
              "      box-shadow: 0px 1px 3px 1px rgba(0, 0, 0, 0.15);\n",
              "      filter: drop-shadow(0px 1px 2px rgba(0, 0, 0, 0.3));\n",
              "      fill: #FFFFFF;\n",
              "    }\n",
              "  </style>\n",
              "\n",
              "      <script>\n",
              "        const buttonEl =\n",
              "          document.querySelector('#df-e45120ed-c813-47f2-b6d8-dc660aeabf30 button.colab-df-convert');\n",
              "        buttonEl.style.display =\n",
              "          google.colab.kernel.accessAllowed ? 'block' : 'none';\n",
              "\n",
              "        async function convertToInteractive(key) {\n",
              "          const element = document.querySelector('#df-e45120ed-c813-47f2-b6d8-dc660aeabf30');\n",
              "          const dataTable =\n",
              "            await google.colab.kernel.invokeFunction('convertToInteractive',\n",
              "                                                     [key], {});\n",
              "          if (!dataTable) return;\n",
              "\n",
              "          const docLinkHtml = 'Like what you see? Visit the ' +\n",
              "            '<a target=\"_blank\" href=https://colab.research.google.com/notebooks/data_table.ipynb>data table notebook</a>'\n",
              "            + ' to learn more about interactive tables.';\n",
              "          element.innerHTML = '';\n",
              "          dataTable['output_type'] = 'display_data';\n",
              "          await google.colab.output.renderOutput(dataTable, element);\n",
              "          const docLink = document.createElement('div');\n",
              "          docLink.innerHTML = docLinkHtml;\n",
              "          element.appendChild(docLink);\n",
              "        }\n",
              "      </script>\n",
              "    </div>\n",
              "  </div>\n",
              "  "
            ]
          },
          "metadata": {},
          "execution_count": 63
        }
      ]
    },
    {
      "cell_type": "code",
      "source": [
        "d1_augment['sentiment'].value_counts()"
      ],
      "metadata": {
        "id": "KmsJlWuki552",
        "colab": {
          "base_uri": "https://localhost:8080/"
        },
        "outputId": "733a218c-fab8-4e45-9257-bef90937bcc1"
      },
      "execution_count": 64,
      "outputs": [
        {
          "output_type": "execute_result",
          "data": {
            "text/plain": [
              "0    3938\n",
              "1    2898\n",
              "2     777\n",
              "Name: sentiment, dtype: int64"
            ]
          },
          "metadata": {},
          "execution_count": 64
        }
      ]
    },
    {
      "cell_type": "code",
      "source": [
        "data_quality(d1_augment)"
      ],
      "metadata": {
        "id": "B7pKSivIuZrd",
        "colab": {
          "base_uri": "https://localhost:8080/",
          "height": 143
        },
        "outputId": "00328c58-a00b-4f81-c97e-fa51c849045a"
      },
      "execution_count": 65,
      "outputs": [
        {
          "output_type": "execute_result",
          "data": {
            "text/plain": [
              "           Present Values  Missing Values  Unique Values\n",
              "text                 7613               0           7503\n",
              "target               7613               0              2\n",
              "sentiment            7613               0              3"
            ],
            "text/html": [
              "\n",
              "  <div id=\"df-73339576-4ded-4268-b1dc-0e2adab87e0f\">\n",
              "    <div class=\"colab-df-container\">\n",
              "      <div>\n",
              "<style scoped>\n",
              "    .dataframe tbody tr th:only-of-type {\n",
              "        vertical-align: middle;\n",
              "    }\n",
              "\n",
              "    .dataframe tbody tr th {\n",
              "        vertical-align: top;\n",
              "    }\n",
              "\n",
              "    .dataframe thead th {\n",
              "        text-align: right;\n",
              "    }\n",
              "</style>\n",
              "<table border=\"1\" class=\"dataframe\">\n",
              "  <thead>\n",
              "    <tr style=\"text-align: right;\">\n",
              "      <th></th>\n",
              "      <th>Present Values</th>\n",
              "      <th>Missing Values</th>\n",
              "      <th>Unique Values</th>\n",
              "    </tr>\n",
              "  </thead>\n",
              "  <tbody>\n",
              "    <tr>\n",
              "      <th>text</th>\n",
              "      <td>7613</td>\n",
              "      <td>0</td>\n",
              "      <td>7503</td>\n",
              "    </tr>\n",
              "    <tr>\n",
              "      <th>target</th>\n",
              "      <td>7613</td>\n",
              "      <td>0</td>\n",
              "      <td>2</td>\n",
              "    </tr>\n",
              "    <tr>\n",
              "      <th>sentiment</th>\n",
              "      <td>7613</td>\n",
              "      <td>0</td>\n",
              "      <td>3</td>\n",
              "    </tr>\n",
              "  </tbody>\n",
              "</table>\n",
              "</div>\n",
              "      <button class=\"colab-df-convert\" onclick=\"convertToInteractive('df-73339576-4ded-4268-b1dc-0e2adab87e0f')\"\n",
              "              title=\"Convert this dataframe to an interactive table.\"\n",
              "              style=\"display:none;\">\n",
              "        \n",
              "  <svg xmlns=\"http://www.w3.org/2000/svg\" height=\"24px\"viewBox=\"0 0 24 24\"\n",
              "       width=\"24px\">\n",
              "    <path d=\"M0 0h24v24H0V0z\" fill=\"none\"/>\n",
              "    <path d=\"M18.56 5.44l.94 2.06.94-2.06 2.06-.94-2.06-.94-.94-2.06-.94 2.06-2.06.94zm-11 1L8.5 8.5l.94-2.06 2.06-.94-2.06-.94L8.5 2.5l-.94 2.06-2.06.94zm10 10l.94 2.06.94-2.06 2.06-.94-2.06-.94-.94-2.06-.94 2.06-2.06.94z\"/><path d=\"M17.41 7.96l-1.37-1.37c-.4-.4-.92-.59-1.43-.59-.52 0-1.04.2-1.43.59L10.3 9.45l-7.72 7.72c-.78.78-.78 2.05 0 2.83L4 21.41c.39.39.9.59 1.41.59.51 0 1.02-.2 1.41-.59l7.78-7.78 2.81-2.81c.8-.78.8-2.07 0-2.86zM5.41 20L4 18.59l7.72-7.72 1.47 1.35L5.41 20z\"/>\n",
              "  </svg>\n",
              "      </button>\n",
              "      \n",
              "  <style>\n",
              "    .colab-df-container {\n",
              "      display:flex;\n",
              "      flex-wrap:wrap;\n",
              "      gap: 12px;\n",
              "    }\n",
              "\n",
              "    .colab-df-convert {\n",
              "      background-color: #E8F0FE;\n",
              "      border: none;\n",
              "      border-radius: 50%;\n",
              "      cursor: pointer;\n",
              "      display: none;\n",
              "      fill: #1967D2;\n",
              "      height: 32px;\n",
              "      padding: 0 0 0 0;\n",
              "      width: 32px;\n",
              "    }\n",
              "\n",
              "    .colab-df-convert:hover {\n",
              "      background-color: #E2EBFA;\n",
              "      box-shadow: 0px 1px 2px rgba(60, 64, 67, 0.3), 0px 1px 3px 1px rgba(60, 64, 67, 0.15);\n",
              "      fill: #174EA6;\n",
              "    }\n",
              "\n",
              "    [theme=dark] .colab-df-convert {\n",
              "      background-color: #3B4455;\n",
              "      fill: #D2E3FC;\n",
              "    }\n",
              "\n",
              "    [theme=dark] .colab-df-convert:hover {\n",
              "      background-color: #434B5C;\n",
              "      box-shadow: 0px 1px 3px 1px rgba(0, 0, 0, 0.15);\n",
              "      filter: drop-shadow(0px 1px 2px rgba(0, 0, 0, 0.3));\n",
              "      fill: #FFFFFF;\n",
              "    }\n",
              "  </style>\n",
              "\n",
              "      <script>\n",
              "        const buttonEl =\n",
              "          document.querySelector('#df-73339576-4ded-4268-b1dc-0e2adab87e0f button.colab-df-convert');\n",
              "        buttonEl.style.display =\n",
              "          google.colab.kernel.accessAllowed ? 'block' : 'none';\n",
              "\n",
              "        async function convertToInteractive(key) {\n",
              "          const element = document.querySelector('#df-73339576-4ded-4268-b1dc-0e2adab87e0f');\n",
              "          const dataTable =\n",
              "            await google.colab.kernel.invokeFunction('convertToInteractive',\n",
              "                                                     [key], {});\n",
              "          if (!dataTable) return;\n",
              "\n",
              "          const docLinkHtml = 'Like what you see? Visit the ' +\n",
              "            '<a target=\"_blank\" href=https://colab.research.google.com/notebooks/data_table.ipynb>data table notebook</a>'\n",
              "            + ' to learn more about interactive tables.';\n",
              "          element.innerHTML = '';\n",
              "          dataTable['output_type'] = 'display_data';\n",
              "          await google.colab.output.renderOutput(dataTable, element);\n",
              "          const docLink = document.createElement('div');\n",
              "          docLink.innerHTML = docLinkHtml;\n",
              "          element.appendChild(docLink);\n",
              "        }\n",
              "      </script>\n",
              "    </div>\n",
              "  </div>\n",
              "  "
            ]
          },
          "metadata": {},
          "execution_count": 65
        }
      ]
    },
    {
      "cell_type": "code",
      "source": [
        "# # Saving d1_augment for future use\n",
        "# d1_train_augment.to_csv(\"/content/drive/MyDrive/BT5151/group_project/d1_train_augment.csv\")\n",
        "# d1_val_augment.to_csv(\"/content/drive/MyDrive/BT5151/group_project/d1_val_augment.csv\")\n",
        "# d1_augment.to_csv(\"/content/drive/MyDrive/BT5151/group_project/d1_augment.csv\")"
      ],
      "metadata": {
        "id": "WBiE2UPrrpoZ"
      },
      "execution_count": null,
      "outputs": []
    },
    {
      "cell_type": "markdown",
      "source": [
        "Analysis: "
      ],
      "metadata": {
        "id": "F23Rm72zhCJ4"
      }
    },
    {
      "cell_type": "markdown",
      "source": [
        "### Task 3.4 ###"
      ],
      "metadata": {
        "id": "O8OcrUFdZn02"
      }
    },
    {
      "cell_type": "code",
      "source": [
        "# Setting the sentiment \"target\" column back to \"sentiment\"\n",
        "s_train_concat = s_train_data.rename(columns={\"target\":\"sentiment\"}).copy()\n",
        "s_val_concat = s_val_data.rename(columns={\"target\":\"sentiment\"}).copy()"
      ],
      "metadata": {
        "id": "IqiutCAD2prC"
      },
      "execution_count": null,
      "outputs": []
    },
    {
      "cell_type": "code",
      "source": [
        "s_train_concat.head()"
      ],
      "metadata": {
        "colab": {
          "base_uri": "https://localhost:8080/",
          "height": 206
        },
        "id": "cAcuz3IfgjIy",
        "outputId": "41bd8ee3-a869-4902-cde8-a4b18e305dca"
      },
      "execution_count": null,
      "outputs": [
        {
          "output_type": "execute_result",
          "data": {
            "text/plain": [
              "                                                text  sentiment\n",
              "0             June gloom seems to have arrived early          0\n",
              "1  Sad that our neighbors just cut down ALL the t...          1\n",
              "2   OHH  yeah i sometimes forget  your in the oth...          0\n",
              "3  Join the biggest and bestest group on facebook...          2\n",
              "4       i lost one of my best friends iï¿½m sooo sad          1"
            ],
            "text/html": [
              "\n",
              "  <div id=\"df-3748ffec-93f2-4f7a-9380-28132190455d\">\n",
              "    <div class=\"colab-df-container\">\n",
              "      <div>\n",
              "<style scoped>\n",
              "    .dataframe tbody tr th:only-of-type {\n",
              "        vertical-align: middle;\n",
              "    }\n",
              "\n",
              "    .dataframe tbody tr th {\n",
              "        vertical-align: top;\n",
              "    }\n",
              "\n",
              "    .dataframe thead th {\n",
              "        text-align: right;\n",
              "    }\n",
              "</style>\n",
              "<table border=\"1\" class=\"dataframe\">\n",
              "  <thead>\n",
              "    <tr style=\"text-align: right;\">\n",
              "      <th></th>\n",
              "      <th>text</th>\n",
              "      <th>sentiment</th>\n",
              "    </tr>\n",
              "  </thead>\n",
              "  <tbody>\n",
              "    <tr>\n",
              "      <th>0</th>\n",
              "      <td>June gloom seems to have arrived early</td>\n",
              "      <td>0</td>\n",
              "    </tr>\n",
              "    <tr>\n",
              "      <th>1</th>\n",
              "      <td>Sad that our neighbors just cut down ALL the t...</td>\n",
              "      <td>1</td>\n",
              "    </tr>\n",
              "    <tr>\n",
              "      <th>2</th>\n",
              "      <td>OHH  yeah i sometimes forget  your in the oth...</td>\n",
              "      <td>0</td>\n",
              "    </tr>\n",
              "    <tr>\n",
              "      <th>3</th>\n",
              "      <td>Join the biggest and bestest group on facebook...</td>\n",
              "      <td>2</td>\n",
              "    </tr>\n",
              "    <tr>\n",
              "      <th>4</th>\n",
              "      <td>i lost one of my best friends iï¿½m sooo sad</td>\n",
              "      <td>1</td>\n",
              "    </tr>\n",
              "  </tbody>\n",
              "</table>\n",
              "</div>\n",
              "      <button class=\"colab-df-convert\" onclick=\"convertToInteractive('df-3748ffec-93f2-4f7a-9380-28132190455d')\"\n",
              "              title=\"Convert this dataframe to an interactive table.\"\n",
              "              style=\"display:none;\">\n",
              "        \n",
              "  <svg xmlns=\"http://www.w3.org/2000/svg\" height=\"24px\"viewBox=\"0 0 24 24\"\n",
              "       width=\"24px\">\n",
              "    <path d=\"M0 0h24v24H0V0z\" fill=\"none\"/>\n",
              "    <path d=\"M18.56 5.44l.94 2.06.94-2.06 2.06-.94-2.06-.94-.94-2.06-.94 2.06-2.06.94zm-11 1L8.5 8.5l.94-2.06 2.06-.94-2.06-.94L8.5 2.5l-.94 2.06-2.06.94zm10 10l.94 2.06.94-2.06 2.06-.94-2.06-.94-.94-2.06-.94 2.06-2.06.94z\"/><path d=\"M17.41 7.96l-1.37-1.37c-.4-.4-.92-.59-1.43-.59-.52 0-1.04.2-1.43.59L10.3 9.45l-7.72 7.72c-.78.78-.78 2.05 0 2.83L4 21.41c.39.39.9.59 1.41.59.51 0 1.02-.2 1.41-.59l7.78-7.78 2.81-2.81c.8-.78.8-2.07 0-2.86zM5.41 20L4 18.59l7.72-7.72 1.47 1.35L5.41 20z\"/>\n",
              "  </svg>\n",
              "      </button>\n",
              "      \n",
              "  <style>\n",
              "    .colab-df-container {\n",
              "      display:flex;\n",
              "      flex-wrap:wrap;\n",
              "      gap: 12px;\n",
              "    }\n",
              "\n",
              "    .colab-df-convert {\n",
              "      background-color: #E8F0FE;\n",
              "      border: none;\n",
              "      border-radius: 50%;\n",
              "      cursor: pointer;\n",
              "      display: none;\n",
              "      fill: #1967D2;\n",
              "      height: 32px;\n",
              "      padding: 0 0 0 0;\n",
              "      width: 32px;\n",
              "    }\n",
              "\n",
              "    .colab-df-convert:hover {\n",
              "      background-color: #E2EBFA;\n",
              "      box-shadow: 0px 1px 2px rgba(60, 64, 67, 0.3), 0px 1px 3px 1px rgba(60, 64, 67, 0.15);\n",
              "      fill: #174EA6;\n",
              "    }\n",
              "\n",
              "    [theme=dark] .colab-df-convert {\n",
              "      background-color: #3B4455;\n",
              "      fill: #D2E3FC;\n",
              "    }\n",
              "\n",
              "    [theme=dark] .colab-df-convert:hover {\n",
              "      background-color: #434B5C;\n",
              "      box-shadow: 0px 1px 3px 1px rgba(0, 0, 0, 0.15);\n",
              "      filter: drop-shadow(0px 1px 2px rgba(0, 0, 0, 0.3));\n",
              "      fill: #FFFFFF;\n",
              "    }\n",
              "  </style>\n",
              "\n",
              "      <script>\n",
              "        const buttonEl =\n",
              "          document.querySelector('#df-3748ffec-93f2-4f7a-9380-28132190455d button.colab-df-convert');\n",
              "        buttonEl.style.display =\n",
              "          google.colab.kernel.accessAllowed ? 'block' : 'none';\n",
              "\n",
              "        async function convertToInteractive(key) {\n",
              "          const element = document.querySelector('#df-3748ffec-93f2-4f7a-9380-28132190455d');\n",
              "          const dataTable =\n",
              "            await google.colab.kernel.invokeFunction('convertToInteractive',\n",
              "                                                     [key], {});\n",
              "          if (!dataTable) return;\n",
              "\n",
              "          const docLinkHtml = 'Like what you see? Visit the ' +\n",
              "            '<a target=\"_blank\" href=https://colab.research.google.com/notebooks/data_table.ipynb>data table notebook</a>'\n",
              "            + ' to learn more about interactive tables.';\n",
              "          element.innerHTML = '';\n",
              "          dataTable['output_type'] = 'display_data';\n",
              "          await google.colab.output.renderOutput(dataTable, element);\n",
              "          const docLink = document.createElement('div');\n",
              "          docLink.innerHTML = docLinkHtml;\n",
              "          element.appendChild(docLink);\n",
              "        }\n",
              "      </script>\n",
              "    </div>\n",
              "  </div>\n",
              "  "
            ]
          },
          "metadata": {},
          "execution_count": 63
        }
      ]
    },
    {
      "cell_type": "code",
      "source": [
        "# Concatenating the datasets to creat D_12\n",
        "sd_train_data = pd.concat([d_train_data, s_train_concat], ignore_index=True)\n",
        "sd_val_data = pd.concat([d_val_data, s_val_concat], ignore_index=True)"
      ],
      "metadata": {
        "id": "ieA5CDdSZts3"
      },
      "execution_count": null,
      "outputs": []
    },
    {
      "cell_type": "code",
      "source": [
        "sd_train_data.head()"
      ],
      "metadata": {
        "colab": {
          "base_uri": "https://localhost:8080/",
          "height": 206
        },
        "id": "H2X1gehJgdDs",
        "outputId": "27d84da4-e7c3-4702-c830-8809fbe40d98"
      },
      "execution_count": null,
      "outputs": [
        {
          "output_type": "execute_result",
          "data": {
            "text/plain": [
              "                                                text  target  sentiment\n",
              "0  Ancient Mayan Tablet found via http://t.co/LmU...     0.0        NaN\n",
              "1  Incredulous at continued outcry of welfare bei...     1.0        NaN\n",
              "2  Hi yall this poem is called is the one about t...     0.0        NaN\n",
              "3  The Police Chief assured the crowd that this o...     1.0        NaN\n",
              "4  Learning from the Legacy of a Catastrophic Eru...     1.0        NaN"
            ],
            "text/html": [
              "\n",
              "  <div id=\"df-d9fd48df-1404-401a-ab03-f569a297c957\">\n",
              "    <div class=\"colab-df-container\">\n",
              "      <div>\n",
              "<style scoped>\n",
              "    .dataframe tbody tr th:only-of-type {\n",
              "        vertical-align: middle;\n",
              "    }\n",
              "\n",
              "    .dataframe tbody tr th {\n",
              "        vertical-align: top;\n",
              "    }\n",
              "\n",
              "    .dataframe thead th {\n",
              "        text-align: right;\n",
              "    }\n",
              "</style>\n",
              "<table border=\"1\" class=\"dataframe\">\n",
              "  <thead>\n",
              "    <tr style=\"text-align: right;\">\n",
              "      <th></th>\n",
              "      <th>text</th>\n",
              "      <th>target</th>\n",
              "      <th>sentiment</th>\n",
              "    </tr>\n",
              "  </thead>\n",
              "  <tbody>\n",
              "    <tr>\n",
              "      <th>0</th>\n",
              "      <td>Ancient Mayan Tablet found via http://t.co/LmU...</td>\n",
              "      <td>0.0</td>\n",
              "      <td>NaN</td>\n",
              "    </tr>\n",
              "    <tr>\n",
              "      <th>1</th>\n",
              "      <td>Incredulous at continued outcry of welfare bei...</td>\n",
              "      <td>1.0</td>\n",
              "      <td>NaN</td>\n",
              "    </tr>\n",
              "    <tr>\n",
              "      <th>2</th>\n",
              "      <td>Hi yall this poem is called is the one about t...</td>\n",
              "      <td>0.0</td>\n",
              "      <td>NaN</td>\n",
              "    </tr>\n",
              "    <tr>\n",
              "      <th>3</th>\n",
              "      <td>The Police Chief assured the crowd that this o...</td>\n",
              "      <td>1.0</td>\n",
              "      <td>NaN</td>\n",
              "    </tr>\n",
              "    <tr>\n",
              "      <th>4</th>\n",
              "      <td>Learning from the Legacy of a Catastrophic Eru...</td>\n",
              "      <td>1.0</td>\n",
              "      <td>NaN</td>\n",
              "    </tr>\n",
              "  </tbody>\n",
              "</table>\n",
              "</div>\n",
              "      <button class=\"colab-df-convert\" onclick=\"convertToInteractive('df-d9fd48df-1404-401a-ab03-f569a297c957')\"\n",
              "              title=\"Convert this dataframe to an interactive table.\"\n",
              "              style=\"display:none;\">\n",
              "        \n",
              "  <svg xmlns=\"http://www.w3.org/2000/svg\" height=\"24px\"viewBox=\"0 0 24 24\"\n",
              "       width=\"24px\">\n",
              "    <path d=\"M0 0h24v24H0V0z\" fill=\"none\"/>\n",
              "    <path d=\"M18.56 5.44l.94 2.06.94-2.06 2.06-.94-2.06-.94-.94-2.06-.94 2.06-2.06.94zm-11 1L8.5 8.5l.94-2.06 2.06-.94-2.06-.94L8.5 2.5l-.94 2.06-2.06.94zm10 10l.94 2.06.94-2.06 2.06-.94-2.06-.94-.94-2.06-.94 2.06-2.06.94z\"/><path d=\"M17.41 7.96l-1.37-1.37c-.4-.4-.92-.59-1.43-.59-.52 0-1.04.2-1.43.59L10.3 9.45l-7.72 7.72c-.78.78-.78 2.05 0 2.83L4 21.41c.39.39.9.59 1.41.59.51 0 1.02-.2 1.41-.59l7.78-7.78 2.81-2.81c.8-.78.8-2.07 0-2.86zM5.41 20L4 18.59l7.72-7.72 1.47 1.35L5.41 20z\"/>\n",
              "  </svg>\n",
              "      </button>\n",
              "      \n",
              "  <style>\n",
              "    .colab-df-container {\n",
              "      display:flex;\n",
              "      flex-wrap:wrap;\n",
              "      gap: 12px;\n",
              "    }\n",
              "\n",
              "    .colab-df-convert {\n",
              "      background-color: #E8F0FE;\n",
              "      border: none;\n",
              "      border-radius: 50%;\n",
              "      cursor: pointer;\n",
              "      display: none;\n",
              "      fill: #1967D2;\n",
              "      height: 32px;\n",
              "      padding: 0 0 0 0;\n",
              "      width: 32px;\n",
              "    }\n",
              "\n",
              "    .colab-df-convert:hover {\n",
              "      background-color: #E2EBFA;\n",
              "      box-shadow: 0px 1px 2px rgba(60, 64, 67, 0.3), 0px 1px 3px 1px rgba(60, 64, 67, 0.15);\n",
              "      fill: #174EA6;\n",
              "    }\n",
              "\n",
              "    [theme=dark] .colab-df-convert {\n",
              "      background-color: #3B4455;\n",
              "      fill: #D2E3FC;\n",
              "    }\n",
              "\n",
              "    [theme=dark] .colab-df-convert:hover {\n",
              "      background-color: #434B5C;\n",
              "      box-shadow: 0px 1px 3px 1px rgba(0, 0, 0, 0.15);\n",
              "      filter: drop-shadow(0px 1px 2px rgba(0, 0, 0, 0.3));\n",
              "      fill: #FFFFFF;\n",
              "    }\n",
              "  </style>\n",
              "\n",
              "      <script>\n",
              "        const buttonEl =\n",
              "          document.querySelector('#df-d9fd48df-1404-401a-ab03-f569a297c957 button.colab-df-convert');\n",
              "        buttonEl.style.display =\n",
              "          google.colab.kernel.accessAllowed ? 'block' : 'none';\n",
              "\n",
              "        async function convertToInteractive(key) {\n",
              "          const element = document.querySelector('#df-d9fd48df-1404-401a-ab03-f569a297c957');\n",
              "          const dataTable =\n",
              "            await google.colab.kernel.invokeFunction('convertToInteractive',\n",
              "                                                     [key], {});\n",
              "          if (!dataTable) return;\n",
              "\n",
              "          const docLinkHtml = 'Like what you see? Visit the ' +\n",
              "            '<a target=\"_blank\" href=https://colab.research.google.com/notebooks/data_table.ipynb>data table notebook</a>'\n",
              "            + ' to learn more about interactive tables.';\n",
              "          element.innerHTML = '';\n",
              "          dataTable['output_type'] = 'display_data';\n",
              "          await google.colab.output.renderOutput(dataTable, element);\n",
              "          const docLink = document.createElement('div');\n",
              "          docLink.innerHTML = docLinkHtml;\n",
              "          element.appendChild(docLink);\n",
              "        }\n",
              "      </script>\n",
              "    </div>\n",
              "  </div>\n",
              "  "
            ]
          },
          "metadata": {},
          "execution_count": 65
        }
      ]
    },
    {
      "cell_type": "code",
      "source": [
        "# Checking quality\n",
        "data_quality(sd_train_data)"
      ],
      "metadata": {
        "colab": {
          "base_uri": "https://localhost:8080/",
          "height": 143
        },
        "id": "aWWMoEMR3VEH",
        "outputId": "26937572-7701-4545-959f-e3deb29f53d5"
      },
      "execution_count": null,
      "outputs": [
        {
          "output_type": "execute_result",
          "data": {
            "text/plain": [
              "           Present Values  Missing Values  Unique Values\n",
              "text                28074               0          27996\n",
              "target               6090           21984              2\n",
              "sentiment           21984            6090              3"
            ],
            "text/html": [
              "\n",
              "  <div id=\"df-39d68197-c0f1-4b47-9377-bc093b581731\">\n",
              "    <div class=\"colab-df-container\">\n",
              "      <div>\n",
              "<style scoped>\n",
              "    .dataframe tbody tr th:only-of-type {\n",
              "        vertical-align: middle;\n",
              "    }\n",
              "\n",
              "    .dataframe tbody tr th {\n",
              "        vertical-align: top;\n",
              "    }\n",
              "\n",
              "    .dataframe thead th {\n",
              "        text-align: right;\n",
              "    }\n",
              "</style>\n",
              "<table border=\"1\" class=\"dataframe\">\n",
              "  <thead>\n",
              "    <tr style=\"text-align: right;\">\n",
              "      <th></th>\n",
              "      <th>Present Values</th>\n",
              "      <th>Missing Values</th>\n",
              "      <th>Unique Values</th>\n",
              "    </tr>\n",
              "  </thead>\n",
              "  <tbody>\n",
              "    <tr>\n",
              "      <th>text</th>\n",
              "      <td>28074</td>\n",
              "      <td>0</td>\n",
              "      <td>27996</td>\n",
              "    </tr>\n",
              "    <tr>\n",
              "      <th>target</th>\n",
              "      <td>6090</td>\n",
              "      <td>21984</td>\n",
              "      <td>2</td>\n",
              "    </tr>\n",
              "    <tr>\n",
              "      <th>sentiment</th>\n",
              "      <td>21984</td>\n",
              "      <td>6090</td>\n",
              "      <td>3</td>\n",
              "    </tr>\n",
              "  </tbody>\n",
              "</table>\n",
              "</div>\n",
              "      <button class=\"colab-df-convert\" onclick=\"convertToInteractive('df-39d68197-c0f1-4b47-9377-bc093b581731')\"\n",
              "              title=\"Convert this dataframe to an interactive table.\"\n",
              "              style=\"display:none;\">\n",
              "        \n",
              "  <svg xmlns=\"http://www.w3.org/2000/svg\" height=\"24px\"viewBox=\"0 0 24 24\"\n",
              "       width=\"24px\">\n",
              "    <path d=\"M0 0h24v24H0V0z\" fill=\"none\"/>\n",
              "    <path d=\"M18.56 5.44l.94 2.06.94-2.06 2.06-.94-2.06-.94-.94-2.06-.94 2.06-2.06.94zm-11 1L8.5 8.5l.94-2.06 2.06-.94-2.06-.94L8.5 2.5l-.94 2.06-2.06.94zm10 10l.94 2.06.94-2.06 2.06-.94-2.06-.94-.94-2.06-.94 2.06-2.06.94z\"/><path d=\"M17.41 7.96l-1.37-1.37c-.4-.4-.92-.59-1.43-.59-.52 0-1.04.2-1.43.59L10.3 9.45l-7.72 7.72c-.78.78-.78 2.05 0 2.83L4 21.41c.39.39.9.59 1.41.59.51 0 1.02-.2 1.41-.59l7.78-7.78 2.81-2.81c.8-.78.8-2.07 0-2.86zM5.41 20L4 18.59l7.72-7.72 1.47 1.35L5.41 20z\"/>\n",
              "  </svg>\n",
              "      </button>\n",
              "      \n",
              "  <style>\n",
              "    .colab-df-container {\n",
              "      display:flex;\n",
              "      flex-wrap:wrap;\n",
              "      gap: 12px;\n",
              "    }\n",
              "\n",
              "    .colab-df-convert {\n",
              "      background-color: #E8F0FE;\n",
              "      border: none;\n",
              "      border-radius: 50%;\n",
              "      cursor: pointer;\n",
              "      display: none;\n",
              "      fill: #1967D2;\n",
              "      height: 32px;\n",
              "      padding: 0 0 0 0;\n",
              "      width: 32px;\n",
              "    }\n",
              "\n",
              "    .colab-df-convert:hover {\n",
              "      background-color: #E2EBFA;\n",
              "      box-shadow: 0px 1px 2px rgba(60, 64, 67, 0.3), 0px 1px 3px 1px rgba(60, 64, 67, 0.15);\n",
              "      fill: #174EA6;\n",
              "    }\n",
              "\n",
              "    [theme=dark] .colab-df-convert {\n",
              "      background-color: #3B4455;\n",
              "      fill: #D2E3FC;\n",
              "    }\n",
              "\n",
              "    [theme=dark] .colab-df-convert:hover {\n",
              "      background-color: #434B5C;\n",
              "      box-shadow: 0px 1px 3px 1px rgba(0, 0, 0, 0.15);\n",
              "      filter: drop-shadow(0px 1px 2px rgba(0, 0, 0, 0.3));\n",
              "      fill: #FFFFFF;\n",
              "    }\n",
              "  </style>\n",
              "\n",
              "      <script>\n",
              "        const buttonEl =\n",
              "          document.querySelector('#df-39d68197-c0f1-4b47-9377-bc093b581731 button.colab-df-convert');\n",
              "        buttonEl.style.display =\n",
              "          google.colab.kernel.accessAllowed ? 'block' : 'none';\n",
              "\n",
              "        async function convertToInteractive(key) {\n",
              "          const element = document.querySelector('#df-39d68197-c0f1-4b47-9377-bc093b581731');\n",
              "          const dataTable =\n",
              "            await google.colab.kernel.invokeFunction('convertToInteractive',\n",
              "                                                     [key], {});\n",
              "          if (!dataTable) return;\n",
              "\n",
              "          const docLinkHtml = 'Like what you see? Visit the ' +\n",
              "            '<a target=\"_blank\" href=https://colab.research.google.com/notebooks/data_table.ipynb>data table notebook</a>'\n",
              "            + ' to learn more about interactive tables.';\n",
              "          element.innerHTML = '';\n",
              "          dataTable['output_type'] = 'display_data';\n",
              "          await google.colab.output.renderOutput(dataTable, element);\n",
              "          const docLink = document.createElement('div');\n",
              "          docLink.innerHTML = docLinkHtml;\n",
              "          element.appendChild(docLink);\n",
              "        }\n",
              "      </script>\n",
              "    </div>\n",
              "  </div>\n",
              "  "
            ]
          },
          "metadata": {},
          "execution_count": 66
        }
      ]
    },
    {
      "cell_type": "code",
      "source": [
        "sd_train_data.shape"
      ],
      "metadata": {
        "colab": {
          "base_uri": "https://localhost:8080/"
        },
        "id": "mPnm2MbdbTom",
        "outputId": "0748ac5d-c64e-41f3-f980-aebad871d145"
      },
      "execution_count": null,
      "outputs": [
        {
          "output_type": "execute_result",
          "data": {
            "text/plain": [
              "(28074, 3)"
            ]
          },
          "metadata": {},
          "execution_count": 67
        }
      ]
    },
    {
      "cell_type": "code",
      "source": [
        "sd_train_data.columns"
      ],
      "metadata": {
        "colab": {
          "base_uri": "https://localhost:8080/"
        },
        "id": "2do18jeS6b87",
        "outputId": "7662b532-277d-4e37-b12d-e70b53261757"
      },
      "execution_count": null,
      "outputs": [
        {
          "output_type": "execute_result",
          "data": {
            "text/plain": [
              "Index(['text', 'target', 'sentiment'], dtype='object')"
            ]
          },
          "metadata": {},
          "execution_count": 68
        }
      ]
    },
    {
      "cell_type": "code",
      "source": [
        "# Custom Dataset class for D_12\n",
        "class DataCombined(Dataset):\n",
        "    def __init__(self, dataframe, tokenizer, max_len):\n",
        "        self.tokenizer = tokenizer\n",
        "        self.data = dataframe\n",
        "        self.text = dataframe.text\n",
        "        self.target = self.data.target\n",
        "        self.sentiment = self.data.sentiment\n",
        "        self.max_len = max_len\n",
        "\n",
        "    def __len__(self):\n",
        "        return len(self.text)\n",
        "\n",
        "    def __getitem__(self, index):\n",
        "        text = str(self.text[index])\n",
        "        text = \" \".join(text.split())\n",
        "\n",
        "        inputs = self.tokenizer.encode_plus(\n",
        "            text,\n",
        "            None,\n",
        "            add_special_tokens=True,\n",
        "            max_length=self.max_len,\n",
        "            truncation=True,\n",
        "            padding = 'max_length',\n",
        "            return_token_type_ids=True\n",
        "        )\n",
        "        ids = inputs['input_ids']\n",
        "        mask = inputs['attention_mask']\n",
        "        token_type_ids = inputs[\"token_type_ids\"]\n",
        "\n",
        "\n",
        "        return {\n",
        "            'ids': torch.tensor(ids, dtype=torch.long),\n",
        "            'mask': torch.tensor(mask, dtype=torch.long),\n",
        "            'token_type_ids': torch.tensor(token_type_ids, dtype=torch.long),\n",
        "            'labels': (self.target[index], self.sentiment[index]) #output labels in a tuple for indexing later during training loop\n",
        "        }"
      ],
      "metadata": {
        "id": "RdoBaCmF6SRW"
      },
      "execution_count": null,
      "outputs": []
    },
    {
      "cell_type": "markdown",
      "source": [
        "### Task 3.5.3 ###\n",
        " Model Training pipeline"
      ],
      "metadata": {
        "id": "CfYKDTSOT6RU"
      }
    },
    {
      "cell_type": "code",
      "source": [
        "# Hyperparameters for training\n",
        "MAX_LEN = 512\n",
        "TRAIN_BATCH_SIZE = 32\n",
        "VALID_BATCH_SIZE = 32\n",
        "LEARNING_RATE = 1e-05\n",
        "\n",
        "train_params = {'batch_size': TRAIN_BATCH_SIZE,\n",
        "                'shuffle': True,\n",
        "                'num_workers': 0\n",
        "                }\n",
        "\n",
        "test_params = {'batch_size': VALID_BATCH_SIZE,\n",
        "                'shuffle': False,\n",
        "                'num_workers': 0\n",
        "                }\n",
        "\n",
        "# Creating the datasets\n",
        "sd_train_dataset = DataCombined(sd_train_data, tokenizer=tokenizer, max_len=MAX_LEN)\n",
        "sd_val_dataset = DataCombined(sd_val_data, tokenizer=tokenizer, max_len=MAX_LEN)\n",
        "# Loading the datasets in the dataloaders\n",
        "sd_train_loader = DataLoader(sd_train_dataset, **train_params)\n",
        "sd_val_loader = DataLoader(sd_val_dataset, **test_params)"
      ],
      "metadata": {
        "id": "ldlCN7hw6CCx"
      },
      "execution_count": null,
      "outputs": []
    },
    {
      "cell_type": "markdown",
      "source": [
        "**Preserving the AHA moment XD**"
      ],
      "metadata": {
        "id": "TjOvQigFVy56"
      }
    },
    {
      "cell_type": "code",
      "source": [
        "#sd_sample = next(iter(sd_train_loader))"
      ],
      "metadata": {
        "id": "WQ1SMdJ8qmy6"
      },
      "execution_count": null,
      "outputs": []
    },
    {
      "cell_type": "code",
      "source": [
        "#sd_sample['ids'][sd_sample['labels'][1]==0]"
      ],
      "metadata": {
        "id": "zlVKPVlO4Jk-"
      },
      "execution_count": null,
      "outputs": []
    },
    {
      "cell_type": "code",
      "source": [
        "#sd_sample['ids'].size()\n",
        "#sd_sample['ids'][~np.isnan(sd_sample['labels'][0].numpy()) == True]"
      ],
      "metadata": {
        "id": "u8YOSHNzvNx6"
      },
      "execution_count": null,
      "outputs": []
    },
    {
      "cell_type": "code",
      "source": [
        "#sd_sample[\"labels\"][0][~np.isnan(sd_sample['labels'][0].numpy()) == True].long()"
      ],
      "metadata": {
        "id": "7-iNQZfE0EfH"
      },
      "execution_count": null,
      "outputs": []
    },
    {
      "cell_type": "code",
      "source": [
        "#sd_sample[\"labels\"][1][~np.isnan(sd_sample['labels'][1].numpy()) == True].long()"
      ],
      "metadata": {
        "id": "W78Cj3jwwfI9"
      },
      "execution_count": null,
      "outputs": []
    },
    {
      "cell_type": "code",
      "source": [
        "# idx1 = ~np.isnan(sd_sample['labels'][0].numpy())\n",
        "# idx2 = ~np.isnan(sd_sample['labels'][1].numpy())"
      ],
      "metadata": {
        "id": "R7ZhwOa7qpmE"
      },
      "execution_count": null,
      "outputs": []
    },
    {
      "cell_type": "code",
      "source": [
        "# idx1"
      ],
      "metadata": {
        "id": "q-OM4R5puC_X"
      },
      "execution_count": null,
      "outputs": []
    },
    {
      "cell_type": "code",
      "source": [
        "# idx2"
      ],
      "metadata": {
        "id": "Sf5saNbgt3ci"
      },
      "execution_count": null,
      "outputs": []
    },
    {
      "cell_type": "code",
      "source": [
        "# Now we know what to do, let's do the functions!\n",
        "\n",
        "def null_tensor(tensor):\n",
        "    if torch.isnan(tensor) == True:\n",
        "        return torch.tensor(0)\n",
        "    else:\n",
        "        return tensor\n",
        "\n",
        "def calcuate_accuracy(preds, targets):\n",
        "    n_correct = (preds==targets).sum().item()\n",
        "    return n_correct\n",
        "\n",
        "def train_hydra(model, epoch, training_loader, testing_loader, lambda1, lambda2):\n",
        "    d1_tr_loss = 0\n",
        "    d1_n_correct = 0\n",
        "    d1_nb_tr_steps = 0\n",
        "    d1_nb_tr_examples = 0\n",
        "    d2_tr_loss = 0\n",
        "    d2_n_correct = 0\n",
        "    d2_nb_tr_steps = 0\n",
        "    d2_nb_tr_examples = 0\n",
        "    total_tr_loss = 0\n",
        "    \n",
        "    d1_val_loss = 0\n",
        "    d1_val_n_correct = 0\n",
        "    d1_nb_val_steps = 0\n",
        "    d1_nb_val_examples = 0\n",
        "    \n",
        "    d2_val_loss = 0\n",
        "    d2_val_n_correct = 0\n",
        "    d2_nb_val_steps = 0\n",
        "    d2_nb_val_examples = 0\n",
        "    total_val_loss = 0\n",
        "\n",
        "    model.train()\n",
        "    for loop, data in enumerate(tqdm(training_loader, 0)):\n",
        "        d1_ids = data['ids'][~np.isnan(data['labels'][0].numpy()) == True].to(device, dtype = torch.long)\n",
        "        d1_mask = data['mask'][~np.isnan(data['labels'][0].numpy()) == True].to(device, dtype = torch.long)\n",
        "        d1_token_type_ids = data['token_type_ids'][~np.isnan(data['labels'][0].numpy()) == True].to(device, dtype = torch.long)\n",
        "        d1_targets = data['labels'][0][~np.isnan(data['labels'][0].numpy()) == True].long().to(device, dtype = torch.long)\n",
        "\n",
        "        d2_ids = data['ids'][~np.isnan(data['labels'][1].numpy()) == True].to(device, dtype = torch.long)\n",
        "        d2_mask = data['mask'][~np.isnan(data['labels'][1].numpy()) == True].to(device, dtype = torch.long)\n",
        "        d2_token_type_ids = data['token_type_ids'][~np.isnan(data['labels'][1].numpy()) == True].to(device, dtype = torch.long)\n",
        "        d2_sentiment = data['labels'][1][~np.isnan(data['labels'][1].numpy()) == True].long().to(device, dtype = torch.long)\n",
        "\n",
        "\n",
        "        output1, _ = model(d1_ids, d1_mask, d1_token_type_ids)\n",
        "        _, output2 = model(d2_ids, d2_mask, d2_token_type_ids)\n",
        "\n",
        "        loss1 = loss_function(output1, d1_targets)\n",
        "        loss1 = null_tensor(loss1)\n",
        "        d1_tr_loss += check_null(lambda1*loss1.item())\n",
        "\n",
        "        loss2 = loss_function(output2, d2_sentiment)\n",
        "        loss2 = null_tensor(loss2)\n",
        "        d2_tr_loss += check_null(lambda2*loss2.item())\n",
        "\n",
        "        total_loss = (lambda1*loss1) + (lambda2*loss2)\n",
        "        total_tr_loss += total_loss.item()\n",
        "        \n",
        "\n",
        "        big_val_d1, big_idx_d1 = torch.max(output1.data, dim=1)\n",
        "        d1_n_correct += calcuate_accuracy(big_idx_d1, d1_targets)\n",
        "\n",
        "        big_val_d2, big_idx_d2 = torch.max(output2.data, dim=1)\n",
        "        d2_n_correct += calcuate_accuracy(big_idx_d2, d2_sentiment)\n",
        "\n",
        "        d1_nb_tr_steps += 1\n",
        "        d1_nb_tr_examples += d1_targets.size(0)\n",
        "\n",
        "        d2_nb_tr_steps += 1\n",
        "        d2_nb_tr_examples += d2_sentiment.size(0)\n",
        "        \n",
        "\n",
        "        d1_loss_step = d1_tr_loss/d1_nb_tr_steps\n",
        "        d1_accu_step = (d1_n_correct*100)/d1_nb_tr_examples\n",
        "\n",
        "\n",
        "        d2_loss_step = d2_tr_loss/d2_nb_tr_steps\n",
        "        d2_accu_step = (d2_n_correct*100)/d2_nb_tr_examples\n",
        "\n",
        "        tr_loss_step = d1_loss_step + d2_loss_step\n",
        "        \n",
        "        optimizer.zero_grad()\n",
        "        total_loss.backward()\n",
        "        # # When using GPU\n",
        "        optimizer.step()\n",
        "\n",
        "        train_metrics = {\"d1_train_loss\": d1_loss_step,\n",
        "            \"d1_train_accuracy\": d1_accu_step,\n",
        "            \"d2_train_loss\": d2_loss_step,\n",
        "            \"d2_train_accuracy\": d2_accu_step,\n",
        "            \"total_train_loss\": tr_loss_step}\n",
        "        \n",
        "        wandb.log({**train_metrics})\n",
        "\n",
        "    model.eval()\n",
        "    with torch.no_grad():\n",
        "        for _, data in enumerate(tqdm(testing_loader, 0)):\n",
        "            d1_ids_val = data['ids'][~np.isnan(data['labels'][0].numpy()) == True].to(device, dtype = torch.long)\n",
        "            d1_mask_val = data['mask'][~np.isnan(data['labels'][0].numpy()) == True].to(device, dtype = torch.long)\n",
        "            d1_token_type_ids_val = data['token_type_ids'][~np.isnan(data['labels'][0].numpy()) == True].to(device, dtype = torch.long)\n",
        "            d1_targets_val = data['labels'][0][~np.isnan(data['labels'][0].numpy()) == True].long().to(device, dtype = torch.long)\n",
        "\n",
        "            d2_ids_val = data['ids'][~np.isnan(data['labels'][1].numpy()) == True].to(device, dtype = torch.long)\n",
        "            d2_mask_val = data['mask'][~np.isnan(data['labels'][1].numpy()) == True].to(device, dtype = torch.long)\n",
        "            d2_token_type_ids_val = data['token_type_ids'][~np.isnan(data['labels'][1].numpy()) == True].to(device, dtype = torch.long)\n",
        "            d2_sentiment_val = data['labels'][1][~np.isnan(data['labels'][1].numpy()) == True].long().to(device, dtype = torch.long)\n",
        "\n",
        "            output1_val, _ = model(d1_ids_val, d1_mask_val, d1_token_type_ids_val)\n",
        "            _, output2_val = model(d2_ids_val, d2_mask_val, d2_token_type_ids_val)\n",
        "\n",
        "            loss1_val = loss_function(output1_val, d1_targets_val)\n",
        "            loss1_val = null_tensor(loss1_val)\n",
        "            d1_val_loss += check_null(lambda1*loss1_val.item())\n",
        "\n",
        "            loss2_val = loss_function(output2_val, d2_sentiment_val)\n",
        "            loss2_val = null_tensor(loss2_val)\n",
        "            d2_val_loss += check_null(lambda2*loss2_val.item())\n",
        "            \n",
        "            total_loss_val = (lambda1*loss1_val) + (lambda2*loss2_val)\n",
        "            total_val_loss += total_loss_val.item()\n",
        "            \n",
        "            big_val_d1, big_idx_d1_val = torch.max(output1_val.data, dim=1)\n",
        "            d1_val_n_correct += calcuate_accuracy(big_idx_d1_val, d1_targets_val)\n",
        "\n",
        "            big_val_d2, big_idx_d2_val = torch.max(output2_val.data, dim=1)\n",
        "            d2_val_n_correct += calcuate_accuracy(big_idx_d2_val, d2_sentiment_val)\n",
        "\n",
        "            d1_nb_val_steps += 1\n",
        "            d1_nb_val_examples += d1_targets_val.size(0)\n",
        "\n",
        "            d2_nb_val_steps += 1\n",
        "            d2_nb_val_examples += d2_sentiment_val.size(0)\n",
        "            \n",
        "            try:\n",
        "                d1_loss_step_val = d1_val_loss/d1_nb_val_steps\n",
        "            except ZeroDivisionError:\n",
        "                d1_loss_step_val = 0\n",
        "            try:\n",
        "                d1_accu_step_val = (d1_val_n_correct*100)/d1_nb_val_examples\n",
        "            except ZeroDivisionError:\n",
        "                d1_accu_step_val = 0\n",
        "\n",
        "\n",
        "            try:\n",
        "                d2_loss_step_val = d2_val_loss/d2_nb_val_steps\n",
        "            except ZeroDivisionError:\n",
        "                d2_loss_step_val = 0\n",
        "            \n",
        "            try:\n",
        "                d2_accu_step_val = (d2_val_n_correct*100)/d2_nb_val_examples\n",
        "            except ZeroDivisionError:\n",
        "                d2_accu_step_val = 0\n",
        "\n",
        "            tr_loss_step_val = d1_loss_step_val + d2_loss_step_val\n",
        "\n",
        "            test_metrics = {\"d1_test_loss\": d1_loss_step_val,\n",
        "            \"d1_test_accuracy\": d1_accu_step_val,\n",
        "            \"d2_test_loss\": d2_loss_step_val,\n",
        "            \"d2_test_accuracy\": d2_accu_step_val,\n",
        "            \"total_test_loss\": tr_loss_step_val}\n",
        "            \n",
        "    wandb.log({**test_metrics})\n",
        "    # print(f\"D1 Training Loss per 500 steps: {d1_loss_step}\")\n",
        "    # print(f\"D1 Training Accuracy per 500 steps: {d1_accu_step}\\n\")\n",
        "\n",
        "    # print(f\"D2 Training Loss per 500 steps: {d2_loss_step}\")\n",
        "    # print(f\"D2 Training Accuracy per 500 steps: {d2_accu_step}\\n\")\n",
        "\n",
        "    # print(f\"Total Training Loss per 500 steps: {tr_loss_step}\\n\")\n",
        "\n",
        "    print(f'Total D1 Accuracy for Epoch {epoch}: {(d1_n_correct*100)/d1_nb_tr_examples}')\n",
        "    print(f'Total D2 Accuracy for Epoch {epoch}: {(d2_n_correct*100)/d2_nb_tr_examples}')\n",
        "    \n",
        "    return\n",
        "\n",
        "def valid_hydra(model, testing_loader):\n",
        "    model.eval()\n",
        "    d1_predicts = []\n",
        "    d2_predicts = []\n",
        "\n",
        "    with torch.no_grad():\n",
        "        for _, data in enumerate(tqdm(testing_loader, 0)):\n",
        "            d1_ids = data['ids'][~np.isnan(data['labels'][0].numpy()) == True].to(device, dtype = torch.long)\n",
        "            d1_mask = data['mask'][~np.isnan(data['labels'][0].numpy()) == True].to(device, dtype = torch.long)\n",
        "            d1_token_type_ids = data['token_type_ids'][~np.isnan(data['labels'][0].numpy()) == True].to(device, dtype = torch.long)\n",
        "            d1_targets = data['labels'][0][~np.isnan(data['labels'][0].numpy()) == True].long().to(device, dtype = torch.long)\n",
        "\n",
        "            d2_ids = data['ids'][~np.isnan(data['labels'][1].numpy()) == True].to(device, dtype = torch.long)\n",
        "            d2_mask = data['mask'][~np.isnan(data['labels'][1].numpy()) == True].to(device, dtype = torch.long)\n",
        "            d2_token_type_ids = data['token_type_ids'][~np.isnan(data['labels'][1].numpy()) == True].to(device, dtype = torch.long)\n",
        "            d2_sentiment = data['labels'][1][~np.isnan(data['labels'][1].numpy()) == True].long().to(device, dtype = torch.long)\n",
        "\n",
        "            output1, _ = model(d1_ids, d1_mask, d1_token_type_ids)\n",
        "            _, output2 = model(d2_ids, d2_mask, d2_token_type_ids)\n",
        "            \n",
        "            big_val_d1, big_idx_d1 = torch.max(output1.data, dim=1)\n",
        "            big_val_d2, big_idx_d2 = torch.max(output2.data, dim=1)\n",
        "            \n",
        "            for i in range(d1_targets.size(0)):\n",
        "                d1_predicts.append({\n",
        "                    \"predict\": big_idx_d1[i].item(),\n",
        "                    \"target\": d1_targets[i].item()\n",
        "                })\n",
        "\n",
        "            for i in range(d2_sentiment.size(0)):\n",
        "                d2_predicts.append({\n",
        "                    \"predict\": big_idx_d2[i].item(),\n",
        "                    \"target\": d2_sentiment[i].item()\n",
        "                })\n",
        "\n",
        "    d1_df = pd.DataFrame(d1_predicts)\n",
        "    d2_df = pd.DataFrame(d2_predicts)\n",
        "\n",
        "    return d1_df, d2_df"
      ],
      "metadata": {
        "id": "BZR3kEux6AIw"
      },
      "execution_count": null,
      "outputs": []
    },
    {
      "cell_type": "markdown",
      "source": [
        "Please see `multitask_hydra.py` for working code"
      ],
      "metadata": {
        "id": "AaoKnPpRGFsN"
      }
    },
    {
      "cell_type": "markdown",
      "source": [
        "### Task 3.6 ###\n",
        "Lambda hyperparameter tuning using Ax"
      ],
      "metadata": {
        "id": "O2WAt0XOMrpL"
      }
    },
    {
      "cell_type": "code",
      "source": [
        "# pip install ax-platform"
      ],
      "metadata": {
        "id": "9dUuhXkiSpip"
      },
      "execution_count": null,
      "outputs": []
    },
    {
      "cell_type": "code",
      "source": [
        "from ax import optimize"
      ],
      "metadata": {
        "id": "1XBbpCeeWUdR"
      },
      "execution_count": null,
      "outputs": []
    },
    {
      "cell_type": "code",
      "source": [
        "# Evaluation function for hyperparameter tuning\n",
        "def valid_t1(model, testing_loader):\n",
        "    d1_val_n_correct = 0\n",
        "    d1_nb_val_examples = 0\n",
        "    \n",
        "    d1_predicts = []\n",
        "    model.eval()\n",
        "    with torch.no_grad():\n",
        "        for _, data in enumerate(tqdm(testing_loader, 0)):\n",
        "            d1_ids_val = data['ids'][~np.isnan(data['labels'][0].numpy()) == True].to(device, dtype = torch.long)\n",
        "            d1_mask_val = data['mask'][~np.isnan(data['labels'][0].numpy()) == True].to(device, dtype = torch.long)\n",
        "            #d1_token_type_ids_val = data['token_type_ids'][~np.isnan(data['labels'][0].numpy()) == True].to(device, dtype = torch.long)\n",
        "            d1_targets_val = data['labels'][0][~np.isnan(data['labels'][0].numpy()) == True].long().to(device, dtype = torch.long)\n",
        "\n",
        "            output1_val, _ = model(d1_ids_val, d1_mask_val)\n",
        "\n",
        "            big_val_d1, big_idx_d1_val = torch.max(output1_val.data, dim=1)\n",
        "            d1_val_n_correct += calcuate_accuracy(big_idx_d1_val, d1_targets_val)\n",
        "            d1_nb_val_examples += d1_targets_val.size(0)\n",
        "\n",
        "            for i in range(d1_targets_val.size(0)):\n",
        "                d1_predicts.append({\n",
        "                \"predict\": big_idx_d1_val[i].item(),\n",
        "                \"target\": d1_targets_val[i].item()\n",
        "            })\n",
        "    d1_df = pd.DataFrame(d1_predicts)\n",
        "    d1_f1 = f1_score(d1_df.target, d1_df.predict,  average='weighted')\n",
        "    d1_accuracy = accuracy_score(d1_df.target, d1_df.predict)\n",
        "    print(f\"f1_Score: {d1_f1}\")\n",
        "    print(f\"accuracy_Score: {d1_accuracy}\")\n",
        "    return d1_f1"
      ],
      "metadata": {
        "id": "1QCpr4iQMxLm"
      },
      "execution_count": null,
      "outputs": []
    },
    {
      "cell_type": "markdown",
      "source": [
        "Plase see `multitask_hydra_bo.py` for the working training script used"
      ],
      "metadata": {
        "id": "EJ9NI5svGj-2"
      }
    },
    {
      "cell_type": "markdown",
      "source": [
        "\n",
        "\n",
        "**Best Lambda Values**\n",
        "\n",
        " $\\lambda_{1} =  0.6899408753961325$\n",
        "\n",
        "$\\lambda_{2}  = 0.4041465884074569$\n",
        "\n",
        "$F1 = 0.846455693470444$"
      ],
      "metadata": {
        "id": "aSaTTRpJ7qMc"
      }
    },
    {
      "cell_type": "markdown",
      "source": [
        "### Task 3.7###\n",
        "Please see `multitask_hydra.py` for the working training script used. Note that the model was downloaded from the cluster and was renamed locally"
      ],
      "metadata": {
        "id": "S4qgF9-MuTnc"
      }
    },
    {
      "cell_type": "markdown",
      "source": [
        "#V. Further Exploration #"
      ],
      "metadata": {
        "id": "Jq7Lvgchynyo"
      }
    },
    {
      "cell_type": "markdown",
      "source": [
        "### Strategy 1 ####\n",
        "\n",
        "Retrain and fine-tune the SiEBERT English-Language model for disaster classification\n",
        "<br>\n",
        "\n",
        "**Explanation:**\n",
        "<p>The SiEBERT model is a sentiment classification model which was trained on 15 text corpus to make it as robust as possible for classifying sentiment. It is also a derivative of the RoBERTa architecture which we used for the initial parts of this project. This model also has two outputs which is compatible with our task of a binary classification for disaster tweets. The strategy is to retrain and fine-tune this SiEBERT model to instead classify tweets that announces disasters using this project's dataset. Based on its performance report on different NLP benchmarks, this model has very good generalized performance so SieBERT's model architecture might yield higher accuracy also for disaster classification.</p>\n",
        "<br>\n",
        "Citation:<br>\n",
        "Hartmann, J., Heitmann, M., Siebert, C., & Schamp, C. (2023). More than a Feeling: Accuracy and Application of Sentiment Analysis. International Journal of Research in Marketing, 40(1), 75-87. https://doi.org/10.1016/j.ijresmar.2022.05.005"
      ],
      "metadata": {
        "id": "GJBiMhzj5W87"
      }
    },
    {
      "cell_type": "code",
      "source": [
        "from transformers import TrainingArguments, Trainer\n",
        "from transformers import AutoModelForSequenceClassification, AutoTokenizer\n",
        "import evaluate"
      ],
      "metadata": {
        "id": "4ToT-q1x75eL"
      },
      "execution_count": null,
      "outputs": []
    },
    {
      "cell_type": "code",
      "source": [
        "# Using RoBERTa tokenizer since siebert is based on RoBERTa-large\n",
        "tokenizer = RobertaTokenizer.from_pretrained('roberta-large')"
      ],
      "metadata": {
        "id": "6fWp5AWCAgf2",
        "colab": {
          "base_uri": "https://localhost:8080/",
          "height": 113,
          "referenced_widgets": [
            "bc1234e0e56a4c8a9d1b76203591eb97",
            "2b346b6ad60c4400932053fa53edf13c",
            "8352302606684e6a876783d109923533",
            "9cc5d23397aa42cabf9b6d775a85daf7",
            "77c8a39eba1345bd995039f2860a6cfc",
            "1ffb92e689ad4182be512a3b178aedf8",
            "7571cfc35098410aa5abaac5d1a2eb8e",
            "1b75f835d51a4d56899b869a17d323d7",
            "8916ff31aaef41ec9752fde2f4835609",
            "d2cba86518a146af8f9f34e8d6f1988e",
            "2bfdc0757e3449a8a17dcc6a35255e52",
            "f5039c92dcd9449097ae796dbe2a0982",
            "670c9d7564ce40d1b8266d3e6d9615b9",
            "791e10120df14b77ac5a72de5a3009fe",
            "d7749d420234485f99322cd797d671c1",
            "8b48ebad246a43b583e0593146e54e83",
            "069d4425b24d43b59c99caac53de5550",
            "7c81c2597d8640609ab705074b2c67f8",
            "6f13e01d8d8343a0bee78165a73a917a",
            "739811d7eaff47369a467c89e374306e",
            "e952febe136d4384a27852cf798f45d6",
            "731f8b0ccd1d4b1f8bef1fcc92a4c717",
            "8d487ae849fb4f32bb0e6c2109d2bc82",
            "8889841493b74cdca6e4321a5b3df0b2",
            "0e52519a5f3a4f21a93882dd1ce91668",
            "92975a9bfe9b46fb9a08426f45fedf3c",
            "013aa9f424c04ad4a138b1bd168d30b4",
            "0de6b4370c8e4b64a96573252da412f6",
            "5d0dc85db87a4d9baf39018e0f7cef70",
            "68e4621e1e204eab8014d301040e5d6d",
            "3eafa8d85e94455e8376bde48423d370",
            "0ea99d98b7f145cc851c84a5df151c0c",
            "9bb191b1174249f08221d87d47f2b8cd"
          ]
        },
        "outputId": "12f69daf-9c6b-419b-da53-844008644bdb"
      },
      "execution_count": null,
      "outputs": [
        {
          "output_type": "display_data",
          "data": {
            "text/plain": [
              "Downloading (…)olve/main/vocab.json:   0%|          | 0.00/899k [00:00<?, ?B/s]"
            ],
            "application/vnd.jupyter.widget-view+json": {
              "version_major": 2,
              "version_minor": 0,
              "model_id": "bc1234e0e56a4c8a9d1b76203591eb97"
            }
          },
          "metadata": {}
        },
        {
          "output_type": "display_data",
          "data": {
            "text/plain": [
              "Downloading (…)olve/main/merges.txt:   0%|          | 0.00/456k [00:00<?, ?B/s]"
            ],
            "application/vnd.jupyter.widget-view+json": {
              "version_major": 2,
              "version_minor": 0,
              "model_id": "f5039c92dcd9449097ae796dbe2a0982"
            }
          },
          "metadata": {}
        },
        {
          "output_type": "display_data",
          "data": {
            "text/plain": [
              "Downloading (…)lve/main/config.json:   0%|          | 0.00/482 [00:00<?, ?B/s]"
            ],
            "application/vnd.jupyter.widget-view+json": {
              "version_major": 2,
              "version_minor": 0,
              "model_id": "8d487ae849fb4f32bb0e6c2109d2bc82"
            }
          },
          "metadata": {}
        }
      ]
    },
    {
      "cell_type": "code",
      "source": [
        "# Creating train-test splits for training the model\n",
        "d_train_data, d_val_data, d_train_labels, d_val_labels = train_test_split(d_train_select['text'],d_train_select['target'], test_size=0.2, \n",
        "                                                                       stratify=d_train_select['target'], random_state=2023)"
      ],
      "metadata": {
        "id": "Ojw6JbzUMP4c"
      },
      "execution_count": null,
      "outputs": []
    },
    {
      "cell_type": "markdown",
      "source": [],
      "metadata": {
        "id": "NtlG9h17_1cW"
      }
    },
    {
      "cell_type": "code",
      "source": [
        "# Resetting indices as it might break some loopes\n",
        "d_train_data.reset_index(inplace=True, drop=True)\n",
        "d_val_data.reset_index(inplace=True, drop=True)\n",
        "d_train_labels.reset_index(inplace=True, drop=True)\n",
        "d_val_labels.reset_index(inplace=True, drop=True)"
      ],
      "metadata": {
        "id": "h4HOkaoyNdux"
      },
      "execution_count": null,
      "outputs": []
    },
    {
      "cell_type": "code",
      "source": [
        "# Tokenizing the data\n",
        "train_encodings = tokenizer(d_train_data.tolist(), truncation=True, padding=\"max_length\", add_special_tokens=True, \n",
        "                            return_token_type_ids=True)\n",
        "val_encodings = tokenizer(d_val_data.tolist(), truncation=True, padding=\"max_length\", add_special_tokens=True, \n",
        "                            return_token_type_ids=True)"
      ],
      "metadata": {
        "id": "4uFD5kZhLfKf"
      },
      "execution_count": null,
      "outputs": []
    },
    {
      "cell_type": "code",
      "source": [
        "# Creating custom Datasets classes for the data\n",
        "class HuggingData(Dataset):\n",
        "  def __init__(self, encodings, labels):\n",
        "    self.encodings = encodings\n",
        "    self.labels = labels\n",
        "\n",
        "  def __getitem__(self, idx):\n",
        "      item = {key: torch.tensor(val[idx]) for key, val in self.encodings.items()}\n",
        "      item['labels'] = torch.tensor(self.labels[idx])\n",
        "      return item\n",
        "\n",
        "  def __len__(self):\n",
        "      return len(self.labels)"
      ],
      "metadata": {
        "id": "UXM6-rriHy6A"
      },
      "execution_count": null,
      "outputs": []
    },
    {
      "cell_type": "code",
      "source": [
        "# Creating the datasets\n",
        "dstrat1_train_set = HuggingData(train_encodings, d_train_labels)\n",
        "dstrat1_val_set = HuggingData(val_encodings, d_val_labels)"
      ],
      "metadata": {
        "id": "jx9btBAYIqCs"
      },
      "execution_count": null,
      "outputs": []
    },
    {
      "cell_type": "code",
      "source": [
        "# Loading the siebert sentiment classification model\n",
        "model = AutoModelForSequenceClassification.from_pretrained(\"siebert/sentiment-roberta-large-english\")\n",
        "# Specifying the training arguments for training using HuggingFace Trainer API\n",
        "training_args = TrainingArguments(\n",
        "    output_dir=\"/content/drive/MyDrive/BT5151/group_project/strategy1/output\",\n",
        "    optim=\"adamw_torch\",\n",
        "    num_train_epochs=3,\n",
        "    learning_rate= 1e-5,\n",
        "    lr_scheduler_type = \"cosine\",\n",
        "    per_device_train_batch_size=16,\n",
        "    per_device_eval_batch_size=32,\n",
        "    save_strategy=\"no\",\n",
        "    warmup_steps= 10,\n",
        "    weight_decay = 0.01,\n",
        "    logging_dir=\"/content/drive/MyDrive/BT5151/group_project/strategy1/logs\",\n",
        "    logging_strategy=\"steps\",\n",
        "    logging_steps=100,\n",
        "    evaluation_strategy=\"steps\",\n",
        "    eval_steps=100\n",
        ")"
      ],
      "metadata": {
        "id": "bOCOukIDyqC6",
        "colab": {
          "base_uri": "https://localhost:8080/",
          "height": 81,
          "referenced_widgets": [
            "a32993d9580740f89ef52792ccde2f80",
            "64c5e03553b94190bdf1a5ea8c75d678",
            "ce9b49321ace4b9e90544de892908ad2",
            "c33e93c7591f44d5a4488f7cf7e9aba5",
            "84438c7ecd6d474d8e2895294841a432",
            "06ff10c966d9450ba8ca58efee27dff1",
            "dbb2cb38307440eab83eada4917afbd2",
            "e2d14388b78e4a7f81150ed1529dd98d",
            "5917ab1321a44dda9622e3988ca95adc",
            "b04a392f0c69497b97040df8bd693f23",
            "c725082867d34f2485cf514a6cd9ca0f",
            "0ff2e58a68ee4f6c88ff879cc42d93cd",
            "ef11df7346f643a891e845d6635b5128",
            "7cd5cd90bd8c44aeb30c7249b80d7ceb",
            "387bf1951a684530ae6ce43e63fd0141",
            "562dc4b857764245a446c425aa6be478",
            "597fec788d8e449890df3c4382b76f48",
            "1c388b26c1bd4465a06529fcab0ce1ce",
            "d5212d37e3c94c62a0f845ca84296f6e",
            "69846a58f2f349b19d73b2bad5dbcfb1",
            "53057a5c0fbb40f586b971deb9b58631",
            "e190a1d8004140cb888d469460dd4ce4"
          ]
        },
        "outputId": "1aa423c9-077c-4f1c-ba28-8d3abee7c5b2"
      },
      "execution_count": null,
      "outputs": [
        {
          "output_type": "display_data",
          "data": {
            "text/plain": [
              "Downloading (…)lve/main/config.json:   0%|          | 0.00/687 [00:00<?, ?B/s]"
            ],
            "application/vnd.jupyter.widget-view+json": {
              "version_major": 2,
              "version_minor": 0,
              "model_id": "a32993d9580740f89ef52792ccde2f80"
            }
          },
          "metadata": {}
        },
        {
          "output_type": "display_data",
          "data": {
            "text/plain": [
              "Downloading pytorch_model.bin:   0%|          | 0.00/1.42G [00:00<?, ?B/s]"
            ],
            "application/vnd.jupyter.widget-view+json": {
              "version_major": 2,
              "version_minor": 0,
              "model_id": "0ff2e58a68ee4f6c88ff879cc42d93cd"
            }
          },
          "metadata": {}
        }
      ]
    },
    {
      "cell_type": "code",
      "source": [
        "# Specifying evaluation metrics\n",
        "metric = evaluate.load(\"accuracy\")\n",
        "def compute_metrics(eval_pred):\n",
        "    logits, labels = eval_pred\n",
        "    predictions = np.argmax(logits, axis=-1)\n",
        "    return metric.compute(predictions=predictions, references=labels)"
      ],
      "metadata": {
        "id": "hSedPLZ4WVWz",
        "colab": {
          "base_uri": "https://localhost:8080/",
          "height": 49,
          "referenced_widgets": [
            "befb5fbccd4c4857ac8203be8f52dbb6",
            "6993a426362d409782771af930ace696",
            "71a21ac874d04e228da13f49ecf952d2",
            "f7f3495c6e5048de843dad57af6f1b18",
            "3d68b5dc845c4f5c8fdedd8b5bd89b2b",
            "9ea3d688e6c7445999874bc1ea42f632",
            "362be651012b4177bfe4f4afa8415e89",
            "4f892905f1174816a10fbfc79f484080",
            "d46ad2f56d7f4b0fa7af80591e98ce74",
            "c91109a36e1f46c9b424a5e1b4eb66dd",
            "29204b1c8dde425c91b43b78c9c0d97f"
          ]
        },
        "outputId": "b1c1bbdc-6e7d-401e-df8e-735f7e2ab0a1"
      },
      "execution_count": null,
      "outputs": [
        {
          "output_type": "display_data",
          "data": {
            "text/plain": [
              "Downloading builder script:   0%|          | 0.00/4.20k [00:00<?, ?B/s]"
            ],
            "application/vnd.jupyter.widget-view+json": {
              "version_major": 2,
              "version_minor": 0,
              "model_id": "befb5fbccd4c4857ac8203be8f52dbb6"
            }
          },
          "metadata": {}
        }
      ]
    },
    {
      "cell_type": "code",
      "source": [
        "# Calling the trainer API and initiates training. Training was done outside of this notebook\n",
        "# trainer = Trainer(\n",
        "#     model=model,                         \n",
        "#     args=training_args,                \n",
        "#     train_dataset=dstrat1_train_set,\n",
        "#     eval_dataset=dstrat1_val_set,\n",
        "#     compute_metrics=compute_metrics\n",
        "# )\n",
        "\n",
        "# trainer.train()\n",
        "\n",
        "# Saving the model\n",
        "#trainer.save_model(\"/content/drive/MyDrive/BT5151/group_project/strategy1/models\")"
      ],
      "metadata": {
        "id": "mk4iUCTi6ai3"
      },
      "execution_count": null,
      "outputs": []
    },
    {
      "cell_type": "markdown",
      "source": [
        "Please refer to `strat1_trainer.py` for the working training script used"
      ],
      "metadata": {
        "id": "JcxvoCpowF12"
      }
    },
    {
      "cell_type": "markdown",
      "source": [
        "Inference on the trained siebert model"
      ],
      "metadata": {
        "id": "GVZbO5Gyi-l4"
      }
    },
    {
      "cell_type": "code",
      "source": [
        "from transformers import pipeline, AutoModel"
      ],
      "metadata": {
        "id": "V4y08dAvvAOC"
      },
      "execution_count": 67,
      "outputs": []
    },
    {
      "cell_type": "code",
      "source": [
        "# Creating a pipeline for inference on the fine-tuned siebert model\n",
        "tokenizer = RobertaTokenizer.from_pretrained('roberta-large')\n",
        "disaster = pipeline(\"text-classification\", model=\"/content/drive/MyDrive/BT5151/group_project/siebert_final_strat1\", tokenizer = tokenizer, device=\"cuda:0\",\n",
        "                    binary_output=True, function_to_apply=\"softmax\")"
      ],
      "metadata": {
        "id": "V3OT39evQ_Yw"
      },
      "execution_count": null,
      "outputs": []
    },
    {
      "cell_type": "code",
      "source": [
        "# Creating an iterator for the D1 test data\n",
        "def data_iterator(df):\n",
        "    for i in range(df.shape[0]):\n",
        "        yield str(df.text[i])"
      ],
      "metadata": {
        "id": "aMlIWyRSu_P-"
      },
      "execution_count": null,
      "outputs": []
    },
    {
      "cell_type": "code",
      "source": [
        "# Helper function to extract the outputs of the pipeline in a nice dataframe\n",
        "def get_predict(iterator, pipeline):\n",
        "    df = pd.DataFrame(columns = ['label', 'score'])\n",
        "    for idx, out in enumerate(tqdm(pipeline(iterator))):\n",
        "        df.loc[idx] = out\n",
        "    return df"
      ],
      "metadata": {
        "id": "1bT79HE3slI9"
      },
      "execution_count": null,
      "outputs": []
    },
    {
      "cell_type": "code",
      "source": [
        "# Helper function to reformat pipeline outputs dataframe for Kaggle test submission format\n",
        "def clean_submit(preds):\n",
        "    df = preds.copy()\n",
        "    df.reset_index(inplace=True)\n",
        "    df.rename(columns = {'index':'id'}, inplace = True)\n",
        "    df.set_index(\"id\", inplace=True)\n",
        "    df['target'] = df.apply(lambda x: 1 if x['label'] == 'POSITIVE' else 0, axis = 1)\n",
        "    df.drop(columns=['score', 'label'], inplace=True)\n",
        "    return df"
      ],
      "metadata": {
        "id": "eHqI0y-KeT_D"
      },
      "execution_count": null,
      "outputs": []
    },
    {
      "cell_type": "code",
      "source": [
        "# Getting predictions for the train for checking\n",
        "#preds_train = get_predict(data_iterator(d_train), disaster)\n",
        "\n",
        "# Getting predictions for the test data\n",
        "preds_test = get_predict(data_iterator(d_test_orig), disaster)\n",
        "\n",
        "# Reformatting predictions for Kaggle submission format\n",
        "#submit_train = clean_submit(preds_train)\n",
        "submit_test = clean_submit(preds_test)\n",
        "\n",
        "# Matching the predictions indices to the Kaggle sample submission indices\n",
        "submit_test.reset_index(inplace=True)\n",
        "test = d_test_orig[[\"id\"]].copy()\n",
        "merged = test.merge(submit_test, left_index=True, right_index=True, suffixes=(None, \"_s\"))\n",
        "merged.drop(labels=[\"id_s\"],axis=1,inplace=True)\n",
        "merged.set_index(\"id\",inplace=True)\n",
        "\n",
        "#submit_train.to_csv(\"submit_train.csv\")"
      ],
      "metadata": {
        "id": "dEPXoNPF0EMK",
        "colab": {
          "base_uri": "https://localhost:8080/"
        },
        "outputId": "bec0ecad-29c2-417a-e3f1-6799ed7a4173"
      },
      "execution_count": null,
      "outputs": [
        {
          "output_type": "stream",
          "name": "stderr",
          "text": [
            "3263it [01:19, 41.24it/s]\n"
          ]
        }
      ]
    },
    {
      "cell_type": "code",
      "source": [
        "#Save predictions for submission to Kaggle\n",
        "merged.to_csv(\"/content/drive/MyDrive/BT5151/group_project/strat1_test.csv\")"
      ],
      "metadata": {
        "id": "r7ehPWfKkOBF"
      },
      "execution_count": null,
      "outputs": []
    },
    {
      "cell_type": "code",
      "source": [
        "merged.shape"
      ],
      "metadata": {
        "id": "lNXiOPFtFklu",
        "colab": {
          "base_uri": "https://localhost:8080/"
        },
        "outputId": "88cb29d4-d992-48a0-ffbf-18f90b5fda82"
      },
      "execution_count": null,
      "outputs": [
        {
          "output_type": "execute_result",
          "data": {
            "text/plain": [
              "(3263, 1)"
            ]
          },
          "metadata": {},
          "execution_count": 100
        }
      ]
    },
    {
      "cell_type": "code",
      "source": [
        "#merged.head()"
      ],
      "metadata": {
        "id": "5BH1ULnAkare"
      },
      "execution_count": null,
      "outputs": []
    },
    {
      "cell_type": "markdown",
      "source": [
        "Kaggle Submission Screenshot\n",
        "![Screenshot 2023-04-08 at 12.00.37 AM.png](data:image/png;base64,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)"
      ],
      "metadata": {
        "id": "u1FsMVXJcdYn"
      }
    },
    {
      "cell_type": "markdown",
      "source": [
        "### Strategy 2 ###\n",
        "RoBERTa embedding to LightGBM model: Extract meaning feature from pre-trained transformer-based RoBERTa model and use those features to train a machine learning model like LightGBM for disaster classification - \"Knowledge Distillation\" approach\n",
        "\n",
        "**Explanation:**\n",
        "\n",
        "The approach utilized in this case involves knowledge distillation, which aims to transfer the knowledge of a large, fully trained neural network to a smaller one for more practical deployment. The advantage of knowledge distillation lies in its ability to reduce computational requirements and model size while maintaining high accuracy in classification tasks. Specifically, the strategy used here involves leveraging the pre-trained RoBERTa model to obtain word embeddings, which are then fed into a machine learning LightGBM model known for its performance in classification tasks. Additionally, we also add sentiment label dummies for the disaster tweets as inputs to the LightGBM classifier, as these can be useful inputs for the model also as disaster tweets will probably be on the negative sentiment side. For this purpose, we utilize a separate pre-trained sentiment classifier and not use our own models to avoid data leakage.\n",
        "\n",
        "By combining these techniques, the approach effectively classifies text data while minimizing memory usage and overfitting, ultimately leading to improved efficiency and performance in real-world applications."
      ],
      "metadata": {
        "id": "JIYbsQA_yLSI"
      }
    },
    {
      "cell_type": "code",
      "source": [
        "import os\n",
        "import tempfile\n",
        "\n",
        "count = 0\n",
        "chunk_size = 1000  # process data in chunks of 1000 samples\n",
        "tempdir = tempfile.TemporaryDirectory()"
      ],
      "metadata": {
        "id": "QogshfylIirI"
      },
      "execution_count": 85,
      "outputs": []
    },
    {
      "cell_type": "code",
      "source": [
        "# Create train-validate spilts\n",
        "d_train_data, d_val_data = train_test_split(d_train_select, test_size=0.2, stratify=d_train_select['target'],\n",
        "                                 random_state=2023)\n",
        "\n",
        "s_train_data, s_val_data= train_test_split(s_train_select, test_size=0.2, stratify=s_train_select['target'],\n",
        "                                 random_state=2023)\n",
        "\n",
        "# Dropping the index because it can mess up the loops\n",
        "d_train_data.reset_index(inplace=True,drop =True)\n",
        "d_val_data.reset_index(inplace=True, drop =True)\n",
        "s_train_data.reset_index(inplace=True, drop =True)\n",
        "s_val_data.reset_index(inplace=True,  drop =True)"
      ],
      "metadata": {
        "id": "x1vmnG-YPoxi"
      },
      "execution_count": 86,
      "outputs": []
    },
    {
      "cell_type": "code",
      "source": [
        "train_params = {'batch_size': TRAIN_BATCH_SIZE,\n",
        "                'shuffle': False,\n",
        "                'num_workers': 0\n",
        "                }\n",
        "\n",
        "test_params = {'batch_size': VALID_BATCH_SIZE,\n",
        "                'shuffle': False,\n",
        "                'num_workers': 0\n",
        "                }\n",
        "d1_train_set= DisasterData(d_train_data, tokenizer, MAX_LEN)\n",
        "d1_val_set = DisasterData(d_val_data, tokenizer, MAX_LEN)\n",
        "d1_train_embed = DataLoader(d1_train_set, **train_params)\n",
        "d1_val_embed = DataLoader(d1_val_set, **test_params)"
      ],
      "metadata": {
        "id": "bxTkrkkOH8-Z"
      },
      "execution_count": 87,
      "outputs": []
    },
    {
      "cell_type": "code",
      "source": [
        "model_embed = AutoModel.from_pretrained(\"roberta-base\").to(device)"
      ],
      "metadata": {
        "id": "O8wsDCR35L1i",
        "colab": {
          "base_uri": "https://localhost:8080/",
          "height": 121,
          "referenced_widgets": [
            "d6d15a46ec3845739fbd654b58085888",
            "cc0b26ad56384e6c8082066dd6a45d6e",
            "6c7700332fc747a4a4a369536591b8bc",
            "2673f80f210248e18fb3268a51d719c2",
            "1f783b7b46fa4923a3c1f52ecffa756b",
            "2de442e35acd43e2ad93599ad264059f",
            "0f6050b576a84b899339a634a12b8d94",
            "25e62881bf8742fd8802115ccd78dbdf",
            "48bd9d12affe4be2addabbb1927e6644",
            "5650d2daa34e4f4f9d561d09da95d629",
            "94cd6aca73fd46fd9f7d6d11ca92433c"
          ]
        },
        "outputId": "9579d857-bd63-437c-f6df-d79bc97c34af"
      },
      "execution_count": 88,
      "outputs": [
        {
          "output_type": "display_data",
          "data": {
            "text/plain": [
              "Downloading pytorch_model.bin:   0%|          | 0.00/501M [00:00<?, ?B/s]"
            ],
            "application/vnd.jupyter.widget-view+json": {
              "version_major": 2,
              "version_minor": 0,
              "model_id": "d6d15a46ec3845739fbd654b58085888"
            }
          },
          "metadata": {}
        },
        {
          "output_type": "stream",
          "name": "stderr",
          "text": [
            "Some weights of the model checkpoint at roberta-base were not used when initializing RobertaModel: ['lm_head.decoder.weight', 'lm_head.bias', 'lm_head.dense.weight', 'lm_head.layer_norm.weight', 'lm_head.layer_norm.bias', 'lm_head.dense.bias']\n",
            "- This IS expected if you are initializing RobertaModel from the checkpoint of a model trained on another task or with another architecture (e.g. initializing a BertForSequenceClassification model from a BertForPreTraining model).\n",
            "- This IS NOT expected if you are initializing RobertaModel from the checkpoint of a model that you expect to be exactly identical (initializing a BertForSequenceClassification model from a BertForSequenceClassification model).\n"
          ]
        }
      ]
    },
    {
      "cell_type": "code",
      "source": [
        "# model_path = \"/content/drive/MyDrive/BT5151/group_project/net_hydra_optim/hydra_optim.bin\" \n",
        "# model_predict = torch.load(model_path, map_location=device)"
      ],
      "metadata": {
        "id": "p9Mg0Bel-AVr"
      },
      "execution_count": null,
      "outputs": []
    },
    {
      "cell_type": "code",
      "source": [
        "def get_embed(data_loader, model):\n",
        "  count = 0\n",
        "  chunk_size = 1000  # process data in chunks of 1000 samples\n",
        "  tempdir = tempfile.TemporaryDirectory()\n",
        "\n",
        "  with torch.no_grad():\n",
        "      for i, batch in enumerate(tqdm(data_loader)):\n",
        "          input_ids = batch['ids'].to(device)\n",
        "          attention_mask = batch['mask'].to(device)\n",
        "          label = batch['targets']\n",
        "          output = model(input_ids, attention_mask=attention_mask)\n",
        "          hidden_states = output.last_hidden_state.cpu().detach().numpy()[:, 0, :]\n",
        "          labels = label.cpu().detach().numpy()\n",
        "          np.save(os.path.join(tempdir.name, f'batch_{i}_hs.npy'), hidden_states)\n",
        "          np.save(os.path.join(tempdir.name, f'batch_{i}_labels.npy'), labels)\n",
        "          count += 1\n",
        "          if count % chunk_size == 0:\n",
        "              print('Processed', count, 'samples')\n",
        "              # clear variables from memory to minimize RAM usage\n",
        "              del hidden_states, labels\n",
        "              torch.cuda.empty_cache()\n",
        "\n",
        "  hidden_states = np.concatenate([np.load(os.path.join(tempdir.name, f'batch_{i}_hs.npy')) for i in range(count)], axis=0)\n",
        "  labels = np.concatenate([np.load(os.path.join(tempdir.name, f'batch_{i}_labels.npy')) for i in range(count)], axis=0)\n",
        "\n",
        "  # cleanup temporary directory\n",
        "  tempdir.cleanup()\n",
        "  return hidden_states, labels"
      ],
      "metadata": {
        "id": "dgIQvp205jgp"
      },
      "execution_count": 89,
      "outputs": []
    },
    {
      "cell_type": "code",
      "source": [
        "train_hs, train_labels = get_embed(d1_train_embed, model_embed)\n",
        "val_hs, val_labels = get_embed(d1_val_embed, model_embed)"
      ],
      "metadata": {
        "colab": {
          "base_uri": "https://localhost:8080/"
        },
        "id": "s6VSEe-CHZje",
        "outputId": "b79d58b8-c887-4832-c5b9-739a2b4c1cda"
      },
      "execution_count": 90,
      "outputs": [
        {
          "output_type": "stream",
          "name": "stderr",
          "text": [
            "100%|██████████| 762/762 [02:58<00:00,  4.28it/s]\n",
            "100%|██████████| 48/48 [00:46<00:00,  1.03it/s]\n"
          ]
        }
      ]
    },
    {
      "cell_type": "code",
      "source": [
        "tokenizer = RobertaTokenizer.from_pretrained('roberta-large', truncation = True, padding= True, do_lowercase=True)\n",
        "siebert = pipeline(\"text-classification\", model=\"siebert/sentiment-roberta-large-english\", tokenizer = tokenizer, device=\"cuda:0\",\n",
        "                    binary_output=True, function_to_apply=\"softmax\")\n",
        "\n",
        "def data_iterator(df):\n",
        "    for i in range(df.shape[0]):\n",
        "        yield str(df.text[i])\n",
        "def get_predict(iterator, pipeline):\n",
        "    df = pd.DataFrame(columns = ['label', 'score'])\n",
        "    for idx, out in enumerate(tqdm(pipeline(iterator))):\n",
        "        df.loc[idx] = out\n",
        "    df.drop(labels=[\"score\"],axis=1, inplace=True)\n",
        "    df.rename(columns={\"label\":\"predict\"}, inplace = True)\n",
        "    df['predict'] = df.apply(lambda x: 1 if x.predict ==\"POSITIVE\" else 0, axis=1)\n",
        "    return df\n"
      ],
      "metadata": {
        "id": "SGnduaagDFJf"
      },
      "execution_count": 81,
      "outputs": []
    },
    {
      "cell_type": "code",
      "source": [
        "train_t2_predict = get_predict(data_iterator(d_train_data), siebert)\n",
        "val_t2_predict = get_predict(data_iterator(d_val_data), siebert)"
      ],
      "metadata": {
        "colab": {
          "base_uri": "https://localhost:8080/"
        },
        "id": "0RQyAqry-eWP",
        "outputId": "b672be05-534f-427d-e7dc-ed1d620a2956"
      },
      "execution_count": 82,
      "outputs": [
        {
          "output_type": "stream",
          "name": "stderr",
          "text": [
            "6090it [02:51, 35.57it/s]\n",
            "1523it [00:42, 35.85it/s]\n"
          ]
        }
      ]
    },
    {
      "cell_type": "code",
      "source": [
        "train_t2_predict"
      ],
      "metadata": {
        "colab": {
          "base_uri": "https://localhost:8080/",
          "height": 423
        },
        "id": "V-jjyew4UtTA",
        "outputId": "923ed899-b556-4244-e7a6-e53f8253ac6c"
      },
      "execution_count": 83,
      "outputs": [
        {
          "output_type": "execute_result",
          "data": {
            "text/plain": [
              "      predict\n",
              "0           1\n",
              "1           0\n",
              "2           1\n",
              "3           0\n",
              "4           1\n",
              "...       ...\n",
              "6085        1\n",
              "6086        1\n",
              "6087        0\n",
              "6088        0\n",
              "6089        1\n",
              "\n",
              "[6090 rows x 1 columns]"
            ],
            "text/html": [
              "\n",
              "  <div id=\"df-45c06824-712e-4f6c-ae30-41fe4ccf9a32\">\n",
              "    <div class=\"colab-df-container\">\n",
              "      <div>\n",
              "<style scoped>\n",
              "    .dataframe tbody tr th:only-of-type {\n",
              "        vertical-align: middle;\n",
              "    }\n",
              "\n",
              "    .dataframe tbody tr th {\n",
              "        vertical-align: top;\n",
              "    }\n",
              "\n",
              "    .dataframe thead th {\n",
              "        text-align: right;\n",
              "    }\n",
              "</style>\n",
              "<table border=\"1\" class=\"dataframe\">\n",
              "  <thead>\n",
              "    <tr style=\"text-align: right;\">\n",
              "      <th></th>\n",
              "      <th>predict</th>\n",
              "    </tr>\n",
              "  </thead>\n",
              "  <tbody>\n",
              "    <tr>\n",
              "      <th>0</th>\n",
              "      <td>1</td>\n",
              "    </tr>\n",
              "    <tr>\n",
              "      <th>1</th>\n",
              "      <td>0</td>\n",
              "    </tr>\n",
              "    <tr>\n",
              "      <th>2</th>\n",
              "      <td>1</td>\n",
              "    </tr>\n",
              "    <tr>\n",
              "      <th>3</th>\n",
              "      <td>0</td>\n",
              "    </tr>\n",
              "    <tr>\n",
              "      <th>4</th>\n",
              "      <td>1</td>\n",
              "    </tr>\n",
              "    <tr>\n",
              "      <th>...</th>\n",
              "      <td>...</td>\n",
              "    </tr>\n",
              "    <tr>\n",
              "      <th>6085</th>\n",
              "      <td>1</td>\n",
              "    </tr>\n",
              "    <tr>\n",
              "      <th>6086</th>\n",
              "      <td>1</td>\n",
              "    </tr>\n",
              "    <tr>\n",
              "      <th>6087</th>\n",
              "      <td>0</td>\n",
              "    </tr>\n",
              "    <tr>\n",
              "      <th>6088</th>\n",
              "      <td>0</td>\n",
              "    </tr>\n",
              "    <tr>\n",
              "      <th>6089</th>\n",
              "      <td>1</td>\n",
              "    </tr>\n",
              "  </tbody>\n",
              "</table>\n",
              "<p>6090 rows × 1 columns</p>\n",
              "</div>\n",
              "      <button class=\"colab-df-convert\" onclick=\"convertToInteractive('df-45c06824-712e-4f6c-ae30-41fe4ccf9a32')\"\n",
              "              title=\"Convert this dataframe to an interactive table.\"\n",
              "              style=\"display:none;\">\n",
              "        \n",
              "  <svg xmlns=\"http://www.w3.org/2000/svg\" height=\"24px\"viewBox=\"0 0 24 24\"\n",
              "       width=\"24px\">\n",
              "    <path d=\"M0 0h24v24H0V0z\" fill=\"none\"/>\n",
              "    <path d=\"M18.56 5.44l.94 2.06.94-2.06 2.06-.94-2.06-.94-.94-2.06-.94 2.06-2.06.94zm-11 1L8.5 8.5l.94-2.06 2.06-.94-2.06-.94L8.5 2.5l-.94 2.06-2.06.94zm10 10l.94 2.06.94-2.06 2.06-.94-2.06-.94-.94-2.06-.94 2.06-2.06.94z\"/><path d=\"M17.41 7.96l-1.37-1.37c-.4-.4-.92-.59-1.43-.59-.52 0-1.04.2-1.43.59L10.3 9.45l-7.72 7.72c-.78.78-.78 2.05 0 2.83L4 21.41c.39.39.9.59 1.41.59.51 0 1.02-.2 1.41-.59l7.78-7.78 2.81-2.81c.8-.78.8-2.07 0-2.86zM5.41 20L4 18.59l7.72-7.72 1.47 1.35L5.41 20z\"/>\n",
              "  </svg>\n",
              "      </button>\n",
              "      \n",
              "  <style>\n",
              "    .colab-df-container {\n",
              "      display:flex;\n",
              "      flex-wrap:wrap;\n",
              "      gap: 12px;\n",
              "    }\n",
              "\n",
              "    .colab-df-convert {\n",
              "      background-color: #E8F0FE;\n",
              "      border: none;\n",
              "      border-radius: 50%;\n",
              "      cursor: pointer;\n",
              "      display: none;\n",
              "      fill: #1967D2;\n",
              "      height: 32px;\n",
              "      padding: 0 0 0 0;\n",
              "      width: 32px;\n",
              "    }\n",
              "\n",
              "    .colab-df-convert:hover {\n",
              "      background-color: #E2EBFA;\n",
              "      box-shadow: 0px 1px 2px rgba(60, 64, 67, 0.3), 0px 1px 3px 1px rgba(60, 64, 67, 0.15);\n",
              "      fill: #174EA6;\n",
              "    }\n",
              "\n",
              "    [theme=dark] .colab-df-convert {\n",
              "      background-color: #3B4455;\n",
              "      fill: #D2E3FC;\n",
              "    }\n",
              "\n",
              "    [theme=dark] .colab-df-convert:hover {\n",
              "      background-color: #434B5C;\n",
              "      box-shadow: 0px 1px 3px 1px rgba(0, 0, 0, 0.15);\n",
              "      filter: drop-shadow(0px 1px 2px rgba(0, 0, 0, 0.3));\n",
              "      fill: #FFFFFF;\n",
              "    }\n",
              "  </style>\n",
              "\n",
              "      <script>\n",
              "        const buttonEl =\n",
              "          document.querySelector('#df-45c06824-712e-4f6c-ae30-41fe4ccf9a32 button.colab-df-convert');\n",
              "        buttonEl.style.display =\n",
              "          google.colab.kernel.accessAllowed ? 'block' : 'none';\n",
              "\n",
              "        async function convertToInteractive(key) {\n",
              "          const element = document.querySelector('#df-45c06824-712e-4f6c-ae30-41fe4ccf9a32');\n",
              "          const dataTable =\n",
              "            await google.colab.kernel.invokeFunction('convertToInteractive',\n",
              "                                                     [key], {});\n",
              "          if (!dataTable) return;\n",
              "\n",
              "          const docLinkHtml = 'Like what you see? Visit the ' +\n",
              "            '<a target=\"_blank\" href=https://colab.research.google.com/notebooks/data_table.ipynb>data table notebook</a>'\n",
              "            + ' to learn more about interactive tables.';\n",
              "          element.innerHTML = '';\n",
              "          dataTable['output_type'] = 'display_data';\n",
              "          await google.colab.output.renderOutput(dataTable, element);\n",
              "          const docLink = document.createElement('div');\n",
              "          docLink.innerHTML = docLinkHtml;\n",
              "          element.appendChild(docLink);\n",
              "        }\n",
              "      </script>\n",
              "    </div>\n",
              "  </div>\n",
              "  "
            ]
          },
          "metadata": {},
          "execution_count": 83
        }
      ]
    },
    {
      "cell_type": "code",
      "source": [
        "train_embed = pd.DataFrame(train_hs)\n",
        "train_labels_df = pd.DataFrame(train_labels, columns=['disaster'])\n",
        "val_embed = pd.DataFrame(val_hs)\n",
        "val_labels_df = pd.DataFrame(val_labels, columns=['disaster'])"
      ],
      "metadata": {
        "id": "Es71ShmCN11K"
      },
      "execution_count": 137,
      "outputs": []
    },
    {
      "cell_type": "code",
      "source": [
        "# train_join = train_embed.merge(train_labels_df, left_index=True, right_index=True, suffixes=(None, \"_y\"))\n",
        "# #train_join.drop(labels=['0_y'], axis=1, inplace=True)\n",
        "\n",
        "# val_join = val_embed.merge(val_labels_df, left_index=True, right_index=True, suffixes=(None, \"_y\"))\n",
        "# #val_join.drop(labels=['0_y'], axis=1, inplace=True)"
      ],
      "metadata": {
        "id": "u568cBlHTD_Q"
      },
      "execution_count": 138,
      "outputs": []
    },
    {
      "cell_type": "code",
      "source": [
        "train_final = train_embed.merge(train_t2_predict, left_index=True, right_index=True, suffixes=(None, \"_y\"))\n",
        "#train_final.drop(labels=['0_y'], axis=1, inplace=True)\n",
        "val_final = val_embed.merge(val_t2_predict, left_index=True, right_index=True, suffixes=(None, \"_y\"))"
      ],
      "metadata": {
        "id": "qf7ieLt0UcgB"
      },
      "execution_count": 139,
      "outputs": []
    },
    {
      "cell_type": "code",
      "source": [],
      "metadata": {
        "id": "3TuSmK_mU68e"
      },
      "execution_count": 129,
      "outputs": []
    },
    {
      "cell_type": "code",
      "source": [
        "#train_final.to_csv(\"/content/drive/MyDrive/BT5151/group_project/train_strat2.csv\")\n",
        "#val_final.to_csv(\"/content/drive/MyDrive/BT5151/group_project/val_strat2.csv\")"
      ],
      "metadata": {
        "id": "qJaWKpXxTjBr"
      },
      "execution_count": 130,
      "outputs": []
    },
    {
      "cell_type": "code",
      "source": [
        "train_dummy = pd.get_dummies(pd.get_dummies(train_final, columns=[\"predict\"]))\n",
        "val_dummy = pd.get_dummies(pd.get_dummies(val_final, columns=[\"predict\"]))"
      ],
      "metadata": {
        "id": "kO-k1lmXOMe4"
      },
      "execution_count": 140,
      "outputs": []
    },
    {
      "cell_type": "code",
      "source": [
        "train_dummy.columns"
      ],
      "metadata": {
        "colab": {
          "base_uri": "https://localhost:8080/"
        },
        "id": "z4YXlajRYQab",
        "outputId": "b8955061-f4f6-4412-803a-416c4afff595"
      },
      "execution_count": 141,
      "outputs": [
        {
          "output_type": "execute_result",
          "data": {
            "text/plain": [
              "Index([          0,           1,           2,           3,           4,\n",
              "                 5,           6,           7,           8,           9,\n",
              "       ...\n",
              "               760,         761,         762,         763,         764,\n",
              "               765,         766,         767, 'predict_0', 'predict_1'],\n",
              "      dtype='object', length=770)"
            ]
          },
          "metadata": {},
          "execution_count": 141
        }
      ]
    },
    {
      "cell_type": "code",
      "source": [
        "from sklearn.ensemble import RandomForestClassifier\n",
        "from sklearn.metrics import accuracy_score\n",
        "from xgboost import XGBClassifier\n",
        "from lightgbm import LGBMClassifier, Booster"
      ],
      "metadata": {
        "id": "5vehKcrX0_a5"
      },
      "execution_count": 142,
      "outputs": []
    },
    {
      "cell_type": "code",
      "source": [
        "lr_model =  LGBMClassifier()\n",
        "lr_model.fit(train_dummy, train_labels)"
      ],
      "metadata": {
        "colab": {
          "base_uri": "https://localhost:8080/",
          "height": 74
        },
        "id": "32emNlIOG3Su",
        "outputId": "ccd97214-7b2c-494e-98f9-2870a3e6b7b1"
      },
      "execution_count": 143,
      "outputs": [
        {
          "output_type": "execute_result",
          "data": {
            "text/plain": [
              "LGBMClassifier()"
            ],
            "text/html": [
              "<style>#sk-container-id-3 {color: black;background-color: white;}#sk-container-id-3 pre{padding: 0;}#sk-container-id-3 div.sk-toggleable {background-color: white;}#sk-container-id-3 label.sk-toggleable__label {cursor: pointer;display: block;width: 100%;margin-bottom: 0;padding: 0.3em;box-sizing: border-box;text-align: center;}#sk-container-id-3 label.sk-toggleable__label-arrow:before {content: \"▸\";float: left;margin-right: 0.25em;color: #696969;}#sk-container-id-3 label.sk-toggleable__label-arrow:hover:before {color: black;}#sk-container-id-3 div.sk-estimator:hover label.sk-toggleable__label-arrow:before {color: black;}#sk-container-id-3 div.sk-toggleable__content {max-height: 0;max-width: 0;overflow: hidden;text-align: left;background-color: #f0f8ff;}#sk-container-id-3 div.sk-toggleable__content pre {margin: 0.2em;color: black;border-radius: 0.25em;background-color: #f0f8ff;}#sk-container-id-3 input.sk-toggleable__control:checked~div.sk-toggleable__content {max-height: 200px;max-width: 100%;overflow: auto;}#sk-container-id-3 input.sk-toggleable__control:checked~label.sk-toggleable__label-arrow:before {content: \"▾\";}#sk-container-id-3 div.sk-estimator input.sk-toggleable__control:checked~label.sk-toggleable__label {background-color: #d4ebff;}#sk-container-id-3 div.sk-label input.sk-toggleable__control:checked~label.sk-toggleable__label {background-color: #d4ebff;}#sk-container-id-3 input.sk-hidden--visually {border: 0;clip: rect(1px 1px 1px 1px);clip: rect(1px, 1px, 1px, 1px);height: 1px;margin: -1px;overflow: hidden;padding: 0;position: absolute;width: 1px;}#sk-container-id-3 div.sk-estimator {font-family: monospace;background-color: #f0f8ff;border: 1px dotted black;border-radius: 0.25em;box-sizing: border-box;margin-bottom: 0.5em;}#sk-container-id-3 div.sk-estimator:hover {background-color: #d4ebff;}#sk-container-id-3 div.sk-parallel-item::after {content: \"\";width: 100%;border-bottom: 1px solid gray;flex-grow: 1;}#sk-container-id-3 div.sk-label:hover label.sk-toggleable__label {background-color: #d4ebff;}#sk-container-id-3 div.sk-serial::before {content: \"\";position: absolute;border-left: 1px solid gray;box-sizing: border-box;top: 0;bottom: 0;left: 50%;z-index: 0;}#sk-container-id-3 div.sk-serial {display: flex;flex-direction: column;align-items: center;background-color: white;padding-right: 0.2em;padding-left: 0.2em;position: relative;}#sk-container-id-3 div.sk-item {position: relative;z-index: 1;}#sk-container-id-3 div.sk-parallel {display: flex;align-items: stretch;justify-content: center;background-color: white;position: relative;}#sk-container-id-3 div.sk-item::before, #sk-container-id-3 div.sk-parallel-item::before {content: \"\";position: absolute;border-left: 1px solid gray;box-sizing: border-box;top: 0;bottom: 0;left: 50%;z-index: -1;}#sk-container-id-3 div.sk-parallel-item {display: flex;flex-direction: column;z-index: 1;position: relative;background-color: white;}#sk-container-id-3 div.sk-parallel-item:first-child::after {align-self: flex-end;width: 50%;}#sk-container-id-3 div.sk-parallel-item:last-child::after {align-self: flex-start;width: 50%;}#sk-container-id-3 div.sk-parallel-item:only-child::after {width: 0;}#sk-container-id-3 div.sk-dashed-wrapped {border: 1px dashed gray;margin: 0 0.4em 0.5em 0.4em;box-sizing: border-box;padding-bottom: 0.4em;background-color: white;}#sk-container-id-3 div.sk-label label {font-family: monospace;font-weight: bold;display: inline-block;line-height: 1.2em;}#sk-container-id-3 div.sk-label-container {text-align: center;}#sk-container-id-3 div.sk-container {/* jupyter's `normalize.less` sets `[hidden] { display: none; }` but bootstrap.min.css set `[hidden] { display: none !important; }` so we also need the `!important` here to be able to override the default hidden behavior on the sphinx rendered scikit-learn.org. See: https://github.com/scikit-learn/scikit-learn/issues/21755 */display: inline-block !important;position: relative;}#sk-container-id-3 div.sk-text-repr-fallback {display: none;}</style><div id=\"sk-container-id-3\" class=\"sk-top-container\"><div class=\"sk-text-repr-fallback\"><pre>LGBMClassifier()</pre><b>In a Jupyter environment, please rerun this cell to show the HTML representation or trust the notebook. <br />On GitHub, the HTML representation is unable to render, please try loading this page with nbviewer.org.</b></div><div class=\"sk-container\" hidden><div class=\"sk-item\"><div class=\"sk-estimator sk-toggleable\"><input class=\"sk-toggleable__control sk-hidden--visually\" id=\"sk-estimator-id-3\" type=\"checkbox\" checked><label for=\"sk-estimator-id-3\" class=\"sk-toggleable__label sk-toggleable__label-arrow\">LGBMClassifier</label><div class=\"sk-toggleable__content\"><pre>LGBMClassifier()</pre></div></div></div></div></div>"
            ]
          },
          "metadata": {},
          "execution_count": 143
        }
      ]
    },
    {
      "cell_type": "code",
      "source": [
        "preds_train = lr_model.predict(train_dummy)\n",
        "preds_val = lr_model.predict(val_dummy)"
      ],
      "metadata": {
        "id": "o65PUPwR9VKT"
      },
      "execution_count": 144,
      "outputs": []
    },
    {
      "cell_type": "code",
      "source": [
        "accuracy_score(d_train_data['target'], preds_train)"
      ],
      "metadata": {
        "colab": {
          "base_uri": "https://localhost:8080/"
        },
        "id": "clX1fYBLHorJ",
        "outputId": "163c0b0b-712e-42b3-9444-3f9465fc880a"
      },
      "execution_count": 145,
      "outputs": [
        {
          "output_type": "execute_result",
          "data": {
            "text/plain": [
              "0.9954022988505747"
            ]
          },
          "metadata": {},
          "execution_count": 145
        }
      ]
    },
    {
      "cell_type": "code",
      "source": [
        "accuracy_score(d_val_data['target'], preds_val)"
      ],
      "metadata": {
        "colab": {
          "base_uri": "https://localhost:8080/"
        },
        "id": "PRVazbwZKOda",
        "outputId": "c4306209-f14f-4ca4-bf23-78192e2110b3"
      },
      "execution_count": 146,
      "outputs": [
        {
          "output_type": "execute_result",
          "data": {
            "text/plain": [
              "0.8233749179251477"
            ]
          },
          "metadata": {},
          "execution_count": 146
        }
      ]
    },
    {
      "cell_type": "code",
      "source": [
        "class TestData(Dataset):\n",
        "    def __init__(self, dataframe, tokenizer, max_len):\n",
        "        self.tokenizer = tokenizer\n",
        "        self.data = dataframe\n",
        "        self.text = dataframe.text\n",
        "        self.max_len = max_len\n",
        "\n",
        "    def __len__(self):\n",
        "        return len(self.text)\n",
        "\n",
        "    def __getitem__(self, index):\n",
        "        text = str(self.text[index])\n",
        "        text = \" \".join(text.split())\n",
        "\n",
        "        inputs = self.tokenizer.encode_plus(\n",
        "            text,\n",
        "            None,\n",
        "            add_special_tokens=True,\n",
        "            max_length=self.max_len,\n",
        "            truncation=True,\n",
        "            padding = 'max_length',\n",
        "            return_token_type_ids=True\n",
        "        )\n",
        "        ids = inputs['input_ids']\n",
        "        mask = inputs['attention_mask']\n",
        "        token_type_ids = inputs['token_type_ids']\n",
        "\n",
        "        return {\n",
        "            'ids': torch.tensor(ids, dtype=torch.long),\n",
        "            'mask': torch.tensor(mask, dtype=torch.long),\n",
        "            \"token_type_ids\": torch.tensor(token_type_ids, dtype=torch.long),\n",
        "        }\n",
        "    "
      ],
      "metadata": {
        "id": "6KT800HsKcBK"
      },
      "execution_count": 147,
      "outputs": []
    },
    {
      "cell_type": "code",
      "source": [
        "d1_test_select =  d_test[['text']].copy()\n",
        "d1_test_set = TestData(d1_test_select, tokenizer=tokenizer, max_len=MAX_LEN)\n",
        "d1_test_embed = DataLoader(d1_test_set, **test_params)"
      ],
      "metadata": {
        "id": "1_gDJlKOJMGW"
      },
      "execution_count": 148,
      "outputs": []
    },
    {
      "cell_type": "code",
      "source": [
        "def test_embed(data_loader, model):\n",
        "  count = 0\n",
        "  chunk_size = 1000  # process data in chunks of 1000 samples\n",
        "  tempdir = tempfile.TemporaryDirectory()\n",
        "\n",
        "  with torch.no_grad():\n",
        "      for i, batch in enumerate(tqdm(data_loader)):\n",
        "          input_ids = batch['ids'].to(device)\n",
        "          attention_mask = batch['mask'].to(device)\n",
        "          token_type_ids = batch['token_type_ids'].to(device)\n",
        "          output = model(input_ids, attention_mask=attention_mask, token_type_ids=token_type_ids)\n",
        "          hidden_states = output.last_hidden_state.cpu().detach().numpy()[:, 0, :]\n",
        "          np.save(os.path.join(tempdir.name, f'batch_{i}_hs.npy'), hidden_states)\n",
        "          count += 1\n",
        "          if count % chunk_size == 0:\n",
        "              print('Processed', count, 'samples')\n",
        "              # clear variables from memory to minimize RAM usage\n",
        "              del hidden_states\n",
        "              torch.cuda.empty_cache()\n",
        "\n",
        "  hidden_states = np.concatenate([np.load(os.path.join(tempdir.name, f'batch_{i}_hs.npy')) for i in range(count)], axis=0)\n",
        "\n",
        "  # cleanup temporary directory\n",
        "  tempdir.cleanup()\n",
        "  return hidden_states\n",
        "\n",
        "def predict_hydra_test(model, testing_loader):\n",
        "  model.eval()\n",
        "  d2_predicts = []\n",
        "\n",
        "  with torch.no_grad():\n",
        "      for _, data in enumerate(tqdm(testing_loader, 0)):\n",
        "          d1_ids = data['ids'].to(device, dtype = torch.long)\n",
        "          d1_mask = data['mask'].to(device, dtype = torch.long)\n",
        "          d1_token_type_ids = data['token_type_ids'].to(device, dtype = torch.long)\n",
        "\n",
        "          _, output2 = model(d1_ids, d1_mask, d1_token_type_ids)\n",
        "          \n",
        "          big_val_d2, big_idx_d2 = torch.max(output2.data, dim=1)\n",
        "          \n",
        "          for i in range(d1_ids.size(0)):\n",
        "              d2_predicts.append({\n",
        "                  \"predict\": big_idx_d2[i].item(),\n",
        "              })\n",
        "\n",
        "  d2_df = pd.DataFrame(d2_predicts)\n",
        "\n",
        "  return d2_df"
      ],
      "metadata": {
        "id": "nGSvR2XdI2Gu"
      },
      "execution_count": 153,
      "outputs": []
    },
    {
      "cell_type": "code",
      "source": [
        "test_hs = test_embed(d1_test_embed, model_embed)"
      ],
      "metadata": {
        "colab": {
          "base_uri": "https://localhost:8080/"
        },
        "id": "KESkc4O3JJpi",
        "outputId": "a7c02beb-3ecb-47bc-eea7-1a0059aa855b"
      },
      "execution_count": 154,
      "outputs": [
        {
          "output_type": "stream",
          "name": "stderr",
          "text": [
            "100%|██████████| 102/102 [01:39<00:00,  1.02it/s]\n"
          ]
        }
      ]
    },
    {
      "cell_type": "code",
      "source": [
        "test_t2_predict = get_predict(data_iterator(d1_test_select), siebert)"
      ],
      "metadata": {
        "colab": {
          "base_uri": "https://localhost:8080/"
        },
        "id": "G7jLWuZLZjYW",
        "outputId": "adf9f0e6-8579-4e5e-c582-6ce00d2de366"
      },
      "execution_count": 155,
      "outputs": [
        {
          "output_type": "stream",
          "name": "stderr",
          "text": [
            "3263it [01:26, 37.82it/s]\n"
          ]
        }
      ]
    },
    {
      "cell_type": "code",
      "source": [
        "test_embed = pd.DataFrame(test_hs)\n",
        "test_final = test_embed.merge(test_t2_predict, left_index=True, right_index=True, suffixes=(None, \"_y\"))\n",
        "test_dummy = pd.get_dummies(pd.get_dummies(test_final, columns=[\"predict\"]))"
      ],
      "metadata": {
        "id": "4zx-254heA5M"
      },
      "execution_count": 156,
      "outputs": []
    },
    {
      "cell_type": "code",
      "source": [
        "test_dummy.head()"
      ],
      "metadata": {
        "colab": {
          "base_uri": "https://localhost:8080/",
          "height": 299
        },
        "id": "6C8Dx789eU1A",
        "outputId": "c6f090e6-449e-4318-be61-b7e498b5d973"
      },
      "execution_count": 157,
      "outputs": [
        {
          "output_type": "execute_result",
          "data": {
            "text/plain": [
              "          0         1         2         3         4         5         6  \\\n",
              "0 -0.067277  0.064045 -0.033173 -0.111211  0.065364 -0.077322 -0.034924   \n",
              "1 -0.092448  0.081711  0.023413 -0.127079  0.083917 -0.047716  0.012487   \n",
              "2 -0.076121  0.057278 -0.004603 -0.133214  0.095727 -0.118897 -0.030438   \n",
              "3 -0.057225  0.104941  0.018109 -0.131439  0.034999 -0.101398 -0.027976   \n",
              "4 -0.036157  0.073315 -0.010222 -0.115423  0.029333 -0.114131 -0.051055   \n",
              "\n",
              "          7         8         9  ...       760       761       762       763  \\\n",
              "0  0.013256  0.052691 -0.073024  ... -0.101981 -0.066913  0.004809  0.123612   \n",
              "1 -0.029307  0.052603 -0.108945  ... -0.143110 -0.079580  0.024306  0.105774   \n",
              "2  0.067059  0.067372 -0.044591  ... -0.084637 -0.112548  0.040393  0.127375   \n",
              "3 -0.004108  0.067663 -0.085326  ... -0.108122 -0.073679  0.027149  0.120939   \n",
              "4 -0.004583  0.094787 -0.057387  ... -0.083400 -0.090771  0.026351  0.142421   \n",
              "\n",
              "        764       765       766       767  predict_0  predict_1  \n",
              "0  0.077959 -0.067794 -0.064513 -0.010653          1          0  \n",
              "1  0.053831 -0.076260 -0.050434 -0.043774          0          1  \n",
              "2  0.074934 -0.102894 -0.090753 -0.013252          1          0  \n",
              "3  0.081143 -0.075973 -0.037080 -0.014002          0          1  \n",
              "4  0.096038 -0.054122 -0.093459 -0.019333          1          0  \n",
              "\n",
              "[5 rows x 770 columns]"
            ],
            "text/html": [
              "\n",
              "  <div id=\"df-47d907f2-42ff-43ed-9e8f-e7fb4e55192f\">\n",
              "    <div class=\"colab-df-container\">\n",
              "      <div>\n",
              "<style scoped>\n",
              "    .dataframe tbody tr th:only-of-type {\n",
              "        vertical-align: middle;\n",
              "    }\n",
              "\n",
              "    .dataframe tbody tr th {\n",
              "        vertical-align: top;\n",
              "    }\n",
              "\n",
              "    .dataframe thead th {\n",
              "        text-align: right;\n",
              "    }\n",
              "</style>\n",
              "<table border=\"1\" class=\"dataframe\">\n",
              "  <thead>\n",
              "    <tr style=\"text-align: right;\">\n",
              "      <th></th>\n",
              "      <th>0</th>\n",
              "      <th>1</th>\n",
              "      <th>2</th>\n",
              "      <th>3</th>\n",
              "      <th>4</th>\n",
              "      <th>5</th>\n",
              "      <th>6</th>\n",
              "      <th>7</th>\n",
              "      <th>8</th>\n",
              "      <th>9</th>\n",
              "      <th>...</th>\n",
              "      <th>760</th>\n",
              "      <th>761</th>\n",
              "      <th>762</th>\n",
              "      <th>763</th>\n",
              "      <th>764</th>\n",
              "      <th>765</th>\n",
              "      <th>766</th>\n",
              "      <th>767</th>\n",
              "      <th>predict_0</th>\n",
              "      <th>predict_1</th>\n",
              "    </tr>\n",
              "  </thead>\n",
              "  <tbody>\n",
              "    <tr>\n",
              "      <th>0</th>\n",
              "      <td>-0.067277</td>\n",
              "      <td>0.064045</td>\n",
              "      <td>-0.033173</td>\n",
              "      <td>-0.111211</td>\n",
              "      <td>0.065364</td>\n",
              "      <td>-0.077322</td>\n",
              "      <td>-0.034924</td>\n",
              "      <td>0.013256</td>\n",
              "      <td>0.052691</td>\n",
              "      <td>-0.073024</td>\n",
              "      <td>...</td>\n",
              "      <td>-0.101981</td>\n",
              "      <td>-0.066913</td>\n",
              "      <td>0.004809</td>\n",
              "      <td>0.123612</td>\n",
              "      <td>0.077959</td>\n",
              "      <td>-0.067794</td>\n",
              "      <td>-0.064513</td>\n",
              "      <td>-0.010653</td>\n",
              "      <td>1</td>\n",
              "      <td>0</td>\n",
              "    </tr>\n",
              "    <tr>\n",
              "      <th>1</th>\n",
              "      <td>-0.092448</td>\n",
              "      <td>0.081711</td>\n",
              "      <td>0.023413</td>\n",
              "      <td>-0.127079</td>\n",
              "      <td>0.083917</td>\n",
              "      <td>-0.047716</td>\n",
              "      <td>0.012487</td>\n",
              "      <td>-0.029307</td>\n",
              "      <td>0.052603</td>\n",
              "      <td>-0.108945</td>\n",
              "      <td>...</td>\n",
              "      <td>-0.143110</td>\n",
              "      <td>-0.079580</td>\n",
              "      <td>0.024306</td>\n",
              "      <td>0.105774</td>\n",
              "      <td>0.053831</td>\n",
              "      <td>-0.076260</td>\n",
              "      <td>-0.050434</td>\n",
              "      <td>-0.043774</td>\n",
              "      <td>0</td>\n",
              "      <td>1</td>\n",
              "    </tr>\n",
              "    <tr>\n",
              "      <th>2</th>\n",
              "      <td>-0.076121</td>\n",
              "      <td>0.057278</td>\n",
              "      <td>-0.004603</td>\n",
              "      <td>-0.133214</td>\n",
              "      <td>0.095727</td>\n",
              "      <td>-0.118897</td>\n",
              "      <td>-0.030438</td>\n",
              "      <td>0.067059</td>\n",
              "      <td>0.067372</td>\n",
              "      <td>-0.044591</td>\n",
              "      <td>...</td>\n",
              "      <td>-0.084637</td>\n",
              "      <td>-0.112548</td>\n",
              "      <td>0.040393</td>\n",
              "      <td>0.127375</td>\n",
              "      <td>0.074934</td>\n",
              "      <td>-0.102894</td>\n",
              "      <td>-0.090753</td>\n",
              "      <td>-0.013252</td>\n",
              "      <td>1</td>\n",
              "      <td>0</td>\n",
              "    </tr>\n",
              "    <tr>\n",
              "      <th>3</th>\n",
              "      <td>-0.057225</td>\n",
              "      <td>0.104941</td>\n",
              "      <td>0.018109</td>\n",
              "      <td>-0.131439</td>\n",
              "      <td>0.034999</td>\n",
              "      <td>-0.101398</td>\n",
              "      <td>-0.027976</td>\n",
              "      <td>-0.004108</td>\n",
              "      <td>0.067663</td>\n",
              "      <td>-0.085326</td>\n",
              "      <td>...</td>\n",
              "      <td>-0.108122</td>\n",
              "      <td>-0.073679</td>\n",
              "      <td>0.027149</td>\n",
              "      <td>0.120939</td>\n",
              "      <td>0.081143</td>\n",
              "      <td>-0.075973</td>\n",
              "      <td>-0.037080</td>\n",
              "      <td>-0.014002</td>\n",
              "      <td>0</td>\n",
              "      <td>1</td>\n",
              "    </tr>\n",
              "    <tr>\n",
              "      <th>4</th>\n",
              "      <td>-0.036157</td>\n",
              "      <td>0.073315</td>\n",
              "      <td>-0.010222</td>\n",
              "      <td>-0.115423</td>\n",
              "      <td>0.029333</td>\n",
              "      <td>-0.114131</td>\n",
              "      <td>-0.051055</td>\n",
              "      <td>-0.004583</td>\n",
              "      <td>0.094787</td>\n",
              "      <td>-0.057387</td>\n",
              "      <td>...</td>\n",
              "      <td>-0.083400</td>\n",
              "      <td>-0.090771</td>\n",
              "      <td>0.026351</td>\n",
              "      <td>0.142421</td>\n",
              "      <td>0.096038</td>\n",
              "      <td>-0.054122</td>\n",
              "      <td>-0.093459</td>\n",
              "      <td>-0.019333</td>\n",
              "      <td>1</td>\n",
              "      <td>0</td>\n",
              "    </tr>\n",
              "  </tbody>\n",
              "</table>\n",
              "<p>5 rows × 770 columns</p>\n",
              "</div>\n",
              "      <button class=\"colab-df-convert\" onclick=\"convertToInteractive('df-47d907f2-42ff-43ed-9e8f-e7fb4e55192f')\"\n",
              "              title=\"Convert this dataframe to an interactive table.\"\n",
              "              style=\"display:none;\">\n",
              "        \n",
              "  <svg xmlns=\"http://www.w3.org/2000/svg\" height=\"24px\"viewBox=\"0 0 24 24\"\n",
              "       width=\"24px\">\n",
              "    <path d=\"M0 0h24v24H0V0z\" fill=\"none\"/>\n",
              "    <path d=\"M18.56 5.44l.94 2.06.94-2.06 2.06-.94-2.06-.94-.94-2.06-.94 2.06-2.06.94zm-11 1L8.5 8.5l.94-2.06 2.06-.94-2.06-.94L8.5 2.5l-.94 2.06-2.06.94zm10 10l.94 2.06.94-2.06 2.06-.94-2.06-.94-.94-2.06-.94 2.06-2.06.94z\"/><path d=\"M17.41 7.96l-1.37-1.37c-.4-.4-.92-.59-1.43-.59-.52 0-1.04.2-1.43.59L10.3 9.45l-7.72 7.72c-.78.78-.78 2.05 0 2.83L4 21.41c.39.39.9.59 1.41.59.51 0 1.02-.2 1.41-.59l7.78-7.78 2.81-2.81c.8-.78.8-2.07 0-2.86zM5.41 20L4 18.59l7.72-7.72 1.47 1.35L5.41 20z\"/>\n",
              "  </svg>\n",
              "      </button>\n",
              "      \n",
              "  <style>\n",
              "    .colab-df-container {\n",
              "      display:flex;\n",
              "      flex-wrap:wrap;\n",
              "      gap: 12px;\n",
              "    }\n",
              "\n",
              "    .colab-df-convert {\n",
              "      background-color: #E8F0FE;\n",
              "      border: none;\n",
              "      border-radius: 50%;\n",
              "      cursor: pointer;\n",
              "      display: none;\n",
              "      fill: #1967D2;\n",
              "      height: 32px;\n",
              "      padding: 0 0 0 0;\n",
              "      width: 32px;\n",
              "    }\n",
              "\n",
              "    .colab-df-convert:hover {\n",
              "      background-color: #E2EBFA;\n",
              "      box-shadow: 0px 1px 2px rgba(60, 64, 67, 0.3), 0px 1px 3px 1px rgba(60, 64, 67, 0.15);\n",
              "      fill: #174EA6;\n",
              "    }\n",
              "\n",
              "    [theme=dark] .colab-df-convert {\n",
              "      background-color: #3B4455;\n",
              "      fill: #D2E3FC;\n",
              "    }\n",
              "\n",
              "    [theme=dark] .colab-df-convert:hover {\n",
              "      background-color: #434B5C;\n",
              "      box-shadow: 0px 1px 3px 1px rgba(0, 0, 0, 0.15);\n",
              "      filter: drop-shadow(0px 1px 2px rgba(0, 0, 0, 0.3));\n",
              "      fill: #FFFFFF;\n",
              "    }\n",
              "  </style>\n",
              "\n",
              "      <script>\n",
              "        const buttonEl =\n",
              "          document.querySelector('#df-47d907f2-42ff-43ed-9e8f-e7fb4e55192f button.colab-df-convert');\n",
              "        buttonEl.style.display =\n",
              "          google.colab.kernel.accessAllowed ? 'block' : 'none';\n",
              "\n",
              "        async function convertToInteractive(key) {\n",
              "          const element = document.querySelector('#df-47d907f2-42ff-43ed-9e8f-e7fb4e55192f');\n",
              "          const dataTable =\n",
              "            await google.colab.kernel.invokeFunction('convertToInteractive',\n",
              "                                                     [key], {});\n",
              "          if (!dataTable) return;\n",
              "\n",
              "          const docLinkHtml = 'Like what you see? Visit the ' +\n",
              "            '<a target=\"_blank\" href=https://colab.research.google.com/notebooks/data_table.ipynb>data table notebook</a>'\n",
              "            + ' to learn more about interactive tables.';\n",
              "          element.innerHTML = '';\n",
              "          dataTable['output_type'] = 'display_data';\n",
              "          await google.colab.output.renderOutput(dataTable, element);\n",
              "          const docLink = document.createElement('div');\n",
              "          docLink.innerHTML = docLinkHtml;\n",
              "          element.appendChild(docLink);\n",
              "        }\n",
              "      </script>\n",
              "    </div>\n",
              "  </div>\n",
              "  "
            ]
          },
          "metadata": {},
          "execution_count": 157
        }
      ]
    },
    {
      "cell_type": "code",
      "source": [
        "preds_test = lr_model.predict(test_dummy)"
      ],
      "metadata": {
        "id": "tBkGMNYZJESh"
      },
      "execution_count": 158,
      "outputs": []
    },
    {
      "cell_type": "code",
      "source": [
        "strat2_df = pd.DataFrame(preds_test,columns =[\"target\"])"
      ],
      "metadata": {
        "id": "PJ9jDFFROgam"
      },
      "execution_count": 159,
      "outputs": []
    },
    {
      "cell_type": "code",
      "source": [
        "strat2_df['target'].value_counts()"
      ],
      "metadata": {
        "colab": {
          "base_uri": "https://localhost:8080/"
        },
        "id": "PP8ox-bVPiLv",
        "outputId": "a0ece2bb-b350-4eae-e1b8-211a6d9b3261"
      },
      "execution_count": 160,
      "outputs": [
        {
          "output_type": "execute_result",
          "data": {
            "text/plain": [
              "0    2057\n",
              "1    1206\n",
              "Name: target, dtype: int64"
            ]
          },
          "metadata": {},
          "execution_count": 160
        }
      ]
    },
    {
      "cell_type": "code",
      "source": [
        " # Matching the predictions indices to the Kaggle sample submission indices\n",
        "strat2_df.reset_index(inplace=True)\n",
        "test = d_test_orig[[\"id\"]].copy()\n",
        "strat2 = test.merge(strat2_df, left_index=True, right_index=True)\n",
        "strat2.drop(labels=[\"index\"],axis=1,inplace=True)\n",
        "strat2.set_index(\"id\",inplace=True)\n",
        "\n",
        "strat2.to_csv(\"/content/drive/MyDrive/BT5151/group_project/strat2_test.csv\")"
      ],
      "metadata": {
        "id": "tzFtdcjsOSTs"
      },
      "execution_count": 161,
      "outputs": []
    },
    {
      "cell_type": "code",
      "source": [
        "strat2.head()"
      ],
      "metadata": {
        "colab": {
          "base_uri": "https://localhost:8080/",
          "height": 237
        },
        "id": "LqjN3vPlPKjC",
        "outputId": "66159b59-0ab6-4b77-d2e8-b9d06cecf0af"
      },
      "execution_count": 162,
      "outputs": [
        {
          "output_type": "execute_result",
          "data": {
            "text/plain": [
              "    target\n",
              "id        \n",
              "0        0\n",
              "2        1\n",
              "3        1\n",
              "9        1\n",
              "11       1"
            ],
            "text/html": [
              "\n",
              "  <div id=\"df-6dccdb51-355b-4021-b340-0c9c68965341\">\n",
              "    <div class=\"colab-df-container\">\n",
              "      <div>\n",
              "<style scoped>\n",
              "    .dataframe tbody tr th:only-of-type {\n",
              "        vertical-align: middle;\n",
              "    }\n",
              "\n",
              "    .dataframe tbody tr th {\n",
              "        vertical-align: top;\n",
              "    }\n",
              "\n",
              "    .dataframe thead th {\n",
              "        text-align: right;\n",
              "    }\n",
              "</style>\n",
              "<table border=\"1\" class=\"dataframe\">\n",
              "  <thead>\n",
              "    <tr style=\"text-align: right;\">\n",
              "      <th></th>\n",
              "      <th>target</th>\n",
              "    </tr>\n",
              "    <tr>\n",
              "      <th>id</th>\n",
              "      <th></th>\n",
              "    </tr>\n",
              "  </thead>\n",
              "  <tbody>\n",
              "    <tr>\n",
              "      <th>0</th>\n",
              "      <td>0</td>\n",
              "    </tr>\n",
              "    <tr>\n",
              "      <th>2</th>\n",
              "      <td>1</td>\n",
              "    </tr>\n",
              "    <tr>\n",
              "      <th>3</th>\n",
              "      <td>1</td>\n",
              "    </tr>\n",
              "    <tr>\n",
              "      <th>9</th>\n",
              "      <td>1</td>\n",
              "    </tr>\n",
              "    <tr>\n",
              "      <th>11</th>\n",
              "      <td>1</td>\n",
              "    </tr>\n",
              "  </tbody>\n",
              "</table>\n",
              "</div>\n",
              "      <button class=\"colab-df-convert\" onclick=\"convertToInteractive('df-6dccdb51-355b-4021-b340-0c9c68965341')\"\n",
              "              title=\"Convert this dataframe to an interactive table.\"\n",
              "              style=\"display:none;\">\n",
              "        \n",
              "  <svg xmlns=\"http://www.w3.org/2000/svg\" height=\"24px\"viewBox=\"0 0 24 24\"\n",
              "       width=\"24px\">\n",
              "    <path d=\"M0 0h24v24H0V0z\" fill=\"none\"/>\n",
              "    <path d=\"M18.56 5.44l.94 2.06.94-2.06 2.06-.94-2.06-.94-.94-2.06-.94 2.06-2.06.94zm-11 1L8.5 8.5l.94-2.06 2.06-.94-2.06-.94L8.5 2.5l-.94 2.06-2.06.94zm10 10l.94 2.06.94-2.06 2.06-.94-2.06-.94-.94-2.06-.94 2.06-2.06.94z\"/><path d=\"M17.41 7.96l-1.37-1.37c-.4-.4-.92-.59-1.43-.59-.52 0-1.04.2-1.43.59L10.3 9.45l-7.72 7.72c-.78.78-.78 2.05 0 2.83L4 21.41c.39.39.9.59 1.41.59.51 0 1.02-.2 1.41-.59l7.78-7.78 2.81-2.81c.8-.78.8-2.07 0-2.86zM5.41 20L4 18.59l7.72-7.72 1.47 1.35L5.41 20z\"/>\n",
              "  </svg>\n",
              "      </button>\n",
              "      \n",
              "  <style>\n",
              "    .colab-df-container {\n",
              "      display:flex;\n",
              "      flex-wrap:wrap;\n",
              "      gap: 12px;\n",
              "    }\n",
              "\n",
              "    .colab-df-convert {\n",
              "      background-color: #E8F0FE;\n",
              "      border: none;\n",
              "      border-radius: 50%;\n",
              "      cursor: pointer;\n",
              "      display: none;\n",
              "      fill: #1967D2;\n",
              "      height: 32px;\n",
              "      padding: 0 0 0 0;\n",
              "      width: 32px;\n",
              "    }\n",
              "\n",
              "    .colab-df-convert:hover {\n",
              "      background-color: #E2EBFA;\n",
              "      box-shadow: 0px 1px 2px rgba(60, 64, 67, 0.3), 0px 1px 3px 1px rgba(60, 64, 67, 0.15);\n",
              "      fill: #174EA6;\n",
              "    }\n",
              "\n",
              "    [theme=dark] .colab-df-convert {\n",
              "      background-color: #3B4455;\n",
              "      fill: #D2E3FC;\n",
              "    }\n",
              "\n",
              "    [theme=dark] .colab-df-convert:hover {\n",
              "      background-color: #434B5C;\n",
              "      box-shadow: 0px 1px 3px 1px rgba(0, 0, 0, 0.15);\n",
              "      filter: drop-shadow(0px 1px 2px rgba(0, 0, 0, 0.3));\n",
              "      fill: #FFFFFF;\n",
              "    }\n",
              "  </style>\n",
              "\n",
              "      <script>\n",
              "        const buttonEl =\n",
              "          document.querySelector('#df-6dccdb51-355b-4021-b340-0c9c68965341 button.colab-df-convert');\n",
              "        buttonEl.style.display =\n",
              "          google.colab.kernel.accessAllowed ? 'block' : 'none';\n",
              "\n",
              "        async function convertToInteractive(key) {\n",
              "          const element = document.querySelector('#df-6dccdb51-355b-4021-b340-0c9c68965341');\n",
              "          const dataTable =\n",
              "            await google.colab.kernel.invokeFunction('convertToInteractive',\n",
              "                                                     [key], {});\n",
              "          if (!dataTable) return;\n",
              "\n",
              "          const docLinkHtml = 'Like what you see? Visit the ' +\n",
              "            '<a target=\"_blank\" href=https://colab.research.google.com/notebooks/data_table.ipynb>data table notebook</a>'\n",
              "            + ' to learn more about interactive tables.';\n",
              "          element.innerHTML = '';\n",
              "          dataTable['output_type'] = 'display_data';\n",
              "          await google.colab.output.renderOutput(dataTable, element);\n",
              "          const docLink = document.createElement('div');\n",
              "          docLink.innerHTML = docLinkHtml;\n",
              "          element.appendChild(docLink);\n",
              "        }\n",
              "      </script>\n",
              "    </div>\n",
              "  </div>\n",
              "  "
            ]
          },
          "metadata": {},
          "execution_count": 162
        }
      ]
    },
    {
      "cell_type": "markdown",
      "source": [
        "![Screenshot 2023-04-15 at 11.57.56 AM.png](data:image/png;base64,iVBORw0KGgoAAAANSUhEUgAACMYAAAH2CAYAAACRVRIBAAAMP2lDQ1BJQ0MgUHJvZmlsZQAASImVVwdYU8kWnltSIQQIICAl9CaI1ABSQmgBpBfBRkgChBJjIKjY0UUF1y4iYENXRRQ7IHbEzqLY+2JBRVkXC3blTQrouq98b75v7vz3nzP/OXPuzL13AKAf50kkuagmAHniAmlcaCBzdEoqk/QU4IAM6MAauPP4+RJ2TEwkgGWg/Xt5dx0g8vaKo1zrn/3/tWgJhPl8AJAYiNMF+fw8iPcDgFfzJdICAIhy3mJygUSOYQU6UhggxAvkOFOJq+U4XYl3K2wS4jgQtwJAVufxpJkAaFyCPLOQnwk1NHohdhYLRGIA6EyI/fLyJgogToPYFtpIIJbrs9J/0Mn8m2b6oCaPlzmIlXNRFHKQKF+Sy5v6f6bjf5e8XNmAD2tY1bOkYXHyOcO83cyZGCHH6hD3iNOjoiHWhviDSKCwhxilZsnCEpX2qBE/nwNzBvQgdhbwgiIgNoI4RJwbFani0zNEIVyI4QpBp4gKuAkQ60O8QJgfHK+y2SCdGKfyhTZkSDlsFX+WJ1X4lfu6L8tJZKv0X2cJuSp9TKMoKyEZYirEloWipCiINSB2ys+Jj1DZjCzK4kQN2EhlcfL4LSGOE4pDA5X6WGGGNCROZV+alz8wX2xDlogbpcJ7C7ISwpT5wVr5PEX8cC7YJaGYnTigI8wfHTkwF4EwKFg5d+yZUJwYr9L5ICkIjFOOxamS3BiVPW4uzA2V8+YQu+UXxqvG4kkFcEEq9fEMSUFMgjJOvCibFx6jjAdfCiIBBwQBJpDBmg4mgmwgau9p7IF3yp4QwANSkAmEwFHFDIxIVvSI4TUeFIE/IRKC/MFxgYpeISiE/NdBVnl1BBmK3kLFiBzwBOI8EAFy4b1MMUo86C0JPIaM6B/eebDyYby5sMr7/z0/wH5n2JCJVDGyAY9M+oAlMZgYRAwjhhDtcEPcD/fBI+E1AFYXnIV7Dczjuz3hCaGD8JBwjdBJuDVBVCz9KcpRoBPqh6hykf5jLnBrqOmOB+K+UB0q43q4IXDE3aAfNu4PPbtDlqOKW54V5k/af5vBD09DZUdxpqCUIZQAiu3PIzXsNdwHVeS5/jE/yljTB/PNGez52T/nh+wLYBvxsyW2ANuHncFOYOeww1gjYGLHsCasDTsix4Or67FidQ14i1PEkwN1RP/wN/Bk5ZnMd65z7nb+ouwrEE6Rv6MBZ6JkqlSUmVXAZMMvgpDJFfOdhjFdnF1cAZB/X5Svrzexiu8Gotf2nZv7BwC+x/r7+w9958KPAbDHE27/g985Wxb8dKgBcPYgXyYtVHK4/EKAbwk63GkGwARYAFs4HxfgAXxAAAgG4SAaJIAUMB5GnwXXuRRMBtPBHFACysBSsApUgvVgE9gGdoK9oBEcBifAaXABXALXwB24errAC9AL3oHPCIKQEBrCQAwQU8QKcUBcEBbihwQjkUgckoKkIZmIGJEh05G5SBmyHKlENiK1yB7kIHICOYd0ILeQB0g38hr5hGKoOqqDGqPW6HCUhbLRCDQBHYdmopPQInQeuhitQGvQHWgDegK9gF5DO9EXaB8GMDVMDzPDHDEWxsGisVQsA5NiM7FSrByrweqxZvicr2CdWA/2ESfiDJyJO8IVHIYn4nx8Ej4TX4RX4tvwBrwVv4I/wHvxbwQawYjgQPAmcAmjCZmEyYQSQjlhC+EA4RTcS12Ed0QiUY9oQ/SEezGFmE2cRlxEXEvcRTxO7CA+IvaRSCQDkgPJlxRN4pEKSCWkNaQdpGOky6Qu0geyGtmU7EIOIaeSxeRicjl5O/ko+TL5KfkzRZNiRfGmRFMElKmUJZTNlGbKRUoX5TNVi2pD9aUmULOpc6gV1HrqKepd6hs1NTVzNS+1WDWR2my1CrXdamfVHqh9VNdWt1fnqI9Vl6kvVt+qflz9lvobGo1mTQugpdIKaItptbSTtPu0DxoMDScNroZAY5ZGlUaDxmWNl3QK3YrOpo+nF9HL6fvoF+k9mhRNa02OJk9zpmaV5kHNG5p9WgytEVrRWnlai7S2a53TeqZN0rbWDtYWaM/T3qR9UvsRA2NYMDgMPmMuYzPjFKNLh6hjo8PVydYp09mp067Tq6ut66abpDtFt0r3iG6nHqZnrcfVy9VbordX77repyHGQ9hDhEMWDqkfcnnIe/2h+gH6Qv1S/V361/Q/GTANgg1yDJYZNBrcM8QN7Q1jDScbrjM8ZdgzVGeoz1D+0NKhe4feNkKN7I3ijKYZbTJqM+ozNjEONZYYrzE+adxjomcSYJJtstLkqEm3KcPUz1RkutL0mOlzpi6TzcxlVjBbmb1mRmZhZjKzjWbtZp/NbcwTzYvNd5nfs6BasCwyLFZatFj0WppajrKcbllneduKYsWyyrJabXXG6r21jXWy9XzrRutnNvo2XJsimzqbu7Y0W3/bSbY1tlftiHYsuxy7tXaX7FF7d/ss+yr7iw6og4eDyGGtQ8cwwjCvYeJhNcNuOKo7sh0LHescHzjpOUU6FTs1Or0cbjk8dfiy4WeGf3N2d8513ux8Z4T2iPARxSOaR7x2sXfhu1S5XHWluYa4znJtcn3l5uAmdFvndtOd4T7Kfb57i/tXD08PqUe9R7enpWeaZ7XnDZYOK4a1iHXWi+AV6DXL67DXR28P7wLvvd5/+Tj65Phs93k20makcOTmkY98zX15vht9O/2Yfml+G/w6/c38ef41/g8DLAIEAVsCnrLt2NnsHeyXgc6B0sADge853pwZnONBWFBoUGlQe7B2cGJwZfD9EPOQzJC6kN5Q99BpocfDCGERYcvCbnCNuXxuLbc33DN8RnhrhHpEfERlxMNI+0hpZPModFT4qBWj7kZZRYmjGqNBNDd6RfS9GJuYSTGHYomxMbFVsU/iRsRNjzsTz4ifEL89/l1CYMKShDuJtomyxJYketLYpNqk98lBycuTO0cPHz1j9IUUwxRRSlMqKTUpdUtq35jgMavGdI11H1sy9vo4m3FTxp0bbzg+d/yRCfQJvAn70ghpyWnb077wonk1vL50bnp1ei+fw1/NfyEIEKwUdAt9hcuFTzN8M5ZnPMv0zVyR2Z3ln1We1SPiiCpFr7LDstdnv8+Jztma05+bnLsrj5yXlndQrC3OEbdONJk4ZWKHxEFSIumc5D1p1aReaYR0Sz6SPy6/qUAH/si3yWxlv8geFPoVVhV+mJw0ed8UrSniKW1T7acunPq0KKTot2n4NP60lulm0+dMfzCDPWPjTGRm+syWWRaz5s3qmh06e9sc6pycOb8XOxcvL347N3lu8zzjebPnPfol9Je6Eo0SacmN+T7z1y/AF4gWtC90Xbhm4bdSQen5Muey8rIvi/iLzv864teKX/sXZyxuX+KxZN1S4lLx0uvL/JdtW661vGj5oxWjVjSsZK4sXfl21YRV58rdytevpq6Wre6siKxoWmO5ZumaL5VZldeqAqt2VRtVL6x+v1aw9vK6gHX1643Xl63/tEG04ebG0I0NNdY15ZuImwo3PdmctPnMb6zfarcYbinb8nWreGvntrhtrbWetbXbjbYvqUPrZHXdO8buuLQzaGdTvWP9xl16u8p2g92y3c/3pO25vjdib8s+1r76/Vb7qw8wDpQ2IA1TG3obsxo7m1KaOg6GH2xp9mk+cMjp0NbDZoerjugeWXKUenTe0f5jRcf6jkuO95zIPPGoZULLnZOjT15tjW1tPxVx6uzpkNMnz7DPHDvre/bwOe9zB8+zzjde8LjQ0ObeduB3998PtHu0N1z0vNh0yetSc8fIjqOX/S+fuBJ05fRV7tUL16KudVxPvH7zxtgbnTcFN5/dyr316nbh7c93Zt8l3C29p3mv/L7R/Zo/7P7Y1enReeRB0IO2h/EP7zziP3rxOP/xl655T2hPyp+aPq195vLscHdI96XnY553vZC8+NxT8qfWn9UvbV/u/yvgr7be0b1dr6Sv+l8vemPwZutbt7ctfTF999/lvfv8vvSDwYdtH1kfz3xK/vT08+QvpC8VX+2+Nn+L+Ha3P6+/X8KT8hS/AhisaEYGAK+3AkBLAYABz2fUMcrzn6IgyjOrAoH/hJVnREXxAKAe/r/H9sC/mxsA7N4Mj19Qnz4WgBgaAAleAHV1HawDZzXFuVJeiPAcsCH4a3peOvg3RXnm/CHun1sgV3UDP7f/AqPSfHWsDjdXAAAAimVYSWZNTQAqAAAACAAEARoABQAAAAEAAAA+ARsABQAAAAEAAABGASgAAwAAAAEAAgAAh2kABAAAAAEAAABOAAAAAAAAAJAAAAABAAAAkAAAAAEAA5KGAAcAAAASAAAAeKACAAQAAAABAAAIxqADAAQAAAABAAAB9gAAAABBU0NJSQAAAFNjcmVlbnNob3T25prAAAAACXBIWXMAABYlAAAWJQFJUiTwAAAB12lUWHRYTUw6Y29tLmFkb2JlLnhtcAAAAAAAPHg6eG1wbWV0YSB4bWxuczp4PSJhZG9iZTpuczptZXRhLyIgeDp4bXB0az0iWE1QIENvcmUgNi4wLjAiPgogICA8cmRmOlJERiB4bWxuczpyZGY9Imh0dHA6Ly93d3cudzMub3JnLzE5OTkvMDIvMjItcmRmLXN5bnRheC1ucyMiPgogICAgICA8cmRmOkRlc2NyaXB0aW9uIHJkZjphYm91dD0iIgogICAgICAgICAgICB4bWxuczpleGlmPSJodHRwOi8vbnMuYWRvYmUuY29tL2V4aWYvMS4wLyI+CiAgICAgICAgIDxleGlmOlBpeGVsWURpbWVuc2lvbj41MDI8L2V4aWY6UGl4ZWxZRGltZW5zaW9uPgogICAgICAgICA8ZXhpZjpQaXhlbFhEaW1lbnNpb24+MjI0NjwvZXhpZjpQaXhlbFhEaW1lbnNpb24+CiAgICAgICAgIDxleGlmOlVzZXJDb21tZW50PlNjcmVlbnNob3Q8L2V4aWY6VXNlckNvbW1lbnQ+CiAgICAgIDwvcmRmOkRlc2NyaXB0aW9uPgogICA8L3JkZjpSREY+CjwveDp4bXBtZXRhPgpv8ndCAAAAHGlET1QAAAACAAAAAAAAAPsAAAAoAAAA+wAAAPsAAIkR+wmZbwAAQABJREFUeAHs3Qd81PQbx/EHKKuMMgq07L2nIiqK4gD9OxBxiyICKiAqimxREVSGiigOVFSWuPfCyZKh7KEge7dlbwpF/nmiOZI0d72213X95PWSy84v7yTXvsy3zy/PaWMQBgQQQAABBBBAAAEEEEAAAQQQQAABBBBAAAEEEEAAAQQQQAABBBBAAAEEwkwgD8GYMLuinA4CCCCAAAIIIIAAAggggAACCCCAAAIIIIAAAggggAACCCCAAAIIIICAKUAwhhsBAQQQQAABBBBAAAEEEEAAAQQQQAABBBBAAAEEEEAAAQQQQAABBBBAICwFCMaE5WXlpBBAAAEEEEAAAQQQQAABBBBAAAEEEEAAAQQQQAABBBBAAAEEEEAAAQQIxnAPIIAAAggggAACCCCAAAIIIIAAAggggAACCCCAAAIIIIAAAggggAACCISlAMGYsLysnBQCCCCAAAIIIIAAAggggAACCCCAAAIIIIAAAggggAACCCCAAAIIIIAAwRjuAQQQQAABBBBAAAEEEEAAAQQQQAABBBBAAAEEEEAAAQQQQAABBBBAAIGwFCAYE5aXlZNCAAEEEEAAAQQQQAABBBBAAAEEEEAAAQQQQAABBBBAAAEEEEAAAQQQIBjDPYAAAggggAACCCCAAAIIIIAAAggggAACCCCAAAIIIIAAAggggAACCCAQlgIEY8LysnJSCCCAAAIIIIAAAggggAACCCCAAAIIIIAAAggggAACCCCAAAIIIIAAAgRjuAcQQAABBBBAAAEEEEAAAQQQQAABBBBAAAEEEEAAAQQQQAABBBBAAAEEwlKAYExYXlZOCgEEEEAAAQQQQAABBBBAAAEEEEAAAQQQQAABBBBAAAEEEEAAAQQQQIBgDPcAAggggAACCCCAAAIIIIAAAggggAACCCCAAAIIIIAAAggggAACCCCAQFgKEIwJy8vKSSGAAAIIIIAAAggggAACCCCAAAIIIIAAAggggAACCCCAAAIIIIAAAggQjOEeQAABBBBAAAEEEEAAAQQQQAABBBBAAAEEEEAAAQQQQAABBBBAAAEEEAhLAYIxYXlZOSkEEEAAAQQQQAABBBBAAAEEEEAAAQQQQAABBBBAAAEEEEAAAQQQQAABgjHcAwgggAACCCCAAAIIIIAAAggggAACCCCAAAIIIIAAAggggAACCCCAAAJhKUAwJiwvKyeFAAIIIIAAAggggAACCCCAAAIIIIAAAggggAACCCCAAAIIIIAAAgggQDCGewABBBBAAAEEEEAAAQQQQAABBBBAAAEEEEAAAQQQQAABBBBAAAEEEEAgLAUIxoTlZeWkEEAAAQQQQAABBBBAAAEEEEAAAQQQQAABBBBAAAEEEEAAAQQQQAABBAjGcA8ggAACCCCAAAIIIIAAAggggAACCCCAAAIIIIAAAggggAACCCCAAAIIhKUAwZiwvKycFAIIIIAAAggggAACCCCAAAIIIIAAAggggAACCCCAAAIIIIAAAggggADBGO4BBBBAAAEEEEAAAQQQQAABBBBAAAEEEEAAAQQQQAABBBBAAAEEEEAAgbAUIBgTlpeVk0IAAQQQQAABBBBAAAEEEEAAAQQQQAABBBBAAAEEEEAAAQQQQAABBBAgGMM9gAACCCCAAAIIIIAAAggggAACCCCAAAIIIIAAAggggAACCCCAAAIIIBCWAgRjwvKyclIIIIAAAggggAACCCCAAAIIIIAAAggggAACCCCAAAIIIIAAAggggAACBGO4BxBAAAEEEEAAAQQQQAABBBBAAAEEEEAAAQQQQAABBBBAAAEEEEAAAQTCUoBgTFheVk4KAQQQQAABBBBAAAEEEEAAAQQQQAABBBBAAAEEEEAAgcwROH36tBw4eEgOHT4sR44ck2PHjkniiRNy8mSSnDp1SnQ5AwIZIZAnTx7Jly+f5M8fIQULFJDChQtLkSKFpVjRohJVvJjo8tw68Fzm1iufuvPOLc8QwZjU3ResjQACCCCAAAIIIIAAAggggAACCCCAAAIIIIAAAggggECuF0hMPCG79uyRPXv2yb79B6RYsaJS3AgjFCkSaYQTCkmhggXNsIKGFnJzOCHX3ygZDKDhDw1faQjreGKiEco6boSzjspBI6R16NBhKVkiSkqXLillSpeWggULZHBrsn73PJdZfw1yWgtyyzNEMCan3Zm0FwEEEEAAAQQQQAABBBBAAAEEEEAAAQQQQAABBBBAAIEsEti9Z6/sjEswwzBlo0uboYNSJUuYVTuyqEkcFgFPAQ3M7N233wxvJezeY4ZkYmPKSnTpUp7r5+SZPJc5+epl37aH0zNEMCb73me0DAEEEEAAAQQQQAABBBBAAAEEEEAAAQQQQAABBBBAAIFsIRCfsFu2bt9hVn8pH1NOYsqVoRJMtrgyNCIYAa2KERe/S3bExZtde1WqUF7KlY0OZtNsvQ7PZba+PGHVuJz+DBGMCavbkZNBAAEEEEAAAQQQQAABBBBAAAEEEEAAAQQQQAABBBBAIHQC+w8clI2btshpY5eVK5YPy2obodNiTzlBQKurbNlmhLyMxlarWllKRBXPCc12tJHn0sHBRCYL5MRniGBMJt8kHA4BBBBAAAEEEEAAAQQQQAABBBBAAAEEEEAAAQQQQACBnCCwbsMmiU/YJdWrVhHtgoYBgXAS0C7BNmzabFSOKSM1q1fNMafGc5ljLlXYNzQnPUMEY8L+duQEEUAAAQQQQAABBBBAAAEEEEAAAQQQQAABBBBAAAEEEAhe4NDhI7Jm7XopGhkpNWtUlYiIiOA3Zk0EcpBAUlKSrFu/SQ4fPSp1atWQYkWLZNvW81xm20uTqxuWU54hgjG5+jbl5BFAAAEEEEAAAQQQQAABBBBAAAEEEEAAAQQQQAABBBA4IxCfsFv+WrNWatesLuVjy51ZwBgCYSywY2e8/L1ug9SrU8uoIBOd7c6U5zLbXRIa5BLI7s8QwRjXBWMSAQQQQAABBBBAAAEEEEAAAQQQQAABBBBAAAEEEEAAgdwosHX7Dtm6bYfUr1tbSkQVz40EnHMuFth/4KD8ufpvqVSxvFSqUD7bSPBcZptLQUNSEMiuz5A2m2BMChePxQgggAACCCCAAAIIIIAAAggggAACCCCAAAIIIIAAAgiEu8DmrdslPmGXNKpfVwoXLhTup8v5IeApcOzYcVnx52qjakwZqVKpguc6mTmT5zIztTlWKASy2zNknRPBGEuCTwQQQAABBBBAAAEEEEAAAQQQQAABBBBAAAEEEEAAAQRyoYBWpNgZlyBNGtaTggUL5kIBThmBMwKJiYmybOVfEhtTNksrx/BcnrkmjOUsgezyDNnVCMbYNRhHAAEEEEAAAQQQQAABBBBAAAEEEEAAAQQQQAABBBBAIBcJxCfslvUbN0mzxg2pFJOLrjunGlhAq14sWb5SalSralSPiQ68cgYs5bnMAFR2makCWf0MuU+WYIxbhGkEEEAAAQQQQAABBBBAAAEEEEAAAQQQQAABBBBAAAEEcoHAocNHZNGS5dK0cQMpEVU8F5wxp4hA8AL7DxyUpctXydnNGkuxokWC3zCda/JcphOQzbONQFY9Q14ABGO8VJiHAAIIIIAAAggggAACCCCAAAIIIIAAAggggAACCCCAQJgLLDRCMeVjykn52HJhfqacHgJpE9ixM152xMVLcyMck1kDz2VmSXOczBDIimfI67wIxnipMA8BBBBAAAEEEEAAAQQQQAABBBBAAAEEEEAAAQQQQACBMBZYt2GTJJ1Mkrp1aobxWXJqCKRfYPWadRKRP0JqVq+a/p2lsAeeyxSAWJwjBTLzGfIHRDDGnwzzEUAAAQQQQAABBBBAAAEEEEAAAQQQQAABBBBAAAEEEAhDAe3eYtVfa+Tc5s0kIiIiDM+QU0IgdAJJSUmyYOESaVCvToZ2OcZzGbprxp6yl0BmPUOBzppgTCAdliGAAAIIIIAAAggggAACCCCAAAIIIIAAAggggAACCCAQZgJLlq2UmHJlJTambJidGaeDQMYI7IxLkLj4BGnWpGHGHMDYK89lhtGy42wgkBnPUKDTJBgTSIdlCCCAAAIIIIAAAggggAACCCCAAAIIIIAAAggggAACCISRQHzCbtm+M07OysAX/GHExakg4BNYbATKKsTGSLmy0b55oRrhuQyVJPvJzgIZ+QyldN4EY1ISYjkCCCCAAAIIIIAAAggggAACCCCAAAIIIIAAAggggAACYSKwcMlyqVq5okSXLhUmZ8RpIJA5Arv37JVNW7ZJ82aNQ35AnsuQk7LDbCiQkc9QSqdLMCYlIZYjgAACCCCAAAIIIIAAAggggAACCCCAAAIIIIAAAgggEAYC+lJy89btcnbTRmFwNpwCApkvsGjpCqlSqUJIg2U8l5l/HTli1glkxDMUzNkQjAlGiXUQQAABBBBAAAEEEEAAAQQQQAABBBBAAAEEEEAAAQQQyOECK1atNl/ox8aUzfIzOX36tPzzzz9mO/Lly5fl7aEBCAQjsDMuQTTI0qhB3WBWD2qd7PRcBtNgfW71+dWBZzcYMdaxC2TEM2Tfv79xgjH+ZJiPAAIIIIAAAggggAACCCCAAAIIIIAAAggggAACCCCAQJgIJCaekAULl0irli0kT548WX5WH370sfTvP9Bsx+RJ78qFF16Q5W2iAQikJKCBkNlzf5dzmzeTggULpLR6isuz+rk8deqU/PrrDJn+ww+ybNlyiYuLl+PHj0tsbIxUqlRJ2rZtI1df9T8pXbq071y6dLlHfp0xw5xet3Z12IZjNAC0ZcsWWbFipezbt09KliwpNWvWlHr1QheK8qHmopFQP0PB0hGMCVaK9RBAAAEEEEAAAQQQQAABBBBAAAEEEEAAAQQQQAABBBDIoQLbduyUw4eOSN06NbPFGWSHYMzJkydl2LCn/XoUKFBA6tevJw0a1DdfiOfk6hg//viTzJ49x/Nc9TzLlSsrMTEx0qJFC3Pcc0VmmgKr16yTosWKSMXysekWycrncs2aNfJo3/6ycuWqgOeRP39+uadbV+nVq6cULlxYMjoYE+he1YbGGKGdRg0bms9lqVKlArY9rQsPHDgg3brdJwsXLXLsQp+ReXNnO+Zlt4kXx74ke42qRtbQp8/DEhUVZU1mi89QPkPBnlCuDcZo+u3c8/wnT7/5+ku+9IO9i1JY77ff5spDvR/xXKtNm8vl2WeGey7LKTPv7/WgLFjwu2dz33pzvDRt2sRzGTOzXuDOTp3lr79Wezbk/WlTjV9ya3guYyYCCCCAAAIIIIAAAggggAACCCCAAAIIIIAAAjlNYNmKP6V8bDkpE32m8kNWnkN2CMYcO3ZM6jdoHDTDM08Pk9tuuzXo9bPTii+MeVFefvmVoJp06SWt5dFH+2RIZQytSrJnzx5fO5o1a2ZU4ijhm84JI7t275EdO+OlSaP66W5uVjyX+p78tdfGy0svjxMNh1mDVpKqWrWqlCkTLVu3bpP4+Hhfd2e6TpUqVUSrOz3xxNAMrRiTmnu1WbOm8sb41yQ6Oto6jXR/aqWYq6+5TlavTv4O8cYbO8joUSPTfYyM3MHFrS81Kt1s9R1i3tw5RuitnG86O4yE8hkK9nxydTCmZi3/ZY6y4w0S7EXNbuv98suv0rXbvZ7NusoovfXKuJc8l+WUmR07dpK58+Z5NvejD6dJ8+bNPZcxM+sF/nfVtZ4/1LRl3337ldSt6/87IutbTwsQQAABBBBAAAEEEEAAAQQQQAABBBBAAAEEEAhOQLuumDlnvtmNUnapepITgzGq3a/fo9Kj+33BwWejtVITNrCaPXLks3LzTTdakyH57N7jfpk+/QffvsaMeV7aX9fON50TRjRYot0pXXzheenqliyrnsv7uveUH3740UfdqtWF0rNHd2nYsIEULVrUN3/37t0ybdoHMnHSZF+YSSsLRRWPkr/XrjXXy4iulFJ7r1auXEnemzpZKlSo4Gt7ekbWr98gl7e5ItkuihQpIkOGDJZbbr4p2bLsNCMnBGNC9Qylxp1gjB8tgjF+YNIwm2AMwZg03DaZsgnBmExh5iAIIIAAAggggAACCCCAAAIIIIAAAggggAACWSyw/8BBWb9xs5zdtFEWt+TM4bNrMKZatWoSEZFPEhMTHVUXzrRc5J2335LWrS+2z8r246kNG1gnFOpzDYdgjNosWrpCalSrIiWiiltUqf7Miufys88+l0f69DXbqt0iDRjQT+68o2PAgI8GZB54sLfMn78g2TlmRjBGAynl/+u2aofRJdyRI0eStUNDPV99+Xmy+WmZ8dHHnxgBuAG+TfUP6T/84D0zNKTVZLJLuNDXQNdITgjGaJND8Qy5Tj3gJMEYPzwEY/zApGE2wRiCMWm4bTJlE4IxmcLMQRBAAAEEEEAAAQQQQAABBBBAAAEEEEAAAQSyWGDr9h1y/Fii1KpZLYtbcubw2TUYM3/eb6JVMXQ4fvy4/PjjT/LgQw+fabgxdu+93WTggP6OefaJvXv3yq5du4wuacoY3QSV9AwdJCUliVZNsIb8+fNL3rx5rUlzma5jDREREY4X8rqtfbl2g1OgQAFr9WSf7mBMp053ytAnHzfX27Ztu6xctcoMPkycOMmxrYYS5syeKSVKRDnm2yeOHj1qdL2zVaKiSpjd8HgFB6z23ntfD5k1a7Zv8xHPPi3t219nThcsWNA33z6iYYSdO3fKsWPHzS5h7FVN7Otl5vjadRulUOGCUqlC+TQfNrOfy/j4BGl7xf/k4MGD5r2mVVbOPbdFUO3X63fXXV3kt7lzHetnRjDGfq/qwfVeGDBwsOM+0vlLFi/0e5/qOev5FykSKbGxsZ7PpHWPjh37srz2+njdpTl07HibDHlssDluPafu59d6PrUK0Lp1603fGjWq/7eHMx96jISEBDl06JBUrFhJIiMLn1mYwph2e6VdXOXLl9f4jionhQoV8twiUDBGj7tr126jy6wqju8bzx1l8MxQPEOpaSLBGD9aBGP8wKRhNsEYgjFpuG0yZROCMZnCzEEQQAABBBBAAAEEEEAAAQQQQAABBBBAAAEEslhg9d/rpXixolI+tlwWt+TM4XNCMMZq7csvvyIaLLEGr+oUa9euk5GjRpvhEntFCw2W3HbrLUaooJPxIvxMVy833XSrLFy0yNqlvDLuJbnqqv/5pu/v9aB8++13vunbbrtVnnl6mG96ytT3jG5dnvBNX3RRK5n47tu+afdIoGCMfd23JrwtTz/9rH2WDB/2lGg4wD4cOHBARj/3vMyePSdZZR09j25du0izZk19mzw7YqS88cZbvmmvkY0b/u2ex1r288+/yOuvv+Fw0mUxMTHSrVsXs0ubrArJ7NgZLwcPHZa6tWtYzU31Z2Y/l/ZqPSmFuzR8oiEM+7Bnzx7p/XAfOXHihG92VgRj9ODHjh2T+g0a+9qhIxMmvCmXXtLaN09DKvo9M8G4p/X5tA/6vAw0quVoNRhrmDxlqjz++JPWpOfnu+9MkIsvvsh89vQZtAZ9fvcYgbhXX31d4uLizNkb1v/tC+Bs3rJFXjOWffDhR9Ym5qd2A3XLLTfLPd26ioZu3MPRo8fk5XHjRJ8F9znUqlXT7NatXbtrHaE5r2DMXCPQpN1iWd85+r2kVa+eePwxM8DnPm5mTIfiGUpNOwnG+NEiGOMHJg2zCcYQjEnDbZMpmxCMyRRmDoIAAggggAACCCCAAAIIIIAAAggggAACCCCQxQJLlq2UqlUqSckAVT8yuolaqUD/K1/+3wob/oIxGzdulAoVKgSsfhKqtnq9XLdXjLGOo1VjtNKJfbAHAt5//wMZOOgx++Jk4/oi+ssvPpPq1f+t2jNq1HOOqhRdu9wtjz02yNxOK6Q0bnKWo8sYfYE+c8Yvvv0+/Mij8vnnX/imBw8eaIZRfDNcI8EGY3SzAQMGOV7ga8Dl00/OvNBftHix3HdfT9GgRKDBHvYZPvwZmfD2O4FWFysYo1U1HjNCP+oaaGjcuLFMe29KqqpuBNpfapbt239ANm3eKs2aNEzNZo51M/O53G+0t/k555qViLS7sO+/+zrgM/bKq6/Jc8+94Giv14T9OfBanpZ5wd6rWv3GHhbp1+9RMyhiHdO9H2u+/VMrP2lISAetlvTk0DPhM/t61ri/YIw+v+772wrGaEWm9tffEPB50ZCLdlum333WoJVnuna7J1nwzFpufd54YwcZOeJZXwUYdzBGA3WDBg+xVnd8ajDo/WlTjGpP/itCOTYI4UQonqHUNIdgjB8tgjF+YNIwm2AMwZg03DaZsgnBmExh5iAIIIAAAggggAACCCCAAAIIIIAAAggggAACWSww/4/F0qRhfSlc2LvrjYxungZi7uzUWXbv3iPafYuGPLyCMStXrjLWu0uaNW1mVAp5JeCL+1C0OdhgzLhxr8rzL4zxHdJeMWb79u1yYavWvmWBRjSQ8MvPP5iraJc0d9xxl291fUH93bdfmdP6QrxN2yt9y6yReXNnm9VSdLr5Oec5XrR//dUX0qBBfWvVZJ/ukIC7exr7BlqpRivW2AcrAKGhlTZt/ycaYApmsNqcmmDM119/Iw882DuY3Uvnzp2MqhfeL/2D2kEaV9JunZat/FPOO+esNO5BJDOfyy+/+loe+q9LsLvvvkseHxI4yJXdgzFez669YoyGVPSeC2bQ0JeGv4IJxkyZPFEuuKBlsooxXsfRYIyGx2648eYUwy26vVZw0XCMNTw25HGZOnWaNWl+asBOu1Byh9LGjHle2l/XzlzHHYxx7MBjItB3gcfqIZsVimcoNY0hGONHK6ODMVq6af/+/UYppXjZ+V85perVqkqlSpUcpY78NC/o2frDWPsJ02MdM/pBLFu2jFEmL9b4LBuS42ifgdu2bZNtRt+UeY2+C+vVq+frd9FqZKiDMVp+Tt20DNXhw4eNX54qm/2gFS4cfB9s2rbExERH34tWe/VTv1Cs/g/1i3Xd+vWydctWcxXtC/Kcc5pLRESEOd2xYyeZO2+eOe7+56MPp0nz5s5gjJYe0+ti1M6SqOJRZtm81LbdfRxrWsvWxccb99TOOPN6lykTLTFGH3N6vb3Kb1nbpeZTf+HZvHmL7N23V/bv229uWi6mnMQaZetKly7tKwkWzD61/Nfp0/8kW1X7wYyMjPTN32ccZ/36deZ55Tf6x6xg9NfYqKH/BK4mqbV/vm3/3f+VKlYUTVq6+6YkGOMjZgQBBBBAAAEEEEAAAQQQQAABBBBAAAEEEEAgjAVmz/1dzm9xlu/dRmafqlZh0JfOOmg3OFqhYMHvf0j//gPNeZMnvWtULChuhGLuFn3XocOA/v2MqiT3mOMZ9Y/Xy3V7xRhty48//ix9+/V3NEHbpe3TYehTw+Tdd/89N51u0+ZyGfrk4+a7menTf0gWMLH273XsFcuXiHYNpN2taNUW9/DySy/KNddcbb4jO79lK99ifVm+fNliX8UI3wLbSGqCMX+vXStXXHGVbWuRP36fJ9HR0fK9cU49etzvW6bX852335TatWvLunXrpMMNNzsq3VhVYw4ePGh0f3NcOt/dVVavXu3bXqt8dLj+ejMEVbJkCeO90Wm54sqrHJVAHnm4t9EV1Z3mu7uXXh7n6JLJHjby7TQTRpKSkmTe74ulVcsWaT5aZj6X9u7AxrzwnLRvf13AdmtVoAULfg+4ji7s0f2+VL0bTHGHxgqB7lXrPaV2I+Z+P7t0yUKz8smqVX/KNdc6z2/o0CfkOqPLId3+XeO7SD2sQd8hTv/+W7N7pkNG91hjjG7T7F0eXX31VTLkscHm6vruNW/evJ7BGH0Obze6PKtVu5bEGe9qH3jgfrF3X6U70CpHI0c8LTVq1BBtZ4+evczn2WrL66+9Yjx7bc12Nml6tuNZ0ut2nRF+0feob775ljzz7EhrM/N7543xr5nTXsGY669vL5dfdqksXrxE3v/gQ8d+7aE83w4zYSQUz1Bqmkkwxo9WRgVjNBTx0UefyKTJU5IluaymaMq0SZPG0v2++xx9DVrLU/rUY7w+/k354YcfHQ+Sezs9Ttcud5v9FRYwwgapGZYuXWb8kJ8oX3z5b3LVvq2GIzTRNnjQQNEfYKEIxmgY5isjyThx0hTHD0v7cTVd3NAIS3Q2+mjU4EpKg5a081eCbfr335hfSFOMvuRGG2XC7H1B6n5nzfzVCDFVNA8RTDAmPj5Bhg1/WmbMmJlsX7oTLXHV+a67AiZ5zYN5/KMhoY8/+cT8pcudDrSvrr+I6Zdxq1YX+kI/9uUpjesPwIkTJ5vX0+1h3/Yy40u1S5fOcv5556X4g1B/abP62bPvQ39wrFyx1PzlV3/Befvtd+2LzV+aNWHsHjQo9emnnxmlB9/w3K/+sLnPKIdm9dFJMMYtyDQCCCCAAAIIIIAAAggggAACCCCAAAIIIIBAOArMmD1PLr4w5f9vn1Hnrn8oq12CzJ+/wDxEuXJlzRfz4433WTpo8OHNtyaYXS3ptL6IHvviC2l6n6HbBzt4hVN0W33Xddz4g3N/70Os7lR03a1bt0l8Qrzs27tP9hl/qN62TRsp8V+XVRryaNS4mWM/kya+Y76r0W3v6txFZs06875jyhSjGkXLlvJo3/7yySef6iqO4c47OspTTz0p330/XXoaL9StQV96v/D8aGvS8zNQ2MC9wYkTJ6RO3QaO2dOnfyu1a9WSvXv3mtUv9u7bJweM861fv57UqVPHt65WmtGKM9bQq1dP6fPIw9ZksqCAvdKFrqRma9asMf7o/4DsM46h10FDHBoG0EFDNfp+xz6sWrnM8QfX9mUZNa7tnDlnvrRudX6aD5GZz6UGSaZMfc9s6w/TvzP/oDzNDc/gDd33qh5On0kd/L0L1XeAX3z+ibnOiJGjxPpu0RkPPfSA9H7IWQGp2z33yc8/n+mazKpspOvbQ0Q6bQ/C6bQOdk+d1nebn336scNV79+zznYGp6zwjm6jw4qVK6Vdu+v/nTD+7djxNhk+7CnzHWnTZs733RqM0+9GfRY04KPBOy00UKx4MTO0VsUoJqGDOxijgSB9zqxnyF6ty9zA+CenPkNW+4P5JBjjRynUwRi9OUeOHG3+UPdzSM/ZWsaqU6c7gv7Br2WwBhmBD38/qL0Ool8kD/d+yHzQvJbb56XmPDQhOt4oc6dl8bp2u9e+G9+4BhQ0KRpo+PyLL+Xhh/sEWiXZMv3S6Pton4D9oQUKxmi/eu9N+0AmTZqcbN86IzXBmFOn/jHTwP6+qO0H0Oug6UHri8m+zD2u12LU6OccqVj3Ol7TGiB69ZVxQYdw9Jefl14aJ1oyLTWDpgs1Ed2ixTl+NwsUjPl9wVy57fY7Zfny5cm213vLHYzRX4TuuLOz3x+I9p1ocEeT3O2u6+A3aKXlCvUcGBBAAAEEEEAAAQQQQAABBBBAAAEEEEAAAQQQyOkCv86aK5dc1DJLT0NDKN263ZesyoO7Uddee41oZQSrsr97eSin/QVjAh1D331o1yNeg/4x83qjFwKtvK+9B8z5bW6y9xz27l70D4P1D6utQQMkGiRxd5NkLbeqozzzzAjHO8dgKoC4wwaBuk/RP2q2V6TR48+ZPcOo6F/Baor5qRV1tNeFjRs2yY4dO2TZsmXyy68zHOu4QwXuChruYIx9Y30XtnXrVqMSjdGzgxFA2rxlixkGcP/RtTtsYN9HRo6n97lK7/apObenn35W3prwtrmJV48XqdlXRq/rvldTOp6+z9MuiGKMHi50uPmW2+SPPxb6NtOCCuee6wyozJ+3QBYuWuRbZ+rUSdLy/H9DTmkJxniF0+bNmy+3d3R+V+jzbR9OJZ0y/uB/vG9W87PPNopsvG9Oe30P6HeAFkHQAhiNGzV0hNKsnbiDMa8ZVWiuNKrQWMPu3bvlnBb/nqs1b/asGWkq2GFtn9bPzHwGCMb4uUqhDMZoGqxXr4dS/EHvpynmjf3aq68EvBn1B8/gxx6Xb7751t9uUpz/9PBhcvvtt/pdT3/4aMpT02fBDpqO69+/rzz++JOemwQKxujx0hImsg6kgZ+xY18wk7XWPPtnoGDM/T17BAyCBBuMGfHs0zJg4GD7YVMcv+GGDjJq5LMBy91pGveBB3qn+Z7SRgTzS5KWynvooUf8hkdSPBljhS+//Mxvt0eBgjHq4C+Y5A7GaCm3W2/rGExzfOt0736vUcFnlt9zIxjjo2IEAQQQQAABBBBAAAEEEEAAAQQQQAABBBBAIIcLZGZlikBUWv1DKzX8ZgRGvAatbPC8UfkkM0IxevzUBmOsbk7cbdcKKfpye+XKVe5FyabtwRh39ZOLLmplVou46OJLfNsNGtjf0WXKgvlz5Z57uzsCN8G813SHDQIFY2bPniOd7rrb1wYdWf3XSilYsKA5b8WKFfLyuFeNbqZ+cqzjNZGWYMzJkydlwoR3zCBHMH94nhXBmJxWMUYrMmmgSgctzHD33Xd5Xa5sMc99r6bUKO1GrFixYr7V/L1/9K3gMTJs2FC5o+Pt5pK0BGMGDRog93Tr6thzWoo/WL1q6I60IMZDD52ptuTY+X8TWhBBq+HYqyq5gzFffvGpNGrUyLF5teq1HNNZEYwJxTPkOIkUJgjG+AEK5geIn00dszXccdPNt8qSJUsd81M7oQm1KUb5NK9KInrTdOl6j9lNT2r3615f+x7TLne8BndfZV7rpHZeoGDMyFGj5XWjS5z0DPrloQ+ydunkHgIFY9zruqeDDca4twt2WgM1t9xys+fq2t/aDTfe4viFx3PFIGa++cbrcvnll3muqWGryy6/IqgKLJ47+G+mXoNvvv5CqlSpkmy1tPxg0p3YgzGhaqe7cQRj3CJMI4AAAggggAACCCCAAAIIIIAAAggggAACCORUgdlzf5fzW5wlERERWX4KGo7RYMecOb852qIvdp8bPTLTQjF6cK9gjL4cL1+hvFG14RPZuHGjo41TJhtdHV3Q0jHvvffeN/54fYhjXqAJezDmn3/+kcZNznL0BDF61Ejp26+/uQt9x/LH7/OkfoPGvl3al+tMq4qMbwU/I+6wQaBgjPudoP4x+sI/5pt71lCMVuQPdkhtMEZNHnnkUfniy688D6FtcYdlsiIYo+/r5v2+WFq1dFYi8Wy0n5mZ+VxqBRWtpKKDPmv6B/TZdXDfq9rOfv0eFa2u8vwLYxzN1gorH344zfEOPS3vHwcO6C/33tvN3HdagjGPPTZIunZxhsk+//wLedi4l1M7bNyw1rfJL7/8KsONaj/u7yLfCv+NaE8Z+qzpkFOCMaF4hv47/aA+CMb4YQpVMGackZZ0P6B+DpnibH8VPoJJi6W48/9W0B+wSxb/Ifnz53dssmnTJrnk0jaOeaGY8BeMSUsFEH/tueXmm2TEiGeSLc7OwRi9Dj//9INoH5vuYezYl+XFsYG7n3Jv429aj/PrLz9KmTJlkq0yaPAQmTbt31JdyRamcsYVRnkuTVG7h7T8YNJ92IMx6bmO7vbYpwnG2DUYRwABBBBAAAEEEEAAAQQQQAABBBBAAAEEEMjJAvP/WCxNGtaXwoULZcppbNu2XZKSTprvm9zd72gDEhMT5d77esisWbPN9nTocL2MHjXCs5q+dp9z2ghLFCpUyHw/EMoT8ArGzJ/3m/l+Rv8wvf31Nzr+UFm7bPn6q8994R39A/mateo6mnTpJa3lZuPdVN16daWi0fVQ57u7OkJA9mCMbvho3/7yySef+vZRq1ZNWbt2nTl9440dDJeRcneXbr4/kNcgjP0lub7M15f6KQ3usIG/YMyaNWvMP9A+cuSIb5dahb9/v77mtF43e6UYbU+PHvdJk8aNzD+SnvD2OzJ69PO+bVMbjNGqO9e2a+/bXkc6d+5k/qF3rZq1JDq6tNSoWcexPCuCMceOHZdlK/+U8845y9GW1Exk5nOpgSPtPkd7pYiMLCzfffuNaLWR7DgEuldnzJhpPg/2do9//VVp2/bMe+wON9zkKFrx0tgx0rKls+sg+/Y6HhkZaXw/FjZnhyoYo5Wx7rjzTGUe9f70k4/ch042reEv97B+/QbznFauWmV+b9q/A6x1161dbX435ZRgTCieIevcg/kkGONHKRTBGL1BL29zhZ8j/Pty/447bpfzzjtXSpYoaf5g1fSjPtBeg4YYZs/61ah+UtKx+KabbnX0gWZfqA/YXZ06GQ/7eVK+fHmj65358umnnzl+YNnX13Htg61164sds4cMeUKmTH3PMc89ceGFF8jll11q/JJTQJYsXSIff3zmh7h7XWvaKxijv0Rc2Kq1uPsHtLbRTy1FpV9g1atXN345WCszZ86SyVOm2ldxjE97b4rpbJ+Z2kCF/iKyd+8+M4Walooxt912q9GlUAMjfXxcvp8+3dG3nb1d1njPHt2lb98+1qT5qV0bXXHFVY557gkNAmnSU0uGqc2YF8fKli1b3av5prWvTv2BYB/0l52GjZraZznG9Z69oUMHIxV9vpHAzGv4z5R3J0722y2Rbuz1S0lqgjF6/5cvH2v0UbnTPLd5c2eb94juI9Cg23W68w6pWq2qee3ef/+DgB7WvgjGWBJ8IoAAAggggAACCCCAAAIIIIAAAggggAACCOR0gSXLVkrVKpWM91FRmXIqrS5qLRqOqV69mvmHwF4HPXHihNzXvacZdBg54lnPUIxup9VSNMDSvHlz+cioDBHKIVAwRo8zz3ivdnvHOx2HtP8huwZY2l7xP99yfZc0/ftvfdUr9J1Xk6ZnOyrCuIMxgbpbGTPmeWl/XTuZOHGSPDl0mO849pF335kgF198kX2W53igsIFuoG3VUErXbvcmq8hif2ei74/soRmtJGN/kX9/rwdFu5ayhpSCMaOMQNRNN95grW7+0bb+8bY1aCjmicfPTLu7n9L1vN5BWdtn1Oe+/Qdk0+at0qxJwzQfIrOfy3femShPDRtutrdFi3Pk/WlTffdqmk8iAzZM6V7VyjdaAcca9H24FhywKmI9/viTjvfG9/fsIY8++oi1uvm5aPFi0Xf5xYsXN947FpW6der47uNQBWPi4uLl/JYXOo67eNEfjp5O9HtQ36kXNdpQtGhRKV2qlDRp0li2b98ua/5eK0cOHzafNy1ycJnxHt4aPvvsc3mkz79hNWvenNkzRIOIOSUYE4pnyDr3YD4JxvhRCkUw5rnnXpBXXn3N8wha8eKTjz8wwyr2FfSHTh/jJvZXHsyd+ty9e7eZ7rPvwz7+/XdfSx3jQbYPeoxA3TsNeWywdOnS2beJ1w9t38L/RoY++bhostQ+LFy0SDS0E2jwCsZ49Vto34dXmTpdrsEY/aLzGjTBqz+07UMwwZj/XXmFUXbqXmnQoL7vy3Tfvn3ml6TVv2XHjp2MwNE8+66TjX/7zVdSz0gG2wf3l6p9mY7rl/jMGb84ZqfUvdTgwQOlW9cujm0OG1+YrS+5PNkvMfaV3F/C30//wUj33m9fxTeu7fru26/N5KRvpjGSkLBLzj3PWT7QvvzLLz8zgkHOXw6CCcZov3ga3qlWrar5w1kTrZpmjY6ONsNaGtryN2hbv/j8Mylh+0Vfy3J1N87t55+dtu592H/Jcy9jGgEEEEAAAQQQQAABBBBAAAEEEEAAAQQQQACBnCSw+u/1Utx48Vo+tlymNDuYYIw25OTJk2aFg7x58/ptV1YGY7RRd3Xu4qtso9P6jk+r8WsFmw0bNspll7fV2eagf6z725yZEhUVJVpxZtTo5+T119+wFpuf7mBMfHyCnHf+BY51rAmres3ff/8tV1x5tTXb8blq5bJk72wcK/w34Q4b6DuU1q1bm9V4NCDg712X+91k83POc7xzem/qZDn//PPMo/zww49m2Ml+fHcwZsCAQfLBh2eqZrQ8/3zp3/9RKWRU66hdq5a5TNexBv1jbT1Gnjx5RN959ejZy1GBR9fLimDMjp3xcvDQYalbu4bV1FR/ZvZzqffkbbffIdpzhw697u9pdFvVO6hwjL73rVG9hiPUkeoTDnID973qrm60ZMlS0aow9uHp4cPk9tv/fS9t7zbKWueZp4dJu3bXij6jGnjT7tzsAa/p338jtWvXNld3v8N138O6kruohFdXSrqe+z1y48aNzW6sqlWrKocOHZKnjW6SPvzoY13VHK6++ioZ9/JYs5CGVoqyDxoM1ICgvivVghZPPDHUt1jDab8vmGsGDHNKMCYUz5APIIgRgjF+kNIbjNEwybnnXeD4wWA/lAYe9AeO16Db/u+qa3xl0uzruPsJ1HU3btwk+/fvM6uZaGhjr/63Z6+ZJrvmGu8fkoECFvZyaHrs33//Q2659XZ7MxzjWl3m7Qlven5pur84HBsaE17BGHfJOPs2WtlEQxL+BncC0L6e9cuDNS+lYMz117c3y/ZZARhrO/en+wvNvdwrNKTr6LW79daOfqv96Dr2cEZK95R+kX76yYe+8n26vTV4lRWzlunniGeflltuudk3S38QbN26Vfbt22/8d+ae2mfcZzfecIMZFPKtbBvR0naaJvYavCoRpRSMsf8Q89qn/vCeP3+B1yJz3sdG+Ozss5KXsNNAmYaF7D/w3Dux27uXMY0AAggggAACCCCAAAIIIIAAAggggAACCCCAQE4S2Lp9hxw/lii1albLlGYHG4wJpjFZHYxZtepPueba6xxNHTRogNm7gQYNtHuaPXv2OJY3P/ts2bhpU7L5upI7GKPztOqM1X2STuug1Wd+mP5v5RV/x9FQydSpk/7dIIV/3WGDFFY3F+v+33nnLSlQoIBvda1SodUq7ENDo8eEI0eOOrp4spa7QwXas0WfR/tZi32fzZo1NbuZ2WS4XXLpmW5xdAV96V+talW/79SyIhizdt1GI8xTUCpVKO87h9SOZPZzqe3bunWbXPm/q+Xo0aNmc1sYlWO0uy5/7621osnzL4yRt9562yjGUFumTpmc4eEY973qDsZow/WP4Kcbf+hvDRp4WTD/NzP4ovOeeWaEvPnWBGtxwE/3+2r3+233Paw7CzYYo/fzjUYhCfd3hL8GWe8nNTTY7Kxzkr3L1Gfh+PHjyebbA2w5JRgTimfIn6PXfIIxXirGvPQGY1asWCHtruvguXdNNmrXPoGGQMEVd8Aj0H68lm3evFluve0Ov10Vde1yt2iqzRr0S0O/PPwNgdoTKOSj+3N/0ej67r4Y7cf9c9VyX/9u9vnW+C+/zpCuXe+xJh2fr4x7yTyeNTNQMEa/PJctXeQZMrG2tz4DBWP0h/jHH33gt/yfXgsNaPgbRo58Vm6+6UZz8fLly+W69mdKybm38apKY1+np5Gg/e776fZZvvFLjf4u9RextA6aTNR0pb2fPPe+3hj/mrRp4zzXQMEY973h3p/+Eli9xr/JTfcynXbfx+51vv76G3ngwd7u2b5p6wePbwYjCCCAAAIIIIAAAggggAACCCCAAAIIIIAAAgjkUIH9Bw7K+o2b5eymjTLlDKxgTJXKleWjj95P1zEvuvhS80XwOec0lw8/mJaufbk3TqkrJWv93r0fcfT2oO+R5syeaVas14ow+l7P36B/9L5x40bfYq9gjNd7QfcfsvfvP9BRWUJ3OHBAf9EX4sEM7rBBStv06tVTtKq/+w/I9Q+W9Q+X/Q0a6LGHfNyhAq2Qc/U17TyDAmtWrzJDOO4qPfZjeQUDsiIYs2jpCqlRrYqUiCpub16qxjP7ubQa991334sWKrDCMZGRhaVt27Zmzw+NGzc0Kh6VkFWrVsly4333jBmzHPdvzx7dpW/fPtauMuTTfa96BWPc3ZhpQx7u/ZA8+GAvs036HlErqmiPI4EGLTyg75ArVqzgWy2UwRjdqVZ86nDDzcnCLL4D/jfi7tUlpXfD1vZaxOL550ZJKaMbJh1ySjAmFM+QZRDMJ8EYP0rpDcYE6opGD3nDDd6hGas5WuHDX3LMXxUMa1vrU6tirFu3XrYYlT927tgp27Zvk2XLljt+GFnr2j+1Kx7tkscavH4YW8u8uiiyllmfjw153Eirev+i4g4/pNQ1VEpuaqZ2XkP/fn1Ff4mwhkDBGKtMlbVuoM9AwZhgfjgECofoDxbdhw4aatFwi79hw/q/Pav2WOtPmjRZnnjyKWvS8emuRORYaJvQAMx2I1W+fv16437abvZvp8lS/SXI3/1qbf7mG6/L5ZdfZk2an4HOPaVqMQcPHjT75XTs0Dbx1pvjHX3t2RaZo3FxcUa/fq3cs33TBGN8FIwggAACCCCAAAIIIIAAAggggAACCCCAAAII5HABfUk8c858adWyRbKgQ0ac2u0d7zT/oDaU+9ZK/y887z+AkpZjJSYmSt16DR2bev1BuNcfOttfwn/08ScycuRox7sS7XLp6eFPyaJFi+XV1173HWPSxHekVasLfdM6Mnv2HOl0192OeVMmT5QLLmjpm/fVV1/Lgw897JvWka++/Fy0Wksww0svjZMxL471u6q+K6pgVD+5xOheSXukKFu2jN919YW9BivsARhdedDA/lKjZk3HH7Hf37OHPProI4596TuaPn36Jeu+6eeffpDq1atJUlKSPDtipHzwwUeOMIEWHxg69AkjmDFAtA3WsHLFUl+lEGteRn7qH/rPnvu7XHzheQHfzaXUhsx+Lu3t0fd7ffv193WrZF/mNV6iRJQRNHlc2l/XzmtxSOe571WvYIwe0N0tl85bvmyxFCtWTEfNLocmvP2OTDHCMVu2bDXnWf/o/d6hQ3vpft+9EhERYc02P197fbyMGvWcb5473KULhg1/Wt5++13fOv66UrJWWLNmjbz08ivy7bf/VoGy5mvI7uyzzzJCbv1E37u7B/3umTDhHc+Ajz7717dvL507d3IUaXBXoPryi0+lUSNnKLJho6aOZyu92Qh3u1OaDtUzlNJx7MsJxtg1bOPpvfiTJk9x9Otl23W6R72SpLpTDS3oD86p702TuXPnOW7m1BzUHYwJ1LXRdUZfbC+++ELA3U+cOEmeHDrMcx13MGb16tVGN1LXeq6b3pnuL61AwZinnnpS7ryjY1CHDBSM0V/Q9Be1QIP2D+cvzGOvehLontI04xeffxLoMDJz5izpfHdXv+ts3LDWc5mmpb8yqqt89OHHfkvUeW7ompnaYExKwRSvX0Lth/zpx+lSo0Z1+yzHeEoVZ1I6vmNnTCCAAAIIIIAAAggggAACCCCAAAIIIIAAAgggkM0Flq34U8rHlpMy0aUzvKVz5vxmvpPQl5+hGAoVKmR2s1OvXvIXx6HYf6j2oX8ArhVRoqOjzWBJnjx5QrXrbLkfrTiyZcsWs7eHihUrpjp0pQGYbdu2GS/180lMTDlHl016wvouRwMcR48eMZbHmhV6sgPErt17ZMfOeGnSqH66m5OZz6W7ser77ruTZNwrr8revXvdi81pDY1ceeUV8viQwVKmjP+wlOfG2WSmvkPftWu36POZP3+EVKpUKWAPJRnZ7KNHj5m9uhwx7uky0WWkXLmyQYWr9Lt0t3HfxcfHGW2PlGrVqiYL9GRku0O971A+Q8G2jWCMH6n0BmNGj37ekf70c5g0zR7zwnPSvr2zL0MNPQx9arijlFWadm5s5A7GBCpX9sjDveWBB+4PeCgNfWj4w2twB2NSCm947SPYebfcfJOMGPGMb/VAwRgvY9+GrpFAwRjtMkvTq4GG4cOfEU0reg324FGgeyqYlHRKQZIVy5dI0aJFHc148823ZKyRID5y5IhjflomUhuMmT1rhqNsmfuYS5YsNcqO3eSe7Zv+e82fxg+3/L5prxHtmsqeKLavQzDGrsE4AggggAACCCCAAAIIIIAAAggggAACCCCAQE4X2Gb0LnD40BGpW6dmppzKypWr5Eujysm+fd4v3INtRNkyZeXGGzsYL4KrBbsJ6yGQoQKr16yTosWKSMXysek+TmY/l14N1uCIVjZaumyZJBjBruPHjxuBjXJStWoVufjii3wVWLy2ZR4CaREI5TMU7PEJxviRSm8wJlD3Q34OGfTs0aNGmr8AWBssWPC73HpbcNVNrG0CfbqDMYEqmtjLxPnb5y+/znCUTLOv5w7GBFrXvl1axvWXJrWzhpwWjAl0T2kXU8+NPnNu1jnaP1MKxixbukiKFy/u2ySlPjF9KwY5ktnBmNV/rZSCBQsGbN217dqL/mLuNRCM8VJhHgIIIIAAAggggAACCCCAAAIIIIAAAggggEBOFUhMPCELFi4xu1MK90omOfUa0e7sL6BVVrQbpXObNzPeQxVId4N5LtNNyA5ymECon6FgT59gjB+p9AZjtE8x7VvM36D9CqZ1GPLYINFAiQ4adrj6muuCruihfZM1N/op22WUipo+/QfPJriDMYG6Urr22mvkpbFjPPdjzdRqKFoVxWtwB2NWrFwp7dpd77WqOS89btdcfZUMHjzQt+/MCMa4Q0y+g9tGAlXksXel9M47E+WpYcNtW54ZDaYrJa/+Kc/sQcTelZL2b3d/rwfti/2Oa9939evXM+6rs+Wnn39O1p+ktWGogzEpBX1+mP6d1KrlP/Wu6dcaNetYzUv2STAmGQkzEEAAAQQQQAABBBBAAAEEEEAAAQQQQAABBHK4wIpVqyW6dCmJjSmbw8+E5iOQNQI74xJk95690qhB6Lr14rnMmmvJUbNGICOeoWDOhGCMH6X0BmO+/vobeeDB3p57t4cdPFdIxcyJEyfJk0OH+d3iwgsvEA2vtDinudlfWr58+cx1P/30M+nzaD/P7dzBmECVSjR4oAGEQEOgAIo7GBMXFy/nt7zQc3fBHMtzQz8zA7UrVF0pde9+r/Tv19dPC/6d3fyc82TPnj2e6/Tt20d69uhuLksprLJh/d8B+6CbNHmKPPHEUM/jVK5cSWbO+MW37N77esiPP/7km3aPaLdUrS9pLc2aNjX7vrOW9+3XXz7++FNr0vEZ6mDMwYMHpUnTsx3HsE+Mf/1Vadu2jX2WY3z79u1yYavWjnn2CYIxdg3GEUAAAQQQQAABBBBAAAEEEEAAAQQQQAABBMJBQF/ob966Xc5u2igcTodzQCDTBRYtXSFVKlUwA2ahOjjPZagk2U9OEMiIZyiY8yYY40cpvcGYP/5YKDffcpvn3oOp7uG5ocfM3r0fkS++/MpjicjAAf3lnnu6eoYlxo17VZ5/wbvSizsY8+ZbE+SZZ0Z4HkNnzv1tlsTGevehd+LECWnT9krZsmWr5/buYMzJkyeldp36nuvqzOXLFoesH7vMCMY0bNhAPv/sE7ECSe4TW7duvenjnm9Njxz5rNx8043m5KLFi40utG6xFiX7/P67r6VOHf8VUHo98JB88823ybbTGRqgmjzpXXOZlq9q1LiZ3ypE70+bKuee28Jc1/3PbbffIfPnL3DPNqdDHYzRdlavUdvzWDqzU6c7ZeiTj/td/tlnn8sjffyHlgjG+KVjAQIIIIAAAggggAACCCCAAAIIIIAAAggggEAOFli4ZLlUrVwxpC/2czAHTUcgaAENsGzask2aN2sc9DbBrshzGawU6+VkgYx8hlJyIRjjRyi9wZjjx49Lvfr+07Yzfv1JqlSp4ufoIjNnzpKffvpZihcvLlFRUcZnMd9448aNfOEQf9VGtHubZUsX+Q1kdLjhJlmyZKnn8d3BmIWLFslNN93qua7O1FDFxHfflrx58yZb57nnXpBXXn0t2XxrhjsYo/MDdS2UUiUXDeC8Pv4Nn5fpZxgWK1bM7FanQoUK1qElM4IxerBBAzWg1M13XGvk1KlT0uGGm2X58uXWrGSf07//RmrX/jf8kZSUJE2bNfcbWNGujN5/f6rnNf/tt7lyx513Jdu/NUMDJBok0UENL259qbXI8dmmzeXyxnjv63no0CFp3OQsx/r2iVAHY3Tfd3bqLHPm/GY/jGP8g/ffkxYtznHM04n4+AS57BRSVPEAAEAASURBVPK2fi11HYIxqsCAAAIIIIAAAggggAACCCCAAAIIIIAAAgggEG4C8Qm7ZfvOODmrScNwOzXOB4EMFVi8bKVUiI2RcmWjQ34cnsuQk7LDbCiQkc9QSqdLMMaPUHqDMbrbAQMGyQcffuR5hJiYGPn0kw89K63s2rVLLrm0jd+X9r/+8qNUrVrV3G+16rU891+6dGlZ+Md8z2W/zTVCEnf4D0m4gzEa4NAua44cOeK5P5055LHB0qVLZ8dyrRyiFUQCDV7BmM8//0IefuRRv5tNmTxRLrigZbLl2s5One6WufPmJVumM0aNGiE33XiDb1lmBWP0gF9++Zk0auj8BXPs2JflxbEv+drjHnF3b6TLhz41TN59d5J7Vd/0k08Mkbvu6uSb1hG9bpe3uVLi4uIc8+0TC+bPlbJly5izVq5cJde2a29f7Bu//vr28sLzo33T9pGUzicjgjFTp06Tx4b4rwqjz9m333wlJUuW8DVVqxJpV1EzZsz0zfMaIRjjpcI8BBBAAAEEEEAAAQQQQAABBBBAAAEEEEAAgXAQWGK84I8pV1ZiY8qGw+lwDghkuMDOuASJM/7wulkGBsp4LjP8MnKALBTIjGco0OkRjAmkk8pl3bvfK/37nemaJaVgiAYfunXrKlrpo3btWrJ79x6ZOWuWPPXUcL8hlLp165qVLKymXXpZW9m4caM16fh88MFect+990hkZKQ5X4MjX331dcDQia7oDsboPA0faAgh0HDRRa3ksssulYIFCohWmfn4408DrW4u8wrGHD582OzKJ9DGffo8LC3OOUcaNWoo2l3T8uUr5JlnR8rq1av9brZo4QIpVaqUb3lmBmP0oB073ma0t5EkGtWEvja6NNLutgINPXt0l759+zhWWbFihbS7roNjnntCj9P+unaSP38Bo/rLFhnz4kt+7xHdVq/ZW2+O9+0mIWGXnHte8uCRtcLrr70il19+ma8yzbFjx+T558fIhLffsVbx/MyIYMzOnTul5QUXeR7PmqnVk+6++y6pUrmK7NmzR96bNs1v117WNvpJMMauwTgCCCCAAAIIIIAAAggggAACCCCAAAIIIIBAOAnsP3BQVv21Rs5t3kwiIiLC6dQ4FwRCLqC9OixYuEQa1KsjJaKKh3z/1g55Li0JPsNNILOeoUBuBGMC6aRy2T1GyGXQoAGOrbTyiVZACdUwetRIufHGM8GI7j3ul+nTfwi4+8aNGxvhmMKiQZ1gBq9gTKDudYLZp791vIIxuu4HH3woAwYO9rdZquffcEMHeW70SMd2mR2McRw8hQkNc/zy84++Ki721VOqGmNfN5jxWTN/lUqVKvpWDaZCkLavnhHSOvXPKb9dcvl2+N9IRgRjdNdDhjwhU6a+5z5cuqcJxqSbkB0ggAACCCCAAAIIIIAAAggggAACCCCAAAIIZGOBdRs2SdLJJKlbp2Y2biVNQyDrBVavWScR+SOkZvWqGd4YnssMJ+YAWSCQmc+Qv9MjGONPJg3zvYIxBw8elCuuvDpgNzbBHkorsrz7zgTJkyePb5Nffp0hXbve45sOxYhXMEb3+8Ybb8mzI5zhkvQez18wRvcbTOgnmONrt1I//vC9ozsd3S47B2NGPPu03HLLzZ6npxVarr7muoBVYDw39Jj5/HOjpEOH65MtGTFylIwf/2ay+emZkVHBmAMHDshll19hVoNJT/vc2xKMcYswjQACCCCAAAIIIIAAAggggAACCCCAAAIIIBBuAguXLJfyMeWkfGy5cDs1zgeBkAjs2BkvO+LipXmzxiHZXzA74bkMRol1copAVjxDXjYEY7xU0jjPKxiju/r777/lnnu7B9V9i79Da3dLb7zxerJwh1b3ePChh+Xbb7/zt6nn/DZtLpcff/zJc5m/YIyWOOr1wEMpVqhx7/SF50fLI33OdDFlXx4oGKOBh94P95EZM2baN0nVuIZiJr77tjRoUD/ZdpkRjBk7dow8ZFyf1AxaEWjkiGclb968fjfbtm27eU8F6jrK78b/LRg8eKDZbZbXetqd0h13dpK1a9d5LfY7L9B9lVHBGG3MggW/y623dfTbLq8F2uXU9u07/N5fBGO81JiHAAIIIIAAAggggAACCCCAAAIIIIAAAgggEE4Chw4fkUVGOKZp4wYZ2kVMOJlxLrlHQLs2Wrp8lZxthGKKFS2SaSfOc5lp1BwogwWy6hnyOi2CMV4qaZznLxiju9PKMf36D0x1qES3vaPj7WYXTYULF9bJZMM///wjY14cK+PGvZpsmdeM1q0vluHDhsqFrVp7LTbDEhqa8Bo0iDNs+DMyceIkr8WOedrdzvjxr0pk4UjpcMNNjmXWRKBgjK6jx3vttfHy/AtjrE2C/mx5/vkyYsQzjm6C7BtnRjDmpx+ny6ZNm+Sh3o/IkSNH7If3HH/ggfvl4d4POaoCea5ozNTKMYMfe1w+++xzf6t4ztfr8sYbr4n6BBoOHTpkhq6CDSZpu2vVriU9e/by3G1GBmP0gH/9tVru7NQ5qMox2rXWsKeelJ73P0AwxvNqMRMBBBBAAAEEEEAAAQQQQAABBBBAAAEEEEAgtwjEJ+yW9Rs3SbPGDaVw4UK55bQ5TwQCChw7dlyWLF8pNapVlXJlowOumxELeS4zQpV9ZqZAVj9D7nPNtcGY06dPS6PGzYIKK7jR/E0HCsZY2yxfvlw+/vhTmTxlqjXL81Mrnfzvyivk7rs7S/Xq1TzXcc/86quvZdKkKbJw0SL3InM6JiZGnnhiiFzRto3s3r1bWpzb0nM9fxVj7CsvWbJU3prwtmelGg1eaPjmiccfkzJlysi6deulTdsr7Zv7xm+99RZ59pnhvml/I1oh5fPPv5Cp700L2C2VHvviiy+S22+7VS64wPv8rGME6i5ozAvPSfv211mrBvy8v9eDng66kQZjatSoLjt27JAnhw6TuXPned5zeqyuXe6Whg0bBDyW10KtGvPBhx/JRx994rlva5vGjRvLXZ3ukCuvvFIiI71DVta61qcGk14e94oR6PpR/FWnOe+8c+WxwYPMqjzffT89VcGYa9u1l5UrV1mHc3zOnjVDKlas4JiX0oSGedTh1dde9wzI1KpVU3r26O67tr2NwNIXX37luds5s2dIhQqpO77njpiJAAIIIIAAAggggAACCCCAAAIIIIAAAggggEA2F9hqVFjfGZcgTRrWk4IFC2bz1tI8BDJWIDExUZat/EtiY8pKpQrlM/ZgAfbOcxkAh0XZWiC7PEN2pFwbjLEjZMW43gzajUtCQoLExcfL4cOHJap4cSlVqpTExsYGHYbxaruGGTYayd61a9eai8uUiZbKlasYIZXooCqReO3T3zwNImzfvt0Iq8RL/gL5pYpxnArGD4g8efL42yRd8/Xcdu6Mk/iEeEmIT5A9e/dKkchIo4upkhIdHS1169aRiIiIdB0jIzfW6j5bt241uyjSrpLUqmLFiqKBnvQO1j0Vb9xP+l++fPmkUKFCEhMbIzHlypkhpfQcQyvU6D2l/idPnpQqVatI5UqVJCoqKj27zZBt9T6Ji4sznzF1KVasmNSuXTvoQFCGNIqdIoAAAggggAACCCCAAAIIIIAAAggggAACCCCQjQU2b91uvH/ZJY3q16VyTDa+TjQtYwW0ysWKP1cbVWLKSJVKWf8H1DyXGXu92XvoBbLbM2SdIcEYS4JPBBBAAAEEEEAAAQQQQAABBBBAAAEEEEAAAQQQQAABBHKxgFao2Lpth9SvW1tKRBXPxRKcem4U2H/goPy5+m+pVLF8llaKcdvzXLpFmM6uAtn1GVIvgjHZ9a6hXQgggAACCCCAAAIIIIAAAggggAACCCCAAAIIIIAAAghkskB8wm75a81aqV2zupSPLZfJR+dwCGSNwI6d8fL3ug1Sr04to1pMdNY0IsBReS4D4LAoWwhk92eIYEy2uE1oBAIIIIAAAggggAACCCCAAAIIIIAAAggggAACCCCAAALZQ+DQ4SOyZu16KRoZKTVrVJWIiIjs0TBagUCIBZKSkmTd+k1y+OhRqVOrhhQrWiTERwjd7nguQ2fJnkInkFOeIYIxobvm7AkBBBBAAAEEEEAAAQQQQAABBBBAAAEEEEAAAQQQQACBsBFYt2GTxCfskupVq0hsTNmwOS9OBAEV2BmXIBs2bTYqxJSRmtWr5hgUnsscc6nCvqE56RkiGBP2tyMniAACCCCAAAIIIIAAAggggAACCCCAAAIIIIAAAggggEDaBPYfOCgbN22R08bmlSuWl+jSpdK2I7ZCIJsI7N6zV7Zs2yF5jPZUq1pZSkQVzyYtC74ZPJfBW7Fm6AVy4jNEMCb09wF7RAABBBBAAAEEEEAAAQQQQAABBBBAAAEEEEAAAQQQQCCsBOITdsvW7UaYIE8eKR9TTmLKlTHHw+okOZmwFTh9+rTExe+SHXHxouOVKpQ3KsVE5/jz5bnM8Zcwx5xATn+GCMbkmFuNhiKAAAIIIIAAAggggAACCCCAAAIIIIAAAggggAACCCCQtQJaKUC7z9i3/4CUjS4tpUuXlFIlS0i+fPmytmEcHQGXwKlTp2Tvvv2yZ88+Sdi9R0qWiDK7BAvHqkc8l66Lz2RIBMLpGSIYE5Jbgp0ggAACCCCAAAIIIIAAAggggAACCCCAAAIIIIAAAgggkHsEEhNPyK49e8zQgYZkihUrKsWLFpUiRSKlcOFCUqhgQcmfP8IMzGiVGQYEMkJAq1joy/uTJ5PkeGKiHDt2XI4cOSoHDx+WQ4cOm2EYDW+VKV1aChYskBFNyFb75LnMVpcjRzQmtzxDBGNyxO1IIxFAAAEEEEAAAQQQQAABBBBAAAEEEEAAAQQQQAABBBDIngL6YvXAwUNyyAgjHDlyzAgnHJPEEyfMsIKGFnQ5AwIZIaChK61WpCGsggUKGKGswkY4q7AUM0JaUcWL5eruvnguM+KOC7995pZniGBM+N27nBECCCCAAAIIIIAAAggggAACCCCAAAIIIIAAAggggAACCCCAAAIIIICAIUAwhtsAAQQQQAABBBBAAAEEEEAAAQQQQAABBBBAAAEEEEAAAQQQQAABBBBAICwFCMaE5WXlpBBAAAEEEEAAAQQQQAABBBBAAAEEEEAAAQQQQAABBBBAAAEEEEAAAQQIxnAPIIAAAggggAACCCCAAAIIIIAAAggggAACCCCAAAIIIIAAAggggAACCISlAMGYsLysnBQCCCCAAAIIIIAAAggggAACCCCAAAIIIIAAAggggAACCCCAAAIIIIAAwRjuAQQQQAABBBBAAAEEEEAAAQQQQAABBBBAAAEEEEAAAQQQQAABBBBAAIGwFCAYE5aXlZNCAAEEEEAAAQQQQAABBBBAAAEEEEAAAQQQQAABBBBAAAEEEEAAAQQQIBjDPYAAAggggAACCCCAAAIIIIAAAggggAACCCCAAAIIIIAAAggggAACCCAQlgIEY8LysnJSCCCAAAIIIIAAAggggAACCCCAAAIIIIAAAggggAACCCCAAAIIIIAAAgRjuAcQQAABBBBAAAEEEEAAAQQQQAABBBBAAAEEEEAAAQQQQAABBBBAAAEEwlKAYExYXlZOCgEEEEAAAQQQQAABBBBAAAEEEEAAAQQQQAABBBBAAAEEEEAAAQQQQIBgDPcAAggggAACCCCAAAIIIIAAAggggAACCCCAAAIIIIAAAggggAACCCCAQFgKEIwJy8vKSSGAAAIIIIAAAggggAACCCCAAAIIIIAAAggggAACCCCAAAIIIIAAAggQjOEeQAABBBBAAAEEEEAAAQQQQAABBBBAAAEEEEAAAQQQQAABBBBAAAEEEAhLAYIxYXlZOSkEEEAAAQQQQAABBBBAAAEEEEAAAQQQQAABBBBAAAEEEEAAAQQQQAABgjHcAwgggAACCCCAAAIIIIAAAggggAACCCCAAAIIIIAAAggggAACCCCAAAJhKUAwJiwvKyeFAAIIIIAAAggggAACCCCAAAIIIIAAAggggAACCCCAAAIIIIAAAgggQDCGewABBBBAAAEEEEAAAQQQQAABBBBAAAEEEEAAAQQQQAABBBBAAAEEEEAgLAUIxoTlZeWkEEAAAQQQQAABBBBAAAEEEEAAAQQQQAABBBBAAAEEEEAAAQQQQAABBAjGcA8ggAACCCCAAAIIIIAAAggggAACCCCAAAIIIIAAAggggAACCCCAAAIIhKUAwZiwvKycFAIIIIAAAggggAACCCCAAAIIIIAAAggggAACCCCAAAIIIIAAAggggADBGO4BBBBAAAEEEEAAAQQQQAABBBBAAAEEEEAAAQQQQAABBBBAAAEEEEAAgbAUIBgTlpeVk0IAAQQQQAABBBBAAAEEEEAAAQQQQAABBBBAAAEEEEAAAQQQQAABBBAgGMM9gAACCCCAAAIIIIAAAggggAACCCCAAAIIIIAAAggggAACCCCAAAIIIBCWAgRjwvKyclIIIIAAAggggAACCCCAAAIIIIAAAggggAACCCCAAAIIIIAAAggggAACBGO4BxBAAAEEEEAAAQQQQAABBBBAAAEEEEAAAQQQQAABBBBAAAEEEEAAAQTCUoBgTFheVk4KAQQQQAABBBBAAAEEEEAAAQQQQAABBBBAAAEEEEAAAQQQQAABBBBAgGAM9wACCCCAAAIIIIAAAggggAACCCCAAAIIIIAAAggggAACCCCAAAIIIIBAWAoQjAnLy8pJIYAAAggggAACCCCAAAIIIIAAAggggAACCCCAAAIIIIAAAggggAACCBCM4R5AAAEEEEAAAQQQQAABBBBAAAEEEEAAAQQQQAABBBBAAAEEEEAAAQQQCEsBgjFheVk5KQQQQAABBBBAAAEEEEAAAQQQQAABBBBAAAEEEEAAAQQQQAABBBBAAAGCMdwDCCCAAAIIIIAAAggggAACCCCAAAIIIIAAAggggAACCCCAAAIIIIAAAmEpQDAmLC8rJ4UAAggggAACCCCAAAIIIIAAAggggAACCCCAAAIIIIAAAggggAACCCBAMIZ7AAEEEEAAAQQQQAABBBBAAAEEEEAAAQQQQAABBBBAAAEEEEAAAQQQQCAsBQjGhOVl5aQQQAABBBBAAAEEEEAAAQQQQAABBBBAAAEEEEAAAQQQQAABBBBAAAEECMZwDyCAAAIIIIAAAggggAACCCCAAAIIIIAAAggggAACCCCAAAIIIIAAAgiEpQDBmLC8rJwUAggggAACCCCAAAIIIIAAAggggAACCCCAAAIIIIAAAggggAACCCCAAMEY7gEEEEAAAQQQQAABBBBAAAEEEEAAAQQQQAABBBBAAAEEEEAAAQQQQACBsBQgGBOWl5WTQgABBBBAAAEEEEAAAQQQQAABBBBAAAEEEEAAAQQQQAABBBBAAAEEECAYwz2AAAIIIIAAAggggAACCCCAAAIIIIAAAggggAACCCCAAAIIIIAAAgggEJYCBGPC8rJyUggggAACCCCAAAIIIIAAAggggAACCCCAAAIIIIAAAggggAACCCCAAAIEY7gHEEAAAQQQQAABBBBAAAEEEEAAAQQQQAABBBBAAAEEEEAAAQQQQAABBMJSgGBMWF5WTgoBBBBAAAEEEEAAAQQQQAABBBBAAAEEEEAAAQQQQAABBBBAAAEEEECAYAz3AAIIIIAAAggggAACCCCAAAIIIIAAAggggAACCCCAAAIIIIAAAggggEBYChCMCcvLykkhgAACCCCAAAIIIIAAAggggAACCCCAAAIIIIAAAggggAACCCCAAAIIEIzhHkAAAQQQQAABBBBAAAEEEEAAAQQQQAABBBBAAAEEEEAAAQQQQAABBBAISwGCMWF5WTkpBBBAAAEEEEAAAQQQQAABBBBAAAEEEEAAAQQQQAABBBBAAAEEEEAAAYIxIbgHTp36R44fPy7HE0/IiRMn5WRSkiQlnZJ//vlHTp8+HYIjsAsEEEAAAQQQQAABBBBAAAEEEEAAAQQQQAABBBBAAAEEEEAAAQQQQCDjBPLkySN58+aViIh8kj8iQgoUyC+FChaQQoUKSb58eTPuwBm8Z4IxaQROMsIvhw4flSNHjkqiEYgpVLiQeUMULFBA8uePkHzGjZLPuGH0xmFAAAEEEEAAAQQQQAABBBBAAAEEEEAAAQQQQAABBBBAAAEEEEAAAQSys4AW/jhlFAA5ZRQCOXkySRJPnDALhBw/dlwKGgGZIkUipVjRSCM4E5GdTyNZ2wjGJCMJPOOoccEPHDgk+lmsaBEpWqSwREYWDrwRSxFAAAEEEEAAAQQQQAABBBBAAAEEEEAAAQQQQAABBBBAAAEEEEAAgRwqcPToMTl85JhRQOSIRBqFQ6KiipmfOeF0CMYEeZWOHU+UvfsOGF0kJUkJ4wIXL1aUajBB2rEaAggggAACCCCAAAIIIIAAAggggAACCCCAAAIIIIAAAggggAACCOR8Aa0qc/DQYdlvFBTRyjGlSkZJ4UIFs/WJEYxJ4fLoRd21Z5/ZZVKpkiUkqnjRFLZgMQIIIIAAAggggAACCCCAAAIIIIAAAggggAACCCCAAAIIIIAAAgggEN4CBw4eNgqM7De7WCpTumS2LS5CMCbAfailgBJ275UiRldJ0dn4IgY4BRYhgAACCCCAAAIIIIAAAggggAACCCCAAAIIIIAAAggggAACCCCAAAIZIqDFRnZrsREjX1E2upREGvmK7DYQjPFzRfbtPyj79h+QsmVKS9EikX7WYjYCCCCAAAIIIIAAAggggAACCCCAAAIIIIAAAggggAACCCCAAAIIIJC7BQ4fOSoJu/ZIyRJRxn/FsxUGwRiPy6FdJx0/nigxZaMlf/4IjzWYhQACCCCAAAIIIIAAAggggAACCCCAAAIIIIAAAggggAACCCCAAAIIIGAJnDyZJHEJu6VQoYKiXStll4FgjOtKJOzaK0lJSRIbUybb9n/lajKTCCCAAAIIIIAAAggggAACCCCAAAIIIIAAAggggAACCCCAAAIIIIBAlgto10o743ZJRESE0UNPqSxvjzaAYIztMmilmJMnTkr52LK2uYwigAACCCCAAAIIIIAAAggggAACCCCAAAIIIIAAAggggAACCCCAAAIIBCuwY2eC5C+QP1tUjiEY899V27f/oGifVxXLl6NSTLB3MushgAACCCCAAAIIIIAAAggggAACCCCAAAIIIIAAAggggAACCCCAAAIuAa0cs21HvBQtEiklSxR3Lc3cSYIxhvfRo8fMfq4qVYiV/PkjMvcKcDQEEEAAAQQQQAABBBBAAAEEEEAAAQQQQAABBBBAAAEEEEAAAQQQQCDMBE6eTJKt23dKTNloiYwsnGVnl+uDMZpS2rx1h0SXLmkmlbLsSnBgBBBAAAEEEEAAAQQQQAABBBBAAAEEEEAAAQQQQAABBBBAAAEEEEAgjAS0557de/ZJlUrls6z3nlwfjEnYvVfyGDdVmehSYXRrcSoIIIAAAggggAACCCCAAAIIIIAAAggggAACCCCAAAIIIIAAAggggEDWC+wychmnjWaUzaJcRq4Oxhw7nihx8bukauUKWZZMyvpbkBYggAACCCCAAAIIIIAAAggggAACCCCAAAIIIIAAAggggAACCCCAAAIZI6A9+Wzasl1iypWRwoUKZsxBAuw1Vwdjtu9MMLtPiipeNAARixBAAAEEEEAAAQQQQAABBBBAAAEEEEAAAQQQQAABBBBAAAEEEEAAAQTSKnDg4GHRbpUqxJZN6y7SvF2uDcYcPXZctFyP9mPFgAACCCCAAAIIIIAAAggggAACCCCAAAIIIIAAAggggAACCCCAAAIIIJBxApu37pAyRndKkYULZdxBPPaca4MxO+N2SWRkIYkqXsyDhVkIIIAAAggggAACCCCAAAIIIIAAAggggAACCCCAAAIIIIAAAggggAACoRI4cPCQHD16XGJjyoRql0HtJ1cGY5KSkmTz1p1SvWpFyZMnT1BQrIQAAggggAACCCCAAAIIIIAAAggggAACCCCAAAIIIIAAAggggAACCCCQNoHTp0/Lhk3bjJ59YiUiIiJtO0nDVrkyGLNv/0E5eTJJypYplQYyNkEAAQQQQAABBBBAAAEEEEAAAQQQQAABBBBAAAEEEEAAAQQQQAABBBBIrUDCrr2SP3+ElCxRPLWbpnn9XBmM2bY9TkqVjDK6UiqcZjg2RAABBBBAAAEEEEAAAQQQQAABBBBAAAEEEEAAAQQQQAABBBBAAAEEEAhe4OjRY7J33wGpWCEm+I3SuWauC8acOvWPbNq8TWpUr5xOOjZHAAEEEEAAAQQQQAABBBBAAAEEEEAAAQQQQAABBBBAAAEEEEAAAQQQSI3A+g1bpGqVipIvX97UbJbmdXNdMObIkaOy/+BhqRBbNs1obIgAAggggAACCCCAAAIIIIAAAggggAACCCCAAAIIIIAAAggggAACCCCQeoHtOxOkRPGiUqRIZOo3TsMWuS4Ys2fvfpOpdKkSaeBiEwQQQAABBBBAAAEEEEAAAQQQQAABBBBAAAEEEEAAAQQQQAABBBBAAIG0CmR2biPXBWN2xu2SYkWLSNGimZM8SuuNwHYIIIAAAggggAACCCCAAAIIIIAAAggggAACCCCAAAIIIIAAAggggEC4CRw+fFQOHT4isTFlMuXUcl0wZsu2nVKuTGkpWLBApgBzEAQQQAABBBBAAAEEEEAAAQQQQAABBBBAAAEEEEAAAQQQQAABBBBAAIF/BRITT0j8rj1SuWJsppDkumDMhk3bpHKlWInIly9TgDkIAggggAACCCCAAAIIIIAAAggggAACCCCAAAIIIIAAAggg8H/27jzcrvFsHPATUbOaavoaBEFUaEUMQUkNQc1qHmKusWapr60aqyWGmGquqnkm5jHBJwmiKFokhIgSc2kjhji/9a781rrWPjmHnNPsfXXrvVw5e613Wu97r7X9s5/reQkQIECAwBSBLyZPjnGvvxlLdO/WEJL/usCYMa+MiyUXXyS6dOnSEGA3IUCAAAECBAgQIECAAAECBAgQIECAAAECBAgQIECAAAECBAgQmCLQ0tISL499PXossWhDSP7rAmNGv/xaLLXkYg3BdRMCBAgQIECAAAECBAgQIECAAAECBAgQIECAAAECBAgQIECAAIFagUbGbgiMqbV3RYAAAQIECBAgQIAAAQIECBAgQIAAAQIECBAgQIAAAQIECBAgUEcBgTHfENw6LsPQBAgQIECAAAECBAgQIECAAAECBAgQIECAAAECBAgQIECAAIGmFBAYU8fH1kjcOi7D0AQIECBAgAABAgQIECBAgAABAgQIECBAgAABAgQIECBAgACBphRoZOyGrZSa8hUxaQIECBAgQIAAAQIECBAgQIAAAQIECBAgQIAAAQIECBAgQIBAcwoIjKnjc2skbh2XYWgCBAgQIECAAAECBAgQIECAAAECBAgQIECAAAECBAgQIECAQFMKNDJ2Q8aYpnxFTJoAAQIECBAgQIAAAQIECBAgQIAAAQIECBAgQIAAAQIECBAg0JwCAmPq+NwaiVvHZRiaAAECBAgQIECAAAECBAgQIECAAAECBAgQIECAAAECBAgQINCUAo2M3ZAxpilfEZMmQIAAAQIECBAgQIAAAQIECBAgQIAAAQIECBAgQIAAAQIECDSngMCYOj63RuLWcRmGJkCAAAECBAgQIECAAAECBAgQIECAAAECBAgQIECAAAECBAg0pUAjYzdkjGnKV8SkCRAgQIAAAQIECBAgQIAAAQIECBAgQIAAAQIECBAgQIAAAQLNKSAwpo7PrZG4dVyGoQkQIECAAAECBAgQIECAAAECBAgQIECAAAECBAgQIECAAAECTSnQyNgNGWOa8hUxaQIECBAgQIAAAQIECBAgQIAAAQIECBAgQIAAAQIECBAgQIBAcwoIjKnjc2skbh2XYWgCBAgQIECAAAECBAgQIECAAAECBAgQIECAAAECBAgQIECAQFMKNDJ2Q8aYpnxFTJoAAQIECBAgQIAAAQIECBAgQIAAAQIECBAgQIAAAQIECBAg0JwCAmPq+NwaiVvHZRiaAAECBAgQIECAAAECBAgQIECAAAECBAgQIECAAAECBAgQINCUAo2M3ZAxpilfEZMmQIAAAQIECBAgQIAAAQIECBAgQIAAAQIECBAgQIAAAQIECDSngMCYOj63RuLWcRmGJkCAAAECBAgQIECAAAECBAgQIECAAAECBAgQIECAAAECBAg0pUAjYzdkjGnKV8SkCRAgQIAAAQIECBAgQIAAAQIECBAgQIAAAQIECBAgQIAAAQLNKSAwpo7PrZG4dVyGoQkQIECAAAECBAgQIECAAAECBAgQIECAAAECBAgQIECAAAECTSnQyNgNGWOa8hUxaQIECBAgQIAAAQIECBAgQIAAAQIECBAgQIAAAQIECBAgQIBAcwoIjKnjc2skbh2XYWgCBAgQIECAAAECBAgQIECAAAECBAgQIECAAAECBAgQIECAQFMKNDJ2Q8aY//BX5NNPP41Ro57MZ/ntb88Zyy+//FQz/uKLL+Kxxx7Py2eeeabo06fPVG1SwccffxxPPvnnePudd6LPSivF4ot3jy5duqSqNo9nn3suPvrHR9HefV977bUYP/6NvO/qq/etGavoWx14lllniZ7LLBOzzz57tfhrz7/88ssYMXJkREtt03nnnTeWWqpHzDjjjLUV///q9dfHx7hx49qsKwp7914xZp111uJyqs+33norHn9iVHz26WfRffHFYrnvfa/d9p25X+G0wAIL5GtpPYG33poQL7/8cl5cnevkyZNj5MjHWjdv87rbIt1isUUXbbOurcLPPvssu+cr8be//S1mmGGGWHbZnrHkkku26fzRRx/Fs88+lw/Tq9dyMddcc9UMWZ1n63lU+1Y7zT333LnFTDPNVC0uz6vv3YILLhg9eixZ1rU+efrpZ+Jf//pXXtyjR49YcMEFyiblONlXYI3VVy/Lqycdsaj2e/vtd3K/18ePj8W7d4+ePZeJ+eabr9qkPP/LX/6SfTf/mdslw/aOlpaWGD1mTDz11NPxPwsvHOl9+KrvUtW3T5+VYuaZZ55q6PT/jfT/j+98Z75YJvtuOggQIECAAAECBAgQIECAAAECBAgQIECAAAECBAgQINAIAYExdVRuJO70WEYKLNjox5vE6NFj8uEeeXhYdOv23Zqhr7rqmvjlr47Oyw466MA49JCDa+pfGj06jjrqF/kP6tWK9EP9HnvsFvvvt2+1uDzffIufRPrRfvW+fePKK/9UlhcngwadFr8/7/z8cszoF6Jr165FVRR9y4LKSc+ePeOM0wdlwQI9K6Xtn/7zn/+M5VdYsd0G6/yoX5x++qlTBWWccsqpcd75F7TbL1UMG3p/LLbYYlO1ufPOu+LU086IsWPH1tQls1/98n9jiy02rylPF525X+GUAhzuv+/uWGihhWrGveGGm+LIgT/Pyx4a9mAsuugi+fkbb7wRa/6wX03b9i6OOOKwOGD//dqrril/dPjw2Gef/ctgkqIyrfvSP1w0VWDWsGEPxe577JU3u+7aq2PllWuDslJQSq/lf5DXH374oXHgAfsXQ0a1b1lYOdlhh+3juGN/Hd/61rcqpbXOyWPY0AdqgrKKxh988GH0Xmnl4jLOOvOM2HTTTcrr6vNq/f6mRh21SH0mTvwk/y7ecsut6bLm2HXXAfm70zqQq3gH2vuepYCYMwafGX/4wx+nei7Je9Cgk9sMfKr67rvvT+PnA4+smU+66LPyavHee+/FtttsHSef/Nup6hUQIECAAAECBAgQIECAAAECBAgQIECAAAECBAgQIECgHgKNjN2QMaYeT3A6jzlixMjYcadd8lFTQMYZWRBIcaSgkdX6rpn/YJ6CFx5+6MGYbbbZiupIWUy23Grr/MfvsrDVycCBR8R+++7TqjTK4Jb2frCf1sCYItgjZV8pjhQIcsP110xTcEw1MCb1m3POOePzzz+vWVMKsrn+uqtjjjnmKG5RE6iSbFoHWKSGN914XSycZd+oHg8OHRZ77rl3tSjPzFFkHkkVg045ObbeequaNtVAi2m9XxEUkQZaa60fZsEnF+dZWoqB2wuMSZlk0nMtjtYehXmq32+/fWLALjsXTdv9fOSR/4sBu+5e1ifTd7LsQilwojjuufuOWHrppYvLmuCWfycwJnnNPvts2Xs8seZ+P/nJVnFqFvhRParOqfyqKy+Pvn1XqzbJzy+99LI4/oQTy/KOBMZ0xiLdaJttto9RT07J8JTe1cUX7x7PPfd8qsqPLbfcIk4/bVBxmX8W70B737NTTz09zv39eTV9qhfpWd9y84012XBSfTUwJl239XwExiQZBwECBAgQIECAAAECBAgQIECAAAECBAgQIECAAAECjRZoZGBMZNkI/quOl8a82pTr3f+An7V0X7xH/i/L4lKu4fQzBpfltw65rSxPJ1lASctaa/+orL/ssj+1ZEEOLdnWKS1//vNTLev337Csu/mWW2v6povNNt8qr99xx12mqksFWYBC2T+NWT3a6jtp0qSWy6+4suxz4oknVbu0e55tAVX2Ofucc8t2H374YcsRRw4s6+677/6yLp2cfPKgsq71/GoaVi6yIIayz3K9vt/ywAMPtkycODFvkQUotazUZ9Wy/v3336/07Nz9Cqfi2f7p8itqxrz++hvL+7322riauupFmksxxh//eFm1aprPDz3siHyMtO4XX3wx75dtY9WSXIuxBw8+q2a8oUOHlXWPP/5ETV26SO9g0bf67FJde33TvbNgr7Jftp1Ral4e1eeaxj7gwIPKuuIky7RU8+6ndkNafT+q47R+PzpjkWUXKuecZXDKv2dpPtmWRi3b77BTWZdMqkfxDrT1PbvyyqvLfqld+u6nub799tst559/YVmXvsvp+1U9qr5p/ck0fZeqR/E+Dxx4VLXYOQECBAgQIECAAAECBAgQIECAAAECBAgQIECAAAECBOoq0MjYDRljGh321Mn7pcwvWZBL3nu11VaNq6+6IlIGlr6r/zAv67PSSnFdljGlS5cu5R0efXR47LzLrvn1YYceEj/72QFlXToZP/6N2HCjjfNsM/36rZ1nK6k2+LpMFtOSMaatLBj9N9go3xqqV6/l4rYht1Rv2eZ5NWNM6+14soCQyH7cz/vts8/ecdTPB5ZjVDOLtLVVTtmwcpIFGsXZZ5+bl1xx+WWxxhqrV2prs3CcduopsdVWW5b1nblfYVwOkp08cP+9scQSi+dF7WWMqbZP5x988EG2bdAqefGxxxwdaduejh5F9pC0PU/KLlI9rrnm2ng/u8ci3brVbEdUzUrSVkaSad1KqXXf6rv15KjHYt555y2nU3UuCkeOeLQmY0raBmnnnae8+0WbjmSM6YzFzTffEocdPmW7otZZbF55ZWzcfc89+VS22nLLbMusBYtpfWVmpiIDTcqoc8ftQ2rWmAb43cmnxAUXXJSPddON18eKK07ZtioVVJ9N3iD7s92228TvfndScWkrpVLCCQECBAgQIECAAAECBAgQIECAAAECBAgQIECAAAECjRRoZMYYgTGNfLL/5r3OGHxmnHXWOfkol1x8Ydx7731x7XXX59dDbr0pll9++Zo7pO1X0jYs6Xju2afz7YBqGmQXxx53QmSZZPK6Z55+Mrp27Vo2KYI22gpuSY2qwQutA0++qu/0DIxJ2/ykIIZ07LvvT+PnA6cEJqTragBF6/ml+raOnXYaEMNHjIgVVlghbr3lxqmaZJlI4qGHH8nLuy+2WBnAkgo6c7/CafHFF48sC0gepJTunbZ4Ss+ikYExxdrTWlIg1c477xTzzDN3umz3qAZftA5uSZ06Exjzj3/8I7bfYed44YUXYqmlesS999xVc/+qc9quKN3jiCMOiwP2369sl2WRiTvvvCsLQFkoDyBLFR0JjOmMxRNPjIptt9shn0PahuqE44+J3r1712yNVU6wclK8A62/Z1mmnFim53J5y/332zeOPPLwSq8pp2mrq1VWnRK8ddyxv44BA6ZsuZZqq88mvVNZtpm8U/p/xzrrTAmyKwKAtt1m6zj55N9OGdRfAgQIECBAgAABAgQIECBAgAABAgQIECBAgAABAgQI1FlAYEwdgRuJO72XkW3pk2WNWSdSMEjKIJE+09E6C0Rx3z333DseHDosFl10kXho2INFcc1nCqw56qhf5GX33Xt39OixZFnf3g/2RYOOBsak+aZAj5TlIh2tM7wU47b+bCtjTLbFT/z972/mY91xx515l0suuSjW+VG/sns1gGLNNdcoy4uT3r1XjEMPObi4jBT00mOpnvn1TjvtECeecHxZNy0nHb1fGrNqvMuAnWO//aZk9Tn8sEPjwAP3j+tvuDGybW7y26dnmJ5lW8f0yBjz5J//HFtvvV3N8CmgYt0siGKjjTbMg1RqKrOLavDFvxMYkzKdzDP33DFp0qfxTBbAkYJd0r3PHHxadO/evea2hXMKitkty4yTAsDS9+GxkY/mwURvvTUhy6S0Zt7nF784Kk466Xf5eUcCYzpjkd7Jn+6zX2Tbb5XzTXNcb911on//9fNglFlmmaWsK06q78CVV/6pKM4DWVJdOs4+a3BsssnGZV31pNfyP8i9Nt9s0xg8eEogXKqvPpuU/Sh975577vk8CO7hhx7Ms/AIjKlKOidAgAABAgQIECBAgAABAgQIECBAgAABAgQIECBAoFECjYzdkDGmUU91Ot1nyG23x8EHH1oz2uOPDY/555+/pixdrLNu/xg7dmwUWy9N1SArePDBobHnXj/Nq1pvHdTeD/bFONMSGFO0bf2ZAgZuvumGNoMtWretBsa0riuuU2BFmv9ss81WFNVkcCkLKyfrr79eXHjBeWXJu+++Gyuv0je/LgJTysppOCkCNtpr2vp+qV1r4yOO/HnceONN+RBDhtycZU15sWGBMemmEya8HRdffElcfMkf8jlU/6TtmY7+1S9qsgpVgy/+ncCY6n2K87Q9WMoEs+qqU7aIKsoL5/QO3XHHkOjXb9286uKLLoh1syCUc875fZx2+hl5AMhdd95ebkHWkcCYNGBHLVKfFByTvlNnnnV2HoSSyoojBTWlAJcU8FM9Wr8DRd3d99xbBkpde81VscoqKxdVNZ8b/XjTPLtO8rr++mvKutbPZu4s8Chla0rHBhv0j/PPO9dWSqWWEwIECBAgQIAAAQIECBAgQIAAAQIECBAgQIAAAQIEGikgMKaO2o3Erccy0g/v2223Y4x68sl8+JQRY++99mzzVocdfmTcfPMteYBA2kqpreOSP1waJ554Ul41csSjseCCC5TN2vvBvmjw7wTGDBt6fyyWbUU0LcfXBcakbCEPPzQ0C4qZtWa4IoAiFR5//LHRdYauNfX/8z8LZ0EVa9eUFRk0WmffqGnUzkVn7tfa+KOPPooNNtw43/4nba+0224D4phjjsvvWO+MMdVlffjhP2LkY4/FsCzj0O1ZRp6UwSUdAwceEfvtu0/ZtHXwxcor9ynr0knqlzKapOPww7MsOAfsn5+nP9W+g045Ob7//RWywJLJ8fLLr8TJpwyKceNez9vef989seSSS5T9CucUGJPe61132yMezra3Ss8yBcesutoaeTaltLXW7rvtll1P2Wqoo4ExxQ2n1aJonz5bWlri+ef/GiOybbluv+Ouchuj9K6m9cw991xl89bvQFHx6quvxo/WWT+//O1JJ8b229dm80kV1SxHaRultJ1ScVR9i6ClSy+9LI4/4cS8yemnDYrfZNl0UiYnWykVaj4JECBAgAABAgQIECBAgAABAgQIECBAgAABAgQIEGiEQCNjN2SMacQTnc73uOLKq+Loo4/JRx3+6MOx8MILt3mHaWl3yCGHxa1DbouFFlooRgx/pGacbbfbIZ54YlS7WzEdetgRccstt+Z9Xh7zYswwwwxl/+LH/lRw1523xRdfTI5NN9uirB/1xMh8+5uy4CtOqoExKevKYYcenAdN7LPvlCCLlC3mxhuuiy5dutSMUgRQpMIxo1+oyXRS07ByccCBB8Wdd96Vr3nY0AemGjMFepx/wYV5+Uq9e8faa69V9u7M/Qqn1fv2jWIbnREjRsaOO+2Sj5uCP4qglHoGxqSAq48//ji/5xxzzFFjlTKnbLHlT/JgnZ49e+bPs1j0yJGPxQ477pxftg48SYWvvDI21l2vf17/y1/+b+y15x75efrTVuBGUZmCY9Zbf4P8snXwV+FcBMbce+99UbwLR/18YLlV19AH78uCpWbvcGBMZy0++eST+Oyzz+Jb3/pWTeaitIjfn3d+pECydFx04fmx3nrr5ufpT1vvQCpPwTXLr7Bi/vzb29przJiXY/3+G6bmccbpp8YWW2yen6c/bfmmte2yy24xPAvYqR4CY6oazgkQIECAAAECBAgQIECAAAECBAgQIECAAAECBAgQqLdAIwNj0o+v/1XHS2Nebfr1XnHFVS3dF++R/3vzzTfbXc8zzzxTthuw6+4tX3zxRU3bBx4cWtZn2zPV1KWLMwafWdY/99zzNfXvv/9By3K9vp/X77b7njV16WKzzbfK63bccZey7v77HyjHO/a448vyrzvJAjbKfmefc27Z/De/+W1Zftfd95TlxcnJJw8q61uvvWjT+vPCiy4u+5x11jmtq1suuviSsj75VY/O3K8tpzRmlsWnvE/xrF997bXq7WrO33///bL9H/94WU3dtFxk2Um+sn96jmkeK/VZtWa4LGin7JcFp7RkgRc19ef+/ryy/qmnnq6pGzp0WFn3+ONP1NRlgTFl3a+POa6mrnBO7186Pv/883xehVP63HmXXfO6LKinHGfIkNvysuJPMU5qX30/Omtx+BED83uleWUBMsVt8s+0vmJ+2VZZNXXtvQOp0R577FX2Gz58RE2/Tz/9tGXrrbcr60ePHlNT357vG2+8UX53izkdceTAmr4uCBAgQIAAAQIECBAgQIAAAQIECBAgQIAAAQIECBAgUE+BRsZuyBhT7zCnOox/5ZVXx6+OnrJlSsrykrK9tHWkbVYOzjLC3JFthZOOtNXM5ptvFgsusEC+TU4W+JGXp8wb1193TSy7bM/8uviT/Zgf222/Y9nmmGOOju8tu2yMe/31SH1feOGFvO7XR/8qdt9916Jb/tlWFozsSxPbbrtDuQ3UtG6nVM0YU92O54MPPojeK62S32/RRReJB+6/N2acccZyHkVmkVRw+223ZnVdy7riJG3nNMsssxSX+bYyW/1km3Ibn1123in6/ahfzDP33HHPvffGBRdclLdN97vn7jtr+nbmfm05pRtMmjQpfrzxZjF27NhybsOGPRCLLbpoeV09qVocmz2nXXcdUK2epvN11u2f3y+9DyeecFz0zbLYTJr0Sdx6622RBUnlY7SVuSRljEmZY9KRMpZsvfVWMduss8XQYcPi7LPPzcvTmM88/WRNJppqRpPTTj0l23KpV0zOMgv95dln49prr4sskCbve/ZZg2OTTTbOz9OfwrnIGJPKBp95Vpx55tnpND/OO+/c2HCD/vH22+90OGNMGqAzFinTUMo4lI4NsnsfcvDPYv7554+XXhodxxx7XGSBK3ld6+9se+9Aavz008/EllttnfdL6/3p3nvFqquuEllwS9x4481l5peU8eV3vzupJsNR1bfYSikfKPuTMj2ljE/FkZ5Z2s7KQYAAAQIECBAgQIAAAQIECBAgQIAAAQIECBAgQIAAgUYINDJjjMCYRjzR6XyPaQ2MSbdNW7ukbWbSj+TtHTfccG2kbYHaOlJgw+lnDG6rKi/beOMfRwpqmHnmmWvatPdj/6hRo2KbLDgmHanvOWdPCbio6dzqor3AmNQsy0gSp556et7jxBOOjxS4URxFAEVx3dbnnXfcNlVAUAo6SPN/77332uoSKUDhppuuj6WXWqqmvjP3a88pDfz883+NTTatbo1T38CY22+/I3520CE1a6pepHVfffUVsXyvXtXieG3cuBgwYLcymKimMrtI/S65+MI8oKNaVw3cqJZXz1dYYYW44vI/xpxzzlkWF85p3OeenRI8M378G/HDtfrlbeabb758W7C0pVFnA2M6Y5G2vNpttz3LwK9ywpWTHXbYPk76zQmVkva3UioaPfro8Mgy4BSXU31utOEGWQDSmTVBR6lR1bd1YEyqL7YNS+cCY5KCgwABAgQIECBAgAABAgQIECBAgAABAgQIECBAgACBRgkIjKmjdCNx67WMjgTGpDlMnPhJnH3OOXH55VdG+vE+HSnjSb9+/WKLLIPMiiv+IC9r70/KLnHtddeXWUFSuxSw0L//erHvPj+d6gf5VP9VAR977b1PPPDAg6lZ3DbklujVa7n8vL0/1cCYgQOPiP323adsOnHixFhr7XXyIJYUKDHqiZFlFpcigKJs3MbJ3XfdHssss8xUNdl2OjF48Flx65Dbyro0/iZZMM9hhx0aCywwf1lenHTmfl/llMb9/Xnnx6BBp+W3eOThYdGt23eL29V8fvjhP2LF3n3ysuOOOyYG7LJzTf20XjzzzF/iNyf9Np54YlTZJa17zTXXiKN/9Yv47nfbvn8KIkrrH/nYY2WATApQ6dNnpTxzSs+etdmI0uDVwI3yZtlJul96J1fu0yf23nvPmHXWWavVuUdySe2KwJjUYN/9Doh77rk3Dj3k4DjooAPzPmlefVZeLT8/95yz4sc/3ig/T3+qz2vM6Bemeo87Y5Ft65QHkqXsMePGvV7eK60/BW3tvNOUDExlRXbyde9AajtixMg46+xzar6DKQPUGmusHimrUevAtNSn6ttW8FvKMrR+/43y7852226TZ5xJ/RwECBAgQIAAAQIECBAgQIAAAQIECBAgQIAAAQIECBCot0AjYzdkjKn30/wPGj9tZZQCBSZP/jIWXHCBDs8sbc00fvz4LChkgamCFTo8WJN0SGueMGFCpOwjaVuc/5bjyy+/jL///c0s4GKmDq87BVykraAWXnjhbwRXZy1SENqECW/nwUwzzTTTdLH45JNP4p133s22T1swpteY02ViBiFAgAABAgQIECBAgAABAgQIECBAgAABAgQIECBAgEAHBATGdACro00bidvRuWlPgAABAgQIECBAgAABAgQIECBAgAABAgQIECBAgAABAgQIEPimCzQydkPGmG/622R9BAgQIECAAAECBAgQIECAAAECBAgQIECAAAECBAgQIECAAIH/IAGBMXV8GI3EreMyDE2AAAECBAgQIECAAAECBAgQIECAAAECBAgQIECAAAECBAgQaEqBRsZuyBjTlK+ISRMgQIAAAQIECBAgQIAAAQIECBAgQIAAAQIECBAgQIAAAQIEmlNAYEwdn1sjceu4DEMTIECAAAECBAgQIECAAAECBAgQIECAAAECBAgQIECAAAECBJpSoJGxGzLGNOUrYtIECBAgQIAAAQIECBAgQIAAAQIECBAgQIAAAQIECBAgQIAAgeYUEBhTx+fWSNw6LsPQBAgQIECAAAECBAgQIECAAAECBAgQIECAAAECBAgQIECAAIGmFGhk7IaMMU35ipg0AQIECBAgQIAAAQIECBAgQIAAAQIECBAgQIAAAQIECBAgQKA5BQTG1PG5NRK3jsswNAECBAgQIECAAAECBAgQIECAAAECBAgQIECAAAECBAgQIECgKQUaGbshY0xTviImTYAAAQIECBAgQIAAAQIECBAgQIAAAQIECBAgQIAAAQIECBBoTgGBMXV8bo3EreMyDE2AAAECBAgQIECAAAECBAgQIECAAAECBAgQIECAAAECBAgQaEqBRsZuyBjTlK+ISRMgQIAAAQIECBAgQIAAAQIECBAgQIAAAQIECBAgQIAAAQIEmlNAYEzHxkCTAAAIxUlEQVQdn1sjceu4DEMTIECAAAECBAgQIECAAAECBAgQIECAAAECBAgQIECAAAECBJpSoJGxGzLGNOUrYtIECBAgQIAAAQIECBAgQIAAAQIECBAgQIAAAQIECBAgQIAAgeYUEBhTx+fWSNw6LsPQBAgQIECAAAECBAgQIECAAAECBAgQIECAAAECBAgQIECAAIGmFGhk7IaMMU35ipg0AQIECBAgQIAAAQIECBAgQIAAAQIECBAgQIAAAQIECBAgQKA5BQTG1PG5NRK3jsswNAECBAgQIECAAAECBAgQIECAAAECBAgQIECAAAECBAgQIECgKQUaGbshY0xTviImTYAAAQIECBAgQIAAAQIECBAgQIAAAQIECBAgQIAAAQIECBBoTgGBMXV8bo3EreMyDE2AAAECBAgQIECAAAECBAgQIECAAAECBAgQIECAAAECBAgQaEqBRsZuyBjTlK+ISRMgQIAAAQIECBAgQIAAAQIECBAgQIAAAQIECBAgQIAAAQIEmlNAYEwdn1sjceu4DEMTIECAAAECBAgQIECAAAECBAgQIECAAAECBAgQIECAAAECBJpSoJGxGzLGNOUrYtIECBAgQIAAAQIECBAgQIAAAQIECBAgQIAAAQIECBAgQIAAgeYUEBhTx+fWSNw6LsPQBAgQIECAAAECBAgQIECAAAECBAgQIECAAAECBAgQIECAAIGmFGhk7IaMMU35ipg0AQIECBAgQIAAAQIECBAgQIAAAQIECBAgQIAAAQIECBAgQKA5BQTG1PG5NRK3jsswNAECBAgQIECAAAECBAgQIECAAAECBAgQIECAAAECBAgQIECgKQUaGbshY0xTviImTYAAAQIECBAgQIAAAQIECBAgQIAAAQIECBAgQIAAAQIECBBoTgGBMXV8bo3EreMyDE2AAAECBAgQIECAAAECBAgQIECAAAECBAgQIECAAAECBAgQaEqBRsZuyBjTlK+ISRMgQIAAAQIECBAgQIAAAQIECBAgQIAAAQIECBAgQIAAAQIEmlNAYEwdn1sjceu4DEMTIECAAAECBAgQIECAAAECBAgQIECAAAECBAgQIECAAAECBJpSoJGxGzLGNOUrYtIECBAgQIAAAQIECBAgQIAAAQIECBAgQIAAAQIECBAgQIAAgeYUEBhTx+fWSNw6LsPQBAgQIECAAAECBAgQIECAAAECBAgQIECAAAECBAgQIECAAIGmFGhk7IaMMU35ipg0AQIECBAgQIAAAQIECBAgQIAAAQIECBAgQIAAAQIECBAgQKA5BQTG1PG5NRK3jsswNAECBAgQIECAAAECBAgQIECAAAECBAgQIECAAAECBAgQIECgKQUaGbshY0xTviImTYAAAQIECBAgQIAAAQIECBAgQIAAAQIECBAgQIAAAQIECBBoTgGBMXV8bo3EreMyDE2AAAECBAgQIECAAAECBAgQIECAAAECBAgQIECAAAECBAgQaEqBRsZuyBjTlK+ISRMgQIAAAQIECBAgQIAAAQIECBAgQIAAAQIECBAgQIAAAQIEmlNAYEwdn1sjceu4DEMTIECAAAECBAgQIECAAAECBAgQIECAAAECBAgQIECAAAECBJpSoJGxGzLGNOUrYtIECBAgQIAAAQIECBAgQIAAAQIECBAgQIAAAQIECBAgQIAAgeYUEBhTx+fWSNw6LsPQBAgQIECAAAECBAgQIECAAAECBAgQIECAAAECBAgQIECAAIGmFGhk7IaMMU35ipg0AQIECBAgQIAAAQIECBAgQIAAAQIECBAgQIAAAQIECBAgQKA5BQTG1PG5NRK3jsuo69CTv5wcH0z8MN7753vx/r/ejxln6Brzzj5vzDfHfDHXbHNFl+w/BwECBAgQIECAAAECBAgQIECAAAECBAgQIECAAAECBAgQIECgMwKNjN2QMaYzT+gb1mf0hNExfMyIGPXqk/H2R2/Hh598GC0tLW2usmsWJDPP7PNEt3m6xWpLrBJ9e/SNhedauM22CgkQIECAAAECBAgQIECAAAECBAgQIECAAAECBAgQIECAAAECrQUExrQWmY7XjcSdjtOe7kM98/oz8fBLj8SIl0fGux+/+2+N3/073WP1JftGv55rRzp3ECBAgAABAgQIECBAgAABAgQIECBAgAABAgQIECBAgAABAgTaE2hk7IaMMe09hW9o+d/efCEufviSeHb8s9N9hWmLpR8t2y92W2PXWGiuhab7+AYkQIAAAQIECBAgQIAAAQIECBAgQIAAAQIECBAgQIAAAQIEml9AYEwdn2Ejceu4jA4PPf6DN+LSRy6NR0b/X4f7drTDjF1njM1+sGnssOoOMdes3+5od+0JECBAgAABAgQIECBAgAABAgQIECBAgAABAgQIECBAgACBb7BAI2M3ZIz5Br9IaWkt2X9XDL8yrnrs6pj85eQOr7ZLly7R0tLS4X6pw2wzzRaH9j8k1l5mrU7114kAAQIECBAgQIAAAQIECBAgQIAAAQIECBAgQIAAAQIECBD45gkIjKnjM20kbh2XMU1DT/p8Upxy16D4v9GPfm37rjN0jRW6LR+rLLFKLDzXwjHfHPPl/+aZbe74suXLeO+f703596/3Y9x742L4yyNizIQxXztuarDTajvGgDV2yTZa6jJN7TX6zxaYMOHtGDFyZEx4a0JMmjQplum5TPRabrno1u27/9kTNzsCBAgQIECAAAECBAgQIECAAAECBAgQIECAAIGmE5g4cWK8+OJL8de//i3efffdWHrppWLZZXvGIossEl27dm269TTbhNPvgU88MSpef318vDXhrZhv3nmz3wW7Re/eK8Y888wz3ZbzySefxEsvjY7nn/9rvPPOO7H0MkvH9763bCyaPeeUzGFaj08//TSefvqZmuQPK6/c52vflXr8Bprm8tRTT+fv7qeffRor/uAH+TJWW23VaV1OTbs01ssvvxJjx46N1Vfvm68pGX372825i0sjYzf+HwAAAP//ydwkXQAAQABJREFU7J0FuBVVF4YXoYAiISioNKKomDRId3dJd4N0g3SXdHd3KYK0AgpKCIpSIt2ghCLCv7+Ne5iZM+fecy7cK/B/m4c7s3vPO/vMnOdZ31kr0l2V5P8oHTx8TFKlTPrEX/G5389J16WfyJHzR0K81owpMkrO1DkkY/IMEjN6zBDbuivP/3Fevj60Vb7cv05+OfuLu9qR/zBVVmlbqI1Efyq6o5yZx4fAjRs3pW279rJq1Weei3722WelUaMG0rBBfYkUKZJnGxaSAAmQAAmQAAmQAAmQAAmQAAmQAAmQAAmQAAmQAAmQAAmQAAmQQCAEdn73nXTs2FkOHjzkt3nZsqWl+yefyDPPxPDbhhVhI/DPP//I1GnTZcyYcXLx4kXPQerWqS2NGzeU2LFje9YHUnju3Hlp07adbN68xbM5bJDNmzeVOrVrhWqD/O7776VNm/Zy9OhRx1g/7t8rMWJ475HwtIEOHz5Chg3/1LEWZA4dPCBRokTxKQ+p4OutW6VKleo+TRbMnyPp0qXzKX8cCiJSuxGJwpjHYUsEt8bD5w5Lh0Wd5MqNK347pkmURupmryNvvJTab5tgKrb8skUmbZkip66c8tstxQsppH+5fhI7Riy/bZ60isOHj0jLVm2sy/rgg/ekW9cuVv6/POnTp5988+0Oawn9+/WW1Km998Ply1ekdp26smvXbqu9v5MK5ctJr149JGrUqP6aBFX+KDP0upBguHr1ZxkJkAAJkAAJkAAJkAAJkAAJkAAJkAAJkAAJkAAJkAAJkAAJ/L8TmD5jpnTr1j0gDLBvjR83RhInThRQezYKncDt27eldeu2smz5ilAbp0nzlkyfNkXixo0balt3g92790iduvX9Cm/s7UsULyZ9+vT2FEFdu3ZNBg0eKtOUkMcr+RPGhKcN9JeDB6VAgcJeywlaGHPz5k0pWKiI/PbbcZ/xKIzxQeJZQGGMJ5bHt/DS9cvSZFZTufDHBc+LSBg7oTTM1UAyp8zkWf8ghbfv3JbP9n6uBDKT5eatm55DvZPobelXrq9EjfxwRBOekzxChfv27ZdixUtaK8KLYcXypVb+vzypV7+hrF37pbWEKZMnSs6cOay8Oblx44YULVbSR1mJeig0r1+/bppaxyJFCsvIEcOt/IOcPMoMva4rUK5efVlGAiRAAiRAAiRAAiRAAiRAAiRAAiRAAiRAAiRAAiRAAiRAAv/vBAYMGCRjxo4LCgNsVl+u/UISJkwQVD829ibQvUdPmTrVW2Ti1eOdd96RJYsXSOTIkb2qPcuO/fabsk3m8anDvUycOLEcOHDApy5PntwycYJzb6zfsFHatm0forjGSxgTnjZQeNupWLGywOuRVwrWY8zgIUNl5MjRXkMJhTGeWHwKKYzxQfL4Fvz9z9/Sel4b+em070MCV/Vu4nekS7HOEiucPbYcu3hMui75RE5fPe0Js8g7haV5vmaedU9a4aMs6ghUwDF37jzpoNzU2VP37t2kZIniEitWLDl+/IR07faJbNy4yd5EvvjiM3ktVSpHWVgyjzJDr+sJlKtXX5aRAAmQAAmQAAmQAAmQAAmQAAmQAAmQAAmQAAmQAAmQAAmQwP8zgdOnT0uWrNkdCOLFiyc9e3wib7/9tkSL9rTs2LFTNm3aLPMXLHS0q12rpnTu3NFRxkzwBA4dOiz58hd0dEyePLn06d1T3n//PTl//oL06z9AVq36zNFm+PChUrxYUUdZSBkv8Q08/+TNm0eHTEKIo44dO/l4rVn9+Up5/fXX9dAI8ZQufegOIbyEMeFpA509e6506uw/ikgwwhgIhAoVLuYXJYUxftE4KiiMceB4vDMDPx8ka3+87wHEfjUQozTO0yjCPLX8fvN36bmil+w5vte+DOu8SZ7GUvw9/x9gq+EjdnLnzh05deq0XL58SV58MYHEjx/PM/4bVIC3bt2S/fv3S7nylayrwEtj1cplOh8pUiSJHj26PjftTUOEIXrqqad09s8//5SffjqgQhNFkTRp0njGzsO68EUBD/8XXnhBre1Fz3VhQIynQqhJnTr1Zeu2bWZKGT1qhOUx5umnn7b616xVxyF6adWyhTRp0sjqhxO4UytWvJRDudm7V0/56KOKjnbBZAyTQBl6jf3XX3/JmTNn5Pfff5dEiRKFyYUbPOL8+usxfa+gMoZK1SsFy9VrjNDKwOTChYty7txZdZ9fDJPqGXvk5MmTEidOXN0f99ormesxdf7iLqLe3TZatGhBKYLNHDySAAmQAAmQAAmQAAmQAAmQAAmQAAmQAAmQAAmQAAmQAAn8fxNYunSZtGjZ2gFh547tAnGMO40fP1H69utvFcMOt37dGivvdQK7z+nTZ+Tvv/+WFCmSK6FNNK9mfsvstpoYMZ6Rl15K6Nd2ZAYxNi+Th30QdkKkY8eOyfkLFyRpkiTaxmfamCNsepcvX9ZrRr+kSZMom2H4RuZo2aqNLFlyPwIG2K9cscxhl8I1IQSS/YfzCRMmlG1bt5ilh3osXaac7Nq122rXsUM7qVu3jpXHCWygWT/Moe19pmLokEFSsmQJnb2g2KXPkNlUSfr06aRduzZStmwFqwwnXsKY8LKBnj17TvLkze8ZdcMsKlBhDDiXLlNe9u71trljPApjDNWQjxTGhMznsaldtmu5jFrv7T6petZqUjnTRxF+LQit1HtlH/n64FafuaNEjiKDKwyUN19+06fuUSvAA3fmrNkqBNJKT3dXpUqVlAb168prr71mLR3tu3TpZuW9TvASwYscCcrW8hXuC2jKli0trVu1kh49e8lnn31udf/5wH6xCxnWrFkro0aP9XwYYl3Vq1WVd999x+qPkzRvvxfigxhtBg7or14YpXEqufPkd4RR+vyzFYJYje40aNAQtZYxVjHEMxDRhDUFy9A+zzfffCuTJk9xhIpCPZjnVS7WWrduqURN8e1dHOf4EjJ06HDZtXu3T6y+JEkSS8MG9QV87V+WguXqmDCUDNYzVcVEdLusw/WkS5dWSqu15M+fz+8oX3+9VSZOmqz3Gb7w2RO+IDRq2EBy5MhufQnzUmOv+eJzSZXqVXtXfe6lxF28aIFWDPs0ZgEJkAAJkAAJkAAJkAAJkAAJkAAJkAAJkAAJkAAJkAAJkAAJhEBgxIhRMmToMKvFhx9mlRnTp1p5+8nVq1elWvVaVhG8ycyfN8fKmxOIC1asWClTVGggt8AAIYDSK1tLkyaN1Y+KY5suPkd/tho0xBg1qleV4sWLWT88tw8AAcm6deutoo0bvpTt27/RtqyDBw/p8hYfN5dmzZpYbfCj71mz58ikSVN8QgTBToe2hQoWsNrbT/T1rlylxS1pP/hAKlWq4Cm6sfcx5+j77ntpHbZERJKoVrWKaWIdvTyZrF2zWl59NaXVJqST/AUKibl+tJs7Z5ZkzJjBpwuEUhBMmdRDeQ+qWqWyzhphDH7Y3kV5CypXrqz88ccf8t776UxzffQSxoSXDbRRoyby+eovrPlxr+bPX+gQ9wQqjJk+Y6Z069bdGitd2rSSLHlSWbhwsVVGYYyFIsQTCmNCxPN4VF7785pUm1RDcHSn3G/klvaF27qLIyz/599/Sou5reTwucM+c76e8HUZUXm4T/mjVHD+/Hlp3aadbN4curpx6pRJWlyA9Qcr6nALYyC6gODAPa8RxuBF3659RxWuKGTVK9Yy4tNhUrRoEZzqFKyAY/fuPXJJKVFNypE9m+dLHS7Txo2bYJpJr549pHLl+2IfqyLAk2AZYliImBBfb+iwkPcVXo79+vZ2cDHLggIWStjQEr6IIYahEccEyzW08U39+vUbpHadeibr94gvTBAj2WM3Qu08cOBgmTBxkt9+pqJp08bSssXHJqtdstljN3Zo307q1XOqdNHYzQtinW+2f+25R6zBeUICJEACJEACJEACJEACJEACJEACJEACJEACJEACJEACJEACHgRmzJwlXbt+YtXAprNl80YVFSCOVRbMybVr1+TjFq0cwhSv/vhh9JTJk7QXGXf92rVfSr36Dd3FPvncuXKqH14PllixYjnqKleu5oji0L9/X+XVpIOjjV0Yc+TIUalZq7bPj7cdHVQG8w0ePMhH0LNa2Q8bNmxsNS9cuJCMGvmplQ/pZM+evVKyVBlHkx3fbvP7g3O3uMUuWnEM4pFxC0j8RaNwzzF92hTJlu1DPSK86XRR+6VL506SIMGLugx21ECEMeFhA/3yy3VSt14D62qxr75Y/Znkyp0vaGGM1w/ZITyaqOx+8+YvsOagMMZCEeIJhTEh4nk8KidsnigLdjhj6GHlEJ7AK8vTUZ/+Ty/k3O/npMmsZnLlxhWfdXQu1kmyv5bNp/xRKahdu66s37DRZzl4Cbs9b6AR3IPBTVggog67OzG3MMZnwn8LjDCmV68+WkXqr527fPnyJfJ2mjS6OBABh90FmXssrzwEGAUKFnF4llm4cJ5AhRrWFCxDzDNhwkTp0/e+y7zQ5v5y7ReSMmUKqxlUwiVKOl/2VqXHSW1brMrw4Ar3cXAjF2iyrwd94CWmd+++Pt397d9xY0dbnmcmT54qPXv1tvoiZiQ8wbhTA/XFyi7QatCgnrRrG7qwyD0O8yRAAiRAAiRAAiRAAiRAAiRAAiRAAiRAAiRAAiRAAiRAAiTgZTNDiKSuXTppMUSUKFEChoQwRHXUj4+9bH1eg8B+8tmqFQIxg0k7v/tOeSGpaLKhHrOrH5hPmTzR8UNmtzDGaxAjjIGoI0/eAj5eYrz6oAwRIBAJwp6aNG0uq1Z9Zi+SfT/sDjXkEzrMX7DQIdqBN5xlSxc5xrJnGjdp5oh+UalSRenTu6e9id9zt4AHP76ePWu6I0oHolUgaoVJaLNl8waJESOGKfI5BiqM8enoURCMDRQirJy58jru3exZMyRz5kySOUu2oIUxEGNBlGWS2SPtlfMECmMMlcCPFMYEzuqRbHn+j/NSc3JtuXX7lmN9sWLEkvHVx8rzzz7vKI+IzNWbVyV2DKersX0n9kmreW3krvpnT6/EfUUm1hgvCK30qCXEf8uUOatjWR83byZVq1aW559/Xsf8a9a8pcPlGgQBEAbARRe8rOxVqspmzZ3hhDZuXKfHjKlernh4I3m95FGO0DUFCuRXcQWTytXfr0rNGtXl11+P6bh0qDep2b/u0pKo+INbt27TysgzZ86Yau0JBB5BkI4fPyF37t6RatVqOJSmUFLmyZtbt3nl5ZeDik8ILy2DhwzVffEHX1BWf77SEfbJqgzwJFiGUM8iXp89QQFbpfJHOvQTvJ9gnVu3bbOaIIwQ3LIZLytQIEOJbBLES+PHj5E333hDe6OBm7POXbqaan00rtceNle8aPPmK+C4R/hChv2V7cMP5dhvv8m8ufMd14MFmfXgPEfO3I7+eVQYKbiRS5o0qcAFX58+/RwvTnxZmzZ1Mrqql/NZ9ZK+p7bVBerP9m1fW2pblN24cVPeSuMM1YUYk2+99eiHSDPXxCMJkAAJkAAJkAAJkAAJkAAJkAAJkAAJkAAJkAAJkAAJkMCjQwChfCpWrCwQpLgT7CQFVfigTBkzSpYsmeRlZc8KKbm93qNtzpw5pFzZMrrvmjVrBaFq7D+Gb9OmlTRqeM/jx61btyRf/oIOWwtse3Xr1JZcuXLIiZOnZNGixQ5hCObo16+PVCh//4fP/oQxJUuWkLRpPxAIeNK89ZbgR8pu0QOuuYsSBWXJnFnb9zZt2uwIrYP5Zs6cJlmzZMGpTnPnzpMOHTubrP5RP37cH0hCdAhEiTApX768Mn7cGJP1ObojSsCuOXbMKJ92XgW47oYq7JD9B9hoB084z8d7Xvbt+1Hs0Q1QN2nieMmdOxdO/aaHKYwJxgbavUdPmarCdZlkFy0FK4xxi4Zge/38sxU6koV7j9BjjCEe8pHCmJD5PPK1A1cPlrX71/qss0HO+lI6bSmf8vAumLltlizbtVwGVRggSeMldUzXd1U/2XBgo6MMmaZ5mkix94r6lP/XBd99/71SWVZwLMMd7w3ihNat2kqChAnk5ZdekkyZMjoexvv27ZdixUtaY6RJ85asWL7UypsTL2EMXjQIg2RC9Zi2GPOzzz5XAplf5dDhw5I9WzbprMQO9uT29oGXPNSp9uRWGaIe7YJNXu7j5syeqVkEO5ZX+0AZDhgwSMaMHWcNAVHMp8OHOkL6QMhRpWo1gScWk+AFBV80kKrXqOUIX9WpUwepU/t+bEq0QWiiH3/6SV5S9zthggRSXcWMjB37vhDsYXHduHGTcpPnDF2E0E0Qt5iEL4f58hdyeOrBlw186UBYqZSvvm6a6uPSJYvk3XfvC1nQv55y5xYlalR9PSlTJFeCqapWH/cXNfcXOXeYJ7yU169bY/XnCQmQAAmQAAmQAAmQAAmQAAmQAAmQAAmQAAmQAAmQAAmQAAkES+DkyZPyUeWqDkGK1xjwZgIBSoUK5Rz2INMWNjrYmUyCPWje3Nny1FNPmSJZsWKl40fu+NH6mi8+1/XwNIPoEvY0c4YSoWS9L0KBPaZylWqyffs3VrPUqVNrEYMpcNtbUD5LeUaB2MWerly5Ku9/kM5eJF4RGtyiCbcd8MaNGzJkyDCZO2++JE6cWAb07yNvv/22Y1x/GbfQpXLlStKrZw9/zfUPzu2hr9KlTSsLFsz1295dAVsV7Htjx453CJTc7cCqRcvmgvFDSw9LGBOMDdQdBQKCJnsIsGCEMfhxe+48+R2eZ7BvM2RIry+dwpjQdoB3PYUx3lwei1J4ZqkwppJWB9oXnDB2Qplcc6JEjRLVXhzu5xDFTN86Q88DjzFuccyZq2ek1pQ6cvuf2461vBznJZlae4qj7FHIHDt2TLu7sq8FLqqqVq0ScBzDQEUdXsKYkOL12dfkdT5Pvejad+hkVdnDNpnChyHg2LZtu/5iYsbEsWLFCtK3Ty970QOdB8rQ/ULZuOFL7RnFPfnixUukVeu2VjHcy0GxidS6TTut7DWV+PKDeIbp0qWVSJEimeIQjw+DKyZAbEm4qzOpVKmSMmTwQJO1jlu2fKXUp9OsfLFiRQUKY6R06TM5XpoQC7Vp3VKSJUum60P7s3DhYmnTtp3VDArdSZMmWHn3i7d9u7ZSv77zC6LVmCckQAIkQAIkQAIkQAIkQAIkQAIkQAIkQAIkQAIkQAIkQAIkECCBmzdvyvBPRwg8mISWYM8ZMniQ4AfqJv3223HtWd/kcdywfq2PjQTCjPYdOsqli5d0U/yYePiwITpUD2wksJWY5M9W42VTtM/lFsbUqlVDefi/b8cz4y9dukyJP1qbrJQpU1oGDXSGSTKVdhsQvNjs3LHdVD3Q0R1dAd5xOnZs73dM/Jgf4ZRMcouCTLm/4/79P2phjDv0k7s9bJ1Yy0cfVZTo0aO7qx35hyGMCcYGiigQRYoWl4MHD1nrGDp0sJQsUdzKu+2YbmcMVkN14r4Hbtur2z5HjzF2ev7PKYzxz+aRr/li3xoZ/MUQn3V2KNJecqXO6VMengV2UYyZx0scM3bjOFn83RLTxDpOqDHOx8OMVfkfneBF+GG2nI54b2YpH36YVbs2gxI1gwrHEzNmTFPlOAYq6nALY+xqVMeArgwUnz+pEEEHfzkoR5UHmRMnTirl6z4fBW14CGMQkggvcnuCx5ypUyb5eLmxtwn2PBCG+HL05lvvOIaGOMRLzHJWhQiyh1NCaCKEwEJyC0HMgIglmTlTJnnvvXe1d5nXX3d6YjHtcHxYwpjSZco5PNtAoIOXfTDJLfQxfbFv0yuxD7zHIJwU9odXgiL13fecytsf9u7S+x2fD9Rdv37d6rp50walPE5k5XlCAiRAAiRAAiRAAiRAAiRAAiRAAiRAAiRAAiRAAiRAAiRAAg9CANEA1q1bJ1+osEfwtm+3S9jHhYeONV98ZoVX+vrrrSqKQHWrCer3/XA/ooBVEcKJ21bTv39fKV+urGcPu1AFDWAvy5Eju27rFsaMGzta8ufP5zPOkKHDZMSIUY5yiHG8EsJA2Vns3fO9PPfcc15NgyobNGiIjBp9P3RSkSKFZeSI4X7HcIdtgmcXeMMJJB05clSKlyjluA70g9AnufqRt1c4LawHESMiR47sd4oHFcYEawOFxxtEtjApe/Zs+v7b7ZSBCmNwzeXK3bcHYt9+tWWTxIlzP3oFhTGGdHBHCmOC4/VItf5kWXfZemibY00JYiWQ6XWnSiT1L6KSlyjGzJ00XhIZX32cJVC4dP2yVBr3kY6VZ9rgWOPD6vJRxkr2okfi3P3S9LeoEsWLSdu2ra2XrWkXiKgDbd3CGAhMEI7IXzp79pyMHjNWpk+/56HHXztT/rCFMfBSUq16TTO8PkJsMWP6FIkVK5aj/EEzgTD0Uv0GOq89NiLEHtWq1XQIZ7zGQcighg3rS1ml1LW/1ND2YQlj3F+g5s+bo0UsXuvxV4Z9AoXqxYsX/TXR5dhvrVq18HQ/16Rpc7GrdMeoUE0FVagm94s5WNd4IS6IlSRAAiRAAiRAAiRAAiRAAiRAAiRAAiRAAiRAAiRAAiRAAiTgIgA7zo8//SRffrlO5s9f6PPjdvywfcb0qbrXkiVLpWWrez+MRkEwgg09gPrjttWE5Jmjeo1asnnzFtNV7BEL3MIYe1gcq4M6cUcTsNeFdr5i+VKHx5zQ2vurnzhpsvTu3deqhv1v2dJFVt59MnLUaBk8eKhVHJqQxjTEj94LFiri+LE/fqg+YfxYee2113Sz27dvy+zZc6TbJ85QTq1VdITGjRqaoXyODyKMCdYG6uUtaOPGdZI0SRLHugIRxty6dUsxKSpHjx61+kIEhGgR9kRhjJ1G4OcUxgTO6pFq+dftW1J2VFnB0Z5Kpy0lDXLWtxeF63lIopjYMWLJgPIDJHn8ZI41fDynpfx46kdH2esJX5MRlT91lD0qmQPKI0t/pfKDCjW0tHbNann11ZRWs0BEHWgcjDDm/PnzUqFiZcdD0Zrw3xMIN+wPzYcpjAGHmrXqOKbES3H6tMkSO/Z9taKjwQNkAmHo9dIJdEr7lyT0wUt2wsRJKmTQlFAFJZUqVZQ+vXs6pnqUhDFY2OXLl2WgUvfOmRN6PEe3Wzf0x5fLuvUa4FQn47av/4CBOt6jKUf4LLhyYyIBEiABEiABEiABEiABEiABEiABEiABEiABEiABEiABEiCB8CYAYUWPnr0FHkvs6acff9ChdtxRAh6GMGbhwnmS9oMP7NNZ525hzIAB/aRc2TK6PlBhjL9IANYkIZyEtLYQuvlUuQVFoXna6dipi8MGVb16NfmkWxefcd0FXl5Zvv1mq7zwwgvupjqcVr/+A6xyCGg2bVxv5d0nYRXGhMUG6r7v8BZTtUpl95IctjZUjlU/RI8SJYrAppsyZQrdfuzY8comPdDqC885sL+5f6Rvt9uhMUJzIfIFvMqkS5fO6v84nBw8fExSpUwaIUulMCZCMD/8SeApBh5j3GlQhYHyTqK33cXhkg+LKAYLWbBjoUzYPNGxJni4mV1/psSLGc9R/ihl4HXj2x07Ze/evfLdd99rMYt7fW6RRSCiDowRjDDmk+49Zdo0pwuyypUrSdasWSXVq6/qUDYXLlzQYaDM+h6WMGbduvVSp65TeIV4jTNnTAsXUQzWHwjDa9euydvvvG8uVx+/XPuFRI0axVHmlYkWLboKJZTAp+rOnTvqXv+g7/eu3XsEClEvzysLFsx1eFp5WMKYEiXL6LnNwiDAgRAnrAlfEHfu/E72/vCDDtGEe+lO+HKDLx3PPPOMVfXXX39J2nQZLTd2aLPr+x2SN18Bh4r3++92SNy4cax+PCEBEiABEiABEiABEiABEiABEiABEiABEiABEiABEiABEiCBYAjAIwx+uAzPGTpFEqlfr6489dRTnsN42YeWLlkk7777jmzatFlq1Kxt9QtN4GE1tJ24bTV2LzC2ZvrU7V1myuSJkjNnDl0XqDAG4XgQlsekCuXL6QgGJh/SMUGCBFoQFFKbQOoOHTos+fIXdDTd8e02iR8/vqMMGfzY/L3301k2JJR5/Qgb5e40cqTyNDPkvqeZkIRLXj+Q37b1K0/7HuYJizAmrDbQNG+/57h+93WGli9cuJCMGnnPeUSz5i1kxYqVoXXxWx+WPe53sAiqoDAmHEFHJNxwvAyZsGmiLNi50DFFLOWhZX7DuRI5kv+Yao4OD5AJqygGU568fFJqTr7/IjLL6Fysk2R/LZvJPvLHkydPSp++/eWzzz53rPXQwQNa4YfCQEQdaBeMMKZQ4WICLzYm2WMUmrJvv92hvMp8ZLLqxZBQtm3dYuVxEqyA44sv1kiDho0dY6ROnVqHfLLHtXM0eAiZQBm6XzxfrF5luVp7CMsQfBnDS7F+g0aO4Tp2bC9169zfz8FydQxmy7Ro2VqWLl1mlRhPLVbBvycIaTRlyjSrGGGO3C7VrErbCb4soh/iVdqT+cJoL+vcpauKBznHKurapbNSYfey8vZwVFYhT0iABEiABEiABEiABEiABEiABEiABEiABEiABEiABEiABEggCAKwxbyaKrWjx8QJ4yRPntyOMpOB1/wP0mYwWX00nlOOHDkqefLmd9Rt3PClJE3q650CP0pHxAYkePHo36+PxIgRQ9y2GghV+qk6d4LN8MNsOR3F9igTgQpj4P0fHlhMCjQskWn/MI53796V9BkyO34s3qF9O6lXzxlNAnN5hR3avu1rSZDgxVCX0qVLN5k5a7bVLl3atIIfo3ulgwcPSf4ChRxVy5ctlrff9nYWEaww5kFsoG77pGORAWQojKHHmAC2SdiaPCnCmH6f9Zf1P21wQMiaKot0K97VURYemQcRxZj1fDSusly4dtFk9bFhrgZS6oOSjrL/MjN9xkzlhmuTnDp9Ro4fPy716taRZs2aOJb09ddbpUrV6o6yAz/tk2jRoukyt6jDn1IvGGFM8hSpHPN9t/Mbef755x1lPXv1lsmTp1plgQhj+vXtLRUqlLf62E8g/mncpJm9SFKlelUQAzFu3LiO8oedCZSh+wWKFwni7uELjD1Nnz5DPh0xSpInSyaJEieSQgULSP78+VQcyrPSq3cfOXfunJw9e1apO2/I6s9X+ihgy5WrKBCjmNTi4+aOfeEWxoTEFV/KVq5cJe+887Zky/ahY62rlRCpoUuIZFcXY354taldp54jzBdUpbj2bdu2yzR1rafV/sUXsjfeSC3Tpk6WyJHvC+du3Lgpb6V5x1yKPs6eNUMyZ87kKHMLrRyVKjN61AgpVMipHna3YZ4ESIAESIAESIAESIAESIAESIAESIAESIAESIAESIAESIAEQiNQrHhJ/cNz0w6RCxB25pVXXjFF+giP97CH2X/Yi4pvtm+VF1+8F44HYgqIKkyC+GLOnJkq4kBUU6S97JcuU87KI7TN+nVrdN7LVgPbWIYM6a32EJLAM83mzfd/oG4fAw0DFcacOXNGMmdxOhFYvGiBvP/+e9Z8OPnjjz8E3mwQOSFxokSaTYcO7bSYxzQMyQZl2vg79urVRyZNnmJVw765csVSSaZsayadO3deypWv4IgugHVivSaBDWxM27Zvl3x588pbb71pqmTCxEnSp08/K48T2OVef/11RxkyvXv3lYmTJjvKd32/U4cOchT+mwlGGPOgNlAKY7zuQOBlEandYCilwO/LI9Wyzfy2suf4XseaSr5fQhrlbugoe9iZhyGKwZqazf5YDpy+7/UEZeXTl5M62e973kDZf5kQk7BDx86OJYxRL97sSsAQPXp09SI9KF26fuIIqeR+0f3+++/y7ntpHWM0athAsmTNLLGee85SMgYjjHG/PGvXqimtWrXQLzuEy8GLavDg+67HMLmXMGbgwMEyesxYa22Ix9elcyctnIAwAkpYJLjsgusud0K8uhfi+8b5M+2eU9eHEE8PmgJluGfPXilZ6l6sRjNnyZIlpIaKZYgXLdgsXrxEoPq1J+MhBSrkjJmyOhSw8ITSvl1bSZEiuXa7tnbtOmnTtp29u3ZvBiGKSYFyhbgGIhuTatSoJt263lcBY71FipaQo0ePmiaCLx7NlTgL8QnhRnDc+ImyatVnVj1O9v2wW7fzcnXXvHlT+ahSJf2F8NSpUzJ+wiSfsFxeSl4vNvZJf9y/19ov9nKekwAJkAAJkAAJkAAJkAAJkAAJkAAJkAAJkAAJkAAJkAAJkEAwBLzsc7CPVK1aWV5/7TWJruxXhw8flmXLljtEL5jjww+zyozpU63pFi5c7GPXge2nfLmy+gfgu3bvkc6duzpC4dh/EA1bTbbsuRy2o3jx4kmzpo0lR47sclLZWjDHkiVLrTlx0r17N6lWtYpV5rbtucU1VkN1Urt2XVm/YaNVhGvv26eXEuNkUD/mjqeiSvws3Xv0dNgnc+fKqUJQTbD6hGaDshr6OYH3nAwZszhqsY4unTsqjz6vyiElNoKNym7DQuO5c2ZJxoz3PfggLBTCQ5kEOysiHyB5hUdC+YAB/SRD+nT6h+sQNc2aPVszRp1JCFGFH5P7S4EKYx6GDRRei27d+tvfUqzyTJmzWuc4QaSPSCoKTPTo0SR27Ni6Duv+88+/HO28MviR/t6993UCcBSA/RE5ciR54QX/tluvsf7rMgpjwvEORCTccLwMqaVCEZ1QIYnsqVa2mlIxQwV70UM9f1iiGCyq+/Ie8vXBrY715Xkjt7Qr3NZR9l9mrly5qtye5XC8DM168PC/fv26yVpHuE+DGzV7gsp0167d9iJ9bo+VF4wwZty4CdKv/wCf8SDKcb+ATCMvYYyXtxvTfsH8OZIuXTqddcdPNG1CO3rNGVoff/WBMERfKEuhMA00FVAvX6iMTfr005EydNhwk7WO/u43rnHTxnXy9NNPW20D5QqBDb4s2ZNbYHLixEkt9rl40eldyd7Hfl6l8kfSs2d3q6h8hUqOL0amwt/1QEg0dMj9LyimPY6DBg2RUaPH2Iv0Ob489u/f16ecBSRAAiRAAiRAAiRAAiRAAiRAAiRAAiRAAiRAAiRAAiRAAiQQLAF4gmmgPOpvVFEdgkmwfcyeNV156Xd6yvdn3/A39ob1ax2eUUKy+3iNAa80c+fOckQJCEYYgx825y9Q2NMO6TUfylauWObwxhKIDcrfWKZ8ypRp0qNnL5MN9ViieDEZNmyIo1269JkcoiK3cGm8Etf07dff0Se0DIRJEBalTJnCb9NAhTERaQN1e5Y5dPCAY4/4vRiPCkT5gKcbk+x2XVP2uBwjUrtBjzGPy65wrbPEiFJy89ZNR2mbQq0l35t5HWXuzI5fd0r6ZPcED+66kPIPUxSDeUauGyXLd69wTPl+kvekfzmnyyxHg/8gA7UdHoqBpB49PhEIEyJFiuRo7uVmzTQwD71ghDFQadZSalGEGPKX4MHE/kD0EqlA5VqtWk1HWCAzXmel+IQnGqSIfCmY+d3HQBiiD7yowCMMYjCGluB1ZUD/fo44h/CM0rpNO1m6dFlo3QVfbIYNG+zjui9QriNHjpbBQ+579sEXtj27v/N5CR44cEDKKs8yXkIs+yJxv+Amzx46CirVChU/8lFM2/uZ80qVKmqlr/EUZMrNEesoVLiYyVrHmTOmSdasTtWwVckTEiABEiABEiABEiABEiABEiABEiABEiABEiABEiABEiABEgiSAOw1wz8dISNG3P9xc0hDpE6dWsaOHSVJkyTxaYZwPh06dJJ58++H+PFppAoguJg5Y6pgLHeCR5iWrdq4i33ysB2NGTNSezuxVwYjjEG/777/XurXb+QQldjHs58PHNBfypYtbS+SQG1Qjk4eGfc4Hk10EX6IPuLTYfLUU085mlT6qIps3/6NVQb75aiRn1p5nGzatFkg9AjNDoa28BQzZPBAiRs3LrJ+E4UxftE8chUUxoTjLYlIuOF1Gbdu35Kiw4v7DN+7TK8QRS8TNk+UBTsWSuVMH0n1rNV8+vsreNiiGMzjNWby+MlkXPX7oX38rSeiy48fP6HDzdhj6Zk14CX53nvvCtyq2ePimXpzhMeYjp26KPdmzvBRmzdtkMSJE8lu5aqtVOmyprlkypRR5syeaeXdJzdu3JSu3T6RRYucHkfQDmGVIJJ48637ilh3iCczHoQkffr2V55LFjleOAiB1KtnD90srMIYMyeu+eTJU2bKgI8QrthfoKExtA/8xRdrZOq06Y6XralPpVy81apZQypUKO8jYkIbfNlCf7iAs7shM/3xhahwoYLSsGF9RwxKU49jIFzPnj0ndldn8NQCjy1eCQyxHi/BDjwPlShZXLv98+qLOJP4sjd27HjPL1DplTs6uPMrWrSIV3dHmTsWJ/b/N9u/dohxHB2YIQESIAESIAESIAESIAESIAESIAESIAESIAESIAESIAESIIEwEkBIocWLl8iPP/7kEzUBPziGjeOD99+XOnVqib8f/mJq2H5mzZotsPX99ttxx2qSJEmswtCkl1YtW0rChAkcdfYMbDXjJ0zyCZuENhgDtjn8CNlu2zL9gxXGoN+5c+dlytSpMmPGLIcND3W4doRy6tSxvbz88ssocqRgbFCOjh6ZLVu+EkRcQHgmd8J1N2nSWEqXKulpK/rmm2/l4xat5MyZM3rNCxfM9RQenT59WoWCmiJ79uz1mQe2qHTp0uowWZUqVvCcx70uL2HMgZ/2SbRo0RxNH9QG6hgslIzbe87hQz+r0EeRQ+nlXQ2Rlj1819Ili+Tdd+/bhb17PZqlEandoMeYR3MPhLoqCGMgkLGnjkU6SM7UOexF1rkRxZgCCGMgkAkteQlYTJ/YMWLJgPIDBIKWYNPYjeNl8XdOUUeaRGlkSAXvMC7Bjh8e7W/fvi3w1nLmzFkdOidBghd9FJ+hzQtvIsePH9f94cUlevTooXUJsf7OnTvqBf6bfjnGjx9fi2y8XrghDvJvJV5KV65c0YrYhxl/rknT5rJq1WeBLMHRZt2XayRFiuSOMmSCYYhwWGfOnJY//rgmceLEkWTJknp+IfGZ5N8CvDjPnjsnN5UQKUaM6AKxT7B8Q+OKcElx4sSWmDFj+luGVX7jxg05deq0XLl6RWLFiiUpU6QI6AsABsBeuXTpkt6/+AIINW2iRK+E+aVrLYonJEACJEACJEACJEACJEACJEACJEACJEACJEACJEACJEACJBDOBPCj8cNHDsv1a9eV/SiFvPjiC0HPCFsJBCew3cCTDOw+sNEEk7AOhDu6cuWystFElZdeekmvJawih9Dmhn0StqFz589JVDUffnAPsUggKRgbVGjjQbwCZwIXla0pphLmYB2JEycO1U4FmxRso4kSJfL7g3P73KY9fviNPqF5h7H35fnjR4DCmHC8ZxEJNxwvQ6pNrCFnrp5xTFE/Zz0pk9bpKgsN3KIY06nWhzWlYsYKJutzDC9RDCbqvbKvbPrZGRswx+s5pFPRDj7rYMHjTeBhC2MebxpcPQmQAAmQAAmQAAmQAAmQAAmQAAmQAAmQAAmQAAmQAAmQAAmQAAmQAAmQQERqN+gx5jHdby3mtpL9J/c7Vl82XRmpl6Ouo+zyjcvSYFojwdEr1c1RR8qlux/Cx7QJT1EM5mg5r7XsO7HPTKePpdOWkgY56zvKmHn8CbRp206FanJ6BwrkqjasX6s8vCQLpCnbkAAJkAAJkAAJkAAJkAAJkAAJkAAJkAAJkAAJkAAJkAAJkAAJkAAJkAAJPEYEKIwJx5sVkXDD8TKk54resuWXLY4pEEYJ4ZTc6djF36TN/LZy5cYVd5XOQ4wCUYpJ4S2KwTw1JtWUU1dOmyn1sW52JdJJ7yvScTRihgRIgARIgARIgARIgARIgARIgARIgARIgARIgARIgARIgARIgARIgARIgARI4LEmEJHaDXqMeUy3yugNY2Tp98scq08YO6FMrzPVUWYyv174VYlj2snVm1dNkePYOHcjKfF+cYkIUQwEOhXGVtKx++yLaF+4reR+I7e9iOckQAIkQAIkQAIkQAIkQAIkQAIkQAIkQAIkQAIkQAIkQAIkQAIkQAIkQAIkQAJPGAEKY8LxhkYk3HC8DFm7f60MXD3YZ4qx1cZIiheS+5Sj4Mj5o9J2QTv5/ebvnvUZU2SUb45841kXO0YsGVB+gCSPn8yzPpjCz39YLUPXDPPpMrHmeEnyfBKfchaQAAmQAAmQAAmQAAmQAAmQAAmQAAmQAAmQAAmQAAmQAAmQAAmQAAmQAAmQAAk8OQQiUrtBjzGP6b65qsQtFcZUlDt37ziuoFqWqlIlc2VHmT1z+NxhJY5pL3/8+Ye9OMTzhymKwURdlnRVApxvHXO+EvcVmVJrkqOMGRIgARIgARIgARIgARIgARIgARIgARIgARIgARIgARIgARIgARIgARIgARIggSePAIUx4XhPIxJuOF6GHrrVvDbyw4kfHNO8+mJKGV11lKPMnTmkxTHt5Nqf19xVPvmHLYq5+fdNKTuqvPz9z9+OucqlKyt1c9RxlDFDAiRAAiRAAiRAAiRAAiRAAiRAAiRAAiRAAiRAAiRAAiRAAiRAAiRAAiRAAiTw5BGISO0GPcY8xvtn0XeLZdzG8T5XMKTiYEnzyls+5faCg2cPSrsFHeTaX/7FMQ9bFIP5F6s1jw3jmu3r5zkJkAAJkAAJkAAJkAAJkAAJkAAJkAAJkAAJkAAJkAAJkAAJkAAJkAAJkAAJkMDjSYDCmHC8bxEJNxwvQw996sppqTGpps80b778hgyrNNSn3F3w85lfpP3CDnL9r+vuKgkPUQxEONUn1vQJ4xQ7RmyZ33CuRIoUyWcdLCABEiABEiABEiABEiABEiABEiABEiABEiABEiABEiABEiABEiABEiABEiABEniyCESkdoMeYx7zvdNuQXvZ9dtun6voUryzZEv1oU+5u+DA6QNKHNNRbty6YVWFhygGg0/aMlnmfTvfmsecVMxQQWpl8xX4mHoeSYAESIAESIAESIAESIAESIAESIAESIAESIAESIAESIAESIAESIAESIAESIAEnhwCFMaE472MSLjheBnW0L+c/UWazmwud9U/e0oU9xUZW22MPB31aXux5/mPp36SDos6ys1bN8PFUwwmPfv7Wak9pa7cun3LsYbnoj8n0+tMlWejPesoZ4YESIAESIAESIAESIAESIAESIAESIAESIAESIAESIAESIAESIAESIAESIAESODJJBCR2g16jHkC9lDvlX1l08+bfK4k9xu5pX3htj7lXgX7T+6Xfp8NkB6lukvy+Mm8moS57M+//5QWc1vJ4XOHfcaon7OelElb2qecBSRAAiRAAiRAAiRAAiRAAiRAAiRAAiRAAiRAAiRAAiRAAiRAAiRAAiRAAiRAAk8mAQpjwvG+RiTccLwMx9CnrpyWOsoby+07tx3lyCBEEUIVBZLQP2rkqIE0DbgNPNn0Wt5bthz8yqdPglgvyuRak+SpKE/51LGABEiABEiABEiABEiABEiABEiABEiABEiABEiABEiABEiABEiABEiABEiABEjgySQQkdoNeox5QvbQ2I3jZPF3S3yuJlKkSPJJiW6SOWUmn7qIKJj29XSZtX2251QdirSXXKlzetaxkARIgARIgARIgARIgARIgARIgARIgARIgARIgARIgARIgARIgARIgARIgARI4MkkQGFMON7XiIQbjpfhM/Tf//wtbea3lR9P/eRTFzVKVGmet6kUSFPApy68Cu7cvSPjN01UYp3FnlMUeaewNM/XzLOOhSRAAiRAAiRAAiRAAiRAAiRAAiRAAiRAAiRAAiRAAiRAAiRAAiRAAiRAAiRAAk8ugYjUbtBjzBO0jy7fuCxNZjaT83+c97yq0mlLS70cdSRypMie9Q+r8Ppf16X3yj6y89fvPId8N/E70rdsn4cetslzMhaSAAmQAAmQAAmQAAmQAAmQAAmQAAmQAAmQAAmQAAmQAAmQAAmQAAmQAAmQAAk8UgQojAnH2xGRcMPxMvwOfejsIWkxr5X89fdfnm3SJksrH+drLglivehZ/6CFB04fkAGrB8mJSyc8h0oYO6GMrPypxIoRy7OehSRAAiRAAiRAAiRAAiRAAiRAAiRAAiRAAiRAAiRAAiRAAiRAAiRAAiRAAiRAAk82gYjUbtBjzBO4l7b8skX6rOon/9z5x/PqnorylBR/r5h8lKmSPBf9Oc82wRaeunJKJm+ZIpvV3P4S5hpcYaAki5/MXxOWkwAJkAAJkAAJkAAJkAAJkAAJkAAJkAAJkAAJkAAJkAAJkAAJkAAJkAAJkAAJPOEEKIwJxxsckXDD8TJCHXr3b7ul54re8seff/htGzNaTCmTrrTkeD2HJIr7it92/iruyl35+fTPsnb/l/L5D6vl9p3b/ppKkueTSI9Sn8jLcV7224YVJEACJEACJEACJEACJEACJEACJEACJEACJEACJEACJEACJEACJEACJEACJEACTz6BiNRu0GPME7yfTl05Ld2WdpNjF38L9SohXMmSKrNkSJ5BXlLhjuI+G1ciR4rs6Hf7n9ty8fol+e3iMdl2eLv+f/HaRUcbr0yG5OmlY9EO8szTz3hVs4wESIAESIAESIAESIAESIAESIAESIAESIAESIAESIAESIAESIAESIAESIAESOD/iACFMeF4syMSbjheRsBD37h1Q/qqsErfHPk24D5oCFEMxDHPP/u8CsmkBDFKAPP7zT+Uj5i7QY1TLl1ZqZO9tkSKFCmofo9q4z//+kv++P13iR8//hNzTWB98uRJOfDzL5IlcyaJESPGo4qf6/o/JnDnzh25dPmyRImsnk1x4/4fk3iyLv139Ty9c+euxIkT+4m6sL0/7JMbN25IhvTpJLLas09iunDxosSMGVOiR4v2JF4er4kESIAESIAESIAESIAESIAESIAESIAESIAESIAESIAESCCcCUSkdoMeY8L5Zj4Kw0PMsunAZpn69VSBF5mISG++/KbUVYKYt155KyKmC9c5IIaZMnWafPvtTjl85Iie65lnnpE0b70p5cqWkYwZ0j/w/N2695Rvvt0hfXp1lw/ef/+BxwtmgL///luKlSyjjbhlS5eSZk0bB9M9wtp+vvoLGT5ilJQqWVzq160T6rz/JVMzd/ZsH0rH9m39rvXM2bNSo1ZdXb961XK/7R60YumyFTJ2/ASpWKGc1KhW9UGHi9D+e/bulbnzFsjXW7dZ8+Lzly7tB1KzRjVJmSKFVc6Tx4PAmTNnZOLkqbJr9x45f/68XvQLL7ygn6n16tSSV14JPrSf+8oLFimui+bPnSWxnnvOXR2u+YMHD0nteg30HL16fCJ4DjyKqf+AQbJh02bp1qWTZM6UMaAlXr16VT1LJsq3O3Za9+7tNG9JsWJFpWD+fAGN8cO+/dK4aXPdtnbNGlK9WpWA+rGRL4Hfjh+Xeg0aS/JkSWXMqBG+DVhCAiRAAiRAAiRAAiRAAiRAAiRAAiRAAiRAAiRAAiRAAo8wAQpjwvHmRCTccLyMMA19W3l+WblnlczaNluu3rwapjFC65T4+cRSO1tNyfJqltCaPhb1p0+fkY6duzoEMc8++6xlEMRF1KlVU6pVrfxA19OhUxdt+O/bu4dkzRKx7OCJo2r1WnL8xAmpVbO6Qzjxccs2cunSJRkyeIDEjxfP5xpDq/fp8AAFy1eukkGDh0qJ4sWkVYt7RtWQhvsvmZq5sT4YnfPkzuW5VAgEyle6ZxTevOFLzzaBFk6cPEU2b/5KGtSvqz3/2PstXLRYPh05WsqXKyNNGjW0Vz2y53fv3pVpM2bK5CnTQlxj40YNpEK5siG2YeWjQ+C773dJpy7dtBAPq4Ig5vr161YeoqdPunaWTBkzPNCis+fKq/uvXLZYYsWK9UBjBdvZ/rkeNmSgJXY8d+68tG7bXl588QUZNKCfz7Ch1ft0eMCC7j17y7r1G0J8RtmnOH/hgnzcorV+V6A8WdKkck4Jm+AZBwmCxcofVdTn/v5AiAkxIN43SBXKl5PGDev7a87yUAj8euyYVKtRW15+6SWZO3tGKK1ZTQIkQAIkQAIkQAIkQAIkQAIkQAIkQAIkQAIkQAIkQAKPFoGI1G7QY8yjde8jZDU3b92U5btXyFcHv5JfzhwMOjySe5FRI0eVdxK/I7nfyCV538yjwzC52zyueWM4hFeKrl06ql9lJ9OXcur0aVm/fqOMnzhJ56dOmiApUiQP82UaIcV/IYzBov9SXnHOnj0nSZIkdlwDvC7A6AmvCwkTJHDUIRNavU+HByh4XIUxMPTPmDpJCwDcl283oD+oMKZXn36yZu2X0qVTB8mXN49jqsdRGLNk6TIZOvyeB4RcOXNI0SKF5O2339ZhW+AlYcbM2fLFmrX6Ont80lVy5sjuuGZmHj0CEOGVKlNeLl+5IrinELhBtILyw4ePyJx58+XLdesFn5lVy5dIlChRwnwR/6UwBovGNd6+fVteUGH3TMK+rVKtpn4WLJo/xxRbx9DqrYYP6cS830IS79mnMs+Y1Klfl4H9+kjs2LEFAra1X64T1CHNnjFNEiXy7/Fn+sxZMnHSFGtYCmMsFGE6oTAmTNjYiQRIgARIgARIgARIgARIgARIgARIgARIgARIgARI4BEhQGFMON6IiIQbjpfx0Ia+cO2ibDu8TbYd2ia7j++R2//cDmjsZ6M9K+mTp5MsKbPoI/JPWrp165bkLVBYX9acWdPllZdf9rnE/gMHy6rPPpea1avpsC5oACMv/keKFMnTsAtjKVLUqFH1EX/cwhgYG/FL/DjK8BgtWjSrnf3EzBM5cmTBfyR4HIgbN4489dRT9qZ6PQjbE+/55z3H++eff7SBM7IyREdW6zb5oiVKa2EMjJ0JEybQ82Cu0Oodk/+bOXvunDwXM6Y2envVu8tu3rypvdW8pH4JjzkfVBgTGlNzTYaBez131D25ozgh2e+dux3y5n6aunTp0moPEWBrT4EIY7CuK1euaubPPx/XZ26zrp69+8qGjZukfdvWkj9fXsf+8xLG/PHHH3Lr1t8SL97z9iV5noe2BnTy2o+///673lcwoAeTsI/LVqikuyAMDYQvZo/bxxk5eozMX7BIe0vAZxSfOXfCdd5Qe+mZGDHkuQBC6iB02g3lweR59VkJLUUUF3hUQYK3KnfCvsY6/D1v0B71aOe1twO5BvecYc3v//Enadi4qRaGLJw32+d+YQ99VKW6QHg4dPBASfvBvbByIa3f7H/39buFMRgD+yoBnmMe+8TOCYIcjIf1nFPPrReVKNDdB2LCS5cua+8vXgIe93Me8x879pvUqF1X4saJI4sWzNUYzT0Jrd6LebDPVIh1/lafeXisQQpGGAPOhYuW0O+DOTOn+YS76tt/oCDcXeuWH0txFVbJKxnhD+oKFSyg24dVGIP9fEVdTwwlooru5x3pXkOwvP7880/B8wNejQJJeHbcUv9D8lBk9rLZYxgX+zJW7FgBXQf6w5Nd/Bfi6/aBCGPQB/ce+85rrwZybeB9+fJl/Sx5TonZAmHuXivmcX8uvOYO6Xnn1Z5lJEACJEACJEACJEACJEACJEACJEACJEACJEACJEACjy+BiNRu0GPM47tPHvrKEWrp0rVLcun6JbmojhevX9R5GFLiPRtP4sV8Xh+fV8e4z8T1MWo+9AX9xwMagxOWsX7tah9BAsohWDh77qzEVoaihAkToki8RAi6Qv2B4Sx/wSI6u3HdGsvYb4QUvXt2l6NHf5XZc+dZ4SmyZsksRQoXkg+zOkMsmXkQ/ggGr+nKg8Z5JaZBgpigQ/u2clcZdgcPHS7btn9jjVcgfz5p1qSRQySAcFFffb1V+vTqoefp1r2nFlnowWx/sI52bVpJaPWmCwzBS5Ytly1ffW2tLXGiRNKkcUPJnCmjaeY4wgsIPBB8u2OnLof3iAb16vrGlvUAAEAASURBVCqjfuQwhVIKlClCnGBOf+FA5s1fIKPGjJO33nxDxoy658nEsXBbxtzPypUqyqw59wzgLZo3lVIlS9haiYQkjME+mDp9huM+gEWxIoWlXt3alvhp6bIVMmTYcMe4yMCYa7xSmL2CUErvKK8r02fMkl8OHtR90K5ShXJStkxpnzECXQM6mjmwH3GPZ86aY4UgQx7l/kJKuSeeM3e+jBk3XuCpaczoEX6NsNeVN6NCyqsREu4J7g0SwrWs+my1zJh1/zOB8rfTvKXZvfvOO8g6EkRFU6ZOF3zukcAl24dZdfgphCmxp4jgAuMwPKhs3/6tda+w/syZMkkFdb+e+ldYt2//fmnU5F5osTWrV/mwgsCveKmy+vNvD+sTzDXYr/1Bzo24LUP6dJ6hhDA2RDEQI7yknqdGYOB+PtnXsPO776Vl67Y6XBGuzyQjjEF4GXgogScaJHyGcmTPpu8r9pc9mXmGDBogm7dsUR6Y1mlu6FOqZHH9bDh85IiMGDlGvt+1y+qKZ0alShUc4hkz/4qli7RnFeNdy+r070nnju21kC20etMv2GcqPgt4Bn311VZrH2E/d1LzLl6yNOBQSrgnEII+/fTT0rVzR7Mc62g+s/7CtUFY06Jla9m1e4/UrllDYiihGoRtwQpjILYb9ulI2bptu/VOw37KlSunFClU0FqPOQmWFwQgy5avVO/Drx3vIOyZJipsm1tch/ZLl6/Q77idO7/T0+J5lyVzJr3H8ByxJ7PHsFexd79Y86X1bsTzq3WrFvq5Z++D8x/27Rd40bJfN8IKFitaWOrUa+gZSgl7FV639u79QQ+HfYx1Qbj03ru+z0D3nMhDUDN//kLrPWbawONT44YNLJGVKccRa8Xesn/vKF60iFSqWF4qKeGbV9inQJ939nl4TgIkQAIkQAIkQAIkQAIkQAIkQAIkQAIkQAIkQAIk8PgToDAmHO9hRMINx8vg0BFAwO4xpn69OgKRQyDJCAS8DIShCWNgUDt+4oSeBuEqDhz42ZpyYP++kjFDeitv5nktVSpt8IQ4BsZGGJaRIDy5du2aNlKhDglGLiQYENspzyImGWOdEcZAUAADpjH0wbiXNGkSSZ82rTZuhVaPcc9fuCB16jaw5sT1/PbbccuY2VSJY8qVLWOWoI8QxfTu298qM9eGAhixYeiDMRAhWEJLRpwSKNNVn6+W/gMGaVHHrBlTfYavWbuenj8kjwimk5m7beuWWsBirmnG1Mmao2nnTxgDTlWq1zTN9LXDg465t3nz5LaM0zA+Lli02LpX6AQPNfA2ZAzYZq8kS5rUEn6491eLj5tJqRL3RCYYI5g1oL2ZA8ZdeAaBETbRK69Yxni06du7p0DoFVqq17Cx3vswoFevViXE5idPntSCMwgpMCeS8eSEc5SlVGHOYKw1adL4sZIq1asma60dBdjrr6m6H9U14PMCTqNHDLeEcRHB5W/lVapdh07WPYUhGffffH4LFsgvHdq1sbyamPBEvXp8okVx1oWpk6+3btMejPAMWLxwnvYYEew12Md7kPPde/ZKs49b6iE+HTYkYOO8+/lkX0Nowhjz3HDvR/CYMG6Mw7Bv5jGfDTw7Ll66ZD2z8LyChzCEl7M/V7CeTh3aCUSHJrmFMV26dZcdSjiBvkj4jCJBlJY+XToJrR5tw/JMtX8WcM0xldcu844x1xBoKCWswV/q3PUTJSb6Sgs7IIJwJ3iTgVcZzDl18gQl8lgetDAG4pwa6jlsBKAfvP++EsHdsj7b5v1l5g4LL4gRJ0+ZpofAnoGXNcMLn8ORI4ZJ/HjxzBQyZdp0LahDAdq/qJ4fRlyH5+3okcM1c9PB7DGI3PBMwj2xv7cxxuSJ47R4xPSBiK16rTomq55P9975KDD72y02sQvmMOa777wtJ06c1NeCPO6BV3hEaxJ1gu8r9eo3sq4Ha8Xz0YgqcS/HjRnpuD68o/GuNMm+VvNucK81mOedGZdHEiABEiABEiABEiABEiABEiABEiABEiABEiABEiCBJ4NAhGo31K9d/6/SL4d+/b+6Xl7sgxFQRq+72XLm0f8bNWl2Vwk37l68eDHEQRcsXKTbjxg12qfdzT//tMZTYQas+vYdO1vlffoNuHvt+nVdp4zhdydMmmzVnTh50upj5sH6lCFPOYe5o/8r46TVHnXf7thxF3Ph/4yZs606rMUkJeTQ5cqziynSxwKFi+ny02fOOMpNxl+9CjNyt3bdBrqvCtdxVxk0dResQf2S3FrDiRMnzFB3D/z8s1WOa8MYSFevXr3btn1Hq27QkGFWn5BOgmWqPBFYcxw6fNgxtPI6YNVdVe1CS2buFStX6abKaKz7g8mtv/+2up8+fdoa1ypUJ0o8oMsbNGpyVxl3dRXurxLBWO3BxZ569u6r69as/dJerM/te6Vf/4F3VTgLXY6xcX+wTypUquLoF+wa7HPgHpn9jT3bvEVrPUerNu0cc/jLmH2lRB3+mvgt371nj8UIn1dzrdiDmB/XOnLUGKs/uJYuV1GXL1y0xCrHZ69F67a6fOmy5VZ5RHAZMGiwnhfrOnLkqJ77H7XOfft/vGvYTJsxU5fjz8TJU3T7rp/0sMrMibm/Y8dNMEVh2l9W5wc4wZ4wewH3AXsWe1qJRUIc1d/zCZ2U2ERfO8a1J4xv/isRxl3lOUVX4/lt9kGNWnWt/YFKMw/6YV1ISiB5F+zMWCrU093Dh4/oOjxDzWcd7wd7Mu1VuB+r+Nhv954juK9eKaT6sDxT7c9aJXS8iz2EhHmKlyxjXZPypuO1nIDLMLa53rNnz/n0u3TpkrVv9+z9QdfPm79Q9xk5eqxPe38F+DxjHvAz7xS0Nc9FXJO5z2HhtW79Bus6lAc16xl2/PgJ/XzE3JOnTrOWh2etuW7lycXaSydPnbqLZzfqsC/xjDHJvsdwPSbhs23uyczZc0yx/i5gnk/4vOA9haTCPN21fz9xP7/7DRik58czwTwDsY7xEyZZ5dYkfk6mTZ+p2+KZ89OBn61W+D5gnkPKs45VjntirqFXn37WWnEvpk6boccCE/dag33eWRPyhARIgARIgARIgARIgARIgARIgARIgARIgARIgARI4LEnEJHaDXnsaQV5AREJN8ilsfkjSACGXBjLYMgxBjAcYVCFyOTS5cs+qzYCgbAIYzAPDPL2hDUYY/zipcusKjOP28iEBlgf1gmjrT3ZxR9Hf70vEjPGuocljIHxE/NrIYgyLLsTjGaoVyE+rKqQjPuXL1+xDHHBCmOCYWpEBJMmT7XWhRNj1PMSHjga/psxxnIjjIFx3BgM7WP7E8bAkAjDrNf+gmEe7CAIsKdAhDFYA/aTPf3yy0E9HsY0RlfUB7sGsx/1HDZDMMbCtWB8GFPtRmLUuZNdPOZlZHe398rDkA1BmDut37BRr8MuYoAxF2vD/1OnTju6XLhw8S5EUfYU3lwgxDDr+WHfPvvU+txcg11cYRduKS9RVh8ITsxYRsyBymCvwRrQdQKD+6bNW+5CwGREF64mPlmsCYZ/Y1g364MISXlj0UIUdyd/zye0C00Yg2eNO0EcY+a3i+DMPIOHOsV3EHaYdULQYU/bv/lW12E8ezLtH5YwJizPVCPOWLZ8hX1p+nzPnr3WNT2IMObcuXPWs80u1rJPaJ6r9md3WIQxY8ffEyhBPOpOP/70k0NgFRZeRrSFZ5k7gRcEVfa5TXv7e8z0gyDQ7AH7c8XsMa99CZEQ+tjfM2Z/4z2mwg2Z4fURnzkj3nN/D6jboJEe6/Mv1jj6QJi5/8cfLbGMo9KVwfh4Bh08dMhVc/euCtGkx7e/z/DMxfqxFrfYDWMZQZp9rWF53vkshgUkQAIkQAIkQAIkQAIkQAIkQAIkQAIkQAIkQAIkQAKPLYGI1G5QGPPYbhMuPCIJwAAMA5MxQhmDF45uw5MRCIRFGGP36mC/vs8+X60NTvgVuElmHvza2p1U6B7d3i6kMW2MJxcYEk0yxrqHJYwxawMDeDZx/zdGUbuR0RjNYGj2SjAkgrfduOrVzpQZcUowTI3nAYgO7AIOGPIwN7wCBJLM3EYYgz5mbIwD7wBI/oQxutL2B4IVGPDXfrnOMujbvQ2gaSDCmE969LKNev/UeCT4+Zdf7he6zkJbg7nnXnPAuwGuG/8hcgopQRhm2p47fz6kpgHVwYMEOH+/a7c2amNsu6gEg7Rp10HPCWMyPC5hvYGmh83FeE7C59RfMqIOCDZMMoZw+74wIhoI5UJKoV2Dv75mfDA1Hlb8tXWXY87pM2dZIj5zz3FvwMCe/D2f0MYIB/x5jPH3mcWzB3PaeZl5vLwuGWGbXUiD+XEdZu3Im2TKHpYwxny+An2m4p1l1mA8kJm1maO5prAKYzCuEWHi3Wi8tZjxcTTCIcwFViaZd0AwHmMg6DDXNG7CxLt2j2NmXHMMlhcEg2bs0J5RmMPe3n5dZn4cIXDBmBCPmWT22LIVK02RdTSed6pWr2WVQXSDMXC9XmmlEpOh3i42Qbs5c+fpcnCH5yC3hzGvsUIrg2gR3obwmTKiK/t3EuORDl7uvJL5HmNfa1ifd17js4wESIAESIAESIAESIAESIAESIAESIAESIAESIAESODxIxCRwphIwPNkRKAK7CoiNE5VYEtiq8eMwPUbN2T79m9k3oKFcuDAz3r1A/v3lYwZ0uvzhYsWy6cjR0v5cmWkSaOGjqv786+/JH/BIrps47o1EjlyZH2ujGWivC5Iu7atpUihgo4+yOz/8Sdp2LipJEuaVKZPnaTrQ5pHGX1l9RdrpG3rllK0SGHHeHXqNZRfDh6UcWNGyhupU+u6jp27ivLqIX169ZAPs2ax2hcsUlzUL79l/txZkjBBAqvcnPir79Grjyhjq2nm95g69esyfswoXW+NNWemJEyY0KfPrNlzRRkHpUTxYtKqRXOfendBWJgqY7IULVFaX/PY0SPkzTfekIMHD0nteg3kmWeekZXLFkvUqFHdU/nkzdxu/kOGDZely1bIyy+9JFMmjRdlrJTylaro/ps3fOkYB/tBGehl9+49cvnKFUcdMp07tpf8+fJa5Uo4pNt36dRB8uXNY5XjJKS9gvqatevJ4SNHZPzY0ZL69ddQpFMwawhtjuy57q112eIFEjduXDOF59G0HdCvj2TKmMGzTUiFFy5elFWrPhcl9NJ73d32hRdekEXz51jFyiAtzVu0svI4+eD996VsmVKSJUtmiRwpkqMuPLmsWPmZDBw8RAoVLCAd2rVxzGsyWCvWbOezfMVKUaIxzQvlSOZz3aJ5UylVsoTpro/BXIOjoy2jhDGihFC6pHu3LpIrZw5bbeCn58+fl81bvpbpM2bqvY7P2oxpk+WF+PH1IOY63M8nVO787ntp2bqtvl/Dhgy0JjV7aPaMaZIo0StWuTmZM3e+jBk33vGcDmmeEqXK6rXNnDZFkiRJbIYR5aFHChcrqfP2z7CZf8XSRRI7dmxd/9vx41KlWk1x7z8zWEj1wT5Tjx79VarXquN3LszZsk072bnzO+nWpZPkyZ3LLCOgo/L0IW3bd5Lvd+3S76XRI4dLzJgxHX2VwEwqq+vF/XXvj/kLFsnI0WOkQvly0rhhfUc/fxl8XVUCQMe7BSxz58qpxikr8ePFs7oGy0t5XZKqNWpJ3DhxZNmShdY4/k4Caa9CEcmkKVOl8kcVpX7dOnqokPYYnsF4FidOlEhmzZiq23fr3lM2bNzk87w369q3f780atJcv1Pmzp5hiuXixUvSrkMnx/MvZYoU+vtAkSKFJHq0aFbbkE7w/lu56jP55tsdcur0aZ+mRQoXknZt7j07u3TrLkoEJF07d5S8eXL7tDXfY/D+M2sN6/POZ3AWkAAJkAAJkAAJkAAJkAAJkAAJkAAJkAAJkAAJkAAJPJYEIlK7QWHMY7lFuOhHgYD6xbioX0uL8jigjUAwBiGFJBD4fxHGGAMZeGRVwgJ/KYES23zcrAk8V0mhoiW0IGXe7Jny0ku+wpiZs+bI+ImTwlUYg3XCWA6juTHYQowDUY7J+7sWe7k/YYzyhqINnzAwQuBTuVIFT2HMuPFqzjlzrSHTpUsriV95RZIlS6rFLzAwhrcwJtg1hLTvcSFGKBCIMMaIt+rUrinVqlS2OHidnL9wQW4pwRkM5E8//bScPHlSG4qNmAhG5tdeS6WNzdFjRBflQchTLHDm7FnNFgIxI3jDfDAmDx08UOLEuSduCG8uS5Ytl6HDPpViRQtLm1YtvS7ZEjT069NLsmTOpNsorxVa1IXM8iWLJEqUyFKkeCld52Ye7DXoQTz+4BkIgY3yFKLFCZFcAiKPLiEWqbBW0qBRUzl+4oRD1BeSmCCswpjZc+fpvVCubBlp2viegDGkef5rYUywz9QjR45Kjdp1Pfe6uQlhFcbgvkN4AsEGhCQQWXqJGc0+ey1VKiWM6Wym1Uc8Y5evXKWFXM2bNpbnnntOYsWK5WjjL6M8W4nyOCPKc4l+Z5h2LT5uJqVKFNfZYHkZUUqgwhjT3p/ICYsw76xKFctLw/r19LpC2mNmzGCEMT/s2y+Nm/oKYzDZHfVe/UqJAyGa+3bHTj0//uAae/fqLmneessq8zrBZxvvMpMgZE2eLJkkSZxYlLceWfX5arELY4wYyZ/Ad9eu3dK8ZWuHiCeszzuzJh5JgARIgARIgARIgARIgARIgARIgARIgARIgARIgAQebwIRKYxhKCVlkWciAS8CR44c1WE6jv76q1e1Lvt2xw6fMAaLFi/RZQj9406HDx/RdQh9gFAMJpnQO2PGjjdFjuOqf8Ml2EMP2UNFOBqrjAmlZA/lY9pERCilmbPn6OucOHmKmTbUowlT5S8kS/eevfWYwYZSCoYpFvnLLwf1PAhBgdAgOOJ+oTzQZO6nF3+EUcJ4+L9w0b29gnOTrqvwJKZ+/oKFdxESxZ5MeA57CBjUBxJKySu8F/qacCg/HbgXwiYsawhpP2IOc0328D8o90omJAf26l9//eXVRJcpb0bWuHt/2KfLEMYDc+Gajh8/4eiLMDioc4dScjRSGYyLsB/m3uM+IUUEF7M/EBrJXzKhlNyhpszeWL5ilV4/rlUZth3DhOUaHAM8QGbPnr36mXrhwkW/o4yfMEnfI/vnvFOXbroMYWPcacnS5bou2FBKeD6Djz0UHlihzB1SDnOavaA8hTiWoMQ8ug/62RPy+P+wQikF+0zFs8usQXm1sS/NOjf7KJhQSggxN3joMD02+of0fjQh6Mw6QjrimRlswlrwTjX3EutRnmz0MA/CK5CwQ/ZQVfhMeSXzzlq3foNVHdIeM8+nj6pUt9orcY1m7S8kIN4x4GoPT2R1tp1gvQg7ZkIguZ8LtqbWqWkLvtjn9oQwjZjXHkrJvM+Uxzx7U+scIZ3ca32Q5501ME9IgARIgARIgARIgARIgARIgARIgARIgARIgARIgAQeWwIRGUqJwpjHdptw4eFNwG7E+UcZ4LzS1GkztKEHBmmTIOwwBsCbf/5pivVx7rz5Vp2XMAbGLXcftGv2cUvdD2syKSQhwsMWxriNwWYNxrDqrldeHPR6IWy4pQy07gQBBkRF9ms1BnEVmsXdXBuXzVx2g7lPQ1uBEacEw9R0r1q9ll7/lGnT9RH5YJKZ20sYg3EmT5mmxzX7BEeTfvzpJ12H64Xh156wFwwHf8IYrzlD2isY3y2MCcsaQpvDXGsgwphTp05bfCD4cXMwTJQ3H90OQhfzGW3bvqMug2DCnZYuuyeisAtjrimjNj6zXoIsCJOw7sbNPtZDRQQXfCYMKxjK3Wn7N9/qegg13El5eNB1eF4YoZkKbeJoFpZrcAzwAJnOXT/R67Mb093DmWed/f6NHT9B92vVpp27+V1zv/0JY7wEitiD5nN08NAha8yQRAsPUxiDub3Ssd9+09fpVR+WZyrEVdhLy1as9Jluz94fdB3qgxHG2J9dRkjnM/i/BRCG4LPj9d/scRxR70/4YR/7yJGj+lrcIg27SOX773fpLmHh1ahJM80Ezwl3ggAH76ahw0dYVVi35rt8hVVmTpQnK2uPKe8qplgL1dDHS3zlJYyxi28h2LMnPPPM59wujIEo6od9++5CUOtOB37+2brv9vevux2eueYe4drdyYjw7J9liBPRB/vXLUrEPYPgB/X2tT7I8869JuZJgARIgARIgARIgARIgARIgARIgARIgARIgARIgAQePwIUxoTjPYtIuOF4GRw6AgjAq4ExDEGMYf/VPQxSxlMB2sC7hEkwiJl+MKKdPXtOi0PgmcCU4+gljEH5gEGDLS8ZMHAZ8Q3qYDg1KSQhwsMSxhjDqvGYYeY2R3/1+AU9xAdYM4QNdnEMjISmDr/qNwmGPLTH/2XK0Gj4qPBDljERdcEKY9AnUKZmLSpMh7UW9IdAIpgUmjAGPIznHoyP/ybZvaDAuGsSjL/wGGTau4UxRiQC7xpGJGL6hrRX0MYtjAnLGkKbw6w7EGEM1jRn7jzrWmF8hdEVnwekc+fOWV4rMK6dhTHcw2ht5wAjvhFD2IUxEI6Ytdk/X38qgYrZ3yNHjdHzRhQXGOCxJhiS7V5hIEAzAg2IRdwJ+8pcI/rj3O1xJyzX4J4nrPmNmzZbrCHyM59xjIfPOT7b5l7YxQTrN2y0yiHywPMFgiZ4pjDt/QljUA+BgNkLeI4bMQ342p9N4S2MsXuX+eUXXw9UIdWH5Zlq/wxBEGUSPj/mGQw+gQpjjFgUfb7ftdsMF6ajecaOHD024P5GWDFw0BCHWM7+Gb58+YoeLyy84GnJ7Kddu/dY67r6++9avIM6u4AHe9G0x/vLJHicMYIVPEPswr6Q9piXMEaFSLM+83j+GzEL3gfGmwzWYBeb2L+DrFn7pVmW/rzBaxja45kfWjJCITxT7cl4qcE4dmEMvPUYsRDuFb7z/Prrsbtfff21Je51rxXjhvV5Z18Tz0mABEiABEiABEiABEiABEiABEiABEiABEiABEiABB5PAhGp3YgERI935KngVh+hcaqCWxpbP4IE5i9YJCNHj7FWljr16/JU1Kjyw779VlmB/PmkTasW8vTTT1tl6pfyosInWHlzkiN7NlFGPJ3duG6NRI4cWZ8rY5kobw/y1ptvyP4ff9JlGdKnExVmQJQhW+d7du8m6G/SwkWLRRmGpXy5MtKkUUNTrI/KgCarv1gjbVu3lKJFCjvq6tRrKL8cPCjjxoyUN1Kn1nUdO3eVr77eKn169ZAPs2ax2k+fOUsmTpqi8y+88IIUyJ9X6tWpHVD9b8ePS70Gja3143qQvt2xUx9ffuklmTplokSPFk3n8WfJ0mWixEQ6/8wzz8jrr6USZaDUecOmRPFi0qpFc10W0p+wMDXjXbh4UUqXrWCysmThfIkX73krH9qJmduLv+mrRA5StUYtk5XNG760zrt17ykbNm7Seey5uHHiiPLwYLFEReeO7SV/vrxWn72qvknzFjoPdq++mlJGDh+q8yHtFTSoWbueHD5yRMaPHS2pX39N9wl2DaHNkT3XvbUuW7xA4saNq+cI6Y8yJovyIiSz585zNAOLy1euWGW1a9aQ6tWqWHnsbexxJHB4/7135fz5C3rPm0bYy4vmz9FZJbYRZSSW4ydO6Pzbad6SGDFiWPsUhZMnjpNXU6bU9RHB5c+//pIWLVtbz4KUKVKIEpHIr8eO6TVkz/ahdO/WRaJEiaLz9j94XuG5hVS6VEn5uFkTe7U+D/YafAYIYwFY49lkno1mn16/dl3vPzMs1oy1m6QEI9KgUVPrHplyHMFi85av5IP335dhQwZaVWa/mecG9k3y5Mnl+127dBvMPWn8GHnllVesPv6eg2hQolRZve9mTpsiSZIktvoooY0ULnZvrfbPsJl/xdJFEjt2bKv9xy3bWGvAPmz5cTPJmiVzQPXBPlOVvynp3qOX9SxJnCiRPBvzWTlw4Gc932upUunPRbcunSRP7lzWGrxOjh79VarXqmNVgZ9XelFd0/Spk7yqHGXm3VqhfDlp3LC+o85fRgl4pEevProa9/Odd96WgwcPyanTp3VZwQL5pWP7tlb3YHmh4/ARI2XR4qV6DLyjkidPpt9BeA9jznFjR0nCBAl0Pf6MGDVGlChQ59E+btw41ucW+TGjR+h+pkNIewzPYDyLcZ9mzZhquuj7Va9hYyuPZ9rPvxzU7wOzvzHX3NkzrDaDBg+V5StX6TzGS548mSihpfUOad+2tRQuVNBq73WyZNlyGTrsU12F8fFOUQJD9Tw9bzUvUriQtGvTysrjs9rs41aOz7OpxL2eN3+BuNf6IM87MzaPJEACJEACJEACJEACJEACJEACJEACJEACJEACJEACjyeBiNRuUBjzeO4RrjoCCcCQOnb8RMuYaKaGsbpggXxKmFJWIkWKZIr1EQbgIcqgBHEDDGowgObKmV1qVKtqGVE3rl8rkf/tZ4QUQwcPVMar72TW7LnWeDDUFytWVAoqAY49GRFJSMKYDu3aSKGCBezdBAY2GEbtwpgu3bprwY5bGANjPK4dxiwkiDTGjxlljRdaPUQKMIBCdGMEPugMcUv9urUlZsyY1ljmBEbJz1d/4RAyNGpQTxImTCgqfIPuG4wwJhimZg04tm7bXosjMmfKKP379rZXhXpu7mdIwhgMojwwyLBPR+rx7EZ1s3+UpwvHXM2bNpFDhw7Jqs9X+whj0FB5B9D7zrBevWq5FoeEtFfQz0sYE+waQpujYJHieg+sXLZYYsWKhWkDSip0kCjPF5ZAynRKly6tQBQDw7A7Ke8yAnGa3YALI3r1qpWlVZv2+vNohDHoq7zYaAHOtm3fOMQXMEC3adVSEiW6L56IKC5XrlyVqdNniAq5Yl0HDNzZPswqNWpUcwjK7NdvFwaNVUb5N9/w5RPsNdjHf9BzaHEXL1mm974RI5kxcY+qfFRJMmXMYIqs47lz56XfwEGyc+d3ugyiDoj+kiqRSnMlIoLwbtCAflZ7I0xZumi+9B84WFSoLKsO4r+PKlWQNG+9ZZXhxN9zEHVGGDNn5jSHmCZYYYzyJqLFQWY9VSt/JHXr3BfIhVYf7DMVooOJkyard9Fmax9B4NGlc0clxtyqRSCBCGMg2GzYuClQhJjsorOQGoZFGIPx8E7Fcw5CUpNwPeXLl5VKFStY71RTFywvvNPw/v1KsTECIoyF90Db1q18BJIQ8CnPZ7J581fWOwvryZI5k1SpXMmxVzBOSHvs6K9KfFSzjuC7xZRJ49HcSjt27lTv4YUOwR5EuTWqV5VKlav5iE1wHXPnLZCt27Y5hLx4hjRt0sjzM2ZNZjvBc32cEiiadwqqihctIilTptAiVrcwBvX4TECEg+9OR5SgCqLCnDmyS5w4saVajdo+a0WfsD7v0JeJBEiABEiABEiABEiABEiABEiABEiABEiABEiABEjg8SVAYUw43ruIhBuOl8Gh/wMCMDTBkKvCBShjbBKJZvN04m85+MU+jO7x48Xz18SzHMZMFYJAGZASBiUi8BzsIRTi2uFFBZ4P7B5ezNCh1cMYfvz4CYkSNYq8pAQuxlOO6e91vHjxkly/cV1eefllT88YXn1CKguWaeOmzbVBEZ45cuXMEdLQ4VYHAQO8HoBXImXQhLei/7V3H2ByVeUfgL9IQhJSIT0kJIRQpHepihUBEdQ/0gSUDmJBpAqi0kFFKQLSlCIqIGBBQVEUpAZCFyRAIKQnpDeymP89AzPMTGY3m83OZCd57/PIzG3nnvueO4vPc398pzlLNpVGbpy6devWnMObPKalfWiy0RbsTOOXTQET7TODfn37NuuZSM/slKxaTL/+/UqqNjR1+XROqnqQXiCnazW21NJl7LhxsWqHDrlAT2P9acn2Wt5Dpf6lMX09q4LTuVPnLEDQvN95+vubTbtUUoWlUtvl29KL9wkTJ8baQ4c06293+fmtvZ5N1RUzZ87KBS0qVf5Z0v6W/E1Nz1H+99Pa91Pr9rKphHIVlHpl/25NQZQlLS3xSs/MtGnTchWCKo1R+TXT8SnYlCoKlYdly49t6Xp69idMmBgDBg6o+O/iSu3OycK548aOywX8UjWspV3S/4/JpjbL/X+f9O/jlrSRrjly5FO5EFt5wLa8P9X6e1d+HesECBAgQIAAAQIECBAgQIAAAQIECBAgsPwFapndUDFm+Y+3HhAg0MYE0n+dnyqLpOlC0tQ/zQlBtbFb0B0CBAgQIFAzgRSQ/c2tt8WTT46Ms8/6/mLBnYt+9OP4wx/vjoOzyl2HH/qVmvXLhQgQIECAAAECBAgQIECAAAECBAgQIECg7QoIxlRxbGqJW8Xb0DQBAlUQuPW227OqEpMiTWGUpo447thjsqmyvlCFK2mSAAECBAisOAJp6rqDsqmS0r87hw4ZEvvtu0+uEtSoUa/mpoRLUyul5bJLfhKbbrLxinPj7oQAAQIECBAgQIAAAQIECBAgQIAAAQIEWixQy+yGijEtHiYnEiCwIgmkaWU+/qndCrf0qU9+Ik4+8YTokE1hYyFAgAABAgSaFnj+hf/EueddkJt2svzIVIHt1JNPjI98eOfyXdYJECBAgAABAgQIECBAgAABAgQIECBAYCUVEIyp4sDXEreKt6FpAgRaWWBhQ0M8/PAjkaaDWGutwbHOsGGtfAXNESBAgACBFVugIft36UPZv0tffe21mDJ5SvTq3SvWHjo0Nt54o+jdq9eKffPujgABAgQIECBAgAABAgQIECBAgAABAgSWSqCW2Q0VY5ZqaBxMgAABAgQIECBAgAABAgQIECBAgAABAgQIECBAgAABAgQIECCwLAKCMcuit4Rza4m7hK7YTYAAAQIECBAgQIAAAQIECBAgQIAAAQIECBAgQIAAAQIECBBY6QRqmd1QMWale7zcMAECBAgQIECAAAECBAgQIECAAAECBAgQIECAAAECBAgQIEBg+QkIxlTRvpa4VbwNTRMgQIAAAQIECBAgQIAAAQIECBAgQIAAAQIECBAgQIAAAQIE6lKgltkNFWPq8hHRaQIECBAgQIAAAQIECBAgQIAAAQIECBAgQIAAAQIECBAgQIBAfQoIxlRx3GqJW8Xb0DQBAgQIECBAgAABAgQIECBAgAABAgQIECBAgAABAgQIECBAoC4FapndUDGmLh8RnSZAgAABAgQIECBAgAABAgQIECBAgAABAgQIECBAgAABAgQI1KeAYEwVx62WuFW8DU0TIECAAAECBAgQIECAAAECBAgQIECAAAECBAgQIECAAAECBOpSoJbZDRVj6vIR0WkCBAgQIECAAAECBAgQIECAAAECBAgQIECAAAECBAgQIECAQH0KCMZUcdxqiVvF29A0AQIECBAgQIAAAQIECBAgQIAAAQIECBAgQIAAAQIECBAgQKAuBWqZ3VAxpi4fEZ0mQIAAAQIECBAgQIAAAQIECBAgQIAAAQIECBAgQIAAAQIECNSngGBMFcetlrhVvA1NEyBAgAABAgQIECBAgAABAgQIECBAgAABAgQIECBAgAABAgTqUqCW2Q0VY+ryEdFpAgQIECBAgAABAgQIECBAgAABAgQIECBAgAABAgQIECBAgEB9CgjGVHHcaolbxdvQNAECBAgQIECAAAECBAgQIECAAAECBAgQIECAAAECBAgQIECgLgVqmd1QMaYuHxGdJkCAAAECBAgQIECAAAECBAgQIECAAAECBAgQIECAAAECBAjUp4BgTBXHrZa4VbwNTRMgQIAAAQIECBAgQIAAAQIECBAgQIAAAQIECBAgQIAAAQIE6lKgltkNFWPq8hHRaQIECBAgQIAAAQIECBAgQIAAAQIECBAgQIAAAQIECBAgQIBAfQoIxlRx3GqJW8Xb0DQBAgQIECBAgAABAgQIECBAgAABAgQIECBAgAABAgQIECBAoC4FapndUDGmLh8RnSZAgAABAgQIECBAgAABAgQIECBAgAABAgQIECBAgAABAgQI1KeAYEwVx62WuFW8DU0TIECAAAECBAgQIECAAAECBAgQIECAAAECBAgQIECAAAECBOpSoJbZDRVj6vIR0WkCBAgQIECAAAECBAgQIECAAAECBAgQIECAAAECBAgQIECAQH0KCMZUcdxqiVvF29A0AQIECBAgQIAAAQIECBAgQIAAAQIECBAgQIAAAQIECBAgQKAuBWqZ3VAxpi4fEZ0mQIAAAQIECBAgQIAAAQIECBAgQIAAAQIECBAgQIAAAQIECNSngGBMFcetlrhVvA1NEyBAgAABAgQIECBAgAABAgQIECBAgAABAgQIECBAgAABAgTqUqCW2Q0VY+ryEdFpAgQIECBAgAABAgQIECBAgAABAgQIECBAgAABAgQIECBAgEB9CgjGVHHcaolbxdvQNAECBAgQIECAAAECBAgQIECAAAECBAgQIECAAAECBAgQIECgLgVqmd1QMaYuHxGdJkCAAAECBAgQIECAAAECBAgQIECAAAECBAgQIECAAAECBAjUp4BgTBXHrZa4VbwNTRMgQIAAAQIECBAgQIAAAQIECBAgQIAAAQIECBAgQIAAAQIE6lKgltkNFWPq8hHRaQIECBAgQIAAAQIECBAgQIAAAQIECBAgQIAAAQIECBAgQIBAfQoIxlRx3GqJW8Xb0DQBAgQIECBAgAABAgQIECBAgAABAgQIECBAgAABAgQIECBAoC4FapndUDGmLh8RnSZAgAABAgQIECBAgAABAgQIECBAgAABAgQIECBAgAABAgQI1KeAYEwVx62WuFW8DU0TIECAAAECBAgQIECAAAECBAgQIECAAAECBAgQIECAAAECBOpSoJbZDRVj6vIR0WkCBAgQIECAAAECBAgQIECAAAECBAgQIECAAAECBAgQIECAQH0KCMZUcdxqiVvF29A0AQIECBAgQIAAAQIECBAgQIAAAQIECBAgQIAAAQIECBAgQKAuBWqZ3VAxpi4fEZ0mQIAAAQIECBAgQIAAAQIECBAgQIAAAQIECBAgQIAAAQIECNSngGBMFcetlrhVvA1NEyBAgAABAgQIECBAgAABAgQIECBAgAABAgQIECBAgAABAgTqUqCW2Q0VY+ryEdFpAgQIECBAgAABAgQIECBAgAABAgQIECBAgAABAgQIECBAgEB9CgjGVHHcaolbxdvQNAECBAgQIECAAAECBAgQIECAAAECBAgQIECAAAECBAgQIECgLgVqmd1QMaYuHxGdJkCAAAECBAgQIECAAAECBAgQIECAAAECBAgQIECAAAECBAjUp4BgTBXHrZa4VbwNTRMgQIAAAQIECBAgQIAAAQIECBAgQIAAAQIECBAgQIAAAQIE6lKgltkNFWPq8hHRaQIECBAgQIAAAQIECBAgQIAAAQIECBAgQIAAAQIECBAgQIBAfQoIxlRx3GqJW8Xb0DQBAgQIECBAgAABAgQIECBAgAABAgQIECBAgAABAgQIECBAoC4FapndUDGmLh8RnSZAgAABAgQIECBAgAABAgQIECBAgAABAgQIECBAgAABAgQI1KeAYEwVx62WuFW8DU0TIECAAAECBAgQIECAAAECBAgQIECAAAECBAgQIECAAAECBOpSoJbZDRVj6vIR0WkCBAgQIECAAAECBAgQIECAAAECBAgQIECAAAECBAgQIECAQH0KCMZUcdxqiVvF29A0AQIECBAgQIAAAQIECBAgQIAAAQIECBAgQIAAAQIECBAgQKAuBWqZ3VAxpi4fEZ0mQIAAAQIECBAgQIAAAQIECBAgQIAAAQIECBAgQIAAAQIECNSngGBMFcetlrhVvA1NEyBAgAABAgQIECBAgAABAgQIECBAgAABAgQIECBAgAABAgTqUqCW2Q0VY+ryEWndTi9atChmzJwVs2bPjjlz5sW8efNiwdtvx8KFDfHOO+9E2m8hQIAAAQIEKgu0a9cuVllllejQoX10XHXV6Ny5c3Tp0jm6de0aPbp3i7TfQoAAAQIECBAgQIAAAQIECBAgQIAAAQIECBAg8L6AYMz7Fq3+rZa4rd75VmxwwYK3Y/LUqTF16rSYNn1GdOvWNbpnL/C6dFkte6HXKTp17Jh7wZde9Hmh14rwmiJAgACBFU4gBUhTkDQFSucvWJAFTOdnQdO5MTMLnM6aNTtW79kjevVaPfr06hUdO666wt2/GyJAgAABAgQIECBAgAABAgQIECBAgAABAgQILK1ALbMbKsYs7ejU+fFTpr4V4ydMyoVh+vbulXtRt8bqPXP/pXud35ruEyBAgACBNieQAjNvTZueC6JOmjI1F5IZ0L9v9O61Rpvrqw4RIECAAAECBAgQIECAAAECBAgQIECAAAECBGolIBhTRela4lbxNpa66YmTpsSYseNy1V8G9u8X/fv1UQlmqRWdQIAAAQIEWi6QKstMmDg5xk2YmJumcPCaA6Nf394tb9CZBAgQIECAAAECBAgQIECAAAECBAgQIECAAIE6FahldkPFmDp9SJrb7ekzZsZro9+IRdkJaw0a6L9Qby6c4wgQIECAQBUFUgW3N97MAqvZNdYeulb07NG9ilfTNAECBAgQIECAAAECBAgQIECAAAECBAgQIECgbQkIxlRxPGqJW8XbaFbTo14dHRMnTY5hQ4dEmrbBQoAAAQIECLQtgTS94aujX88qx/SJ4cOGtq3O6Q0BAgQIECBAgAABAgQIECBAgAABAgQIECBAoEoCtcxuqBhTpUFcns3Omj0nXnr5lei62moxfJ2h0b59++XZHdcmQIAAAQIEmhBoaGiIUa+Mjtlz58b6664T3bp2aeJouwgQIECAAAECBAgQIECAAAECBAgQIECAAAEC9S8gGFPFMawlbhVvo9GmJ06aEv956eVYb/iwGDigX6PH2UGAAAECBAi0LYFx4yfGf0e9Gh9cf92sgkzvttU5vSFAgAABAgQIECBAgAABAgQIECBAgAABAgQItKJALbMbKsa04sAt76bGjB0XY94cFxtusF707NF9eXfH9QkQIECAAIGlFJg+Y2a88OJ/Y/CggTF4zYFLebbDCRAgQIAAAQIECBAgQIAAAQIECBAgQIAAAQL1ISAYU8VxqiVuFW9jsaZfHzM2Jk6aHJtsuEF07txpsf02ECBAgAABAvUhMG/e/Hj2hRezqjF9YsjgNeuj03pJgAABAgQIECBAgAABAgQIECBAgAABAgQIEFgKgVpmN1SMWYqBaauHpkox4ydMis02/mB07NixrXZTvwgQIECAAIFmCixYsCCefu4/MaB/X5VjmmnmMAIECBAgQIAAAQIECBAgQIAAAQIECBAgQKB+BARjqjhWtcSt4m0Ump44aUq88tro2GLTjVWKKaj4QoAAAQIE6l8gVY4Z+cxzsc7aQ7PqMb3r/4bcAQECBAgQIECAAAECBAgQIECAAAECBAgQIEDgPYFaZjdUjKnjx27W7DnxxMhnYvNNN4qePbrX8Z3oOgECBAgQIFBJYPqMmfHUM8/HVltsGt26dql0iG0ECBAgQIAAAQIECBAgQIAAAQIECBAgQIAAgboTEIyp4pDVEreKt5FrekQWihnYv18MHNCv2pfSPgECBAgQILCcBMaNnxjjJkyMrbNwjIUAAQIECBAgQIAAAQIECBAgQIAAAQIECBAgsCII1DK7oWJMnT4xo14dHQ0LG2KD9YfX6R3oNgECBAgQINBcgRdfGhXtO7SP4cOGNvcUxxEgQIAAAQIECBAgQIAAAQIECBAgQIAAAQIE2qyAYEwVh6aWuNW6jTStwvP/eSk+tPUW0b59+2pdRrsECBAgQIBAGxFoaGiIR0eMjI0+uL7pE9vImOgGAQIECBAgQIAAAQIECBAgQIAAAQIECBAg0HKBWmY3VIxp+TgttzNHPv1c9O/XNwb077vc+uDCBAgQIECAQG0Fxk+YFBMmTootNtu4thd2NQIECBAgQIAAAQIECBAgQIAAAQIECBAgQIBAKwsIxrQyaHFztcQtvm5rfZ84aUqMHT8htvRSrLVItUOAAAECBOpG4MksHLvmgP7Rr2/vuumzjhIgQIAAAQIECBAgQIAAAQIECBAgQIAAAQIEygVqmd1QMaZcv42vjxj5TAxda1D07rVGG++p7hEgQIAAAQKtLTBl6lsx+o03Y+stNm3tprVHgAABAgQIECBAgAABAgQIECBAgAABAgQIEKiZgGBMFalridvat5Fehr0+Zmxstfkmrd209ggQIECAAIE6EXjiqWdjyOA1hWTrZLx0kwABAgQIECBAgAABAgQIECBAgAABAgQIEFhcoJbZDRVjFvdvs1ueff7F3EuwAf37Lvc+/u9//4tFixZFu3bt4gMf+MBy748OECBAgACBlUVg/IRJkcKym2y0wcpyy+6TAAECBAgQIECAAAECBAgQIECAAAECBAgQWMEEBGOqOKC1xG3N21iw4O14dMTI2HmHbXNhlNZsuyVt7bDjh2P8+PGx5ZZbxO23/bYlTTiHAAECBFZigSeefDL++Mc/xUYbbhR77LFbdO7ceak0Ghoa4q9/uy8eeeTR+NhHd4kPf3jnNvHvx6W6iRYenIKpDzz0WHxo6y2iY8dVW9iK0wgQIECAAAECBAgQIECAAAECBAgQIECAAAECy0+gltkNFWOW3zgv1ZXfHDc+Zs+aExusP3ypzqvWwW09GDNp0uS47LLLC7fftWvXOOmkbxfWfSFQTYFnn302br319sIlNtzwg7HffvsW1tvqlxtvujle/u/Lhe596aADY7111y2sV/vLyy+PihtvvKlwmTXXXDOOOuqIwvrK8OXf/34o7rnn3sKt7rTTjvGpT32ysL6ifHnxxRdjt933LNzOV489Jr797W8V1pvz5YbsWTnzzO8XDr3hl9fHzjvvVFhf0b+8+NKo6NqtSwwaOGBFv1X3R4AAAQIECBAgQIAAAQIECBAgQIAAAQIECKyAAoIxVRzUWuK25m08/ewLMXBAv+jTu1drNtvittp6MOb551+Iz+y5V+H+evXqFSMef6SwvjJ+uf/+f0aaAistafqr9AJ5lVVWWRkpqn7PqQrG177+zcJ1Pv7xj8U1V19VWG+rX/bZZ78Y8cQThe7VOmiQQiFfOuiQwvW32GLz+N3ttxbWV4YvF//kp3HJJZcVbrUlgZHCyW34y/XX/zJ+cNbZhR6uu+7wuPeePxfWX3/jjXhl1CuF9aFDh8awYWsX1tOXI486Jv76178Vth166JfjjNO/U1hf0b9MnjI1xo2fGJttsuGKfqvujwABAgQIECBAgAABAgQIECBAgAABAgQIEFgBBWqZ3VAxpg4eoDRlwj8ffCQ3jVJbCTIIxtTBg1PWxbWHlVb+ePCB+yNV5LC0voBgTMtMBWMiVpZgzMSJk2K77XcsPCinn35aHHboVwrrN9xwY5z5vR8U1lPFpfPOfT9Ik3akUEwKx+SXO++4PTbbbNP86gr/+c477+SmU/rITtutNFNIrfCD6gYJECBAgAABAgQIECBAgAABAgQIECBAgMBKJCAYU8XBriVua93G9Bkz45XXXo+tNt+ktZpc5nYEY5aZsOYNCMbUjlwwpmXWgjErTzAmPSHTpk2Lf/7zXzF8+PDYeOONSh6a5gRj0gmvvvpaPPnkyNhxx+1jwICVb0qhJ556NtZZe0j07NG9xM8KAQIECBAgQIAAAQIECBAgQIAAAQIECBAgQKCtC9Qyu6FiTFt/GrL+jRk7LubPWxDrDi+dRmJ5dr2egzHpv7JvaGgo8KVphTp06FBYT1/SlEMLFy4sbGvfvn1h2qF0bmojv6RzUxtpmTFjRsyaNTsGDapciWX69Bnx1ltvxVprDY7UZvlS3nbxdVPbU7KpM9Zee2jheuXnV1rPt7nBBzcu2f23v96T62el+88fuGDBgkiVHebPnxd9+vSNnj17LFVlgvy18+0V309+W6qI9Pbbb+dXc5/Fpvkd6bjp06fHpEmTYrXVukS/fn1j1VVXze8u+azUZseOHUuOSSvp/vJLsUP5M5IqNeXHa+zYsdkYz8qmdRnW6PWXNhgzc+bMnHOXLqvlXu63a9cu360lfs6dOzfGjBkTPXr0zMaod+E5XdKJ8+bNizffHBtDhw4pPP9LM5VSMkpjkSwGDRqcjUnnRi/Z2HOQxmnUqFdyz/M66wyLpoIx6fc4evTruWe2c+fGr1XeidmzZ+dsk2l6Zrp06VJ+SKPr6e/A+PHjY968+dG/f7/o2rVrxWNb+ryk8157bXRJ2y2pGJN+P8kyv6TfRf4ZmjBhYvb3qmGpqkOlfk2ePCX7vU2L1VdfI3pnU/gtTbWyqVOnZudPzp7HPrHGGmsU+pLvX/osN8v//vJ/e9NUSxdceFHhlL0+u2dccMF5ufX834fGnqvCSUVfluaeyvtW/Hcr9S89h3379mn0eSi6bNW/vjzqtejUuWMMXnNg1a/lAgQIECBAgAABAgQIECBAgAABAgQIECBAgACB1hQQjGlNzbK2aolbdukWr77431eie7euMXBAvxa30don1nMwpjmhhUsvvTx+fPFPCmzf+MbX4pvf+Hpu/Ywzzoybbv5VYd8Nv7w+F+y46udXx+OPj8htX3vttePzn9s7jjvu2Nz6DTfeFLfffkc888wzhfMOPvigOOnEE0pe1Je3naYO2WCDDeKkk0+Jl18elTs3vdjfbbdd48uHHBIbbbRhob3Gvuy2+57x4osvNrY7PvbRXeLaa68u2f/oo4/Fz7P7+fs/7i/Z3qtXr+y6B8dhh30lmhNOKL/2aaedEkccflhJmyNHPhWf/8I+Jdse+ve/CtUfUvDj6quvjRtvujnSC/fi5eMf/1gcc8xRsdWWWxZvjhQG2H6HnUq2vfbqyyXr6R732//Awratt9oqbr3117n18mckjdXuu306zj7n3Hjuuedzx9x2228Wu26+sfLzUz+vufqq/O7cZwoy/PbW2zL76wpjmz/gwx/eOU495aTc2Oe3FX+mkNRFP/xRPPDAg/HGG2OKd8Xuu+8Whx92aGyxxeYl2/Mrd971+7gr+9/99/8zvyl2+/Succ45Z8eRRx4dI554orA9Pds771zq+Pobb8QVP7syfvPbWwvHpS8p7LXvvl/MjW950Kz8ub78sktiahYQ+1nWzoQJE3LtvPrKf+Ohhx6OLx10SKHddA/XXXtNfOf0M+Luu/9c2L7LLh+JFJTYe++9CtvKv9x62+1x3XW/WOzZT5VJDsum7Gnq3Pvu+3tceeXPSyxS+/3794/DDz809v3iPiWhiPLxXtLzkp759DchTQU0Z86cXNdTvy668Pz481/uiUsuuaxwO1899pj49re/VViv9OUju3ys5Dn4671/iZFPPZUFSS4q/GbS36RPZM/h0UcfmQurVGonje1VV10dt9zy7u+g+JgvHXhA7tzGpl977LHH49LLLo90b/l7yp9/4IH7556LIUOG5DdFuVn+N/L3v/8jDjv8yMJxlb7cdeftsemmm0b5c1U+HVM6tyX3VN639Hd8/2wqpx9f/NP4SzY++ftLz+dXvnxI7LnnZyp1sybbxo2fGDOzMOYG661Tk+u5CAECBAgQIECAAAECBAgQIECAAAECBAgQIECgtQRqmd1QMaa1Rq2K7Yx8+rkYOmRwrJ5V62gry4oejPnhD38cl//sigJ3U8GYU04+Kc6/4MLCscVffvTDC7PqM4vixJNOLt5c+J5e8F9/3TWF9fIXvekFfHkAIX9wCsj86U+/jyFrrZXfVPHzU7vutljwovjA8mBMCkx85dDDiw9Z7Hs658orf1aoNLLYAe9tSC/4UwWM/LLD9tvHzTffkF/NfZYfUxxQSRVdDj/iqHjwwX+XnFO+8qubb4ztt9+usLk5wZgUKjn4kK8Uzim+bvmL8fTiO4U2ioM5yxqMScGrFMBqajn1lJOzsErpWDzx5JMAhObkAAA5xUlEQVRx1FHHlvSlUhspfJJCMsXL7353R5zw7ZOKNxW+r7vu8EhVdfLBn7SjPBiTKszs/bkvNHnt1E56posDFOXPdQqmXHvd9YVrpy+VgjEpFJaqneRDYSUnZCsXXXhB/N//fb58c+6ZKw6XLHZAtuHELJR27DFHl+xKlUJOz4Jvv/71b0q2l6+kUMYtv7qpUCVnaZ6Xl156KT69W+NBihRSSuGY/NKSYEwKsRSH9/Jtpc/0nN944y+iU6dOxZtz1YOWNLYpGHTH727LVbgpPvnCC38YV1xZGvwq3p///sc/3FUI85Wb5YMx99771zjq6HcDhfnzyj+bG4xpzvNa6Z7K+5ae10cfe6zkt1Hcp59dfmkWVvx08aaafZ+WVSEb/fqY2GKzjWt2TRciQIAAAQIECBAgQIAAAQIECBAgQIAAAQIECLSGgGBMayg20kYtcRvpwlJvfuTxJ2OzjTfMKnSUvshc6oaW4oQ0XUSa2qKxpbnBmCW101j7y7r9+edfiM/s+X41iVTpZMTjj+SaLX/pmX8hW3zNpQnGFJ/Xku833fTL2HGHHXKnlgcIltReqgLxu9tvzU1x1NixSwrGfPKTn4ifX/VuCChVvPnivvs31lTJ9hQWufjHP2xyipVR2TQ5n/xU6QvjZ58ZWVJtY8/P7l3ywvmcs8+KAw7YLzfVyleP+3rcc8+9JddtbCW9sN98881yu1s7GFPpmssSjEmhkLPPPrdSs4ttS+Obr/6Sghuf/NRu2fQ7ry12XKUNDz/0QK7KSdr3yCOPxv4HfKnSYY1uKw7GTJkyJb7wf18sqUzS2IlLCnxVOq9SMKbSceXbykNRV19zbZx77vnlh1Vc/8EPvhcHfen9qkHlfxsqnvTexi9/+eA487tn5Naac156XgZnU07tvseeTQaLyq/ZkmBMeRvl63vssXtc8tOLC3/jJ02aHPt8cd9mjW36m3NbVlkpTZGUllTxZ/sddi6/RK6CUHk1o1RV6P5/3JebWqncLP93uDnBmHzApvzvZXHFmGW5p/K+LXZzFTY88/ST0a1btwp7qrspTfP19HMvxHbblFbNqu5VtU6AAAECBAgQIECAAAECBAgQIECAAAECBAgQWHaBWmY3VIxZ9vGqegsPPPRYbL/tltG+ffuqXytd4PXXX8+qVBwT55x7Vq66QKWLNicYk6p8nJO9oP7F9ddGv359KzVTtW21DsakaV0+nVUMuP8f91es8JLCJ5/5zB7xWFZ14Oabbym571Rx5qijjshtK3/RmzamKVaOzaZT6dGjezbVz+1x5513lZx//vnn5qZ2KdlYtJKqnDQ0vBPbbb9j0daI9KJ+0JqDspBKl9x0Tm+//XZsudW2hWlC0sHp2qeeenKsNXit3HV/9OOLS9o495yzYv/99yvZVr5SPp1SmlIovQRPSwpbbLPt9iWnpABTCjJdf/0v4wdnnV2y76STvh17fuYz2fQor2fBkvNKpslJ5zz6yL9zQZ1qBWNSdZI0bdOs2bPj07vuGoMHDyrpX36l/MV6/qV/2l/+bKZt3//+mbmpgVLw5Re/vKGkkkyqwHLPX+7OhQn+koWEjjnmq+mU3JKqXVx/3dWx3nrrxahRo7Ipqb5YMn7FVWNSFaDi6ZNSA+nZ23bbbeLZ556LM8/8/ruNFv2zOBhzdHbd4pBSqppywfnnxDrrrJO7p2OOPa4wLVJq4sorLo9dd/1UrrVKz3WqeHRA9uysu966MWH8hPja174a//73QyVTKeW7knw22Xjj3FRl551/QX5z7rM4hJOq3aSgVfGSpkw66r2qO5ddfkVWZenu4t1x7z1/jmScprba9dO7l1Sn+dbx34xDDjko90xdcull2fRi71d3SgGRv9/3bmirfLzzFyh/Xv7yl7/EueeV9n+/bIqez2V9nDhxYlbp5pLFQk8tDcak8Mv+++8bs7Jpdq644qqSadxS/+77270xbNjaua4eedQxuWmd8v1OY3P+eefENttsk/ub9fVvHJ/flftMobgUrEnLr37169xUV7mV7B+pyk8KzqQ2UmjmgAMPLrmnP/z+ztzflXKz/G9k/vz5MWPGzLju+utLvHfaacf44UXvVubK//uk/LkqDsYsyz2V9y3dW/r7cvw3v5GFidrFr7KppoorK6X9qYLQdtt9KH2t6dLQ0BAPP/Zk7LzDtjW9rosRIECAAAECBAgQIECAAAECBAgQIECAAAECBJZVQDBmWQWbOL+WuE10Y6l23f/Aw/GRnbbLvRhfqhNbcPDYsWNzVSEmTpyUTROyWvzyl9dVDMcsKRiTpqk54sijI02FM3To0LjzjtuyYEePFvSoZaeUhw+qWTEmVfO49be/LlRO2WvvL5S8hE5VEv55/98LN1K+/8AD94+zz/pBbn/5i970cvmev/ypMC1NCk7st9+BMeKJJwrtpYoXqfLFkpa1h61bcsiDD9xfaDftuO++v+emLSo+qPjledr+zW9+K+76/R8Kh6R7TxVNmlrKK3gcfPBB8f3vfTd3yu//8Mf4RtFL9+KQQ3mg5ov7/F9ccMF5hUtVmpLmphuz6js77pC9kJ+YVbHYqXBs+vLaqy+XrC/NVErpxBQESIGA5izlL9bzL/3TuWnarauuurrQTPE0XfmNafqoNB75JV/55a233spV9Xhr2rSYMX16bLjhB2P99dfPHxapws7dd/+5sH7cccfGCd96N9Sw8Sabl4RmigNZ6YRK0yzlgzHTsuul0FTx8tTIESW/6RSu+exnP1c4ZEnPdarwkwIpxUulYEz5dElXX31NSbgk/Uaee/apXDOpUkx63vJLCq/cnU03lp82aO7cebHb7nuUVEZJgZwUgEnBmPRMTc+mpkn3mwIaKVTTrl27XHMvvvhidu6e+aZzn88/93Tu72T5eKedlZ6X8t9Pet6vu/bqwjUqVVhqSTAmhZZuz4Jv+TBl+nv+8U98qmT886Gp9ExttXVpoOPHP7ooPve59wNGaWqpU087veTen37qiejevXukoFJxYChN1XR1Fn7r+d7Uf8n09dffyFVT6dqta6wzbJ3cFFTlZsW/kXShG264Mc783rt/F9N6ChCdd25pUK7872U+GLOs91Tet3T9v/31niwENix9jUohwtOyAOERRxye21/Lf6Tn9p8PPhK77FwaMKxlH1yLAAECBAgQIECAAAECBAgQIECAAAECBAgQINASgVpmN1SMackI1ficf/zrofjoh9+daqfal07Bi29k4Yd8VYXGwjFNBWP++c9/xVFHH5sLxaT+fuUrh8R3zyh9qVrt+6hlMKY82HD5z66INBVTfjn66CPj5JNOzK/GlVf+PC648KLC+r5f3CdS1Ze0lL/oTRUnUjCgeEnBhxSAyC/pJfhdd96eX230c0nBmJ/+9NL4yU8vKZz/sY/uEtdmL+2Ll0cffSz22//A4k0x6uUXC6Ggkh3vraSw1U4771LYlaqcpKBHWr51wolxxx13FvZdfPGPYu+9Ppt7djb44MaF7enLnXfcHptttmnJtjQ1UJoiKL8k5+Td2sGY4mBV/lpNfZa/WC9+6Z+mqkpTVuWXbbbZOj70odLQySMPP1oSfrr55htih+1LX3zPmDEjRr3yShb4GR3jxo2Lp59+Ov7+j/vzzeY+UyWiFICpNN1NPtSRPyFNe7bO8PdDNml7Phjz8MOPZJU/DsofmvtMoZvi5Z2sKtEVV15V2JQCErdmlUPSUv5cp9BFCl+UL5WCMa+Meqkw5U86PoVbNtq49Dl46N//igEDBsQ+++xX4nbaaafEEYcfVnKZSy+9PH588U8K2z784Z3jl7+4rrCevqS/g2PGjMmq8LySfb6ZVSh6I1ctJzkWL/lwUPl4N/a8fGSXj5WEcvK+xW2Wh6JaEowpDxOl9r/73e/FjTfdXLjUscccHSeeeEI89PDDcWBW1aV4Kf9NpyDI+htsVHxIruJUqp5UKVCVDkxVstLvdaMNN4ytttpysWmGys2KfyPp/GUJxizrPZX3LQW4UmWh4uXEk07ODH5X2JSes/S8LY+llv8fYXncn2sSIECAAAECBAgQIECAAAECBAgQIECAAAECK6aAYEwVx7WWuK11G7WsGJP63JxwTGPBmDRVSwrFpBepaVkeoZh03VoGY/JVCtJ103LNtdfFOee8X9kkTf9zzNFHvbsz++cNN95UMm1NU8GYE044Po77amkAofzeUsMv//c/heoQhQuVfVlSMCZVhEiVIfLL4YcdGt/5zqn51dxnpcDJ4489HL179y45rnylPLDw13v/EmuvPTQ223yrkioWzz4zMpvaqWuUh2lSeyOfHFGoQpHW01IeuPjylw+OM797RqsHYyqFhN7tQeV/lr9YL37pv/0OO+eCKpXPrLz1rLO+H1868IDczmeffTYuvexnJVPfVD4rclN0pWBM+l2mqZTyS2PBjTQNUfEUMfngxp13/T6OP/6E/OnN+iyu5FI+TpUCK6nR8mBMmpbnz3e/X6Eof+FywxTgSmNUvv3qn18Zn/jEx/On5T7Lx6Z4SqSFCxdmYbDrc7/hNAXZkpbGgjGVnpdZs2bFppttWdJkqiSVKkoVLyk0l8Jz+aUlwZjf/uaWbBqkrfNN5D5/mU3R9b3vn1XYlg8ElY9tY+bloZ4rsqmyPp1NlZWqgqXn5uWXRxXarvQlTTd3yiknR//+/XK7y8eh+DeSDliWYMyy3lN53yqNZ3kAcnkFY1SMqfS02UaAAAECBAgQIECAAAECBAgQIECAAAECBAjUg0AtsxsqxtTBE/HAQ4/F9ttuucTgQ2veypLCMZWCMalaxTHHfHW5h2KSQ3l4pDgIUP7Ss/yFbDq//OV0cVWY8pf8tQ7GpOBCehFdvLRGMOaUU06L3/z2/WmRKr3oTVOybLf9jsWXjscefSj69OlTsq185Ve/+nV85/QzCpvTVEqbbbZZ7P25LxS27bHH7nHZpT/NracqHR/+yEcL+9KX5gRjDjnk4Pjemc0LxqTn9bDDjihco7jCSXOekcKJFb40dX55eKPC6YttOjULFBx55OGRQjGf3evzi+1vbEO+YswyB2PuvCuO/9a3G7tMo9vz01ct6TeTb6C5wZitt9kuioMrjQVjrsmm9Em/7+KlfGzywZhUMedb2T0WTxVWfF76G1J8zbSvsWBMpb8plYIx999/XwxZa63iyyz2t6e1gjHXX//L+MFZ709FVAjGlI1tc4MxP/vZZbHbp3fN9T1VLzr/gotKgnUlN/XeSjJMobjVV+8Z5eNQbrZMwZhlvKcl9S3dTlsJxjQ0NMTDjz0ZO+9QWnWqkr9tBAgQIECAAAECBAgQIECAAAECBAgQIECAAIG2JCAYU8XRqCVua93GI48/GZttvGF07typtZpsVjtNhWPKgzH33ff3OObY4yJVXEhLtSvFjBz5VDz/wguF+xg2bO2SqWbKp/xJVRlSdYa0lL/0TPvu/8d90a5du0J7Rx51TElFjuUVjKk05cwf/vDH+Po3ji/0tbWmUrr4Jz+NSy65rNBupSoJjz32eOy737uVS/IHlk+7kt9e/DllypTYZtvtC5t22eUjkaZh+dGPLy5sK67uMW/evNhwo9LpcpozlVK+Ok+lyjYPPnB/rLnmmoXrlQcFahWM+fwX9on0/OaXS356ceyww/s2+e3Fn2lKs86dO0f5c5lCHcccc1RstukmMWTIkLj2uuvjoot+VDg1H4ypNJVSvjpP/uD0ex++7gb51dxnvmJMeWAl/WZ+d/v7IaqSk4pWUhAiLS0NxqRzy5+vuXPnZlMpbZZ2FZZ/P/jPGDhwYLOmUrosq7ZT/NzttNOOceMNv8hVyikPnKUKRKnizLrD182qIvVabKqppQnGpM6WV125/rprIv0WipcU1iqeEqslwZgLLzw/9vm/90Nnqf3Tz/hu3HzzLYVLpSpW6fdSPrbpgHLzpqZSKjSYfUm/2xEjnojnnn8+m9rrmdz0U8X70/fTTj05jjji8MX+DrdmMGZZ76n83xHlfUv30VaCMfPmzY+nn3shttumtBpR6qOFAAECBAgQIECAAAECBAgQIECAAAECBAgQINCWBWqZ3VAxpi0/Ce/1beTTz8XQIYNj9Z49at7bxsIxX//68TF+/PjYcsstctMEHfvVr9UsFJMQKk2Vcfeffl8It/z859fEeedfUPDab79947xz362W8PjjI+KL++5f2Je+/P6u38Umm2yS2/bmm2Pj07vtUTLFz/IKxqQOFU+3ksZjny/uVxKsSFPspKl2lrSUT6X0j7//NYYOHVo47Z577o2js4o/xct9f7s3Uugov6SqIXdm1RjyS3NDOen4NJVPqlySX1Ko47XXXsutpml3nhjxaHTs2DG/Oz61624l07MUTzmVDvrvf/8bu356j8Lx6Us+aJCmd9nggxuX7Cuu7DN//vw44MCDShxrFYz57ne/FzfedHOhb5WCD088+WS88sqr0b179+jWrWtssP76kUImG2+yeclzOeLxR3Lb84199bivx913/zm/WphKKW0oP/fEE0+IY485unBsqhaUqgYVL/lgTKWg0ZNPPJ6r/JE/PoUnbrvtd9E162+aDqvXGmtkVYHeDTctSzAm/W7T7ze/pGmGUkWn/JKenRTyScG2s84+J6677hf5Xdl0XWvnpmLKP1cpuJF+22+8MaZwTD4gcsstv47TvvN+VaP8tFz5A1988cXYbfc986u5z6UNxqRAWwq25ZdUteUX119b+LtV6Zmu9Hzkz89/lgduUtWX9DetQ4cOuUNSMOoTn/x0ybNz6SU/ic98Zo+YPHlybPuhHfJN5T4v/vEPY++99ypsq/Rs5O89hVBmzZ4dc+fMidnZ//bYfbfCM5kqyXzpoENKpufK/y1eUvikvGJMpZBgY8/Vst7TkvqWYNpKMGba9Bkx+vUxscVmpX/vCoPnCwECBAgQIECAAAECBAgQIECAAAECBAgQIECgjQoIxlRxYGqJ21q38eJ/X4nu2cvmgQP6tVaTS9VOpXBMxKKYO3de9MzCOrNnz4k0nUNaql0pJt/xFMpJVWuKlwMP3D/Sy9PXXh0dJ550cvGuSFU59tzzM7ltc7KXtykkULykl+v77fvF6JVVhbj22usXmzJleQZj0kvur3/tq5l1z/jNb3672FQv5cGB4vsq/l4+hU+aKmnPPffIpkHqG/3798tVe0hVXZJPfknBl1NPOSlShZA7skDMD3/44/yu3Of3v39mHHzQl0q2NbaSAjWNTceTf1lefG55uCntO+Xkk3J9fv31N7JpYc6JFFbIL2kM08v69u3b5zaVV2ZJG9N0TalSzR/++MeSUEzaV6tgTKVg1rnnnBWf/eyeke7h4YcfiSOOPLpkHO75y59ivfXWi/IphH51842x/fbbpe7Hvff+NY46+tjc9/w/8hVj0vohXz40/vWvB/K7cp8nn3RibL31lvHCC/+JM7/3g5J9aSUfjEnfDzzw4Hjo4YfT19ySno0UoFh77aGRpgk655zz4re33vbuzuyfxVNjNRZgKBz83pdKlT7SrjQ9Vpp6K1WCOv+CC0tOy08JlDamSjxp3IuX9DfhqGwaqkWLFkUK1ZRPlXT3n/4QH/zgBrlpxIqDQdtt96FIvilwMzsLfqSKWA8++O/ippdqKqV04lVXXb1Y/1Pga8/PfibemvpWXPyTSwphsfyFWhKMSefungVUDjhgv2xsZscVV1wVzzzzTL7J3Gea0mj48HVy38tDa+k5vPCC82KrrbaKxx9/PE459Tslz+Ouu34qrrzi8ty5e+39hZK203UvyirWpCpH06ZNz6ZL+3xJEClfzWZJ4ZPyvxcpGJamWkshpy22ePfvd1PP1bLc05L6lm68rQRjxo2fGDOzMd5gvXfHMjco/kGAAAECBAgQIECAAAECBAgQIECAAAECBAgQqAOBWmY3VIypgwdizNhxMX/egmw6j/crd9S62+XhmErXr1UoJn/tj338U4u9RM7vK/5ML3nv/8ffsqlQehc2pylTnnvu+cL6kr4sz2BMU31LFTHuvOO2XGWRpo5L+1JYKFX0KF++loVuvnX8N3ObH3jgwTj4kK+UH1Jx/ZOf/ET87PJLC0GUigcVbUzhiU03qzzdx80331AyFVY6LVUgSQGR8jBHUZMlX399y83xoQ9tW9iWqoqkIERzl1oFY1J/zj33/Lj6mmub1bUUNLj8sktyx37rhBPjjjvuLDlv4403ykILcyv+FoqDMSNGjMiqDZVWSippqMJKcTBm9OjR8X/77LdYaKzCablNf777D5FCXWlpKsCQO+C9fzQWjCk+pvz7b39zS2yzzdaFzWk6sDQtWHOWFLRKRmlJ9/fRj32y5LQUxlh76NAY8cQTJdvzK/mqKc0JUqRz0pRie372c5EquDR3aWkwpqn2UzWYH//ookKlmnHjxsVn9/p8s8Y2heR++5tfR79+fXOXuOHGm+LMM7+/2OXSccWVefIHPPnEY1mlodWXOJXS62+8kU0z9fH8aSWfzz/3dC5409RztSz31JzxbCvBmJdHvRadOneMwWsOLDGyQoAAAQIECBAgQIAAAQIECBAgQIAAAQIECBBo6wKCMVUcoVrittZtTJ8xM1557fXYavN3p/pprXaXtp2mwjG1DsWkvqcX2YcedmTFQED+3vr37x+3/OrGkimD0r40Tc1ee3++pApC/pz0QvegrApKqoCRX5ZXMCaFT/7617/lu1HymQI/f8qmjxqy1lol2xtbaSz0stNOO8aNN/yicNo99yw+pVJh53tfdth++6yyzs+jU6dO5buaXC+f6icdnMIHjz7y71hllVUWOzdVJTokC+o0FkzIn3DttVfHxz66S3419zl37tzY/4CDSqpZFB+QqgilqW3ySy2DMal6SQoTFE+plO9H8WeqypJCMYMGrZnb/Mgjj2b31HiFnnXXHV4y/VRxMCY1kIJR5dWU8tdLz33frHpQsXVxMCYdl6b6+fwXvljxd5NvJ32ecfp34tBDv1zY1FSAoXBQ9qU8GJPGZOpbbzX6G89XHyluI30/++xz49rrri/fXLJeKXBSqapO/qT0nKYpuIorKi1tMCa19dJLL2XTOb1bvSrfdvHnXlnloOKqNpX6WXx8+l4+lVKq6JJ+x5WWVG0lVcIp/+2++uprWTjmcyX3V35+Mrjjd7fF4MGDCrvSvxe+feLJJVOsFXaWffnRDy+Mz3/+c7mtzQmf7JMFsYqfx3xzt97661yFpyU9Vy29p+b0ra0EY5546tlYZ+0h0bNH9zyPTwIECBAgQIAAAQIECBAgQIAAAQIECBAgQIBAXQjUMruhYkwdPBLpJfo/H3wkdt5h24rhgVreQqVwzPIIxeTvecaMGbnqG//KKp0UV2FIAYFtt90mvnbccYXKBvlz8p/PPvdcXHrp5YXgSXrp+4mPfyyOPPKIeObZZ+P440/IHxonfOv4OO64d6epOevsc+K6635R2Hf66afFYYd+pbB+zbXXlYRqvvOdU+Pwww4t7L/lll/Had85o7D+pQMPiLPOerfiQqUXvZtttmmcdNKpJeGAFBg444zTIgUnlmZJVUNOOvm0krbSfY94/JGSZu6//5/xsyuuzKZRGVGyPYVxDjrowDjuq8fmpv0p2dmMlUrT/SSbZNTYMnPmzLjssp/FrzK34lBCOj5Nd5P6suOOO1Q8PU3lcv75F8R9f/9HoRpGCg0ceMD+MWzY2rHTzrsUzktt3fKrm3Lr5eGgj2fPxTVXX1U4dklfmnP+//73v1x446abbl6sskaqBPT5z+8dRx915GIVedKUOCmI8PLLo0q6cdqpJ8c6w4fHYYe9WwEl7awUqkjTcV2UTYk1derUwvkpgJWmczrxpFMijX1+KQ/GpO0p2HFJ9ru5++4/5w/LfaZnY6uttsxNvZWvFJM/YEm/mfxx5cGfNE1Sqmxy6mmnF36n6dj0zJ7wrW/G/vvvlz+15DPZ3phVMrnu+l9UtE2/1zT1WvmSpoQ7L3tefvObW0uetfRspGnDTjzxlJKg1XPPPpX7HTRnvIuvlX5XZ2fBu+LpjZLZhReeFw8/9EiuD/njK41hfl/+szwYc9edt8fzz78Q52SViYp/M6lSzHdOO6Wkela+jfQ5atQr2dheFn/4wx+LN+e+pymp0pRuQ4cOXWxf+vdCOueqn19TMr1ZOjCN1dZbb5VNg3ZiybnNMVuwYEGkZ+fmm28puWZ6JlJ/mvNcteSemtO3thCMSe4PPPRYfGSn7QrVf0qgrBAgQIAAAQIECBAgQIAAAQIECBAgQIAAAQIE2rCAYEwVB6eWuK15G08/+0IMHNAv+vTu1ZrNtqit9DLuG9/8Vlat5O5YnqGY8s5Pnz4jxrw5JldBpXv35v/X8+l+xo+fEGtmU1G0a9euvNmarlcKxuRDN+n+JkwYH/37D4iePXssU79SNZWx2RRdXbt2ib59+zYauErBoxQ4WriwIdZYY/UsZNSv0WOb06EUBNhr7y+UHHrnHbdHCv8saUmhhQkTJsa06dOi46qr5vrSo0fzHcaOHZu71w4dOizpUjXdn0IckydPyU2z06FD+6wax+Do3LnzEvuQxvCNbLqZdOygQYOWalzSMz958uRIoaMhQ4ZEx44dl3i98gNSNZ/0bMyZOyf7u9QnF0Cr5u8nhSQmTJwYq2bj19QzW9zPZDtlytTcvabtffv2yYVCltTPFEYcM+bNmJvdW2v83or7VPz9rawazqRJk2LgwIHNmg6t+Nzi7+XBmN/f9bvYZJN3K4ylKYXSWKVrrLbakp+r1O68efNyfxPnzJkd3bp1y/3WmvNMpnNTECf9Tt99ttbK/m6skTYv05LGcfz48VnFngXZePRrUShvWe5pmTpfxZMnZ8/2uPETY7NNNqziVTRNgAABAgQIECBAgAABAgQIECBAgAABAgQIEKiOQC2zGyrGVGcMW73VN8eNj9mz5sQG6w9v9bZb0mB6sX7XXb8vTIvRkjacs7hAU8GYxY+ujy3phfTD2RRA3bt3y6punBXPPfd8oeOpMsp9f7tnuQeSCh3yhUAdCjQVjKnD29HlZgq8+NKo6NqtSwwaOKCZZziMAAECBAgQIECAAAECBAgQIECAAAECBAgQINB2BARjqjgWtcRtzdtYsODteHTEyNx0SkuqdtCa19VWbQVWxGDM3/9xf8n0PsWiP7/qikjT+FgIEGi5gGBMy+3q9cxU1ShNo/ShrbfIKj6tWq+3od8ECBAgQIAAAQIECBAgQIAAAQIECBAgQIDASixQy+yGijF19KA9+/yL0bvXGjGgf9866rWuLo3AihiMOf2M78bNN9+yGMPee+8VP/7RRarFLCZjA4GlExCMWTqvFeHo8RMmxZSpb8UmG22wItyOeyBAgAABAgQIECBAgAABAgQIECBAgAABAgRWQgHBmCoOei1xW/s20kuw18eMja0236S1m9ZeGxE483s/iBtuuLHQm9NPPy0OO/QrhfV6/LLPPvvFiCeeKHR9gw02iAMO2C8O+tKBhW2+ECDQcoGPffxT8dprrxUa+P1dv4tNNvHviQLICvjliaeejSGD18yFZVfA23NLBAgQIECAAAECBAgQIECAAAECBAgQIECAwEogUMvshooxdfZAjRj5TAxda5CXYXU2bs3t7owZM2J69r/80rNHj+iR/a/el5kzZ8a8efNj9dV7xqqrmvaj3sdT/9uWwMSJk2L+gvmFTvXv1y+bXqdjYd2XFUsghWRHv/FmbL3FpivWjbkbAgQIECBAgAABAgQIECBAgAABAgQIECBAYKUSEIyp4nDXErcatzFx0pQYO35CbLnZxtVoXpsECBAgQIBAGxZ48unnYs0B/aNf395tuJe6RoAAAQIECBAgQIAAAQIECBAgQIAAAQIECBBoWqCW2Q0VY5oeiza5d2T2Uqx/v74xoH/fNtk/nSJAgAABAgRaX2D8hEkxIasQtIVwbOvjapEAAQIECBAgQIAAAQIECBAgQIAAAQIECBCoqYBgTBW5a4lbrduYPmNmPP+fl+JDW28R7du3r9ZltEuAAAECBAi0EYGGhoZ4dMTI2OiD60fPHt3bSK90gwABAgQIECBAgAABAgQIECBAgAABAgQIECDQMoFaZjdUjGnZGC33s0a9OjoaFjbEBusPX+590QECBAgQIECgugIvvjQq2ndoH8OHDa3uhbROgAABAgQIECBAgAABAgQIECBAgAABAgQIEKiBgGBMFZFriVvF28g1PWLkMzGwf78YOKBftS+lfQIECBAgQGA5CYwbPzHGTZgYW2+x6XLqgcsSIECAAAECBAgQIECAAAECBAgQIECAAAECBFpXoJbZDRVjWnfsatrarNlz4oksHLP5phuZVqGm8i5GgAABAgRqI5CmT3zqmedjqywU061rl9pc1FUIECBAgAABAgQIECBAgAABAgQIECBAgAABAlUWEIypInAtcat4G4WmJ06aEq+8Njq22HTj6Ny5U2G7LwQIECBAgEB9C8ybNz9GPvNcrLP20OjXt3d934zeEyBAgAABAgQIECBAgAABAgQIECBAgAABAgSKBGqZ3VAxpgi+Xr+OGTsuxk+YFJtt/MHo2LFjvd6GfhMgQIAAAQLvCSxYsCCefu4/MaB/3xi85kAuBAgQIECAAAECBAgQIECAAAECBAgQIECAAIEVSkAwporDWUvcKt7GYk2/PmZsTJw0OTbZcAOVYxbTsYEAAQIECNSPQKoU8+wLL2ZVYvrEkMFr1k/H9ZQAAQIECBAgQIAAAQIECBAgQIAAAQIECBAg0EyBWmY3VIxp5qDUw2GpcsyYN8fFhhusFz17dK+HLusjAQIECBAgUCQwfcbMeOHF/8bgQQNViily8ZUAAQIECBAgQIAAAQIECBAgQIAAAQIECBBYsQQEY6o4nrXEreJtNNr0xElT4j8vvRzrDR8WAwf0a/Q4OwgQIECAAIG2JTBu/MT476hX44Prr5tVi+ndtjqnNwQIECBAgAABAgQIECBAgAABAgQIECBAgACBVhSoZXZDxZhWHLi20tSs2XPipZdfia6rrRbD1xka7du3bytd0w8CBAgQIECgTKChoSFGvTI6Zs+dG+uvu05069ql7AirBAgQIECAAAECBAgQIECAAAECBAgQIECAAIEVS0AwporjWUvcKt5Gs5oe9eromDhpcgwbOiQG9O/brHMcRIAAAQIECNROYPyESfHq6NezCjF9YviwobW7sCsRIECAAAECBAgQIECAAAECBAgQIECAAAECBJajQC2zGyrGLMeBrsWlp8+YGa+NfiMWZRdba9DA6N1rjVpc1jUIECBAgACBJgSmTH0r3nhzXLTLjll76FrRs0f3Jo62iwABAgQIECBAgAABAgQIECBAgAABAgQIECCwYgkIxlRxPGuJW8XbWOqmJ06aEmPGZi/g2rWLgf37Rf9+fXLfl7ohJxAgQIAAAQItEli0aFFMmDg5xk2YGOn74DUHZpViereoLScRIECAAAECBAgQIECAAAECBAgQIECAAAECBOpZoJbZDRVj6vlJaUHf03+hnqZtmDZ9RvTt3St69Vo91li9Z6yyyiotaM0pBAgQIECAQFMC77zzTrw1bXpMnTotJk2ZGqv37JGb3lAFt6bU7CNAgAABAgQIECBAgAABAgQIECBAgAABAgRWdAHBmCqOcC1xq3gby9z0ggVvx+SpU3Mv6lJIplu3rtG9a9fo0mW16Ny5U3Tq2DE6dGifC8ykKjMWAgQIECBAoLJAqv6SAjALFzbE/AULYt68+TFnztyYOXt2zJo1OxeGSUHUPr16RceOq1ZuxFYCBAgQIECAAAECBAgQIECAAAECBAgQIECAwEokUMvshooxK9GD1ditphd6M2bOilnZC7w5c+ZlL/TmxYK338694Esv+tJ+CwECBAgQIFBZIAVIU+W1FCjtuOqqWcC0cxY07RzdssBpj+7dTF1Ymc1WAgQIECBAgAABAgQIECBAgAABAgQIECBAYCUWEIyp4uDXEreKt6FpAgQIECBAgAABAgQIECBAgAABAgQIECBAgAABAgQIECBAgEBdCtQyu6FiTF0+IjpNgAABAgQIECBAgAABAgQIECBAgAABAgQIECBAgAABAgQIEKhPAcGYKo5bLXGreBuaJkCAAAECBAgQIECAAAECBAgQIECAAAECBAgQIECAAAECBAjUpUAtsxsqxtTlI6LTBAgQIECAAAECBAgQIECAAAECBAgQIECAAAECBAgQIECAAIH6FBCMqeK41RK3irehaQIECBAgQIAAAQIECBAgQIAAAQIECBAgQIAAAQIECBAgQIBAXQrUMruhYkxdPiI6TYAAAQIECBAgQIAAAQIECBAgQIAAAQIECBAgQIAAAQIECBCoTwHBmCqOWy1xq3gbmiZAgAABAgQIECBAgAABAgQIECBAgAABAgQIECBAgAABAgQI1KVALbMbKsbU5SOi0wQIECBAgAABAgQIECBAgAABAgQIECBAgAABAgQIECBAgACB+hQQjKniuNUSt4q3oWkCBAgQIECAAAECBAgQIECAAAECBAgQIECAAAECBAgQIECAQF0K1DK7oWJMXT4iOk2AAAECBAgQIECAAAECBAgQIECAAAECBAgQIECAAAECBAgQqE8BwZgqjlstcat4G5omQIAAAQIECBAgQIAAAQIECBAgQIAAAQIECBAgQIAAAQIECNSlQC2zGyrG1OUjotMECBAgQIAAAQIECBAgQIAAAQIECBAgQIAAAQIECBAgQIAAgfoUEIyp4rjVEreKt6FpAgQIECBAgAABAgQIECBAgAABAgQIECBAgAABAgQIECBAgEBdCtQyu6FiTF0+IjpNgAABAgQIECBAgAABAgQIECBAgAABAgQIECBAgAABAgQIEKhPAcGYKo5bLXGreBuaJkCAAAECBAgQIECAAAECBAgQIECAAAECBAgQIECAAAECBAjUpUAtsxsqxtTlI6LTBAgQIECAAAECBAgQIECAAAECBAgQIECAAAECBAgQIECAAIH6FBCMqeK4jXr1jVhn7cHRrl27Kl5F0wQIECBAgAABAgQIECBAgAABAgQIECBAgAABAgQIECBAgAABAuUCixYtildeGxPDh61Vvqsq6ytdxZhXR78Zaw0eEO1XWaUqoBolQIAAAQIECBAgQIAAAQIECBAgQIAAAQIECBAgQIAAAQIECBCoLNDwzjvxxpjxMWzooMoHtPLWlS4Y88ab46Nfn17RseOqrUypOQIECBAgQIAAAQIECBAgQIAAAQIECBAgQIAAAQIECBAgQIAAgaYEFix4OyZOnhprDRrQ1GGttm+lC8aMnzA5unXtEl27rtZqiBoiQIAAAQIECBAgQIAAAQIECBAgQIAAAQIECBAgQIAAAQIECBBYssDs2XNj1uw5MaB/nyUf3ApHrHTBmKlvTc+x9VqjZyvwaYIAAQIECBAgQIAAAQIECBAgQIAAAQIECBAgQIAAAQIECBAgQKC5ArXObax0wZg5c+bG9JmzY80BfZs7Jo4jQIAAAQIECBAgQIAAAQIECBAgQIAAAQIECBAgQIAAAQIECBBoBYGx4ydFz+5do0uX2sz0s9IFY955538x+vU3Y51ha7XCcGmCAAECBAgQIECAAAECBAgQIECAAAECBAgQIECAAAECBAgQIECguQKvvPpGDB0yKFZZ5QPNPWWZjlvpgjFJ682xE2KN1XvEaqt1XiY8JxMgQIAAAQIECBAgQIAAAQIECBAgQIAAAQIECBAgQIAAAQIECDRPYO7cefHWtBkxaM3+zTuhFY5aKYMx06bPjIULG6JvnzVagVATBAgQIECAAAECBAgQIECAAAECBAgQIECAAAECBAgQIECAAAECSxKYNPmt6NChfazes/uSDm21/StlMKahoSFeHzM+hg0dFO3atWs1TA0RIECAAAECBAgQIECAAAECBAgQIECAAAECBAgQIECAAAECBAgsLrBo0aJ4dfSbMWTwgGjfvv3iB1Rpy0oZjEmW4ydMzqZS6hQ9unerEq1mCRAgQIAAAQIECBAgQIAAAQIECBAgQIAAAQIECBAgQIAAAQIEksCMmbNi7tz5MaB/n5qCrLTBmLnz5sfkKW9lSaSBNQV3MQIECBAgQIAAAQIECBAgQIAAAQIECBAgQIAAAQIECBAgQIDAyibw+phx0af3GrFa5041vfWVNhiTlMeOnxRdu6yWVY3pWlN0FyNAgAABAgQIECBAgAABAgQIECBAgAABAgQIECBAgAABAgQIrCwCM2bOjtlz5saaA/rW/JZX6mDMvPkLYsLEyTF0rTWjXbt2Ncd3QQIECBAgQIAAAQIECBAgQIAAAQIECBAgQIAAAQIECBAgQIDAiiywaNGiGP3G2Ojfr0907tSx5re6UgdjkvakbDqlFIlJ5XosBAgQIECAAAECBAgQIECAAAECBAgQIECAAAECBAgQIECAAAECrScwOctlLMqa67ucchkrfTAmJZPSPFa9e62em1ap9YZWSwQIECBAgAABAgQIECBAgAABAgQIECBAgAABAgQIECBAgACBlVcgTZ80Zeq0GDJ44HKbyWelD8akx2/u3HkxYdKUGLzmgOjQof3K+0S6cwIECBAgQIAAAQIECBAgQIAAAQIECBAgQIAAAQIECBAgQIBAKwgsXNgQY8aOj/59e8dqq3VuhRZb1oRgzHtu06bPjJRUGjSw33JLKbVsCJ1FgAABAgQIECBAgAABAgQIECBAgAABAgQIECBAgAABAgQIEGg7Amn2njfHTczN3LN6z+7LtWOCMUX8k7PyPQvfXhgDB/Qt2uorAQIECBAgQIAAAQIECBAgQIAAAQIECBAgQIAAAQIECBAgQIBAcwXGjZ8UHVbtEH16rd7cU6p2nGBMGe2kyW9FQ0NDDOjfR+WYMhurBAgQIECAAAECBAgQIECAAAECBAgQIECAAAECBAgQIECAAIHGBFKlmPETJkf79u2jb581GjusptsFYypwp8ox8+cvyM1z1aFD+wpH2ESAAAECBAgQIECAAAECBAgQIECAAAECBAgQIECAAAECBAgQIJAXWLiwISZMmhKdOnVsE5Vi8v0SjMlLlH1Omz4zpk2fkSWYeuXmvCrbbZUAAQIECBAgQIAAAQIECBAgQIAAAQIECBAgQIAAAQIECBAgQCATmD1nbkyaPDVW79kj+1/3NmUiGNPEcMydOy8mTXkruqzWOXpn8161a9euiaPtIkCAAAECBAgQIECAAAECBAgQIECAAAECBAgQIECAAAECBAisPAJp6qQp2aw8c7J8Rd/ea8RqWb6irS2CMUsYkTSIaWqlOVm6aY3Ve0aP7l2XcIbdBAgQIECAAAECBAgQIECAAAECBAgQIECAAAECBAgQIECAAIEVW2DGzNnx1rTp0aXLarmpk9pqsRHBmGY+h/PmL8gGdEY0NDREzx7donu3rirINNPOYQQIECBAgAABAgQIECBAgAABAgQIECBAgAABAgQIECBAgED9C6TiIjNnzY7pM2ZF+/btswIjPaJzp45t+sYEY5ZyeObOmx8zsgFOn926domuXTq3yVJAS3lbDidAgAABAgQIECBAgAABAgQIECBAgAABAgQIECBAgAABAgQIVBSYm02VNHvOvJg1e06s1rlT9MgKiqTPelgEY1o4SqlyzKzZc3NTLC1Y8HZ0yga8U8dVo+Oqq0aHDu1jlfarxCof+ICqMi30dRoBAgQIECBAgAABAgQIECBAgAABAgQIECBAgAABAgQIECBQO4FUDead//0v3ml4JxYubIgFb78d87M8xPyscEjHLA+Rpkzq1nW1XKWY2vVq2a8kGLPshvHOO/+L+fPn5x6It99eGAuz0ExD9qD8L3tg0oNjIUCAAAECBAgQIECAAAECBAgQIECAAAECBAgQIECAAAECBAi0ZYF27drFB7ICIO2zQiAdsmmSVl21Q65ASKdOnWKVVT7QlrveZN8EY5rksZMAAQIECBAgQIAAAQIECBAgQIAAAQIECBAgQIAAAQIECBAgQKBeBQRj6nXk9JsAAQIECBAgQIAAAQIECBAgQIAAAQIECBAgQIAAAQIECBAgQKBJAcGYJnnsJECAAAECBAgQIECAAAECBAgQIECAAAECBAgQIECAAAECBAgQqFcBwZh6HTn9JkCAAAECBAgQIECAAAECBAgQIECAAAECBAgQIECAAAECBAgQaFJAMKZJHjsJECBAgAABAgQIECBAgAABAgQIECBAgAABAgQIECBAgAABAgTqVUAwpl5HTr8JECBAgAABAgQIECBAgAABAgQIECBAgAABAgQIECBAgAABAgSaFBCMaZLHTgIECBAgQIAAAQIECBAgQIAAAQIECBAgQIAAAQIECBAgQIAAgXoVEIyp15HTbwIECBAgQIAAAQIECBAgQIAAAQIECBAgQIAAAQIECBAgQIAAgSYFBGOa5LGTAAECBAgQIECAAAECBAgQIECAAAECBAgQIECAAAECBAgQIECgXgUEY+p15PSbAAECBAgQIECAAAECBAgQIECAAAECBAgQIECAAAECBAgQIECgSQHBmCZ57CRAgAABAgQIECBAgAABAgQIECBAgAABAgQIECBAgAABAgQIEKhXAcGYeh05/SZAgAABAgQIECBAgAABAgQIECBAgAABAgQIECBAgAABAgQIEGhSQDCmSR47CRAgQIAAAQIECBAgQIAAAQIECBAgQIAAAQIECBAgQIAAAQIE6lVAMKZeR06/CRAgQIAAAQIECBAgQIAAAQIECBAgQIAAAQIECBAgQIAAAQIEmhQQjGmSx04CBAgQIECAAAECBAgQIECAAAECBAgQIECAAAECBAgQIECAAIF6FRCMqdeR028CBAgQIECAAAECBAgQIECAAAECBAgQIECAAAECBAgQIECAAIEmBQRjmuSxkwABAgQIECBAgAABAgQIECBAgAABAgQIECBAgAABAgQIECBAoF4FBGPqdeT0mwABAgQIECBAgAABAgQIECBAgAABAgQIECBAgAABAgQIECBAoEkBwZgmeewkQIAAAQIECBAgQIAAAQIECBAgQIAAAQIECBAgQIAAAQIECBCoVwHBmHodOf0mQIAAAQIECBAgQIAAAQIECBAgQIAAAQIECBAgQIAAAQIECBBoUkAwpkkeOwkQIECAAAECBAgQIECAAAECBAgQIECAAAECBAgQIECAAAECBOpVQDCmXkdOvwkQIECAAAECBAgQIECAAAECBAgQIECAAAECBAgQIECAAAECBJoUEIxpksdOAgQIECBAgAABAgQIECBAgAABAgQIECBAgAABAgQIECBAgACBehUQjKnXkdNvAgQIECBAgAABAgQIECBAgAABAgQIECBAgAABAgQIECBAgACBJgUEY5rksZMAAQIECBAgQIAAAQIECBAgQIAAAQIECBAgQIAAAQIECBAgQKBeBQRj6nXk9JsAAQIECBAgQIAAAQIECBAgQIAAAQIECBAgQIAAAQIECBAgQKBJAcGYJnnsJECAAAECBAgQIECAAAECBAgQIECAAAECBAgQIECAAAECBAgQqFcBwZh6HTn9JkCAAAECBAgQIECAAAECBAgQIECAAAECBAgQIECAAAECBAgQaFJAMKZJHjsJECBAgAABAgQIECBAgAABAgQIECBAgAABAgQIECBAgAABAgTqVUAwpl5HTr8JECBAgAABAgQIECBAgAABAgQIECBAgAABAgQIECBAgAABAgSaFPh/vTfYDEdW/GoAAAAASUVORK5CYII=)"
      ],
      "metadata": {
        "id": "hR5MzEwKvoVe"
      }
    },
    {
      "cell_type": "code",
      "source": [],
      "metadata": {
        "id": "9ycAWkKRQC4O"
      },
      "execution_count": null,
      "outputs": []
    }
  ]
}